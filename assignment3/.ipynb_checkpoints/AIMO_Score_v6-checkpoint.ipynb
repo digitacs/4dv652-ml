{
 "cells": [
  {
   "cell_type": "markdown",
   "id": "addressed-program",
   "metadata": {},
   "source": [
    "# 1 Configuration"
   ]
  },
  {
   "cell_type": "markdown",
   "id": "baking-brush",
   "metadata": {},
   "source": [
    "## 1.1 Import Libraries"
   ]
  },
  {
   "cell_type": "code",
   "execution_count": 1,
   "id": "brown-terry",
   "metadata": {},
   "outputs": [
    {
     "name": "stdout",
     "output_type": "stream",
     "text": [
      "Python ver: 3.8.5 (default, Jul 28 2020, 12:59:40) \n",
      "[GCC 9.3.0]\n",
      "Numpy ver: 1.19.5\n",
      "Pandas ver: 1.1.4\n",
      "MatPlotLib ver: 3.3.3\n",
      "SeaBorn ver: 0.11.1\n",
      "StatsModel ver: 0.12.1\n",
      "Scipy ver: 1.5.4\n",
      "SkLearn ver: 0.24.1\n"
     ]
    }
   ],
   "source": [
    "import sys\n",
    "import pandas as pd\n",
    "import seaborn as sns\n",
    "import matplotlib as matplot\n",
    "import matplotlib.pyplot as plt\n",
    "import numpy as np\n",
    "import sklearn\n",
    "import statsmodels.api as sm\n",
    "import statsmodels.formula.api as smf\n",
    "import scipy\n",
    "\n",
    "print(\"Python ver: {}\".format(sys.version))\n",
    "print(\"Numpy ver: {}\".format(np.__version__))\n",
    "print(\"Pandas ver: {}\".format(pd.__version__))\n",
    "print(\"MatPlotLib ver: {}\".format(matplot.__version__))\n",
    "print(\"SeaBorn ver: {}\".format(sns.__version__))\n",
    "print(\"StatsModel ver: {}\".format(sm.__version__))\n",
    "print(\"Scipy ver: {}\".format(scipy.__version__))\n",
    "print(\"SkLearn ver: {}\".format(sklearn.__version__))"
   ]
  },
  {
   "cell_type": "markdown",
   "id": "recreational-evolution",
   "metadata": {},
   "source": [
    "## 1.2 Pre configurations"
   ]
  },
  {
   "cell_type": "code",
   "execution_count": 2,
   "id": "photographic-heath",
   "metadata": {},
   "outputs": [],
   "source": [
    "import warnings\n",
    "\n",
    "# Set Seaborn theme\n",
    "sns.set_theme(color_codes=True)\n",
    "\n",
    "# Disable warnings\n",
    "warnings.simplefilter(\"ignore\")"
   ]
  },
  {
   "cell_type": "markdown",
   "id": "fresh-graphics",
   "metadata": {},
   "source": [
    "# 2 Data Preparation"
   ]
  },
  {
   "cell_type": "markdown",
   "id": "fuzzy-institution",
   "metadata": {},
   "source": [
    "## 2.1 Load the data"
   ]
  },
  {
   "cell_type": "code",
   "execution_count": 3,
   "id": "signal-preference",
   "metadata": {},
   "outputs": [],
   "source": [
    "AimoScoreFileUrl = \"https://raw.githubusercontent.com/digitacs/4dv652-ml/main/AimoScore_WeakLink_big_scores.xls\"\n",
    "WeakLinksFileUrl = \"https://raw.githubusercontent.com/digitacs/4dv652-ml/main/20190108%20scores_and_weak_links.xlsx\"\n",
    "\n",
    "try:\n",
    "    AimoScore = pd.read_excel(AimoScoreFileUrl, engine=None)\n",
    "    WeakLinks = pd.read_excel(WeakLinksFileUrl, engine='openpyxl')\n",
    "\n",
    "except IOError as e:\n",
    "    print(e)\n"
   ]
  },
  {
   "cell_type": "markdown",
   "id": "loose-bidding",
   "metadata": {},
   "source": [
    "## 2.2 Merging the two datasets"
   ]
  },
  {
   "cell_type": "markdown",
   "id": "forty-symposium",
   "metadata": {},
   "source": [
    "### 2.2.1 Join the two tables via their ID"
   ]
  },
  {
   "cell_type": "code",
   "execution_count": 4,
   "id": "selected-absence",
   "metadata": {},
   "outputs": [
    {
     "name": "stdout",
     "output_type": "stream",
     "text": [
      "AimoScore size: 2094\n",
      "WeakLinks size: 2096\n",
      "result size: 2094\n"
     ]
    }
   ],
   "source": [
    "print(\"AimoScore size: {}\".format(len(AimoScore)))\n",
    "print(\"WeakLinks size: {}\".format(len(WeakLinks)))\n",
    "result = pd.merge(AimoScore, WeakLinks,on=[\"ID\"])\n",
    "print(\"result size: {}\".format(len(result)))"
   ]
  },
  {
   "cell_type": "markdown",
   "id": "unlimited-dietary",
   "metadata": {},
   "source": [
    "### 2.2.2 Find the weakest link for each data point\n",
    "Finding the column with the maximum score in each row and adding its name as a new column"
   ]
  },
  {
   "cell_type": "code",
   "execution_count": 5,
   "id": "revolutionary-forwarding",
   "metadata": {},
   "outputs": [],
   "source": [
    "result[\"WeakesLink\"] = result.loc[:,\"ForwardHead\":\"RightHeelRises\"].idxmax(axis=1)"
   ]
  },
  {
   "cell_type": "markdown",
   "id": "improving-lemon",
   "metadata": {},
   "source": [
    "### 2.2.3 Discard extra columns\n",
    "Discard the 14 weak link scores from the joint table"
   ]
  },
  {
   "cell_type": "code",
   "execution_count": 6,
   "id": "traditional-showcase",
   "metadata": {
    "scrolled": false
   },
   "outputs": [],
   "source": [
    "result.drop(result.columns.to_series()[\"ForwardHead\":\"RightHeelRises\"], axis=1, inplace=True)"
   ]
  },
  {
   "cell_type": "code",
   "execution_count": 7,
   "id": "substantial-pricing",
   "metadata": {},
   "outputs": [
    {
     "data": {
      "text/html": [
       "<div>\n",
       "<style scoped>\n",
       "    .dataframe tbody tr th:only-of-type {\n",
       "        vertical-align: middle;\n",
       "    }\n",
       "\n",
       "    .dataframe tbody tr th {\n",
       "        vertical-align: top;\n",
       "    }\n",
       "\n",
       "    .dataframe thead th {\n",
       "        text-align: right;\n",
       "    }\n",
       "</style>\n",
       "<table border=\"1\" class=\"dataframe\">\n",
       "  <thead>\n",
       "    <tr style=\"text-align: right;\">\n",
       "      <th></th>\n",
       "      <th>ID</th>\n",
       "      <th>SCORE</th>\n",
       "      <th>AimoScore</th>\n",
       "      <th>WeakesLink</th>\n",
       "    </tr>\n",
       "  </thead>\n",
       "  <tbody>\n",
       "    <tr>\n",
       "      <th>0</th>\n",
       "      <td>0003cdcc-86ed-494a-a3b5-90d09e96e06b.Kinect</td>\n",
       "      <td>0.323667</td>\n",
       "      <td>0.323667</td>\n",
       "      <td>RightShoulderElevation</td>\n",
       "    </tr>\n",
       "    <tr>\n",
       "      <th>1</th>\n",
       "      <td>003115c4-bdb8-491c-b571-8fcebdecf8ed.Kinect</td>\n",
       "      <td>0.323699</td>\n",
       "      <td>0.323699</td>\n",
       "      <td>RightArmFallForward</td>\n",
       "    </tr>\n",
       "    <tr>\n",
       "      <th>2</th>\n",
       "      <td>00316bfb-ed43-489f-a55b-11c7f01c852d.Kinect</td>\n",
       "      <td>0.848327</td>\n",
       "      <td>0.848327</td>\n",
       "      <td>LeftArmFallForward</td>\n",
       "    </tr>\n",
       "    <tr>\n",
       "      <th>3</th>\n",
       "      <td>00607608-6f2f-459b-a69d-e14067489459.Kinect</td>\n",
       "      <td>0.351332</td>\n",
       "      <td>0.351332</td>\n",
       "      <td>RightShoulderElevation</td>\n",
       "    </tr>\n",
       "    <tr>\n",
       "      <th>4</th>\n",
       "      <td>007396ec-3463-4a05-915c-02244ff8d3de.Kinect</td>\n",
       "      <td>0.627181</td>\n",
       "      <td>0.627181</td>\n",
       "      <td>ForwardHead</td>\n",
       "    </tr>\n",
       "    <tr>\n",
       "      <th>...</th>\n",
       "      <td>...</td>\n",
       "      <td>...</td>\n",
       "      <td>...</td>\n",
       "      <td>...</td>\n",
       "    </tr>\n",
       "    <tr>\n",
       "      <th>2089</th>\n",
       "      <td>ff015ddd-c9fb-49e3-8e33-abbf72e8b120.Kinect</td>\n",
       "      <td>0.527640</td>\n",
       "      <td>0.527640</td>\n",
       "      <td>LeftArmFallForward</td>\n",
       "    </tr>\n",
       "    <tr>\n",
       "      <th>2090</th>\n",
       "      <td>ff514cba-6c5e-41a9-9936-3e8400565c8d.Kinect</td>\n",
       "      <td>0.407197</td>\n",
       "      <td>0.407197</td>\n",
       "      <td>RightKneeMovesOutward</td>\n",
       "    </tr>\n",
       "    <tr>\n",
       "      <th>2091</th>\n",
       "      <td>ff514cba-6c5e-41a9-9936-3e8400565c8d.Kinect</td>\n",
       "      <td>0.407197</td>\n",
       "      <td>0.407197</td>\n",
       "      <td>RightKneeMovesOutward</td>\n",
       "    </tr>\n",
       "    <tr>\n",
       "      <th>2092</th>\n",
       "      <td>ff63b8a9-deb5-4179-b424-fd07d04ca37f.Kinect</td>\n",
       "      <td>0.965930</td>\n",
       "      <td>0.965930</td>\n",
       "      <td>LeftArmFallForward</td>\n",
       "    </tr>\n",
       "    <tr>\n",
       "      <th>2093</th>\n",
       "      <td>ff63b8a9-deb5-4179-b424-fd07d04ca37f.Kinect</td>\n",
       "      <td>0.965930</td>\n",
       "      <td>0.965930</td>\n",
       "      <td>LeftArmFallForward</td>\n",
       "    </tr>\n",
       "  </tbody>\n",
       "</table>\n",
       "<p>2094 rows × 4 columns</p>\n",
       "</div>"
      ],
      "text/plain": [
       "                                               ID     SCORE  AimoScore  \\\n",
       "0     0003cdcc-86ed-494a-a3b5-90d09e96e06b.Kinect  0.323667   0.323667   \n",
       "1     003115c4-bdb8-491c-b571-8fcebdecf8ed.Kinect  0.323699   0.323699   \n",
       "2     00316bfb-ed43-489f-a55b-11c7f01c852d.Kinect  0.848327   0.848327   \n",
       "3     00607608-6f2f-459b-a69d-e14067489459.Kinect  0.351332   0.351332   \n",
       "4     007396ec-3463-4a05-915c-02244ff8d3de.Kinect  0.627181   0.627181   \n",
       "...                                           ...       ...        ...   \n",
       "2089  ff015ddd-c9fb-49e3-8e33-abbf72e8b120.Kinect  0.527640   0.527640   \n",
       "2090  ff514cba-6c5e-41a9-9936-3e8400565c8d.Kinect  0.407197   0.407197   \n",
       "2091  ff514cba-6c5e-41a9-9936-3e8400565c8d.Kinect  0.407197   0.407197   \n",
       "2092  ff63b8a9-deb5-4179-b424-fd07d04ca37f.Kinect  0.965930   0.965930   \n",
       "2093  ff63b8a9-deb5-4179-b424-fd07d04ca37f.Kinect  0.965930   0.965930   \n",
       "\n",
       "                  WeakesLink  \n",
       "0     RightShoulderElevation  \n",
       "1        RightArmFallForward  \n",
       "2         LeftArmFallForward  \n",
       "3     RightShoulderElevation  \n",
       "4                ForwardHead  \n",
       "...                      ...  \n",
       "2089      LeftArmFallForward  \n",
       "2090   RightKneeMovesOutward  \n",
       "2091   RightKneeMovesOutward  \n",
       "2092      LeftArmFallForward  \n",
       "2093      LeftArmFallForward  \n",
       "\n",
       "[2094 rows x 4 columns]"
      ]
     },
     "execution_count": 7,
     "metadata": {},
     "output_type": "execute_result"
    }
   ],
   "source": [
    "result[[\"ID\",\"SCORE\",\"AimoScore\",\"WeakesLink\"]]"
   ]
  }
 ],
 "metadata": {
  "kernelspec": {
   "display_name": "Python 3",
   "language": "python",
   "name": "python3"
  },
  "language_info": {
   "codemirror_mode": {
    "name": "ipython",
    "version": 3
   },
   "file_extension": ".py",
   "mimetype": "text/x-python",
   "name": "python",
   "nbconvert_exporter": "python",
   "pygments_lexer": "ipython3",
   "version": "3.8.5"
  }
 },
 "nbformat": 4,
 "nbformat_minor": 5
}
