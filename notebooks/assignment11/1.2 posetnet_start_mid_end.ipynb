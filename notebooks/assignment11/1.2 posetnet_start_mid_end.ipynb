{
 "cells": [
  {
   "cell_type": "markdown",
   "id": "aware-instrument",
   "metadata": {},
   "source": [
    "# Classify using start=0 mid = 1 end = 2"
   ]
  },
  {
   "cell_type": "code",
   "execution_count": 1,
   "id": "sunset-token",
   "metadata": {},
   "outputs": [],
   "source": [
    "import sys\n",
    "import pandas as pd\n",
    "import numpy as np"
   ]
  },
  {
   "cell_type": "markdown",
   "id": "copyrighted-recruitment",
   "metadata": {},
   "source": [
    "## 1. Read dataset"
   ]
  },
  {
   "cell_type": "code",
   "execution_count": 2,
   "id": "suspended-diary",
   "metadata": {},
   "outputs": [],
   "source": [
    "dirname = '../../datasets/marked_start_mid_end/'\n",
    "suffix = '.csv'\n",
    "\n",
    "def read_from_file( file_name, rand_num):\n",
    "    \n",
    "    try:\n",
    "        full_file_name = file_name + str(rand_num)\n",
    "\n",
    "        file_at_path = dirname + full_file_name + suffix\n",
    "\n",
    "        data = pd.read_csv(file_at_path)\n",
    "        \n",
    "        return data, full_file_name\n",
    "    \n",
    "    except IOError as e:\n",
    "        print(e)\n",
    "        return None,None"
   ]
  },
  {
   "cell_type": "markdown",
   "id": "alert-savage",
   "metadata": {},
   "source": [
    "## 2. Read files"
   ]
  },
  {
   "cell_type": "markdown",
   "id": "trained-timing",
   "metadata": {},
   "source": [
    "### 2.1 The A series (A1-A159)"
   ]
  },
  {
   "cell_type": "code",
   "execution_count": 3,
   "id": "consolidated-victoria",
   "metadata": {},
   "outputs": [
    {
     "name": "stdout",
     "output_type": "stream",
     "text": [
      "(229, 28)\n",
      "[Errno 2] No such file or directory: '../../datasets/marked_start_mid_end/A60.csv'\n",
      "[Errno 2] No such file or directory: '../../datasets/marked_start_mid_end/A107.csv'\n",
      "(33093, 28)\n"
     ]
    }
   ],
   "source": [
    "raw_data, full_file_name = read_from_file(\"A\", 1)\n",
    "\n",
    "#print(full_file_name)\n",
    "print(raw_data.shape)\n",
    "\n",
    "for i in range(2,160):\n",
    "    input_data, full_file_name = read_from_file(\"A\", i)\n",
    "    \n",
    "    if(full_file_name is None):\n",
    "        continue\n",
    "    else:\n",
    "        #print(full_file_name)\n",
    "        raw_data = raw_data.append(input_data, ignore_index = True)\n",
    "\n",
    "print(raw_data.shape)"
   ]
  },
  {
   "cell_type": "markdown",
   "id": "driven-graph",
   "metadata": {},
   "source": [
    "### 2.2 The B series (B1-B22)"
   ]
  },
  {
   "cell_type": "code",
   "execution_count": 4,
   "id": "reserved-victoria",
   "metadata": {},
   "outputs": [
    {
     "name": "stdout",
     "output_type": "stream",
     "text": [
      "(38488, 28)\n"
     ]
    }
   ],
   "source": [
    "for i in range(1,23):\n",
    "    input_data, full_file_name = read_from_file(\"B\", i)\n",
    "    \n",
    "    if(full_file_name is None):\n",
    "        continue\n",
    "    else:\n",
    "        #print(full_file_name)\n",
    "        raw_data = raw_data.append(input_data, ignore_index = True)\n",
    "\n",
    "print(raw_data.shape)"
   ]
  },
  {
   "cell_type": "code",
   "execution_count": 5,
   "id": "representative-savings",
   "metadata": {},
   "outputs": [
    {
     "name": "stdout",
     "output_type": "stream",
     "text": [
      "Frames:\n",
      "    Total: 38488\n",
      "    Before: 8108 (0.21% of total)\n",
      "    During: 23233 (0.60% of total)\n",
      "    After: 7147 (0.19% of total)\n",
      "\n"
     ]
    }
   ],
   "source": [
    "start_0, mid_1, end_2 = np.bincount(raw_data['status'])\n",
    "print(\n",
    "    'Frames:\\n    Total: {}\\n    Before: {} ({:.2f}% of total)\\n    During: {} ({:.2f}% of total)\\n    After: {} ({:.2f}% of total)\\n'\n",
    "    .format(\n",
    "      len(raw_data), \n",
    "      start_0,\n",
    "      start_0 / len(raw_data),\n",
    "      mid_1,\n",
    "      mid_1 / len(raw_data),\n",
    "      end_2,\n",
    "      end_2 / len(raw_data)\n",
    "    )\n",
    "  )"
   ]
  },
  {
   "cell_type": "code",
   "execution_count": 6,
   "id": "moving-steel",
   "metadata": {},
   "outputs": [
    {
     "data": {
      "text/plain": [
       "0          0\n",
       "1          1\n",
       "2          2\n",
       "3          3\n",
       "4          4\n",
       "        ... \n",
       "38483    235\n",
       "38484    236\n",
       "38485    237\n",
       "38486    238\n",
       "38487    239\n",
       "Name: FrameNo, Length: 38488, dtype: int64"
      ]
     },
     "execution_count": 6,
     "metadata": {},
     "output_type": "execute_result"
    }
   ],
   "source": [
    "cleaned_data = raw_data.copy()\n",
    "cleaned_data.pop( 'FrameNo')"
   ]
  },
  {
   "cell_type": "code",
   "execution_count": 7,
   "id": "fixed-socket",
   "metadata": {},
   "outputs": [],
   "source": [
    "# Use a utility from sklearn to split and shuffle our dataset.\n",
    "\n",
    "from sklearn.model_selection import train_test_split\n",
    "\n",
    "train_data, test_data = train_test_split(cleaned_data, test_size=0.2)\n",
    "train_data, val_data = train_test_split(train_data, test_size=0.2)\n",
    "\n",
    "# Form np arrays of labels and features.\n",
    "train_labels = np.array(train_data.pop('status'))\n",
    "val_labels = np.array(val_data.pop('status'))\n",
    "test_labels = np.array(test_data.pop('status'))\n",
    "\n",
    "train_features = np.array(train_data)\n",
    "val_features = np.array(val_data)\n",
    "test_features = np.array(test_data)"
   ]
  },
  {
   "cell_type": "markdown",
   "id": "upper-storm",
   "metadata": {},
   "source": [
    "### Normalization\n",
    "Normalize the input features using the sklearn StandardScaler. This will set the mean to 0 and standard deviation to 1."
   ]
  },
  {
   "cell_type": "code",
   "execution_count": 8,
   "id": "legitimate-length",
   "metadata": {},
   "outputs": [
    {
     "name": "stdout",
     "output_type": "stream",
     "text": [
      "Training labels shape: (24632,)\n",
      "Validation labels shape: (6158,)\n",
      "Test labels shape: (7698,)\n",
      "Training features shape: (24632, 26)\n",
      "Validation features shape: (6158, 26)\n",
      "Test features shape: (7698, 26)\n"
     ]
    }
   ],
   "source": [
    "from sklearn.preprocessing import StandardScaler\n",
    "\n",
    "scaler = StandardScaler()\n",
    "train_features = scaler.fit_transform(train_features)\n",
    "val_features = scaler.transform(val_features)\n",
    "test_features = scaler.transform(test_features)\n",
    "\n",
    "print('Training labels shape:', train_labels.shape)\n",
    "print('Validation labels shape:', val_labels.shape)\n",
    "print('Test labels shape:', test_labels.shape)\n",
    "\n",
    "print('Training features shape:', train_features.shape)\n",
    "print('Validation features shape:', val_features.shape)\n",
    "print('Test features shape:', test_features.shape)"
   ]
  },
  {
   "cell_type": "code",
   "execution_count": 9,
   "id": "adapted-porter",
   "metadata": {},
   "outputs": [
    {
     "name": "stdout",
     "output_type": "stream",
     "text": [
      "INFO:tensorflow:Enabling eager execution\n",
      "INFO:tensorflow:Enabling v2 tensorshape\n",
      "INFO:tensorflow:Enabling resource variables\n",
      "INFO:tensorflow:Enabling tensor equality\n",
      "INFO:tensorflow:Enabling control flow v2\n"
     ]
    }
   ],
   "source": [
    "import tensorflow as tf\n",
    "from tensorflow import keras"
   ]
  },
  {
   "cell_type": "code",
   "execution_count": 10,
   "id": "front-range",
   "metadata": {},
   "outputs": [],
   "source": [
    "METRICS = [\n",
    "      keras.metrics.TruePositives(name='tp'),\n",
    "      keras.metrics.FalsePositives(name='fp'),\n",
    "      keras.metrics.TrueNegatives(name='tn'),\n",
    "      keras.metrics.FalseNegatives(name='fn'), \n",
    "      keras.metrics.BinaryAccuracy(name='accuracy'),\n",
    "      keras.metrics.Precision(name='precision'),\n",
    "      keras.metrics.Recall(name='recall'),\n",
    "      keras.metrics.AUC(name='auc'),\n",
    "      keras.metrics.AUC(name='prc', curve='PR'), # precision-recall curve\n",
    "]"
   ]
  },
  {
   "cell_type": "code",
   "execution_count": 11,
   "id": "mediterranean-drinking",
   "metadata": {},
   "outputs": [],
   "source": [
    "def make_model(metrics=METRICS, optimizer='Adam',loss = 'categorical_crossentropy'):\n",
    "    model = keras.Sequential([\n",
    "        keras.layers.Dense(units=16, activation='relu',input_dim=train_features.shape[-1]),\n",
    "        keras.layers.Dense(32, activation='relu' ),\n",
    "        keras.layers.Dense(1, activation='sigmoid'),\n",
    "    ])\n",
    "    \n",
    "    model.compile(optimizer=optimizer, loss=loss, metrics=metrics)\n",
    "    #keras.losses.BinaryCrossentropy()\n",
    "    return model"
   ]
  },
  {
   "cell_type": "code",
   "execution_count": 12,
   "id": "controlled-oregon",
   "metadata": {},
   "outputs": [],
   "source": [
    "EPOCHS = 100\n",
    "BATCH_SIZE = 2048\n",
    "\n",
    "early_stopping = tf.keras.callbacks.EarlyStopping(monitor='val_prc', verbose=1,patience=10,mode='max',restore_best_weights=True)"
   ]
  },
  {
   "cell_type": "code",
   "execution_count": 13,
   "id": "peaceful-international",
   "metadata": {},
   "outputs": [
    {
     "name": "stdout",
     "output_type": "stream",
     "text": [
      "Model: \"sequential\"\n",
      "_________________________________________________________________\n",
      "Layer (type)                 Output Shape              Param #   \n",
      "=================================================================\n",
      "dense (Dense)                (None, 16)                432       \n",
      "_________________________________________________________________\n",
      "dense_1 (Dense)              (None, 32)                544       \n",
      "_________________________________________________________________\n",
      "dense_2 (Dense)              (None, 1)                 33        \n",
      "=================================================================\n",
      "Total params: 1,009\n",
      "Trainable params: 1,009\n",
      "Non-trainable params: 0\n",
      "_________________________________________________________________\n"
     ]
    }
   ],
   "source": [
    "model = make_model()\n",
    "model.summary()"
   ]
  },
  {
   "cell_type": "markdown",
   "id": "similar-israel",
   "metadata": {},
   "source": [
    "# Checkpoint the initial weights"
   ]
  },
  {
   "cell_type": "code",
   "execution_count": 14,
   "id": "laughing-western",
   "metadata": {},
   "outputs": [],
   "source": [
    "import os\n",
    "import tempfile\n",
    "\n",
    "initial_weights = os.path.join(tempfile.mkdtemp(), 'initial_weights')\n",
    "model.save_weights(initial_weights)"
   ]
  },
  {
   "cell_type": "code",
   "execution_count": null,
   "id": "intensive-oasis",
   "metadata": {},
   "outputs": [],
   "source": []
  },
  {
   "cell_type": "code",
   "execution_count": 15,
   "id": "olympic-investigator",
   "metadata": {},
   "outputs": [
    {
     "name": "stdout",
     "output_type": "stream",
     "text": [
      "Epoch 1/100\n",
      "13/13 [==============================] - 2s 62ms/step - loss: 0.0000e+00 - tp: 4576.8571 - fp: 207.2143 - tn: 2927.3571 - fn: 7217.7143 - accuracy: 0.4550 - precision: 0.9512 - recall: 0.3924 - auc: 0.6968 - prc: 0.9080 - val_loss: 0.0000e+00 - val_tp: 1764.0000 - val_fp: 59.0000 - val_tn: 1272.0000 - val_fn: 3063.0000 - val_accuracy: 0.4383 - val_precision: 0.9676 - val_recall: 0.3654 - val_auc: 0.7028 - val_prc: 0.9070\n",
      "Epoch 2/100\n",
      "13/13 [==============================] - 0s 5ms/step - loss: 0.0000e+00 - tp: 4120.3571 - fp: 114.6429 - tn: 3005.4286 - fn: 7688.7143 - accuracy: 0.4254 - precision: 0.9736 - recall: 0.3476 - auc: 0.7018 - prc: 0.9101 - val_loss: 0.0000e+00 - val_tp: 1694.0000 - val_fp: 65.0000 - val_tn: 1266.0000 - val_fn: 3133.0000 - val_accuracy: 0.4238 - val_precision: 0.9630 - val_recall: 0.3509 - val_auc: 0.7031 - val_prc: 0.9051\n",
      "Epoch 3/100\n",
      "13/13 [==============================] - 0s 5ms/step - loss: 0.0000e+00 - tp: 3985.8571 - fp: 136.2143 - tn: 2964.6429 - fn: 7842.4286 - accuracy: 0.4122 - precision: 0.9673 - recall: 0.3374 - auc: 0.6981 - prc: 0.9086 - val_loss: 0.0000e+00 - val_tp: 1644.0000 - val_fp: 81.0000 - val_tn: 1250.0000 - val_fn: 3183.0000 - val_accuracy: 0.4115 - val_precision: 0.9530 - val_recall: 0.3406 - val_auc: 0.7003 - val_prc: 0.9007\n",
      "Epoch 4/100\n",
      "13/13 [==============================] - 0s 5ms/step - loss: 0.0000e+00 - tp: 3843.3571 - fp: 181.6429 - tn: 2943.6429 - fn: 7960.5000 - accuracy: 0.3975 - precision: 0.9559 - recall: 0.3250 - auc: 0.6947 - prc: 0.9025 - val_loss: 0.0000e+00 - val_tp: 1600.0000 - val_fp: 98.0000 - val_tn: 1233.0000 - val_fn: 3227.0000 - val_accuracy: 0.3995 - val_precision: 0.9423 - val_recall: 0.3315 - val_auc: 0.6946 - val_prc: 0.8956\n",
      "Epoch 5/100\n",
      "13/13 [==============================] - 0s 4ms/step - loss: 0.0000e+00 - tp: 3742.2143 - fp: 225.7143 - tn: 2917.9286 - fn: 8043.2857 - accuracy: 0.3905 - precision: 0.9445 - recall: 0.3170 - auc: 0.6952 - prc: 0.8989 - val_loss: 0.0000e+00 - val_tp: 1540.0000 - val_fp: 118.0000 - val_tn: 1213.0000 - val_fn: 3287.0000 - val_accuracy: 0.3842 - val_precision: 0.9288 - val_recall: 0.3190 - val_auc: 0.6881 - val_prc: 0.8904\n",
      "Epoch 6/100\n",
      "13/13 [==============================] - 0s 5ms/step - loss: 0.0000e+00 - tp: 3615.2143 - fp: 272.8571 - tn: 2842.5000 - fn: 8198.5714 - accuracy: 0.3704 - precision: 0.9315 - recall: 0.3053 - auc: 0.6884 - prc: 0.8956 - val_loss: 0.0000e+00 - val_tp: 1451.0000 - val_fp: 134.0000 - val_tn: 1197.0000 - val_fn: 3376.0000 - val_accuracy: 0.3646 - val_precision: 0.9155 - val_recall: 0.3006 - val_auc: 0.6800 - val_prc: 0.8856\n",
      "Epoch 7/100\n",
      "13/13 [==============================] - 0s 4ms/step - loss: 0.0000e+00 - tp: 3519.8571 - fp: 310.2857 - tn: 2832.5000 - fn: 8266.5000 - accuracy: 0.3612 - precision: 0.9188 - recall: 0.3006 - auc: 0.6812 - prc: 0.8891 - val_loss: 0.0000e+00 - val_tp: 1417.0000 - val_fp: 145.0000 - val_tn: 1186.0000 - val_fn: 3410.0000 - val_accuracy: 0.3561 - val_precision: 0.9072 - val_recall: 0.2936 - val_auc: 0.6643 - val_prc: 0.8774\n",
      "Epoch 8/100\n",
      "13/13 [==============================] - 0s 5ms/step - loss: 0.0000e+00 - tp: 3468.1429 - fp: 331.6429 - tn: 2784.5714 - fn: 8344.7857 - accuracy: 0.3545 - precision: 0.9117 - recall: 0.2932 - auc: 0.6633 - prc: 0.8819 - val_loss: 0.0000e+00 - val_tp: 1396.0000 - val_fp: 150.0000 - val_tn: 1181.0000 - val_fn: 3431.0000 - val_accuracy: 0.3504 - val_precision: 0.9030 - val_recall: 0.2892 - val_auc: 0.6657 - val_prc: 0.8744\n",
      "Epoch 9/100\n",
      "13/13 [==============================] - 0s 5ms/step - loss: 0.0000e+00 - tp: 3420.6429 - fp: 340.0000 - tn: 2779.4286 - fn: 8389.0714 - accuracy: 0.3496 - precision: 0.9106 - recall: 0.2903 - auc: 0.6729 - prc: 0.8814 - val_loss: 0.0000e+00 - val_tp: 1389.0000 - val_fp: 155.0000 - val_tn: 1176.0000 - val_fn: 3438.0000 - val_accuracy: 0.3475 - val_precision: 0.8996 - val_recall: 0.2878 - val_auc: 0.6607 - val_prc: 0.8708\n",
      "Epoch 10/100\n",
      "13/13 [==============================] - 0s 5ms/step - loss: 0.0000e+00 - tp: 3410.7857 - fp: 343.6429 - tn: 2805.7857 - fn: 8368.9286 - accuracy: 0.3479 - precision: 0.9085 - recall: 0.2900 - auc: 0.6689 - prc: 0.8766 - val_loss: 0.0000e+00 - val_tp: 1381.0000 - val_fp: 154.0000 - val_tn: 1177.0000 - val_fn: 3446.0000 - val_accuracy: 0.3459 - val_precision: 0.8997 - val_recall: 0.2861 - val_auc: 0.6533 - val_prc: 0.8665\n",
      "Epoch 11/100\n",
      "13/13 [==============================] - 0s 5ms/step - loss: 0.0000e+00 - tp: 3355.6429 - fp: 341.9286 - tn: 2779.0000 - fn: 8452.5714 - accuracy: 0.3415 - precision: 0.9072 - recall: 0.2827 - auc: 0.6600 - prc: 0.8729 - val_loss: 0.0000e+00 - val_tp: 1375.0000 - val_fp: 155.0000 - val_tn: 1176.0000 - val_fn: 3452.0000 - val_accuracy: 0.3443 - val_precision: 0.8987 - val_recall: 0.2849 - val_auc: 0.6465 - val_prc: 0.8628\n",
      "Restoring model weights from the end of the best epoch.\n",
      "Epoch 00011: early stopping\n"
     ]
    }
   ],
   "source": [
    "history = model.fit(\n",
    "    train_features,\n",
    "    train_labels,\n",
    "    batch_size=BATCH_SIZE,\n",
    "    epochs=EPOCHS,\n",
    "    callbacks=[early_stopping],\n",
    "    validation_data=(val_features, val_labels))"
   ]
  },
  {
   "cell_type": "code",
   "execution_count": null,
   "id": "weighted-drilling",
   "metadata": {},
   "outputs": [],
   "source": []
  },
  {
   "cell_type": "code",
   "execution_count": 16,
   "id": "removed-telescope",
   "metadata": {},
   "outputs": [],
   "source": [
    "from sklearn.metrics import confusion_matrix\n",
    "import matplotlib.pyplot as plt\n",
    "import seaborn as sns\n",
    "\n",
    "\n",
    "def plot_cm(labels, predictions, p=0.5):\n",
    "    cm = confusion_matrix(labels, predictions > p)\n",
    "    plt.figure(figsize=(5,5))\n",
    "    sns.heatmap(cm, annot=True, fmt=\"d\")\n",
    "    plt.title('Confusion matrix @{:.2f}'.format(p))\n",
    "    plt.ylabel('Actual label')\n",
    "    plt.xlabel('Predicted label')"
   ]
  },
  {
   "cell_type": "code",
   "execution_count": 17,
   "id": "induced-ministry",
   "metadata": {},
   "outputs": [],
   "source": [
    "train_predictions_baseline = model.predict(train_features, batch_size=BATCH_SIZE)\n",
    "test_predictions_baseline = model.predict(test_features, batch_size=BATCH_SIZE)"
   ]
  },
  {
   "cell_type": "code",
   "execution_count": 18,
   "id": "synthetic-comedy",
   "metadata": {},
   "outputs": [
    {
     "name": "stdout",
     "output_type": "stream",
     "text": [
      "loss :  0.0\n",
      "tp :  2157.0\n",
      "fp :  68.0\n",
      "tn :  1562.0\n",
      "fn :  3911.0\n",
      "accuracy :  0.4319303631782532\n",
      "precision :  0.9694381952285767\n",
      "recall :  0.35547131299972534\n",
      "auc :  0.7018256783485413\n",
      "prc :  0.908697783946991\n",
      "\n"
     ]
    },
    {
     "data": {
      "image/png": "[encoded data removed]",
      "text/plain": [
       "<Figure size 360x360 with 2 Axes>"
      ]
     },
     "metadata": {
      "needs_background": "light"
     },
     "output_type": "display_data"
    }
   ],
   "source": [
    "results = model.evaluate(test_features, test_labels, batch_size=BATCH_SIZE, verbose=0)\n",
    "for name, value in zip(model.metrics_names, results):\n",
    "  print(name, ': ', value)\n",
    "print()\n",
    "\n",
    "plot_cm(test_labels, test_predictions_baseline)\n",
    "\n",
    "#plot_cm(train_labels, train_predictions_baseline)"
   ]
  },
  {
   "cell_type": "code",
   "execution_count": 19,
   "id": "future-adjustment",
   "metadata": {},
   "outputs": [],
   "source": [
    "# Class weights"
   ]
  },
  {
   "cell_type": "code",
   "execution_count": 20,
   "id": "ordinary-practice",
   "metadata": {},
   "outputs": [
    {
     "name": "stdout",
     "output_type": "stream",
     "text": [
      "Weight for class 0: 1.58\n",
      "Weight for class 1: 0.55\n",
      "Weight for class 2: 1.80\n"
     ]
    }
   ],
   "source": [
    "weight_for_0 = (1 / start_0)*(len(raw_data))/3.0 \n",
    "weight_for_1 = (1 / mid_1)*(len(raw_data))/3.0\n",
    "weight_for_2 = (1 / end_2)*(len(raw_data))/3.0\n",
    "\n",
    "class_weight = {0: weight_for_0, 1: weight_for_1, 2: weight_for_2}\n",
    "\n",
    "print('Weight for class 0: {:.2f}'.format(weight_for_0))\n",
    "print('Weight for class 1: {:.2f}'.format(weight_for_1))\n",
    "print('Weight for class 2: {:.2f}'.format(weight_for_2))"
   ]
  },
  {
   "cell_type": "code",
   "execution_count": 21,
   "id": "worse-pocket",
   "metadata": {},
   "outputs": [
    {
     "name": "stdout",
     "output_type": "stream",
     "text": [
      "WARNING:tensorflow:From /usr/local/lib/python3.9/site-packages/tensorflow/python/ops/array_ops.py:5043: calling gather (from tensorflow.python.ops.array_ops) with validate_indices is deprecated and will be removed in a future version.\n",
      "Instructions for updating:\n",
      "The `validate_indices` argument has no effect. Indices are always validated on CPU and never validated on GPU.\n",
      "Epoch 1/100\n",
      "13/13 [==============================] - 2s 76ms/step - loss: 0.0000e+00 - tp: 6910.1429 - fp: 320.6429 - tn: 4437.0000 - fn: 10959.3571 - accuracy: 0.4482 - precision: 0.9554 - recall: 0.3846 - auc: 0.6976 - prc: 0.9078 - val_loss: 0.0000e+00 - val_tp: 1950.0000 - val_fp: 108.0000 - val_tn: 1223.0000 - val_fn: 2877.0000 - val_accuracy: 0.4563 - val_precision: 0.9475 - val_recall: 0.4040 - val_auc: 0.7032 - val_prc: 0.9070\n",
      "Epoch 2/100\n",
      "13/13 [==============================] - 0s 5ms/step - loss: 0.0000e+00 - tp: 4658.2857 - fp: 244.7143 - tn: 2873.2857 - fn: 7152.8571 - accuracy: 0.4478 - precision: 0.9498 - recall: 0.3937 - auc: 0.6992 - prc: 0.9093 - val_loss: 0.0000e+00 - val_tp: 1905.0000 - val_fp: 127.0000 - val_tn: 1204.0000 - val_fn: 2922.0000 - val_accuracy: 0.4437 - val_precision: 0.9375 - val_recall: 0.3947 - val_auc: 0.7030 - val_prc: 0.9048\n",
      "Epoch 3/100\n",
      "13/13 [==============================] - 0s 5ms/step - loss: 0.0000e+00 - tp: 4654.6429 - fp: 296.8571 - tn: 2800.1429 - fn: 7177.5000 - accuracy: 0.4361 - precision: 0.9415 - recall: 0.3913 - auc: 0.6985 - prc: 0.9085 - val_loss: 0.0000e+00 - val_tp: 1964.0000 - val_fp: 148.0000 - val_tn: 1183.0000 - val_fn: 2863.0000 - val_accuracy: 0.4458 - val_precision: 0.9299 - val_recall: 0.4069 - val_auc: 0.7017 - val_prc: 0.9006\n",
      "Epoch 4/100\n",
      "13/13 [==============================] - 0s 5ms/step - loss: 0.0000e+00 - tp: 4766.7143 - fp: 325.6429 - tn: 2780.4286 - fn: 7056.3571 - accuracy: 0.4397 - precision: 0.9385 - recall: 0.4031 - auc: 0.7037 - prc: 0.9077 - val_loss: 0.0000e+00 - val_tp: 1989.0000 - val_fp: 157.0000 - val_tn: 1174.0000 - val_fn: 2838.0000 - val_accuracy: 0.4459 - val_precision: 0.9268 - val_recall: 0.4121 - val_auc: 0.7005 - val_prc: 0.8972\n",
      "Epoch 5/100\n",
      "13/13 [==============================] - 0s 5ms/step - loss: 0.0000e+00 - tp: 4807.5000 - fp: 360.6429 - tn: 2759.5000 - fn: 7001.5000 - accuracy: 0.4373 - precision: 0.9292 - recall: 0.4052 - auc: 0.6984 - prc: 0.8995 - val_loss: 0.0000e+00 - val_tp: 1990.0000 - val_fp: 170.0000 - val_tn: 1161.0000 - val_fn: 2837.0000 - val_accuracy: 0.4425 - val_precision: 0.9213 - val_recall: 0.4123 - val_auc: 0.6934 - val_prc: 0.8910\n",
      "Epoch 6/100\n",
      "13/13 [==============================] - 0s 5ms/step - loss: 0.0000e+00 - tp: 4856.2857 - fp: 391.7143 - tn: 2749.6429 - fn: 6931.5000 - accuracy: 0.4412 - precision: 0.9247 - recall: 0.4114 - auc: 0.6901 - prc: 0.8931 - val_loss: 0.0000e+00 - val_tp: 2000.0000 - val_fp: 190.0000 - val_tn: 1141.0000 - val_fn: 2827.0000 - val_accuracy: 0.4393 - val_precision: 0.9132 - val_recall: 0.4143 - val_auc: 0.6878 - val_prc: 0.8840\n",
      "Epoch 7/100\n",
      "13/13 [==============================] - 0s 5ms/step - loss: 0.0000e+00 - tp: 4834.7143 - fp: 392.4286 - tn: 2726.6429 - fn: 6975.3571 - accuracy: 0.4385 - precision: 0.9272 - recall: 0.4099 - auc: 0.6908 - prc: 0.8900 - val_loss: 0.0000e+00 - val_tp: 1972.0000 - val_fp: 193.0000 - val_tn: 1138.0000 - val_fn: 2855.0000 - val_accuracy: 0.4324 - val_precision: 0.9109 - val_recall: 0.4085 - val_auc: 0.6882 - val_prc: 0.8808\n",
      "Epoch 8/100\n",
      "13/13 [==============================] - 0s 5ms/step - loss: 0.0000e+00 - tp: 4664.0000 - fp: 402.0714 - tn: 2711.0714 - fn: 7152.0000 - accuracy: 0.4230 - precision: 0.9213 - recall: 0.3923 - auc: 0.6826 - prc: 0.8843 - val_loss: 0.0000e+00 - val_tp: 1933.0000 - val_fp: 195.0000 - val_tn: 1136.0000 - val_fn: 2894.0000 - val_accuracy: 0.4253 - val_precision: 0.9084 - val_recall: 0.4005 - val_auc: 0.6834 - val_prc: 0.8770\n",
      "Epoch 9/100\n",
      "13/13 [==============================] - 0s 5ms/step - loss: 0.0000e+00 - tp: 4546.2143 - fp: 434.7143 - tn: 2726.2143 - fn: 7222.0000 - accuracy: 0.4175 - precision: 0.9109 - recall: 0.3870 - auc: 0.6793 - prc: 0.8756 - val_loss: 0.0000e+00 - val_tp: 1847.0000 - val_fp: 202.0000 - val_tn: 1129.0000 - val_fn: 2980.0000 - val_accuracy: 0.4094 - val_precision: 0.9014 - val_recall: 0.3826 - val_auc: 0.6755 - val_prc: 0.8715\n",
      "Epoch 10/100\n",
      "13/13 [==============================] - 0s 5ms/step - loss: 0.0000e+00 - tp: 4382.1429 - fp: 434.2143 - tn: 2691.0000 - fn: 7421.7857 - accuracy: 0.3995 - precision: 0.9115 - recall: 0.3699 - auc: 0.6752 - prc: 0.8779 - val_loss: 0.0000e+00 - val_tp: 1783.0000 - val_fp: 211.0000 - val_tn: 1120.0000 - val_fn: 3044.0000 - val_accuracy: 0.3974 - val_precision: 0.8942 - val_recall: 0.3694 - val_auc: 0.6633 - val_prc: 0.8641\n",
      "Epoch 11/100\n",
      "13/13 [==============================] - 0s 5ms/step - loss: 0.0000e+00 - tp: 4292.3571 - fp: 469.4286 - tn: 2649.2857 - fn: 7518.0714 - accuracy: 0.3938 - precision: 0.8989 - recall: 0.3657 - auc: 0.6607 - prc: 0.8672 - val_loss: 0.0000e+00 - val_tp: 1735.0000 - val_fp: 215.0000 - val_tn: 1116.0000 - val_fn: 3092.0000 - val_accuracy: 0.3886 - val_precision: 0.8897 - val_recall: 0.3594 - val_auc: 0.6539 - val_prc: 0.8575\n",
      "Restoring model weights from the end of the best epoch.\n",
      "Epoch 00011: early stopping\n"
     ]
    }
   ],
   "source": [
    "weighted_model = make_model()\n",
    "weighted_model.load_weights(initial_weights)\n",
    "\n",
    "weighted_history = weighted_model.fit(\n",
    "    train_features,\n",
    "    train_labels,\n",
    "    batch_size=BATCH_SIZE,\n",
    "    epochs=EPOCHS,\n",
    "    callbacks=[early_stopping],\n",
    "    validation_data=(val_features, val_labels),\n",
    "    # The class weights go here\n",
    "    class_weight=class_weight)"
   ]
  },
  {
   "cell_type": "code",
   "execution_count": 22,
   "id": "integrated-burns",
   "metadata": {},
   "outputs": [],
   "source": [
    "train_predictions_weighted = weighted_model.predict(train_features, batch_size=BATCH_SIZE)\n",
    "test_predictions_weighted = weighted_model.predict(test_features, batch_size=BATCH_SIZE)"
   ]
  },
  {
   "cell_type": "code",
   "execution_count": 23,
   "id": "realistic-combination",
   "metadata": {},
   "outputs": [
    {
     "name": "stdout",
     "output_type": "stream",
     "text": [
      "loss :  0.0\n",
      "tp :  2395.0\n",
      "fp :  123.0\n",
      "tn :  1507.0\n",
      "fn :  3673.0\n",
      "accuracy :  0.4521953761577606\n",
      "precision :  0.9511517286300659\n",
      "recall :  0.3946934640407562\n",
      "auc :  0.7025331258773804\n",
      "prc :  0.9088264107704163\n",
      "\n"
     ]
    },
    {
     "data": {
      "image/png": "[encoded data removed]",
      "text/plain": [
       "<Figure size 360x360 with 2 Axes>"
      ]
     },
     "metadata": {
      "needs_background": "light"
     },
     "output_type": "display_data"
    }
   ],
   "source": [
    "weighted_results = weighted_model.evaluate(test_features, test_labels,\n",
    "                                           batch_size=BATCH_SIZE, verbose=0)\n",
    "for name, value in zip(weighted_model.metrics_names, weighted_results):\n",
    "  print(name, ': ', value)\n",
    "print()\n",
    "\n",
    "plot_cm(test_labels, test_predictions_weighted)"
   ]
  },
  {
   "cell_type": "markdown",
   "id": "micro-receiver",
   "metadata": {},
   "source": [
    "# over sample"
   ]
  },
  {
   "cell_type": "code",
   "execution_count": 24,
   "id": "artistic-public",
   "metadata": {},
   "outputs": [
    {
     "name": "stdout",
     "output_type": "stream",
     "text": [
      "(44571, 26) (44571,)\n"
     ]
    }
   ],
   "source": [
    "from imblearn.over_sampling import SMOTE\n",
    "\n",
    "oversample = SMOTE()\n",
    "train_features_sm, train_labels_sm = oversample.fit_resample(train_features, train_labels)\n",
    "print(train_features_sm.shape,train_labels_sm.shape)"
   ]
  },
  {
   "cell_type": "code",
   "execution_count": 25,
   "id": "wired-miracle",
   "metadata": {},
   "outputs": [
    {
     "name": "stdout",
     "output_type": "stream",
     "text": [
      "Model: \"sequential_2\"\n",
      "_________________________________________________________________\n",
      "Layer (type)                 Output Shape              Param #   \n",
      "=================================================================\n",
      "dense_6 (Dense)              (None, 16)                432       \n",
      "_________________________________________________________________\n",
      "dense_7 (Dense)              (None, 32)                544       \n",
      "_________________________________________________________________\n",
      "dense_8 (Dense)              (None, 1)                 33        \n",
      "=================================================================\n",
      "Total params: 1,009\n",
      "Trainable params: 1,009\n",
      "Non-trainable params: 0\n",
      "_________________________________________________________________\n"
     ]
    }
   ],
   "source": [
    "os_model = make_model()\n",
    "os_model.load_weights(initial_weights)\n",
    "os_model.summary()"
   ]
  },
  {
   "cell_type": "code",
   "execution_count": 26,
   "id": "second-senior",
   "metadata": {},
   "outputs": [
    {
     "name": "stdout",
     "output_type": "stream",
     "text": [
      "Epoch 1/100\n",
      "22/22 [==============================] - 2s 37ms/step - loss: 0.0000e+00 - tp: 8323.8696 - fp: 780.3043 - tn: 8974.4783 - fn: 14064.1304 - accuracy: 0.4516 - precision: 0.9161 - recall: 0.3739 - auc: 0.6739 - prc: 0.8549 - val_loss: 0.0000e+00 - val_tp: 1905.0000 - val_fp: 117.0000 - val_tn: 1214.0000 - val_fn: 2922.0000 - val_accuracy: 0.4461 - val_precision: 0.9421 - val_recall: 0.3947 - val_auc: 0.7057 - val_prc: 0.9067\n",
      "Epoch 2/100\n",
      "22/22 [==============================] - 0s 4ms/step - loss: 0.0000e+00 - tp: 5850.3043 - fp: 721.6957 - tn: 7392.5217 - fn: 10480.2609 - accuracy: 0.4405 - precision: 0.8923 - recall: 0.3578 - auc: 0.6732 - prc: 0.8341 - val_loss: 0.0000e+00 - val_tp: 1895.0000 - val_fp: 138.0000 - val_tn: 1193.0000 - val_fn: 2932.0000 - val_accuracy: 0.4375 - val_precision: 0.9321 - val_recall: 0.3926 - val_auc: 0.7012 - val_prc: 0.8994\n",
      "Epoch 3/100\n",
      "22/22 [==============================] - 0s 4ms/step - loss: 0.0000e+00 - tp: 6027.4783 - fp: 844.6957 - tn: 7264.3478 - fn: 10308.2609 - accuracy: 0.4350 - precision: 0.8782 - recall: 0.3701 - auc: 0.6717 - prc: 0.8277 - val_loss: 0.0000e+00 - val_tp: 1888.0000 - val_fp: 150.0000 - val_tn: 1181.0000 - val_fn: 2939.0000 - val_accuracy: 0.4313 - val_precision: 0.9264 - val_recall: 0.3911 - val_auc: 0.6967 - val_prc: 0.8927\n",
      "Epoch 4/100\n",
      "22/22 [==============================] - 0s 3ms/step - loss: 0.0000e+00 - tp: 6039.3913 - fp: 925.1739 - tn: 7192.0435 - fn: 10288.1739 - accuracy: 0.4248 - precision: 0.8686 - recall: 0.3731 - auc: 0.6708 - prc: 0.8209 - val_loss: 0.0000e+00 - val_tp: 1741.0000 - val_fp: 158.0000 - val_tn: 1173.0000 - val_fn: 3086.0000 - val_accuracy: 0.4042 - val_precision: 0.9168 - val_recall: 0.3607 - val_auc: 0.6873 - val_prc: 0.8839\n",
      "Epoch 5/100\n",
      "22/22 [==============================] - 0s 4ms/step - loss: 0.0000e+00 - tp: 5670.0000 - fp: 954.0435 - tn: 7189.5217 - fn: 10631.2174 - accuracy: 0.4072 - precision: 0.8586 - recall: 0.3503 - auc: 0.6678 - prc: 0.8114 - val_loss: 0.0000e+00 - val_tp: 1593.0000 - val_fp: 159.0000 - val_tn: 1172.0000 - val_fn: 3234.0000 - val_accuracy: 0.3779 - val_precision: 0.9092 - val_recall: 0.3300 - val_auc: 0.6739 - val_prc: 0.8759\n",
      "Epoch 6/100\n",
      "22/22 [==============================] - 0s 3ms/step - loss: 0.0000e+00 - tp: 5464.6522 - fp: 977.3913 - tn: 7187.8696 - fn: 10814.8696 - accuracy: 0.3956 - precision: 0.8503 - recall: 0.3364 - auc: 0.6573 - prc: 0.7989 - val_loss: 0.0000e+00 - val_tp: 1550.0000 - val_fp: 164.0000 - val_tn: 1167.0000 - val_fn: 3277.0000 - val_accuracy: 0.3688 - val_precision: 0.9043 - val_recall: 0.3211 - val_auc: 0.6557 - val_prc: 0.8670\n",
      "Epoch 7/100\n",
      "22/22 [==============================] - 0s 3ms/step - loss: 0.0000e+00 - tp: 5454.7391 - fp: 1004.2609 - tn: 7169.1739 - fn: 10816.6087 - accuracy: 0.3946 - precision: 0.8457 - recall: 0.3364 - auc: 0.6501 - prc: 0.7925 - val_loss: 0.0000e+00 - val_tp: 1544.0000 - val_fp: 178.0000 - val_tn: 1153.0000 - val_fn: 3283.0000 - val_accuracy: 0.3647 - val_precision: 0.8966 - val_recall: 0.3199 - val_auc: 0.6427 - val_prc: 0.8587\n",
      "Epoch 8/100\n",
      "22/22 [==============================] - 0s 4ms/step - loss: 0.0000e+00 - tp: 5514.3913 - fp: 1017.2174 - tn: 7098.0870 - fn: 10815.0870 - accuracy: 0.3894 - precision: 0.8446 - recall: 0.3374 - auc: 0.6409 - prc: 0.7851 - val_loss: 0.0000e+00 - val_tp: 1540.0000 - val_fp: 179.0000 - val_tn: 1152.0000 - val_fn: 3287.0000 - val_accuracy: 0.3636 - val_precision: 0.8959 - val_recall: 0.3190 - val_auc: 0.6341 - val_prc: 0.8515\n",
      "Epoch 9/100\n",
      "22/22 [==============================] - 0s 4ms/step - loss: 0.0000e+00 - tp: 5500.8261 - fp: 1033.6522 - tn: 7081.7826 - fn: 10828.5217 - accuracy: 0.3875 - precision: 0.8422 - recall: 0.3378 - auc: 0.6318 - prc: 0.7745 - val_loss: 0.0000e+00 - val_tp: 1528.0000 - val_fp: 174.0000 - val_tn: 1157.0000 - val_fn: 3299.0000 - val_accuracy: 0.3626 - val_precision: 0.8978 - val_recall: 0.3166 - val_auc: 0.6247 - val_prc: 0.8499\n",
      "Epoch 10/100\n",
      "22/22 [==============================] - 0s 3ms/step - loss: 0.0000e+00 - tp: 5502.4783 - fp: 1011.0870 - tn: 7165.1739 - fn: 10766.0435 - accuracy: 0.3934 - precision: 0.8453 - recall: 0.3395 - auc: 0.6288 - prc: 0.7701 - val_loss: 0.0000e+00 - val_tp: 1526.0000 - val_fp: 172.0000 - val_tn: 1159.0000 - val_fn: 3301.0000 - val_accuracy: 0.3631 - val_precision: 0.8987 - val_recall: 0.3161 - val_auc: 0.6126 - val_prc: 0.8465\n",
      "Epoch 11/100\n",
      "22/22 [==============================] - 0s 4ms/step - loss: 0.0000e+00 - tp: 5489.3043 - fp: 1007.3913 - tn: 7136.2609 - fn: 10811.8261 - accuracy: 0.3883 - precision: 0.8478 - recall: 0.3385 - auc: 0.6203 - prc: 0.7690 - val_loss: 0.0000e+00 - val_tp: 1514.0000 - val_fp: 169.0000 - val_tn: 1162.0000 - val_fn: 3313.0000 - val_accuracy: 0.3618 - val_precision: 0.8996 - val_recall: 0.3137 - val_auc: 0.6048 - val_prc: 0.8447\n",
      "Restoring model weights from the end of the best epoch.\n",
      "Epoch 00011: early stopping\n"
     ]
    }
   ],
   "source": [
    "history = os_model.fit(\n",
    "    train_features_sm,\n",
    "    train_labels_sm,\n",
    "    batch_size=BATCH_SIZE,\n",
    "    epochs=EPOCHS,\n",
    "    callbacks=[early_stopping],\n",
    "    validation_data=(val_features, val_labels))"
   ]
  },
  {
   "cell_type": "code",
   "execution_count": 27,
   "id": "mobile-listening",
   "metadata": {},
   "outputs": [],
   "source": [
    "train_predictions_os = os_model.predict(train_features_sm, batch_size=BATCH_SIZE)\n",
    "test_predictions_os = os_model.predict(test_features, batch_size=BATCH_SIZE)"
   ]
  },
  {
   "cell_type": "code",
   "execution_count": 28,
   "id": "selective-shell",
   "metadata": {},
   "outputs": [
    {
     "name": "stdout",
     "output_type": "stream",
     "text": [
      "loss :  0.0\n",
      "tp :  2351.0\n",
      "fp :  146.0\n",
      "tn :  1484.0\n",
      "fn :  3717.0\n",
      "accuracy :  0.44219276309013367\n",
      "precision :  0.9415298104286194\n",
      "recall :  0.38744232058525085\n",
      "auc :  0.7046233415603638\n",
      "prc :  0.9081960916519165\n",
      "\n"
     ]
    },
    {
     "data": {
      "image/png": "[encoded data removed]",
      "text/plain": [
       "<Figure size 360x360 with 2 Axes>"
      ]
     },
     "metadata": {
      "needs_background": "light"
     },
     "output_type": "display_data"
    }
   ],
   "source": [
    "results = os_model.evaluate(test_features, test_labels, batch_size=BATCH_SIZE, verbose=0)\n",
    "for name, value in zip(os_model.metrics_names, results):\n",
    "  print(name, ': ', value)\n",
    "print()\n",
    "\n",
    "plot_cm(test_labels, test_predictions_os)\n",
    "\n",
    "#plot_cm(train_labels, train_predictions_baseline)"
   ]
  }
 ],
 "metadata": {
  "kernelspec": {
   "display_name": "Python 3",
   "language": "python",
   "name": "python3"
  },
  "language_info": {
   "codemirror_mode": {
    "name": "ipython",
    "version": 3
   },
   "file_extension": ".py",
   "mimetype": "text/x-python",
   "name": "python",
   "nbconvert_exporter": "python",
   "pygments_lexer": "ipython3",
   "version": "3.9.2"
  }
 },
 "nbformat": 4,
 "nbformat_minor": 5
}
