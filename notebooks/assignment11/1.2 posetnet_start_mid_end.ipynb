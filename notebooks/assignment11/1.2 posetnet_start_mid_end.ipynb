{
 "cells": [
  {
   "cell_type": "markdown",
   "id": "aware-instrument",
   "metadata": {},
   "source": [
    "# Classify using start=0 mid = 1 end = 2"
   ]
  },
  {
   "cell_type": "code",
   "execution_count": 1,
   "id": "sunset-token",
   "metadata": {},
   "outputs": [],
   "source": [
    "import sys\n",
    "import pandas as pd\n",
    "import numpy as np"
   ]
  },
  {
   "cell_type": "markdown",
   "id": "copyrighted-recruitment",
   "metadata": {},
   "source": [
    "## 1. Read dataset"
   ]
  },
  {
   "cell_type": "code",
   "execution_count": 2,
   "id": "suspended-diary",
   "metadata": {},
   "outputs": [],
   "source": [
    "dirname = '../../datasets/marked_start_mid_end/'\n",
    "suffix = '.csv'\n",
    "\n",
    "def read_from_file( file_name, rand_num):\n",
    "    \n",
    "    try:\n",
    "        full_file_name = file_name + str(rand_num)\n",
    "\n",
    "        file_at_path = dirname + full_file_name + suffix\n",
    "\n",
    "        data = pd.read_csv(file_at_path)\n",
    "        \n",
    "        return data, full_file_name\n",
    "    \n",
    "    except IOError as e:\n",
    "        print(e)\n",
    "        return None,None"
   ]
  },
  {
   "cell_type": "markdown",
   "id": "alert-savage",
   "metadata": {},
   "source": [
    "## 2. Read files"
   ]
  },
  {
   "cell_type": "markdown",
   "id": "trained-timing",
   "metadata": {},
   "source": [
    "### 2.1 The A series (A1-A159)"
   ]
  },
  {
   "cell_type": "code",
   "execution_count": 3,
   "id": "consolidated-victoria",
   "metadata": {},
   "outputs": [
    {
     "name": "stdout",
     "output_type": "stream",
     "text": [
      "(229, 28)\n",
      "[Errno 2] No such file or directory: '../../datasets/marked_start_mid_end/A60.csv'\n",
      "[Errno 2] No such file or directory: '../../datasets/marked_start_mid_end/A107.csv'\n",
      "(33093, 28)\n"
     ]
    }
   ],
   "source": [
    "raw_data, full_file_name = read_from_file(\"A\", 1)\n",
    "\n",
    "#print(full_file_name)\n",
    "print(raw_data.shape)\n",
    "\n",
    "for i in range(2,160):\n",
    "    input_data, full_file_name = read_from_file(\"A\", i)\n",
    "    \n",
    "    if(full_file_name is None):\n",
    "        continue\n",
    "    else:\n",
    "        #print(full_file_name)\n",
    "        raw_data = raw_data.append(input_data, ignore_index = True)\n",
    "\n",
    "print(raw_data.shape)"
   ]
  },
  {
   "cell_type": "markdown",
   "id": "driven-graph",
   "metadata": {},
   "source": [
    "### 2.2 The B series (B1-B22)"
   ]
  },
  {
   "cell_type": "code",
   "execution_count": 4,
   "id": "reserved-victoria",
   "metadata": {},
   "outputs": [
    {
     "name": "stdout",
     "output_type": "stream",
     "text": [
      "(38488, 28)\n"
     ]
    }
   ],
   "source": [
    "for i in range(1,23):\n",
    "    input_data, full_file_name = read_from_file(\"B\", i)\n",
    "    \n",
    "    if(full_file_name is None):\n",
    "        continue\n",
    "    else:\n",
    "        #print(full_file_name)\n",
    "        raw_data = raw_data.append(input_data, ignore_index = True)\n",
    "\n",
    "print(raw_data.shape)"
   ]
  },
  {
   "cell_type": "code",
   "execution_count": 5,
   "id": "original-karen",
   "metadata": {},
   "outputs": [
    {
     "data": {
      "text/html": [
       "<div>\n",
       "<style scoped>\n",
       "    .dataframe tbody tr th:only-of-type {\n",
       "        vertical-align: middle;\n",
       "    }\n",
       "\n",
       "    .dataframe tbody tr th {\n",
       "        vertical-align: top;\n",
       "    }\n",
       "\n",
       "    .dataframe thead th {\n",
       "        text-align: right;\n",
       "    }\n",
       "</style>\n",
       "<table border=\"1\" class=\"dataframe\">\n",
       "  <thead>\n",
       "    <tr style=\"text-align: right;\">\n",
       "      <th></th>\n",
       "      <th>FrameNo</th>\n",
       "      <th>head_x</th>\n",
       "      <th>head_y</th>\n",
       "      <th>leftShoulder_x</th>\n",
       "      <th>leftShoulder_y</th>\n",
       "      <th>rightShoulder_x</th>\n",
       "      <th>rightShoulder_y</th>\n",
       "      <th>leftElbow_x</th>\n",
       "      <th>leftElbow_y</th>\n",
       "      <th>rightElbow_x</th>\n",
       "      <th>...</th>\n",
       "      <th>rightHip_y</th>\n",
       "      <th>leftKnee_x</th>\n",
       "      <th>leftKnee_y</th>\n",
       "      <th>rightKnee_x</th>\n",
       "      <th>rightKnee_y</th>\n",
       "      <th>leftAnkle_x</th>\n",
       "      <th>leftAnkle_y</th>\n",
       "      <th>rightAnkle_x</th>\n",
       "      <th>rightAnkle_y</th>\n",
       "      <th>status</th>\n",
       "    </tr>\n",
       "  </thead>\n",
       "  <tbody>\n",
       "    <tr>\n",
       "      <th>0</th>\n",
       "      <td>0</td>\n",
       "      <td>262.066742</td>\n",
       "      <td>994.135620</td>\n",
       "      <td>375.759686</td>\n",
       "      <td>1057.411090</td>\n",
       "      <td>382.580955</td>\n",
       "      <td>920.305207</td>\n",
       "      <td>496.493179</td>\n",
       "      <td>1079.227467</td>\n",
       "      <td>501.843892</td>\n",
       "      <td>...</td>\n",
       "      <td>932.162345</td>\n",
       "      <td>790.678961</td>\n",
       "      <td>1048.936701</td>\n",
       "      <td>799.932411</td>\n",
       "      <td>916.659549</td>\n",
       "      <td>987.035062</td>\n",
       "      <td>1052.085086</td>\n",
       "      <td>985.324309</td>\n",
       "      <td>914.177256</td>\n",
       "      <td>0</td>\n",
       "    </tr>\n",
       "    <tr>\n",
       "      <th>1</th>\n",
       "      <td>1</td>\n",
       "      <td>263.581139</td>\n",
       "      <td>992.800872</td>\n",
       "      <td>375.749203</td>\n",
       "      <td>1056.170479</td>\n",
       "      <td>381.573855</td>\n",
       "      <td>920.501798</td>\n",
       "      <td>496.708486</td>\n",
       "      <td>1078.117512</td>\n",
       "      <td>498.224803</td>\n",
       "      <td>...</td>\n",
       "      <td>942.356170</td>\n",
       "      <td>788.839322</td>\n",
       "      <td>1046.899053</td>\n",
       "      <td>789.020575</td>\n",
       "      <td>911.572589</td>\n",
       "      <td>987.674662</td>\n",
       "      <td>1053.617341</td>\n",
       "      <td>982.446002</td>\n",
       "      <td>913.666266</td>\n",
       "      <td>0</td>\n",
       "    </tr>\n",
       "    <tr>\n",
       "      <th>2</th>\n",
       "      <td>2</td>\n",
       "      <td>263.243067</td>\n",
       "      <td>993.016745</td>\n",
       "      <td>375.931049</td>\n",
       "      <td>1055.647247</td>\n",
       "      <td>381.855203</td>\n",
       "      <td>920.968293</td>\n",
       "      <td>495.078997</td>\n",
       "      <td>1078.130609</td>\n",
       "      <td>501.484271</td>\n",
       "      <td>...</td>\n",
       "      <td>942.744961</td>\n",
       "      <td>791.051172</td>\n",
       "      <td>1047.688357</td>\n",
       "      <td>785.984456</td>\n",
       "      <td>912.766431</td>\n",
       "      <td>988.034841</td>\n",
       "      <td>1054.136438</td>\n",
       "      <td>982.152660</td>\n",
       "      <td>915.409163</td>\n",
       "      <td>0</td>\n",
       "    </tr>\n",
       "    <tr>\n",
       "      <th>3</th>\n",
       "      <td>3</td>\n",
       "      <td>264.052307</td>\n",
       "      <td>992.361849</td>\n",
       "      <td>377.491020</td>\n",
       "      <td>1056.573054</td>\n",
       "      <td>382.514724</td>\n",
       "      <td>920.283090</td>\n",
       "      <td>496.138878</td>\n",
       "      <td>1077.009937</td>\n",
       "      <td>504.516806</td>\n",
       "      <td>...</td>\n",
       "      <td>943.913966</td>\n",
       "      <td>783.807687</td>\n",
       "      <td>1041.109386</td>\n",
       "      <td>789.262715</td>\n",
       "      <td>912.361445</td>\n",
       "      <td>987.864322</td>\n",
       "      <td>1053.845620</td>\n",
       "      <td>984.492254</td>\n",
       "      <td>916.521814</td>\n",
       "      <td>0</td>\n",
       "    </tr>\n",
       "    <tr>\n",
       "      <th>4</th>\n",
       "      <td>4</td>\n",
       "      <td>263.674868</td>\n",
       "      <td>992.907155</td>\n",
       "      <td>377.245414</td>\n",
       "      <td>1056.405841</td>\n",
       "      <td>382.608525</td>\n",
       "      <td>920.873450</td>\n",
       "      <td>493.847589</td>\n",
       "      <td>1076.760449</td>\n",
       "      <td>505.960956</td>\n",
       "      <td>...</td>\n",
       "      <td>942.773498</td>\n",
       "      <td>782.652318</td>\n",
       "      <td>1040.924647</td>\n",
       "      <td>788.349922</td>\n",
       "      <td>912.042381</td>\n",
       "      <td>987.438456</td>\n",
       "      <td>1053.170948</td>\n",
       "      <td>982.304178</td>\n",
       "      <td>913.830744</td>\n",
       "      <td>0</td>\n",
       "    </tr>\n",
       "    <tr>\n",
       "      <th>...</th>\n",
       "      <td>...</td>\n",
       "      <td>...</td>\n",
       "      <td>...</td>\n",
       "      <td>...</td>\n",
       "      <td>...</td>\n",
       "      <td>...</td>\n",
       "      <td>...</td>\n",
       "      <td>...</td>\n",
       "      <td>...</td>\n",
       "      <td>...</td>\n",
       "      <td>...</td>\n",
       "      <td>...</td>\n",
       "      <td>...</td>\n",
       "      <td>...</td>\n",
       "      <td>...</td>\n",
       "      <td>...</td>\n",
       "      <td>...</td>\n",
       "      <td>...</td>\n",
       "      <td>...</td>\n",
       "      <td>...</td>\n",
       "      <td>...</td>\n",
       "    </tr>\n",
       "    <tr>\n",
       "      <th>38483</th>\n",
       "      <td>235</td>\n",
       "      <td>187.020227</td>\n",
       "      <td>1063.302928</td>\n",
       "      <td>268.349169</td>\n",
       "      <td>1101.640977</td>\n",
       "      <td>275.092599</td>\n",
       "      <td>980.337267</td>\n",
       "      <td>370.437723</td>\n",
       "      <td>1153.259502</td>\n",
       "      <td>378.432958</td>\n",
       "      <td>...</td>\n",
       "      <td>1004.961255</td>\n",
       "      <td>643.393000</td>\n",
       "      <td>1085.001933</td>\n",
       "      <td>636.348946</td>\n",
       "      <td>1013.502414</td>\n",
       "      <td>794.880987</td>\n",
       "      <td>1080.577164</td>\n",
       "      <td>793.098244</td>\n",
       "      <td>1003.013258</td>\n",
       "      <td>2</td>\n",
       "    </tr>\n",
       "    <tr>\n",
       "      <th>38484</th>\n",
       "      <td>236</td>\n",
       "      <td>186.034678</td>\n",
       "      <td>1063.276455</td>\n",
       "      <td>267.295066</td>\n",
       "      <td>1101.947708</td>\n",
       "      <td>274.296104</td>\n",
       "      <td>982.232003</td>\n",
       "      <td>368.424443</td>\n",
       "      <td>1140.413321</td>\n",
       "      <td>377.119350</td>\n",
       "      <td>...</td>\n",
       "      <td>1005.780483</td>\n",
       "      <td>638.514953</td>\n",
       "      <td>1084.204138</td>\n",
       "      <td>637.767792</td>\n",
       "      <td>1013.403677</td>\n",
       "      <td>794.218175</td>\n",
       "      <td>1079.982319</td>\n",
       "      <td>793.458130</td>\n",
       "      <td>1003.044199</td>\n",
       "      <td>2</td>\n",
       "    </tr>\n",
       "    <tr>\n",
       "      <th>38485</th>\n",
       "      <td>237</td>\n",
       "      <td>186.855136</td>\n",
       "      <td>1061.691429</td>\n",
       "      <td>265.131050</td>\n",
       "      <td>1100.384655</td>\n",
       "      <td>275.215525</td>\n",
       "      <td>981.939868</td>\n",
       "      <td>365.989888</td>\n",
       "      <td>1153.517583</td>\n",
       "      <td>378.954248</td>\n",
       "      <td>...</td>\n",
       "      <td>1004.996926</td>\n",
       "      <td>638.237042</td>\n",
       "      <td>1083.858278</td>\n",
       "      <td>638.585463</td>\n",
       "      <td>1013.539751</td>\n",
       "      <td>793.801283</td>\n",
       "      <td>1079.818405</td>\n",
       "      <td>793.777122</td>\n",
       "      <td>1002.993298</td>\n",
       "      <td>2</td>\n",
       "    </tr>\n",
       "    <tr>\n",
       "      <th>38486</th>\n",
       "      <td>238</td>\n",
       "      <td>186.557939</td>\n",
       "      <td>1058.923707</td>\n",
       "      <td>260.327946</td>\n",
       "      <td>1095.851565</td>\n",
       "      <td>273.896970</td>\n",
       "      <td>980.764162</td>\n",
       "      <td>352.193104</td>\n",
       "      <td>1139.656477</td>\n",
       "      <td>374.662521</td>\n",
       "      <td>...</td>\n",
       "      <td>1001.659971</td>\n",
       "      <td>637.281734</td>\n",
       "      <td>1083.874370</td>\n",
       "      <td>639.221573</td>\n",
       "      <td>1004.560148</td>\n",
       "      <td>793.834250</td>\n",
       "      <td>1079.758448</td>\n",
       "      <td>793.826335</td>\n",
       "      <td>1003.044853</td>\n",
       "      <td>2</td>\n",
       "    </tr>\n",
       "    <tr>\n",
       "      <th>38487</th>\n",
       "      <td>239</td>\n",
       "      <td>185.851574</td>\n",
       "      <td>1058.682094</td>\n",
       "      <td>258.055370</td>\n",
       "      <td>1101.839875</td>\n",
       "      <td>273.309626</td>\n",
       "      <td>980.763985</td>\n",
       "      <td>364.944871</td>\n",
       "      <td>1144.986951</td>\n",
       "      <td>371.892162</td>\n",
       "      <td>...</td>\n",
       "      <td>1008.504230</td>\n",
       "      <td>641.796321</td>\n",
       "      <td>1085.459160</td>\n",
       "      <td>637.586840</td>\n",
       "      <td>1012.432205</td>\n",
       "      <td>794.001962</td>\n",
       "      <td>1080.628126</td>\n",
       "      <td>793.510520</td>\n",
       "      <td>1002.885960</td>\n",
       "      <td>2</td>\n",
       "    </tr>\n",
       "  </tbody>\n",
       "</table>\n",
       "<p>38488 rows × 28 columns</p>\n",
       "</div>"
      ],
      "text/plain": [
       "       FrameNo      head_x       head_y  leftShoulder_x  leftShoulder_y  \\\n",
       "0            0  262.066742   994.135620      375.759686     1057.411090   \n",
       "1            1  263.581139   992.800872      375.749203     1056.170479   \n",
       "2            2  263.243067   993.016745      375.931049     1055.647247   \n",
       "3            3  264.052307   992.361849      377.491020     1056.573054   \n",
       "4            4  263.674868   992.907155      377.245414     1056.405841   \n",
       "...        ...         ...          ...             ...             ...   \n",
       "38483      235  187.020227  1063.302928      268.349169     1101.640977   \n",
       "38484      236  186.034678  1063.276455      267.295066     1101.947708   \n",
       "38485      237  186.855136  1061.691429      265.131050     1100.384655   \n",
       "38486      238  186.557939  1058.923707      260.327946     1095.851565   \n",
       "38487      239  185.851574  1058.682094      258.055370     1101.839875   \n",
       "\n",
       "       rightShoulder_x  rightShoulder_y  leftElbow_x  leftElbow_y  \\\n",
       "0           382.580955       920.305207   496.493179  1079.227467   \n",
       "1           381.573855       920.501798   496.708486  1078.117512   \n",
       "2           381.855203       920.968293   495.078997  1078.130609   \n",
       "3           382.514724       920.283090   496.138878  1077.009937   \n",
       "4           382.608525       920.873450   493.847589  1076.760449   \n",
       "...                ...              ...          ...          ...   \n",
       "38483       275.092599       980.337267   370.437723  1153.259502   \n",
       "38484       274.296104       982.232003   368.424443  1140.413321   \n",
       "38485       275.215525       981.939868   365.989888  1153.517583   \n",
       "38486       273.896970       980.764162   352.193104  1139.656477   \n",
       "38487       273.309626       980.763985   364.944871  1144.986951   \n",
       "\n",
       "       rightElbow_x  ...   rightHip_y  leftKnee_x   leftKnee_y  rightKnee_x  \\\n",
       "0        501.843892  ...   932.162345  790.678961  1048.936701   799.932411   \n",
       "1        498.224803  ...   942.356170  788.839322  1046.899053   789.020575   \n",
       "2        501.484271  ...   942.744961  791.051172  1047.688357   785.984456   \n",
       "3        504.516806  ...   943.913966  783.807687  1041.109386   789.262715   \n",
       "4        505.960956  ...   942.773498  782.652318  1040.924647   788.349922   \n",
       "...             ...  ...          ...         ...          ...          ...   \n",
       "38483    378.432958  ...  1004.961255  643.393000  1085.001933   636.348946   \n",
       "38484    377.119350  ...  1005.780483  638.514953  1084.204138   637.767792   \n",
       "38485    378.954248  ...  1004.996926  638.237042  1083.858278   638.585463   \n",
       "38486    374.662521  ...  1001.659971  637.281734  1083.874370   639.221573   \n",
       "38487    371.892162  ...  1008.504230  641.796321  1085.459160   637.586840   \n",
       "\n",
       "       rightKnee_y  leftAnkle_x  leftAnkle_y  rightAnkle_x  rightAnkle_y  \\\n",
       "0       916.659549   987.035062  1052.085086    985.324309    914.177256   \n",
       "1       911.572589   987.674662  1053.617341    982.446002    913.666266   \n",
       "2       912.766431   988.034841  1054.136438    982.152660    915.409163   \n",
       "3       912.361445   987.864322  1053.845620    984.492254    916.521814   \n",
       "4       912.042381   987.438456  1053.170948    982.304178    913.830744   \n",
       "...            ...          ...          ...           ...           ...   \n",
       "38483  1013.502414   794.880987  1080.577164    793.098244   1003.013258   \n",
       "38484  1013.403677   794.218175  1079.982319    793.458130   1003.044199   \n",
       "38485  1013.539751   793.801283  1079.818405    793.777122   1002.993298   \n",
       "38486  1004.560148   793.834250  1079.758448    793.826335   1003.044853   \n",
       "38487  1012.432205   794.001962  1080.628126    793.510520   1002.885960   \n",
       "\n",
       "       status  \n",
       "0           0  \n",
       "1           0  \n",
       "2           0  \n",
       "3           0  \n",
       "4           0  \n",
       "...       ...  \n",
       "38483       2  \n",
       "38484       2  \n",
       "38485       2  \n",
       "38486       2  \n",
       "38487       2  \n",
       "\n",
       "[38488 rows x 28 columns]"
      ]
     },
     "execution_count": 5,
     "metadata": {},
     "output_type": "execute_result"
    }
   ],
   "source": [
    "raw_data.fillna(0)"
   ]
  },
  {
   "cell_type": "code",
   "execution_count": 6,
   "id": "representative-savings",
   "metadata": {},
   "outputs": [
    {
     "name": "stdout",
     "output_type": "stream",
     "text": [
      "Frames:\n",
      "    Total: 38488\n",
      "    Before: 8108 (0.21% of total)\n",
      "    During: 23233 (0.60% of total)\n",
      "    After: 7147 (0.19% of total)\n",
      "\n"
     ]
    }
   ],
   "source": [
    "start_0, mid_1, end_2 = np.bincount(raw_data['status'])\n",
    "print(\n",
    "    'Frames:\\n    Total: {}\\n    Before: {} ({:.2f}% of total)\\n    During: {} ({:.2f}% of total)\\n    After: {} ({:.2f}% of total)\\n'\n",
    "    .format(\n",
    "      len(raw_data), \n",
    "      start_0,\n",
    "      start_0 / len(raw_data),\n",
    "      mid_1,\n",
    "      mid_1 / len(raw_data),\n",
    "      end_2,\n",
    "      end_2 / len(raw_data)\n",
    "    )\n",
    "  )"
   ]
  },
  {
   "cell_type": "code",
   "execution_count": 7,
   "id": "moving-steel",
   "metadata": {},
   "outputs": [
    {
     "data": {
      "text/plain": [
       "0          0\n",
       "1          1\n",
       "2          2\n",
       "3          3\n",
       "4          4\n",
       "        ... \n",
       "38483    235\n",
       "38484    236\n",
       "38485    237\n",
       "38486    238\n",
       "38487    239\n",
       "Name: FrameNo, Length: 38488, dtype: int64"
      ]
     },
     "execution_count": 7,
     "metadata": {},
     "output_type": "execute_result"
    }
   ],
   "source": [
    "cleaned_data = raw_data.copy()\n",
    "cleaned_data.pop( 'FrameNo')"
   ]
  },
  {
   "cell_type": "code",
   "execution_count": 8,
   "id": "fixed-socket",
   "metadata": {},
   "outputs": [],
   "source": [
    "# Use a utility from sklearn to split and shuffle our dataset.\n",
    "\n",
    "from sklearn.model_selection import train_test_split\n",
    "\n",
    "train_data, test_data = train_test_split(cleaned_data, test_size=0.2)\n",
    "train_data, val_data = train_test_split(train_data, test_size=0.2)\n",
    "\n",
    "# Form np arrays of labels and features.\n",
    "train_labels = np.array(train_data.pop('status'))\n",
    "val_labels = np.array(val_data.pop('status'))\n",
    "test_labels = np.array(test_data.pop('status'))\n",
    "\n",
    "train_features = np.array(train_data)\n",
    "val_features = np.array(val_data)\n",
    "test_features = np.array(test_data)"
   ]
  },
  {
   "cell_type": "markdown",
   "id": "upper-storm",
   "metadata": {},
   "source": [
    "### Normalization\n",
    "Normalize the input features using the sklearn StandardScaler. This will set the mean to 0 and standard deviation to 1."
   ]
  },
  {
   "cell_type": "code",
   "execution_count": 9,
   "id": "legitimate-length",
   "metadata": {},
   "outputs": [
    {
     "name": "stdout",
     "output_type": "stream",
     "text": [
      "Training labels shape: (24632,)\n",
      "Validation labels shape: (6158,)\n",
      "Test labels shape: (7698,)\n",
      "Training features shape: (24632, 26)\n",
      "Validation features shape: (6158, 26)\n",
      "Test features shape: (7698, 26)\n"
     ]
    }
   ],
   "source": [
    "from sklearn.preprocessing import StandardScaler\n",
    "\n",
    "scaler = StandardScaler()\n",
    "train_features = scaler.fit_transform(train_features)\n",
    "val_features = scaler.transform(val_features)\n",
    "test_features = scaler.transform(test_features)\n",
    "\n",
    "print('Training labels shape:', train_labels.shape)\n",
    "print('Validation labels shape:', val_labels.shape)\n",
    "print('Test labels shape:', test_labels.shape)\n",
    "\n",
    "print('Training features shape:', train_features.shape)\n",
    "print('Validation features shape:', val_features.shape)\n",
    "print('Test features shape:', test_features.shape)"
   ]
  },
  {
   "cell_type": "code",
   "execution_count": 10,
   "id": "adapted-porter",
   "metadata": {},
   "outputs": [
    {
     "name": "stdout",
     "output_type": "stream",
     "text": [
      "INFO:tensorflow:Enabling eager execution\n",
      "INFO:tensorflow:Enabling v2 tensorshape\n",
      "INFO:tensorflow:Enabling resource variables\n",
      "INFO:tensorflow:Enabling tensor equality\n",
      "INFO:tensorflow:Enabling control flow v2\n"
     ]
    }
   ],
   "source": [
    "import tensorflow as tf\n",
    "from tensorflow import keras"
   ]
  },
  {
   "cell_type": "code",
   "execution_count": 11,
   "id": "front-range",
   "metadata": {},
   "outputs": [],
   "source": [
    "METRICS = [\n",
    "      keras.metrics.TruePositives(name='tp'),\n",
    "      keras.metrics.FalsePositives(name='fp'),\n",
    "      keras.metrics.TrueNegatives(name='tn'),\n",
    "      keras.metrics.FalseNegatives(name='fn'), \n",
    "      keras.metrics.BinaryAccuracy(name='accuracy'),\n",
    "      keras.metrics.Precision(name='precision'),\n",
    "      keras.metrics.Recall(name='recall'),\n",
    "      keras.metrics.AUC(name='auc'),\n",
    "      keras.metrics.AUC(name='prc', curve='PR'), # precision-recall curve\n",
    "]"
   ]
  },
  {
   "cell_type": "code",
   "execution_count": 12,
   "id": "mediterranean-drinking",
   "metadata": {},
   "outputs": [],
   "source": [
    "def make_model(metrics=METRICS, optimizer='Adam',loss = 'categorical_crossentropy'):\n",
    "    model = keras.Sequential([\n",
    "        keras.layers.Dense(units=16, activation='relu',input_dim=train_features.shape[-1]),\n",
    "        keras.layers.Dense(32, activation='relu' ),\n",
    "        keras.layers.Dense(1, activation='sigmoid'),\n",
    "    ])\n",
    "    \n",
    "    model.compile(optimizer=optimizer, loss=loss, metrics=metrics)\n",
    "    #keras.losses.BinaryCrossentropy()\n",
    "    return model"
   ]
  },
  {
   "cell_type": "code",
   "execution_count": 13,
   "id": "controlled-oregon",
   "metadata": {},
   "outputs": [],
   "source": [
    "EPOCHS = 100\n",
    "BATCH_SIZE = 2048\n",
    "\n",
    "early_stopping = tf.keras.callbacks.EarlyStopping(monitor='val_prc', verbose=1,patience=10,mode='max',restore_best_weights=True)"
   ]
  },
  {
   "cell_type": "code",
   "execution_count": 14,
   "id": "peaceful-international",
   "metadata": {},
   "outputs": [
    {
     "name": "stdout",
     "output_type": "stream",
     "text": [
      "Model: \"sequential\"\n",
      "_________________________________________________________________\n",
      "Layer (type)                 Output Shape              Param #   \n",
      "=================================================================\n",
      "dense (Dense)                (None, 16)                432       \n",
      "_________________________________________________________________\n",
      "dense_1 (Dense)              (None, 32)                544       \n",
      "_________________________________________________________________\n",
      "dense_2 (Dense)              (None, 1)                 33        \n",
      "=================================================================\n",
      "Total params: 1,009\n",
      "Trainable params: 1,009\n",
      "Non-trainable params: 0\n",
      "_________________________________________________________________\n"
     ]
    }
   ],
   "source": [
    "model = make_model()\n",
    "model.summary()"
   ]
  },
  {
   "cell_type": "markdown",
   "id": "similar-israel",
   "metadata": {},
   "source": [
    "# Checkpoint the initial weights"
   ]
  },
  {
   "cell_type": "code",
   "execution_count": 15,
   "id": "laughing-western",
   "metadata": {},
   "outputs": [],
   "source": [
    "import os\n",
    "import tempfile\n",
    "\n",
    "initial_weights = os.path.join(tempfile.mkdtemp(), 'initial_weights')\n",
    "model.save_weights(initial_weights)"
   ]
  },
  {
   "cell_type": "code",
   "execution_count": null,
   "id": "intensive-oasis",
   "metadata": {},
   "outputs": [],
   "source": []
  },
  {
   "cell_type": "code",
   "execution_count": 16,
   "id": "olympic-investigator",
   "metadata": {},
   "outputs": [
    {
     "name": "stdout",
     "output_type": "stream",
     "text": [
      "Epoch 1/100\n",
      "13/13 [==============================] - 3s 75ms/step - loss: 0.0000e+00 - tp: 7649.8571 - fp: 1779.0714 - tn: 1368.7143 - fn: 4131.5000 - accuracy: 0.5000 - precision: 0.8119 - recall: 0.6904 - auc: 0.4880 - prc: 0.7588 - val_loss: 0.0000e+00 - val_tp: 2239.0000 - val_fp: 497.0000 - val_tn: 776.0000 - val_fn: 2646.0000 - val_accuracy: 0.3855 - val_precision: 0.8183 - val_recall: 0.4583 - val_auc: 0.5576 - val_prc: 0.8065\n",
      "Epoch 2/100\n",
      "13/13 [==============================] - 0s 5ms/step - loss: 0.0000e+00 - tp: 5073.4286 - fp: 1314.7143 - tn: 1862.8571 - fn: 6678.1429 - accuracy: 0.3672 - precision: 0.7950 - recall: 0.4397 - auc: 0.5335 - prc: 0.7947 - val_loss: 0.0000e+00 - val_tp: 1857.0000 - val_fp: 459.0000 - val_tn: 814.0000 - val_fn: 3028.0000 - val_accuracy: 0.3383 - val_precision: 0.8018 - val_recall: 0.3801 - val_auc: 0.5817 - val_prc: 0.8311\n",
      "Epoch 3/100\n",
      "13/13 [==============================] - 0s 5ms/step - loss: 0.0000e+00 - tp: 4424.7857 - fp: 1227.8571 - tn: 1953.4286 - fn: 7323.0714 - accuracy: 0.3359 - precision: 0.7833 - recall: 0.3815 - auc: 0.5611 - prc: 0.8158 - val_loss: 0.0000e+00 - val_tp: 1703.0000 - val_fp: 397.0000 - val_tn: 876.0000 - val_fn: 3182.0000 - val_accuracy: 0.3275 - val_precision: 0.8110 - val_recall: 0.3486 - val_auc: 0.5999 - val_prc: 0.8431\n",
      "Epoch 4/100\n",
      "13/13 [==============================] - 0s 5ms/step - loss: 0.0000e+00 - tp: 4054.7857 - fp: 923.2857 - tn: 2212.1429 - fn: 7738.9286 - accuracy: 0.3303 - precision: 0.8119 - recall: 0.3456 - auc: 0.5757 - prc: 0.8299 - val_loss: 0.0000e+00 - val_tp: 1577.0000 - val_fp: 308.0000 - val_tn: 965.0000 - val_fn: 3308.0000 - val_accuracy: 0.3266 - val_precision: 0.8366 - val_recall: 0.3228 - val_auc: 0.6134 - val_prc: 0.8490\n",
      "Epoch 5/100\n",
      "13/13 [==============================] - 0s 5ms/step - loss: 0.0000e+00 - tp: 3779.0000 - fp: 831.1429 - tn: 2334.0714 - fn: 7984.9286 - accuracy: 0.3241 - precision: 0.8183 - recall: 0.3228 - auc: 0.5849 - prc: 0.8288 - val_loss: 0.0000e+00 - val_tp: 1501.0000 - val_fp: 290.0000 - val_tn: 983.0000 - val_fn: 3384.0000 - val_accuracy: 0.3180 - val_precision: 0.8381 - val_recall: 0.3073 - val_auc: 0.6189 - val_prc: 0.8481\n",
      "Epoch 6/100\n",
      "13/13 [==============================] - 0s 5ms/step - loss: 0.0000e+00 - tp: 3589.2143 - fp: 789.7143 - tn: 2345.7857 - fn: 8204.4286 - accuracy: 0.3102 - precision: 0.8215 - recall: 0.3052 - auc: 0.5948 - prc: 0.8334 - val_loss: 0.0000e+00 - val_tp: 1442.0000 - val_fp: 287.0000 - val_tn: 986.0000 - val_fn: 3443.0000 - val_accuracy: 0.3100 - val_precision: 0.8340 - val_recall: 0.2952 - val_auc: 0.6205 - val_prc: 0.8471\n",
      "Epoch 7/100\n",
      "13/13 [==============================] - 0s 5ms/step - loss: 0.0000e+00 - tp: 3442.4286 - fp: 789.3571 - tn: 2375.2143 - fn: 8322.1429 - accuracy: 0.3089 - precision: 0.8149 - recall: 0.2954 - auc: 0.5949 - prc: 0.8280 - val_loss: 0.0000e+00 - val_tp: 1371.0000 - val_fp: 282.0000 - val_tn: 991.0000 - val_fn: 3514.0000 - val_accuracy: 0.3006 - val_precision: 0.8294 - val_recall: 0.2807 - val_auc: 0.6217 - val_prc: 0.8474\n",
      "Epoch 8/100\n",
      "13/13 [==============================] - 0s 4ms/step - loss: 0.0000e+00 - tp: 3258.7857 - fp: 787.0000 - tn: 2391.5714 - fn: 8491.7857 - accuracy: 0.2981 - precision: 0.8010 - recall: 0.2784 - auc: 0.5908 - prc: 0.8229 - val_loss: 0.0000e+00 - val_tp: 1319.0000 - val_fp: 270.0000 - val_tn: 1003.0000 - val_fn: 3566.0000 - val_accuracy: 0.2962 - val_precision: 0.8301 - val_recall: 0.2700 - val_auc: 0.6143 - val_prc: 0.8456\n",
      "Epoch 9/100\n",
      "13/13 [==============================] - 0s 5ms/step - loss: 0.0000e+00 - tp: 3114.5714 - fp: 736.6429 - tn: 2424.5000 - fn: 8653.4286 - accuracy: 0.2939 - precision: 0.8140 - recall: 0.2648 - auc: 0.5937 - prc: 0.8295 - val_loss: 0.0000e+00 - val_tp: 1269.0000 - val_fp: 265.0000 - val_tn: 1008.0000 - val_fn: 3616.0000 - val_accuracy: 0.2900 - val_precision: 0.8272 - val_recall: 0.2598 - val_auc: 0.6169 - val_prc: 0.8451\n",
      "Epoch 10/100\n",
      "13/13 [==============================] - 0s 5ms/step - loss: 0.0000e+00 - tp: 3063.2857 - fp: 715.0714 - tn: 2451.7143 - fn: 8699.0714 - accuracy: 0.2927 - precision: 0.8109 - recall: 0.2598 - auc: 0.6005 - prc: 0.8275 - val_loss: 0.0000e+00 - val_tp: 1249.0000 - val_fp: 245.0000 - val_tn: 1028.0000 - val_fn: 3636.0000 - val_accuracy: 0.2917 - val_precision: 0.8360 - val_recall: 0.2557 - val_auc: 0.6079 - val_prc: 0.8381\n",
      "Epoch 11/100\n",
      "13/13 [==============================] - 0s 5ms/step - loss: 0.0000e+00 - tp: 2982.7857 - fp: 675.9286 - tn: 2496.7857 - fn: 8773.6429 - accuracy: 0.2930 - precision: 0.8169 - recall: 0.2555 - auc: 0.5967 - prc: 0.8220 - val_loss: 0.0000e+00 - val_tp: 1212.0000 - val_fp: 225.0000 - val_tn: 1048.0000 - val_fn: 3673.0000 - val_accuracy: 0.2908 - val_precision: 0.8434 - val_recall: 0.2481 - val_auc: 0.6061 - val_prc: 0.8376\n",
      "Epoch 12/100\n",
      "13/13 [==============================] - 0s 4ms/step - loss: 0.0000e+00 - tp: 2854.6429 - fp: 601.9286 - tn: 2556.7857 - fn: 8915.7857 - accuracy: 0.2897 - precision: 0.8256 - recall: 0.2410 - auc: 0.5894 - prc: 0.8216 - val_loss: 0.0000e+00 - val_tp: 1188.0000 - val_fp: 208.0000 - val_tn: 1065.0000 - val_fn: 3697.0000 - val_accuracy: 0.2905 - val_precision: 0.8510 - val_recall: 0.2432 - val_auc: 0.6044 - val_prc: 0.8392\n",
      "Epoch 13/100\n",
      "13/13 [==============================] - 0s 5ms/step - loss: 0.0000e+00 - tp: 2843.0714 - fp: 604.0714 - tn: 2532.0714 - fn: 8949.9286 - accuracy: 0.2866 - precision: 0.8245 - recall: 0.2386 - auc: 0.5794 - prc: 0.8205 - val_loss: 0.0000e+00 - val_tp: 1182.0000 - val_fp: 215.0000 - val_tn: 1058.0000 - val_fn: 3703.0000 - val_accuracy: 0.2873 - val_precision: 0.8461 - val_recall: 0.2420 - val_auc: 0.5963 - val_prc: 0.8377\n",
      "Epoch 14/100\n",
      "13/13 [==============================] - 0s 5ms/step - loss: 0.0000e+00 - tp: 2807.9286 - fp: 606.2143 - tn: 2583.5000 - fn: 8931.5000 - accuracy: 0.2890 - precision: 0.8207 - recall: 0.2406 - auc: 0.5772 - prc: 0.8174 - val_loss: 0.0000e+00 - val_tp: 1160.0000 - val_fp: 199.0000 - val_tn: 1074.0000 - val_fn: 3725.0000 - val_accuracy: 0.2874 - val_precision: 0.8536 - val_recall: 0.2375 - val_auc: 0.5953 - val_prc: 0.8392\n",
      "Restoring model weights from the end of the best epoch.\n",
      "Epoch 00014: early stopping\n"
     ]
    }
   ],
   "source": [
    "history = model.fit(\n",
    "    train_features,\n",
    "    train_labels,\n",
    "    batch_size=BATCH_SIZE,\n",
    "    epochs=EPOCHS,\n",
    "    callbacks=[early_stopping],\n",
    "    validation_data=(val_features, val_labels))"
   ]
  },
  {
   "cell_type": "code",
   "execution_count": null,
   "id": "weighted-drilling",
   "metadata": {},
   "outputs": [],
   "source": []
  },
  {
   "cell_type": "code",
   "execution_count": 17,
   "id": "removed-telescope",
   "metadata": {},
   "outputs": [],
   "source": [
    "from sklearn.metrics import confusion_matrix\n",
    "import matplotlib.pyplot as plt\n",
    "import seaborn as sns\n",
    "\n",
    "\n",
    "def plot_cm(labels, predictions, p=0.5):\n",
    "    cm = confusion_matrix(labels, predictions > p)\n",
    "    plt.figure(figsize=(5,5))\n",
    "    sns.heatmap(cm, annot=True, fmt=\"d\")\n",
    "    plt.title('Confusion matrix @{:.2f}'.format(p))\n",
    "    plt.ylabel('Actual label')\n",
    "    plt.xlabel('Predicted label')"
   ]
  },
  {
   "cell_type": "code",
   "execution_count": 18,
   "id": "induced-ministry",
   "metadata": {},
   "outputs": [],
   "source": [
    "train_predictions_baseline = model.predict(train_features, batch_size=BATCH_SIZE)\n",
    "test_predictions_baseline = model.predict(test_features, batch_size=BATCH_SIZE)"
   ]
  },
  {
   "cell_type": "code",
   "execution_count": 19,
   "id": "synthetic-comedy",
   "metadata": {},
   "outputs": [
    {
     "name": "stdout",
     "output_type": "stream",
     "text": [
      "loss :  0.0\n",
      "tp :  2043.0\n",
      "fp :  391.0\n",
      "tn :  1215.0\n",
      "fn :  4049.0\n",
      "accuracy :  0.3321641981601715\n",
      "precision :  0.8393591046333313\n",
      "recall :  0.3353578448295593\n",
      "auc :  0.6137853264808655\n",
      "prc :  0.8477704524993896\n",
      "\n"
     ]
    },
    {
     "data": {
      "image/png": "[encoded data removed]",
      "text/plain": [
       "<Figure size 360x360 with 2 Axes>"
      ]
     },
     "metadata": {
      "needs_background": "light"
     },
     "output_type": "display_data"
    }
   ],
   "source": [
    "results = model.evaluate(test_features, test_labels, batch_size=BATCH_SIZE, verbose=0)\n",
    "for name, value in zip(model.metrics_names, results):\n",
    "  print(name, ': ', value)\n",
    "print()\n",
    "\n",
    "plot_cm(test_labels, test_predictions_baseline)\n",
    "\n",
    "#plot_cm(train_labels, train_predictions_baseline)"
   ]
  },
  {
   "cell_type": "code",
   "execution_count": 20,
   "id": "future-adjustment",
   "metadata": {},
   "outputs": [],
   "source": [
    "# Class weights"
   ]
  },
  {
   "cell_type": "code",
   "execution_count": 21,
   "id": "ordinary-practice",
   "metadata": {},
   "outputs": [
    {
     "name": "stdout",
     "output_type": "stream",
     "text": [
      "Weight for class 0: 1.58\n",
      "Weight for class 1: 0.55\n",
      "Weight for class 2: 1.80\n"
     ]
    }
   ],
   "source": [
    "weight_for_0 = (1 / start_0)*(len(raw_data))/3.0 \n",
    "weight_for_1 = (1 / mid_1)*(len(raw_data))/3.0\n",
    "weight_for_2 = (1 / end_2)*(len(raw_data))/3.0\n",
    "\n",
    "class_weight = {0: weight_for_0, 1: weight_for_1, 2: weight_for_2}\n",
    "\n",
    "print('Weight for class 0: {:.2f}'.format(weight_for_0))\n",
    "print('Weight for class 1: {:.2f}'.format(weight_for_1))\n",
    "print('Weight for class 2: {:.2f}'.format(weight_for_2))"
   ]
  },
  {
   "cell_type": "code",
   "execution_count": 22,
   "id": "worse-pocket",
   "metadata": {},
   "outputs": [
    {
     "name": "stdout",
     "output_type": "stream",
     "text": [
      "WARNING:tensorflow:From /usr/local/lib/python3.9/site-packages/tensorflow/python/ops/array_ops.py:5043: calling gather (from tensorflow.python.ops.array_ops) with validate_indices is deprecated and will be removed in a future version.\n",
      "Instructions for updating:\n",
      "The `validate_indices` argument has no effect. Indices are always validated on CPU and never validated on GPU.\n",
      "Epoch 1/100\n",
      "13/13 [==============================] - 2s 71ms/step - loss: 0.0000e+00 - tp: 10451.3571 - fp: 2287.8571 - tn: 2452.6429 - fn: 7435.2857 - accuracy: 0.4476 - precision: 0.8220 - recall: 0.5717 - auc: 0.5296 - prc: 0.7963 - val_loss: 0.0000e+00 - val_tp: 2573.0000 - val_fp: 543.0000 - val_tn: 730.0000 - val_fn: 2312.0000 - val_accuracy: 0.4279 - val_precision: 0.8257 - val_recall: 0.5267 - val_auc: 0.5552 - val_prc: 0.8060\n",
      "Epoch 2/100\n",
      "13/13 [==============================] - 0s 5ms/step - loss: 0.0000e+00 - tp: 6023.7143 - fp: 1410.5714 - tn: 1751.0714 - fn: 5743.7857 - accuracy: 0.4139 - precision: 0.8106 - recall: 0.5152 - auc: 0.5330 - prc: 0.7944 - val_loss: 0.0000e+00 - val_tp: 2265.0000 - val_fp: 493.0000 - val_tn: 780.0000 - val_fn: 2620.0000 - val_accuracy: 0.3910 - val_precision: 0.8212 - val_recall: 0.4637 - val_auc: 0.5798 - val_prc: 0.8285\n",
      "Epoch 3/100\n",
      "13/13 [==============================] - 0s 5ms/step - loss: 0.0000e+00 - tp: 5175.6429 - fp: 1320.7857 - tn: 1877.5000 - fn: 6555.2143 - accuracy: 0.3763 - precision: 0.7967 - recall: 0.4444 - auc: 0.5530 - prc: 0.8097 - val_loss: 0.0000e+00 - val_tp: 1987.0000 - val_fp: 465.0000 - val_tn: 808.0000 - val_fn: 2898.0000 - val_accuracy: 0.3550 - val_precision: 0.8104 - val_recall: 0.4068 - val_auc: 0.5947 - val_prc: 0.8393\n",
      "Epoch 4/100\n",
      "13/13 [==============================] - 0s 5ms/step - loss: 0.0000e+00 - tp: 4708.2857 - fp: 1225.0000 - tn: 1952.5000 - fn: 7043.3571 - accuracy: 0.3503 - precision: 0.7926 - recall: 0.4035 - auc: 0.5690 - prc: 0.8217 - val_loss: 0.0000e+00 - val_tp: 1864.0000 - val_fp: 365.0000 - val_tn: 908.0000 - val_fn: 3021.0000 - val_accuracy: 0.3545 - val_precision: 0.8362 - val_recall: 0.3816 - val_auc: 0.6021 - val_prc: 0.8418\n",
      "Epoch 5/100\n",
      "13/13 [==============================] - 0s 5ms/step - loss: 0.0000e+00 - tp: 4368.2143 - fp: 939.7143 - tn: 2228.6429 - fn: 7392.5714 - accuracy: 0.3493 - precision: 0.8199 - recall: 0.3710 - auc: 0.5727 - prc: 0.8208 - val_loss: 0.0000e+00 - val_tp: 1725.0000 - val_fp: 333.0000 - val_tn: 940.0000 - val_fn: 3160.0000 - val_accuracy: 0.3387 - val_precision: 0.8382 - val_recall: 0.3531 - val_auc: 0.6093 - val_prc: 0.8415\n",
      "Epoch 6/100\n",
      "13/13 [==============================] - 0s 5ms/step - loss: 0.0000e+00 - tp: 4120.7857 - fp: 907.2143 - tn: 2238.2143 - fn: 7662.9286 - accuracy: 0.3349 - precision: 0.8209 - recall: 0.3505 - auc: 0.5823 - prc: 0.8232 - val_loss: 0.0000e+00 - val_tp: 1664.0000 - val_fp: 317.0000 - val_tn: 956.0000 - val_fn: 3221.0000 - val_accuracy: 0.3332 - val_precision: 0.8400 - val_recall: 0.3406 - val_auc: 0.6114 - val_prc: 0.8393\n",
      "Epoch 7/100\n",
      "13/13 [==============================] - 0s 5ms/step - loss: 0.0000e+00 - tp: 3969.7857 - fp: 873.7143 - tn: 2320.2857 - fn: 7765.3571 - accuracy: 0.3311 - precision: 0.8216 - recall: 0.3414 - auc: 0.5890 - prc: 0.8196 - val_loss: 0.0000e+00 - val_tp: 1588.0000 - val_fp: 316.0000 - val_tn: 957.0000 - val_fn: 3297.0000 - val_accuracy: 0.3219 - val_precision: 0.8340 - val_recall: 0.3251 - val_auc: 0.6122 - val_prc: 0.8372\n",
      "Epoch 8/100\n",
      "13/13 [==============================] - 0s 5ms/step - loss: 0.0000e+00 - tp: 3837.2857 - fp: 846.4286 - tn: 2297.7143 - fn: 7947.7143 - accuracy: 0.3193 - precision: 0.8212 - recall: 0.3258 - auc: 0.5898 - prc: 0.8207 - val_loss: 0.0000e+00 - val_tp: 1563.0000 - val_fp: 324.0000 - val_tn: 949.0000 - val_fn: 3322.0000 - val_accuracy: 0.3146 - val_precision: 0.8283 - val_recall: 0.3200 - val_auc: 0.6100 - val_prc: 0.8311\n",
      "Epoch 9/100\n",
      "13/13 [==============================] - 0s 5ms/step - loss: 0.0000e+00 - tp: 3756.2143 - fp: 887.0000 - tn: 2276.0714 - fn: 8009.8571 - accuracy: 0.3121 - precision: 0.8097 - recall: 0.3197 - auc: 0.5811 - prc: 0.8071 - val_loss: 0.0000e+00 - val_tp: 1518.0000 - val_fp: 326.0000 - val_tn: 947.0000 - val_fn: 3367.0000 - val_accuracy: 0.3061 - val_precision: 0.8232 - val_recall: 0.3107 - val_auc: 0.5992 - val_prc: 0.8160\n",
      "Epoch 10/100\n",
      "13/13 [==============================] - 0s 5ms/step - loss: 0.0000e+00 - tp: 3590.3571 - fp: 885.8571 - tn: 2293.8571 - fn: 8159.0714 - accuracy: 0.3012 - precision: 0.8016 - recall: 0.3050 - auc: 0.5747 - prc: 0.7961 - val_loss: 0.0000e+00 - val_tp: 1467.0000 - val_fp: 327.0000 - val_tn: 946.0000 - val_fn: 3418.0000 - val_accuracy: 0.2977 - val_precision: 0.8177 - val_recall: 0.3003 - val_auc: 0.5960 - val_prc: 0.8150\n",
      "Epoch 11/100\n",
      "13/13 [==============================] - 0s 5ms/step - loss: 0.0000e+00 - tp: 3530.9286 - fp: 880.1429 - tn: 2274.9286 - fn: 8243.1429 - accuracy: 0.2969 - precision: 0.8025 - recall: 0.3017 - auc: 0.5818 - prc: 0.8012 - val_loss: 0.0000e+00 - val_tp: 1434.0000 - val_fp: 329.0000 - val_tn: 944.0000 - val_fn: 3451.0000 - val_accuracy: 0.2918 - val_precision: 0.8134 - val_recall: 0.2936 - val_auc: 0.5961 - val_prc: 0.8168\n",
      "Epoch 12/100\n",
      "13/13 [==============================] - 0s 5ms/step - loss: 0.0000e+00 - tp: 3407.4286 - fp: 899.2857 - tn: 2277.8571 - fn: 8344.5714 - accuracy: 0.2884 - precision: 0.7920 - recall: 0.2912 - auc: 0.5767 - prc: 0.7986 - val_loss: 0.0000e+00 - val_tp: 1373.0000 - val_fp: 331.0000 - val_tn: 942.0000 - val_fn: 3512.0000 - val_accuracy: 0.2816 - val_precision: 0.8058 - val_recall: 0.2811 - val_auc: 0.5909 - val_prc: 0.8164\n",
      "Epoch 13/100\n",
      "13/13 [==============================] - 0s 5ms/step - loss: 0.0000e+00 - tp: 3267.4286 - fp: 888.5714 - tn: 2288.5000 - fn: 8484.6429 - accuracy: 0.2812 - precision: 0.7886 - recall: 0.2819 - auc: 0.5757 - prc: 0.8011 - val_loss: 0.0000e+00 - val_tp: 1362.0000 - val_fp: 330.0000 - val_tn: 943.0000 - val_fn: 3523.0000 - val_accuracy: 0.2796 - val_precision: 0.8050 - val_recall: 0.2788 - val_auc: 0.5850 - val_prc: 0.8158\n",
      "Epoch 14/100\n",
      "13/13 [==============================] - 0s 5ms/step - loss: 0.0000e+00 - tp: 3300.0714 - fp: 888.7857 - tn: 2262.8571 - fn: 8477.4286 - accuracy: 0.2768 - precision: 0.7878 - recall: 0.2788 - auc: 0.5654 - prc: 0.8018 - val_loss: 0.0000e+00 - val_tp: 1420.0000 - val_fp: 334.0000 - val_tn: 939.0000 - val_fn: 3465.0000 - val_accuracy: 0.2882 - val_precision: 0.8096 - val_recall: 0.2907 - val_auc: 0.5791 - val_prc: 0.8154\n",
      "Restoring model weights from the end of the best epoch.\n",
      "Epoch 00014: early stopping\n"
     ]
    }
   ],
   "source": [
    "weighted_model = make_model()\n",
    "weighted_model.load_weights(initial_weights)\n",
    "\n",
    "weighted_history = weighted_model.fit(\n",
    "    train_features,\n",
    "    train_labels,\n",
    "    batch_size=BATCH_SIZE,\n",
    "    epochs=EPOCHS,\n",
    "    callbacks=[early_stopping],\n",
    "    validation_data=(val_features, val_labels),\n",
    "    # The class weights go here\n",
    "    class_weight=class_weight)"
   ]
  },
  {
   "cell_type": "code",
   "execution_count": 23,
   "id": "integrated-burns",
   "metadata": {},
   "outputs": [],
   "source": [
    "train_predictions_weighted = weighted_model.predict(train_features, batch_size=BATCH_SIZE)\n",
    "test_predictions_weighted = weighted_model.predict(test_features, batch_size=BATCH_SIZE)"
   ]
  },
  {
   "cell_type": "code",
   "execution_count": 24,
   "id": "realistic-combination",
   "metadata": {},
   "outputs": [
    {
     "name": "stdout",
     "output_type": "stream",
     "text": [
      "loss :  0.0\n",
      "tp :  2393.0\n",
      "fp :  470.0\n",
      "tn :  1136.0\n",
      "fn :  3699.0\n",
      "accuracy :  0.35710573196411133\n",
      "precision :  0.8358365297317505\n",
      "recall :  0.39281025528907776\n",
      "auc :  0.6020097732543945\n",
      "prc :  0.8406197428703308\n",
      "\n"
     ]
    },
    {
     "data": {
      "image/png": "[encoded data removed]",
      "text/plain": [
       "<Figure size 360x360 with 2 Axes>"
      ]
     },
     "metadata": {
      "needs_background": "light"
     },
     "output_type": "display_data"
    }
   ],
   "source": [
    "weighted_results = weighted_model.evaluate(test_features, test_labels,\n",
    "                                           batch_size=BATCH_SIZE, verbose=0)\n",
    "for name, value in zip(weighted_model.metrics_names, weighted_results):\n",
    "  print(name, ': ', value)\n",
    "print()\n",
    "\n",
    "plot_cm(test_labels, test_predictions_weighted)"
   ]
  },
  {
   "cell_type": "markdown",
   "id": "micro-receiver",
   "metadata": {},
   "source": [
    "# over sample"
   ]
  },
  {
   "cell_type": "code",
   "execution_count": 25,
   "id": "artistic-public",
   "metadata": {},
   "outputs": [
    {
     "name": "stdout",
     "output_type": "stream",
     "text": [
      "(44544, 26) (44544,)\n"
     ]
    }
   ],
   "source": [
    "from imblearn.over_sampling import SMOTE\n",
    "\n",
    "oversample = SMOTE()\n",
    "train_features_sm, train_labels_sm = oversample.fit_resample(train_features, train_labels)\n",
    "print(train_features_sm.shape,train_labels_sm.shape)"
   ]
  },
  {
   "cell_type": "code",
   "execution_count": 26,
   "id": "wired-miracle",
   "metadata": {},
   "outputs": [
    {
     "name": "stdout",
     "output_type": "stream",
     "text": [
      "Model: \"sequential_2\"\n",
      "_________________________________________________________________\n",
      "Layer (type)                 Output Shape              Param #   \n",
      "=================================================================\n",
      "dense_6 (Dense)              (None, 16)                432       \n",
      "_________________________________________________________________\n",
      "dense_7 (Dense)              (None, 32)                544       \n",
      "_________________________________________________________________\n",
      "dense_8 (Dense)              (None, 1)                 33        \n",
      "=================================================================\n",
      "Total params: 1,009\n",
      "Trainable params: 1,009\n",
      "Non-trainable params: 0\n",
      "_________________________________________________________________\n"
     ]
    }
   ],
   "source": [
    "os_model = make_model()\n",
    "os_model.load_weights(initial_weights)\n",
    "os_model.summary()"
   ]
  },
  {
   "cell_type": "code",
   "execution_count": 27,
   "id": "second-senior",
   "metadata": {},
   "outputs": [
    {
     "name": "stdout",
     "output_type": "stream",
     "text": [
      "Epoch 1/100\n",
      "22/22 [==============================] - 2s 42ms/step - loss: 0.0000e+00 - tp: 12654.3478 - fp: 4861.6087 - tn: 4898.0000 - fn: 9726.4783 - accuracy: 0.3601 - precision: 0.7296 - recall: 0.5632 - auc: 0.5154 - prc: 0.7278 - val_loss: 0.0000e+00 - val_tp: 2284.0000 - val_fp: 492.0000 - val_tn: 781.0000 - val_fn: 2601.0000 - val_accuracy: 0.3935 - val_precision: 0.8228 - val_recall: 0.4676 - val_auc: 0.5722 - val_prc: 0.8227\n",
      "Epoch 2/100\n",
      "22/22 [==============================] - 0s 4ms/step - loss: 0.0000e+00 - tp: 7831.3478 - fp: 3424.1304 - tn: 4716.7391 - fn: 8470.2174 - accuracy: 0.3330 - precision: 0.6971 - recall: 0.4849 - auc: 0.5671 - prc: 0.7378 - val_loss: 0.0000e+00 - val_tp: 1929.0000 - val_fp: 452.0000 - val_tn: 821.0000 - val_fn: 2956.0000 - val_accuracy: 0.3477 - val_precision: 0.8102 - val_recall: 0.3949 - val_auc: 0.5955 - val_prc: 0.8385\n",
      "Epoch 3/100\n",
      "22/22 [==============================] - 0s 4ms/step - loss: 0.0000e+00 - tp: 6970.4348 - fp: 2864.7826 - tn: 5265.4348 - fn: 9341.7826 - accuracy: 0.3217 - precision: 0.7023 - recall: 0.4288 - auc: 0.5817 - prc: 0.7484 - val_loss: 0.0000e+00 - val_tp: 1690.0000 - val_fp: 330.0000 - val_tn: 943.0000 - val_fn: 3195.0000 - val_accuracy: 0.3348 - val_precision: 0.8366 - val_recall: 0.3460 - val_auc: 0.6120 - val_prc: 0.8402\n",
      "Epoch 4/100\n",
      "22/22 [==============================] - 0s 4ms/step - loss: 0.0000e+00 - tp: 6457.4783 - fp: 2331.7391 - tn: 5811.6522 - fn: 9841.5652 - accuracy: 0.3388 - precision: 0.7365 - recall: 0.4005 - auc: 0.5986 - prc: 0.7462 - val_loss: 0.0000e+00 - val_tp: 1573.0000 - val_fp: 312.0000 - val_tn: 961.0000 - val_fn: 3312.0000 - val_accuracy: 0.3204 - val_precision: 0.8345 - val_recall: 0.3220 - val_auc: 0.6127 - val_prc: 0.8368\n",
      "Epoch 5/100\n",
      "22/22 [==============================] - 0s 5ms/step - loss: 0.0000e+00 - tp: 6155.7826 - fp: 2278.3478 - tn: 5909.5217 - fn: 10098.7826 - accuracy: 0.3337 - precision: 0.7325 - recall: 0.3814 - auc: 0.5986 - prc: 0.7372 - val_loss: 0.0000e+00 - val_tp: 1481.0000 - val_fp: 316.0000 - val_tn: 957.0000 - val_fn: 3404.0000 - val_accuracy: 0.3037 - val_precision: 0.8242 - val_recall: 0.3032 - val_auc: 0.5982 - val_prc: 0.8180\n",
      "Epoch 6/100\n",
      "22/22 [==============================] - 0s 4ms/step - loss: 0.0000e+00 - tp: 5944.2174 - fp: 2276.9130 - tn: 5889.4348 - fn: 10331.8696 - accuracy: 0.3202 - precision: 0.7230 - recall: 0.3644 - auc: 0.5786 - prc: 0.7040 - val_loss: 0.0000e+00 - val_tp: 1411.0000 - val_fp: 315.0000 - val_tn: 958.0000 - val_fn: 3474.0000 - val_accuracy: 0.2918 - val_precision: 0.8175 - val_recall: 0.2888 - val_auc: 0.5951 - val_prc: 0.8170\n",
      "Epoch 7/100\n",
      "22/22 [==============================] - 0s 4ms/step - loss: 0.0000e+00 - tp: 5832.9565 - fp: 2232.1739 - tn: 5915.9565 - fn: 10461.3478 - accuracy: 0.3186 - precision: 0.7264 - recall: 0.3615 - auc: 0.5921 - prc: 0.7127 - val_loss: 0.0000e+00 - val_tp: 1304.0000 - val_fp: 305.0000 - val_tn: 968.0000 - val_fn: 3581.0000 - val_accuracy: 0.2762 - val_precision: 0.8104 - val_recall: 0.2669 - val_auc: 0.5836 - val_prc: 0.8160\n",
      "Epoch 8/100\n",
      "22/22 [==============================] - 0s 4ms/step - loss: 0.0000e+00 - tp: 5428.7826 - fp: 2187.5652 - tn: 5945.3043 - fn: 10880.7826 - accuracy: 0.3042 - precision: 0.7130 - recall: 0.3340 - auc: 0.5763 - prc: 0.7067 - val_loss: 0.0000e+00 - val_tp: 1211.0000 - val_fp: 301.0000 - val_tn: 972.0000 - val_fn: 3674.0000 - val_accuracy: 0.2621 - val_precision: 0.8009 - val_recall: 0.2479 - val_auc: 0.5620 - val_prc: 0.8113\n",
      "Epoch 9/100\n",
      "22/22 [==============================] - 0s 4ms/step - loss: 0.0000e+00 - tp: 5308.7826 - fp: 2182.4783 - tn: 5987.2174 - fn: 10963.9565 - accuracy: 0.2987 - precision: 0.7044 - recall: 0.3256 - auc: 0.5606 - prc: 0.6986 - val_loss: 0.0000e+00 - val_tp: 1195.0000 - val_fp: 293.0000 - val_tn: 980.0000 - val_fn: 3690.0000 - val_accuracy: 0.2608 - val_precision: 0.8031 - val_recall: 0.2446 - val_auc: 0.5441 - val_prc: 0.8072\n",
      "Epoch 10/100\n",
      "22/22 [==============================] - 0s 4ms/step - loss: 0.0000e+00 - tp: 5282.3043 - fp: 2130.6522 - tn: 5966.7391 - fn: 11062.7391 - accuracy: 0.2957 - precision: 0.7143 - recall: 0.3224 - auc: 0.5530 - prc: 0.7016 - val_loss: 0.0000e+00 - val_tp: 1173.0000 - val_fp: 287.0000 - val_tn: 986.0000 - val_fn: 3712.0000 - val_accuracy: 0.2582 - val_precision: 0.8034 - val_recall: 0.2401 - val_auc: 0.5388 - val_prc: 0.8066\n",
      "Epoch 11/100\n",
      "22/22 [==============================] - 0s 4ms/step - loss: 0.0000e+00 - tp: 5193.6957 - fp: 2089.1739 - tn: 6040.2609 - fn: 11119.3043 - accuracy: 0.2990 - precision: 0.7173 - recall: 0.3196 - auc: 0.5513 - prc: 0.7015 - val_loss: 0.0000e+00 - val_tp: 1137.0000 - val_fp: 278.0000 - val_tn: 995.0000 - val_fn: 3748.0000 - val_accuracy: 0.2541 - val_precision: 0.8035 - val_recall: 0.2328 - val_auc: 0.5306 - val_prc: 0.8047\n",
      "Epoch 12/100\n",
      "22/22 [==============================] - 0s 4ms/step - loss: 0.0000e+00 - tp: 5101.1304 - fp: 2038.8696 - tn: 6082.8261 - fn: 11219.6087 - accuracy: 0.2980 - precision: 0.7125 - recall: 0.3108 - auc: 0.5405 - prc: 0.6961 - val_loss: 0.0000e+00 - val_tp: 1119.0000 - val_fp: 272.0000 - val_tn: 1001.0000 - val_fn: 3766.0000 - val_accuracy: 0.2525 - val_precision: 0.8045 - val_recall: 0.2291 - val_auc: 0.5226 - val_prc: 0.8022\n",
      "Epoch 13/100\n",
      "22/22 [==============================] - 0s 4ms/step - loss: 0.0000e+00 - tp: 5017.1304 - fp: 1990.1304 - tn: 6168.7391 - fn: 11266.4348 - accuracy: 0.2983 - precision: 0.7169 - recall: 0.3093 - auc: 0.5404 - prc: 0.6948 - val_loss: 0.0000e+00 - val_tp: 1094.0000 - val_fp: 264.0000 - val_tn: 1009.0000 - val_fn: 3791.0000 - val_accuracy: 0.2507 - val_precision: 0.8056 - val_recall: 0.2240 - val_auc: 0.5179 - val_prc: 0.8008\n",
      "Restoring model weights from the end of the best epoch.\n",
      "Epoch 00013: early stopping\n"
     ]
    }
   ],
   "source": [
    "history = os_model.fit(\n",
    "    train_features_sm,\n",
    "    train_labels_sm,\n",
    "    batch_size=BATCH_SIZE,\n",
    "    epochs=EPOCHS,\n",
    "    callbacks=[early_stopping],\n",
    "    validation_data=(val_features, val_labels))"
   ]
  },
  {
   "cell_type": "code",
   "execution_count": 28,
   "id": "mobile-listening",
   "metadata": {},
   "outputs": [],
   "source": [
    "train_predictions_os = os_model.predict(train_features_sm, batch_size=BATCH_SIZE)\n",
    "test_predictions_os = os_model.predict(test_features, batch_size=BATCH_SIZE)"
   ]
  },
  {
   "cell_type": "code",
   "execution_count": 29,
   "id": "selective-shell",
   "metadata": {},
   "outputs": [
    {
     "name": "stdout",
     "output_type": "stream",
     "text": [
      "loss :  0.0\n",
      "tp :  2188.0\n",
      "fp :  414.0\n",
      "tn :  1192.0\n",
      "fn :  3904.0\n",
      "accuracy :  0.3406079411506653\n",
      "precision :  0.8408915996551514\n",
      "recall :  0.35915955901145935\n",
      "auc :  0.6111099720001221\n",
      "prc :  0.8386220932006836\n",
      "\n"
     ]
    },
    {
     "data": {
      "image/png": "[encoded data removed]",
      "text/plain": [
       "<Figure size 360x360 with 2 Axes>"
      ]
     },
     "metadata": {
      "needs_background": "light"
     },
     "output_type": "display_data"
    }
   ],
   "source": [
    "results = os_model.evaluate(test_features, test_labels, batch_size=BATCH_SIZE, verbose=0)\n",
    "for name, value in zip(os_model.metrics_names, results):\n",
    "  print(name, ': ', value)\n",
    "print()\n",
    "\n",
    "plot_cm(test_labels, test_predictions_os)\n",
    "\n",
    "#plot_cm(train_labels, train_predictions_baseline)"
   ]
  },
  {
   "cell_type": "markdown",
   "id": "smooth-convenience",
   "metadata": {},
   "source": [
    "# Data aug"
   ]
  },
  {
   "cell_type": "code",
   "execution_count": 30,
   "id": "hawaiian-depression",
   "metadata": {},
   "outputs": [],
   "source": [
    "def mirrorY(raw_data, posenet=False):\n",
    "    \n",
    "    try:\n",
    "        aug_data_y_mirror = raw_data.copy()\n",
    "        \n",
    "        if posenet:\n",
    "            aug_data_y_mirror = aug_data_y_mirror.append(aug_data_y_mirror.assign(head_y=-aug_data_y_mirror['head_y'],\n",
    "                                                                                  leftShoulder_y=-aug_data_y_mirror['leftShoulder_y'], \n",
    "                                                                                  rightShoulder_y=-aug_data_y_mirror['rightShoulder_y'],\n",
    "                                                                                  leftElbow_y=-aug_data_y_mirror['leftElbow_y'],\n",
    "                                                                                  rightElbow_y=-aug_data_y_mirror['rightElbow_y'],\n",
    "                                                                                  leftWrist_y=-aug_data_y_mirror['leftWrist_y'],\n",
    "                                                                                  rightWrist_y=-aug_data_y_mirror['rightWrist_y'],\n",
    "                                                                                  leftHip_y=-aug_data_y_mirror['leftHip_y'],\n",
    "                                                                                  rightHip_y=-aug_data_y_mirror['rightHip_y'],\n",
    "                                                                                  leftKnee_y=-aug_data_y_mirror['leftKnee_y'],\n",
    "                                                                                  rightKnee_y=-aug_data_y_mirror['rightKnee_y'],\n",
    "                                                                                  leftAnkle_y=-aug_data_y_mirror['leftAnkle_y'],\n",
    "                                                                                  rightAnkle_y=-aug_data_y_mirror['rightAnkle_y']))\n",
    "        else:\n",
    "            aug_data_y_mirror = aug_data_y_mirror.append(aug_data_y_mirror.assign(head_y=-aug_data_y_mirror['head_y'],\n",
    "                                                                                  left_shoulder_y=-aug_data_y_mirror['left_shoulder_y'], \n",
    "                                                                                  left_elbow_y=-aug_data_y_mirror['left_elbow_y'],\n",
    "                                                                                  right_shoulder_y=-aug_data_y_mirror['right_shoulder_y'],\n",
    "                                                                                  right_elbow_y=-aug_data_y_mirror['right_elbow_y'],\n",
    "                                                                                  left_hand_y=-aug_data_y_mirror['left_hand_y'],\n",
    "                                                                                  right_hand_y=-aug_data_y_mirror['right_hand_y'],\n",
    "                                                                                  left_hip_y=-aug_data_y_mirror['left_hip_y'],\n",
    "                                                                                  right_hip_y=-aug_data_y_mirror['right_hip_y'],\n",
    "                                                                                  left_knee_y=-aug_data_y_mirror['left_knee_y'],\n",
    "                                                                                  right_knee_y=-aug_data_y_mirror['right_knee_y'],\n",
    "                                                                                  left_foot_y=-aug_data_y_mirror['left_foot_y'],\n",
    "                                                                                  right_foot_y=-aug_data_y_mirror['right_foot_y']))\n",
    "        \n",
    "        \n",
    "        #print(raw_data.shape)\n",
    "        #print(aug_data_y_mirror.shape)\n",
    "        return aug_data_y_mirror\n",
    "    \n",
    "    except IOError as e:\n",
    "        print(e)\n",
    "        return None"
   ]
  },
  {
   "cell_type": "code",
   "execution_count": 31,
   "id": "corrected-mainland",
   "metadata": {},
   "outputs": [],
   "source": [
    "def augMultiplier(raw_data, multiplier):\n",
    "    \n",
    "    try:\n",
    "        aug_data_offset = raw_data.copy()\n",
    "        #print(aug_data_offset.head())\n",
    "        aug_data_offset *= multiplier\n",
    "        #print(aug_data_offset.head())\n",
    "        return aug_data_y_mirror\n",
    "    \n",
    "    except IOError as e:\n",
    "        print(e)\n",
    "        return None"
   ]
  },
  {
   "cell_type": "code",
   "execution_count": 32,
   "id": "about-junction",
   "metadata": {},
   "outputs": [],
   "source": [
    "aug_data_y_mirror = mirrorY(raw_data, True)"
   ]
  },
  {
   "cell_type": "code",
   "execution_count": 33,
   "id": "velvet-martin",
   "metadata": {},
   "outputs": [],
   "source": [
    "aug_data_offset = augMultiplier(raw_data, multiplier=2)"
   ]
  },
  {
   "cell_type": "code",
   "execution_count": 34,
   "id": "imperial-security",
   "metadata": {},
   "outputs": [],
   "source": [
    "aug_data_offset = augMultiplier(raw_data, multiplier=0.5)"
   ]
  },
  {
   "cell_type": "code",
   "execution_count": null,
   "id": "facial-billy",
   "metadata": {},
   "outputs": [],
   "source": []
  }
 ],
 "metadata": {
  "kernelspec": {
   "display_name": "Python 3",
   "language": "python",
   "name": "python3"
  },
  "language_info": {
   "codemirror_mode": {
    "name": "ipython",
    "version": 3
   },
   "file_extension": ".py",
   "mimetype": "text/x-python",
   "name": "python",
   "nbconvert_exporter": "python",
   "pygments_lexer": "ipython3",
   "version": "3.9.2"
  }
 },
 "nbformat": 4,
 "nbformat_minor": 5
}
