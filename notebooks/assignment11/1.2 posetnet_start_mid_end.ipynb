{
 "cells": [
  {
   "cell_type": "markdown",
   "id": "aware-instrument",
   "metadata": {},
   "source": [
    "# Classify using start=0 mid = 1 end = 2"
   ]
  },
  {
   "cell_type": "code",
   "execution_count": 1,
   "id": "sunset-token",
   "metadata": {},
   "outputs": [],
   "source": [
    "import sys\n",
    "import pandas as pd\n",
    "import numpy as np"
   ]
  },
  {
   "cell_type": "markdown",
   "id": "copyrighted-recruitment",
   "metadata": {},
   "source": [
    "## 1. Read dataset"
   ]
  },
  {
   "cell_type": "code",
   "execution_count": 2,
   "id": "suspended-diary",
   "metadata": {},
   "outputs": [],
   "source": [
    "dirname = '../../datasets/marked_start_mid_end/'\n",
    "suffix = '.csv'\n",
    "\n",
    "def read_from_file( file_name, rand_num):\n",
    "    \n",
    "    try:\n",
    "        full_file_name = file_name + str(rand_num)\n",
    "\n",
    "        file_at_path = dirname + full_file_name + suffix\n",
    "\n",
    "        data = pd.read_csv(file_at_path)\n",
    "        \n",
    "        return data, full_file_name\n",
    "    \n",
    "    except IOError as e:\n",
    "        print(e)\n",
    "        return None,None"
   ]
  },
  {
   "cell_type": "markdown",
   "id": "alert-savage",
   "metadata": {},
   "source": [
    "## 2. Read files"
   ]
  },
  {
   "cell_type": "markdown",
   "id": "trained-timing",
   "metadata": {},
   "source": [
    "### 2.1 The A series (A1-A159)"
   ]
  },
  {
   "cell_type": "code",
   "execution_count": 3,
   "id": "consolidated-victoria",
   "metadata": {},
   "outputs": [
    {
     "name": "stdout",
     "output_type": "stream",
     "text": [
      "(229, 28)\n",
      "[Errno 2] No such file or directory: '../../datasets/marked_start_mid_end/A60.csv'\n",
      "[Errno 2] No such file or directory: '../../datasets/marked_start_mid_end/A107.csv'\n",
      "(33093, 28)\n"
     ]
    }
   ],
   "source": [
    "raw_data, full_file_name = read_from_file(\"A\", 1)\n",
    "\n",
    "#print(full_file_name)\n",
    "print(raw_data.shape)\n",
    "\n",
    "for i in range(2,160):\n",
    "    input_data, full_file_name = read_from_file(\"A\", i)\n",
    "    \n",
    "    if(full_file_name is None):\n",
    "        continue\n",
    "    else:\n",
    "        #print(full_file_name)\n",
    "        raw_data = raw_data.append(input_data, ignore_index = True)\n",
    "\n",
    "print(raw_data.shape)"
   ]
  },
  {
   "cell_type": "markdown",
   "id": "driven-graph",
   "metadata": {},
   "source": [
    "### 2.2 The B series (B1-B22)"
   ]
  },
  {
   "cell_type": "code",
   "execution_count": 4,
   "id": "reserved-victoria",
   "metadata": {},
   "outputs": [
    {
     "name": "stdout",
     "output_type": "stream",
     "text": [
      "(38488, 28)\n"
     ]
    }
   ],
   "source": [
    "for i in range(1,23):\n",
    "    input_data, full_file_name = read_from_file(\"B\", i)\n",
    "    \n",
    "    if(full_file_name is None):\n",
    "        continue\n",
    "    else:\n",
    "        #print(full_file_name)\n",
    "        raw_data = raw_data.append(input_data, ignore_index = True)\n",
    "\n",
    "print(raw_data.shape)"
   ]
  },
  {
   "cell_type": "code",
   "execution_count": 5,
   "id": "representative-savings",
   "metadata": {},
   "outputs": [
    {
     "name": "stdout",
     "output_type": "stream",
     "text": [
      "Frames:\n",
      "    Total: 38488\n",
      "    Before: 8108 (0.21% of total)\n",
      "    During: 23233 (0.60% of total)\n",
      "    After: 7147 (0.19% of total)\n",
      "\n"
     ]
    }
   ],
   "source": [
    "start_0, mid_1, end_2 = np.bincount(raw_data['status'])\n",
    "print(\n",
    "    'Frames:\\n    Total: {}\\n    Before: {} ({:.2f}% of total)\\n    During: {} ({:.2f}% of total)\\n    After: {} ({:.2f}% of total)\\n'\n",
    "    .format(\n",
    "      len(raw_data), \n",
    "      start_0,\n",
    "      start_0 / len(raw_data),\n",
    "      mid_1,\n",
    "      mid_1 / len(raw_data),\n",
    "      end_2,\n",
    "      end_2 / len(raw_data)\n",
    "    )\n",
    "  )"
   ]
  },
  {
   "cell_type": "code",
   "execution_count": 6,
   "id": "moving-steel",
   "metadata": {},
   "outputs": [
    {
     "data": {
      "text/plain": [
       "0          0\n",
       "1          1\n",
       "2          2\n",
       "3          3\n",
       "4          4\n",
       "        ... \n",
       "38483    235\n",
       "38484    236\n",
       "38485    237\n",
       "38486    238\n",
       "38487    239\n",
       "Name: FrameNo, Length: 38488, dtype: int64"
      ]
     },
     "execution_count": 6,
     "metadata": {},
     "output_type": "execute_result"
    }
   ],
   "source": [
    "cleaned_data = raw_data.copy()\n",
    "cleaned_data.pop( 'FrameNo')"
   ]
  },
  {
   "cell_type": "code",
   "execution_count": 7,
   "id": "fixed-socket",
   "metadata": {},
   "outputs": [],
   "source": [
    "# Use a utility from sklearn to split and shuffle our dataset.\n",
    "\n",
    "from sklearn.model_selection import train_test_split\n",
    "\n",
    "train_data, test_data = train_test_split(cleaned_data, test_size=0.2)\n",
    "train_data, val_data = train_test_split(train_data, test_size=0.2)\n",
    "\n",
    "# Form np arrays of labels and features.\n",
    "train_labels = np.array(train_data.pop('status'))\n",
    "val_labels = np.array(val_data.pop('status'))\n",
    "test_labels = np.array(test_data.pop('status'))\n",
    "\n",
    "train_features = np.array(train_data)\n",
    "val_features = np.array(val_data)\n",
    "test_features = np.array(test_data)"
   ]
  },
  {
   "cell_type": "markdown",
   "id": "upper-storm",
   "metadata": {},
   "source": [
    "### Normalization\n",
    "Normalize the input features using the sklearn StandardScaler. This will set the mean to 0 and standard deviation to 1."
   ]
  },
  {
   "cell_type": "code",
   "execution_count": 8,
   "id": "legitimate-length",
   "metadata": {},
   "outputs": [
    {
     "name": "stdout",
     "output_type": "stream",
     "text": [
      "Training labels shape: (24632,)\n",
      "Validation labels shape: (6158,)\n",
      "Test labels shape: (7698,)\n",
      "Training features shape: (24632, 26)\n",
      "Validation features shape: (6158, 26)\n",
      "Test features shape: (7698, 26)\n"
     ]
    }
   ],
   "source": [
    "from sklearn.preprocessing import StandardScaler\n",
    "\n",
    "scaler = StandardScaler()\n",
    "train_features = scaler.fit_transform(train_features)\n",
    "val_features = scaler.transform(val_features)\n",
    "test_features = scaler.transform(test_features)\n",
    "\n",
    "print('Training labels shape:', train_labels.shape)\n",
    "print('Validation labels shape:', val_labels.shape)\n",
    "print('Test labels shape:', test_labels.shape)\n",
    "\n",
    "print('Training features shape:', train_features.shape)\n",
    "print('Validation features shape:', val_features.shape)\n",
    "print('Test features shape:', test_features.shape)"
   ]
  },
  {
   "cell_type": "code",
   "execution_count": 9,
   "id": "adapted-porter",
   "metadata": {},
   "outputs": [
    {
     "name": "stdout",
     "output_type": "stream",
     "text": [
      "INFO:tensorflow:Enabling eager execution\n",
      "INFO:tensorflow:Enabling v2 tensorshape\n",
      "INFO:tensorflow:Enabling resource variables\n",
      "INFO:tensorflow:Enabling tensor equality\n",
      "INFO:tensorflow:Enabling control flow v2\n"
     ]
    }
   ],
   "source": [
    "import tensorflow as tf\n",
    "from tensorflow import keras"
   ]
  },
  {
   "cell_type": "code",
   "execution_count": 10,
   "id": "front-range",
   "metadata": {},
   "outputs": [],
   "source": [
    "METRICS = [\n",
    "      keras.metrics.TruePositives(name='tp'),\n",
    "      keras.metrics.FalsePositives(name='fp'),\n",
    "      keras.metrics.TrueNegatives(name='tn'),\n",
    "      keras.metrics.FalseNegatives(name='fn'), \n",
    "      keras.metrics.BinaryAccuracy(name='accuracy'),\n",
    "      keras.metrics.Precision(name='precision'),\n",
    "      keras.metrics.Recall(name='recall'),\n",
    "      keras.metrics.AUC(name='auc'),\n",
    "      keras.metrics.AUC(name='prc', curve='PR'), # precision-recall curve\n",
    "]"
   ]
  },
  {
   "cell_type": "code",
   "execution_count": 11,
   "id": "mediterranean-drinking",
   "metadata": {},
   "outputs": [],
   "source": [
    "def make_model(metrics=METRICS, optimizer='adam',loss = 'categorical_crossentropy'):\n",
    "    model = keras.Sequential([\n",
    "        keras.layers.Dense(units=39, activation='relu',input_dim=train_features.shape[-1]),\n",
    "        keras.layers.Dense(64, activation='relu' ),\n",
    "        keras.layers.Dense(64, activation='relu' ),\n",
    "        keras.layers.Dropout(0.2),\n",
    "        keras.layers.Dense(1, activation='softmax'),\n",
    "    ])\n",
    "    \n",
    "    model.compile(optimizer=optimizer, loss=loss, metrics=metrics)\n",
    "    #keras.losses.BinaryCrossentropy()\n",
    "    return model"
   ]
  },
  {
   "cell_type": "code",
   "execution_count": 12,
   "id": "controlled-oregon",
   "metadata": {},
   "outputs": [],
   "source": [
    "EPOCHS = 100\n",
    "BATCH_SIZE = 2048\n",
    "\n",
    "early_stopping = tf.keras.callbacks.EarlyStopping(monitor='val_prc', verbose=1,patience=10,mode='max',restore_best_weights=True)"
   ]
  },
  {
   "cell_type": "code",
   "execution_count": 13,
   "id": "peaceful-international",
   "metadata": {},
   "outputs": [
    {
     "name": "stdout",
     "output_type": "stream",
     "text": [
      "Model: \"sequential\"\n",
      "_________________________________________________________________\n",
      "Layer (type)                 Output Shape              Param #   \n",
      "=================================================================\n",
      "dense (Dense)                (None, 39)                1053      \n",
      "_________________________________________________________________\n",
      "dense_1 (Dense)              (None, 64)                2560      \n",
      "_________________________________________________________________\n",
      "dense_2 (Dense)              (None, 64)                4160      \n",
      "_________________________________________________________________\n",
      "dropout (Dropout)            (None, 64)                0         \n",
      "_________________________________________________________________\n",
      "dense_3 (Dense)              (None, 1)                 65        \n",
      "=================================================================\n",
      "Total params: 7,838\n",
      "Trainable params: 7,838\n",
      "Non-trainable params: 0\n",
      "_________________________________________________________________\n"
     ]
    }
   ],
   "source": [
    "model = make_model()\n",
    "model.summary()"
   ]
  },
  {
   "cell_type": "markdown",
   "id": "similar-israel",
   "metadata": {},
   "source": [
    "# Checkpoint the initial weights"
   ]
  },
  {
   "cell_type": "code",
   "execution_count": 14,
   "id": "laughing-western",
   "metadata": {},
   "outputs": [],
   "source": [
    "import os\n",
    "import tempfile\n",
    "\n",
    "initial_weights = os.path.join(tempfile.mkdtemp(), 'initial_weights')\n",
    "model.save_weights(initial_weights)"
   ]
  },
  {
   "cell_type": "code",
   "execution_count": null,
   "id": "intensive-oasis",
   "metadata": {},
   "outputs": [],
   "source": []
  },
  {
   "cell_type": "code",
   "execution_count": 15,
   "id": "olympic-investigator",
   "metadata": {},
   "outputs": [
    {
     "name": "stdout",
     "output_type": "stream",
     "text": [
      "Epoch 1/100\n",
      "13/13 [==============================] - 3s 78ms/step - loss: 0.0000e+00 - tp: 11743.2857 - fp: 3185.8571 - tn: 0.0000e+00 - fn: 0.0000e+00 - accuracy: 0.6006 - precision: 0.7867 - recall: 1.0000 - auc: 0.5000 - prc: 0.7867 - val_loss: 0.0000e+00 - val_tp: 4910.0000 - val_fp: 1248.0000 - val_tn: 0.0000e+00 - val_fn: 0.0000e+00 - val_accuracy: 0.6122 - val_precision: 0.7973 - val_recall: 1.0000 - val_auc: 0.5000 - val_prc: 0.7973\n",
      "Epoch 2/100\n",
      "13/13 [==============================] - 0s 7ms/step - loss: 0.0000e+00 - tp: 11771.4286 - fp: 3157.7143 - tn: 0.0000e+00 - fn: 0.0000e+00 - accuracy: 0.6009 - precision: 0.7880 - recall: 1.0000 - auc: 0.5000 - prc: 0.7880 - val_loss: 0.0000e+00 - val_tp: 4910.0000 - val_fp: 1248.0000 - val_tn: 0.0000e+00 - val_fn: 0.0000e+00 - val_accuracy: 0.6122 - val_precision: 0.7973 - val_recall: 1.0000 - val_auc: 0.5000 - val_prc: 0.7973\n",
      "Epoch 3/100\n",
      "13/13 [==============================] - 0s 7ms/step - loss: 0.0000e+00 - tp: 11768.1429 - fp: 3161.0000 - tn: 0.0000e+00 - fn: 0.0000e+00 - accuracy: 0.6036 - precision: 0.7887 - recall: 1.0000 - auc: 0.5000 - prc: 0.7887 - val_loss: 0.0000e+00 - val_tp: 4910.0000 - val_fp: 1248.0000 - val_tn: 0.0000e+00 - val_fn: 0.0000e+00 - val_accuracy: 0.6122 - val_precision: 0.7973 - val_recall: 1.0000 - val_auc: 0.5000 - val_prc: 0.7973\n",
      "Epoch 4/100\n",
      "13/13 [==============================] - 0s 8ms/step - loss: 0.0000e+00 - tp: 11765.7857 - fp: 3163.3571 - tn: 0.0000e+00 - fn: 0.0000e+00 - accuracy: 0.6015 - precision: 0.7879 - recall: 1.0000 - auc: 0.5000 - prc: 0.7879 - val_loss: 0.0000e+00 - val_tp: 4910.0000 - val_fp: 1248.0000 - val_tn: 0.0000e+00 - val_fn: 0.0000e+00 - val_accuracy: 0.6122 - val_precision: 0.7973 - val_recall: 1.0000 - val_auc: 0.5000 - val_prc: 0.7973\n",
      "Epoch 5/100\n",
      "13/13 [==============================] - 0s 8ms/step - loss: 0.0000e+00 - tp: 11745.7857 - fp: 3183.3571 - tn: 0.0000e+00 - fn: 0.0000e+00 - accuracy: 0.5994 - precision: 0.7850 - recall: 1.0000 - auc: 0.5000 - prc: 0.7850 - val_loss: 0.0000e+00 - val_tp: 4910.0000 - val_fp: 1248.0000 - val_tn: 0.0000e+00 - val_fn: 0.0000e+00 - val_accuracy: 0.6122 - val_precision: 0.7973 - val_recall: 1.0000 - val_auc: 0.5000 - val_prc: 0.7973\n",
      "Epoch 6/100\n",
      "13/13 [==============================] - 0s 7ms/step - loss: 0.0000e+00 - tp: 11753.8571 - fp: 3175.2857 - tn: 0.0000e+00 - fn: 0.0000e+00 - accuracy: 0.6028 - precision: 0.7869 - recall: 1.0000 - auc: 0.5000 - prc: 0.7869 - val_loss: 0.0000e+00 - val_tp: 4910.0000 - val_fp: 1248.0000 - val_tn: 0.0000e+00 - val_fn: 0.0000e+00 - val_accuracy: 0.6122 - val_precision: 0.7973 - val_recall: 1.0000 - val_auc: 0.5000 - val_prc: 0.7973\n",
      "Epoch 7/100\n",
      "13/13 [==============================] - 0s 8ms/step - loss: 0.0000e+00 - tp: 11788.7857 - fp: 3140.3571 - tn: 0.0000e+00 - fn: 0.0000e+00 - accuracy: 0.6046 - precision: 0.7906 - recall: 1.0000 - auc: 0.5000 - prc: 0.7906 - val_loss: 0.0000e+00 - val_tp: 4910.0000 - val_fp: 1248.0000 - val_tn: 0.0000e+00 - val_fn: 0.0000e+00 - val_accuracy: 0.6122 - val_precision: 0.7973 - val_recall: 1.0000 - val_auc: 0.5000 - val_prc: 0.7973\n",
      "Epoch 8/100\n",
      "13/13 [==============================] - 0s 7ms/step - loss: 0.0000e+00 - tp: 11780.0000 - fp: 3149.1429 - tn: 0.0000e+00 - fn: 0.0000e+00 - accuracy: 0.6016 - precision: 0.7887 - recall: 1.0000 - auc: 0.5000 - prc: 0.7887 - val_loss: 0.0000e+00 - val_tp: 4910.0000 - val_fp: 1248.0000 - val_tn: 0.0000e+00 - val_fn: 0.0000e+00 - val_accuracy: 0.6122 - val_precision: 0.7973 - val_recall: 1.0000 - val_auc: 0.5000 - val_prc: 0.7973\n",
      "Epoch 9/100\n",
      "13/13 [==============================] - 0s 8ms/step - loss: 0.0000e+00 - tp: 11762.2857 - fp: 3166.8571 - tn: 0.0000e+00 - fn: 0.0000e+00 - accuracy: 0.6065 - precision: 0.7896 - recall: 1.0000 - auc: 0.5000 - prc: 0.7896 - val_loss: 0.0000e+00 - val_tp: 4910.0000 - val_fp: 1248.0000 - val_tn: 0.0000e+00 - val_fn: 0.0000e+00 - val_accuracy: 0.6122 - val_precision: 0.7973 - val_recall: 1.0000 - val_auc: 0.5000 - val_prc: 0.7973\n",
      "Epoch 10/100\n",
      "13/13 [==============================] - 0s 8ms/step - loss: 0.0000e+00 - tp: 11759.6429 - fp: 3169.5000 - tn: 0.0000e+00 - fn: 0.0000e+00 - accuracy: 0.6029 - precision: 0.7868 - recall: 1.0000 - auc: 0.5000 - prc: 0.7868 - val_loss: 0.0000e+00 - val_tp: 4910.0000 - val_fp: 1248.0000 - val_tn: 0.0000e+00 - val_fn: 0.0000e+00 - val_accuracy: 0.6122 - val_precision: 0.7973 - val_recall: 1.0000 - val_auc: 0.5000 - val_prc: 0.7973\n",
      "Epoch 11/100\n",
      "13/13 [==============================] - 0s 7ms/step - loss: 0.0000e+00 - tp: 11789.3571 - fp: 3139.7857 - tn: 0.0000e+00 - fn: 0.0000e+00 - accuracy: 0.6040 - precision: 0.7905 - recall: 1.0000 - auc: 0.5000 - prc: 0.7905 - val_loss: 0.0000e+00 - val_tp: 4910.0000 - val_fp: 1248.0000 - val_tn: 0.0000e+00 - val_fn: 0.0000e+00 - val_accuracy: 0.6122 - val_precision: 0.7973 - val_recall: 1.0000 - val_auc: 0.5000 - val_prc: 0.7973\n",
      "Restoring model weights from the end of the best epoch.\n",
      "Epoch 00011: early stopping\n"
     ]
    }
   ],
   "source": [
    "history = model.fit(\n",
    "    train_features,\n",
    "    train_labels,\n",
    "    batch_size=BATCH_SIZE,\n",
    "    epochs=EPOCHS,\n",
    "    callbacks=[early_stopping],\n",
    "    validation_data=(val_features, val_labels))"
   ]
  },
  {
   "cell_type": "code",
   "execution_count": null,
   "id": "weighted-drilling",
   "metadata": {},
   "outputs": [],
   "source": []
  },
  {
   "cell_type": "code",
   "execution_count": 16,
   "id": "removed-telescope",
   "metadata": {},
   "outputs": [],
   "source": [
    "from sklearn.metrics import confusion_matrix\n",
    "import matplotlib.pyplot as plt\n",
    "import seaborn as sns\n",
    "\n",
    "\n",
    "def plot_cm(labels, predictions, p=0.5):\n",
    "    cm = confusion_matrix(labels, predictions > p)\n",
    "    plt.figure(figsize=(5,5))\n",
    "    sns.heatmap(cm, annot=True, fmt=\"d\")\n",
    "    plt.title('Confusion matrix @{:.2f}'.format(p))\n",
    "    plt.ylabel('Actual label')\n",
    "    plt.xlabel('Predicted label')"
   ]
  },
  {
   "cell_type": "code",
   "execution_count": 17,
   "id": "induced-ministry",
   "metadata": {},
   "outputs": [],
   "source": [
    "train_predictions_baseline = model.predict(train_features, batch_size=BATCH_SIZE)\n",
    "test_predictions_baseline = model.predict(test_features, batch_size=BATCH_SIZE)"
   ]
  },
  {
   "cell_type": "code",
   "execution_count": 18,
   "id": "synthetic-comedy",
   "metadata": {},
   "outputs": [
    {
     "name": "stdout",
     "output_type": "stream",
     "text": [
      "loss :  0.0\n",
      "tp :  6056.0\n",
      "fp :  1642.0\n",
      "tn :  0.0\n",
      "fn :  0.0\n",
      "accuracy :  0.6018446087837219\n",
      "precision :  0.7866978645324707\n",
      "recall :  1.0\n",
      "auc :  0.5\n",
      "prc :  0.7866978645324707\n",
      "\n"
     ]
    },
    {
     "data": {
      "image/png": "[encoded data removed]",
      "text/plain": [
       "<Figure size 360x360 with 2 Axes>"
      ]
     },
     "metadata": {
      "needs_background": "light"
     },
     "output_type": "display_data"
    }
   ],
   "source": [
    "results = model.evaluate(test_features, test_labels, batch_size=BATCH_SIZE, verbose=0)\n",
    "for name, value in zip(model.metrics_names, results):\n",
    "  print(name, ': ', value)\n",
    "print()\n",
    "\n",
    "plot_cm(test_labels, test_predictions_baseline)\n",
    "\n",
    "#plot_cm(train_labels, train_predictions_baseline)"
   ]
  },
  {
   "cell_type": "code",
   "execution_count": 19,
   "id": "future-adjustment",
   "metadata": {},
   "outputs": [],
   "source": [
    "# Class weights"
   ]
  },
  {
   "cell_type": "code",
   "execution_count": 20,
   "id": "ordinary-practice",
   "metadata": {},
   "outputs": [
    {
     "name": "stdout",
     "output_type": "stream",
     "text": [
      "Weight for class 0: 1.58\n",
      "Weight for class 1: 0.55\n",
      "Weight for class 2: 1.80\n"
     ]
    }
   ],
   "source": [
    "weight_for_0 = (1 / start_0)*(len(raw_data))/3.0 \n",
    "weight_for_1 = (1 / mid_1)*(len(raw_data))/3.0\n",
    "weight_for_2 = (1 / end_2)*(len(raw_data))/3.0\n",
    "\n",
    "class_weight = {0: weight_for_0, 1: weight_for_1, 2: weight_for_2}\n",
    "\n",
    "print('Weight for class 0: {:.2f}'.format(weight_for_0))\n",
    "print('Weight for class 1: {:.2f}'.format(weight_for_1))\n",
    "print('Weight for class 2: {:.2f}'.format(weight_for_2))"
   ]
  },
  {
   "cell_type": "code",
   "execution_count": 21,
   "id": "worse-pocket",
   "metadata": {},
   "outputs": [
    {
     "name": "stdout",
     "output_type": "stream",
     "text": [
      "WARNING:tensorflow:From /usr/local/lib/python3.9/site-packages/tensorflow/python/ops/array_ops.py:5043: calling gather (from tensorflow.python.ops.array_ops) with validate_indices is deprecated and will be removed in a future version.\n",
      "Instructions for updating:\n",
      "The `validate_indices` argument has no effect. Indices are always validated on CPU and never validated on GPU.\n",
      "Epoch 1/100\n",
      "13/13 [==============================] - 2s 68ms/step - loss: 0.0000e+00 - tp: 17853.5000 - fp: 4773.6429 - tn: 0.0000e+00 - fn: 0.0000e+00 - accuracy: 0.6030 - precision: 0.7891 - recall: 1.0000 - auc: 0.5000 - prc: 0.7891 - val_loss: 0.0000e+00 - val_tp: 4910.0000 - val_fp: 1248.0000 - val_tn: 0.0000e+00 - val_fn: 0.0000e+00 - val_accuracy: 0.6122 - val_precision: 0.7973 - val_recall: 1.0000 - val_auc: 0.5000 - val_prc: 0.7973\n",
      "Epoch 2/100\n",
      "13/13 [==============================] - 0s 7ms/step - loss: 0.0000e+00 - tp: 11748.4286 - fp: 3180.7143 - tn: 0.0000e+00 - fn: 0.0000e+00 - accuracy: 0.6006 - precision: 0.7865 - recall: 1.0000 - auc: 0.5000 - prc: 0.7865 - val_loss: 0.0000e+00 - val_tp: 4910.0000 - val_fp: 1248.0000 - val_tn: 0.0000e+00 - val_fn: 0.0000e+00 - val_accuracy: 0.6122 - val_precision: 0.7973 - val_recall: 1.0000 - val_auc: 0.5000 - val_prc: 0.7973\n",
      "Epoch 3/100\n",
      "13/13 [==============================] - 0s 7ms/step - loss: 0.0000e+00 - tp: 11781.9286 - fp: 3147.2143 - tn: 0.0000e+00 - fn: 0.0000e+00 - accuracy: 0.6060 - precision: 0.7912 - recall: 1.0000 - auc: 0.5000 - prc: 0.7912 - val_loss: 0.0000e+00 - val_tp: 4910.0000 - val_fp: 1248.0000 - val_tn: 0.0000e+00 - val_fn: 0.0000e+00 - val_accuracy: 0.6122 - val_precision: 0.7973 - val_recall: 1.0000 - val_auc: 0.5000 - val_prc: 0.7973\n",
      "Epoch 4/100\n",
      "13/13 [==============================] - 0s 7ms/step - loss: 0.0000e+00 - tp: 11789.0000 - fp: 3140.1429 - tn: 0.0000e+00 - fn: 0.0000e+00 - accuracy: 0.6026 - precision: 0.7912 - recall: 1.0000 - auc: 0.5000 - prc: 0.7912 - val_loss: 0.0000e+00 - val_tp: 4910.0000 - val_fp: 1248.0000 - val_tn: 0.0000e+00 - val_fn: 0.0000e+00 - val_accuracy: 0.6122 - val_precision: 0.7973 - val_recall: 1.0000 - val_auc: 0.5000 - val_prc: 0.7973\n",
      "Epoch 5/100\n",
      "13/13 [==============================] - 0s 7ms/step - loss: 0.0000e+00 - tp: 11763.2857 - fp: 3165.8571 - tn: 0.0000e+00 - fn: 0.0000e+00 - accuracy: 0.6024 - precision: 0.7877 - recall: 1.0000 - auc: 0.5000 - prc: 0.7877 - val_loss: 0.0000e+00 - val_tp: 4910.0000 - val_fp: 1248.0000 - val_tn: 0.0000e+00 - val_fn: 0.0000e+00 - val_accuracy: 0.6122 - val_precision: 0.7973 - val_recall: 1.0000 - val_auc: 0.5000 - val_prc: 0.7973\n",
      "Epoch 6/100\n",
      "13/13 [==============================] - 0s 7ms/step - loss: 0.0000e+00 - tp: 11770.0000 - fp: 3159.1429 - tn: 0.0000e+00 - fn: 0.0000e+00 - accuracy: 0.6001 - precision: 0.7879 - recall: 1.0000 - auc: 0.5000 - prc: 0.7879 - val_loss: 0.0000e+00 - val_tp: 4910.0000 - val_fp: 1248.0000 - val_tn: 0.0000e+00 - val_fn: 0.0000e+00 - val_accuracy: 0.6122 - val_precision: 0.7973 - val_recall: 1.0000 - val_auc: 0.5000 - val_prc: 0.7973\n",
      "Epoch 7/100\n",
      "13/13 [==============================] - 0s 7ms/step - loss: 0.0000e+00 - tp: 11759.7143 - fp: 3169.4286 - tn: 0.0000e+00 - fn: 0.0000e+00 - accuracy: 0.6014 - precision: 0.7876 - recall: 1.0000 - auc: 0.5000 - prc: 0.7876 - val_loss: 0.0000e+00 - val_tp: 4910.0000 - val_fp: 1248.0000 - val_tn: 0.0000e+00 - val_fn: 0.0000e+00 - val_accuracy: 0.6122 - val_precision: 0.7973 - val_recall: 1.0000 - val_auc: 0.5000 - val_prc: 0.7973\n",
      "Epoch 8/100\n",
      "13/13 [==============================] - 0s 7ms/step - loss: 0.0000e+00 - tp: 11782.0000 - fp: 3147.1429 - tn: 0.0000e+00 - fn: 0.0000e+00 - accuracy: 0.6017 - precision: 0.7896 - recall: 1.0000 - auc: 0.5000 - prc: 0.7896 - val_loss: 0.0000e+00 - val_tp: 4910.0000 - val_fp: 1248.0000 - val_tn: 0.0000e+00 - val_fn: 0.0000e+00 - val_accuracy: 0.6122 - val_precision: 0.7973 - val_recall: 1.0000 - val_auc: 0.5000 - val_prc: 0.7973\n",
      "Epoch 9/100\n",
      "13/13 [==============================] - 0s 7ms/step - loss: 0.0000e+00 - tp: 11752.1429 - fp: 3177.0000 - tn: 0.0000e+00 - fn: 0.0000e+00 - accuracy: 0.6014 - precision: 0.7867 - recall: 1.0000 - auc: 0.5000 - prc: 0.7867 - val_loss: 0.0000e+00 - val_tp: 4910.0000 - val_fp: 1248.0000 - val_tn: 0.0000e+00 - val_fn: 0.0000e+00 - val_accuracy: 0.6122 - val_precision: 0.7973 - val_recall: 1.0000 - val_auc: 0.5000 - val_prc: 0.7973\n",
      "Epoch 10/100\n",
      "13/13 [==============================] - 0s 8ms/step - loss: 0.0000e+00 - tp: 11746.9286 - fp: 3182.2143 - tn: 0.0000e+00 - fn: 0.0000e+00 - accuracy: 0.6018 - precision: 0.7866 - recall: 1.0000 - auc: 0.5000 - prc: 0.7866 - val_loss: 0.0000e+00 - val_tp: 4910.0000 - val_fp: 1248.0000 - val_tn: 0.0000e+00 - val_fn: 0.0000e+00 - val_accuracy: 0.6122 - val_precision: 0.7973 - val_recall: 1.0000 - val_auc: 0.5000 - val_prc: 0.7973\n",
      "Epoch 11/100\n",
      "13/13 [==============================] - 0s 8ms/step - loss: 0.0000e+00 - tp: 11751.8571 - fp: 3177.2857 - tn: 0.0000e+00 - fn: 0.0000e+00 - accuracy: 0.5992 - precision: 0.7864 - recall: 1.0000 - auc: 0.5000 - prc: 0.7864 - val_loss: 0.0000e+00 - val_tp: 4910.0000 - val_fp: 1248.0000 - val_tn: 0.0000e+00 - val_fn: 0.0000e+00 - val_accuracy: 0.6122 - val_precision: 0.7973 - val_recall: 1.0000 - val_auc: 0.5000 - val_prc: 0.7973\n",
      "Restoring model weights from the end of the best epoch.\n",
      "Epoch 00011: early stopping\n"
     ]
    }
   ],
   "source": [
    "weighted_model = make_model()\n",
    "weighted_model.load_weights(initial_weights)\n",
    "\n",
    "weighted_history = weighted_model.fit(\n",
    "    train_features,\n",
    "    train_labels,\n",
    "    batch_size=BATCH_SIZE,\n",
    "    epochs=EPOCHS,\n",
    "    callbacks=[early_stopping],\n",
    "    validation_data=(val_features, val_labels),\n",
    "    # The class weights go here\n",
    "    class_weight=class_weight)"
   ]
  },
  {
   "cell_type": "code",
   "execution_count": 22,
   "id": "integrated-burns",
   "metadata": {},
   "outputs": [],
   "source": [
    "train_predictions_weighted = weighted_model.predict(train_features, batch_size=BATCH_SIZE)\n",
    "test_predictions_weighted = weighted_model.predict(test_features, batch_size=BATCH_SIZE)"
   ]
  },
  {
   "cell_type": "code",
   "execution_count": 23,
   "id": "realistic-combination",
   "metadata": {},
   "outputs": [
    {
     "name": "stdout",
     "output_type": "stream",
     "text": [
      "loss :  0.0\n",
      "tp :  6056.0\n",
      "fp :  1642.0\n",
      "tn :  0.0\n",
      "fn :  0.0\n",
      "accuracy :  0.6018446087837219\n",
      "precision :  0.7866978645324707\n",
      "recall :  1.0\n",
      "auc :  0.5\n",
      "prc :  0.7866978645324707\n",
      "\n"
     ]
    },
    {
     "data": {
      "image/png": "[encoded data removed]",
      "text/plain": [
       "<Figure size 360x360 with 2 Axes>"
      ]
     },
     "metadata": {
      "needs_background": "light"
     },
     "output_type": "display_data"
    }
   ],
   "source": [
    "weighted_results = weighted_model.evaluate(test_features, test_labels,\n",
    "                                           batch_size=BATCH_SIZE, verbose=0)\n",
    "for name, value in zip(weighted_model.metrics_names, weighted_results):\n",
    "  print(name, ': ', value)\n",
    "print()\n",
    "\n",
    "plot_cm(test_labels, test_predictions_weighted)"
   ]
  },
  {
   "cell_type": "markdown",
   "id": "micro-receiver",
   "metadata": {},
   "source": [
    "# over sample"
   ]
  },
  {
   "cell_type": "code",
   "execution_count": 24,
   "id": "artistic-public",
   "metadata": {},
   "outputs": [
    {
     "name": "stderr",
     "output_type": "stream",
     "text": [
      "/usr/local/lib/python3.9/site-packages/imblearn/utils/_validation.py:587: FutureWarning: Pass sampling_strategy=minority as keyword args. From version 0.9 passing these as positional arguments will result in an error\n",
      "  warnings.warn(\n"
     ]
    },
    {
     "name": "stdout",
     "output_type": "stream",
     "text": [
      "(34878, 26) (34878,)\n"
     ]
    }
   ],
   "source": [
    "from imblearn.over_sampling import SMOTE\n",
    "\n",
    "oversample = SMOTE()\n",
    "train_features_sm, train_labels_sm = oversample.fit_resample(train_features, train_labels)\n",
    "print(train_features_sm.shape,train_labels_sm.shape)"
   ]
  },
  {
   "cell_type": "code",
   "execution_count": 25,
   "id": "wired-miracle",
   "metadata": {},
   "outputs": [
    {
     "name": "stdout",
     "output_type": "stream",
     "text": [
      "Model: \"sequential_2\"\n",
      "_________________________________________________________________\n",
      "Layer (type)                 Output Shape              Param #   \n",
      "=================================================================\n",
      "dense_8 (Dense)              (None, 39)                1053      \n",
      "_________________________________________________________________\n",
      "dense_9 (Dense)              (None, 64)                2560      \n",
      "_________________________________________________________________\n",
      "dense_10 (Dense)             (None, 64)                4160      \n",
      "_________________________________________________________________\n",
      "dropout_2 (Dropout)          (None, 64)                0         \n",
      "_________________________________________________________________\n",
      "dense_11 (Dense)             (None, 1)                 65        \n",
      "=================================================================\n",
      "Total params: 7,838\n",
      "Trainable params: 7,838\n",
      "Non-trainable params: 0\n",
      "_________________________________________________________________\n"
     ]
    }
   ],
   "source": [
    "os_model = make_model()\n",
    "os_model.load_weights(initial_weights)\n",
    "os_model.summary()"
   ]
  },
  {
   "cell_type": "code",
   "execution_count": 26,
   "id": "second-senior",
   "metadata": {},
   "outputs": [
    {
     "name": "stdout",
     "output_type": "stream",
     "text": [
      "Epoch 1/100\n",
      "18/18 [==============================] - 2s 52ms/step - loss: 0.0000e+00 - tp: 23192.8947 - fp: 4668.2632 - tn: 0.0000e+00 - fn: 0.0000e+00 - accuracy: 0.4844 - precision: 0.8288 - recall: 1.0000 - auc: 0.5000 - prc: 0.8288 - val_loss: 0.0000e+00 - val_tp: 4910.0000 - val_fp: 1248.0000 - val_tn: 0.0000e+00 - val_fn: 0.0000e+00 - val_accuracy: 0.6122 - val_precision: 0.7973 - val_recall: 1.0000 - val_auc: 0.5000 - val_prc: 0.7973\n",
      "Epoch 2/100\n",
      "18/18 [==============================] - 0s 7ms/step - loss: 0.0000e+00 - tp: 17122.1579 - fp: 3041.0000 - tn: 0.0000e+00 - fn: 0.0000e+00 - accuracy: 0.4265 - precision: 0.8483 - recall: 1.0000 - auc: 0.5000 - prc: 0.8483 - val_loss: 0.0000e+00 - val_tp: 4910.0000 - val_fp: 1248.0000 - val_tn: 0.0000e+00 - val_fn: 0.0000e+00 - val_accuracy: 0.6122 - val_precision: 0.7973 - val_recall: 1.0000 - val_auc: 0.5000 - val_prc: 0.7973\n",
      "Epoch 3/100\n",
      "18/18 [==============================] - 0s 7ms/step - loss: 0.0000e+00 - tp: 17135.8421 - fp: 3027.3158 - tn: 0.0000e+00 - fn: 0.0000e+00 - accuracy: 0.4272 - precision: 0.8498 - recall: 1.0000 - auc: 0.5000 - prc: 0.8498 - val_loss: 0.0000e+00 - val_tp: 4910.0000 - val_fp: 1248.0000 - val_tn: 0.0000e+00 - val_fn: 0.0000e+00 - val_accuracy: 0.6122 - val_precision: 0.7973 - val_recall: 1.0000 - val_auc: 0.5000 - val_prc: 0.7973\n",
      "Epoch 4/100\n",
      "18/18 [==============================] - 0s 6ms/step - loss: 0.0000e+00 - tp: 17140.0526 - fp: 3023.1053 - tn: 0.0000e+00 - fn: 0.0000e+00 - accuracy: 0.4254 - precision: 0.8504 - recall: 1.0000 - auc: 0.5000 - prc: 0.8504 - val_loss: 0.0000e+00 - val_tp: 4910.0000 - val_fp: 1248.0000 - val_tn: 0.0000e+00 - val_fn: 0.0000e+00 - val_accuracy: 0.6122 - val_precision: 0.7973 - val_recall: 1.0000 - val_auc: 0.5000 - val_prc: 0.7973\n",
      "Epoch 5/100\n",
      "18/18 [==============================] - 0s 6ms/step - loss: 0.0000e+00 - tp: 17141.7368 - fp: 3021.4211 - tn: 0.0000e+00 - fn: 0.0000e+00 - accuracy: 0.4250 - precision: 0.8500 - recall: 1.0000 - auc: 0.5000 - prc: 0.8500 - val_loss: 0.0000e+00 - val_tp: 4910.0000 - val_fp: 1248.0000 - val_tn: 0.0000e+00 - val_fn: 0.0000e+00 - val_accuracy: 0.6122 - val_precision: 0.7973 - val_recall: 1.0000 - val_auc: 0.5000 - val_prc: 0.7973\n",
      "Epoch 6/100\n",
      "18/18 [==============================] - 0s 7ms/step - loss: 0.0000e+00 - tp: 17172.4211 - fp: 2990.7368 - tn: 0.0000e+00 - fn: 0.0000e+00 - accuracy: 0.4291 - precision: 0.8521 - recall: 1.0000 - auc: 0.5000 - prc: 0.8521 - val_loss: 0.0000e+00 - val_tp: 4910.0000 - val_fp: 1248.0000 - val_tn: 0.0000e+00 - val_fn: 0.0000e+00 - val_accuracy: 0.6122 - val_precision: 0.7973 - val_recall: 1.0000 - val_auc: 0.5000 - val_prc: 0.7973\n",
      "Epoch 7/100\n",
      "18/18 [==============================] - 0s 6ms/step - loss: 0.0000e+00 - tp: 17137.1579 - fp: 3026.0000 - tn: 0.0000e+00 - fn: 0.0000e+00 - accuracy: 0.4251 - precision: 0.8495 - recall: 1.0000 - auc: 0.5000 - prc: 0.8495 - val_loss: 0.0000e+00 - val_tp: 4910.0000 - val_fp: 1248.0000 - val_tn: 0.0000e+00 - val_fn: 0.0000e+00 - val_accuracy: 0.6122 - val_precision: 0.7973 - val_recall: 1.0000 - val_auc: 0.5000 - val_prc: 0.7973\n",
      "Epoch 8/100\n",
      "18/18 [==============================] - 0s 6ms/step - loss: 0.0000e+00 - tp: 17119.7368 - fp: 3043.4211 - tn: 0.0000e+00 - fn: 0.0000e+00 - accuracy: 0.4250 - precision: 0.8487 - recall: 1.0000 - auc: 0.5000 - prc: 0.8487 - val_loss: 0.0000e+00 - val_tp: 4910.0000 - val_fp: 1248.0000 - val_tn: 0.0000e+00 - val_fn: 0.0000e+00 - val_accuracy: 0.6122 - val_precision: 0.7973 - val_recall: 1.0000 - val_auc: 0.5000 - val_prc: 0.7973\n",
      "Epoch 9/100\n",
      "18/18 [==============================] - 0s 7ms/step - loss: 0.0000e+00 - tp: 17172.0000 - fp: 2991.1579 - tn: 0.0000e+00 - fn: 0.0000e+00 - accuracy: 0.4268 - precision: 0.8529 - recall: 1.0000 - auc: 0.5000 - prc: 0.8529 - val_loss: 0.0000e+00 - val_tp: 4910.0000 - val_fp: 1248.0000 - val_tn: 0.0000e+00 - val_fn: 0.0000e+00 - val_accuracy: 0.6122 - val_precision: 0.7973 - val_recall: 1.0000 - val_auc: 0.5000 - val_prc: 0.7973\n",
      "Epoch 10/100\n",
      "18/18 [==============================] - 0s 7ms/step - loss: 0.0000e+00 - tp: 17139.0526 - fp: 3024.1053 - tn: 0.0000e+00 - fn: 0.0000e+00 - accuracy: 0.4228 - precision: 0.8504 - recall: 1.0000 - auc: 0.5000 - prc: 0.8504 - val_loss: 0.0000e+00 - val_tp: 4910.0000 - val_fp: 1248.0000 - val_tn: 0.0000e+00 - val_fn: 0.0000e+00 - val_accuracy: 0.6122 - val_precision: 0.7973 - val_recall: 1.0000 - val_auc: 0.5000 - val_prc: 0.7973\n",
      "Epoch 11/100\n",
      "18/18 [==============================] - 0s 7ms/step - loss: 0.0000e+00 - tp: 17127.0526 - fp: 3036.1053 - tn: 0.0000e+00 - fn: 0.0000e+00 - accuracy: 0.4247 - precision: 0.8490 - recall: 1.0000 - auc: 0.5000 - prc: 0.8490 - val_loss: 0.0000e+00 - val_tp: 4910.0000 - val_fp: 1248.0000 - val_tn: 0.0000e+00 - val_fn: 0.0000e+00 - val_accuracy: 0.6122 - val_precision: 0.7973 - val_recall: 1.0000 - val_auc: 0.5000 - val_prc: 0.7973\n",
      "Restoring model weights from the end of the best epoch.\n",
      "Epoch 00011: early stopping\n"
     ]
    }
   ],
   "source": [
    "history = os_model.fit(\n",
    "    train_features_sm,\n",
    "    train_labels_sm,\n",
    "    batch_size=BATCH_SIZE,\n",
    "    epochs=EPOCHS,\n",
    "    callbacks=[early_stopping],\n",
    "    validation_data=(val_features, val_labels))"
   ]
  },
  {
   "cell_type": "code",
   "execution_count": 27,
   "id": "mobile-listening",
   "metadata": {},
   "outputs": [],
   "source": [
    "train_predictions_os = os_model.predict(train_features_sm, batch_size=BATCH_SIZE)\n",
    "test_predictions_os = os_model.predict(test_features, batch_size=BATCH_SIZE)"
   ]
  },
  {
   "cell_type": "code",
   "execution_count": 28,
   "id": "selective-shell",
   "metadata": {},
   "outputs": [
    {
     "name": "stdout",
     "output_type": "stream",
     "text": [
      "loss :  0.0\n",
      "tp :  6056.0\n",
      "fp :  1642.0\n",
      "tn :  0.0\n",
      "fn :  0.0\n",
      "accuracy :  0.6018446087837219\n",
      "precision :  0.7866978645324707\n",
      "recall :  1.0\n",
      "auc :  0.5\n",
      "prc :  0.7866978645324707\n",
      "\n"
     ]
    },
    {
     "data": {
      "image/png": "[encoded data removed]",
      "text/plain": [
       "<Figure size 360x360 with 2 Axes>"
      ]
     },
     "metadata": {
      "needs_background": "light"
     },
     "output_type": "display_data"
    }
   ],
   "source": [
    "results = os_model.evaluate(test_features, test_labels, batch_size=BATCH_SIZE, verbose=0)\n",
    "for name, value in zip(os_model.metrics_names, results):\n",
    "  print(name, ': ', value)\n",
    "print()\n",
    "\n",
    "plot_cm(test_labels, test_predictions_os)\n",
    "\n",
    "#plot_cm(train_labels, train_predictions_baseline)"
   ]
  }
 ],
 "metadata": {
  "kernelspec": {
   "display_name": "Python 3",
   "language": "python",
   "name": "python3"
  },
  "language_info": {
   "codemirror_mode": {
    "name": "ipython",
    "version": 3
   },
   "file_extension": ".py",
   "mimetype": "text/x-python",
   "name": "python",
   "nbconvert_exporter": "python",
   "pygments_lexer": "ipython3",
   "version": "3.9.2"
  }
 },
 "nbformat": 4,
 "nbformat_minor": 5
}
