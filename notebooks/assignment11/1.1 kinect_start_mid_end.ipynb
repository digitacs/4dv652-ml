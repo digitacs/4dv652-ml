{
 "cells": [
  {
   "cell_type": "markdown",
   "id": "aware-instrument",
   "metadata": {},
   "source": [
    "# Classify using start=0 mid = 1 end = 2"
   ]
  },
  {
   "cell_type": "code",
   "execution_count": 180,
   "id": "sunset-token",
   "metadata": {},
   "outputs": [],
   "source": [
    "import sys\n",
    "import pandas as pd\n",
    "import numpy as np"
   ]
  },
  {
   "cell_type": "markdown",
   "id": "copyrighted-recruitment",
   "metadata": {},
   "source": [
    "## 1. Read dataset"
   ]
  },
  {
   "cell_type": "code",
   "execution_count": 181,
   "id": "suspended-diary",
   "metadata": {},
   "outputs": [],
   "source": [
    "dirname = '../../datasets/marked_start_mid_end/'\n",
    "suffix = '.csv'\n",
    "\n",
    "def read_from_file( file_name, rand_num):\n",
    "    \n",
    "    try:\n",
    "        full_file_name = file_name + str(rand_num) + \"_kinect\"\n",
    "\n",
    "        file_at_path = dirname + full_file_name + suffix\n",
    "\n",
    "        data = pd.read_csv(file_at_path)\n",
    "        \n",
    "        return data, full_file_name\n",
    "    \n",
    "    except IOError as e:\n",
    "        print(e)\n",
    "        return None,None"
   ]
  },
  {
   "cell_type": "markdown",
   "id": "alert-savage",
   "metadata": {},
   "source": [
    "## 2. Read files"
   ]
  },
  {
   "cell_type": "markdown",
   "id": "trained-timing",
   "metadata": {},
   "source": [
    "### 2.1 The A series (A1-A159)"
   ]
  },
  {
   "cell_type": "code",
   "execution_count": 182,
   "id": "consolidated-victoria",
   "metadata": {},
   "outputs": [
    {
     "output_type": "stream",
     "name": "stdout",
     "text": [
      "(229, 41)\n",
      "[Errno 2] File ../../datasets/marked_start_mid_end/A60_kinect.csv does not exist: '../../datasets/marked_start_mid_end/A60_kinect.csv'\n",
      "[Errno 2] File ../../datasets/marked_start_mid_end/A107_kinect.csv does not exist: '../../datasets/marked_start_mid_end/A107_kinect.csv'\n",
      "(32387, 41)\n"
     ]
    }
   ],
   "source": [
    "raw_data, full_file_name = read_from_file(\"A\", 1)\n",
    "\n",
    "#print(full_file_name)\n",
    "print(raw_data.shape)\n",
    "\n",
    "for i in range(2,160):\n",
    "    input_data, full_file_name = read_from_file(\"A\", i)\n",
    "    \n",
    "    if(full_file_name is None):\n",
    "        continue\n",
    "    else:\n",
    "        #print(full_file_name)\n",
    "        raw_data = raw_data.append(input_data, ignore_index = True)\n",
    "\n",
    "print(raw_data.shape)"
   ]
  },
  {
   "cell_type": "markdown",
   "id": "driven-graph",
   "metadata": {},
   "source": [
    "### 2.2 The B series (B1-B22)"
   ]
  },
  {
   "cell_type": "code",
   "execution_count": 183,
   "id": "reserved-victoria",
   "metadata": {},
   "outputs": [
    {
     "output_type": "stream",
     "name": "stdout",
     "text": [
      "(37782, 41)\n"
     ]
    }
   ],
   "source": [
    "for i in range(1,23):\n",
    "    input_data, full_file_name = read_from_file(\"B\", i)\n",
    "    \n",
    "    if(full_file_name is None):\n",
    "        continue\n",
    "    else:\n",
    "        #print(full_file_name)\n",
    "        raw_data = raw_data.append(input_data, ignore_index = True)\n",
    "\n",
    "print(raw_data.shape)"
   ]
  },
  {
   "cell_type": "code",
   "execution_count": 184,
   "id": "apparent-contact",
   "metadata": {},
   "outputs": [
    {
     "output_type": "execute_result",
     "data": {
      "text/plain": [
       "       FrameNo    head_x   head_y    head_z  left_shoulder_x  left_shoulder_y  \\\n",
       "0            0  0.009962  0.75910  0.015747         -0.15673          0.46100   \n",
       "1            1  0.010491  0.75974  0.017753         -0.15662          0.46125   \n",
       "2            2  0.010730  0.75990  0.018405         -0.15668          0.46150   \n",
       "3            3  0.010916  0.76001  0.019369         -0.15645          0.46188   \n",
       "4            4  0.011140  0.75994  0.019772         -0.15642          0.46199   \n",
       "...        ...       ...      ...       ...              ...              ...   \n",
       "37777      235 -0.017153  0.76394  0.046570         -0.17340          0.47949   \n",
       "37778      236 -0.017700  0.76488  0.047120         -0.17220          0.47846   \n",
       "37779      237 -0.018257  0.76646  0.048112         -0.17155          0.47633   \n",
       "37780      238 -0.019091  0.76760  0.048815         -0.17060          0.47342   \n",
       "37781      239 -0.020865  0.77097  0.052055         -0.17028          0.47321   \n",
       "\n",
       "       left_shoulder_z  left_elbow_x  left_elbow_y  left_elbow_z  ...  \\\n",
       "0             0.028399      -0.18256       0.20732      0.018668  ...   \n",
       "1             0.029317      -0.18223       0.20594      0.020562  ...   \n",
       "2             0.029991      -0.18164       0.20587      0.021215  ...   \n",
       "3             0.030573      -0.18095       0.20619      0.021357  ...   \n",
       "4             0.030829      -0.18034       0.20624      0.021669  ...   \n",
       "...                ...           ...           ...           ...  ...   \n",
       "37777        -0.011006      -0.24563       0.28570     -0.059760  ...   \n",
       "37778        -0.013577      -0.24368       0.28802     -0.072414  ...   \n",
       "37779        -0.017028      -0.23788       0.28956     -0.088592  ...   \n",
       "37780        -0.023125      -0.23001       0.29131     -0.108770  ...   \n",
       "37781        -0.025260      -0.21703       0.29981     -0.123960  ...   \n",
       "\n",
       "       right_knee_x  right_knee_y  right_knee_z  left_foot_x  left_foot_y  \\\n",
       "0          0.113710      -0.37810     -0.030049    -0.135150     -0.74477   \n",
       "1          0.113780      -0.37805     -0.030093    -0.134930     -0.74433   \n",
       "2          0.113770      -0.37790     -0.030111    -0.135180     -0.74493   \n",
       "3          0.113760      -0.37788     -0.030140    -0.135170     -0.74509   \n",
       "4          0.113680      -0.37791     -0.030162    -0.135110     -0.74538   \n",
       "...             ...           ...           ...          ...          ...   \n",
       "37777      0.082834      -0.33250      0.032942    -0.099983     -0.67321   \n",
       "37778      0.082818      -0.33391      0.033180    -0.099923     -0.67313   \n",
       "37779      0.081940      -0.32971      0.031456    -0.099905     -0.67315   \n",
       "37780      0.081628      -0.33299      0.031661    -0.099949     -0.67324   \n",
       "37781      0.081474      -0.33531      0.032205    -0.099720     -0.67322   \n",
       "\n",
       "       left_foot_z  right_foot_x  right_foot_y  right_foot_z  status  \n",
       "0        -0.045770      0.129800      -0.74631     -0.060231       0  \n",
       "1        -0.045317      0.130490      -0.74087     -0.056886       0  \n",
       "2        -0.045716      0.130040      -0.74171     -0.057271       0  \n",
       "3        -0.045595      0.130050      -0.74267     -0.057693       0  \n",
       "4        -0.045998      0.130400      -0.74201     -0.057177       0  \n",
       "...            ...           ...           ...           ...     ...  \n",
       "37777     0.037888      0.092230      -0.66897      0.035241       2  \n",
       "37778     0.037897      0.092134      -0.66866      0.035156       2  \n",
       "37779     0.037819      0.092173      -0.66856      0.035108       2  \n",
       "37780     0.037719      0.091919      -0.66899      0.034746       2  \n",
       "37781     0.038129      0.091773      -0.66923      0.034823       2  \n",
       "\n",
       "[37782 rows x 41 columns]"
      ],
      "text/html": "<div>\n<style scoped>\n    .dataframe tbody tr th:only-of-type {\n        vertical-align: middle;\n    }\n\n    .dataframe tbody tr th {\n        vertical-align: top;\n    }\n\n    .dataframe thead th {\n        text-align: right;\n    }\n</style>\n<table border=\"1\" class=\"dataframe\">\n  <thead>\n    <tr style=\"text-align: right;\">\n      <th></th>\n      <th>FrameNo</th>\n      <th>head_x</th>\n      <th>head_y</th>\n      <th>head_z</th>\n      <th>left_shoulder_x</th>\n      <th>left_shoulder_y</th>\n      <th>left_shoulder_z</th>\n      <th>left_elbow_x</th>\n      <th>left_elbow_y</th>\n      <th>left_elbow_z</th>\n      <th>...</th>\n      <th>right_knee_x</th>\n      <th>right_knee_y</th>\n      <th>right_knee_z</th>\n      <th>left_foot_x</th>\n      <th>left_foot_y</th>\n      <th>left_foot_z</th>\n      <th>right_foot_x</th>\n      <th>right_foot_y</th>\n      <th>right_foot_z</th>\n      <th>status</th>\n    </tr>\n  </thead>\n  <tbody>\n    <tr>\n      <th>0</th>\n      <td>0</td>\n      <td>0.009962</td>\n      <td>0.75910</td>\n      <td>0.015747</td>\n      <td>-0.15673</td>\n      <td>0.46100</td>\n      <td>0.028399</td>\n      <td>-0.18256</td>\n      <td>0.20732</td>\n      <td>0.018668</td>\n      <td>...</td>\n      <td>0.113710</td>\n      <td>-0.37810</td>\n      <td>-0.030049</td>\n      <td>-0.135150</td>\n      <td>-0.74477</td>\n      <td>-0.045770</td>\n      <td>0.129800</td>\n      <td>-0.74631</td>\n      <td>-0.060231</td>\n      <td>0</td>\n    </tr>\n    <tr>\n      <th>1</th>\n      <td>1</td>\n      <td>0.010491</td>\n      <td>0.75974</td>\n      <td>0.017753</td>\n      <td>-0.15662</td>\n      <td>0.46125</td>\n      <td>0.029317</td>\n      <td>-0.18223</td>\n      <td>0.20594</td>\n      <td>0.020562</td>\n      <td>...</td>\n      <td>0.113780</td>\n      <td>-0.37805</td>\n      <td>-0.030093</td>\n      <td>-0.134930</td>\n      <td>-0.74433</td>\n      <td>-0.045317</td>\n      <td>0.130490</td>\n      <td>-0.74087</td>\n      <td>-0.056886</td>\n      <td>0</td>\n    </tr>\n    <tr>\n      <th>2</th>\n      <td>2</td>\n      <td>0.010730</td>\n      <td>0.75990</td>\n      <td>0.018405</td>\n      <td>-0.15668</td>\n      <td>0.46150</td>\n      <td>0.029991</td>\n      <td>-0.18164</td>\n      <td>0.20587</td>\n      <td>0.021215</td>\n      <td>...</td>\n      <td>0.113770</td>\n      <td>-0.37790</td>\n      <td>-0.030111</td>\n      <td>-0.135180</td>\n      <td>-0.74493</td>\n      <td>-0.045716</td>\n      <td>0.130040</td>\n      <td>-0.74171</td>\n      <td>-0.057271</td>\n      <td>0</td>\n    </tr>\n    <tr>\n      <th>3</th>\n      <td>3</td>\n      <td>0.010916</td>\n      <td>0.76001</td>\n      <td>0.019369</td>\n      <td>-0.15645</td>\n      <td>0.46188</td>\n      <td>0.030573</td>\n      <td>-0.18095</td>\n      <td>0.20619</td>\n      <td>0.021357</td>\n      <td>...</td>\n      <td>0.113760</td>\n      <td>-0.37788</td>\n      <td>-0.030140</td>\n      <td>-0.135170</td>\n      <td>-0.74509</td>\n      <td>-0.045595</td>\n      <td>0.130050</td>\n      <td>-0.74267</td>\n      <td>-0.057693</td>\n      <td>0</td>\n    </tr>\n    <tr>\n      <th>4</th>\n      <td>4</td>\n      <td>0.011140</td>\n      <td>0.75994</td>\n      <td>0.019772</td>\n      <td>-0.15642</td>\n      <td>0.46199</td>\n      <td>0.030829</td>\n      <td>-0.18034</td>\n      <td>0.20624</td>\n      <td>0.021669</td>\n      <td>...</td>\n      <td>0.113680</td>\n      <td>-0.37791</td>\n      <td>-0.030162</td>\n      <td>-0.135110</td>\n      <td>-0.74538</td>\n      <td>-0.045998</td>\n      <td>0.130400</td>\n      <td>-0.74201</td>\n      <td>-0.057177</td>\n      <td>0</td>\n    </tr>\n    <tr>\n      <th>...</th>\n      <td>...</td>\n      <td>...</td>\n      <td>...</td>\n      <td>...</td>\n      <td>...</td>\n      <td>...</td>\n      <td>...</td>\n      <td>...</td>\n      <td>...</td>\n      <td>...</td>\n      <td>...</td>\n      <td>...</td>\n      <td>...</td>\n      <td>...</td>\n      <td>...</td>\n      <td>...</td>\n      <td>...</td>\n      <td>...</td>\n      <td>...</td>\n      <td>...</td>\n      <td>...</td>\n    </tr>\n    <tr>\n      <th>37777</th>\n      <td>235</td>\n      <td>-0.017153</td>\n      <td>0.76394</td>\n      <td>0.046570</td>\n      <td>-0.17340</td>\n      <td>0.47949</td>\n      <td>-0.011006</td>\n      <td>-0.24563</td>\n      <td>0.28570</td>\n      <td>-0.059760</td>\n      <td>...</td>\n      <td>0.082834</td>\n      <td>-0.33250</td>\n      <td>0.032942</td>\n      <td>-0.099983</td>\n      <td>-0.67321</td>\n      <td>0.037888</td>\n      <td>0.092230</td>\n      <td>-0.66897</td>\n      <td>0.035241</td>\n      <td>2</td>\n    </tr>\n    <tr>\n      <th>37778</th>\n      <td>236</td>\n      <td>-0.017700</td>\n      <td>0.76488</td>\n      <td>0.047120</td>\n      <td>-0.17220</td>\n      <td>0.47846</td>\n      <td>-0.013577</td>\n      <td>-0.24368</td>\n      <td>0.28802</td>\n      <td>-0.072414</td>\n      <td>...</td>\n      <td>0.082818</td>\n      <td>-0.33391</td>\n      <td>0.033180</td>\n      <td>-0.099923</td>\n      <td>-0.67313</td>\n      <td>0.037897</td>\n      <td>0.092134</td>\n      <td>-0.66866</td>\n      <td>0.035156</td>\n      <td>2</td>\n    </tr>\n    <tr>\n      <th>37779</th>\n      <td>237</td>\n      <td>-0.018257</td>\n      <td>0.76646</td>\n      <td>0.048112</td>\n      <td>-0.17155</td>\n      <td>0.47633</td>\n      <td>-0.017028</td>\n      <td>-0.23788</td>\n      <td>0.28956</td>\n      <td>-0.088592</td>\n      <td>...</td>\n      <td>0.081940</td>\n      <td>-0.32971</td>\n      <td>0.031456</td>\n      <td>-0.099905</td>\n      <td>-0.67315</td>\n      <td>0.037819</td>\n      <td>0.092173</td>\n      <td>-0.66856</td>\n      <td>0.035108</td>\n      <td>2</td>\n    </tr>\n    <tr>\n      <th>37780</th>\n      <td>238</td>\n      <td>-0.019091</td>\n      <td>0.76760</td>\n      <td>0.048815</td>\n      <td>-0.17060</td>\n      <td>0.47342</td>\n      <td>-0.023125</td>\n      <td>-0.23001</td>\n      <td>0.29131</td>\n      <td>-0.108770</td>\n      <td>...</td>\n      <td>0.081628</td>\n      <td>-0.33299</td>\n      <td>0.031661</td>\n      <td>-0.099949</td>\n      <td>-0.67324</td>\n      <td>0.037719</td>\n      <td>0.091919</td>\n      <td>-0.66899</td>\n      <td>0.034746</td>\n      <td>2</td>\n    </tr>\n    <tr>\n      <th>37781</th>\n      <td>239</td>\n      <td>-0.020865</td>\n      <td>0.77097</td>\n      <td>0.052055</td>\n      <td>-0.17028</td>\n      <td>0.47321</td>\n      <td>-0.025260</td>\n      <td>-0.21703</td>\n      <td>0.29981</td>\n      <td>-0.123960</td>\n      <td>...</td>\n      <td>0.081474</td>\n      <td>-0.33531</td>\n      <td>0.032205</td>\n      <td>-0.099720</td>\n      <td>-0.67322</td>\n      <td>0.038129</td>\n      <td>0.091773</td>\n      <td>-0.66923</td>\n      <td>0.034823</td>\n      <td>2</td>\n    </tr>\n  </tbody>\n</table>\n<p>37782 rows × 41 columns</p>\n</div>"
     },
     "metadata": {},
     "execution_count": 184
    }
   ],
   "source": [
    "raw_data.fillna(0)"
   ]
  },
  {
   "cell_type": "code",
   "execution_count": 185,
   "id": "representative-savings",
   "metadata": {},
   "outputs": [
    {
     "output_type": "stream",
     "name": "stdout",
     "text": [
      "Frames:\n    Total: 37782\n    Before: 7814 (0.21% of total)\n    During: 22931 (0.61% of total)\n    After: 7037 (0.19% of total)\n\n"
     ]
    }
   ],
   "source": [
    "start_0, mid_1, end_2 = np.bincount(raw_data['status'])\n",
    "print(\n",
    "    'Frames:\\n    Total: {}\\n    Before: {} ({:.2f}% of total)\\n    During: {} ({:.2f}% of total)\\n    After: {} ({:.2f}% of total)\\n'\n",
    "    .format(\n",
    "      len(raw_data), \n",
    "      start_0,\n",
    "      start_0 / len(raw_data),\n",
    "      mid_1,\n",
    "      mid_1 / len(raw_data),\n",
    "      end_2,\n",
    "      end_2 / len(raw_data)\n",
    "    )\n",
    "  )"
   ]
  },
  {
   "cell_type": "code",
   "execution_count": 186,
   "id": "moving-steel",
   "metadata": {},
   "outputs": [
    {
     "output_type": "execute_result",
     "data": {
      "text/plain": [
       "0          0\n",
       "1          1\n",
       "2          2\n",
       "3          3\n",
       "4          4\n",
       "        ... \n",
       "37777    235\n",
       "37778    236\n",
       "37779    237\n",
       "37780    238\n",
       "37781    239\n",
       "Name: FrameNo, Length: 37782, dtype: int64"
      ]
     },
     "metadata": {},
     "execution_count": 186
    }
   ],
   "source": [
    "cleaned_data = raw_data.copy()\n",
    "cleaned_data.pop( 'FrameNo')"
   ]
  },
  {
   "cell_type": "code",
   "execution_count": 187,
   "id": "challenging-canberra",
   "metadata": {},
   "outputs": [],
   "source": [
    "# Use a utility from sklearn to split and shuffle our dataset.\n",
    "\n",
    "from sklearn.model_selection import train_test_split\n",
    "\n",
    "train_data, test_data = train_test_split(cleaned_data, test_size=0.2)\n",
    "train_data, val_data = train_test_split(train_data, test_size=0.2)\n",
    "\n",
    "# Form np arrays of labels and features.\n",
    "train_labels = np.array(train_data.pop('status'))\n",
    "val_labels = np.array(val_data.pop('status'))\n",
    "test_labels = np.array(test_data.pop('status'))\n",
    "\n",
    "train_features = np.array(train_data)\n",
    "val_features = np.array(val_data)\n",
    "test_features = np.array(test_data)"
   ]
  },
  {
   "cell_type": "markdown",
   "id": "aggressive-variable",
   "metadata": {},
   "source": [
    "### Normalization\n",
    "Normalize the input features using the sklearn StandardScaler. This will set the mean to 0 and standard deviation to 1."
   ]
  },
  {
   "cell_type": "code",
   "execution_count": 188,
   "id": "anonymous-seattle",
   "metadata": {},
   "outputs": [
    {
     "output_type": "stream",
     "name": "stdout",
     "text": [
      "Training labels shape: (24180,)\nValidation labels shape: (6045,)\nTest labels shape: (7557,)\nTraining features shape: (24180, 39)\nValidation features shape: (6045, 39)\nTest features shape: (7557, 39)\n"
     ]
    }
   ],
   "source": [
    "from sklearn.preprocessing import StandardScaler\n",
    "\n",
    "scaler = StandardScaler()\n",
    "train_features = scaler.fit_transform(train_features)\n",
    "val_features = scaler.transform(val_features)\n",
    "test_features = scaler.transform(test_features)\n",
    "\n",
    "print('Training labels shape:', train_labels.shape)\n",
    "print('Validation labels shape:', val_labels.shape)\n",
    "print('Test labels shape:', test_labels.shape)\n",
    "\n",
    "print('Training features shape:', train_features.shape)\n",
    "print('Validation features shape:', val_features.shape)\n",
    "print('Test features shape:', test_features.shape)"
   ]
  },
  {
   "cell_type": "code",
   "execution_count": 189,
   "id": "received-paper",
   "metadata": {},
   "outputs": [],
   "source": [
    "import tensorflow as tf\n",
    "from tensorflow import keras"
   ]
  },
  {
   "cell_type": "code",
   "execution_count": 190,
   "id": "quality-latino",
   "metadata": {},
   "outputs": [],
   "source": [
    "METRICS = [\n",
    "      keras.metrics.TruePositives(name='tp'),\n",
    "      keras.metrics.FalsePositives(name='fp'),\n",
    "      keras.metrics.TrueNegatives(name='tn'),\n",
    "      keras.metrics.FalseNegatives(name='fn'), \n",
    "      keras.metrics.BinaryAccuracy(name='accuracy'),\n",
    "      keras.metrics.Precision(name='precision'),\n",
    "      keras.metrics.Recall(name='recall'),\n",
    "      keras.metrics.AUC(name='auc'),\n",
    "      keras.metrics.AUC(name='prc', curve='PR'), # precision-recall curve\n",
    "]"
   ]
  },
  {
   "cell_type": "code",
   "execution_count": 191,
   "id": "taken-jefferson",
   "metadata": {},
   "outputs": [],
   "source": [
    "def make_model(metrics=METRICS, optimizer='Adam',loss = 'categorical_crossentropy'):\n",
    "    model = keras.Sequential([\n",
    "        keras.layers.Dense(units=16, activation='relu',input_dim=train_features.shape[-1]),\n",
    "        keras.layers.Dense(32, activation='relu' ),\n",
    "        keras.layers.Dense(1, activation='sigmoid'),\n",
    "    ])\n",
    "    \n",
    "    model.compile(optimizer=optimizer, loss=loss, metrics=metrics)\n",
    "    #keras.losses.BinaryCrossentropy()\n",
    "    return model"
   ]
  },
  {
   "cell_type": "code",
   "execution_count": 192,
   "id": "cathedral-trailer",
   "metadata": {},
   "outputs": [],
   "source": [
    "EPOCHS = 100\n",
    "BATCH_SIZE = 2048\n",
    "\n",
    "early_stopping = tf.keras.callbacks.EarlyStopping(monitor='val_prc', verbose=1,patience=10,mode='max',restore_best_weights=True)"
   ]
  },
  {
   "cell_type": "code",
   "execution_count": 193,
   "id": "aggregate-omaha",
   "metadata": {},
   "outputs": [
    {
     "output_type": "stream",
     "name": "stdout",
     "text": [
      "Model: \"sequential_13\"\n_________________________________________________________________\nLayer (type)                 Output Shape              Param #   \n=================================================================\ndense_39 (Dense)             (None, 16)                640       \n_________________________________________________________________\ndense_40 (Dense)             (None, 32)                544       \n_________________________________________________________________\ndense_41 (Dense)             (None, 1)                 33        \n=================================================================\nTotal params: 1,217\nTrainable params: 1,217\nNon-trainable params: 0\n_________________________________________________________________\n"
     ]
    }
   ],
   "source": [
    "model = make_model()\n",
    "model.summary()"
   ]
  },
  {
   "cell_type": "markdown",
   "id": "printable-retreat",
   "metadata": {},
   "source": [
    "# Checkpoint the initial weights"
   ]
  },
  {
   "cell_type": "code",
   "execution_count": 194,
   "id": "saving-result",
   "metadata": {},
   "outputs": [],
   "source": [
    "import os\n",
    "import tempfile\n",
    "\n",
    "initial_weights = os.path.join(tempfile.mkdtemp(), 'initial_weights')\n",
    "model.save_weights(initial_weights)"
   ]
  },
  {
   "cell_type": "code",
   "execution_count": null,
   "id": "steady-elimination",
   "metadata": {},
   "outputs": [],
   "source": []
  },
  {
   "cell_type": "code",
   "execution_count": null,
   "id": "returning-peeing",
   "metadata": {},
   "outputs": [],
   "source": []
  },
  {
   "cell_type": "code",
   "execution_count": 195,
   "id": "divine-bacteria",
   "metadata": {},
   "outputs": [],
   "source": [
    "from sklearn.metrics import confusion_matrix\n",
    "import matplotlib.pyplot as plt\n",
    "import seaborn as sns\n",
    "\n",
    "\n",
    "def plot_cm(labels, predictions, p=0.5):\n",
    "    cm = confusion_matrix(labels, predictions > p)\n",
    "    plt.figure(figsize=(5,5))\n",
    "    sns.heatmap(cm, annot=True, fmt=\"d\")\n",
    "    plt.title('Confusion matrix @{:.2f}'.format(p))\n",
    "    plt.ylabel('Actual label')\n",
    "    plt.xlabel('Predicted label')"
   ]
  },
  {
   "cell_type": "code",
   "execution_count": 196,
   "id": "stupid-posting",
   "metadata": {},
   "outputs": [],
   "source": [
    "train_predictions_baseline = model.predict(train_features, batch_size=BATCH_SIZE)\n",
    "test_predictions_baseline = model.predict(test_features, batch_size=BATCH_SIZE)"
   ]
  },
  {
   "cell_type": "markdown",
   "id": "pediatric-syndication",
   "metadata": {},
   "source": [
    "# Class weights"
   ]
  },
  {
   "cell_type": "code",
   "execution_count": 197,
   "id": "unauthorized-portfolio",
   "metadata": {},
   "outputs": [
    {
     "output_type": "stream",
     "name": "stdout",
     "text": [
      "Weight for class 0: 1.61\nWeight for class 1: 0.55\nWeight for class 2: 1.79\n"
     ]
    }
   ],
   "source": [
    "weight_for_0 = (1 / start_0)*(len(raw_data))/3.0 \n",
    "weight_for_1 = (1 / mid_1)*(len(raw_data))/3.0\n",
    "weight_for_2 = (1 / end_2)*(len(raw_data))/3.0\n",
    "\n",
    "class_weight = {0: weight_for_0, 1: weight_for_1, 2: weight_for_2}\n",
    "\n",
    "print('Weight for class 0: {:.2f}'.format(weight_for_0))\n",
    "print('Weight for class 1: {:.2f}'.format(weight_for_1))\n",
    "print('Weight for class 2: {:.2f}'.format(weight_for_2))"
   ]
  },
  {
   "cell_type": "code",
   "execution_count": 198,
   "id": "gross-humidity",
   "metadata": {},
   "outputs": [],
   "source": [
    "train_predictions_weighted = weighted_model.predict(train_features, batch_size=BATCH_SIZE)\n",
    "test_predictions_weighted = weighted_model.predict(test_features, batch_size=BATCH_SIZE)"
   ]
  },
  {
   "cell_type": "code",
   "execution_count": 199,
   "id": "weighted-malawi",
   "metadata": {},
   "outputs": [],
   "source": [
    "# over sample"
   ]
  },
  {
   "cell_type": "code",
   "execution_count": 200,
   "id": "trying-parker",
   "metadata": {},
   "outputs": [
    {
     "output_type": "stream",
     "name": "stdout",
     "text": [
      "Model: \"sequential_14\"\n_________________________________________________________________\nLayer (type)                 Output Shape              Param #   \n=================================================================\ndense_42 (Dense)             (None, 16)                640       \n_________________________________________________________________\ndense_43 (Dense)             (None, 32)                544       \n_________________________________________________________________\ndense_44 (Dense)             (None, 1)                 33        \n=================================================================\nTotal params: 1,217\nTrainable params: 1,217\nNon-trainable params: 0\n_________________________________________________________________\n"
     ]
    }
   ],
   "source": [
    "os_model = make_model()\n",
    "os_model.load_weights(initial_weights)\n",
    "os_model.summary()"
   ]
  },
  {
   "cell_type": "markdown",
   "id": "decreased-dinner",
   "metadata": {},
   "source": [
    "# Data aug"
   ]
  },
  {
   "cell_type": "code",
   "execution_count": 201,
   "id": "intelligent-giant",
   "metadata": {},
   "outputs": [],
   "source": [
    "def mirrorY(raw_data, posenet=False):\n",
    "    \n",
    "    try:\n",
    "        aug_data_y_mirror = raw_data.copy()\n",
    "        \n",
    "        if posenet:\n",
    "            aug_data_y_mirror = aug_data_y_mirror.append(aug_data_y_mirror.assign(head_y=-aug_data_y_mirror['head_y'],\n",
    "                                                                                  leftShoulder_y=-aug_data_y_mirror['leftShoulder_y'], \n",
    "                                                                                  rightShoulder_y=-aug_data_y_mirror['rightShoulder_y'],\n",
    "                                                                                  leftElbow_y=-aug_data_y_mirror['leftElbow_y'],\n",
    "                                                                                  rightElbow_y=-aug_data_y_mirror['rightElbow_y'],\n",
    "                                                                                  leftWrist_y=-aug_data_y_mirror['leftWrist_y'],\n",
    "                                                                                  rightWrist_y=-aug_data_y_mirror['rightWrist_y'],\n",
    "                                                                                  leftHip_y=-aug_data_y_mirror['leftHip_y'],\n",
    "                                                                                  rightHip_y=-aug_data_y_mirror['rightHip_y'],\n",
    "                                                                                  leftKnee_y=-aug_data_y_mirror['leftKnee_y'],\n",
    "                                                                                  rightKnee_y=-aug_data_y_mirror['rightKnee_y'],\n",
    "                                                                                  leftAnkle_y=-aug_data_y_mirror['leftAnkle_y'],\n",
    "                                                                                  rightAnkle_y=-aug_data_y_mirror['rightAnkle_y']))\n",
    "        else:\n",
    "            aug_data_y_mirror = aug_data_y_mirror.append(aug_data_y_mirror.assign(head_y=-aug_data_y_mirror['head_y'],\n",
    "                                                                                  left_shoulder_y=-aug_data_y_mirror['left_shoulder_y'], \n",
    "                                                                                  left_elbow_y=-aug_data_y_mirror['left_elbow_y'],\n",
    "                                                                                  right_shoulder_y=-aug_data_y_mirror['right_shoulder_y'],\n",
    "                                                                                  right_elbow_y=-aug_data_y_mirror['right_elbow_y'],\n",
    "                                                                                  left_hand_y=-aug_data_y_mirror['left_hand_y'],\n",
    "                                                                                  right_hand_y=-aug_data_y_mirror['right_hand_y'],\n",
    "                                                                                  left_hip_y=-aug_data_y_mirror['left_hip_y'],\n",
    "                                                                                  right_hip_y=-aug_data_y_mirror['right_hip_y'],\n",
    "                                                                                  left_knee_y=-aug_data_y_mirror['left_knee_y'],\n",
    "                                                                                  right_knee_y=-aug_data_y_mirror['right_knee_y'],\n",
    "                                                                                  left_foot_y=-aug_data_y_mirror['left_foot_y'],\n",
    "                                                                                  right_foot_y=-aug_data_y_mirror['right_foot_y']))\n",
    "        \n",
    "        \n",
    "        #print(raw_data.shape)\n",
    "        #print(aug_data_y_mirror.shape)\n",
    "        return aug_data_y_mirror\n",
    "    \n",
    "    except IOError as e:\n",
    "        print(e)\n",
    "        return None"
   ]
  },
  {
   "cell_type": "code",
   "execution_count": 202,
   "id": "authentic-scratch",
   "metadata": {},
   "outputs": [],
   "source": [
    "def augMultiplier(raw_data, multiplier):\n",
    "    \n",
    "    try:\n",
    "        aug_data_offset = raw_data.copy()\n",
    "        #print(aug_data_offset.head())\n",
    "        aug_data_offset *= multiplier\n",
    "        #print(aug_data_offset.head())\n",
    "        return aug_data_y_mirror\n",
    "    \n",
    "    except IOError as e:\n",
    "        print(e)\n",
    "        return None"
   ]
  },
  {
   "cell_type": "code",
   "execution_count": 203,
   "id": "bright-clear",
   "metadata": {},
   "outputs": [],
   "source": [
    "aug_data_y_mirror = mirrorY(raw_data)"
   ]
  },
  {
   "cell_type": "code",
   "execution_count": 204,
   "id": "breeding-browser",
   "metadata": {},
   "outputs": [],
   "source": [
    "aug_data_offset = augMultiplier(raw_data, multiplier=2)"
   ]
  },
  {
   "cell_type": "code",
   "execution_count": 205,
   "id": "narrative-friendly",
   "metadata": {},
   "outputs": [],
   "source": [
    "aug_data_offset = augMultiplier(raw_data, multiplier=0.5)"
   ]
  },
  {
   "cell_type": "code",
   "execution_count": 206,
   "id": "interior-prediction",
   "metadata": {},
   "outputs": [
    {
     "output_type": "execute_result",
     "data": {
      "text/plain": [
       "       FrameNo    head_x   head_y    head_z  left_shoulder_x  left_shoulder_y  \\\n",
       "0            0  0.009962  0.75910  0.015747         -0.15673          0.46100   \n",
       "1            1  0.010491  0.75974  0.017753         -0.15662          0.46125   \n",
       "2            2  0.010730  0.75990  0.018405         -0.15668          0.46150   \n",
       "3            3  0.010916  0.76001  0.019369         -0.15645          0.46188   \n",
       "4            4  0.011140  0.75994  0.019772         -0.15642          0.46199   \n",
       "...        ...       ...      ...       ...              ...              ...   \n",
       "37777      235 -0.017153 -0.76394  0.046570         -0.17340         -0.47949   \n",
       "37778      236 -0.017700 -0.76488  0.047120         -0.17220         -0.47846   \n",
       "37779      237 -0.018257 -0.76646  0.048112         -0.17155         -0.47633   \n",
       "37780      238 -0.019091 -0.76760  0.048815         -0.17060         -0.47342   \n",
       "37781      239 -0.020865 -0.77097  0.052055         -0.17028         -0.47321   \n",
       "\n",
       "       left_shoulder_z  left_elbow_x  left_elbow_y  left_elbow_z  ...  \\\n",
       "0             0.028399      -0.18256       0.20732      0.018668  ...   \n",
       "1             0.029317      -0.18223       0.20594      0.020562  ...   \n",
       "2             0.029991      -0.18164       0.20587      0.021215  ...   \n",
       "3             0.030573      -0.18095       0.20619      0.021357  ...   \n",
       "4             0.030829      -0.18034       0.20624      0.021669  ...   \n",
       "...                ...           ...           ...           ...  ...   \n",
       "37777        -0.011006      -0.24563      -0.28570     -0.059760  ...   \n",
       "37778        -0.013577      -0.24368      -0.28802     -0.072414  ...   \n",
       "37779        -0.017028      -0.23788      -0.28956     -0.088592  ...   \n",
       "37780        -0.023125      -0.23001      -0.29131     -0.108770  ...   \n",
       "37781        -0.025260      -0.21703      -0.29981     -0.123960  ...   \n",
       "\n",
       "       right_knee_x  right_knee_y  right_knee_z  left_foot_x  left_foot_y  \\\n",
       "0          0.113710      -0.37810     -0.030049    -0.135150     -0.74477   \n",
       "1          0.113780      -0.37805     -0.030093    -0.134930     -0.74433   \n",
       "2          0.113770      -0.37790     -0.030111    -0.135180     -0.74493   \n",
       "3          0.113760      -0.37788     -0.030140    -0.135170     -0.74509   \n",
       "4          0.113680      -0.37791     -0.030162    -0.135110     -0.74538   \n",
       "...             ...           ...           ...          ...          ...   \n",
       "37777      0.082834       0.33250      0.032942    -0.099983      0.67321   \n",
       "37778      0.082818       0.33391      0.033180    -0.099923      0.67313   \n",
       "37779      0.081940       0.32971      0.031456    -0.099905      0.67315   \n",
       "37780      0.081628       0.33299      0.031661    -0.099949      0.67324   \n",
       "37781      0.081474       0.33531      0.032205    -0.099720      0.67322   \n",
       "\n",
       "       left_foot_z  right_foot_x  right_foot_y  right_foot_z  status  \n",
       "0        -0.045770      0.129800      -0.74631     -0.060231       0  \n",
       "1        -0.045317      0.130490      -0.74087     -0.056886       0  \n",
       "2        -0.045716      0.130040      -0.74171     -0.057271       0  \n",
       "3        -0.045595      0.130050      -0.74267     -0.057693       0  \n",
       "4        -0.045998      0.130400      -0.74201     -0.057177       0  \n",
       "...            ...           ...           ...           ...     ...  \n",
       "37777     0.037888      0.092230       0.66897      0.035241       2  \n",
       "37778     0.037897      0.092134       0.66866      0.035156       2  \n",
       "37779     0.037819      0.092173       0.66856      0.035108       2  \n",
       "37780     0.037719      0.091919       0.66899      0.034746       2  \n",
       "37781     0.038129      0.091773       0.66923      0.034823       2  \n",
       "\n",
       "[75564 rows x 41 columns]"
      ],
      "text/html": "<div>\n<style scoped>\n    .dataframe tbody tr th:only-of-type {\n        vertical-align: middle;\n    }\n\n    .dataframe tbody tr th {\n        vertical-align: top;\n    }\n\n    .dataframe thead th {\n        text-align: right;\n    }\n</style>\n<table border=\"1\" class=\"dataframe\">\n  <thead>\n    <tr style=\"text-align: right;\">\n      <th></th>\n      <th>FrameNo</th>\n      <th>head_x</th>\n      <th>head_y</th>\n      <th>head_z</th>\n      <th>left_shoulder_x</th>\n      <th>left_shoulder_y</th>\n      <th>left_shoulder_z</th>\n      <th>left_elbow_x</th>\n      <th>left_elbow_y</th>\n      <th>left_elbow_z</th>\n      <th>...</th>\n      <th>right_knee_x</th>\n      <th>right_knee_y</th>\n      <th>right_knee_z</th>\n      <th>left_foot_x</th>\n      <th>left_foot_y</th>\n      <th>left_foot_z</th>\n      <th>right_foot_x</th>\n      <th>right_foot_y</th>\n      <th>right_foot_z</th>\n      <th>status</th>\n    </tr>\n  </thead>\n  <tbody>\n    <tr>\n      <th>0</th>\n      <td>0</td>\n      <td>0.009962</td>\n      <td>0.75910</td>\n      <td>0.015747</td>\n      <td>-0.15673</td>\n      <td>0.46100</td>\n      <td>0.028399</td>\n      <td>-0.18256</td>\n      <td>0.20732</td>\n      <td>0.018668</td>\n      <td>...</td>\n      <td>0.113710</td>\n      <td>-0.37810</td>\n      <td>-0.030049</td>\n      <td>-0.135150</td>\n      <td>-0.74477</td>\n      <td>-0.045770</td>\n      <td>0.129800</td>\n      <td>-0.74631</td>\n      <td>-0.060231</td>\n      <td>0</td>\n    </tr>\n    <tr>\n      <th>1</th>\n      <td>1</td>\n      <td>0.010491</td>\n      <td>0.75974</td>\n      <td>0.017753</td>\n      <td>-0.15662</td>\n      <td>0.46125</td>\n      <td>0.029317</td>\n      <td>-0.18223</td>\n      <td>0.20594</td>\n      <td>0.020562</td>\n      <td>...</td>\n      <td>0.113780</td>\n      <td>-0.37805</td>\n      <td>-0.030093</td>\n      <td>-0.134930</td>\n      <td>-0.74433</td>\n      <td>-0.045317</td>\n      <td>0.130490</td>\n      <td>-0.74087</td>\n      <td>-0.056886</td>\n      <td>0</td>\n    </tr>\n    <tr>\n      <th>2</th>\n      <td>2</td>\n      <td>0.010730</td>\n      <td>0.75990</td>\n      <td>0.018405</td>\n      <td>-0.15668</td>\n      <td>0.46150</td>\n      <td>0.029991</td>\n      <td>-0.18164</td>\n      <td>0.20587</td>\n      <td>0.021215</td>\n      <td>...</td>\n      <td>0.113770</td>\n      <td>-0.37790</td>\n      <td>-0.030111</td>\n      <td>-0.135180</td>\n      <td>-0.74493</td>\n      <td>-0.045716</td>\n      <td>0.130040</td>\n      <td>-0.74171</td>\n      <td>-0.057271</td>\n      <td>0</td>\n    </tr>\n    <tr>\n      <th>3</th>\n      <td>3</td>\n      <td>0.010916</td>\n      <td>0.76001</td>\n      <td>0.019369</td>\n      <td>-0.15645</td>\n      <td>0.46188</td>\n      <td>0.030573</td>\n      <td>-0.18095</td>\n      <td>0.20619</td>\n      <td>0.021357</td>\n      <td>...</td>\n      <td>0.113760</td>\n      <td>-0.37788</td>\n      <td>-0.030140</td>\n      <td>-0.135170</td>\n      <td>-0.74509</td>\n      <td>-0.045595</td>\n      <td>0.130050</td>\n      <td>-0.74267</td>\n      <td>-0.057693</td>\n      <td>0</td>\n    </tr>\n    <tr>\n      <th>4</th>\n      <td>4</td>\n      <td>0.011140</td>\n      <td>0.75994</td>\n      <td>0.019772</td>\n      <td>-0.15642</td>\n      <td>0.46199</td>\n      <td>0.030829</td>\n      <td>-0.18034</td>\n      <td>0.20624</td>\n      <td>0.021669</td>\n      <td>...</td>\n      <td>0.113680</td>\n      <td>-0.37791</td>\n      <td>-0.030162</td>\n      <td>-0.135110</td>\n      <td>-0.74538</td>\n      <td>-0.045998</td>\n      <td>0.130400</td>\n      <td>-0.74201</td>\n      <td>-0.057177</td>\n      <td>0</td>\n    </tr>\n    <tr>\n      <th>...</th>\n      <td>...</td>\n      <td>...</td>\n      <td>...</td>\n      <td>...</td>\n      <td>...</td>\n      <td>...</td>\n      <td>...</td>\n      <td>...</td>\n      <td>...</td>\n      <td>...</td>\n      <td>...</td>\n      <td>...</td>\n      <td>...</td>\n      <td>...</td>\n      <td>...</td>\n      <td>...</td>\n      <td>...</td>\n      <td>...</td>\n      <td>...</td>\n      <td>...</td>\n      <td>...</td>\n    </tr>\n    <tr>\n      <th>37777</th>\n      <td>235</td>\n      <td>-0.017153</td>\n      <td>-0.76394</td>\n      <td>0.046570</td>\n      <td>-0.17340</td>\n      <td>-0.47949</td>\n      <td>-0.011006</td>\n      <td>-0.24563</td>\n      <td>-0.28570</td>\n      <td>-0.059760</td>\n      <td>...</td>\n      <td>0.082834</td>\n      <td>0.33250</td>\n      <td>0.032942</td>\n      <td>-0.099983</td>\n      <td>0.67321</td>\n      <td>0.037888</td>\n      <td>0.092230</td>\n      <td>0.66897</td>\n      <td>0.035241</td>\n      <td>2</td>\n    </tr>\n    <tr>\n      <th>37778</th>\n      <td>236</td>\n      <td>-0.017700</td>\n      <td>-0.76488</td>\n      <td>0.047120</td>\n      <td>-0.17220</td>\n      <td>-0.47846</td>\n      <td>-0.013577</td>\n      <td>-0.24368</td>\n      <td>-0.28802</td>\n      <td>-0.072414</td>\n      <td>...</td>\n      <td>0.082818</td>\n      <td>0.33391</td>\n      <td>0.033180</td>\n      <td>-0.099923</td>\n      <td>0.67313</td>\n      <td>0.037897</td>\n      <td>0.092134</td>\n      <td>0.66866</td>\n      <td>0.035156</td>\n      <td>2</td>\n    </tr>\n    <tr>\n      <th>37779</th>\n      <td>237</td>\n      <td>-0.018257</td>\n      <td>-0.76646</td>\n      <td>0.048112</td>\n      <td>-0.17155</td>\n      <td>-0.47633</td>\n      <td>-0.017028</td>\n      <td>-0.23788</td>\n      <td>-0.28956</td>\n      <td>-0.088592</td>\n      <td>...</td>\n      <td>0.081940</td>\n      <td>0.32971</td>\n      <td>0.031456</td>\n      <td>-0.099905</td>\n      <td>0.67315</td>\n      <td>0.037819</td>\n      <td>0.092173</td>\n      <td>0.66856</td>\n      <td>0.035108</td>\n      <td>2</td>\n    </tr>\n    <tr>\n      <th>37780</th>\n      <td>238</td>\n      <td>-0.019091</td>\n      <td>-0.76760</td>\n      <td>0.048815</td>\n      <td>-0.17060</td>\n      <td>-0.47342</td>\n      <td>-0.023125</td>\n      <td>-0.23001</td>\n      <td>-0.29131</td>\n      <td>-0.108770</td>\n      <td>...</td>\n      <td>0.081628</td>\n      <td>0.33299</td>\n      <td>0.031661</td>\n      <td>-0.099949</td>\n      <td>0.67324</td>\n      <td>0.037719</td>\n      <td>0.091919</td>\n      <td>0.66899</td>\n      <td>0.034746</td>\n      <td>2</td>\n    </tr>\n    <tr>\n      <th>37781</th>\n      <td>239</td>\n      <td>-0.020865</td>\n      <td>-0.77097</td>\n      <td>0.052055</td>\n      <td>-0.17028</td>\n      <td>-0.47321</td>\n      <td>-0.025260</td>\n      <td>-0.21703</td>\n      <td>-0.29981</td>\n      <td>-0.123960</td>\n      <td>...</td>\n      <td>0.081474</td>\n      <td>0.33531</td>\n      <td>0.032205</td>\n      <td>-0.099720</td>\n      <td>0.67322</td>\n      <td>0.038129</td>\n      <td>0.091773</td>\n      <td>0.66923</td>\n      <td>0.034823</td>\n      <td>2</td>\n    </tr>\n  </tbody>\n</table>\n<p>75564 rows × 41 columns</p>\n</div>"
     },
     "metadata": {},
     "execution_count": 206
    }
   ],
   "source": [
    "aug_data_offset"
   ]
  },
  {
   "cell_type": "code",
   "execution_count": null,
   "id": "handled-switzerland",
   "metadata": {},
   "outputs": [],
   "source": []
  },
  {
   "cell_type": "code",
   "execution_count": null,
   "id": "cosmetic-scenario",
   "metadata": {},
   "outputs": [],
   "source": []
  }
 ],
 "metadata": {
  "kernelspec": {
   "name": "python376jvsc74a57bd0e134e05457d34029b6460cd73bbf1ed73f339b5b6d98c95be70b69eba114fe95",
   "display_name": "Python 3.7.6 64-bit ('base': conda)"
  },
  "language_info": {
   "codemirror_mode": {
    "name": "ipython",
    "version": 3
   },
   "file_extension": ".py",
   "mimetype": "text/x-python",
   "name": "python",
   "nbconvert_exporter": "python",
   "pygments_lexer": "ipython3",
   "version": "3.7.6"
  }
 },
 "nbformat": 4,
 "nbformat_minor": 5
}