{
 "cells": [
  {
   "cell_type": "markdown",
   "id": "aware-instrument",
   "metadata": {},
   "source": [
    "# Classify using start=0 mid = 1 end = 2"
   ]
  },
  {
   "cell_type": "code",
   "execution_count": 1,
   "id": "sunset-token",
   "metadata": {},
   "outputs": [],
   "source": [
    "import sys\n",
    "import pandas as pd\n",
    "import numpy as np"
   ]
  },
  {
   "cell_type": "markdown",
   "id": "copyrighted-recruitment",
   "metadata": {},
   "source": [
    "## 1. Read dataset"
   ]
  },
  {
   "cell_type": "code",
   "execution_count": 2,
   "id": "suspended-diary",
   "metadata": {},
   "outputs": [],
   "source": [
    "dirname = '../../datasets/marked_start_mid_end/'\n",
    "suffix = '.csv'\n",
    "\n",
    "def read_from_file( file_name, rand_num):\n",
    "    \n",
    "    try:\n",
    "        full_file_name = file_name + str(rand_num) + \"_kinect\"\n",
    "\n",
    "        file_at_path = dirname + full_file_name + suffix\n",
    "\n",
    "        data = pd.read_csv(file_at_path)\n",
    "        \n",
    "        return data, full_file_name\n",
    "    \n",
    "    except IOError as e:\n",
    "        print(e)\n",
    "        return None,None"
   ]
  },
  {
   "cell_type": "markdown",
   "id": "alert-savage",
   "metadata": {},
   "source": [
    "## 2. Read files"
   ]
  },
  {
   "cell_type": "markdown",
   "id": "trained-timing",
   "metadata": {},
   "source": [
    "### 2.1 The A series (A1-A159)"
   ]
  },
  {
   "cell_type": "code",
   "execution_count": 3,
   "id": "consolidated-victoria",
   "metadata": {},
   "outputs": [
    {
     "name": "stdout",
     "output_type": "stream",
     "text": [
      "(229, 41)\n",
      "[Errno 2] No such file or directory: '../../datasets/marked_start_mid_end/A60_kinect.csv'\n",
      "[Errno 2] No such file or directory: '../../datasets/marked_start_mid_end/A107_kinect.csv'\n",
      "(32387, 41)\n"
     ]
    }
   ],
   "source": [
    "raw_data, full_file_name = read_from_file(\"A\", 1)\n",
    "\n",
    "#print(full_file_name)\n",
    "print(raw_data.shape)\n",
    "\n",
    "for i in range(2,160):\n",
    "    input_data, full_file_name = read_from_file(\"A\", i)\n",
    "    \n",
    "    if(full_file_name is None):\n",
    "        continue\n",
    "    else:\n",
    "        #print(full_file_name)\n",
    "        raw_data = raw_data.append(input_data, ignore_index = True)\n",
    "\n",
    "print(raw_data.shape)"
   ]
  },
  {
   "cell_type": "markdown",
   "id": "driven-graph",
   "metadata": {},
   "source": [
    "### 2.2 The B series (B1-B22)"
   ]
  },
  {
   "cell_type": "code",
   "execution_count": 4,
   "id": "reserved-victoria",
   "metadata": {},
   "outputs": [
    {
     "name": "stdout",
     "output_type": "stream",
     "text": [
      "(37782, 41)\n"
     ]
    }
   ],
   "source": [
    "for i in range(1,23):\n",
    "    input_data, full_file_name = read_from_file(\"B\", i)\n",
    "    \n",
    "    if(full_file_name is None):\n",
    "        continue\n",
    "    else:\n",
    "        #print(full_file_name)\n",
    "        raw_data = raw_data.append(input_data, ignore_index = True)\n",
    "\n",
    "print(raw_data.shape)"
   ]
  },
  {
   "cell_type": "code",
   "execution_count": 5,
   "id": "apparent-contact",
   "metadata": {},
   "outputs": [
    {
     "data": {
      "text/html": [
       "<div>\n",
       "<style scoped>\n",
       "    .dataframe tbody tr th:only-of-type {\n",
       "        vertical-align: middle;\n",
       "    }\n",
       "\n",
       "    .dataframe tbody tr th {\n",
       "        vertical-align: top;\n",
       "    }\n",
       "\n",
       "    .dataframe thead th {\n",
       "        text-align: right;\n",
       "    }\n",
       "</style>\n",
       "<table border=\"1\" class=\"dataframe\">\n",
       "  <thead>\n",
       "    <tr style=\"text-align: right;\">\n",
       "      <th></th>\n",
       "      <th>FrameNo</th>\n",
       "      <th>head_x</th>\n",
       "      <th>head_y</th>\n",
       "      <th>head_z</th>\n",
       "      <th>left_shoulder_x</th>\n",
       "      <th>left_shoulder_y</th>\n",
       "      <th>left_shoulder_z</th>\n",
       "      <th>left_elbow_x</th>\n",
       "      <th>left_elbow_y</th>\n",
       "      <th>left_elbow_z</th>\n",
       "      <th>...</th>\n",
       "      <th>right_knee_x</th>\n",
       "      <th>right_knee_y</th>\n",
       "      <th>right_knee_z</th>\n",
       "      <th>left_foot_x</th>\n",
       "      <th>left_foot_y</th>\n",
       "      <th>left_foot_z</th>\n",
       "      <th>right_foot_x</th>\n",
       "      <th>right_foot_y</th>\n",
       "      <th>right_foot_z</th>\n",
       "      <th>status</th>\n",
       "    </tr>\n",
       "  </thead>\n",
       "  <tbody>\n",
       "    <tr>\n",
       "      <th>0</th>\n",
       "      <td>0</td>\n",
       "      <td>0.009962</td>\n",
       "      <td>0.75910</td>\n",
       "      <td>0.015747</td>\n",
       "      <td>-0.15673</td>\n",
       "      <td>0.46100</td>\n",
       "      <td>0.028399</td>\n",
       "      <td>-0.18256</td>\n",
       "      <td>0.20732</td>\n",
       "      <td>0.018668</td>\n",
       "      <td>...</td>\n",
       "      <td>0.113710</td>\n",
       "      <td>-0.37810</td>\n",
       "      <td>-0.030049</td>\n",
       "      <td>-0.135150</td>\n",
       "      <td>-0.74477</td>\n",
       "      <td>-0.045770</td>\n",
       "      <td>0.129800</td>\n",
       "      <td>-0.74631</td>\n",
       "      <td>-0.060231</td>\n",
       "      <td>0</td>\n",
       "    </tr>\n",
       "    <tr>\n",
       "      <th>1</th>\n",
       "      <td>1</td>\n",
       "      <td>0.010491</td>\n",
       "      <td>0.75974</td>\n",
       "      <td>0.017753</td>\n",
       "      <td>-0.15662</td>\n",
       "      <td>0.46125</td>\n",
       "      <td>0.029317</td>\n",
       "      <td>-0.18223</td>\n",
       "      <td>0.20594</td>\n",
       "      <td>0.020562</td>\n",
       "      <td>...</td>\n",
       "      <td>0.113780</td>\n",
       "      <td>-0.37805</td>\n",
       "      <td>-0.030093</td>\n",
       "      <td>-0.134930</td>\n",
       "      <td>-0.74433</td>\n",
       "      <td>-0.045317</td>\n",
       "      <td>0.130490</td>\n",
       "      <td>-0.74087</td>\n",
       "      <td>-0.056886</td>\n",
       "      <td>0</td>\n",
       "    </tr>\n",
       "    <tr>\n",
       "      <th>2</th>\n",
       "      <td>2</td>\n",
       "      <td>0.010730</td>\n",
       "      <td>0.75990</td>\n",
       "      <td>0.018405</td>\n",
       "      <td>-0.15668</td>\n",
       "      <td>0.46150</td>\n",
       "      <td>0.029991</td>\n",
       "      <td>-0.18164</td>\n",
       "      <td>0.20587</td>\n",
       "      <td>0.021215</td>\n",
       "      <td>...</td>\n",
       "      <td>0.113770</td>\n",
       "      <td>-0.37790</td>\n",
       "      <td>-0.030111</td>\n",
       "      <td>-0.135180</td>\n",
       "      <td>-0.74493</td>\n",
       "      <td>-0.045716</td>\n",
       "      <td>0.130040</td>\n",
       "      <td>-0.74171</td>\n",
       "      <td>-0.057271</td>\n",
       "      <td>0</td>\n",
       "    </tr>\n",
       "    <tr>\n",
       "      <th>3</th>\n",
       "      <td>3</td>\n",
       "      <td>0.010916</td>\n",
       "      <td>0.76001</td>\n",
       "      <td>0.019369</td>\n",
       "      <td>-0.15645</td>\n",
       "      <td>0.46188</td>\n",
       "      <td>0.030573</td>\n",
       "      <td>-0.18095</td>\n",
       "      <td>0.20619</td>\n",
       "      <td>0.021357</td>\n",
       "      <td>...</td>\n",
       "      <td>0.113760</td>\n",
       "      <td>-0.37788</td>\n",
       "      <td>-0.030140</td>\n",
       "      <td>-0.135170</td>\n",
       "      <td>-0.74509</td>\n",
       "      <td>-0.045595</td>\n",
       "      <td>0.130050</td>\n",
       "      <td>-0.74267</td>\n",
       "      <td>-0.057693</td>\n",
       "      <td>0</td>\n",
       "    </tr>\n",
       "    <tr>\n",
       "      <th>4</th>\n",
       "      <td>4</td>\n",
       "      <td>0.011140</td>\n",
       "      <td>0.75994</td>\n",
       "      <td>0.019772</td>\n",
       "      <td>-0.15642</td>\n",
       "      <td>0.46199</td>\n",
       "      <td>0.030829</td>\n",
       "      <td>-0.18034</td>\n",
       "      <td>0.20624</td>\n",
       "      <td>0.021669</td>\n",
       "      <td>...</td>\n",
       "      <td>0.113680</td>\n",
       "      <td>-0.37791</td>\n",
       "      <td>-0.030162</td>\n",
       "      <td>-0.135110</td>\n",
       "      <td>-0.74538</td>\n",
       "      <td>-0.045998</td>\n",
       "      <td>0.130400</td>\n",
       "      <td>-0.74201</td>\n",
       "      <td>-0.057177</td>\n",
       "      <td>0</td>\n",
       "    </tr>\n",
       "    <tr>\n",
       "      <th>...</th>\n",
       "      <td>...</td>\n",
       "      <td>...</td>\n",
       "      <td>...</td>\n",
       "      <td>...</td>\n",
       "      <td>...</td>\n",
       "      <td>...</td>\n",
       "      <td>...</td>\n",
       "      <td>...</td>\n",
       "      <td>...</td>\n",
       "      <td>...</td>\n",
       "      <td>...</td>\n",
       "      <td>...</td>\n",
       "      <td>...</td>\n",
       "      <td>...</td>\n",
       "      <td>...</td>\n",
       "      <td>...</td>\n",
       "      <td>...</td>\n",
       "      <td>...</td>\n",
       "      <td>...</td>\n",
       "      <td>...</td>\n",
       "      <td>...</td>\n",
       "    </tr>\n",
       "    <tr>\n",
       "      <th>37777</th>\n",
       "      <td>235</td>\n",
       "      <td>-0.017153</td>\n",
       "      <td>0.76394</td>\n",
       "      <td>0.046570</td>\n",
       "      <td>-0.17340</td>\n",
       "      <td>0.47949</td>\n",
       "      <td>-0.011006</td>\n",
       "      <td>-0.24563</td>\n",
       "      <td>0.28570</td>\n",
       "      <td>-0.059760</td>\n",
       "      <td>...</td>\n",
       "      <td>0.082834</td>\n",
       "      <td>-0.33250</td>\n",
       "      <td>0.032942</td>\n",
       "      <td>-0.099983</td>\n",
       "      <td>-0.67321</td>\n",
       "      <td>0.037888</td>\n",
       "      <td>0.092230</td>\n",
       "      <td>-0.66897</td>\n",
       "      <td>0.035241</td>\n",
       "      <td>2</td>\n",
       "    </tr>\n",
       "    <tr>\n",
       "      <th>37778</th>\n",
       "      <td>236</td>\n",
       "      <td>-0.017700</td>\n",
       "      <td>0.76488</td>\n",
       "      <td>0.047120</td>\n",
       "      <td>-0.17220</td>\n",
       "      <td>0.47846</td>\n",
       "      <td>-0.013577</td>\n",
       "      <td>-0.24368</td>\n",
       "      <td>0.28802</td>\n",
       "      <td>-0.072414</td>\n",
       "      <td>...</td>\n",
       "      <td>0.082818</td>\n",
       "      <td>-0.33391</td>\n",
       "      <td>0.033180</td>\n",
       "      <td>-0.099923</td>\n",
       "      <td>-0.67313</td>\n",
       "      <td>0.037897</td>\n",
       "      <td>0.092134</td>\n",
       "      <td>-0.66866</td>\n",
       "      <td>0.035156</td>\n",
       "      <td>2</td>\n",
       "    </tr>\n",
       "    <tr>\n",
       "      <th>37779</th>\n",
       "      <td>237</td>\n",
       "      <td>-0.018257</td>\n",
       "      <td>0.76646</td>\n",
       "      <td>0.048112</td>\n",
       "      <td>-0.17155</td>\n",
       "      <td>0.47633</td>\n",
       "      <td>-0.017028</td>\n",
       "      <td>-0.23788</td>\n",
       "      <td>0.28956</td>\n",
       "      <td>-0.088592</td>\n",
       "      <td>...</td>\n",
       "      <td>0.081940</td>\n",
       "      <td>-0.32971</td>\n",
       "      <td>0.031456</td>\n",
       "      <td>-0.099905</td>\n",
       "      <td>-0.67315</td>\n",
       "      <td>0.037819</td>\n",
       "      <td>0.092173</td>\n",
       "      <td>-0.66856</td>\n",
       "      <td>0.035108</td>\n",
       "      <td>2</td>\n",
       "    </tr>\n",
       "    <tr>\n",
       "      <th>37780</th>\n",
       "      <td>238</td>\n",
       "      <td>-0.019091</td>\n",
       "      <td>0.76760</td>\n",
       "      <td>0.048815</td>\n",
       "      <td>-0.17060</td>\n",
       "      <td>0.47342</td>\n",
       "      <td>-0.023125</td>\n",
       "      <td>-0.23001</td>\n",
       "      <td>0.29131</td>\n",
       "      <td>-0.108770</td>\n",
       "      <td>...</td>\n",
       "      <td>0.081628</td>\n",
       "      <td>-0.33299</td>\n",
       "      <td>0.031661</td>\n",
       "      <td>-0.099949</td>\n",
       "      <td>-0.67324</td>\n",
       "      <td>0.037719</td>\n",
       "      <td>0.091919</td>\n",
       "      <td>-0.66899</td>\n",
       "      <td>0.034746</td>\n",
       "      <td>2</td>\n",
       "    </tr>\n",
       "    <tr>\n",
       "      <th>37781</th>\n",
       "      <td>239</td>\n",
       "      <td>-0.020865</td>\n",
       "      <td>0.77097</td>\n",
       "      <td>0.052055</td>\n",
       "      <td>-0.17028</td>\n",
       "      <td>0.47321</td>\n",
       "      <td>-0.025260</td>\n",
       "      <td>-0.21703</td>\n",
       "      <td>0.29981</td>\n",
       "      <td>-0.123960</td>\n",
       "      <td>...</td>\n",
       "      <td>0.081474</td>\n",
       "      <td>-0.33531</td>\n",
       "      <td>0.032205</td>\n",
       "      <td>-0.099720</td>\n",
       "      <td>-0.67322</td>\n",
       "      <td>0.038129</td>\n",
       "      <td>0.091773</td>\n",
       "      <td>-0.66923</td>\n",
       "      <td>0.034823</td>\n",
       "      <td>2</td>\n",
       "    </tr>\n",
       "  </tbody>\n",
       "</table>\n",
       "<p>37782 rows × 41 columns</p>\n",
       "</div>"
      ],
      "text/plain": [
       "       FrameNo    head_x   head_y    head_z  left_shoulder_x  left_shoulder_y  \\\n",
       "0            0  0.009962  0.75910  0.015747         -0.15673          0.46100   \n",
       "1            1  0.010491  0.75974  0.017753         -0.15662          0.46125   \n",
       "2            2  0.010730  0.75990  0.018405         -0.15668          0.46150   \n",
       "3            3  0.010916  0.76001  0.019369         -0.15645          0.46188   \n",
       "4            4  0.011140  0.75994  0.019772         -0.15642          0.46199   \n",
       "...        ...       ...      ...       ...              ...              ...   \n",
       "37777      235 -0.017153  0.76394  0.046570         -0.17340          0.47949   \n",
       "37778      236 -0.017700  0.76488  0.047120         -0.17220          0.47846   \n",
       "37779      237 -0.018257  0.76646  0.048112         -0.17155          0.47633   \n",
       "37780      238 -0.019091  0.76760  0.048815         -0.17060          0.47342   \n",
       "37781      239 -0.020865  0.77097  0.052055         -0.17028          0.47321   \n",
       "\n",
       "       left_shoulder_z  left_elbow_x  left_elbow_y  left_elbow_z  ...  \\\n",
       "0             0.028399      -0.18256       0.20732      0.018668  ...   \n",
       "1             0.029317      -0.18223       0.20594      0.020562  ...   \n",
       "2             0.029991      -0.18164       0.20587      0.021215  ...   \n",
       "3             0.030573      -0.18095       0.20619      0.021357  ...   \n",
       "4             0.030829      -0.18034       0.20624      0.021669  ...   \n",
       "...                ...           ...           ...           ...  ...   \n",
       "37777        -0.011006      -0.24563       0.28570     -0.059760  ...   \n",
       "37778        -0.013577      -0.24368       0.28802     -0.072414  ...   \n",
       "37779        -0.017028      -0.23788       0.28956     -0.088592  ...   \n",
       "37780        -0.023125      -0.23001       0.29131     -0.108770  ...   \n",
       "37781        -0.025260      -0.21703       0.29981     -0.123960  ...   \n",
       "\n",
       "       right_knee_x  right_knee_y  right_knee_z  left_foot_x  left_foot_y  \\\n",
       "0          0.113710      -0.37810     -0.030049    -0.135150     -0.74477   \n",
       "1          0.113780      -0.37805     -0.030093    -0.134930     -0.74433   \n",
       "2          0.113770      -0.37790     -0.030111    -0.135180     -0.74493   \n",
       "3          0.113760      -0.37788     -0.030140    -0.135170     -0.74509   \n",
       "4          0.113680      -0.37791     -0.030162    -0.135110     -0.74538   \n",
       "...             ...           ...           ...          ...          ...   \n",
       "37777      0.082834      -0.33250      0.032942    -0.099983     -0.67321   \n",
       "37778      0.082818      -0.33391      0.033180    -0.099923     -0.67313   \n",
       "37779      0.081940      -0.32971      0.031456    -0.099905     -0.67315   \n",
       "37780      0.081628      -0.33299      0.031661    -0.099949     -0.67324   \n",
       "37781      0.081474      -0.33531      0.032205    -0.099720     -0.67322   \n",
       "\n",
       "       left_foot_z  right_foot_x  right_foot_y  right_foot_z  status  \n",
       "0        -0.045770      0.129800      -0.74631     -0.060231       0  \n",
       "1        -0.045317      0.130490      -0.74087     -0.056886       0  \n",
       "2        -0.045716      0.130040      -0.74171     -0.057271       0  \n",
       "3        -0.045595      0.130050      -0.74267     -0.057693       0  \n",
       "4        -0.045998      0.130400      -0.74201     -0.057177       0  \n",
       "...            ...           ...           ...           ...     ...  \n",
       "37777     0.037888      0.092230      -0.66897      0.035241       2  \n",
       "37778     0.037897      0.092134      -0.66866      0.035156       2  \n",
       "37779     0.037819      0.092173      -0.66856      0.035108       2  \n",
       "37780     0.037719      0.091919      -0.66899      0.034746       2  \n",
       "37781     0.038129      0.091773      -0.66923      0.034823       2  \n",
       "\n",
       "[37782 rows x 41 columns]"
      ]
     },
     "execution_count": 5,
     "metadata": {},
     "output_type": "execute_result"
    }
   ],
   "source": [
    "raw_data.fillna(0)"
   ]
  },
  {
   "cell_type": "code",
   "execution_count": 6,
   "id": "representative-savings",
   "metadata": {},
   "outputs": [
    {
     "name": "stdout",
     "output_type": "stream",
     "text": [
      "Frames:\n",
      "    Total: 37782\n",
      "    Before: 7814 (0.21% of total)\n",
      "    During: 22931 (0.61% of total)\n",
      "    After: 7037 (0.19% of total)\n",
      "\n"
     ]
    }
   ],
   "source": [
    "start_0, mid_1, end_2 = np.bincount(raw_data['status'])\n",
    "print(\n",
    "    'Frames:\\n    Total: {}\\n    Before: {} ({:.2f}% of total)\\n    During: {} ({:.2f}% of total)\\n    After: {} ({:.2f}% of total)\\n'\n",
    "    .format(\n",
    "      len(raw_data), \n",
    "      start_0,\n",
    "      start_0 / len(raw_data),\n",
    "      mid_1,\n",
    "      mid_1 / len(raw_data),\n",
    "      end_2,\n",
    "      end_2 / len(raw_data)\n",
    "    )\n",
    "  )"
   ]
  },
  {
   "cell_type": "code",
   "execution_count": 7,
   "id": "moving-steel",
   "metadata": {},
   "outputs": [
    {
     "data": {
      "text/plain": [
       "0          0\n",
       "1          1\n",
       "2          2\n",
       "3          3\n",
       "4          4\n",
       "        ... \n",
       "37777    235\n",
       "37778    236\n",
       "37779    237\n",
       "37780    238\n",
       "37781    239\n",
       "Name: FrameNo, Length: 37782, dtype: int64"
      ]
     },
     "execution_count": 7,
     "metadata": {},
     "output_type": "execute_result"
    }
   ],
   "source": [
    "cleaned_data = raw_data.copy()\n",
    "cleaned_data.pop( 'FrameNo')"
   ]
  },
  {
   "cell_type": "code",
   "execution_count": 8,
   "id": "challenging-canberra",
   "metadata": {},
   "outputs": [],
   "source": [
    "# Use a utility from sklearn to split and shuffle our dataset.\n",
    "\n",
    "from sklearn.model_selection import train_test_split\n",
    "\n",
    "train_data, test_data = train_test_split(cleaned_data, test_size=0.2)\n",
    "train_data, val_data = train_test_split(train_data, test_size=0.2)\n",
    "\n",
    "# Form np arrays of labels and features.\n",
    "train_labels = np.array(train_data.pop('status'))\n",
    "val_labels = np.array(val_data.pop('status'))\n",
    "test_labels = np.array(test_data.pop('status'))\n",
    "\n",
    "train_features = np.array(train_data)\n",
    "val_features = np.array(val_data)\n",
    "test_features = np.array(test_data)"
   ]
  },
  {
   "cell_type": "markdown",
   "id": "aggressive-variable",
   "metadata": {},
   "source": [
    "### Normalization\n",
    "Normalize the input features using the sklearn StandardScaler. This will set the mean to 0 and standard deviation to 1."
   ]
  },
  {
   "cell_type": "code",
   "execution_count": 9,
   "id": "anonymous-seattle",
   "metadata": {},
   "outputs": [
    {
     "name": "stdout",
     "output_type": "stream",
     "text": [
      "Training labels shape: (24180,)\n",
      "Validation labels shape: (6045,)\n",
      "Test labels shape: (7557,)\n",
      "Training features shape: (24180, 39)\n",
      "Validation features shape: (6045, 39)\n",
      "Test features shape: (7557, 39)\n"
     ]
    }
   ],
   "source": [
    "from sklearn.preprocessing import StandardScaler\n",
    "\n",
    "scaler = StandardScaler()\n",
    "train_features = scaler.fit_transform(train_features)\n",
    "val_features = scaler.transform(val_features)\n",
    "test_features = scaler.transform(test_features)\n",
    "\n",
    "print('Training labels shape:', train_labels.shape)\n",
    "print('Validation labels shape:', val_labels.shape)\n",
    "print('Test labels shape:', test_labels.shape)\n",
    "\n",
    "print('Training features shape:', train_features.shape)\n",
    "print('Validation features shape:', val_features.shape)\n",
    "print('Test features shape:', test_features.shape)"
   ]
  },
  {
   "cell_type": "code",
   "execution_count": 10,
   "id": "received-paper",
   "metadata": {},
   "outputs": [
    {
     "name": "stdout",
     "output_type": "stream",
     "text": [
      "INFO:tensorflow:Enabling eager execution\n",
      "INFO:tensorflow:Enabling v2 tensorshape\n",
      "INFO:tensorflow:Enabling resource variables\n",
      "INFO:tensorflow:Enabling tensor equality\n",
      "INFO:tensorflow:Enabling control flow v2\n"
     ]
    }
   ],
   "source": [
    "import tensorflow as tf\n",
    "from tensorflow import keras"
   ]
  },
  {
   "cell_type": "code",
   "execution_count": 11,
   "id": "quality-latino",
   "metadata": {},
   "outputs": [],
   "source": [
    "METRICS = [\n",
    "      keras.metrics.TruePositives(name='tp'),\n",
    "      keras.metrics.FalsePositives(name='fp'),\n",
    "      keras.metrics.TrueNegatives(name='tn'),\n",
    "      keras.metrics.FalseNegatives(name='fn'), \n",
    "      keras.metrics.BinaryAccuracy(name='accuracy'),\n",
    "      keras.metrics.Precision(name='precision'),\n",
    "      keras.metrics.Recall(name='recall'),\n",
    "      keras.metrics.AUC(name='auc'),\n",
    "      keras.metrics.AUC(name='prc', curve='PR'), # precision-recall curve\n",
    "]"
   ]
  },
  {
   "cell_type": "code",
   "execution_count": 12,
   "id": "taken-jefferson",
   "metadata": {},
   "outputs": [],
   "source": [
    "def make_model(metrics=METRICS, optimizer='Adam',loss = 'categorical_crossentropy'):\n",
    "    model = keras.Sequential([\n",
    "        keras.layers.Dense(units=16, activation='relu',input_dim=train_features.shape[-1]),\n",
    "        keras.layers.Dense(32, activation='relu' ),\n",
    "        keras.layers.Dense(1, activation='sigmoid'),\n",
    "    ])\n",
    "    \n",
    "    model.compile(optimizer=optimizer, loss=loss, metrics=metrics)\n",
    "    #keras.losses.BinaryCrossentropy()\n",
    "    return model"
   ]
  },
  {
   "cell_type": "code",
   "execution_count": 13,
   "id": "cathedral-trailer",
   "metadata": {},
   "outputs": [],
   "source": [
    "EPOCHS = 100\n",
    "BATCH_SIZE = 2048\n",
    "\n",
    "early_stopping = tf.keras.callbacks.EarlyStopping(monitor='val_prc', verbose=1,patience=10,mode='max',restore_best_weights=True)"
   ]
  },
  {
   "cell_type": "code",
   "execution_count": 14,
   "id": "aggregate-omaha",
   "metadata": {},
   "outputs": [
    {
     "name": "stdout",
     "output_type": "stream",
     "text": [
      "Model: \"sequential\"\n",
      "_________________________________________________________________\n",
      "Layer (type)                 Output Shape              Param #   \n",
      "=================================================================\n",
      "dense (Dense)                (None, 16)                640       \n",
      "_________________________________________________________________\n",
      "dense_1 (Dense)              (None, 32)                544       \n",
      "_________________________________________________________________\n",
      "dense_2 (Dense)              (None, 1)                 33        \n",
      "=================================================================\n",
      "Total params: 1,217\n",
      "Trainable params: 1,217\n",
      "Non-trainable params: 0\n",
      "_________________________________________________________________\n"
     ]
    }
   ],
   "source": [
    "model = make_model()\n",
    "model.summary()"
   ]
  },
  {
   "cell_type": "markdown",
   "id": "printable-retreat",
   "metadata": {},
   "source": [
    "# Checkpoint the initial weights"
   ]
  },
  {
   "cell_type": "code",
   "execution_count": 15,
   "id": "saving-result",
   "metadata": {},
   "outputs": [],
   "source": [
    "import os\n",
    "import tempfile\n",
    "\n",
    "initial_weights = os.path.join(tempfile.mkdtemp(), 'initial_weights')\n",
    "model.save_weights(initial_weights)"
   ]
  },
  {
   "cell_type": "code",
   "execution_count": null,
   "id": "steady-elimination",
   "metadata": {},
   "outputs": [],
   "source": []
  },
  {
   "cell_type": "code",
   "execution_count": 16,
   "id": "fundamental-miami",
   "metadata": {},
   "outputs": [
    {
     "name": "stdout",
     "output_type": "stream",
     "text": [
      "Epoch 1/100\n",
      "12/12 [==============================] - 2s 71ms/step - loss: 0.0000e+00 - tp: 34.6923 - fp: 0.0000e+00 - tn: 2920.3077 - fn: 11162.5385 - accuracy: 0.2081 - precision: 1.0000 - recall: 0.0021 - auc: 0.3425 - prc: 0.7427 - val_loss: 0.0000e+00 - val_tp: 268.0000 - val_fp: 0.0000e+00 - val_tn: 1253.0000 - val_fn: 4524.0000 - val_accuracy: 0.2074 - val_precision: 1.0000 - val_recall: 0.0559 - val_auc: 0.5456 - val_prc: 0.8510\n",
      "Epoch 2/100\n",
      "12/12 [==============================] - 0s 5ms/step - loss: 0.0000e+00 - tp: 705.3077 - fp: 0.0000e+00 - tn: 2892.2308 - fn: 10520.0000 - accuracy: 0.2052 - precision: 1.0000 - recall: 0.0616 - auc: 0.5952 - prc: 0.8709 - val_loss: 0.0000e+00 - val_tp: 346.0000 - val_fp: 0.0000e+00 - val_tn: 1253.0000 - val_fn: 4446.0000 - val_accuracy: 0.2098 - val_precision: 1.0000 - val_recall: 0.0722 - val_auc: 0.6972 - val_prc: 0.9066\n",
      "Epoch 3/100\n",
      "12/12 [==============================] - 0s 5ms/step - loss: 0.0000e+00 - tp: 822.4615 - fp: 0.0000e+00 - tn: 2905.3846 - fn: 10389.6923 - accuracy: 0.2080 - precision: 1.0000 - recall: 0.0729 - auc: 0.7075 - prc: 0.9133 - val_loss: 0.0000e+00 - val_tp: 369.0000 - val_fp: 0.0000e+00 - val_tn: 1253.0000 - val_fn: 4423.0000 - val_accuracy: 0.2124 - val_precision: 1.0000 - val_recall: 0.0770 - val_auc: 0.7477 - val_prc: 0.9260\n",
      "Epoch 4/100\n",
      "12/12 [==============================] - 0s 5ms/step - loss: 0.0000e+00 - tp: 881.1538 - fp: 1.5385 - tn: 2916.3077 - fn: 10318.5385 - accuracy: 0.2125 - precision: 0.9989 - recall: 0.0787 - auc: 0.7500 - prc: 0.9293 - val_loss: 0.0000e+00 - val_tp: 398.0000 - val_fp: 6.0000 - val_tn: 1247.0000 - val_fn: 4394.0000 - val_accuracy: 0.2147 - val_precision: 0.9851 - val_recall: 0.0831 - val_auc: 0.7623 - val_prc: 0.9317\n",
      "Epoch 5/100\n",
      "12/12 [==============================] - 0s 5ms/step - loss: 0.0000e+00 - tp: 1026.6154 - fp: 6.9231 - tn: 2908.1538 - fn: 10175.8462 - accuracy: 0.2205 - precision: 0.9952 - recall: 0.0900 - auc: 0.7602 - prc: 0.9334 - val_loss: 0.0000e+00 - val_tp: 576.0000 - val_fp: 8.0000 - val_tn: 1245.0000 - val_fn: 4216.0000 - val_accuracy: 0.2435 - val_precision: 0.9863 - val_recall: 0.1202 - val_auc: 0.7721 - val_prc: 0.9351\n",
      "Epoch 6/100\n",
      "12/12 [==============================] - 0s 5ms/step - loss: 0.0000e+00 - tp: 1524.5385 - fp: 12.3846 - tn: 2867.0000 - fn: 9713.6154 - accuracy: 0.2473 - precision: 0.9919 - recall: 0.1297 - auc: 0.7702 - prc: 0.9378 - val_loss: 0.0000e+00 - val_tp: 981.0000 - val_fp: 10.0000 - val_tn: 1243.0000 - val_fn: 3811.0000 - val_accuracy: 0.3098 - val_precision: 0.9899 - val_recall: 0.2047 - val_auc: 0.7814 - val_prc: 0.9381\n",
      "Epoch 7/100\n",
      "12/12 [==============================] - 0s 5ms/step - loss: 0.0000e+00 - tp: 2544.3077 - fp: 12.6154 - tn: 2904.3846 - fn: 8656.2308 - accuracy: 0.3211 - precision: 0.9958 - recall: 0.2191 - auc: 0.7806 - prc: 0.9400 - val_loss: 0.0000e+00 - val_tp: 1340.0000 - val_fp: 11.0000 - val_tn: 1242.0000 - val_fn: 3452.0000 - val_accuracy: 0.3684 - val_precision: 0.9919 - val_recall: 0.2796 - val_auc: 0.7828 - val_prc: 0.9390\n",
      "Epoch 8/100\n",
      "12/12 [==============================] - 0s 5ms/step - loss: 0.0000e+00 - tp: 3213.6154 - fp: 16.3077 - tn: 2880.5385 - fn: 8007.0769 - accuracy: 0.3704 - precision: 0.9953 - recall: 0.2831 - auc: 0.7800 - prc: 0.9406 - val_loss: 0.0000e+00 - val_tp: 1519.0000 - val_fp: 12.0000 - val_tn: 1241.0000 - val_fn: 3273.0000 - val_accuracy: 0.3977 - val_precision: 0.9922 - val_recall: 0.3170 - val_auc: 0.7726 - val_prc: 0.9367\n",
      "Epoch 9/100\n",
      "12/12 [==============================] - 0s 5ms/step - loss: 0.0000e+00 - tp: 3560.7692 - fp: 20.0769 - tn: 2900.0769 - fn: 7636.6154 - accuracy: 0.3984 - precision: 0.9942 - recall: 0.3157 - auc: 0.7655 - prc: 0.9353 - val_loss: 0.0000e+00 - val_tp: 1631.0000 - val_fp: 15.0000 - val_tn: 1238.0000 - val_fn: 3161.0000 - val_accuracy: 0.4152 - val_precision: 0.9909 - val_recall: 0.3404 - val_auc: 0.7591 - val_prc: 0.9328\n",
      "Epoch 10/100\n",
      "12/12 [==============================] - 0s 5ms/step - loss: 0.0000e+00 - tp: 3824.2308 - fp: 17.9231 - tn: 2871.7692 - fn: 7403.6154 - accuracy: 0.4157 - precision: 0.9958 - recall: 0.3410 - auc: 0.7576 - prc: 0.9345 - val_loss: 0.0000e+00 - val_tp: 1684.0000 - val_fp: 16.0000 - val_tn: 1237.0000 - val_fn: 3108.0000 - val_accuracy: 0.4235 - val_precision: 0.9906 - val_recall: 0.3514 - val_auc: 0.7460 - val_prc: 0.9282\n",
      "Epoch 11/100\n",
      "12/12 [==============================] - 0s 5ms/step - loss: 0.0000e+00 - tp: 3847.6923 - fp: 20.7692 - tn: 2877.0769 - fn: 7372.0000 - accuracy: 0.4166 - precision: 0.9943 - recall: 0.3413 - auc: 0.7424 - prc: 0.9289 - val_loss: 0.0000e+00 - val_tp: 1720.0000 - val_fp: 16.0000 - val_tn: 1237.0000 - val_fn: 3072.0000 - val_accuracy: 0.4294 - val_precision: 0.9908 - val_recall: 0.3589 - val_auc: 0.7387 - val_prc: 0.9249\n",
      "Epoch 12/100\n",
      "12/12 [==============================] - 0s 5ms/step - loss: 0.0000e+00 - tp: 3976.9231 - fp: 22.3077 - tn: 2889.2308 - fn: 7229.0769 - accuracy: 0.4260 - precision: 0.9943 - recall: 0.3531 - auc: 0.7390 - prc: 0.9270 - val_loss: 0.0000e+00 - val_tp: 1781.0000 - val_fp: 16.0000 - val_tn: 1237.0000 - val_fn: 3011.0000 - val_accuracy: 0.4395 - val_precision: 0.9911 - val_recall: 0.3717 - val_auc: 0.7340 - val_prc: 0.9230\n",
      "Epoch 13/100\n",
      "12/12 [==============================] - 0s 5ms/step - loss: 0.0000e+00 - tp: 4086.2308 - fp: 25.0000 - tn: 2901.2308 - fn: 7105.0769 - accuracy: 0.4376 - precision: 0.9937 - recall: 0.3643 - auc: 0.7316 - prc: 0.9232 - val_loss: 0.0000e+00 - val_tp: 1829.0000 - val_fp: 16.0000 - val_tn: 1237.0000 - val_fn: 2963.0000 - val_accuracy: 0.4475 - val_precision: 0.9913 - val_recall: 0.3817 - val_auc: 0.7301 - val_prc: 0.9214\n",
      "Epoch 14/100\n",
      "12/12 [==============================] - 0s 6ms/step - loss: 0.0000e+00 - tp: 4184.0769 - fp: 19.3077 - tn: 2891.2308 - fn: 7022.9231 - accuracy: 0.4415 - precision: 0.9959 - recall: 0.3725 - auc: 0.7302 - prc: 0.9245 - val_loss: 0.0000e+00 - val_tp: 1855.0000 - val_fp: 16.0000 - val_tn: 1237.0000 - val_fn: 2937.0000 - val_accuracy: 0.4518 - val_precision: 0.9914 - val_recall: 0.3871 - val_auc: 0.7273 - val_prc: 0.9206\n",
      "Epoch 15/100\n",
      "12/12 [==============================] - 0s 5ms/step - loss: 0.0000e+00 - tp: 4258.0769 - fp: 21.3077 - tn: 2866.5385 - fn: 6971.6154 - accuracy: 0.4424 - precision: 0.9953 - recall: 0.3776 - auc: 0.7250 - prc: 0.9233 - val_loss: 0.0000e+00 - val_tp: 1872.0000 - val_fp: 15.0000 - val_tn: 1238.0000 - val_fn: 2920.0000 - val_accuracy: 0.4548 - val_precision: 0.9921 - val_recall: 0.3907 - val_auc: 0.7247 - val_prc: 0.9197\n",
      "Epoch 16/100\n",
      "12/12 [==============================] - 0s 5ms/step - loss: 0.0000e+00 - tp: 4295.7692 - fp: 22.5385 - tn: 2877.9231 - fn: 6921.3077 - accuracy: 0.4509 - precision: 0.9949 - recall: 0.3860 - auc: 0.7261 - prc: 0.9227 - val_loss: 0.0000e+00 - val_tp: 1880.0000 - val_fp: 15.0000 - val_tn: 1238.0000 - val_fn: 2912.0000 - val_accuracy: 0.4561 - val_precision: 0.9921 - val_recall: 0.3923 - val_auc: 0.7227 - val_prc: 0.9189\n",
      "Epoch 17/100\n",
      "12/12 [==============================] - 0s 5ms/step - loss: 0.0000e+00 - tp: 4280.0000 - fp: 21.2308 - tn: 2879.1538 - fn: 6937.1538 - accuracy: 0.4473 - precision: 0.9953 - recall: 0.3798 - auc: 0.7208 - prc: 0.9211 - val_loss: 0.0000e+00 - val_tp: 1888.0000 - val_fp: 15.0000 - val_tn: 1238.0000 - val_fn: 2904.0000 - val_accuracy: 0.4574 - val_precision: 0.9921 - val_recall: 0.3940 - val_auc: 0.7216 - val_prc: 0.9186\n",
      "Restoring model weights from the end of the best epoch.\n",
      "Epoch 00017: early stopping\n"
     ]
    }
   ],
   "source": [
    "history = model.fit(\n",
    "    train_features,\n",
    "    train_labels,\n",
    "    batch_size=BATCH_SIZE,\n",
    "    epochs=EPOCHS,\n",
    "    callbacks=[early_stopping],\n",
    "    validation_data=(val_features, val_labels))"
   ]
  },
  {
   "cell_type": "code",
   "execution_count": null,
   "id": "returning-peeing",
   "metadata": {},
   "outputs": [],
   "source": []
  },
  {
   "cell_type": "code",
   "execution_count": 17,
   "id": "divine-bacteria",
   "metadata": {},
   "outputs": [],
   "source": [
    "from sklearn.metrics import confusion_matrix\n",
    "import matplotlib.pyplot as plt\n",
    "import seaborn as sns\n",
    "\n",
    "\n",
    "def plot_cm(labels, predictions, p=0.5):\n",
    "    cm = confusion_matrix(labels, predictions > p)\n",
    "    plt.figure(figsize=(5,5))\n",
    "    sns.heatmap(cm, annot=True, fmt=\"d\")\n",
    "    plt.title('Confusion matrix @{:.2f}'.format(p))\n",
    "    plt.ylabel('Actual label')\n",
    "    plt.xlabel('Predicted label')"
   ]
  },
  {
   "cell_type": "code",
   "execution_count": 18,
   "id": "stupid-posting",
   "metadata": {},
   "outputs": [],
   "source": [
    "train_predictions_baseline = model.predict(train_features, batch_size=BATCH_SIZE)\n",
    "test_predictions_baseline = model.predict(test_features, batch_size=BATCH_SIZE)"
   ]
  },
  {
   "cell_type": "code",
   "execution_count": 19,
   "id": "working-ridge",
   "metadata": {},
   "outputs": [
    {
     "name": "stdout",
     "output_type": "stream",
     "text": [
      "loss :  0.0\n",
      "tp :  1724.0\n",
      "fp :  8.0\n",
      "tn :  1580.0\n",
      "fn :  4245.0\n",
      "accuracy :  0.3775307536125183\n",
      "precision :  0.9953810572624207\n",
      "recall :  0.2888256013393402\n",
      "auc :  0.7925705909729004\n",
      "prc :  0.9430023431777954\n",
      "\n"
     ]
    },
    {
     "data": {
      "image/png": "[encoded data removed]",
      "text/plain": [
       "<Figure size 360x360 with 2 Axes>"
      ]
     },
     "metadata": {
      "needs_background": "light"
     },
     "output_type": "display_data"
    }
   ],
   "source": [
    "results = model.evaluate(test_features, test_labels, batch_size=BATCH_SIZE, verbose=0)\n",
    "for name, value in zip(model.metrics_names, results):\n",
    "  print(name, ': ', value)\n",
    "print()\n",
    "\n",
    "plot_cm(test_labels, test_predictions_baseline)\n",
    "\n",
    "#plot_cm(train_labels, train_predictions_baseline)"
   ]
  },
  {
   "cell_type": "markdown",
   "id": "pediatric-syndication",
   "metadata": {},
   "source": [
    "# Class weights"
   ]
  },
  {
   "cell_type": "code",
   "execution_count": 20,
   "id": "unauthorized-portfolio",
   "metadata": {},
   "outputs": [
    {
     "name": "stdout",
     "output_type": "stream",
     "text": [
      "Weight for class 0: 1.61\n",
      "Weight for class 1: 0.55\n",
      "Weight for class 2: 1.79\n"
     ]
    }
   ],
   "source": [
    "weight_for_0 = (1 / start_0)*(len(raw_data))/3.0 \n",
    "weight_for_1 = (1 / mid_1)*(len(raw_data))/3.0\n",
    "weight_for_2 = (1 / end_2)*(len(raw_data))/3.0\n",
    "\n",
    "class_weight = {0: weight_for_0, 1: weight_for_1, 2: weight_for_2}\n",
    "\n",
    "print('Weight for class 0: {:.2f}'.format(weight_for_0))\n",
    "print('Weight for class 1: {:.2f}'.format(weight_for_1))\n",
    "print('Weight for class 2: {:.2f}'.format(weight_for_2))"
   ]
  },
  {
   "cell_type": "code",
   "execution_count": 21,
   "id": "democratic-april",
   "metadata": {},
   "outputs": [
    {
     "name": "stdout",
     "output_type": "stream",
     "text": [
      "WARNING:tensorflow:From /usr/local/lib/python3.9/site-packages/tensorflow/python/ops/array_ops.py:5043: calling gather (from tensorflow.python.ops.array_ops) with validate_indices is deprecated and will be removed in a future version.\n",
      "Instructions for updating:\n",
      "The `validate_indices` argument has no effect. Indices are always validated on CPU and never validated on GPU.\n",
      "Epoch 1/100\n",
      "12/12 [==============================] - 2s 75ms/step - loss: 0.0000e+00 - tp: 1759.3077 - fp: 8.0000 - tn: 4479.0000 - fn: 15428.2308 - accuracy: 0.2746 - precision: 0.9955 - recall: 0.1171 - auc: 0.5862 - prc: 0.8542 - val_loss: 0.0000e+00 - val_tp: 273.0000 - val_fp: 0.0000e+00 - val_tn: 1253.0000 - val_fn: 4519.0000 - val_accuracy: 0.2074 - val_precision: 1.0000 - val_recall: 0.0570 - val_auc: 0.5411 - val_prc: 0.8482\n",
      "Epoch 2/100\n",
      "12/12 [==============================] - 0s 5ms/step - loss: 0.0000e+00 - tp: 704.3846 - fp: 0.0000e+00 - tn: 2882.1538 - fn: 10531.0000 - accuracy: 0.2030 - precision: 1.0000 - recall: 0.0604 - auc: 0.5864 - prc: 0.8685 - val_loss: 0.0000e+00 - val_tp: 358.0000 - val_fp: 0.0000e+00 - val_tn: 1253.0000 - val_fn: 4434.0000 - val_accuracy: 0.2111 - val_precision: 1.0000 - val_recall: 0.0747 - val_auc: 0.6983 - val_prc: 0.9052\n",
      "Epoch 3/100\n",
      "12/12 [==============================] - 0s 5ms/step - loss: 0.0000e+00 - tp: 867.3846 - fp: 0.8462 - tn: 2912.3077 - fn: 10337.0000 - accuracy: 0.2099 - precision: 0.9994 - recall: 0.0782 - auc: 0.7145 - prc: 0.9137 - val_loss: 0.0000e+00 - val_tp: 385.0000 - val_fp: 6.0000 - val_tn: 1247.0000 - val_fn: 4407.0000 - val_accuracy: 0.2129 - val_precision: 0.9847 - val_recall: 0.0803 - val_auc: 0.7533 - val_prc: 0.9264\n",
      "Epoch 4/100\n",
      "12/12 [==============================] - 0s 5ms/step - loss: 0.0000e+00 - tp: 982.8462 - fp: 9.0769 - tn: 2887.7692 - fn: 10237.8462 - accuracy: 0.2143 - precision: 0.9924 - recall: 0.0868 - auc: 0.7555 - prc: 0.9312 - val_loss: 0.0000e+00 - val_tp: 518.0000 - val_fp: 10.0000 - val_tn: 1243.0000 - val_fn: 4274.0000 - val_accuracy: 0.2333 - val_precision: 0.9811 - val_recall: 0.1081 - val_auc: 0.7692 - val_prc: 0.9329\n",
      "Epoch 5/100\n",
      "12/12 [==============================] - 0s 5ms/step - loss: 0.0000e+00 - tp: 1608.1538 - fp: 10.6923 - tn: 2875.0000 - fn: 9623.6923 - accuracy: 0.2526 - precision: 0.9948 - recall: 0.1349 - auc: 0.7722 - prc: 0.9376 - val_loss: 0.0000e+00 - val_tp: 1091.0000 - val_fp: 11.0000 - val_tn: 1242.0000 - val_fn: 3701.0000 - val_accuracy: 0.3274 - val_precision: 0.9900 - val_recall: 0.2277 - val_auc: 0.7802 - val_prc: 0.9370\n",
      "Epoch 6/100\n",
      "12/12 [==============================] - 0s 5ms/step - loss: 0.0000e+00 - tp: 2650.1538 - fp: 14.0000 - tn: 2892.8462 - fn: 8560.5385 - accuracy: 0.3321 - precision: 0.9953 - recall: 0.2345 - auc: 0.7794 - prc: 0.9395 - val_loss: 0.0000e+00 - val_tp: 1262.0000 - val_fp: 12.0000 - val_tn: 1241.0000 - val_fn: 3530.0000 - val_accuracy: 0.3550 - val_precision: 0.9906 - val_recall: 0.2634 - val_auc: 0.7888 - val_prc: 0.9400\n",
      "Epoch 7/100\n",
      "12/12 [==============================] - 0s 5ms/step - loss: 0.0000e+00 - tp: 2992.8462 - fp: 18.0000 - tn: 2912.9231 - fn: 8193.7692 - accuracy: 0.3609 - precision: 0.9935 - recall: 0.2672 - auc: 0.7848 - prc: 0.9398 - val_loss: 0.0000e+00 - val_tp: 1401.0000 - val_fp: 13.0000 - val_tn: 1240.0000 - val_fn: 3391.0000 - val_accuracy: 0.3775 - val_precision: 0.9908 - val_recall: 0.2924 - val_auc: 0.7990 - val_prc: 0.9430\n",
      "Epoch 8/100\n",
      "12/12 [==============================] - 0s 5ms/step - loss: 0.0000e+00 - tp: 3242.2308 - fp: 17.3846 - tn: 2895.6923 - fn: 7962.2308 - accuracy: 0.3764 - precision: 0.9951 - recall: 0.2894 - auc: 0.7931 - prc: 0.9430 - val_loss: 0.0000e+00 - val_tp: 1494.0000 - val_fp: 13.0000 - val_tn: 1240.0000 - val_fn: 3298.0000 - val_accuracy: 0.3926 - val_precision: 0.9914 - val_recall: 0.3118 - val_auc: 0.7938 - val_prc: 0.9423\n",
      "Epoch 9/100\n",
      "12/12 [==============================] - 0s 5ms/step - loss: 0.0000e+00 - tp: 3492.6923 - fp: 19.2308 - tn: 2905.3077 - fn: 7700.3077 - accuracy: 0.3937 - precision: 0.9943 - recall: 0.3128 - auc: 0.7917 - prc: 0.9429 - val_loss: 0.0000e+00 - val_tp: 1607.0000 - val_fp: 16.0000 - val_tn: 1237.0000 - val_fn: 3185.0000 - val_accuracy: 0.4108 - val_precision: 0.9901 - val_recall: 0.3354 - val_auc: 0.7838 - val_prc: 0.9399\n",
      "Epoch 10/100\n",
      "12/12 [==============================] - 0s 5ms/step - loss: 0.0000e+00 - tp: 3784.6923 - fp: 17.5385 - tn: 2877.0769 - fn: 7438.2308 - accuracy: 0.4114 - precision: 0.9959 - recall: 0.3362 - auc: 0.7800 - prc: 0.9412 - val_loss: 0.0000e+00 - val_tp: 1731.0000 - val_fp: 16.0000 - val_tn: 1237.0000 - val_fn: 3061.0000 - val_accuracy: 0.4313 - val_precision: 0.9908 - val_recall: 0.3612 - val_auc: 0.7628 - val_prc: 0.9338\n",
      "Epoch 11/100\n",
      "12/12 [==============================] - 0s 5ms/step - loss: 0.0000e+00 - tp: 4119.0769 - fp: 17.6923 - tn: 2873.8462 - fn: 7106.9231 - accuracy: 0.4336 - precision: 0.9958 - recall: 0.3638 - auc: 0.7653 - prc: 0.9367 - val_loss: 0.0000e+00 - val_tp: 1862.0000 - val_fp: 16.0000 - val_tn: 1237.0000 - val_fn: 2930.0000 - val_accuracy: 0.4526 - val_precision: 0.9915 - val_recall: 0.3886 - val_auc: 0.7500 - val_prc: 0.9288\n",
      "Epoch 12/100\n",
      "12/12 [==============================] - 0s 5ms/step - loss: 0.0000e+00 - tp: 4309.0000 - fp: 21.8462 - tn: 2912.0769 - fn: 6874.6154 - accuracy: 0.4503 - precision: 0.9948 - recall: 0.3824 - auc: 0.7484 - prc: 0.9293 - val_loss: 0.0000e+00 - val_tp: 1935.0000 - val_fp: 15.0000 - val_tn: 1238.0000 - val_fn: 2857.0000 - val_accuracy: 0.4648 - val_precision: 0.9923 - val_recall: 0.4038 - val_auc: 0.7421 - val_prc: 0.9260\n",
      "Epoch 13/100\n",
      "12/12 [==============================] - 0s 5ms/step - loss: 0.0000e+00 - tp: 4497.8462 - fp: 21.1538 - tn: 2863.4615 - fn: 6735.0769 - accuracy: 0.4626 - precision: 0.9953 - recall: 0.4017 - auc: 0.7440 - prc: 0.9295 - val_loss: 0.0000e+00 - val_tp: 1986.0000 - val_fp: 15.0000 - val_tn: 1238.0000 - val_fn: 2806.0000 - val_accuracy: 0.4730 - val_precision: 0.9925 - val_recall: 0.4144 - val_auc: 0.7384 - val_prc: 0.9243\n",
      "Epoch 14/100\n",
      "12/12 [==============================] - 0s 5ms/step - loss: 0.0000e+00 - tp: 4554.3846 - fp: 21.6923 - tn: 2882.4615 - fn: 6659.0000 - accuracy: 0.4650 - precision: 0.9955 - recall: 0.4056 - auc: 0.7376 - prc: 0.9265 - val_loss: 0.0000e+00 - val_tp: 2013.0000 - val_fp: 15.0000 - val_tn: 1238.0000 - val_fn: 2779.0000 - val_accuracy: 0.4774 - val_precision: 0.9926 - val_recall: 0.4201 - val_auc: 0.7339 - val_prc: 0.9230\n",
      "Epoch 15/100\n",
      "12/12 [==============================] - 0s 5ms/step - loss: 0.0000e+00 - tp: 4605.2308 - fp: 24.0000 - tn: 2882.9231 - fn: 6605.3846 - accuracy: 0.4699 - precision: 0.9940 - recall: 0.4120 - auc: 0.7348 - prc: 0.9243 - val_loss: 0.0000e+00 - val_tp: 2018.0000 - val_fp: 15.0000 - val_tn: 1238.0000 - val_fn: 2774.0000 - val_accuracy: 0.4782 - val_precision: 0.9926 - val_recall: 0.4211 - val_auc: 0.7308 - val_prc: 0.9219\n",
      "Epoch 16/100\n",
      "12/12 [==============================] - 0s 5ms/step - loss: 0.0000e+00 - tp: 4641.1538 - fp: 22.1538 - tn: 2883.2308 - fn: 6571.0000 - accuracy: 0.4772 - precision: 0.9955 - recall: 0.4162 - auc: 0.7330 - prc: 0.9247 - val_loss: 0.0000e+00 - val_tp: 2016.0000 - val_fp: 15.0000 - val_tn: 1238.0000 - val_fn: 2776.0000 - val_accuracy: 0.4779 - val_precision: 0.9926 - val_recall: 0.4207 - val_auc: 0.7286 - val_prc: 0.9213\n",
      "Epoch 17/100\n",
      "12/12 [==============================] - 0s 5ms/step - loss: 0.0000e+00 - tp: 4606.0769 - fp: 21.7692 - tn: 2891.8462 - fn: 6597.8462 - accuracy: 0.4734 - precision: 0.9954 - recall: 0.4116 - auc: 0.7286 - prc: 0.9228 - val_loss: 0.0000e+00 - val_tp: 2008.0000 - val_fp: 15.0000 - val_tn: 1238.0000 - val_fn: 2784.0000 - val_accuracy: 0.4766 - val_precision: 0.9926 - val_recall: 0.4190 - val_auc: 0.7264 - val_prc: 0.9207\n",
      "Restoring model weights from the end of the best epoch.\n",
      "Epoch 00017: early stopping\n"
     ]
    }
   ],
   "source": [
    "weighted_model = make_model()\n",
    "weighted_model.load_weights(initial_weights)\n",
    "\n",
    "weighted_history = weighted_model.fit(\n",
    "    train_features,\n",
    "    train_labels,\n",
    "    batch_size=BATCH_SIZE,\n",
    "    epochs=EPOCHS,\n",
    "    callbacks=[early_stopping],\n",
    "    validation_data=(val_features, val_labels),\n",
    "    # The class weights go here\n",
    "    class_weight=class_weight)"
   ]
  },
  {
   "cell_type": "code",
   "execution_count": 22,
   "id": "gross-humidity",
   "metadata": {},
   "outputs": [],
   "source": [
    "train_predictions_weighted = weighted_model.predict(train_features, batch_size=BATCH_SIZE)\n",
    "test_predictions_weighted = weighted_model.predict(test_features, batch_size=BATCH_SIZE)"
   ]
  },
  {
   "cell_type": "code",
   "execution_count": 23,
   "id": "dominant-polish",
   "metadata": {},
   "outputs": [
    {
     "name": "stdout",
     "output_type": "stream",
     "text": [
      "loss :  0.0\n",
      "tp :  1791.0\n",
      "fp :  9.0\n",
      "tn :  1579.0\n",
      "fn :  4178.0\n",
      "accuracy :  0.3858674168586731\n",
      "precision :  0.9950000047683716\n",
      "recall :  0.3000502586364746\n",
      "auc :  0.8107882738113403\n",
      "prc :  0.9474824666976929\n",
      "\n"
     ]
    },
    {
     "data": {
      "image/png": "[encoded data removed]",
      "text/plain": [
       "<Figure size 360x360 with 2 Axes>"
      ]
     },
     "metadata": {
      "needs_background": "light"
     },
     "output_type": "display_data"
    }
   ],
   "source": [
    "weighted_results = weighted_model.evaluate(test_features, test_labels,\n",
    "                                           batch_size=BATCH_SIZE, verbose=0)\n",
    "for name, value in zip(weighted_model.metrics_names, weighted_results):\n",
    "  print(name, ': ', value)\n",
    "print()\n",
    "\n",
    "plot_cm(test_labels, test_predictions_weighted)"
   ]
  },
  {
   "cell_type": "code",
   "execution_count": 24,
   "id": "weighted-malawi",
   "metadata": {},
   "outputs": [],
   "source": [
    "# over sample"
   ]
  },
  {
   "cell_type": "code",
   "execution_count": 25,
   "id": "dried-diversity",
   "metadata": {},
   "outputs": [
    {
     "name": "stdout",
     "output_type": "stream",
     "text": [
      "(43974, 39) (43974,)\n"
     ]
    }
   ],
   "source": [
    "from imblearn.over_sampling import SMOTE\n",
    "\n",
    "oversample = SMOTE()\n",
    "train_features_sm, train_labels_sm = oversample.fit_resample(train_features, train_labels)\n",
    "print(train_features_sm.shape,train_labels_sm.shape)"
   ]
  },
  {
   "cell_type": "code",
   "execution_count": 26,
   "id": "trying-parker",
   "metadata": {},
   "outputs": [
    {
     "name": "stdout",
     "output_type": "stream",
     "text": [
      "Model: \"sequential_2\"\n",
      "_________________________________________________________________\n",
      "Layer (type)                 Output Shape              Param #   \n",
      "=================================================================\n",
      "dense_6 (Dense)              (None, 16)                640       \n",
      "_________________________________________________________________\n",
      "dense_7 (Dense)              (None, 32)                544       \n",
      "_________________________________________________________________\n",
      "dense_8 (Dense)              (None, 1)                 33        \n",
      "=================================================================\n",
      "Total params: 1,217\n",
      "Trainable params: 1,217\n",
      "Non-trainable params: 0\n",
      "_________________________________________________________________\n"
     ]
    }
   ],
   "source": [
    "os_model = make_model()\n",
    "os_model.load_weights(initial_weights)\n",
    "os_model.summary()"
   ]
  },
  {
   "cell_type": "code",
   "execution_count": 27,
   "id": "pressed-crazy",
   "metadata": {},
   "outputs": [
    {
     "name": "stdout",
     "output_type": "stream",
     "text": [
      "Epoch 1/100\n",
      "22/22 [==============================] - 2s 37ms/step - loss: 0.0000e+00 - tp: 2425.1304 - fp: 9.0000 - tn: 9726.7826 - fn: 19788.9565 - accuracy: 0.3501 - precision: 0.9960 - recall: 0.1201 - auc: 0.5320 - prc: 0.7695 - val_loss: 0.0000e+00 - val_tp: 348.0000 - val_fp: 0.0000e+00 - val_tn: 1253.0000 - val_fn: 4444.0000 - val_accuracy: 0.2099 - val_precision: 1.0000 - val_recall: 0.0726 - val_auc: 0.6771 - val_prc: 0.8978\n",
      "Epoch 2/100\n",
      "22/22 [==============================] - 0s 4ms/step - loss: 0.0000e+00 - tp: 2494.4348 - fp: 4.6957 - tn: 8127.0435 - fn: 13766.6957 - accuracy: 0.3356 - precision: 0.9989 - recall: 0.1530 - auc: 0.6781 - prc: 0.8384 - val_loss: 0.0000e+00 - val_tp: 424.0000 - val_fp: 9.0000 - val_tn: 1244.0000 - val_fn: 4368.0000 - val_accuracy: 0.2184 - val_precision: 0.9792 - val_recall: 0.0885 - val_auc: 0.7603 - val_prc: 0.9302\n",
      "Epoch 3/100\n",
      "22/22 [==============================] - 0s 8ms/step - loss: 0.0000e+00 - tp: 3087.7826 - fp: 34.8696 - tn: 8086.0870 - fn: 13184.1304 - accuracy: 0.3497 - precision: 0.9884 - recall: 0.1811 - auc: 0.7238 - prc: 0.8690 - val_loss: 0.0000e+00 - val_tp: 1217.0000 - val_fp: 12.0000 - val_tn: 1241.0000 - val_fn: 3575.0000 - val_accuracy: 0.3481 - val_precision: 0.9902 - val_recall: 0.2540 - val_auc: 0.7810 - val_prc: 0.9379\n",
      "Epoch 4/100\n",
      "22/22 [==============================] - 0s 8ms/step - loss: 0.0000e+00 - tp: 4646.5217 - fp: 48.6087 - tn: 8089.6957 - fn: 11608.0435 - accuracy: 0.4154 - precision: 0.9895 - recall: 0.2786 - auc: 0.7346 - prc: 0.8749 - val_loss: 0.0000e+00 - val_tp: 1549.0000 - val_fp: 12.0000 - val_tn: 1241.0000 - val_fn: 3243.0000 - val_accuracy: 0.4022 - val_precision: 0.9923 - val_recall: 0.3232 - val_auc: 0.7929 - val_prc: 0.9419\n",
      "Epoch 5/100\n",
      "22/22 [==============================] - 0s 6ms/step - loss: 0.0000e+00 - tp: 5219.3043 - fp: 59.5652 - tn: 8079.1304 - fn: 11034.8696 - accuracy: 0.4400 - precision: 0.9888 - recall: 0.3186 - auc: 0.7402 - prc: 0.8769 - val_loss: 0.0000e+00 - val_tp: 1712.0000 - val_fp: 16.0000 - val_tn: 1237.0000 - val_fn: 3080.0000 - val_accuracy: 0.4281 - val_precision: 0.9907 - val_recall: 0.3573 - val_auc: 0.7722 - val_prc: 0.9367\n",
      "Epoch 6/100\n",
      "22/22 [==============================] - 0s 4ms/step - loss: 0.0000e+00 - tp: 5666.9565 - fp: 59.2609 - tn: 8099.0870 - fn: 10567.5652 - accuracy: 0.4569 - precision: 0.9892 - recall: 0.3479 - auc: 0.7283 - prc: 0.8718 - val_loss: 0.0000e+00 - val_tp: 1871.0000 - val_fp: 16.0000 - val_tn: 1237.0000 - val_fn: 2921.0000 - val_accuracy: 0.4543 - val_precision: 0.9915 - val_recall: 0.3904 - val_auc: 0.7452 - val_prc: 0.9271\n",
      "Epoch 7/100\n",
      "22/22 [==============================] - 0s 5ms/step - loss: 0.0000e+00 - tp: 5927.4348 - fp: 62.4783 - tn: 8064.7826 - fn: 10338.1739 - accuracy: 0.4670 - precision: 0.9892 - recall: 0.3632 - auc: 0.7135 - prc: 0.8623 - val_loss: 0.0000e+00 - val_tp: 1964.0000 - val_fp: 15.0000 - val_tn: 1238.0000 - val_fn: 2828.0000 - val_accuracy: 0.4696 - val_precision: 0.9924 - val_recall: 0.4098 - val_auc: 0.7362 - val_prc: 0.9236\n",
      "Epoch 8/100\n",
      "22/22 [==============================] - 0s 5ms/step - loss: 0.0000e+00 - tp: 6057.8696 - fp: 63.5652 - tn: 8079.2609 - fn: 10192.1739 - accuracy: 0.4722 - precision: 0.9897 - recall: 0.3727 - auc: 0.7074 - prc: 0.8589 - val_loss: 0.0000e+00 - val_tp: 1982.0000 - val_fp: 15.0000 - val_tn: 1238.0000 - val_fn: 2810.0000 - val_accuracy: 0.4726 - val_precision: 0.9925 - val_recall: 0.4136 - val_auc: 0.7295 - val_prc: 0.9215\n",
      "Epoch 9/100\n",
      "22/22 [==============================] - 0s 5ms/step - loss: 0.0000e+00 - tp: 6069.1304 - fp: 67.0870 - tn: 8079.3043 - fn: 10177.3478 - accuracy: 0.4754 - precision: 0.9887 - recall: 0.3727 - auc: 0.7026 - prc: 0.8543 - val_loss: 0.0000e+00 - val_tp: 1977.0000 - val_fp: 15.0000 - val_tn: 1238.0000 - val_fn: 2815.0000 - val_accuracy: 0.4718 - val_precision: 0.9925 - val_recall: 0.4126 - val_auc: 0.7263 - val_prc: 0.9206\n",
      "Epoch 10/100\n",
      "22/22 [==============================] - 0s 5ms/step - loss: 0.0000e+00 - tp: 6055.2609 - fp: 67.0000 - tn: 8056.0435 - fn: 10214.5652 - accuracy: 0.4714 - precision: 0.9892 - recall: 0.3714 - auc: 0.6993 - prc: 0.8535 - val_loss: 0.0000e+00 - val_tp: 1975.0000 - val_fp: 15.0000 - val_tn: 1238.0000 - val_fn: 2817.0000 - val_accuracy: 0.4715 - val_precision: 0.9925 - val_recall: 0.4121 - val_auc: 0.7238 - val_prc: 0.9199\n",
      "Epoch 11/100\n",
      "22/22 [==============================] - 0s 5ms/step - loss: 0.0000e+00 - tp: 6083.3913 - fp: 63.7826 - tn: 8040.7391 - fn: 10204.9565 - accuracy: 0.4728 - precision: 0.9901 - recall: 0.3759 - auc: 0.7015 - prc: 0.8558 - val_loss: 0.0000e+00 - val_tp: 1956.0000 - val_fp: 14.0000 - val_tn: 1239.0000 - val_fn: 2836.0000 - val_accuracy: 0.4685 - val_precision: 0.9929 - val_recall: 0.4082 - val_auc: 0.7228 - val_prc: 0.9195\n",
      "Epoch 12/100\n",
      "22/22 [==============================] - 0s 5ms/step - loss: 0.0000e+00 - tp: 6010.0000 - fp: 69.7391 - tn: 8031.9130 - fn: 10281.2174 - accuracy: 0.4703 - precision: 0.9877 - recall: 0.3683 - auc: 0.6959 - prc: 0.8510 - val_loss: 0.0000e+00 - val_tp: 1948.0000 - val_fp: 14.0000 - val_tn: 1239.0000 - val_fn: 2844.0000 - val_accuracy: 0.4672 - val_precision: 0.9929 - val_recall: 0.4065 - val_auc: 0.7225 - val_prc: 0.9194\n",
      "Epoch 13/100\n",
      "22/22 [==============================] - 0s 5ms/step - loss: 0.0000e+00 - tp: 6025.6957 - fp: 63.0870 - tn: 8054.7826 - fn: 10249.3043 - accuracy: 0.4703 - precision: 0.9893 - recall: 0.3706 - auc: 0.6989 - prc: 0.8535 - val_loss: 0.0000e+00 - val_tp: 1915.0000 - val_fp: 14.0000 - val_tn: 1239.0000 - val_fn: 2877.0000 - val_accuracy: 0.4619 - val_precision: 0.9927 - val_recall: 0.3996 - val_auc: 0.7223 - val_prc: 0.9195\n",
      "Epoch 14/100\n",
      "22/22 [==============================] - 0s 5ms/step - loss: 0.0000e+00 - tp: 5951.1739 - fp: 69.2174 - tn: 8028.3913 - fn: 10344.0870 - accuracy: 0.4652 - precision: 0.9883 - recall: 0.3653 - auc: 0.6966 - prc: 0.8528 - val_loss: 0.0000e+00 - val_tp: 1912.0000 - val_fp: 14.0000 - val_tn: 1239.0000 - val_fn: 2880.0000 - val_accuracy: 0.4614 - val_precision: 0.9927 - val_recall: 0.3990 - val_auc: 0.7222 - val_prc: 0.9200\n",
      "Restoring model weights from the end of the best epoch.\n",
      "Epoch 00014: early stopping\n"
     ]
    }
   ],
   "source": [
    "history = os_model.fit(\n",
    "    train_features_sm,\n",
    "    train_labels_sm,\n",
    "    batch_size=BATCH_SIZE,\n",
    "    epochs=EPOCHS,\n",
    "    callbacks=[early_stopping],\n",
    "    validation_data=(val_features, val_labels))"
   ]
  },
  {
   "cell_type": "code",
   "execution_count": 28,
   "id": "silver-military",
   "metadata": {},
   "outputs": [],
   "source": [
    "train_predictions_os = os_model.predict(train_features_sm, batch_size=BATCH_SIZE)\n",
    "test_predictions_os = os_model.predict(test_features, batch_size=BATCH_SIZE)"
   ]
  },
  {
   "cell_type": "code",
   "execution_count": 29,
   "id": "dimensional-driving",
   "metadata": {},
   "outputs": [
    {
     "name": "stdout",
     "output_type": "stream",
     "text": [
      "loss :  0.0\n",
      "tp :  2000.0\n",
      "fp :  9.0\n",
      "tn :  1579.0\n",
      "fn :  3969.0\n",
      "accuracy :  0.4133915603160858\n",
      "precision :  0.9955201745033264\n",
      "recall :  0.33506450057029724\n",
      "auc :  0.8053010702133179\n",
      "prc :  0.946358323097229\n",
      "\n"
     ]
    },
    {
     "data": {
      "image/png": "[encoded data removed]",
      "text/plain": [
       "<Figure size 360x360 with 2 Axes>"
      ]
     },
     "metadata": {
      "needs_background": "light"
     },
     "output_type": "display_data"
    }
   ],
   "source": [
    "results = os_model.evaluate(test_features, test_labels, batch_size=BATCH_SIZE, verbose=0)\n",
    "for name, value in zip(os_model.metrics_names, results):\n",
    "  print(name, ': ', value)\n",
    "print()\n",
    "\n",
    "plot_cm(test_labels, test_predictions_os)\n",
    "\n",
    "#plot_cm(train_labels, train_predictions_baseline)"
   ]
  },
  {
   "cell_type": "markdown",
   "id": "decreased-dinner",
   "metadata": {},
   "source": [
    "# Data aug"
   ]
  },
  {
   "cell_type": "code",
   "execution_count": 30,
   "id": "intelligent-giant",
   "metadata": {},
   "outputs": [],
   "source": [
    "def mirrorY(raw_data, posenet=False):\n",
    "    \n",
    "    try:\n",
    "        aug_data_y_mirror = raw_data.copy()\n",
    "        \n",
    "        if posenet:\n",
    "            aug_data_y_mirror = aug_data_y_mirror.append(aug_data_y_mirror.assign(head_y=-aug_data_y_mirror['head_y'],\n",
    "                                                                                  leftShoulder_y=-aug_data_y_mirror['leftShoulder_y'], \n",
    "                                                                                  rightShoulder_y=-aug_data_y_mirror['rightShoulder_y'],\n",
    "                                                                                  leftElbow_y=-aug_data_y_mirror['leftElbow_y'],\n",
    "                                                                                  rightElbow_y=-aug_data_y_mirror['rightElbow_y'],\n",
    "                                                                                  leftWrist_y=-aug_data_y_mirror['leftWrist_y'],\n",
    "                                                                                  rightWrist_y=-aug_data_y_mirror['rightWrist_y'],\n",
    "                                                                                  leftHip_y=-aug_data_y_mirror['leftHip_y'],\n",
    "                                                                                  rightHip_y=-aug_data_y_mirror['rightHip_y'],\n",
    "                                                                                  leftKnee_y=-aug_data_y_mirror['leftKnee_y'],\n",
    "                                                                                  rightKnee_y=-aug_data_y_mirror['rightKnee_y'],\n",
    "                                                                                  leftAnkle_y=-aug_data_y_mirror['leftAnkle_y'],\n",
    "                                                                                  rightAnkle_y=-aug_data_y_mirror['rightAnkle_y']))\n",
    "        else:\n",
    "            aug_data_y_mirror = aug_data_y_mirror.append(aug_data_y_mirror.assign(head_y=-aug_data_y_mirror['head_y'],\n",
    "                                                                                  left_shoulder_y=-aug_data_y_mirror['left_shoulder_y'], \n",
    "                                                                                  left_elbow_y=-aug_data_y_mirror['left_elbow_y'],\n",
    "                                                                                  right_shoulder_y=-aug_data_y_mirror['right_shoulder_y'],\n",
    "                                                                                  right_elbow_y=-aug_data_y_mirror['right_elbow_y'],\n",
    "                                                                                  left_hand_y=-aug_data_y_mirror['left_hand_y'],\n",
    "                                                                                  right_hand_y=-aug_data_y_mirror['right_hand_y'],\n",
    "                                                                                  left_hip_y=-aug_data_y_mirror['left_hip_y'],\n",
    "                                                                                  right_hip_y=-aug_data_y_mirror['right_hip_y'],\n",
    "                                                                                  left_knee_y=-aug_data_y_mirror['left_knee_y'],\n",
    "                                                                                  right_knee_y=-aug_data_y_mirror['right_knee_y'],\n",
    "                                                                                  left_foot_y=-aug_data_y_mirror['left_foot_y'],\n",
    "                                                                                  right_foot_y=-aug_data_y_mirror['right_foot_y']))\n",
    "        \n",
    "        \n",
    "        #print(raw_data.shape)\n",
    "        #print(aug_data_y_mirror.shape)\n",
    "        return aug_data_y_mirror\n",
    "    \n",
    "    except IOError as e:\n",
    "        print(e)\n",
    "        return None"
   ]
  },
  {
   "cell_type": "code",
   "execution_count": 34,
   "id": "authentic-scratch",
   "metadata": {},
   "outputs": [],
   "source": [
    "def augMultiplier(raw_data, multiplier):\n",
    "    \n",
    "    try:\n",
    "        aug_data_offset = raw_data.copy()\n",
    "        #print(aug_data_offset.head())\n",
    "        aug_data_offset *= multiplier\n",
    "        #print(aug_data_offset.head())\n",
    "        return aug_data_y_mirror\n",
    "    \n",
    "    except IOError as e:\n",
    "        print(e)\n",
    "        return None"
   ]
  },
  {
   "cell_type": "code",
   "execution_count": 35,
   "id": "bright-clear",
   "metadata": {},
   "outputs": [],
   "source": [
    "aug_data_y_mirror = mirrorY(raw_data)"
   ]
  },
  {
   "cell_type": "code",
   "execution_count": 36,
   "id": "breeding-browser",
   "metadata": {},
   "outputs": [],
   "source": [
    "aug_data_offset = augMultiplier(raw_data, multiplier=2)"
   ]
  },
  {
   "cell_type": "code",
   "execution_count": null,
   "id": "narrative-friendly",
   "metadata": {},
   "outputs": [],
   "source": [
    "aug_data_offset = augMultiplier(raw_data, multiplier=0.5)"
   ]
  },
  {
   "cell_type": "code",
   "execution_count": null,
   "id": "interior-prediction",
   "metadata": {},
   "outputs": [],
   "source": []
  },
  {
   "cell_type": "code",
   "execution_count": null,
   "id": "handled-switzerland",
   "metadata": {},
   "outputs": [],
   "source": []
  },
  {
   "cell_type": "code",
   "execution_count": null,
   "id": "cosmetic-scenario",
   "metadata": {},
   "outputs": [],
   "source": []
  }
 ],
 "metadata": {
  "kernelspec": {
   "display_name": "Python 3",
   "language": "python",
   "name": "python3"
  },
  "language_info": {
   "codemirror_mode": {
    "name": "ipython",
    "version": 3
   },
   "file_extension": ".py",
   "mimetype": "text/x-python",
   "name": "python",
   "nbconvert_exporter": "python",
   "pygments_lexer": "ipython3",
   "version": "3.9.2"
  }
 },
 "nbformat": 4,
 "nbformat_minor": 5
}
