{
 "cells": [
  {
   "cell_type": "markdown",
   "id": "aware-instrument",
   "metadata": {},
   "source": [
    "# Classify using start=0 mid = 1 end = 2"
   ]
  },
  {
   "cell_type": "code",
   "execution_count": 1,
   "id": "sunset-token",
   "metadata": {},
   "outputs": [],
   "source": [
    "import sys\n",
    "import pandas as pd\n",
    "import numpy as np"
   ]
  },
  {
   "cell_type": "markdown",
   "id": "copyrighted-recruitment",
   "metadata": {},
   "source": [
    "## 1. Read dataset"
   ]
  },
  {
   "cell_type": "code",
   "execution_count": 2,
   "id": "suspended-diary",
   "metadata": {},
   "outputs": [],
   "source": [
    "dirname = '../../datasets/marked_start_mid_end/'\n",
    "suffix = '.csv'\n",
    "\n",
    "def read_from_file( file_name, rand_num):\n",
    "    \n",
    "    try:\n",
    "        full_file_name = file_name + str(rand_num) + \"_kinect\"\n",
    "\n",
    "        file_at_path = dirname + full_file_name + suffix\n",
    "\n",
    "        data = pd.read_csv(file_at_path)\n",
    "        \n",
    "        return data, full_file_name\n",
    "    \n",
    "    except IOError as e:\n",
    "        print(e)\n",
    "        return None,None"
   ]
  },
  {
   "cell_type": "markdown",
   "id": "alert-savage",
   "metadata": {},
   "source": [
    "## 2. Read files"
   ]
  },
  {
   "cell_type": "markdown",
   "id": "trained-timing",
   "metadata": {},
   "source": [
    "### 2.1 The A series (A1-A159)"
   ]
  },
  {
   "cell_type": "code",
   "execution_count": 3,
   "id": "consolidated-victoria",
   "metadata": {},
   "outputs": [
    {
     "name": "stdout",
     "output_type": "stream",
     "text": [
      "(229, 41)\n",
      "[Errno 2] No such file or directory: '../../datasets/marked_start_mid_end/A60_kinect.csv'\n",
      "[Errno 2] No such file or directory: '../../datasets/marked_start_mid_end/A107_kinect.csv'\n",
      "(32387, 41)\n"
     ]
    }
   ],
   "source": [
    "raw_data, full_file_name = read_from_file(\"A\", 1)\n",
    "\n",
    "#print(full_file_name)\n",
    "print(raw_data.shape)\n",
    "\n",
    "for i in range(2,160):\n",
    "    input_data, full_file_name = read_from_file(\"A\", i)\n",
    "    \n",
    "    if(full_file_name is None):\n",
    "        continue\n",
    "    else:\n",
    "        #print(full_file_name)\n",
    "        raw_data = raw_data.append(input_data, ignore_index = True)\n",
    "\n",
    "print(raw_data.shape)"
   ]
  },
  {
   "cell_type": "markdown",
   "id": "driven-graph",
   "metadata": {},
   "source": [
    "### 2.2 The B series (B1-B22)"
   ]
  },
  {
   "cell_type": "code",
   "execution_count": 4,
   "id": "reserved-victoria",
   "metadata": {},
   "outputs": [
    {
     "name": "stdout",
     "output_type": "stream",
     "text": [
      "(37782, 41)\n"
     ]
    }
   ],
   "source": [
    "for i in range(1,23):\n",
    "    input_data, full_file_name = read_from_file(\"B\", i)\n",
    "    \n",
    "    if(full_file_name is None):\n",
    "        continue\n",
    "    else:\n",
    "        #print(full_file_name)\n",
    "        raw_data = raw_data.append(input_data, ignore_index = True)\n",
    "\n",
    "print(raw_data.shape)"
   ]
  },
  {
   "cell_type": "code",
   "execution_count": 5,
   "id": "representative-savings",
   "metadata": {},
   "outputs": [
    {
     "name": "stdout",
     "output_type": "stream",
     "text": [
      "Frames:\n",
      "    Total: 37782\n",
      "    Before: 7814 (0.21% of total)\n",
      "    During: 22931 (0.61% of total)\n",
      "    After: 7037 (0.19% of total)\n",
      "\n"
     ]
    }
   ],
   "source": [
    "start_0, mid_1, end_2 = np.bincount(raw_data['status'])\n",
    "print(\n",
    "    'Frames:\\n    Total: {}\\n    Before: {} ({:.2f}% of total)\\n    During: {} ({:.2f}% of total)\\n    After: {} ({:.2f}% of total)\\n'\n",
    "    .format(\n",
    "      len(raw_data), \n",
    "      start_0,\n",
    "      start_0 / len(raw_data),\n",
    "      mid_1,\n",
    "      mid_1 / len(raw_data),\n",
    "      end_2,\n",
    "      end_2 / len(raw_data)\n",
    "    )\n",
    "  )"
   ]
  },
  {
   "cell_type": "code",
   "execution_count": 6,
   "id": "moving-steel",
   "metadata": {},
   "outputs": [
    {
     "data": {
      "text/plain": [
       "0          0\n",
       "1          1\n",
       "2          2\n",
       "3          3\n",
       "4          4\n",
       "        ... \n",
       "37777    235\n",
       "37778    236\n",
       "37779    237\n",
       "37780    238\n",
       "37781    239\n",
       "Name: FrameNo, Length: 37782, dtype: int64"
      ]
     },
     "execution_count": 6,
     "metadata": {},
     "output_type": "execute_result"
    }
   ],
   "source": [
    "cleaned_data = raw_data.copy()\n",
    "cleaned_data.pop( 'FrameNo')"
   ]
  },
  {
   "cell_type": "code",
   "execution_count": 7,
   "id": "challenging-canberra",
   "metadata": {},
   "outputs": [],
   "source": [
    "# Use a utility from sklearn to split and shuffle our dataset.\n",
    "\n",
    "from sklearn.model_selection import train_test_split\n",
    "\n",
    "train_data, test_data = train_test_split(cleaned_data, test_size=0.2)\n",
    "train_data, val_data = train_test_split(train_data, test_size=0.2)\n",
    "\n",
    "# Form np arrays of labels and features.\n",
    "train_labels = np.array(train_data.pop('status'))\n",
    "val_labels = np.array(val_data.pop('status'))\n",
    "test_labels = np.array(test_data.pop('status'))\n",
    "\n",
    "train_features = np.array(train_data)\n",
    "val_features = np.array(val_data)\n",
    "test_features = np.array(test_data)"
   ]
  },
  {
   "cell_type": "markdown",
   "id": "aggressive-variable",
   "metadata": {},
   "source": [
    "### Normalization\n",
    "Normalize the input features using the sklearn StandardScaler. This will set the mean to 0 and standard deviation to 1."
   ]
  },
  {
   "cell_type": "code",
   "execution_count": 8,
   "id": "anonymous-seattle",
   "metadata": {},
   "outputs": [
    {
     "name": "stdout",
     "output_type": "stream",
     "text": [
      "Training labels shape: (24180,)\n",
      "Validation labels shape: (6045,)\n",
      "Test labels shape: (7557,)\n",
      "Training features shape: (24180, 39)\n",
      "Validation features shape: (6045, 39)\n",
      "Test features shape: (7557, 39)\n"
     ]
    }
   ],
   "source": [
    "from sklearn.preprocessing import StandardScaler\n",
    "\n",
    "scaler = StandardScaler()\n",
    "train_features = scaler.fit_transform(train_features)\n",
    "val_features = scaler.transform(val_features)\n",
    "test_features = scaler.transform(test_features)\n",
    "\n",
    "print('Training labels shape:', train_labels.shape)\n",
    "print('Validation labels shape:', val_labels.shape)\n",
    "print('Test labels shape:', test_labels.shape)\n",
    "\n",
    "print('Training features shape:', train_features.shape)\n",
    "print('Validation features shape:', val_features.shape)\n",
    "print('Test features shape:', test_features.shape)"
   ]
  },
  {
   "cell_type": "code",
   "execution_count": 9,
   "id": "received-paper",
   "metadata": {},
   "outputs": [
    {
     "name": "stdout",
     "output_type": "stream",
     "text": [
      "INFO:tensorflow:Enabling eager execution\n",
      "INFO:tensorflow:Enabling v2 tensorshape\n",
      "INFO:tensorflow:Enabling resource variables\n",
      "INFO:tensorflow:Enabling tensor equality\n",
      "INFO:tensorflow:Enabling control flow v2\n"
     ]
    }
   ],
   "source": [
    "import tensorflow as tf\n",
    "from tensorflow import keras"
   ]
  },
  {
   "cell_type": "code",
   "execution_count": 10,
   "id": "quality-latino",
   "metadata": {},
   "outputs": [],
   "source": [
    "METRICS = [\n",
    "      keras.metrics.TruePositives(name='tp'),\n",
    "      keras.metrics.FalsePositives(name='fp'),\n",
    "      keras.metrics.TrueNegatives(name='tn'),\n",
    "      keras.metrics.FalseNegatives(name='fn'), \n",
    "      keras.metrics.BinaryAccuracy(name='accuracy'),\n",
    "      keras.metrics.Precision(name='precision'),\n",
    "      keras.metrics.Recall(name='recall'),\n",
    "      keras.metrics.AUC(name='auc'),\n",
    "      keras.metrics.AUC(name='prc', curve='PR'), # precision-recall curve\n",
    "]"
   ]
  },
  {
   "cell_type": "code",
   "execution_count": 11,
   "id": "taken-jefferson",
   "metadata": {},
   "outputs": [],
   "source": [
    "def make_model(metrics=METRICS, optimizer='Adam',loss = 'categorical_crossentropy'):\n",
    "    model = keras.Sequential([\n",
    "        keras.layers.Dense(units=16, activation='relu',input_dim=train_features.shape[-1]),\n",
    "        keras.layers.Dense(32, activation='relu' ),\n",
    "        keras.layers.Dense(1, activation='sigmoid'),\n",
    "    ])\n",
    "    \n",
    "    model.compile(optimizer=optimizer, loss=loss, metrics=metrics)\n",
    "    #keras.losses.BinaryCrossentropy()\n",
    "    return model"
   ]
  },
  {
   "cell_type": "code",
   "execution_count": 12,
   "id": "cathedral-trailer",
   "metadata": {},
   "outputs": [],
   "source": [
    "EPOCHS = 100\n",
    "BATCH_SIZE = 2048\n",
    "\n",
    "early_stopping = tf.keras.callbacks.EarlyStopping(monitor='val_prc', verbose=1,patience=10,mode='max',restore_best_weights=True)"
   ]
  },
  {
   "cell_type": "code",
   "execution_count": 13,
   "id": "aggregate-omaha",
   "metadata": {},
   "outputs": [
    {
     "name": "stdout",
     "output_type": "stream",
     "text": [
      "Model: \"sequential\"\n",
      "_________________________________________________________________\n",
      "Layer (type)                 Output Shape              Param #   \n",
      "=================================================================\n",
      "dense (Dense)                (None, 16)                640       \n",
      "_________________________________________________________________\n",
      "dense_1 (Dense)              (None, 32)                544       \n",
      "_________________________________________________________________\n",
      "dense_2 (Dense)              (None, 1)                 33        \n",
      "=================================================================\n",
      "Total params: 1,217\n",
      "Trainable params: 1,217\n",
      "Non-trainable params: 0\n",
      "_________________________________________________________________\n"
     ]
    }
   ],
   "source": [
    "model = make_model()\n",
    "model.summary()"
   ]
  },
  {
   "cell_type": "markdown",
   "id": "printable-retreat",
   "metadata": {},
   "source": [
    "# Checkpoint the initial weights"
   ]
  },
  {
   "cell_type": "code",
   "execution_count": 14,
   "id": "saving-result",
   "metadata": {},
   "outputs": [],
   "source": [
    "import os\n",
    "import tempfile\n",
    "\n",
    "initial_weights = os.path.join(tempfile.mkdtemp(), 'initial_weights')\n",
    "model.save_weights(initial_weights)"
   ]
  },
  {
   "cell_type": "code",
   "execution_count": null,
   "id": "steady-elimination",
   "metadata": {},
   "outputs": [],
   "source": []
  },
  {
   "cell_type": "code",
   "execution_count": 15,
   "id": "fundamental-miami",
   "metadata": {},
   "outputs": [
    {
     "name": "stdout",
     "output_type": "stream",
     "text": [
      "Epoch 1/100\n",
      "12/12 [==============================] - 2s 69ms/step - loss: 0.0000e+00 - tp: 429.3077 - fp: 111.5385 - tn: 2819.3077 - fn: 10757.3846 - accuracy: 0.2131 - precision: 0.7691 - recall: 0.0408 - auc: 0.3438 - prc: 0.7367 - val_loss: 0.0000e+00 - val_tp: 334.0000 - val_fp: 11.0000 - val_tn: 1185.0000 - val_fn: 4515.0000 - val_accuracy: 0.2005 - val_precision: 0.9681 - val_recall: 0.0689 - val_auc: 0.5551 - val_prc: 0.8594\n",
      "Epoch 2/100\n",
      "12/12 [==============================] - 0s 5ms/step - loss: 0.0000e+00 - tp: 862.9231 - fp: 13.7692 - tn: 2911.3846 - fn: 10329.4615 - accuracy: 0.2112 - precision: 0.9834 - recall: 0.0760 - auc: 0.6020 - prc: 0.8715 - val_loss: 0.0000e+00 - val_tp: 410.0000 - val_fp: 0.0000e+00 - val_tn: 1196.0000 - val_fn: 4439.0000 - val_accuracy: 0.2076 - val_precision: 1.0000 - val_recall: 0.0846 - val_auc: 0.6897 - val_prc: 0.9125\n",
      "Epoch 3/100\n",
      "12/12 [==============================] - 0s 5ms/step - loss: 0.0000e+00 - tp: 934.1538 - fp: 0.0000e+00 - tn: 2928.8462 - fn: 10254.5385 - accuracy: 0.2155 - precision: 1.0000 - recall: 0.0823 - auc: 0.7000 - prc: 0.9136 - val_loss: 0.0000e+00 - val_tp: 443.0000 - val_fp: 0.0000e+00 - val_tn: 1196.0000 - val_fn: 4406.0000 - val_accuracy: 0.2136 - val_precision: 1.0000 - val_recall: 0.0914 - val_auc: 0.7316 - val_prc: 0.9286\n",
      "Epoch 4/100\n",
      "12/12 [==============================] - 0s 6ms/step - loss: 0.0000e+00 - tp: 1133.0769 - fp: 0.6923 - tn: 2930.0769 - fn: 10053.6923 - accuracy: 0.2279 - precision: 0.9996 - recall: 0.0986 - auc: 0.7388 - prc: 0.9279 - val_loss: 0.0000e+00 - val_tp: 656.0000 - val_fp: 0.0000e+00 - val_tn: 1196.0000 - val_fn: 4193.0000 - val_accuracy: 0.2488 - val_precision: 1.0000 - val_recall: 0.1353 - val_auc: 0.7522 - val_prc: 0.9352\n",
      "Epoch 5/100\n",
      "12/12 [==============================] - 0s 5ms/step - loss: 0.0000e+00 - tp: 1659.2308 - fp: 1.9231 - tn: 2921.8462 - fn: 9534.5385 - accuracy: 0.2644 - precision: 0.9990 - recall: 0.1450 - auc: 0.7545 - prc: 0.9328 - val_loss: 0.0000e+00 - val_tp: 914.0000 - val_fp: 0.0000e+00 - val_tn: 1196.0000 - val_fn: 3935.0000 - val_accuracy: 0.2916 - val_precision: 1.0000 - val_recall: 0.1885 - val_auc: 0.7627 - val_prc: 0.9385\n",
      "Epoch 6/100\n",
      "12/12 [==============================] - 0s 5ms/step - loss: 0.0000e+00 - tp: 2200.0000 - fp: 3.2308 - tn: 2930.0000 - fn: 8984.3077 - accuracy: 0.3029 - precision: 0.9982 - recall: 0.1942 - auc: 0.7650 - prc: 0.9361 - val_loss: 0.0000e+00 - val_tp: 1077.0000 - val_fp: 1.0000 - val_tn: 1195.0000 - val_fn: 3772.0000 - val_accuracy: 0.3179 - val_precision: 0.9991 - val_recall: 0.2221 - val_auc: 0.7711 - val_prc: 0.9409\n",
      "Epoch 7/100\n",
      "12/12 [==============================] - 0s 5ms/step - loss: 0.0000e+00 - tp: 2517.0000 - fp: 5.1538 - tn: 2944.5385 - fn: 8650.8462 - accuracy: 0.3301 - precision: 0.9983 - recall: 0.2255 - auc: 0.7740 - prc: 0.9380 - val_loss: 0.0000e+00 - val_tp: 1148.0000 - val_fp: 3.0000 - val_tn: 1193.0000 - val_fn: 3701.0000 - val_accuracy: 0.3294 - val_precision: 0.9974 - val_recall: 0.2367 - val_auc: 0.7616 - val_prc: 0.9384\n",
      "Epoch 8/100\n",
      "12/12 [==============================] - 0s 5ms/step - loss: 0.0000e+00 - tp: 2660.9231 - fp: 12.2308 - tn: 2907.7692 - fn: 8536.6154 - accuracy: 0.3347 - precision: 0.9960 - recall: 0.2379 - auc: 0.7601 - prc: 0.9355 - val_loss: 0.0000e+00 - val_tp: 1186.0000 - val_fp: 5.0000 - val_tn: 1191.0000 - val_fn: 3663.0000 - val_accuracy: 0.3352 - val_precision: 0.9958 - val_recall: 0.2446 - val_auc: 0.7515 - val_prc: 0.9352\n",
      "Epoch 9/100\n",
      "12/12 [==============================] - 0s 5ms/step - loss: 0.0000e+00 - tp: 2688.3846 - fp: 15.9231 - tn: 2929.6154 - fn: 8483.6154 - accuracy: 0.3423 - precision: 0.9938 - recall: 0.2412 - auc: 0.7544 - prc: 0.9320 - val_loss: 0.0000e+00 - val_tp: 1188.0000 - val_fp: 7.0000 - val_tn: 1189.0000 - val_fn: 3661.0000 - val_accuracy: 0.3353 - val_precision: 0.9941 - val_recall: 0.2450 - val_auc: 0.7422 - val_prc: 0.9321\n",
      "Epoch 10/100\n",
      "12/12 [==============================] - 0s 5ms/step - loss: 0.0000e+00 - tp: 2708.9231 - fp: 16.4615 - tn: 2911.7692 - fn: 8480.3846 - accuracy: 0.3406 - precision: 0.9941 - recall: 0.2409 - auc: 0.7433 - prc: 0.9292 - val_loss: 0.0000e+00 - val_tp: 1202.0000 - val_fp: 9.0000 - val_tn: 1187.0000 - val_fn: 3647.0000 - val_accuracy: 0.3373 - val_precision: 0.9926 - val_recall: 0.2479 - val_auc: 0.7343 - val_prc: 0.9294\n",
      "Epoch 11/100\n",
      "12/12 [==============================] - 0s 5ms/step - loss: 0.0000e+00 - tp: 2734.8462 - fp: 16.5385 - tn: 2902.3077 - fn: 8463.8462 - accuracy: 0.3421 - precision: 0.9938 - recall: 0.2459 - auc: 0.7366 - prc: 0.9263 - val_loss: 0.0000e+00 - val_tp: 1208.0000 - val_fp: 11.0000 - val_tn: 1185.0000 - val_fn: 3641.0000 - val_accuracy: 0.3378 - val_precision: 0.9910 - val_recall: 0.2491 - val_auc: 0.7274 - val_prc: 0.9266\n",
      "Epoch 12/100\n",
      "12/12 [==============================] - 0s 5ms/step - loss: 0.0000e+00 - tp: 2744.0769 - fp: 17.6154 - tn: 2884.6154 - fn: 8471.2308 - accuracy: 0.3395 - precision: 0.9937 - recall: 0.2432 - auc: 0.7284 - prc: 0.9243 - val_loss: 0.0000e+00 - val_tp: 1239.0000 - val_fp: 12.0000 - val_tn: 1184.0000 - val_fn: 3610.0000 - val_accuracy: 0.3426 - val_precision: 0.9904 - val_recall: 0.2555 - val_auc: 0.7225 - val_prc: 0.9243\n",
      "Epoch 13/100\n",
      "12/12 [==============================] - 0s 5ms/step - loss: 0.0000e+00 - tp: 2849.0769 - fp: 17.0000 - tn: 2895.6923 - fn: 8355.7692 - accuracy: 0.3482 - precision: 0.9944 - recall: 0.2527 - auc: 0.7269 - prc: 0.9236 - val_loss: 0.0000e+00 - val_tp: 1241.0000 - val_fp: 12.0000 - val_tn: 1184.0000 - val_fn: 3608.0000 - val_accuracy: 0.3428 - val_precision: 0.9904 - val_recall: 0.2559 - val_auc: 0.7193 - val_prc: 0.9225\n",
      "Epoch 14/100\n",
      "12/12 [==============================] - 0s 5ms/step - loss: 0.0000e+00 - tp: 2788.0769 - fp: 18.9231 - tn: 2893.2308 - fn: 8417.3077 - accuracy: 0.3432 - precision: 0.9934 - recall: 0.2475 - auc: 0.7222 - prc: 0.9212 - val_loss: 0.0000e+00 - val_tp: 1212.0000 - val_fp: 12.0000 - val_tn: 1184.0000 - val_fn: 3637.0000 - val_accuracy: 0.3380 - val_precision: 0.9902 - val_recall: 0.2499 - val_auc: 0.7155 - val_prc: 0.9211\n",
      "Epoch 15/100\n",
      "12/12 [==============================] - 0s 5ms/step - loss: 0.0000e+00 - tp: 2743.6154 - fp: 22.7692 - tn: 2935.1538 - fn: 8416.0000 - accuracy: 0.3465 - precision: 0.9911 - recall: 0.2473 - auc: 0.7201 - prc: 0.9176 - val_loss: 0.0000e+00 - val_tp: 1182.0000 - val_fp: 12.0000 - val_tn: 1184.0000 - val_fn: 3667.0000 - val_accuracy: 0.3330 - val_precision: 0.9899 - val_recall: 0.2438 - val_auc: 0.7135 - val_prc: 0.9203\n",
      "Epoch 16/100\n",
      "12/12 [==============================] - 0s 5ms/step - loss: 0.0000e+00 - tp: 2622.6923 - fp: 21.5385 - tn: 2913.9231 - fn: 8559.3846 - accuracy: 0.3334 - precision: 0.9921 - recall: 0.2340 - auc: 0.7143 - prc: 0.9175 - val_loss: 0.0000e+00 - val_tp: 1160.0000 - val_fp: 12.0000 - val_tn: 1184.0000 - val_fn: 3689.0000 - val_accuracy: 0.3294 - val_precision: 0.9898 - val_recall: 0.2392 - val_auc: 0.7110 - val_prc: 0.9194\n",
      "Restoring model weights from the end of the best epoch.\n",
      "Epoch 00016: early stopping\n"
     ]
    }
   ],
   "source": [
    "history = model.fit(\n",
    "    train_features,\n",
    "    train_labels,\n",
    "    batch_size=BATCH_SIZE,\n",
    "    epochs=EPOCHS,\n",
    "    callbacks=[early_stopping],\n",
    "    validation_data=(val_features, val_labels))"
   ]
  },
  {
   "cell_type": "code",
   "execution_count": null,
   "id": "returning-peeing",
   "metadata": {},
   "outputs": [],
   "source": []
  },
  {
   "cell_type": "code",
   "execution_count": 16,
   "id": "divine-bacteria",
   "metadata": {},
   "outputs": [],
   "source": [
    "from sklearn.metrics import confusion_matrix\n",
    "import matplotlib.pyplot as plt\n",
    "import seaborn as sns\n",
    "\n",
    "\n",
    "def plot_cm(labels, predictions, p=0.5):\n",
    "    cm = confusion_matrix(labels, predictions > p)\n",
    "    plt.figure(figsize=(5,5))\n",
    "    sns.heatmap(cm, annot=True, fmt=\"d\")\n",
    "    plt.title('Confusion matrix @{:.2f}'.format(p))\n",
    "    plt.ylabel('Actual label')\n",
    "    plt.xlabel('Predicted label')"
   ]
  },
  {
   "cell_type": "code",
   "execution_count": 17,
   "id": "stupid-posting",
   "metadata": {},
   "outputs": [],
   "source": [
    "train_predictions_baseline = model.predict(train_features, batch_size=BATCH_SIZE)\n",
    "test_predictions_baseline = model.predict(test_features, batch_size=BATCH_SIZE)"
   ]
  },
  {
   "cell_type": "code",
   "execution_count": 18,
   "id": "working-ridge",
   "metadata": {},
   "outputs": [
    {
     "name": "stdout",
     "output_type": "stream",
     "text": [
      "loss :  0.0\n",
      "tp :  1339.0\n",
      "fp :  3.0\n",
      "tn :  1601.0\n",
      "fn :  4614.0\n",
      "accuracy :  0.32671695947647095\n",
      "precision :  0.997764527797699\n",
      "recall :  0.2249286025762558\n",
      "auc :  0.7708603739738464\n",
      "prc :  0.9361129999160767\n",
      "\n"
     ]
    },
    {
     "data": {
      "image/png": "[encoded data removed]",
      "text/plain": [
       "<Figure size 360x360 with 2 Axes>"
      ]
     },
     "metadata": {
      "needs_background": "light"
     },
     "output_type": "display_data"
    }
   ],
   "source": [
    "results = model.evaluate(test_features, test_labels, batch_size=BATCH_SIZE, verbose=0)\n",
    "for name, value in zip(model.metrics_names, results):\n",
    "  print(name, ': ', value)\n",
    "print()\n",
    "\n",
    "plot_cm(test_labels, test_predictions_baseline)\n",
    "\n",
    "#plot_cm(train_labels, train_predictions_baseline)"
   ]
  },
  {
   "cell_type": "markdown",
   "id": "pediatric-syndication",
   "metadata": {},
   "source": [
    "# Class weights"
   ]
  },
  {
   "cell_type": "code",
   "execution_count": 19,
   "id": "unauthorized-portfolio",
   "metadata": {},
   "outputs": [
    {
     "name": "stdout",
     "output_type": "stream",
     "text": [
      "Weight for class 0: 1.61\n",
      "Weight for class 1: 0.55\n",
      "Weight for class 2: 1.79\n"
     ]
    }
   ],
   "source": [
    "weight_for_0 = (1 / start_0)*(len(raw_data))/3.0 \n",
    "weight_for_1 = (1 / mid_1)*(len(raw_data))/3.0\n",
    "weight_for_2 = (1 / end_2)*(len(raw_data))/3.0\n",
    "\n",
    "class_weight = {0: weight_for_0, 1: weight_for_1, 2: weight_for_2}\n",
    "\n",
    "print('Weight for class 0: {:.2f}'.format(weight_for_0))\n",
    "print('Weight for class 1: {:.2f}'.format(weight_for_1))\n",
    "print('Weight for class 2: {:.2f}'.format(weight_for_2))"
   ]
  },
  {
   "cell_type": "code",
   "execution_count": 20,
   "id": "democratic-april",
   "metadata": {},
   "outputs": [
    {
     "name": "stdout",
     "output_type": "stream",
     "text": [
      "WARNING:tensorflow:From /usr/local/lib/python3.9/site-packages/tensorflow/python/ops/array_ops.py:5043: calling gather (from tensorflow.python.ops.array_ops) with validate_indices is deprecated and will be removed in a future version.\n",
      "Instructions for updating:\n",
      "The `validate_indices` argument has no effect. Indices are always validated on CPU and never validated on GPU.\n",
      "Epoch 1/100\n",
      "12/12 [==============================] - 2s 68ms/step - loss: 0.0000e+00 - tp: 1841.4615 - fp: 155.9231 - tn: 4365.4615 - fn: 15311.6923 - accuracy: 0.2569 - precision: 0.9232 - recall: 0.1167 - auc: 0.5538 - prc: 0.8303 - val_loss: 0.0000e+00 - val_tp: 401.0000 - val_fp: 14.0000 - val_tn: 1182.0000 - val_fn: 4448.0000 - val_accuracy: 0.2046 - val_precision: 0.9663 - val_recall: 0.0827 - val_auc: 0.5307 - val_prc: 0.8510\n",
      "Epoch 2/100\n",
      "12/12 [==============================] - 0s 6ms/step - loss: 0.0000e+00 - tp: 977.0000 - fp: 22.0000 - tn: 2935.9231 - fn: 10182.6154 - accuracy: 0.2192 - precision: 0.9763 - recall: 0.0858 - auc: 0.5770 - prc: 0.8595 - val_loss: 0.0000e+00 - val_tp: 461.0000 - val_fp: 11.0000 - val_tn: 1185.0000 - val_fn: 4388.0000 - val_accuracy: 0.2119 - val_precision: 0.9767 - val_recall: 0.0951 - val_auc: 0.6799 - val_prc: 0.9091\n",
      "Epoch 3/100\n",
      "12/12 [==============================] - 0s 5ms/step - loss: 0.0000e+00 - tp: 1116.5385 - fp: 6.6923 - tn: 2936.2308 - fn: 10058.0769 - accuracy: 0.2276 - precision: 0.9906 - recall: 0.0971 - auc: 0.6929 - prc: 0.9095 - val_loss: 0.0000e+00 - val_tp: 607.0000 - val_fp: 0.0000e+00 - val_tn: 1196.0000 - val_fn: 4242.0000 - val_accuracy: 0.2387 - val_precision: 1.0000 - val_recall: 0.1252 - val_auc: 0.7260 - val_prc: 0.9269\n",
      "Epoch 4/100\n",
      "12/12 [==============================] - 0s 5ms/step - loss: 0.0000e+00 - tp: 1610.9231 - fp: 1.8462 - tn: 2907.2308 - fn: 9597.5385 - accuracy: 0.2557 - precision: 0.9992 - recall: 0.1383 - auc: 0.7336 - prc: 0.9275 - val_loss: 0.0000e+00 - val_tp: 971.0000 - val_fp: 0.0000e+00 - val_tn: 1196.0000 - val_fn: 3878.0000 - val_accuracy: 0.2991 - val_precision: 1.0000 - val_recall: 0.2002 - val_auc: 0.7456 - val_prc: 0.9335\n",
      "Epoch 5/100\n",
      "12/12 [==============================] - 0s 5ms/step - loss: 0.0000e+00 - tp: 2398.3846 - fp: 3.2308 - tn: 2958.3077 - fn: 8757.6154 - accuracy: 0.3169 - precision: 0.9985 - recall: 0.2092 - auc: 0.7477 - prc: 0.9299 - val_loss: 0.0000e+00 - val_tp: 1225.0000 - val_fp: 1.0000 - val_tn: 1195.0000 - val_fn: 3624.0000 - val_accuracy: 0.3409 - val_precision: 0.9992 - val_recall: 0.2526 - val_auc: 0.7571 - val_prc: 0.9369\n",
      "Epoch 6/100\n",
      "12/12 [==============================] - 0s 5ms/step - loss: 0.0000e+00 - tp: 2864.2308 - fp: 8.0000 - tn: 2908.3077 - fn: 8337.0000 - accuracy: 0.3455 - precision: 0.9974 - recall: 0.2521 - auc: 0.7544 - prc: 0.9337 - val_loss: 0.0000e+00 - val_tp: 1350.0000 - val_fp: 4.0000 - val_tn: 1192.0000 - val_fn: 3499.0000 - val_accuracy: 0.3611 - val_precision: 0.9970 - val_recall: 0.2784 - val_auc: 0.7646 - val_prc: 0.9394\n",
      "Epoch 7/100\n",
      "12/12 [==============================] - 0s 5ms/step - loss: 0.0000e+00 - tp: 3071.0769 - fp: 13.3077 - tn: 2904.0000 - fn: 8129.1538 - accuracy: 0.3647 - precision: 0.9960 - recall: 0.2745 - auc: 0.7674 - prc: 0.9375 - val_loss: 0.0000e+00 - val_tp: 1374.0000 - val_fp: 6.0000 - val_tn: 1190.0000 - val_fn: 3475.0000 - val_accuracy: 0.3651 - val_precision: 0.9957 - val_recall: 0.2834 - val_auc: 0.7745 - val_prc: 0.9418\n",
      "Epoch 8/100\n",
      "12/12 [==============================] - 0s 6ms/step - loss: 0.0000e+00 - tp: 3146.6154 - fp: 13.6923 - tn: 2904.6154 - fn: 8052.6154 - accuracy: 0.3713 - precision: 0.9960 - recall: 0.2839 - auc: 0.7750 - prc: 0.9396 - val_loss: 0.0000e+00 - val_tp: 1391.0000 - val_fp: 9.0000 - val_tn: 1187.0000 - val_fn: 3458.0000 - val_accuracy: 0.3674 - val_precision: 0.9936 - val_recall: 0.2869 - val_auc: 0.7649 - val_prc: 0.9390\n",
      "Epoch 9/100\n",
      "12/12 [==============================] - 0s 5ms/step - loss: 0.0000e+00 - tp: 3159.3077 - fp: 15.6923 - tn: 2902.6923 - fn: 8039.8462 - accuracy: 0.3700 - precision: 0.9948 - recall: 0.2822 - auc: 0.7669 - prc: 0.9370 - val_loss: 0.0000e+00 - val_tp: 1398.0000 - val_fp: 11.0000 - val_tn: 1185.0000 - val_fn: 3451.0000 - val_accuracy: 0.3682 - val_precision: 0.9922 - val_recall: 0.2883 - val_auc: 0.7526 - val_prc: 0.9352\n",
      "Epoch 10/100\n",
      "12/12 [==============================] - 0s 6ms/step - loss: 0.0000e+00 - tp: 3153.5385 - fp: 15.6923 - tn: 2917.1538 - fn: 8031.1538 - accuracy: 0.3714 - precision: 0.9950 - recall: 0.2809 - auc: 0.7561 - prc: 0.9331 - val_loss: 0.0000e+00 - val_tp: 1411.0000 - val_fp: 11.0000 - val_tn: 1185.0000 - val_fn: 3438.0000 - val_accuracy: 0.3704 - val_precision: 0.9923 - val_recall: 0.2910 - val_auc: 0.7439 - val_prc: 0.9322\n",
      "Epoch 11/100\n",
      "12/12 [==============================] - 0s 5ms/step - loss: 0.0000e+00 - tp: 3289.5385 - fp: 16.9231 - tn: 2911.7692 - fn: 7899.3077 - accuracy: 0.3772 - precision: 0.9950 - recall: 0.2887 - auc: 0.7441 - prc: 0.9283 - val_loss: 0.0000e+00 - val_tp: 1576.0000 - val_fp: 12.0000 - val_tn: 1184.0000 - val_fn: 3273.0000 - val_accuracy: 0.3975 - val_precision: 0.9924 - val_recall: 0.3250 - val_auc: 0.7382 - val_prc: 0.9296\n",
      "Epoch 12/100\n",
      "12/12 [==============================] - 0s 5ms/step - loss: 0.0000e+00 - tp: 3660.1538 - fp: 20.1538 - tn: 2914.3077 - fn: 7522.9231 - accuracy: 0.4061 - precision: 0.9939 - recall: 0.3249 - auc: 0.7387 - prc: 0.9256 - val_loss: 0.0000e+00 - val_tp: 1685.0000 - val_fp: 12.0000 - val_tn: 1184.0000 - val_fn: 3164.0000 - val_accuracy: 0.4156 - val_precision: 0.9929 - val_recall: 0.3475 - val_auc: 0.7325 - val_prc: 0.9268\n",
      "Epoch 13/100\n",
      "12/12 [==============================] - 0s 5ms/step - loss: 0.0000e+00 - tp: 3843.1538 - fp: 20.2308 - tn: 2882.3077 - fn: 7371.8462 - accuracy: 0.4174 - precision: 0.9944 - recall: 0.3431 - auc: 0.7354 - prc: 0.9256 - val_loss: 0.0000e+00 - val_tp: 1655.0000 - val_fp: 12.0000 - val_tn: 1184.0000 - val_fn: 3194.0000 - val_accuracy: 0.4106 - val_precision: 0.9928 - val_recall: 0.3413 - val_auc: 0.7274 - val_prc: 0.9251\n",
      "Epoch 14/100\n",
      "12/12 [==============================] - 0s 5ms/step - loss: 0.0000e+00 - tp: 3720.4615 - fp: 21.1538 - tn: 2881.3846 - fn: 7494.5385 - accuracy: 0.4098 - precision: 0.9949 - recall: 0.3323 - auc: 0.7292 - prc: 0.9248 - val_loss: 0.0000e+00 - val_tp: 1565.0000 - val_fp: 12.0000 - val_tn: 1184.0000 - val_fn: 3284.0000 - val_accuracy: 0.3959 - val_precision: 0.9924 - val_recall: 0.3227 - val_auc: 0.7242 - val_prc: 0.9238\n",
      "Epoch 15/100\n",
      "12/12 [==============================] - 0s 6ms/step - loss: 0.0000e+00 - tp: 3574.6923 - fp: 20.6154 - tn: 2898.1538 - fn: 7624.0769 - accuracy: 0.3990 - precision: 0.9950 - recall: 0.3204 - auc: 0.7283 - prc: 0.9235 - val_loss: 0.0000e+00 - val_tp: 1486.0000 - val_fp: 12.0000 - val_tn: 1184.0000 - val_fn: 3363.0000 - val_accuracy: 0.3828 - val_precision: 0.9920 - val_recall: 0.3065 - val_auc: 0.7222 - val_prc: 0.9232\n",
      "Epoch 16/100\n",
      "12/12 [==============================] - 0s 5ms/step - loss: 0.0000e+00 - tp: 3405.3846 - fp: 23.2308 - tn: 2895.3846 - fn: 7793.5385 - accuracy: 0.3864 - precision: 0.9933 - recall: 0.3067 - auc: 0.7256 - prc: 0.9222 - val_loss: 0.0000e+00 - val_tp: 1411.0000 - val_fp: 13.0000 - val_tn: 1183.0000 - val_fn: 3438.0000 - val_accuracy: 0.3702 - val_precision: 0.9909 - val_recall: 0.2910 - val_auc: 0.7185 - val_prc: 0.9220\n",
      "Epoch 17/100\n",
      "12/12 [==============================] - 0s 6ms/step - loss: 0.0000e+00 - tp: 3172.3846 - fp: 23.0769 - tn: 2882.3077 - fn: 8039.7692 - accuracy: 0.3689 - precision: 0.9939 - recall: 0.2854 - auc: 0.7243 - prc: 0.9225 - val_loss: 0.0000e+00 - val_tp: 1327.0000 - val_fp: 13.0000 - val_tn: 1183.0000 - val_fn: 3522.0000 - val_accuracy: 0.3563 - val_precision: 0.9903 - val_recall: 0.2737 - val_auc: 0.7162 - val_prc: 0.9213\n",
      "Restoring model weights from the end of the best epoch.\n",
      "Epoch 00017: early stopping\n"
     ]
    }
   ],
   "source": [
    "weighted_model = make_model()\n",
    "weighted_model.load_weights(initial_weights)\n",
    "\n",
    "weighted_history = weighted_model.fit(\n",
    "    train_features,\n",
    "    train_labels,\n",
    "    batch_size=BATCH_SIZE,\n",
    "    epochs=EPOCHS,\n",
    "    callbacks=[early_stopping],\n",
    "    validation_data=(val_features, val_labels),\n",
    "    # The class weights go here\n",
    "    class_weight=class_weight)"
   ]
  },
  {
   "cell_type": "code",
   "execution_count": 21,
   "id": "gross-humidity",
   "metadata": {},
   "outputs": [],
   "source": [
    "train_predictions_weighted = weighted_model.predict(train_features, batch_size=BATCH_SIZE)\n",
    "test_predictions_weighted = weighted_model.predict(test_features, batch_size=BATCH_SIZE)"
   ]
  },
  {
   "cell_type": "code",
   "execution_count": 22,
   "id": "dominant-polish",
   "metadata": {},
   "outputs": [
    {
     "name": "stdout",
     "output_type": "stream",
     "text": [
      "loss :  0.0\n",
      "tp :  1661.0\n",
      "fp :  7.0\n",
      "tn :  1597.0\n",
      "fn :  4292.0\n",
      "accuracy :  0.36720919609069824\n",
      "precision :  0.9958033561706543\n",
      "recall :  0.27901896834373474\n",
      "auc :  0.7764900922775269\n",
      "prc :  0.9379057884216309\n",
      "\n"
     ]
    },
    {
     "data": {
      "image/png": "[encoded data removed]",
      "text/plain": [
       "<Figure size 360x360 with 2 Axes>"
      ]
     },
     "metadata": {
      "needs_background": "light"
     },
     "output_type": "display_data"
    }
   ],
   "source": [
    "weighted_results = weighted_model.evaluate(test_features, test_labels,\n",
    "                                           batch_size=BATCH_SIZE, verbose=0)\n",
    "for name, value in zip(weighted_model.metrics_names, weighted_results):\n",
    "  print(name, ': ', value)\n",
    "print()\n",
    "\n",
    "plot_cm(test_labels, test_predictions_weighted)"
   ]
  },
  {
   "cell_type": "code",
   "execution_count": 23,
   "id": "weighted-malawi",
   "metadata": {},
   "outputs": [],
   "source": [
    "# over sample"
   ]
  },
  {
   "cell_type": "code",
   "execution_count": 24,
   "id": "dried-diversity",
   "metadata": {},
   "outputs": [
    {
     "name": "stdout",
     "output_type": "stream",
     "text": [
      "(44220, 39) (44220,)\n"
     ]
    }
   ],
   "source": [
    "from imblearn.over_sampling import SMOTE\n",
    "\n",
    "oversample = SMOTE()\n",
    "train_features_sm, train_labels_sm = oversample.fit_resample(train_features, train_labels)\n",
    "print(train_features_sm.shape,train_labels_sm.shape)"
   ]
  },
  {
   "cell_type": "code",
   "execution_count": 25,
   "id": "trying-parker",
   "metadata": {},
   "outputs": [
    {
     "name": "stdout",
     "output_type": "stream",
     "text": [
      "Model: \"sequential_2\"\n",
      "_________________________________________________________________\n",
      "Layer (type)                 Output Shape              Param #   \n",
      "=================================================================\n",
      "dense_6 (Dense)              (None, 16)                640       \n",
      "_________________________________________________________________\n",
      "dense_7 (Dense)              (None, 32)                544       \n",
      "_________________________________________________________________\n",
      "dense_8 (Dense)              (None, 1)                 33        \n",
      "=================================================================\n",
      "Total params: 1,217\n",
      "Trainable params: 1,217\n",
      "Non-trainable params: 0\n",
      "_________________________________________________________________\n"
     ]
    }
   ],
   "source": [
    "os_model = make_model()\n",
    "os_model.load_weights(initial_weights)\n",
    "os_model.summary()"
   ]
  },
  {
   "cell_type": "code",
   "execution_count": 26,
   "id": "pressed-crazy",
   "metadata": {},
   "outputs": [
    {
     "name": "stdout",
     "output_type": "stream",
     "text": [
      "Epoch 1/100\n",
      "22/22 [==============================] - 2s 37ms/step - loss: 0.0000e+00 - tp: 3222.9565 - fp: 228.3478 - tn: 9539.2174 - fn: 18980.7391 - accuracy: 0.3422 - precision: 0.9300 - recall: 0.1509 - auc: 0.5211 - prc: 0.7598 - val_loss: 0.0000e+00 - val_tp: 462.0000 - val_fp: 11.0000 - val_tn: 1185.0000 - val_fn: 4387.0000 - val_accuracy: 0.2119 - val_precision: 0.9767 - val_recall: 0.0953 - val_auc: 0.6691 - val_prc: 0.9048\n",
      "Epoch 2/100\n",
      "22/22 [==============================] - 0s 4ms/step - loss: 0.0000e+00 - tp: 2947.9130 - fp: 10.8261 - tn: 8108.6957 - fn: 13346.8261 - accuracy: 0.3450 - precision: 0.9951 - recall: 0.1776 - auc: 0.6650 - prc: 0.8373 - val_loss: 0.0000e+00 - val_tp: 891.0000 - val_fp: 0.0000e+00 - val_tn: 1196.0000 - val_fn: 3958.0000 - val_accuracy: 0.2859 - val_precision: 1.0000 - val_recall: 0.1837 - val_auc: 0.7443 - val_prc: 0.9330\n",
      "Epoch 3/100\n",
      "22/22 [==============================] - 0s 4ms/step - loss: 0.0000e+00 - tp: 4065.4783 - fp: 11.9130 - tn: 8142.9565 - fn: 12193.9130 - accuracy: 0.3912 - precision: 0.9968 - recall: 0.2435 - auc: 0.7118 - prc: 0.8635 - val_loss: 0.0000e+00 - val_tp: 1364.0000 - val_fp: 3.0000 - val_tn: 1193.0000 - val_fn: 3485.0000 - val_accuracy: 0.3638 - val_precision: 0.9978 - val_recall: 0.2813 - val_auc: 0.7640 - val_prc: 0.9390\n",
      "Epoch 4/100\n",
      "22/22 [==============================] - 0s 4ms/step - loss: 0.0000e+00 - tp: 4804.3478 - fp: 30.1304 - tn: 8135.7391 - fn: 11444.0435 - accuracy: 0.4253 - precision: 0.9945 - recall: 0.2973 - auc: 0.7259 - prc: 0.8711 - val_loss: 0.0000e+00 - val_tp: 1445.0000 - val_fp: 6.0000 - val_tn: 1190.0000 - val_fn: 3404.0000 - val_accuracy: 0.3768 - val_precision: 0.9959 - val_recall: 0.2980 - val_auc: 0.7738 - val_prc: 0.9416\n",
      "Epoch 5/100\n",
      "22/22 [==============================] - 0s 4ms/step - loss: 0.0000e+00 - tp: 4917.8696 - fp: 46.4348 - tn: 8146.9565 - fn: 11303.0000 - accuracy: 0.4279 - precision: 0.9907 - recall: 0.3033 - auc: 0.7288 - prc: 0.8720 - val_loss: 0.0000e+00 - val_tp: 1477.0000 - val_fp: 11.0000 - val_tn: 1185.0000 - val_fn: 3372.0000 - val_accuracy: 0.3813 - val_precision: 0.9926 - val_recall: 0.3046 - val_auc: 0.7520 - val_prc: 0.9349\n",
      "Epoch 6/100\n",
      "22/22 [==============================] - 0s 4ms/step - loss: 0.0000e+00 - tp: 5129.0435 - fp: 50.3478 - tn: 8116.7391 - fn: 11118.1304 - accuracy: 0.4352 - precision: 0.9900 - recall: 0.3126 - auc: 0.7180 - prc: 0.8661 - val_loss: 0.0000e+00 - val_tp: 1649.0000 - val_fp: 12.0000 - val_tn: 1184.0000 - val_fn: 3200.0000 - val_accuracy: 0.4094 - val_precision: 0.9928 - val_recall: 0.3401 - val_auc: 0.7388 - val_prc: 0.9298\n",
      "Epoch 7/100\n",
      "22/22 [==============================] - 0s 4ms/step - loss: 0.0000e+00 - tp: 5373.3913 - fp: 62.7391 - tn: 8038.3478 - fn: 10939.7826 - accuracy: 0.4415 - precision: 0.9878 - recall: 0.3292 - auc: 0.7099 - prc: 0.8611 - val_loss: 0.0000e+00 - val_tp: 1572.0000 - val_fp: 12.0000 - val_tn: 1184.0000 - val_fn: 3277.0000 - val_accuracy: 0.3967 - val_precision: 0.9924 - val_recall: 0.3242 - val_auc: 0.7295 - val_prc: 0.9258\n",
      "Epoch 8/100\n",
      "22/22 [==============================] - 0s 4ms/step - loss: 0.0000e+00 - tp: 5099.1739 - fp: 62.0000 - tn: 8121.3913 - fn: 11131.6957 - accuracy: 0.4373 - precision: 0.9880 - recall: 0.3165 - auc: 0.7047 - prc: 0.8554 - val_loss: 0.0000e+00 - val_tp: 1429.0000 - val_fp: 12.0000 - val_tn: 1184.0000 - val_fn: 3420.0000 - val_accuracy: 0.3727 - val_precision: 0.9917 - val_recall: 0.2947 - val_auc: 0.7225 - val_prc: 0.9233\n",
      "Epoch 9/100\n",
      "22/22 [==============================] - 0s 4ms/step - loss: 0.0000e+00 - tp: 4788.8696 - fp: 71.5217 - tn: 8081.0870 - fn: 11472.7826 - accuracy: 0.4205 - precision: 0.9852 - recall: 0.2945 - auc: 0.7006 - prc: 0.8537 - val_loss: 0.0000e+00 - val_tp: 1304.0000 - val_fp: 13.0000 - val_tn: 1183.0000 - val_fn: 3545.0000 - val_accuracy: 0.3520 - val_precision: 0.9901 - val_recall: 0.2689 - val_auc: 0.7172 - val_prc: 0.9216\n",
      "Epoch 10/100\n",
      "22/22 [==============================] - 0s 4ms/step - loss: 0.0000e+00 - tp: 4515.1304 - fp: 70.7391 - tn: 8025.9565 - fn: 11802.4348 - accuracy: 0.4062 - precision: 0.9846 - recall: 0.2780 - auc: 0.6970 - prc: 0.8527 - val_loss: 0.0000e+00 - val_tp: 1199.0000 - val_fp: 13.0000 - val_tn: 1183.0000 - val_fn: 3650.0000 - val_accuracy: 0.3348 - val_precision: 0.9893 - val_recall: 0.2473 - val_auc: 0.7139 - val_prc: 0.9205\n",
      "Epoch 11/100\n",
      "22/22 [==============================] - 0s 4ms/step - loss: 0.0000e+00 - tp: 4350.3913 - fp: 74.8261 - tn: 8078.9565 - fn: 11910.0870 - accuracy: 0.4013 - precision: 0.9832 - recall: 0.2678 - auc: 0.6949 - prc: 0.8498 - val_loss: 0.0000e+00 - val_tp: 1160.0000 - val_fp: 14.0000 - val_tn: 1182.0000 - val_fn: 3689.0000 - val_accuracy: 0.3282 - val_precision: 0.9881 - val_recall: 0.2392 - val_auc: 0.7109 - val_prc: 0.9195\n",
      "Epoch 12/100\n",
      "22/22 [==============================] - 0s 4ms/step - loss: 0.0000e+00 - tp: 4246.3913 - fp: 77.0000 - tn: 8069.9565 - fn: 12020.9130 - accuracy: 0.3984 - precision: 0.9821 - recall: 0.2608 - auc: 0.6918 - prc: 0.8483 - val_loss: 0.0000e+00 - val_tp: 1120.0000 - val_fp: 14.0000 - val_tn: 1182.0000 - val_fn: 3729.0000 - val_accuracy: 0.3218 - val_precision: 0.9877 - val_recall: 0.2310 - val_auc: 0.7091 - val_prc: 0.9187\n",
      "Epoch 13/100\n",
      "22/22 [==============================] - 0s 4ms/step - loss: 0.0000e+00 - tp: 5057.0870 - fp: 80.6087 - tn: 8049.7391 - fn: 11226.8261 - accuracy: 0.4173 - precision: 0.9837 - recall: 0.2969 - auc: 0.6937 - prc: 0.8493 - val_loss: 0.0000e+00 - val_tp: 1983.0000 - val_fp: 14.0000 - val_tn: 1182.0000 - val_fn: 2866.0000 - val_accuracy: 0.4648 - val_precision: 0.9930 - val_recall: 0.4090 - val_auc: 0.7085 - val_prc: 0.9185\n",
      "Epoch 14/100\n",
      "22/22 [==============================] - 0s 4ms/step - loss: 0.0000e+00 - tp: 6118.2609 - fp: 75.7826 - tn: 8043.9130 - fn: 10176.3043 - accuracy: 0.4728 - precision: 0.9875 - recall: 0.3755 - auc: 0.6895 - prc: 0.8477 - val_loss: 0.0000e+00 - val_tp: 1993.0000 - val_fp: 14.0000 - val_tn: 1182.0000 - val_fn: 2856.0000 - val_accuracy: 0.4668 - val_precision: 0.9930 - val_recall: 0.4110 - val_auc: 0.7076 - val_prc: 0.9180\n",
      "Restoring model weights from the end of the best epoch.\n",
      "Epoch 00014: early stopping\n"
     ]
    }
   ],
   "source": [
    "history = os_model.fit(\n",
    "    train_features_sm,\n",
    "    train_labels_sm,\n",
    "    batch_size=BATCH_SIZE,\n",
    "    epochs=EPOCHS,\n",
    "    callbacks=[early_stopping],\n",
    "    validation_data=(val_features, val_labels))"
   ]
  },
  {
   "cell_type": "code",
   "execution_count": 27,
   "id": "silver-military",
   "metadata": {},
   "outputs": [],
   "source": [
    "train_predictions_os = os_model.predict(train_features_sm, batch_size=BATCH_SIZE)\n",
    "test_predictions_os = os_model.predict(test_features, batch_size=BATCH_SIZE)"
   ]
  },
  {
   "cell_type": "code",
   "execution_count": 28,
   "id": "dimensional-driving",
   "metadata": {},
   "outputs": [
    {
     "name": "stdout",
     "output_type": "stream",
     "text": [
      "loss :  0.0\n",
      "tp :  1745.0\n",
      "fp :  7.0\n",
      "tn :  1597.0\n",
      "fn :  4208.0\n",
      "accuracy :  0.3783247172832489\n",
      "precision :  0.996004581451416\n",
      "recall :  0.29312950372695923\n",
      "auc :  0.7738773822784424\n",
      "prc :  0.9372656345367432\n",
      "\n"
     ]
    },
    {
     "data": {
      "image/png": "[encoded data removed]",
      "text/plain": [
       "<Figure size 360x360 with 2 Axes>"
      ]
     },
     "metadata": {
      "needs_background": "light"
     },
     "output_type": "display_data"
    }
   ],
   "source": [
    "results = os_model.evaluate(test_features, test_labels, batch_size=BATCH_SIZE, verbose=0)\n",
    "for name, value in zip(os_model.metrics_names, results):\n",
    "  print(name, ': ', value)\n",
    "print()\n",
    "\n",
    "plot_cm(test_labels, test_predictions_os)\n",
    "\n",
    "#plot_cm(train_labels, train_predictions_baseline)"
   ]
  },
  {
   "cell_type": "code",
   "execution_count": null,
   "id": "sitting-ecuador",
   "metadata": {},
   "outputs": [],
   "source": []
  }
 ],
 "metadata": {
  "kernelspec": {
   "display_name": "Python 3",
   "language": "python",
   "name": "python3"
  },
  "language_info": {
   "codemirror_mode": {
    "name": "ipython",
    "version": 3
   },
   "file_extension": ".py",
   "mimetype": "text/x-python",
   "name": "python",
   "nbconvert_exporter": "python",
   "pygments_lexer": "ipython3",
   "version": "3.9.2"
  }
 },
 "nbformat": 4,
 "nbformat_minor": 5
}
