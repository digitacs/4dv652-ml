{
 "cells": [
  {
   "cell_type": "markdown",
   "id": "aware-instrument",
   "metadata": {},
   "source": [
    "# Marking the start and end of the exercise"
   ]
  },
  {
   "cell_type": "code",
   "execution_count": 1,
   "id": "sunset-token",
   "metadata": {},
   "outputs": [
    {
     "output_type": "stream",
     "name": "stdout",
     "text": [
      "INFO:tensorflow:Enabling eager execution\n",
      "INFO:tensorflow:Enabling v2 tensorshape\n",
      "INFO:tensorflow:Enabling resource variables\n",
      "INFO:tensorflow:Enabling tensor equality\n",
      "INFO:tensorflow:Enabling control flow v2\n"
     ]
    }
   ],
   "source": [
    "import os\n",
    "import sys\n",
    "import pandas as pd\n",
    "import numpy as np\n",
    "import seaborn as sns\n",
    "import matplotlib.pyplot as plt\n",
    "import tensorflow as tf\n",
    "\n",
    "from tensorflow import keras"
   ]
  },
  {
   "cell_type": "markdown",
   "id": "copyrighted-recruitment",
   "metadata": {},
   "source": [
    "## 1. Configurations"
   ]
  },
  {
   "cell_type": "code",
   "execution_count": 2,
   "id": "suspended-diary",
   "metadata": {},
   "outputs": [],
   "source": [
    "mark_before =  2\n",
    "mark_after =  2\n",
    "save_kinect_as_well = True\n",
    "\n",
    "output_path = '../../datasets/marked_uncut/'\n",
    "\n",
    "cut_dataset_path = \"https://raw.githubusercontent.com/digitacs/4dv652-ml/main/datasets/kinect_good_preprocessed/\"\n",
    "uncut_dataset_path = \"https://raw.githubusercontent.com/digitacs/4dv652-ml/main/datasets/kinect_good_preprocessed_not_cut/\"\n",
    "posetnet_dataset_path = \"https://raw.githubusercontent.com/digitacs/4dv652-ml/main/datasets/posenet-uncut/\""
   ]
  },
  {
   "cell_type": "markdown",
   "id": "alone-sound",
   "metadata": {},
   "source": [
    "## 2. Marking logic"
   ]
  },
  {
   "cell_type": "code",
   "execution_count": 3,
   "id": "changed-acoustic",
   "metadata": {},
   "outputs": [],
   "source": [
    "def mark_start_and_stop( file_name ):\n",
    "    print('Marking \"{}\"'.format(file_name), end='')\n",
    "    \n",
    "    try:\n",
    "        # read diffrent version of the given file name\n",
    "        cut_data = pd.read_csv(cut_dataset_path+'{}_kinect.csv'.format( file_name ))\n",
    "        uncut_data = pd.read_csv(uncut_dataset_path+'{}_kinect.csv'.format( file_name ))\n",
    "        posenet_data = pd.read_csv(posetnet_dataset_path+'{}.csv'.format( file_name ))\n",
    "\n",
    "        # find the start and end frame number from cutted dataset\n",
    "        start = cut_data.iloc[0]['FrameNo']\n",
    "        end = cut_data.iloc[len(cut_data)-1]['FrameNo']\n",
    "\n",
    "        # find the start and end frame number from uncutted dataset\n",
    "        start_uncut = uncut_data.iloc[0]['FrameNo']\n",
    "        end_uncut = uncut_data.iloc[len(uncut_data)-1]['FrameNo']\n",
    "\n",
    "        # in some cases even uncuted version won't start from zero\n",
    "        # to be sure we will go for the maximum/maximum :D\n",
    "        start = np.maximum(start, start_uncut)\n",
    "        end = np.minimum(end, end_uncut)\n",
    "\n",
    "        print(' | start:{} - end:{}'.format(start,end), end='')\n",
    "\n",
    "        # add a new column for the start/end classes\n",
    "        posenet_data['status'] = None\n",
    "        uncut_data['status'] = None\n",
    "\n",
    "        # mark the coresponding frame and it's surrounds in posenet dataset\n",
    "        posenet_data.loc[\n",
    "            ((posenet_data['FrameNo'] >= start-mark_before) & \n",
    "            (posenet_data['FrameNo'] <= start+mark_after)),\n",
    "            'status'\n",
    "        ] = 'Start'\n",
    "\n",
    "        posenet_data.loc[\n",
    "            ((posenet_data['FrameNo'] >= end-mark_before) & \n",
    "            (posenet_data['FrameNo'] <= end+mark_after)),\n",
    "            'status'\n",
    "        ] = 'End'\n",
    "\n",
    "\n",
    "        # mark the coresponding frame and it's surrounds in uncut kinect dataset\n",
    "        uncut_data.loc[\n",
    "            ((uncut_data['FrameNo'] >= start-mark_before) & \n",
    "            (uncut_data['FrameNo'] <= start+mark_after)),\n",
    "            'status'\n",
    "        ] = 'Start'\n",
    "\n",
    "        uncut_data.loc[\n",
    "            ((uncut_data['FrameNo'] >= end-mark_before) & \n",
    "            (uncut_data['FrameNo'] <= end+mark_after)),\n",
    "            'status'\n",
    "        ] = 'End'\n",
    "\n",
    "        print(' Done!')\n",
    "        \n",
    "        return posenet_data, uncut_data\n",
    "    \n",
    "    except IOError as e:\n",
    "        print(e)\n",
    "        return None,None\n",
    "    "
   ]
  },
  {
   "cell_type": "markdown",
   "id": "alert-savage",
   "metadata": {},
   "source": [
    "## 3. Mark the datasets and save them"
   ]
  },
  {
   "cell_type": "markdown",
   "id": "trained-timing",
   "metadata": {},
   "source": [
    "### 3.1 The A series (A1-A159)"
   ]
  },
  {
   "cell_type": "code",
   "execution_count": 4,
   "id": "consolidated-victoria",
   "metadata": {},
   "outputs": [
    {
     "output_type": "stream",
     "name": "stdout",
     "text": [
      "Marking \"A1\" | start:68.0 - end:179.0 Done!\n",
      "Marking \"A2\" | start:70.0 - end:223.0 Done!\n",
      "Marking \"A3\" | start:55.0 - end:182.0 Done!\n",
      "Marking \"A4\" | start:56.0 - end:219.0 Done!\n",
      "Marking \"A5\" | start:55.0 - end:168.0 Done!\n",
      "Marking \"A6\" | start:30.0 - end:172.0 Done!\n",
      "Marking \"A7\" | start:46.0 - end:187.0 Done!\n",
      "Marking \"A8\" | start:51.0 - end:194.0 Done!\n",
      "Marking \"A9\" | start:41.0 - end:174.0 Done!\n",
      "Marking \"A10\" | start:42.0 - end:202.0 Done!\n",
      "Marking \"A11\" | start:24.0 - end:241.0 Done!\n",
      "Marking \"A12\" | start:13.0 - end:179.0 Done!\n",
      "Marking \"A13\" | start:14.0 - end:178.0 Done!\n",
      "Marking \"A14\" | start:0.0 - end:162.0 Done!\n",
      "Marking \"A15\" | start:12.0 - end:134.0 Done!\n",
      "Marking \"A16\" | start:30.0 - end:150.0 Done!\n",
      "Marking \"A17\" | start:21.0 - end:142.0 Done!\n",
      "Marking \"A18\" | start:54.0 - end:167.0 Done!\n",
      "Marking \"A19\" | start:29.0 - end:148.0 Done!\n",
      "Marking \"A20\" | start:24.0 - end:127.0 Done!\n",
      "Marking \"A21\" | start:24.0 - end:142.0 Done!\n",
      "Marking \"A22\" | start:38.0 - end:135.0 Done!\n",
      "Marking \"A23\" | start:34.0 - end:119.0 Done!\n",
      "Marking \"A24\" | start:45.0 - end:148.0 Done!\n",
      "Marking \"A25\" | start:32.0 - end:131.0 Done!\n",
      "Marking \"A26\" | start:28.0 - end:93.0 Done!\n",
      "Marking \"A27\" | start:38.0 - end:116.0 Done!\n",
      "Marking \"A28\" | start:27.0 - end:106.0 Done!\n",
      "Marking \"A29\" | start:34.0 - end:126.0 Done!\n",
      "Marking \"A30\" | start:41.0 - end:130.0 Done!\n",
      "Marking \"A31\" | start:27.0 - end:137.0 Done!\n",
      "Marking \"A32\" | start:47.0 - end:140.0 Done!\n",
      "Marking \"A33\" | start:25.0 - end:135.0 Done!\n",
      "Marking \"A34\" | start:40.0 - end:133.0 Done!\n",
      "Marking \"A35\" | start:55.0 - end:127.0 Done!\n",
      "Marking \"A36\" | start:37.0 - end:101.0 Done!\n",
      "Marking \"A37\" | start:44.0 - end:131.0 Done!\n",
      "Marking \"A38\" | start:40.0 - end:87.0 Done!\n",
      "Marking \"A39\" | start:43.0 - end:100.0 Done!\n",
      "Marking \"A40\" | start:17.0 - end:137.0 Done!\n",
      "Marking \"A41\" | start:53.0 - end:180.0 Done!\n",
      "Marking \"A42\" | start:55.0 - end:177.0 Done!\n",
      "Marking \"A43\" | start:25.0 - end:156.0 Done!\n",
      "Marking \"A44\" | start:78.0 - end:192.0 Done!\n",
      "Marking \"A45\" | start:44.0 - end:192.0 Done!\n",
      "Marking \"A46\" | start:26.0 - end:122.0 Done!\n",
      "Marking \"A47\" | start:51.0 - end:166.0 Done!\n",
      "Marking \"A48\" | start:0.0 - end:168.0 Done!\n",
      "Marking \"A49\" | start:32.0 - end:147.0 Done!\n",
      "Marking \"A50\" | start:37.0 - end:168.0 Done!\n",
      "Marking \"A51\" | start:8.0 - end:148.0 Done!\n",
      "Marking \"A52\" | start:21.0 - end:173.0 Done!\n",
      "Marking \"A53\" | start:3.0 - end:274.0 Done!\n",
      "Marking \"A54\" | start:20.0 - end:224.0 Done!\n",
      "Marking \"A55\" | start:2.0 - end:224.0 Done!\n",
      "Marking \"A56\" | start:67.0 - end:227.0 Done!\n",
      "Marking \"A57\" | start:64.0 - end:254.0 Done!\n",
      "Marking \"A58\" | start:1.0 - end:227.0 Done!\n",
      "Marking \"A59\" | start:2.0 - end:214.0 Done!\n",
      "Marking \"A60\"HTTP Error 404: Not Found\n",
      "Marking \"A61\" | start:32.0 - end:143.0 Done!\n",
      "Marking \"A62\" | start:55.0 - end:170.0 Done!\n",
      "Marking \"A63\" | start:92.0 - end:205.0 Done!\n",
      "Marking \"A64\" | start:94.0 - end:215.0 Done!\n",
      "Marking \"A65\" | start:8.0 - end:134.0 Done!\n",
      "Marking \"A66\" | start:15.0 - end:140.0 Done!\n",
      "Marking \"A67\" | start:89.0 - end:209.0 Done!\n",
      "Marking \"A68\" | start:48.0 - end:163.0 Done!\n",
      "Marking \"A69\" | start:39.0 - end:153.0 Done!\n",
      "Marking \"A70\" | start:19.0 - end:106.0 Done!\n",
      "Marking \"A71\" | start:54.0 - end:193.0 Done!\n",
      "Marking \"A72\" | start:40.0 - end:204.0 Done!\n",
      "Marking \"A73\" | start:0.0 - end:163.0 Done!\n",
      "Marking \"A74\" | start:54.0 - end:152.0 Done!\n",
      "Marking \"A75\" | start:2.0 - end:99.0 Done!\n",
      "Marking \"A76\" | start:34.0 - end:197.0 Done!\n",
      "Marking \"A77\" | start:16.0 - end:187.0 Done!\n",
      "Marking \"A78\" | start:2.0 - end:215.0 Done!\n",
      "Marking \"A79\" | start:2.0 - end:256.0 Done!\n",
      "Marking \"A80\" | start:2.0 - end:246.0 Done!\n",
      "Marking \"A81\" | start:22.0 - end:302.0 Done!\n",
      "Marking \"A82\" | start:0.0 - end:236.0 Done!\n",
      "Marking \"A83\" | start:0.0 - end:180.0 Done!\n",
      "Marking \"A84\" | start:1.0 - end:211.0 Done!\n",
      "Marking \"A85\" | start:35.0 - end:232.0 Done!\n",
      "Marking \"A86\" | start:4.0 - end:261.0 Done!\n",
      "Marking \"A87\" | start:3.0 - end:219.0 Done!\n",
      "Marking \"A88\" | start:1.0 - end:258.0 Done!\n",
      "Marking \"A89\" | start:75.0 - end:232.0 Done!\n",
      "Marking \"A90\" | start:34.0 - end:214.0 Done!\n",
      "Marking \"A91\" | start:13.0 - end:179.0 Done!\n",
      "Marking \"A92\" | start:14.0 - end:123.0 Done!\n",
      "Marking \"A93\" | start:5.0 - end:136.0 Done!\n",
      "Marking \"A94\" | start:51.0 - end:316.0 Done!\n",
      "Marking \"A95\" | start:35.0 - end:179.0 Done!\n",
      "Marking \"A96\" | start:5.0 - end:189.0 Done!\n",
      "Marking \"A97\" | start:35.0 - end:349.0 Done!\n",
      "Marking \"A98\" | start:0.0 - end:129.0 Done!\n",
      "Marking \"A99\" | start:20.0 - end:171.0 Done!\n",
      "Marking \"A100\" | start:3.0 - end:165.0 Done!\n",
      "Marking \"A101\" | start:2.0 - end:230.0 Done!\n",
      "Marking \"A102\" | start:5.0 - end:210.0 Done!\n",
      "Marking \"A103\" | start:54.0 - end:221.0 Done!\n",
      "Marking \"A104\" | start:2.0 - end:154.0 Done!\n",
      "Marking \"A105\" | start:1.0 - end:146.0 Done!\n",
      "Marking \"A106\" | start:6.0 - end:164.0 Done!\n",
      "Marking \"A107\"HTTP Error 404: Not Found\n",
      "Marking \"A108\" | start:131.0 - end:284.0 Done!\n",
      "Marking \"A109\" | start:73.0 - end:172.0 Done!\n",
      "Marking \"A110\" | start:91.0 - end:203.0 Done!\n",
      "Marking \"A111\" | start:0.0 - end:199.0 Done!\n",
      "Marking \"A112\" | start:84.0 - end:146.0 Done!\n",
      "Marking \"A113\" | start:78.0 - end:152.0 Done!\n",
      "Marking \"A114\" | start:125.0 - end:185.0 Done!\n",
      "Marking \"A115\" | start:65.0 - end:168.0 Done!\n",
      "Marking \"A116\" | start:0.0 - end:213.0 Done!\n",
      "Marking \"A117\" | start:0.0 - end:215.0 Done!\n",
      "Marking \"A118\" | start:0.0 - end:129.0 Done!\n",
      "Marking \"A119\" | start:0.0 - end:166.0 Done!\n",
      "Marking \"A120\" | start:23.0 - end:168.0 Done!\n",
      "Marking \"A121\" | start:0.0 - end:218.0 Done!\n",
      "Marking \"A122\" | start:30.0 - end:179.0 Done!\n",
      "Marking \"A123\" | start:0.0 - end:162.0 Done!\n",
      "Marking \"A124\" | start:16.0 - end:159.0 Done!\n",
      "Marking \"A125\" | start:5.0 - end:148.0 Done!\n",
      "Marking \"A126\" | start:144.0 - end:260.0 Done!\n",
      "Marking \"A127\" | start:20.0 - end:164.0 Done!\n",
      "Marking \"A128\" | start:0.0 - end:140.0 Done!\n",
      "Marking \"A129\" | start:59.0 - end:165.0 Done!\n",
      "Marking \"A130\" | start:1.0 - end:236.0 Done!\n",
      "Marking \"A131\" | start:0.0 - end:129.0 Done!\n",
      "Marking \"A132\" | start:33.0 - end:145.0 Done!\n",
      "Marking \"A133\" | start:0.0 - end:175.0 Done!\n",
      "Marking \"A134\" | start:0.0 - end:115.0 Done!\n",
      "Marking \"A135\" | start:13.0 - end:125.0 Done!\n",
      "Marking \"A136\" | start:34.0 - end:104.0 Done!\n",
      "Marking \"A137\" | start:70.0 - end:177.0 Done!\n",
      "Marking \"A138\" | start:69.0 - end:286.0 Done!\n",
      "Marking \"A139\" | start:69.0 - end:200.0 Done!\n",
      "Marking \"A140\" | start:6.0 - end:111.0 Done!\n",
      "Marking \"A141\" | start:43.0 - end:165.0 Done!\n",
      "Marking \"A142\" | start:24.0 - end:120.0 Done!\n",
      "Marking \"A143\" | start:23.0 - end:119.0 Done!\n",
      "Marking \"A144\" | start:46.0 - end:132.0 Done!\n",
      "Marking \"A145\" | start:42.0 - end:135.0 Done!\n",
      "Marking \"A146\" | start:66.0 - end:155.0 Done!\n",
      "Marking \"A147\" | start:30.0 - end:123.0 Done!\n",
      "Marking \"A148\" | start:23.0 - end:119.0 Done!\n",
      "Marking \"A149\" | start:13.0 - end:126.0 Done!\n",
      "Marking \"A150\" | start:33.0 - end:152.0 Done!\n",
      "Marking \"A151\" | start:79.0 - end:155.0 Done!\n",
      "Marking \"A152\" | start:55.0 - end:165.0 Done!\n",
      "Marking \"A153\" | start:65.0 - end:138.0 Done!\n",
      "Marking \"A154\" | start:16.0 - end:105.0 Done!\n",
      "Marking \"A155\" | start:57.0 - end:173.0 Done!\n",
      "Marking \"A156\" | start:102.0 - end:213.0 Done!\n",
      "Marking \"A157\" | start:138.0 - end:222.0 Done!\n",
      "Marking \"A158\" | start:1.0 - end:105.0 Done!\n",
      "Marking \"A159\" | start:47.0 - end:122.0 Done!\n"
     ]
    }
   ],
   "source": [
    "for a in range(1,160):\n",
    "    # marke start and end frames\n",
    "    posenet,uncut_kinect = mark_start_and_stop( 'A{}'.format(a) )\n",
    "    \n",
    "    # jump to next file if current one is unavailable\n",
    "    if(posenet is None):\n",
    "        continue\n",
    "    \n",
    "    # save posenet dataset to a csv file\n",
    "    posenet.to_csv(output_path+'A{}.csv'.format(a))\n",
    "    \n",
    "    if save_kinect_as_well:\n",
    "        # save uncut kinect dataset to a csv file\n",
    "        uncut_kinect.to_csv(output_path+'A{}_kinect.csv'.format(a))"
   ]
  },
  {
   "cell_type": "markdown",
   "id": "driven-graph",
   "metadata": {},
   "source": [
    "### 3.2 The B series (B1-B22)"
   ]
  },
  {
   "cell_type": "code",
   "execution_count": 5,
   "id": "reserved-victoria",
   "metadata": {},
   "outputs": [
    {
     "output_type": "stream",
     "name": "stdout",
     "text": [
      "Marking \"B1\" | start:69.0 - end:121.0 Done!\n",
      "Marking \"B2\" | start:29.0 - end:117.0 Done!\n",
      "Marking \"B3\" | start:23.0 - end:109.0 Done!\n",
      "Marking \"B4\" | start:0.0 - end:98.0 Done!\n",
      "Marking \"B5\" | start:41.0 - end:139.0 Done!\n",
      "Marking \"B6\" | start:157.0 - end:262.0 Done!\n",
      "Marking \"B7\" | start:123.0 - end:218.0 Done!\n",
      "Marking \"B8\" | start:108.0 - end:195.0 Done!\n",
      "Marking \"B9\" | start:96.0 - end:183.0 Done!\n",
      "Marking \"B10\" | start:108.0 - end:193.0 Done!\n",
      "Marking \"B11\" | start:70.0 - end:190.0 Done!\n",
      "Marking \"B12\" | start:106.0 - end:189.0 Done!\n",
      "Marking \"B13\" | start:153.0 - end:239.0 Done!\n",
      "Marking \"B14\" | start:113.0 - end:204.0 Done!\n",
      "Marking \"B15\" | start:111.0 - end:203.0 Done!\n",
      "Marking \"B16\" | start:124.0 - end:207.0 Done!\n",
      "Marking \"B17\" | start:110.0 - end:207.0 Done!\n",
      "Marking \"B18\" | start:108.0 - end:196.0 Done!\n",
      "Marking \"B19\" | start:101.0 - end:195.0 Done!\n",
      "Marking \"B20\" | start:98.0 - end:196.0 Done!\n",
      "Marking \"B21\" | start:98.0 - end:200.0 Done!\n",
      "Marking \"B22\" | start:90.0 - end:173.0 Done!\n"
     ]
    }
   ],
   "source": [
    "for b in range(1,23):\n",
    "    # marke start and end frames\n",
    "    posenet,uncut_kinect = mark_start_and_stop( 'B{}'.format(b) )\n",
    "    \n",
    "    # jump to next file if current one is unavailable\n",
    "    if(posenet is None):\n",
    "        continue\n",
    "        \n",
    "    # save posenet dataset to a csv file\n",
    "    posenet.to_csv(output_path+'B{}.csv'.format(b))\n",
    "    \n",
    "    if save_kinect_as_well:\n",
    "        # save uncut kinect dataset to a csv file\n",
    "        uncut_kinect.to_csv(output_path+'B{}_kinect.csv'.format(b))"
   ]
  },
  {
   "source": [
    "## 4. Measure Class Imbalance"
   ],
   "cell_type": "markdown",
   "metadata": {}
  },
  {
   "cell_type": "code",
   "execution_count": 6,
   "metadata": {},
   "outputs": [],
   "source": [
    "dataset = None\n",
    "\n",
    "for file in os.listdir(output_path):\n",
    "    if file.endswith('.csv') and 'kinect' in file:\n",
    "        data = pd.read_csv(output_path + file, index_col=0)\n",
    "    \n",
    "    if dataset is None:\n",
    "        dataset = data\n",
    "    else:\n",
    "        dataset = pd.concat((dataset, data),ignore_index=True)"
   ]
  },
  {
   "cell_type": "code",
   "execution_count": 7,
   "metadata": {},
   "outputs": [
    {
     "output_type": "execute_result",
     "data": {
      "text/plain": [
       "array(['Start', nan, 'End'], dtype=object)"
      ]
     },
     "metadata": {},
     "execution_count": 7
    }
   ],
   "source": [
    "dataset['status'].unique()"
   ]
  },
  {
   "cell_type": "code",
   "execution_count": 8,
   "metadata": {},
   "outputs": [
    {
     "output_type": "stream",
     "name": "stdout",
     "text": [
      "Total: 74485\n\nStart: 1707 (0.02% of total)\nEnd: 1669 (0.02% of total)\n\n"
     ]
    }
   ],
   "source": [
    "train_gc = dataset.groupby(['status']).size()\n",
    "print(\n",
    "    'Total: {}\\n\\nStart: {} ({:.2f}% of total)\\nEnd: {} ({:.2f}% of total)\\n'\n",
    "    .format(\n",
    "      len(dataset), \n",
    "      train_gc['Start'],\n",
    "      train_gc['Start'] / len(dataset),\n",
    "      train_gc['End'],\n",
    "      train_gc['End'] / len(dataset)\n",
    "    )\n",
    "  )"
   ]
  },
  {
   "cell_type": "code",
   "execution_count": null,
   "metadata": {},
   "outputs": [],
   "source": []
  }
 ],
 "metadata": {
  "kernelspec": {
   "name": "python392jvsc74a57bd04cd7ab41f5fca4b9b44701077e38c5ffd31fe66a6cab21e0214b68d958d0e462",
   "display_name": "Python 3.9.2 64-bit"
  },
  "language_info": {
   "codemirror_mode": {
    "name": "ipython",
    "version": 3
   },
   "file_extension": ".py",
   "mimetype": "text/x-python",
   "name": "python",
   "nbconvert_exporter": "python",
   "pygments_lexer": "ipython3",
   "version": "3.9.2"
  },
  "metadata": {
   "interpreter": {
    "hash": "4cd7ab41f5fca4b9b44701077e38c5ffd31fe66a6cab21e0214b68d958d0e462"
   }
  }
 },
 "nbformat": 4,
 "nbformat_minor": 5
}
