{
 "cells": [
  {
   "cell_type": "markdown",
   "id": "aware-instrument",
   "metadata": {},
   "source": [
    "# Marking the start and end of the exercise"
   ]
  },
  {
   "cell_type": "code",
   "execution_count": 1,
   "id": "sunset-token",
   "metadata": {},
   "outputs": [],
   "source": [
    "import sys\n",
    "import pandas as pd\n",
    "import numpy as np\n",
    "import os"
   ]
  },
  {
   "cell_type": "markdown",
   "id": "copyrighted-recruitment",
   "metadata": {},
   "source": [
    "## 1. Configurations"
   ]
  },
  {
   "cell_type": "code",
   "execution_count": 2,
   "id": "suspended-diary",
   "metadata": {},
   "outputs": [],
   "source": [
    "mark_before =  2\n",
    "mark_after =  2\n",
    "save_kinect_as_well = True\n",
    "\n",
    "output_path = '../../datasets/new_posenet_marked_start_end/'\n",
    "\n",
    "cut_dataset_path = \"https://raw.githubusercontent.com/digitacs/4dv652-ml/main/datasets/kinect_good_preprocessed/\"\n",
    "uncut_dataset_path = \"https://raw.githubusercontent.com/digitacs/4dv652-ml/main/datasets/kinect_fixed_not_cut_dup_fNo/\"\n",
    "posetnet_dataset_path = \"https://raw.githubusercontent.com/digitacs/4dv652-ml/main/datasets/posenet-uncut/\""
   ]
  },
  {
   "cell_type": "markdown",
   "id": "alone-sound",
   "metadata": {},
   "source": [
    "## 2. Marking logic"
   ]
  },
  {
   "cell_type": "code",
   "execution_count": 3,
   "id": "changed-acoustic",
   "metadata": {},
   "outputs": [],
   "source": [
    "def mark_start_and_stop( file_name ):\n",
    "    print('Marking \"{}\"'.format(file_name), end='')\n",
    "    \n",
    "    try:\n",
    "        # read diffrent version of the given file name\n",
    "        cut_data = pd.read_csv(cut_dataset_path+'{}_kinect.csv'.format( file_name ))\n",
    "        uncut_data = pd.read_csv(uncut_dataset_path+'{}_kinect.csv'.format( file_name ))\n",
    "        posenet_data = pd.read_csv(posetnet_dataset_path+'{}.csv'.format( file_name ))\n",
    "        \n",
    "        uncut_data['FrameNo'] = uncut_data['FrameNo'].astype(int)\n",
    "\n",
    "        # find the start and end frame number from cutted dataset\n",
    "        start = cut_data.iloc[0]['FrameNo']\n",
    "        end = cut_data.iloc[len(cut_data)-1]['FrameNo']\n",
    "\n",
    "        # find the start and end frame number from uncutted dataset\n",
    "        start_uncut = uncut_data.iloc[0]['FrameNo']\n",
    "        end_uncut = uncut_data.iloc[len(uncut_data)-1]['FrameNo']\n",
    "        \n",
    "\n",
    "        # in some cases even uncuted version won't start from zero\n",
    "        # to be sure we will go for the maximum/maximum :D\n",
    "        start = int(max(start, start_uncut))\n",
    "        end = int(min(end, end_uncut))\n",
    "        \n",
    "        # Find the coresponding frame number in posenet dataset\n",
    "        start_frame = max(uncut_data['Unnamed: 0'][uncut_data['FrameNo'] == start])\n",
    "        stop_frame = min(uncut_data['Unnamed: 0'][uncut_data['FrameNo'] == end])\n",
    "\n",
    "        print(' | start:{} - end:{}'.format(start_frame,stop_frame), end='')\n",
    "                \n",
    "\n",
    "        # add a new columns for the start/end classes\n",
    "        posenet_data['start'] = None\n",
    "        posenet_data['end'] = None\n",
    "\n",
    "        # mark the coresponding frame       \n",
    "        posenet_data.loc[:start_frame,'start'] = '1'\n",
    "        posenet_data.loc[stop_frame:,'end'] = '1'\n",
    "\n",
    "        print(' Done!')\n",
    "        \n",
    "        return posenet_data\n",
    "    \n",
    "    except IOError as e:\n",
    "        print(e)\n",
    "        return None\n",
    "    "
   ]
  },
  {
   "cell_type": "markdown",
   "id": "alert-savage",
   "metadata": {},
   "source": [
    "## 3. Mark the datasets and save them"
   ]
  },
  {
   "cell_type": "markdown",
   "id": "trained-timing",
   "metadata": {},
   "source": [
    "### 3.1 The A series (A1-A159)"
   ]
  },
  {
   "cell_type": "code",
   "execution_count": 4,
   "id": "consolidated-victoria",
   "metadata": {},
   "outputs": [
    {
     "name": "stdout",
     "output_type": "stream",
     "text": [
      "Marking \"A1\" | start:137 - end:358 Done!\n",
      "Marking \"A2\" | start:212 - end:711 Done!\n",
      "Marking \"A3\" | start:223 - end:701 Done!\n",
      "Marking \"A4\" | start:227 - end:829 Done!\n",
      "Marking \"A5\" | start:223 - end:653 Done!\n",
      "Marking \"A6\" | start:123 - end:667 Done!\n",
      "Marking \"A7\" | start:187 - end:715 Done!\n",
      "Marking \"A8\" | start:207 - end:741 Done!\n",
      "Marking \"A9\" | start:167 - end:672 Done!\n",
      "Marking \"A10\" | start:171 - end:788 Done!\n",
      "Marking \"A11\" | start:74 - end:786 Done!\n",
      "Marking \"A12\" | start:55 - end:696 Done!\n",
      "Marking \"A13\" | start:59 - end:691 Done!\n",
      "Marking \"A14\" | start:3 - end:639 Done!\n",
      "Marking \"A15\" | start:51 - end:536 Done!\n",
      "Marking \"A16\" | start:123 - end:572 Done!\n",
      "Marking \"A17\" | start:87 - end:546 Done!\n",
      "Marking \"A18\" | start:219 - end:652 Done!\n",
      "Marking \"A19\" | start:119 - end:568 Done!\n",
      "Marking \"A20\" | start:99 - end:497 Done!\n",
      "Marking \"A21\" | start:74 - end:426 Done!\n",
      "Marking \"A22\" | start:155 - end:514 Done!\n",
      "Marking \"A23\" | start:139 - end:462 Done!\n",
      "Marking \"A24\" | start:183 - end:575 Done!\n",
      "Marking \"A25\" | start:131 - end:502 Done!\n",
      "Marking \"A26\" | start:115 - end:372 Done!\n",
      "Marking \"A27\" | start:155 - end:457 Done!\n",
      "Marking \"A28\" | start:111 - end:414 Done!\n",
      "Marking \"A29\" | start:139 - end:501 Done!\n",
      "Marking \"A30\" | start:125 - end:390 Done!\n",
      "Marking \"A31\" | start:111 - end:527 Done!\n",
      "Marking \"A32\" | start:191 - end:540 Done!\n",
      "Marking \"A33\" | start:103 - end:526 Done!\n",
      "Marking \"A34\" | start:163 - end:530 Done!\n",
      "Marking \"A35\" | start:223 - end:498 Done!\n",
      "Marking \"A36\" | start:151 - end:401 Done!\n",
      "Marking \"A37\" | start:179 - end:511 Done!\n",
      "Marking \"A38\" | start:163 - end:348 Done!\n",
      "Marking \"A39\" | start:175 - end:400 Done!\n",
      "Marking \"A40\" | start:71 - end:525 Done!\n",
      "Marking \"A41\" | start:215 - end:702 Done!\n",
      "Marking \"A42\" | start:223 - end:677 Done!\n",
      "Marking \"A43\" | start:103 - end:601 Done!\n",
      "Marking \"A44\" | start:315 - end:748 Done!\n",
      "Marking \"A45\" | start:179 - end:725 Done!\n",
      "Marking \"A46\" | start:107 - end:477 Done!\n",
      "Marking \"A47\" | start:207 - end:634 Done!\n",
      "Marking \"A48\" | start:3 - end:645 Done!\n",
      "Marking \"A49\" | start:131 - end:562 Done!\n",
      "Marking \"A50\" | start:113 - end:501 Done!\n",
      "Marking \"A51\" | start:35 - end:561 Done!\n",
      "Marking \"A52\" | start:87 - end:663 Done!\n",
      "Marking \"A53\" | start:15 - end:1030 Done!\n",
      "Marking \"A54\" | start:83 - end:837 Done!\n",
      "Marking \"A55\" | start:11 - end:856 Done!\n",
      "Marking \"A56\" | start:271 - end:870 Done!\n",
      "Marking \"A57\" | start:259 - end:964 Done!\n",
      "Marking \"A58\" | start:7 - end:867 Done!\n",
      "Marking \"A59\" | start:11 - end:813 Done!\n",
      "Marking \"A60\"HTTP Error 404: Not Found\n",
      "Marking \"A61\" | start:131 - end:552 Done!\n",
      "Marking \"A62\" | start:223 - end:668 Done!\n",
      "Marking \"A63\" | start:371 - end:791 Done!\n",
      "Marking \"A64\" | start:379 - end:817 Done!\n",
      "Marking \"A65\" | start:35 - end:530 Done!\n",
      "Marking \"A66\" | start:63 - end:538 Done!\n",
      "Marking \"A67\" | start:359 - end:797 Done!\n",
      "Marking \"A68\" | start:195 - end:623 Done!\n",
      "Marking \"A69\" | start:159 - end:592 Done!\n",
      "Marking \"A70\" | start:59 - end:316 Done!\n",
      "Marking \"A71\" | start:219 - end:727 Done!\n",
      "Marking \"A72\" | start:163 - end:775 Done!\n",
      "Marking \"A73\" | start:3 - end:625 Done!\n",
      "Marking \"A74\" | start:219 - end:589 Done!\n",
      "Marking \"A75\" | start:11 - end:396 Done!\n",
      "Marking \"A76\" | start:139 - end:748 Done!\n",
      "Marking \"A77\" | start:67 - end:708 Done!\n",
      "Marking \"A78\" | start:11 - end:822 Done!\n",
      "Marking \"A79\" | start:11 - end:966 Done!\n",
      "Marking \"A80\" | start:11 - end:931 Done!\n",
      "Marking \"A81\" | start:91 - end:1118 Done!\n",
      "Marking \"A82\" | start:3 - end:910 Done!\n",
      "Marking \"A83\" | start:3 - end:703 Done!\n",
      "Marking \"A84\" | start:7 - end:804 Done!\n",
      "Marking \"A85\" | start:143 - end:896 Done!\n",
      "Marking \"A86\" | start:19 - end:983 Done!\n",
      "Marking \"A87\" | start:15 - end:856 Done!\n",
      "Marking \"A88\" | start:7 - end:986 Done!\n",
      "Marking \"A89\" | start:303 - end:886 Done!\n",
      "Marking \"A90\" | start:139 - end:818 Done!\n",
      "Marking \"A91\" | start:55 - end:688 Done!\n",
      "Marking \"A92\" | start:59 - end:467 Done!\n",
      "Marking \"A93\" | start:23 - end:521 Done!\n",
      "Marking \"A94\" | start:207 - end:1196 Done!\n",
      "Marking \"A95\" | start:143 - end:680 Done!\n",
      "Marking \"A96\" | start:23 - end:730 Done!\n",
      "Marking \"A97\" | start:143 - end:1320 Done!\n",
      "Marking \"A98\" | start:3 - end:503 Done!\n",
      "Marking \"A99\" | start:83 - end:662 Done!\n",
      "Marking \"A100\" | start:3 - end:702 Done!\n",
      "Marking \"A101\" | start:3 - end:1003 Done!\n",
      "Marking \"A102\" | start:3 - end:797 Done!\n",
      "Marking \"A103\" | start:5 - end:1046 Done!\n",
      "Marking \"A104\" | start:11 - end:603 Done!\n",
      "Marking \"A105\" | start:7 - end:565 Done!\n",
      "Marking \"A106\" | start:27 - end:630 Done!\n",
      "Marking \"A107\"HTTP Error 404: Not Found\n",
      "Marking \"A108\" | start:527 - end:1070 Done!\n",
      "Marking \"A109\" | start:295 - end:659 Done!\n",
      "Marking \"A110\" | start:367 - end:766 Done!\n",
      "Marking \"A111\" | start:3 - end:754 Done!\n",
      "Marking \"A112\" | start:339 - end:568 Done!\n",
      "Marking \"A113\" | start:315 - end:601 Done!\n",
      "Marking \"A114\" | start:503 - end:719 Done!\n",
      "Marking \"A115\" | start:263 - end:648 Done!\n",
      "Marking \"A116\" | start:3 - end:808 Done!\n",
      "Marking \"A117\" | start:3 - end:811 Done!\n",
      "Marking \"A118\" | start:3 - end:507 Done!\n",
      "Marking \"A119\" | start:3 - end:633 Done!\n",
      "Marking \"A120\" | start:71 - end:497 Done!\n",
      "Marking \"A121\" | start:2 - end:685 Done!\n",
      "Marking \"A122\" | start:123 - end:669 Done!\n",
      "Marking \"A123\" | start:3 - end:631 Done!\n",
      "Marking \"A124\" | start:67 - end:609 Done!\n",
      "Marking \"A125\" | start:23 - end:568 Done!\n",
      "Marking \"A126\" | start:571 - end:974 Done!\n",
      "Marking \"A127\" | start:83 - end:635 Done!\n",
      "Marking \"A128\" | start:3 - end:543 Done!\n",
      "Marking \"A129\" | start:239 - end:642 Done!\n",
      "Marking \"A130\" | start:7 - end:895 Done!\n",
      "Marking \"A131\" | start:3 - end:507 Done!\n",
      "Marking \"A132\" | start:135 - end:555 Done!\n",
      "Marking \"A133\" | start:3 - end:675 Done!\n",
      "Marking \"A134\" | start:3 - end:460 Done!\n",
      "Marking \"A135\" | start:55 - end:484 Done!\n",
      "Marking \"A136\" | start:139 - end:407 Done!\n",
      "Marking \"A137\" | start:283 - end:690 Done!\n",
      "Marking \"A138\" | start:279 - end:1083 Done!\n",
      "Marking \"A139\" | start:279 - end:770 Done!\n",
      "Marking \"A140\" | start:27 - end:440 Done!\n",
      "Marking \"A141\" | start:175 - end:634 Done!\n",
      "Marking \"A142\" | start:99 - end:480 Done!\n",
      "Marking \"A143\" | start:95 - end:476 Done!\n",
      "Marking \"A144\" | start:187 - end:516 Done!\n",
      "Marking \"A145\" | start:171 - end:529 Done!\n",
      "Marking \"A146\" | start:267 - end:610 Done!\n",
      "Marking \"A147\" | start:123 - end:492 Done!\n",
      "Marking \"A148\" | start:95 - end:472 Done!\n",
      "Marking \"A149\" | start:55 - end:491 Done!\n",
      "Marking \"A150\" | start:135 - end:579 Done!\n",
      "Marking \"A151\" | start:319 - end:604 Done!\n",
      "Marking \"A152\" | start:223 - end:635 Done!\n",
      "Marking \"A153\" | start:263 - end:536 Done!\n",
      "Marking \"A154\" | start:67 - end:409 Done!\n",
      "Marking \"A155\" | start:231 - end:644 Done!\n",
      "Marking \"A156\" | start:411 - end:824 Done!\n",
      "Marking \"A157\" | start:555 - end:849 Done!\n",
      "Marking \"A158\" | start:7 - end:407 Done!\n",
      "Marking \"A159\" | start:191 - end:480 Done!\n"
     ]
    }
   ],
   "source": [
    "for a in range(1,160):\n",
    "    # marke start and end frames\n",
    "    posenet = mark_start_and_stop( 'A{}'.format(a) )\n",
    "    \n",
    "    # jump to next file if current one is unavailable\n",
    "    if(posenet is None):\n",
    "        continue\n",
    "    \n",
    "    # save posenet dataset to a csv file\n",
    "    posenet.to_csv(output_path+'A{}.csv'.format(a),index=False)\n",
    "    "
   ]
  },
  {
   "cell_type": "markdown",
   "id": "driven-graph",
   "metadata": {},
   "source": [
    "### 3.2 The B series (B1-B22)"
   ]
  },
  {
   "cell_type": "code",
   "execution_count": 5,
   "id": "reserved-victoria",
   "metadata": {},
   "outputs": [
    {
     "name": "stdout",
     "output_type": "stream",
     "text": [
      "Marking \"B1\" | start:209 - end:363 Done!\n",
      "Marking \"B2\" | start:119 - end:456 Done!\n",
      "Marking \"B3\" | start:95 - end:425 Done!\n",
      "Marking \"B4\" | start:3 - end:383 Done!\n",
      "Marking \"B5\" | start:167 - end:546 Done!\n",
      "Marking \"B6\" | start:631 - end:998 Done!\n",
      "Marking \"B7\" | start:495 - end:849 Done!\n",
      "Marking \"B8\" | start:435 - end:756 Done!\n",
      "Marking \"B9\" | start:387 - end:714 Done!\n",
      "Marking \"B10\" | start:435 - end:752 Done!\n",
      "Marking \"B11\" | start:212 - end:598 Done!\n",
      "Marking \"B12\" | start:427 - end:725 Done!\n",
      "Marking \"B13\" | start:599 - end:898 Done!\n",
      "Marking \"B14\" | start:455 - end:788 Done!\n",
      "Marking \"B15\" | start:447 - end:776 Done!\n",
      "Marking \"B16\" | start:499 - end:804 Done!\n",
      "Marking \"B17\" | start:443 - end:787 Done!\n",
      "Marking \"B18\" | start:435 - end:758 Done!\n",
      "Marking \"B19\" | start:407 - end:757 Done!\n",
      "Marking \"B20\" | start:395 - end:761 Done!\n",
      "Marking \"B21\" | start:395 - end:767 Done!\n",
      "Marking \"B22\" | start:363 - end:676 Done!\n"
     ]
    }
   ],
   "source": [
    "for b in range(1,23):\n",
    "    # marke start and end frames\n",
    "    posenet = mark_start_and_stop( 'B{}'.format(b) )\n",
    "    \n",
    "    # jump to next file if current one is unavailable\n",
    "    if(posenet is None):\n",
    "        continue\n",
    "        \n",
    "    # save posenet dataset to a csv file\n",
    "    posenet.to_csv(output_path+'B{}.csv'.format(b),index=False)\n",
    "    "
   ]
  },
  {
   "cell_type": "markdown",
   "id": "applicable-parker",
   "metadata": {},
   "source": [
    "## 4. Measure Class Imbalance"
   ]
  },
  {
   "cell_type": "code",
   "execution_count": 8,
   "id": "spatial-pixel",
   "metadata": {},
   "outputs": [],
   "source": [
    "dataset = None\n",
    "\n",
    "for file in os.listdir(output_path):\n",
    "    if file.endswith('.csv'):\n",
    "        data = pd.read_csv(output_path + file, index_col=0)\n",
    "    \n",
    "    if dataset is None:\n",
    "        dataset = data\n",
    "    else:\n",
    "        dataset = pd.concat((dataset, data),ignore_index=True)"
   ]
  },
  {
   "cell_type": "code",
   "execution_count": 9,
   "id": "worldwide-grammar",
   "metadata": {},
   "outputs": [
    {
     "data": {
      "text/plain": [
       "array([ 1., nan])"
      ]
     },
     "execution_count": 9,
     "metadata": {},
     "output_type": "execute_result"
    }
   ],
   "source": [
    "dataset['start'].unique()"
   ]
  },
  {
   "cell_type": "code",
   "execution_count": 10,
   "id": "urban-mitchell",
   "metadata": {},
   "outputs": [
    {
     "data": {
      "text/plain": [
       "array([nan,  1.])"
      ]
     },
     "execution_count": 10,
     "metadata": {},
     "output_type": "execute_result"
    }
   ],
   "source": [
    "dataset['end'].unique()"
   ]
  },
  {
   "cell_type": "code",
   "execution_count": 11,
   "id": "forbidden-shield",
   "metadata": {},
   "outputs": [
    {
     "name": "stdout",
     "output_type": "stream",
     "text": [
      "Total: 142872\n",
      "\n",
      "Start: 29333 (0.21% of total)\n",
      "\n"
     ]
    }
   ],
   "source": [
    "train_gc = dataset.groupby(['start']).size()\n",
    "print(\n",
    "    'Total: {}\\n\\nStart: {} ({:.2f}% of total)\\n'\n",
    "    .format(\n",
    "      len(dataset), \n",
    "      train_gc[1],\n",
    "      train_gc[1] / len(dataset),\n",
    "    )\n",
    "  )"
   ]
  },
  {
   "cell_type": "code",
   "execution_count": 12,
   "id": "adopted-restoration",
   "metadata": {},
   "outputs": [
    {
     "name": "stdout",
     "output_type": "stream",
     "text": [
      "Total: 142872\n",
      "\n",
      "End: 23455 (0.16% of total)\n",
      "\n"
     ]
    }
   ],
   "source": [
    "train_gc = dataset.groupby(['end']).size()\n",
    "print(\n",
    "    'Total: {}\\n\\nEnd: {} ({:.2f}% of total)\\n'\n",
    "    .format(\n",
    "      len(dataset), \n",
    "      train_gc[1],\n",
    "      train_gc[1] / len(dataset),\n",
    "    )\n",
    "  )"
   ]
  },
  {
   "cell_type": "code",
   "execution_count": null,
   "id": "eleven-parks",
   "metadata": {},
   "outputs": [],
   "source": []
  }
 ],
 "metadata": {
  "kernelspec": {
   "display_name": "Python 3",
   "language": "python",
   "name": "python3"
  },
  "language_info": {
   "codemirror_mode": {
    "name": "ipython",
    "version": 3
   },
   "file_extension": ".py",
   "mimetype": "text/x-python",
   "name": "python",
   "nbconvert_exporter": "python",
   "pygments_lexer": "ipython3",
   "version": "3.9.5"
  }
 },
 "nbformat": 4,
 "nbformat_minor": 5
}
