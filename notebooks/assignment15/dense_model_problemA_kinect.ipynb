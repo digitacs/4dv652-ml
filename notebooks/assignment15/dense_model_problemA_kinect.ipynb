{
 "cells": [
  {
   "cell_type": "markdown",
   "metadata": {},
   "source": [
    "# Dense Model for Kinect data\n",
    "\n",
    "\n",
    "## Section for Configurations and Imports"
   ]
  },
  {
   "cell_type": "code",
   "execution_count": 1,
   "metadata": {},
   "outputs": [
    {
     "name": "stdout",
     "output_type": "stream",
     "text": [
      "INFO:tensorflow:Enabling eager execution\n",
      "INFO:tensorflow:Enabling v2 tensorshape\n",
      "INFO:tensorflow:Enabling resource variables\n",
      "INFO:tensorflow:Enabling tensor equality\n",
      "INFO:tensorflow:Enabling control flow v2\n"
     ]
    }
   ],
   "source": [
    "import os \n",
    "import tempfile\n",
    "\n",
    "import numpy as np \n",
    "import pandas as pd\n",
    "import seaborn as sns\n",
    "import tensorflow as tf\n",
    "import matplotlib as mpl\n",
    "import matplotlib.pyplot as plt\n",
    "import time\n",
    "from tensorflow import keras\n",
    "\n",
    "# MLflow dashboard\n",
    "import mlflow\n",
    "mlflow.set_tracking_uri('http://35.228.45.76:5000')\n",
    "os.environ['GOOGLE_APPLICATION_CREDENTIALS']='../../keys/mlflow-312506-8cfad529f4fd.json'\n",
    "\n",
    "# Import data augmentation\n",
    "import sys\n",
    "module_path = os.path.abspath(os.path.join('../..'))\n",
    "if module_path not in sys.path:\n",
    "    sys.path.append(module_path)\n",
    "from augmentation.methods import *"
   ]
  },
  {
   "cell_type": "code",
   "execution_count": 2,
   "metadata": {},
   "outputs": [],
   "source": [
    "import warnings\n",
    "warnings.simplefilter('ignore')"
   ]
  },
  {
   "cell_type": "code",
   "execution_count": 3,
   "metadata": {},
   "outputs": [],
   "source": [
    "mpl.rcParams['figure.figsize'] = (12, 10)\n",
    "colors = plt.rcParams['axes.prop_cycle'].by_key()['color']"
   ]
  },
  {
   "cell_type": "code",
   "execution_count": 4,
   "metadata": {},
   "outputs": [],
   "source": [
    "random_state = 47\n",
    "np.random.seed(random_state)"
   ]
  },
  {
   "cell_type": "code",
   "execution_count": 5,
   "metadata": {},
   "outputs": [],
   "source": [
    "from keras.callbacks import EarlyStopping\n",
    "\n",
    "early_stopping = EarlyStopping(\n",
    "    monitor='val_loss', \n",
    "    verbose=1,\n",
    "    patience=10,\n",
    "    mode='auto',\n",
    "    restore_best_weights=True)"
   ]
  },
  {
   "cell_type": "markdown",
   "metadata": {},
   "source": [
    "## 1. Load Prepared Dataset"
   ]
  },
  {
   "cell_type": "code",
   "execution_count": 6,
   "metadata": {},
   "outputs": [],
   "source": [
    "data_path = '../../datasets/exercise_score/'\n",
    "train_files = [\n",
    "    'kinect_train_dataset_1.csv',\n",
    "    'kinect_train_dataset_2.csv',\n",
    "    'kinect_train_dataset_3.csv',\n",
    "    'kinect_train_dataset_4.csv',\n",
    "    'kinect_train_dataset_5.csv',\n",
    "]\n",
    "\n",
    "test_files = [\n",
    "    'kinect_test_dataset_1.csv',\n",
    "    'kinect_test_dataset_2.csv',\n",
    "    'kinect_test_dataset_3.csv',\n",
    "]\n",
    "df_train = None\n",
    "df_test = None"
   ]
  },
  {
   "cell_type": "code",
   "execution_count": 7,
   "metadata": {},
   "outputs": [
    {
     "name": "stdout",
     "output_type": "stream",
     "text": [
      "(895495, 40) \n",
      "\n",
      "     head_x   head_y    head_z  left_shoulder_x  left_shoulder_y  \\\n",
      "0  0.014747  0.75019  0.018200         -0.15129          0.45769   \n",
      "1  0.014747  0.75019  0.018200         -0.15129          0.45769   \n",
      "2  0.014747  0.75019  0.018200         -0.15129          0.45769   \n",
      "3  0.014747  0.75019  0.018200         -0.15129          0.45769   \n",
      "4  0.015055  0.75015  0.018535         -0.15084          0.45749   \n",
      "\n",
      "   left_shoulder_z  left_elbow_x  left_elbow_y  left_elbow_z  \\\n",
      "0         0.016585      -0.18173       0.19971      0.034093   \n",
      "1         0.016585      -0.18173       0.19971      0.034093   \n",
      "2         0.016585      -0.18173       0.19971      0.034093   \n",
      "3         0.016585      -0.18173       0.19971      0.034093   \n",
      "4         0.017340      -0.18173       0.19967      0.034144   \n",
      "\n",
      "   right_shoulder_x  ...  right_knee_x  right_knee_y  right_knee_z  \\\n",
      "0           0.16628  ...       0.12415      -0.41084     -0.025178   \n",
      "1           0.16628  ...       0.12415      -0.41084     -0.025178   \n",
      "2           0.16628  ...       0.12415      -0.41084     -0.025178   \n",
      "3           0.16628  ...       0.12415      -0.41084     -0.025178   \n",
      "4           0.16665  ...       0.12431      -0.41098     -0.025021   \n",
      "\n",
      "   left_foot_x  left_foot_y  left_foot_z  right_foot_x  right_foot_y  \\\n",
      "0     -0.12549     -0.74586    -0.037080       0.13581      -0.75529   \n",
      "1     -0.12549     -0.74586    -0.037080       0.13581      -0.75529   \n",
      "2     -0.12549     -0.74586    -0.037080       0.13581      -0.75529   \n",
      "3     -0.12549     -0.74586    -0.037080       0.13581      -0.75529   \n",
      "4     -0.12539     -0.74513    -0.037584       0.13578      -0.75527   \n",
      "\n",
      "   right_foot_z  ExreciseScore  \n",
      "0     -0.049814       3.651582  \n",
      "1     -0.049814       3.651582  \n",
      "2     -0.049814       3.651582  \n",
      "3     -0.049814       3.651582  \n",
      "4     -0.049818       3.651582  \n",
      "\n",
      "[5 rows x 40 columns]\n"
     ]
    }
   ],
   "source": [
    "for file in train_files:\n",
    "    try:\n",
    "        dataset_train = pd.read_csv(data_path + file)\n",
    "        if df_train is None:\n",
    "            df_train = dataset_train\n",
    "        else:\n",
    "            df_train = df_train.append(dataset_train, ignore_index=True)  \n",
    "    except IOError as e:\n",
    "        print('Error in reading file: ', e)\n",
    "print(df_train.shape, '\\n')\n",
    "print(df_train.head())"
   ]
  },
  {
   "cell_type": "code",
   "execution_count": 8,
   "metadata": {},
   "outputs": [
    {
     "name": "stdout",
     "output_type": "stream",
     "text": [
      "(106134, 40) \n",
      "\n",
      "     head_x   head_y    head_z  left_shoulder_x  left_shoulder_y  \\\n",
      "0 -0.000956  0.70872  0.004201         -0.17179          0.48246   \n",
      "1 -0.000956  0.70872  0.004201         -0.17179          0.48246   \n",
      "2 -0.000956  0.70872  0.004201         -0.17179          0.48246   \n",
      "3 -0.000956  0.70872  0.004201         -0.17179          0.48246   \n",
      "4 -0.000983  0.70887  0.004283         -0.17177          0.48234   \n",
      "\n",
      "   left_shoulder_z  left_elbow_x  left_elbow_y  left_elbow_z  \\\n",
      "0         0.037272      -0.35875       0.62571      0.059937   \n",
      "1         0.037272      -0.35875       0.62571      0.059937   \n",
      "2         0.037272      -0.35875       0.62571      0.059937   \n",
      "3         0.037272      -0.35875       0.62571      0.059937   \n",
      "4         0.035379      -0.35855       0.62601      0.059772   \n",
      "\n",
      "   right_shoulder_x  ...  right_knee_x  right_knee_y  right_knee_z  \\\n",
      "0           0.15655  ...       0.11736      -0.45209     -0.018903   \n",
      "1           0.15655  ...       0.11736      -0.45209     -0.018903   \n",
      "2           0.15655  ...       0.11736      -0.45209     -0.018903   \n",
      "3           0.15655  ...       0.11736      -0.45209     -0.018903   \n",
      "4           0.15662  ...       0.11734      -0.45216     -0.018948   \n",
      "\n",
      "   left_foot_x  left_foot_y  left_foot_z  right_foot_x  right_foot_y  \\\n",
      "0     -0.12115     -0.78793    -0.036693       0.13131      -0.79743   \n",
      "1     -0.12115     -0.78793    -0.036693       0.13131      -0.79743   \n",
      "2     -0.12115     -0.78793    -0.036693       0.13131      -0.79743   \n",
      "3     -0.12115     -0.78793    -0.036693       0.13131      -0.79743   \n",
      "4     -0.12123     -0.78945    -0.038249       0.13133      -0.79743   \n",
      "\n",
      "   right_foot_z  ExreciseScore  \n",
      "0     -0.045202       3.735287  \n",
      "1     -0.045202       3.735287  \n",
      "2     -0.045202       3.735287  \n",
      "3     -0.045202       3.735287  \n",
      "4     -0.045186       3.735287  \n",
      "\n",
      "[5 rows x 40 columns]\n"
     ]
    }
   ],
   "source": [
    "for file in test_files:\n",
    "    try:\n",
    "        dataset_test = pd.read_csv(data_path + file)\n",
    "        if df_test is None:\n",
    "            df_test = dataset_test\n",
    "        else:\n",
    "            df_test = df_test.append(dataset_test, ignore_index=True)  \n",
    "    except IOError as e:\n",
    "        print('Error in reading file: ', e)\n",
    "print(df_test.shape, '\\n')\n",
    "print(df_test.head())"
   ]
  },
  {
   "cell_type": "code",
   "execution_count": 9,
   "metadata": {},
   "outputs": [],
   "source": [
    "X_train = df_train.drop(columns=['ExreciseScore'])\n",
    "y_train = df_train[['ExreciseScore']]"
   ]
  },
  {
   "cell_type": "code",
   "execution_count": 10,
   "metadata": {},
   "outputs": [],
   "source": [
    "X_test = df_test.drop(columns=['ExreciseScore'])\n",
    "y_test = df_test[['ExreciseScore']]"
   ]
  },
  {
   "cell_type": "code",
   "execution_count": 11,
   "metadata": {},
   "outputs": [],
   "source": [
    "from sklearn.preprocessing import StandardScaler\n",
    "X_scaler = StandardScaler()\n",
    "X_train = X_scaler.fit_transform(X_train)\n",
    "X_test = X_scaler.transform(X_test)\n",
    "y_scaler = StandardScaler()\n",
    "y_train = y_scaler.fit_transform(y_train)"
   ]
  },
  {
   "cell_type": "code",
   "execution_count": 12,
   "metadata": {},
   "outputs": [],
   "source": [
    "#input_mean_train = X_train.mean()\n",
    "#input_std_train = X_train.std()\n",
    "\n",
    "#X_train = (X_train - input_mean_train) / input_std_train\n",
    "\n",
    "#X_train.to_numpy()"
   ]
  },
  {
   "cell_type": "code",
   "execution_count": 13,
   "metadata": {},
   "outputs": [],
   "source": [
    "#input_mean_test = X_test.mean()\n",
    "#input_std_test = X_test.std()\n",
    "\n",
    "#X_test = (X_test - input_mean_test) / input_std_test\n",
    "\n",
    "#X_test.to_numpy()"
   ]
  },
  {
   "cell_type": "code",
   "execution_count": 14,
   "metadata": {},
   "outputs": [],
   "source": [
    "#output_mean_train = y_train.mean()\n",
    "#output_std_train = y_train.std()\n",
    "\n",
    "#y_train = (y_train - output_mean_train) / output_std_train\n",
    "\n",
    "#y_train.to_numpy()"
   ]
  },
  {
   "cell_type": "code",
   "execution_count": 15,
   "metadata": {},
   "outputs": [
    {
     "name": "stdout",
     "output_type": "stream",
     "text": [
      "Training features shape: (895495, 39)\n",
      "Training labels shape: (895495, 1) \n",
      "\n",
      "Test features shape: (106134, 39)\n",
      "Test labels shape: (106134, 1)\n"
     ]
    }
   ],
   "source": [
    "print('Training features shape:', X_train.shape)\n",
    "print('Training labels shape:', y_train.shape, '\\n')\n",
    "\n",
    "print('Test features shape:', X_test.shape)\n",
    "print('Test labels shape:', y_test.shape)"
   ]
  },
  {
   "cell_type": "markdown",
   "metadata": {},
   "source": [
    "## 3. Define the Model\n",
    "\n",
    "### 3.1 Configurations"
   ]
  },
  {
   "cell_type": "code",
   "execution_count": 16,
   "metadata": {},
   "outputs": [],
   "source": [
    "EPOCHS = 500\n",
    "BATCH_SIZE = 150\n",
    "\n",
    "input_dim = X_train.shape[1]\n",
    "output_size = 1\n",
    "\n",
    "activation = 'relu'\n",
    "#kernel_initializer = 'he_uniform'\n",
    "kernel_initializer = 'normal'\n",
    "#output_activation = 'sigmoid'\n",
    "output_activation = 'linear'\n",
    "\n",
    "#optimizer = 'SGD'\n",
    "#optimizer = 'RMSprop'\n",
    "optimizer = 'Adam'\n",
    "#learning_rate = 1e-1\n",
    "#learning_rate = 1e-2\n",
    "learning_rate = 1e-3\n",
    "#learning_rate = 1e-4"
   ]
  },
  {
   "cell_type": "markdown",
   "metadata": {},
   "source": [
    "### 3.2 Model Architecture"
   ]
  },
  {
   "cell_type": "code",
   "execution_count": 17,
   "metadata": {},
   "outputs": [],
   "source": [
    "from tensorflow.keras.metrics import MeanSquaredError, RootMeanSquaredError, MeanAbsoluteError\n",
    "from tensorflow.keras.models import Sequential\n",
    "from tensorflow.keras.layers import InputLayer, Dense\n",
    "\n",
    "METRICS = [\n",
    "    MeanSquaredError(name=\"mse\", dtype=None),\n",
    "    MeanAbsoluteError(name=\"mae\", dtype=None),\n",
    "    RootMeanSquaredError(name=\"rmse\", dtype=None),\n",
    "]\n",
    "\n",
    "def make_model(input_dim, loss, optimizer, learning_rate=0.001, metrics=METRICS):\n",
    "    #MODEL 3 - Champ\n",
    "    #model = Sequential()\n",
    "    #model.add(Dense(128, input_dim=input_dim, kernel_initializer=kernel_initializer, activation=activation))\n",
    "    #model.add(Dense(64, kernel_initializer=kernel_initializer, activation=activation))\n",
    "    #model.add(Dense(64, kernel_initializer=kernel_initializer, activation=activation))\n",
    "    #model.add(Dense(output_size, activation=output_activation))\n",
    "    \n",
    "    #MODEL 2\n",
    "    #model = Sequential()\n",
    "    #model.add(Dense(128, input_dim=input_dim, kernel_initializer=kernel_initializer, activation=activation))\n",
    "    #model.add(Dense(64, kernel_initializer=kernel_initializer, activation=activation))\n",
    "    #model.add(Dense(32, kernel_initializer=kernel_initializer, activation=activation))\n",
    "    #model.add(Dense(8, kernel_initializer=kernel_initializer, activation=activation))\n",
    "    #model.add(Dense(output_size, activation=output_activation))\n",
    "    \n",
    "    #MODEL 1\n",
    "    model = Sequential()\n",
    "    model.add(Dense(64, input_dim=input_dim, kernel_initializer=kernel_initializer, activation=activation))\n",
    "    model.add(Dense(64, kernel_initializer=kernel_initializer, activation=activation))\n",
    "    model.add(Dense(32, kernel_initializer=kernel_initializer, activation=activation))\n",
    "    model.add(Dense(8, kernel_initializer=kernel_initializer, activation=activation))\n",
    "    model.add(Dense(output_size, activation=output_activation))\n",
    "    \n",
    "    optimizer = tf.keras.optimizers.get(optimizer)\n",
    "    optimizer.learning_rate.assign(learning_rate)\n",
    "\n",
    "    model.compile(\n",
    "      optimizer=optimizer,\n",
    "      loss=loss,\n",
    "      metrics=metrics)\n",
    "\n",
    "    print(model.summary())\n",
    "\n",
    "    return model"
   ]
  },
  {
   "cell_type": "markdown",
   "metadata": {},
   "source": [
    "## 4. MLflow Experimentation\n",
    "\n",
    "### 4.1 Configurations"
   ]
  },
  {
   "cell_type": "code",
   "execution_count": 18,
   "metadata": {},
   "outputs": [],
   "source": [
    "from mlflow.models.signature import ModelSignature\n",
    "from mlflow.types.schema import Schema, ColSpec\n",
    "input_schema = Schema([\n",
    "    ColSpec(\"double\", \"head_x\"),\n",
    "    ColSpec(\"double\", \"head_y\"),\n",
    "    ColSpec(\"double\", \"head_z\"),\n",
    "    ColSpec(\"double\", \"left_shoulder_x\"),\n",
    "    ColSpec(\"double\", \"left_shoulder_y\"),\n",
    "    ColSpec(\"double\", \"left_shoulder_z\"),\n",
    "    ColSpec(\"double\", \"left_elbow_x\"),\n",
    "    ColSpec(\"double\", \"left_elbow_y\"),\n",
    "    ColSpec(\"double\", \"left_elbow_z\"),\n",
    "    ColSpec(\"double\", \"right_shoulder_x\"),\n",
    "    ColSpec(\"double\", \"right_shoulder_y\"),\n",
    "    ColSpec(\"double\", \"right_shoulder_z\"),\n",
    "    ColSpec(\"double\", \"right_elbow_x\"),\n",
    "    ColSpec(\"double\", \"right_elbow_y\"),\n",
    "    ColSpec(\"double\", \"right_elbow_z\"),\n",
    "    ColSpec(\"double\", \"left_hand_x\"),\n",
    "    ColSpec(\"double\", \"left_hand_y\"),\n",
    "    ColSpec(\"double\", \"left_hand_z\"),\n",
    "    ColSpec(\"double\", \"right_hand_x\"),\n",
    "    ColSpec(\"double\", \"right_hand_y\"),\n",
    "    ColSpec(\"double\", \"right_hand_z\"),\n",
    "    ColSpec(\"double\", \"left_hip_x\"),\n",
    "    ColSpec(\"double\", \"left_hip_y\"),\n",
    "    ColSpec(\"double\", \"left_hip_z\"),\n",
    "    ColSpec(\"double\", \"right_hip_x\"),\n",
    "    ColSpec(\"double\", \"right_hip_y\"),\n",
    "    ColSpec(\"double\", \"right_hip_z\"),\n",
    "    ColSpec(\"double\", \"left_knee_x\"),\n",
    "    ColSpec(\"double\", \"left_knee_y\"),\n",
    "    ColSpec(\"double\", \"left_knee_z\"),\n",
    "    ColSpec(\"double\", \"right_knee_x\"),\n",
    "    ColSpec(\"double\", \"right_knee_y\"),\n",
    "    ColSpec(\"double\", \"right_knee_z\"),\n",
    "    ColSpec(\"double\", \"left_foot_x\"),\n",
    "    ColSpec(\"double\", \"left_foot_y\"),\n",
    "    ColSpec(\"double\", \"left_foot_z\"),\n",
    "    ColSpec(\"double\", \"right_foot_x\"),\n",
    "    ColSpec(\"double\", \"right_foot_y\"),\n",
    "    ColSpec(\"double\", \"right_foot_z\"),\n",
    "])\n",
    "output_schema = Schema([\n",
    "    ColSpec(\"double\", \"ExreciseScore\"),\n",
    "])\n",
    "signature = ModelSignature(inputs=input_schema, outputs=output_schema)"
   ]
  },
  {
   "cell_type": "markdown",
   "metadata": {},
   "source": [
    "### 4.2 Helper functions"
   ]
  },
  {
   "cell_type": "code",
   "execution_count": 19,
   "metadata": {},
   "outputs": [],
   "source": [
    "import matplotlib as mpl\n",
    "import matplotlib.pyplot as plt\n",
    "\n",
    "mpl.rcParams['figure.figsize'] = (8, 6)\n",
    "mpl.rcParams['axes.grid'] = False\n",
    "\n",
    "def plot_train_history(history, title):\n",
    "    loss = history.history['loss']\n",
    "    val_loss = history.history['val_loss']\n",
    "    epochs = range(len(loss))\n",
    "    plt.figure()\n",
    "    plt.plot(epochs, loss, 'b', label='Training loss')\n",
    "    plt.plot(epochs, val_loss, 'r', label='Validation loss')\n",
    "    plt.title(title)\n",
    "    plt.legend()\n",
    "    plt.show()"
   ]
  },
  {
   "cell_type": "code",
   "execution_count": 20,
   "metadata": {},
   "outputs": [],
   "source": [
    "from sklearn.metrics import mean_squared_error, r2_score, explained_variance_score, mean_absolute_error\n",
    "\n",
    "def eval_metrics(actual, pred):\n",
    "    mse = mean_squared_error(actual, pred)\n",
    "    msa = mean_absolute_error(actual, pred)\n",
    "    r2 = r2_score(actual, pred)\n",
    "    variance = explained_variance_score(actual, pred)\n",
    "    return mse, msa, r2, variance"
   ]
  },
  {
   "cell_type": "markdown",
   "metadata": {},
   "source": [
    "### 4.3 Start Run"
   ]
  },
  {
   "cell_type": "code",
   "execution_count": 21,
   "metadata": {},
   "outputs": [
    {
     "name": "stdout",
     "output_type": "stream",
     "text": [
      "Model: \"sequential\"\n",
      "_________________________________________________________________\n",
      "Layer (type)                 Output Shape              Param #   \n",
      "=================================================================\n",
      "dense (Dense)                (None, 64)                2560      \n",
      "_________________________________________________________________\n",
      "dense_1 (Dense)              (None, 64)                4160      \n",
      "_________________________________________________________________\n",
      "dense_2 (Dense)              (None, 32)                2080      \n",
      "_________________________________________________________________\n",
      "dense_3 (Dense)              (None, 8)                 264       \n",
      "_________________________________________________________________\n",
      "dense_4 (Dense)              (None, 1)                 9         \n",
      "=================================================================\n",
      "Total params: 9,073\n",
      "Trainable params: 9,073\n",
      "Non-trainable params: 0\n",
      "_________________________________________________________________\n",
      "None\n",
      "Epoch 1/500\n",
      "4776/4776 [==============================] - 6s 1ms/step - loss: 0.4441 - mse: 0.4441 - mae: 0.5035 - rmse: 0.6574 - val_loss: 0.2201 - val_mse: 0.2201 - val_mae: 0.3307 - val_rmse: 0.4692\n",
      "Epoch 2/500\n",
      "4776/4776 [==============================] - 5s 1ms/step - loss: 0.1483 - mse: 0.1483 - mae: 0.2604 - rmse: 0.3849 - val_loss: 0.1311 - val_mse: 0.1311 - val_mae: 0.2492 - val_rmse: 0.3620\n",
      "Epoch 3/500\n",
      "4776/4776 [==============================] - 5s 1ms/step - loss: 0.1079 - mse: 0.1079 - mae: 0.2129 - rmse: 0.3284 - val_loss: 0.1170 - val_mse: 0.1170 - val_mae: 0.2160 - val_rmse: 0.3421\n",
      "Epoch 4/500\n",
      "4776/4776 [==============================] - 5s 1ms/step - loss: 0.0869 - mse: 0.0869 - mae: 0.1866 - rmse: 0.2947 - val_loss: 0.0913 - val_mse: 0.0913 - val_mae: 0.1990 - val_rmse: 0.3022\n",
      "Epoch 5/500\n",
      "4776/4776 [==============================] - 5s 1ms/step - loss: 0.0740 - mse: 0.0740 - mae: 0.1697 - rmse: 0.2721 - val_loss: 0.0661 - val_mse: 0.0661 - val_mae: 0.1681 - val_rmse: 0.2571\n",
      "Epoch 6/500\n",
      "4776/4776 [==============================] - 5s 1ms/step - loss: 0.0644 - mse: 0.0644 - mae: 0.1554 - rmse: 0.2537 - val_loss: 0.0771 - val_mse: 0.0771 - val_mae: 0.1662 - val_rmse: 0.2776\n",
      "Epoch 7/500\n",
      "4776/4776 [==============================] - 5s 1ms/step - loss: 0.0597 - mse: 0.0597 - mae: 0.1469 - rmse: 0.2444 - val_loss: 0.0665 - val_mse: 0.0665 - val_mae: 0.1686 - val_rmse: 0.2578\n",
      "Epoch 8/500\n",
      "4776/4776 [==============================] - 5s 1ms/step - loss: 0.0531 - mse: 0.0531 - mae: 0.1370 - rmse: 0.2303 - val_loss: 0.0704 - val_mse: 0.0704 - val_mae: 0.1621 - val_rmse: 0.2653\n",
      "Epoch 9/500\n",
      "4776/4776 [==============================] - 5s 1ms/step - loss: 0.0525 - mse: 0.0525 - mae: 0.1344 - rmse: 0.2290 - val_loss: 0.0535 - val_mse: 0.0535 - val_mae: 0.1477 - val_rmse: 0.2314\n",
      "Epoch 10/500\n",
      "4776/4776 [==============================] - 5s 1ms/step - loss: 0.0493 - mse: 0.0493 - mae: 0.1288 - rmse: 0.2220 - val_loss: 0.0581 - val_mse: 0.0581 - val_mae: 0.1523 - val_rmse: 0.2411\n",
      "Epoch 11/500\n",
      "4776/4776 [==============================] - 5s 1ms/step - loss: 0.0466 - mse: 0.0466 - mae: 0.1247 - rmse: 0.2157 - val_loss: 0.0438 - val_mse: 0.0438 - val_mae: 0.1296 - val_rmse: 0.2092\n",
      "Epoch 12/500\n",
      "4776/4776 [==============================] - 5s 1ms/step - loss: 0.0426 - mse: 0.0426 - mae: 0.1187 - rmse: 0.2063 - val_loss: 0.0419 - val_mse: 0.0419 - val_mae: 0.1289 - val_rmse: 0.2046\n",
      "Epoch 13/500\n",
      "4776/4776 [==============================] - 5s 1ms/step - loss: 0.0392 - mse: 0.0392 - mae: 0.1127 - rmse: 0.1980 - val_loss: 0.0666 - val_mse: 0.0666 - val_mae: 0.1522 - val_rmse: 0.2581\n",
      "Epoch 14/500\n",
      "4776/4776 [==============================] - 5s 1ms/step - loss: 0.0390 - mse: 0.0390 - mae: 0.1121 - rmse: 0.1975 - val_loss: 0.0561 - val_mse: 0.0561 - val_mae: 0.1415 - val_rmse: 0.2369\n",
      "Epoch 15/500\n",
      "4776/4776 [==============================] - 5s 1ms/step - loss: 0.0378 - mse: 0.0378 - mae: 0.1097 - rmse: 0.1942 - val_loss: 0.0392 - val_mse: 0.0392 - val_mae: 0.1239 - val_rmse: 0.1981\n",
      "Epoch 16/500\n",
      "4776/4776 [==============================] - 5s 1ms/step - loss: 0.0337 - mse: 0.0337 - mae: 0.1038 - rmse: 0.1836 - val_loss: 0.0383 - val_mse: 0.0383 - val_mae: 0.1182 - val_rmse: 0.1958\n",
      "Epoch 17/500\n",
      "4776/4776 [==============================] - 5s 1ms/step - loss: 0.0339 - mse: 0.0339 - mae: 0.1024 - rmse: 0.1840 - val_loss: 0.0375 - val_mse: 0.0375 - val_mae: 0.1179 - val_rmse: 0.1936\n",
      "Epoch 18/500\n",
      "4776/4776 [==============================] - 5s 1ms/step - loss: 0.0350 - mse: 0.0350 - mae: 0.1039 - rmse: 0.1869 - val_loss: 0.0381 - val_mse: 0.0381 - val_mae: 0.1208 - val_rmse: 0.1953\n",
      "Epoch 19/500\n",
      "4776/4776 [==============================] - 5s 1ms/step - loss: 0.0303 - mse: 0.0303 - mae: 0.0979 - rmse: 0.1741 - val_loss: 0.0272 - val_mse: 0.0272 - val_mae: 0.1051 - val_rmse: 0.1649\n",
      "Epoch 20/500\n",
      "4776/4776 [==============================] - 5s 1ms/step - loss: 0.0312 - mse: 0.0312 - mae: 0.0984 - rmse: 0.1764 - val_loss: 0.0367 - val_mse: 0.0367 - val_mae: 0.1131 - val_rmse: 0.1915\n",
      "Epoch 21/500\n",
      "4776/4776 [==============================] - 5s 1ms/step - loss: 0.0300 - mse: 0.0300 - mae: 0.0961 - rmse: 0.1731 - val_loss: 0.0327 - val_mse: 0.0327 - val_mae: 0.1132 - val_rmse: 0.1809\n",
      "Epoch 22/500\n",
      "4776/4776 [==============================] - 5s 1ms/step - loss: 0.0256 - mse: 0.0256 - mae: 0.0904 - rmse: 0.1601 - val_loss: 0.0217 - val_mse: 0.0217 - val_mae: 0.0929 - val_rmse: 0.1475\n",
      "Epoch 23/500\n",
      "4776/4776 [==============================] - 5s 1ms/step - loss: 0.0267 - mse: 0.0267 - mae: 0.0910 - rmse: 0.1631 - val_loss: 0.0241 - val_mse: 0.0241 - val_mae: 0.0974 - val_rmse: 0.1552\n",
      "Epoch 24/500\n",
      "4776/4776 [==============================] - 5s 1ms/step - loss: 0.0251 - mse: 0.0251 - mae: 0.0880 - rmse: 0.1582 - val_loss: 0.0309 - val_mse: 0.0309 - val_mae: 0.1113 - val_rmse: 0.1759\n",
      "Epoch 25/500\n",
      "4776/4776 [==============================] - 5s 1ms/step - loss: 0.0269 - mse: 0.0269 - mae: 0.0911 - rmse: 0.1638 - val_loss: 0.0228 - val_mse: 0.0228 - val_mae: 0.0961 - val_rmse: 0.1511\n",
      "Epoch 26/500\n",
      "4776/4776 [==============================] - 5s 1ms/step - loss: 0.0236 - mse: 0.0236 - mae: 0.0858 - rmse: 0.1537 - val_loss: 0.0253 - val_mse: 0.0253 - val_mae: 0.0978 - val_rmse: 0.1590\n",
      "Epoch 27/500\n",
      "4776/4776 [==============================] - 5s 1ms/step - loss: 0.0221 - mse: 0.0221 - mae: 0.0829 - rmse: 0.1485 - val_loss: 0.0309 - val_mse: 0.0309 - val_mae: 0.1102 - val_rmse: 0.1759\n",
      "Epoch 28/500\n",
      "4776/4776 [==============================] - 5s 1ms/step - loss: 0.0197 - mse: 0.0197 - mae: 0.0795 - rmse: 0.1403 - val_loss: 0.0279 - val_mse: 0.0279 - val_mae: 0.1010 - val_rmse: 0.1671\n",
      "Epoch 29/500\n",
      "4776/4776 [==============================] - 5s 1ms/step - loss: 0.0232 - mse: 0.0232 - mae: 0.0842 - rmse: 0.1522 - val_loss: 0.0382 - val_mse: 0.0382 - val_mae: 0.0978 - val_rmse: 0.1955\n",
      "Epoch 30/500\n",
      "4776/4776 [==============================] - 5s 1ms/step - loss: 0.0277 - mse: 0.0277 - mae: 0.0895 - rmse: 0.1662 - val_loss: 0.0348 - val_mse: 0.0348 - val_mae: 0.1118 - val_rmse: 0.1867\n",
      "Epoch 31/500\n",
      "4776/4776 [==============================] - 5s 1ms/step - loss: 0.0205 - mse: 0.0205 - mae: 0.0801 - rmse: 0.1431 - val_loss: 0.0239 - val_mse: 0.0239 - val_mae: 0.0946 - val_rmse: 0.1545\n",
      "Epoch 32/500\n",
      "4776/4776 [==============================] - 5s 1ms/step - loss: 0.0225 - mse: 0.0225 - mae: 0.0816 - rmse: 0.1499 - val_loss: 0.0464 - val_mse: 0.0464 - val_mae: 0.1244 - val_rmse: 0.2155\n",
      "Restoring model weights from the end of the best epoch.\n",
      "Epoch 00032: early stopping\n"
     ]
    },
    {
     "data": {
      "image/png": "[encoded data removed]",
      "text/plain": [
       "<Figure size 576x432 with 1 Axes>"
      ]
     },
     "metadata": {
      "needs_background": "light"
     },
     "output_type": "display_data"
    },
    {
     "data": {
      "text/plain": [
       "<Figure size 576x432 with 0 Axes>"
      ]
     },
     "metadata": {},
     "output_type": "display_data"
    },
    {
     "name": "stdout",
     "output_type": "stream",
     "text": [
      "708/708 [==============================] - 0s 418us/step\n",
      "INFO:tensorflow:Assets written to: /var/folders/8b/c37c7tv54lg10kt29r67dkh80000gn/T/tmpk9dhwv9d/model/data/model/assets\n",
      "MSE:  0.8113017928030362\n",
      "MAE:  0.617102767931264\n",
      "R-Squared:  0.6038949984419832\n",
      "Explained Variance Score:  0.6078459066171573\n"
     ]
    }
   ],
   "source": [
    "model_name = 'dense_model_kinect_ExreciseScore'\n",
    "\n",
    "with mlflow.start_run(run_name=model_name) as run:\n",
    "\n",
    "    run_id = run.info.run_id\n",
    "\n",
    "    model = make_model(metrics=METRICS, \n",
    "                        loss='mean_squared_error', \n",
    "                        optimizer=optimizer, \n",
    "                        learning_rate=learning_rate, \n",
    "                        input_dim=input_dim)\n",
    "    \n",
    "    with tf.device('/CPU:0'):\n",
    "        history = model.fit(\n",
    "            x=X_train, \n",
    "            y=y_train, \n",
    "            shuffle=True, \n",
    "            epochs=EPOCHS, \n",
    "            verbose=1,\n",
    "            batch_size=BATCH_SIZE,\n",
    "            validation_split=0.2,\n",
    "            callbacks=[early_stopping])\n",
    "\n",
    "    # Plot training history\n",
    "    plot_train_history(history, 'Baseline Training and validation loss')\n",
    "    plt.savefig(\"training_history.jpg\")\n",
    "    mlflow.log_artifact(\"training_history.jpg\")\n",
    "    plt.show()\n",
    "    \n",
    "    # Log model, scaler, model parameters to MLflow\n",
    "    mlflow.log_param(\"activation\", activation)\n",
    "    mlflow.log_param(\"kernel_initializer\", kernel_initializer)\n",
    "    mlflow.log_param(\"output activation\", output_activation)\n",
    "    mlflow.log_param(\"optimizer\", optimizer)\n",
    "    mlflow.log_param(\"learning rate\", learning_rate)\n",
    "    mlflow.log_param(\"batch size\", BATCH_SIZE)\n",
    "    mlflow.log_param(\"epochs\", early_stopping.stopped_epoch)\n",
    "        \n",
    "    #mlflow.log_param(\"input_mean_train\", input_mean_train)\n",
    "    #mlflow.log_param(\"input_std_train\", input_std_train)\n",
    "    #mlflow.log_param(\"input_mean_test\", input_mean_test)\n",
    "    #mlflow.log_param(\"input_std_test\", input_std_test)\n",
    "    #mlflow.log_param(\"output_mean\", output_mean)\n",
    "    #mlflow.log_param(\"output_std\", output_std)\n",
    "\n",
    "    # Log model performance\n",
    "    process_time = [None] * 10\n",
    "    \n",
    "    for i in range(10):\n",
    "        start_time = time.time()\n",
    "        predictions = model.predict(X_test)\n",
    "        end_time = time.time()\n",
    "        process_time[i] = (end_time - start_time) * 1000\n",
    "    \n",
    "    #predictions = (predictions * output_std_train.to_numpy()) + output_mean_train.to_numpy()\n",
    "    \n",
    "    #output_mean_test = y_test.mean()\n",
    "    #output_std_test = y_test.std()\n",
    "    #y_test = (y_test - output_mean_test) / output_std_test\n",
    "    #y_test.to_numpy()\n",
    "    \n",
    "    #(mse, mae, r2, variance) = eval_metrics(y_test, predictions)\n",
    "    \n",
    "    predictions = model.predict(X_test, batch_size=BATCH_SIZE, verbose=1)\n",
    "    predictions = y_scaler.inverse_transform(predictions)\n",
    "    (mse, mae, r2, variance) = eval_metrics(y_test, predictions)\n",
    "    \n",
    "    mlflow.log_metric(\"mse\", mse)\n",
    "    mlflow.log_metric(\"mae\", mae)\n",
    "    mlflow.log_metric(\"R-squared\", r2)\n",
    "    mlflow.log_metric(\"variance\", variance)\n",
    "    mlflow.log_param(\"total params\", model.count_params())\n",
    "    mlflow.log_metric(\"process time\", np.mean(process_time)) \n",
    "    \n",
    "    mlflow.keras.log_model(model, model_name, signature=signature)\n",
    "\n",
    "    # Print metrics\n",
    "    print('MSE: ', mse)\n",
    "    print('MAE: ', mae)\n",
    "    print('R-Squared: ', r2)\n",
    "    print('Explained Variance Score: ', variance)"
   ]
  },
  {
   "cell_type": "markdown",
   "metadata": {},
   "source": [
    "## 5. Register Model"
   ]
  },
  {
   "cell_type": "code",
   "execution_count": 22,
   "metadata": {},
   "outputs": [
    {
     "name": "stderr",
     "output_type": "stream",
     "text": [
      "Registered model 'dense_model_kinect_ExreciseScore' already exists. Creating a new version of this model...\n",
      "2021/06/01 20:55:00 INFO mlflow.tracking._model_registry.client: Waiting up to 300 seconds for model version to finish creation.                     Model name: dense_model_kinect_ExreciseScore, version 12\n"
     ]
    },
    {
     "name": "stdout",
     "output_type": "stream",
     "text": [
      "Name: dense_model_kinect_ExreciseScore\n",
      "Version: 12\n"
     ]
    },
    {
     "name": "stderr",
     "output_type": "stream",
     "text": [
      "Created version '12' of model 'dense_model_kinect_ExreciseScore'.\n"
     ]
    }
   ],
   "source": [
    "model_uri = \"runs:/{}/{}\".format(run.info.run_id, model_name)\n",
    "mv = mlflow.register_model(model_uri, model_name)\n",
    "print(\"Name: {}\".format(mv.name))\n",
    "print(\"Version: {}\".format(mv.version))"
   ]
  },
  {
   "cell_type": "code",
   "execution_count": null,
   "metadata": {},
   "outputs": [],
   "source": []
  },
  {
   "cell_type": "code",
   "execution_count": null,
   "metadata": {},
   "outputs": [],
   "source": []
  }
 ],
 "metadata": {
  "kernelspec": {
   "display_name": "Python 3",
   "language": "python",
   "name": "python3"
  },
  "language_info": {
   "codemirror_mode": {
    "name": "ipython",
    "version": 3
   },
   "file_extension": ".py",
   "mimetype": "text/x-python",
   "name": "python",
   "nbconvert_exporter": "python",
   "pygments_lexer": "ipython3",
   "version": "3.9.2"
  },
  "metadata": {
   "interpreter": {
    "hash": "63fd5069d213b44bf678585dea6b12cceca9941eaf7f819626cde1f2670de90d"
   }
  }
 },
 "nbformat": 4,
 "nbformat_minor": 2
}
