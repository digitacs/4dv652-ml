{
 "cells": [
  {
   "cell_type": "markdown",
   "metadata": {},
   "source": [
    "# Dense Model for Kinect data\n",
    "\n",
    "\n",
    "## Section for Configurations and Imports"
   ]
  },
  {
   "cell_type": "code",
   "execution_count": 1,
   "metadata": {},
   "outputs": [
    {
     "name": "stdout",
     "output_type": "stream",
     "text": [
      "INFO:tensorflow:Enabling eager execution\n",
      "INFO:tensorflow:Enabling v2 tensorshape\n",
      "INFO:tensorflow:Enabling resource variables\n",
      "INFO:tensorflow:Enabling tensor equality\n",
      "INFO:tensorflow:Enabling control flow v2\n"
     ]
    }
   ],
   "source": [
    "import os \n",
    "import tempfile\n",
    "\n",
    "import numpy as np \n",
    "import pandas as pd\n",
    "import seaborn as sns\n",
    "import tensorflow as tf\n",
    "import matplotlib as mpl\n",
    "import matplotlib.pyplot as plt\n",
    "import time\n",
    "from tensorflow import keras\n",
    "\n",
    "# MLflow dashboard\n",
    "import mlflow\n",
    "mlflow.set_tracking_uri('http://35.228.45.76:5000')\n",
    "os.environ['GOOGLE_APPLICATION_CREDENTIALS']='../../keys/mlflow-312506-8cfad529f4fd.json'\n",
    "\n",
    "# Import data augmentation\n",
    "import sys\n",
    "module_path = os.path.abspath(os.path.join('../..'))\n",
    "if module_path not in sys.path:\n",
    "    sys.path.append(module_path)\n",
    "from augmentation.methods import *"
   ]
  },
  {
   "cell_type": "code",
   "execution_count": 2,
   "metadata": {},
   "outputs": [],
   "source": [
    "import warnings\n",
    "warnings.simplefilter('ignore')"
   ]
  },
  {
   "cell_type": "code",
   "execution_count": 3,
   "metadata": {},
   "outputs": [],
   "source": [
    "mpl.rcParams['figure.figsize'] = (12, 10)\n",
    "colors = plt.rcParams['axes.prop_cycle'].by_key()['color']"
   ]
  },
  {
   "cell_type": "code",
   "execution_count": 4,
   "metadata": {},
   "outputs": [],
   "source": [
    "random_state = 47\n",
    "np.random.seed(random_state)"
   ]
  },
  {
   "cell_type": "code",
   "execution_count": 5,
   "metadata": {},
   "outputs": [],
   "source": [
    "from keras.callbacks import EarlyStopping\n",
    "\n",
    "early_stopping = EarlyStopping(\n",
    "    monitor='val_loss', \n",
    "    verbose=1,\n",
    "    patience=10,\n",
    "    mode='min',\n",
    "    restore_best_weights=True)"
   ]
  },
  {
   "cell_type": "markdown",
   "metadata": {},
   "source": [
    "## 1. Load Prepared Dataset"
   ]
  },
  {
   "cell_type": "code",
   "execution_count": 6,
   "metadata": {},
   "outputs": [],
   "source": [
    "data_path = '../../datasets/exercise_score/'\n",
    "train_files = [\n",
    "    'kinect_train_dataset_1.csv',\n",
    "    'kinect_train_dataset_2.csv',\n",
    "    'kinect_train_dataset_3.csv',\n",
    "    'kinect_train_dataset_4.csv',\n",
    "    'kinect_train_dataset_5.csv',\n",
    "]\n",
    "\n",
    "test_files = [\n",
    "    'kinect_test_dataset_1.csv',\n",
    "    'kinect_test_dataset_2.csv',\n",
    "    'kinect_test_dataset_3.csv',\n",
    "]\n",
    "df_train = None\n",
    "df_test = None"
   ]
  },
  {
   "cell_type": "code",
   "execution_count": 7,
   "metadata": {},
   "outputs": [
    {
     "name": "stdout",
     "output_type": "stream",
     "text": [
      "(895495, 40) \n",
      "\n",
      "     head_x   head_y    head_z  left_shoulder_x  left_shoulder_y  \\\n",
      "0  0.014747  0.75019  0.018200         -0.15129          0.45769   \n",
      "1  0.014747  0.75019  0.018200         -0.15129          0.45769   \n",
      "2  0.014747  0.75019  0.018200         -0.15129          0.45769   \n",
      "3  0.014747  0.75019  0.018200         -0.15129          0.45769   \n",
      "4  0.015055  0.75015  0.018535         -0.15084          0.45749   \n",
      "\n",
      "   left_shoulder_z  left_elbow_x  left_elbow_y  left_elbow_z  \\\n",
      "0         0.016585      -0.18173       0.19971      0.034093   \n",
      "1         0.016585      -0.18173       0.19971      0.034093   \n",
      "2         0.016585      -0.18173       0.19971      0.034093   \n",
      "3         0.016585      -0.18173       0.19971      0.034093   \n",
      "4         0.017340      -0.18173       0.19967      0.034144   \n",
      "\n",
      "   right_shoulder_x  ...  right_knee_x  right_knee_y  right_knee_z  \\\n",
      "0           0.16628  ...       0.12415      -0.41084     -0.025178   \n",
      "1           0.16628  ...       0.12415      -0.41084     -0.025178   \n",
      "2           0.16628  ...       0.12415      -0.41084     -0.025178   \n",
      "3           0.16628  ...       0.12415      -0.41084     -0.025178   \n",
      "4           0.16665  ...       0.12431      -0.41098     -0.025021   \n",
      "\n",
      "   left_foot_x  left_foot_y  left_foot_z  right_foot_x  right_foot_y  \\\n",
      "0     -0.12549     -0.74586    -0.037080       0.13581      -0.75529   \n",
      "1     -0.12549     -0.74586    -0.037080       0.13581      -0.75529   \n",
      "2     -0.12549     -0.74586    -0.037080       0.13581      -0.75529   \n",
      "3     -0.12549     -0.74586    -0.037080       0.13581      -0.75529   \n",
      "4     -0.12539     -0.74513    -0.037584       0.13578      -0.75527   \n",
      "\n",
      "   right_foot_z  ExreciseScore  \n",
      "0     -0.049814       3.651582  \n",
      "1     -0.049814       3.651582  \n",
      "2     -0.049814       3.651582  \n",
      "3     -0.049814       3.651582  \n",
      "4     -0.049818       3.651582  \n",
      "\n",
      "[5 rows x 40 columns]\n"
     ]
    }
   ],
   "source": [
    "for file in train_files:\n",
    "    try:\n",
    "        dataset_train = pd.read_csv(data_path + file)\n",
    "        if df_train is None:\n",
    "            df_train = dataset_train\n",
    "        else:\n",
    "            df_train = df_train.append(dataset_train, ignore_index=True)  \n",
    "    except IOError as e:\n",
    "        print('Error in reading file: ', e)\n",
    "print(df_train.shape, '\\n')\n",
    "print(df_train.head())"
   ]
  },
  {
   "cell_type": "code",
   "execution_count": 8,
   "metadata": {},
   "outputs": [
    {
     "name": "stdout",
     "output_type": "stream",
     "text": [
      "(106134, 40) \n",
      "\n",
      "     head_x   head_y    head_z  left_shoulder_x  left_shoulder_y  \\\n",
      "0 -0.000956  0.70872  0.004201         -0.17179          0.48246   \n",
      "1 -0.000956  0.70872  0.004201         -0.17179          0.48246   \n",
      "2 -0.000956  0.70872  0.004201         -0.17179          0.48246   \n",
      "3 -0.000956  0.70872  0.004201         -0.17179          0.48246   \n",
      "4 -0.000983  0.70887  0.004283         -0.17177          0.48234   \n",
      "\n",
      "   left_shoulder_z  left_elbow_x  left_elbow_y  left_elbow_z  \\\n",
      "0         0.037272      -0.35875       0.62571      0.059937   \n",
      "1         0.037272      -0.35875       0.62571      0.059937   \n",
      "2         0.037272      -0.35875       0.62571      0.059937   \n",
      "3         0.037272      -0.35875       0.62571      0.059937   \n",
      "4         0.035379      -0.35855       0.62601      0.059772   \n",
      "\n",
      "   right_shoulder_x  ...  right_knee_x  right_knee_y  right_knee_z  \\\n",
      "0           0.15655  ...       0.11736      -0.45209     -0.018903   \n",
      "1           0.15655  ...       0.11736      -0.45209     -0.018903   \n",
      "2           0.15655  ...       0.11736      -0.45209     -0.018903   \n",
      "3           0.15655  ...       0.11736      -0.45209     -0.018903   \n",
      "4           0.15662  ...       0.11734      -0.45216     -0.018948   \n",
      "\n",
      "   left_foot_x  left_foot_y  left_foot_z  right_foot_x  right_foot_y  \\\n",
      "0     -0.12115     -0.78793    -0.036693       0.13131      -0.79743   \n",
      "1     -0.12115     -0.78793    -0.036693       0.13131      -0.79743   \n",
      "2     -0.12115     -0.78793    -0.036693       0.13131      -0.79743   \n",
      "3     -0.12115     -0.78793    -0.036693       0.13131      -0.79743   \n",
      "4     -0.12123     -0.78945    -0.038249       0.13133      -0.79743   \n",
      "\n",
      "   right_foot_z  ExreciseScore  \n",
      "0     -0.045202       3.735287  \n",
      "1     -0.045202       3.735287  \n",
      "2     -0.045202       3.735287  \n",
      "3     -0.045202       3.735287  \n",
      "4     -0.045186       3.735287  \n",
      "\n",
      "[5 rows x 40 columns]\n"
     ]
    }
   ],
   "source": [
    "for file in test_files:\n",
    "    try:\n",
    "        dataset_test = pd.read_csv(data_path + file)\n",
    "        if df_test is None:\n",
    "            df_test = dataset_test\n",
    "        else:\n",
    "            df_test = df_test.append(dataset_test, ignore_index=True)  \n",
    "    except IOError as e:\n",
    "        print('Error in reading file: ', e)\n",
    "print(df_test.shape, '\\n')\n",
    "print(df_test.head())"
   ]
  },
  {
   "cell_type": "code",
   "execution_count": 9,
   "metadata": {},
   "outputs": [],
   "source": [
    "X_train = df_train.drop(columns=['ExreciseScore'])\n",
    "y_train = df_train[['ExreciseScore']]"
   ]
  },
  {
   "cell_type": "code",
   "execution_count": 10,
   "metadata": {},
   "outputs": [],
   "source": [
    "X_test = df_test.drop(columns=['ExreciseScore'])\n",
    "y_test = df_test[['ExreciseScore']]"
   ]
  },
  {
   "cell_type": "code",
   "execution_count": 11,
   "metadata": {},
   "outputs": [
    {
     "data": {
      "text/plain": [
       "array([[ 0.12985349,  0.76834911,  0.41129358, ...,  0.80660346,\n",
       "        -0.31175237, -0.03609619],\n",
       "       [ 0.12985349,  0.76834911,  0.41129358, ...,  0.80660346,\n",
       "        -0.31175237, -0.03609619],\n",
       "       [ 0.12985349,  0.76834911,  0.41129358, ...,  0.80660346,\n",
       "        -0.31175237, -0.03609619],\n",
       "       ...,\n",
       "       [-2.49810947, -0.48774584, -1.81067614, ..., -1.48957967,\n",
       "         0.85921328, -1.70529331],\n",
       "       [-2.49989261, -0.48802301, -1.811214  , ..., -1.4914728 ,\n",
       "         0.85917697, -1.70238976],\n",
       "       [-2.49989261, -0.48802301, -1.811214  , ..., -1.4914728 ,\n",
       "         0.85917697, -1.70238976]])"
      ]
     },
     "execution_count": 11,
     "metadata": {},
     "output_type": "execute_result"
    }
   ],
   "source": [
    "input_mean_train = X_train.mean()\n",
    "input_std_train = X_train.std()\n",
    "\n",
    "X_train = (X_train - input_mean_train) / input_std_train\n",
    "\n",
    "X_train.to_numpy()"
   ]
  },
  {
   "cell_type": "code",
   "execution_count": 12,
   "metadata": {},
   "outputs": [
    {
     "data": {
      "text/plain": [
       "array([[-0.00896688,  0.61916997,  0.30675028, ...,  0.84583339,\n",
       "        -0.49666032, -0.05300222],\n",
       "       [-0.00896688,  0.61916997,  0.30675028, ...,  0.84583339,\n",
       "        -0.49666032, -0.05300222],\n",
       "       [-0.00896688,  0.61916997,  0.30675028, ...,  0.84583339,\n",
       "        -0.49666032, -0.05300222],\n",
       "       ...,\n",
       "       [ 0.19849536, -0.49376604,  0.2378672 , ..., -0.32632686,\n",
       "         0.72065229,  0.46261344],\n",
       "       [ 0.19849536, -0.49376604,  0.2378672 , ..., -0.32632686,\n",
       "         0.72065229,  0.46261344],\n",
       "       [ 0.19655651, -0.49385467,  0.23743938, ..., -0.32581958,\n",
       "         0.72061446,  0.46183837]])"
      ]
     },
     "execution_count": 12,
     "metadata": {},
     "output_type": "execute_result"
    }
   ],
   "source": [
    "input_mean_test = X_test.mean()\n",
    "input_std_test = X_test.std()\n",
    "\n",
    "X_test = (X_test - input_mean_test) / input_std_test\n",
    "\n",
    "X_test.to_numpy()"
   ]
  },
  {
   "cell_type": "code",
   "execution_count": 13,
   "metadata": {},
   "outputs": [
    {
     "data": {
      "text/plain": [
       "array([[ 0.50825937],\n",
       "       [ 0.50825937],\n",
       "       [ 0.50825937],\n",
       "       ...,\n",
       "       [-2.12138077],\n",
       "       [-2.12138077],\n",
       "       [-2.12138077]])"
      ]
     },
     "execution_count": 13,
     "metadata": {},
     "output_type": "execute_result"
    }
   ],
   "source": [
    "output_mean_train = y_train.mean()\n",
    "output_std_train = y_train.std()\n",
    "\n",
    "y_train = (y_train - output_mean_train) / output_std_train\n",
    "\n",
    "y_train.to_numpy()"
   ]
  },
  {
   "cell_type": "code",
   "execution_count": 14,
   "metadata": {},
   "outputs": [
    {
     "name": "stdout",
     "output_type": "stream",
     "text": [
      "Training features shape: (895495, 39)\n",
      "Training labels shape: (895495, 1) \n",
      "\n",
      "Test features shape: (106134, 39)\n",
      "Test labels shape: (106134, 1)\n"
     ]
    }
   ],
   "source": [
    "print('Training features shape:', X_train.shape)\n",
    "print('Training labels shape:', y_train.shape, '\\n')\n",
    "\n",
    "print('Test features shape:', X_test.shape)\n",
    "print('Test labels shape:', y_test.shape)"
   ]
  },
  {
   "cell_type": "markdown",
   "metadata": {},
   "source": [
    "## 3. Define the Model\n",
    "\n",
    "### 3.1 Configurations"
   ]
  },
  {
   "cell_type": "code",
   "execution_count": 15,
   "metadata": {},
   "outputs": [],
   "source": [
    "EPOCHS = 500\n",
    "BATCH_SIZE = 150\n",
    "\n",
    "input_dim = X_train.shape[1]\n",
    "output_size = 1\n",
    "\n",
    "activation = 'relu'\n",
    "#kernel_initializer = 'he_uniform'\n",
    "kernel_initializer = 'normal'\n",
    "#output_activation = 'sigmoid'\n",
    "output_activation = 'linear'\n",
    "\n",
    "#optimizer = 'SGD'\n",
    "#optimizer = 'RMSprop'\n",
    "optimizer = 'Adam'\n",
    "learning_rate = 1e-3"
   ]
  },
  {
   "cell_type": "markdown",
   "metadata": {},
   "source": [
    "### 3.2 Model Architecture"
   ]
  },
  {
   "cell_type": "code",
   "execution_count": 16,
   "metadata": {},
   "outputs": [],
   "source": [
    "from tensorflow.keras.metrics import MeanSquaredError, RootMeanSquaredError, MeanAbsoluteError\n",
    "from tensorflow.keras.models import Sequential\n",
    "from tensorflow.keras.layers import InputLayer, Dense\n",
    "\n",
    "METRICS = [\n",
    "    MeanSquaredError(name=\"mse\", dtype=None),\n",
    "    MeanAbsoluteError(name=\"mae\", dtype=None),\n",
    "    RootMeanSquaredError(name=\"rmse\", dtype=None),\n",
    "]\n",
    "\n",
    "def make_model(input_dim, loss, optimizer, learning_rate=0.001, metrics=METRICS):\n",
    "    #MODEL 3 - Champ\n",
    "    model = Sequential()\n",
    "    model.add(Dense(128, input_dim=input_dim, kernel_initializer=kernel_initializer, activation=activation))\n",
    "    model.add(Dense(64, kernel_initializer=kernel_initializer, activation=activation))\n",
    "    model.add(Dense(64, kernel_initializer=kernel_initializer, activation=activation))\n",
    "    model.add(Dense(output_size, activation=output_activation))\n",
    "    #http://35.228.45.76:5000/#/experiments/0/runs/0b6786ed5d8f4860a817b4d514aa4de5\n",
    "    \n",
    "    #MODEL 2\n",
    "    #model.add(Dense(128, input_dim=input_dim, kernel_initializer=kernel_initializer, activation=activation))\n",
    "    #model.add(Dense(64, kernel_initializer=kernel_initializer, activation=activation))\n",
    "    #model.add(Dense(32, kernel_initializer=kernel_initializer, activation=activation))\n",
    "    #model.add(Dense(8, kernel_initializer=kernel_initializer, activation=activation))\n",
    "    #model.add(Dense(output_size, activation=output_activation))\n",
    "    #http://35.228.45.76:5000/#/experiments/0/runs/12172f32a5d64cbfbd906c9d486cb90e\n",
    "    \n",
    "    #MODEL 1\n",
    "    #model.add(Dense(64, input_dim=input_dim, kernel_initializer=kernel_initializer, activation=activation))\n",
    "    #model.add(Dense(64, kernel_initializer=kernel_initializer, activation=activation))\n",
    "    #model.add(Dense(32, kernel_initializer=kernel_initializer, activation=activation))\n",
    "    #model.add(Dense(8, kernel_initializer=kernel_initializer, activation=activation))\n",
    "    #model.add(Dense(output_size, activation=output_activation))\n",
    "    #http://35.228.45.76:5000/#/experiments/0/runs/b7f73a3ba8944e139b5280c0e13cf505\n",
    "    \n",
    "    \n",
    "    optimizer = tf.keras.optimizers.get(optimizer)\n",
    "    optimizer.learning_rate.assign(learning_rate)\n",
    "\n",
    "    model.compile(\n",
    "      optimizer=optimizer,\n",
    "      loss=loss,\n",
    "      metrics=metrics)\n",
    "\n",
    "    print(model.summary())\n",
    "\n",
    "    return model"
   ]
  },
  {
   "cell_type": "markdown",
   "metadata": {},
   "source": [
    "## 4. MLflow Experimentation\n",
    "\n",
    "### 4.1 Configurations"
   ]
  },
  {
   "cell_type": "code",
   "execution_count": 17,
   "metadata": {},
   "outputs": [],
   "source": [
    "from mlflow.models.signature import ModelSignature\n",
    "from mlflow.types.schema import Schema, ColSpec\n",
    "input_schema = Schema([\n",
    "    ColSpec(\"double\", \"head_x\"),\n",
    "    ColSpec(\"double\", \"head_y\"),\n",
    "    ColSpec(\"double\", \"head_z\"),\n",
    "    ColSpec(\"double\", \"left_shoulder_x\"),\n",
    "    ColSpec(\"double\", \"left_shoulder_y\"),\n",
    "    ColSpec(\"double\", \"left_shoulder_z\"),\n",
    "    ColSpec(\"double\", \"left_elbow_x\"),\n",
    "    ColSpec(\"double\", \"left_elbow_y\"),\n",
    "    ColSpec(\"double\", \"left_elbow_z\"),\n",
    "    ColSpec(\"double\", \"right_shoulder_x\"),\n",
    "    ColSpec(\"double\", \"right_shoulder_y\"),\n",
    "    ColSpec(\"double\", \"right_shoulder_z\"),\n",
    "    ColSpec(\"double\", \"right_elbow_x\"),\n",
    "    ColSpec(\"double\", \"right_elbow_y\"),\n",
    "    ColSpec(\"double\", \"right_elbow_z\"),\n",
    "    ColSpec(\"double\", \"left_hand_x\"),\n",
    "    ColSpec(\"double\", \"left_hand_y\"),\n",
    "    ColSpec(\"double\", \"left_hand_z\"),\n",
    "    ColSpec(\"double\", \"right_hand_x\"),\n",
    "    ColSpec(\"double\", \"right_hand_y\"),\n",
    "    ColSpec(\"double\", \"right_hand_z\"),\n",
    "    ColSpec(\"double\", \"left_hip_x\"),\n",
    "    ColSpec(\"double\", \"left_hip_y\"),\n",
    "    ColSpec(\"double\", \"left_hip_z\"),\n",
    "    ColSpec(\"double\", \"right_hip_x\"),\n",
    "    ColSpec(\"double\", \"right_hip_y\"),\n",
    "    ColSpec(\"double\", \"right_hip_z\"),\n",
    "    ColSpec(\"double\", \"left_knee_x\"),\n",
    "    ColSpec(\"double\", \"left_knee_y\"),\n",
    "    ColSpec(\"double\", \"left_knee_z\"),\n",
    "    ColSpec(\"double\", \"right_knee_x\"),\n",
    "    ColSpec(\"double\", \"right_knee_y\"),\n",
    "    ColSpec(\"double\", \"right_knee_z\"),\n",
    "    ColSpec(\"double\", \"left_foot_x\"),\n",
    "    ColSpec(\"double\", \"left_foot_y\"),\n",
    "    ColSpec(\"double\", \"left_foot_z\"),\n",
    "    ColSpec(\"double\", \"right_foot_x\"),\n",
    "    ColSpec(\"double\", \"right_foot_y\"),\n",
    "    ColSpec(\"double\", \"right_foot_z\"),\n",
    "])\n",
    "output_schema = Schema([\n",
    "    ColSpec(\"double\", \"ExreciseScore\"),\n",
    "])\n",
    "signature = ModelSignature(inputs=input_schema, outputs=output_schema)"
   ]
  },
  {
   "cell_type": "markdown",
   "metadata": {},
   "source": [
    "### 4.2 Helper functions"
   ]
  },
  {
   "cell_type": "code",
   "execution_count": 18,
   "metadata": {},
   "outputs": [],
   "source": [
    "import matplotlib as mpl\n",
    "import matplotlib.pyplot as plt\n",
    "\n",
    "mpl.rcParams['figure.figsize'] = (8, 6)\n",
    "mpl.rcParams['axes.grid'] = False\n",
    "\n",
    "def plot_train_history(history, title):\n",
    "    loss = history.history['loss']\n",
    "    val_loss = history.history['val_loss']\n",
    "    epochs = range(len(loss))\n",
    "    plt.figure()\n",
    "    plt.plot(epochs, loss, 'b', label='Training loss')\n",
    "    plt.plot(epochs, val_loss, 'r', label='Validation loss')\n",
    "    plt.title(title)\n",
    "    plt.legend()\n",
    "    plt.show()"
   ]
  },
  {
   "cell_type": "code",
   "execution_count": 19,
   "metadata": {},
   "outputs": [],
   "source": [
    "from sklearn.metrics import mean_squared_error, r2_score, explained_variance_score, mean_absolute_error\n",
    "\n",
    "def eval_metrics(actual, pred):\n",
    "    mse = mean_squared_error(actual, pred)\n",
    "    msa = mean_absolute_error(actual, pred)\n",
    "    r2 = r2_score(actual, pred)\n",
    "    variance = explained_variance_score(actual, pred)\n",
    "    return mse, msa, r2, variance"
   ]
  },
  {
   "cell_type": "markdown",
   "metadata": {},
   "source": [
    "### 4.3 Start Run"
   ]
  },
  {
   "cell_type": "code",
   "execution_count": 20,
   "metadata": {},
   "outputs": [
    {
     "name": "stdout",
     "output_type": "stream",
     "text": [
      "Model: \"sequential\"\n",
      "_________________________________________________________________\n",
      "Layer (type)                 Output Shape              Param #   \n",
      "=================================================================\n",
      "dense (Dense)                (None, 128)               5120      \n",
      "_________________________________________________________________\n",
      "dense_1 (Dense)              (None, 64)                8256      \n",
      "_________________________________________________________________\n",
      "dense_2 (Dense)              (None, 64)                4160      \n",
      "_________________________________________________________________\n",
      "dense_3 (Dense)              (None, 1)                 65        \n",
      "=================================================================\n",
      "Total params: 17,601\n",
      "Trainable params: 17,601\n",
      "Non-trainable params: 0\n",
      "_________________________________________________________________\n",
      "None\n",
      "Epoch 1/500\n",
      "4776/4776 [==============================] - 6s 1ms/step - loss: 0.3878 - mse: 0.3878 - mae: 0.4636 - rmse: 0.6136 - val_loss: 0.1526 - val_mse: 0.1526 - val_mae: 0.2700 - val_rmse: 0.3906\n",
      "Epoch 2/500\n",
      "4776/4776 [==============================] - 6s 1ms/step - loss: 0.1231 - mse: 0.1231 - mae: 0.2316 - rmse: 0.3508 - val_loss: 0.1135 - val_mse: 0.1135 - val_mae: 0.2218 - val_rmse: 0.3368\n",
      "Epoch 3/500\n",
      "4776/4776 [==============================] - 6s 1ms/step - loss: 0.0900 - mse: 0.0900 - mae: 0.1891 - rmse: 0.2999 - val_loss: 0.0879 - val_mse: 0.0879 - val_mae: 0.1857 - val_rmse: 0.2964\n",
      "Epoch 4/500\n",
      "4776/4776 [==============================] - 6s 1ms/step - loss: 0.0708 - mse: 0.0708 - mae: 0.1621 - rmse: 0.2661 - val_loss: 0.0751 - val_mse: 0.0751 - val_mae: 0.1683 - val_rmse: 0.2740\n",
      "Epoch 5/500\n",
      "4776/4776 [==============================] - 6s 1ms/step - loss: 0.0602 - mse: 0.0602 - mae: 0.1473 - rmse: 0.2453 - val_loss: 0.0888 - val_mse: 0.0888 - val_mae: 0.1845 - val_rmse: 0.2980\n",
      "Epoch 6/500\n",
      "4776/4776 [==============================] - 6s 1ms/step - loss: 0.0533 - mse: 0.0533 - mae: 0.1362 - rmse: 0.2309 - val_loss: 0.0543 - val_mse: 0.0543 - val_mae: 0.1458 - val_rmse: 0.2331\n",
      "Epoch 7/500\n",
      "4776/4776 [==============================] - 6s 1ms/step - loss: 0.0484 - mse: 0.0484 - mae: 0.1280 - rmse: 0.2200 - val_loss: 0.0475 - val_mse: 0.0475 - val_mae: 0.1346 - val_rmse: 0.2181\n",
      "Epoch 8/500\n",
      "4776/4776 [==============================] - 6s 1ms/step - loss: 0.0441 - mse: 0.0441 - mae: 0.1210 - rmse: 0.2100 - val_loss: 0.0400 - val_mse: 0.0400 - val_mae: 0.1214 - val_rmse: 0.1999\n",
      "Epoch 9/500\n",
      "4776/4776 [==============================] - 6s 1ms/step - loss: 0.0399 - mse: 0.0399 - mae: 0.1133 - rmse: 0.1998 - val_loss: 0.0403 - val_mse: 0.0403 - val_mae: 0.1246 - val_rmse: 0.2008\n",
      "Epoch 10/500\n",
      "4776/4776 [==============================] - 6s 1ms/step - loss: 0.0368 - mse: 0.0368 - mae: 0.1084 - rmse: 0.1917 - val_loss: 0.0375 - val_mse: 0.0375 - val_mae: 0.1177 - val_rmse: 0.1938\n",
      "Epoch 11/500\n",
      "4776/4776 [==============================] - 6s 1ms/step - loss: 0.0355 - mse: 0.0355 - mae: 0.1056 - rmse: 0.1883 - val_loss: 0.0417 - val_mse: 0.0417 - val_mae: 0.1245 - val_rmse: 0.2042\n",
      "Epoch 12/500\n",
      "4776/4776 [==============================] - 6s 1ms/step - loss: 0.0330 - mse: 0.0330 - mae: 0.1014 - rmse: 0.1817 - val_loss: 0.0479 - val_mse: 0.0479 - val_mae: 0.1261 - val_rmse: 0.2189\n",
      "Epoch 13/500\n",
      "4776/4776 [==============================] - 6s 1ms/step - loss: 0.0320 - mse: 0.0320 - mae: 0.1000 - rmse: 0.1789 - val_loss: 0.0290 - val_mse: 0.0290 - val_mae: 0.1040 - val_rmse: 0.1704\n",
      "Epoch 14/500\n",
      "4776/4776 [==============================] - 6s 1ms/step - loss: 0.0304 - mse: 0.0304 - mae: 0.0961 - rmse: 0.1742 - val_loss: 0.0293 - val_mse: 0.0293 - val_mae: 0.1034 - val_rmse: 0.1711\n",
      "Epoch 15/500\n",
      "4776/4776 [==============================] - 6s 1ms/step - loss: 0.0297 - mse: 0.0297 - mae: 0.0940 - rmse: 0.1721 - val_loss: 0.0279 - val_mse: 0.0279 - val_mae: 0.0987 - val_rmse: 0.1670\n",
      "Epoch 16/500\n",
      "4776/4776 [==============================] - 6s 1ms/step - loss: 0.0268 - mse: 0.0268 - mae: 0.0900 - rmse: 0.1636 - val_loss: 0.0274 - val_mse: 0.0274 - val_mae: 0.0987 - val_rmse: 0.1656\n",
      "Epoch 17/500\n",
      "4776/4776 [==============================] - 6s 1ms/step - loss: 0.0256 - mse: 0.0256 - mae: 0.0874 - rmse: 0.1599 - val_loss: 0.0220 - val_mse: 0.0220 - val_mae: 0.0886 - val_rmse: 0.1482\n",
      "Epoch 18/500\n",
      "4776/4776 [==============================] - 6s 1ms/step - loss: 0.0239 - mse: 0.0239 - mae: 0.0848 - rmse: 0.1545 - val_loss: 0.0280 - val_mse: 0.0280 - val_mae: 0.0981 - val_rmse: 0.1674\n",
      "Epoch 19/500\n",
      "4776/4776 [==============================] - 6s 1ms/step - loss: 0.0233 - mse: 0.0233 - mae: 0.0837 - rmse: 0.1525 - val_loss: 0.0215 - val_mse: 0.0215 - val_mae: 0.0879 - val_rmse: 0.1466\n",
      "Epoch 20/500\n",
      "4776/4776 [==============================] - 7s 1ms/step - loss: 0.0229 - mse: 0.0229 - mae: 0.0818 - rmse: 0.1513 - val_loss: 0.0233 - val_mse: 0.0233 - val_mae: 0.0916 - val_rmse: 0.1526\n",
      "Epoch 21/500\n",
      "4776/4776 [==============================] - 7s 2ms/step - loss: 0.0218 - mse: 0.0218 - mae: 0.0801 - rmse: 0.1476 - val_loss: 0.0352 - val_mse: 0.0352 - val_mae: 0.1089 - val_rmse: 0.1877\n",
      "Epoch 22/500\n",
      "4776/4776 [==============================] - 8s 2ms/step - loss: 0.0209 - mse: 0.0209 - mae: 0.0787 - rmse: 0.1447 - val_loss: 0.0230 - val_mse: 0.0230 - val_mae: 0.0907 - val_rmse: 0.1517\n",
      "Epoch 23/500\n",
      "4776/4776 [==============================] - 8s 2ms/step - loss: 0.0231 - mse: 0.0231 - mae: 0.0804 - rmse: 0.1519 - val_loss: 0.0298 - val_mse: 0.0298 - val_mae: 0.1011 - val_rmse: 0.1725\n",
      "Epoch 24/500\n",
      "4776/4776 [==============================] - 8s 2ms/step - loss: 0.0188 - mse: 0.0188 - mae: 0.0744 - rmse: 0.1369 - val_loss: 0.0281 - val_mse: 0.0281 - val_mae: 0.0942 - val_rmse: 0.1677\n",
      "Epoch 25/500\n",
      "4776/4776 [==============================] - 7s 1ms/step - loss: 0.0225 - mse: 0.0225 - mae: 0.0793 - rmse: 0.1499 - val_loss: 0.0241 - val_mse: 0.0241 - val_mae: 0.0905 - val_rmse: 0.1553\n",
      "Epoch 26/500\n",
      "4776/4776 [==============================] - 6s 1ms/step - loss: 0.0201 - mse: 0.0201 - mae: 0.0750 - rmse: 0.1417 - val_loss: 0.0201 - val_mse: 0.0201 - val_mae: 0.0808 - val_rmse: 0.1417\n",
      "Epoch 27/500\n",
      "4776/4776 [==============================] - 6s 1ms/step - loss: 0.0168 - mse: 0.0168 - mae: 0.0708 - rmse: 0.1293 - val_loss: 0.0233 - val_mse: 0.0233 - val_mae: 0.0858 - val_rmse: 0.1527\n",
      "Epoch 28/500\n",
      "4776/4776 [==============================] - 7s 1ms/step - loss: 0.0175 - mse: 0.0175 - mae: 0.0720 - rmse: 0.1322 - val_loss: 0.0347 - val_mse: 0.0347 - val_mae: 0.1063 - val_rmse: 0.1863\n",
      "Epoch 29/500\n",
      "4776/4776 [==============================] - 8s 2ms/step - loss: 0.0176 - mse: 0.0176 - mae: 0.0722 - rmse: 0.1324 - val_loss: 0.0162 - val_mse: 0.0162 - val_mae: 0.0763 - val_rmse: 0.1275\n",
      "Epoch 30/500\n",
      "4776/4776 [==============================] - 7s 2ms/step - loss: 0.0175 - mse: 0.0175 - mae: 0.0709 - rmse: 0.1324 - val_loss: 0.0178 - val_mse: 0.0178 - val_mae: 0.0767 - val_rmse: 0.1333\n",
      "Epoch 31/500\n",
      "4776/4776 [==============================] - 7s 1ms/step - loss: 0.0179 - mse: 0.0179 - mae: 0.0708 - rmse: 0.1337 - val_loss: 0.0158 - val_mse: 0.0158 - val_mae: 0.0738 - val_rmse: 0.1257\n",
      "Epoch 32/500\n",
      "4776/4776 [==============================] - 7s 1ms/step - loss: 0.0161 - mse: 0.0161 - mae: 0.0676 - rmse: 0.1268 - val_loss: 0.0162 - val_mse: 0.0162 - val_mae: 0.0730 - val_rmse: 0.1274\n",
      "Epoch 33/500\n",
      "4776/4776 [==============================] - 7s 1ms/step - loss: 0.0148 - mse: 0.0148 - mae: 0.0659 - rmse: 0.1217 - val_loss: 0.0153 - val_mse: 0.0153 - val_mae: 0.0721 - val_rmse: 0.1236\n",
      "Epoch 34/500\n",
      "4776/4776 [==============================] - 7s 1ms/step - loss: 0.0158 - mse: 0.0158 - mae: 0.0676 - rmse: 0.1257 - val_loss: 0.0161 - val_mse: 0.0161 - val_mae: 0.0748 - val_rmse: 0.1270\n",
      "Epoch 35/500\n",
      "4776/4776 [==============================] - 7s 1ms/step - loss: 0.0154 - mse: 0.0154 - mae: 0.0664 - rmse: 0.1239 - val_loss: 0.0151 - val_mse: 0.0151 - val_mae: 0.0735 - val_rmse: 0.1228\n",
      "Epoch 36/500\n",
      "4776/4776 [==============================] - 6s 1ms/step - loss: 0.0149 - mse: 0.0149 - mae: 0.0660 - rmse: 0.1218 - val_loss: 0.0176 - val_mse: 0.0176 - val_mae: 0.0804 - val_rmse: 0.1327\n",
      "Epoch 37/500\n"
     ]
    },
    {
     "name": "stdout",
     "output_type": "stream",
     "text": [
      "4776/4776 [==============================] - 6s 1ms/step - loss: 0.0142 - mse: 0.0142 - mae: 0.0645 - rmse: 0.1191 - val_loss: 0.0163 - val_mse: 0.0163 - val_mae: 0.0763 - val_rmse: 0.1276\n",
      "Epoch 38/500\n",
      "4776/4776 [==============================] - 6s 1ms/step - loss: 0.0128 - mse: 0.0128 - mae: 0.0618 - rmse: 0.1132 - val_loss: 0.0181 - val_mse: 0.0181 - val_mae: 0.0721 - val_rmse: 0.1344\n",
      "Epoch 39/500\n",
      "4776/4776 [==============================] - 6s 1ms/step - loss: 0.0128 - mse: 0.0128 - mae: 0.0618 - rmse: 0.1132 - val_loss: 0.0135 - val_mse: 0.0135 - val_mae: 0.0709 - val_rmse: 0.1160\n",
      "Epoch 40/500\n",
      "4776/4776 [==============================] - 7s 2ms/step - loss: 0.0130 - mse: 0.0130 - mae: 0.0621 - rmse: 0.1140 - val_loss: 0.0158 - val_mse: 0.0158 - val_mae: 0.0758 - val_rmse: 0.1255\n",
      "Epoch 41/500\n",
      "4776/4776 [==============================] - 7s 2ms/step - loss: 0.0121 - mse: 0.0121 - mae: 0.0604 - rmse: 0.1098 - val_loss: 0.0113 - val_mse: 0.0113 - val_mae: 0.0667 - val_rmse: 0.1062\n",
      "Epoch 42/500\n",
      "4776/4776 [==============================] - 7s 1ms/step - loss: 0.0137 - mse: 0.0137 - mae: 0.0625 - rmse: 0.1171 - val_loss: 0.0136 - val_mse: 0.0136 - val_mae: 0.0665 - val_rmse: 0.1168\n",
      "Epoch 43/500\n",
      "4776/4776 [==============================] - 7s 2ms/step - loss: 0.0131 - mse: 0.0131 - mae: 0.0611 - rmse: 0.1142 - val_loss: 0.0135 - val_mse: 0.0135 - val_mae: 0.0684 - val_rmse: 0.1160\n",
      "Epoch 44/500\n",
      "4776/4776 [==============================] - 7s 2ms/step - loss: 0.0110 - mse: 0.0110 - mae: 0.0581 - rmse: 0.1049 - val_loss: 0.0120 - val_mse: 0.0120 - val_mae: 0.0671 - val_rmse: 0.1094\n",
      "Epoch 45/500\n",
      "4776/4776 [==============================] - 8s 2ms/step - loss: 0.0110 - mse: 0.0110 - mae: 0.0575 - rmse: 0.1049 - val_loss: 0.0125 - val_mse: 0.0125 - val_mae: 0.0669 - val_rmse: 0.1118\n",
      "Epoch 46/500\n",
      "4776/4776 [==============================] - 8s 2ms/step - loss: 0.0127 - mse: 0.0127 - mae: 0.0614 - rmse: 0.1124 - val_loss: 0.0122 - val_mse: 0.0122 - val_mae: 0.0670 - val_rmse: 0.1104\n",
      "Epoch 47/500\n",
      "4776/4776 [==============================] - 7s 2ms/step - loss: 0.0106 - mse: 0.0106 - mae: 0.0562 - rmse: 0.1028 - val_loss: 0.0127 - val_mse: 0.0127 - val_mae: 0.0661 - val_rmse: 0.1129\n",
      "Epoch 48/500\n",
      "4776/4776 [==============================] - 7s 1ms/step - loss: 0.0106 - mse: 0.0106 - mae: 0.0575 - rmse: 0.1028 - val_loss: 0.0104 - val_mse: 0.0104 - val_mae: 0.0626 - val_rmse: 0.1021\n",
      "Epoch 49/500\n",
      "4776/4776 [==============================] - 6s 1ms/step - loss: 0.0103 - mse: 0.0103 - mae: 0.0560 - rmse: 0.1013 - val_loss: 0.0121 - val_mse: 0.0121 - val_mae: 0.0686 - val_rmse: 0.1100\n",
      "Epoch 50/500\n",
      "4776/4776 [==============================] - 6s 1ms/step - loss: 0.0119 - mse: 0.0119 - mae: 0.0594 - rmse: 0.1089 - val_loss: 0.0119 - val_mse: 0.0119 - val_mae: 0.0664 - val_rmse: 0.1090\n",
      "Epoch 51/500\n",
      "4776/4776 [==============================] - 6s 1ms/step - loss: 0.0113 - mse: 0.0113 - mae: 0.0579 - rmse: 0.1059 - val_loss: 0.0107 - val_mse: 0.0107 - val_mae: 0.0621 - val_rmse: 0.1036\n",
      "Epoch 52/500\n",
      "4776/4776 [==============================] - 6s 1ms/step - loss: 0.0098 - mse: 0.0098 - mae: 0.0557 - rmse: 0.0988 - val_loss: 0.0151 - val_mse: 0.0151 - val_mae: 0.0735 - val_rmse: 0.1228\n",
      "Epoch 53/500\n",
      "4776/4776 [==============================] - 7s 1ms/step - loss: 0.0088 - mse: 0.0088 - mae: 0.0531 - rmse: 0.0936 - val_loss: 0.0132 - val_mse: 0.0132 - val_mae: 0.0669 - val_rmse: 0.1150\n",
      "Epoch 54/500\n",
      "4776/4776 [==============================] - 6s 1ms/step - loss: 0.0096 - mse: 0.0096 - mae: 0.0542 - rmse: 0.0982 - val_loss: 0.0114 - val_mse: 0.0114 - val_mae: 0.0632 - val_rmse: 0.1066\n",
      "Epoch 55/500\n",
      "4776/4776 [==============================] - 6s 1ms/step - loss: 0.0106 - mse: 0.0106 - mae: 0.0560 - rmse: 0.1027 - val_loss: 0.0091 - val_mse: 0.0091 - val_mae: 0.0588 - val_rmse: 0.0954\n",
      "Epoch 56/500\n",
      "4776/4776 [==============================] - 6s 1ms/step - loss: 0.0094 - mse: 0.0094 - mae: 0.0542 - rmse: 0.0971 - val_loss: 0.0142 - val_mse: 0.0142 - val_mae: 0.0716 - val_rmse: 0.1193\n",
      "Epoch 57/500\n",
      "4776/4776 [==============================] - 6s 1ms/step - loss: 0.0097 - mse: 0.0097 - mae: 0.0540 - rmse: 0.0987 - val_loss: 0.0240 - val_mse: 0.0240 - val_mae: 0.0780 - val_rmse: 0.1548\n",
      "Epoch 58/500\n",
      "4776/4776 [==============================] - 6s 1ms/step - loss: 0.0104 - mse: 0.0104 - mae: 0.0562 - rmse: 0.1018 - val_loss: 0.0124 - val_mse: 0.0124 - val_mae: 0.0624 - val_rmse: 0.1114\n",
      "Epoch 59/500\n",
      "4776/4776 [==============================] - 6s 1ms/step - loss: 0.0097 - mse: 0.0097 - mae: 0.0543 - rmse: 0.0982 - val_loss: 0.0078 - val_mse: 0.0078 - val_mae: 0.0584 - val_rmse: 0.0886\n",
      "Epoch 60/500\n",
      "4776/4776 [==============================] - 6s 1ms/step - loss: 0.0081 - mse: 0.0081 - mae: 0.0510 - rmse: 0.0898 - val_loss: 0.0134 - val_mse: 0.0134 - val_mae: 0.0648 - val_rmse: 0.1158\n",
      "Epoch 61/500\n",
      "4776/4776 [==============================] - 6s 1ms/step - loss: 0.0087 - mse: 0.0087 - mae: 0.0517 - rmse: 0.0933 - val_loss: 0.0097 - val_mse: 0.0097 - val_mae: 0.0594 - val_rmse: 0.0986\n",
      "Epoch 62/500\n",
      "4776/4776 [==============================] - 6s 1ms/step - loss: 0.0080 - mse: 0.0080 - mae: 0.0509 - rmse: 0.0896 - val_loss: 0.0105 - val_mse: 0.0105 - val_mae: 0.0642 - val_rmse: 0.1023\n",
      "Epoch 63/500\n",
      "4776/4776 [==============================] - 6s 1ms/step - loss: 0.0078 - mse: 0.0078 - mae: 0.0498 - rmse: 0.0880 - val_loss: 0.0128 - val_mse: 0.0128 - val_mae: 0.0698 - val_rmse: 0.1133\n",
      "Epoch 64/500\n",
      "4776/4776 [==============================] - 6s 1ms/step - loss: 0.0081 - mse: 0.0081 - mae: 0.0514 - rmse: 0.0900 - val_loss: 0.0211 - val_mse: 0.0211 - val_mae: 0.0708 - val_rmse: 0.1453\n",
      "Epoch 65/500\n",
      "4776/4776 [==============================] - 7s 1ms/step - loss: 0.0106 - mse: 0.0106 - mae: 0.0546 - rmse: 0.1023 - val_loss: 0.0074 - val_mse: 0.0074 - val_mae: 0.0556 - val_rmse: 0.0861\n",
      "Epoch 66/500\n",
      "4776/4776 [==============================] - 7s 1ms/step - loss: 0.0074 - mse: 0.0074 - mae: 0.0484 - rmse: 0.0857 - val_loss: 0.0082 - val_mse: 0.0082 - val_mae: 0.0556 - val_rmse: 0.0908\n",
      "Epoch 67/500\n",
      "4776/4776 [==============================] - 8s 2ms/step - loss: 0.0090 - mse: 0.0090 - mae: 0.0523 - rmse: 0.0947 - val_loss: 0.0116 - val_mse: 0.0116 - val_mae: 0.0617 - val_rmse: 0.1077\n",
      "Epoch 68/500\n",
      "4776/4776 [==============================] - 7s 2ms/step - loss: 0.0096 - mse: 0.0096 - mae: 0.0514 - rmse: 0.0977 - val_loss: 0.0064 - val_mse: 0.0064 - val_mae: 0.0536 - val_rmse: 0.0800\n",
      "Epoch 69/500\n",
      "4776/4776 [==============================] - 7s 1ms/step - loss: 0.0073 - mse: 0.0073 - mae: 0.0481 - rmse: 0.0853 - val_loss: 0.0326 - val_mse: 0.0326 - val_mae: 0.0841 - val_rmse: 0.1804\n",
      "Epoch 70/500\n",
      "4776/4776 [==============================] - 5s 1ms/step - loss: 0.0125 - mse: 0.0125 - mae: 0.0571 - rmse: 0.1100 - val_loss: 0.0080 - val_mse: 0.0080 - val_mae: 0.0592 - val_rmse: 0.0896\n",
      "Epoch 71/500\n",
      "4776/4776 [==============================] - 5s 1ms/step - loss: 0.0072 - mse: 0.0072 - mae: 0.0479 - rmse: 0.0844 - val_loss: 0.0060 - val_mse: 0.0060 - val_mae: 0.0525 - val_rmse: 0.0775\n",
      "Epoch 72/500\n",
      "4776/4776 [==============================] - 5s 1ms/step - loss: 0.0094 - mse: 0.0094 - mae: 0.0521 - rmse: 0.0965 - val_loss: 0.0106 - val_mse: 0.0106 - val_mae: 0.0618 - val_rmse: 0.1028\n",
      "Epoch 73/500\n",
      "4776/4776 [==============================] - 5s 1ms/step - loss: 0.0086 - mse: 0.0086 - mae: 0.0507 - rmse: 0.0925 - val_loss: 0.0097 - val_mse: 0.0097 - val_mae: 0.0621 - val_rmse: 0.0986\n",
      "Epoch 74/500\n",
      "4776/4776 [==============================] - 6s 1ms/step - loss: 0.0082 - mse: 0.0082 - mae: 0.0504 - rmse: 0.0906 - val_loss: 0.0116 - val_mse: 0.0116 - val_mae: 0.0657 - val_rmse: 0.1075\n",
      "Epoch 75/500\n",
      "4776/4776 [==============================] - 6s 1ms/step - loss: 0.0087 - mse: 0.0087 - mae: 0.0514 - rmse: 0.0926 - val_loss: 0.0092 - val_mse: 0.0092 - val_mae: 0.0575 - val_rmse: 0.0961\n",
      "Epoch 76/500\n",
      "4776/4776 [==============================] - 6s 1ms/step - loss: 0.0078 - mse: 0.0078 - mae: 0.0483 - rmse: 0.0884 - val_loss: 0.0069 - val_mse: 0.0069 - val_mae: 0.0547 - val_rmse: 0.0831\n",
      "Epoch 77/500\n",
      "4776/4776 [==============================] - 7s 2ms/step - loss: 0.0065 - mse: 0.0065 - mae: 0.0466 - rmse: 0.0808 - val_loss: 0.0089 - val_mse: 0.0089 - val_mae: 0.0600 - val_rmse: 0.0944\n"
     ]
    },
    {
     "name": "stdout",
     "output_type": "stream",
     "text": [
      "Epoch 78/500\n",
      "4776/4776 [==============================] - 7s 1ms/step - loss: 0.0090 - mse: 0.0090 - mae: 0.0497 - rmse: 0.0948 - val_loss: 0.0109 - val_mse: 0.0109 - val_mae: 0.0618 - val_rmse: 0.1046\n",
      "Epoch 79/500\n",
      "4776/4776 [==============================] - 7s 2ms/step - loss: 0.0067 - mse: 0.0067 - mae: 0.0467 - rmse: 0.0818 - val_loss: 0.0161 - val_mse: 0.0161 - val_mae: 0.0669 - val_rmse: 0.1269\n",
      "Epoch 80/500\n",
      "4776/4776 [==============================] - 7s 1ms/step - loss: 0.0069 - mse: 0.0069 - mae: 0.0469 - rmse: 0.0830 - val_loss: 0.0083 - val_mse: 0.0083 - val_mae: 0.0606 - val_rmse: 0.0914\n",
      "Epoch 81/500\n",
      "4776/4776 [==============================] - 7s 1ms/step - loss: 0.0070 - mse: 0.0070 - mae: 0.0471 - rmse: 0.0834 - val_loss: 0.0059 - val_mse: 0.0059 - val_mae: 0.0525 - val_rmse: 0.0767\n",
      "Epoch 82/500\n",
      "4776/4776 [==============================] - 7s 1ms/step - loss: 0.0075 - mse: 0.0075 - mae: 0.0478 - rmse: 0.0862 - val_loss: 0.0150 - val_mse: 0.0150 - val_mae: 0.0651 - val_rmse: 0.1226\n",
      "Epoch 83/500\n",
      "4776/4776 [==============================] - 7s 2ms/step - loss: 0.0087 - mse: 0.0087 - mae: 0.0497 - rmse: 0.0933 - val_loss: 0.0062 - val_mse: 0.0062 - val_mae: 0.0523 - val_rmse: 0.0786\n",
      "Epoch 84/500\n",
      "4776/4776 [==============================] - 7s 1ms/step - loss: 0.0080 - mse: 0.0080 - mae: 0.0480 - rmse: 0.0890 - val_loss: 0.0055 - val_mse: 0.0055 - val_mae: 0.0507 - val_rmse: 0.0739\n",
      "Epoch 85/500\n",
      "4776/4776 [==============================] - 6s 1ms/step - loss: 0.0080 - mse: 0.0080 - mae: 0.0491 - rmse: 0.0890 - val_loss: 0.0055 - val_mse: 0.0055 - val_mae: 0.0502 - val_rmse: 0.0738\n",
      "Epoch 86/500\n",
      "4776/4776 [==============================] - 6s 1ms/step - loss: 0.0063 - mse: 0.0063 - mae: 0.0454 - rmse: 0.0792 - val_loss: 0.0057 - val_mse: 0.0057 - val_mae: 0.0514 - val_rmse: 0.0752\n",
      "Epoch 87/500\n",
      "4776/4776 [==============================] - 6s 1ms/step - loss: 0.0113 - mse: 0.0113 - mae: 0.0538 - rmse: 0.1056 - val_loss: 0.0088 - val_mse: 0.0088 - val_mae: 0.0554 - val_rmse: 0.0936\n",
      "Epoch 88/500\n",
      "4776/4776 [==============================] - 6s 1ms/step - loss: 0.0073 - mse: 0.0073 - mae: 0.0472 - rmse: 0.0851 - val_loss: 0.0087 - val_mse: 0.0087 - val_mae: 0.0546 - val_rmse: 0.0932\n",
      "Epoch 89/500\n",
      "4776/4776 [==============================] - 5s 1ms/step - loss: 0.0057 - mse: 0.0057 - mae: 0.0438 - rmse: 0.0756 - val_loss: 0.0083 - val_mse: 0.0083 - val_mae: 0.0592 - val_rmse: 0.0912\n",
      "Epoch 90/500\n",
      "4776/4776 [==============================] - 6s 1ms/step - loss: 0.0073 - mse: 0.0073 - mae: 0.0478 - rmse: 0.0848 - val_loss: 0.0059 - val_mse: 0.0059 - val_mae: 0.0518 - val_rmse: 0.0769\n",
      "Epoch 91/500\n",
      "4776/4776 [==============================] - 6s 1ms/step - loss: 0.0049 - mse: 0.0049 - mae: 0.0423 - rmse: 0.0696 - val_loss: 0.0083 - val_mse: 0.0083 - val_mae: 0.0533 - val_rmse: 0.0910\n",
      "Epoch 92/500\n",
      "4776/4776 [==============================] - 6s 1ms/step - loss: 0.0066 - mse: 0.0066 - mae: 0.0451 - rmse: 0.0809 - val_loss: 0.0055 - val_mse: 0.0055 - val_mae: 0.0499 - val_rmse: 0.0739\n",
      "Epoch 93/500\n",
      "4776/4776 [==============================] - 6s 1ms/step - loss: 0.0063 - mse: 0.0063 - mae: 0.0441 - rmse: 0.0794 - val_loss: 0.0050 - val_mse: 0.0050 - val_mae: 0.0490 - val_rmse: 0.0704\n",
      "Epoch 94/500\n",
      "4776/4776 [==============================] - 6s 1ms/step - loss: 0.0059 - mse: 0.0059 - mae: 0.0436 - rmse: 0.0760 - val_loss: 0.0054 - val_mse: 0.0054 - val_mae: 0.0518 - val_rmse: 0.0736\n",
      "Epoch 95/500\n",
      "4776/4776 [==============================] - 8s 2ms/step - loss: 0.0072 - mse: 0.0072 - mae: 0.0463 - rmse: 0.0841 - val_loss: 0.0059 - val_mse: 0.0059 - val_mae: 0.0514 - val_rmse: 0.0766\n",
      "Epoch 96/500\n",
      "4776/4776 [==============================] - 8s 2ms/step - loss: 0.0055 - mse: 0.0055 - mae: 0.0427 - rmse: 0.0738 - val_loss: 0.0083 - val_mse: 0.0083 - val_mae: 0.0574 - val_rmse: 0.0910\n",
      "Epoch 97/500\n",
      "4776/4776 [==============================] - 8s 2ms/step - loss: 0.0085 - mse: 0.0085 - mae: 0.0496 - rmse: 0.0913 - val_loss: 0.0116 - val_mse: 0.0116 - val_mae: 0.0637 - val_rmse: 0.1075\n",
      "Epoch 98/500\n",
      "4776/4776 [==============================] - 8s 2ms/step - loss: 0.0058 - mse: 0.0058 - mae: 0.0441 - rmse: 0.0761 - val_loss: 0.0066 - val_mse: 0.0066 - val_mae: 0.0529 - val_rmse: 0.0810\n",
      "Epoch 99/500\n",
      "4776/4776 [==============================] - 6s 1ms/step - loss: 0.0061 - mse: 0.0061 - mae: 0.0440 - rmse: 0.0778 - val_loss: 0.0129 - val_mse: 0.0129 - val_mae: 0.0634 - val_rmse: 0.1136\n",
      "Epoch 100/500\n",
      "4776/4776 [==============================] - 6s 1ms/step - loss: 0.0068 - mse: 0.0068 - mae: 0.0456 - rmse: 0.0824 - val_loss: 0.0053 - val_mse: 0.0053 - val_mae: 0.0489 - val_rmse: 0.0727\n",
      "Epoch 101/500\n",
      "4776/4776 [==============================] - 6s 1ms/step - loss: 0.0043 - mse: 0.0043 - mae: 0.0400 - rmse: 0.0654 - val_loss: 0.0055 - val_mse: 0.0055 - val_mae: 0.0517 - val_rmse: 0.0742\n",
      "Epoch 102/500\n",
      "4776/4776 [==============================] - 7s 1ms/step - loss: 0.0065 - mse: 0.0065 - mae: 0.0448 - rmse: 0.0804 - val_loss: 0.0047 - val_mse: 0.0047 - val_mae: 0.0480 - val_rmse: 0.0687\n",
      "Epoch 103/500\n",
      "4776/4776 [==============================] - 8s 2ms/step - loss: 0.0055 - mse: 0.0055 - mae: 0.0420 - rmse: 0.0738 - val_loss: 0.0053 - val_mse: 0.0053 - val_mae: 0.0496 - val_rmse: 0.0731\n",
      "Epoch 104/500\n",
      "4776/4776 [==============================] - 9s 2ms/step - loss: 0.0084 - mse: 0.0084 - mae: 0.0481 - rmse: 0.0904 - val_loss: 0.0050 - val_mse: 0.0050 - val_mae: 0.0486 - val_rmse: 0.0707\n",
      "Epoch 105/500\n",
      "4776/4776 [==============================] - 8s 2ms/step - loss: 0.0043 - mse: 0.0043 - mae: 0.0394 - rmse: 0.0656 - val_loss: 0.0062 - val_mse: 0.0062 - val_mae: 0.0523 - val_rmse: 0.0789\n",
      "Epoch 106/500\n",
      "4776/4776 [==============================] - 8s 2ms/step - loss: 0.0062 - mse: 0.0062 - mae: 0.0435 - rmse: 0.0782 - val_loss: 0.0059 - val_mse: 0.0059 - val_mae: 0.0507 - val_rmse: 0.0770\n",
      "Epoch 107/500\n",
      "4776/4776 [==============================] - 8s 2ms/step - loss: 0.0049 - mse: 0.0049 - mae: 0.0413 - rmse: 0.0698 - val_loss: 0.0050 - val_mse: 0.0050 - val_mae: 0.0490 - val_rmse: 0.0705\n",
      "Epoch 108/500\n",
      "4776/4776 [==============================] - 7s 1ms/step - loss: 0.0051 - mse: 0.0051 - mae: 0.0412 - rmse: 0.0712 - val_loss: 0.0044 - val_mse: 0.0044 - val_mae: 0.0463 - val_rmse: 0.0661\n",
      "Epoch 109/500\n",
      "4776/4776 [==============================] - 7s 1ms/step - loss: 0.0065 - mse: 0.0065 - mae: 0.0433 - rmse: 0.0805 - val_loss: 0.0067 - val_mse: 0.0067 - val_mae: 0.0527 - val_rmse: 0.0821\n",
      "Epoch 110/500\n",
      "4776/4776 [==============================] - 8s 2ms/step - loss: 0.0046 - mse: 0.0046 - mae: 0.0403 - rmse: 0.0679 - val_loss: 0.0042 - val_mse: 0.0042 - val_mae: 0.0460 - val_rmse: 0.0650\n",
      "Epoch 111/500\n",
      "4776/4776 [==============================] - 8s 2ms/step - loss: 0.0064 - mse: 0.0064 - mae: 0.0430 - rmse: 0.0789 - val_loss: 0.0048 - val_mse: 0.0048 - val_mae: 0.0479 - val_rmse: 0.0695\n",
      "Epoch 112/500\n",
      "4776/4776 [==============================] - 8s 2ms/step - loss: 0.0068 - mse: 0.0068 - mae: 0.0442 - rmse: 0.0812 - val_loss: 0.0067 - val_mse: 0.0067 - val_mae: 0.0547 - val_rmse: 0.0816\n",
      "Epoch 113/500\n",
      "4776/4776 [==============================] - 8s 2ms/step - loss: 0.0060 - mse: 0.0060 - mae: 0.0433 - rmse: 0.0772 - val_loss: 0.0044 - val_mse: 0.0044 - val_mae: 0.0469 - val_rmse: 0.0661\n",
      "Epoch 114/500\n",
      "4776/4776 [==============================] - 8s 2ms/step - loss: 0.0045 - mse: 0.0045 - mae: 0.0391 - rmse: 0.0666 - val_loss: 0.0052 - val_mse: 0.0052 - val_mae: 0.0481 - val_rmse: 0.0720\n",
      "Epoch 115/500\n",
      "4776/4776 [==============================] - 8s 2ms/step - loss: 0.0048 - mse: 0.0048 - mae: 0.0404 - rmse: 0.0691 - val_loss: 0.0049 - val_mse: 0.0049 - val_mae: 0.0480 - val_rmse: 0.0700\n",
      "Epoch 116/500\n",
      "4776/4776 [==============================] - 7s 2ms/step - loss: 0.0052 - mse: 0.0052 - mae: 0.0398 - rmse: 0.0711 - val_loss: 0.0045 - val_mse: 0.0045 - val_mae: 0.0477 - val_rmse: 0.0669\n",
      "Epoch 117/500\n",
      "4776/4776 [==============================] - 7s 2ms/step - loss: 0.0046 - mse: 0.0046 - mae: 0.0402 - rmse: 0.0676 - val_loss: 0.0044 - val_mse: 0.0044 - val_mae: 0.0471 - val_rmse: 0.0662\n",
      "Epoch 118/500\n"
     ]
    },
    {
     "name": "stdout",
     "output_type": "stream",
     "text": [
      "4776/4776 [==============================] - 8s 2ms/step - loss: 0.0050 - mse: 0.0050 - mae: 0.0405 - rmse: 0.0702 - val_loss: 0.0125 - val_mse: 0.0125 - val_mae: 0.0607 - val_rmse: 0.1117\n",
      "Epoch 119/500\n",
      "4776/4776 [==============================] - 8s 2ms/step - loss: 0.0049 - mse: 0.0049 - mae: 0.0400 - rmse: 0.0698 - val_loss: 0.0044 - val_mse: 0.0044 - val_mae: 0.0470 - val_rmse: 0.0664\n",
      "Epoch 120/500\n",
      "4776/4776 [==============================] - 8s 2ms/step - loss: 0.0059 - mse: 0.0059 - mae: 0.0424 - rmse: 0.0760 - val_loss: 0.0047 - val_mse: 0.0047 - val_mae: 0.0486 - val_rmse: 0.0687\n",
      "Restoring model weights from the end of the best epoch.\n",
      "Epoch 00120: early stopping\n"
     ]
    },
    {
     "data": {
      "image/png": "[encoded data removed]",
      "text/plain": [
       "<Figure size 576x432 with 1 Axes>"
      ]
     },
     "metadata": {
      "needs_background": "light"
     },
     "output_type": "display_data"
    },
    {
     "data": {
      "text/plain": [
       "<Figure size 576x432 with 0 Axes>"
      ]
     },
     "metadata": {},
     "output_type": "display_data"
    },
    {
     "name": "stdout",
     "output_type": "stream",
     "text": [
      "MSE:  6.968963843249808\n",
      "MAE:  2.4432913039452773\n",
      "R-Squared:  -5.969029505803806\n",
      "Explained Variance Score:  -0.0038173452578897926\n"
     ]
    }
   ],
   "source": [
    "model_name = 'dense_model_kinect_ExreciseScore'\n",
    "\n",
    "with mlflow.start_run(run_name=model_name) as run:\n",
    "\n",
    "    run_id = run.info.run_id\n",
    "\n",
    "    model = make_model(metrics=METRICS, \n",
    "                        loss='mean_squared_error', \n",
    "                        optimizer=optimizer, \n",
    "                        learning_rate=learning_rate, \n",
    "                        input_dim=input_dim)\n",
    "    \n",
    "    with tf.device('/CPU:0'):\n",
    "        history = model.fit(\n",
    "            x=X_train, \n",
    "            y=y_train, \n",
    "            shuffle=True, \n",
    "            epochs=EPOCHS, \n",
    "            verbose=1,\n",
    "            batch_size=BATCH_SIZE,\n",
    "            validation_split=0.2,\n",
    "            callbacks=[early_stopping])\n",
    "\n",
    "    # Plot training history\n",
    "    plot_train_history(history, 'Baseline Training and validation loss')\n",
    "    plt.savefig(\"training_history.jpg\")\n",
    "    mlflow.log_artifact(\"training_history.jpg\")\n",
    "    plt.show()\n",
    "    \n",
    "    # Log model, scaler, model parameters to MLflow\n",
    "    #mlflow.log_param(\"activation\", activation)\n",
    "    #mlflow.log_param(\"kernel_initializer\", kernel_initializer)\n",
    "    #mlflow.log_param(\"output activation\", output_activation)\n",
    "    #mlflow.log_param(\"optimizer\", optimizer)\n",
    "    #mlflow.log_param(\"learning rate\", learning_rate)\n",
    "    #mlflow.log_param(\"batch size\", BATCH_SIZE)\n",
    "    #mlflow.log_param(\"epochs\", early_stopping.stopped_epoch)\n",
    "        \n",
    "    #mlflow.log_param(\"input_mean_train\", input_mean_train)\n",
    "    #mlflow.log_param(\"input_std_train\", input_std_train)\n",
    "    #mlflow.log_param(\"input_mean_test\", input_mean_test)\n",
    "    #mlflow.log_param(\"input_std_test\", input_std_test)\n",
    "    #mlflow.log_param(\"output_mean\", output_mean)\n",
    "    #mlflow.log_param(\"output_std\", output_std)\n",
    "\n",
    "    # Log model performance\n",
    "    process_time = [None] * 10\n",
    "    \n",
    "    for i in range(10):\n",
    "        start_time = time.time()\n",
    "        predictions = model.predict(X_test)\n",
    "        end_time = time.time()\n",
    "        process_time[i] = (end_time - start_time) * 1000\n",
    "    \n",
    "    predictions = (predictions * output_std_train.to_numpy()) + output_mean_train.to_numpy()\n",
    "    \n",
    "    output_mean_test = y_test.mean()\n",
    "    output_std_test = y_test.std()\n",
    "    y_test = (y_test - output_mean_test) / output_std_test\n",
    "    y_test.to_numpy()\n",
    "    \n",
    "    (mse, mae, r2, variance) = eval_metrics(y_test, predictions)\n",
    "    #mlflow.log_metric(\"mse\", mse)\n",
    "    #mlflow.log_metric(\"mae\", mae)\n",
    "    #mlflow.log_metric(\"R-squared\", r2)\n",
    "    #mlflow.log_metric(\"variance\", variance)\n",
    "    #mlflow.log_param(\"total params\", model.count_params())\n",
    "    #mlflow.log_metric(\"process time\", np.mean(process_time)) \n",
    "    \n",
    "    #mlflow.keras.log_model(model, model_name, signature=signature)\n",
    "\n",
    "    # Print metrics\n",
    "    print('MSE: ', mse)\n",
    "    print('MAE: ', mae)\n",
    "    print('R-Squared: ', r2)\n",
    "    print('Explained Variance Score: ', variance)"
   ]
  },
  {
   "cell_type": "markdown",
   "metadata": {},
   "source": [
    "## 5. Register Model"
   ]
  },
  {
   "cell_type": "code",
   "execution_count": 22,
   "metadata": {},
   "outputs": [],
   "source": [
    "model_uri = \"runs:/{}/{}\".format(run.info.run_id, model_name)\n",
    "mv = mlflow.register_model(model_uri, model_name)\n",
    "print(\"Name: {}\".format(mv.name))\n",
    "print(\"Version: {}\".format(mv.version))"
   ]
  },
  {
   "cell_type": "code",
   "execution_count": null,
   "metadata": {},
   "outputs": [],
   "source": []
  },
  {
   "cell_type": "code",
   "execution_count": null,
   "metadata": {},
   "outputs": [],
   "source": []
  }
 ],
 "metadata": {
  "kernelspec": {
   "display_name": "Python 3",
   "language": "python",
   "name": "python3"
  },
  "language_info": {
   "codemirror_mode": {
    "name": "ipython",
    "version": 3
   },
   "file_extension": ".py",
   "mimetype": "text/x-python",
   "name": "python",
   "nbconvert_exporter": "python",
   "pygments_lexer": "ipython3",
   "version": "3.9.2"
  },
  "metadata": {
   "interpreter": {
    "hash": "63fd5069d213b44bf678585dea6b12cceca9941eaf7f819626cde1f2670de90d"
   }
  }
 },
 "nbformat": 4,
 "nbformat_minor": 2
}
