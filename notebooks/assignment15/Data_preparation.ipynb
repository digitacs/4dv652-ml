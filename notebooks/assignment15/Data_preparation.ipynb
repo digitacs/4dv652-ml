{
 "cells": [
  {
   "cell_type": "code",
   "execution_count": 1,
   "id": "blond-crisis",
   "metadata": {},
   "outputs": [],
   "source": [
    "import os\n",
    "import numpy as np\n",
    "import pandas as pd\n",
    "import re\n",
    "\n",
    "# Import data augmentation\n",
    "import sys\n",
    "module_path = os.path.abspath(os.path.join('../..'))\n",
    "if module_path not in sys.path:\n",
    "    sys.path.append(module_path)\n",
    "from augmentation.methods import *"
   ]
  },
  {
   "cell_type": "code",
   "execution_count": 2,
   "id": "swiss-leader",
   "metadata": {},
   "outputs": [],
   "source": [
    "import warnings\n",
    "warnings.simplefilter('ignore')"
   ]
  },
  {
   "cell_type": "code",
   "execution_count": 3,
   "id": "peripheral-subscriber",
   "metadata": {},
   "outputs": [],
   "source": [
    "random_state = 47\n",
    "np.random.seed(random_state)"
   ]
  },
  {
   "cell_type": "code",
   "execution_count": 4,
   "id": "external-wells",
   "metadata": {},
   "outputs": [],
   "source": [
    "posenet_dataset_path = '../../datasets/posenet-uncut/'\n",
    "kinect_dataset_path = '../../datasets/kinect_fixed_not_cut/'\n",
    "goodness_score = pd.read_csv('../../datasets/VideoScoring.csv')\n",
    "exrecise_score = pd.read_csv('../../datasets/ExerciseScoring.csv')\n",
    "\n",
    "train_test_ratio = 0.9\n",
    "new_label = 'ExreciseScore'\n",
    "exersice_score_indicator = 'O_Score'\n",
    "goodness_score_indicator = 'AVG'\n",
    "goodness_score_threshold = 3"
   ]
  },
  {
   "cell_type": "code",
   "execution_count": 5,
   "id": "generous-sunset",
   "metadata": {},
   "outputs": [],
   "source": [
    "# Drop video augmentation results\n",
    "goodness_score = goodness_score[goodness_score['FileName'].str.match('U')==False]\n",
    "goodness_score = goodness_score[goodness_score[goodness_score_indicator]>=goodness_score_threshold]\n",
    "\n",
    "posenet_ok = goodness_score['FileName']+'.csv'\n",
    "\n",
    "exrecise_score['Posenet'] = exrecise_score['Posenet'] + '.csv'\n",
    "exrecise_score['Kinect'] = exrecise_score['Kinect'] + '.csv'"
   ]
  },
  {
   "cell_type": "code",
   "execution_count": 6,
   "id": "potential-infrastructure",
   "metadata": {
    "scrolled": true
   },
   "outputs": [
    {
     "name": "stdout",
     "output_type": "stream",
     "text": [
      "Total posenet datasets: 157\n",
      "Total kinect datasets: 157\n"
     ]
    }
   ],
   "source": [
    "posenet_files = []\n",
    "kinect_files = []\n",
    "\n",
    "for file in os.listdir(posenet_dataset_path):\n",
    "    if not file.find(\".csv\",0) == -1:\n",
    "        if file in (goodness_score['FileName']+'.csv').to_list():\n",
    "            posenet_files.append(file)\n",
    "        \n",
    "for file in os.listdir(kinect_dataset_path):\n",
    "    if not file.find(\".csv\",0) == -1:\n",
    "        if file in (goodness_score['FileName']+'_kinect.csv').to_list():\n",
    "            kinect_files.append(file)\n",
    "        \n",
    "print('Total posenet datasets: {}'.format(len(posenet_files)))\n",
    "print('Total kinect datasets: {}'.format(len(kinect_files)))"
   ]
  },
  {
   "cell_type": "code",
   "execution_count": 7,
   "id": "figured-garden",
   "metadata": {},
   "outputs": [
    {
     "name": "stdout",
     "output_type": "stream",
     "text": [
      "141 141\n"
     ]
    }
   ],
   "source": [
    "TRAIN_SPLIT_POSENET = int(len(posenet_files)*train_test_ratio)\n",
    "TRAIN_SPLIT_KINECT = int(len(kinect_files)*train_test_ratio)\n",
    "print(TRAIN_SPLIT_POSENET,TRAIN_SPLIT_KINECT)"
   ]
  },
  {
   "cell_type": "code",
   "execution_count": 8,
   "id": "distinguished-violation",
   "metadata": {},
   "outputs": [],
   "source": [
    "def read_dataset(path,file_list,split_point,is_posenet=True,isTrain=True):\n",
    "    all_df = None\n",
    "    start=0\n",
    "    end=0\n",
    "    \n",
    "    if isTrain:\n",
    "        start = 0\n",
    "        end = split_point\n",
    "    else:\n",
    "        start = split_point\n",
    "        end = len(file_list)\n",
    "    \n",
    "    for file in file_list[start:end]:\n",
    "        df = pd.read_csv(path+file)\n",
    "        \n",
    "        if is_posenet:  \n",
    "            df = df[df.columns.drop(list(df.filter(regex='_eye_')))]\n",
    "            df = df[df.columns.drop(list(df.filter(regex='_ear_')))]\n",
    "            df = df[df.columns.drop(list(df.filter(regex='score')))]\n",
    "            df = df.rename(columns={'nose_x': 'head_x', 'nose_y': 'head_y'})\n",
    "            df[new_label] = float(exrecise_score[exrecise_score['Posenet'] == file][exersice_score_indicator])\n",
    "        else:  \n",
    "            df = df.drop(columns=['Unnamed: 0','FrameNo'])\n",
    "            df[new_label] = float(exrecise_score[exrecise_score['Kinect'] == file][exersice_score_indicator])\n",
    "    \n",
    "        if all_df is None:\n",
    "            all_df = df\n",
    "        else:\n",
    "            all_df = all_df.append(df, ignore_index=True)  \n",
    "    \n",
    "    return all_df"
   ]
  },
  {
   "cell_type": "code",
   "execution_count": 9,
   "id": "informative-cricket",
   "metadata": {},
   "outputs": [],
   "source": [
    "posenet_train_dataset = read_dataset(posenet_dataset_path,posenet_files,TRAIN_SPLIT_POSENET,True,True)\n",
    "posenet_test_dataset = read_dataset(posenet_dataset_path,posenet_files,TRAIN_SPLIT_POSENET,True,False)\n",
    "kinect_train_dataset = read_dataset(kinect_dataset_path,kinect_files,TRAIN_SPLIT_KINECT,False,True)\n",
    "kinect_test_dataset = read_dataset(kinect_dataset_path,kinect_files,TRAIN_SPLIT_KINECT,False,False)"
   ]
  },
  {
   "cell_type": "markdown",
   "id": "false-prompt",
   "metadata": {},
   "source": [
    "## 3. Data Augmentation"
   ]
  },
  {
   "cell_type": "code",
   "execution_count": 10,
   "id": "comparative-grant",
   "metadata": {},
   "outputs": [],
   "source": [
    "def data_augmentation(df):\n",
    "    # Mirror X coordinate\n",
    "    df = mirror(df,'x', append=True)\n",
    "    print(df.shape)\n",
    "\n",
    "    # Stretch by 50%\n",
    "    df_temp = augMultiplier(df.drop(columns=[new_label]), multiplier=1.5)\n",
    "    df_temp[new_label] = df[new_label]\n",
    "    df = df.append(df_temp, ignore_index=True)\n",
    "    print(df.shape)\n",
    "\n",
    "    # Compress by 25%\n",
    "    df_temp = augMultiplier(df.drop(columns=[new_label]), multiplier=0.25)\n",
    "    df_temp[new_label] = df[new_label]\n",
    "    df = df.append(df_temp, ignore_index=True)\n",
    "    print(df.shape)\n",
    "\n",
    "    # Rotate by p/7\n",
    "#     samples = df.sample(5000)\n",
    "#     angle = 3.1415 / 7\n",
    "#     samples_rotated = rotate(samples.drop(columns=[new_label]), angle=angle, posenet=False)\n",
    "#     samples_rotated[new_label] = samples[new_label].append(samples[new_label], ignore_index=True)\n",
    "#     df = df.append(samples_rotated, ignore_index=True)\n",
    "    print(df.shape)\n",
    "\n",
    "    # Rotate by -p/9\n",
    "#     samples = df.sample(5000)\n",
    "#     angle = 3.1415 / -9\n",
    "#     samples_rotated = rotate(samples.drop(columns=[new_label]), angle=angle, posenet=False)\n",
    "#     samples_rotated[new_label] = samples[new_label].append(samples[new_label], ignore_index=True)\n",
    "#     df = df.append(samples_rotated, ignore_index=True)\n",
    "#     print(df.shape)\n",
    "\n",
    "    return df"
   ]
  },
  {
   "cell_type": "code",
   "execution_count": 11,
   "id": "electric-partner",
   "metadata": {},
   "outputs": [
    {
     "name": "stdout",
     "output_type": "stream",
     "text": [
      "(225560, 27)\n",
      "(451120, 27)\n",
      "(902240, 27)\n",
      "(902240, 27)\n",
      "(23874, 27)\n",
      "(47748, 27)\n",
      "(95496, 27)\n",
      "(95496, 27)\n",
      "(223874, 40)\n",
      "(447748, 40)\n",
      "(895496, 40)\n",
      "(895496, 40)\n",
      "(26534, 40)\n",
      "(53068, 40)\n",
      "(106136, 40)\n",
      "(106136, 40)\n"
     ]
    }
   ],
   "source": [
    "posenet_train_dataset = data_augmentation(posenet_train_dataset)\n",
    "posenet_test_dataset = data_augmentation(posenet_test_dataset)\n",
    "kinect_train_dataset = data_augmentation(kinect_train_dataset)\n",
    "kinect_test_dataset = data_augmentation(kinect_test_dataset)"
   ]
  },
  {
   "cell_type": "markdown",
   "id": "generous-fitness",
   "metadata": {},
   "source": [
    "## Save result"
   ]
  },
  {
   "cell_type": "code",
   "execution_count": 12,
   "id": "falling-reward",
   "metadata": {},
   "outputs": [],
   "source": [
    "def cut_and_save(df,slice_size,name):\n",
    "    cut_size = int(len(df) / slice_size)\n",
    "    q = 0\n",
    "\n",
    "    for i in range(slice_size):\n",
    "        temp = df.loc[cut_size*i:cut_size*(i+1)-1,:]\n",
    "        temp.to_csv('../../datasets/exercise_score/{}_{}.csv'.format(name,i+1), index=False)\n",
    "\n",
    "\n",
    "    print('A dataset with {} has been saved in /datasets/exercise_score/{}.csv'.format(len(df),name))"
   ]
  },
  {
   "cell_type": "code",
   "execution_count": 13,
   "id": "occasional-reset",
   "metadata": {},
   "outputs": [
    {
     "name": "stdout",
     "output_type": "stream",
     "text": [
      "A dataset with 902240 has been saved in /datasets/exercise_score/posenet_train_dataset.csv\n",
      "A dataset with 95496 has been saved in /datasets/exercise_score/posenet_test_dataset.csv\n",
      "A dataset with 895496 has been saved in /datasets/exercise_score/kinect_train_dataset.csv\n",
      "A dataset with 106136 has been saved in /datasets/exercise_score/kinect_test_dataset.csv\n"
     ]
    }
   ],
   "source": [
    "cut_and_save(posenet_train_dataset,5,'posenet_train_dataset')\n",
    "cut_and_save(posenet_test_dataset,3,'posenet_test_dataset')\n",
    "cut_and_save(kinect_train_dataset,5,'kinect_train_dataset')\n",
    "cut_and_save(kinect_test_dataset,3,'kinect_test_dataset')"
   ]
  }
 ],
 "metadata": {
  "kernelspec": {
   "display_name": "Python 3",
   "language": "python",
   "name": "python3"
  },
  "language_info": {
   "codemirror_mode": {
    "name": "ipython",
    "version": 3
   },
   "file_extension": ".py",
   "mimetype": "text/x-python",
   "name": "python",
   "nbconvert_exporter": "python",
   "pygments_lexer": "ipython3",
   "version": "3.9.5"
  }
 },
 "nbformat": 4,
 "nbformat_minor": 5
}
