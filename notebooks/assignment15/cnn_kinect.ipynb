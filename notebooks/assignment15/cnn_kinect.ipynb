{
 "metadata": {
  "language_info": {
   "codemirror_mode": {
    "name": "ipython",
    "version": 3
   },
   "file_extension": ".py",
   "mimetype": "text/x-python",
   "name": "python",
   "nbconvert_exporter": "python",
   "pygments_lexer": "ipython3",
   "version": "3.9.5"
  },
  "orig_nbformat": 2,
  "kernelspec": {
   "name": "python395jvsc74a57bd063fd5069d213b44bf678585dea6b12cceca9941eaf7f819626cde1f2670de90d",
   "display_name": "Python 3.9.5 64-bit"
  },
  "metadata": {
   "interpreter": {
    "hash": "63fd5069d213b44bf678585dea6b12cceca9941eaf7f819626cde1f2670de90d"
   }
  }
 },
 "nbformat": 4,
 "nbformat_minor": 2,
 "cells": [
  {
   "source": [
    "# CNN\n",
    "\n",
    "We're working with multioutput regression to predict a goodness score and confidence score for a whole overhead deepsquat exercise, depending on the variables from the PoseNet model representing joint coordinates and confidence scores, per video frame.\n",
    "This means that the outputs are dependent upon the input and upon each other. We're required to find a model that predicts both outputs together.\n",
    "\n",
    "In this Notebook, we're experimenting with 1 dimensional CNNs to find a good-performing model. We're using Conv1D because the input samples consists of sequences of exercise movements, which we can consider as Time-series data. The data represents the movement in 2 axes (X, Y). 1D CNN can perform recognition task from sequential data, such as what position the person has in his exercise and how confident the model is at the position being truthful. This data has 2 dimensions and a confidence score. Kernel moves in one direction.\n",
    "\n",
    "We're not directly dealing with 2D image data (which would require Conv2D) or video data/3D image data (which would require Conv3D)."
   ],
   "cell_type": "markdown",
   "metadata": {}
  },
  {
   "cell_type": "code",
   "execution_count": 1,
   "metadata": {},
   "outputs": [
    {
     "output_type": "stream",
     "name": "stdout",
     "text": [
      "Num GPUs Available:  1\n"
     ]
    }
   ],
   "source": [
    "# MLflow dashboard\n",
    "import mlflow\n",
    "mlflow.set_tracking_uri('http://35.228.45.76:5000')\n",
    "os.environ['GOOGLE_APPLICATION_CREDENTIALS']='../../keys/mlflow-312506-8cfad529f4fd.json'\n",
    "\n",
    "# Import data augmentation\n",
    "import sys\n",
    "module_path = os.path.abspath(os.path.join('../..'))\n",
    "if module_path not in sys.path:\n",
    "    sys.path.append(module_path)\n",
    "from augmentation.methods import *\n",
    "\n",
    "# Ignore warnings\n",
    "import warnings\n",
    "warnings.simplefilter('ignore')\n",
    "\n",
    "# Set random state\n",
    "import numpy as np\n",
    "random_state = 47\n",
    "np.random.seed(random_state)\n",
    "\n",
    "# Use GPU (if available)\n",
    "import tensorflow as tf\n",
    "physical_devices = tf.config.experimental.list_physical_devices( 'GPU' )\n",
    "print( 'Num GPUs Available: ', len( physical_devices ) )\n",
    "if len( physical_devices ) > 0:  \n",
    "    tf.config.experimental.set_memory_growth( physical_devices[0], True )"
   ]
  },
  {
   "source": [
    "# 1. Data Preparation\n",
    "\n",
    "## 1.1 Load Dataset"
   ],
   "cell_type": "markdown",
   "metadata": {}
  },
  {
   "cell_type": "code",
   "execution_count": 2,
   "metadata": {},
   "outputs": [],
   "source": [
    "data_path = '../../datasets/exercise_score/'\n",
    "\n",
    "train_files = [\n",
    "    'kinect_train_dataset_1.csv',\n",
    "    'kinect_train_dataset_2.csv',\n",
    "    'kinect_train_dataset_3.csv',\n",
    "    'kinect_train_dataset_4.csv',\n",
    "    'kinect_train_dataset_5.csv'\n",
    "]\n",
    "\n",
    "test_files = [\n",
    "    'kinect_test_dataset_1.csv',\n",
    "    'kinect_test_dataset_2.csv',\n",
    "    'kinect_test_dataset_3.csv'\n",
    "]\n",
    "\n",
    "df_train = None\n",
    "df_test = None"
   ]
  },
  {
   "cell_type": "code",
   "execution_count": 3,
   "metadata": {},
   "outputs": [
    {
     "output_type": "stream",
     "name": "stdout",
     "text": [
      "(895495, 40) \n\n(106134, 40)\n"
     ]
    }
   ],
   "source": [
    "import pandas as pd\n",
    "\n",
    "for file in train_files:\n",
    "    try:\n",
    "        dataset = pd.read_csv(data_path + file)\n",
    "\n",
    "        if df_train is None:\n",
    "            df_train = dataset\n",
    "        else:\n",
    "            df_train = df_train.append(dataset, ignore_index=True)  \n",
    "    except IOError as e:\n",
    "        print('Error in reading file: ', e)\n",
    "\n",
    "for file in test_files:\n",
    "    try:\n",
    "        dataset = pd.read_csv(data_path + file)\n",
    "\n",
    "        if df_test is None:\n",
    "            df_test = dataset\n",
    "        else:\n",
    "            df_test = df_test.append(dataset, ignore_index=True)  \n",
    "    except IOError as e:\n",
    "        print('Error in reading file: ', e)\n",
    "\n",
    "print(df_train.shape, '\\n')\n",
    "print(df_test.shape)"
   ]
  },
  {
   "source": [
    "## 1.2 Train/Test split"
   ],
   "cell_type": "markdown",
   "metadata": {}
  },
  {
   "cell_type": "code",
   "execution_count": 4,
   "metadata": {},
   "outputs": [],
   "source": [
    "X_train = df_train.drop(columns=['ExreciseScore'])\n",
    "y_train = df_train['ExreciseScore']\n",
    "\n",
    "X_test = df_train.drop(columns=['ExreciseScore'])\n",
    "y_test = df_train['ExreciseScore']"
   ]
  },
  {
   "source": [
    "## 1.3 Standardize features and labels"
   ],
   "cell_type": "markdown",
   "metadata": {}
  },
  {
   "cell_type": "code",
   "execution_count": 5,
   "metadata": {},
   "outputs": [
    {
     "output_type": "stream",
     "name": "stdout",
     "text": [
      "Training features shape: (895495, 39)\nTraining labels shape: (895495, 1) \n\nTest features shape: (895495, 39)\nTest labels shape: (895495,)\n"
     ]
    }
   ],
   "source": [
    "from sklearn.preprocessing import StandardScaler\n",
    "\n",
    "X_scaler = StandardScaler()\n",
    "X_train = X_scaler.fit_transform(X_train)\n",
    "X_test = X_scaler.transform(X_test)\n",
    "\n",
    "y_scaler = StandardScaler()\n",
    "y_train = y_scaler.fit_transform(y_train.values.reshape(-1,1))\n",
    "\n",
    "print('Training features shape:', X_train.shape)\n",
    "print('Training labels shape:', y_train.shape, '\\n')\n",
    "\n",
    "print('Test features shape:', X_test.shape)\n",
    "print('Test labels shape:', y_test.shape)"
   ]
  },
  {
   "source": [
    "## 1.4 Reshape data for convolutional layers"
   ],
   "cell_type": "markdown",
   "metadata": {}
  },
  {
   "cell_type": "code",
   "execution_count": 6,
   "metadata": {},
   "outputs": [
    {
     "output_type": "stream",
     "name": "stdout",
     "text": [
      "Before: (895495, 39)\nAfter: (895495, 1, 39)\n"
     ]
    }
   ],
   "source": [
    "original_shape = X_train.shape\n",
    "X_train = X_train.reshape((X_train.shape[0], 1, X_train.shape[1]))\n",
    "X_test = X_test.reshape((X_test.shape[0], 1, X_test.shape[1]))\n",
    "n_timesteps, n_features, n_outputs = X_train.shape[1], X_train.shape[2], y_train.shape[1]\n",
    "\n",
    "print(\"Before: {}\".format(original_shape))\n",
    "\n",
    "input_shape = (n_timesteps, n_features)\n",
    "\n",
    "print(\"After: {}\".format(X_train.shape))"
   ]
  },
  {
   "source": [
    "# 2. Define Model Architecture\n",
    "\n",
    "## 2.1 Model Architecture\n",
    "\n",
    "The **create_model()** method returns a model with the layers and configurations specified.\n",
    "\n",
    "The model will optimize the mean squared error (mse) required for regression problems."
   ],
   "cell_type": "markdown",
   "metadata": {}
  },
  {
   "cell_type": "code",
   "execution_count": 7,
   "metadata": {},
   "outputs": [],
   "source": [
    "from tensorflow.keras.metrics import MeanSquaredError, MeanAbsoluteError, RootMeanSquaredError\n",
    "from tensorflow.keras.layers import InputLayer\n",
    "\n",
    "metrics = [\n",
    "    MeanSquaredError(name=\"mse\", dtype=None),\n",
    "    MeanAbsoluteError(name=\"mae\", dtype=None),\n",
    "    RootMeanSquaredError(name=\"rmse\", dtype=None),\n",
    "]\n",
    "\n",
    "def create_model(layers, optimizer):\n",
    "    model = tf.keras.models.Sequential(\n",
    "        InputLayer(input_shape=(n_timesteps, n_features))\n",
    "    )\n",
    "\n",
    "    for layer in layers:\n",
    "        model.add(layer)\n",
    "\n",
    "    model.compile(optimizer=optimizer, loss='mean_squared_error', metrics=metrics)\n",
    "\n",
    "    print(model.summary())\n",
    "\n",
    "    return model"
   ]
  },
  {
   "source": [
    "# 3. Run Experiments\n",
    "\n",
    "We will use our [MLflow dashboard](http://35.228.45.76:5000/#/) to track the outcome of experimentation runs.\n",
    "\n",
    "## 3.1 Define a MLflow Experiment\n",
    "\n",
    "We'll define the running setup and the model signature."
   ],
   "cell_type": "markdown",
   "metadata": {}
  },
  {
   "cell_type": "code",
   "execution_count": 13,
   "metadata": {},
   "outputs": [],
   "source": [
    "verbose, epochs, batch_size = 1, 100, 256\n",
    "\n",
    "from keras.callbacks import EarlyStopping\n",
    "early_stopping = EarlyStopping(\n",
    "    monitor='val_loss', \n",
    "    verbose=1,\n",
    "    patience=10,\n",
    "    mode='min',\n",
    "    restore_best_weights=True)"
   ]
  },
  {
   "cell_type": "code",
   "execution_count": 14,
   "metadata": {},
   "outputs": [],
   "source": [
    "from mlflow.models.signature import ModelSignature\n",
    "from mlflow.types.schema import Schema, ColSpec\n",
    "\n",
    "input_schema = Schema([\n",
    "    ColSpec(\"double\", \"head_x\"),\n",
    "    ColSpec(\"double\", \"head_y\"),\n",
    "    ColSpec(\"double\", \"head_z\"),\n",
    "    ColSpec(\"double\", \"left_shoulder_x\"),\n",
    "    ColSpec(\"double\", \"left_shoulder_y\"),\n",
    "    ColSpec(\"double\", \"left_shoulder_z\"),\n",
    "    ColSpec(\"double\", \"left_elbow_x\"),\n",
    "    ColSpec(\"double\", \"left_elbow_y\"),\n",
    "    ColSpec(\"double\", \"left_elbow_z\"),\n",
    "    ColSpec(\"double\", \"right_shoulder_x\"),\n",
    "    ColSpec(\"double\", \"right_shoulder_y\"),\n",
    "    ColSpec(\"double\", \"right_shoulder_z\"),\n",
    "    ColSpec(\"double\", \"right_elbow_x\"),\n",
    "    ColSpec(\"double\", \"right_elbow_y\"),\n",
    "    ColSpec(\"double\", \"right_elbow_z\"),\n",
    "    ColSpec(\"double\", \"left_hand_x\"),\n",
    "    ColSpec(\"double\", \"left_hand_y\"),\n",
    "    ColSpec(\"double\", \"left_hand_z\"),\n",
    "    ColSpec(\"double\", \"right_hand_x\"),\n",
    "    ColSpec(\"double\", \"right_hand_y\"),\n",
    "    ColSpec(\"double\", \"right_hand_z\"),\n",
    "    ColSpec(\"double\", \"left_hip_x\"),\n",
    "    ColSpec(\"double\", \"left_hip_y\"),\n",
    "    ColSpec(\"double\", \"left_hip_z\"),\n",
    "    ColSpec(\"double\", \"right_hip_x\"),\n",
    "    ColSpec(\"double\", \"right_hip_y\"),\n",
    "    ColSpec(\"double\", \"right_hip_z\"),\n",
    "    ColSpec(\"double\", \"left_knee_x\"),\n",
    "    ColSpec(\"double\", \"left_knee_y\"),\n",
    "    ColSpec(\"double\", \"left_knee_z\"),\n",
    "    ColSpec(\"double\", \"right_knee_x\"),\n",
    "    ColSpec(\"double\", \"right_knee_y\"),\n",
    "    ColSpec(\"double\", \"right_knee_z\"),\n",
    "    ColSpec(\"double\", \"left_foot_x\"),\n",
    "    ColSpec(\"double\", \"left_foot_y\"),\n",
    "    ColSpec(\"double\", \"left_foot_z\"),\n",
    "    ColSpec(\"double\", \"right_foot_x\"),\n",
    "    ColSpec(\"double\", \"right_foot_y\"),\n",
    "    ColSpec(\"double\", \"right_foot_z\"),\n",
    "])\n",
    "output_schema = Schema([\n",
    "    ColSpec(\"double\", \"ExreciseScore\")\n",
    "])\n",
    "signature = ModelSignature(inputs=input_schema, outputs=output_schema)"
   ]
  },
  {
   "source": [
    "## 3.2 Plot Training History\n",
    "\n",
    "This method will be used to inspect how the model is learning by showing training and validation loss."
   ],
   "cell_type": "markdown",
   "metadata": {}
  },
  {
   "cell_type": "code",
   "execution_count": 15,
   "metadata": {},
   "outputs": [],
   "source": [
    "import matplotlib as mpl\n",
    "import matplotlib.pyplot as plt\n",
    "\n",
    "mpl.rcParams['figure.figsize'] = (8, 6)\n",
    "mpl.rcParams['axes.grid'] = False\n",
    "\n",
    "def plot_train_history(history, title):\n",
    "    loss = history.history['loss']\n",
    "    val_loss = history.history['val_loss']\n",
    "    epochs = range(len(loss))\n",
    "    plt.figure()\n",
    "    plt.plot(epochs, loss, 'b', label='Training loss')\n",
    "    plt.plot(epochs, val_loss, 'r', label='Validation loss')\n",
    "    plt.title(title)\n",
    "    plt.legend()"
   ]
  },
  {
   "source": [
    "## 3.3 Define Evaluation Metrics\n",
    "\n",
    "We'll use standard regression performance metrics to evaluate model performance."
   ],
   "cell_type": "markdown",
   "metadata": {}
  },
  {
   "cell_type": "code",
   "execution_count": 16,
   "metadata": {},
   "outputs": [],
   "source": [
    "from sklearn.metrics import mean_squared_error, r2_score, explained_variance_score, mean_absolute_error\n",
    "\n",
    "def eval_metrics(actual, pred):\n",
    "    mse = mean_squared_error(actual, pred)\n",
    "    msa = mean_absolute_error(actual, pred)\n",
    "    r2 = r2_score(actual, pred)\n",
    "    variance = explained_variance_score(actual, pred)\n",
    "    return mse, msa, r2, variance"
   ]
  },
  {
   "source": [
    "## 3.4 Model Parameters\n",
    "\n",
    "For each experimentation run, we'll test different values for model parameters with each model architecture we define. These are the parameter values we're using as a starting point:\n",
    "\n",
    "- We'll begin small kernels, and then increase to larger ones. \n",
    "- As for layers, we'll start by using the ReLU activation function and He weight initialization, which we have noticed seem to provide a general good model performance.\n",
    "- The RMSprop optimizer will be used first as this is a regression problem we're trying to solve, and we'll use a modest learning rate of 0.001 with a large momentum of 0.9 (generally good practices). But we'll also try the Adam optimizer.\n",
    "\n",
    "As we're experimenting with these values, the results will be shown in [MLflow dashboard](http://35.228.45.76:5000/#/)."
   ],
   "cell_type": "markdown",
   "metadata": {}
  },
  {
   "cell_type": "code",
   "execution_count": 17,
   "metadata": {},
   "outputs": [],
   "source": [
    "from tensorflow.keras.optimizers import RMSprop, Adam, SGD\n",
    "\n",
    "# Parameters\n",
    "filters = 32\n",
    "kernel_size = 3\n",
    "\n",
    "activation = 'relu'\n",
    "kernel_initializer = 'he_uniform'\n",
    "\n",
    "pool_size = 2\n",
    "\n",
    "dense_units = 64\n",
    "\n",
    "output_activation = ''\n",
    "\n",
    "# Optimization function\n",
    "optimizer = 'Adam'\n",
    "learning_rate = 0.001\n",
    "#opt = SGD(learning_rate=learning_rate, momentum=0.9)\n",
    "opt = Adam(learning_rate=learning_rate)\n",
    "#opt = RMSprop(learning_rate=learning_rate, momentum=0.9)"
   ]
  },
  {
   "source": [
    "## 3.5 Baseline model\n",
    "\n",
    "Now we can start experimenting with the models, and we'll start with a baseline model. The baseline model will establish a minimum model performance to which all other models can be compared. \n",
    "\n",
    "For the baseline model, we've been inspired by the general architectural principles of VGG models - but with 1 dimensional convolution. \n",
    "This seems like a good starting point because that structure is easy to understand and implement at the same time as it has previously achieved good performance. <br />\n",
    "The architecture involves stacking convolutional layers with small 3x3 filters followed by a max-pooling layer. Padding is used on the convolutional layers to ensure the height and width of the output feature maps matches the inputs.\n",
    "\n",
    "The feature maps output from the feature extraction part of this baseline model will be flattened before we can interpret them with two fully connected (Dense) layers, and then output a prediction.\n",
    "\n",
    "This baseline will also be tested with larger filters as we're experimenting with parameter values."
   ],
   "cell_type": "markdown",
   "metadata": {}
  },
  {
   "cell_type": "code",
   "execution_count": 18,
   "metadata": {},
   "outputs": [
    {
     "output_type": "stream",
     "name": "stdout",
     "text": [
      "Model: \"sequential\"\n",
      "_________________________________________________________________\n",
      "Layer (type)                 Output Shape              Param #   \n",
      "=================================================================\n",
      "conv1d (Conv1D)              (None, 1, 32)             3776      \n",
      "_________________________________________________________________\n",
      "max_pooling1d (MaxPooling1D) (None, 1, 32)             0         \n",
      "_________________________________________________________________\n",
      "flatten (Flatten)            (None, 32)                0         \n",
      "_________________________________________________________________\n",
      "dense (Dense)                (None, 64)                2112      \n",
      "_________________________________________________________________\n",
      "dense_1 (Dense)              (None, 1)                 65        \n",
      "=================================================================\n",
      "Total params: 5,953\n",
      "Trainable params: 5,953\n",
      "Non-trainable params: 0\n",
      "_________________________________________________________________\n",
      "None\n",
      "Epoch 1/100\n",
      "2799/2799 [==============================] - 14s 4ms/step - loss: 0.4401 - mse: 0.4401 - mae: 0.5176 - rmse: 0.6634 - val_loss: 0.4388 - val_mse: 0.4388 - val_mae: 0.5013 - val_rmse: 0.6624\n",
      "Epoch 2/100\n",
      "2799/2799 [==============================] - 11s 4ms/step - loss: 0.2714 - mse: 0.2714 - mae: 0.3870 - rmse: 0.5209 - val_loss: 0.3696 - val_mse: 0.3696 - val_mae: 0.4533 - val_rmse: 0.6080\n",
      "Epoch 3/100\n",
      "2799/2799 [==============================] - 11s 4ms/step - loss: 0.2222 - mse: 0.2222 - mae: 0.3434 - rmse: 0.4714 - val_loss: 0.3142 - val_mse: 0.3142 - val_mae: 0.4157 - val_rmse: 0.5605\n",
      "Epoch 4/100\n",
      "2799/2799 [==============================] - 11s 4ms/step - loss: 0.1985 - mse: 0.1985 - mae: 0.3216 - rmse: 0.4455 - val_loss: 0.2759 - val_mse: 0.2759 - val_mae: 0.3930 - val_rmse: 0.5252\n",
      "Epoch 5/100\n",
      "2799/2799 [==============================] - 11s 4ms/step - loss: 0.1817 - mse: 0.1817 - mae: 0.3056 - rmse: 0.4263 - val_loss: 0.2710 - val_mse: 0.2710 - val_mae: 0.3879 - val_rmse: 0.5206\n",
      "Epoch 6/100\n",
      "2799/2799 [==============================] - 11s 4ms/step - loss: 0.1696 - mse: 0.1696 - mae: 0.2936 - rmse: 0.4118 - val_loss: 0.2538 - val_mse: 0.2538 - val_mae: 0.3737 - val_rmse: 0.5037\n",
      "Epoch 7/100\n",
      "2799/2799 [==============================] - 11s 4ms/step - loss: 0.1604 - mse: 0.1604 - mae: 0.2842 - rmse: 0.4005 - val_loss: 0.2577 - val_mse: 0.2577 - val_mae: 0.3785 - val_rmse: 0.5076\n",
      "Epoch 8/100\n",
      "2799/2799 [==============================] - 10s 4ms/step - loss: 0.1531 - mse: 0.1531 - mae: 0.2767 - rmse: 0.3913 - val_loss: 0.2272 - val_mse: 0.2272 - val_mae: 0.3527 - val_rmse: 0.4766\n",
      "Epoch 9/100\n",
      "2799/2799 [==============================] - 11s 4ms/step - loss: 0.1464 - mse: 0.1464 - mae: 0.2700 - rmse: 0.3827 - val_loss: 0.2501 - val_mse: 0.2501 - val_mae: 0.3670 - val_rmse: 0.5001\n",
      "Epoch 10/100\n",
      "2799/2799 [==============================] - 11s 4ms/step - loss: 0.1414 - mse: 0.1414 - mae: 0.2650 - rmse: 0.3760 - val_loss: 0.2274 - val_mse: 0.2274 - val_mae: 0.3503 - val_rmse: 0.4769\n",
      "Epoch 11/100\n",
      "2799/2799 [==============================] - 11s 4ms/step - loss: 0.1378 - mse: 0.1378 - mae: 0.2613 - rmse: 0.3712 - val_loss: 0.2172 - val_mse: 0.2172 - val_mae: 0.3402 - val_rmse: 0.4660\n",
      "Epoch 12/100\n",
      "2799/2799 [==============================] - 11s 4ms/step - loss: 0.1335 - mse: 0.1335 - mae: 0.2567 - rmse: 0.3653 - val_loss: 0.2138 - val_mse: 0.2138 - val_mae: 0.3414 - val_rmse: 0.4624\n",
      "Epoch 13/100\n",
      "2799/2799 [==============================] - 11s 4ms/step - loss: 0.1300 - mse: 0.1300 - mae: 0.2534 - rmse: 0.3606 - val_loss: 0.2203 - val_mse: 0.2203 - val_mae: 0.3438 - val_rmse: 0.4693\n",
      "Epoch 14/100\n",
      "2799/2799 [==============================] - 11s 4ms/step - loss: 0.1273 - mse: 0.1273 - mae: 0.2505 - rmse: 0.3568 - val_loss: 0.2075 - val_mse: 0.2075 - val_mae: 0.3343 - val_rmse: 0.4556\n",
      "Epoch 15/100\n",
      "2799/2799 [==============================] - 12s 4ms/step - loss: 0.1242 - mse: 0.1242 - mae: 0.2470 - rmse: 0.3524 - val_loss: 0.2025 - val_mse: 0.2025 - val_mae: 0.3323 - val_rmse: 0.4500\n",
      "Epoch 16/100\n",
      "2799/2799 [==============================] - 11s 4ms/step - loss: 0.1216 - mse: 0.1216 - mae: 0.2445 - rmse: 0.3487 - val_loss: 0.2294 - val_mse: 0.2294 - val_mae: 0.3509 - val_rmse: 0.4790\n",
      "Epoch 17/100\n",
      "2799/2799 [==============================] - 11s 4ms/step - loss: 0.1202 - mse: 0.1202 - mae: 0.2430 - rmse: 0.3467 - val_loss: 0.2092 - val_mse: 0.2092 - val_mae: 0.3363 - val_rmse: 0.4574\n",
      "Epoch 18/100\n",
      "2799/2799 [==============================] - 11s 4ms/step - loss: 0.1181 - mse: 0.1181 - mae: 0.2406 - rmse: 0.3437 - val_loss: 0.2028 - val_mse: 0.2028 - val_mae: 0.3309 - val_rmse: 0.4504\n",
      "Epoch 19/100\n",
      "2799/2799 [==============================] - 11s 4ms/step - loss: 0.1163 - mse: 0.1163 - mae: 0.2385 - rmse: 0.3411 - val_loss: 0.2052 - val_mse: 0.2052 - val_mae: 0.3332 - val_rmse: 0.4530\n",
      "Epoch 20/100\n",
      "2799/2799 [==============================] - 11s 4ms/step - loss: 0.1142 - mse: 0.1142 - mae: 0.2364 - rmse: 0.3379 - val_loss: 0.2001 - val_mse: 0.2001 - val_mae: 0.3285 - val_rmse: 0.4474\n",
      "Epoch 21/100\n",
      "2799/2799 [==============================] - 12s 4ms/step - loss: 0.1128 - mse: 0.1128 - mae: 0.2348 - rmse: 0.3358 - val_loss: 0.1939 - val_mse: 0.1939 - val_mae: 0.3244 - val_rmse: 0.4404\n",
      "Epoch 22/100\n",
      "2799/2799 [==============================] - 11s 4ms/step - loss: 0.1117 - mse: 0.1117 - mae: 0.2333 - rmse: 0.3342 - val_loss: 0.1846 - val_mse: 0.1846 - val_mae: 0.3153 - val_rmse: 0.4297\n",
      "Epoch 23/100\n",
      "2799/2799 [==============================] - 10s 4ms/step - loss: 0.1098 - mse: 0.1098 - mae: 0.2313 - rmse: 0.3313 - val_loss: 0.1979 - val_mse: 0.1979 - val_mae: 0.3257 - val_rmse: 0.4449\n",
      "Epoch 24/100\n",
      "2799/2799 [==============================] - 11s 4ms/step - loss: 0.1089 - mse: 0.1089 - mae: 0.2303 - rmse: 0.3301 - val_loss: 0.1959 - val_mse: 0.1959 - val_mae: 0.3237 - val_rmse: 0.4426\n",
      "Epoch 25/100\n",
      "2799/2799 [==============================] - 11s 4ms/step - loss: 0.1075 - mse: 0.1075 - mae: 0.2284 - rmse: 0.3278 - val_loss: 0.1872 - val_mse: 0.1872 - val_mae: 0.3170 - val_rmse: 0.4327\n",
      "Epoch 26/100\n",
      "2799/2799 [==============================] - 11s 4ms/step - loss: 0.1067 - mse: 0.1067 - mae: 0.2273 - rmse: 0.3266 - val_loss: 0.1856 - val_mse: 0.1856 - val_mae: 0.3126 - val_rmse: 0.4308\n",
      "Epoch 27/100\n",
      "2799/2799 [==============================] - 11s 4ms/step - loss: 0.1052 - mse: 0.1052 - mae: 0.2258 - rmse: 0.3244 - val_loss: 0.1780 - val_mse: 0.1780 - val_mae: 0.3111 - val_rmse: 0.4219\n",
      "Epoch 28/100\n",
      "2799/2799 [==============================] - 11s 4ms/step - loss: 0.1037 - mse: 0.1037 - mae: 0.2242 - rmse: 0.3221 - val_loss: 0.1734 - val_mse: 0.1734 - val_mae: 0.3022 - val_rmse: 0.4164\n",
      "Epoch 29/100\n",
      "2799/2799 [==============================] - 11s 4ms/step - loss: 0.1032 - mse: 0.1032 - mae: 0.2234 - rmse: 0.3212 - val_loss: 0.1716 - val_mse: 0.1716 - val_mae: 0.3029 - val_rmse: 0.4142\n",
      "Epoch 30/100\n",
      "2799/2799 [==============================] - 11s 4ms/step - loss: 0.1026 - mse: 0.1026 - mae: 0.2228 - rmse: 0.3204 - val_loss: 0.1773 - val_mse: 0.1773 - val_mae: 0.3062 - val_rmse: 0.4211\n",
      "Epoch 31/100\n",
      "2799/2799 [==============================] - 11s 4ms/step - loss: 0.1011 - mse: 0.1011 - mae: 0.2210 - rmse: 0.3179 - val_loss: 0.1763 - val_mse: 0.1763 - val_mae: 0.3048 - val_rmse: 0.4199\n",
      "Epoch 32/100\n",
      "2799/2799 [==============================] - 11s 4ms/step - loss: 0.1008 - mse: 0.1008 - mae: 0.2206 - rmse: 0.3175 - val_loss: 0.1713 - val_mse: 0.1713 - val_mae: 0.3031 - val_rmse: 0.4138\n",
      "Epoch 33/100\n",
      "2799/2799 [==============================] - 11s 4ms/step - loss: 0.0997 - mse: 0.0997 - mae: 0.2193 - rmse: 0.3157 - val_loss: 0.1776 - val_mse: 0.1776 - val_mae: 0.3033 - val_rmse: 0.4214\n",
      "Epoch 34/100\n",
      "2799/2799 [==============================] - 11s 4ms/step - loss: 0.0989 - mse: 0.0989 - mae: 0.2187 - rmse: 0.3145 - val_loss: 0.1714 - val_mse: 0.1714 - val_mae: 0.3002 - val_rmse: 0.4140\n",
      "Epoch 35/100\n",
      "2799/2799 [==============================] - 11s 4ms/step - loss: 0.0980 - mse: 0.0980 - mae: 0.2178 - rmse: 0.3131 - val_loss: 0.1834 - val_mse: 0.1834 - val_mae: 0.3105 - val_rmse: 0.4283\n",
      "Epoch 36/100\n",
      "2799/2799 [==============================] - 11s 4ms/step - loss: 0.0980 - mse: 0.0980 - mae: 0.2173 - rmse: 0.3130 - val_loss: 0.1737 - val_mse: 0.1737 - val_mae: 0.3033 - val_rmse: 0.4167\n",
      "Epoch 37/100\n",
      "2799/2799 [==============================] - 11s 4ms/step - loss: 0.0973 - mse: 0.0973 - mae: 0.2167 - rmse: 0.3119 - val_loss: 0.1654 - val_mse: 0.1654 - val_mae: 0.2949 - val_rmse: 0.4067\n",
      "Epoch 38/100\n",
      "2799/2799 [==============================] - 11s 4ms/step - loss: 0.0963 - mse: 0.0963 - mae: 0.2154 - rmse: 0.3102 - val_loss: 0.1665 - val_mse: 0.1665 - val_mae: 0.2968 - val_rmse: 0.4080\n",
      "Epoch 39/100\n",
      "2799/2799 [==============================] - 11s 4ms/step - loss: 0.0959 - mse: 0.0959 - mae: 0.2150 - rmse: 0.3097 - val_loss: 0.1607 - val_mse: 0.1607 - val_mae: 0.2908 - val_rmse: 0.4009\n",
      "Epoch 40/100\n",
      "2799/2799 [==============================] - 11s 4ms/step - loss: 0.0951 - mse: 0.0951 - mae: 0.2139 - rmse: 0.3084 - val_loss: 0.1616 - val_mse: 0.1616 - val_mae: 0.2899 - val_rmse: 0.4020\n",
      "Epoch 41/100\n",
      "2799/2799 [==============================] - 11s 4ms/step - loss: 0.0948 - mse: 0.0948 - mae: 0.2135 - rmse: 0.3079 - val_loss: 0.1671 - val_mse: 0.1671 - val_mae: 0.2952 - val_rmse: 0.4088\n",
      "Epoch 42/100\n",
      "2799/2799 [==============================] - 11s 4ms/step - loss: 0.0937 - mse: 0.0937 - mae: 0.2125 - rmse: 0.3062 - val_loss: 0.1671 - val_mse: 0.1671 - val_mae: 0.2977 - val_rmse: 0.4088\n",
      "Epoch 43/100\n",
      "2799/2799 [==============================] - 11s 4ms/step - loss: 0.0933 - mse: 0.0933 - mae: 0.2118 - rmse: 0.3054 - val_loss: 0.1600 - val_mse: 0.1600 - val_mae: 0.2887 - val_rmse: 0.4000\n",
      "Epoch 44/100\n",
      "2799/2799 [==============================] - 11s 4ms/step - loss: 0.0930 - mse: 0.0930 - mae: 0.2113 - rmse: 0.3050 - val_loss: 0.1676 - val_mse: 0.1676 - val_mae: 0.2943 - val_rmse: 0.4094\n",
      "Epoch 45/100\n",
      "2799/2799 [==============================] - 12s 4ms/step - loss: 0.0924 - mse: 0.0924 - mae: 0.2109 - rmse: 0.3040 - val_loss: 0.1609 - val_mse: 0.1609 - val_mae: 0.2887 - val_rmse: 0.4011\n",
      "Epoch 46/100\n",
      "2799/2799 [==============================] - 11s 4ms/step - loss: 0.0918 - mse: 0.0918 - mae: 0.2101 - rmse: 0.3030 - val_loss: 0.1592 - val_mse: 0.1592 - val_mae: 0.2890 - val_rmse: 0.3990\n",
      "Epoch 47/100\n",
      "2799/2799 [==============================] - 11s 4ms/step - loss: 0.0914 - mse: 0.0914 - mae: 0.2097 - rmse: 0.3023 - val_loss: 0.1580 - val_mse: 0.1580 - val_mae: 0.2889 - val_rmse: 0.3975\n",
      "Epoch 48/100\n",
      "2799/2799 [==============================] - 11s 4ms/step - loss: 0.0910 - mse: 0.0910 - mae: 0.2092 - rmse: 0.3017 - val_loss: 0.1561 - val_mse: 0.1561 - val_mae: 0.2863 - val_rmse: 0.3951\n",
      "Epoch 49/100\n",
      "2799/2799 [==============================] - 11s 4ms/step - loss: 0.0908 - mse: 0.0908 - mae: 0.2089 - rmse: 0.3013 - val_loss: 0.1566 - val_mse: 0.1566 - val_mae: 0.2848 - val_rmse: 0.3957\n",
      "Epoch 50/100\n",
      "2799/2799 [==============================] - 11s 4ms/step - loss: 0.0903 - mse: 0.0903 - mae: 0.2084 - rmse: 0.3006 - val_loss: 0.1597 - val_mse: 0.1597 - val_mae: 0.2917 - val_rmse: 0.3997\n",
      "Epoch 51/100\n",
      "2799/2799 [==============================] - 11s 4ms/step - loss: 0.0901 - mse: 0.0901 - mae: 0.2080 - rmse: 0.3001 - val_loss: 0.1574 - val_mse: 0.1574 - val_mae: 0.2877 - val_rmse: 0.3967\n",
      "Epoch 52/100\n",
      "2799/2799 [==============================] - 11s 4ms/step - loss: 0.0893 - mse: 0.0893 - mae: 0.2072 - rmse: 0.2988 - val_loss: 0.1565 - val_mse: 0.1565 - val_mae: 0.2843 - val_rmse: 0.3956\n",
      "Epoch 53/100\n",
      "2799/2799 [==============================] - 11s 4ms/step - loss: 0.0888 - mse: 0.0888 - mae: 0.2067 - rmse: 0.2979 - val_loss: 0.1538 - val_mse: 0.1538 - val_mae: 0.2831 - val_rmse: 0.3922\n",
      "Epoch 54/100\n",
      "2799/2799 [==============================] - 11s 4ms/step - loss: 0.0885 - mse: 0.0885 - mae: 0.2063 - rmse: 0.2974 - val_loss: 0.1517 - val_mse: 0.1517 - val_mae: 0.2849 - val_rmse: 0.3895\n",
      "Epoch 55/100\n",
      "2799/2799 [==============================] - 11s 4ms/step - loss: 0.0880 - mse: 0.0880 - mae: 0.2058 - rmse: 0.2967 - val_loss: 0.1596 - val_mse: 0.1596 - val_mae: 0.2892 - val_rmse: 0.3995\n",
      "Epoch 56/100\n",
      "2799/2799 [==============================] - 11s 4ms/step - loss: 0.0884 - mse: 0.0884 - mae: 0.2061 - rmse: 0.2973 - val_loss: 0.1635 - val_mse: 0.1635 - val_mae: 0.2885 - val_rmse: 0.4044\n",
      "Epoch 57/100\n",
      "2799/2799 [==============================] - 11s 4ms/step - loss: 0.0877 - mse: 0.0877 - mae: 0.2051 - rmse: 0.2961 - val_loss: 0.1583 - val_mse: 0.1583 - val_mae: 0.2871 - val_rmse: 0.3978\n",
      "Epoch 58/100\n",
      "2799/2799 [==============================] - 11s 4ms/step - loss: 0.0876 - mse: 0.0876 - mae: 0.2051 - rmse: 0.2960 - val_loss: 0.1628 - val_mse: 0.1628 - val_mae: 0.2871 - val_rmse: 0.4035\n",
      "Epoch 59/100\n",
      "2799/2799 [==============================] - 11s 4ms/step - loss: 0.0869 - mse: 0.0869 - mae: 0.2044 - rmse: 0.2948 - val_loss: 0.1497 - val_mse: 0.1497 - val_mae: 0.2798 - val_rmse: 0.3869\n",
      "Epoch 60/100\n",
      "2799/2799 [==============================] - 11s 4ms/step - loss: 0.0866 - mse: 0.0866 - mae: 0.2039 - rmse: 0.2943 - val_loss: 0.1512 - val_mse: 0.1512 - val_mae: 0.2811 - val_rmse: 0.3889\n",
      "Epoch 61/100\n",
      "2799/2799 [==============================] - 11s 4ms/step - loss: 0.0862 - mse: 0.0862 - mae: 0.2034 - rmse: 0.2936 - val_loss: 0.1627 - val_mse: 0.1627 - val_mae: 0.2912 - val_rmse: 0.4033\n",
      "Epoch 62/100\n",
      "2799/2799 [==============================] - 11s 4ms/step - loss: 0.0862 - mse: 0.0862 - mae: 0.2035 - rmse: 0.2937 - val_loss: 0.1549 - val_mse: 0.1549 - val_mae: 0.2850 - val_rmse: 0.3936\n",
      "Epoch 63/100\n",
      "2799/2799 [==============================] - 11s 4ms/step - loss: 0.0854 - mse: 0.0854 - mae: 0.2026 - rmse: 0.2923 - val_loss: 0.1590 - val_mse: 0.1590 - val_mae: 0.2835 - val_rmse: 0.3987\n",
      "Epoch 64/100\n",
      "2799/2799 [==============================] - 11s 4ms/step - loss: 0.0857 - mse: 0.0857 - mae: 0.2029 - rmse: 0.2928 - val_loss: 0.1598 - val_mse: 0.1598 - val_mae: 0.2886 - val_rmse: 0.3997\n",
      "Epoch 65/100\n",
      "2799/2799 [==============================] - 11s 4ms/step - loss: 0.0851 - mse: 0.0851 - mae: 0.2024 - rmse: 0.2917 - val_loss: 0.1483 - val_mse: 0.1483 - val_mae: 0.2786 - val_rmse: 0.3851\n",
      "Epoch 66/100\n",
      "2799/2799 [==============================] - 11s 4ms/step - loss: 0.0849 - mse: 0.0849 - mae: 0.2019 - rmse: 0.2914 - val_loss: 0.1557 - val_mse: 0.1557 - val_mae: 0.2847 - val_rmse: 0.3946\n",
      "Epoch 67/100\n",
      "2799/2799 [==============================] - 10s 4ms/step - loss: 0.0849 - mse: 0.0849 - mae: 0.2019 - rmse: 0.2914 - val_loss: 0.1601 - val_mse: 0.1601 - val_mae: 0.2884 - val_rmse: 0.4001\n",
      "Epoch 68/100\n",
      "2799/2799 [==============================] - 11s 4ms/step - loss: 0.0846 - mse: 0.0846 - mae: 0.2015 - rmse: 0.2908 - val_loss: 0.1530 - val_mse: 0.1530 - val_mae: 0.2831 - val_rmse: 0.3911\n",
      "Epoch 69/100\n",
      "2799/2799 [==============================] - 11s 4ms/step - loss: 0.0841 - mse: 0.0841 - mae: 0.2011 - rmse: 0.2899 - val_loss: 0.1549 - val_mse: 0.1549 - val_mae: 0.2843 - val_rmse: 0.3936\n",
      "Epoch 70/100\n",
      "2799/2799 [==============================] - 11s 4ms/step - loss: 0.0842 - mse: 0.0842 - mae: 0.2011 - rmse: 0.2902 - val_loss: 0.1518 - val_mse: 0.1518 - val_mae: 0.2803 - val_rmse: 0.3896\n",
      "Epoch 71/100\n",
      "2799/2799 [==============================] - 11s 4ms/step - loss: 0.0837 - mse: 0.0837 - mae: 0.2007 - rmse: 0.2893 - val_loss: 0.1544 - val_mse: 0.1544 - val_mae: 0.2822 - val_rmse: 0.3930\n",
      "Epoch 72/100\n",
      "2799/2799 [==============================] - 11s 4ms/step - loss: 0.0835 - mse: 0.0835 - mae: 0.2004 - rmse: 0.2890 - val_loss: 0.1508 - val_mse: 0.1508 - val_mae: 0.2807 - val_rmse: 0.3884\n",
      "Epoch 73/100\n",
      "2799/2799 [==============================] - 11s 4ms/step - loss: 0.0830 - mse: 0.0830 - mae: 0.1999 - rmse: 0.2881 - val_loss: 0.1528 - val_mse: 0.1528 - val_mae: 0.2819 - val_rmse: 0.3909\n",
      "Epoch 74/100\n",
      "2799/2799 [==============================] - 10s 4ms/step - loss: 0.0830 - mse: 0.0830 - mae: 0.1998 - rmse: 0.2881 - val_loss: 0.1500 - val_mse: 0.1500 - val_mae: 0.2791 - val_rmse: 0.3873\n",
      "Epoch 75/100\n",
      "2799/2799 [==============================] - 11s 4ms/step - loss: 0.0824 - mse: 0.0824 - mae: 0.1992 - rmse: 0.2871 - val_loss: 0.1524 - val_mse: 0.1524 - val_mae: 0.2816 - val_rmse: 0.3904\n",
      "Restoring model weights from the end of the best epoch.\n",
      "Epoch 00075: early stopping\n"
     ]
    },
    {
     "output_type": "display_data",
     "data": {
      "text/plain": "<Figure size 576x432 with 1 Axes>",
      "image/svg+xml": "<?xml version=\"1.0\" encoding=\"utf-8\" standalone=\"no\"?>\r\n<!DOCTYPE svg PUBLIC \"-//W3C//DTD SVG 1.1//EN\"\r\n  \"http://www.w3.org/Graphics/SVG/1.1/DTD/svg11.dtd\">\r\n<svg height=\"372.35625pt\" version=\"1.1\" viewBox=\"0 0 490.065625 372.35625\" width=\"490.065625pt\" xmlns=\"http://www.w3.org/2000/svg\" xmlns:xlink=\"http://www.w3.org/1999/xlink\">\r\n <metadata>\r\n  <rdf:RDF xmlns:cc=\"http://creativecommons.org/ns#\" xmlns:dc=\"http://purl.org/dc/elements/1.1/\" xmlns:rdf=\"http://www.w3.org/1999/02/22-rdf-syntax-ns#\">\r\n   <cc:Work>\r\n    <dc:type rdf:resource=\"http://purl.org/dc/dcmitype/StillImage\"/>\r\n    <dc:date>2021-05-30T14:25:11.258833</dc:date>\r\n    <dc:format>image/svg+xml</dc:format>\r\n    <dc:creator>\r\n     <cc:Agent>\r\n      <dc:title>Matplotlib v3.4.2, https://matplotlib.org/</dc:title>\r\n     </cc:Agent>\r\n    </dc:creator>\r\n   </cc:Work>\r\n  </rdf:RDF>\r\n </metadata>\r\n <defs>\r\n  <style type=\"text/css\">*{stroke-linecap:butt;stroke-linejoin:round;}</style>\r\n </defs>\r\n <g id=\"figure_1\">\r\n  <g id=\"patch_1\">\r\n   <path d=\"M 0 372.35625 \r\nL 490.065625 372.35625 \r\nL 490.065625 0 \r\nL 0 0 \r\nz\r\n\" style=\"fill:none;\"/>\r\n  </g>\r\n  <g id=\"axes_1\">\r\n   <g id=\"patch_2\">\r\n    <path d=\"M 36.465625 348.478125 \r\nL 482.865625 348.478125 \r\nL 482.865625 22.318125 \r\nL 36.465625 22.318125 \r\nz\r\n\" style=\"fill:#ffffff;\"/>\r\n   </g>\r\n   <g id=\"matplotlib.axis_1\">\r\n    <g id=\"xtick_1\">\r\n     <g id=\"line2d_1\">\r\n      <defs>\r\n       <path d=\"M 0 0 \r\nL 0 3.5 \r\n\" id=\"mce134341d1\" style=\"stroke:#000000;stroke-width:0.8;\"/>\r\n      </defs>\r\n      <g>\r\n       <use style=\"stroke:#000000;stroke-width:0.8;\" x=\"56.756534\" xlink:href=\"#mce134341d1\" y=\"348.478125\"/>\r\n      </g>\r\n     </g>\r\n     <g id=\"text_1\">\r\n      <!-- 0 -->\r\n      <g transform=\"translate(53.575284 363.076563)scale(0.1 -0.1)\">\r\n       <defs>\r\n        <path d=\"M 2034 4250 \r\nQ 1547 4250 1301 3770 \r\nQ 1056 3291 1056 2328 \r\nQ 1056 1369 1301 889 \r\nQ 1547 409 2034 409 \r\nQ 2525 409 2770 889 \r\nQ 3016 1369 3016 2328 \r\nQ 3016 3291 2770 3770 \r\nQ 2525 4250 2034 4250 \r\nz\r\nM 2034 4750 \r\nQ 2819 4750 3233 4129 \r\nQ 3647 3509 3647 2328 \r\nQ 3647 1150 3233 529 \r\nQ 2819 -91 2034 -91 \r\nQ 1250 -91 836 529 \r\nQ 422 1150 422 2328 \r\nQ 422 3509 836 4129 \r\nQ 1250 4750 2034 4750 \r\nz\r\n\" id=\"DejaVuSans-30\" transform=\"scale(0.015625)\"/>\r\n       </defs>\r\n       <use xlink:href=\"#DejaVuSans-30\"/>\r\n      </g>\r\n     </g>\r\n    </g>\r\n    <g id=\"xtick_2\">\r\n     <g id=\"line2d_2\">\r\n      <g>\r\n       <use style=\"stroke:#000000;stroke-width:0.8;\" x=\"111.596829\" xlink:href=\"#mce134341d1\" y=\"348.478125\"/>\r\n      </g>\r\n     </g>\r\n     <g id=\"text_2\">\r\n      <!-- 10 -->\r\n      <g transform=\"translate(105.234329 363.076563)scale(0.1 -0.1)\">\r\n       <defs>\r\n        <path d=\"M 794 531 \r\nL 1825 531 \r\nL 1825 4091 \r\nL 703 3866 \r\nL 703 4441 \r\nL 1819 4666 \r\nL 2450 4666 \r\nL 2450 531 \r\nL 3481 531 \r\nL 3481 0 \r\nL 794 0 \r\nL 794 531 \r\nz\r\n\" id=\"DejaVuSans-31\" transform=\"scale(0.015625)\"/>\r\n       </defs>\r\n       <use xlink:href=\"#DejaVuSans-31\"/>\r\n       <use x=\"63.623047\" xlink:href=\"#DejaVuSans-30\"/>\r\n      </g>\r\n     </g>\r\n    </g>\r\n    <g id=\"xtick_3\">\r\n     <g id=\"line2d_3\">\r\n      <g>\r\n       <use style=\"stroke:#000000;stroke-width:0.8;\" x=\"166.437124\" xlink:href=\"#mce134341d1\" y=\"348.478125\"/>\r\n      </g>\r\n     </g>\r\n     <g id=\"text_3\">\r\n      <!-- 20 -->\r\n      <g transform=\"translate(160.074624 363.076563)scale(0.1 -0.1)\">\r\n       <defs>\r\n        <path d=\"M 1228 531 \r\nL 3431 531 \r\nL 3431 0 \r\nL 469 0 \r\nL 469 531 \r\nQ 828 903 1448 1529 \r\nQ 2069 2156 2228 2338 \r\nQ 2531 2678 2651 2914 \r\nQ 2772 3150 2772 3378 \r\nQ 2772 3750 2511 3984 \r\nQ 2250 4219 1831 4219 \r\nQ 1534 4219 1204 4116 \r\nQ 875 4013 500 3803 \r\nL 500 4441 \r\nQ 881 4594 1212 4672 \r\nQ 1544 4750 1819 4750 \r\nQ 2544 4750 2975 4387 \r\nQ 3406 4025 3406 3419 \r\nQ 3406 3131 3298 2873 \r\nQ 3191 2616 2906 2266 \r\nQ 2828 2175 2409 1742 \r\nQ 1991 1309 1228 531 \r\nz\r\n\" id=\"DejaVuSans-32\" transform=\"scale(0.015625)\"/>\r\n       </defs>\r\n       <use xlink:href=\"#DejaVuSans-32\"/>\r\n       <use x=\"63.623047\" xlink:href=\"#DejaVuSans-30\"/>\r\n      </g>\r\n     </g>\r\n    </g>\r\n    <g id=\"xtick_4\">\r\n     <g id=\"line2d_4\">\r\n      <g>\r\n       <use style=\"stroke:#000000;stroke-width:0.8;\" x=\"221.277419\" xlink:href=\"#mce134341d1\" y=\"348.478125\"/>\r\n      </g>\r\n     </g>\r\n     <g id=\"text_4\">\r\n      <!-- 30 -->\r\n      <g transform=\"translate(214.914919 363.076563)scale(0.1 -0.1)\">\r\n       <defs>\r\n        <path d=\"M 2597 2516 \r\nQ 3050 2419 3304 2112 \r\nQ 3559 1806 3559 1356 \r\nQ 3559 666 3084 287 \r\nQ 2609 -91 1734 -91 \r\nQ 1441 -91 1130 -33 \r\nQ 819 25 488 141 \r\nL 488 750 \r\nQ 750 597 1062 519 \r\nQ 1375 441 1716 441 \r\nQ 2309 441 2620 675 \r\nQ 2931 909 2931 1356 \r\nQ 2931 1769 2642 2001 \r\nQ 2353 2234 1838 2234 \r\nL 1294 2234 \r\nL 1294 2753 \r\nL 1863 2753 \r\nQ 2328 2753 2575 2939 \r\nQ 2822 3125 2822 3475 \r\nQ 2822 3834 2567 4026 \r\nQ 2313 4219 1838 4219 \r\nQ 1578 4219 1281 4162 \r\nQ 984 4106 628 3988 \r\nL 628 4550 \r\nQ 988 4650 1302 4700 \r\nQ 1616 4750 1894 4750 \r\nQ 2613 4750 3031 4423 \r\nQ 3450 4097 3450 3541 \r\nQ 3450 3153 3228 2886 \r\nQ 3006 2619 2597 2516 \r\nz\r\n\" id=\"DejaVuSans-33\" transform=\"scale(0.015625)\"/>\r\n       </defs>\r\n       <use xlink:href=\"#DejaVuSans-33\"/>\r\n       <use x=\"63.623047\" xlink:href=\"#DejaVuSans-30\"/>\r\n      </g>\r\n     </g>\r\n    </g>\r\n    <g id=\"xtick_5\">\r\n     <g id=\"line2d_5\">\r\n      <g>\r\n       <use style=\"stroke:#000000;stroke-width:0.8;\" x=\"276.117713\" xlink:href=\"#mce134341d1\" y=\"348.478125\"/>\r\n      </g>\r\n     </g>\r\n     <g id=\"text_5\">\r\n      <!-- 40 -->\r\n      <g transform=\"translate(269.755213 363.076563)scale(0.1 -0.1)\">\r\n       <defs>\r\n        <path d=\"M 2419 4116 \r\nL 825 1625 \r\nL 2419 1625 \r\nL 2419 4116 \r\nz\r\nM 2253 4666 \r\nL 3047 4666 \r\nL 3047 1625 \r\nL 3713 1625 \r\nL 3713 1100 \r\nL 3047 1100 \r\nL 3047 0 \r\nL 2419 0 \r\nL 2419 1100 \r\nL 313 1100 \r\nL 313 1709 \r\nL 2253 4666 \r\nz\r\n\" id=\"DejaVuSans-34\" transform=\"scale(0.015625)\"/>\r\n       </defs>\r\n       <use xlink:href=\"#DejaVuSans-34\"/>\r\n       <use x=\"63.623047\" xlink:href=\"#DejaVuSans-30\"/>\r\n      </g>\r\n     </g>\r\n    </g>\r\n    <g id=\"xtick_6\">\r\n     <g id=\"line2d_6\">\r\n      <g>\r\n       <use style=\"stroke:#000000;stroke-width:0.8;\" x=\"330.958008\" xlink:href=\"#mce134341d1\" y=\"348.478125\"/>\r\n      </g>\r\n     </g>\r\n     <g id=\"text_6\">\r\n      <!-- 50 -->\r\n      <g transform=\"translate(324.595508 363.076563)scale(0.1 -0.1)\">\r\n       <defs>\r\n        <path d=\"M 691 4666 \r\nL 3169 4666 \r\nL 3169 4134 \r\nL 1269 4134 \r\nL 1269 2991 \r\nQ 1406 3038 1543 3061 \r\nQ 1681 3084 1819 3084 \r\nQ 2600 3084 3056 2656 \r\nQ 3513 2228 3513 1497 \r\nQ 3513 744 3044 326 \r\nQ 2575 -91 1722 -91 \r\nQ 1428 -91 1123 -41 \r\nQ 819 9 494 109 \r\nL 494 744 \r\nQ 775 591 1075 516 \r\nQ 1375 441 1709 441 \r\nQ 2250 441 2565 725 \r\nQ 2881 1009 2881 1497 \r\nQ 2881 1984 2565 2268 \r\nQ 2250 2553 1709 2553 \r\nQ 1456 2553 1204 2497 \r\nQ 953 2441 691 2322 \r\nL 691 4666 \r\nz\r\n\" id=\"DejaVuSans-35\" transform=\"scale(0.015625)\"/>\r\n       </defs>\r\n       <use xlink:href=\"#DejaVuSans-35\"/>\r\n       <use x=\"63.623047\" xlink:href=\"#DejaVuSans-30\"/>\r\n      </g>\r\n     </g>\r\n    </g>\r\n    <g id=\"xtick_7\">\r\n     <g id=\"line2d_7\">\r\n      <g>\r\n       <use style=\"stroke:#000000;stroke-width:0.8;\" x=\"385.798303\" xlink:href=\"#mce134341d1\" y=\"348.478125\"/>\r\n      </g>\r\n     </g>\r\n     <g id=\"text_7\">\r\n      <!-- 60 -->\r\n      <g transform=\"translate(379.435803 363.076563)scale(0.1 -0.1)\">\r\n       <defs>\r\n        <path d=\"M 2113 2584 \r\nQ 1688 2584 1439 2293 \r\nQ 1191 2003 1191 1497 \r\nQ 1191 994 1439 701 \r\nQ 1688 409 2113 409 \r\nQ 2538 409 2786 701 \r\nQ 3034 994 3034 1497 \r\nQ 3034 2003 2786 2293 \r\nQ 2538 2584 2113 2584 \r\nz\r\nM 3366 4563 \r\nL 3366 3988 \r\nQ 3128 4100 2886 4159 \r\nQ 2644 4219 2406 4219 \r\nQ 1781 4219 1451 3797 \r\nQ 1122 3375 1075 2522 \r\nQ 1259 2794 1537 2939 \r\nQ 1816 3084 2150 3084 \r\nQ 2853 3084 3261 2657 \r\nQ 3669 2231 3669 1497 \r\nQ 3669 778 3244 343 \r\nQ 2819 -91 2113 -91 \r\nQ 1303 -91 875 529 \r\nQ 447 1150 447 2328 \r\nQ 447 3434 972 4092 \r\nQ 1497 4750 2381 4750 \r\nQ 2619 4750 2861 4703 \r\nQ 3103 4656 3366 4563 \r\nz\r\n\" id=\"DejaVuSans-36\" transform=\"scale(0.015625)\"/>\r\n       </defs>\r\n       <use xlink:href=\"#DejaVuSans-36\"/>\r\n       <use x=\"63.623047\" xlink:href=\"#DejaVuSans-30\"/>\r\n      </g>\r\n     </g>\r\n    </g>\r\n    <g id=\"xtick_8\">\r\n     <g id=\"line2d_8\">\r\n      <g>\r\n       <use style=\"stroke:#000000;stroke-width:0.8;\" x=\"440.638598\" xlink:href=\"#mce134341d1\" y=\"348.478125\"/>\r\n      </g>\r\n     </g>\r\n     <g id=\"text_8\">\r\n      <!-- 70 -->\r\n      <g transform=\"translate(434.276098 363.076563)scale(0.1 -0.1)\">\r\n       <defs>\r\n        <path d=\"M 525 4666 \r\nL 3525 4666 \r\nL 3525 4397 \r\nL 1831 0 \r\nL 1172 0 \r\nL 2766 4134 \r\nL 525 4134 \r\nL 525 4666 \r\nz\r\n\" id=\"DejaVuSans-37\" transform=\"scale(0.015625)\"/>\r\n       </defs>\r\n       <use xlink:href=\"#DejaVuSans-37\"/>\r\n       <use x=\"63.623047\" xlink:href=\"#DejaVuSans-30\"/>\r\n      </g>\r\n     </g>\r\n    </g>\r\n   </g>\r\n   <g id=\"matplotlib.axis_2\">\r\n    <g id=\"ytick_1\">\r\n     <g id=\"line2d_9\">\r\n      <defs>\r\n       <path d=\"M 0 0 \r\nL -3.5 0 \r\n\" id=\"m1f181f1ac7\" style=\"stroke:#000000;stroke-width:0.8;\"/>\r\n      </defs>\r\n      <g>\r\n       <use style=\"stroke:#000000;stroke-width:0.8;\" x=\"36.465625\" xlink:href=\"#m1f181f1ac7\" y=\"319.090291\"/>\r\n      </g>\r\n     </g>\r\n     <g id=\"text_9\">\r\n      <!-- 0.10 -->\r\n      <g transform=\"translate(7.2 322.889509)scale(0.1 -0.1)\">\r\n       <defs>\r\n        <path d=\"M 684 794 \r\nL 1344 794 \r\nL 1344 0 \r\nL 684 0 \r\nL 684 794 \r\nz\r\n\" id=\"DejaVuSans-2e\" transform=\"scale(0.015625)\"/>\r\n       </defs>\r\n       <use xlink:href=\"#DejaVuSans-30\"/>\r\n       <use x=\"63.623047\" xlink:href=\"#DejaVuSans-2e\"/>\r\n       <use x=\"95.410156\" xlink:href=\"#DejaVuSans-31\"/>\r\n       <use x=\"159.033203\" xlink:href=\"#DejaVuSans-30\"/>\r\n      </g>\r\n     </g>\r\n    </g>\r\n    <g id=\"ytick_2\">\r\n     <g id=\"line2d_10\">\r\n      <g>\r\n       <use style=\"stroke:#000000;stroke-width:0.8;\" x=\"36.465625\" xlink:href=\"#m1f181f1ac7\" y=\"277.63606\"/>\r\n      </g>\r\n     </g>\r\n     <g id=\"text_10\">\r\n      <!-- 0.15 -->\r\n      <g transform=\"translate(7.2 281.435278)scale(0.1 -0.1)\">\r\n       <use xlink:href=\"#DejaVuSans-30\"/>\r\n       <use x=\"63.623047\" xlink:href=\"#DejaVuSans-2e\"/>\r\n       <use x=\"95.410156\" xlink:href=\"#DejaVuSans-31\"/>\r\n       <use x=\"159.033203\" xlink:href=\"#DejaVuSans-35\"/>\r\n      </g>\r\n     </g>\r\n    </g>\r\n    <g id=\"ytick_3\">\r\n     <g id=\"line2d_11\">\r\n      <g>\r\n       <use style=\"stroke:#000000;stroke-width:0.8;\" x=\"36.465625\" xlink:href=\"#m1f181f1ac7\" y=\"236.181829\"/>\r\n      </g>\r\n     </g>\r\n     <g id=\"text_11\">\r\n      <!-- 0.20 -->\r\n      <g transform=\"translate(7.2 239.981047)scale(0.1 -0.1)\">\r\n       <use xlink:href=\"#DejaVuSans-30\"/>\r\n       <use x=\"63.623047\" xlink:href=\"#DejaVuSans-2e\"/>\r\n       <use x=\"95.410156\" xlink:href=\"#DejaVuSans-32\"/>\r\n       <use x=\"159.033203\" xlink:href=\"#DejaVuSans-30\"/>\r\n      </g>\r\n     </g>\r\n    </g>\r\n    <g id=\"ytick_4\">\r\n     <g id=\"line2d_12\">\r\n      <g>\r\n       <use style=\"stroke:#000000;stroke-width:0.8;\" x=\"36.465625\" xlink:href=\"#m1f181f1ac7\" y=\"194.727597\"/>\r\n      </g>\r\n     </g>\r\n     <g id=\"text_12\">\r\n      <!-- 0.25 -->\r\n      <g transform=\"translate(7.2 198.526816)scale(0.1 -0.1)\">\r\n       <use xlink:href=\"#DejaVuSans-30\"/>\r\n       <use x=\"63.623047\" xlink:href=\"#DejaVuSans-2e\"/>\r\n       <use x=\"95.410156\" xlink:href=\"#DejaVuSans-32\"/>\r\n       <use x=\"159.033203\" xlink:href=\"#DejaVuSans-35\"/>\r\n      </g>\r\n     </g>\r\n    </g>\r\n    <g id=\"ytick_5\">\r\n     <g id=\"line2d_13\">\r\n      <g>\r\n       <use style=\"stroke:#000000;stroke-width:0.8;\" x=\"36.465625\" xlink:href=\"#m1f181f1ac7\" y=\"153.273366\"/>\r\n      </g>\r\n     </g>\r\n     <g id=\"text_13\">\r\n      <!-- 0.30 -->\r\n      <g transform=\"translate(7.2 157.072585)scale(0.1 -0.1)\">\r\n       <use xlink:href=\"#DejaVuSans-30\"/>\r\n       <use x=\"63.623047\" xlink:href=\"#DejaVuSans-2e\"/>\r\n       <use x=\"95.410156\" xlink:href=\"#DejaVuSans-33\"/>\r\n       <use x=\"159.033203\" xlink:href=\"#DejaVuSans-30\"/>\r\n      </g>\r\n     </g>\r\n    </g>\r\n    <g id=\"ytick_6\">\r\n     <g id=\"line2d_14\">\r\n      <g>\r\n       <use style=\"stroke:#000000;stroke-width:0.8;\" x=\"36.465625\" xlink:href=\"#m1f181f1ac7\" y=\"111.819135\"/>\r\n      </g>\r\n     </g>\r\n     <g id=\"text_14\">\r\n      <!-- 0.35 -->\r\n      <g transform=\"translate(7.2 115.618354)scale(0.1 -0.1)\">\r\n       <use xlink:href=\"#DejaVuSans-30\"/>\r\n       <use x=\"63.623047\" xlink:href=\"#DejaVuSans-2e\"/>\r\n       <use x=\"95.410156\" xlink:href=\"#DejaVuSans-33\"/>\r\n       <use x=\"159.033203\" xlink:href=\"#DejaVuSans-35\"/>\r\n      </g>\r\n     </g>\r\n    </g>\r\n    <g id=\"ytick_7\">\r\n     <g id=\"line2d_15\">\r\n      <g>\r\n       <use style=\"stroke:#000000;stroke-width:0.8;\" x=\"36.465625\" xlink:href=\"#m1f181f1ac7\" y=\"70.364904\"/>\r\n      </g>\r\n     </g>\r\n     <g id=\"text_15\">\r\n      <!-- 0.40 -->\r\n      <g transform=\"translate(7.2 74.164123)scale(0.1 -0.1)\">\r\n       <use xlink:href=\"#DejaVuSans-30\"/>\r\n       <use x=\"63.623047\" xlink:href=\"#DejaVuSans-2e\"/>\r\n       <use x=\"95.410156\" xlink:href=\"#DejaVuSans-34\"/>\r\n       <use x=\"159.033203\" xlink:href=\"#DejaVuSans-30\"/>\r\n      </g>\r\n     </g>\r\n    </g>\r\n    <g id=\"ytick_8\">\r\n     <g id=\"line2d_16\">\r\n      <g>\r\n       <use style=\"stroke:#000000;stroke-width:0.8;\" x=\"36.465625\" xlink:href=\"#m1f181f1ac7\" y=\"28.910673\"/>\r\n      </g>\r\n     </g>\r\n     <g id=\"text_16\">\r\n      <!-- 0.45 -->\r\n      <g transform=\"translate(7.2 32.709892)scale(0.1 -0.1)\">\r\n       <use xlink:href=\"#DejaVuSans-30\"/>\r\n       <use x=\"63.623047\" xlink:href=\"#DejaVuSans-2e\"/>\r\n       <use x=\"95.410156\" xlink:href=\"#DejaVuSans-34\"/>\r\n       <use x=\"159.033203\" xlink:href=\"#DejaVuSans-35\"/>\r\n      </g>\r\n     </g>\r\n    </g>\r\n   </g>\r\n   <g id=\"line2d_17\">\r\n    <path clip-path=\"url(#pa8192b88a3)\" d=\"M 56.756534 37.14358 \r\nL 62.240564 177.014537 \r\nL 67.724593 217.755772 \r\nL 73.208623 237.445612 \r\nL 78.692652 251.319085 \r\nL 84.176682 261.391812 \r\nL 89.660711 269.002162 \r\nL 95.14474 275.040905 \r\nL 100.62877 280.585761 \r\nL 106.112799 284.793186 \r\nL 111.596829 287.748439 \r\nL 117.080858 291.351862 \r\nL 122.564888 294.197915 \r\nL 128.048917 296.431638 \r\nL 133.532947 299.05524 \r\nL 139.016976 301.184952 \r\nL 144.501006 302.320327 \r\nL 149.985035 304.048981 \r\nL 155.469065 305.549463 \r\nL 160.953094 307.308854 \r\nL 166.437124 308.502319 \r\nL 171.921153 309.415928 \r\nL 177.405183 310.993377 \r\nL 182.889212 311.674131 \r\nL 188.373242 312.900254 \r\nL 193.857271 313.555806 \r\nL 199.341301 314.757783 \r\nL 204.82533 315.990281 \r\nL 210.30936 316.471259 \r\nL 215.793389 316.90754 \r\nL 221.277419 318.204466 \r\nL 226.761448 318.43097 \r\nL 232.245478 319.352788 \r\nL 237.729507 320.004719 \r\nL 243.213537 320.71114 \r\nL 248.697566 320.783746 \r\nL 254.181596 321.361607 \r\nL 259.665625 322.198143 \r\nL 265.149654 322.476177 \r\nL 270.633684 323.1628 \r\nL 276.117713 323.385801 \r\nL 281.601743 324.273256 \r\nL 287.085772 324.651737 \r\nL 292.569802 324.856503 \r\nL 298.053831 325.396505 \r\nL 303.537861 325.858828 \r\nL 309.02189 326.212162 \r\nL 314.50592 326.550627 \r\nL 319.989949 326.729758 \r\nL 325.473979 327.102519 \r\nL 330.958008 327.330401 \r\nL 336.442038 327.986953 \r\nL 341.926067 328.399736 \r\nL 347.410097 328.649478 \r\nL 352.894126 329.033556 \r\nL 358.378156 328.718224 \r\nL 363.862185 329.304023 \r\nL 369.346215 329.363787 \r\nL 374.830244 329.938973 \r\nL 380.314274 330.19989 \r\nL 385.798303 330.547739 \r\nL 391.282333 330.50183 \r\nL 396.766362 331.158604 \r\nL 402.250392 330.942157 \r\nL 407.734421 331.430301 \r\nL 413.218451 331.574883 \r\nL 418.70248 331.62052 \r\nL 424.18651 331.893223 \r\nL 429.670539 332.301954 \r\nL 435.154568 332.185341 \r\nL 440.638598 332.589087 \r\nL 446.122627 332.75613 \r\nL 451.606657 333.195523 \r\nL 457.090686 333.173656 \r\nL 462.574716 333.65267 \r\n\" style=\"fill:none;stroke:#0000ff;stroke-linecap:square;stroke-width:1.5;\"/>\r\n   </g>\r\n   <g id=\"line2d_18\">\r\n    <path clip-path=\"url(#pa8192b88a3)\" d=\"M 56.756534 38.203086 \r\nL 62.240564 95.552153 \r\nL 67.724593 141.495856 \r\nL 73.208623 173.278984 \r\nL 78.692652 177.338516 \r\nL 84.176682 191.617149 \r\nL 89.660711 188.340709 \r\nL 95.14474 213.638954 \r\nL 100.62877 194.610306 \r\nL 106.112799 213.446881 \r\nL 111.596829 221.935883 \r\nL 117.080858 224.721325 \r\nL 122.564888 219.373151 \r\nL 128.048917 229.940965 \r\nL 133.532947 234.116047 \r\nL 139.016976 211.781506 \r\nL 144.501006 228.543197 \r\nL 149.985035 233.84188 \r\nL 155.469065 231.849387 \r\nL 160.953094 236.070575 \r\nL 166.437124 241.20523 \r\nL 171.921153 248.920184 \r\nL 177.405183 237.892134 \r\nL 182.889212 239.619849 \r\nL 188.373242 246.801677 \r\nL 193.857271 248.147619 \r\nL 199.341301 254.40958 \r\nL 204.82533 258.251343 \r\nL 210.30936 259.75925 \r\nL 215.793389 254.977657 \r\nL 221.277419 255.846796 \r\nL 226.761448 260.01176 \r\nL 232.245478 254.78614 \r\nL 237.729507 259.87522 \r\nL 243.213537 249.917536 \r\nL 248.697566 258.019625 \r\nL 254.181596 264.895362 \r\nL 259.665625 263.962178 \r\nL 265.149654 268.760054 \r\nL 270.633684 267.988625 \r\nL 276.117713 263.473219 \r\nL 281.601743 263.422319 \r\nL 287.085772 269.334023 \r\nL 292.569802 263.069121 \r\nL 298.053831 268.59689 \r\nL 303.537861 270.028126 \r\nL 309.02189 270.96645 \r\nL 314.50592 272.591809 \r\nL 319.989949 272.189849 \r\nL 325.473979 269.57492 \r\nL 330.958008 271.520072 \r\nL 336.442038 272.238179 \r\nL 341.926067 274.444204 \r\nL 347.410097 276.239176 \r\nL 352.894126 269.650504 \r\nL 358.378156 266.430411 \r\nL 363.862185 270.781789 \r\nL 369.346215 267.019886 \r\nL 374.830244 277.913261 \r\nL 380.314274 276.626262 \r\nL 385.798303 267.133953 \r\nL 391.282333 273.536384 \r\nL 396.766362 270.173043 \r\nL 402.250392 269.522414 \r\nL 407.734421 279.073456 \r\nL 413.218451 272.909785 \r\nL 418.70248 269.264382 \r\nL 424.18651 275.175197 \r\nL 429.670539 273.570902 \r\nL 435.154568 276.173513 \r\nL 440.638598 273.955862 \r\nL 446.122627 276.953898 \r\nL 451.606657 275.317432 \r\nL 457.090686 277.63771 \r\nL 462.574716 275.660759 \r\n\" style=\"fill:none;stroke:#ff0000;stroke-linecap:square;stroke-width:1.5;\"/>\r\n   </g>\r\n   <g id=\"patch_3\">\r\n    <path d=\"M 36.465625 348.478125 \r\nL 36.465625 22.318125 \r\n\" style=\"fill:none;stroke:#000000;stroke-linecap:square;stroke-linejoin:miter;stroke-width:0.8;\"/>\r\n   </g>\r\n   <g id=\"patch_4\">\r\n    <path d=\"M 482.865625 348.478125 \r\nL 482.865625 22.318125 \r\n\" style=\"fill:none;stroke:#000000;stroke-linecap:square;stroke-linejoin:miter;stroke-width:0.8;\"/>\r\n   </g>\r\n   <g id=\"patch_5\">\r\n    <path d=\"M 36.465625 348.478125 \r\nL 482.865625 348.478125 \r\n\" style=\"fill:none;stroke:#000000;stroke-linecap:square;stroke-linejoin:miter;stroke-width:0.8;\"/>\r\n   </g>\r\n   <g id=\"patch_6\">\r\n    <path d=\"M 36.465625 22.318125 \r\nL 482.865625 22.318125 \r\n\" style=\"fill:none;stroke:#000000;stroke-linecap:square;stroke-linejoin:miter;stroke-width:0.8;\"/>\r\n   </g>\r\n   <g id=\"text_17\">\r\n    <!-- Training and validation loss -->\r\n    <g transform=\"translate(177.855625 16.318125)scale(0.12 -0.12)\">\r\n     <defs>\r\n      <path d=\"M -19 4666 \r\nL 3928 4666 \r\nL 3928 4134 \r\nL 2272 4134 \r\nL 2272 0 \r\nL 1638 0 \r\nL 1638 4134 \r\nL -19 4134 \r\nL -19 4666 \r\nz\r\n\" id=\"DejaVuSans-54\" transform=\"scale(0.015625)\"/>\r\n      <path d=\"M 2631 2963 \r\nQ 2534 3019 2420 3045 \r\nQ 2306 3072 2169 3072 \r\nQ 1681 3072 1420 2755 \r\nQ 1159 2438 1159 1844 \r\nL 1159 0 \r\nL 581 0 \r\nL 581 3500 \r\nL 1159 3500 \r\nL 1159 2956 \r\nQ 1341 3275 1631 3429 \r\nQ 1922 3584 2338 3584 \r\nQ 2397 3584 2469 3576 \r\nQ 2541 3569 2628 3553 \r\nL 2631 2963 \r\nz\r\n\" id=\"DejaVuSans-72\" transform=\"scale(0.015625)\"/>\r\n      <path d=\"M 2194 1759 \r\nQ 1497 1759 1228 1600 \r\nQ 959 1441 959 1056 \r\nQ 959 750 1161 570 \r\nQ 1363 391 1709 391 \r\nQ 2188 391 2477 730 \r\nQ 2766 1069 2766 1631 \r\nL 2766 1759 \r\nL 2194 1759 \r\nz\r\nM 3341 1997 \r\nL 3341 0 \r\nL 2766 0 \r\nL 2766 531 \r\nQ 2569 213 2275 61 \r\nQ 1981 -91 1556 -91 \r\nQ 1019 -91 701 211 \r\nQ 384 513 384 1019 \r\nQ 384 1609 779 1909 \r\nQ 1175 2209 1959 2209 \r\nL 2766 2209 \r\nL 2766 2266 \r\nQ 2766 2663 2505 2880 \r\nQ 2244 3097 1772 3097 \r\nQ 1472 3097 1187 3025 \r\nQ 903 2953 641 2809 \r\nL 641 3341 \r\nQ 956 3463 1253 3523 \r\nQ 1550 3584 1831 3584 \r\nQ 2591 3584 2966 3190 \r\nQ 3341 2797 3341 1997 \r\nz\r\n\" id=\"DejaVuSans-61\" transform=\"scale(0.015625)\"/>\r\n      <path d=\"M 603 3500 \r\nL 1178 3500 \r\nL 1178 0 \r\nL 603 0 \r\nL 603 3500 \r\nz\r\nM 603 4863 \r\nL 1178 4863 \r\nL 1178 4134 \r\nL 603 4134 \r\nL 603 4863 \r\nz\r\n\" id=\"DejaVuSans-69\" transform=\"scale(0.015625)\"/>\r\n      <path d=\"M 3513 2113 \r\nL 3513 0 \r\nL 2938 0 \r\nL 2938 2094 \r\nQ 2938 2591 2744 2837 \r\nQ 2550 3084 2163 3084 \r\nQ 1697 3084 1428 2787 \r\nQ 1159 2491 1159 1978 \r\nL 1159 0 \r\nL 581 0 \r\nL 581 3500 \r\nL 1159 3500 \r\nL 1159 2956 \r\nQ 1366 3272 1645 3428 \r\nQ 1925 3584 2291 3584 \r\nQ 2894 3584 3203 3211 \r\nQ 3513 2838 3513 2113 \r\nz\r\n\" id=\"DejaVuSans-6e\" transform=\"scale(0.015625)\"/>\r\n      <path d=\"M 2906 1791 \r\nQ 2906 2416 2648 2759 \r\nQ 2391 3103 1925 3103 \r\nQ 1463 3103 1205 2759 \r\nQ 947 2416 947 1791 \r\nQ 947 1169 1205 825 \r\nQ 1463 481 1925 481 \r\nQ 2391 481 2648 825 \r\nQ 2906 1169 2906 1791 \r\nz\r\nM 3481 434 \r\nQ 3481 -459 3084 -895 \r\nQ 2688 -1331 1869 -1331 \r\nQ 1566 -1331 1297 -1286 \r\nQ 1028 -1241 775 -1147 \r\nL 775 -588 \r\nQ 1028 -725 1275 -790 \r\nQ 1522 -856 1778 -856 \r\nQ 2344 -856 2625 -561 \r\nQ 2906 -266 2906 331 \r\nL 2906 616 \r\nQ 2728 306 2450 153 \r\nQ 2172 0 1784 0 \r\nQ 1141 0 747 490 \r\nQ 353 981 353 1791 \r\nQ 353 2603 747 3093 \r\nQ 1141 3584 1784 3584 \r\nQ 2172 3584 2450 3431 \r\nQ 2728 3278 2906 2969 \r\nL 2906 3500 \r\nL 3481 3500 \r\nL 3481 434 \r\nz\r\n\" id=\"DejaVuSans-67\" transform=\"scale(0.015625)\"/>\r\n      <path id=\"DejaVuSans-20\" transform=\"scale(0.015625)\"/>\r\n      <path d=\"M 2906 2969 \r\nL 2906 4863 \r\nL 3481 4863 \r\nL 3481 0 \r\nL 2906 0 \r\nL 2906 525 \r\nQ 2725 213 2448 61 \r\nQ 2172 -91 1784 -91 \r\nQ 1150 -91 751 415 \r\nQ 353 922 353 1747 \r\nQ 353 2572 751 3078 \r\nQ 1150 3584 1784 3584 \r\nQ 2172 3584 2448 3432 \r\nQ 2725 3281 2906 2969 \r\nz\r\nM 947 1747 \r\nQ 947 1113 1208 752 \r\nQ 1469 391 1925 391 \r\nQ 2381 391 2643 752 \r\nQ 2906 1113 2906 1747 \r\nQ 2906 2381 2643 2742 \r\nQ 2381 3103 1925 3103 \r\nQ 1469 3103 1208 2742 \r\nQ 947 2381 947 1747 \r\nz\r\n\" id=\"DejaVuSans-64\" transform=\"scale(0.015625)\"/>\r\n      <path d=\"M 191 3500 \r\nL 800 3500 \r\nL 1894 563 \r\nL 2988 3500 \r\nL 3597 3500 \r\nL 2284 0 \r\nL 1503 0 \r\nL 191 3500 \r\nz\r\n\" id=\"DejaVuSans-76\" transform=\"scale(0.015625)\"/>\r\n      <path d=\"M 603 4863 \r\nL 1178 4863 \r\nL 1178 0 \r\nL 603 0 \r\nL 603 4863 \r\nz\r\n\" id=\"DejaVuSans-6c\" transform=\"scale(0.015625)\"/>\r\n      <path d=\"M 1172 4494 \r\nL 1172 3500 \r\nL 2356 3500 \r\nL 2356 3053 \r\nL 1172 3053 \r\nL 1172 1153 \r\nQ 1172 725 1289 603 \r\nQ 1406 481 1766 481 \r\nL 2356 481 \r\nL 2356 0 \r\nL 1766 0 \r\nQ 1100 0 847 248 \r\nQ 594 497 594 1153 \r\nL 594 3053 \r\nL 172 3053 \r\nL 172 3500 \r\nL 594 3500 \r\nL 594 4494 \r\nL 1172 4494 \r\nz\r\n\" id=\"DejaVuSans-74\" transform=\"scale(0.015625)\"/>\r\n      <path d=\"M 1959 3097 \r\nQ 1497 3097 1228 2736 \r\nQ 959 2375 959 1747 \r\nQ 959 1119 1226 758 \r\nQ 1494 397 1959 397 \r\nQ 2419 397 2687 759 \r\nQ 2956 1122 2956 1747 \r\nQ 2956 2369 2687 2733 \r\nQ 2419 3097 1959 3097 \r\nz\r\nM 1959 3584 \r\nQ 2709 3584 3137 3096 \r\nQ 3566 2609 3566 1747 \r\nQ 3566 888 3137 398 \r\nQ 2709 -91 1959 -91 \r\nQ 1206 -91 779 398 \r\nQ 353 888 353 1747 \r\nQ 353 2609 779 3096 \r\nQ 1206 3584 1959 3584 \r\nz\r\n\" id=\"DejaVuSans-6f\" transform=\"scale(0.015625)\"/>\r\n      <path d=\"M 2834 3397 \r\nL 2834 2853 \r\nQ 2591 2978 2328 3040 \r\nQ 2066 3103 1784 3103 \r\nQ 1356 3103 1142 2972 \r\nQ 928 2841 928 2578 \r\nQ 928 2378 1081 2264 \r\nQ 1234 2150 1697 2047 \r\nL 1894 2003 \r\nQ 2506 1872 2764 1633 \r\nQ 3022 1394 3022 966 \r\nQ 3022 478 2636 193 \r\nQ 2250 -91 1575 -91 \r\nQ 1294 -91 989 -36 \r\nQ 684 19 347 128 \r\nL 347 722 \r\nQ 666 556 975 473 \r\nQ 1284 391 1588 391 \r\nQ 1994 391 2212 530 \r\nQ 2431 669 2431 922 \r\nQ 2431 1156 2273 1281 \r\nQ 2116 1406 1581 1522 \r\nL 1381 1569 \r\nQ 847 1681 609 1914 \r\nQ 372 2147 372 2553 \r\nQ 372 3047 722 3315 \r\nQ 1072 3584 1716 3584 \r\nQ 2034 3584 2315 3537 \r\nQ 2597 3491 2834 3397 \r\nz\r\n\" id=\"DejaVuSans-73\" transform=\"scale(0.015625)\"/>\r\n     </defs>\r\n     <use xlink:href=\"#DejaVuSans-54\"/>\r\n     <use x=\"46.333984\" xlink:href=\"#DejaVuSans-72\"/>\r\n     <use x=\"87.447266\" xlink:href=\"#DejaVuSans-61\"/>\r\n     <use x=\"148.726562\" xlink:href=\"#DejaVuSans-69\"/>\r\n     <use x=\"176.509766\" xlink:href=\"#DejaVuSans-6e\"/>\r\n     <use x=\"239.888672\" xlink:href=\"#DejaVuSans-69\"/>\r\n     <use x=\"267.671875\" xlink:href=\"#DejaVuSans-6e\"/>\r\n     <use x=\"331.050781\" xlink:href=\"#DejaVuSans-67\"/>\r\n     <use x=\"394.527344\" xlink:href=\"#DejaVuSans-20\"/>\r\n     <use x=\"426.314453\" xlink:href=\"#DejaVuSans-61\"/>\r\n     <use x=\"487.59375\" xlink:href=\"#DejaVuSans-6e\"/>\r\n     <use x=\"550.972656\" xlink:href=\"#DejaVuSans-64\"/>\r\n     <use x=\"614.449219\" xlink:href=\"#DejaVuSans-20\"/>\r\n     <use x=\"646.236328\" xlink:href=\"#DejaVuSans-76\"/>\r\n     <use x=\"705.416016\" xlink:href=\"#DejaVuSans-61\"/>\r\n     <use x=\"766.695312\" xlink:href=\"#DejaVuSans-6c\"/>\r\n     <use x=\"794.478516\" xlink:href=\"#DejaVuSans-69\"/>\r\n     <use x=\"822.261719\" xlink:href=\"#DejaVuSans-64\"/>\r\n     <use x=\"885.738281\" xlink:href=\"#DejaVuSans-61\"/>\r\n     <use x=\"947.017578\" xlink:href=\"#DejaVuSans-74\"/>\r\n     <use x=\"986.226562\" xlink:href=\"#DejaVuSans-69\"/>\r\n     <use x=\"1014.009766\" xlink:href=\"#DejaVuSans-6f\"/>\r\n     <use x=\"1075.191406\" xlink:href=\"#DejaVuSans-6e\"/>\r\n     <use x=\"1138.570312\" xlink:href=\"#DejaVuSans-20\"/>\r\n     <use x=\"1170.357422\" xlink:href=\"#DejaVuSans-6c\"/>\r\n     <use x=\"1198.140625\" xlink:href=\"#DejaVuSans-6f\"/>\r\n     <use x=\"1259.322266\" xlink:href=\"#DejaVuSans-73\"/>\r\n     <use x=\"1311.421875\" xlink:href=\"#DejaVuSans-73\"/>\r\n    </g>\r\n   </g>\r\n   <g id=\"legend_1\">\r\n    <g id=\"patch_7\">\r\n     <path d=\"M 371.990625 59.674375 \r\nL 475.865625 59.674375 \r\nQ 477.865625 59.674375 477.865625 57.674375 \r\nL 477.865625 29.318125 \r\nQ 477.865625 27.318125 475.865625 27.318125 \r\nL 371.990625 27.318125 \r\nQ 369.990625 27.318125 369.990625 29.318125 \r\nL 369.990625 57.674375 \r\nQ 369.990625 59.674375 371.990625 59.674375 \r\nz\r\n\" style=\"fill:#ffffff;opacity:0.8;stroke:#cccccc;stroke-linejoin:miter;\"/>\r\n    </g>\r\n    <g id=\"line2d_19\">\r\n     <path d=\"M 373.990625 35.416562 \r\nL 393.990625 35.416562 \r\n\" style=\"fill:none;stroke:#0000ff;stroke-linecap:square;stroke-width:1.5;\"/>\r\n    </g>\r\n    <g id=\"line2d_20\"/>\r\n    <g id=\"text_18\">\r\n     <!-- Training loss -->\r\n     <g transform=\"translate(401.990625 38.916562)scale(0.1 -0.1)\">\r\n      <use xlink:href=\"#DejaVuSans-54\"/>\r\n      <use x=\"46.333984\" xlink:href=\"#DejaVuSans-72\"/>\r\n      <use x=\"87.447266\" xlink:href=\"#DejaVuSans-61\"/>\r\n      <use x=\"148.726562\" xlink:href=\"#DejaVuSans-69\"/>\r\n      <use x=\"176.509766\" xlink:href=\"#DejaVuSans-6e\"/>\r\n      <use x=\"239.888672\" xlink:href=\"#DejaVuSans-69\"/>\r\n      <use x=\"267.671875\" xlink:href=\"#DejaVuSans-6e\"/>\r\n      <use x=\"331.050781\" xlink:href=\"#DejaVuSans-67\"/>\r\n      <use x=\"394.527344\" xlink:href=\"#DejaVuSans-20\"/>\r\n      <use x=\"426.314453\" xlink:href=\"#DejaVuSans-6c\"/>\r\n      <use x=\"454.097656\" xlink:href=\"#DejaVuSans-6f\"/>\r\n      <use x=\"515.279297\" xlink:href=\"#DejaVuSans-73\"/>\r\n      <use x=\"567.378906\" xlink:href=\"#DejaVuSans-73\"/>\r\n     </g>\r\n    </g>\r\n    <g id=\"line2d_21\">\r\n     <path d=\"M 373.990625 50.094688 \r\nL 393.990625 50.094688 \r\n\" style=\"fill:none;stroke:#ff0000;stroke-linecap:square;stroke-width:1.5;\"/>\r\n    </g>\r\n    <g id=\"line2d_22\"/>\r\n    <g id=\"text_19\">\r\n     <!-- Validation loss -->\r\n     <g transform=\"translate(401.990625 53.594688)scale(0.1 -0.1)\">\r\n      <defs>\r\n       <path d=\"M 1831 0 \r\nL 50 4666 \r\nL 709 4666 \r\nL 2188 738 \r\nL 3669 4666 \r\nL 4325 4666 \r\nL 2547 0 \r\nL 1831 0 \r\nz\r\n\" id=\"DejaVuSans-56\" transform=\"scale(0.015625)\"/>\r\n      </defs>\r\n      <use xlink:href=\"#DejaVuSans-56\"/>\r\n      <use x=\"60.658203\" xlink:href=\"#DejaVuSans-61\"/>\r\n      <use x=\"121.9375\" xlink:href=\"#DejaVuSans-6c\"/>\r\n      <use x=\"149.720703\" xlink:href=\"#DejaVuSans-69\"/>\r\n      <use x=\"177.503906\" xlink:href=\"#DejaVuSans-64\"/>\r\n      <use x=\"240.980469\" xlink:href=\"#DejaVuSans-61\"/>\r\n      <use x=\"302.259766\" xlink:href=\"#DejaVuSans-74\"/>\r\n      <use x=\"341.46875\" xlink:href=\"#DejaVuSans-69\"/>\r\n      <use x=\"369.251953\" xlink:href=\"#DejaVuSans-6f\"/>\r\n      <use x=\"430.433594\" xlink:href=\"#DejaVuSans-6e\"/>\r\n      <use x=\"493.8125\" xlink:href=\"#DejaVuSans-20\"/>\r\n      <use x=\"525.599609\" xlink:href=\"#DejaVuSans-6c\"/>\r\n      <use x=\"553.382812\" xlink:href=\"#DejaVuSans-6f\"/>\r\n      <use x=\"614.564453\" xlink:href=\"#DejaVuSans-73\"/>\r\n      <use x=\"666.664062\" xlink:href=\"#DejaVuSans-73\"/>\r\n     </g>\r\n    </g>\r\n   </g>\r\n  </g>\r\n </g>\r\n <defs>\r\n  <clipPath id=\"pa8192b88a3\">\r\n   <rect height=\"326.16\" width=\"446.4\" x=\"36.465625\" y=\"22.318125\"/>\r\n  </clipPath>\r\n </defs>\r\n</svg>\r\n",
      "image/png": "[encoded data removed]"
     },
     "metadata": {
      "needs_background": "light"
     }
    },
    {
     "output_type": "stream",
     "name": "stdout",
     "text": [
      "INFO:tensorflow:Assets written to: C:\\Users\\angel\\AppData\\Local\\Temp\\tmpfrapuhc3\\model\\data\\model\\assets\n"
     ]
    }
   ],
   "source": [
    "import time\n",
    "from tensorflow.keras.layers import Conv1D, Dropout, MaxPool1D, Flatten, Dense\n",
    "\n",
    "model_name = 'scoring_cnn'\n",
    "\n",
    "layers = [\n",
    "    Conv1D(filters=filters, kernel_size=kernel_size, padding='same', activation=activation, kernel_initializer=kernel_initializer),\n",
    "    MaxPool1D(pool_size=pool_size, padding='same'),\n",
    "    Flatten(), \n",
    "    Dense(dense_units, activation=activation, kernel_initializer=kernel_initializer),\n",
    "    Dense(n_outputs)\n",
    "]\n",
    "\n",
    "with mlflow.start_run(run_name=model_name) as run:\n",
    "\n",
    "    model = create_model(layers=layers, optimizer=opt)\n",
    "\n",
    "    history = model.fit(X_train, \n",
    "                        y_train, \n",
    "                        epochs=epochs, \n",
    "                        batch_size=batch_size, \n",
    "                        validation_split=0.2, \n",
    "                        shuffle=True, \n",
    "                        verbose=verbose, \n",
    "                        callbacks=[early_stopping])\n",
    "\n",
    "    # Plot training history\n",
    "    plot_train_history(history, 'Training and validation loss')\n",
    "    plt.savefig(\"training_history.jpg\")\n",
    "    mlflow.log_artifact(\"training_history.jpg\")\n",
    "    plt.show()\n",
    "\n",
    "    # Log model parameters\n",
    "    mlflow.log_param(\"activation\", activation)\n",
    "    mlflow.log_param(\"kernel_initializer\", kernel_initializer)\n",
    "    mlflow.log_param(\"output activation\", output_activation)\n",
    "    mlflow.log_param(\"optimizer\", optimizer)\n",
    "    mlflow.log_param(\"learning rate\", learning_rate)\n",
    "    mlflow.log_param(\"batch size\", batch_size)\n",
    "    mlflow.log_param(\"epochs\", early_stopping.stopped_epoch)\n",
    "    mlflow.log_param(\"filters\", filters)\n",
    "    mlflow.log_param(\"kernel_size\", kernel_size)\n",
    "    mlflow.log_param(\"pool size\", pool_size)\n",
    "    mlflow.log_param(\"total params\", model.count_params())\n",
    "    mlflow.log_param(\"units\", dense_units)\n",
    "\n",
    "    # Log model prediction time\n",
    "    predictions = None\n",
    "    times = []\n",
    "    for i in range(10):\n",
    "        start_time = time.time()\n",
    "        predictions = model.predict(X_test)\n",
    "        end_time = time.time()\n",
    "        process_time = (end_time - start_time) * 1000\n",
    "        times.append(process_time)\n",
    "    process_time = sum(times) / len(times)\n",
    "\n",
    "    # Log model performance\n",
    "    predictions = y_scaler.inverse_transform(predictions)\n",
    "    (mse, mae, r2, variance) = eval_metrics(y_test, predictions)\n",
    "    mlflow.log_metric(\"mse\", mse)\n",
    "    mlflow.log_metric(\"mae\", mae)\n",
    "    mlflow.log_metric(\"R-squared\", r2)\n",
    "    mlflow.log_metric(\"variance\", variance)\n",
    "    mlflow.log_metric(\"process time\", process_time)\n",
    "\n",
    "    # Log model and scaler(s)\n",
    "    mlflow.keras.log_model(model, model_name, signature=signature)\n",
    "    mlflow.sklearn.log_model(X_scaler, 'InputScaler')\n",
    "    mlflow.sklearn.log_model(y_scaler, 'OutputScaler')"
   ]
  },
  {
   "cell_type": "code",
   "execution_count": 19,
   "metadata": {},
   "outputs": [
    {
     "output_type": "stream",
     "name": "stdout",
     "text": [
      "3499/3499 [==============================] - 4s 1ms/step\n"
     ]
    }
   ],
   "source": [
    "predictions = model.predict(X_test, batch_size=batch_size, verbose=1)\n",
    "# Invert transform on predictions\n",
    "predictions = y_scaler.inverse_transform(predictions)"
   ]
  },
  {
   "cell_type": "code",
   "execution_count": 20,
   "metadata": {},
   "outputs": [
    {
     "output_type": "stream",
     "name": "stdout",
     "text": [
      "MSE:  0.1870154469228752\nMSA:  0.30161729182757785\nR-Squared:  0.9030141309914399\nExplained Variance Score:  0.9038035187777401\n"
     ]
    }
   ],
   "source": [
    "(mse, msa, r2, variance) = eval_metrics(y_test, predictions)\n",
    "\n",
    "print('MSE: ', mse)\n",
    "print('MSA: ', msa)\n",
    "print('R-Squared: ', r2)\n",
    "print('Explained Variance Score: ', variance)"
   ]
  }
 ]
}