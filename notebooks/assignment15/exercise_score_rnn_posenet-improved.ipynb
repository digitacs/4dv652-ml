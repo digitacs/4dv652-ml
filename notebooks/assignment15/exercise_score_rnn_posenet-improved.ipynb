{
 "cells": [
  {
   "cell_type": "markdown",
   "id": "intermediate-client",
   "metadata": {},
   "source": [
    "# RNN"
   ]
  },
  {
   "cell_type": "code",
   "execution_count": 1,
   "id": "secret-combining",
   "metadata": {},
   "outputs": [
    {
     "name": "stdout",
     "output_type": "stream",
     "text": [
      "INFO:tensorflow:Enabling eager execution\n",
      "INFO:tensorflow:Enabling v2 tensorshape\n",
      "INFO:tensorflow:Enabling resource variables\n",
      "INFO:tensorflow:Enabling tensor equality\n",
      "INFO:tensorflow:Enabling control flow v2\n",
      "Num GPUs Available:  0\n"
     ]
    }
   ],
   "source": [
    "# General requirements\n",
    "import os\n",
    "import pandas as pd\n",
    "import numpy as np\n",
    "\n",
    "# MLflow dashboard\n",
    "import mlflow\n",
    "mlflow.set_tracking_uri('http://35.228.45.76:5000')\n",
    "os.environ['GOOGLE_APPLICATION_CREDENTIALS']='../../keys/mlflow-312506-8cfad529f4fd.json'\n",
    "\n",
    "# Ignore warnings\n",
    "import warnings\n",
    "warnings.simplefilter('ignore')\n",
    "\n",
    "# Import data augmentation\n",
    "import sys\n",
    "module_path = os.path.abspath(os.path.join('../..'))\n",
    "if module_path not in sys.path:\n",
    "    sys.path.append(module_path)\n",
    "from augmentation.methods import *\n",
    "\n",
    "# Set random state\n",
    "import numpy as np\n",
    "random_state = 47\n",
    "np.random.seed(random_state)\n",
    "\n",
    "# Use GPU (if available)\n",
    "import tensorflow as tf\n",
    "physical_devices = tf.config.experimental.list_physical_devices( 'GPU' )\n",
    "print( 'Num GPUs Available: ', len( physical_devices ) )\n",
    "if len( physical_devices ) > 0:\n",
    "    tf.config.experimental.set_memory_growth( physical_devices[0], True )"
   ]
  },
  {
   "cell_type": "markdown",
   "id": "crucial-parent",
   "metadata": {},
   "source": [
    "# 1. Data Preparation\n",
    "\n",
    "## 1.1 Load Dataset"
   ]
  },
  {
   "cell_type": "code",
   "execution_count": 2,
   "id": "conventional-chance",
   "metadata": {},
   "outputs": [],
   "source": [
    "posenet_dataset_path = '../../datasets/posenet-uncut/'\n",
    "kinect_dataset_path = '../../datasets/kinect_fixed_not_cut/'\n",
    "cut_dataset_path = '../../datasets/new_posenet_marked_start_end/'\n",
    "goodness_score = pd.read_csv('../../datasets/VideoScoring.csv')\n",
    "exrecise_score = pd.read_csv('../../datasets/ExerciseScoring.csv')\n",
    "\n",
    "train_test_ratio = 0.9\n",
    "new_label = 'ExreciseScore'\n",
    "exersice_score_indicator = 'O_Score'\n",
    "goodness_score_indicator = 'AVG'\n",
    "goodness_score_threshold = 3"
   ]
  },
  {
   "cell_type": "code",
   "execution_count": 3,
   "id": "surrounded-defense",
   "metadata": {},
   "outputs": [],
   "source": [
    "# Drop video augmentation results\n",
    "goodness_score = goodness_score[goodness_score['FileName'].str.match('U')==False]\n",
    "goodness_score = goodness_score[goodness_score[goodness_score_indicator]>=goodness_score_threshold]\n",
    "\n",
    "posenet_ok = goodness_score['FileName']+'.csv'\n",
    "\n",
    "exrecise_score['Posenet'] = exrecise_score['Posenet'] + '.csv'\n",
    "exrecise_score['Kinect'] = exrecise_score['Kinect'] + '.csv'"
   ]
  },
  {
   "cell_type": "code",
   "execution_count": 4,
   "id": "simplified-segment",
   "metadata": {},
   "outputs": [
    {
     "name": "stdout",
     "output_type": "stream",
     "text": [
      "Total posenet datasets: 157\n",
      "Total kinect datasets: 157\n"
     ]
    }
   ],
   "source": [
    "posenet_files = []\n",
    "kinect_files = []\n",
    "\n",
    "for file in os.listdir(posenet_dataset_path):\n",
    "    if not file.find(\".csv\",0) == -1:\n",
    "        if file in (goodness_score['FileName']+'.csv').to_list():\n",
    "            posenet_files.append(file)\n",
    "        \n",
    "for file in os.listdir(kinect_dataset_path):\n",
    "    if not file.find(\".csv\",0) == -1:\n",
    "        if file in (goodness_score['FileName']+'_kinect.csv').to_list():\n",
    "            kinect_files.append(file)\n",
    "        \n",
    "print('Total posenet datasets: {}'.format(len(posenet_files)))\n",
    "print('Total kinect datasets: {}'.format(len(kinect_files)))"
   ]
  },
  {
   "cell_type": "code",
   "execution_count": 5,
   "id": "unnecessary-debate",
   "metadata": {},
   "outputs": [
    {
     "name": "stdout",
     "output_type": "stream",
     "text": [
      "141 141\n"
     ]
    }
   ],
   "source": [
    "TRAIN_SPLIT_POSENET = int(len(posenet_files)*train_test_ratio)\n",
    "TRAIN_SPLIT_KINECT = int(len(kinect_files)*train_test_ratio)\n",
    "print(TRAIN_SPLIT_POSENET,TRAIN_SPLIT_KINECT)"
   ]
  },
  {
   "cell_type": "markdown",
   "id": "indie-prior",
   "metadata": {},
   "source": [
    "## 1.2 Reshaping the datasets for RNN"
   ]
  },
  {
   "cell_type": "code",
   "execution_count": 6,
   "id": "romance-liability",
   "metadata": {},
   "outputs": [],
   "source": [
    "def data_augmentation(df):\n",
    "    augmented_datasets = []\n",
    "    \n",
    "    # Add original data\n",
    "    augmented_datasets.append(df)\n",
    "    \n",
    "    # Mirror X coordinate\n",
    "    for i in range(len(augmented_datasets)):\n",
    "        augmented_datasets.append(mirror(augmented_datasets[i],'x', append=False))\n",
    "\n",
    "    # Stretch by 50%\n",
    "    for i in range(len(augmented_datasets)):\n",
    "        df_temp = augMultiplier(augmented_datasets[i].drop(columns=[new_label]), multiplier=1.5)\n",
    "        df_temp[new_label] = augmented_datasets[i][new_label]\n",
    "        augmented_datasets.append(df_temp)\n",
    "    \n",
    "\n",
    "    # Compress by 25%\n",
    "    for i in range(len(augmented_datasets)):\n",
    "        df_temp = augMultiplier(augmented_datasets[i].drop(columns=[new_label]), multiplier=0.25)\n",
    "        df_temp[new_label] = augmented_datasets[i][new_label]\n",
    "        augmented_datasets.append(df_temp)\n",
    "   \n",
    "\n",
    "    # Rotate by p/7\n",
    "#     samples = df.sample(5000)\n",
    "#     angle = 3.1415 / 7\n",
    "#     samples_rotated = rotate(samples.drop(columns=[new_label]), angle=angle, posenet=False)\n",
    "#     samples_rotated[new_label] = samples[new_label].append(samples[new_label], ignore_index=True)\n",
    "#     df = df.append(samples_rotated, ignore_index=True)\n",
    "#     print(df.shape)\n",
    "\n",
    "    # Rotate by -p/9\n",
    "#     samples = df.sample(5000)\n",
    "#     angle = 3.1415 / -9\n",
    "#     samples_rotated = rotate(samples.drop(columns=[new_label]), angle=angle, posenet=False)\n",
    "#     samples_rotated[new_label] = samples[new_label].append(samples[new_label], ignore_index=True)\n",
    "#     df = df.append(samples_rotated, ignore_index=True)\n",
    "#     print(df.shape)\n",
    "\n",
    "    return augmented_datasets"
   ]
  },
  {
   "cell_type": "code",
   "execution_count": 7,
   "id": "adopted-nancy",
   "metadata": {},
   "outputs": [],
   "source": [
    "HISTORY_SIZE = 150\n",
    "N_FEATURES = 26\n",
    "\n",
    "def multivariate_data(dataset, target_column, history_columns):\n",
    "\n",
    "    HISTORY_SIZE = 100\n",
    "    F = len(dataset)\n",
    "    step = F / HISTORY_SIZE\n",
    "\n",
    "    # Choose index which should be picked\n",
    "    result = np.round(np.arange(0,HISTORY_SIZE-1) * step)\n",
    "    result = np.append(result,F-1)\n",
    "        \n",
    "    return np.array(dataset[history_columns].iloc[result]).reshape(-1,HISTORY_SIZE,N_FEATURES), np.array(dataset[target_column].mean())"
   ]
  },
  {
   "cell_type": "code",
   "execution_count": 8,
   "id": "hungarian-leader",
   "metadata": {},
   "outputs": [],
   "source": [
    "history_columns = ['head_x', 'head_y', 'left_shoulder_x', 'left_shoulder_y',\n",
    "       'right_shoulder_x', 'right_shoulder_y', 'left_elbow_x', 'left_elbow_y',\n",
    "       'right_elbow_x', 'right_elbow_y', 'left_wrist_x', 'left_wrist_y',\n",
    "       'right_wrist_x', 'right_wrist_y', 'left_hip_x', 'left_hip_y',\n",
    "       'right_hip_x', 'right_hip_y', 'left_knee_x', 'left_knee_y',\n",
    "       'right_knee_x', 'right_knee_y', 'left_ankle_x', 'left_ankle_y',\n",
    "       'right_ankle_x', 'right_ankle_y']\n",
    "target_column = 'ExreciseScore'\n",
    "\n",
    "def read_dataset(path,file_list,split_point,is_posenet=True,isTrain=True):\n",
    "    all_segments = None\n",
    "    all_labels = None\n",
    "    \n",
    "    start=0\n",
    "    end=0\n",
    "    \n",
    "    if isTrain:\n",
    "        start = 0\n",
    "        end = split_point\n",
    "    else:\n",
    "        start = split_point\n",
    "        end = len(file_list)\n",
    "    \n",
    "    for file in file_list[start:end]:\n",
    "        df = pd.read_csv(path+file)\n",
    "        \n",
    "        if is_posenet:  \n",
    "            df = df[df.columns.drop(list(df.filter(regex='_eye_')))]\n",
    "            df = df[df.columns.drop(list(df.filter(regex='_ear_')))]\n",
    "            df = df[df.columns.drop(list(df.filter(regex='score')))]\n",
    "            df = df.rename(columns={'nose_x': 'head_x', 'nose_y': 'head_y'})\n",
    "            df[new_label] = float(exrecise_score[exrecise_score['Posenet'] == file][exersice_score_indicator])\n",
    "        else:  \n",
    "            df = df.drop(columns=['Unnamed: 0','FrameNo'])\n",
    "            df[new_label] = float(exrecise_score[exrecise_score['Kinect'] == file][exersice_score_indicator])\n",
    "            \n",
    "        # Cut start / end\n",
    "        try:\n",
    "            se = pd.read_csv('../../datasets/new_posenet_marked_start_end/'+file)\n",
    "            cut_start = min(se[(se['start']==0) * (se['end']==0)].index)\n",
    "            cut_end = max(se[(se['start']==0) * (se['end']==0)].index)\n",
    "            df = df.iloc[cut_start:cut_end]\n",
    "        except IOError as e:\n",
    "            print('Error in reading file: ', e)\n",
    "            \n",
    "    \n",
    "        if isTrain:\n",
    "            for sets in data_augmentation(df):\n",
    "                segment,label = multivariate_data(sets,target_column,history_columns)\n",
    "                \n",
    "                if all_segments is None:\n",
    "                    all_segments = segment\n",
    "                    all_labels = label\n",
    "                else:\n",
    "                    all_segments = np.append(all_segments,segment,axis=0)  \n",
    "                    all_labels = np.append(all_labels,label)  \n",
    "\n",
    "                sys.stdout.write(\"Total added rows: %d   \\r\" % (all_segments.shape[0]) )\n",
    "                sys.stdout.flush()\n",
    "        else:\n",
    "            segment,label = multivariate_data(df,target_column,history_columns)\n",
    "\n",
    "            if all_segments is None:\n",
    "                all_segments = segment\n",
    "                all_labels = label\n",
    "            else:\n",
    "                all_segments = np.append(all_segments,segment,axis=0)  \n",
    "                all_labels = np.append(all_labels,label)\n",
    "    \n",
    "    return all_segments,all_labels"
   ]
  },
  {
   "cell_type": "code",
   "execution_count": 9,
   "id": "british-advantage",
   "metadata": {
    "scrolled": false
   },
   "outputs": [
    {
     "name": "stdout",
     "output_type": "stream",
     "text": [
      "Error in reading file:  [Errno 2] No such file or directory: '../../datasets/new_posenet_marked_start_end/A60.csv'\n",
      "Total added rows: 1128   \r"
     ]
    }
   ],
   "source": [
    "X_train, y_train = read_dataset(posenet_dataset_path,posenet_files,TRAIN_SPLIT_POSENET,True,True)\n",
    "X_test, y_test = read_dataset(posenet_dataset_path,posenet_files,TRAIN_SPLIT_POSENET,True,False)"
   ]
  },
  {
   "cell_type": "code",
   "execution_count": 10,
   "id": "technological-hebrew",
   "metadata": {},
   "outputs": [
    {
     "data": {
      "text/plain": [
       "(1128, 100, 26)"
      ]
     },
     "execution_count": 10,
     "metadata": {},
     "output_type": "execute_result"
    }
   ],
   "source": [
    "X_train.shape"
   ]
  },
  {
   "cell_type": "code",
   "execution_count": 11,
   "id": "apart-brunswick",
   "metadata": {},
   "outputs": [
    {
     "data": {
      "text/plain": [
       "(16, 100, 26)"
      ]
     },
     "execution_count": 11,
     "metadata": {},
     "output_type": "execute_result"
    }
   ],
   "source": [
    "X_test.shape"
   ]
  },
  {
   "cell_type": "markdown",
   "id": "professional-characteristic",
   "metadata": {},
   "source": [
    "## 1.3 Standardize features and labels"
   ]
  },
  {
   "cell_type": "code",
   "execution_count": 12,
   "id": "wooden-university",
   "metadata": {},
   "outputs": [
    {
     "name": "stdout",
     "output_type": "stream",
     "text": [
      "Train data shape\n",
      "(1128, 100, 26)\n",
      "(1128,)\n",
      "Test data shape\n",
      "(16, 100, 26)\n",
      "(16,)\n"
     ]
    }
   ],
   "source": [
    "train_mean = X_train.mean()\n",
    "train_std = X_train.std()\n",
    "X_train = (X_train-train_mean)/train_std\n",
    "X_test = (X_test-train_mean)/train_std\n",
    "\n",
    "target_mean = y_train.mean()\n",
    "target_std = y_train.std()\n",
    "y_train = (y_train-target_mean)/target_std\n",
    "y_test = (y_test-target_mean)/target_std\n",
    "\n",
    "\n",
    "print ('Train data shape')\n",
    "print(X_train.shape)\n",
    "print(y_train.shape)\n",
    "print ('Test data shape')\n",
    "print(X_test.shape)\n",
    "print(y_test.shape)"
   ]
  },
  {
   "cell_type": "code",
   "execution_count": 13,
   "id": "afraid-moisture",
   "metadata": {},
   "outputs": [
    {
     "data": {
      "text/plain": [
       "1.3632796967158618"
      ]
     },
     "execution_count": 13,
     "metadata": {},
     "output_type": "execute_result"
    }
   ],
   "source": [
    "target_std"
   ]
  },
  {
   "cell_type": "code",
   "execution_count": 14,
   "id": "aggregate-revision",
   "metadata": {},
   "outputs": [],
   "source": [
    "BATCH_SIZE = 60\n",
    "BUFFER_SIZE = 100000\n",
    "\n",
    "train_set = tf.data.Dataset.from_tensor_slices((X_train, y_train))\n",
    "train_set = train_set.cache().shuffle(BUFFER_SIZE).batch(BATCH_SIZE).repeat()\n",
    "\n",
    "test_set = tf.data.Dataset.from_tensor_slices((X_test, y_test))\n",
    "test_set = test_set.batch(BATCH_SIZE).repeat()"
   ]
  },
  {
   "cell_type": "markdown",
   "id": "damaged-service",
   "metadata": {},
   "source": [
    "# 2. Define Model Architecture\n",
    "\n",
    "## 2.1 Model Architecture"
   ]
  },
  {
   "cell_type": "code",
   "execution_count": 15,
   "id": "excellent-suffering",
   "metadata": {},
   "outputs": [],
   "source": [
    "from tensorflow.keras.metrics import MeanSquaredError, MeanAbsoluteError, RootMeanSquaredError\n",
    "from tensorflow.keras.layers import InputLayer\n",
    "\n",
    "INPUT_SHAPE = X_train.shape[-2:]\n",
    "\n",
    "metrics = [\n",
    "    MeanSquaredError(name=\"mse\", dtype=None),\n",
    "    MeanAbsoluteError(name=\"mae\", dtype=None),\n",
    "    RootMeanSquaredError(name=\"rmse\", dtype=None),\n",
    "]\n",
    "\n",
    "def create_model(layers, optimizer):\n",
    "    model = tf.keras.models.Sequential(\n",
    "        InputLayer(input_shape=INPUT_SHAPE)\n",
    "    )\n",
    "\n",
    "    for layer in layers:\n",
    "        model.add(layer)\n",
    "\n",
    "    model.compile(optimizer=optimizer, loss='mean_squared_error', metrics=metrics)\n",
    "\n",
    "    print(model.summary())\n",
    "\n",
    "    return model"
   ]
  },
  {
   "cell_type": "code",
   "execution_count": 16,
   "id": "promising-amazon",
   "metadata": {},
   "outputs": [],
   "source": [
    "from keras.callbacks import EarlyStopping\n",
    "early_stopping = EarlyStopping(\n",
    "    monitor='val_loss', \n",
    "    verbose=1,\n",
    "    patience=25,\n",
    "    mode='min',\n",
    "    restore_best_weights=True)"
   ]
  },
  {
   "cell_type": "code",
   "execution_count": 17,
   "id": "bronze-economics",
   "metadata": {},
   "outputs": [],
   "source": [
    "from mlflow.models.signature import ModelSignature\n",
    "from mlflow.types.schema import Schema, ColSpec\n",
    "\n",
    "input_schema = Schema([\n",
    "    ColSpec(\"double\", \"head_x\"),\n",
    "    ColSpec(\"double\", \"head_y\"),\n",
    "    ColSpec(\"double\", \"left_shoulder_x\"),\n",
    "    ColSpec(\"double\", \"left_shoulder_y\"),\n",
    "    ColSpec(\"double\", \"right_shoulder_x\"),\n",
    "    ColSpec(\"double\", \"right_shoulder_y\"),\n",
    "    ColSpec(\"double\", \"left_elbow_x\"),\n",
    "    ColSpec(\"double\", \"left_elbow_y\"),\n",
    "    ColSpec(\"double\", \"right_elbow_x\"),\n",
    "    ColSpec(\"double\", \"right_elbow_y\"),\n",
    "    ColSpec(\"double\", \"left_wrist_x\"),\n",
    "    ColSpec(\"double\", \"left_wrist_y\"),\n",
    "    ColSpec(\"double\", \"right_wrist_x\"),\n",
    "    ColSpec(\"double\", \"right_wrist_y\"),\n",
    "    ColSpec(\"double\", \"left_hip_x\"),\n",
    "    ColSpec(\"double\", \"left_hip_y\"),\n",
    "    ColSpec(\"double\", \"right_hip_x\"),\n",
    "    ColSpec(\"double\", \"right_hip_y\"),\n",
    "    ColSpec(\"double\", \"left_knee_x\"),\n",
    "    ColSpec(\"double\", \"left_knee_y\"),\n",
    "    ColSpec(\"double\", \"right_knee_x\"),\n",
    "    ColSpec(\"double\", \"right_knee_y\"),\n",
    "    ColSpec(\"double\", \"left_ankle_x\"),\n",
    "    ColSpec(\"double\", \"left_ankle_y\"),\n",
    "    ColSpec(\"double\", \"right_ankle_x\"),\n",
    "    ColSpec(\"double\", \"right_ankle_y\"),\n",
    "])\n",
    "output_schema = Schema([\n",
    "    ColSpec(\"double\", \"ExreciseScore\"),\n",
    "])\n",
    "signature = ModelSignature(inputs=input_schema, outputs=output_schema)"
   ]
  },
  {
   "cell_type": "code",
   "execution_count": 18,
   "id": "impressive-wagner",
   "metadata": {},
   "outputs": [],
   "source": [
    "import matplotlib as mpl\n",
    "import matplotlib.pyplot as plt\n",
    "\n",
    "mpl.rcParams['figure.figsize'] = (8, 6)\n",
    "mpl.rcParams['axes.grid'] = False\n",
    "\n",
    "def plot_train_history(history, title):\n",
    "    loss = history.history['loss']\n",
    "    val_loss = history.history['val_loss']\n",
    "    epochs = range(len(loss))\n",
    "    plt.figure()\n",
    "    plt.plot(epochs, loss, 'b', label='Training loss')\n",
    "    plt.plot(epochs, val_loss, 'r', label='Validation loss')\n",
    "    plt.title(title)\n",
    "    plt.legend()"
   ]
  },
  {
   "cell_type": "code",
   "execution_count": 19,
   "id": "stuck-light",
   "metadata": {},
   "outputs": [],
   "source": [
    "from sklearn.metrics import mean_squared_error, r2_score, explained_variance_score, mean_absolute_error\n",
    "\n",
    "def eval_metrics(actual, pred):\n",
    "    mse = mean_squared_error(actual, pred)\n",
    "    msa = mean_absolute_error(actual, pred)\n",
    "    r2 = r2_score(actual, pred)\n",
    "    variance = explained_variance_score(actual, pred)\n",
    "    return mse, msa, r2, variance"
   ]
  },
  {
   "cell_type": "markdown",
   "id": "isolated-duplicate",
   "metadata": {},
   "source": [
    "# 3. Run Experiments"
   ]
  },
  {
   "cell_type": "code",
   "execution_count": 20,
   "id": "plastic-bruce",
   "metadata": {},
   "outputs": [],
   "source": [
    "from tensorflow.keras.layers import LSTM, Dense,GRU,Dropout\n",
    "\n",
    "model_name = 'scoring_rnn_gru'\n",
    "\n",
    "OPTIMIZER='adam'\n",
    "EVALUATION_INTERVAL = 3000\n",
    "DROPOUT = 0.5\n",
    "GRU_UNIT = 64\n",
    "DENSE_UNIT = 32\n",
    "EPOCHS = 50\n",
    "VERBOSE = 1\n",
    "ACTIVATION = 'relu'\n",
    "\n",
    "lstm_model_1 = [\n",
    "    GRU(GRU_UNIT,use_bias=True),\n",
    "    Dropout(DROPOUT),\n",
    "    Dense(DENSE_UNIT,activation=ACTIVATION),\n",
    "    Dense(1)\n",
    "]\n",
    "\n",
    "tags = {\"type.base\": \"RNN\",\n",
    "        \"type.sub\": \"GRU\",\n",
    "        \"domain\": \"exercise_score\"}\n"
   ]
  },
  {
   "cell_type": "code",
   "execution_count": 21,
   "id": "forbidden-insertion",
   "metadata": {
    "scrolled": false
   },
   "outputs": [
    {
     "name": "stdout",
     "output_type": "stream",
     "text": [
      "Model: \"sequential\"\n",
      "_________________________________________________________________\n",
      "Layer (type)                 Output Shape              Param #   \n",
      "=================================================================\n",
      "gru (GRU)                    (None, 64)                17664     \n",
      "_________________________________________________________________\n",
      "dropout (Dropout)            (None, 64)                0         \n",
      "_________________________________________________________________\n",
      "dense (Dense)                (None, 32)                2080      \n",
      "_________________________________________________________________\n",
      "dense_1 (Dense)              (None, 1)                 33        \n",
      "=================================================================\n",
      "Total params: 19,777\n",
      "Trainable params: 19,777\n",
      "Non-trainable params: 0\n",
      "_________________________________________________________________\n",
      "None\n",
      "Epoch 1/50\n",
      "3000/3000 [==============================] - 96s 31ms/step - loss: 0.7350 - mse: 0.7350 - mae: 0.6885 - rmse: 0.8525 - val_loss: 0.3392 - val_mse: 0.3392 - val_mae: 0.4620 - val_rmse: 0.5824\n",
      "Epoch 2/50\n",
      "3000/3000 [==============================] - 94s 31ms/step - loss: 0.4637 - mse: 0.4637 - mae: 0.5223 - rmse: 0.6799 - val_loss: 0.3856 - val_mse: 0.3856 - val_mae: 0.5192 - val_rmse: 0.6209\n",
      "Epoch 3/50\n",
      "3000/3000 [==============================] - 94s 31ms/step - loss: 0.2769 - mse: 0.2769 - mae: 0.3940 - rmse: 0.5256 - val_loss: 0.5887 - val_mse: 0.5887 - val_mae: 0.5459 - val_rmse: 0.7672\n",
      "Epoch 4/50\n",
      "3000/3000 [==============================] - 93s 31ms/step - loss: 0.1749 - mse: 0.1749 - mae: 0.3092 - rmse: 0.4176 - val_loss: 0.7675 - val_mse: 0.7675 - val_mae: 0.5868 - val_rmse: 0.8761\n",
      "Epoch 5/50\n",
      "3000/3000 [==============================] - 92s 31ms/step - loss: 0.1194 - mse: 0.1194 - mae: 0.2531 - rmse: 0.3455 - val_loss: 0.8175 - val_mse: 0.8175 - val_mae: 0.6308 - val_rmse: 0.9042\n",
      "Epoch 6/50\n",
      "3000/3000 [==============================] - 89s 30ms/step - loss: 0.1125 - mse: 0.1125 - mae: 0.2413 - rmse: 0.3325 - val_loss: 0.7740 - val_mse: 0.7740 - val_mae: 0.6451 - val_rmse: 0.8798\n",
      "Epoch 7/50\n",
      "3000/3000 [==============================] - 92s 31ms/step - loss: 0.1385 - mse: 0.1385 - mae: 0.2624 - rmse: 0.3717 - val_loss: 0.8018 - val_mse: 0.8018 - val_mae: 0.6747 - val_rmse: 0.8955\n",
      "Epoch 8/50\n",
      "3000/3000 [==============================] - 89s 30ms/step - loss: 0.0847 - mse: 0.0847 - mae: 0.2031 - rmse: 0.2867 - val_loss: 0.6690 - val_mse: 0.6690 - val_mae: 0.5935 - val_rmse: 0.8179\n",
      "Epoch 9/50\n",
      "3000/3000 [==============================] - 91s 30ms/step - loss: 0.2409 - mse: 0.2409 - mae: 0.3557 - rmse: 0.4904 - val_loss: 0.4318 - val_mse: 0.4318 - val_mae: 0.5386 - val_rmse: 0.6571\n",
      "Epoch 10/50\n",
      "3000/3000 [==============================] - 92s 31ms/step - loss: 0.1440 - mse: 0.1440 - mae: 0.2668 - rmse: 0.3748 - val_loss: 0.7430 - val_mse: 0.7430 - val_mae: 0.6655 - val_rmse: 0.8620\n",
      "Epoch 11/50\n",
      "3000/3000 [==============================] - 94s 31ms/step - loss: 0.2005 - mse: 0.2005 - mae: 0.2981 - rmse: 0.4401 - val_loss: 0.7299 - val_mse: 0.7299 - val_mae: 0.6256 - val_rmse: 0.8543\n",
      "Epoch 12/50\n",
      "3000/3000 [==============================] - 94s 31ms/step - loss: 0.1847 - mse: 0.1847 - mae: 0.3033 - rmse: 0.4293 - val_loss: 1.0605 - val_mse: 1.0605 - val_mae: 0.8008 - val_rmse: 1.0298\n",
      "Epoch 13/50\n",
      "3000/3000 [==============================] - 91s 30ms/step - loss: 0.0752 - mse: 0.0752 - mae: 0.1979 - rmse: 0.2737 - val_loss: 0.8479 - val_mse: 0.8479 - val_mae: 0.7300 - val_rmse: 0.9208\n",
      "Epoch 14/50\n",
      "3000/3000 [==============================] - 90s 30ms/step - loss: 0.0440 - mse: 0.0440 - mae: 0.1527 - rmse: 0.2096 - val_loss: 0.6082 - val_mse: 0.6082 - val_mae: 0.6086 - val_rmse: 0.7799\n",
      "Epoch 15/50\n",
      "3000/3000 [==============================] - 94s 31ms/step - loss: 0.0643 - mse: 0.0643 - mae: 0.1686 - rmse: 0.2498 - val_loss: 0.8483 - val_mse: 0.8483 - val_mae: 0.6779 - val_rmse: 0.9210\n",
      "Epoch 16/50\n",
      "3000/3000 [==============================] - 91s 30ms/step - loss: 0.0385 - mse: 0.0385 - mae: 0.1352 - rmse: 0.1949 - val_loss: 1.0407 - val_mse: 1.0407 - val_mae: 0.7904 - val_rmse: 1.0201\n",
      "Epoch 17/50\n",
      "3000/3000 [==============================] - 92s 31ms/step - loss: 0.0580 - mse: 0.0580 - mae: 0.1502 - rmse: 0.2288 - val_loss: 1.0025 - val_mse: 1.0025 - val_mae: 0.7627 - val_rmse: 1.0013\n",
      "Epoch 18/50\n",
      "3000/3000 [==============================] - 90s 30ms/step - loss: 0.0330 - mse: 0.0330 - mae: 0.1258 - rmse: 0.1802 - val_loss: 0.5084 - val_mse: 0.5084 - val_mae: 0.5266 - val_rmse: 0.7130\n",
      "Epoch 19/50\n",
      "3000/3000 [==============================] - 76s 25ms/step - loss: 0.0300 - mse: 0.0300 - mae: 0.1207 - rmse: 0.1705 - val_loss: 1.0842 - val_mse: 1.0842 - val_mae: 0.8178 - val_rmse: 1.0412\n",
      "Epoch 20/50\n",
      "3000/3000 [==============================] - 71s 24ms/step - loss: 0.0538 - mse: 0.0538 - mae: 0.1406 - rmse: 0.2257 - val_loss: 0.7820 - val_mse: 0.7820 - val_mae: 0.7105 - val_rmse: 0.8843\n",
      "Epoch 21/50\n",
      "3000/3000 [==============================] - 72s 24ms/step - loss: 0.0205 - mse: 0.0205 - mae: 0.1040 - rmse: 0.1428 - val_loss: 0.8362 - val_mse: 0.8362 - val_mae: 0.7287 - val_rmse: 0.9144\n",
      "Epoch 22/50\n",
      "3000/3000 [==============================] - 68s 23ms/step - loss: 0.0407 - mse: 0.0407 - mae: 0.1266 - rmse: 0.1955 - val_loss: 0.9534 - val_mse: 0.9534 - val_mae: 0.7807 - val_rmse: 0.9764\n",
      "Epoch 23/50\n",
      "3000/3000 [==============================] - 73s 24ms/step - loss: 0.0685 - mse: 0.0685 - mae: 0.1346 - rmse: 0.2184 - val_loss: 0.4559 - val_mse: 0.4559 - val_mae: 0.5593 - val_rmse: 0.6752\n",
      "Epoch 24/50\n",
      "3000/3000 [==============================] - 69s 23ms/step - loss: 0.3630 - mse: 0.3630 - mae: 0.4593 - rmse: 0.6013 - val_loss: 0.4954 - val_mse: 0.4954 - val_mae: 0.6115 - val_rmse: 0.7038\n",
      "Epoch 25/50\n",
      "3000/3000 [==============================] - 71s 24ms/step - loss: 0.4394 - mse: 0.4394 - mae: 0.4987 - rmse: 0.6612 - val_loss: 0.4282 - val_mse: 0.4282 - val_mae: 0.5565 - val_rmse: 0.6544\n",
      "Epoch 26/50\n",
      "3000/3000 [==============================] - 71s 24ms/step - loss: 0.3173 - mse: 0.3173 - mae: 0.4217 - rmse: 0.5624 - val_loss: 0.3575 - val_mse: 0.3575 - val_mae: 0.4907 - val_rmse: 0.5979\n",
      "Restoring model weights from the end of the best epoch.\n",
      "Epoch 00026: early stopping\n"
     ]
    },
    {
     "data": {
      "image/png": "[encoded data removed]",
      "text/plain": [
       "<Figure size 576x432 with 1 Axes>"
      ]
     },
     "metadata": {
      "needs_background": "light"
     },
     "output_type": "display_data"
    },
    {
     "name": "stdout",
     "output_type": "stream",
     "text": [
      "1/1 [==============================] - 0s 263ms/step\n",
      "1/1 [==============================] - 0s 15ms/step\n",
      "1/1 [==============================] - 0s 19ms/step\n",
      "1/1 [==============================] - 0s 16ms/step\n",
      "1/1 [==============================] - 0s 19ms/step\n",
      "1/1 [==============================] - 0s 16ms/step\n",
      "1/1 [==============================] - 0s 16ms/step\n",
      "1/1 [==============================] - 0s 16ms/step\n",
      "1/1 [==============================] - 0s 16ms/step\n",
      "1/1 [==============================] - 0s 17ms/step\n",
      "1/1 [==============================] - 0s 18ms/step\n"
     ]
    },
    {
     "data": {
      "image/png": "[encoded data removed]",
      "text/plain": [
       "<Figure size 700x560 with 1 Axes>"
      ]
     },
     "metadata": {
      "needs_background": "light"
     },
     "output_type": "display_data"
    },
    {
     "name": "stderr",
     "output_type": "stream",
     "text": [
      "WARNING:absl:Found untraced functions such as gru_cell_layer_call_fn, gru_cell_layer_call_and_return_conditional_losses, gru_cell_layer_call_fn, gru_cell_layer_call_and_return_conditional_losses, gru_cell_layer_call_and_return_conditional_losses while saving (showing 5 of 5). These functions will not be directly callable after loading.\n"
     ]
    },
    {
     "name": "stdout",
     "output_type": "stream",
     "text": [
      "INFO:tensorflow:Assets written to: /var/folders/m8/zs0d09l904s28pmh_g_t5q640000gn/T/tmpzy4kbano/model/data/model/assets\n"
     ]
    },
    {
     "name": "stderr",
     "output_type": "stream",
     "text": [
      "INFO:tensorflow:Assets written to: /var/folders/m8/zs0d09l904s28pmh_g_t5q640000gn/T/tmpzy4kbano/model/data/model/assets\n"
     ]
    }
   ],
   "source": [
    "import time\n",
    "import seaborn\n",
    "import matplotlib.pyplot as plt\n",
    "import numpy\n",
    "\n",
    "with mlflow.start_run(run_name=model_name) as run:\n",
    "    mlflow.set_tags(tags)\n",
    "\n",
    "    model = create_model(layers=lstm_model_1, optimizer=OPTIMIZER)\n",
    "    \n",
    "    history = model.fit(train_set, \n",
    "                        epochs=EPOCHS, \n",
    "                        steps_per_epoch=EVALUATION_INTERVAL, \n",
    "                        validation_data=test_set, \n",
    "                        validation_steps=50,\n",
    "                        verbose=VERBOSE, \n",
    "                        callbacks=[early_stopping])\n",
    "    \n",
    "    # Plot training history\n",
    "    plot_train_history(history, 'Training and validation loss')\n",
    "    plt.savefig(\"training_history.jpg\")\n",
    "    mlflow.log_artifact(\"training_history.jpg\")\n",
    "    plt.show()\n",
    "    \n",
    "\n",
    "    # Log model parameters\n",
    "    mlflow.log_param(\"activation\", ACTIVATION)\n",
    "    mlflow.log_param(\"optimizer\", OPTIMIZER)\n",
    "    mlflow.log_param(\"evaluation interval\", EVALUATION_INTERVAL)\n",
    "    mlflow.log_param(\"epochs\", early_stopping.stopped_epoch)\n",
    "    mlflow.log_param(\"total params\", model.count_params())\n",
    "    mlflow.log_param(\"C\", HISTORY_SIZE)\n",
    "    mlflow.log_param(\"Dropout\", DROPOUT)\n",
    "    mlflow.log_param(\"GRU units\", GRU_UNIT)\n",
    "    mlflow.log_param(\"Dense units\", DENSE_UNIT)\n",
    "    mlflow.log_param(\"input mean\", train_mean)\n",
    "    mlflow.log_param(\"input std\", train_std)\n",
    "    mlflow.log_param(\"output mean\", target_mean)\n",
    "    mlflow.log_param(\"output std\", target_std)\n",
    "\n",
    "    # Log model prediction time\n",
    "    predictions = None\n",
    "    times = []\n",
    "    for i in range(10):\n",
    "        start_time = time.time()\n",
    "        predictions = model.predict(X_test,verbose=1)\n",
    "        end_time = time.time()\n",
    "        process_time = (end_time - start_time) * 1000\n",
    "        times.append(process_time)\n",
    "    process_time = sum(times) / len(times) / len(predictions)\n",
    "\n",
    "    # Log model performance\n",
    "    predictions = predictions * target_std + target_mean\n",
    "    actual = y_test * target_std + target_mean\n",
    "\n",
    "    (mse, mae, r2, variance) = eval_metrics(actual, predictions)\n",
    "    mlflow.log_metric(\"mse\", mse)\n",
    "    mlflow.log_metric(\"mae\", mae)\n",
    "    mlflow.log_metric(\"R-squared\", r2)\n",
    "    mlflow.log_metric(\"variance\", variance)\n",
    "    mlflow.log_metric(\"process time\", process_time)\n",
    "    \n",
    "    # Plot test prediction\n",
    "    w = 10\n",
    "    h = 8\n",
    "    d = 70\n",
    "    plt.figure(figsize=(w, h), dpi=d)\n",
    "    a = model.predict(X_test,verbose=1).reshape(-1) * target_std + target_mean\n",
    "    b = y_test* target_std + target_mean\n",
    "    y1=y_test.reshape(len(predictions))\n",
    "    y2=predictions.reshape(len(predictions))\n",
    "    x = np.arange(len(y_test))\n",
    "    seaborn.scatterplot(x, a)\n",
    "    seaborn.scatterplot(x, b)\n",
    "    plt.savefig(\"sample_predictions.jpg\")\n",
    "    mlflow.log_artifact(\"sample_predictions.jpg\")\n",
    "    plt.show()\n",
    "    \n",
    "    # Log model and scaler(s)\n",
    "    mlflow.keras.log_model(model, model_name, signature=signature)\n",
    "#     mlflow.sklearn.log_model(X_scaler, 'InputScaler')\n",
    "#     mlflow.sklearn.log_model(y_scaler, 'OutputScaler')"
   ]
  },
  {
   "cell_type": "markdown",
   "id": "entire-poultry",
   "metadata": {},
   "source": [
    "## 3.2 Plot Training History"
   ]
  },
  {
   "cell_type": "code",
   "execution_count": 22,
   "id": "advance-violation",
   "metadata": {},
   "outputs": [
    {
     "data": {
      "image/png": "[encoded data removed]",
      "text/plain": [
       "<Figure size 576x432 with 1 Axes>"
      ]
     },
     "metadata": {
      "needs_background": "light"
     },
     "output_type": "display_data"
    }
   ],
   "source": [
    "plot_train_history(history, 'Training and validation loss')\n",
    "#plt.savefig(\"training_history.jpg\")\n",
    "#mlflow.log_artifact(\"training_history.jpg\")\n",
    "plt.show()"
   ]
  },
  {
   "cell_type": "code",
   "execution_count": null,
   "id": "bright-flight",
   "metadata": {},
   "outputs": [],
   "source": []
  }
 ],
 "metadata": {
  "kernelspec": {
   "display_name": "Python 3",
   "language": "python",
   "name": "python3"
  },
  "language_info": {
   "codemirror_mode": {
    "name": "ipython",
    "version": 3
   },
   "file_extension": ".py",
   "mimetype": "text/x-python",
   "name": "python",
   "nbconvert_exporter": "python",
   "pygments_lexer": "ipython3",
   "version": "3.9.5"
  }
 },
 "nbformat": 4,
 "nbformat_minor": 5
}
