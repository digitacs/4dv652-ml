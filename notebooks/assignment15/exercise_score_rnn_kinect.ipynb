{
 "cells": [
  {
   "cell_type": "markdown",
   "id": "intermediate-client",
   "metadata": {},
   "source": [
    "# RNN"
   ]
  },
  {
   "cell_type": "code",
   "execution_count": 1,
   "id": "secret-combining",
   "metadata": {},
   "outputs": [
    {
     "name": "stdout",
     "output_type": "stream",
     "text": [
      "INFO:tensorflow:Enabling eager execution\n",
      "INFO:tensorflow:Enabling v2 tensorshape\n",
      "INFO:tensorflow:Enabling resource variables\n",
      "INFO:tensorflow:Enabling tensor equality\n",
      "INFO:tensorflow:Enabling control flow v2\n",
      "Num GPUs Available:  0\n"
     ]
    }
   ],
   "source": [
    "# General requirements\n",
    "import os\n",
    "import pandas as pd\n",
    "import numpy as np\n",
    "\n",
    "# MLflow dashboard\n",
    "import mlflow\n",
    "mlflow.set_tracking_uri('http://35.228.45.76:5000')\n",
    "os.environ['GOOGLE_APPLICATION_CREDENTIALS']='../../keys/mlflow-312506-8cfad529f4fd.json'\n",
    "\n",
    "# Ignore warnings\n",
    "import warnings\n",
    "warnings.simplefilter('ignore')\n",
    "\n",
    "# Import data augmentation\n",
    "import sys\n",
    "module_path = os.path.abspath(os.path.join('../..'))\n",
    "if module_path not in sys.path:\n",
    "    sys.path.append(module_path)\n",
    "from augmentation.methods import *\n",
    "\n",
    "# Set random state\n",
    "import numpy as np\n",
    "random_state = 47\n",
    "np.random.seed(random_state)\n",
    "\n",
    "# Use GPU (if available)\n",
    "import tensorflow as tf\n",
    "physical_devices = tf.config.experimental.list_physical_devices( 'GPU' )\n",
    "print( 'Num GPUs Available: ', len( physical_devices ) )\n",
    "if len( physical_devices ) > 0:\n",
    "    tf.config.experimental.set_memory_growth( physical_devices[0], True )"
   ]
  },
  {
   "cell_type": "markdown",
   "id": "crucial-parent",
   "metadata": {},
   "source": [
    "# 1. Data Preparation\n",
    "\n",
    "## 1.1 Load Dataset"
   ]
  },
  {
   "cell_type": "code",
   "execution_count": 2,
   "id": "conventional-chance",
   "metadata": {},
   "outputs": [],
   "source": [
    "posenet_dataset_path = '../../datasets/posenet-uncut/'\n",
    "kinect_dataset_path = '../../datasets/kinect_fixed_not_cut/'\n",
    "cut_dataset_path = '../../datasets/new_posenet_marked_start_end/'\n",
    "goodness_score = pd.read_csv('../../datasets/VideoScoring.csv')\n",
    "exrecise_score = pd.read_csv('../../datasets/ExerciseScoring.csv')\n",
    "\n",
    "train_test_ratio = 0.9\n",
    "new_label = 'ExreciseScore'\n",
    "exersice_score_indicator = 'O_Score'\n",
    "goodness_score_indicator = 'AVG'\n",
    "goodness_score_threshold = 3"
   ]
  },
  {
   "cell_type": "code",
   "execution_count": 3,
   "id": "surrounded-defense",
   "metadata": {},
   "outputs": [],
   "source": [
    "# Drop video augmentation results\n",
    "goodness_score = goodness_score[goodness_score['FileName'].str.match('U')==False]\n",
    "goodness_score = goodness_score[goodness_score[goodness_score_indicator]>=goodness_score_threshold]\n",
    "\n",
    "posenet_ok = goodness_score['FileName']+'.csv'\n",
    "\n",
    "exrecise_score['Posenet'] = exrecise_score['Posenet'] + '.csv'\n",
    "exrecise_score['Kinect'] = exrecise_score['Kinect'] + '.csv'"
   ]
  },
  {
   "cell_type": "code",
   "execution_count": 4,
   "id": "simplified-segment",
   "metadata": {},
   "outputs": [
    {
     "name": "stdout",
     "output_type": "stream",
     "text": [
      "Total posenet datasets: 157\n",
      "Total kinect datasets: 157\n"
     ]
    }
   ],
   "source": [
    "posenet_files = []\n",
    "kinect_files = []\n",
    "\n",
    "for file in os.listdir(posenet_dataset_path):\n",
    "    if not file.find(\".csv\",0) == -1:\n",
    "        if file in (goodness_score['FileName']+'.csv').to_list():\n",
    "            posenet_files.append(file)\n",
    "        \n",
    "for file in os.listdir(kinect_dataset_path):\n",
    "    if not file.find(\".csv\",0) == -1:\n",
    "        if file in (goodness_score['FileName']+'_kinect.csv').to_list():\n",
    "            kinect_files.append(file)\n",
    "        \n",
    "print('Total posenet datasets: {}'.format(len(posenet_files)))\n",
    "print('Total kinect datasets: {}'.format(len(kinect_files)))"
   ]
  },
  {
   "cell_type": "code",
   "execution_count": 5,
   "id": "unnecessary-debate",
   "metadata": {},
   "outputs": [
    {
     "name": "stdout",
     "output_type": "stream",
     "text": [
      "141 141\n"
     ]
    }
   ],
   "source": [
    "TRAIN_SPLIT_POSENET = int(len(posenet_files)*train_test_ratio)\n",
    "TRAIN_SPLIT_KINECT = int(len(kinect_files)*train_test_ratio)\n",
    "print(TRAIN_SPLIT_POSENET,TRAIN_SPLIT_KINECT)"
   ]
  },
  {
   "cell_type": "markdown",
   "id": "indie-prior",
   "metadata": {},
   "source": [
    "## 1.2 Reshaping the datasets for RNN"
   ]
  },
  {
   "cell_type": "code",
   "execution_count": 6,
   "id": "romance-liability",
   "metadata": {},
   "outputs": [],
   "source": [
    "def data_augmentation(df):\n",
    "    augmented_datasets = []\n",
    "    \n",
    "    # Add original data\n",
    "    augmented_datasets.append(df)\n",
    "    \n",
    "    # Mirror X coordinate\n",
    "    for i in range(len(augmented_datasets)):\n",
    "        augmented_datasets.append(mirror(augmented_datasets[i],'x', append=False))\n",
    "\n",
    "    # Stretch by 50%\n",
    "    for i in range(len(augmented_datasets)):\n",
    "        df_temp = augMultiplier(augmented_datasets[i].drop(columns=[new_label]), multiplier=1.5)\n",
    "        df_temp[new_label] = augmented_datasets[i][new_label]\n",
    "        augmented_datasets.append(df_temp)\n",
    "    \n",
    "\n",
    "    # Compress by 25%\n",
    "    for i in range(len(augmented_datasets)):\n",
    "        df_temp = augMultiplier(augmented_datasets[i].drop(columns=[new_label]), multiplier=0.25)\n",
    "        df_temp[new_label] = augmented_datasets[i][new_label]\n",
    "        augmented_datasets.append(df_temp)\n",
    "   \n",
    "\n",
    "    # Rotate by p/7\n",
    "#     samples = df.sample(5000)\n",
    "#     angle = 3.1415 / 7\n",
    "#     samples_rotated = rotate(samples.drop(columns=[new_label]), angle=angle, posenet=False)\n",
    "#     samples_rotated[new_label] = samples[new_label].append(samples[new_label], ignore_index=True)\n",
    "#     df = df.append(samples_rotated, ignore_index=True)\n",
    "#     print(df.shape)\n",
    "\n",
    "    # Rotate by -p/9\n",
    "#     samples = df.sample(5000)\n",
    "#     angle = 3.1415 / -9\n",
    "#     samples_rotated = rotate(samples.drop(columns=[new_label]), angle=angle, posenet=False)\n",
    "#     samples_rotated[new_label] = samples[new_label].append(samples[new_label], ignore_index=True)\n",
    "#     df = df.append(samples_rotated, ignore_index=True)\n",
    "#     print(df.shape)\n",
    "\n",
    "    return augmented_datasets"
   ]
  },
  {
   "cell_type": "code",
   "execution_count": 7,
   "id": "adopted-nancy",
   "metadata": {},
   "outputs": [],
   "source": [
    "HISTORY_SIZE = 30\n",
    "STEP = 8\n",
    "N_FEATURES = 39\n",
    "\n",
    "def multivariate_data(dataset, target_column, history_columns):\n",
    "\n",
    "    segments = []\n",
    "    labels = []\n",
    "\n",
    "    for i in range(0,len(dataset) - HISTORY_SIZE, STEP):\n",
    "        segments.append(dataset[history_columns].values[i:i + HISTORY_SIZE])\n",
    "        labels.append(dataset[target_column].mean())\n",
    "    \n",
    "    return np.array(segments), np.array(labels)"
   ]
  },
  {
   "cell_type": "code",
   "execution_count": 8,
   "id": "hungarian-leader",
   "metadata": {},
   "outputs": [],
   "source": [
    "history_columns = [' head_x', 'head_y', 'head_z',\n",
    "       'left_shoulder_x', 'left_shoulder_y', 'left_shoulder_z', 'left_elbow_x',\n",
    "       'left_elbow_y', 'left_elbow_z', 'right_shoulder_x', 'right_shoulder_y',\n",
    "       'right_shoulder_z', 'right_elbow_x', 'right_elbow_y', 'right_elbow_z',\n",
    "       'left_hand_x', 'left_hand_y', 'left_hand_z', 'right_hand_x',\n",
    "       'right_hand_y', 'right_hand_z', 'left_hip_x', 'left_hip_y',\n",
    "       'left_hip_z', 'right_hip_x', 'right_hip_y', 'right_hip_z',\n",
    "       'left_knee_x', 'left_knee_y', 'left_knee_z', 'right_knee_x',\n",
    "       'right_knee_y', 'right_knee_z', 'left_foot_x', 'left_foot_y',\n",
    "       'left_foot_z', 'right_foot_x', 'right_foot_y', 'right_foot_z']\n",
    "target_column = 'ExreciseScore'\n",
    "\n",
    "def read_dataset(path,file_list,split_point,is_posenet=True,isTrain=True):\n",
    "    all_segments = None\n",
    "    all_labels = None\n",
    "    \n",
    "    start=0\n",
    "    end=0\n",
    "    \n",
    "    if isTrain:\n",
    "        start = 0\n",
    "        end = split_point\n",
    "    else:\n",
    "        start = split_point\n",
    "        end = len(file_list)\n",
    "    \n",
    "    for file in file_list[start:end]:\n",
    "        df = pd.read_csv(path+file)\n",
    "        \n",
    "        if is_posenet:  \n",
    "            df = df[df.columns.drop(list(df.filter(regex='_eye_')))]\n",
    "            df = df[df.columns.drop(list(df.filter(regex='_ear_')))]\n",
    "            df = df[df.columns.drop(list(df.filter(regex='score')))]\n",
    "            df = df.rename(columns={'nose_x': 'head_x', 'nose_y': 'head_y'})\n",
    "            df[new_label] = float(exrecise_score[exrecise_score['Posenet'] == file][exersice_score_indicator])\n",
    "        else:  \n",
    "            df = df.drop(columns=['Unnamed: 0','FrameNo'])\n",
    "            df[new_label] = float(exrecise_score[exrecise_score['Kinect'] == file][exersice_score_indicator])\n",
    "            \n",
    "        # Cut start / end\n",
    "        try:\n",
    "            if not is_posenet:\n",
    "                file = file.replace(\"_kinect\",\"\")\n",
    "            se = pd.read_csv('../../datasets/new_posenet_marked_start_end/'+file)\n",
    "            cut_start = min(se[(se['start']==0) * (se['end']==0)].index)\n",
    "            cut_end = max(se[(se['start']==0) * (se['end']==0)].index)\n",
    "            df = df.iloc[cut_start:cut_end]\n",
    "        except IOError as e:\n",
    "            print('Error in reading file: ', e)\n",
    "            \n",
    "    \n",
    "        if isTrain:\n",
    "            for sets in data_augmentation(df):\n",
    "                segment,label = multivariate_data(sets,target_column,history_columns)\n",
    "\n",
    "                if all_segments is None:\n",
    "                    all_segments = segment\n",
    "                    all_labels = label\n",
    "                else:\n",
    "                    all_segments = np.append(all_segments,segment,axis=0)  \n",
    "                    all_labels = np.append(all_labels,label,axis=0)  \n",
    "\n",
    "                sys.stdout.write(\"Total added rows: %d   \\r\" % (all_segments.shape[0]) )\n",
    "                sys.stdout.flush()\n",
    "        else:\n",
    "            segment,label = multivariate_data(df,target_column,history_columns)\n",
    "\n",
    "            if all_segments is None:\n",
    "                all_segments = segment\n",
    "                all_labels = label\n",
    "            else:\n",
    "                all_segments = np.append(all_segments,segment,axis=0)  \n",
    "                all_labels = np.append(all_labels,label,axis=0)\n",
    "    \n",
    "    return all_segments,all_labels"
   ]
  },
  {
   "cell_type": "code",
   "execution_count": 9,
   "id": "british-advantage",
   "metadata": {},
   "outputs": [
    {
     "name": "stdout",
     "output_type": "stream",
     "text": [
      "Error in reading file:  [Errno 2] No such file or directory: '../../datasets/new_posenet_marked_start_end/A60.csv'\n"
     ]
    }
   ],
   "source": [
    "X_train, y_train = read_dataset(kinect_dataset_path,kinect_files,TRAIN_SPLIT_KINECT,False,True)\n",
    "X_test, y_test = read_dataset(kinect_dataset_path,kinect_files,TRAIN_SPLIT_KINECT,False,False)"
   ]
  },
  {
   "cell_type": "code",
   "execution_count": 10,
   "id": "technological-hebrew",
   "metadata": {},
   "outputs": [
    {
     "data": {
      "text/plain": [
       "(66744, 30, 39)"
      ]
     },
     "execution_count": 10,
     "metadata": {},
     "output_type": "execute_result"
    }
   ],
   "source": [
    "X_train.shape"
   ]
  },
  {
   "cell_type": "code",
   "execution_count": 11,
   "id": "apart-brunswick",
   "metadata": {},
   "outputs": [
    {
     "data": {
      "text/plain": [
       "(897, 30, 39)"
      ]
     },
     "execution_count": 11,
     "metadata": {},
     "output_type": "execute_result"
    }
   ],
   "source": [
    "X_test.shape"
   ]
  },
  {
   "cell_type": "markdown",
   "id": "professional-characteristic",
   "metadata": {},
   "source": [
    "## 1.3 Standardize features and labels"
   ]
  },
  {
   "cell_type": "code",
   "execution_count": 12,
   "id": "wooden-university",
   "metadata": {},
   "outputs": [
    {
     "name": "stdout",
     "output_type": "stream",
     "text": [
      "Train data shape\n",
      "(66744, 30, 39)\n",
      "(66744,)\n",
      "Test data shape\n",
      "(897, 30, 39)\n",
      "(897,)\n"
     ]
    }
   ],
   "source": [
    "train_mean = X_train.mean()\n",
    "train_std = X_train.std()\n",
    "X_train = (X_train-train_mean)/train_std\n",
    "X_test = (X_test-train_mean)/train_std\n",
    "\n",
    "target_mean = y_train.mean()\n",
    "target_std = y_train.std()\n",
    "y_train = (y_train-target_mean)/target_std\n",
    "y_test = (y_test-target_mean)/target_std\n",
    "\n",
    "\n",
    "print ('Train data shape')\n",
    "print(X_train.shape)\n",
    "print(y_train.shape)\n",
    "print ('Test data shape')\n",
    "print(X_test.shape)\n",
    "print(y_test.shape)"
   ]
  },
  {
   "cell_type": "code",
   "execution_count": 13,
   "id": "aggregate-revision",
   "metadata": {},
   "outputs": [],
   "source": [
    "BATCH_SIZE = 60\n",
    "BUFFER_SIZE = 100000\n",
    "\n",
    "train_set = tf.data.Dataset.from_tensor_slices((X_train, y_train))\n",
    "train_set = train_set.cache().shuffle(BUFFER_SIZE).batch(BATCH_SIZE).repeat()\n",
    "\n",
    "test_set = tf.data.Dataset.from_tensor_slices((X_test, y_test))\n",
    "test_set = test_set.batch(BATCH_SIZE).repeat()"
   ]
  },
  {
   "cell_type": "markdown",
   "id": "damaged-service",
   "metadata": {},
   "source": [
    "# 2. Define Model Architecture\n",
    "\n",
    "## 2.1 Model Architecture"
   ]
  },
  {
   "cell_type": "code",
   "execution_count": 14,
   "id": "excellent-suffering",
   "metadata": {},
   "outputs": [],
   "source": [
    "from tensorflow.keras.metrics import MeanSquaredError, MeanAbsoluteError, RootMeanSquaredError\n",
    "from tensorflow.keras.layers import InputLayer\n",
    "\n",
    "INPUT_SHAPE = X_train.shape[-2:]\n",
    "\n",
    "metrics = [\n",
    "    MeanSquaredError(name=\"mse\", dtype=None),\n",
    "    MeanAbsoluteError(name=\"mae\", dtype=None),\n",
    "    RootMeanSquaredError(name=\"rmse\", dtype=None),\n",
    "]\n",
    "\n",
    "def create_model(layers, optimizer):\n",
    "    model = tf.keras.models.Sequential(\n",
    "        InputLayer(input_shape=INPUT_SHAPE)\n",
    "    )\n",
    "\n",
    "    for layer in layers:\n",
    "        model.add(layer)\n",
    "\n",
    "    model.compile(optimizer=optimizer, loss='mean_squared_error', metrics=metrics)\n",
    "\n",
    "    print(model.summary())\n",
    "\n",
    "    return model"
   ]
  },
  {
   "cell_type": "code",
   "execution_count": 15,
   "id": "promising-amazon",
   "metadata": {},
   "outputs": [],
   "source": [
    "from keras.callbacks import EarlyStopping\n",
    "early_stopping = EarlyStopping(\n",
    "    monitor='val_loss', \n",
    "    verbose=1,\n",
    "    patience=5,\n",
    "    mode='min',\n",
    "    restore_best_weights=True)"
   ]
  },
  {
   "cell_type": "code",
   "execution_count": 16,
   "id": "bronze-economics",
   "metadata": {},
   "outputs": [],
   "source": [
    "from mlflow.models.signature import ModelSignature\n",
    "from mlflow.types.schema import Schema, ColSpec\n",
    "\n",
    "input_schema = Schema([\n",
    "    ColSpec(\"double\", \"head_x\"),\n",
    "    ColSpec(\"double\", \"head_y\"),\n",
    "    ColSpec(\"double\", \"head_z\"),\n",
    "    ColSpec(\"double\", \"left_shoulder_x\"),\n",
    "    ColSpec(\"double\", \"left_shoulder_y\"),\n",
    "    ColSpec(\"double\", \"left_shoulder_z\"),\n",
    "    ColSpec(\"double\", \"left_elbow_x\"),\n",
    "    ColSpec(\"double\", \"left_elbow_y\"),\n",
    "    ColSpec(\"double\", \"left_elbow_z\"),\n",
    "    ColSpec(\"double\", \"right_shoulder_x\"),\n",
    "    ColSpec(\"double\", \"right_shoulder_y\"),\n",
    "    ColSpec(\"double\", \"right_shoulder_z\"),\n",
    "    ColSpec(\"double\", \"right_elbow_x\"),\n",
    "    ColSpec(\"double\", \"right_elbow_y\"),\n",
    "    ColSpec(\"double\", \"right_elbow_z\"),\n",
    "    ColSpec(\"double\", \"left_hand_x\"),\n",
    "    ColSpec(\"double\", \"left_hand_y\"),\n",
    "    ColSpec(\"double\", \"left_hand_z\"),\n",
    "    ColSpec(\"double\", \"right_hand_x\"),\n",
    "    ColSpec(\"double\", \"right_hand_y\"),\n",
    "    ColSpec(\"double\", \"right_hand_z\"),\n",
    "    ColSpec(\"double\", \"left_hip_x\"),\n",
    "    ColSpec(\"double\", \"left_hip_y\"),\n",
    "    ColSpec(\"double\", \"left_hip_z\"),\n",
    "    ColSpec(\"double\", \"right_hip_x\"),\n",
    "    ColSpec(\"double\", \"right_hip_y\"),\n",
    "    ColSpec(\"double\", \"right_hip_z\"),\n",
    "    ColSpec(\"double\", \"left_knee_x\"),\n",
    "    ColSpec(\"double\", \"left_knee_y\"),\n",
    "    ColSpec(\"double\", \"left_knee_z\"),\n",
    "    ColSpec(\"double\", \"right_knee_x\"),\n",
    "    ColSpec(\"double\", \"right_knee_y\"),\n",
    "    ColSpec(\"double\", \"right_knee_z\"),\n",
    "    ColSpec(\"double\", \"left_foot_x\"),\n",
    "    ColSpec(\"double\", \"left_foot_y\"),\n",
    "    ColSpec(\"double\", \"left_foot_z\"),\n",
    "    ColSpec(\"double\", \"right_foot_x\"),\n",
    "    ColSpec(\"double\", \"right_foot_y\"),\n",
    "    ColSpec(\"double\", \"right_foot_z\"),\n",
    "])\n",
    "output_schema = Schema([\n",
    "    ColSpec(\"double\", \"ExreciseScore\"),\n",
    "])\n",
    "signature = ModelSignature(inputs=input_schema, outputs=output_schema)"
   ]
  },
  {
   "cell_type": "code",
   "execution_count": 17,
   "id": "impressive-wagner",
   "metadata": {},
   "outputs": [],
   "source": [
    "import matplotlib as mpl\n",
    "import matplotlib.pyplot as plt\n",
    "\n",
    "mpl.rcParams['figure.figsize'] = (8, 6)\n",
    "mpl.rcParams['axes.grid'] = False\n",
    "\n",
    "def plot_train_history(history, title):\n",
    "    loss = history.history['loss']\n",
    "    val_loss = history.history['val_loss']\n",
    "    epochs = range(len(loss))\n",
    "    plt.figure()\n",
    "    plt.plot(epochs, loss, 'b', label='Training loss')\n",
    "    plt.plot(epochs, val_loss, 'r', label='Validation loss')\n",
    "    plt.title(title)\n",
    "    plt.legend()"
   ]
  },
  {
   "cell_type": "code",
   "execution_count": 18,
   "id": "stuck-light",
   "metadata": {},
   "outputs": [],
   "source": [
    "from sklearn.metrics import mean_squared_error, r2_score, explained_variance_score, mean_absolute_error\n",
    "\n",
    "def eval_metrics(actual, pred):\n",
    "    mse = mean_squared_error(actual, pred)\n",
    "    msa = mean_absolute_error(actual, pred)\n",
    "    r2 = r2_score(actual, pred)\n",
    "    variance = explained_variance_score(actual, pred)\n",
    "    return mse, msa, r2, variance"
   ]
  },
  {
   "cell_type": "markdown",
   "id": "isolated-duplicate",
   "metadata": {},
   "source": [
    "# 3. Run Experiments"
   ]
  },
  {
   "cell_type": "code",
   "execution_count": 19,
   "id": "plastic-bruce",
   "metadata": {},
   "outputs": [],
   "source": [
    "from tensorflow.keras.layers import LSTM, Dense,GRU,Dropout\n",
    "\n",
    "model_name = 'scoring_rnn_gru_kinect'\n",
    "\n",
    "OPTIMIZER='adam'\n",
    "EVALUATION_INTERVAL = 2000\n",
    "EPOCHS = 50\n",
    "VERBOSE = 1\n",
    "ACTIVATION = 'relu'\n",
    "\n",
    "lstm_model_1 = [\n",
    "    GRU(32,return_sequences=True),\n",
    "    GRU(8,activation=ACTIVATION),\n",
    "    Dropout(0.2),\n",
    "    Dense(32,activation=ACTIVATION),\n",
    "    Dense(1)\n",
    "]\n",
    "\n",
    "tags = {\"type.base\": \"RNN\",\n",
    "        \"type.sub\": \"GRU\",\n",
    "        \"domain\": \"exercise_score\"}\n"
   ]
  },
  {
   "cell_type": "code",
   "execution_count": 20,
   "id": "forbidden-insertion",
   "metadata": {
    "scrolled": false
   },
   "outputs": [
    {
     "name": "stdout",
     "output_type": "stream",
     "text": [
      "Model: \"sequential\"\n",
      "_________________________________________________________________\n",
      "Layer (type)                 Output Shape              Param #   \n",
      "=================================================================\n",
      "gru (GRU)                    (None, 30, 32)            7008      \n",
      "_________________________________________________________________\n",
      "gru_1 (GRU)                  (None, 8)                 1008      \n",
      "_________________________________________________________________\n",
      "dropout (Dropout)            (None, 8)                 0         \n",
      "_________________________________________________________________\n",
      "dense (Dense)                (None, 32)                288       \n",
      "_________________________________________________________________\n",
      "dense_1 (Dense)              (None, 1)                 33        \n",
      "=================================================================\n",
      "Total params: 8,337\n",
      "Trainable params: 8,337\n",
      "Non-trainable params: 0\n",
      "_________________________________________________________________\n",
      "None\n",
      "Epoch 1/50\n",
      "2000/2000 [==============================] - 39s 18ms/step - loss: 0.6901 - mse: 0.6901 - mae: 0.6467 - rmse: 0.8277 - val_loss: 0.9233 - val_mse: 0.9233 - val_mae: 0.6883 - val_rmse: 0.9609\n",
      "Epoch 2/50\n",
      "2000/2000 [==============================] - 27s 14ms/step - loss: 0.3737 - mse: 0.3737 - mae: 0.4542 - rmse: 0.6111 - val_loss: 0.8962 - val_mse: 0.8962 - val_mae: 0.7101 - val_rmse: 0.9467\n",
      "Epoch 3/50\n",
      "2000/2000 [==============================] - 27s 14ms/step - loss: 0.2962 - mse: 0.2962 - mae: 0.3970 - rmse: 0.5442 - val_loss: 0.9294 - val_mse: 0.9294 - val_mae: 0.7124 - val_rmse: 0.9640\n",
      "Epoch 4/50\n",
      "2000/2000 [==============================] - 28s 14ms/step - loss: 0.2611 - mse: 0.2611 - mae: 0.3679 - rmse: 0.5107 - val_loss: 0.9125 - val_mse: 0.9125 - val_mae: 0.6821 - val_rmse: 0.9553\n",
      "Epoch 5/50\n",
      "2000/2000 [==============================] - 32s 16ms/step - loss: 0.2155 - mse: 0.2155 - mae: 0.3316 - rmse: 0.4641 - val_loss: 0.8200 - val_mse: 0.8200 - val_mae: 0.6250 - val_rmse: 0.9056\n",
      "Epoch 6/50\n",
      "2000/2000 [==============================] - 28s 14ms/step - loss: 0.1987 - mse: 0.1987 - mae: 0.3175 - rmse: 0.4457 - val_loss: 0.8345 - val_mse: 0.8345 - val_mae: 0.6508 - val_rmse: 0.9135\n",
      "Epoch 7/50\n",
      "2000/2000 [==============================] - 29s 15ms/step - loss: 0.1827 - mse: 0.1827 - mae: 0.3028 - rmse: 0.4274 - val_loss: 0.7825 - val_mse: 0.7825 - val_mae: 0.6264 - val_rmse: 0.8846\n",
      "Epoch 8/50\n",
      "2000/2000 [==============================] - 28s 14ms/step - loss: 0.1596 - mse: 0.1596 - mae: 0.2827 - rmse: 0.3995 - val_loss: 0.8251 - val_mse: 0.8251 - val_mae: 0.6542 - val_rmse: 0.9083\n",
      "Epoch 9/50\n",
      "2000/2000 [==============================] - 27s 14ms/step - loss: 0.1556 - mse: 0.1556 - mae: 0.2766 - rmse: 0.3945 - val_loss: 0.8378 - val_mse: 0.8378 - val_mae: 0.6430 - val_rmse: 0.9153\n",
      "Epoch 10/50\n",
      "2000/2000 [==============================] - 30s 15ms/step - loss: 0.1401 - mse: 0.1401 - mae: 0.2608 - rmse: 0.3743 - val_loss: 0.7537 - val_mse: 0.7537 - val_mae: 0.6017 - val_rmse: 0.8682\n",
      "Epoch 11/50\n",
      "2000/2000 [==============================] - 29s 15ms/step - loss: 0.1284 - mse: 0.1284 - mae: 0.2484 - rmse: 0.3583 - val_loss: 0.7734 - val_mse: 0.7734 - val_mae: 0.6120 - val_rmse: 0.8794\n",
      "Epoch 12/50\n",
      "2000/2000 [==============================] - 30s 15ms/step - loss: 0.1348 - mse: 0.1348 - mae: 0.2490 - rmse: 0.3668 - val_loss: 0.8420 - val_mse: 0.8420 - val_mae: 0.6377 - val_rmse: 0.9176\n",
      "Epoch 13/50\n",
      "2000/2000 [==============================] - 29s 14ms/step - loss: 0.1203 - mse: 0.1203 - mae: 0.2371 - rmse: 0.3468 - val_loss: 0.9338 - val_mse: 0.9338 - val_mae: 0.7035 - val_rmse: 0.9663\n",
      "Epoch 14/50\n",
      "2000/2000 [==============================] - 28s 14ms/step - loss: 0.1122 - mse: 0.1122 - mae: 0.2269 - rmse: 0.3339 - val_loss: 0.7105 - val_mse: 0.7105 - val_mae: 0.5751 - val_rmse: 0.8429\n",
      "Epoch 15/50\n",
      "2000/2000 [==============================] - 27s 14ms/step - loss: 0.1085 - mse: 0.1085 - mae: 0.2237 - rmse: 0.3292 - val_loss: 0.7672 - val_mse: 0.7672 - val_mae: 0.5843 - val_rmse: 0.8759\n",
      "Epoch 16/50\n",
      "2000/2000 [==============================] - 30s 15ms/step - loss: 0.0899 - mse: 0.0899 - mae: 0.2037 - rmse: 0.2996 - val_loss: 0.7007 - val_mse: 0.7007 - val_mae: 0.5637 - val_rmse: 0.8371\n",
      "Epoch 17/50\n",
      "2000/2000 [==============================] - 32s 16ms/step - loss: 0.1184 - mse: 0.1184 - mae: 0.2269 - rmse: 0.3429 - val_loss: 0.6459 - val_mse: 0.6459 - val_mae: 0.5506 - val_rmse: 0.8037\n",
      "Epoch 18/50\n",
      "2000/2000 [==============================] - 30s 15ms/step - loss: 0.0928 - mse: 0.0928 - mae: 0.2048 - rmse: 0.3042 - val_loss: 0.7427 - val_mse: 0.7427 - val_mae: 0.5906 - val_rmse: 0.8618\n",
      "Epoch 19/50\n",
      "2000/2000 [==============================] - 32s 16ms/step - loss: 0.0825 - mse: 0.0825 - mae: 0.1937 - rmse: 0.2870 - val_loss: 0.7740 - val_mse: 0.7740 - val_mae: 0.6168 - val_rmse: 0.8797\n",
      "Epoch 20/50\n",
      "2000/2000 [==============================] - 28s 14ms/step - loss: 0.1028 - mse: 0.1028 - mae: 0.2107 - rmse: 0.3199 - val_loss: 0.7766 - val_mse: 0.7766 - val_mae: 0.6199 - val_rmse: 0.8813\n",
      "Epoch 21/50\n",
      "2000/2000 [==============================] - 28s 14ms/step - loss: 0.1096 - mse: 0.1096 - mae: 0.2217 - rmse: 0.3305 - val_loss: 0.7455 - val_mse: 0.7455 - val_mae: 0.5941 - val_rmse: 0.8634\n",
      "Epoch 22/50\n",
      "2000/2000 [==============================] - 27s 13ms/step - loss: 0.0789 - mse: 0.0789 - mae: 0.1899 - rmse: 0.2806 - val_loss: 0.6410 - val_mse: 0.6410 - val_mae: 0.5221 - val_rmse: 0.8006\n",
      "Epoch 23/50\n",
      "2000/2000 [==============================] - 27s 14ms/step - loss: 0.0777 - mse: 0.0777 - mae: 0.1839 - rmse: 0.2784 - val_loss: 0.6294 - val_mse: 0.6294 - val_mae: 0.5481 - val_rmse: 0.7934\n",
      "Epoch 24/50\n",
      "2000/2000 [==============================] - 28s 14ms/step - loss: 0.0810 - mse: 0.0810 - mae: 0.1893 - rmse: 0.2838 - val_loss: 0.6625 - val_mse: 0.6625 - val_mae: 0.5520 - val_rmse: 0.8139\n",
      "Epoch 25/50\n",
      "2000/2000 [==============================] - 28s 14ms/step - loss: 0.0804 - mse: 0.0804 - mae: 0.1851 - rmse: 0.2834 - val_loss: 0.8230 - val_mse: 0.8230 - val_mae: 0.6443 - val_rmse: 0.9072\n",
      "Epoch 26/50\n",
      "2000/2000 [==============================] - 27s 13ms/step - loss: 0.0725 - mse: 0.0725 - mae: 0.1786 - rmse: 0.2692 - val_loss: 0.6592 - val_mse: 0.6592 - val_mae: 0.5610 - val_rmse: 0.8119\n",
      "Epoch 27/50\n",
      "2000/2000 [==============================] - 27s 14ms/step - loss: 0.0769 - mse: 0.0769 - mae: 0.1808 - rmse: 0.2769 - val_loss: 0.6629 - val_mse: 0.6629 - val_mae: 0.5535 - val_rmse: 0.8142\n",
      "Epoch 28/50\n",
      "2000/2000 [==============================] - 27s 13ms/step - loss: 0.0936 - mse: 0.0936 - mae: 0.1969 - rmse: 0.3054 - val_loss: 0.6664 - val_mse: 0.6664 - val_mae: 0.5535 - val_rmse: 0.8163\n",
      "Restoring model weights from the end of the best epoch.\n",
      "Epoch 00028: early stopping\n"
     ]
    },
    {
     "data": {
      "image/png": "[encoded data removed]",
      "text/plain": [
       "<Figure size 576x432 with 1 Axes>"
      ]
     },
     "metadata": {
      "needs_background": "light"
     },
     "output_type": "display_data"
    },
    {
     "name": "stdout",
     "output_type": "stream",
     "text": [
      "29/29 [==============================] - 0s 2ms/step\n",
      "29/29 [==============================] - 0s 3ms/step\n",
      "29/29 [==============================] - 0s 2ms/step\n",
      "29/29 [==============================] - 0s 3ms/step\n",
      "29/29 [==============================] - 0s 3ms/step\n",
      "29/29 [==============================] - 0s 3ms/step\n",
      "29/29 [==============================] - 0s 3ms/step\n",
      "29/29 [==============================] - 0s 3ms/step\n",
      "29/29 [==============================] - 0s 3ms/step\n",
      "29/29 [==============================] - 0s 3ms/step\n"
     ]
    },
    {
     "name": "stderr",
     "output_type": "stream",
     "text": [
      "WARNING:absl:Found untraced functions such as gru_cell_layer_call_and_return_conditional_losses, gru_cell_layer_call_fn, gru_cell_layer_call_fn, gru_cell_layer_call_and_return_conditional_losses, gru_cell_layer_call_and_return_conditional_losses while saving (showing 5 of 5). These functions will not be directly callable after loading.\n"
     ]
    },
    {
     "name": "stdout",
     "output_type": "stream",
     "text": [
      "INFO:tensorflow:Assets written to: /var/folders/m8/zs0d09l904s28pmh_g_t5q640000gn/T/tmpfnm50s2y/model/data/model/assets\n"
     ]
    },
    {
     "name": "stderr",
     "output_type": "stream",
     "text": [
      "INFO:tensorflow:Assets written to: /var/folders/m8/zs0d09l904s28pmh_g_t5q640000gn/T/tmpfnm50s2y/model/data/model/assets\n"
     ]
    }
   ],
   "source": [
    "import time\n",
    "\n",
    "with mlflow.start_run(run_name=model_name) as run:\n",
    "    mlflow.set_tags(tags)\n",
    "\n",
    "    model = create_model(layers=lstm_model_1, optimizer=OPTIMIZER)\n",
    "    \n",
    "    history = model.fit(train_set, \n",
    "                        epochs=EPOCHS, \n",
    "                        steps_per_epoch=EVALUATION_INTERVAL, \n",
    "                        validation_data=test_set, \n",
    "                        validation_steps=50,\n",
    "                        verbose=VERBOSE, \n",
    "                        callbacks=[early_stopping])\n",
    "    \n",
    "    # Plot training history\n",
    "    plot_train_history(history, 'Training and validation loss')\n",
    "    plt.savefig(\"training_history.jpg\")\n",
    "    mlflow.log_artifact(\"training_history.jpg\")\n",
    "    plt.show()\n",
    "\n",
    "    # Log model parameters\n",
    "    mlflow.log_param(\"activation\", ACTIVATION)\n",
    "    mlflow.log_param(\"optimizer\", OPTIMIZER)\n",
    "    mlflow.log_param(\"evaluation interval\", EVALUATION_INTERVAL)\n",
    "    mlflow.log_param(\"epochs\", early_stopping.stopped_epoch)\n",
    "    mlflow.log_param(\"total params\", model.count_params())\n",
    "    mlflow.log_param(\"C\", HISTORY_SIZE)\n",
    "    mlflow.log_param(\"step size\", STEP)\n",
    "    mlflow.log_param(\"input mean\", train_mean)\n",
    "    mlflow.log_param(\"input std\", train_std)\n",
    "    mlflow.log_param(\"output mean\", target_mean)\n",
    "    mlflow.log_param(\"output std\", target_std)\n",
    "\n",
    "    # Log model prediction time\n",
    "    predictions = None\n",
    "    times = []\n",
    "    for i in range(10):\n",
    "        start_time = time.time()\n",
    "        predictions = model.predict(X_test,verbose=1)\n",
    "        end_time = time.time()\n",
    "        process_time = (end_time - start_time) * 1000\n",
    "        times.append(process_time)\n",
    "    process_time = sum(times) / len(times) / len(predictions)\n",
    "\n",
    "    # Log model performance\n",
    "    predictions = predictions * target_std + target_mean\n",
    "    actual = y_test * target_std + target_mean\n",
    "\n",
    "    (mse, mae, r2, variance) = eval_metrics(actual, predictions)\n",
    "    mlflow.log_metric(\"mse\", mse)\n",
    "    mlflow.log_metric(\"mae\", mae)\n",
    "    mlflow.log_metric(\"R-squared\", r2)\n",
    "    mlflow.log_metric(\"variance\", variance)\n",
    "    mlflow.log_metric(\"process time\", process_time)\n",
    "    \n",
    "    # Log model and scaler(s)\n",
    "    mlflow.keras.log_model(model, model_name, signature=signature)\n",
    "#     mlflow.sklearn.log_model(X_scaler, 'InputScaler')\n",
    "#     mlflow.sklearn.log_model(y_scaler, 'OutputScaler')"
   ]
  },
  {
   "cell_type": "markdown",
   "id": "entire-poultry",
   "metadata": {},
   "source": [
    "## 3.2 Plot Training History"
   ]
  },
  {
   "cell_type": "code",
   "execution_count": 21,
   "id": "advance-violation",
   "metadata": {},
   "outputs": [
    {
     "data": {
      "image/png": "[encoded data removed]",
      "text/plain": [
       "<Figure size 576x432 with 1 Axes>"
      ]
     },
     "metadata": {
      "needs_background": "light"
     },
     "output_type": "display_data"
    }
   ],
   "source": [
    "plot_train_history(history, 'Training and validation loss')\n",
    "#plt.savefig(\"training_history.jpg\")\n",
    "#mlflow.log_artifact(\"training_history.jpg\")\n",
    "plt.show()"
   ]
  },
  {
   "cell_type": "code",
   "execution_count": 22,
   "id": "demanding-hanging",
   "metadata": {
    "scrolled": false
   },
   "outputs": [
    {
     "name": "stdout",
     "output_type": "stream",
     "text": [
      "29/29 [==============================] - 0s 3ms/step\n"
     ]
    },
    {
     "data": {
      "text/plain": [
       "<AxesSubplot:>"
      ]
     },
     "execution_count": 22,
     "metadata": {},
     "output_type": "execute_result"
    },
    {
     "data": {
      "image/png": "[encoded data removed]",
      "text/plain": [
       "<Figure size 700x560 with 1 Axes>"
      ]
     },
     "metadata": {
      "needs_background": "light"
     },
     "output_type": "display_data"
    }
   ],
   "source": [
    "import seaborn\n",
    "import matplotlib.pyplot as plt\n",
    "import numpy\n",
    "w = 10\n",
    "h = 8\n",
    "d = 70\n",
    "plt.figure(figsize=(w, h), dpi=d)\n",
    "\n",
    "a = model.predict(X_test,verbose=1).reshape(-1) * target_std + target_mean\n",
    "b = y_test* target_std + target_mean\n",
    "\n",
    "y1=y_test.reshape(len(predictions))\n",
    "y2=predictions.reshape(len(predictions))\n",
    "x = np.arange(len(y_test))\n",
    "\n",
    "seaborn.scatterplot(x, a)\n",
    "seaborn.scatterplot(x, b)\n"
   ]
  }
 ],
 "metadata": {
  "kernelspec": {
   "display_name": "Python 3",
   "language": "python",
   "name": "python3"
  },
  "language_info": {
   "codemirror_mode": {
    "name": "ipython",
    "version": 3
   },
   "file_extension": ".py",
   "mimetype": "text/x-python",
   "name": "python",
   "nbconvert_exporter": "python",
   "pygments_lexer": "ipython3",
   "version": "3.9.5"
  }
 },
 "nbformat": 4,
 "nbformat_minor": 5
}
