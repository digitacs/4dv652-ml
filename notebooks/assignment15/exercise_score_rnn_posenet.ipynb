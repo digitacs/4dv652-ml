{
 "cells": [
  {
   "cell_type": "markdown",
   "id": "intermediate-client",
   "metadata": {},
   "source": [
    "# RNN"
   ]
  },
  {
   "cell_type": "code",
   "execution_count": 1,
   "id": "secret-combining",
   "metadata": {},
   "outputs": [
    {
     "name": "stdout",
     "output_type": "stream",
     "text": [
      "INFO:tensorflow:Enabling eager execution\n",
      "INFO:tensorflow:Enabling v2 tensorshape\n",
      "INFO:tensorflow:Enabling resource variables\n",
      "INFO:tensorflow:Enabling tensor equality\n",
      "INFO:tensorflow:Enabling control flow v2\n",
      "Num GPUs Available:  0\n"
     ]
    }
   ],
   "source": [
    "# General requirements\n",
    "import os\n",
    "import pandas as pd\n",
    "import numpy as np\n",
    "\n",
    "# MLflow dashboard\n",
    "import mlflow\n",
    "mlflow.set_tracking_uri('http://35.228.45.76:5000')\n",
    "os.environ['GOOGLE_APPLICATION_CREDENTIALS']='../../keys/mlflow-312506-8cfad529f4fd.json'\n",
    "\n",
    "# Ignore warnings\n",
    "import warnings\n",
    "warnings.simplefilter('ignore')\n",
    "\n",
    "# Import data augmentation\n",
    "import sys\n",
    "module_path = os.path.abspath(os.path.join('../..'))\n",
    "if module_path not in sys.path:\n",
    "    sys.path.append(module_path)\n",
    "from augmentation.methods import *\n",
    "\n",
    "# Set random state\n",
    "import numpy as np\n",
    "random_state = 47\n",
    "np.random.seed(random_state)\n",
    "\n",
    "# Use GPU (if available)\n",
    "import tensorflow as tf\n",
    "physical_devices = tf.config.experimental.list_physical_devices( 'GPU' )\n",
    "print( 'Num GPUs Available: ', len( physical_devices ) )\n",
    "if len( physical_devices ) > 0:\n",
    "    tf.config.experimental.set_memory_growth( physical_devices[0], True )"
   ]
  },
  {
   "cell_type": "markdown",
   "id": "crucial-parent",
   "metadata": {},
   "source": [
    "# 1. Data Preparation\n",
    "\n",
    "## 1.1 Load Dataset"
   ]
  },
  {
   "cell_type": "code",
   "execution_count": 2,
   "id": "conventional-chance",
   "metadata": {},
   "outputs": [],
   "source": [
    "posenet_dataset_path = '../../datasets/posenet-uncut/'\n",
    "kinect_dataset_path = '../../datasets/kinect_fixed_not_cut/'\n",
    "cut_dataset_path = '../../datasets/new_posenet_marked_start_end/'\n",
    "goodness_score = pd.read_csv('../../datasets/VideoScoring.csv')\n",
    "exrecise_score = pd.read_csv('../../datasets/ExerciseScoring.csv')\n",
    "\n",
    "train_test_ratio = 0.9\n",
    "new_label = 'ExreciseScore'\n",
    "exersice_score_indicator = 'O_Score'\n",
    "goodness_score_indicator = 'AVG'\n",
    "goodness_score_threshold = 3"
   ]
  },
  {
   "cell_type": "code",
   "execution_count": 3,
   "id": "surrounded-defense",
   "metadata": {},
   "outputs": [],
   "source": [
    "# Drop video augmentation results\n",
    "goodness_score = goodness_score[goodness_score['FileName'].str.match('U')==False]\n",
    "goodness_score = goodness_score[goodness_score[goodness_score_indicator]>=goodness_score_threshold]\n",
    "\n",
    "posenet_ok = goodness_score['FileName']+'.csv'\n",
    "\n",
    "exrecise_score['Posenet'] = exrecise_score['Posenet'] + '.csv'\n",
    "exrecise_score['Kinect'] = exrecise_score['Kinect'] + '.csv'"
   ]
  },
  {
   "cell_type": "code",
   "execution_count": 4,
   "id": "simplified-segment",
   "metadata": {},
   "outputs": [
    {
     "name": "stdout",
     "output_type": "stream",
     "text": [
      "Total posenet datasets: 157\n",
      "Total kinect datasets: 157\n"
     ]
    }
   ],
   "source": [
    "posenet_files = []\n",
    "kinect_files = []\n",
    "\n",
    "for file in os.listdir(posenet_dataset_path):\n",
    "    if not file.find(\".csv\",0) == -1:\n",
    "        if file in (goodness_score['FileName']+'.csv').to_list():\n",
    "            posenet_files.append(file)\n",
    "        \n",
    "for file in os.listdir(kinect_dataset_path):\n",
    "    if not file.find(\".csv\",0) == -1:\n",
    "        if file in (goodness_score['FileName']+'_kinect.csv').to_list():\n",
    "            kinect_files.append(file)\n",
    "        \n",
    "print('Total posenet datasets: {}'.format(len(posenet_files)))\n",
    "print('Total kinect datasets: {}'.format(len(kinect_files)))"
   ]
  },
  {
   "cell_type": "code",
   "execution_count": 5,
   "id": "unnecessary-debate",
   "metadata": {},
   "outputs": [
    {
     "name": "stdout",
     "output_type": "stream",
     "text": [
      "141 141\n"
     ]
    }
   ],
   "source": [
    "TRAIN_SPLIT_POSENET = int(len(posenet_files)*train_test_ratio)\n",
    "TRAIN_SPLIT_KINECT = int(len(kinect_files)*train_test_ratio)\n",
    "print(TRAIN_SPLIT_POSENET,TRAIN_SPLIT_KINECT)"
   ]
  },
  {
   "cell_type": "markdown",
   "id": "indie-prior",
   "metadata": {},
   "source": [
    "## 1.2 Reshaping the datasets for RNN"
   ]
  },
  {
   "cell_type": "code",
   "execution_count": 6,
   "id": "romance-liability",
   "metadata": {},
   "outputs": [],
   "source": [
    "def data_augmentation(df):\n",
    "    augmented_datasets = []\n",
    "    \n",
    "    # Add original data\n",
    "    augmented_datasets.append(df)\n",
    "    \n",
    "    # Mirror X coordinate\n",
    "    for i in range(len(augmented_datasets)):\n",
    "        augmented_datasets.append(mirror(augmented_datasets[i],'x', append=False))\n",
    "\n",
    "    # Stretch by 50%\n",
    "    for i in range(len(augmented_datasets)):\n",
    "        df_temp = augMultiplier(augmented_datasets[i].drop(columns=[new_label]), multiplier=1.5)\n",
    "        df_temp[new_label] = augmented_datasets[i][new_label]\n",
    "        augmented_datasets.append(df_temp)\n",
    "    \n",
    "\n",
    "    # Compress by 25%\n",
    "    for i in range(len(augmented_datasets)):\n",
    "        df_temp = augMultiplier(augmented_datasets[i].drop(columns=[new_label]), multiplier=0.25)\n",
    "        df_temp[new_label] = augmented_datasets[i][new_label]\n",
    "        augmented_datasets.append(df_temp)\n",
    "   \n",
    "\n",
    "    # Rotate by p/7\n",
    "#     samples = df.sample(5000)\n",
    "#     angle = 3.1415 / 7\n",
    "#     samples_rotated = rotate(samples.drop(columns=[new_label]), angle=angle, posenet=False)\n",
    "#     samples_rotated[new_label] = samples[new_label].append(samples[new_label], ignore_index=True)\n",
    "#     df = df.append(samples_rotated, ignore_index=True)\n",
    "#     print(df.shape)\n",
    "\n",
    "    # Rotate by -p/9\n",
    "#     samples = df.sample(5000)\n",
    "#     angle = 3.1415 / -9\n",
    "#     samples_rotated = rotate(samples.drop(columns=[new_label]), angle=angle, posenet=False)\n",
    "#     samples_rotated[new_label] = samples[new_label].append(samples[new_label], ignore_index=True)\n",
    "#     df = df.append(samples_rotated, ignore_index=True)\n",
    "#     print(df.shape)\n",
    "\n",
    "    return augmented_datasets"
   ]
  },
  {
   "cell_type": "code",
   "execution_count": 7,
   "id": "adopted-nancy",
   "metadata": {},
   "outputs": [],
   "source": [
    "HISTORY_SIZE = 30\n",
    "STEP = 8\n",
    "N_FEATURES = 26\n",
    "\n",
    "def multivariate_data(dataset, target_column, history_columns):\n",
    "\n",
    "    segments = []\n",
    "    labels = []\n",
    "\n",
    "    for i in range(0,len(dataset) - HISTORY_SIZE, STEP):\n",
    "        segments.append(dataset[history_columns].values[i:i + HISTORY_SIZE])\n",
    "        labels.append(dataset[target_column].mean())\n",
    "    \n",
    "    return np.array(segments), np.array(labels)"
   ]
  },
  {
   "cell_type": "code",
   "execution_count": 8,
   "id": "hungarian-leader",
   "metadata": {},
   "outputs": [],
   "source": [
    "history_columns = ['head_x', 'head_y', 'left_shoulder_x', 'left_shoulder_y',\n",
    "       'right_shoulder_x', 'right_shoulder_y', 'left_elbow_x', 'left_elbow_y',\n",
    "       'right_elbow_x', 'right_elbow_y', 'left_wrist_x', 'left_wrist_y',\n",
    "       'right_wrist_x', 'right_wrist_y', 'left_hip_x', 'left_hip_y',\n",
    "       'right_hip_x', 'right_hip_y', 'left_knee_x', 'left_knee_y',\n",
    "       'right_knee_x', 'right_knee_y', 'left_ankle_x', 'left_ankle_y',\n",
    "       'right_ankle_x', 'right_ankle_y']\n",
    "target_column = 'ExreciseScore'\n",
    "\n",
    "def read_dataset(path,file_list,split_point,is_posenet=True,isTrain=True):\n",
    "    all_segments = None\n",
    "    all_labels = None\n",
    "    \n",
    "    start=0\n",
    "    end=0\n",
    "    \n",
    "    if isTrain:\n",
    "        start = 0\n",
    "        end = split_point\n",
    "    else:\n",
    "        start = split_point\n",
    "        end = len(file_list)\n",
    "    \n",
    "    for file in file_list[start:end]:\n",
    "        df = pd.read_csv(path+file)\n",
    "        \n",
    "        if is_posenet:  \n",
    "            df = df[df.columns.drop(list(df.filter(regex='_eye_')))]\n",
    "            df = df[df.columns.drop(list(df.filter(regex='_ear_')))]\n",
    "            df = df[df.columns.drop(list(df.filter(regex='score')))]\n",
    "            df = df.rename(columns={'nose_x': 'head_x', 'nose_y': 'head_y'})\n",
    "            df[new_label] = float(exrecise_score[exrecise_score['Posenet'] == file][exersice_score_indicator])\n",
    "        else:  \n",
    "            df = df.drop(columns=['Unnamed: 0','FrameNo'])\n",
    "            df[new_label] = float(exrecise_score[exrecise_score['Kinect'] == file][exersice_score_indicator])\n",
    "            \n",
    "        # Cut start / end\n",
    "        try:\n",
    "            se = pd.read_csv('../../datasets/new_posenet_marked_start_end/'+file)\n",
    "            cut_start = min(se[(se['start']==0) * (se['end']==0)].index)\n",
    "            cut_end = max(se[(se['start']==0) * (se['end']==0)].index)\n",
    "            df = df.iloc[cut_start:cut_end]\n",
    "        except IOError as e:\n",
    "            print('Error in reading file: ', e)\n",
    "            \n",
    "    \n",
    "        if isTrain:\n",
    "            for sets in data_augmentation(df):\n",
    "                segment,label = multivariate_data(sets,target_column,history_columns)\n",
    "\n",
    "                if all_segments is None:\n",
    "                    all_segments = segment\n",
    "                    all_labels = label\n",
    "                else:\n",
    "                    all_segments = np.append(all_segments,segment,axis=0)  \n",
    "                    all_labels = np.append(all_labels,label,axis=0)  \n",
    "\n",
    "                sys.stdout.write(\"Total added rows: %d   \\r\" % (all_segments.shape[0]) )\n",
    "                sys.stdout.flush()\n",
    "        else:\n",
    "            segment,label = multivariate_data(df,target_column,history_columns)\n",
    "\n",
    "            if all_segments is None:\n",
    "                all_segments = segment\n",
    "                all_labels = label\n",
    "            else:\n",
    "                all_segments = np.append(all_segments,segment,axis=0)  \n",
    "                all_labels = np.append(all_labels,label,axis=0)\n",
    "    \n",
    "    return all_segments,all_labels"
   ]
  },
  {
   "cell_type": "code",
   "execution_count": 9,
   "id": "british-advantage",
   "metadata": {},
   "outputs": [
    {
     "name": "stdout",
     "output_type": "stream",
     "text": [
      "Error in reading file:  [Errno 2] No such file or directory: '../../datasets/new_posenet_marked_start_end/A60.csv'\n",
      "Total added rows: 67392   \r"
     ]
    }
   ],
   "source": [
    "X_train, y_train = read_dataset(posenet_dataset_path,posenet_files,TRAIN_SPLIT_POSENET,True,True)\n",
    "X_test, y_test = read_dataset(posenet_dataset_path,posenet_files,TRAIN_SPLIT_POSENET,True,False)"
   ]
  },
  {
   "cell_type": "code",
   "execution_count": 10,
   "id": "technological-hebrew",
   "metadata": {},
   "outputs": [
    {
     "data": {
      "text/plain": [
       "(67392, 30, 26)"
      ]
     },
     "execution_count": 10,
     "metadata": {},
     "output_type": "execute_result"
    }
   ],
   "source": [
    "X_train.shape"
   ]
  },
  {
   "cell_type": "code",
   "execution_count": 11,
   "id": "apart-brunswick",
   "metadata": {},
   "outputs": [
    {
     "data": {
      "text/plain": [
       "(783, 30, 26)"
      ]
     },
     "execution_count": 11,
     "metadata": {},
     "output_type": "execute_result"
    }
   ],
   "source": [
    "X_test.shape"
   ]
  },
  {
   "cell_type": "markdown",
   "id": "professional-characteristic",
   "metadata": {},
   "source": [
    "## 1.3 Standardize features and labels"
   ]
  },
  {
   "cell_type": "code",
   "execution_count": 12,
   "id": "wooden-university",
   "metadata": {},
   "outputs": [
    {
     "name": "stdout",
     "output_type": "stream",
     "text": [
      "Train data shape\n",
      "(67392, 30, 26)\n",
      "(67392,)\n",
      "Test data shape\n",
      "(783, 30, 26)\n",
      "(783,)\n"
     ]
    }
   ],
   "source": [
    "train_mean = X_train.mean()\n",
    "train_std = X_train.std()\n",
    "X_train = (X_train-train_mean)/train_std\n",
    "X_test = (X_test-train_mean)/train_std\n",
    "\n",
    "target_mean = y_train.mean()\n",
    "target_std = y_train.std()\n",
    "y_train = (y_train-target_mean)/target_std\n",
    "y_test = (y_test-target_mean)/target_std\n",
    "\n",
    "\n",
    "print ('Train data shape')\n",
    "print(X_train.shape)\n",
    "print(y_train.shape)\n",
    "print ('Test data shape')\n",
    "print(X_test.shape)\n",
    "print(y_test.shape)"
   ]
  },
  {
   "cell_type": "code",
   "execution_count": 13,
   "id": "aggregate-revision",
   "metadata": {},
   "outputs": [],
   "source": [
    "BATCH_SIZE = 60\n",
    "BUFFER_SIZE = 100000\n",
    "\n",
    "train_set = tf.data.Dataset.from_tensor_slices((X_train, y_train))\n",
    "train_set = train_set.cache().shuffle(BUFFER_SIZE).batch(BATCH_SIZE).repeat()\n",
    "\n",
    "test_set = tf.data.Dataset.from_tensor_slices((X_test, y_test))\n",
    "test_set = test_set.batch(BATCH_SIZE).repeat()"
   ]
  },
  {
   "cell_type": "markdown",
   "id": "damaged-service",
   "metadata": {},
   "source": [
    "# 2. Define Model Architecture\n",
    "\n",
    "## 2.1 Model Architecture"
   ]
  },
  {
   "cell_type": "code",
   "execution_count": 14,
   "id": "excellent-suffering",
   "metadata": {},
   "outputs": [],
   "source": [
    "from tensorflow.keras.metrics import MeanSquaredError, MeanAbsoluteError, RootMeanSquaredError\n",
    "from tensorflow.keras.layers import InputLayer\n",
    "\n",
    "INPUT_SHAPE = X_train.shape[-2:]\n",
    "\n",
    "metrics = [\n",
    "    MeanSquaredError(name=\"mse\", dtype=None),\n",
    "    MeanAbsoluteError(name=\"mae\", dtype=None),\n",
    "    RootMeanSquaredError(name=\"rmse\", dtype=None),\n",
    "]\n",
    "\n",
    "def create_model(layers, optimizer):\n",
    "    model = tf.keras.models.Sequential(\n",
    "        InputLayer(input_shape=INPUT_SHAPE)\n",
    "    )\n",
    "\n",
    "    for layer in layers:\n",
    "        model.add(layer)\n",
    "\n",
    "    model.compile(optimizer=optimizer, loss='mean_squared_error', metrics=metrics)\n",
    "\n",
    "    print(model.summary())\n",
    "\n",
    "    return model"
   ]
  },
  {
   "cell_type": "code",
   "execution_count": 15,
   "id": "promising-amazon",
   "metadata": {},
   "outputs": [],
   "source": [
    "from keras.callbacks import EarlyStopping\n",
    "early_stopping = EarlyStopping(\n",
    "    monitor='val_loss', \n",
    "    verbose=1,\n",
    "    patience=5,\n",
    "    mode='min',\n",
    "    restore_best_weights=True)"
   ]
  },
  {
   "cell_type": "code",
   "execution_count": 16,
   "id": "bronze-economics",
   "metadata": {},
   "outputs": [],
   "source": [
    "from mlflow.models.signature import ModelSignature\n",
    "from mlflow.types.schema import Schema, ColSpec\n",
    "\n",
    "input_schema = Schema([\n",
    "    ColSpec(\"double\", \"head_x\"),\n",
    "    ColSpec(\"double\", \"head_y\"),\n",
    "    ColSpec(\"double\", \"left_shoulder_x\"),\n",
    "    ColSpec(\"double\", \"left_shoulder_y\"),\n",
    "    ColSpec(\"double\", \"right_shoulder_x\"),\n",
    "    ColSpec(\"double\", \"right_shoulder_y\"),\n",
    "    ColSpec(\"double\", \"left_elbow_x\"),\n",
    "    ColSpec(\"double\", \"left_elbow_y\"),\n",
    "    ColSpec(\"double\", \"right_elbow_x\"),\n",
    "    ColSpec(\"double\", \"right_elbow_y\"),\n",
    "    ColSpec(\"double\", \"left_wrist_x\"),\n",
    "    ColSpec(\"double\", \"left_wrist_y\"),\n",
    "    ColSpec(\"double\", \"right_wrist_x\"),\n",
    "    ColSpec(\"double\", \"right_wrist_y\"),\n",
    "    ColSpec(\"double\", \"left_hip_x\"),\n",
    "    ColSpec(\"double\", \"left_hip_y\"),\n",
    "    ColSpec(\"double\", \"right_hip_x\"),\n",
    "    ColSpec(\"double\", \"right_hip_y\"),\n",
    "    ColSpec(\"double\", \"left_knee_x\"),\n",
    "    ColSpec(\"double\", \"left_knee_y\"),\n",
    "    ColSpec(\"double\", \"right_knee_x\"),\n",
    "    ColSpec(\"double\", \"right_knee_y\"),\n",
    "    ColSpec(\"double\", \"left_ankle_x\"),\n",
    "    ColSpec(\"double\", \"left_ankle_y\"),\n",
    "    ColSpec(\"double\", \"right_ankle_x\"),\n",
    "    ColSpec(\"double\", \"right_ankle_y\"),\n",
    "])\n",
    "output_schema = Schema([\n",
    "    ColSpec(\"double\", \"ExreciseScore\"),\n",
    "])\n",
    "signature = ModelSignature(inputs=input_schema, outputs=output_schema)"
   ]
  },
  {
   "cell_type": "code",
   "execution_count": 17,
   "id": "impressive-wagner",
   "metadata": {},
   "outputs": [],
   "source": [
    "import matplotlib as mpl\n",
    "import matplotlib.pyplot as plt\n",
    "\n",
    "mpl.rcParams['figure.figsize'] = (8, 6)\n",
    "mpl.rcParams['axes.grid'] = False\n",
    "\n",
    "def plot_train_history(history, title):\n",
    "    loss = history.history['loss']\n",
    "    val_loss = history.history['val_loss']\n",
    "    epochs = range(len(loss))\n",
    "    plt.figure()\n",
    "    plt.plot(epochs, loss, 'b', label='Training loss')\n",
    "    plt.plot(epochs, val_loss, 'r', label='Validation loss')\n",
    "    plt.title(title)\n",
    "    plt.legend()"
   ]
  },
  {
   "cell_type": "code",
   "execution_count": 18,
   "id": "stuck-light",
   "metadata": {},
   "outputs": [],
   "source": [
    "from sklearn.metrics import mean_squared_error, r2_score, explained_variance_score, mean_absolute_error\n",
    "\n",
    "def eval_metrics(actual, pred):\n",
    "    mse = mean_squared_error(actual, pred)\n",
    "    msa = mean_absolute_error(actual, pred)\n",
    "    r2 = r2_score(actual, pred)\n",
    "    variance = explained_variance_score(actual, pred)\n",
    "    return mse, msa, r2, variance"
   ]
  },
  {
   "cell_type": "markdown",
   "id": "isolated-duplicate",
   "metadata": {},
   "source": [
    "# 3. Run Experiments"
   ]
  },
  {
   "cell_type": "code",
   "execution_count": 19,
   "id": "plastic-bruce",
   "metadata": {},
   "outputs": [],
   "source": [
    "from tensorflow.keras.layers import LSTM, Dense,GRU,Dropout\n",
    "\n",
    "model_name = 'scoring_rnn_gru'\n",
    "\n",
    "OPTIMIZER='adam'\n",
    "EVALUATION_INTERVAL = 2000\n",
    "EPOCHS = 50\n",
    "VERBOSE = 1\n",
    "ACTIVATION = 'relu'\n",
    "\n",
    "lstm_model_1 = [\n",
    "    LSTM(32,return_sequences=True),\n",
    "    LSTM(16,activation=ACTIVATION),\n",
    "    Dropout(0.2),\n",
    "    Dense(16,activation=ACTIVATION),\n",
    "    Dense(1)\n",
    "]\n",
    "\n",
    "tags = {\"type.base\": \"RNN\",\n",
    "        \"type.sub\": \"LSTM\",\n",
    "        \"domain\": \"exercise_score\"}\n"
   ]
  },
  {
   "cell_type": "code",
   "execution_count": 20,
   "id": "forbidden-insertion",
   "metadata": {
    "scrolled": false
   },
   "outputs": [
    {
     "name": "stdout",
     "output_type": "stream",
     "text": [
      "Model: \"sequential\"\n",
      "_________________________________________________________________\n",
      "Layer (type)                 Output Shape              Param #   \n",
      "=================================================================\n",
      "lstm (LSTM)                  (None, 30, 32)            7552      \n",
      "_________________________________________________________________\n",
      "lstm_1 (LSTM)                (None, 16)                3136      \n",
      "_________________________________________________________________\n",
      "dropout (Dropout)            (None, 16)                0         \n",
      "_________________________________________________________________\n",
      "dense (Dense)                (None, 16)                272       \n",
      "_________________________________________________________________\n",
      "dense_1 (Dense)              (None, 1)                 17        \n",
      "=================================================================\n",
      "Total params: 10,977\n",
      "Trainable params: 10,977\n",
      "Non-trainable params: 0\n",
      "_________________________________________________________________\n",
      "None\n",
      "Epoch 1/50\n",
      "2000/2000 [==============================] - 27s 12ms/step - loss: 0.9698 - mse: 0.9698 - mae: 0.7886 - rmse: 0.9847 - val_loss: 0.8541 - val_mse: 0.8541 - val_mae: 0.7980 - val_rmse: 0.9242\n",
      "Epoch 2/50\n",
      "2000/2000 [==============================] - 23s 12ms/step - loss: 0.8377 - mse: 0.8377 - mae: 0.7465 - rmse: 0.9153 - val_loss: 0.7942 - val_mse: 0.7942 - val_mae: 0.7193 - val_rmse: 0.8912\n",
      "Epoch 3/50\n",
      "2000/2000 [==============================] - 24s 12ms/step - loss: 0.7050 - mse: 0.7050 - mae: 0.6795 - rmse: 0.8395 - val_loss: 0.8481 - val_mse: 0.8481 - val_mae: 0.7748 - val_rmse: 0.9209\n",
      "Epoch 4/50\n",
      "2000/2000 [==============================] - 24s 12ms/step - loss: 0.6661 - mse: 0.6661 - mae: 0.6464 - rmse: 0.8161 - val_loss: 0.7428 - val_mse: 0.7428 - val_mae: 0.6864 - val_rmse: 0.8619\n",
      "Epoch 5/50\n",
      "2000/2000 [==============================] - 24s 12ms/step - loss: 0.6237 - mse: 0.6237 - mae: 0.6257 - rmse: 0.7897 - val_loss: 0.7376 - val_mse: 0.7376 - val_mae: 0.6815 - val_rmse: 0.8589\n",
      "Epoch 6/50\n",
      "2000/2000 [==============================] - 24s 12ms/step - loss: 0.5861 - mse: 0.5861 - mae: 0.6035 - rmse: 0.7655 - val_loss: 0.7259 - val_mse: 0.7259 - val_mae: 0.6921 - val_rmse: 0.8520\n",
      "Epoch 7/50\n",
      "2000/2000 [==============================] - 24s 12ms/step - loss: 0.5634 - mse: 0.5634 - mae: 0.5887 - rmse: 0.7505 - val_loss: 0.7270 - val_mse: 0.7270 - val_mae: 0.6920 - val_rmse: 0.8526\n",
      "Epoch 8/50\n",
      "2000/2000 [==============================] - 23s 12ms/step - loss: 0.5187 - mse: 0.5187 - mae: 0.5576 - rmse: 0.7202 - val_loss: 0.7023 - val_mse: 0.7023 - val_mae: 0.6709 - val_rmse: 0.8380\n",
      "Epoch 9/50\n",
      "2000/2000 [==============================] - 24s 12ms/step - loss: 0.4951 - mse: 0.4951 - mae: 0.5385 - rmse: 0.7036 - val_loss: 0.6469 - val_mse: 0.6469 - val_mae: 0.6356 - val_rmse: 0.8043\n",
      "Epoch 10/50\n",
      "2000/2000 [==============================] - 23s 12ms/step - loss: 0.4778 - mse: 0.4778 - mae: 0.5267 - rmse: 0.6912 - val_loss: 0.6168 - val_mse: 0.6168 - val_mae: 0.5978 - val_rmse: 0.7853\n",
      "Epoch 11/50\n",
      "2000/2000 [==============================] - 24s 12ms/step - loss: 0.4603 - mse: 0.4603 - mae: 0.5137 - rmse: 0.6784 - val_loss: 0.7266 - val_mse: 0.7266 - val_mae: 0.6389 - val_rmse: 0.8524\n",
      "Epoch 12/50\n",
      "2000/2000 [==============================] - 24s 12ms/step - loss: 0.4364 - mse: 0.4364 - mae: 0.4974 - rmse: 0.6606 - val_loss: 0.5485 - val_mse: 0.5485 - val_mae: 0.5635 - val_rmse: 0.7406\n",
      "Epoch 13/50\n",
      "2000/2000 [==============================] - 24s 12ms/step - loss: 0.4124 - mse: 0.4124 - mae: 0.4804 - rmse: 0.6422 - val_loss: 0.8162 - val_mse: 0.8162 - val_mae: 0.7136 - val_rmse: 0.9034\n",
      "Epoch 14/50\n",
      "2000/2000 [==============================] - 32s 16ms/step - loss: 0.4123 - mse: 0.4123 - mae: 0.4787 - rmse: 0.6420 - val_loss: 0.5331 - val_mse: 0.5331 - val_mae: 0.5834 - val_rmse: 0.7301\n",
      "Epoch 15/50\n",
      "2000/2000 [==============================] - 27s 13ms/step - loss: 0.3964 - mse: 0.3964 - mae: 0.4666 - rmse: 0.6296 - val_loss: 0.3931 - val_mse: 0.3931 - val_mae: 0.5057 - val_rmse: 0.6269\n",
      "Epoch 16/50\n",
      "2000/2000 [==============================] - 23s 12ms/step - loss: 0.3948 - mse: 0.3948 - mae: 0.4657 - rmse: 0.6283 - val_loss: 0.3693 - val_mse: 0.3693 - val_mae: 0.4968 - val_rmse: 0.6077\n",
      "Epoch 17/50\n",
      "2000/2000 [==============================] - 23s 12ms/step - loss: 0.3828 - mse: 0.3828 - mae: 0.4553 - rmse: 0.6187 - val_loss: 0.4314 - val_mse: 0.4314 - val_mae: 0.5321 - val_rmse: 0.6568\n",
      "Epoch 18/50\n",
      "2000/2000 [==============================] - 24s 12ms/step - loss: 0.3727 - mse: 0.3727 - mae: 0.4489 - rmse: 0.6105 - val_loss: 0.4826 - val_mse: 0.4826 - val_mae: 0.5415 - val_rmse: 0.6947\n",
      "Epoch 19/50\n",
      "2000/2000 [==============================] - 25s 12ms/step - loss: 0.3727 - mse: 0.3727 - mae: 0.4482 - rmse: 0.6104 - val_loss: 0.3860 - val_mse: 0.3860 - val_mae: 0.5095 - val_rmse: 0.6213\n",
      "Epoch 20/50\n",
      "2000/2000 [==============================] - 25s 13ms/step - loss: 0.3561 - mse: 0.3561 - mae: 0.4353 - rmse: 0.5967 - val_loss: 0.4180 - val_mse: 0.4180 - val_mae: 0.5335 - val_rmse: 0.6465\n",
      "Epoch 21/50\n",
      "2000/2000 [==============================] - 24s 12ms/step - loss: 0.3914 - mse: 0.3914 - mae: 0.4562 - rmse: 0.6251 - val_loss: 0.9254 - val_mse: 0.9254 - val_mae: 0.7411 - val_rmse: 0.9620\n",
      "Restoring model weights from the end of the best epoch.\n",
      "Epoch 00021: early stopping\n"
     ]
    },
    {
     "data": {
      "image/png": "[encoded data removed]",
      "text/plain": [
       "<Figure size 576x432 with 1 Axes>"
      ]
     },
     "metadata": {
      "needs_background": "light"
     },
     "output_type": "display_data"
    },
    {
     "name": "stdout",
     "output_type": "stream",
     "text": [
      "25/25 [==============================] - 0s 3ms/step\n",
      "25/25 [==============================] - 0s 3ms/step\n",
      "25/25 [==============================] - 0s 3ms/step\n",
      "25/25 [==============================] - 0s 3ms/step\n",
      "25/25 [==============================] - 0s 3ms/step\n",
      "25/25 [==============================] - 0s 3ms/step\n",
      "25/25 [==============================] - 0s 3ms/step\n",
      "25/25 [==============================] - 0s 3ms/step\n",
      "25/25 [==============================] - 0s 3ms/step\n",
      "25/25 [==============================] - 0s 3ms/step\n"
     ]
    },
    {
     "name": "stderr",
     "output_type": "stream",
     "text": [
      "WARNING:absl:Found untraced functions such as lstm_cell_layer_call_fn, lstm_cell_layer_call_and_return_conditional_losses, lstm_cell_layer_call_fn, lstm_cell_layer_call_and_return_conditional_losses, lstm_cell_layer_call_and_return_conditional_losses while saving (showing 5 of 5). These functions will not be directly callable after loading.\n"
     ]
    },
    {
     "name": "stdout",
     "output_type": "stream",
     "text": [
      "INFO:tensorflow:Assets written to: /var/folders/m8/zs0d09l904s28pmh_g_t5q640000gn/T/tmpud6h971i/model/data/model/assets\n"
     ]
    },
    {
     "name": "stderr",
     "output_type": "stream",
     "text": [
      "INFO:tensorflow:Assets written to: /var/folders/m8/zs0d09l904s28pmh_g_t5q640000gn/T/tmpud6h971i/model/data/model/assets\n"
     ]
    }
   ],
   "source": [
    "import time\n",
    "\n",
    "with mlflow.start_run(run_name=model_name) as run:\n",
    "    mlflow.set_tags(tags)\n",
    "\n",
    "    model = create_model(layers=lstm_model_1, optimizer=OPTIMIZER)\n",
    "    \n",
    "    history = model.fit(train_set, \n",
    "                        epochs=EPOCHS, \n",
    "                        steps_per_epoch=EVALUATION_INTERVAL, \n",
    "                        validation_data=test_set, \n",
    "                        validation_steps=50,\n",
    "                        verbose=VERBOSE, \n",
    "                        callbacks=[early_stopping])\n",
    "    \n",
    "    # Plot training history\n",
    "    plot_train_history(history, 'Training and validation loss')\n",
    "    plt.savefig(\"training_history.jpg\")\n",
    "    mlflow.log_artifact(\"training_history.jpg\")\n",
    "    plt.show()\n",
    "\n",
    "    # Log model parameters\n",
    "    mlflow.log_param(\"activation\", ACTIVATION)\n",
    "    mlflow.log_param(\"optimizer\", OPTIMIZER)\n",
    "    mlflow.log_param(\"evaluation interval\", EVALUATION_INTERVAL)\n",
    "    mlflow.log_param(\"epochs\", early_stopping.stopped_epoch)\n",
    "    mlflow.log_param(\"total params\", model.count_params())\n",
    "    mlflow.log_param(\"C\", HISTORY_SIZE)\n",
    "    mlflow.log_param(\"step size\", STEP)\n",
    "    mlflow.log_param(\"input mean\", train_mean)\n",
    "    mlflow.log_param(\"input std\", train_std)\n",
    "    mlflow.log_param(\"output mean\", target_mean)\n",
    "    mlflow.log_param(\"output std\", target_std)\n",
    "\n",
    "    # Log model prediction time\n",
    "    predictions = None\n",
    "    times = []\n",
    "    for i in range(10):\n",
    "        start_time = time.time()\n",
    "        predictions = model.predict(X_test,verbose=1)\n",
    "        end_time = time.time()\n",
    "        process_time = (end_time - start_time) * 1000\n",
    "        times.append(process_time)\n",
    "    process_time = sum(times) / len(times) / len(predictions)\n",
    "\n",
    "    # Log model performance\n",
    "    predictions = predictions * target_std + target_mean\n",
    "    actual = y_test * target_std + target_mean\n",
    "\n",
    "    (mse, mae, r2, variance) = eval_metrics(actual, predictions)\n",
    "    mlflow.log_metric(\"mse\", mse)\n",
    "    mlflow.log_metric(\"mae\", mae)\n",
    "    mlflow.log_metric(\"R-squared\", r2)\n",
    "    mlflow.log_metric(\"variance\", variance)\n",
    "    mlflow.log_metric(\"process time\", process_time)\n",
    "    \n",
    "    # Log model and scaler(s)\n",
    "    mlflow.keras.log_model(model, model_name, signature=signature)\n",
    "#     mlflow.sklearn.log_model(X_scaler, 'InputScaler')\n",
    "#     mlflow.sklearn.log_model(y_scaler, 'OutputScaler')"
   ]
  },
  {
   "cell_type": "markdown",
   "id": "entire-poultry",
   "metadata": {},
   "source": [
    "## 3.2 Plot Training History"
   ]
  },
  {
   "cell_type": "code",
   "execution_count": 21,
   "id": "advance-violation",
   "metadata": {},
   "outputs": [
    {
     "data": {
      "image/png": "[encoded data removed]",
      "text/plain": [
       "<Figure size 576x432 with 1 Axes>"
      ]
     },
     "metadata": {
      "needs_background": "light"
     },
     "output_type": "display_data"
    }
   ],
   "source": [
    "plot_train_history(history, 'Training and validation loss')\n",
    "#plt.savefig(\"training_history.jpg\")\n",
    "#mlflow.log_artifact(\"training_history.jpg\")\n",
    "plt.show()"
   ]
  },
  {
   "cell_type": "code",
   "execution_count": 24,
   "id": "demanding-hanging",
   "metadata": {
    "scrolled": false
   },
   "outputs": [
    {
     "name": "stdout",
     "output_type": "stream",
     "text": [
      "25/25 [==============================] - 0s 3ms/step\n"
     ]
    },
    {
     "data": {
      "text/plain": [
       "<AxesSubplot:>"
      ]
     },
     "execution_count": 24,
     "metadata": {},
     "output_type": "execute_result"
    },
    {
     "data": {
      "image/png": "[encoded data removed]",
      "text/plain": [
       "<Figure size 700x560 with 1 Axes>"
      ]
     },
     "metadata": {
      "needs_background": "light"
     },
     "output_type": "display_data"
    }
   ],
   "source": [
    "import seaborn\n",
    "import matplotlib.pyplot as plt\n",
    "import numpy\n",
    "w = 10\n",
    "h = 8\n",
    "d = 70\n",
    "plt.figure(figsize=(w, h), dpi=d)\n",
    "\n",
    "a = model.predict(X_test,verbose=1).reshape(-1) * target_std + target_mean\n",
    "b = y_test* target_std + target_mean\n",
    "\n",
    "y1=y_test.reshape(len(predictions))\n",
    "y2=predictions.reshape(len(predictions))\n",
    "x = np.arange(len(y_test))\n",
    "\n",
    "seaborn.scatterplot(x, a)\n",
    "seaborn.scatterplot(x, b)\n"
   ]
  }
 ],
 "metadata": {
  "kernelspec": {
   "display_name": "Python 3",
   "language": "python",
   "name": "python3"
  },
  "language_info": {
   "codemirror_mode": {
    "name": "ipython",
    "version": 3
   },
   "file_extension": ".py",
   "mimetype": "text/x-python",
   "name": "python",
   "nbconvert_exporter": "python",
   "pygments_lexer": "ipython3",
   "version": "3.9.5"
  }
 },
 "nbformat": 4,
 "nbformat_minor": 5
}
