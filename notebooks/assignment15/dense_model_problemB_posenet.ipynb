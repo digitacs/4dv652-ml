{
 "cells": [
  {
   "cell_type": "markdown",
   "metadata": {},
   "source": [
    "# Dense Model for Kinect data\n",
    "\n",
    "\n",
    "## Section for Configurations and Imports"
   ]
  },
  {
   "cell_type": "code",
   "execution_count": 1,
   "metadata": {},
   "outputs": [
    {
     "name": "stdout",
     "output_type": "stream",
     "text": [
      "INFO:tensorflow:Enabling eager execution\n",
      "INFO:tensorflow:Enabling v2 tensorshape\n",
      "INFO:tensorflow:Enabling resource variables\n",
      "INFO:tensorflow:Enabling tensor equality\n",
      "INFO:tensorflow:Enabling control flow v2\n"
     ]
    }
   ],
   "source": [
    "import os \n",
    "import tempfile\n",
    "\n",
    "import numpy as np \n",
    "import pandas as pd\n",
    "import seaborn as sns\n",
    "import tensorflow as tf\n",
    "import matplotlib as mpl\n",
    "import matplotlib.pyplot as plt\n",
    "import time\n",
    "from tensorflow import keras\n",
    "\n",
    "# MLflow dashboard\n",
    "import mlflow\n",
    "mlflow.set_tracking_uri('http://35.228.45.76:5000')\n",
    "os.environ['GOOGLE_APPLICATION_CREDENTIALS']='../../keys/mlflow-312506-8cfad529f4fd.json'\n",
    "\n",
    "# Import data augmentation\n",
    "import sys\n",
    "module_path = os.path.abspath(os.path.join('../..'))\n",
    "if module_path not in sys.path:\n",
    "    sys.path.append(module_path)\n",
    "from augmentation.methods import *"
   ]
  },
  {
   "cell_type": "code",
   "execution_count": 2,
   "metadata": {},
   "outputs": [],
   "source": [
    "import warnings\n",
    "warnings.simplefilter('ignore')"
   ]
  },
  {
   "cell_type": "code",
   "execution_count": 3,
   "metadata": {},
   "outputs": [],
   "source": [
    "mpl.rcParams['figure.figsize'] = (12, 10)\n",
    "colors = plt.rcParams['axes.prop_cycle'].by_key()['color']"
   ]
  },
  {
   "cell_type": "code",
   "execution_count": 4,
   "metadata": {},
   "outputs": [],
   "source": [
    "random_state = 47\n",
    "np.random.seed(random_state)"
   ]
  },
  {
   "cell_type": "code",
   "execution_count": 5,
   "metadata": {},
   "outputs": [],
   "source": [
    "from keras.callbacks import EarlyStopping\n",
    "\n",
    "early_stopping = EarlyStopping(\n",
    "    monitor='val_loss', \n",
    "    verbose=1,\n",
    "    patience=10,\n",
    "    mode='auto',\n",
    "    restore_best_weights=True)"
   ]
  },
  {
   "cell_type": "markdown",
   "metadata": {},
   "source": [
    "## 1. Load Prepared Dataset"
   ]
  },
  {
   "cell_type": "code",
   "execution_count": 6,
   "metadata": {},
   "outputs": [],
   "source": [
    "data_path = '../../datasets/exercise_score/'\n",
    "train_files = [\n",
    "    'posenet_train_dataset_1.csv',\n",
    "    'posenet_train_dataset_2.csv',\n",
    "    'posenet_train_dataset_3.csv',\n",
    "    'posenet_train_dataset_4.csv',\n",
    "    'posenet_train_dataset_5.csv',\n",
    "]\n",
    "\n",
    "test_files = [\n",
    "    'posenet_test_dataset_1.csv',\n",
    "    'posenet_test_dataset_2.csv',\n",
    "    'posenet_test_dataset_3.csv',\n",
    "]\n",
    "df_train = None\n",
    "df_test = None"
   ]
  },
  {
   "cell_type": "code",
   "execution_count": 7,
   "metadata": {},
   "outputs": [
    {
     "name": "stdout",
     "output_type": "stream",
     "text": [
      "(902240, 27) \n",
      "\n",
      "       head_x     head_y  left_shoulder_x  left_shoulder_y  right_shoulder_x  \\\n",
      "0  421.555422  91.446746       397.484966       131.001872        461.732625   \n",
      "1  421.555422  91.446746       397.484966       131.001872        461.732625   \n",
      "2  421.555422  91.446746       397.484966       131.001872        461.732625   \n",
      "3  421.555422  91.446746       397.484966       131.001872        461.732625   \n",
      "4  421.555422  91.446746       397.484966       131.001872        461.732625   \n",
      "\n",
      "   right_shoulder_y  left_elbow_x  left_elbow_y  right_elbow_x  right_elbow_y  \\\n",
      "0        132.726183    376.969123     187.96209     477.218849     180.690033   \n",
      "1        132.726183    376.969123     187.96209     477.218849     180.690033   \n",
      "2        132.726183    376.969123     187.96209     477.218849     180.690033   \n",
      "3        132.726183    376.969123     187.96209     477.218849     180.690033   \n",
      "4        132.726183    376.969123     187.96209     477.218849     180.690033   \n",
      "\n",
      "   ...  right_hip_y  left_knee_x  left_knee_y  right_knee_x  right_knee_y  \\\n",
      "0  ...   237.118892   412.031576   321.213356    454.668255    323.403109   \n",
      "1  ...   237.118892   412.031576   321.213356    454.668255    323.403109   \n",
      "2  ...   237.118892   412.031576   321.213356    454.668255    323.403109   \n",
      "3  ...   237.118892   412.031576   321.213356    454.668255    323.403109   \n",
      "4  ...   237.118892   412.031576   321.213356    454.668255    323.403109   \n",
      "\n",
      "   left_ankle_x  left_ankle_y  right_ankle_x  right_ankle_y  ExreciseScore  \n",
      "0    416.909581    397.533636     458.224567      400.06622            0.0  \n",
      "1    416.909581    397.533636     458.224567      400.06622            0.0  \n",
      "2    416.909581    397.533636     458.224567      400.06622            0.0  \n",
      "3    416.909581    397.533636     458.224567      400.06622            0.0  \n",
      "4    416.909581    397.533636     458.224567      400.06622            0.0  \n",
      "\n",
      "[5 rows x 27 columns]\n"
     ]
    }
   ],
   "source": [
    "for file in train_files:\n",
    "    try:\n",
    "        dataset_train = pd.read_csv(data_path + file)\n",
    "        if df_train is None:\n",
    "            df_train = dataset_train\n",
    "        else:\n",
    "            df_train = df_train.append(dataset_train, ignore_index=True)  \n",
    "    except IOError as e:\n",
    "        print('Error in reading file: ', e)\n",
    "print(df_train.shape, '\\n')\n",
    "print(df_train.head())"
   ]
  },
  {
   "cell_type": "code",
   "execution_count": 8,
   "metadata": {},
   "outputs": [
    {
     "name": "stdout",
     "output_type": "stream",
     "text": [
      "(95496, 27) \n",
      "\n",
      "       head_x     head_y  left_shoulder_x  left_shoulder_y  right_shoulder_x  \\\n",
      "0  467.659277  139.02619       439.535981         166.8307        499.239463   \n",
      "1  467.659277  139.02619       439.535981         166.8307        499.239463   \n",
      "2  467.659277  139.02619       439.535981         166.8307        499.239463   \n",
      "3  467.659277  139.02619       439.535981         166.8307        499.239463   \n",
      "4  467.659277  139.02619       439.535981         166.8307        499.239463   \n",
      "\n",
      "   right_shoulder_y  left_elbow_x  left_elbow_y  right_elbow_x  right_elbow_y  \\\n",
      "0        168.796248    423.743133    117.204537     524.847597     120.283493   \n",
      "1        168.796248    423.743133    117.204537     524.847597     120.283493   \n",
      "2        168.796248    423.743133    117.204537     524.847597     120.283493   \n",
      "3        168.796248    423.743133    117.204537     524.847597     120.283493   \n",
      "4        168.796248    423.743133    117.204537     524.847597     120.283493   \n",
      "\n",
      "   ...  right_hip_y  left_knee_x  left_knee_y  right_knee_x  right_knee_y  \\\n",
      "0  ...   266.925308   447.026423   354.120882    492.349136    356.494282   \n",
      "1  ...   266.925308   447.026423   354.120882    492.349136    356.494282   \n",
      "2  ...   266.925308   447.026423   354.120882    492.349136    356.494282   \n",
      "3  ...   266.925308   447.026423   354.120882    492.349136    356.494282   \n",
      "4  ...   266.925308   447.026423   354.120882    492.349136    356.494282   \n",
      "\n",
      "   left_ankle_x  left_ankle_y  right_ankle_x  right_ankle_y  ExreciseScore  \n",
      "0    442.917128    420.723391     498.306226     427.278061       4.263153  \n",
      "1    442.917128    420.723391     498.306226     427.278061       4.263153  \n",
      "2    442.917128    420.723391     498.306226     427.278061       4.263153  \n",
      "3    442.917128    420.723391     498.306226     427.278061       4.263153  \n",
      "4    442.917128    420.723391     498.306226     427.278061       4.263153  \n",
      "\n",
      "[5 rows x 27 columns]\n"
     ]
    }
   ],
   "source": [
    "for file in test_files:\n",
    "    try:\n",
    "        dataset_test = pd.read_csv(data_path + file)\n",
    "        if df_test is None:\n",
    "            df_test = dataset_test\n",
    "        else:\n",
    "            df_test = df_test.append(dataset_test, ignore_index=True)  \n",
    "    except IOError as e:\n",
    "        print('Error in reading file: ', e)\n",
    "print(df_test.shape, '\\n')\n",
    "print(df_test.head())"
   ]
  },
  {
   "cell_type": "code",
   "execution_count": 9,
   "metadata": {},
   "outputs": [],
   "source": [
    "X_train = df_train.drop(columns=['ExreciseScore'])\n",
    "y_train = df_train[['ExreciseScore']]"
   ]
  },
  {
   "cell_type": "code",
   "execution_count": 10,
   "metadata": {},
   "outputs": [],
   "source": [
    "X_test = df_test.drop(columns=['ExreciseScore'])\n",
    "y_test = df_test[['ExreciseScore']]"
   ]
  },
  {
   "cell_type": "code",
   "execution_count": 11,
   "metadata": {},
   "outputs": [],
   "source": [
    "from sklearn.preprocessing import StandardScaler\n",
    "X_scaler = StandardScaler()\n",
    "X_train = X_scaler.fit_transform(X_train)\n",
    "X_test = X_scaler.transform(X_test)\n",
    "y_scaler = StandardScaler()\n",
    "y_train = y_scaler.fit_transform(y_train)"
   ]
  },
  {
   "cell_type": "code",
   "execution_count": 12,
   "metadata": {},
   "outputs": [],
   "source": [
    "#input_mean_train = X_train.mean()\n",
    "#input_std_train = X_train.std()\n",
    "\n",
    "#X_train = (X_train - input_mean_train) / input_std_train\n",
    "\n",
    "#X_train.to_numpy()"
   ]
  },
  {
   "cell_type": "code",
   "execution_count": 13,
   "metadata": {},
   "outputs": [],
   "source": [
    "#input_mean_test = X_test.mean()\n",
    "#input_std_test = X_test.std()\n",
    "\n",
    "#X_test = (X_test - input_mean_test) / input_std_test\n",
    "\n",
    "#X_test.to_numpy()"
   ]
  },
  {
   "cell_type": "code",
   "execution_count": 14,
   "metadata": {},
   "outputs": [],
   "source": [
    "#output_mean_train = y_train.mean()\n",
    "#output_std_train = y_train.std()\n",
    "\n",
    "#y_train = (y_train - output_mean_train) / output_std_train\n",
    "\n",
    "#y_train.to_numpy()"
   ]
  },
  {
   "cell_type": "code",
   "execution_count": 15,
   "metadata": {},
   "outputs": [
    {
     "name": "stdout",
     "output_type": "stream",
     "text": [
      "Training features shape: (902240, 26)\n",
      "Training labels shape: (902240, 1) \n",
      "\n",
      "Test features shape: (95496, 26)\n",
      "Test labels shape: (95496, 1)\n"
     ]
    }
   ],
   "source": [
    "print('Training features shape:', X_train.shape)\n",
    "print('Training labels shape:', y_train.shape, '\\n')\n",
    "\n",
    "print('Test features shape:', X_test.shape)\n",
    "print('Test labels shape:', y_test.shape)"
   ]
  },
  {
   "cell_type": "markdown",
   "metadata": {},
   "source": [
    "## 3. Define the Model\n",
    "\n",
    "### 3.1 Configurations"
   ]
  },
  {
   "cell_type": "code",
   "execution_count": 16,
   "metadata": {},
   "outputs": [],
   "source": [
    "EPOCHS = 500\n",
    "BATCH_SIZE = 150\n",
    "\n",
    "input_dim = X_train.shape[1]\n",
    "output_size = 1\n",
    "\n",
    "activation = 'relu'\n",
    "#kernel_initializer = 'he_uniform'\n",
    "kernel_initializer = 'normal'\n",
    "#output_activation = 'sigmoid'\n",
    "output_activation = 'linear'\n",
    "\n",
    "#optimizer = 'SGD'\n",
    "#optimizer = 'RMSprop'\n",
    "optimizer = 'Adam'\n",
    "#learning_rate = 1e-3\n",
    "learning_rate = 1e-2"
   ]
  },
  {
   "cell_type": "markdown",
   "metadata": {},
   "source": [
    "### 3.2 Model Architecture"
   ]
  },
  {
   "cell_type": "code",
   "execution_count": 17,
   "metadata": {},
   "outputs": [],
   "source": [
    "from tensorflow.keras.metrics import MeanSquaredError, RootMeanSquaredError, MeanAbsoluteError\n",
    "from tensorflow.keras.models import Sequential\n",
    "from tensorflow.keras.layers import InputLayer, Dense\n",
    "\n",
    "METRICS = [\n",
    "    MeanSquaredError(name=\"mse\", dtype=None),\n",
    "    MeanAbsoluteError(name=\"mae\", dtype=None),\n",
    "    RootMeanSquaredError(name=\"rmse\", dtype=None),\n",
    "]\n",
    "\n",
    "def make_model(input_dim, loss, optimizer, learning_rate=0.001, metrics=METRICS):\n",
    "    #MODEL 3 - Champ\n",
    "    model = Sequential()\n",
    "    model.add(Dense(128, input_dim=input_dim, kernel_initializer=kernel_initializer, activation=activation))\n",
    "    model.add(Dense(64, kernel_initializer=kernel_initializer, activation=activation))\n",
    "    model.add(Dense(64, kernel_initializer=kernel_initializer, activation=activation))\n",
    "    model.add(Dense(output_size, activation=output_activation))\n",
    "\n",
    "    \n",
    "    #MODEL 2\n",
    "    #model = Sequential()\n",
    "    #model.add(Dense(128, input_dim=input_dim, kernel_initializer=kernel_initializer, activation=activation))\n",
    "    #model.add(Dense(64, kernel_initializer=kernel_initializer, activation=activation))\n",
    "    #model.add(Dense(32, kernel_initializer=kernel_initializer, activation=activation))\n",
    "    #model.add(Dense(8, kernel_initializer=kernel_initializer, activation=activation))\n",
    "    #model.add(Dense(output_size, activation=output_activation))\n",
    "    \n",
    "    #MODEL 1\n",
    "    #model = Sequential()\n",
    "    #model.add(Dense(64, input_dim=input_dim, kernel_initializer=kernel_initializer, activation=activation))\n",
    "    #model.add(Dense(64, kernel_initializer=kernel_initializer, activation=activation))\n",
    "    #model.add(Dense(32, kernel_initializer=kernel_initializer, activation=activation))\n",
    "    #model.add(Dense(8, kernel_initializer=kernel_initializer, activation=activation))\n",
    "    #model.add(Dense(output_size, activation=output_activation))\n",
    "    \n",
    "    optimizer = tf.keras.optimizers.get(optimizer)\n",
    "    optimizer.learning_rate.assign(learning_rate)\n",
    "\n",
    "    model.compile(\n",
    "      optimizer=optimizer,\n",
    "      loss=loss,\n",
    "      metrics=metrics)\n",
    "\n",
    "    print(model.summary())\n",
    "\n",
    "    return model"
   ]
  },
  {
   "cell_type": "markdown",
   "metadata": {},
   "source": [
    "## 4. MLflow Experimentation\n",
    "\n",
    "### 4.1 Configurations"
   ]
  },
  {
   "cell_type": "code",
   "execution_count": 18,
   "metadata": {},
   "outputs": [],
   "source": [
    "from mlflow.models.signature import ModelSignature\n",
    "from mlflow.types.schema import Schema, ColSpec\n",
    "\n",
    "input_schema = Schema([\n",
    "    ColSpec(\"double\", \"head_x\"),\n",
    "    ColSpec(\"double\", \"head_y\"),\n",
    "    ColSpec(\"double\", \"left_shoulder_x\"),\n",
    "    ColSpec(\"double\", \"left_shoulder_y\"),\n",
    "    ColSpec(\"double\", \"left_elbow_x\"),\n",
    "    ColSpec(\"double\", \"left_elbow_y\"),\n",
    "    ColSpec(\"double\", \"right_shoulder_x\"),\n",
    "    ColSpec(\"double\", \"right_shoulder_y\"),\n",
    "    ColSpec(\"double\", \"right_elbow_x\"),\n",
    "    ColSpec(\"double\", \"right_elbow_y\"),\n",
    "    ColSpec(\"double\", \"left_wrist_x\"),\n",
    "    ColSpec(\"double\", \"left_wrist_y\"),\n",
    "    ColSpec(\"double\", \"right_wrist_x\"),\n",
    "    ColSpec(\"double\", \"right_wrist_y\"),\n",
    "    ColSpec(\"double\", \"left_hip_x\"),\n",
    "    ColSpec(\"double\", \"left_hip_y\"),\n",
    "    ColSpec(\"double\", \"right_hip_x\"),\n",
    "    ColSpec(\"double\", \"right_hip_y\"),\n",
    "    ColSpec(\"double\", \"left_knee_x\"),\n",
    "    ColSpec(\"double\", \"left_knee_y\"),\n",
    "    ColSpec(\"double\", \"right_knee_x\"),\n",
    "    ColSpec(\"double\", \"right_knee_y\"),\n",
    "    ColSpec(\"double\", \"left_ankle_x\"),\n",
    "    ColSpec(\"double\", \"left_ankle_y\"),\n",
    "    ColSpec(\"double\", \"right_ankle_x\"),\n",
    "    ColSpec(\"double\", \"right_ankle_y\"),\n",
    "])\n",
    "output_schema = Schema([\n",
    "    ColSpec(\"double\", \"ExreciseScore\"),\n",
    "])\n",
    "signature = ModelSignature(inputs=input_schema, outputs=output_schema)"
   ]
  },
  {
   "cell_type": "markdown",
   "metadata": {},
   "source": [
    "### 4.2 Helper functions"
   ]
  },
  {
   "cell_type": "code",
   "execution_count": 19,
   "metadata": {},
   "outputs": [],
   "source": [
    "import matplotlib as mpl\n",
    "import matplotlib.pyplot as plt\n",
    "\n",
    "mpl.rcParams['figure.figsize'] = (8, 6)\n",
    "mpl.rcParams['axes.grid'] = False\n",
    "\n",
    "def plot_train_history(history, title):\n",
    "    loss = history.history['loss']\n",
    "    val_loss = history.history['val_loss']\n",
    "    epochs = range(len(loss))\n",
    "    plt.figure()\n",
    "    plt.plot(epochs, loss, 'b', label='Training loss')\n",
    "    plt.plot(epochs, val_loss, 'r', label='Validation loss')\n",
    "    plt.title(title)\n",
    "    plt.legend()\n",
    "    plt.show()"
   ]
  },
  {
   "cell_type": "code",
   "execution_count": 20,
   "metadata": {},
   "outputs": [],
   "source": [
    "from sklearn.metrics import mean_squared_error, r2_score, explained_variance_score, mean_absolute_error\n",
    "\n",
    "def eval_metrics(actual, pred):\n",
    "    mse = mean_squared_error(actual, pred)\n",
    "    msa = mean_absolute_error(actual, pred)\n",
    "    r2 = r2_score(actual, pred)\n",
    "    variance = explained_variance_score(actual, pred)\n",
    "    return mse, msa, r2, variance"
   ]
  },
  {
   "cell_type": "markdown",
   "metadata": {},
   "source": [
    "### 4.3 Start Run"
   ]
  },
  {
   "cell_type": "code",
   "execution_count": 21,
   "metadata": {},
   "outputs": [
    {
     "name": "stdout",
     "output_type": "stream",
     "text": [
      "Model: \"sequential\"\n",
      "_________________________________________________________________\n",
      "Layer (type)                 Output Shape              Param #   \n",
      "=================================================================\n",
      "dense (Dense)                (None, 128)               3456      \n",
      "_________________________________________________________________\n",
      "dense_1 (Dense)              (None, 64)                8256      \n",
      "_________________________________________________________________\n",
      "dense_2 (Dense)              (None, 64)                4160      \n",
      "_________________________________________________________________\n",
      "dense_3 (Dense)              (None, 1)                 65        \n",
      "=================================================================\n",
      "Total params: 15,937\n",
      "Trainable params: 15,937\n",
      "Non-trainable params: 0\n",
      "_________________________________________________________________\n",
      "None\n",
      "Epoch 1/500\n",
      "4812/4812 [==============================] - 6s 1ms/step - loss: 0.7262 - mse: 0.7262 - mae: 0.6910 - rmse: 0.8499 - val_loss: 0.4862 - val_mse: 0.4862 - val_mae: 0.5575 - val_rmse: 0.6973\n",
      "Epoch 2/500\n",
      "4812/4812 [==============================] - 6s 1ms/step - loss: 0.4970 - mse: 0.4970 - mae: 0.5570 - rmse: 0.7049 - val_loss: 0.4722 - val_mse: 0.4722 - val_mae: 0.5190 - val_rmse: 0.6872\n",
      "Epoch 3/500\n",
      "4812/4812 [==============================] - 6s 1ms/step - loss: 0.4673 - mse: 0.4673 - mae: 0.5348 - rmse: 0.6836 - val_loss: 0.4611 - val_mse: 0.4611 - val_mae: 0.5333 - val_rmse: 0.6790\n",
      "Epoch 4/500\n",
      "4812/4812 [==============================] - 6s 1ms/step - loss: 0.4481 - mse: 0.4481 - mae: 0.5215 - rmse: 0.6694 - val_loss: 0.4030 - val_mse: 0.4030 - val_mae: 0.4873 - val_rmse: 0.6348\n",
      "Epoch 5/500\n",
      "4812/4812 [==============================] - 6s 1ms/step - loss: 0.4444 - mse: 0.4444 - mae: 0.5184 - rmse: 0.6666 - val_loss: 0.4458 - val_mse: 0.4458 - val_mae: 0.5226 - val_rmse: 0.6677\n",
      "Epoch 6/500\n",
      "4812/4812 [==============================] - 5s 1ms/step - loss: 0.4362 - mse: 0.4362 - mae: 0.5122 - rmse: 0.6604 - val_loss: 0.4020 - val_mse: 0.4020 - val_mae: 0.4863 - val_rmse: 0.6340\n",
      "Epoch 7/500\n",
      "4812/4812 [==============================] - 5s 1ms/step - loss: 0.4299 - mse: 0.4299 - mae: 0.5074 - rmse: 0.6557 - val_loss: 0.4431 - val_mse: 0.4431 - val_mae: 0.5200 - val_rmse: 0.6657\n",
      "Epoch 8/500\n",
      "4812/4812 [==============================] - 5s 1ms/step - loss: 0.4271 - mse: 0.4271 - mae: 0.5054 - rmse: 0.6535 - val_loss: 0.4407 - val_mse: 0.4407 - val_mae: 0.5032 - val_rmse: 0.6639\n",
      "Epoch 9/500\n",
      "4812/4812 [==============================] - 5s 1ms/step - loss: 0.4244 - mse: 0.4244 - mae: 0.5031 - rmse: 0.6515 - val_loss: 0.4042 - val_mse: 0.4042 - val_mae: 0.4894 - val_rmse: 0.6358\n",
      "Epoch 10/500\n",
      "4812/4812 [==============================] - 5s 1ms/step - loss: 0.4182 - mse: 0.4182 - mae: 0.4988 - rmse: 0.6467 - val_loss: 0.3972 - val_mse: 0.3972 - val_mae: 0.4752 - val_rmse: 0.6302\n",
      "Epoch 11/500\n",
      "4812/4812 [==============================] - 5s 1ms/step - loss: 0.4174 - mse: 0.4174 - mae: 0.4982 - rmse: 0.6461 - val_loss: 0.4141 - val_mse: 0.4141 - val_mae: 0.4919 - val_rmse: 0.6435\n",
      "Epoch 12/500\n",
      "4812/4812 [==============================] - 5s 1ms/step - loss: 0.4155 - mse: 0.4155 - mae: 0.4962 - rmse: 0.6446 - val_loss: 0.4013 - val_mse: 0.4013 - val_mae: 0.4807 - val_rmse: 0.6334\n",
      "Epoch 13/500\n",
      "4812/4812 [==============================] - 5s 1ms/step - loss: 0.4109 - mse: 0.4109 - mae: 0.4930 - rmse: 0.6410 - val_loss: 0.3931 - val_mse: 0.3931 - val_mae: 0.4747 - val_rmse: 0.6270\n",
      "Epoch 14/500\n",
      "4812/4812 [==============================] - 5s 1ms/step - loss: 0.4077 - mse: 0.4077 - mae: 0.4904 - rmse: 0.6385 - val_loss: 0.3832 - val_mse: 0.3832 - val_mae: 0.4691 - val_rmse: 0.6190\n",
      "Epoch 15/500\n",
      "4812/4812 [==============================] - 6s 1ms/step - loss: 0.4058 - mse: 0.4058 - mae: 0.4889 - rmse: 0.6370 - val_loss: 0.4557 - val_mse: 0.4557 - val_mae: 0.5084 - val_rmse: 0.6750\n",
      "Epoch 16/500\n",
      "4812/4812 [==============================] - 5s 1ms/step - loss: 0.4065 - mse: 0.4065 - mae: 0.4885 - rmse: 0.6376 - val_loss: 0.3706 - val_mse: 0.3706 - val_mae: 0.4586 - val_rmse: 0.6087\n",
      "Epoch 17/500\n",
      "4812/4812 [==============================] - 5s 1ms/step - loss: 0.4094 - mse: 0.4094 - mae: 0.4899 - rmse: 0.6398 - val_loss: 0.5012 - val_mse: 0.5012 - val_mae: 0.5276 - val_rmse: 0.7079\n",
      "Epoch 18/500\n",
      "4812/4812 [==============================] - 5s 1ms/step - loss: 0.4042 - mse: 0.4042 - mae: 0.4862 - rmse: 0.6357 - val_loss: 0.3617 - val_mse: 0.3617 - val_mae: 0.4560 - val_rmse: 0.6014\n",
      "Epoch 19/500\n",
      "4812/4812 [==============================] - 5s 1ms/step - loss: 0.3980 - mse: 0.3980 - mae: 0.4821 - rmse: 0.6308 - val_loss: 0.3510 - val_mse: 0.3510 - val_mae: 0.4451 - val_rmse: 0.5925\n",
      "Epoch 20/500\n",
      "4812/4812 [==============================] - 5s 1ms/step - loss: 0.3915 - mse: 0.3915 - mae: 0.4767 - rmse: 0.6257 - val_loss: 0.3847 - val_mse: 0.3847 - val_mae: 0.4570 - val_rmse: 0.6202\n",
      "Epoch 21/500\n",
      "4812/4812 [==============================] - 6s 1ms/step - loss: 0.3891 - mse: 0.3891 - mae: 0.4734 - rmse: 0.6238 - val_loss: 0.3773 - val_mse: 0.3773 - val_mae: 0.4598 - val_rmse: 0.6142\n",
      "Epoch 22/500\n",
      "4812/4812 [==============================] - 5s 1ms/step - loss: 0.3844 - mse: 0.3844 - mae: 0.4686 - rmse: 0.6200 - val_loss: 0.3720 - val_mse: 0.3720 - val_mae: 0.4512 - val_rmse: 0.6099\n",
      "Epoch 23/500\n",
      "4812/4812 [==============================] - 5s 1ms/step - loss: 0.3841 - mse: 0.3841 - mae: 0.4680 - rmse: 0.6197 - val_loss: 0.3460 - val_mse: 0.3460 - val_mae: 0.4390 - val_rmse: 0.5882\n",
      "Epoch 24/500\n",
      "4812/4812 [==============================] - 6s 1ms/step - loss: 0.3776 - mse: 0.3776 - mae: 0.4632 - rmse: 0.6145 - val_loss: 0.3615 - val_mse: 0.3615 - val_mae: 0.4525 - val_rmse: 0.6012\n",
      "Epoch 25/500\n",
      "4812/4812 [==============================] - 6s 1ms/step - loss: 0.3769 - mse: 0.3769 - mae: 0.4623 - rmse: 0.6139 - val_loss: 0.3539 - val_mse: 0.3539 - val_mae: 0.4421 - val_rmse: 0.5949\n",
      "Epoch 26/500\n",
      "4812/4812 [==============================] - 5s 1ms/step - loss: 0.3765 - mse: 0.3765 - mae: 0.4614 - rmse: 0.6136 - val_loss: 0.3408 - val_mse: 0.3408 - val_mae: 0.4322 - val_rmse: 0.5838\n",
      "Epoch 27/500\n",
      "4812/4812 [==============================] - 6s 1ms/step - loss: 0.3753 - mse: 0.3753 - mae: 0.4604 - rmse: 0.6126 - val_loss: 0.3347 - val_mse: 0.3347 - val_mae: 0.4246 - val_rmse: 0.5785\n",
      "Epoch 28/500\n",
      "4812/4812 [==============================] - 6s 1ms/step - loss: 0.3726 - mse: 0.3726 - mae: 0.4581 - rmse: 0.6104 - val_loss: 0.3615 - val_mse: 0.3615 - val_mae: 0.4470 - val_rmse: 0.6012\n",
      "Epoch 29/500\n",
      "4812/4812 [==============================] - 5s 1ms/step - loss: 0.3724 - mse: 0.3724 - mae: 0.4581 - rmse: 0.6102 - val_loss: 0.3420 - val_mse: 0.3420 - val_mae: 0.4351 - val_rmse: 0.5848\n",
      "Epoch 30/500\n",
      "4812/4812 [==============================] - 5s 1ms/step - loss: 0.3723 - mse: 0.3723 - mae: 0.4580 - rmse: 0.6102 - val_loss: 0.3550 - val_mse: 0.3550 - val_mae: 0.4401 - val_rmse: 0.5958\n",
      "Epoch 31/500\n",
      "4812/4812 [==============================] - 5s 1ms/step - loss: 0.3721 - mse: 0.3721 - mae: 0.4574 - rmse: 0.6100 - val_loss: 0.3606 - val_mse: 0.3606 - val_mae: 0.4468 - val_rmse: 0.6005\n",
      "Epoch 32/500\n",
      "4812/4812 [==============================] - 5s 1ms/step - loss: 0.3697 - mse: 0.3697 - mae: 0.4564 - rmse: 0.6080 - val_loss: 0.3468 - val_mse: 0.3468 - val_mae: 0.4361 - val_rmse: 0.5889\n",
      "Epoch 33/500\n",
      "4812/4812 [==============================] - 5s 1ms/step - loss: 0.3672 - mse: 0.3672 - mae: 0.4546 - rmse: 0.6059 - val_loss: 0.3933 - val_mse: 0.3933 - val_mae: 0.4748 - val_rmse: 0.6271\n",
      "Epoch 34/500\n",
      "4812/4812 [==============================] - 6s 1ms/step - loss: 0.3701 - mse: 0.3701 - mae: 0.4564 - rmse: 0.6084 - val_loss: 0.3380 - val_mse: 0.3380 - val_mae: 0.4236 - val_rmse: 0.5814\n",
      "Epoch 35/500\n",
      "4812/4812 [==============================] - 5s 1ms/step - loss: 0.3679 - mse: 0.3679 - mae: 0.4549 - rmse: 0.6066 - val_loss: 0.3418 - val_mse: 0.3418 - val_mae: 0.4313 - val_rmse: 0.5847\n",
      "Epoch 36/500\n",
      "4812/4812 [==============================] - 6s 1ms/step - loss: 0.3668 - mse: 0.3668 - mae: 0.4544 - rmse: 0.6056 - val_loss: 0.3379 - val_mse: 0.3379 - val_mae: 0.4329 - val_rmse: 0.5813\n",
      "Epoch 37/500\n"
     ]
    },
    {
     "name": "stdout",
     "output_type": "stream",
     "text": [
      "4812/4812 [==============================] - 5s 1ms/step - loss: 0.3662 - mse: 0.3662 - mae: 0.4536 - rmse: 0.6052 - val_loss: 0.3574 - val_mse: 0.3574 - val_mae: 0.4449 - val_rmse: 0.5978\n",
      "Restoring model weights from the end of the best epoch.\n",
      "Epoch 00037: early stopping\n"
     ]
    },
    {
     "data": {
      "image/png": "[encoded data removed]",
      "text/plain": [
       "<Figure size 576x432 with 1 Axes>"
      ]
     },
     "metadata": {
      "needs_background": "light"
     },
     "output_type": "display_data"
    },
    {
     "data": {
      "text/plain": [
       "<Figure size 576x432 with 0 Axes>"
      ]
     },
     "metadata": {},
     "output_type": "display_data"
    },
    {
     "name": "stdout",
     "output_type": "stream",
     "text": [
      "INFO:tensorflow:Assets written to: /var/folders/8b/c37c7tv54lg10kt29r67dkh80000gn/T/tmpi4trh9gu/model/data/model/assets\n",
      "MSE:  0.9455064913947117\n",
      "MAE:  0.7177768039311305\n",
      "R-Squared:  0.5756858530490325\n",
      "Explained Variance Score:  0.6000546403117866\n"
     ]
    }
   ],
   "source": [
    "model_name = 'dense_model_posenet_ExreciseScore'\n",
    "\n",
    "with mlflow.start_run(run_name=model_name) as run:\n",
    "\n",
    "    run_id = run.info.run_id\n",
    "\n",
    "    model = make_model(metrics=METRICS, \n",
    "                        loss='mean_squared_error', \n",
    "                        optimizer=optimizer, \n",
    "                        learning_rate=learning_rate, \n",
    "                        input_dim=input_dim)\n",
    "    \n",
    "    with tf.device('/CPU:0'):\n",
    "        history = model.fit(\n",
    "            x=X_train, \n",
    "            y=y_train, \n",
    "            shuffle=True, \n",
    "            epochs=EPOCHS, \n",
    "            verbose=1,\n",
    "            batch_size=BATCH_SIZE,\n",
    "            validation_split=0.2,\n",
    "            callbacks=[early_stopping])\n",
    "\n",
    "    # Plot training history\n",
    "    plot_train_history(history, 'Baseline Training and validation loss')\n",
    "    plt.savefig(\"training_history.jpg\")\n",
    "    mlflow.log_artifact(\"training_history.jpg\")\n",
    "    plt.show()\n",
    "    \n",
    "    # Log model, scaler, model parameters to MLflow\n",
    "    mlflow.log_param(\"activation\", activation)\n",
    "    mlflow.log_param(\"kernel_initializer\", kernel_initializer)\n",
    "    mlflow.log_param(\"output activation\", output_activation)\n",
    "    mlflow.log_param(\"optimizer\", optimizer)\n",
    "    mlflow.log_param(\"learning rate\", learning_rate)\n",
    "    mlflow.log_param(\"batch size\", BATCH_SIZE)\n",
    "    mlflow.log_param(\"epochs\", early_stopping.stopped_epoch)\n",
    "        \n",
    "    #mlflow.log_param(\"input_mean_train\", input_mean_train)\n",
    "    #mlflow.log_param(\"input_std_train\", input_std_train)\n",
    "    #mlflow.log_param(\"input_mean_test\", input_mean_test)\n",
    "    #mlflow.log_param(\"input_std_test\", input_std_test)\n",
    "    #mlflow.log_param(\"output_mean\", output_mean)\n",
    "    #mlflow.log_param(\"output_std\", output_std)\n",
    "\n",
    "    # Log model performance\n",
    "    process_time = [None] * 10\n",
    "    \n",
    "    for i in range(10):\n",
    "        start_time = time.time()\n",
    "        predictions = model.predict(X_test)\n",
    "        end_time = time.time()\n",
    "        process_time[i] = (end_time - start_time) * 1000\n",
    "    \n",
    "    #predictions = (predictions * output_std_train.to_numpy()) + output_mean_train.to_numpy()\n",
    "    \n",
    "    #output_mean_test = y_test.mean()\n",
    "    #output_std_test = y_test.std()\n",
    "    #y_test = (y_test - output_mean_test) / output_std_test\n",
    "    #y_test.to_numpy()\n",
    "    \n",
    "    #(mse, mae, r2, variance) = eval_metrics(y_test, predictions)\n",
    "    \n",
    "    predictions = y_scaler.inverse_transform(predictions)\n",
    "    (mse, mae, r2, variance) = eval_metrics(y_test, predictions)\n",
    "    mlflow.log_metric(\"mse\", mse)\n",
    "    mlflow.log_metric(\"mae\", mae)\n",
    "    mlflow.log_metric(\"R-squared\", r2)\n",
    "    mlflow.log_metric(\"variance\", variance)\n",
    "    mlflow.log_param(\"total params\", model.count_params())\n",
    "    mlflow.log_metric(\"process time\", np.mean(process_time)) \n",
    "    \n",
    "    mlflow.keras.log_model(model, model_name, signature=signature)\n",
    "\n",
    "    # Print metrics\n",
    "    print('MSE: ', mse)\n",
    "    print('MAE: ', mae)\n",
    "    print('R-Squared: ', r2)\n",
    "    print('Explained Variance Score: ', variance)"
   ]
  },
  {
   "cell_type": "markdown",
   "metadata": {},
   "source": [
    "## 5. Register Model"
   ]
  },
  {
   "cell_type": "code",
   "execution_count": 22,
   "metadata": {},
   "outputs": [
    {
     "name": "stderr",
     "output_type": "stream",
     "text": [
      "Registered model 'dense_model_posenet_ExreciseScore' already exists. Creating a new version of this model...\n",
      "2021/06/01 20:35:08 INFO mlflow.tracking._model_registry.client: Waiting up to 300 seconds for model version to finish creation.                     Model name: dense_model_posenet_ExreciseScore, version 8\n"
     ]
    },
    {
     "name": "stdout",
     "output_type": "stream",
     "text": [
      "Name: dense_model_posenet_ExreciseScore\n",
      "Version: 8\n"
     ]
    },
    {
     "name": "stderr",
     "output_type": "stream",
     "text": [
      "Created version '8' of model 'dense_model_posenet_ExreciseScore'.\n"
     ]
    }
   ],
   "source": [
    "model_uri = \"runs:/{}/{}\".format(run.info.run_id, model_name)\n",
    "mv = mlflow.register_model(model_uri, model_name)\n",
    "print(\"Name: {}\".format(mv.name))\n",
    "print(\"Version: {}\".format(mv.version))"
   ]
  },
  {
   "cell_type": "code",
   "execution_count": null,
   "metadata": {},
   "outputs": [],
   "source": []
  },
  {
   "cell_type": "code",
   "execution_count": null,
   "metadata": {},
   "outputs": [],
   "source": []
  }
 ],
 "metadata": {
  "kernelspec": {
   "display_name": "Python 3",
   "language": "python",
   "name": "python3"
  },
  "language_info": {
   "codemirror_mode": {
    "name": "ipython",
    "version": 3
   },
   "file_extension": ".py",
   "mimetype": "text/x-python",
   "name": "python",
   "nbconvert_exporter": "python",
   "pygments_lexer": "ipython3",
   "version": "3.9.2"
  },
  "metadata": {
   "interpreter": {
    "hash": "63fd5069d213b44bf678585dea6b12cceca9941eaf7f819626cde1f2670de90d"
   }
  }
 },
 "nbformat": 4,
 "nbformat_minor": 2
}
