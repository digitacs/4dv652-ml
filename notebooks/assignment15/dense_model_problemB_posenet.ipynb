{
 "cells": [
  {
   "cell_type": "markdown",
   "metadata": {},
   "source": [
    "# Dense Model for Kinect data\n",
    "\n",
    "\n",
    "## Section for Configurations and Imports"
   ]
  },
  {
   "cell_type": "code",
   "execution_count": 1,
   "metadata": {},
   "outputs": [
    {
     "name": "stdout",
     "output_type": "stream",
     "text": [
      "INFO:tensorflow:Enabling eager execution\n",
      "INFO:tensorflow:Enabling v2 tensorshape\n",
      "INFO:tensorflow:Enabling resource variables\n",
      "INFO:tensorflow:Enabling tensor equality\n",
      "INFO:tensorflow:Enabling control flow v2\n"
     ]
    }
   ],
   "source": [
    "import os \n",
    "import tempfile\n",
    "\n",
    "import numpy as np \n",
    "import pandas as pd\n",
    "import seaborn as sns\n",
    "import tensorflow as tf\n",
    "import matplotlib as mpl\n",
    "import matplotlib.pyplot as plt\n",
    "import time\n",
    "from tensorflow import keras\n",
    "\n",
    "# MLflow dashboard\n",
    "import mlflow\n",
    "mlflow.set_tracking_uri('http://35.228.45.76:5000')\n",
    "os.environ['GOOGLE_APPLICATION_CREDENTIALS']='../../keys/mlflow-312506-8cfad529f4fd.json'\n",
    "\n",
    "# Import data augmentation\n",
    "import sys\n",
    "module_path = os.path.abspath(os.path.join('../..'))\n",
    "if module_path not in sys.path:\n",
    "    sys.path.append(module_path)\n",
    "from augmentation.methods import *"
   ]
  },
  {
   "cell_type": "code",
   "execution_count": 2,
   "metadata": {},
   "outputs": [],
   "source": [
    "import warnings\n",
    "warnings.simplefilter('ignore')"
   ]
  },
  {
   "cell_type": "code",
   "execution_count": 3,
   "metadata": {},
   "outputs": [],
   "source": [
    "mpl.rcParams['figure.figsize'] = (12, 10)\n",
    "colors = plt.rcParams['axes.prop_cycle'].by_key()['color']"
   ]
  },
  {
   "cell_type": "code",
   "execution_count": 4,
   "metadata": {},
   "outputs": [],
   "source": [
    "random_state = 47\n",
    "np.random.seed(random_state)"
   ]
  },
  {
   "cell_type": "code",
   "execution_count": 5,
   "metadata": {},
   "outputs": [],
   "source": [
    "from keras.callbacks import EarlyStopping\n",
    "\n",
    "early_stopping = EarlyStopping(\n",
    "    monitor='val_loss', \n",
    "    verbose=1,\n",
    "    patience=10,\n",
    "    mode='min',\n",
    "    restore_best_weights=True)"
   ]
  },
  {
   "cell_type": "markdown",
   "metadata": {},
   "source": [
    "## 1. Load Prepared Dataset"
   ]
  },
  {
   "cell_type": "code",
   "execution_count": 6,
   "metadata": {},
   "outputs": [],
   "source": [
    "data_path = '../../datasets/exercise_score/'\n",
    "train_files = [\n",
    "    'posenet_train_dataset_1.csv',\n",
    "    'posenet_train_dataset_2.csv',\n",
    "    'posenet_train_dataset_3.csv',\n",
    "    'posenet_train_dataset_4.csv',\n",
    "    'posenet_train_dataset_5.csv',\n",
    "]\n",
    "\n",
    "test_files = [\n",
    "    'posenet_test_dataset_1.csv',\n",
    "    'posenet_test_dataset_2.csv',\n",
    "    'posenet_test_dataset_3.csv',\n",
    "]\n",
    "df_train = None\n",
    "df_test = None"
   ]
  },
  {
   "cell_type": "code",
   "execution_count": 7,
   "metadata": {},
   "outputs": [
    {
     "name": "stdout",
     "output_type": "stream",
     "text": [
      "(902240, 27) \n",
      "\n",
      "       head_x     head_y  left_shoulder_x  left_shoulder_y  right_shoulder_x  \\\n",
      "0  421.555422  91.446746       397.484966       131.001872        461.732625   \n",
      "1  421.555422  91.446746       397.484966       131.001872        461.732625   \n",
      "2  421.555422  91.446746       397.484966       131.001872        461.732625   \n",
      "3  421.555422  91.446746       397.484966       131.001872        461.732625   \n",
      "4  421.555422  91.446746       397.484966       131.001872        461.732625   \n",
      "\n",
      "   right_shoulder_y  left_elbow_x  left_elbow_y  right_elbow_x  right_elbow_y  \\\n",
      "0        132.726183    376.969123     187.96209     477.218849     180.690033   \n",
      "1        132.726183    376.969123     187.96209     477.218849     180.690033   \n",
      "2        132.726183    376.969123     187.96209     477.218849     180.690033   \n",
      "3        132.726183    376.969123     187.96209     477.218849     180.690033   \n",
      "4        132.726183    376.969123     187.96209     477.218849     180.690033   \n",
      "\n",
      "   ...  right_hip_y  left_knee_x  left_knee_y  right_knee_x  right_knee_y  \\\n",
      "0  ...   237.118892   412.031576   321.213356    454.668255    323.403109   \n",
      "1  ...   237.118892   412.031576   321.213356    454.668255    323.403109   \n",
      "2  ...   237.118892   412.031576   321.213356    454.668255    323.403109   \n",
      "3  ...   237.118892   412.031576   321.213356    454.668255    323.403109   \n",
      "4  ...   237.118892   412.031576   321.213356    454.668255    323.403109   \n",
      "\n",
      "   left_ankle_x  left_ankle_y  right_ankle_x  right_ankle_y  ExreciseScore  \n",
      "0    416.909581    397.533636     458.224567      400.06622            0.0  \n",
      "1    416.909581    397.533636     458.224567      400.06622            0.0  \n",
      "2    416.909581    397.533636     458.224567      400.06622            0.0  \n",
      "3    416.909581    397.533636     458.224567      400.06622            0.0  \n",
      "4    416.909581    397.533636     458.224567      400.06622            0.0  \n",
      "\n",
      "[5 rows x 27 columns]\n"
     ]
    }
   ],
   "source": [
    "for file in train_files:\n",
    "    try:\n",
    "        dataset_train = pd.read_csv(data_path + file)\n",
    "        if df_train is None:\n",
    "            df_train = dataset_train\n",
    "        else:\n",
    "            df_train = df_train.append(dataset_train, ignore_index=True)  \n",
    "    except IOError as e:\n",
    "        print('Error in reading file: ', e)\n",
    "print(df_train.shape, '\\n')\n",
    "print(df_train.head())"
   ]
  },
  {
   "cell_type": "code",
   "execution_count": 8,
   "metadata": {},
   "outputs": [
    {
     "name": "stdout",
     "output_type": "stream",
     "text": [
      "(95496, 27) \n",
      "\n",
      "       head_x     head_y  left_shoulder_x  left_shoulder_y  right_shoulder_x  \\\n",
      "0  467.659277  139.02619       439.535981         166.8307        499.239463   \n",
      "1  467.659277  139.02619       439.535981         166.8307        499.239463   \n",
      "2  467.659277  139.02619       439.535981         166.8307        499.239463   \n",
      "3  467.659277  139.02619       439.535981         166.8307        499.239463   \n",
      "4  467.659277  139.02619       439.535981         166.8307        499.239463   \n",
      "\n",
      "   right_shoulder_y  left_elbow_x  left_elbow_y  right_elbow_x  right_elbow_y  \\\n",
      "0        168.796248    423.743133    117.204537     524.847597     120.283493   \n",
      "1        168.796248    423.743133    117.204537     524.847597     120.283493   \n",
      "2        168.796248    423.743133    117.204537     524.847597     120.283493   \n",
      "3        168.796248    423.743133    117.204537     524.847597     120.283493   \n",
      "4        168.796248    423.743133    117.204537     524.847597     120.283493   \n",
      "\n",
      "   ...  right_hip_y  left_knee_x  left_knee_y  right_knee_x  right_knee_y  \\\n",
      "0  ...   266.925308   447.026423   354.120882    492.349136    356.494282   \n",
      "1  ...   266.925308   447.026423   354.120882    492.349136    356.494282   \n",
      "2  ...   266.925308   447.026423   354.120882    492.349136    356.494282   \n",
      "3  ...   266.925308   447.026423   354.120882    492.349136    356.494282   \n",
      "4  ...   266.925308   447.026423   354.120882    492.349136    356.494282   \n",
      "\n",
      "   left_ankle_x  left_ankle_y  right_ankle_x  right_ankle_y  ExreciseScore  \n",
      "0    442.917128    420.723391     498.306226     427.278061       4.263153  \n",
      "1    442.917128    420.723391     498.306226     427.278061       4.263153  \n",
      "2    442.917128    420.723391     498.306226     427.278061       4.263153  \n",
      "3    442.917128    420.723391     498.306226     427.278061       4.263153  \n",
      "4    442.917128    420.723391     498.306226     427.278061       4.263153  \n",
      "\n",
      "[5 rows x 27 columns]\n"
     ]
    }
   ],
   "source": [
    "for file in test_files:\n",
    "    try:\n",
    "        dataset_test = pd.read_csv(data_path + file)\n",
    "        if df_test is None:\n",
    "            df_test = dataset_test\n",
    "        else:\n",
    "            df_test = df_test.append(dataset_test, ignore_index=True)  \n",
    "    except IOError as e:\n",
    "        print('Error in reading file: ', e)\n",
    "print(df_test.shape, '\\n')\n",
    "print(df_test.head())"
   ]
  },
  {
   "cell_type": "code",
   "execution_count": 9,
   "metadata": {},
   "outputs": [],
   "source": [
    "X_train = df_train.drop(columns=['ExreciseScore'])\n",
    "y_train = df_train[['ExreciseScore']]"
   ]
  },
  {
   "cell_type": "code",
   "execution_count": 10,
   "metadata": {},
   "outputs": [],
   "source": [
    "X_test = df_test.drop(columns=['ExreciseScore'])\n",
    "y_test = df_test[['ExreciseScore']]"
   ]
  },
  {
   "cell_type": "code",
   "execution_count": 11,
   "metadata": {},
   "outputs": [
    {
     "data": {
      "text/plain": [
       "array([[ 1.00655112, -0.34292424,  1.01664788, ...,  0.1665852 ,\n",
       "         1.01787831,  0.17551828],\n",
       "       [ 1.00655112, -0.34292424,  1.01664788, ...,  0.1665852 ,\n",
       "         1.01787831,  0.17551828],\n",
       "       [ 1.00655112, -0.34292424,  1.01664788, ...,  0.1665852 ,\n",
       "         1.01787831,  0.17551828],\n",
       "       ...,\n",
       "       [-0.41348336, -0.7287563 , -0.41706492, ..., -0.85316316,\n",
       "        -0.41487291, -0.84584677],\n",
       "       [-0.41348336, -0.7287563 , -0.41706492, ..., -0.85316316,\n",
       "        -0.41487291, -0.84584677],\n",
       "       [-0.41348336, -0.7287563 , -0.41706492, ..., -0.85316316,\n",
       "        -0.41487291, -0.84584677]])"
      ]
     },
     "execution_count": 11,
     "metadata": {},
     "output_type": "execute_result"
    }
   ],
   "source": [
    "input_mean_train = X_train.mean()\n",
    "input_std_train = X_train.std()\n",
    "\n",
    "X_train = (X_train - input_mean_train) / input_std_train\n",
    "\n",
    "X_train.to_numpy()"
   ]
  },
  {
   "cell_type": "code",
   "execution_count": 12,
   "metadata": {},
   "outputs": [
    {
     "data": {
      "text/plain": [
       "array([[ 1.13022077,  0.22046598,  1.13794538, ...,  0.25184165,\n",
       "         1.10893078,  0.28089235],\n",
       "       [ 1.13022077,  0.22046598,  1.13794538, ...,  0.25184165,\n",
       "         1.10893078,  0.28089235],\n",
       "       [ 1.13022077,  0.22046598,  1.13794538, ...,  0.25184165,\n",
       "         1.10893078,  0.28089235],\n",
       "       ...,\n",
       "       [-0.38547005, -0.92236276, -0.37413385, ..., -0.87610232,\n",
       "        -0.40923334, -0.8257677 ],\n",
       "       [-0.38547005, -0.92236276, -0.37413385, ..., -0.87610232,\n",
       "        -0.40923334, -0.8257677 ],\n",
       "       [-0.38547005, -0.92236276, -0.37413385, ..., -0.87610232,\n",
       "        -0.40923334, -0.8257677 ]])"
      ]
     },
     "execution_count": 12,
     "metadata": {},
     "output_type": "execute_result"
    }
   ],
   "source": [
    "input_mean_test = X_test.mean()\n",
    "input_std_test = X_test.std()\n",
    "\n",
    "X_test = (X_test - input_mean_test) / input_std_test\n",
    "\n",
    "X_test.to_numpy()"
   ]
  },
  {
   "cell_type": "code",
   "execution_count": 13,
   "metadata": {},
   "outputs": [
    {
     "data": {
      "text/plain": [
       "array([[-2.08496431],\n",
       "       [-2.08496431],\n",
       "       [-2.08496431],\n",
       "       ...,\n",
       "       [ 0.74306928],\n",
       "       [ 0.74306928],\n",
       "       [ 0.74306928]])"
      ]
     },
     "execution_count": 13,
     "metadata": {},
     "output_type": "execute_result"
    }
   ],
   "source": [
    "output_mean_train = y_train.mean()\n",
    "output_std_train = y_train.std()\n",
    "\n",
    "y_train = (y_train - output_mean_train) / output_std_train\n",
    "\n",
    "y_train.to_numpy()"
   ]
  },
  {
   "cell_type": "code",
   "execution_count": 14,
   "metadata": {},
   "outputs": [
    {
     "name": "stdout",
     "output_type": "stream",
     "text": [
      "Training features shape: (902240, 26)\n",
      "Training labels shape: (902240, 1) \n",
      "\n",
      "Test features shape: (95496, 26)\n",
      "Test labels shape: (95496, 1)\n"
     ]
    }
   ],
   "source": [
    "print('Training features shape:', X_train.shape)\n",
    "print('Training labels shape:', y_train.shape, '\\n')\n",
    "\n",
    "print('Test features shape:', X_test.shape)\n",
    "print('Test labels shape:', y_test.shape)"
   ]
  },
  {
   "cell_type": "markdown",
   "metadata": {},
   "source": [
    "## 3. Define the Model\n",
    "\n",
    "### 3.1 Configurations"
   ]
  },
  {
   "cell_type": "code",
   "execution_count": 15,
   "metadata": {},
   "outputs": [],
   "source": [
    "EPOCHS = 500\n",
    "BATCH_SIZE = 150\n",
    "\n",
    "input_dim = X_train.shape[1]\n",
    "output_size = 1\n",
    "\n",
    "activation = 'relu'\n",
    "#kernel_initializer = 'he_uniform'\n",
    "kernel_initializer = 'normal'\n",
    "#output_activation = 'sigmoid'\n",
    "output_activation = 'linear'\n",
    "\n",
    "#optimizer = 'SGD'\n",
    "#optimizer = 'RMSprop'\n",
    "optimizer = 'Adam'\n",
    "learning_rate = 1e-3"
   ]
  },
  {
   "cell_type": "markdown",
   "metadata": {},
   "source": [
    "### 3.2 Model Architecture"
   ]
  },
  {
   "cell_type": "code",
   "execution_count": 16,
   "metadata": {},
   "outputs": [],
   "source": [
    "from tensorflow.keras.metrics import MeanSquaredError, RootMeanSquaredError, MeanAbsoluteError\n",
    "from tensorflow.keras.models import Sequential\n",
    "from tensorflow.keras.layers import InputLayer, Dense\n",
    "\n",
    "METRICS = [\n",
    "    MeanSquaredError(name=\"mse\", dtype=None),\n",
    "    MeanAbsoluteError(name=\"mae\", dtype=None),\n",
    "    RootMeanSquaredError(name=\"rmse\", dtype=None),\n",
    "]\n",
    "\n",
    "def make_model(input_dim, loss, optimizer, learning_rate=0.001, metrics=METRICS):\n",
    "    #MODEL 3 - Champ\n",
    "    model = Sequential()\n",
    "    model.add(Dense(128, input_dim=input_dim, kernel_initializer=kernel_initializer, activation=activation))\n",
    "    model.add(Dense(64, kernel_initializer=kernel_initializer, activation=activation))\n",
    "    model.add(Dense(64, kernel_initializer=kernel_initializer, activation=activation))\n",
    "    model.add(Dense(output_size, activation=output_activation))\n",
    "    #http://35.228.45.76:5000/#/experiments/0/runs/0b6786ed5d8f4860a817b4d514aa4de5\n",
    "    \n",
    "    #MODEL 2\n",
    "    #model.add(Dense(128, input_dim=input_dim, kernel_initializer=kernel_initializer, activation=activation))\n",
    "    #model.add(Dense(64, kernel_initializer=kernel_initializer, activation=activation))\n",
    "    #model.add(Dense(32, kernel_initializer=kernel_initializer, activation=activation))\n",
    "    #model.add(Dense(8, kernel_initializer=kernel_initializer, activation=activation))\n",
    "    #model.add(Dense(output_size, activation=output_activation))\n",
    "    #http://35.228.45.76:5000/#/experiments/0/runs/12172f32a5d64cbfbd906c9d486cb90e\n",
    "    \n",
    "    #MODEL 1\n",
    "    #model.add(Dense(64, input_dim=input_dim, kernel_initializer=kernel_initializer, activation=activation))\n",
    "    #model.add(Dense(64, kernel_initializer=kernel_initializer, activation=activation))\n",
    "    #model.add(Dense(32, kernel_initializer=kernel_initializer, activation=activation))\n",
    "    #model.add(Dense(8, kernel_initializer=kernel_initializer, activation=activation))\n",
    "    #model.add(Dense(output_size, activation=output_activation))\n",
    "    #http://35.228.45.76:5000/#/experiments/0/runs/b7f73a3ba8944e139b5280c0e13cf505\n",
    "    \n",
    "    \n",
    "    optimizer = tf.keras.optimizers.get(optimizer)\n",
    "    optimizer.learning_rate.assign(learning_rate)\n",
    "\n",
    "    model.compile(\n",
    "      optimizer=optimizer,\n",
    "      loss=loss,\n",
    "      metrics=metrics)\n",
    "\n",
    "    print(model.summary())\n",
    "\n",
    "    return model"
   ]
  },
  {
   "cell_type": "markdown",
   "metadata": {},
   "source": [
    "## 4. MLflow Experimentation\n",
    "\n",
    "### 4.1 Configurations"
   ]
  },
  {
   "cell_type": "code",
   "execution_count": 17,
   "metadata": {},
   "outputs": [],
   "source": [
    "from mlflow.models.signature import ModelSignature\n",
    "from mlflow.types.schema import Schema, ColSpec\n",
    "\n",
    "input_schema = Schema([\n",
    "    ColSpec(\"double\", \"head_x\"),\n",
    "    ColSpec(\"double\", \"head_y\"),\n",
    "    ColSpec(\"double\", \"left_shoulder_x\"),\n",
    "    ColSpec(\"double\", \"left_shoulder_y\"),\n",
    "    ColSpec(\"double\", \"left_elbow_x\"),\n",
    "    ColSpec(\"double\", \"left_elbow_y\"),\n",
    "    ColSpec(\"double\", \"right_shoulder_x\"),\n",
    "    ColSpec(\"double\", \"right_shoulder_y\"),\n",
    "    ColSpec(\"double\", \"right_elbow_x\"),\n",
    "    ColSpec(\"double\", \"right_elbow_y\"),\n",
    "    ColSpec(\"double\", \"left_wrist_x\"),\n",
    "    ColSpec(\"double\", \"left_wrist_y\"),\n",
    "    ColSpec(\"double\", \"right_wrist_x\"),\n",
    "    ColSpec(\"double\", \"right_wrist_y\"),\n",
    "    ColSpec(\"double\", \"left_hip_x\"),\n",
    "    ColSpec(\"double\", \"left_hip_y\"),\n",
    "    ColSpec(\"double\", \"right_hip_x\"),\n",
    "    ColSpec(\"double\", \"right_hip_y\"),\n",
    "    ColSpec(\"double\", \"left_knee_x\"),\n",
    "    ColSpec(\"double\", \"left_knee_y\"),\n",
    "    ColSpec(\"double\", \"right_knee_x\"),\n",
    "    ColSpec(\"double\", \"right_knee_y\"),\n",
    "    ColSpec(\"double\", \"left_ankle_x\"),\n",
    "    ColSpec(\"double\", \"left_ankle_y\"),\n",
    "    ColSpec(\"double\", \"right_ankle_x\"),\n",
    "    ColSpec(\"double\", \"right_ankle_y\"),\n",
    "])\n",
    "output_schema = Schema([\n",
    "    ColSpec(\"double\", \"ExreciseScore\"),\n",
    "])\n",
    "signature = ModelSignature(inputs=input_schema, outputs=output_schema)"
   ]
  },
  {
   "cell_type": "markdown",
   "metadata": {},
   "source": [
    "### 4.2 Helper functions"
   ]
  },
  {
   "cell_type": "code",
   "execution_count": 18,
   "metadata": {},
   "outputs": [],
   "source": [
    "import matplotlib as mpl\n",
    "import matplotlib.pyplot as plt\n",
    "\n",
    "mpl.rcParams['figure.figsize'] = (8, 6)\n",
    "mpl.rcParams['axes.grid'] = False\n",
    "\n",
    "def plot_train_history(history, title):\n",
    "    loss = history.history['loss']\n",
    "    val_loss = history.history['val_loss']\n",
    "    epochs = range(len(loss))\n",
    "    plt.figure()\n",
    "    plt.plot(epochs, loss, 'b', label='Training loss')\n",
    "    plt.plot(epochs, val_loss, 'r', label='Validation loss')\n",
    "    plt.title(title)\n",
    "    plt.legend()\n",
    "    plt.show()"
   ]
  },
  {
   "cell_type": "code",
   "execution_count": 19,
   "metadata": {},
   "outputs": [],
   "source": [
    "from sklearn.metrics import mean_squared_error, r2_score, explained_variance_score, mean_absolute_error\n",
    "\n",
    "def eval_metrics(actual, pred):\n",
    "    mse = mean_squared_error(actual, pred)\n",
    "    msa = mean_absolute_error(actual, pred)\n",
    "    r2 = r2_score(actual, pred)\n",
    "    variance = explained_variance_score(actual, pred)\n",
    "    return mse, msa, r2, variance"
   ]
  },
  {
   "cell_type": "markdown",
   "metadata": {},
   "source": [
    "### 4.3 Start Run"
   ]
  },
  {
   "cell_type": "code",
   "execution_count": 20,
   "metadata": {},
   "outputs": [
    {
     "name": "stdout",
     "output_type": "stream",
     "text": [
      "Model: \"sequential\"\n",
      "_________________________________________________________________\n",
      "Layer (type)                 Output Shape              Param #   \n",
      "=================================================================\n",
      "dense (Dense)                (None, 128)               3456      \n",
      "_________________________________________________________________\n",
      "dense_1 (Dense)              (None, 64)                8256      \n",
      "_________________________________________________________________\n",
      "dense_2 (Dense)              (None, 64)                4160      \n",
      "_________________________________________________________________\n",
      "dense_3 (Dense)              (None, 1)                 65        \n",
      "=================================================================\n",
      "Total params: 15,937\n",
      "Trainable params: 15,937\n",
      "Non-trainable params: 0\n",
      "_________________________________________________________________\n",
      "None\n",
      "Epoch 1/500\n",
      "4812/4812 [==============================] - 8s 1ms/step - loss: 0.6448 - mse: 0.6448 - mae: 0.6453 - rmse: 0.8002 - val_loss: 0.4960 - val_mse: 0.4960 - val_mae: 0.5400 - val_rmse: 0.7043\n",
      "Epoch 2/500\n",
      "4812/4812 [==============================] - 7s 1ms/step - loss: 0.3927 - mse: 0.3927 - mae: 0.4785 - rmse: 0.6266 - val_loss: 0.5084 - val_mse: 0.5084 - val_mae: 0.5608 - val_rmse: 0.7130\n",
      "Epoch 3/500\n",
      "4812/4812 [==============================] - 6s 1ms/step - loss: 0.3453 - mse: 0.3453 - mae: 0.4387 - rmse: 0.5876 - val_loss: 0.5524 - val_mse: 0.5524 - val_mae: 0.5700 - val_rmse: 0.7432\n",
      "Epoch 4/500\n",
      "4812/4812 [==============================] - 6s 1ms/step - loss: 0.3238 - mse: 0.3238 - mae: 0.4197 - rmse: 0.5691 - val_loss: 0.5406 - val_mse: 0.5406 - val_mae: 0.5559 - val_rmse: 0.7353\n",
      "Epoch 5/500\n",
      "4812/4812 [==============================] - 6s 1ms/step - loss: 0.3065 - mse: 0.3065 - mae: 0.4048 - rmse: 0.5536 - val_loss: 0.5204 - val_mse: 0.5204 - val_mae: 0.5602 - val_rmse: 0.7214\n",
      "Epoch 6/500\n",
      "4812/4812 [==============================] - 8s 2ms/step - loss: 0.2931 - mse: 0.2931 - mae: 0.3930 - rmse: 0.5414 - val_loss: 0.5771 - val_mse: 0.5771 - val_mae: 0.5933 - val_rmse: 0.7597\n",
      "Epoch 7/500\n",
      "4812/4812 [==============================] - 8s 2ms/step - loss: 0.2830 - mse: 0.2830 - mae: 0.3831 - rmse: 0.5320 - val_loss: 0.6536 - val_mse: 0.6536 - val_mae: 0.6185 - val_rmse: 0.8084\n",
      "Epoch 8/500\n",
      "4812/4812 [==============================] - 8s 2ms/step - loss: 0.2718 - mse: 0.2718 - mae: 0.3736 - rmse: 0.5214 - val_loss: 0.4344 - val_mse: 0.4344 - val_mae: 0.4917 - val_rmse: 0.6591\n",
      "Epoch 9/500\n",
      "4812/4812 [==============================] - 8s 2ms/step - loss: 0.2655 - mse: 0.2655 - mae: 0.3674 - rmse: 0.5153 - val_loss: 0.4578 - val_mse: 0.4578 - val_mae: 0.4968 - val_rmse: 0.6766\n",
      "Epoch 10/500\n",
      "4812/4812 [==============================] - 8s 2ms/step - loss: 0.2578 - mse: 0.2578 - mae: 0.3612 - rmse: 0.5077 - val_loss: 0.4268 - val_mse: 0.4268 - val_mae: 0.4816 - val_rmse: 0.6533\n",
      "Epoch 11/500\n",
      "4812/4812 [==============================] - 9s 2ms/step - loss: 0.2499 - mse: 0.2499 - mae: 0.3538 - rmse: 0.4999 - val_loss: 0.4117 - val_mse: 0.4117 - val_mae: 0.4740 - val_rmse: 0.6416\n",
      "Epoch 12/500\n",
      "4812/4812 [==============================] - 8s 2ms/step - loss: 0.2447 - mse: 0.2447 - mae: 0.3487 - rmse: 0.4946 - val_loss: 0.4292 - val_mse: 0.4292 - val_mae: 0.4863 - val_rmse: 0.6551\n",
      "Epoch 13/500\n",
      "4812/4812 [==============================] - 8s 2ms/step - loss: 0.2397 - mse: 0.2397 - mae: 0.3443 - rmse: 0.4895 - val_loss: 0.4321 - val_mse: 0.4321 - val_mae: 0.4915 - val_rmse: 0.6573\n",
      "Epoch 14/500\n",
      "4812/4812 [==============================] - 7s 1ms/step - loss: 0.2345 - mse: 0.2345 - mae: 0.3396 - rmse: 0.4843 - val_loss: 0.4024 - val_mse: 0.4024 - val_mae: 0.4538 - val_rmse: 0.6343\n",
      "Epoch 15/500\n",
      "4812/4812 [==============================] - 7s 2ms/step - loss: 0.2291 - mse: 0.2291 - mae: 0.3343 - rmse: 0.4786 - val_loss: 0.4352 - val_mse: 0.4352 - val_mae: 0.4796 - val_rmse: 0.6597\n",
      "Epoch 16/500\n",
      "4812/4812 [==============================] - 6s 1ms/step - loss: 0.2269 - mse: 0.2269 - mae: 0.3323 - rmse: 0.4763 - val_loss: 0.3867 - val_mse: 0.3867 - val_mae: 0.4460 - val_rmse: 0.6219\n",
      "Epoch 17/500\n",
      "4812/4812 [==============================] - 6s 1ms/step - loss: 0.2234 - mse: 0.2234 - mae: 0.3295 - rmse: 0.4727 - val_loss: 0.3909 - val_mse: 0.3909 - val_mae: 0.4513 - val_rmse: 0.6252\n",
      "Epoch 18/500\n",
      "4812/4812 [==============================] - 6s 1ms/step - loss: 0.2192 - mse: 0.2192 - mae: 0.3255 - rmse: 0.4681 - val_loss: 0.3695 - val_mse: 0.3695 - val_mae: 0.4426 - val_rmse: 0.6079\n",
      "Epoch 19/500\n",
      "4812/4812 [==============================] - 6s 1ms/step - loss: 0.2148 - mse: 0.2148 - mae: 0.3218 - rmse: 0.4634 - val_loss: 0.3923 - val_mse: 0.3923 - val_mae: 0.4454 - val_rmse: 0.6263\n",
      "Epoch 20/500\n",
      "4812/4812 [==============================] - 6s 1ms/step - loss: 0.2136 - mse: 0.2136 - mae: 0.3201 - rmse: 0.4622 - val_loss: 0.3454 - val_mse: 0.3454 - val_mae: 0.4305 - val_rmse: 0.5877\n",
      "Epoch 21/500\n",
      "4812/4812 [==============================] - 6s 1ms/step - loss: 0.2098 - mse: 0.2098 - mae: 0.3175 - rmse: 0.4580 - val_loss: 0.3629 - val_mse: 0.3629 - val_mae: 0.4405 - val_rmse: 0.6024\n",
      "Epoch 22/500\n",
      "4812/4812 [==============================] - 7s 1ms/step - loss: 0.2067 - mse: 0.2067 - mae: 0.3143 - rmse: 0.4546 - val_loss: 0.3836 - val_mse: 0.3836 - val_mae: 0.4458 - val_rmse: 0.6194\n",
      "Epoch 23/500\n",
      "4812/4812 [==============================] - 6s 1ms/step - loss: 0.2058 - mse: 0.2058 - mae: 0.3127 - rmse: 0.4537 - val_loss: 0.3948 - val_mse: 0.3948 - val_mae: 0.4582 - val_rmse: 0.6283\n",
      "Epoch 24/500\n",
      "4812/4812 [==============================] - 6s 1ms/step - loss: 0.2027 - mse: 0.2027 - mae: 0.3100 - rmse: 0.4502 - val_loss: 0.3885 - val_mse: 0.3885 - val_mae: 0.4541 - val_rmse: 0.6233\n",
      "Epoch 25/500\n",
      "4812/4812 [==============================] - 6s 1ms/step - loss: 0.2003 - mse: 0.2003 - mae: 0.3078 - rmse: 0.4475 - val_loss: 0.3860 - val_mse: 0.3860 - val_mae: 0.4516 - val_rmse: 0.6213\n",
      "Epoch 26/500\n",
      "4812/4812 [==============================] - 6s 1ms/step - loss: 0.1974 - mse: 0.1974 - mae: 0.3057 - rmse: 0.4443 - val_loss: 0.3509 - val_mse: 0.3509 - val_mae: 0.4281 - val_rmse: 0.5924\n",
      "Epoch 27/500\n",
      "4812/4812 [==============================] - 6s 1ms/step - loss: 0.1967 - mse: 0.1967 - mae: 0.3044 - rmse: 0.4435 - val_loss: 0.3410 - val_mse: 0.3410 - val_mae: 0.4121 - val_rmse: 0.5840\n",
      "Epoch 28/500\n",
      "4812/4812 [==============================] - 6s 1ms/step - loss: 0.1947 - mse: 0.1947 - mae: 0.3024 - rmse: 0.4413 - val_loss: 0.3716 - val_mse: 0.3716 - val_mae: 0.4474 - val_rmse: 0.6096\n",
      "Epoch 29/500\n",
      "4812/4812 [==============================] - 6s 1ms/step - loss: 0.1923 - mse: 0.1923 - mae: 0.3004 - rmse: 0.4385 - val_loss: 0.3834 - val_mse: 0.3834 - val_mae: 0.4471 - val_rmse: 0.6192\n",
      "Epoch 30/500\n",
      "4812/4812 [==============================] - 6s 1ms/step - loss: 0.1884 - mse: 0.1884 - mae: 0.2968 - rmse: 0.4341 - val_loss: 0.3682 - val_mse: 0.3682 - val_mae: 0.4391 - val_rmse: 0.6068\n",
      "Epoch 31/500\n",
      "4812/4812 [==============================] - 6s 1ms/step - loss: 0.1876 - mse: 0.1876 - mae: 0.2960 - rmse: 0.4332 - val_loss: 0.3738 - val_mse: 0.3738 - val_mae: 0.4300 - val_rmse: 0.6114\n",
      "Epoch 32/500\n",
      "4812/4812 [==============================] - 6s 1ms/step - loss: 0.1854 - mse: 0.1854 - mae: 0.2941 - rmse: 0.4306 - val_loss: 0.3426 - val_mse: 0.3426 - val_mae: 0.4111 - val_rmse: 0.5853\n",
      "Epoch 33/500\n",
      "4812/4812 [==============================] - 6s 1ms/step - loss: 0.1846 - mse: 0.1846 - mae: 0.2933 - rmse: 0.4296 - val_loss: 0.3647 - val_mse: 0.3647 - val_mae: 0.4354 - val_rmse: 0.6039\n",
      "Epoch 34/500\n",
      "4812/4812 [==============================] - 6s 1ms/step - loss: 0.1833 - mse: 0.1833 - mae: 0.2921 - rmse: 0.4282 - val_loss: 0.3382 - val_mse: 0.3382 - val_mae: 0.4205 - val_rmse: 0.5815\n",
      "Epoch 35/500\n",
      "4812/4812 [==============================] - 6s 1ms/step - loss: 0.1795 - mse: 0.1795 - mae: 0.2891 - rmse: 0.4236 - val_loss: 0.3217 - val_mse: 0.3217 - val_mae: 0.3999 - val_rmse: 0.5672\n",
      "Epoch 36/500\n",
      "4812/4812 [==============================] - 6s 1ms/step - loss: 0.1801 - mse: 0.1801 - mae: 0.2896 - rmse: 0.4244 - val_loss: 0.3497 - val_mse: 0.3497 - val_mae: 0.4125 - val_rmse: 0.5914\n",
      "Epoch 37/500\n"
     ]
    },
    {
     "name": "stdout",
     "output_type": "stream",
     "text": [
      "4812/4812 [==============================] - 6s 1ms/step - loss: 0.1796 - mse: 0.1796 - mae: 0.2888 - rmse: 0.4238 - val_loss: 0.3174 - val_mse: 0.3174 - val_mae: 0.3997 - val_rmse: 0.5634\n",
      "Epoch 38/500\n",
      "4812/4812 [==============================] - 6s 1ms/step - loss: 0.1769 - mse: 0.1769 - mae: 0.2862 - rmse: 0.4206 - val_loss: 0.3438 - val_mse: 0.3438 - val_mae: 0.4103 - val_rmse: 0.5863\n",
      "Epoch 39/500\n",
      "4812/4812 [==============================] - 6s 1ms/step - loss: 0.1752 - mse: 0.1752 - mae: 0.2849 - rmse: 0.4185 - val_loss: 0.3141 - val_mse: 0.3141 - val_mae: 0.3927 - val_rmse: 0.5604\n",
      "Epoch 40/500\n",
      "4812/4812 [==============================] - 6s 1ms/step - loss: 0.1749 - mse: 0.1749 - mae: 0.2844 - rmse: 0.4182 - val_loss: 0.3623 - val_mse: 0.3623 - val_mae: 0.4203 - val_rmse: 0.6019\n",
      "Epoch 41/500\n",
      "4812/4812 [==============================] - 6s 1ms/step - loss: 0.1719 - mse: 0.1719 - mae: 0.2820 - rmse: 0.4146 - val_loss: 0.3278 - val_mse: 0.3278 - val_mae: 0.3980 - val_rmse: 0.5725\n",
      "Epoch 42/500\n",
      "4812/4812 [==============================] - 6s 1ms/step - loss: 0.1722 - mse: 0.1722 - mae: 0.2818 - rmse: 0.4150 - val_loss: 0.3313 - val_mse: 0.3313 - val_mae: 0.3998 - val_rmse: 0.5756\n",
      "Epoch 43/500\n",
      "4812/4812 [==============================] - 6s 1ms/step - loss: 0.1702 - mse: 0.1702 - mae: 0.2799 - rmse: 0.4126 - val_loss: 0.3226 - val_mse: 0.3226 - val_mae: 0.4012 - val_rmse: 0.5680\n",
      "Epoch 44/500\n",
      "4812/4812 [==============================] - 6s 1ms/step - loss: 0.1704 - mse: 0.1704 - mae: 0.2802 - rmse: 0.4128 - val_loss: 0.3167 - val_mse: 0.3167 - val_mae: 0.3990 - val_rmse: 0.5627\n",
      "Epoch 45/500\n",
      "4812/4812 [==============================] - 6s 1ms/step - loss: 0.1703 - mse: 0.1703 - mae: 0.2803 - rmse: 0.4127 - val_loss: 0.3140 - val_mse: 0.3140 - val_mae: 0.3927 - val_rmse: 0.5603\n",
      "Epoch 46/500\n",
      "4812/4812 [==============================] - 6s 1ms/step - loss: 0.1669 - mse: 0.1669 - mae: 0.2768 - rmse: 0.4085 - val_loss: 0.3119 - val_mse: 0.3119 - val_mae: 0.3935 - val_rmse: 0.5585\n",
      "Epoch 47/500\n",
      "4812/4812 [==============================] - 6s 1ms/step - loss: 0.1675 - mse: 0.1675 - mae: 0.2775 - rmse: 0.4092 - val_loss: 0.3148 - val_mse: 0.3148 - val_mae: 0.3924 - val_rmse: 0.5611\n",
      "Epoch 48/500\n",
      "4812/4812 [==============================] - 6s 1ms/step - loss: 0.1651 - mse: 0.1651 - mae: 0.2754 - rmse: 0.4064 - val_loss: 0.3068 - val_mse: 0.3068 - val_mae: 0.3871 - val_rmse: 0.5539\n",
      "Epoch 49/500\n",
      "4812/4812 [==============================] - 7s 1ms/step - loss: 0.1667 - mse: 0.1667 - mae: 0.2769 - rmse: 0.4083 - val_loss: 0.2917 - val_mse: 0.2917 - val_mae: 0.3765 - val_rmse: 0.5401\n",
      "Epoch 50/500\n",
      "4812/4812 [==============================] - 7s 1ms/step - loss: 0.1621 - mse: 0.1621 - mae: 0.2723 - rmse: 0.4026 - val_loss: 0.3189 - val_mse: 0.3189 - val_mae: 0.3894 - val_rmse: 0.5647\n",
      "Epoch 51/500\n",
      "4812/4812 [==============================] - 6s 1ms/step - loss: 0.1633 - mse: 0.1633 - mae: 0.2738 - rmse: 0.4041 - val_loss: 0.2978 - val_mse: 0.2978 - val_mae: 0.3779 - val_rmse: 0.5457\n",
      "Epoch 52/500\n",
      "4812/4812 [==============================] - 6s 1ms/step - loss: 0.1623 - mse: 0.1623 - mae: 0.2727 - rmse: 0.4028 - val_loss: 0.3119 - val_mse: 0.3119 - val_mae: 0.3924 - val_rmse: 0.5585\n",
      "Epoch 53/500\n",
      "4812/4812 [==============================] - 6s 1ms/step - loss: 0.1599 - mse: 0.1599 - mae: 0.2702 - rmse: 0.3998 - val_loss: 0.2787 - val_mse: 0.2787 - val_mae: 0.3639 - val_rmse: 0.5279\n",
      "Epoch 54/500\n",
      "4812/4812 [==============================] - 6s 1ms/step - loss: 0.1601 - mse: 0.1601 - mae: 0.2706 - rmse: 0.4001 - val_loss: 0.2976 - val_mse: 0.2976 - val_mae: 0.3768 - val_rmse: 0.5455\n",
      "Epoch 55/500\n",
      "4812/4812 [==============================] - 6s 1ms/step - loss: 0.1584 - mse: 0.1584 - mae: 0.2689 - rmse: 0.3980 - val_loss: 0.2699 - val_mse: 0.2699 - val_mae: 0.3503 - val_rmse: 0.5195\n",
      "Epoch 56/500\n",
      "4812/4812 [==============================] - 6s 1ms/step - loss: 0.1583 - mse: 0.1583 - mae: 0.2690 - rmse: 0.3978 - val_loss: 0.3001 - val_mse: 0.3001 - val_mae: 0.3860 - val_rmse: 0.5478\n",
      "Epoch 57/500\n",
      "4812/4812 [==============================] - 6s 1ms/step - loss: 0.1592 - mse: 0.1592 - mae: 0.2695 - rmse: 0.3990 - val_loss: 0.2953 - val_mse: 0.2953 - val_mae: 0.3747 - val_rmse: 0.5434\n",
      "Epoch 58/500\n",
      "4812/4812 [==============================] - 6s 1ms/step - loss: 0.1564 - mse: 0.1564 - mae: 0.2668 - rmse: 0.3954 - val_loss: 0.2914 - val_mse: 0.2914 - val_mae: 0.3744 - val_rmse: 0.5398\n",
      "Epoch 59/500\n",
      "4812/4812 [==============================] - 6s 1ms/step - loss: 0.1568 - mse: 0.1568 - mae: 0.2673 - rmse: 0.3960 - val_loss: 0.2762 - val_mse: 0.2762 - val_mae: 0.3664 - val_rmse: 0.5256\n",
      "Epoch 60/500\n",
      "4812/4812 [==============================] - 6s 1ms/step - loss: 0.1548 - mse: 0.1548 - mae: 0.2654 - rmse: 0.3935 - val_loss: 0.2933 - val_mse: 0.2933 - val_mae: 0.3743 - val_rmse: 0.5415\n",
      "Epoch 61/500\n",
      "4812/4812 [==============================] - 6s 1ms/step - loss: 0.1539 - mse: 0.1539 - mae: 0.2649 - rmse: 0.3923 - val_loss: 0.2726 - val_mse: 0.2726 - val_mae: 0.3599 - val_rmse: 0.5221\n",
      "Epoch 62/500\n",
      "4812/4812 [==============================] - 6s 1ms/step - loss: 0.1564 - mse: 0.1564 - mae: 0.2668 - rmse: 0.3955 - val_loss: 0.3035 - val_mse: 0.3035 - val_mae: 0.3815 - val_rmse: 0.5509\n",
      "Epoch 63/500\n",
      "4812/4812 [==============================] - 6s 1ms/step - loss: 0.1515 - mse: 0.1515 - mae: 0.2621 - rmse: 0.3892 - val_loss: 0.2689 - val_mse: 0.2689 - val_mae: 0.3601 - val_rmse: 0.5185\n",
      "Epoch 64/500\n",
      "4812/4812 [==============================] - 6s 1ms/step - loss: 0.1512 - mse: 0.1512 - mae: 0.2620 - rmse: 0.3888 - val_loss: 0.2658 - val_mse: 0.2658 - val_mae: 0.3536 - val_rmse: 0.5156\n",
      "Epoch 65/500\n",
      "4812/4812 [==============================] - 6s 1ms/step - loss: 0.1525 - mse: 0.1525 - mae: 0.2625 - rmse: 0.3904 - val_loss: 0.2816 - val_mse: 0.2816 - val_mae: 0.3629 - val_rmse: 0.5306\n",
      "Epoch 66/500\n",
      "4812/4812 [==============================] - 6s 1ms/step - loss: 0.1518 - mse: 0.1518 - mae: 0.2622 - rmse: 0.3896 - val_loss: 0.2908 - val_mse: 0.2908 - val_mae: 0.3670 - val_rmse: 0.5393\n",
      "Epoch 67/500\n",
      "4812/4812 [==============================] - 6s 1ms/step - loss: 0.1506 - mse: 0.1506 - mae: 0.2611 - rmse: 0.3881 - val_loss: 0.2826 - val_mse: 0.2826 - val_mae: 0.3575 - val_rmse: 0.5316\n",
      "Epoch 68/500\n",
      "4812/4812 [==============================] - 6s 1ms/step - loss: 0.1516 - mse: 0.1516 - mae: 0.2625 - rmse: 0.3894 - val_loss: 0.2740 - val_mse: 0.2740 - val_mae: 0.3630 - val_rmse: 0.5235\n",
      "Epoch 69/500\n",
      "4812/4812 [==============================] - 7s 1ms/step - loss: 0.1482 - mse: 0.1482 - mae: 0.2589 - rmse: 0.3849 - val_loss: 0.2542 - val_mse: 0.2542 - val_mae: 0.3444 - val_rmse: 0.5042\n",
      "Epoch 70/500\n",
      "4812/4812 [==============================] - 6s 1ms/step - loss: 0.1495 - mse: 0.1495 - mae: 0.2602 - rmse: 0.3866 - val_loss: 0.2662 - val_mse: 0.2662 - val_mae: 0.3537 - val_rmse: 0.5160\n",
      "Epoch 71/500\n",
      "4812/4812 [==============================] - 6s 1ms/step - loss: 0.1466 - mse: 0.1466 - mae: 0.2575 - rmse: 0.3829 - val_loss: 0.2449 - val_mse: 0.2449 - val_mae: 0.3400 - val_rmse: 0.4949\n",
      "Epoch 72/500\n",
      "4812/4812 [==============================] - 6s 1ms/step - loss: 0.1471 - mse: 0.1471 - mae: 0.2578 - rmse: 0.3836 - val_loss: 0.2552 - val_mse: 0.2552 - val_mae: 0.3463 - val_rmse: 0.5052\n",
      "Epoch 73/500\n",
      "4812/4812 [==============================] - 6s 1ms/step - loss: 0.1471 - mse: 0.1471 - mae: 0.2575 - rmse: 0.3835 - val_loss: 0.2748 - val_mse: 0.2748 - val_mae: 0.3554 - val_rmse: 0.5243\n",
      "Epoch 74/500\n",
      "4812/4812 [==============================] - 6s 1ms/step - loss: 0.1469 - mse: 0.1469 - mae: 0.2577 - rmse: 0.3833 - val_loss: 0.2638 - val_mse: 0.2638 - val_mae: 0.3506 - val_rmse: 0.5137\n",
      "Epoch 75/500\n",
      "4812/4812 [==============================] - 6s 1ms/step - loss: 0.1455 - mse: 0.1455 - mae: 0.2566 - rmse: 0.3814 - val_loss: 0.2767 - val_mse: 0.2767 - val_mae: 0.3601 - val_rmse: 0.5260\n",
      "Epoch 76/500\n",
      "4812/4812 [==============================] - 6s 1ms/step - loss: 0.1452 - mse: 0.1452 - mae: 0.2559 - rmse: 0.3810 - val_loss: 0.2592 - val_mse: 0.2592 - val_mae: 0.3461 - val_rmse: 0.5091\n",
      "Epoch 77/500\n"
     ]
    },
    {
     "name": "stdout",
     "output_type": "stream",
     "text": [
      "4812/4812 [==============================] - 6s 1ms/step - loss: 0.1445 - mse: 0.1445 - mae: 0.2555 - rmse: 0.3802 - val_loss: 0.2674 - val_mse: 0.2674 - val_mae: 0.3569 - val_rmse: 0.5171\n",
      "Epoch 78/500\n",
      "4812/4812 [==============================] - 6s 1ms/step - loss: 0.1436 - mse: 0.1436 - mae: 0.2547 - rmse: 0.3790 - val_loss: 0.2111 - val_mse: 0.2111 - val_mae: 0.3176 - val_rmse: 0.4594\n",
      "Epoch 79/500\n",
      "4812/4812 [==============================] - 6s 1ms/step - loss: 0.1423 - mse: 0.1423 - mae: 0.2531 - rmse: 0.3772 - val_loss: 0.2357 - val_mse: 0.2357 - val_mae: 0.3378 - val_rmse: 0.4855\n",
      "Epoch 80/500\n",
      "4812/4812 [==============================] - 6s 1ms/step - loss: 0.1413 - mse: 0.1413 - mae: 0.2527 - rmse: 0.3759 - val_loss: 0.2432 - val_mse: 0.2432 - val_mae: 0.3395 - val_rmse: 0.4932\n",
      "Epoch 81/500\n",
      "4812/4812 [==============================] - 6s 1ms/step - loss: 0.1427 - mse: 0.1427 - mae: 0.2542 - rmse: 0.3777 - val_loss: 0.2583 - val_mse: 0.2583 - val_mae: 0.3487 - val_rmse: 0.5083\n",
      "Epoch 82/500\n",
      "4812/4812 [==============================] - 6s 1ms/step - loss: 0.1413 - mse: 0.1413 - mae: 0.2523 - rmse: 0.3760 - val_loss: 0.2264 - val_mse: 0.2264 - val_mae: 0.3284 - val_rmse: 0.4758\n",
      "Epoch 83/500\n",
      "4812/4812 [==============================] - 6s 1ms/step - loss: 0.1417 - mse: 0.1417 - mae: 0.2521 - rmse: 0.3764 - val_loss: 0.2533 - val_mse: 0.2533 - val_mae: 0.3422 - val_rmse: 0.5033\n",
      "Epoch 84/500\n",
      "4812/4812 [==============================] - 6s 1ms/step - loss: 0.1421 - mse: 0.1421 - mae: 0.2530 - rmse: 0.3769 - val_loss: 0.2773 - val_mse: 0.2773 - val_mae: 0.3613 - val_rmse: 0.5266\n",
      "Epoch 85/500\n",
      "4812/4812 [==============================] - 6s 1ms/step - loss: 0.1410 - mse: 0.1410 - mae: 0.2519 - rmse: 0.3755 - val_loss: 0.2558 - val_mse: 0.2558 - val_mae: 0.3437 - val_rmse: 0.5058\n",
      "Epoch 86/500\n",
      "4812/4812 [==============================] - 6s 1ms/step - loss: 0.1401 - mse: 0.1401 - mae: 0.2510 - rmse: 0.3743 - val_loss: 0.2521 - val_mse: 0.2521 - val_mae: 0.3441 - val_rmse: 0.5021\n",
      "Epoch 87/500\n",
      "4812/4812 [==============================] - 6s 1ms/step - loss: 0.1403 - mse: 0.1403 - mae: 0.2512 - rmse: 0.3746 - val_loss: 0.2257 - val_mse: 0.2257 - val_mae: 0.3304 - val_rmse: 0.4750\n",
      "Epoch 88/500\n",
      "4812/4812 [==============================] - 6s 1ms/step - loss: 0.1394 - mse: 0.1394 - mae: 0.2510 - rmse: 0.3734 - val_loss: 0.2293 - val_mse: 0.2293 - val_mae: 0.3319 - val_rmse: 0.4788\n",
      "Restoring model weights from the end of the best epoch.\n",
      "Epoch 00088: early stopping\n"
     ]
    },
    {
     "data": {
      "image/png": "[encoded data removed]",
      "text/plain": [
       "<Figure size 576x432 with 1 Axes>"
      ]
     },
     "metadata": {
      "needs_background": "light"
     },
     "output_type": "display_data"
    },
    {
     "data": {
      "text/plain": [
       "<Figure size 576x432 with 0 Axes>"
      ]
     },
     "metadata": {},
     "output_type": "display_data"
    },
    {
     "name": "stdout",
     "output_type": "stream",
     "text": [
      "MSE:  1.4073346071238673\n",
      "MAE:  0.8712337104561786\n",
      "R-Squared:  0.36843164089176894\n",
      "Explained Variance Score:  0.4445144729506588\n"
     ]
    }
   ],
   "source": [
    "model_name = 'dense_model_posenet_ExreciseScore'\n",
    "\n",
    "with mlflow.start_run(run_name=model_name) as run:\n",
    "\n",
    "    run_id = run.info.run_id\n",
    "\n",
    "    model = make_model(metrics=METRICS, \n",
    "                        loss='mean_squared_error', \n",
    "                        optimizer=optimizer, \n",
    "                        learning_rate=learning_rate, \n",
    "                        input_dim=input_dim)\n",
    "    \n",
    "    with tf.device('/CPU:0'):\n",
    "        history = model.fit(\n",
    "            x=X_train, \n",
    "            y=y_train, \n",
    "            shuffle=True, \n",
    "            epochs=EPOCHS, \n",
    "            verbose=1,\n",
    "            batch_size=BATCH_SIZE,\n",
    "            validation_split=0.2,\n",
    "            callbacks=[early_stopping])\n",
    "\n",
    "    # Plot training history\n",
    "    plot_train_history(history, 'Baseline Training and validation loss')\n",
    "    plt.savefig(\"training_history.jpg\")\n",
    "    mlflow.log_artifact(\"training_history.jpg\")\n",
    "    plt.show()\n",
    "    \n",
    "    # Log model, scaler, model parameters to MLflow\n",
    "    #mlflow.log_param(\"activation\", activation)\n",
    "    #mlflow.log_param(\"kernel_initializer\", kernel_initializer)\n",
    "    #mlflow.log_param(\"output activation\", output_activation)\n",
    "    #mlflow.log_param(\"optimizer\", optimizer)\n",
    "    #mlflow.log_param(\"learning rate\", learning_rate)\n",
    "    #mlflow.log_param(\"batch size\", BATCH_SIZE)\n",
    "    #mlflow.log_param(\"epochs\", early_stopping.stopped_epoch)\n",
    "        \n",
    "    #mlflow.log_param(\"input_mean_train\", input_mean_train)\n",
    "    #mlflow.log_param(\"input_std_train\", input_std_train)\n",
    "    #mlflow.log_param(\"input_mean_test\", input_mean_test)\n",
    "    #mlflow.log_param(\"input_std_test\", input_std_test)\n",
    "    #mlflow.log_param(\"output_mean\", output_mean)\n",
    "    #mlflow.log_param(\"output_std\", output_std)\n",
    "\n",
    "    # Log model performance\n",
    "    process_time = [None] * 10\n",
    "    \n",
    "    for i in range(10):\n",
    "        start_time = time.time()\n",
    "        predictions = model.predict(X_test)\n",
    "        end_time = time.time()\n",
    "        process_time[i] = (end_time - start_time) * 1000\n",
    "    \n",
    "    predictions = (predictions * output_std_train.to_numpy()) + output_mean_train.to_numpy()\n",
    "    \n",
    "    output_mean_test = y_test.mean()\n",
    "    output_std_test = y_test.std()\n",
    "    y_test = (y_test - output_mean_test) / output_std_test\n",
    "    y_test.to_numpy()\n",
    "    \n",
    "    (mse, mae, r2, variance) = eval_metrics(y_test, predictions)\n",
    "    #mlflow.log_metric(\"mse\", mse)\n",
    "    #mlflow.log_metric(\"mae\", mae)\n",
    "    #mlflow.log_metric(\"R-squared\", r2)\n",
    "    #mlflow.log_metric(\"variance\", variance)\n",
    "    #mlflow.log_param(\"total params\", model.count_params())\n",
    "    #mlflow.log_metric(\"process time\", np.mean(process_time)) \n",
    "    \n",
    "    #mlflow.keras.log_model(model, model_name, signature=signature)\n",
    "\n",
    "    # Print metrics\n",
    "    print('MSE: ', mse)\n",
    "    print('MAE: ', mae)\n",
    "    print('R-Squared: ', r2)\n",
    "    print('Explained Variance Score: ', variance)"
   ]
  },
  {
   "cell_type": "code",
   "execution_count": 21,
   "metadata": {},
   "outputs": [],
   "source": [
    "## 5. Register Model"
   ]
  },
  {
   "cell_type": "code",
   "execution_count": 22,
   "metadata": {},
   "outputs": [],
   "source": [
    "# model_uri = \"runs:/{}/{}\".format(run.info.run_id, model_name)\n",
    "# mv = mlflow.register_model(model_uri, model_name)\n",
    "# print(\"Name: {}\".format(mv.name))\n",
    "# print(\"Version: {}\".format(mv.version))"
   ]
  },
  {
   "cell_type": "code",
   "execution_count": null,
   "metadata": {},
   "outputs": [],
   "source": []
  },
  {
   "cell_type": "code",
   "execution_count": null,
   "metadata": {},
   "outputs": [],
   "source": []
  }
 ],
 "metadata": {
  "kernelspec": {
   "display_name": "Python 3",
   "language": "python",
   "name": "python3"
  },
  "language_info": {
   "codemirror_mode": {
    "name": "ipython",
    "version": 3
   },
   "file_extension": ".py",
   "mimetype": "text/x-python",
   "name": "python",
   "nbconvert_exporter": "python",
   "pygments_lexer": "ipython3",
   "version": "3.9.2"
  },
  "metadata": {
   "interpreter": {
    "hash": "63fd5069d213b44bf678585dea6b12cceca9941eaf7f819626cde1f2670de90d"
   }
  }
 },
 "nbformat": 4,
 "nbformat_minor": 2
}
