{
 "metadata": {
  "language_info": {
   "codemirror_mode": {
    "name": "ipython",
    "version": 3
   },
   "file_extension": ".py",
   "mimetype": "text/x-python",
   "name": "python",
   "nbconvert_exporter": "python",
   "pygments_lexer": "ipython3",
   "version": "3.9.5"
  },
  "orig_nbformat": 2,
  "kernelspec": {
   "name": "python395jvsc74a57bd063fd5069d213b44bf678585dea6b12cceca9941eaf7f819626cde1f2670de90d",
   "display_name": "Python 3.9.5 64-bit"
  },
  "metadata": {
   "interpreter": {
    "hash": "63fd5069d213b44bf678585dea6b12cceca9941eaf7f819626cde1f2670de90d"
   }
  }
 },
 "nbformat": 4,
 "nbformat_minor": 2,
 "cells": [
  {
   "source": [
    "# Problem A (Kinect)\n",
    "\n",
    "Section for configurations and imports."
   ],
   "cell_type": "markdown",
   "metadata": {}
  },
  {
   "cell_type": "code",
   "execution_count": 1,
   "metadata": {},
   "outputs": [],
   "source": [
    "import os\n",
    "import numpy as np\n",
    "import pandas as pd\n",
    "import tensorflow as tf\n",
    "import seaborn as sns\n",
    "import matplotlib as mpl\n",
    "import matplotlib.pyplot as plt\n",
    "\n",
    "import mlflow\n",
    "mlflow.set_tracking_uri('http://35.228.45.76:5000')\n",
    "os.environ['GOOGLE_APPLICATION_CREDENTIALS']='../../mlflow-312506-8cfad529f4fd.json'\n",
    "\n",
    "from tensorflow import keras\n",
    "\n",
    "# Import data augmentation\n",
    "import sys\n",
    "module_path = os.path.abspath(os.path.join('../..'))\n",
    "if module_path not in sys.path:\n",
    "    sys.path.append(module_path)\n",
    "from augmentation.methods import *"
   ]
  },
  {
   "cell_type": "code",
   "execution_count": 2,
   "metadata": {},
   "outputs": [],
   "source": [
    "import warnings\n",
    "warnings.simplefilter('ignore')"
   ]
  },
  {
   "cell_type": "code",
   "execution_count": 3,
   "metadata": {},
   "outputs": [],
   "source": [
    "mpl.rcParams['figure.figsize'] = (12, 10)\n",
    "colors = plt.rcParams['axes.prop_cycle'].by_key()['color']"
   ]
  },
  {
   "cell_type": "code",
   "execution_count": 4,
   "metadata": {},
   "outputs": [],
   "source": [
    "random_state = 47\n",
    "np.random.seed(random_state)"
   ]
  },
  {
   "cell_type": "code",
   "execution_count": 5,
   "metadata": {},
   "outputs": [
    {
     "output_type": "stream",
     "name": "stdout",
     "text": [
      "Num GPUs Available:  1\n"
     ]
    }
   ],
   "source": [
    "physical_devices = tf.config.experimental.list_physical_devices( 'GPU' )\n",
    "print( 'Num GPUs Available: ', len( physical_devices ) )\n",
    "if len( physical_devices ) > 0:\n",
    "    tf.config.experimental.set_memory_growth( physical_devices[0], True )"
   ]
  },
  {
   "source": [
    "## 1. Load Kinect files and classify each sample into good or bad depending on the file name\n",
    "\n",
    "W is the start of file names containing a bad exercise, and all others file names are to be classified as good exercises."
   ],
   "cell_type": "markdown",
   "metadata": {}
  },
  {
   "cell_type": "code",
   "execution_count": 6,
   "metadata": {},
   "outputs": [],
   "source": [
    "file_path = 'https://raw.githubusercontent.com/digitacs/4dv652-ml/main/datasets/all_good_bad_videos/kinect_good_vs_bad_not_preprocessed/'\n",
    "\n",
    "good_videos = []\n",
    "bad_videos = []"
   ]
  },
  {
   "source": [
    "### 1.1 Cut leading and trailing frames\n",
    "\n",
    "When loading the files, we'll use this method for removing leading and trailing frames from each data sample-"
   ],
   "cell_type": "markdown",
   "metadata": {}
  },
  {
   "cell_type": "code",
   "execution_count": 7,
   "metadata": {},
   "outputs": [],
   "source": [
    "cut_start_scaler = mlflow.sklearn.load_model('gs://mlflow-atlas/mlflow_artifacts/0/14b3d62fe0ac449d98a19e883e57133c/artifacts/InputScaler')\n",
    "cut_start_model = mlflow.keras.load_model('gs://mlflow-atlas/mlflow_artifacts/0/14b3d62fe0ac449d98a19e883e57133c/artifacts/cut_start_kinect')\n",
    "\n",
    "cut_stop_scaler = mlflow.sklearn.load_model('gs://mlflow-atlas/mlflow_artifacts/0/550767846e1441389ca2c312d5b73355/artifacts/InputScaler')\n",
    "cut_stop_model = mlflow.keras.load_model('gs://mlflow-atlas/mlflow_artifacts/0/550767846e1441389ca2c312d5b73355/artifacts/cut_stop_kinect')"
   ]
  },
  {
   "cell_type": "code",
   "execution_count": 8,
   "metadata": {},
   "outputs": [],
   "source": [
    "def cut_leading_trailing(data):\n",
    "    trimmed_data = data.copy()\n",
    "    scaled_data_start = cut_start_scaler.transform(data, copy=True)\n",
    "\n",
    "    # Remove start frames\n",
    "    predictions = cut_start_model.predict(scaled_data_start)\n",
    "    predictions = predictions.round().astype(int)\n",
    "    n = 0\n",
    "    drop = []\n",
    "    for pred in predictions:\n",
    "        if pred == 1 and n < 50:\n",
    "            drop.append(n)\n",
    "        n = n + 1\n",
    "    try:\n",
    "        trimmed_data.drop(index=drop, inplace=True)\n",
    "    except:\n",
    "        print('Error trying to remove start frames')\n",
    "\n",
    "    # Remove stop frames\n",
    "    scaled_data_stop = cut_stop_scaler.transform(trimmed_data, copy=True)\n",
    "    predictions = cut_stop_model.predict(scaled_data_stop)\n",
    "    predictions = predictions.round().astype(int)\n",
    "    n = 0\n",
    "    drop = []\n",
    "    for pred in predictions:\n",
    "        if pred == 1 and n > (len(predictions) - 50):\n",
    "            drop.append(n)\n",
    "        n = n + 1\n",
    "    try:\n",
    "        trimmed_data.drop(index=drop, inplace=True)\n",
    "    except:\n",
    "        print('Error trying to remove stop frames')\n",
    "\n",
    "    return trimmed_data"
   ]
  },
  {
   "cell_type": "code",
   "execution_count": 9,
   "metadata": {
    "tags": []
   },
   "outputs": [
    {
     "output_type": "stream",
     "name": "stdout",
     "text": [
      "(254, 39)\n",
      "After cutting start: (204, 39)\n",
      "Final: (155, 39)\n",
      "(171, 39)\n",
      "After cutting start: (121, 39)\n",
      "Final: (74, 39)\n",
      "(314, 39)\n",
      "After cutting start: (264, 39)\n",
      "Final: (215, 39)\n",
      "(152, 39)\n",
      "After cutting start: (102, 39)\n",
      "Final: (53, 39)\n",
      "(250, 39)\n",
      "After cutting start: (214, 39)\n",
      "Final: (165, 39)\n",
      "(178, 39)\n",
      "After cutting start: (143, 39)\n",
      "Final: (99, 39)\n",
      "(219, 39)\n",
      "After cutting start: (169, 39)\n",
      "Final: (123, 39)\n",
      "(213, 39)\n",
      "After cutting start: (174, 39)\n",
      "Final: (125, 39)\n",
      "(247, 39)\n",
      "After cutting start: (197, 39)\n",
      "Final: (150, 39)\n",
      "(270, 39)\n",
      "After cutting start: (253, 39)\n",
      "Final: (204, 39)\n",
      "(317, 39)\n",
      "After cutting start: (308, 39)\n",
      "Final: (259, 39)\n",
      "(190, 39)\n",
      "After cutting start: (145, 39)\n",
      "Final: (101, 39)\n",
      "(292, 39)\n",
      "After cutting start: (262, 39)\n",
      "Final: (216, 39)\n",
      "(176, 39)\n",
      "After cutting start: (161, 39)\n",
      "Final: (112, 39)\n",
      "(259, 39)\n",
      "After cutting start: (216, 39)\n",
      "Final: (167, 39)\n",
      "(212, 39)\n",
      "After cutting start: (212, 39)\n",
      "Final: (163, 39)\n",
      "(261, 39)\n",
      "After cutting start: (228, 39)\n",
      "Final: (179, 39)\n",
      "(218, 39)\n",
      "After cutting start: (174, 39)\n",
      "Final: (125, 39)\n",
      "(214, 39)\n",
      "After cutting start: (170, 39)\n",
      "Final: (121, 39)\n",
      "(205, 39)\n",
      "After cutting start: (180, 39)\n",
      "Final: (132, 39)\n",
      "(246, 39)\n",
      "After cutting start: (196, 39)\n",
      "Final: (147, 39)\n",
      "(201, 39)\n",
      "After cutting start: (152, 39)\n",
      "Final: (103, 39)\n",
      "(211, 39)\n",
      "After cutting start: (170, 39)\n",
      "Final: (121, 39)\n",
      "(263, 39)\n",
      "After cutting start: (227, 39)\n",
      "Final: (178, 39)\n",
      "(250, 39)\n",
      "After cutting start: (200, 39)\n",
      "Final: (151, 39)\n",
      "(247, 39)\n",
      "After cutting start: (197, 39)\n",
      "Final: (148, 39)\n",
      "(182, 39)\n",
      "After cutting start: (149, 39)\n",
      "Final: (100, 39)\n",
      "(220, 39)\n",
      "After cutting start: (171, 39)\n",
      "Final: (122, 39)\n",
      "(255, 39)\n",
      "After cutting start: (212, 39)\n",
      "Final: (163, 39)\n",
      "(227, 39)\n",
      "After cutting start: (177, 39)\n",
      "Final: (128, 39)\n",
      "(234, 39)\n",
      "After cutting start: (184, 39)\n",
      "Final: (135, 39)\n",
      "(278, 39)\n",
      "After cutting start: (245, 39)\n",
      "Final: (196, 39)\n",
      "(247, 39)\n",
      "After cutting start: (197, 39)\n",
      "Final: (148, 39)\n",
      "(252, 39)\n",
      "After cutting start: (207, 39)\n",
      "Final: (158, 39)\n",
      "(222, 39)\n",
      "After cutting start: (183, 39)\n",
      "Final: (134, 39)\n",
      "(195, 39)\n",
      "After cutting start: (146, 39)\n",
      "Final: (100, 39)\n",
      "(237, 39)\n",
      "After cutting start: (187, 39)\n",
      "Final: (138, 39)\n",
      "(212, 39)\n",
      "After cutting start: (162, 39)\n",
      "Final: (113, 39)\n",
      "(209, 39)\n",
      "After cutting start: (159, 39)\n",
      "Final: (111, 39)\n",
      "(214, 39)\n",
      "After cutting start: (173, 39)\n",
      "Final: (126, 39)\n",
      "(180, 39)\n",
      "After cutting start: (133, 39)\n",
      "Final: (92, 39)\n",
      "(212, 39)\n",
      "After cutting start: (162, 39)\n",
      "Final: (113, 39)\n",
      "(223, 39)\n",
      "After cutting start: (173, 39)\n",
      "Final: (124, 39)\n",
      "(241, 39)\n",
      "After cutting start: (222, 39)\n",
      "Final: (173, 39)\n",
      "(273, 39)\n",
      "After cutting start: (223, 39)\n",
      "Final: (176, 39)\n",
      "(247, 39)\n",
      "After cutting start: (199, 39)\n",
      "Final: (155, 39)\n",
      "(226, 39)\n",
      "After cutting start: (176, 39)\n",
      "Final: (137, 39)\n",
      "(244, 39)\n",
      "After cutting start: (194, 39)\n",
      "Final: (145, 39)\n",
      "(226, 39)\n",
      "After cutting start: (179, 39)\n",
      "Final: (130, 39)\n",
      "(295, 39)\n",
      "After cutting start: (245, 39)\n",
      "Final: (196, 39)\n",
      "(281, 39)\n",
      "After cutting start: (281, 39)\n",
      "Final: (232, 39)\n",
      "(210, 39)\n",
      "After cutting start: (160, 39)\n",
      "Final: (116, 39)\n",
      "(241, 39)\n",
      "After cutting start: (191, 39)\n",
      "Final: (146, 39)\n",
      "(195, 39)\n",
      "After cutting start: (157, 39)\n",
      "Final: (114, 39)\n",
      "(233, 39)\n",
      "After cutting start: (183, 39)\n",
      "Final: (135, 39)\n",
      "(219, 39)\n",
      "After cutting start: (173, 39)\n",
      "Final: (124, 39)\n",
      "(217, 39)\n",
      "After cutting start: (173, 39)\n",
      "Final: (124, 39)\n",
      "(213, 39)\n",
      "After cutting start: (163, 39)\n",
      "Final: (122, 39)\n",
      "(251, 39)\n",
      "After cutting start: (222, 39)\n",
      "Final: (177, 39)\n",
      "(246, 39)\n",
      "After cutting start: (196, 39)\n",
      "Final: (147, 39)\n",
      "(237, 39)\n",
      "After cutting start: (187, 39)\n",
      "Final: (138, 39)\n",
      "(208, 39)\n",
      "After cutting start: (158, 39)\n",
      "Final: (112, 39)\n",
      "(176, 39)\n",
      "After cutting start: (173, 39)\n",
      "Final: (128, 39)\n",
      "(213, 39)\n",
      "After cutting start: (189, 39)\n",
      "Final: (140, 39)\n",
      "(198, 39)\n",
      "After cutting start: (159, 39)\n",
      "Final: (110, 39)\n",
      "Could not find file:  G67.csv\n",
      "(203, 39)\n",
      "After cutting start: (193, 39)\n",
      "Final: (148, 39)\n",
      "(260, 39)\n",
      "After cutting start: (217, 39)\n",
      "Final: (168, 39)\n",
      "Could not find file:  G70.csv\n",
      "(497, 39)\n",
      "After cutting start: (468, 39)\n",
      "Final: (419, 39)\n",
      "(520, 39)\n",
      "After cutting start: (489, 39)\n",
      "Final: (440, 39)\n",
      "(326, 39)\n",
      "After cutting start: (276, 39)\n",
      "Final: (227, 39)\n",
      "(140, 39)\n",
      "After cutting start: (108, 39)\n",
      "Final: (59, 39)\n",
      "(587, 39)\n",
      "After cutting start: (558, 39)\n",
      "Final: (509, 39)\n",
      "(570, 39)\n",
      "After cutting start: (520, 39)\n",
      "Final: (471, 39)\n",
      "(196, 39)\n",
      "After cutting start: (184, 39)\n",
      "Final: (135, 39)\n",
      "(134, 39)\n",
      "After cutting start: (92, 39)\n",
      "Error trying to remove stop frames\n",
      "Final: (92, 39)\n",
      "(172, 39)\n",
      "After cutting start: (122, 39)\n",
      "Final: (73, 39)\n",
      "(138, 39)\n",
      "After cutting start: (120, 39)\n",
      "Final: (75, 39)\n",
      "(130, 39)\n",
      "After cutting start: (100, 39)\n",
      "Final: (61, 39)\n",
      "(322, 39)\n",
      "After cutting start: (272, 39)\n",
      "Final: (223, 39)\n",
      "(207, 39)\n",
      "After cutting start: (157, 39)\n",
      "Final: (108, 39)\n",
      "(200, 39)\n",
      "After cutting start: (168, 39)\n",
      "Final: (119, 39)\n",
      "(219, 39)\n",
      "After cutting start: (169, 39)\n",
      "Final: (120, 39)\n",
      "(155, 39)\n",
      "After cutting start: (107, 39)\n",
      "Final: (58, 39)\n",
      "(264, 39)\n",
      "After cutting start: (223, 39)\n",
      "Final: (174, 39)\n",
      "(191, 39)\n",
      "After cutting start: (170, 39)\n",
      "Final: (121, 39)\n",
      "(172, 39)\n",
      "After cutting start: (123, 39)\n",
      "Final: (80, 39)\n",
      "(142, 39)\n",
      "After cutting start: (113, 39)\n",
      "Final: (66, 39)\n",
      "(246, 39)\n",
      "After cutting start: (230, 39)\n",
      "Final: (182, 39)\n",
      "(119, 39)\n",
      "After cutting start: (106, 39)\n",
      "Final: (60, 39)\n",
      "(168, 39)\n",
      "After cutting start: (149, 39)\n",
      "Final: (107, 39)\n",
      "(177, 39)\n",
      "After cutting start: (165, 39)\n",
      "Final: (124, 39)\n",
      "(163, 39)\n",
      "After cutting start: (146, 39)\n",
      "Final: (97, 39)\n",
      "(140, 39)\n",
      "After cutting start: (91, 39)\n",
      "Final: (49, 39)\n",
      "(244, 39)\n",
      "After cutting start: (194, 39)\n",
      "Final: (145, 39)\n",
      "(229, 39)\n",
      "After cutting start: (201, 39)\n",
      "Final: (152, 39)\n",
      "(265, 39)\n",
      "After cutting start: (237, 39)\n",
      "Final: (188, 39)\n",
      "(330, 39)\n",
      "After cutting start: (301, 39)\n",
      "Final: (252, 39)\n",
      "(152, 39)\n",
      "After cutting start: (121, 39)\n",
      "Final: (74, 39)\n",
      "(205, 39)\n",
      "After cutting start: (173, 39)\n",
      "Final: (124, 39)\n",
      "(256, 39)\n",
      "After cutting start: (221, 39)\n",
      "Final: (172, 39)\n",
      "(253, 39)\n",
      "After cutting start: (203, 39)\n",
      "Final: (154, 39)\n",
      "(201, 39)\n",
      "After cutting start: (151, 39)\n",
      "Final: (104, 39)\n",
      "(149, 39)\n",
      "After cutting start: (126, 39)\n",
      "Final: (77, 39)\n",
      "(249, 39)\n",
      "After cutting start: (235, 39)\n",
      "Final: (186, 39)\n",
      "(209, 39)\n",
      "After cutting start: (159, 39)\n",
      "Final: (110, 39)\n",
      "(221, 39)\n",
      "After cutting start: (214, 39)\n",
      "Final: (165, 39)\n",
      "(179, 39)\n",
      "After cutting start: (129, 39)\n",
      "Final: (80, 39)\n",
      "(163, 39)\n",
      "After cutting start: (123, 39)\n",
      "Final: (80, 39)\n",
      "(186, 39)\n",
      "After cutting start: (136, 39)\n",
      "Final: (90, 39)\n",
      "(226, 39)\n",
      "After cutting start: (206, 39)\n",
      "Final: (160, 39)\n",
      "(177, 39)\n",
      "After cutting start: (127, 39)\n",
      "Final: (78, 39)\n",
      "(188, 39)\n",
      "After cutting start: (138, 39)\n",
      "Final: (89, 39)\n",
      "(271, 39)\n",
      "After cutting start: (221, 39)\n",
      "Final: (172, 39)\n",
      "(16610, 40)\n"
     ]
    }
   ],
   "source": [
    "df = pd.read_csv(file_path + 'A1.csv')\n",
    "df.drop(columns=['FrameNo'], inplace=True)\n",
    "df['quality'] = 1 # Good\n",
    "good_videos.append('A1.csv')\n",
    "\n",
    "numbers = ['01', '02', '03', '04', '05', '06', '07', '08', '09']\n",
    "\n",
    "for i in numbers:\n",
    "  try:\n",
    "    file_name = 'G{}.csv'.format(i)\n",
    "    temp = pd.read_csv(file_path +  file_name)\n",
    "    temp.drop(columns=['FrameNo'], inplace=True)\n",
    "    temp = cut_leading_trailing(temp)\n",
    "    temp['quality'] = 1 # Good\n",
    "    good_videos.append(file_name)\n",
    "    df = df.append(temp, ignore_index=True)\n",
    "\n",
    "    file_name = 'W{}.csv'.format(i)\n",
    "    temp = pd.read_csv(file_path +  file_name)\n",
    "    temp.drop(columns=['FrameNo'], inplace=True)\n",
    "    temp = cut_leading_trailing(temp)\n",
    "    temp['quality'] = 0 # Bad\n",
    "    bad_videos.append(file_name)\n",
    "    df = df.append(temp, ignore_index=True)\n",
    "  except IOError as e:\n",
    "    print('Could not find file: ', file_name)\n",
    "\n",
    "for i in range(20, 83):\n",
    "  try:\n",
    "    file_name = 'G{}.csv'.format(i)\n",
    "    temp = pd.read_csv(file_path +  file_name)\n",
    "    temp.drop(columns=['FrameNo'], inplace=True)\n",
    "    temp = cut_leading_trailing(temp)\n",
    "    temp['quality'] = 1 # Good\n",
    "    good_videos.append(file_name)\n",
    "    df = df.append(temp, ignore_index=True)\n",
    "  except IOError as e:\n",
    "    print('Could not find file: ', file_name)\n",
    "\n",
    "for i in range(10, 44):\n",
    "  try:\n",
    "    file_name = 'W{}.csv'.format(i)\n",
    "    temp = pd.read_csv(file_path +  file_name)\n",
    "    temp.drop(columns=['FrameNo'], inplace=True)\n",
    "    temp = cut_leading_trailing(temp)\n",
    "    temp['quality'] = 0 # Bad\n",
    "    bad_videos.append(file_name)\n",
    "    df = df.append(temp, ignore_index=True)\n",
    "  except IOError as e:\n",
    "    print('Could not find file: ', file_name)\n",
    "\n",
    "print(df.shape)"
   ]
  },
  {
   "source": [
    "## 2. Check class imbalance\n",
    "\n",
    "To see if we need to use any dataset imbalanced techniques. We do not consider that there's a need for that in this case."
   ],
   "cell_type": "markdown",
   "metadata": {}
  },
  {
   "cell_type": "code",
   "execution_count": 10,
   "metadata": {},
   "outputs": [
    {
     "output_type": "stream",
     "name": "stdout",
     "text": [
      "Total videos:  114\nGood videos: 71\nBad videos: 43\n"
     ]
    }
   ],
   "source": [
    "print('Total videos: ', len(good_videos + bad_videos))\n",
    "print('Good videos:', len(good_videos))\n",
    "print('Bad videos:', len(bad_videos))"
   ]
  },
  {
   "cell_type": "code",
   "execution_count": 11,
   "metadata": {},
   "outputs": [
    {
     "output_type": "stream",
     "name": "stdout",
     "text": [
      "Total: 16610\n\nGood: 11437 (0.69% of total)\nBad: 5173 (0.31% of total)\n\n"
     ]
    }
   ],
   "source": [
    "df_gc = df.groupby(['quality']).size()\n",
    "print(\n",
    "    'Total: {}\\n\\nGood: {} ({:.2f}% of total)\\nBad: {} ({:.2f}% of total)\\n'\n",
    "    .format(\n",
    "      len(df), \n",
    "      df_gc[1],\n",
    "      df_gc[1] / len(df),\n",
    "      df_gc[0],\n",
    "      df_gc[0] / len(df)\n",
    "    )\n",
    "  )"
   ]
  },
  {
   "source": [
    "## 3. Data Augmentation\n",
    "\n",
    "### Mirror X coordinate"
   ],
   "cell_type": "markdown",
   "metadata": {}
  },
  {
   "cell_type": "code",
   "execution_count": 12,
   "metadata": {},
   "outputs": [
    {
     "output_type": "stream",
     "name": "stdout",
     "text": [
      "(33220, 40)\n"
     ]
    }
   ],
   "source": [
    "df = mirror(df,'x', append=True)\n",
    "print(df.shape)"
   ]
  },
  {
   "source": [
    "### Stretch by 50%"
   ],
   "cell_type": "markdown",
   "metadata": {}
  },
  {
   "cell_type": "code",
   "execution_count": 13,
   "metadata": {},
   "outputs": [
    {
     "output_type": "stream",
     "name": "stdout",
     "text": [
      "(66440, 40)\n"
     ]
    }
   ],
   "source": [
    "df_temp = augMultiplier(df.drop(columns=['quality']), multiplier=1.5)\n",
    "df_temp['quality'] = df['quality']\n",
    "df = df.append(df_temp, ignore_index=True)\n",
    "print(df.shape)"
   ]
  },
  {
   "source": [
    "### Compress by 25%"
   ],
   "cell_type": "markdown",
   "metadata": {}
  },
  {
   "cell_type": "code",
   "execution_count": 14,
   "metadata": {},
   "outputs": [
    {
     "output_type": "stream",
     "name": "stdout",
     "text": [
      "(132880, 40)\n"
     ]
    }
   ],
   "source": [
    "df_temp = augMultiplier(df.drop(columns=['quality']), multiplier=0.25)\n",
    "df_temp['quality'] = df['quality']\n",
    "df = df.append(df_temp, ignore_index=True)\n",
    "print(df.shape)"
   ]
  },
  {
   "source": [
    "### Rotate by p/7"
   ],
   "cell_type": "markdown",
   "metadata": {}
  },
  {
   "cell_type": "code",
   "execution_count": 15,
   "metadata": {},
   "outputs": [],
   "source": [
    "#angle = 3.1415 / 7\n",
    "#df_rotated = rotate(df.drop(columns=['quality']), angle=angle, posenet=False)\n",
    "#df_rotated['quality'] = df['quality'].append(df['quality'], ignore_index=True)\n",
    "#print(df_rotated.shape)"
   ]
  },
  {
   "source": [
    "### Rotate by -p/9"
   ],
   "cell_type": "markdown",
   "metadata": {}
  },
  {
   "cell_type": "code",
   "execution_count": 16,
   "metadata": {},
   "outputs": [],
   "source": [
    "#angle = 3.1415 / -9\n",
    "#df_rotated_2 = rotate(df_rotated.drop(columns=['quality']), angle=angle, posenet=False)\n",
    "#df_rotated_2['quality'] = df_rotated['quality'].append(df_rotated['quality'], ignore_index=True)\n",
    "#print(df_rotated_2.shape)"
   ]
  },
  {
   "source": [
    "## 4. Save as New Dataset"
   ],
   "cell_type": "markdown",
   "metadata": {}
  },
  {
   "cell_type": "code",
   "execution_count": 17,
   "metadata": {},
   "outputs": [],
   "source": [
    "#df_rotated_2.to_csv('../../datasets/all_good_bad_problemA_kinect/good_bad_kinect.csv', index=False)"
   ]
  }
 ]
}