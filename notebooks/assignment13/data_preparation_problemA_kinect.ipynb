{
 "metadata": {
  "language_info": {
   "codemirror_mode": {
    "name": "ipython",
    "version": 3
   },
   "file_extension": ".py",
   "mimetype": "text/x-python",
   "name": "python",
   "nbconvert_exporter": "python",
   "pygments_lexer": "ipython3",
   "version": "3.9.5"
  },
  "orig_nbformat": 2,
  "kernelspec": {
   "name": "python395jvsc74a57bd063fd5069d213b44bf678585dea6b12cceca9941eaf7f819626cde1f2670de90d",
   "display_name": "Python 3.9.5 64-bit"
  },
  "metadata": {
   "interpreter": {
    "hash": "63fd5069d213b44bf678585dea6b12cceca9941eaf7f819626cde1f2670de90d"
   }
  }
 },
 "nbformat": 4,
 "nbformat_minor": 2,
 "cells": [
  {
   "source": [
    "# Problem A (Kinect)\n",
    "\n",
    "Section for configurations and imports."
   ],
   "cell_type": "markdown",
   "metadata": {}
  },
  {
   "cell_type": "code",
   "execution_count": 1,
   "metadata": {},
   "outputs": [],
   "source": [
    "import os\n",
    "import numpy as np\n",
    "import pandas as pd\n",
    "import tensorflow as tf\n",
    "import seaborn as sns\n",
    "import matplotlib as mpl\n",
    "import matplotlib.pyplot as plt\n",
    "\n",
    "import mlflow\n",
    "mlflow.set_tracking_uri('http://35.228.45.76:5000')\n",
    "os.environ['GOOGLE_APPLICATION_CREDENTIALS']='./mlflow-312506-8cfad529f4fd.json'\n",
    "\n",
    "from tensorflow import keras\n",
    "\n",
    "# Import data augmentation\n",
    "import sys\n",
    "module_path = os.path.abspath(os.path.join('../..'))\n",
    "if module_path not in sys.path:\n",
    "    sys.path.append(module_path)\n",
    "from augmentation.methods import *"
   ]
  },
  {
   "cell_type": "code",
   "execution_count": 2,
   "metadata": {},
   "outputs": [],
   "source": [
    "import warnings\n",
    "warnings.simplefilter('ignore')"
   ]
  },
  {
   "cell_type": "code",
   "execution_count": 3,
   "metadata": {},
   "outputs": [],
   "source": [
    "mpl.rcParams['figure.figsize'] = (12, 10)\n",
    "colors = plt.rcParams['axes.prop_cycle'].by_key()['color']"
   ]
  },
  {
   "cell_type": "code",
   "execution_count": 4,
   "metadata": {},
   "outputs": [],
   "source": [
    "random_state = 47\n",
    "np.random.seed(random_state)"
   ]
  },
  {
   "cell_type": "code",
   "execution_count": 5,
   "metadata": {},
   "outputs": [
    {
     "output_type": "stream",
     "name": "stdout",
     "text": [
      "Num GPUs Available:  1\n"
     ]
    }
   ],
   "source": [
    "physical_devices = tf.config.experimental.list_physical_devices( 'GPU' )\n",
    "print( 'Num GPUs Available: ', len( physical_devices ) )\n",
    "if len( physical_devices ) > 0:\n",
    "    tf.config.experimental.set_memory_growth( physical_devices[0], True )"
   ]
  },
  {
   "source": [
    "## 1. Load Kinect files and classify each sample into good or bad depending on the file name\n",
    "\n",
    "W is the start of file names containing a bad exercise, and all others file names are to be classified as good exercises."
   ],
   "cell_type": "markdown",
   "metadata": {}
  },
  {
   "cell_type": "code",
   "execution_count": 6,
   "metadata": {},
   "outputs": [],
   "source": [
    "file_path = 'https://raw.githubusercontent.com/digitacs/4dv652-ml/main/datasets/all_good_bad_videos/kinect_good_vs_bad_not_preprocessed/'\n",
    "\n",
    "good_videos = []\n",
    "bad_videos = []"
   ]
  },
  {
   "source": [
    "### 1.1 Cut leading and trailing frames\n",
    "\n",
    "When loading the files, we'll use this method for removing leading and trailing frames from each data sample-"
   ],
   "cell_type": "markdown",
   "metadata": {}
  },
  {
   "cell_type": "code",
   "execution_count": 7,
   "metadata": {},
   "outputs": [],
   "source": [
    "cut_start_scaler = mlflow.sklearn.load_model('gs://mlflow-atlas/mlflow_artifacts/0/14b3d62fe0ac449d98a19e883e57133c/artifacts/InputScaler')\n",
    "cut_start_model = mlflow.keras.load_model('gs://mlflow-atlas/mlflow_artifacts/0/14b3d62fe0ac449d98a19e883e57133c/artifacts/cut_start_kinect')\n",
    "\n",
    "#cut_stop_scaler = mlflow.sklearn.load_model('gs://mlflow-atlas/mlflow_artifacts/0/14b3d62fe0ac449d98a19e883e57133c/artifacts/InputScaler')\n",
    "#cut_stop_model = mlflow.keras.load_model('gs://mlflow-atlas/mlflow_artifacts/0/5bc55dc1d2534a259459bc711d10cac9/artifacts/cut_start_kinect')"
   ]
  },
  {
   "cell_type": "code",
   "execution_count": 8,
   "metadata": {},
   "outputs": [],
   "source": [
    "def cut_leading_trailing(data):\n",
    "    trimmed_data = data.copy()\n",
    "    scaled_data = cut_start_scaler.transform(data, copy=True)\n",
    "\n",
    "    predictions = cut_start_model.predict(scaled_data)\n",
    "    predictions = predictions.round().astype(int)\n",
    "    n = 0\n",
    "    for pred in predictions:\n",
    "        if pred == 1 and n < 100:\n",
    "            trimmed_data.drop(index=n, inplace=True)\n",
    "        n = n + 1\n",
    "\n",
    "    return trimmed_data"
   ]
  },
  {
   "cell_type": "code",
   "execution_count": 9,
   "metadata": {
    "tags": []
   },
   "outputs": [
    {
     "output_type": "stream",
     "name": "stdout",
     "text": [
      "Could not find file:  G67.csv\n",
      "Could not find file:  G70.csv\n",
      "(20780, 40)\n"
     ]
    }
   ],
   "source": [
    "df = pd.read_csv(file_path + 'A1.csv')\n",
    "df.drop(columns=['FrameNo'], inplace=True)\n",
    "df['quality'] = 1 # Good\n",
    "good_videos.append('A1.csv')\n",
    "\n",
    "numbers = ['01', '02', '03', '04', '05', '06', '07', '08', '09']\n",
    "\n",
    "for i in numbers:\n",
    "  try:\n",
    "    file_name = 'G{}.csv'.format(i)\n",
    "    temp = pd.read_csv(file_path +  file_name)\n",
    "    temp.drop(columns=['FrameNo'], inplace=True)\n",
    "    temp = cut_leading_trailing(temp)\n",
    "    temp['quality'] = 1 # Good\n",
    "    good_videos.append(file_name)\n",
    "    df = df.append(temp, ignore_index=True)\n",
    "\n",
    "    file_name = 'W{}.csv'.format(i)\n",
    "    temp = pd.read_csv(file_path +  file_name)\n",
    "    temp.drop(columns=['FrameNo'], inplace=True)\n",
    "    temp = cut_leading_trailing(temp)\n",
    "    temp['quality'] = 0 # Bad\n",
    "    bad_videos.append(file_name)\n",
    "    df = df.append(temp, ignore_index=True)\n",
    "  except IOError as e:\n",
    "    print('Could not find file: ', file_name)\n",
    "\n",
    "for i in range(20, 83):\n",
    "  try:\n",
    "    file_name = 'G{}.csv'.format(i)\n",
    "    temp = pd.read_csv(file_path +  file_name)\n",
    "    temp.drop(columns=['FrameNo'], inplace=True)\n",
    "    temp = cut_leading_trailing(temp)\n",
    "    temp['quality'] = 1 # Good\n",
    "    good_videos.append(file_name)\n",
    "    df = df.append(temp, ignore_index=True)\n",
    "  except IOError as e:\n",
    "    print('Could not find file: ', file_name)\n",
    "\n",
    "for i in range(10, 44):\n",
    "  try:\n",
    "    file_name = 'W{}.csv'.format(i)\n",
    "    temp = pd.read_csv(file_path +  file_name)\n",
    "    temp.drop(columns=['FrameNo'], inplace=True)\n",
    "    temp = cut_leading_trailing(temp)\n",
    "    temp['quality'] = 0 # Bad\n",
    "    bad_videos.append(file_name)\n",
    "    df = df.append(temp, ignore_index=True)\n",
    "  except IOError as e:\n",
    "    print('Could not find file: ', file_name)\n",
    "\n",
    "print(df.shape)"
   ]
  },
  {
   "source": [
    "## 2. Check class imbalance\n",
    "\n",
    "To see if we need to use any dataset imbalanced techniques. We do not consider that there's a need for that in this case."
   ],
   "cell_type": "markdown",
   "metadata": {}
  },
  {
   "cell_type": "code",
   "execution_count": 10,
   "metadata": {},
   "outputs": [
    {
     "output_type": "stream",
     "name": "stdout",
     "text": [
      "Total videos:  114\nGood videos: 71\nBad videos: 43\n"
     ]
    }
   ],
   "source": [
    "print('Total videos: ', len(good_videos + bad_videos))\n",
    "print('Good videos:', len(good_videos))\n",
    "print('Bad videos:', len(bad_videos))"
   ]
  },
  {
   "cell_type": "code",
   "execution_count": 11,
   "metadata": {},
   "outputs": [
    {
     "output_type": "stream",
     "name": "stdout",
     "text": [
      "Total: 20780\n\nGood: 13828 (0.67% of total)\nBad: 6952 (0.33% of total)\n\n"
     ]
    }
   ],
   "source": [
    "df_gc = df.groupby(['quality']).size()\n",
    "print(\n",
    "    'Total: {}\\n\\nGood: {} ({:.2f}% of total)\\nBad: {} ({:.2f}% of total)\\n'\n",
    "    .format(\n",
    "      len(df), \n",
    "      df_gc[1],\n",
    "      df_gc[1] / len(df),\n",
    "      df_gc[0],\n",
    "      df_gc[0] / len(df)\n",
    "    )\n",
    "  )"
   ]
  },
  {
   "source": [
    "## 3. Data Augmentation\n",
    "\n",
    "### Mirror X coordinate"
   ],
   "cell_type": "markdown",
   "metadata": {}
  },
  {
   "cell_type": "code",
   "execution_count": 12,
   "metadata": {},
   "outputs": [
    {
     "output_type": "stream",
     "name": "stdout",
     "text": [
      "(41560, 40)\n"
     ]
    }
   ],
   "source": [
    "df = mirror(df,'x', append=True)\n",
    "print(df.shape)"
   ]
  },
  {
   "source": [
    "### Stretch by 50%"
   ],
   "cell_type": "markdown",
   "metadata": {}
  },
  {
   "cell_type": "code",
   "execution_count": 13,
   "metadata": {},
   "outputs": [
    {
     "output_type": "stream",
     "name": "stdout",
     "text": [
      "(83120, 40)\n"
     ]
    }
   ],
   "source": [
    "df_temp = augMultiplier(df.drop(columns=['quality']), multiplier=1.5)\n",
    "df_temp['quality'] = df['quality']\n",
    "df = df.append(df_temp, ignore_index=True)\n",
    "print(df.shape)"
   ]
  },
  {
   "source": [
    "### Compress by 25%"
   ],
   "cell_type": "markdown",
   "metadata": {}
  },
  {
   "cell_type": "code",
   "execution_count": 14,
   "metadata": {},
   "outputs": [
    {
     "output_type": "stream",
     "name": "stdout",
     "text": [
      "(166240, 40)\n"
     ]
    }
   ],
   "source": [
    "df_temp = augMultiplier(df.drop(columns=['quality']), multiplier=0.25)\n",
    "df_temp['quality'] = df['quality']\n",
    "df = df.append(df_temp, ignore_index=True)\n",
    "print(df.shape)"
   ]
  },
  {
   "source": [
    "### Rotate by p/7"
   ],
   "cell_type": "markdown",
   "metadata": {}
  },
  {
   "cell_type": "code",
   "execution_count": 15,
   "metadata": {},
   "outputs": [
    {
     "output_type": "stream",
     "name": "stdout",
     "text": [
      "(332480, 40)\n"
     ]
    }
   ],
   "source": [
    "angle = 3.1415 / 7\n",
    "df_rotated = rotate(df.drop(columns=['quality']), angle=angle, posenet=False)\n",
    "df_rotated['quality'] = df['quality'].append(df['quality'], ignore_index=True)\n",
    "print(df_rotated.shape)"
   ]
  },
  {
   "source": [
    "### Rotate by -p/9"
   ],
   "cell_type": "markdown",
   "metadata": {}
  },
  {
   "cell_type": "code",
   "execution_count": 16,
   "metadata": {},
   "outputs": [
    {
     "output_type": "stream",
     "name": "stdout",
     "text": [
      "(664960, 40)\n"
     ]
    }
   ],
   "source": [
    "angle = 3.1415 / -9\n",
    "df_rotated_2 = rotate(df_rotated.drop(columns=['quality']), angle=angle, posenet=False)\n",
    "df_rotated_2['quality'] = df_rotated['quality'].append(df_rotated['quality'], ignore_index=True)\n",
    "print(df_rotated_2.shape)"
   ]
  },
  {
   "source": [
    "## 4. Save as New Dataset"
   ],
   "cell_type": "markdown",
   "metadata": {}
  },
  {
   "cell_type": "code",
   "execution_count": 17,
   "metadata": {},
   "outputs": [],
   "source": [
    "df_rotated_2.to_csv('../../datasets/all_good_bad_problemA_kinect/good_bad_kinect.csv', index=False)"
   ]
  }
 ]
}