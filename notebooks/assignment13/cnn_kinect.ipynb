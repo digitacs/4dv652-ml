{
 "cells": [
  {
   "cell_type": "markdown",
   "metadata": {},
   "source": [
    "# CNN Model for Kinect data"
   ]
  },
  {
   "cell_type": "code",
   "execution_count": 1,
   "metadata": {},
   "outputs": [
    {
     "name": "stdout",
     "output_type": "stream",
     "text": [
      "INFO:tensorflow:Enabling eager execution\n",
      "INFO:tensorflow:Enabling v2 tensorshape\n",
      "INFO:tensorflow:Enabling resource variables\n",
      "INFO:tensorflow:Enabling tensor equality\n",
      "INFO:tensorflow:Enabling control flow v2\n"
     ]
    }
   ],
   "source": [
    "import os \n",
    "import tempfile\n",
    "\n",
    "import numpy as np \n",
    "import pandas as pd\n",
    "import seaborn as sns\n",
    "import tensorflow as tf\n",
    "import matplotlib as mpl\n",
    "import matplotlib.pyplot as plt\n",
    "\n",
    "from tensorflow import keras\n",
    "from tensorflow.keras.layers import MaxPool1D\n",
    "\n",
    "# MLflow dashboard\n",
    "import mlflow\n",
    "mlflow.set_tracking_uri('http://35.228.45.76:5000')\n",
    "os.environ['GOOGLE_APPLICATION_CREDENTIALS']='../../mlflow-312506-8cfad529f4fd.json'\n",
    "\n",
    "# Import data augmentation\n",
    "import sys\n",
    "module_path = os.path.abspath(os.path.join('../..'))\n",
    "if module_path not in sys.path:\n",
    "    sys.path.append(module_path)"
   ]
  },
  {
   "cell_type": "code",
   "execution_count": 2,
   "metadata": {},
   "outputs": [],
   "source": [
    "import warnings\n",
    "warnings.simplefilter('ignore')"
   ]
  },
  {
   "cell_type": "code",
   "execution_count": 3,
   "metadata": {},
   "outputs": [],
   "source": [
    "mpl.rcParams['figure.figsize'] = (12, 10)\n",
    "colors = plt.rcParams['axes.prop_cycle'].by_key()['color']"
   ]
  },
  {
   "cell_type": "code",
   "execution_count": 4,
   "metadata": {},
   "outputs": [],
   "source": [
    "random_state = 47\n",
    "np.random.seed(random_state)"
   ]
  },
  {
   "cell_type": "code",
   "execution_count": 5,
   "metadata": {},
   "outputs": [],
   "source": [
    "from keras.callbacks import EarlyStopping\n",
    "#monitor='val_accuracy',\n",
    "#monitor='val_prc', \n",
    "early_stopping = EarlyStopping(\n",
    "    monitor='val_prc', \n",
    "    verbose=1,\n",
    "    patience=10,\n",
    "    mode='max',\n",
    "    restore_best_weights=True)"
   ]
  },
  {
   "cell_type": "markdown",
   "metadata": {},
   "source": [
    "## 1. Load Prepared Dataset"
   ]
  },
  {
   "cell_type": "code",
   "execution_count": 6,
   "metadata": {},
   "outputs": [
    {
     "data": {
      "text/plain": [
       "(111416, 40)"
      ]
     },
     "execution_count": 6,
     "metadata": {},
     "output_type": "execute_result"
    }
   ],
   "source": [
    "df = pd.read_csv('https://raw.githubusercontent.com/digitacs/4dv652-ml/main/datasets/all_good_bad_problemA_kinect/good_bad_kinect.csv')\n",
    "\n",
    "df.fillna(0, inplace=True) # Replace NaN with 0\n",
    "\n",
    "df.shape"
   ]
  },
  {
   "cell_type": "markdown",
   "metadata": {},
   "source": [
    "## 2. Split into sets for training, validation, and testing + use and save scaler"
   ]
  },
  {
   "cell_type": "code",
   "execution_count": 7,
   "metadata": {},
   "outputs": [],
   "source": [
    "X = df.drop(columns=['quality'])\n",
    "y = df['quality']"
   ]
  },
  {
   "cell_type": "code",
   "execution_count": 8,
   "metadata": {},
   "outputs": [],
   "source": [
    "from sklearn.model_selection import train_test_split\n",
    "\n",
    "X_train, X_test, y_train, y_test = train_test_split(X, y, test_size=0.1, random_state=random_state)\n",
    "X_train, X_val, y_train, y_val = train_test_split(X_train, y_train, test_size=0.2, random_state=random_state)"
   ]
  },
  {
   "cell_type": "code",
   "execution_count": 9,
   "metadata": {},
   "outputs": [
    {
     "name": "stdout",
     "output_type": "stream",
     "text": [
      "Training features shape: (80219, 39)\n",
      "Training labels shape: (80219,) \n",
      "\n",
      "Validation features shape: (20055, 39)\n",
      "Validation labels shape: (20055,) \n",
      "\n",
      "Test features shape: (11142, 39)\n",
      "Test labels shape: (11142,) \n",
      "\n"
     ]
    }
   ],
   "source": [
    "from sklearn.preprocessing import StandardScaler\n",
    "\n",
    "scaler = StandardScaler()\n",
    "X_train = scaler.fit_transform(X_train)\n",
    "\n",
    "X_val = scaler.transform(X_val)\n",
    "X_test = scaler.transform(X_test)\n",
    "\n",
    "print('Training features shape:', X_train.shape)\n",
    "print('Training labels shape:', y_train.shape, '\\n')\n",
    "\n",
    "print('Validation features shape:', X_val.shape)\n",
    "print('Validation labels shape:', y_val.shape, '\\n')\n",
    "\n",
    "print('Test features shape:', X_test.shape)\n",
    "print('Test labels shape:', y_test.shape, '\\n')"
   ]
  },
  {
   "cell_type": "markdown",
   "metadata": {},
   "source": [
    "## 3. Define the Model\n",
    "\n",
    "### 3.1 Configurations"
   ]
  },
  {
   "cell_type": "code",
   "execution_count": 10,
   "metadata": {},
   "outputs": [
    {
     "name": "stdout",
     "output_type": "stream",
     "text": [
      "Before: (39,)\n",
      "After: (39, 1)\n",
      "Classes: 1\n"
     ]
    }
   ],
   "source": [
    "from numpy import unique\n",
    "orig_shape = X_train.shape[1:]\n",
    "X_train = X_train.reshape((X_train.shape[0], X_train.shape[1], 1))\n",
    "X_test = X_test.reshape((X_test.shape[0], X_test.shape[1], 1))\n",
    "\n",
    "X_val = X_val.reshape((X_val.shape[0], X_val.shape[1], 1))\n",
    "\n",
    "in_shape = X_train.shape[1:]\n",
    "print(\"Before: {0}\".format(orig_shape))\n",
    "print(\"After: {0}\".format(in_shape))\n",
    "\n",
    "\n",
    "\n",
    "EPOCHS = 500\n",
    "BATCH_SIZE = 2050\n",
    "\n",
    "n_classes = len(unique(y_train))\n",
    "n_classes = 1\n",
    "print(\"Classes: {0}\".format(n_classes))\n",
    "\n",
    "units = 64\n",
    "activation = 'relu'\n",
    "kernel_initializer = 'he_uniform'\n",
    "output_activation = 'sigmoid'\n",
    "#output_activation = 'softmax'\n",
    "optimizer = 'Adam'\n",
    "learning_rate = 1e-3\n",
    "filters = 1\n",
    "kernel_size = 1"
   ]
  },
  {
   "cell_type": "markdown",
   "metadata": {},
   "source": [
    "### 3.2 Model Architecture"
   ]
  },
  {
   "cell_type": "code",
   "execution_count": 11,
   "metadata": {},
   "outputs": [],
   "source": [
    "from tensorflow.keras.models import Sequential\n",
    "from tensorflow.keras.layers import InputLayer\n",
    "\n",
    "from tensorflow.keras.layers import Conv1D, Dense, MaxPooling1D, Dropout, Flatten\n",
    "from keras.layers import BatchNormalization\n",
    "\n",
    "METRICS = [\n",
    "      keras.metrics.TruePositives(name='tp'),\n",
    "      keras.metrics.FalsePositives(name='fp'),\n",
    "      keras.metrics.TrueNegatives(name='tn'),\n",
    "      keras.metrics.FalseNegatives(name='fn'), \n",
    "      keras.metrics.BinaryAccuracy(name='accuracy'),\n",
    "      keras.metrics.Precision(name='precision'),\n",
    "      keras.metrics.Recall(name='recall'),\n",
    "      keras.metrics.AUC(name='auc'),\n",
    "      keras.metrics.AUC(name='prc', curve='PR'), # precision-recall curve\n",
    "]\n",
    "\n",
    "def make_model(loss, optimizer, learning_rate=0.001, metrics=METRICS):\n",
    "    \n",
    "    model = Sequential()\n",
    "    model.add(Conv1D(filters= filters, kernel_size = kernel_size, activation=activation, kernel_initializer=kernel_initializer, input_shape=in_shape))\n",
    "    #model.add(BatchNormalization())\n",
    "    #model.add(MaxPool1D(1))\n",
    "    model.add(Flatten())\n",
    "    model.add(Dense(32, activation='relu', kernel_initializer='he_uniform'))\n",
    "    model.add(Dense(16, activation='relu', kernel_initializer='he_uniform'))\n",
    "    #model.add(Dense(8, activation='relu', kernel_initializer='he_uniform'))\n",
    "    #model.add(Dropout(0.5))\n",
    "    #model.add(BatchNormalization())\n",
    "    model.add(Dense(n_classes, activation=output_activation))\n",
    "    \n",
    "    \n",
    "    optimizer = tf.keras.optimizers.get(optimizer)\n",
    "    optimizer.learning_rate.assign(learning_rate)\n",
    "\n",
    "    model.compile(\n",
    "      optimizer=optimizer,\n",
    "      loss=loss,\n",
    "      metrics=metrics)\n",
    "\n",
    "    print(model.summary())\n",
    "\n",
    "    return model"
   ]
  },
  {
   "cell_type": "markdown",
   "metadata": {},
   "source": [
    "## 4. MLflow Experimentation"
   ]
  },
  {
   "cell_type": "markdown",
   "metadata": {},
   "source": [
    "### 4.1 Helper functions"
   ]
  },
  {
   "cell_type": "code",
   "execution_count": 12,
   "metadata": {},
   "outputs": [],
   "source": [
    "from sklearn.metrics import confusion_matrix, roc_curve, precision_recall_curve\n",
    "\n",
    "def plot_loss(history, label, n):\n",
    "  plt.semilogy(history.epoch, history.history['loss'],\n",
    "               color=colors[n], label='Train ' + label)\n",
    "  plt.semilogy(history.epoch, history.history['val_loss'],\n",
    "               color=colors[n], label='Val ' + label,\n",
    "               linestyle=\"--\")\n",
    "  plt.xlabel('Epoch')\n",
    "  plt.ylabel('Loss')\n",
    "\n",
    "def plot_metrics(history):\n",
    "  metrics = ['loss', 'prc', 'precision', 'recall']\n",
    "  for n, metric in enumerate(metrics):\n",
    "    name = metric.replace(\"_\",\" \").capitalize()\n",
    "    plt.subplot(2,2,n+1)\n",
    "    plt.plot(history.epoch, history.history[metric], color=colors[0], label='Train')\n",
    "    plt.plot(history.epoch, history.history['val_'+metric],\n",
    "             color=colors[0], linestyle=\"--\", label='Val')\n",
    "    plt.xlabel('Epoch')\n",
    "    plt.ylabel(name)\n",
    "    if metric == 'loss':\n",
    "      plt.ylim([0, plt.ylim()[1]])\n",
    "    elif metric == 'auc':\n",
    "      plt.ylim([0.8,1])\n",
    "    else:\n",
    "      plt.ylim([0,1])\n",
    "\n",
    "    plt.legend()\n",
    "\n",
    "def plot_cm(labels, predictions, p=0.5):\n",
    "    cm = confusion_matrix(labels, predictions > p)\n",
    "    plt.figure(figsize=(5,5))\n",
    "    sns.heatmap(cm, annot=True, fmt=\"d\")\n",
    "    plt.title('Confusion matrix @{:.2f}'.format(p))\n",
    "    plt.ylabel('Actual label')\n",
    "    plt.xlabel('Predicted label')\n",
    "\n",
    "    print('True Negatives: ', cm[0][0])\n",
    "    print('False Positives: ', cm[0][1])\n",
    "    print('False Negatives: ', cm[1][0])\n",
    "    print('True Positives: ', cm[1][1])\n",
    "    print('Total: ', np.sum(cm[1]))\n",
    "\n",
    "\n",
    "def plot_roc(name, labels, predictions, **kwargs):\n",
    "    fp, tp, _ = roc_curve(labels, predictions)\n",
    "\n",
    "    plt.plot(100*fp, 100*tp, label=name, linewidth=2, **kwargs)\n",
    "    plt.xlabel('False positives [%]')\n",
    "    plt.ylabel('True positives [%]')\n",
    "    plt.grid(True)\n",
    "    ax = plt.gca()\n",
    "    ax.set_aspect('equal')\n",
    "\n",
    "def plot_prc(name, labels, predictions, **kwargs):\n",
    "    precision, recall, _ = precision_recall_curve(labels, predictions)\n",
    "\n",
    "    plt.plot(precision, recall, label=name, linewidth=2, **kwargs)\n",
    "    plt.xlabel('Recall')\n",
    "    plt.ylabel('Precision')\n",
    "    plt.grid(True)\n",
    "    ax = plt.gca()\n",
    "    ax.set_aspect('equal')"
   ]
  },
  {
   "cell_type": "markdown",
   "metadata": {},
   "source": [
    "### 4.2 Start Run"
   ]
  },
  {
   "cell_type": "code",
   "execution_count": null,
   "metadata": {
    "tags": []
   },
   "outputs": [
    {
     "name": "stdout",
     "output_type": "stream",
     "text": [
      "Model: \"sequential_1\"\n",
      "_________________________________________________________________\n",
      "Layer (type)                 Output Shape              Param #   \n",
      "=================================================================\n",
      "conv1d_1 (Conv1D)            (None, 39, 1)             2         \n",
      "_________________________________________________________________\n",
      "flatten_1 (Flatten)          (None, 39)                0         \n",
      "_________________________________________________________________\n",
      "dense_3 (Dense)              (None, 32)                1280      \n",
      "_________________________________________________________________\n",
      "dense_4 (Dense)              (None, 16)                528       \n",
      "_________________________________________________________________\n",
      "dense_5 (Dense)              (None, 1)                 17        \n",
      "=================================================================\n",
      "Total params: 1,827\n",
      "Trainable params: 1,827\n",
      "Non-trainable params: 0\n",
      "_________________________________________________________________\n",
      "None\n",
      "Epoch 1/500\n",
      "40/40 [==============================] - 2s 25ms/step - loss: 0.5819 - tp: 46496.2683 - fp: 9513.5854 - tn: 6159.4878 - fn: 798.7805 - accuracy: 0.8463 - precision: 0.8409 - recall: 0.9828 - auc: 0.8140 - prc: 0.9257 - val_loss: 0.4835 - val_tp: 14885.0000 - val_fp: 3677.0000 - val_tn: 1349.0000 - val_fn: 144.0000 - val_accuracy: 0.8095 - val_precision: 0.8019 - val_recall: 0.9904 - val_auc: 0.7326 - val_prc: 0.8726\n",
      "Epoch 2/500\n",
      "40/40 [==============================] - 0s 6ms/step - loss: 0.4689 - tp: 31984.6585 - fp: 7808.6585 - tn: 2841.5854 - fn: 278.2195 - accuracy: 0.8092 - precision: 0.8016 - recall: 0.9913 - auc: 0.7498 - prc: 0.8843 - val_loss: 0.4196 - val_tp: 14890.0000 - val_fp: 3320.0000 - val_tn: 1706.0000 - val_fn: 139.0000 - val_accuracy: 0.8275 - val_precision: 0.8177 - val_recall: 0.9908 - val_auc: 0.8134 - val_prc: 0.9147\n",
      "Epoch 3/500\n",
      "40/40 [==============================] - 0s 6ms/step - loss: 0.4086 - tp: 31928.1951 - fp: 6797.6585 - tn: 3844.1463 - fn: 343.1220 - accuracy: 0.8323 - precision: 0.8231 - recall: 0.9897 - auc: 0.8222 - prc: 0.9203 - val_loss: 0.3766 - val_tp: 14856.0000 - val_fp: 2893.0000 - val_tn: 2133.0000 - val_fn: 173.0000 - val_accuracy: 0.8471 - val_precision: 0.8370 - val_recall: 0.9885 - val_auc: 0.8553 - val_prc: 0.9347\n",
      "Epoch 4/500\n",
      "40/40 [==============================] - 0s 6ms/step - loss: 0.3666 - tp: 31891.4634 - fp: 5934.8537 - tn: 4665.1707 - fn: 421.6341 - accuracy: 0.8517 - precision: 0.8426 - recall: 0.9877 - auc: 0.8632 - prc: 0.9400 - val_loss: 0.3445 - val_tp: 14780.0000 - val_fp: 2570.0000 - val_tn: 2456.0000 - val_fn: 249.0000 - val_accuracy: 0.8594 - val_precision: 0.8519 - val_recall: 0.9834 - val_auc: 0.8802 - val_prc: 0.9469\n",
      "Epoch 5/500\n",
      "40/40 [==============================] - 0s 6ms/step - loss: 0.3377 - tp: 31723.8537 - fp: 5312.6585 - tn: 5328.1707 - fn: 548.4390 - accuracy: 0.8630 - precision: 0.8564 - recall: 0.9826 - auc: 0.8871 - prc: 0.9513 - val_loss: 0.3212 - val_tp: 14677.0000 - val_fp: 2235.0000 - val_tn: 2791.0000 - val_fn: 352.0000 - val_accuracy: 0.8710 - val_precision: 0.8678 - val_recall: 0.9766 - val_auc: 0.8987 - val_prc: 0.9557\n",
      "Epoch 6/500\n",
      "40/40 [==============================] - 0s 6ms/step - loss: 0.3165 - tp: 31720.1951 - fp: 4944.9756 - tn: 5692.9756 - fn: 554.9756 - accuracy: 0.8705 - precision: 0.8642 - recall: 0.9821 - auc: 0.9024 - prc: 0.9586 - val_loss: 0.3013 - val_tp: 14687.0000 - val_fp: 2070.0000 - val_tn: 2956.0000 - val_fn: 342.0000 - val_accuracy: 0.8797 - val_precision: 0.8765 - val_recall: 0.9772 - val_auc: 0.9092 - val_prc: 0.9609\n",
      "Epoch 7/500\n",
      "40/40 [==============================] - 0s 6ms/step - loss: 0.2945 - tp: 31716.2195 - fp: 4523.4146 - tn: 6105.8780 - fn: 567.6098 - accuracy: 0.8810 - precision: 0.8752 - recall: 0.9819 - auc: 0.9147 - prc: 0.9644 - val_loss: 0.2854 - val_tp: 14706.0000 - val_fp: 1908.0000 - val_tn: 3118.0000 - val_fn: 323.0000 - val_accuracy: 0.8888 - val_precision: 0.8852 - val_recall: 0.9785 - val_auc: 0.9189 - val_prc: 0.9652\n",
      "Epoch 8/500\n",
      "40/40 [==============================] - 0s 6ms/step - loss: 0.2790 - tp: 31811.2439 - fp: 4223.4634 - tn: 6383.4146 - fn: 495.0000 - accuracy: 0.8898 - precision: 0.8830 - recall: 0.9843 - auc: 0.9226 - prc: 0.9684 - val_loss: 0.2712 - val_tp: 14742.0000 - val_fp: 1779.0000 - val_tn: 3247.0000 - val_fn: 287.0000 - val_accuracy: 0.8970 - val_precision: 0.8923 - val_recall: 0.9809 - val_auc: 0.9251 - val_prc: 0.9682\n",
      "Epoch 9/500\n",
      "40/40 [==============================] - 0s 6ms/step - loss: 0.2640 - tp: 31860.6829 - fp: 3909.6098 - tn: 6728.0000 - fn: 414.8293 - accuracy: 0.8994 - precision: 0.8907 - recall: 0.9872 - auc: 0.9297 - prc: 0.9710 - val_loss: 0.2590 - val_tp: 14858.0000 - val_fp: 1820.0000 - val_tn: 3206.0000 - val_fn: 171.0000 - val_accuracy: 0.9007 - val_precision: 0.8909 - val_recall: 0.9886 - val_auc: 0.9315 - val_prc: 0.9708\n",
      "Epoch 10/500\n",
      "40/40 [==============================] - 0s 7ms/step - loss: 0.2531 - tp: 31926.3902 - fp: 3722.3902 - tn: 6866.5854 - fn: 397.7561 - accuracy: 0.9035 - precision: 0.8951 - recall: 0.9878 - auc: 0.9345 - prc: 0.9737 - val_loss: 0.2508 - val_tp: 14688.0000 - val_fp: 1551.0000 - val_tn: 3475.0000 - val_fn: 341.0000 - val_accuracy: 0.9057 - val_precision: 0.9045 - val_recall: 0.9773 - val_auc: 0.9378 - val_prc: 0.9743\n",
      "Epoch 11/500\n",
      "40/40 [==============================] - 0s 6ms/step - loss: 0.2453 - tp: 31781.8293 - fp: 3470.6341 - tn: 7199.2195 - fn: 461.4390 - accuracy: 0.9086 - precision: 0.9024 - recall: 0.9846 - auc: 0.9385 - prc: 0.9745 - val_loss: 0.2396 - val_tp: 14868.0000 - val_fp: 1686.0000 - val_tn: 3340.0000 - val_fn: 161.0000 - val_accuracy: 0.9079 - val_precision: 0.8982 - val_recall: 0.9893 - val_auc: 0.9426 - val_prc: 0.9759\n",
      "Epoch 12/500\n",
      "40/40 [==============================] - 0s 6ms/step - loss: 0.2338 - tp: 31822.2683 - fp: 3399.4390 - tn: 7300.3902 - fn: 391.0244 - accuracy: 0.9116 - precision: 0.9032 - recall: 0.9883 - auc: 0.9453 - prc: 0.9777 - val_loss: 0.2322 - val_tp: 14904.0000 - val_fp: 1700.0000 - val_tn: 3326.0000 - val_fn: 125.0000 - val_accuracy: 0.9090 - val_precision: 0.8976 - val_recall: 0.9917 - val_auc: 0.9475 - val_prc: 0.9783\n",
      "Epoch 13/500\n",
      "40/40 [==============================] - 0s 6ms/step - loss: 0.2272 - tp: 31832.2927 - fp: 3253.0976 - tn: 7437.9268 - fn: 389.8049 - accuracy: 0.9140 - precision: 0.9060 - recall: 0.9878 - auc: 0.9483 - prc: 0.9792 - val_loss: 0.2226 - val_tp: 14820.0000 - val_fp: 1494.0000 - val_tn: 3532.0000 - val_fn: 209.0000 - val_accuracy: 0.9151 - val_precision: 0.9084 - val_recall: 0.9861 - val_auc: 0.9497 - val_prc: 0.9791\n",
      "Epoch 14/500\n",
      "40/40 [==============================] - 0s 6ms/step - loss: 0.2161 - tp: 31920.2195 - fp: 3073.8537 - tn: 7545.9756 - fn: 373.0732 - accuracy: 0.9193 - precision: 0.9115 - recall: 0.9885 - auc: 0.9532 - prc: 0.9813 - val_loss: 0.2151 - val_tp: 14869.0000 - val_fp: 1490.0000 - val_tn: 3536.0000 - val_fn: 160.0000 - val_accuracy: 0.9177 - val_precision: 0.9089 - val_recall: 0.9894 - val_auc: 0.9535 - val_prc: 0.9807\n",
      "Epoch 15/500\n",
      "32/40 [=======================>......] - ETA: 0s - loss: 0.2117 - tp: 25194.9688 - fp: 2372.4688 - tn: 5969.2188 - fn: 288.3438 - accuracy: 0.9211 - precision: 0.9134 - recall: 0.9891 - auc: 0.9544 - prc: 0.9819"
     ]
    }
   ],
   "source": [
    "model_name = 'cnn_model_kinect'\n",
    "#loss='sparse_categorical_crossentropy'\n",
    "#loss='categorical_crossentropy'\n",
    "#loss='binary_crossentropy'\n",
    "\n",
    "with mlflow.start_run(run_name=model_name) as run:\n",
    "\n",
    "    run_id = run.info.run_id\n",
    "\n",
    "    model = make_model(metrics=METRICS, \n",
    "                        loss='binary_crossentropy', \n",
    "                        optimizer=optimizer, \n",
    "                        learning_rate=learning_rate)\n",
    "    \n",
    "    with tf.device('/CPU:0'):\n",
    "        \n",
    "        history = model.fit(\n",
    "            x=X_train, \n",
    "            y=y_train, \n",
    "            validation_data=(X_val, y_val), \n",
    "            shuffle=True, \n",
    "            epochs=EPOCHS, \n",
    "            verbose=1,\n",
    "            batch_size=BATCH_SIZE, \n",
    "            callbacks=[early_stopping])\n",
    "\n",
    "        # Plot training history\n",
    "        plot_loss(history, \"Bias\", 0)\n",
    "        plt.savefig(\"loss.jpg\")\n",
    "        #mlflow.log_artifact(\"loss.jpg\")\n",
    "        plt.show()\n",
    "        \n",
    "        # Plot and log metrics\n",
    "        predictions_train = model.predict(X_train)\n",
    "        predictions_test = model.predict(X_test)\n",
    "\n",
    "        plot_metrics(history)\n",
    "        plt.savefig(\"metrics.jpg\")\n",
    "        #mlflow.log_artifact(\"metrics.jpg\")\n",
    "        plt.show()\n",
    "\n",
    "        # Confusion matrix\n",
    "        results = model.evaluate(X_test, y_test, batch_size=BATCH_SIZE, verbose=0)\n",
    "        for name, value in zip(model.metrics_names, results):\n",
    "            print(name, ': ', value, '/n')\n",
    "        plot_cm(y_test, predictions_test)\n",
    "        plt.savefig(\"cm.jpg\")\n",
    "        #mlflow.log_artifact(\"cm.jpg\")\n",
    "        plt.show()\n",
    "\n",
    "        # ROC Curve\n",
    "        plot_roc(\"Test Predictions\", y_test, predictions_test, color=colors[0], linestyle='--')\n",
    "        plt.legend(loc='lower right')\n",
    "        plt.savefig(\"roc.jpg\")\n",
    "        #mlflow.log_artifact(\"roc.jpg\")\n",
    "        plt.show()\n",
    "\n",
    "        # Precision-Recall Curve (PRC)\n",
    "        plot_prc(\"Train Predictions\", y_train, predictions_train, color=colors[0])\n",
    "        plot_prc(\"Test Predictions\", y_test, predictions_test, color=colors[0], linestyle='--')\n",
    "        plt.legend(loc='lower right')\n",
    "        plt.savefig(\"prc.jpg\")\n",
    "        #mlflow.log_artifact(\"prc.jpg\")\n",
    "        plt.show()\n",
    "        \n",
    "        # Log model, scaler, model parameters to MLflow\n",
    "        #mlflow.log_param(\"units\", units)\n",
    "        #mlflow.log_param(\"activation\", activation)\n",
    "        #mlflow.log_param(\"kernel_initializer\", kernel_initializer)\n",
    "        #mlflow.log_param(\"output activation\", output_activation)\n",
    "        #mlflow.log_param(\"optimizer\", optimizer)\n",
    "        #mlflow.log_param(\"learning rate\", learning_rate)\n",
    "        #mlflow.log_param(\"batch size\", BATCH_SIZE)\n",
    "        #mlflow.log_metric(\"accuracy\", results[5])\n",
    "        #mlflow.log_metric(\"average precision score\", results[6])\n",
    "        #mlflow.log_metric(\"recall\", results[7])\n",
    "        #mlflow.log_metric(\"auc\", results[8])\n",
    "\n",
    "        #mlflow.keras.log_model(model, model_name, signature=signature)\n",
    "        #mlflow.sklearn.log_model(scaler, 'InputScaler')"
   ]
  },
  {
   "cell_type": "markdown",
   "metadata": {},
   "source": [
    "## 5. Register Model"
   ]
  },
  {
   "cell_type": "code",
   "execution_count": null,
   "metadata": {},
   "outputs": [],
   "source": [
    "model_uri = \"runs:/{}/{}\".format(run.info.run_id, model_name)\n",
    "mv = mlflow.register_model(model_uri, model_name)\n",
    "print(\"Name: {}\".format(mv.name))\n",
    "print(\"Version: {}\".format(mv.version))"
   ]
  },
  {
   "cell_type": "code",
   "execution_count": null,
   "metadata": {},
   "outputs": [],
   "source": []
  },
  {
   "cell_type": "code",
   "execution_count": null,
   "metadata": {},
   "outputs": [],
   "source": []
  }
 ],
 "metadata": {
  "kernelspec": {
   "display_name": "Python 3",
   "language": "python",
   "name": "python3"
  },
  "language_info": {
   "codemirror_mode": {
    "name": "ipython",
    "version": 3
   },
   "file_extension": ".py",
   "mimetype": "text/x-python",
   "name": "python",
   "nbconvert_exporter": "python",
   "pygments_lexer": "ipython3",
   "version": "3.9.2"
  },
  "metadata": {
   "interpreter": {
    "hash": "63fd5069d213b44bf678585dea6b12cceca9941eaf7f819626cde1f2670de90d"
   }
  }
 },
 "nbformat": 4,
 "nbformat_minor": 2
}
