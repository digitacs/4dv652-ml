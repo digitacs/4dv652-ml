{
 "cells": [
  {
   "cell_type": "code",
   "execution_count": null,
   "id": "commercial-earthquake",
   "metadata": {
    "scrolled": false
   },
   "outputs": [],
   "source": [
    "!pip install tensorflowjs"
   ]
  },
  {
   "cell_type": "code",
   "execution_count": 3,
   "id": "immune-hello",
   "metadata": {},
   "outputs": [],
   "source": [
    "import tensorflow as tf\n",
    "import tensorflowjs as tfjs\n",
    "import sys\n",
    "import os\n",
    "\n",
    "\n",
    "# MLflow dashboard\n",
    "import mlflow\n",
    "mlflow.set_tracking_uri('http://35.228.45.76:5000')\n",
    "os.environ['GOOGLE_APPLICATION_CREDENTIALS']='../../keys/mlflow-312506-8cfad529f4fd.json'"
   ]
  },
  {
   "cell_type": "code",
   "execution_count": 4,
   "id": "roman-alloy",
   "metadata": {},
   "outputs": [],
   "source": [
    "input_scaler = mlflow.sklearn.load_model('gs://mlflow-atlas/mlflow_artifacts/0/0b6786ed5d8f4860a817b4d514aa4de5/artifacts/InputScaler')\n",
    "output_scaler = mlflow.sklearn.load_model('gs://mlflow-atlas/mlflow_artifacts/0/0b6786ed5d8f4860a817b4d514aa4de5/artifacts/OutputScaler')\n",
    "model = mlflow.keras.load_model('gs://mlflow-atlas/mlflow_artifacts/0/0b6786ed5d8f4860a817b4d514aa4de5/artifacts/dense_model_confidence_goodness')\n"
   ]
  },
  {
   "cell_type": "code",
   "execution_count": null,
   "id": "wound-rental",
   "metadata": {},
   "outputs": [],
   "source": []
  },
  {
   "cell_type": "code",
   "execution_count": 6,
   "id": "false-croatia",
   "metadata": {},
   "outputs": [],
   "source": [
    "tfjs.converters.save_keras_model(model, '../../models/GoodnessModel')"
   ]
  }
 ],
 "metadata": {
  "kernelspec": {
   "display_name": "Python 3",
   "language": "python",
   "name": "python3"
  },
  "language_info": {
   "codemirror_mode": {
    "name": "ipython",
    "version": 3
   },
   "file_extension": ".py",
   "mimetype": "text/x-python",
   "name": "python",
   "nbconvert_exporter": "python",
   "pygments_lexer": "ipython3",
   "version": "3.9.5"
  }
 },
 "nbformat": 4,
 "nbformat_minor": 5
}
