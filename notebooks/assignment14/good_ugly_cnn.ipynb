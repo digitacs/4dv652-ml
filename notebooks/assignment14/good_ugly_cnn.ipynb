{
 "metadata": {
  "language_info": {
   "codemirror_mode": {
    "name": "ipython",
    "version": 3
   },
   "file_extension": ".py",
   "mimetype": "text/x-python",
   "name": "python",
   "nbconvert_exporter": "python",
   "pygments_lexer": "ipython3",
   "version": "3.9.5"
  },
  "orig_nbformat": 2,
  "kernelspec": {
   "name": "python395jvsc74a57bd063fd5069d213b44bf678585dea6b12cceca9941eaf7f819626cde1f2670de90d",
   "display_name": "Python 3.9.5 64-bit"
  },
  "metadata": {
   "interpreter": {
    "hash": "63fd5069d213b44bf678585dea6b12cceca9941eaf7f819626cde1f2670de90d"
   }
  }
 },
 "nbformat": 4,
 "nbformat_minor": 2,
 "cells": [
  {
   "source": [
    "# CNN\n",
    "\n",
    "We're working with multioutput regression to predict a goodness score and confidence score for a whole overhead deepsquat exercise, depending on the variables from the PoseNet model representing joint coordinates and confidence scores, per video frame.\n",
    "This means that the outputs are dependent upon the input and upon each other. We're required to find a model that predicts both outputs together.\n",
    "\n",
    "In this Notebook, we're experimenting with 1 dimensional CNNs to find a good-performing model. We're using Conv1D because the input samples consists of sequences of exercise movements, which we can consider as Time-series data. The data represents the movement in 2 axes (X, Y). 1D CNN can perform recognition task from sequential data, such as what position the person has in his exercise and how confident the model is at the position being truthful. This data has 2 dimensions and a confidence score. Kernel moves in one direction.\n",
    "\n",
    "We're not directly dealing with 2D image data (which would require Conv2D) or video data/3D image data (which would require Conv3D)."
   ],
   "cell_type": "markdown",
   "metadata": {}
  },
  {
   "cell_type": "code",
   "execution_count": 1,
   "metadata": {},
   "outputs": [
    {
     "output_type": "stream",
     "name": "stdout",
     "text": [
      "Num GPUs Available:  1\n"
     ]
    }
   ],
   "source": [
    "# MLflow dashboard\n",
    "import mlflow\n",
    "mlflow.set_tracking_uri('http://35.228.45.76:5000')\n",
    "os.environ['GOOGLE_APPLICATION_CREDENTIALS']='../../keys/mlflow-312506-8cfad529f4fd.json'\n",
    "\n",
    "# Import data augmentation\n",
    "import sys\n",
    "module_path = os.path.abspath(os.path.join('../..'))\n",
    "if module_path not in sys.path:\n",
    "    sys.path.append(module_path)\n",
    "from augmentation.methods import *\n",
    "\n",
    "# Ignore warnings\n",
    "import warnings\n",
    "warnings.simplefilter('ignore')\n",
    "\n",
    "# Set random state\n",
    "import numpy as np\n",
    "random_state = 47\n",
    "np.random.seed(random_state)\n",
    "\n",
    "# Use GPU (if available)\n",
    "import tensorflow as tf\n",
    "physical_devices = tf.config.experimental.list_physical_devices( 'GPU' )\n",
    "print( 'Num GPUs Available: ', len( physical_devices ) )\n",
    "if len( physical_devices ) > 0:\n",
    "    tf.config.experimental.set_memory_growth( physical_devices[0], True )"
   ]
  },
  {
   "source": [
    "# 1. Data Preparation\n",
    "\n",
    "## 1.1 Load Dataset"
   ],
   "cell_type": "markdown",
   "metadata": {}
  },
  {
   "cell_type": "code",
   "execution_count": 2,
   "metadata": {},
   "outputs": [],
   "source": [
    "data_path = '../../datasets/'\n",
    "\n",
    "files = [\n",
    "    'posenet_scored_all_1.csv',\n",
    "    'posenet_scored_all_2.csv',\n",
    "    'posenet_scored_all_3.csv',\n",
    "    'posenet_scored_all_4.csv',\n",
    "]\n",
    "\n",
    "df = None"
   ]
  },
  {
   "cell_type": "code",
   "execution_count": 3,
   "metadata": {},
   "outputs": [
    {
     "output_type": "stream",
     "name": "stdout",
     "text": [
      "(225092, 54)\n"
     ]
    }
   ],
   "source": [
    "import pandas as pd\n",
    "\n",
    "for file in files:\n",
    "    try:\n",
    "        dataset = pd.read_csv(data_path + file)\n",
    "        dataset.drop(columns=['left_eye_x', 'left_eye_y', 'left_eye_score', 'right_eye_x', 'right_eye_y', 'right_eye_score', \n",
    "                                'left_ear_x', 'left_ear_y', 'left_ear_score', 'right_ear_x', 'right_ear_y', 'right_ear_score'])\n",
    "        dataset.rename({'nose_x': 'head_x', 'nose_y': 'head_y', 'nose_score': 'head_score'})\n",
    "\n",
    "        if df is None:\n",
    "            df = dataset\n",
    "        else:\n",
    "            df = df.append(dataset, ignore_index=True)  \n",
    "\n",
    "    except IOError as e:\n",
    "        print('Error in reading file: ', e)\n",
    "\n",
    "print(df.shape)"
   ]
  },
  {
   "source": [
    "## 1.2 Train/Val/Test split"
   ],
   "cell_type": "markdown",
   "metadata": {}
  },
  {
   "cell_type": "code",
   "execution_count": 4,
   "metadata": {},
   "outputs": [],
   "source": [
    "X = df.drop(columns=['ConfidenceScore', 'GoodnessScore'])\n",
    "y = df[['ConfidenceScore', 'GoodnessScore']]\n",
    "\n",
    "from sklearn.utils import shuffle\n",
    "\n",
    "X, y = shuffle(X, y, random_state=random_state)"
   ]
  },
  {
   "cell_type": "code",
   "execution_count": 5,
   "metadata": {},
   "outputs": [],
   "source": [
    "from sklearn.model_selection import train_test_split\n",
    "\n",
    "X_train, X_test, y_train, y_test = train_test_split(X, y, test_size=0.1, random_state=random_state)"
   ]
  },
  {
   "source": [
    "## 1.3 Standardize features and labels"
   ],
   "cell_type": "markdown",
   "metadata": {}
  },
  {
   "cell_type": "code",
   "execution_count": 6,
   "metadata": {},
   "outputs": [
    {
     "output_type": "stream",
     "name": "stdout",
     "text": [
      "Training features shape: (202582, 52)\nTraining labels shape: (202582, 2) \n\nTest features shape: (22510, 52)\nTest labels shape: (22510, 2)\n"
     ]
    }
   ],
   "source": [
    "from sklearn.preprocessing import StandardScaler\n",
    "\n",
    "X_scaler = StandardScaler()\n",
    "X_train = X_scaler.fit_transform(X_train)\n",
    "X_test = X_scaler.transform(X_test)\n",
    "\n",
    "y_scaler = StandardScaler()\n",
    "y_train = y_scaler.fit_transform(y_train)\n",
    "\n",
    "print('Training features shape:', X_train.shape)\n",
    "print('Training labels shape:', y_train.shape, '\\n')\n",
    "\n",
    "print('Test features shape:', X_test.shape)\n",
    "print('Test labels shape:', y_test.shape)"
   ]
  },
  {
   "source": [
    "## 1.4 Reshape data for convolutional layers"
   ],
   "cell_type": "markdown",
   "metadata": {}
  },
  {
   "cell_type": "code",
   "execution_count": 7,
   "metadata": {},
   "outputs": [
    {
     "output_type": "stream",
     "name": "stdout",
     "text": [
      "Before: (202582, 52)\nAfter: (202582, 1, 52)\n"
     ]
    }
   ],
   "source": [
    "original_shape = X_train.shape\n",
    "X_train = X_train.reshape((X_train.shape[0], 1, X_train.shape[1]))\n",
    "X_test = X_test.reshape((X_test.shape[0], 1, X_test.shape[1]))\n",
    "n_timesteps, n_features, n_outputs = X_train.shape[1], X_train.shape[2], y_train.shape[1]\n",
    "\n",
    "print(\"Before: {}\".format(original_shape))\n",
    "\n",
    "input_shape = (n_timesteps, n_features)\n",
    "\n",
    "print(\"After: {}\".format(X_train.shape))"
   ]
  },
  {
   "source": [
    "# 2. Define Model Architecture\n",
    "\n",
    "## 2.1 Model Architecture\n",
    "\n",
    "The **create_model()** method returns a model with the layers and configurations specified.\n",
    "\n",
    "The model will optimize the mean squared error (mse) required for regression problems."
   ],
   "cell_type": "markdown",
   "metadata": {}
  },
  {
   "cell_type": "code",
   "execution_count": 8,
   "metadata": {},
   "outputs": [],
   "source": [
    "from tensorflow.keras.metrics import MeanSquaredError, MeanAbsoluteError, RootMeanSquaredError\n",
    "from tensorflow.keras.layers import InputLayer\n",
    "\n",
    "metrics = [\n",
    "    MeanSquaredError(name=\"mse\", dtype=None),\n",
    "    MeanAbsoluteError(name=\"mae\", dtype=None),\n",
    "    RootMeanSquaredError(name=\"rmse\", dtype=None),\n",
    "]\n",
    "\n",
    "def create_model(layers, optimizer):\n",
    "    model = tf.keras.models.Sequential(\n",
    "        InputLayer(input_shape=(n_timesteps, n_features))\n",
    "    )\n",
    "\n",
    "    for layer in layers:\n",
    "        model.add(layer)\n",
    "\n",
    "    model.compile(optimizer=optimizer, loss='mean_squared_error', metrics=metrics)\n",
    "\n",
    "    print(model.summary())\n",
    "\n",
    "    return model"
   ]
  },
  {
   "source": [
    "# 3. Run Experiments\n",
    "\n",
    "We will use our [MLflow dashboard](http://35.228.45.76:5000/#/) to track the outcome of experimentation runs.\n",
    "\n",
    "## 3.1 Define a MLflow Experiment\n",
    "\n",
    "We'll define the running setup and the model signature."
   ],
   "cell_type": "markdown",
   "metadata": {}
  },
  {
   "cell_type": "code",
   "execution_count": 9,
   "metadata": {},
   "outputs": [],
   "source": [
    "verbose, epochs, batch_size = 1, 100, 32\n",
    "\n",
    "from keras.callbacks import EarlyStopping\n",
    "early_stopping = EarlyStopping(\n",
    "    monitor='val_loss', \n",
    "    verbose=1,\n",
    "    patience=10,\n",
    "    mode='min',\n",
    "    restore_best_weights=True)"
   ]
  },
  {
   "cell_type": "code",
   "execution_count": 10,
   "metadata": {},
   "outputs": [],
   "source": [
    "from mlflow.models.signature import ModelSignature\n",
    "from mlflow.types.schema import Schema, ColSpec\n",
    "\n",
    "input_schema = Schema([\n",
    "    ColSpec(\"double\", \"head_x\"),\n",
    "    ColSpec(\"double\", \"head_y\"),\n",
    "    ColSpec(\"double\", \"head_score\"),\n",
    "    ColSpec(\"double\", \"left_shoulder_x\"),\n",
    "    ColSpec(\"double\", \"left_shoulder_y\"),\n",
    "    ColSpec(\"double\", \"left_shoulder_score\"),\n",
    "    ColSpec(\"double\", \"right_shoulder_x\"),\n",
    "    ColSpec(\"double\", \"right_shoulder_y\"),\n",
    "    ColSpec(\"double\", \"right_shoulder_score\"),\n",
    "    ColSpec(\"double\", \"left_elbow_x\"),\n",
    "    ColSpec(\"double\", \"left_elbow_y\"),\n",
    "    ColSpec(\"double\", \"left_elbow_score\"),\n",
    "    ColSpec(\"double\", \"right_elbow_x\"),\n",
    "    ColSpec(\"double\", \"right_elbow_y\"),\n",
    "    ColSpec(\"double\", \"right_elbow_score\"),\n",
    "    ColSpec(\"double\", \"left_wrist_x\"),\n",
    "    ColSpec(\"double\", \"left_wrist_y\"),\n",
    "    ColSpec(\"double\", \"left_wrist_score\"),\n",
    "    ColSpec(\"double\", \"right_wrist_x\"),\n",
    "    ColSpec(\"double\", \"right_wrist_y\"),\n",
    "    ColSpec(\"double\", \"right_wrist_score\"),\n",
    "    ColSpec(\"double\", \"left_hip_x\"),\n",
    "    ColSpec(\"double\", \"left_hip_y\"),\n",
    "    ColSpec(\"double\", \"left_hip_score\"),\n",
    "    ColSpec(\"double\", \"right_hip_x\"),\n",
    "    ColSpec(\"double\", \"right_hip_y\"),\n",
    "    ColSpec(\"double\", \"right_hip_score\"),\n",
    "    ColSpec(\"double\", \"left_knee_x\"),\n",
    "    ColSpec(\"double\", \"left_knee_y\"),\n",
    "    ColSpec(\"double\", \"left_knee_score\"),\n",
    "    ColSpec(\"double\", \"right_knee_x\"),\n",
    "    ColSpec(\"double\", \"right_knee_y\"),\n",
    "    ColSpec(\"double\", \"right_knee_score\"),\n",
    "    ColSpec(\"double\", \"left_ankle_x\"),\n",
    "    ColSpec(\"double\", \"left_ankle_y\"),\n",
    "    ColSpec(\"double\", \"left_ankle_score\"),\n",
    "    ColSpec(\"double\", \"right_ankle_x\"),\n",
    "    ColSpec(\"double\", \"right_ankle_y\"),\n",
    "    ColSpec(\"double\", \"right_ankle_score\"),\n",
    "    ColSpec(\"double\", \"score\")\n",
    "])\n",
    "output_schema = Schema([\n",
    "    ColSpec(\"double\", \"ConfidenceScore\"),\n",
    "    ColSpec(\"double\", \"GoodnessScore\"),\n",
    "])\n",
    "signature = ModelSignature(inputs=input_schema, outputs=output_schema)"
   ]
  },
  {
   "source": [
    "## 3.2 Plot Training History\n",
    "\n",
    "This method will be used to inspect how the model is learning by showing training and validation loss."
   ],
   "cell_type": "markdown",
   "metadata": {}
  },
  {
   "cell_type": "code",
   "execution_count": 11,
   "metadata": {},
   "outputs": [],
   "source": [
    "import matplotlib as mpl\n",
    "import matplotlib.pyplot as plt\n",
    "\n",
    "mpl.rcParams['figure.figsize'] = (8, 6)\n",
    "mpl.rcParams['axes.grid'] = False\n",
    "\n",
    "def plot_train_history(history, title):\n",
    "    loss = history.history['loss']\n",
    "    val_loss = history.history['val_loss']\n",
    "    epochs = range(len(loss))\n",
    "    plt.figure()\n",
    "    plt.plot(epochs, loss, 'b', label='Training loss')\n",
    "    plt.plot(epochs, val_loss, 'r', label='Validation loss')\n",
    "    plt.title(title)\n",
    "    plt.legend()"
   ]
  },
  {
   "source": [
    "## 3.3 Define Evaluation Metrics\n",
    "\n",
    "We'll use standard regression performance metrics to evaluate model performance."
   ],
   "cell_type": "markdown",
   "metadata": {}
  },
  {
   "cell_type": "code",
   "execution_count": 12,
   "metadata": {},
   "outputs": [],
   "source": [
    "from sklearn.metrics import mean_squared_error, r2_score, explained_variance_score, mean_absolute_error\n",
    "\n",
    "def eval_metrics(actual, pred):\n",
    "    mse = mean_squared_error(actual, pred)\n",
    "    msa = mean_absolute_error(actual, pred)\n",
    "    r2 = r2_score(actual, pred)\n",
    "    variance = explained_variance_score(actual, pred)\n",
    "    return mse, msa, r2, variance"
   ]
  },
  {
   "source": [
    "## 3.4 Model Parameters\n",
    "\n",
    "For each experimentation run, we'll test different values for model parameters with each model architecture we define. These are the parameter values we're using as a starting point:\n",
    "\n",
    "- We'll begin small kernels, and then increase to larger ones. \n",
    "- As for layers, we'll start by using the ReLU activation function and He weight initialization, which we have noticed seem to provide a general good model performance.\n",
    "- The RMSprop optimizer will be used first as this is a regression problem we're trying to solve, and we'll use a modest learning rate of 0.001 with a large momentum of 0.9 (generally good practices). But we'll also try the Adam optimizer.\n",
    "\n",
    "As we're experimenting with these values, the results will be shown in [MLflow dashboard](http://35.228.45.76:5000/#/)."
   ],
   "cell_type": "markdown",
   "metadata": {}
  },
  {
   "cell_type": "code",
   "execution_count": 13,
   "metadata": {},
   "outputs": [],
   "source": [
    "from tensorflow.keras.optimizers import RMSprop, Adam, SGD\n",
    "\n",
    "# Parameters\n",
    "filters = 64\n",
    "kernel_size = 3\n",
    "\n",
    "activation = 'relu'\n",
    "kernel_initializer = 'he_uniform'\n",
    "\n",
    "pool_size = 2\n",
    "\n",
    "dense_units = 128\n",
    "\n",
    "output_activation = ''\n",
    "\n",
    "# Optimization function\n",
    "optimizer = 'SGD'\n",
    "learning_rate = 0.001\n",
    "opt = SGD(learning_rate=learning_rate, momentum=0.9)"
   ]
  },
  {
   "source": [
    "## 3.5 Baseline model\n",
    "\n",
    "Now we can start experimenting with the models, and we'll start with a baseline model. The baseline model will establish a minimum model performance to which all other models can be compared. \n",
    "\n",
    "For the baseline model, we've been inspired by the general architectural principles of VGG models - but with 1 dimensional convolution. \n",
    "This seems like a good starting point because that structure is easy to understand and implement at the same time as it has previously achieved good performance. <br />\n",
    "The architecture involves stacking convolutional layers with small 3x3 filters followed by a max-pooling layer. Padding is used on the convolutional layers to ensure the height and width of the output feature maps matches the inputs.\n",
    "\n",
    "The feature maps output from the feature extraction part of this baseline model will be flattened before we can interpret them with two fully connected (Dense) layers, and then output a prediction.\n",
    "\n",
    "This baseline will also be tested with larger filters as we're experimenting with parameter values."
   ],
   "cell_type": "markdown",
   "metadata": {}
  },
  {
   "cell_type": "code",
   "execution_count": 14,
   "metadata": {},
   "outputs": [
    {
     "output_type": "stream",
     "name": "stdout",
     "text": [
      "Model: \"sequential\"\n",
      "_________________________________________________________________\n",
      "Layer (type)                 Output Shape              Param #   \n",
      "=================================================================\n",
      "conv1d (Conv1D)              (None, 1, 64)             10048     \n",
      "_________________________________________________________________\n",
      "conv1d_1 (Conv1D)            (None, 1, 64)             12352     \n",
      "_________________________________________________________________\n",
      "max_pooling1d (MaxPooling1D) (None, 1, 64)             0         \n",
      "_________________________________________________________________\n",
      "flatten (Flatten)            (None, 64)                0         \n",
      "_________________________________________________________________\n",
      "dense (Dense)                (None, 128)               8320      \n",
      "_________________________________________________________________\n",
      "dense_1 (Dense)              (None, 2)                 258       \n",
      "=================================================================\n",
      "Total params: 30,978\n",
      "Trainable params: 30,978\n",
      "Non-trainable params: 0\n",
      "_________________________________________________________________\n",
      "None\n",
      "Epoch 1/100\n",
      "5065/5065 [==============================] - 29s 5ms/step - loss: 0.2790 - mse: 0.2790 - mae: 0.3217 - rmse: 0.5282 - val_loss: 0.2220 - val_mse: 0.2220 - val_mae: 0.2790 - val_rmse: 0.4711\n",
      "Epoch 2/100\n",
      "5065/5065 [==============================] - 25s 5ms/step - loss: 0.1949 - mse: 0.1949 - mae: 0.2616 - rmse: 0.4414 - val_loss: 0.1731 - val_mse: 0.1731 - val_mae: 0.2465 - val_rmse: 0.4161\n",
      "Epoch 3/100\n",
      "5065/5065 [==============================] - 23s 5ms/step - loss: 0.1636 - mse: 0.1636 - mae: 0.2384 - rmse: 0.4045 - val_loss: 0.1574 - val_mse: 0.1574 - val_mae: 0.2326 - val_rmse: 0.3968\n",
      "Epoch 4/100\n",
      "5065/5065 [==============================] - 23s 5ms/step - loss: 0.1463 - mse: 0.1463 - mae: 0.2247 - rmse: 0.3825 - val_loss: 0.1352 - val_mse: 0.1352 - val_mae: 0.2143 - val_rmse: 0.3677\n",
      "Epoch 5/100\n",
      "5065/5065 [==============================] - 26s 5ms/step - loss: 0.1328 - mse: 0.1328 - mae: 0.2136 - rmse: 0.3644 - val_loss: 0.1299 - val_mse: 0.1299 - val_mae: 0.2106 - val_rmse: 0.3605\n",
      "Epoch 6/100\n",
      "5065/5065 [==============================] - 24s 5ms/step - loss: 0.1236 - mse: 0.1236 - mae: 0.2057 - rmse: 0.3515 - val_loss: 0.1257 - val_mse: 0.1257 - val_mae: 0.2074 - val_rmse: 0.3545\n",
      "Epoch 7/100\n",
      "5065/5065 [==============================] - 24s 5ms/step - loss: 0.1163 - mse: 0.1163 - mae: 0.1993 - rmse: 0.3410 - val_loss: 0.1205 - val_mse: 0.1205 - val_mae: 0.1987 - val_rmse: 0.3472\n",
      "Epoch 8/100\n",
      "5065/5065 [==============================] - 24s 5ms/step - loss: 0.1101 - mse: 0.1101 - mae: 0.1938 - rmse: 0.3318 - val_loss: 0.1078 - val_mse: 0.1078 - val_mae: 0.1905 - val_rmse: 0.3283\n",
      "Epoch 9/100\n",
      "5065/5065 [==============================] - 24s 5ms/step - loss: 0.1044 - mse: 0.1044 - mae: 0.1886 - rmse: 0.3231 - val_loss: 0.1053 - val_mse: 0.1053 - val_mae: 0.1887 - val_rmse: 0.3245\n",
      "Epoch 10/100\n",
      "5065/5065 [==============================] - 23s 5ms/step - loss: 0.1002 - mse: 0.1002 - mae: 0.1846 - rmse: 0.3166 - val_loss: 0.1005 - val_mse: 0.1005 - val_mae: 0.1830 - val_rmse: 0.3171\n",
      "Epoch 11/100\n",
      "5065/5065 [==============================] - 25s 5ms/step - loss: 0.0970 - mse: 0.0970 - mae: 0.1821 - rmse: 0.3114 - val_loss: 0.0950 - val_mse: 0.0950 - val_mae: 0.1825 - val_rmse: 0.3081\n",
      "Epoch 12/100\n",
      "5065/5065 [==============================] - 24s 5ms/step - loss: 0.0938 - mse: 0.0938 - mae: 0.1787 - rmse: 0.3062 - val_loss: 0.0971 - val_mse: 0.0971 - val_mae: 0.1836 - val_rmse: 0.3117\n",
      "Epoch 13/100\n",
      "5065/5065 [==============================] - 23s 4ms/step - loss: 0.0906 - mse: 0.0906 - mae: 0.1761 - rmse: 0.3011 - val_loss: 0.0964 - val_mse: 0.0964 - val_mae: 0.1797 - val_rmse: 0.3105\n",
      "Epoch 14/100\n",
      "5065/5065 [==============================] - 24s 5ms/step - loss: 0.0879 - mse: 0.0879 - mae: 0.1732 - rmse: 0.2964 - val_loss: 0.0928 - val_mse: 0.0928 - val_mae: 0.1794 - val_rmse: 0.3047\n",
      "Epoch 15/100\n",
      "5065/5065 [==============================] - 24s 5ms/step - loss: 0.0857 - mse: 0.0857 - mae: 0.1714 - rmse: 0.2928 - val_loss: 0.0918 - val_mse: 0.0918 - val_mae: 0.1762 - val_rmse: 0.3029\n",
      "Epoch 16/100\n",
      "5065/5065 [==============================] - 23s 4ms/step - loss: 0.0832 - mse: 0.0832 - mae: 0.1689 - rmse: 0.2884 - val_loss: 0.0858 - val_mse: 0.0858 - val_mae: 0.1710 - val_rmse: 0.2929\n",
      "Epoch 17/100\n",
      "5065/5065 [==============================] - 23s 5ms/step - loss: 0.0812 - mse: 0.0812 - mae: 0.1669 - rmse: 0.2849 - val_loss: 0.0857 - val_mse: 0.0857 - val_mae: 0.1712 - val_rmse: 0.2928\n",
      "Epoch 18/100\n",
      "5065/5065 [==============================] - 23s 4ms/step - loss: 0.0792 - mse: 0.0792 - mae: 0.1648 - rmse: 0.2814 - val_loss: 0.0871 - val_mse: 0.0871 - val_mae: 0.1723 - val_rmse: 0.2952\n",
      "Epoch 19/100\n",
      "5065/5065 [==============================] - 23s 5ms/step - loss: 0.0773 - mse: 0.0773 - mae: 0.1630 - rmse: 0.2780 - val_loss: 0.0783 - val_mse: 0.0783 - val_mae: 0.1620 - val_rmse: 0.2798\n",
      "Epoch 20/100\n",
      "5065/5065 [==============================] - 24s 5ms/step - loss: 0.0759 - mse: 0.0759 - mae: 0.1614 - rmse: 0.2755 - val_loss: 0.0842 - val_mse: 0.0842 - val_mae: 0.1686 - val_rmse: 0.2902\n",
      "Epoch 21/100\n",
      "5065/5065 [==============================] - 23s 4ms/step - loss: 0.0747 - mse: 0.0747 - mae: 0.1600 - rmse: 0.2733 - val_loss: 0.0805 - val_mse: 0.0805 - val_mae: 0.1678 - val_rmse: 0.2838\n",
      "Epoch 22/100\n",
      "5065/5065 [==============================] - 23s 4ms/step - loss: 0.0735 - mse: 0.0735 - mae: 0.1585 - rmse: 0.2711 - val_loss: 0.0777 - val_mse: 0.0777 - val_mae: 0.1622 - val_rmse: 0.2787\n",
      "Epoch 23/100\n",
      "5065/5065 [==============================] - 23s 5ms/step - loss: 0.0720 - mse: 0.0720 - mae: 0.1573 - rmse: 0.2682 - val_loss: 0.0792 - val_mse: 0.0792 - val_mae: 0.1648 - val_rmse: 0.2815\n",
      "Epoch 24/100\n",
      "5065/5065 [==============================] - 23s 5ms/step - loss: 0.0707 - mse: 0.0707 - mae: 0.1557 - rmse: 0.2659 - val_loss: 0.0755 - val_mse: 0.0755 - val_mae: 0.1615 - val_rmse: 0.2748\n",
      "Epoch 25/100\n",
      "5065/5065 [==============================] - 23s 5ms/step - loss: 0.0695 - mse: 0.0695 - mae: 0.1545 - rmse: 0.2636 - val_loss: 0.0777 - val_mse: 0.0777 - val_mae: 0.1598 - val_rmse: 0.2788\n",
      "Epoch 26/100\n",
      "5065/5065 [==============================] - 23s 5ms/step - loss: 0.0688 - mse: 0.0688 - mae: 0.1536 - rmse: 0.2624 - val_loss: 0.0694 - val_mse: 0.0694 - val_mae: 0.1527 - val_rmse: 0.2635\n",
      "Epoch 27/100\n",
      "5065/5065 [==============================] - 24s 5ms/step - loss: 0.0677 - mse: 0.0677 - mae: 0.1522 - rmse: 0.2601 - val_loss: 0.0732 - val_mse: 0.0732 - val_mae: 0.1559 - val_rmse: 0.2705\n",
      "Epoch 28/100\n",
      "5065/5065 [==============================] - 23s 5ms/step - loss: 0.0670 - mse: 0.0670 - mae: 0.1514 - rmse: 0.2589 - val_loss: 0.0746 - val_mse: 0.0746 - val_mae: 0.1576 - val_rmse: 0.2731\n",
      "Epoch 29/100\n",
      "5065/5065 [==============================] - 25s 5ms/step - loss: 0.0663 - mse: 0.0663 - mae: 0.1508 - rmse: 0.2575 - val_loss: 0.0744 - val_mse: 0.0744 - val_mae: 0.1611 - val_rmse: 0.2728\n",
      "Epoch 30/100\n",
      "5065/5065 [==============================] - 24s 5ms/step - loss: 0.0652 - mse: 0.0652 - mae: 0.1497 - rmse: 0.2554 - val_loss: 0.0731 - val_mse: 0.0731 - val_mae: 0.1559 - val_rmse: 0.2704\n",
      "Epoch 31/100\n",
      "5065/5065 [==============================] - 23s 5ms/step - loss: 0.0644 - mse: 0.0644 - mae: 0.1488 - rmse: 0.2538 - val_loss: 0.0716 - val_mse: 0.0716 - val_mae: 0.1560 - val_rmse: 0.2676\n",
      "Epoch 32/100\n",
      "5065/5065 [==============================] - 23s 5ms/step - loss: 0.0640 - mse: 0.0640 - mae: 0.1479 - rmse: 0.2529 - val_loss: 0.0678 - val_mse: 0.0678 - val_mae: 0.1501 - val_rmse: 0.2604\n",
      "Epoch 33/100\n",
      "5065/5065 [==============================] - 22s 4ms/step - loss: 0.0631 - mse: 0.0631 - mae: 0.1469 - rmse: 0.2512 - val_loss: 0.0688 - val_mse: 0.0688 - val_mae: 0.1516 - val_rmse: 0.2623\n",
      "Epoch 34/100\n",
      "5065/5065 [==============================] - 23s 4ms/step - loss: 0.0622 - mse: 0.0622 - mae: 0.1458 - rmse: 0.2495 - val_loss: 0.0676 - val_mse: 0.0676 - val_mae: 0.1500 - val_rmse: 0.2599\n",
      "Epoch 35/100\n",
      "5065/5065 [==============================] - 23s 4ms/step - loss: 0.0618 - mse: 0.0618 - mae: 0.1454 - rmse: 0.2485 - val_loss: 0.0670 - val_mse: 0.0670 - val_mae: 0.1516 - val_rmse: 0.2588\n",
      "Epoch 36/100\n",
      "5065/5065 [==============================] - 23s 4ms/step - loss: 0.0613 - mse: 0.0613 - mae: 0.1447 - rmse: 0.2475 - val_loss: 0.0653 - val_mse: 0.0653 - val_mae: 0.1504 - val_rmse: 0.2555\n",
      "Epoch 37/100\n",
      "5065/5065 [==============================] - 23s 4ms/step - loss: 0.0605 - mse: 0.0605 - mae: 0.1442 - rmse: 0.2460 - val_loss: 0.0660 - val_mse: 0.0660 - val_mae: 0.1486 - val_rmse: 0.2570\n",
      "Epoch 38/100\n",
      "5065/5065 [==============================] - 23s 5ms/step - loss: 0.0599 - mse: 0.0599 - mae: 0.1434 - rmse: 0.2447 - val_loss: 0.0641 - val_mse: 0.0641 - val_mae: 0.1451 - val_rmse: 0.2532\n",
      "Epoch 39/100\n",
      "5065/5065 [==============================] - 24s 5ms/step - loss: 0.0593 - mse: 0.0593 - mae: 0.1426 - rmse: 0.2436 - val_loss: 0.0631 - val_mse: 0.0631 - val_mae: 0.1454 - val_rmse: 0.2512\n",
      "Epoch 40/100\n",
      "5065/5065 [==============================] - 23s 5ms/step - loss: 0.0591 - mse: 0.0591 - mae: 0.1427 - rmse: 0.2431 - val_loss: 0.0643 - val_mse: 0.0643 - val_mae: 0.1482 - val_rmse: 0.2535\n",
      "Epoch 41/100\n",
      "5065/5065 [==============================] - 23s 4ms/step - loss: 0.0586 - mse: 0.0586 - mae: 0.1422 - rmse: 0.2421 - val_loss: 0.0650 - val_mse: 0.0650 - val_mae: 0.1478 - val_rmse: 0.2550\n",
      "Epoch 42/100\n",
      "5065/5065 [==============================] - 23s 5ms/step - loss: 0.0576 - mse: 0.0576 - mae: 0.1409 - rmse: 0.2400 - val_loss: 0.0637 - val_mse: 0.0637 - val_mae: 0.1473 - val_rmse: 0.2524\n",
      "Epoch 43/100\n",
      "5065/5065 [==============================] - 23s 5ms/step - loss: 0.0571 - mse: 0.0571 - mae: 0.1401 - rmse: 0.2390 - val_loss: 0.0638 - val_mse: 0.0638 - val_mae: 0.1469 - val_rmse: 0.2526\n",
      "Epoch 44/100\n",
      "5065/5065 [==============================] - 24s 5ms/step - loss: 0.0568 - mse: 0.0568 - mae: 0.1400 - rmse: 0.2384 - val_loss: 0.0598 - val_mse: 0.0598 - val_mae: 0.1423 - val_rmse: 0.2446\n",
      "Epoch 45/100\n",
      "5065/5065 [==============================] - 24s 5ms/step - loss: 0.0565 - mse: 0.0565 - mae: 0.1398 - rmse: 0.2377 - val_loss: 0.0615 - val_mse: 0.0615 - val_mae: 0.1440 - val_rmse: 0.2480\n",
      "Epoch 46/100\n",
      "5065/5065 [==============================] - 23s 5ms/step - loss: 0.0562 - mse: 0.0562 - mae: 0.1392 - rmse: 0.2371 - val_loss: 0.0712 - val_mse: 0.0712 - val_mae: 0.1558 - val_rmse: 0.2669\n",
      "Epoch 47/100\n",
      "5065/5065 [==============================] - 22s 4ms/step - loss: 0.0554 - mse: 0.0554 - mae: 0.1384 - rmse: 0.2354 - val_loss: 0.0610 - val_mse: 0.0610 - val_mae: 0.1452 - val_rmse: 0.2470\n",
      "Epoch 48/100\n",
      "5065/5065 [==============================] - 22s 4ms/step - loss: 0.0552 - mse: 0.0552 - mae: 0.1380 - rmse: 0.2350 - val_loss: 0.0590 - val_mse: 0.0590 - val_mae: 0.1399 - val_rmse: 0.2429\n",
      "Epoch 49/100\n",
      "5065/5065 [==============================] - 22s 4ms/step - loss: 0.0548 - mse: 0.0548 - mae: 0.1376 - rmse: 0.2341 - val_loss: 0.0600 - val_mse: 0.0600 - val_mae: 0.1433 - val_rmse: 0.2450\n",
      "Epoch 50/100\n",
      "5065/5065 [==============================] - 21s 4ms/step - loss: 0.0545 - mse: 0.0545 - mae: 0.1372 - rmse: 0.2334 - val_loss: 0.0631 - val_mse: 0.0631 - val_mae: 0.1439 - val_rmse: 0.2512\n",
      "Epoch 51/100\n",
      "5065/5065 [==============================] - 21s 4ms/step - loss: 0.0538 - mse: 0.0538 - mae: 0.1365 - rmse: 0.2319 - val_loss: 0.0599 - val_mse: 0.0599 - val_mae: 0.1445 - val_rmse: 0.2448\n",
      "Epoch 52/100\n",
      "5065/5065 [==============================] - 22s 4ms/step - loss: 0.0536 - mse: 0.0536 - mae: 0.1360 - rmse: 0.2314 - val_loss: 0.0588 - val_mse: 0.0588 - val_mae: 0.1402 - val_rmse: 0.2425\n",
      "Epoch 53/100\n",
      "5065/5065 [==============================] - 22s 4ms/step - loss: 0.0537 - mse: 0.0537 - mae: 0.1362 - rmse: 0.2318 - val_loss: 0.0625 - val_mse: 0.0625 - val_mae: 0.1468 - val_rmse: 0.2500\n",
      "Epoch 54/100\n",
      "5065/5065 [==============================] - 21s 4ms/step - loss: 0.0529 - mse: 0.0529 - mae: 0.1352 - rmse: 0.2300 - val_loss: 0.0579 - val_mse: 0.0579 - val_mae: 0.1390 - val_rmse: 0.2406\n",
      "Epoch 55/100\n",
      "5065/5065 [==============================] - 22s 4ms/step - loss: 0.0526 - mse: 0.0526 - mae: 0.1348 - rmse: 0.2295 - val_loss: 0.0580 - val_mse: 0.0580 - val_mae: 0.1400 - val_rmse: 0.2408\n",
      "Epoch 56/100\n",
      "5065/5065 [==============================] - 21s 4ms/step - loss: 0.0531 - mse: 0.0531 - mae: 0.1355 - rmse: 0.2304 - val_loss: 0.0577 - val_mse: 0.0577 - val_mae: 0.1380 - val_rmse: 0.2402\n",
      "Epoch 57/100\n",
      "5065/5065 [==============================] - 22s 4ms/step - loss: 0.0522 - mse: 0.0522 - mae: 0.1345 - rmse: 0.2284 - val_loss: 0.0583 - val_mse: 0.0583 - val_mae: 0.1388 - val_rmse: 0.2415\n",
      "Epoch 58/100\n",
      "5065/5065 [==============================] - 22s 4ms/step - loss: 0.0521 - mse: 0.0521 - mae: 0.1345 - rmse: 0.2284 - val_loss: 0.0594 - val_mse: 0.0594 - val_mae: 0.1458 - val_rmse: 0.2436\n",
      "Epoch 59/100\n",
      "5065/5065 [==============================] - 22s 4ms/step - loss: 0.0516 - mse: 0.0516 - mae: 0.1339 - rmse: 0.2272 - val_loss: 0.0574 - val_mse: 0.0574 - val_mae: 0.1401 - val_rmse: 0.2395\n",
      "Epoch 60/100\n",
      "5065/5065 [==============================] - 21s 4ms/step - loss: 0.0513 - mse: 0.0513 - mae: 0.1338 - rmse: 0.2266 - val_loss: 0.0583 - val_mse: 0.0583 - val_mae: 0.1414 - val_rmse: 0.2414\n",
      "Epoch 61/100\n",
      "5065/5065 [==============================] - 23s 4ms/step - loss: 0.0513 - mse: 0.0513 - mae: 0.1336 - rmse: 0.2264 - val_loss: 0.0574 - val_mse: 0.0574 - val_mae: 0.1395 - val_rmse: 0.2396\n",
      "Epoch 62/100\n",
      "5065/5065 [==============================] - 21s 4ms/step - loss: 0.0510 - mse: 0.0510 - mae: 0.1335 - rmse: 0.2258 - val_loss: 0.0559 - val_mse: 0.0559 - val_mae: 0.1417 - val_rmse: 0.2365\n",
      "Epoch 63/100\n",
      "5065/5065 [==============================] - 22s 4ms/step - loss: 0.0507 - mse: 0.0507 - mae: 0.1330 - rmse: 0.2252 - val_loss: 0.0556 - val_mse: 0.0556 - val_mae: 0.1370 - val_rmse: 0.2357\n",
      "Epoch 64/100\n",
      "5065/5065 [==============================] - 21s 4ms/step - loss: 0.0505 - mse: 0.0505 - mae: 0.1327 - rmse: 0.2246 - val_loss: 0.0598 - val_mse: 0.0598 - val_mae: 0.1449 - val_rmse: 0.2445\n",
      "Epoch 65/100\n",
      "5065/5065 [==============================] - 21s 4ms/step - loss: 0.0504 - mse: 0.0504 - mae: 0.1325 - rmse: 0.2245 - val_loss: 0.0557 - val_mse: 0.0557 - val_mae: 0.1398 - val_rmse: 0.2360\n",
      "Epoch 66/100\n",
      "5065/5065 [==============================] - 22s 4ms/step - loss: 0.0501 - mse: 0.0501 - mae: 0.1323 - rmse: 0.2238 - val_loss: 0.0576 - val_mse: 0.0576 - val_mae: 0.1393 - val_rmse: 0.2399\n",
      "Epoch 67/100\n",
      "5065/5065 [==============================] - 21s 4ms/step - loss: 0.0498 - mse: 0.0498 - mae: 0.1321 - rmse: 0.2232 - val_loss: 0.0591 - val_mse: 0.0591 - val_mae: 0.1447 - val_rmse: 0.2431\n",
      "Epoch 68/100\n",
      "5065/5065 [==============================] - 21s 4ms/step - loss: 0.0494 - mse: 0.0494 - mae: 0.1315 - rmse: 0.2223 - val_loss: 0.0568 - val_mse: 0.0568 - val_mae: 0.1386 - val_rmse: 0.2383\n",
      "Epoch 69/100\n",
      "5065/5065 [==============================] - 22s 4ms/step - loss: 0.0494 - mse: 0.0494 - mae: 0.1315 - rmse: 0.2223 - val_loss: 0.0542 - val_mse: 0.0542 - val_mae: 0.1348 - val_rmse: 0.2329\n",
      "Epoch 70/100\n",
      "5065/5065 [==============================] - 22s 4ms/step - loss: 0.0491 - mse: 0.0491 - mae: 0.1310 - rmse: 0.2216 - val_loss: 0.0540 - val_mse: 0.0540 - val_mae: 0.1371 - val_rmse: 0.2324\n",
      "Epoch 71/100\n",
      "5065/5065 [==============================] - 22s 4ms/step - loss: 0.0492 - mse: 0.0492 - mae: 0.1313 - rmse: 0.2217 - val_loss: 0.0548 - val_mse: 0.0548 - val_mae: 0.1381 - val_rmse: 0.2342\n",
      "Epoch 72/100\n",
      "5065/5065 [==============================] - 21s 4ms/step - loss: 0.0491 - mse: 0.0491 - mae: 0.1310 - rmse: 0.2216 - val_loss: 0.0544 - val_mse: 0.0544 - val_mae: 0.1366 - val_rmse: 0.2332\n",
      "Epoch 73/100\n",
      "5065/5065 [==============================] - 22s 4ms/step - loss: 0.0488 - mse: 0.0488 - mae: 0.1310 - rmse: 0.2210 - val_loss: 0.0534 - val_mse: 0.0534 - val_mae: 0.1331 - val_rmse: 0.2312\n",
      "Epoch 74/100\n",
      "5065/5065 [==============================] - 21s 4ms/step - loss: 0.0487 - mse: 0.0487 - mae: 0.1306 - rmse: 0.2207 - val_loss: 0.0538 - val_mse: 0.0538 - val_mae: 0.1361 - val_rmse: 0.2320\n",
      "Epoch 75/100\n",
      "5065/5065 [==============================] - 21s 4ms/step - loss: 0.0486 - mse: 0.0486 - mae: 0.1307 - rmse: 0.2204 - val_loss: 0.0551 - val_mse: 0.0551 - val_mae: 0.1392 - val_rmse: 0.2348\n",
      "Epoch 76/100\n",
      "5065/5065 [==============================] - 21s 4ms/step - loss: 0.0485 - mse: 0.0485 - mae: 0.1305 - rmse: 0.2203 - val_loss: 0.0534 - val_mse: 0.0534 - val_mae: 0.1395 - val_rmse: 0.2310\n",
      "Epoch 77/100\n",
      "5065/5065 [==============================] - 21s 4ms/step - loss: 0.0483 - mse: 0.0483 - mae: 0.1303 - rmse: 0.2198 - val_loss: 0.0549 - val_mse: 0.0549 - val_mae: 0.1369 - val_rmse: 0.2344\n",
      "Epoch 78/100\n",
      "5065/5065 [==============================] - 21s 4ms/step - loss: 0.0480 - mse: 0.0480 - mae: 0.1297 - rmse: 0.2192 - val_loss: 0.0538 - val_mse: 0.0538 - val_mae: 0.1359 - val_rmse: 0.2319\n",
      "Epoch 79/100\n",
      "5065/5065 [==============================] - 21s 4ms/step - loss: 0.0479 - mse: 0.0479 - mae: 0.1299 - rmse: 0.2190 - val_loss: 0.0529 - val_mse: 0.0529 - val_mae: 0.1346 - val_rmse: 0.2299\n",
      "Epoch 80/100\n",
      "5065/5065 [==============================] - 21s 4ms/step - loss: 0.0478 - mse: 0.0478 - mae: 0.1298 - rmse: 0.2186 - val_loss: 0.0546 - val_mse: 0.0546 - val_mae: 0.1372 - val_rmse: 0.2336\n",
      "Epoch 81/100\n",
      "5065/5065 [==============================] - 22s 4ms/step - loss: 0.0475 - mse: 0.0475 - mae: 0.1293 - rmse: 0.2179 - val_loss: 0.0521 - val_mse: 0.0521 - val_mae: 0.1324 - val_rmse: 0.2283\n",
      "Epoch 82/100\n",
      "5065/5065 [==============================] - 22s 4ms/step - loss: 0.0474 - mse: 0.0474 - mae: 0.1294 - rmse: 0.2176 - val_loss: 0.0534 - val_mse: 0.0534 - val_mae: 0.1357 - val_rmse: 0.2311\n",
      "Epoch 83/100\n",
      "5065/5065 [==============================] - 22s 4ms/step - loss: 0.0475 - mse: 0.0475 - mae: 0.1292 - rmse: 0.2180 - val_loss: 0.0562 - val_mse: 0.0562 - val_mae: 0.1389 - val_rmse: 0.2371\n",
      "Epoch 84/100\n",
      "5065/5065 [==============================] - 21s 4ms/step - loss: 0.0467 - mse: 0.0467 - mae: 0.1285 - rmse: 0.2162 - val_loss: 0.0516 - val_mse: 0.0516 - val_mae: 0.1344 - val_rmse: 0.2271\n",
      "Epoch 85/100\n",
      "5065/5065 [==============================] - 22s 4ms/step - loss: 0.0470 - mse: 0.0470 - mae: 0.1286 - rmse: 0.2168 - val_loss: 0.0544 - val_mse: 0.0544 - val_mae: 0.1366 - val_rmse: 0.2332\n",
      "Epoch 86/100\n",
      "5065/5065 [==============================] - 22s 4ms/step - loss: 0.0466 - mse: 0.0466 - mae: 0.1282 - rmse: 0.2159 - val_loss: 0.0526 - val_mse: 0.0526 - val_mae: 0.1352 - val_rmse: 0.2293\n",
      "Epoch 87/100\n",
      "5065/5065 [==============================] - 21s 4ms/step - loss: 0.0465 - mse: 0.0465 - mae: 0.1282 - rmse: 0.2156 - val_loss: 0.0546 - val_mse: 0.0546 - val_mae: 0.1383 - val_rmse: 0.2338\n",
      "Epoch 88/100\n",
      "5065/5065 [==============================] - 21s 4ms/step - loss: 0.0463 - mse: 0.0463 - mae: 0.1282 - rmse: 0.2152 - val_loss: 0.0544 - val_mse: 0.0544 - val_mae: 0.1370 - val_rmse: 0.2333\n",
      "Epoch 89/100\n",
      "5065/5065 [==============================] - 22s 4ms/step - loss: 0.0463 - mse: 0.0463 - mae: 0.1279 - rmse: 0.2153 - val_loss: 0.0519 - val_mse: 0.0519 - val_mae: 0.1326 - val_rmse: 0.2279\n",
      "Epoch 90/100\n",
      "5065/5065 [==============================] - 21s 4ms/step - loss: 0.0461 - mse: 0.0461 - mae: 0.1278 - rmse: 0.2146 - val_loss: 0.0550 - val_mse: 0.0550 - val_mae: 0.1357 - val_rmse: 0.2345\n",
      "Epoch 91/100\n",
      "5065/5065 [==============================] - 22s 4ms/step - loss: 0.0461 - mse: 0.0461 - mae: 0.1280 - rmse: 0.2148 - val_loss: 0.0529 - val_mse: 0.0529 - val_mae: 0.1331 - val_rmse: 0.2301\n",
      "Epoch 92/100\n",
      "5065/5065 [==============================] - 22s 4ms/step - loss: 0.0462 - mse: 0.0462 - mae: 0.1278 - rmse: 0.2149 - val_loss: 0.0509 - val_mse: 0.0509 - val_mae: 0.1325 - val_rmse: 0.2256\n",
      "Epoch 93/100\n",
      "5065/5065 [==============================] - 22s 4ms/step - loss: 0.0460 - mse: 0.0460 - mae: 0.1278 - rmse: 0.2144 - val_loss: 0.0516 - val_mse: 0.0516 - val_mae: 0.1318 - val_rmse: 0.2271\n",
      "Epoch 94/100\n",
      "5065/5065 [==============================] - 22s 4ms/step - loss: 0.0456 - mse: 0.0456 - mae: 0.1271 - rmse: 0.2135 - val_loss: 0.0514 - val_mse: 0.0514 - val_mae: 0.1347 - val_rmse: 0.2266\n",
      "Epoch 95/100\n",
      "5065/5065 [==============================] - 22s 4ms/step - loss: 0.0455 - mse: 0.0455 - mae: 0.1271 - rmse: 0.2133 - val_loss: 0.0522 - val_mse: 0.0522 - val_mae: 0.1339 - val_rmse: 0.2284\n",
      "Epoch 96/100\n",
      "5065/5065 [==============================] - 22s 4ms/step - loss: 0.0453 - mse: 0.0453 - mae: 0.1267 - rmse: 0.2129 - val_loss: 0.0518 - val_mse: 0.0518 - val_mae: 0.1312 - val_rmse: 0.2275\n",
      "Epoch 97/100\n",
      "5065/5065 [==============================] - 22s 4ms/step - loss: 0.0455 - mse: 0.0455 - mae: 0.1270 - rmse: 0.2132 - val_loss: 0.0500 - val_mse: 0.0500 - val_mae: 0.1309 - val_rmse: 0.2237\n",
      "Epoch 98/100\n",
      "5065/5065 [==============================] - 22s 4ms/step - loss: 0.0453 - mse: 0.0453 - mae: 0.1271 - rmse: 0.2127 - val_loss: 0.0514 - val_mse: 0.0514 - val_mae: 0.1327 - val_rmse: 0.2267\n",
      "Epoch 99/100\n",
      "5065/5065 [==============================] - 22s 4ms/step - loss: 0.0450 - mse: 0.0450 - mae: 0.1264 - rmse: 0.2122 - val_loss: 0.0523 - val_mse: 0.0523 - val_mae: 0.1355 - val_rmse: 0.2288\n",
      "Epoch 100/100\n",
      "5065/5065 [==============================] - 22s 4ms/step - loss: 0.0451 - mse: 0.0451 - mae: 0.1266 - rmse: 0.2124 - val_loss: 0.0498 - val_mse: 0.0498 - val_mae: 0.1302 - val_rmse: 0.2231\n"
     ]
    },
    {
     "output_type": "display_data",
     "data": {
      "text/plain": "<Figure size 576x432 with 1 Axes>",
      "image/svg+xml": "<?xml version=\"1.0\" encoding=\"utf-8\" standalone=\"no\"?>\r\n<!DOCTYPE svg PUBLIC \"-//W3C//DTD SVG 1.1//EN\"\r\n  \"http://www.w3.org/Graphics/SVG/1.1/DTD/svg11.dtd\">\r\n<svg height=\"372.35625pt\" version=\"1.1\" viewBox=\"0 0 490.065625 372.35625\" width=\"490.065625pt\" xmlns=\"http://www.w3.org/2000/svg\" xmlns:xlink=\"http://www.w3.org/1999/xlink\">\r\n <metadata>\r\n  <rdf:RDF xmlns:cc=\"http://creativecommons.org/ns#\" xmlns:dc=\"http://purl.org/dc/elements/1.1/\" xmlns:rdf=\"http://www.w3.org/1999/02/22-rdf-syntax-ns#\">\r\n   <cc:Work>\r\n    <dc:type rdf:resource=\"http://purl.org/dc/dcmitype/StillImage\"/>\r\n    <dc:date>2021-05-25T00:23:25.471873</dc:date>\r\n    <dc:format>image/svg+xml</dc:format>\r\n    <dc:creator>\r\n     <cc:Agent>\r\n      <dc:title>Matplotlib v3.4.2, https://matplotlib.org/</dc:title>\r\n     </cc:Agent>\r\n    </dc:creator>\r\n   </cc:Work>\r\n  </rdf:RDF>\r\n </metadata>\r\n <defs>\r\n  <style type=\"text/css\">*{stroke-linecap:butt;stroke-linejoin:round;}</style>\r\n </defs>\r\n <g id=\"figure_1\">\r\n  <g id=\"patch_1\">\r\n   <path d=\"M 0 372.35625 \r\nL 490.065625 372.35625 \r\nL 490.065625 0 \r\nL 0 0 \r\nz\r\n\" style=\"fill:none;\"/>\r\n  </g>\r\n  <g id=\"axes_1\">\r\n   <g id=\"patch_2\">\r\n    <path d=\"M 36.465625 348.478125 \r\nL 482.865625 348.478125 \r\nL 482.865625 22.318125 \r\nL 36.465625 22.318125 \r\nz\r\n\" style=\"fill:#ffffff;\"/>\r\n   </g>\r\n   <g id=\"matplotlib.axis_1\">\r\n    <g id=\"xtick_1\">\r\n     <g id=\"line2d_1\">\r\n      <defs>\r\n       <path d=\"M 0 0 \r\nL 0 3.5 \r\n\" id=\"mf6f066894f\" style=\"stroke:#000000;stroke-width:0.8;\"/>\r\n      </defs>\r\n      <g>\r\n       <use style=\"stroke:#000000;stroke-width:0.8;\" x=\"56.756534\" xlink:href=\"#mf6f066894f\" y=\"348.478125\"/>\r\n      </g>\r\n     </g>\r\n     <g id=\"text_1\">\r\n      <!-- 0 -->\r\n      <g transform=\"translate(53.575284 363.076563)scale(0.1 -0.1)\">\r\n       <defs>\r\n        <path d=\"M 2034 4250 \r\nQ 1547 4250 1301 3770 \r\nQ 1056 3291 1056 2328 \r\nQ 1056 1369 1301 889 \r\nQ 1547 409 2034 409 \r\nQ 2525 409 2770 889 \r\nQ 3016 1369 3016 2328 \r\nQ 3016 3291 2770 3770 \r\nQ 2525 4250 2034 4250 \r\nz\r\nM 2034 4750 \r\nQ 2819 4750 3233 4129 \r\nQ 3647 3509 3647 2328 \r\nQ 3647 1150 3233 529 \r\nQ 2819 -91 2034 -91 \r\nQ 1250 -91 836 529 \r\nQ 422 1150 422 2328 \r\nQ 422 3509 836 4129 \r\nQ 1250 4750 2034 4750 \r\nz\r\n\" id=\"DejaVuSans-30\" transform=\"scale(0.015625)\"/>\r\n       </defs>\r\n       <use xlink:href=\"#DejaVuSans-30\"/>\r\n      </g>\r\n     </g>\r\n    </g>\r\n    <g id=\"xtick_2\">\r\n     <g id=\"line2d_2\">\r\n      <g>\r\n       <use style=\"stroke:#000000;stroke-width:0.8;\" x=\"138.740005\" xlink:href=\"#mf6f066894f\" y=\"348.478125\"/>\r\n      </g>\r\n     </g>\r\n     <g id=\"text_2\">\r\n      <!-- 20 -->\r\n      <g transform=\"translate(132.377505 363.076563)scale(0.1 -0.1)\">\r\n       <defs>\r\n        <path d=\"M 1228 531 \r\nL 3431 531 \r\nL 3431 0 \r\nL 469 0 \r\nL 469 531 \r\nQ 828 903 1448 1529 \r\nQ 2069 2156 2228 2338 \r\nQ 2531 2678 2651 2914 \r\nQ 2772 3150 2772 3378 \r\nQ 2772 3750 2511 3984 \r\nQ 2250 4219 1831 4219 \r\nQ 1534 4219 1204 4116 \r\nQ 875 4013 500 3803 \r\nL 500 4441 \r\nQ 881 4594 1212 4672 \r\nQ 1544 4750 1819 4750 \r\nQ 2544 4750 2975 4387 \r\nQ 3406 4025 3406 3419 \r\nQ 3406 3131 3298 2873 \r\nQ 3191 2616 2906 2266 \r\nQ 2828 2175 2409 1742 \r\nQ 1991 1309 1228 531 \r\nz\r\n\" id=\"DejaVuSans-32\" transform=\"scale(0.015625)\"/>\r\n       </defs>\r\n       <use xlink:href=\"#DejaVuSans-32\"/>\r\n       <use x=\"63.623047\" xlink:href=\"#DejaVuSans-30\"/>\r\n      </g>\r\n     </g>\r\n    </g>\r\n    <g id=\"xtick_3\">\r\n     <g id=\"line2d_3\">\r\n      <g>\r\n       <use style=\"stroke:#000000;stroke-width:0.8;\" x=\"220.723476\" xlink:href=\"#mf6f066894f\" y=\"348.478125\"/>\r\n      </g>\r\n     </g>\r\n     <g id=\"text_3\">\r\n      <!-- 40 -->\r\n      <g transform=\"translate(214.360976 363.076563)scale(0.1 -0.1)\">\r\n       <defs>\r\n        <path d=\"M 2419 4116 \r\nL 825 1625 \r\nL 2419 1625 \r\nL 2419 4116 \r\nz\r\nM 2253 4666 \r\nL 3047 4666 \r\nL 3047 1625 \r\nL 3713 1625 \r\nL 3713 1100 \r\nL 3047 1100 \r\nL 3047 0 \r\nL 2419 0 \r\nL 2419 1100 \r\nL 313 1100 \r\nL 313 1709 \r\nL 2253 4666 \r\nz\r\n\" id=\"DejaVuSans-34\" transform=\"scale(0.015625)\"/>\r\n       </defs>\r\n       <use xlink:href=\"#DejaVuSans-34\"/>\r\n       <use x=\"63.623047\" xlink:href=\"#DejaVuSans-30\"/>\r\n      </g>\r\n     </g>\r\n    </g>\r\n    <g id=\"xtick_4\">\r\n     <g id=\"line2d_4\">\r\n      <g>\r\n       <use style=\"stroke:#000000;stroke-width:0.8;\" x=\"302.706947\" xlink:href=\"#mf6f066894f\" y=\"348.478125\"/>\r\n      </g>\r\n     </g>\r\n     <g id=\"text_4\">\r\n      <!-- 60 -->\r\n      <g transform=\"translate(296.344447 363.076563)scale(0.1 -0.1)\">\r\n       <defs>\r\n        <path d=\"M 2113 2584 \r\nQ 1688 2584 1439 2293 \r\nQ 1191 2003 1191 1497 \r\nQ 1191 994 1439 701 \r\nQ 1688 409 2113 409 \r\nQ 2538 409 2786 701 \r\nQ 3034 994 3034 1497 \r\nQ 3034 2003 2786 2293 \r\nQ 2538 2584 2113 2584 \r\nz\r\nM 3366 4563 \r\nL 3366 3988 \r\nQ 3128 4100 2886 4159 \r\nQ 2644 4219 2406 4219 \r\nQ 1781 4219 1451 3797 \r\nQ 1122 3375 1075 2522 \r\nQ 1259 2794 1537 2939 \r\nQ 1816 3084 2150 3084 \r\nQ 2853 3084 3261 2657 \r\nQ 3669 2231 3669 1497 \r\nQ 3669 778 3244 343 \r\nQ 2819 -91 2113 -91 \r\nQ 1303 -91 875 529 \r\nQ 447 1150 447 2328 \r\nQ 447 3434 972 4092 \r\nQ 1497 4750 2381 4750 \r\nQ 2619 4750 2861 4703 \r\nQ 3103 4656 3366 4563 \r\nz\r\n\" id=\"DejaVuSans-36\" transform=\"scale(0.015625)\"/>\r\n       </defs>\r\n       <use xlink:href=\"#DejaVuSans-36\"/>\r\n       <use x=\"63.623047\" xlink:href=\"#DejaVuSans-30\"/>\r\n      </g>\r\n     </g>\r\n    </g>\r\n    <g id=\"xtick_5\">\r\n     <g id=\"line2d_5\">\r\n      <g>\r\n       <use style=\"stroke:#000000;stroke-width:0.8;\" x=\"384.690418\" xlink:href=\"#mf6f066894f\" y=\"348.478125\"/>\r\n      </g>\r\n     </g>\r\n     <g id=\"text_5\">\r\n      <!-- 80 -->\r\n      <g transform=\"translate(378.327918 363.076563)scale(0.1 -0.1)\">\r\n       <defs>\r\n        <path d=\"M 2034 2216 \r\nQ 1584 2216 1326 1975 \r\nQ 1069 1734 1069 1313 \r\nQ 1069 891 1326 650 \r\nQ 1584 409 2034 409 \r\nQ 2484 409 2743 651 \r\nQ 3003 894 3003 1313 \r\nQ 3003 1734 2745 1975 \r\nQ 2488 2216 2034 2216 \r\nz\r\nM 1403 2484 \r\nQ 997 2584 770 2862 \r\nQ 544 3141 544 3541 \r\nQ 544 4100 942 4425 \r\nQ 1341 4750 2034 4750 \r\nQ 2731 4750 3128 4425 \r\nQ 3525 4100 3525 3541 \r\nQ 3525 3141 3298 2862 \r\nQ 3072 2584 2669 2484 \r\nQ 3125 2378 3379 2068 \r\nQ 3634 1759 3634 1313 \r\nQ 3634 634 3220 271 \r\nQ 2806 -91 2034 -91 \r\nQ 1263 -91 848 271 \r\nQ 434 634 434 1313 \r\nQ 434 1759 690 2068 \r\nQ 947 2378 1403 2484 \r\nz\r\nM 1172 3481 \r\nQ 1172 3119 1398 2916 \r\nQ 1625 2713 2034 2713 \r\nQ 2441 2713 2670 2916 \r\nQ 2900 3119 2900 3481 \r\nQ 2900 3844 2670 4047 \r\nQ 2441 4250 2034 4250 \r\nQ 1625 4250 1398 4047 \r\nQ 1172 3844 1172 3481 \r\nz\r\n\" id=\"DejaVuSans-38\" transform=\"scale(0.015625)\"/>\r\n       </defs>\r\n       <use xlink:href=\"#DejaVuSans-38\"/>\r\n       <use x=\"63.623047\" xlink:href=\"#DejaVuSans-30\"/>\r\n      </g>\r\n     </g>\r\n    </g>\r\n    <g id=\"xtick_6\">\r\n     <g id=\"line2d_6\">\r\n      <g>\r\n       <use style=\"stroke:#000000;stroke-width:0.8;\" x=\"466.673889\" xlink:href=\"#mf6f066894f\" y=\"348.478125\"/>\r\n      </g>\r\n     </g>\r\n     <g id=\"text_6\">\r\n      <!-- 100 -->\r\n      <g transform=\"translate(457.130139 363.076563)scale(0.1 -0.1)\">\r\n       <defs>\r\n        <path d=\"M 794 531 \r\nL 1825 531 \r\nL 1825 4091 \r\nL 703 3866 \r\nL 703 4441 \r\nL 1819 4666 \r\nL 2450 4666 \r\nL 2450 531 \r\nL 3481 531 \r\nL 3481 0 \r\nL 794 0 \r\nL 794 531 \r\nz\r\n\" id=\"DejaVuSans-31\" transform=\"scale(0.015625)\"/>\r\n       </defs>\r\n       <use xlink:href=\"#DejaVuSans-31\"/>\r\n       <use x=\"63.623047\" xlink:href=\"#DejaVuSans-30\"/>\r\n       <use x=\"127.246094\" xlink:href=\"#DejaVuSans-30\"/>\r\n      </g>\r\n     </g>\r\n    </g>\r\n   </g>\r\n   <g id=\"matplotlib.axis_2\">\r\n    <g id=\"ytick_1\">\r\n     <g id=\"line2d_7\">\r\n      <defs>\r\n       <path d=\"M 0 0 \r\nL -3.5 0 \r\n\" id=\"m3175704e0f\" style=\"stroke:#000000;stroke-width:0.8;\"/>\r\n      </defs>\r\n      <g>\r\n       <use style=\"stroke:#000000;stroke-width:0.8;\" x=\"36.465625\" xlink:href=\"#m3175704e0f\" y=\"327.333042\"/>\r\n      </g>\r\n     </g>\r\n     <g id=\"text_7\">\r\n      <!-- 0.05 -->\r\n      <g transform=\"translate(7.2 331.132261)scale(0.1 -0.1)\">\r\n       <defs>\r\n        <path d=\"M 684 794 \r\nL 1344 794 \r\nL 1344 0 \r\nL 684 0 \r\nL 684 794 \r\nz\r\n\" id=\"DejaVuSans-2e\" transform=\"scale(0.015625)\"/>\r\n        <path d=\"M 691 4666 \r\nL 3169 4666 \r\nL 3169 4134 \r\nL 1269 4134 \r\nL 1269 2991 \r\nQ 1406 3038 1543 3061 \r\nQ 1681 3084 1819 3084 \r\nQ 2600 3084 3056 2656 \r\nQ 3513 2228 3513 1497 \r\nQ 3513 744 3044 326 \r\nQ 2575 -91 1722 -91 \r\nQ 1428 -91 1123 -41 \r\nQ 819 9 494 109 \r\nL 494 744 \r\nQ 775 591 1075 516 \r\nQ 1375 441 1709 441 \r\nQ 2250 441 2565 725 \r\nQ 2881 1009 2881 1497 \r\nQ 2881 1984 2565 2268 \r\nQ 2250 2553 1709 2553 \r\nQ 1456 2553 1204 2497 \r\nQ 953 2441 691 2322 \r\nL 691 4666 \r\nz\r\n\" id=\"DejaVuSans-35\" transform=\"scale(0.015625)\"/>\r\n       </defs>\r\n       <use xlink:href=\"#DejaVuSans-30\"/>\r\n       <use x=\"63.623047\" xlink:href=\"#DejaVuSans-2e\"/>\r\n       <use x=\"95.410156\" xlink:href=\"#DejaVuSans-30\"/>\r\n       <use x=\"159.033203\" xlink:href=\"#DejaVuSans-35\"/>\r\n      </g>\r\n     </g>\r\n    </g>\r\n    <g id=\"ytick_2\">\r\n     <g id=\"line2d_8\">\r\n      <g>\r\n       <use style=\"stroke:#000000;stroke-width:0.8;\" x=\"36.465625\" xlink:href=\"#m3175704e0f\" y=\"263.964506\"/>\r\n      </g>\r\n     </g>\r\n     <g id=\"text_8\">\r\n      <!-- 0.10 -->\r\n      <g transform=\"translate(7.2 267.763725)scale(0.1 -0.1)\">\r\n       <use xlink:href=\"#DejaVuSans-30\"/>\r\n       <use x=\"63.623047\" xlink:href=\"#DejaVuSans-2e\"/>\r\n       <use x=\"95.410156\" xlink:href=\"#DejaVuSans-31\"/>\r\n       <use x=\"159.033203\" xlink:href=\"#DejaVuSans-30\"/>\r\n      </g>\r\n     </g>\r\n    </g>\r\n    <g id=\"ytick_3\">\r\n     <g id=\"line2d_9\">\r\n      <g>\r\n       <use style=\"stroke:#000000;stroke-width:0.8;\" x=\"36.465625\" xlink:href=\"#m3175704e0f\" y=\"200.59597\"/>\r\n      </g>\r\n     </g>\r\n     <g id=\"text_9\">\r\n      <!-- 0.15 -->\r\n      <g transform=\"translate(7.2 204.395189)scale(0.1 -0.1)\">\r\n       <use xlink:href=\"#DejaVuSans-30\"/>\r\n       <use x=\"63.623047\" xlink:href=\"#DejaVuSans-2e\"/>\r\n       <use x=\"95.410156\" xlink:href=\"#DejaVuSans-31\"/>\r\n       <use x=\"159.033203\" xlink:href=\"#DejaVuSans-35\"/>\r\n      </g>\r\n     </g>\r\n    </g>\r\n    <g id=\"ytick_4\">\r\n     <g id=\"line2d_10\">\r\n      <g>\r\n       <use style=\"stroke:#000000;stroke-width:0.8;\" x=\"36.465625\" xlink:href=\"#m3175704e0f\" y=\"137.227434\"/>\r\n      </g>\r\n     </g>\r\n     <g id=\"text_10\">\r\n      <!-- 0.20 -->\r\n      <g transform=\"translate(7.2 141.026653)scale(0.1 -0.1)\">\r\n       <use xlink:href=\"#DejaVuSans-30\"/>\r\n       <use x=\"63.623047\" xlink:href=\"#DejaVuSans-2e\"/>\r\n       <use x=\"95.410156\" xlink:href=\"#DejaVuSans-32\"/>\r\n       <use x=\"159.033203\" xlink:href=\"#DejaVuSans-30\"/>\r\n      </g>\r\n     </g>\r\n    </g>\r\n    <g id=\"ytick_5\">\r\n     <g id=\"line2d_11\">\r\n      <g>\r\n       <use style=\"stroke:#000000;stroke-width:0.8;\" x=\"36.465625\" xlink:href=\"#m3175704e0f\" y=\"73.858898\"/>\r\n      </g>\r\n     </g>\r\n     <g id=\"text_11\">\r\n      <!-- 0.25 -->\r\n      <g transform=\"translate(7.2 77.658117)scale(0.1 -0.1)\">\r\n       <use xlink:href=\"#DejaVuSans-30\"/>\r\n       <use x=\"63.623047\" xlink:href=\"#DejaVuSans-2e\"/>\r\n       <use x=\"95.410156\" xlink:href=\"#DejaVuSans-32\"/>\r\n       <use x=\"159.033203\" xlink:href=\"#DejaVuSans-35\"/>\r\n      </g>\r\n     </g>\r\n    </g>\r\n   </g>\r\n   <g id=\"line2d_12\">\r\n    <path clip-path=\"url(#p319ca874e4)\" d=\"M 56.756534 37.14358 \r\nL 60.855708 143.729656 \r\nL 64.954881 183.308477 \r\nL 69.054055 205.254455 \r\nL 73.153228 222.439658 \r\nL 77.252402 234.102225 \r\nL 81.351575 243.323575 \r\nL 85.450749 251.188612 \r\nL 89.549923 258.436948 \r\nL 93.649096 263.694558 \r\nL 97.74827 267.789428 \r\nL 101.847443 271.851127 \r\nL 105.946617 275.814961 \r\nL 110.04579 279.357437 \r\nL 114.144964 282.05776 \r\nL 118.244137 285.262604 \r\nL 122.343311 287.830834 \r\nL 126.442485 290.314619 \r\nL 130.541658 292.781851 \r\nL 134.640832 294.504624 \r\nL 138.740005 296.072198 \r\nL 142.839179 297.574325 \r\nL 146.938352 299.509747 \r\nL 151.037526 301.070692 \r\nL 155.136699 302.67157 \r\nL 159.235873 303.465564 \r\nL 163.335046 304.962734 \r\nL 167.43422 305.753556 \r\nL 171.533394 306.666254 \r\nL 175.632567 308.059941 \r\nL 179.731741 309.066235 \r\nL 183.830914 309.619952 \r\nL 187.930088 310.746903 \r\nL 192.029261 311.808035 \r\nL 196.128435 312.424012 \r\nL 200.227608 313.050952 \r\nL 204.326782 314.010958 \r\nL 208.425956 314.797931 \r\nL 212.525129 315.521531 \r\nL 216.624303 315.832345 \r\nL 220.723476 316.410934 \r\nL 224.82265 317.676735 \r\nL 228.921823 318.319798 \r\nL 233.020997 318.659998 \r\nL 237.12017 319.101942 \r\nL 241.219344 319.445541 \r\nL 245.318518 320.472217 \r\nL 249.417691 320.715294 \r\nL 253.516865 321.222473 \r\nL 257.616038 321.648265 \r\nL 261.715212 322.568485 \r\nL 265.814385 322.812893 \r\nL 269.913559 322.596935 \r\nL 274.012732 323.672004 \r\nL 278.111906 323.975194 \r\nL 282.21108 323.440914 \r\nL 286.310253 324.593597 \r\nL 290.409427 324.612237 \r\nL 294.5086 325.297981 \r\nL 298.607774 325.650267 \r\nL 302.706947 325.717367 \r\nL 306.806121 326.083279 \r\nL 310.905294 326.435612 \r\nL 315.004468 326.744075 \r\nL 319.103642 326.818554 \r\nL 323.202815 327.248299 \r\nL 327.301989 327.577668 \r\nL 331.401162 328.080139 \r\nL 335.500336 328.062208 \r\nL 339.599509 328.448398 \r\nL 343.698683 328.398895 \r\nL 347.797856 328.448355 \r\nL 351.89703 328.809744 \r\nL 355.996204 328.952059 \r\nL 360.095377 329.113042 \r\nL 364.194551 329.195802 \r\nL 368.293724 329.491763 \r\nL 372.392898 329.816661 \r\nL 376.492071 329.943037 \r\nL 380.591245 330.129156 \r\nL 384.690418 330.520738 \r\nL 388.789592 330.667868 \r\nL 392.888765 330.493392 \r\nL 396.987939 331.474266 \r\nL 401.087113 331.140841 \r\nL 405.186286 331.619616 \r\nL 409.28546 331.781157 \r\nL 413.384633 331.982021 \r\nL 417.483807 331.965874 \r\nL 421.58298 332.332612 \r\nL 425.682154 332.21464 \r\nL 429.781327 332.192771 \r\nL 433.880501 332.459143 \r\nL 437.979675 332.950595 \r\nL 442.078848 333.057779 \r\nL 446.178022 333.255432 \r\nL 450.277195 333.070819 \r\nL 454.376369 333.337475 \r\nL 458.475542 333.65267 \r\nL 462.574716 333.523396 \r\n\" style=\"fill:none;stroke:#0000ff;stroke-linecap:square;stroke-width:1.5;\"/>\r\n   </g>\r\n   <g id=\"line2d_13\">\r\n    <path clip-path=\"url(#p319ca874e4)\" d=\"M 56.756534 109.384424 \r\nL 60.855708 171.283548 \r\nL 64.954881 191.178904 \r\nL 69.054055 219.388928 \r\nL 73.153228 226.03438 \r\nL 77.252402 231.38906 \r\nL 81.351575 237.957139 \r\nL 85.450749 254.065088 \r\nL 89.549923 257.267977 \r\nL 93.649096 263.269979 \r\nL 97.74827 270.360142 \r\nL 101.847443 267.599641 \r\nL 105.946617 268.543169 \r\nL 110.04579 273.03226 \r\nL 114.144964 274.388319 \r\nL 118.244137 281.986411 \r\nL 122.343311 282.058685 \r\nL 126.442485 280.255111 \r\nL 130.541658 291.515082 \r\nL 134.640832 283.987356 \r\nL 138.740005 288.632345 \r\nL 142.839179 292.263855 \r\nL 146.938352 290.301276 \r\nL 151.037526 294.985831 \r\nL 155.136699 292.184273 \r\nL 159.235873 302.714052 \r\nL 163.335046 297.955279 \r\nL 167.43422 296.178333 \r\nL 171.533394 296.391916 \r\nL 175.632567 298.008441 \r\nL 179.731741 299.967375 \r\nL 183.830914 304.765619 \r\nL 187.930088 303.521758 \r\nL 192.029261 305.071088 \r\nL 196.128435 305.814791 \r\nL 200.227608 307.994645 \r\nL 204.326782 306.999494 \r\nL 208.425956 309.418606 \r\nL 212.525129 310.735261 \r\nL 216.624303 309.228233 \r\nL 220.723476 308.311503 \r\nL 224.82265 309.953069 \r\nL 228.921823 309.828889 \r\nL 233.020997 314.868794 \r\nL 237.12017 312.752852 \r\nL 241.219344 300.446174 \r\nL 245.318518 313.356823 \r\nL 249.417691 315.953428 \r\nL 253.516865 314.606628 \r\nL 257.616038 310.748112 \r\nL 261.715212 314.730629 \r\nL 265.814385 316.147791 \r\nL 269.913559 311.471202 \r\nL 274.012732 317.354122 \r\nL 278.111906 317.215868 \r\nL 282.21108 317.596033 \r\nL 286.310253 316.779523 \r\nL 290.409427 315.47233 \r\nL 294.5086 317.984457 \r\nL 298.607774 316.8459 \r\nL 302.706947 317.971752 \r\nL 306.806121 319.828153 \r\nL 310.905294 320.264176 \r\nL 315.004468 314.956625 \r\nL 319.103642 320.11808 \r\nL 323.202815 317.759925 \r\nL 327.301989 315.807261 \r\nL 331.401162 318.70486 \r\nL 335.500336 321.96644 \r\nL 339.599509 322.273048 \r\nL 343.698683 321.198828 \r\nL 347.797856 321.750463 \r\nL 351.89703 322.963579 \r\nL 355.996204 322.475451 \r\nL 360.095377 320.845853 \r\nL 364.194551 323.084459 \r\nL 368.293724 321.093732 \r\nL 372.392898 322.57432 \r\nL 376.492071 323.711305 \r\nL 380.591245 321.550888 \r\nL 384.690418 324.638067 \r\nL 388.789592 322.993644 \r\nL 392.888765 319.464455 \r\nL 396.987939 325.32265 \r\nL 401.087113 321.757101 \r\nL 405.186286 324.073959 \r\nL 409.28546 321.452718 \r\nL 413.384633 321.716182 \r\nL 417.483807 324.8703 \r\nL 421.58298 320.994721 \r\nL 425.682154 323.626189 \r\nL 429.781327 326.20744 \r\nL 433.880501 325.349746 \r\nL 437.979675 325.601638 \r\nL 442.078848 324.585878 \r\nL 446.178022 325.095087 \r\nL 450.277195 327.273846 \r\nL 454.376369 325.577908 \r\nL 458.475542 324.383541 \r\nL 462.574716 327.622341 \r\n\" style=\"fill:none;stroke:#ff0000;stroke-linecap:square;stroke-width:1.5;\"/>\r\n   </g>\r\n   <g id=\"patch_3\">\r\n    <path d=\"M 36.465625 348.478125 \r\nL 36.465625 22.318125 \r\n\" style=\"fill:none;stroke:#000000;stroke-linecap:square;stroke-linejoin:miter;stroke-width:0.8;\"/>\r\n   </g>\r\n   <g id=\"patch_4\">\r\n    <path d=\"M 482.865625 348.478125 \r\nL 482.865625 22.318125 \r\n\" style=\"fill:none;stroke:#000000;stroke-linecap:square;stroke-linejoin:miter;stroke-width:0.8;\"/>\r\n   </g>\r\n   <g id=\"patch_5\">\r\n    <path d=\"M 36.465625 348.478125 \r\nL 482.865625 348.478125 \r\n\" style=\"fill:none;stroke:#000000;stroke-linecap:square;stroke-linejoin:miter;stroke-width:0.8;\"/>\r\n   </g>\r\n   <g id=\"patch_6\">\r\n    <path d=\"M 36.465625 22.318125 \r\nL 482.865625 22.318125 \r\n\" style=\"fill:none;stroke:#000000;stroke-linecap:square;stroke-linejoin:miter;stroke-width:0.8;\"/>\r\n   </g>\r\n   <g id=\"text_12\">\r\n    <!-- Training and validation loss -->\r\n    <g transform=\"translate(177.855625 16.318125)scale(0.12 -0.12)\">\r\n     <defs>\r\n      <path d=\"M -19 4666 \r\nL 3928 4666 \r\nL 3928 4134 \r\nL 2272 4134 \r\nL 2272 0 \r\nL 1638 0 \r\nL 1638 4134 \r\nL -19 4134 \r\nL -19 4666 \r\nz\r\n\" id=\"DejaVuSans-54\" transform=\"scale(0.015625)\"/>\r\n      <path d=\"M 2631 2963 \r\nQ 2534 3019 2420 3045 \r\nQ 2306 3072 2169 3072 \r\nQ 1681 3072 1420 2755 \r\nQ 1159 2438 1159 1844 \r\nL 1159 0 \r\nL 581 0 \r\nL 581 3500 \r\nL 1159 3500 \r\nL 1159 2956 \r\nQ 1341 3275 1631 3429 \r\nQ 1922 3584 2338 3584 \r\nQ 2397 3584 2469 3576 \r\nQ 2541 3569 2628 3553 \r\nL 2631 2963 \r\nz\r\n\" id=\"DejaVuSans-72\" transform=\"scale(0.015625)\"/>\r\n      <path d=\"M 2194 1759 \r\nQ 1497 1759 1228 1600 \r\nQ 959 1441 959 1056 \r\nQ 959 750 1161 570 \r\nQ 1363 391 1709 391 \r\nQ 2188 391 2477 730 \r\nQ 2766 1069 2766 1631 \r\nL 2766 1759 \r\nL 2194 1759 \r\nz\r\nM 3341 1997 \r\nL 3341 0 \r\nL 2766 0 \r\nL 2766 531 \r\nQ 2569 213 2275 61 \r\nQ 1981 -91 1556 -91 \r\nQ 1019 -91 701 211 \r\nQ 384 513 384 1019 \r\nQ 384 1609 779 1909 \r\nQ 1175 2209 1959 2209 \r\nL 2766 2209 \r\nL 2766 2266 \r\nQ 2766 2663 2505 2880 \r\nQ 2244 3097 1772 3097 \r\nQ 1472 3097 1187 3025 \r\nQ 903 2953 641 2809 \r\nL 641 3341 \r\nQ 956 3463 1253 3523 \r\nQ 1550 3584 1831 3584 \r\nQ 2591 3584 2966 3190 \r\nQ 3341 2797 3341 1997 \r\nz\r\n\" id=\"DejaVuSans-61\" transform=\"scale(0.015625)\"/>\r\n      <path d=\"M 603 3500 \r\nL 1178 3500 \r\nL 1178 0 \r\nL 603 0 \r\nL 603 3500 \r\nz\r\nM 603 4863 \r\nL 1178 4863 \r\nL 1178 4134 \r\nL 603 4134 \r\nL 603 4863 \r\nz\r\n\" id=\"DejaVuSans-69\" transform=\"scale(0.015625)\"/>\r\n      <path d=\"M 3513 2113 \r\nL 3513 0 \r\nL 2938 0 \r\nL 2938 2094 \r\nQ 2938 2591 2744 2837 \r\nQ 2550 3084 2163 3084 \r\nQ 1697 3084 1428 2787 \r\nQ 1159 2491 1159 1978 \r\nL 1159 0 \r\nL 581 0 \r\nL 581 3500 \r\nL 1159 3500 \r\nL 1159 2956 \r\nQ 1366 3272 1645 3428 \r\nQ 1925 3584 2291 3584 \r\nQ 2894 3584 3203 3211 \r\nQ 3513 2838 3513 2113 \r\nz\r\n\" id=\"DejaVuSans-6e\" transform=\"scale(0.015625)\"/>\r\n      <path d=\"M 2906 1791 \r\nQ 2906 2416 2648 2759 \r\nQ 2391 3103 1925 3103 \r\nQ 1463 3103 1205 2759 \r\nQ 947 2416 947 1791 \r\nQ 947 1169 1205 825 \r\nQ 1463 481 1925 481 \r\nQ 2391 481 2648 825 \r\nQ 2906 1169 2906 1791 \r\nz\r\nM 3481 434 \r\nQ 3481 -459 3084 -895 \r\nQ 2688 -1331 1869 -1331 \r\nQ 1566 -1331 1297 -1286 \r\nQ 1028 -1241 775 -1147 \r\nL 775 -588 \r\nQ 1028 -725 1275 -790 \r\nQ 1522 -856 1778 -856 \r\nQ 2344 -856 2625 -561 \r\nQ 2906 -266 2906 331 \r\nL 2906 616 \r\nQ 2728 306 2450 153 \r\nQ 2172 0 1784 0 \r\nQ 1141 0 747 490 \r\nQ 353 981 353 1791 \r\nQ 353 2603 747 3093 \r\nQ 1141 3584 1784 3584 \r\nQ 2172 3584 2450 3431 \r\nQ 2728 3278 2906 2969 \r\nL 2906 3500 \r\nL 3481 3500 \r\nL 3481 434 \r\nz\r\n\" id=\"DejaVuSans-67\" transform=\"scale(0.015625)\"/>\r\n      <path id=\"DejaVuSans-20\" transform=\"scale(0.015625)\"/>\r\n      <path d=\"M 2906 2969 \r\nL 2906 4863 \r\nL 3481 4863 \r\nL 3481 0 \r\nL 2906 0 \r\nL 2906 525 \r\nQ 2725 213 2448 61 \r\nQ 2172 -91 1784 -91 \r\nQ 1150 -91 751 415 \r\nQ 353 922 353 1747 \r\nQ 353 2572 751 3078 \r\nQ 1150 3584 1784 3584 \r\nQ 2172 3584 2448 3432 \r\nQ 2725 3281 2906 2969 \r\nz\r\nM 947 1747 \r\nQ 947 1113 1208 752 \r\nQ 1469 391 1925 391 \r\nQ 2381 391 2643 752 \r\nQ 2906 1113 2906 1747 \r\nQ 2906 2381 2643 2742 \r\nQ 2381 3103 1925 3103 \r\nQ 1469 3103 1208 2742 \r\nQ 947 2381 947 1747 \r\nz\r\n\" id=\"DejaVuSans-64\" transform=\"scale(0.015625)\"/>\r\n      <path d=\"M 191 3500 \r\nL 800 3500 \r\nL 1894 563 \r\nL 2988 3500 \r\nL 3597 3500 \r\nL 2284 0 \r\nL 1503 0 \r\nL 191 3500 \r\nz\r\n\" id=\"DejaVuSans-76\" transform=\"scale(0.015625)\"/>\r\n      <path d=\"M 603 4863 \r\nL 1178 4863 \r\nL 1178 0 \r\nL 603 0 \r\nL 603 4863 \r\nz\r\n\" id=\"DejaVuSans-6c\" transform=\"scale(0.015625)\"/>\r\n      <path d=\"M 1172 4494 \r\nL 1172 3500 \r\nL 2356 3500 \r\nL 2356 3053 \r\nL 1172 3053 \r\nL 1172 1153 \r\nQ 1172 725 1289 603 \r\nQ 1406 481 1766 481 \r\nL 2356 481 \r\nL 2356 0 \r\nL 1766 0 \r\nQ 1100 0 847 248 \r\nQ 594 497 594 1153 \r\nL 594 3053 \r\nL 172 3053 \r\nL 172 3500 \r\nL 594 3500 \r\nL 594 4494 \r\nL 1172 4494 \r\nz\r\n\" id=\"DejaVuSans-74\" transform=\"scale(0.015625)\"/>\r\n      <path d=\"M 1959 3097 \r\nQ 1497 3097 1228 2736 \r\nQ 959 2375 959 1747 \r\nQ 959 1119 1226 758 \r\nQ 1494 397 1959 397 \r\nQ 2419 397 2687 759 \r\nQ 2956 1122 2956 1747 \r\nQ 2956 2369 2687 2733 \r\nQ 2419 3097 1959 3097 \r\nz\r\nM 1959 3584 \r\nQ 2709 3584 3137 3096 \r\nQ 3566 2609 3566 1747 \r\nQ 3566 888 3137 398 \r\nQ 2709 -91 1959 -91 \r\nQ 1206 -91 779 398 \r\nQ 353 888 353 1747 \r\nQ 353 2609 779 3096 \r\nQ 1206 3584 1959 3584 \r\nz\r\n\" id=\"DejaVuSans-6f\" transform=\"scale(0.015625)\"/>\r\n      <path d=\"M 2834 3397 \r\nL 2834 2853 \r\nQ 2591 2978 2328 3040 \r\nQ 2066 3103 1784 3103 \r\nQ 1356 3103 1142 2972 \r\nQ 928 2841 928 2578 \r\nQ 928 2378 1081 2264 \r\nQ 1234 2150 1697 2047 \r\nL 1894 2003 \r\nQ 2506 1872 2764 1633 \r\nQ 3022 1394 3022 966 \r\nQ 3022 478 2636 193 \r\nQ 2250 -91 1575 -91 \r\nQ 1294 -91 989 -36 \r\nQ 684 19 347 128 \r\nL 347 722 \r\nQ 666 556 975 473 \r\nQ 1284 391 1588 391 \r\nQ 1994 391 2212 530 \r\nQ 2431 669 2431 922 \r\nQ 2431 1156 2273 1281 \r\nQ 2116 1406 1581 1522 \r\nL 1381 1569 \r\nQ 847 1681 609 1914 \r\nQ 372 2147 372 2553 \r\nQ 372 3047 722 3315 \r\nQ 1072 3584 1716 3584 \r\nQ 2034 3584 2315 3537 \r\nQ 2597 3491 2834 3397 \r\nz\r\n\" id=\"DejaVuSans-73\" transform=\"scale(0.015625)\"/>\r\n     </defs>\r\n     <use xlink:href=\"#DejaVuSans-54\"/>\r\n     <use x=\"46.333984\" xlink:href=\"#DejaVuSans-72\"/>\r\n     <use x=\"87.447266\" xlink:href=\"#DejaVuSans-61\"/>\r\n     <use x=\"148.726562\" xlink:href=\"#DejaVuSans-69\"/>\r\n     <use x=\"176.509766\" xlink:href=\"#DejaVuSans-6e\"/>\r\n     <use x=\"239.888672\" xlink:href=\"#DejaVuSans-69\"/>\r\n     <use x=\"267.671875\" xlink:href=\"#DejaVuSans-6e\"/>\r\n     <use x=\"331.050781\" xlink:href=\"#DejaVuSans-67\"/>\r\n     <use x=\"394.527344\" xlink:href=\"#DejaVuSans-20\"/>\r\n     <use x=\"426.314453\" xlink:href=\"#DejaVuSans-61\"/>\r\n     <use x=\"487.59375\" xlink:href=\"#DejaVuSans-6e\"/>\r\n     <use x=\"550.972656\" xlink:href=\"#DejaVuSans-64\"/>\r\n     <use x=\"614.449219\" xlink:href=\"#DejaVuSans-20\"/>\r\n     <use x=\"646.236328\" xlink:href=\"#DejaVuSans-76\"/>\r\n     <use x=\"705.416016\" xlink:href=\"#DejaVuSans-61\"/>\r\n     <use x=\"766.695312\" xlink:href=\"#DejaVuSans-6c\"/>\r\n     <use x=\"794.478516\" xlink:href=\"#DejaVuSans-69\"/>\r\n     <use x=\"822.261719\" xlink:href=\"#DejaVuSans-64\"/>\r\n     <use x=\"885.738281\" xlink:href=\"#DejaVuSans-61\"/>\r\n     <use x=\"947.017578\" xlink:href=\"#DejaVuSans-74\"/>\r\n     <use x=\"986.226562\" xlink:href=\"#DejaVuSans-69\"/>\r\n     <use x=\"1014.009766\" xlink:href=\"#DejaVuSans-6f\"/>\r\n     <use x=\"1075.191406\" xlink:href=\"#DejaVuSans-6e\"/>\r\n     <use x=\"1138.570312\" xlink:href=\"#DejaVuSans-20\"/>\r\n     <use x=\"1170.357422\" xlink:href=\"#DejaVuSans-6c\"/>\r\n     <use x=\"1198.140625\" xlink:href=\"#DejaVuSans-6f\"/>\r\n     <use x=\"1259.322266\" xlink:href=\"#DejaVuSans-73\"/>\r\n     <use x=\"1311.421875\" xlink:href=\"#DejaVuSans-73\"/>\r\n    </g>\r\n   </g>\r\n   <g id=\"legend_1\">\r\n    <g id=\"patch_7\">\r\n     <path d=\"M 371.990625 59.674375 \r\nL 475.865625 59.674375 \r\nQ 477.865625 59.674375 477.865625 57.674375 \r\nL 477.865625 29.318125 \r\nQ 477.865625 27.318125 475.865625 27.318125 \r\nL 371.990625 27.318125 \r\nQ 369.990625 27.318125 369.990625 29.318125 \r\nL 369.990625 57.674375 \r\nQ 369.990625 59.674375 371.990625 59.674375 \r\nz\r\n\" style=\"fill:#ffffff;opacity:0.8;stroke:#cccccc;stroke-linejoin:miter;\"/>\r\n    </g>\r\n    <g id=\"line2d_14\">\r\n     <path d=\"M 373.990625 35.416562 \r\nL 393.990625 35.416562 \r\n\" style=\"fill:none;stroke:#0000ff;stroke-linecap:square;stroke-width:1.5;\"/>\r\n    </g>\r\n    <g id=\"line2d_15\"/>\r\n    <g id=\"text_13\">\r\n     <!-- Training loss -->\r\n     <g transform=\"translate(401.990625 38.916562)scale(0.1 -0.1)\">\r\n      <use xlink:href=\"#DejaVuSans-54\"/>\r\n      <use x=\"46.333984\" xlink:href=\"#DejaVuSans-72\"/>\r\n      <use x=\"87.447266\" xlink:href=\"#DejaVuSans-61\"/>\r\n      <use x=\"148.726562\" xlink:href=\"#DejaVuSans-69\"/>\r\n      <use x=\"176.509766\" xlink:href=\"#DejaVuSans-6e\"/>\r\n      <use x=\"239.888672\" xlink:href=\"#DejaVuSans-69\"/>\r\n      <use x=\"267.671875\" xlink:href=\"#DejaVuSans-6e\"/>\r\n      <use x=\"331.050781\" xlink:href=\"#DejaVuSans-67\"/>\r\n      <use x=\"394.527344\" xlink:href=\"#DejaVuSans-20\"/>\r\n      <use x=\"426.314453\" xlink:href=\"#DejaVuSans-6c\"/>\r\n      <use x=\"454.097656\" xlink:href=\"#DejaVuSans-6f\"/>\r\n      <use x=\"515.279297\" xlink:href=\"#DejaVuSans-73\"/>\r\n      <use x=\"567.378906\" xlink:href=\"#DejaVuSans-73\"/>\r\n     </g>\r\n    </g>\r\n    <g id=\"line2d_16\">\r\n     <path d=\"M 373.990625 50.094688 \r\nL 393.990625 50.094688 \r\n\" style=\"fill:none;stroke:#ff0000;stroke-linecap:square;stroke-width:1.5;\"/>\r\n    </g>\r\n    <g id=\"line2d_17\"/>\r\n    <g id=\"text_14\">\r\n     <!-- Validation loss -->\r\n     <g transform=\"translate(401.990625 53.594688)scale(0.1 -0.1)\">\r\n      <defs>\r\n       <path d=\"M 1831 0 \r\nL 50 4666 \r\nL 709 4666 \r\nL 2188 738 \r\nL 3669 4666 \r\nL 4325 4666 \r\nL 2547 0 \r\nL 1831 0 \r\nz\r\n\" id=\"DejaVuSans-56\" transform=\"scale(0.015625)\"/>\r\n      </defs>\r\n      <use xlink:href=\"#DejaVuSans-56\"/>\r\n      <use x=\"60.658203\" xlink:href=\"#DejaVuSans-61\"/>\r\n      <use x=\"121.9375\" xlink:href=\"#DejaVuSans-6c\"/>\r\n      <use x=\"149.720703\" xlink:href=\"#DejaVuSans-69\"/>\r\n      <use x=\"177.503906\" xlink:href=\"#DejaVuSans-64\"/>\r\n      <use x=\"240.980469\" xlink:href=\"#DejaVuSans-61\"/>\r\n      <use x=\"302.259766\" xlink:href=\"#DejaVuSans-74\"/>\r\n      <use x=\"341.46875\" xlink:href=\"#DejaVuSans-69\"/>\r\n      <use x=\"369.251953\" xlink:href=\"#DejaVuSans-6f\"/>\r\n      <use x=\"430.433594\" xlink:href=\"#DejaVuSans-6e\"/>\r\n      <use x=\"493.8125\" xlink:href=\"#DejaVuSans-20\"/>\r\n      <use x=\"525.599609\" xlink:href=\"#DejaVuSans-6c\"/>\r\n      <use x=\"553.382812\" xlink:href=\"#DejaVuSans-6f\"/>\r\n      <use x=\"614.564453\" xlink:href=\"#DejaVuSans-73\"/>\r\n      <use x=\"666.664062\" xlink:href=\"#DejaVuSans-73\"/>\r\n     </g>\r\n    </g>\r\n   </g>\r\n  </g>\r\n </g>\r\n <defs>\r\n  <clipPath id=\"p319ca874e4\">\r\n   <rect height=\"326.16\" width=\"446.4\" x=\"36.465625\" y=\"22.318125\"/>\r\n  </clipPath>\r\n </defs>\r\n</svg>\r\n",
      "image/png": "[encoded data removed]"
     },
     "metadata": {
      "needs_background": "light"
     }
    },
    {
     "output_type": "stream",
     "name": "stdout",
     "text": [
      "INFO:tensorflow:Assets written to: C:\\Users\\angel\\AppData\\Local\\Temp\\tmpnsnzr8y0\\model\\data\\model\\assets\n"
     ]
    }
   ],
   "source": [
    "import time\n",
    "from tensorflow.keras.layers import Conv1D, Dropout, MaxPool1D, Flatten, Dense\n",
    "\n",
    "model_name = 'good_ugly_cnn_baseline'\n",
    "\n",
    "baseline_layers = [\n",
    "    Conv1D(filters=filters, kernel_size=kernel_size, padding='same', activation=activation, kernel_initializer=kernel_initializer),\n",
    "    Conv1D(filters=filters, kernel_size=kernel_size, padding='same', activation=activation, kernel_initializer=kernel_initializer),\n",
    "    MaxPool1D(pool_size=pool_size, padding='same'),\n",
    "    Flatten(), \n",
    "    Dense(dense_units, activation=activation, kernel_initializer=kernel_initializer),\n",
    "    Dense(n_outputs)\n",
    "]\n",
    "\n",
    "with mlflow.start_run(run_name=model_name) as run:\n",
    "\n",
    "    baseline_model = create_model(layers=baseline_layers, optimizer=opt)\n",
    "\n",
    "    baseline_history = baseline_model.fit(X_train, \n",
    "                            y_train, \n",
    "                            epochs=epochs, \n",
    "                            batch_size=batch_size, \n",
    "                            validation_split=0.2, \n",
    "                            shuffle=True, \n",
    "                            verbose=verbose, \n",
    "                            callbacks=[early_stopping])\n",
    "\n",
    "    # Plot training history\n",
    "    plot_train_history(baseline_history, 'Training and validation loss')\n",
    "    plt.savefig(\"training_history.jpg\")\n",
    "    mlflow.log_artifact(\"training_history.jpg\")\n",
    "    plt.show()\n",
    "\n",
    "    # Log model parameters\n",
    "    mlflow.log_param(\"activation\", activation)\n",
    "    mlflow.log_param(\"kernel_initializer\", kernel_initializer)\n",
    "    mlflow.log_param(\"output activation\", output_activation)\n",
    "    mlflow.log_param(\"optimizer\", optimizer)\n",
    "    mlflow.log_param(\"learning rate\", learning_rate)\n",
    "    mlflow.log_param(\"batch size\", batch_size)\n",
    "    mlflow.log_param(\"epochs\", early_stopping.stopped_epoch)\n",
    "    mlflow.log_param(\"filters\", filters)\n",
    "    mlflow.log_param(\"kernel_size\", kernel_size)\n",
    "    mlflow.log_param(\"pool size\", pool_size)\n",
    "    mlflow.log_param(\"total params\", baseline_model.count_params())\n",
    "    mlflow.log_param(\"units\", dense_units)\n",
    "\n",
    "    # Log model performance\n",
    "    start_time = time.time()\n",
    "    predictions = baseline_model.predict(X_test)\n",
    "    end_time = time.time()\n",
    "    process_time = (end_time - start_time) * 1000\n",
    "    predictions = y_scaler.inverse_transform(predictions)\n",
    "    (mse, mae, r2, variance) = eval_metrics(y_test, predictions)\n",
    "    mlflow.log_metric(\"mse\", mse)\n",
    "    mlflow.log_metric(\"mae\", mae)\n",
    "    mlflow.log_metric(\"R-squared\", r2)\n",
    "    mlflow.log_metric(\"variance\", variance)\n",
    "    mlflow.log_metric(\"process time\", process_time)\n",
    "\n",
    "    # Log model and scaler(s)\n",
    "    mlflow.keras.log_model(baseline_model, model_name, signature=signature)\n",
    "    mlflow.sklearn.log_model(X_scaler, 'InputScaler')\n",
    "    mlflow.sklearn.log_model(y_scaler, 'OutputScaler')"
   ]
  },
  {
   "source": [
    "## 3.6 Model 1: 2 Convolutional Blocks"
   ],
   "cell_type": "markdown",
   "metadata": {}
  },
  {
   "cell_type": "code",
   "execution_count": 15,
   "metadata": {},
   "outputs": [
    {
     "output_type": "stream",
     "name": "stdout",
     "text": [
      "Model: \"sequential_1\"\n",
      "_________________________________________________________________\n",
      "Layer (type)                 Output Shape              Param #   \n",
      "=================================================================\n",
      "conv1d_2 (Conv1D)            (None, 1, 64)             10048     \n",
      "_________________________________________________________________\n",
      "conv1d_3 (Conv1D)            (None, 1, 64)             12352     \n",
      "_________________________________________________________________\n",
      "max_pooling1d_1 (MaxPooling1 (None, 1, 64)             0         \n",
      "_________________________________________________________________\n",
      "conv1d_4 (Conv1D)            (None, 1, 64)             12352     \n",
      "_________________________________________________________________\n",
      "conv1d_5 (Conv1D)            (None, 1, 64)             12352     \n",
      "_________________________________________________________________\n",
      "max_pooling1d_2 (MaxPooling1 (None, 1, 64)             0         \n",
      "_________________________________________________________________\n",
      "flatten_1 (Flatten)          (None, 64)                0         \n",
      "_________________________________________________________________\n",
      "dense_2 (Dense)              (None, 128)               8320      \n",
      "_________________________________________________________________\n",
      "dense_3 (Dense)              (None, 2)                 258       \n",
      "=================================================================\n",
      "Total params: 55,682\n",
      "Trainable params: 55,682\n",
      "Non-trainable params: 0\n",
      "_________________________________________________________________\n",
      "None\n",
      "Epoch 1/100\n",
      "5065/5065 [==============================] - 28s 6ms/step - loss: 0.2691 - mse: 0.2252 - mae: 0.2766 - rmse: 0.4746 - val_loss: 0.2094 - val_mse: 0.2094 - val_mae: 0.2713 - val_rmse: 0.4576\n",
      "Epoch 2/100\n",
      "5065/5065 [==============================] - 27s 5ms/step - loss: 0.1858 - mse: 0.1858 - mae: 0.2532 - rmse: 0.4311 - val_loss: 0.1622 - val_mse: 0.1622 - val_mae: 0.2295 - val_rmse: 0.4028\n",
      "Epoch 3/100\n",
      "5065/5065 [==============================] - 27s 5ms/step - loss: 0.1576 - mse: 0.1576 - mae: 0.2311 - rmse: 0.3969 - val_loss: 0.1583 - val_mse: 0.1583 - val_mae: 0.2288 - val_rmse: 0.3979\n",
      "Epoch 4/100\n",
      "5065/5065 [==============================] - 27s 5ms/step - loss: 0.1409 - mse: 0.1409 - mae: 0.2168 - rmse: 0.3753 - val_loss: 0.1397 - val_mse: 0.1397 - val_mae: 0.2228 - val_rmse: 0.3737\n",
      "Epoch 5/100\n",
      "5065/5065 [==============================] - 26s 5ms/step - loss: 0.1287 - mse: 0.1287 - mae: 0.2065 - rmse: 0.3588 - val_loss: 0.1255 - val_mse: 0.1255 - val_mae: 0.2012 - val_rmse: 0.3543\n",
      "Epoch 6/100\n",
      "5065/5065 [==============================] - 26s 5ms/step - loss: 0.1200 - mse: 0.1200 - mae: 0.1984 - rmse: 0.3464 - val_loss: 0.1230 - val_mse: 0.1230 - val_mae: 0.2015 - val_rmse: 0.3507\n",
      "Epoch 7/100\n",
      "5065/5065 [==============================] - 26s 5ms/step - loss: 0.1128 - mse: 0.1128 - mae: 0.1909 - rmse: 0.3359 - val_loss: 0.1055 - val_mse: 0.1055 - val_mae: 0.1816 - val_rmse: 0.3248\n",
      "Epoch 8/100\n",
      "5065/5065 [==============================] - 28s 6ms/step - loss: 0.1069 - mse: 0.1069 - mae: 0.1849 - rmse: 0.3270 - val_loss: 0.1140 - val_mse: 0.1140 - val_mae: 0.1891 - val_rmse: 0.3376\n",
      "Epoch 9/100\n",
      "5065/5065 [==============================] - 28s 5ms/step - loss: 0.1029 - mse: 0.1029 - mae: 0.1799 - rmse: 0.3207 - val_loss: 0.1021 - val_mse: 0.1021 - val_mae: 0.1797 - val_rmse: 0.3195\n",
      "Epoch 10/100\n",
      "5065/5065 [==============================] - 27s 5ms/step - loss: 0.0978 - mse: 0.0978 - mae: 0.1750 - rmse: 0.3128 - val_loss: 0.1067 - val_mse: 0.1067 - val_mae: 0.1848 - val_rmse: 0.3266\n",
      "Epoch 11/100\n",
      "5065/5065 [==============================] - 26s 5ms/step - loss: 0.0947 - mse: 0.0947 - mae: 0.1713 - rmse: 0.3078 - val_loss: 0.0936 - val_mse: 0.0936 - val_mae: 0.1713 - val_rmse: 0.3060\n",
      "Epoch 12/100\n",
      "5065/5065 [==============================] - 29s 6ms/step - loss: 0.0911 - mse: 0.0911 - mae: 0.1675 - rmse: 0.3018 - val_loss: 0.1054 - val_mse: 0.1054 - val_mae: 0.1775 - val_rmse: 0.3247\n",
      "Epoch 13/100\n",
      "5065/5065 [==============================] - 28s 5ms/step - loss: 0.0876 - mse: 0.0876 - mae: 0.1636 - rmse: 0.2959 - val_loss: 0.0907 - val_mse: 0.0907 - val_mae: 0.1612 - val_rmse: 0.3011\n",
      "Epoch 14/100\n",
      "5065/5065 [==============================] - 30s 6ms/step - loss: 0.0847 - mse: 0.0847 - mae: 0.1606 - rmse: 0.2910 - val_loss: 0.0871 - val_mse: 0.0871 - val_mae: 0.1612 - val_rmse: 0.2952\n",
      "Epoch 15/100\n",
      "5065/5065 [==============================] - 30s 6ms/step - loss: 0.0824 - mse: 0.0824 - mae: 0.1580 - rmse: 0.2871 - val_loss: 0.0840 - val_mse: 0.0840 - val_mae: 0.1568 - val_rmse: 0.2898\n",
      "Epoch 16/100\n",
      "5065/5065 [==============================] - 28s 6ms/step - loss: 0.0797 - mse: 0.0797 - mae: 0.1549 - rmse: 0.2824 - val_loss: 0.0867 - val_mse: 0.0867 - val_mae: 0.1613 - val_rmse: 0.2945\n",
      "Epoch 17/100\n",
      "5065/5065 [==============================] - 31s 6ms/step - loss: 0.0778 - mse: 0.0778 - mae: 0.1530 - rmse: 0.2789 - val_loss: 0.0831 - val_mse: 0.0831 - val_mae: 0.1571 - val_rmse: 0.2884\n",
      "Epoch 18/100\n",
      "5065/5065 [==============================] - 30s 6ms/step - loss: 0.0762 - mse: 0.0762 - mae: 0.1509 - rmse: 0.2760 - val_loss: 0.0987 - val_mse: 0.0987 - val_mae: 0.1706 - val_rmse: 0.3142\n",
      "Epoch 19/100\n",
      "5065/5065 [==============================] - 29s 6ms/step - loss: 0.0741 - mse: 0.0741 - mae: 0.1488 - rmse: 0.2723 - val_loss: 0.0747 - val_mse: 0.0747 - val_mae: 0.1476 - val_rmse: 0.2734\n",
      "Epoch 20/100\n",
      "4763/5065 [===========================>..] - ETA: 1s - loss: 0.0735 - mse: 0.0735 - mae: 0.1476 - rmse: 0.2711"
     ]
    },
    {
     "output_type": "error",
     "ename": "KeyboardInterrupt",
     "evalue": "",
     "traceback": [
      "\u001b[1;31m---------------------------------------------------------------------------\u001b[0m",
      "\u001b[1;31mKeyboardInterrupt\u001b[0m                         Traceback (most recent call last)",
      "\u001b[1;32m<ipython-input-15-91c4031a91cf>\u001b[0m in \u001b[0;36m<module>\u001b[1;34m\u001b[0m\n\u001b[0;32m     17\u001b[0m     \u001b[0mmodel1\u001b[0m \u001b[1;33m=\u001b[0m \u001b[0mcreate_model\u001b[0m\u001b[1;33m(\u001b[0m\u001b[0mlayers\u001b[0m\u001b[1;33m=\u001b[0m\u001b[0mmodel1_layers\u001b[0m\u001b[1;33m,\u001b[0m \u001b[0moptimizer\u001b[0m\u001b[1;33m=\u001b[0m\u001b[0mopt\u001b[0m\u001b[1;33m)\u001b[0m\u001b[1;33m\u001b[0m\u001b[1;33m\u001b[0m\u001b[0m\n\u001b[0;32m     18\u001b[0m \u001b[1;33m\u001b[0m\u001b[0m\n\u001b[1;32m---> 19\u001b[1;33m     model1_history = model1.fit(X_train, \n\u001b[0m\u001b[0;32m     20\u001b[0m                             \u001b[0my_train\u001b[0m\u001b[1;33m,\u001b[0m\u001b[1;33m\u001b[0m\u001b[1;33m\u001b[0m\u001b[0m\n\u001b[0;32m     21\u001b[0m                             \u001b[0mepochs\u001b[0m\u001b[1;33m=\u001b[0m\u001b[0mepochs\u001b[0m\u001b[1;33m,\u001b[0m\u001b[1;33m\u001b[0m\u001b[1;33m\u001b[0m\u001b[0m\n",
      "\u001b[1;32m~\\AppData\\Roaming\\Python\\Python39\\site-packages\\tensorflow\\python\\keras\\engine\\training.py\u001b[0m in \u001b[0;36mfit\u001b[1;34m(self, x, y, batch_size, epochs, verbose, callbacks, validation_split, validation_data, shuffle, class_weight, sample_weight, initial_epoch, steps_per_epoch, validation_steps, validation_batch_size, validation_freq, max_queue_size, workers, use_multiprocessing)\u001b[0m\n\u001b[0;32m   1181\u001b[0m                 _r=1):\n\u001b[0;32m   1182\u001b[0m               \u001b[0mcallbacks\u001b[0m\u001b[1;33m.\u001b[0m\u001b[0mon_train_batch_begin\u001b[0m\u001b[1;33m(\u001b[0m\u001b[0mstep\u001b[0m\u001b[1;33m)\u001b[0m\u001b[1;33m\u001b[0m\u001b[1;33m\u001b[0m\u001b[0m\n\u001b[1;32m-> 1183\u001b[1;33m               \u001b[0mtmp_logs\u001b[0m \u001b[1;33m=\u001b[0m \u001b[0mself\u001b[0m\u001b[1;33m.\u001b[0m\u001b[0mtrain_function\u001b[0m\u001b[1;33m(\u001b[0m\u001b[0miterator\u001b[0m\u001b[1;33m)\u001b[0m\u001b[1;33m\u001b[0m\u001b[1;33m\u001b[0m\u001b[0m\n\u001b[0m\u001b[0;32m   1184\u001b[0m               \u001b[1;32mif\u001b[0m \u001b[0mdata_handler\u001b[0m\u001b[1;33m.\u001b[0m\u001b[0mshould_sync\u001b[0m\u001b[1;33m:\u001b[0m\u001b[1;33m\u001b[0m\u001b[1;33m\u001b[0m\u001b[0m\n\u001b[0;32m   1185\u001b[0m                 \u001b[0mcontext\u001b[0m\u001b[1;33m.\u001b[0m\u001b[0masync_wait\u001b[0m\u001b[1;33m(\u001b[0m\u001b[1;33m)\u001b[0m\u001b[1;33m\u001b[0m\u001b[1;33m\u001b[0m\u001b[0m\n",
      "\u001b[1;32m~\\AppData\\Roaming\\Python\\Python39\\site-packages\\tensorflow\\python\\eager\\def_function.py\u001b[0m in \u001b[0;36m__call__\u001b[1;34m(self, *args, **kwds)\u001b[0m\n\u001b[0;32m    887\u001b[0m \u001b[1;33m\u001b[0m\u001b[0m\n\u001b[0;32m    888\u001b[0m       \u001b[1;32mwith\u001b[0m \u001b[0mOptionalXlaContext\u001b[0m\u001b[1;33m(\u001b[0m\u001b[0mself\u001b[0m\u001b[1;33m.\u001b[0m\u001b[0m_jit_compile\u001b[0m\u001b[1;33m)\u001b[0m\u001b[1;33m:\u001b[0m\u001b[1;33m\u001b[0m\u001b[1;33m\u001b[0m\u001b[0m\n\u001b[1;32m--> 889\u001b[1;33m         \u001b[0mresult\u001b[0m \u001b[1;33m=\u001b[0m \u001b[0mself\u001b[0m\u001b[1;33m.\u001b[0m\u001b[0m_call\u001b[0m\u001b[1;33m(\u001b[0m\u001b[1;33m*\u001b[0m\u001b[0margs\u001b[0m\u001b[1;33m,\u001b[0m \u001b[1;33m**\u001b[0m\u001b[0mkwds\u001b[0m\u001b[1;33m)\u001b[0m\u001b[1;33m\u001b[0m\u001b[1;33m\u001b[0m\u001b[0m\n\u001b[0m\u001b[0;32m    890\u001b[0m \u001b[1;33m\u001b[0m\u001b[0m\n\u001b[0;32m    891\u001b[0m       \u001b[0mnew_tracing_count\u001b[0m \u001b[1;33m=\u001b[0m \u001b[0mself\u001b[0m\u001b[1;33m.\u001b[0m\u001b[0mexperimental_get_tracing_count\u001b[0m\u001b[1;33m(\u001b[0m\u001b[1;33m)\u001b[0m\u001b[1;33m\u001b[0m\u001b[1;33m\u001b[0m\u001b[0m\n",
      "\u001b[1;32m~\\AppData\\Roaming\\Python\\Python39\\site-packages\\tensorflow\\python\\eager\\def_function.py\u001b[0m in \u001b[0;36m_call\u001b[1;34m(self, *args, **kwds)\u001b[0m\n\u001b[0;32m    915\u001b[0m       \u001b[1;31m# In this case we have created variables on the first call, so we run the\u001b[0m\u001b[1;33m\u001b[0m\u001b[1;33m\u001b[0m\u001b[1;33m\u001b[0m\u001b[0m\n\u001b[0;32m    916\u001b[0m       \u001b[1;31m# defunned version which is guaranteed to never create variables.\u001b[0m\u001b[1;33m\u001b[0m\u001b[1;33m\u001b[0m\u001b[1;33m\u001b[0m\u001b[0m\n\u001b[1;32m--> 917\u001b[1;33m       \u001b[1;32mreturn\u001b[0m \u001b[0mself\u001b[0m\u001b[1;33m.\u001b[0m\u001b[0m_stateless_fn\u001b[0m\u001b[1;33m(\u001b[0m\u001b[1;33m*\u001b[0m\u001b[0margs\u001b[0m\u001b[1;33m,\u001b[0m \u001b[1;33m**\u001b[0m\u001b[0mkwds\u001b[0m\u001b[1;33m)\u001b[0m  \u001b[1;31m# pylint: disable=not-callable\u001b[0m\u001b[1;33m\u001b[0m\u001b[1;33m\u001b[0m\u001b[0m\n\u001b[0m\u001b[0;32m    918\u001b[0m     \u001b[1;32melif\u001b[0m \u001b[0mself\u001b[0m\u001b[1;33m.\u001b[0m\u001b[0m_stateful_fn\u001b[0m \u001b[1;32mis\u001b[0m \u001b[1;32mnot\u001b[0m \u001b[1;32mNone\u001b[0m\u001b[1;33m:\u001b[0m\u001b[1;33m\u001b[0m\u001b[1;33m\u001b[0m\u001b[0m\n\u001b[0;32m    919\u001b[0m       \u001b[1;31m# Release the lock early so that multiple threads can perform the call\u001b[0m\u001b[1;33m\u001b[0m\u001b[1;33m\u001b[0m\u001b[1;33m\u001b[0m\u001b[0m\n",
      "\u001b[1;32m~\\AppData\\Roaming\\Python\\Python39\\site-packages\\tensorflow\\python\\eager\\function.py\u001b[0m in \u001b[0;36m__call__\u001b[1;34m(self, *args, **kwargs)\u001b[0m\n\u001b[0;32m   3021\u001b[0m       (graph_function,\n\u001b[0;32m   3022\u001b[0m        filtered_flat_args) = self._maybe_define_function(args, kwargs)\n\u001b[1;32m-> 3023\u001b[1;33m     return graph_function._call_flat(\n\u001b[0m\u001b[0;32m   3024\u001b[0m         filtered_flat_args, captured_inputs=graph_function.captured_inputs)  # pylint: disable=protected-access\n\u001b[0;32m   3025\u001b[0m \u001b[1;33m\u001b[0m\u001b[0m\n",
      "\u001b[1;32m~\\AppData\\Roaming\\Python\\Python39\\site-packages\\tensorflow\\python\\eager\\function.py\u001b[0m in \u001b[0;36m_call_flat\u001b[1;34m(self, args, captured_inputs, cancellation_manager)\u001b[0m\n\u001b[0;32m   1958\u001b[0m         and executing_eagerly):\n\u001b[0;32m   1959\u001b[0m       \u001b[1;31m# No tape is watching; skip to running the function.\u001b[0m\u001b[1;33m\u001b[0m\u001b[1;33m\u001b[0m\u001b[1;33m\u001b[0m\u001b[0m\n\u001b[1;32m-> 1960\u001b[1;33m       return self._build_call_outputs(self._inference_function.call(\n\u001b[0m\u001b[0;32m   1961\u001b[0m           ctx, args, cancellation_manager=cancellation_manager))\n\u001b[0;32m   1962\u001b[0m     forward_backward = self._select_forward_and_backward_functions(\n",
      "\u001b[1;32m~\\AppData\\Roaming\\Python\\Python39\\site-packages\\tensorflow\\python\\eager\\function.py\u001b[0m in \u001b[0;36mcall\u001b[1;34m(self, ctx, args, cancellation_manager)\u001b[0m\n\u001b[0;32m    589\u001b[0m       \u001b[1;32mwith\u001b[0m \u001b[0m_InterpolateFunctionError\u001b[0m\u001b[1;33m(\u001b[0m\u001b[0mself\u001b[0m\u001b[1;33m)\u001b[0m\u001b[1;33m:\u001b[0m\u001b[1;33m\u001b[0m\u001b[1;33m\u001b[0m\u001b[0m\n\u001b[0;32m    590\u001b[0m         \u001b[1;32mif\u001b[0m \u001b[0mcancellation_manager\u001b[0m \u001b[1;32mis\u001b[0m \u001b[1;32mNone\u001b[0m\u001b[1;33m:\u001b[0m\u001b[1;33m\u001b[0m\u001b[1;33m\u001b[0m\u001b[0m\n\u001b[1;32m--> 591\u001b[1;33m           outputs = execute.execute(\n\u001b[0m\u001b[0;32m    592\u001b[0m               \u001b[0mstr\u001b[0m\u001b[1;33m(\u001b[0m\u001b[0mself\u001b[0m\u001b[1;33m.\u001b[0m\u001b[0msignature\u001b[0m\u001b[1;33m.\u001b[0m\u001b[0mname\u001b[0m\u001b[1;33m)\u001b[0m\u001b[1;33m,\u001b[0m\u001b[1;33m\u001b[0m\u001b[1;33m\u001b[0m\u001b[0m\n\u001b[0;32m    593\u001b[0m               \u001b[0mnum_outputs\u001b[0m\u001b[1;33m=\u001b[0m\u001b[0mself\u001b[0m\u001b[1;33m.\u001b[0m\u001b[0m_num_outputs\u001b[0m\u001b[1;33m,\u001b[0m\u001b[1;33m\u001b[0m\u001b[1;33m\u001b[0m\u001b[0m\n",
      "\u001b[1;32m~\\AppData\\Roaming\\Python\\Python39\\site-packages\\tensorflow\\python\\eager\\execute.py\u001b[0m in \u001b[0;36mquick_execute\u001b[1;34m(op_name, num_outputs, inputs, attrs, ctx, name)\u001b[0m\n\u001b[0;32m     57\u001b[0m   \u001b[1;32mtry\u001b[0m\u001b[1;33m:\u001b[0m\u001b[1;33m\u001b[0m\u001b[1;33m\u001b[0m\u001b[0m\n\u001b[0;32m     58\u001b[0m     \u001b[0mctx\u001b[0m\u001b[1;33m.\u001b[0m\u001b[0mensure_initialized\u001b[0m\u001b[1;33m(\u001b[0m\u001b[1;33m)\u001b[0m\u001b[1;33m\u001b[0m\u001b[1;33m\u001b[0m\u001b[0m\n\u001b[1;32m---> 59\u001b[1;33m     tensors = pywrap_tfe.TFE_Py_Execute(ctx._handle, device_name, op_name,\n\u001b[0m\u001b[0;32m     60\u001b[0m                                         inputs, attrs, num_outputs)\n\u001b[0;32m     61\u001b[0m   \u001b[1;32mexcept\u001b[0m \u001b[0mcore\u001b[0m\u001b[1;33m.\u001b[0m\u001b[0m_NotOkStatusException\u001b[0m \u001b[1;32mas\u001b[0m \u001b[0me\u001b[0m\u001b[1;33m:\u001b[0m\u001b[1;33m\u001b[0m\u001b[1;33m\u001b[0m\u001b[0m\n",
      "\u001b[1;31mKeyboardInterrupt\u001b[0m: "
     ]
    }
   ],
   "source": [
    "model_name = 'good_ugly_cnn_model1'\n",
    "\n",
    "model1_layers = [\n",
    "    Conv1D(filters=filters, kernel_size=kernel_size, padding='same', activation=activation, kernel_initializer=kernel_initializer),\n",
    "    Conv1D(filters=filters, kernel_size=kernel_size, padding='same', activation=activation, kernel_initializer=kernel_initializer),\n",
    "    MaxPool1D(pool_size=pool_size, padding='same'),\n",
    "    Conv1D(filters=filters, kernel_size=kernel_size, padding='same', activation=activation, kernel_initializer=kernel_initializer),\n",
    "    Conv1D(filters=filters, kernel_size=kernel_size, padding='same', activation=activation, kernel_initializer=kernel_initializer),\n",
    "    MaxPool1D(pool_size=pool_size, padding='same'),\n",
    "    Flatten(), \n",
    "    Dense(dense_units, activation=activation, kernel_initializer=kernel_initializer),\n",
    "    Dense(n_outputs)\n",
    "]\n",
    "\n",
    "with mlflow.start_run(run_name=model_name) as run:\n",
    "\n",
    "    model1 = create_model(layers=model1_layers, optimizer=opt)\n",
    "\n",
    "    model1_history = model1.fit(X_train, \n",
    "                            y_train, \n",
    "                            epochs=epochs, \n",
    "                            batch_size=batch_size, \n",
    "                            validation_split=0.2, \n",
    "                            shuffle=True, \n",
    "                            verbose=verbose, \n",
    "                            callbacks=[early_stopping])\n",
    "\n",
    "    # Plot training history\n",
    "    plot_train_history(model1_history, 'Training and validation loss')\n",
    "    plt.savefig(\"training_history.jpg\")\n",
    "    mlflow.log_artifact(\"training_history.jpg\")\n",
    "    plt.show()\n",
    "\n",
    "    # Log model parameters\n",
    "    mlflow.log_param(\"activation\", activation)\n",
    "    mlflow.log_param(\"kernel_initializer\", kernel_initializer)\n",
    "    mlflow.log_param(\"output activation\", output_activation)\n",
    "    mlflow.log_param(\"optimizer\", optimizer)\n",
    "    mlflow.log_param(\"learning rate\", learning_rate)\n",
    "    mlflow.log_param(\"batch size\", batch_size)\n",
    "    mlflow.log_param(\"epochs\", early_stopping.stopped_epoch)\n",
    "    mlflow.log_param(\"filters\", filters)\n",
    "    mlflow.log_param(\"kernel_size\", kernel_size)\n",
    "    mlflow.log_param(\"pool size\", pool_size)\n",
    "    mlflow.log_param(\"total params\", model1.count_params())\n",
    "    mlflow.log_param(\"units\", dense_units)\n",
    "\n",
    "    # Log model performance\n",
    "    start_time = time.time()\n",
    "    predictions = model1.predict(X_test)\n",
    "    end_time = time.time()\n",
    "    process_time = (end_time - start_time) * 1000\n",
    "    predictions = y_scaler.inverse_transform(predictions)\n",
    "    (mse, mae, r2, variance) = eval_metrics(y_test, predictions)\n",
    "    mlflow.log_metric(\"mse\", mse)\n",
    "    mlflow.log_metric(\"mae\", mae)\n",
    "    mlflow.log_metric(\"R-squared\", r2)\n",
    "    mlflow.log_metric(\"variance\", variance)\n",
    "    mlflow.log_metric(\"process time\", process_time)\n",
    "\n",
    "    # Log model and scaler(s)\n",
    "    mlflow.keras.log_model(model1, model_name, signature=signature)\n",
    "    mlflow.sklearn.log_model(X_scaler, 'InputScaler')\n",
    "    mlflow.sklearn.log_model(y_scaler, 'OutputScaler')"
   ]
  },
  {
   "source": [
    "## 3.7 Model 2: 3 Convolutional Blocks"
   ],
   "cell_type": "markdown",
   "metadata": {}
  },
  {
   "cell_type": "code",
   "execution_count": null,
   "metadata": {},
   "outputs": [],
   "source": [
    "model_name = 'good_ugly_cnn_model2'\n",
    "\n",
    "model2_layers = [\n",
    "    Conv1D(filters=filters, kernel_size=kernel_size, padding='same', activation=activation, kernel_initializer=kernel_initializer),\n",
    "    Conv1D(filters=filters, kernel_size=kernel_size, padding='same', activation=activation, kernel_initializer=kernel_initializer),\n",
    "    MaxPool1D(pool_size=pool_size, padding='same'),\n",
    "    Conv1D(filters=filters, kernel_size=kernel_size, padding='same', activation=activation, kernel_initializer=kernel_initializer),\n",
    "    Conv1D(filters=filters, kernel_size=kernel_size, padding='same', activation=activation, kernel_initializer=kernel_initializer),\n",
    "    MaxPool1D(pool_size=pool_size, padding='same'),\n",
    "    Conv1D(filters=filters, kernel_size=kernel_size, padding='same', activation=activation, kernel_initializer=kernel_initializer),\n",
    "    Conv1D(filters=filters, kernel_size=kernel_size, padding='same', activation=activation, kernel_initializer=kernel_initializer),\n",
    "    MaxPool1D(pool_size=pool_size, padding='same'),\n",
    "    Flatten(), \n",
    "    Dense(dense_units, activation=activation, kernel_initializer=kernel_initializer),\n",
    "    Dense(n_outputs)\n",
    "]\n",
    "\n",
    "with mlflow.start_run(run_name=model_name) as run:\n",
    "\n",
    "    model2 = create_model(layers=model2_layers, optimizer=opt)\n",
    "\n",
    "    model2_history = model2.fit(X_train, \n",
    "                            y_train, \n",
    "                            epochs=epochs, \n",
    "                            batch_size=batch_size, \n",
    "                            validation_split=0.2, \n",
    "                            shuffle=True, \n",
    "                            verbose=verbose, \n",
    "                            callbacks=[early_stopping])\n",
    "\n",
    "    # Plot training history\n",
    "    plot_train_history(model2_history, 'Training and validation loss')\n",
    "    plt.savefig(\"training_history.jpg\")\n",
    "    mlflow.log_artifact(\"training_history.jpg\")\n",
    "    plt.show()\n",
    "\n",
    "    # Log model parameters\n",
    "    mlflow.log_param(\"activation\", activation)\n",
    "    mlflow.log_param(\"kernel_initializer\", kernel_initializer)\n",
    "    mlflow.log_param(\"output activation\", output_activation)\n",
    "    mlflow.log_param(\"optimizer\", optimizer)\n",
    "    mlflow.log_param(\"learning rate\", learning_rate)\n",
    "    mlflow.log_param(\"batch size\", batch_size)\n",
    "    mlflow.log_param(\"epochs\", early_stopping.stopped_epoch)\n",
    "    mlflow.log_param(\"filters\", filters)\n",
    "    mlflow.log_param(\"kernel_size\", kernel_size)\n",
    "    mlflow.log_param(\"pool size\", pool_size)\n",
    "    mlflow.log_param(\"total params\", model2.count_params())\n",
    "    mlflow.log_param(\"units\", dense_units)\n",
    "\n",
    "    # Log model performance\n",
    "    start_time = time.time()\n",
    "    predictions = model2.predict(X_test)\n",
    "    end_time = time.time()\n",
    "    process_time = (end_time - start_time) * 1000\n",
    "    predictions = y_scaler.inverse_transform(predictions)\n",
    "    (mse, mae, r2, variance) = eval_metrics(y_test, predictions)\n",
    "    mlflow.log_metric(\"mse\", mse)\n",
    "    mlflow.log_metric(\"mae\", mae)\n",
    "    mlflow.log_metric(\"R-squared\", r2)\n",
    "    mlflow.log_metric(\"variance\", variance)\n",
    "    mlflow.log_metric(\"process time\", process_time)\n",
    "\n",
    "    # Log model and scaler(s)\n",
    "    mlflow.keras.log_model(model2, model_name, signature=signature)\n",
    "    mlflow.sklearn.log_model(X_scaler, 'InputScaler')\n",
    "    mlflow.sklearn.log_model(y_scaler, 'OutputScaler')"
   ]
  },
  {
   "source": [
    "## 3.8 Model 3: 3 Convolutional Blocks + Dropout Regularization\n",
    "\n",
    "We'll continue with the three convolutional blocks but to try and seek more improvement by using Regularization techniques to avoid overfitting. First, we'll try dropout because it's a simple technique that randomly drop nodes out of the network which forces the remaining nodes to try extra. \n",
    "\n",
    "We'll add Dropout to the model by adding Dropout layers after each Max pooling layer and after the fully connected layer. We'll use a fixed dropout rate of 20% so we retain 80% of the nodes."
   ],
   "cell_type": "markdown",
   "metadata": {}
  },
  {
   "cell_type": "code",
   "execution_count": null,
   "metadata": {},
   "outputs": [],
   "source": [
    "model_name = 'good_ugly_cnn_model3'\n",
    "\n",
    "model3_layers = [\n",
    "    Conv1D(filters=filters, kernel_size=kernel_size, padding='same', activation=activation, kernel_initializer=kernel_initializer),\n",
    "    Conv1D(filters=filters, kernel_size=kernel_size, padding='same', activation=activation, kernel_initializer=kernel_initializer),\n",
    "    MaxPool1D(pool_size=pool_size, padding='same'),\n",
    "    Dropout(0.2),\n",
    "    Conv1D(filters=filters, kernel_size=kernel_size, padding='same', activation=activation, kernel_initializer=kernel_initializer),\n",
    "    Conv1D(filters=filters, kernel_size=kernel_size, padding='same', activation=activation, kernel_initializer=kernel_initializer),\n",
    "    MaxPool1D(pool_size=pool_size, padding='same'),\n",
    "    Dropout(0.2),\n",
    "    Conv1D(filters=filters, kernel_size=kernel_size, padding='same', activation=activation, kernel_initializer=kernel_initializer),\n",
    "    Conv1D(filters=filters, kernel_size=kernel_size, padding='same', activation=activation, kernel_initializer=kernel_initializer),\n",
    "    MaxPool1D(pool_size=pool_size, padding='same'),\n",
    "    Dropout(0.2),\n",
    "    Flatten(), \n",
    "    Dense(dense_units, activation=activation, kernel_initializer=kernel_initializer),\n",
    "    Dropout(0.2),\n",
    "    Dense(n_outputs)\n",
    "]\n",
    "\n",
    "with mlflow.start_run(run_name=model_name) as run:\n",
    "\n",
    "    model3 = create_model(layers=model3_layers, optimizer=opt)\n",
    "\n",
    "    model3_history = model3.fit(X_train, \n",
    "                            y_train, \n",
    "                            epochs=epochs, \n",
    "                            batch_size=batch_size, \n",
    "                            validation_split=0.2, \n",
    "                            shuffle=True, \n",
    "                            verbose=verbose, \n",
    "                            callbacks=[early_stopping])\n",
    "\n",
    "    # Plot training history\n",
    "    plot_train_history(model3_history, 'Training and validation loss')\n",
    "    plt.savefig(\"training_history.jpg\")\n",
    "    mlflow.log_artifact(\"training_history.jpg\")\n",
    "    plt.show()\n",
    "\n",
    "    # Log model parameters\n",
    "    mlflow.log_param(\"activation\", activation)\n",
    "    mlflow.log_param(\"kernel_initializer\", kernel_initializer)\n",
    "    mlflow.log_param(\"output activation\", output_activation)\n",
    "    mlflow.log_param(\"optimizer\", optimizer)\n",
    "    mlflow.log_param(\"learning rate\", learning_rate)\n",
    "    mlflow.log_param(\"batch size\", batch_size)\n",
    "    mlflow.log_param(\"epochs\", early_stopping.stopped_epoch)\n",
    "    mlflow.log_param(\"filters\", filters)\n",
    "    mlflow.log_param(\"kernel_size\", kernel_size)\n",
    "    mlflow.log_param(\"pool size\", pool_size)\n",
    "    mlflow.log_param(\"total params\", model3.count_params())\n",
    "    mlflow.log_param(\"units\", dense_units)\n",
    "\n",
    "    # Log model performance\n",
    "    start_time = time.time()\n",
    "    predictions = model3.predict(X_test)\n",
    "    end_time = time.time()\n",
    "    process_time = (end_time - start_time) * 1000\n",
    "    predictions = y_scaler.inverse_transform(predictions)\n",
    "    (mse, mae, r2, variance) = eval_metrics(y_test, predictions)\n",
    "    mlflow.log_metric(\"mse\", mse)\n",
    "    mlflow.log_metric(\"mae\", mae)\n",
    "    mlflow.log_metric(\"R-squared\", r2)\n",
    "    mlflow.log_metric(\"variance\", variance)\n",
    "    mlflow.log_metric(\"process time\", process_time)\n",
    "\n",
    "    # Log model and scaler(s)\n",
    "    mlflow.keras.log_model(model3, model_name, signature=signature)\n",
    "    mlflow.sklearn.log_model(X_scaler, 'InputScaler')\n",
    "    mlflow.sklearn.log_model(y_scaler, 'OutputScaler')"
   ]
  },
  {
   "source": [
    "## 3.9 Model 4: 3 Convolutional Blocks + Weight Decay\n",
    "\n",
    "The last model architecture we'll try is with the 3 convolutional blocks and with weight decay which is another regularization technique involving updating the loss function to penalize the model in proportion to the size of the model weights.\n",
    "\n",
    "We'll add weight regularization to the convolutional layers and the funny connected (Dense) layer. In this case, we'll use the L2 weight regularization because it seems to be the most common type for neural networks, and 0.001 for the default weighting."
   ],
   "cell_type": "markdown",
   "metadata": {}
  },
  {
   "cell_type": "code",
   "execution_count": null,
   "metadata": {},
   "outputs": [],
   "source": [
    "model_name = 'good_ugly_cnn_model4'\n",
    "\n",
    "model4_layers = [\n",
    "    Conv1D(filters=filters, kernel_size=kernel_size, padding='same', activation=activation, kernel_initializer=kernel_initializer, \n",
    "            kernel_regularizer=l2(0.001)),\n",
    "    Conv1D(filters=filters, kernel_size=kernel_size, padding='same', activation=activation, kernel_initializer=kernel_initializer, \n",
    "            kernel_regularizer=l2(0.001)),\n",
    "    MaxPool1D(pool_size=pool_size, padding='same'),\n",
    "    Dropout(0.2),\n",
    "    Conv1D(filters=filters, kernel_size=kernel_size, padding='same', activation=activation, kernel_initializer=kernel_initializer, \n",
    "            kernel_regularizer=l2(0.001)),\n",
    "    Conv1D(filters=filters, kernel_size=kernel_size, padding='same', activation=activation, kernel_initializer=kernel_initializer,\n",
    "            kernel_regularizer=l2(0.001)),\n",
    "    MaxPool1D(pool_size=pool_size, padding='same'),\n",
    "    Dropout(0.2),\n",
    "    Conv1D(filters=filters, kernel_size=kernel_size, padding='same', activation=activation, kernel_initializer=kernel_initializer,\n",
    "            kernel_regularizer=l2(0.001)),\n",
    "    Conv1D(filters=filters, kernel_size=kernel_size, padding='same', activation=activation, kernel_initializer=kernel_initializer,\n",
    "            kernel_regularizer=l2(0.001)),\n",
    "    MaxPool1D(pool_size=pool_size, padding='same'),\n",
    "    Dropout(0.2),\n",
    "    Flatten(), \n",
    "    Dense(dense_units, activation=activation, kernel_initializer=kernel_initializer, kernel_regularizer=l2(0.001)),\n",
    "    Dropout(0.2),\n",
    "    Dense(n_outputs)\n",
    "]\n",
    "\n",
    "\n",
    "with mlflow.start_run(run_name=model_name) as run:\n",
    "\n",
    "    model4 = create_model(layers=model4_layers, optimizer=opt)\n",
    "\n",
    "    model4_history = model4.fit(X_train, \n",
    "                            y_train, \n",
    "                            epochs=epochs, \n",
    "                            batch_size=batch_size, \n",
    "                            validation_split=0.2, \n",
    "                            shuffle=True, \n",
    "                            verbose=verbose, \n",
    "                            callbacks=[early_stopping])\n",
    "\n",
    "    # Plot training history\n",
    "    plot_train_history(model4_history, 'Training and validation loss')\n",
    "    plt.savefig(\"training_history.jpg\")\n",
    "    mlflow.log_artifact(\"training_history.jpg\")\n",
    "    plt.show()\n",
    "\n",
    "    # Log model parameters\n",
    "    mlflow.log_param(\"activation\", activation)\n",
    "    mlflow.log_param(\"kernel_initializer\", kernel_initializer)\n",
    "    mlflow.log_param(\"output activation\", output_activation)\n",
    "    mlflow.log_param(\"optimizer\", optimizer)\n",
    "    mlflow.log_param(\"learning rate\", learning_rate)\n",
    "    mlflow.log_param(\"batch size\", batch_size)\n",
    "    mlflow.log_param(\"epochs\", early_stopping.stopped_epoch)\n",
    "    mlflow.log_param(\"filters\", filters)\n",
    "    mlflow.log_param(\"kernel_size\", kernel_size)\n",
    "    mlflow.log_param(\"pool size\", pool_size)\n",
    "    mlflow.log_param(\"total params\", model4.count_params())\n",
    "    mlflow.log_param(\"units\", dense_units)\n",
    "\n",
    "    # Log model performance\n",
    "    start_time = time.time()\n",
    "    predictions = model4.predict(X_test)\n",
    "    end_time = time.time()\n",
    "    process_time = (end_time - start_time) * 1000\n",
    "    predictions = y_scaler.inverse_transform(predictions)\n",
    "    (mse, mae, r2, variance) = eval_metrics(y_test, predictions)\n",
    "    mlflow.log_metric(\"mse\", mse)\n",
    "    mlflow.log_metric(\"mae\", mae)\n",
    "    mlflow.log_metric(\"R-squared\", r2)\n",
    "    mlflow.log_metric(\"variance\", variance)\n",
    "    mlflow.log_metric(\"process time\", process_time)\n",
    "\n",
    "    # Log model and scaler(s)\n",
    "    mlflow.keras.log_model(model4, model_name, signature=signature)\n",
    "    mlflow.sklearn.log_model(X_scaler, 'InputScaler')\n",
    "    mlflow.sklearn.log_model(y_scaler, 'OutputScaler')"
   ]
  },
  {
   "source": [
    "# 4. Evaluate Model Performances\n",
    "\n",
    "We'll test the model on the holdout (test) set by making predictions and \n",
    "\n",
    "## 4.1 Baseline model performance"
   ],
   "cell_type": "markdown",
   "metadata": {}
  },
  {
   "cell_type": "code",
   "execution_count": 19,
   "metadata": {},
   "outputs": [
    {
     "output_type": "stream",
     "name": "stdout",
     "text": [
      "704/704 [==============================] - 1s 1ms/step\n"
     ]
    }
   ],
   "source": [
    "baseline_predictions = baseline_model.predict(X_test, batch_size=batch_size, verbose=1)\n",
    "# Invert transform on predictions\n",
    "baseline_predictions = y_scaler.inverse_transform(baseline_predictions)"
   ]
  },
  {
   "cell_type": "code",
   "execution_count": 20,
   "metadata": {},
   "outputs": [
    {
     "output_type": "stream",
     "name": "stdout",
     "text": [
      "MSE:  0.12039718158033998\nMSA:  0.17806861049963654\nR-Squared:  0.8789211981170912\nExplained Variance Score:  0.8795059706126536\n"
     ]
    }
   ],
   "source": [
    "(mse, msa, r2, variance) = eval_metrics(y_test, baseline_predictions)\n",
    "\n",
    "print('MSE: ', mse)\n",
    "print('MSA: ', msa)\n",
    "print('R-Squared: ', r2)\n",
    "print('Explained Variance Score: ', variance)"
   ]
  },
  {
   "source": [
    "## 4.2 Model 1 performance"
   ],
   "cell_type": "markdown",
   "metadata": {}
  },
  {
   "cell_type": "code",
   "execution_count": 21,
   "metadata": {},
   "outputs": [
    {
     "output_type": "stream",
     "name": "stdout",
     "text": [
      "704/704 [==============================] - 1s 2ms/step\n"
     ]
    }
   ],
   "source": [
    "model1_predictions = model1.predict(X_test, batch_size=batch_size, verbose=1)\n",
    "# Invert transform on predictions\n",
    "model1_predictions = y_scaler.inverse_transform(model1_predictions)"
   ]
  },
  {
   "cell_type": "code",
   "execution_count": 22,
   "metadata": {},
   "outputs": [
    {
     "output_type": "stream",
     "name": "stdout",
     "text": [
      "MSE:  0.12693775501325283\nMSA:  0.16258956360305962\nR-Squared:  0.8640793342731321\nExplained Variance Score:  0.868041214987251\n"
     ]
    }
   ],
   "source": [
    "(mse, msa, r2, variance) = eval_metrics(y_test, model1_predictions)\n",
    "\n",
    "print('MSE: ', mse)\n",
    "print('MSA: ', msa)\n",
    "print('R-Squared: ', r2)\n",
    "print('Explained Variance Score: ', variance)"
   ]
  },
  {
   "source": [
    "## 4.3 Model 2 performance"
   ],
   "cell_type": "markdown",
   "metadata": {}
  },
  {
   "cell_type": "code",
   "execution_count": null,
   "metadata": {},
   "outputs": [],
   "source": [
    "model2_predictions = model2.predict(X_test, batch_size=batch_size, verbose=1)\n",
    "# Invert transform on predictions\n",
    "model2_predictions = y_scaler.inverse_transform(model2_predictions)"
   ]
  },
  {
   "cell_type": "code",
   "execution_count": null,
   "metadata": {},
   "outputs": [],
   "source": [
    "(mse, msa, r2, variance) = eval_metrics(y_test, model2_predictions)\n",
    "\n",
    "print('MSE: ', mse)\n",
    "print('MSA: ', msa)\n",
    "print('R-Squared: ', r2)\n",
    "print('Explained Variance Score: ', variance)"
   ]
  },
  {
   "source": [
    "## 4.4 Model 3 performance"
   ],
   "cell_type": "markdown",
   "metadata": {}
  },
  {
   "cell_type": "code",
   "execution_count": null,
   "metadata": {},
   "outputs": [],
   "source": [
    "model3_predictions = model3.predict(X_test, batch_size=batch_size, verbose=1)\n",
    "# Invert transform on predictions\n",
    "model3_predictions = y_scaler.inverse_transform(model3_predictions)"
   ]
  },
  {
   "cell_type": "code",
   "execution_count": null,
   "metadata": {},
   "outputs": [],
   "source": [
    "(mse, msa, r2, variance) = eval_metrics(y_test, model3_predictions)\n",
    "\n",
    "print('MSE: ', mse)\n",
    "print('MSA: ', msa)\n",
    "print('R-Squared: ', r2)\n",
    "print('Explained Variance Score: ', variance)"
   ]
  },
  {
   "source": [
    "## 4.5 Model 4 performance"
   ],
   "cell_type": "markdown",
   "metadata": {}
  },
  {
   "cell_type": "code",
   "execution_count": null,
   "metadata": {},
   "outputs": [],
   "source": [
    "model4_predictions = model4.predict(X_test, batch_size=batch_size, verbose=1)\n",
    "# Invert transform on predictions\n",
    "model4_predictions = y_scaler.inverse_transform(model4_predictions)"
   ]
  },
  {
   "cell_type": "code",
   "execution_count": null,
   "metadata": {},
   "outputs": [],
   "source": [
    "(mse, msa, r2, variance) = eval_metrics(y_test, model4_predictions)\n",
    "\n",
    "print('MSE: ', mse)\n",
    "print('MSA: ', msa)\n",
    "print('R-Squared: ', r2)\n",
    "print('Explained Variance Score: ', variance)"
   ]
  },
  {
   "source": [
    "# 5. Register Model(s) (if applicable)"
   ],
   "cell_type": "markdown",
   "metadata": {}
  },
  {
   "cell_type": "code",
   "execution_count": 23,
   "metadata": {},
   "outputs": [],
   "source": [
    "#model_uri = \"runs:/{}/{}\".format(run.info.run_id, model_name)\n",
    "#mv = mlflow.register_model(model_uri, model_name)\n",
    "#print(\"Name: {}\".format(mv.name))\n",
    "#print(\"Version: {}\".format(mv.version))"
   ]
  },
  {
   "source": [
    "# 6. Discussion"
   ],
   "cell_type": "markdown",
   "metadata": {}
  },
  {
   "cell_type": "code",
   "execution_count": null,
   "metadata": {},
   "outputs": [],
   "source": []
  }
 ]
}