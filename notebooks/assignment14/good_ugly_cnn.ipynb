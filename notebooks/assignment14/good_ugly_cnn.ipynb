{
 "metadata": {
  "language_info": {
   "codemirror_mode": {
    "name": "ipython",
    "version": 3
   },
   "file_extension": ".py",
   "mimetype": "text/x-python",
   "name": "python",
   "nbconvert_exporter": "python",
   "pygments_lexer": "ipython3",
   "version": "3.9.5"
  },
  "orig_nbformat": 2,
  "kernelspec": {
   "name": "python395jvsc74a57bd063fd5069d213b44bf678585dea6b12cceca9941eaf7f819626cde1f2670de90d",
   "display_name": "Python 3.9.5 64-bit"
  },
  "metadata": {
   "interpreter": {
    "hash": "63fd5069d213b44bf678585dea6b12cceca9941eaf7f819626cde1f2670de90d"
   }
  }
 },
 "nbformat": 4,
 "nbformat_minor": 2,
 "cells": [
  {
   "source": [
    "# CNN\n",
    "\n",
    "We're working with multioutput regression to predict a goodness score and confidence score for a whole overhead deepsquat exercise, depending on the variables from the PoseNet model representing joint coordinates and confidence scores, per video frame.\n",
    "This means that the outputs are dependent upon the input and upon each other. We're required to find a model that predicts both outputs together.\n",
    "\n",
    "In this Notebook, we're experimenting with 1 dimensional CNNs to find a good-performing model. We're using Conv1D because the input samples consists of sequences of exercise movements, which we can consider as Time-series data. The data represents the movement in 2 axes (X, Y). 1D CNN can perform recognition task from sequential data, such as what position the person has in his exercise and how confident the model is at the position being truthful. This data has 2 dimensions and a confidence score. Kernel moves in one direction.\n",
    "\n",
    "We're not directly dealing with 2D image data (which would require Conv2D) or video data/3D image data (which would require Conv3D)."
   ],
   "cell_type": "markdown",
   "metadata": {}
  },
  {
   "cell_type": "code",
   "execution_count": 1,
   "metadata": {},
   "outputs": [
    {
     "output_type": "stream",
     "name": "stdout",
     "text": [
      "Num GPUs Available:  1\n"
     ]
    }
   ],
   "source": [
    "# MLflow dashboard\n",
    "import mlflow\n",
    "mlflow.set_tracking_uri('http://35.228.45.76:5000')\n",
    "os.environ['GOOGLE_APPLICATION_CREDENTIALS']='../../keys/mlflow-312506-8cfad529f4fd.json'\n",
    "\n",
    "# Import data augmentation\n",
    "import sys\n",
    "module_path = os.path.abspath(os.path.join('../..'))\n",
    "if module_path not in sys.path:\n",
    "    sys.path.append(module_path)\n",
    "from augmentation.methods import *\n",
    "\n",
    "# Ignore warnings\n",
    "import warnings\n",
    "warnings.simplefilter('ignore')\n",
    "\n",
    "# Set random state\n",
    "import numpy as np\n",
    "random_state = 47\n",
    "np.random.seed(random_state)\n",
    "\n",
    "# Use GPU (if available)\n",
    "import tensorflow as tf\n",
    "physical_devices = tf.config.experimental.list_physical_devices( 'GPU' )\n",
    "print( 'Num GPUs Available: ', len( physical_devices ) )\n",
    "if len( physical_devices ) > 0:\n",
    "    tf.config.experimental.set_memory_growth( physical_devices[0], True )"
   ]
  },
  {
   "source": [
    "# 1. Data Preparation\n",
    "\n",
    "## 1.1 Load Dataset"
   ],
   "cell_type": "markdown",
   "metadata": {}
  },
  {
   "cell_type": "code",
   "execution_count": 2,
   "metadata": {},
   "outputs": [],
   "source": [
    "data_path = '../../datasets/'\n",
    "\n",
    "files = [\n",
    "    'posenet_scored_all_1.csv',\n",
    "    'posenet_scored_all_2.csv',\n",
    "    'posenet_scored_all_3.csv',\n",
    "    'posenet_scored_all_4.csv',\n",
    "]\n",
    "\n",
    "df = None"
   ]
  },
  {
   "cell_type": "code",
   "execution_count": 3,
   "metadata": {},
   "outputs": [
    {
     "output_type": "stream",
     "name": "stdout",
     "text": [
      "(225092, 54)\n"
     ]
    }
   ],
   "source": [
    "import pandas as pd\n",
    "\n",
    "for file in files:\n",
    "    try:\n",
    "        dataset = pd.read_csv(data_path + file)\n",
    "        dataset.drop(columns=['left_eye_x', 'left_eye_y', 'left_eye_score', 'right_eye_x', 'right_eye_y', 'right_eye_score', \n",
    "                                'left_ear_x', 'left_ear_y', 'left_ear_score', 'right_ear_x', 'right_ear_y', 'right_ear_score'])\n",
    "        dataset.rename({'nose_x': 'head_x', 'nose_y': 'head_y', 'nose_score': 'head_score'})\n",
    "\n",
    "        if df is None:\n",
    "            df = dataset\n",
    "        else:\n",
    "            df = df.append(dataset, ignore_index=True)  \n",
    "\n",
    "    except IOError as e:\n",
    "        print('Error in reading file: ', e)\n",
    "\n",
    "print(df.shape)"
   ]
  },
  {
   "source": [
    "## 1.2 Train/Val/Test split"
   ],
   "cell_type": "markdown",
   "metadata": {}
  },
  {
   "cell_type": "code",
   "execution_count": 4,
   "metadata": {},
   "outputs": [],
   "source": [
    "X = df.drop(columns=['ConfidenceScore', 'GoodnessScore'])\n",
    "y = df[['ConfidenceScore', 'GoodnessScore']]"
   ]
  },
  {
   "cell_type": "code",
   "execution_count": 5,
   "metadata": {},
   "outputs": [],
   "source": [
    "from sklearn.model_selection import train_test_split\n",
    "\n",
    "X_train, X_test, y_train, y_test = train_test_split(X, y, test_size=0.1, random_state=random_state)"
   ]
  },
  {
   "source": [
    "## 1.3 Standardize features and labels"
   ],
   "cell_type": "markdown",
   "metadata": {}
  },
  {
   "cell_type": "code",
   "execution_count": 6,
   "metadata": {},
   "outputs": [
    {
     "output_type": "stream",
     "name": "stdout",
     "text": [
      "Training features shape: (202582, 52)\nTraining labels shape: (202582, 2) \n\nTest features shape: (22510, 52)\nTest labels shape: (22510, 2)\n"
     ]
    }
   ],
   "source": [
    "from sklearn.preprocessing import StandardScaler\n",
    "\n",
    "X_scaler = StandardScaler()\n",
    "X_train = X_scaler.fit_transform(X_train)\n",
    "X_test = X_scaler.transform(X_test)\n",
    "\n",
    "y_scaler = StandardScaler()\n",
    "y_train = y_scaler.fit_transform(y_train)\n",
    "\n",
    "print('Training features shape:', X_train.shape)\n",
    "print('Training labels shape:', y_train.shape, '\\n')\n",
    "\n",
    "print('Test features shape:', X_test.shape)\n",
    "print('Test labels shape:', y_test.shape)"
   ]
  },
  {
   "source": [
    "## 1.4 Reshape data for convolutional layers"
   ],
   "cell_type": "markdown",
   "metadata": {}
  },
  {
   "cell_type": "code",
   "execution_count": 7,
   "metadata": {},
   "outputs": [
    {
     "output_type": "stream",
     "name": "stdout",
     "text": [
      "Before: (202582, 52)\nAfter: (202582, 1, 52)\n"
     ]
    }
   ],
   "source": [
    "original_shape = X_train.shape\n",
    "X_train = X_train.reshape((X_train.shape[0], 1, X_train.shape[1]))\n",
    "X_test = X_test.reshape((X_test.shape[0], 1, X_test.shape[1]))\n",
    "n_timesteps, n_features, n_outputs = X_train.shape[1], X_train.shape[2], y_train.shape[1]\n",
    "\n",
    "print(\"Before: {}\".format(original_shape))\n",
    "\n",
    "input_shape = (n_timesteps, n_features)\n",
    "\n",
    "print(\"After: {}\".format(X_train.shape))"
   ]
  },
  {
   "source": [
    "# 2. Define Model Architecture\n",
    "\n",
    "## 2.1 Model Architecture\n",
    "\n",
    "The **create_model()** method returns a model with the layers and configurations specified.\n",
    "\n",
    "The model will optimize the mean squared error (mse) required for regression problems."
   ],
   "cell_type": "markdown",
   "metadata": {}
  },
  {
   "cell_type": "code",
   "execution_count": 8,
   "metadata": {},
   "outputs": [],
   "source": [
    "from tensorflow.keras.metrics import MeanSquaredError, MeanAbsoluteError, RootMeanSquaredError\n",
    "from tensorflow.keras.layers import InputLayer\n",
    "\n",
    "metrics = [\n",
    "    MeanSquaredError(name=\"mse\", dtype=None),\n",
    "    MeanAbsoluteError(name=\"mae\", dtype=None),\n",
    "    RootMeanSquaredError(name=\"rmse\", dtype=None),\n",
    "]\n",
    "\n",
    "def create_model(layers, optimizer):\n",
    "    model = tf.keras.models.Sequential(\n",
    "        InputLayer(input_shape=(n_timesteps, n_features))\n",
    "    )\n",
    "\n",
    "    for layer in layers:\n",
    "        model.add(layer)\n",
    "\n",
    "    model.compile(optimizer=optimizer, loss='mean_squared_error', metrics=metrics)\n",
    "\n",
    "    print(model.summary())\n",
    "\n",
    "    return model"
   ]
  },
  {
   "source": [
    "# 3. Run Experiments\n",
    "\n",
    "We will use our [MLflow dashboard](http://35.228.45.76:5000/#/) to track the outcome of experimentation runs.\n",
    "\n",
    "## 3.1 Define a MLflow Experiment\n",
    "\n",
    "We'll define the running setup and the model signature."
   ],
   "cell_type": "markdown",
   "metadata": {}
  },
  {
   "cell_type": "code",
   "execution_count": 9,
   "metadata": {},
   "outputs": [],
   "source": [
    "verbose, epochs, batch_size = 1, 100, 32\n",
    "\n",
    "from keras.callbacks import EarlyStopping\n",
    "early_stopping = EarlyStopping(\n",
    "    monitor='val_loss', \n",
    "    verbose=1,\n",
    "    patience=10,\n",
    "    mode='min',\n",
    "    restore_best_weights=True)"
   ]
  },
  {
   "cell_type": "code",
   "execution_count": 10,
   "metadata": {},
   "outputs": [],
   "source": [
    "from mlflow.models.signature import ModelSignature\n",
    "from mlflow.types.schema import Schema, ColSpec\n",
    "\n",
    "input_schema = Schema([\n",
    "    ColSpec(\"double\", \"head_x\"),\n",
    "    ColSpec(\"double\", \"head_y\"),\n",
    "    ColSpec(\"double\", \"head_score\"),\n",
    "    ColSpec(\"double\", \"left_shoulder_x\"),\n",
    "    ColSpec(\"double\", \"left_shoulder_y\"),\n",
    "    ColSpec(\"double\", \"left_shoulder_score\"),\n",
    "    ColSpec(\"double\", \"right_shoulder_x\"),\n",
    "    ColSpec(\"double\", \"right_shoulder_y\"),\n",
    "    ColSpec(\"double\", \"right_shoulder_score\"),\n",
    "    ColSpec(\"double\", \"left_elbow_x\"),\n",
    "    ColSpec(\"double\", \"left_elbow_y\"),\n",
    "    ColSpec(\"double\", \"left_elbow_score\"),\n",
    "    ColSpec(\"double\", \"right_elbow_x\"),\n",
    "    ColSpec(\"double\", \"right_elbow_y\"),\n",
    "    ColSpec(\"double\", \"right_elbow_score\"),\n",
    "    ColSpec(\"double\", \"left_wrist_x\"),\n",
    "    ColSpec(\"double\", \"left_wrist_y\"),\n",
    "    ColSpec(\"double\", \"left_wrist_score\"),\n",
    "    ColSpec(\"double\", \"right_wrist_x\"),\n",
    "    ColSpec(\"double\", \"right_wrist_y\"),\n",
    "    ColSpec(\"double\", \"right_wrist_score\"),\n",
    "    ColSpec(\"double\", \"left_hip_x\"),\n",
    "    ColSpec(\"double\", \"left_hip_y\"),\n",
    "    ColSpec(\"double\", \"left_hip_score\"),\n",
    "    ColSpec(\"double\", \"right_hip_x\"),\n",
    "    ColSpec(\"double\", \"right_hip_y\"),\n",
    "    ColSpec(\"double\", \"right_hip_score\"),\n",
    "    ColSpec(\"double\", \"left_knee_x\"),\n",
    "    ColSpec(\"double\", \"left_knee_y\"),\n",
    "    ColSpec(\"double\", \"left_knee_score\"),\n",
    "    ColSpec(\"double\", \"right_knee_x\"),\n",
    "    ColSpec(\"double\", \"right_knee_y\"),\n",
    "    ColSpec(\"double\", \"right_knee_score\"),\n",
    "    ColSpec(\"double\", \"left_ankle_x\"),\n",
    "    ColSpec(\"double\", \"left_ankle_y\"),\n",
    "    ColSpec(\"double\", \"left_ankle_score\"),\n",
    "    ColSpec(\"double\", \"right_ankle_x\"),\n",
    "    ColSpec(\"double\", \"right_ankle_y\"),\n",
    "    ColSpec(\"double\", \"right_ankle_score\"),\n",
    "    ColSpec(\"double\", \"score\")\n",
    "])\n",
    "output_schema = Schema([\n",
    "    ColSpec(\"double\", \"ConfidenceScore\"),\n",
    "    ColSpec(\"double\", \"GoodnessScore\"),\n",
    "])\n",
    "signature = ModelSignature(inputs=input_schema, outputs=output_schema)"
   ]
  },
  {
   "source": [
    "## 3.2 Plot Training History\n",
    "\n",
    "This method will be used to inspect how the model is learning by showing training and validation loss."
   ],
   "cell_type": "markdown",
   "metadata": {}
  },
  {
   "cell_type": "code",
   "execution_count": 11,
   "metadata": {},
   "outputs": [],
   "source": [
    "import matplotlib as mpl\n",
    "import matplotlib.pyplot as plt\n",
    "\n",
    "mpl.rcParams['figure.figsize'] = (8, 6)\n",
    "mpl.rcParams['axes.grid'] = False\n",
    "\n",
    "def plot_train_history(history, title):\n",
    "    loss = history.history['loss']\n",
    "    val_loss = history.history['val_loss']\n",
    "    epochs = range(len(loss))\n",
    "    plt.figure()\n",
    "    plt.plot(epochs, loss, 'b', label='Training loss')\n",
    "    plt.plot(epochs, val_loss, 'r', label='Validation loss')\n",
    "    plt.title(title)\n",
    "    plt.legend()\n",
    "    plt.show()"
   ]
  },
  {
   "source": [
    "## 3.3 Define Evaluation Metrics\n",
    "\n",
    "We'll use standard regression performance metrics to evaluate model performance."
   ],
   "cell_type": "markdown",
   "metadata": {}
  },
  {
   "cell_type": "code",
   "execution_count": 12,
   "metadata": {},
   "outputs": [],
   "source": [
    "from sklearn.metrics import mean_squared_error, r2_score, explained_variance_score, mean_absolute_error\n",
    "\n",
    "def eval_metrics(actual, pred):\n",
    "    mse = mean_squared_error(actual, pred)\n",
    "    msa = mean_absolute_error(actual, pred)\n",
    "    r2 = r2_score(actual, pred)\n",
    "    variance = explained_variance_score(actual, pred)\n",
    "    return mse, msa, r2, variance"
   ]
  },
  {
   "source": [
    "## 3.4 Model Parameters\n",
    "\n",
    "For each experimentation run, we'll test different values for model parameters with each model architecture we define. These are the parameter values we're using as a starting point:\n",
    "\n",
    "- We'll begin small kernels, and then increase to larger ones. \n",
    "- As for layers, we'll start by using the ReLU activation function and He weight initialization, which we have noticed seem to provide a general good model performance.\n",
    "- The RMSprop optimizer will be used first as this is a regression problem we're trying to solve, and we'll use a modest learning rate of 0.001 with a large momentum of 0.9 (generally good practices). But we'll also try the Adam optimizer.\n",
    "\n",
    "As we're experimenting with these values, the results will be shown in [MLflow dashboard](http://35.228.45.76:5000/#/)."
   ],
   "cell_type": "markdown",
   "metadata": {}
  },
  {
   "cell_type": "code",
   "execution_count": 14,
   "metadata": {},
   "outputs": [],
   "source": [
    "from tensorflow.keras.optimizers import RMSprop, Adam\n",
    "\n",
    "# Parameters\n",
    "filters = 64\n",
    "kernel_size = 3\n",
    "\n",
    "activation = 'relu'\n",
    "kernel_initializer = 'he_uniform'\n",
    "\n",
    "pool_size = 2\n",
    "\n",
    "output_activation = 'linear'\n",
    "\n",
    "# Optimization function\n",
    "optimizer = 'RMSprop'\n",
    "learning_rate = 0.001\n",
    "momentum = 0.9\n",
    "opt = RMSprop(learning_rate=learning_rate, momentum=momentum)"
   ]
  },
  {
   "source": [
    "## 3.5 Baseline model\n",
    "\n",
    "Now we can start experimenting with the models, and we'll start with a baseline model. The baseline model will establish a minimum model performance to which all other models can be compared. \n",
    "\n",
    "We selected the general architectural principles of the VGG models as starting point because that structure is easy to understand and implement at the same time as it has previously achieved good performance. <br />\n",
    "The architecture involves stacking convolutional layers with small 3x3 filters followed by a max-pooling layer. Padding is used on the convolutional layers to ensure the height and width of the output feature maps matches the inputs.\n",
    "\n",
    "The feature maps output from the feature extraction part of this baseline model will be flattened before we can interpret them with two fully connected (Dense) layers, and then output a prediction."
   ],
   "cell_type": "markdown",
   "metadata": {}
  },
  {
   "cell_type": "code",
   "execution_count": 13,
   "metadata": {},
   "outputs": [
    {
     "output_type": "stream",
     "name": "stdout",
     "text": [
      "Model: \"sequential\"\n",
      "_________________________________________________________________\n",
      "Layer (type)                 Output Shape              Param #   \n",
      "=================================================================\n",
      "conv1d (Conv1D)              (None, 1, 64)             10048     \n",
      "_________________________________________________________________\n",
      "conv1d_1 (Conv1D)            (None, 1, 64)             12352     \n",
      "_________________________________________________________________\n",
      "dropout (Dropout)            (None, 1, 64)             0         \n",
      "_________________________________________________________________\n",
      "max_pooling1d (MaxPooling1D) (None, 1, 64)             0         \n",
      "_________________________________________________________________\n",
      "flatten (Flatten)            (None, 64)                0         \n",
      "_________________________________________________________________\n",
      "dense (Dense)                (None, 100)               6500      \n",
      "_________________________________________________________________\n",
      "dense_1 (Dense)              (None, 2)                 202       \n",
      "=================================================================\n",
      "Total params: 29,102\n",
      "Trainable params: 29,102\n",
      "Non-trainable params: 0\n",
      "_________________________________________________________________\n",
      "None\n",
      "Epoch 1/100\n",
      "5065/5065 [==============================] - 27s 5ms/step - loss: 0.4375 - mse: 0.4375 - mae: 0.4457 - rmse: 0.6614 - val_loss: 0.4004 - val_mse: 0.4004 - val_mae: 0.4323 - val_rmse: 0.6328\n",
      "Epoch 2/100\n",
      "5065/5065 [==============================] - 24s 5ms/step - loss: 0.3492 - mse: 0.3492 - mae: 0.3935 - rmse: 0.5909 - val_loss: 0.3999 - val_mse: 0.3999 - val_mae: 0.4293 - val_rmse: 0.6324\n",
      "Epoch 3/100\n",
      "5065/5065 [==============================] - 25s 5ms/step - loss: 0.3191 - mse: 0.3191 - mae: 0.3719 - rmse: 0.5649 - val_loss: 0.3357 - val_mse: 0.3357 - val_mae: 0.3815 - val_rmse: 0.5794\n",
      "Epoch 4/100\n",
      "5065/5065 [==============================] - 24s 5ms/step - loss: 0.3140 - mse: 0.3140 - mae: 0.3670 - rmse: 0.5604 - val_loss: 0.3619 - val_mse: 0.3619 - val_mae: 0.3962 - val_rmse: 0.6016\n",
      "Epoch 5/100\n",
      "5065/5065 [==============================] - 24s 5ms/step - loss: 0.3146 - mse: 0.3146 - mae: 0.3665 - rmse: 0.5609 - val_loss: 0.3104 - val_mse: 0.3104 - val_mae: 0.3788 - val_rmse: 0.5572\n",
      "Epoch 6/100\n",
      "5065/5065 [==============================] - 24s 5ms/step - loss: 0.3061 - mse: 0.3061 - mae: 0.3638 - rmse: 0.5532 - val_loss: 0.2839 - val_mse: 0.2839 - val_mae: 0.3387 - val_rmse: 0.5328\n",
      "Epoch 7/100\n",
      "5065/5065 [==============================] - 24s 5ms/step - loss: 0.2991 - mse: 0.2991 - mae: 0.3576 - rmse: 0.5469 - val_loss: 0.3303 - val_mse: 0.3303 - val_mae: 0.3677 - val_rmse: 0.5747\n",
      "Epoch 8/100\n",
      "5065/5065 [==============================] - 25s 5ms/step - loss: 0.3004 - mse: 0.3004 - mae: 0.3590 - rmse: 0.5481 - val_loss: 0.3170 - val_mse: 0.3170 - val_mae: 0.3549 - val_rmse: 0.5630\n",
      "Epoch 9/100\n",
      "5065/5065 [==============================] - 24s 5ms/step - loss: 0.2990 - mse: 0.2990 - mae: 0.3553 - rmse: 0.5468 - val_loss: 0.2731 - val_mse: 0.2731 - val_mae: 0.3311 - val_rmse: 0.5226\n",
      "Epoch 10/100\n",
      "5065/5065 [==============================] - 25s 5ms/step - loss: 0.2919 - mse: 0.2919 - mae: 0.3537 - rmse: 0.5403 - val_loss: 0.2739 - val_mse: 0.2739 - val_mae: 0.3369 - val_rmse: 0.5233\n",
      "Epoch 11/100\n",
      "5065/5065 [==============================] - 25s 5ms/step - loss: 0.2981 - mse: 0.2981 - mae: 0.3559 - rmse: 0.5460 - val_loss: 0.3209 - val_mse: 0.3209 - val_mae: 0.3778 - val_rmse: 0.5665\n",
      "Epoch 12/100\n",
      "5065/5065 [==============================] - 25s 5ms/step - loss: 0.2982 - mse: 0.2982 - mae: 0.3572 - rmse: 0.5461 - val_loss: 0.2477 - val_mse: 0.2477 - val_mae: 0.3088 - val_rmse: 0.4977\n",
      "Epoch 13/100\n",
      "5065/5065 [==============================] - 24s 5ms/step - loss: 0.3040 - mse: 0.3040 - mae: 0.3600 - rmse: 0.5514 - val_loss: 0.2568 - val_mse: 0.2568 - val_mae: 0.3390 - val_rmse: 0.5068\n",
      "Epoch 14/100\n",
      "5065/5065 [==============================] - 24s 5ms/step - loss: 0.3017 - mse: 0.3017 - mae: 0.3627 - rmse: 0.5493 - val_loss: 0.2915 - val_mse: 0.2915 - val_mae: 0.3449 - val_rmse: 0.5399\n",
      "Epoch 15/100\n",
      "5065/5065 [==============================] - 25s 5ms/step - loss: 0.3021 - mse: 0.3021 - mae: 0.3618 - rmse: 0.5497 - val_loss: 0.2605 - val_mse: 0.2605 - val_mae: 0.3646 - val_rmse: 0.5104\n",
      "Epoch 16/100\n",
      "5065/5065 [==============================] - 25s 5ms/step - loss: 0.3016 - mse: 0.3016 - mae: 0.3602 - rmse: 0.5491 - val_loss: 0.3069 - val_mse: 0.3069 - val_mae: 0.3941 - val_rmse: 0.5540\n",
      "Epoch 17/100\n",
      "5065/5065 [==============================] - 25s 5ms/step - loss: 0.2985 - mse: 0.2985 - mae: 0.3588 - rmse: 0.5464 - val_loss: 0.2564 - val_mse: 0.2564 - val_mae: 0.3541 - val_rmse: 0.5063\n",
      "Epoch 18/100\n",
      "5065/5065 [==============================] - 26s 5ms/step - loss: 0.2975 - mse: 0.2975 - mae: 0.3583 - rmse: 0.5454 - val_loss: 0.2751 - val_mse: 0.2751 - val_mae: 0.3520 - val_rmse: 0.5245\n",
      "Epoch 19/100\n",
      "5065/5065 [==============================] - 25s 5ms/step - loss: 0.3056 - mse: 0.3056 - mae: 0.3611 - rmse: 0.5528 - val_loss: 0.2966 - val_mse: 0.2966 - val_mae: 0.3779 - val_rmse: 0.5446\n",
      "Epoch 20/100\n",
      "5065/5065 [==============================] - 25s 5ms/step - loss: 0.3008 - mse: 0.3008 - mae: 0.3589 - rmse: 0.5484 - val_loss: 0.2598 - val_mse: 0.2598 - val_mae: 0.3519 - val_rmse: 0.5097\n",
      "Epoch 21/100\n",
      "5065/5065 [==============================] - 25s 5ms/step - loss: 0.3079 - mse: 0.3079 - mae: 0.3634 - rmse: 0.5549 - val_loss: 0.2640 - val_mse: 0.2640 - val_mae: 0.3739 - val_rmse: 0.5138\n",
      "Epoch 22/100\n",
      "5065/5065 [==============================] - 25s 5ms/step - loss: 0.3021 - mse: 0.3021 - mae: 0.3627 - rmse: 0.5497 - val_loss: 0.2189 - val_mse: 0.2189 - val_mae: 0.3160 - val_rmse: 0.4679\n",
      "Epoch 23/100\n",
      "5065/5065 [==============================] - 25s 5ms/step - loss: 0.3026 - mse: 0.3026 - mae: 0.3643 - rmse: 0.5501 - val_loss: 0.2627 - val_mse: 0.2627 - val_mae: 0.3861 - val_rmse: 0.5125\n",
      "Epoch 24/100\n",
      "5065/5065 [==============================] - 25s 5ms/step - loss: 0.2963 - mse: 0.2963 - mae: 0.3630 - rmse: 0.5443 - val_loss: 0.2543 - val_mse: 0.2543 - val_mae: 0.3754 - val_rmse: 0.5043\n",
      "Epoch 25/100\n",
      "5065/5065 [==============================] - 24s 5ms/step - loss: 0.2959 - mse: 0.2959 - mae: 0.3647 - rmse: 0.5440 - val_loss: 0.2737 - val_mse: 0.2737 - val_mae: 0.3989 - val_rmse: 0.5231\n",
      "Epoch 26/100\n",
      "5065/5065 [==============================] - 24s 5ms/step - loss: 0.3135 - mse: 0.3135 - mae: 0.3713 - rmse: 0.5600 - val_loss: 0.3537 - val_mse: 0.3537 - val_mae: 0.4682 - val_rmse: 0.5947\n",
      "Epoch 27/100\n",
      "5065/5065 [==============================] - 25s 5ms/step - loss: 0.3288 - mse: 0.3288 - mae: 0.3853 - rmse: 0.5734 - val_loss: 0.3407 - val_mse: 0.3407 - val_mae: 0.4596 - val_rmse: 0.5837\n",
      "Epoch 28/100\n",
      "5065/5065 [==============================] - 25s 5ms/step - loss: 0.3104 - mse: 0.3104 - mae: 0.3771 - rmse: 0.5572 - val_loss: 0.3196 - val_mse: 0.3196 - val_mae: 0.4381 - val_rmse: 0.5653\n",
      "Epoch 29/100\n",
      "5065/5065 [==============================] - 25s 5ms/step - loss: 0.3035 - mse: 0.3035 - mae: 0.3708 - rmse: 0.5509 - val_loss: 0.2931 - val_mse: 0.2931 - val_mae: 0.4220 - val_rmse: 0.5414\n",
      "Epoch 30/100\n",
      "5065/5065 [==============================] - 26s 5ms/step - loss: 0.3000 - mse: 0.3000 - mae: 0.3676 - rmse: 0.5478 - val_loss: 0.3084 - val_mse: 0.3084 - val_mae: 0.4495 - val_rmse: 0.5553\n",
      "Epoch 31/100\n",
      "5065/5065 [==============================] - 25s 5ms/step - loss: 0.2928 - mse: 0.2928 - mae: 0.3644 - rmse: 0.5411 - val_loss: 0.2635 - val_mse: 0.2635 - val_mae: 0.3736 - val_rmse: 0.5133\n",
      "Epoch 32/100\n",
      "5065/5065 [==============================] - 24s 5ms/step - loss: 0.2892 - mse: 0.2892 - mae: 0.3606 - rmse: 0.5378 - val_loss: 0.2325 - val_mse: 0.2325 - val_mae: 0.3442 - val_rmse: 0.4822\n",
      "Restoring model weights from the end of the best epoch.\n",
      "Epoch 00032: early stopping\n"
     ]
    },
    {
     "output_type": "display_data",
     "data": {
      "text/plain": "<Figure size 576x432 with 1 Axes>",
      "image/svg+xml": "<?xml version=\"1.0\" encoding=\"utf-8\" standalone=\"no\"?>\r\n<!DOCTYPE svg PUBLIC \"-//W3C//DTD SVG 1.1//EN\"\r\n  \"http://www.w3.org/Graphics/SVG/1.1/DTD/svg11.dtd\">\r\n<svg height=\"372.35625pt\" version=\"1.1\" viewBox=\"0 0 490.065625 372.35625\" width=\"490.065625pt\" xmlns=\"http://www.w3.org/2000/svg\" xmlns:xlink=\"http://www.w3.org/1999/xlink\">\r\n <metadata>\r\n  <rdf:RDF xmlns:cc=\"http://creativecommons.org/ns#\" xmlns:dc=\"http://purl.org/dc/elements/1.1/\" xmlns:rdf=\"http://www.w3.org/1999/02/22-rdf-syntax-ns#\">\r\n   <cc:Work>\r\n    <dc:type rdf:resource=\"http://purl.org/dc/dcmitype/StillImage\"/>\r\n    <dc:date>2021-05-24T18:56:41.954488</dc:date>\r\n    <dc:format>image/svg+xml</dc:format>\r\n    <dc:creator>\r\n     <cc:Agent>\r\n      <dc:title>Matplotlib v3.4.2, https://matplotlib.org/</dc:title>\r\n     </cc:Agent>\r\n    </dc:creator>\r\n   </cc:Work>\r\n  </rdf:RDF>\r\n </metadata>\r\n <defs>\r\n  <style type=\"text/css\">*{stroke-linecap:butt;stroke-linejoin:round;}</style>\r\n </defs>\r\n <g id=\"figure_1\">\r\n  <g id=\"patch_1\">\r\n   <path d=\"M 0 372.35625 \r\nL 490.065625 372.35625 \r\nL 490.065625 0 \r\nL 0 0 \r\nz\r\n\" style=\"fill:none;\"/>\r\n  </g>\r\n  <g id=\"axes_1\">\r\n   <g id=\"patch_2\">\r\n    <path d=\"M 36.465625 348.478125 \r\nL 482.865625 348.478125 \r\nL 482.865625 22.318125 \r\nL 36.465625 22.318125 \r\nz\r\n\" style=\"fill:#ffffff;\"/>\r\n   </g>\r\n   <g id=\"matplotlib.axis_1\">\r\n    <g id=\"xtick_1\">\r\n     <g id=\"line2d_1\">\r\n      <defs>\r\n       <path d=\"M 0 0 \r\nL 0 3.5 \r\n\" id=\"mebf0658f30\" style=\"stroke:#000000;stroke-width:0.8;\"/>\r\n      </defs>\r\n      <g>\r\n       <use style=\"stroke:#000000;stroke-width:0.8;\" x=\"56.756534\" xlink:href=\"#mebf0658f30\" y=\"348.478125\"/>\r\n      </g>\r\n     </g>\r\n     <g id=\"text_1\">\r\n      <!-- 0 -->\r\n      <g transform=\"translate(53.575284 363.076563)scale(0.1 -0.1)\">\r\n       <defs>\r\n        <path d=\"M 2034 4250 \r\nQ 1547 4250 1301 3770 \r\nQ 1056 3291 1056 2328 \r\nQ 1056 1369 1301 889 \r\nQ 1547 409 2034 409 \r\nQ 2525 409 2770 889 \r\nQ 3016 1369 3016 2328 \r\nQ 3016 3291 2770 3770 \r\nQ 2525 4250 2034 4250 \r\nz\r\nM 2034 4750 \r\nQ 2819 4750 3233 4129 \r\nQ 3647 3509 3647 2328 \r\nQ 3647 1150 3233 529 \r\nQ 2819 -91 2034 -91 \r\nQ 1250 -91 836 529 \r\nQ 422 1150 422 2328 \r\nQ 422 3509 836 4129 \r\nQ 1250 4750 2034 4750 \r\nz\r\n\" id=\"DejaVuSans-30\" transform=\"scale(0.015625)\"/>\r\n       </defs>\r\n       <use xlink:href=\"#DejaVuSans-30\"/>\r\n      </g>\r\n     </g>\r\n    </g>\r\n    <g id=\"xtick_2\">\r\n     <g id=\"line2d_2\">\r\n      <g>\r\n       <use style=\"stroke:#000000;stroke-width:0.8;\" x=\"122.21108\" xlink:href=\"#mebf0658f30\" y=\"348.478125\"/>\r\n      </g>\r\n     </g>\r\n     <g id=\"text_2\">\r\n      <!-- 5 -->\r\n      <g transform=\"translate(119.02983 363.076563)scale(0.1 -0.1)\">\r\n       <defs>\r\n        <path d=\"M 691 4666 \r\nL 3169 4666 \r\nL 3169 4134 \r\nL 1269 4134 \r\nL 1269 2991 \r\nQ 1406 3038 1543 3061 \r\nQ 1681 3084 1819 3084 \r\nQ 2600 3084 3056 2656 \r\nQ 3513 2228 3513 1497 \r\nQ 3513 744 3044 326 \r\nQ 2575 -91 1722 -91 \r\nQ 1428 -91 1123 -41 \r\nQ 819 9 494 109 \r\nL 494 744 \r\nQ 775 591 1075 516 \r\nQ 1375 441 1709 441 \r\nQ 2250 441 2565 725 \r\nQ 2881 1009 2881 1497 \r\nQ 2881 1984 2565 2268 \r\nQ 2250 2553 1709 2553 \r\nQ 1456 2553 1204 2497 \r\nQ 953 2441 691 2322 \r\nL 691 4666 \r\nz\r\n\" id=\"DejaVuSans-35\" transform=\"scale(0.015625)\"/>\r\n       </defs>\r\n       <use xlink:href=\"#DejaVuSans-35\"/>\r\n      </g>\r\n     </g>\r\n    </g>\r\n    <g id=\"xtick_3\">\r\n     <g id=\"line2d_3\">\r\n      <g>\r\n       <use style=\"stroke:#000000;stroke-width:0.8;\" x=\"187.665625\" xlink:href=\"#mebf0658f30\" y=\"348.478125\"/>\r\n      </g>\r\n     </g>\r\n     <g id=\"text_3\">\r\n      <!-- 10 -->\r\n      <g transform=\"translate(181.303125 363.076563)scale(0.1 -0.1)\">\r\n       <defs>\r\n        <path d=\"M 794 531 \r\nL 1825 531 \r\nL 1825 4091 \r\nL 703 3866 \r\nL 703 4441 \r\nL 1819 4666 \r\nL 2450 4666 \r\nL 2450 531 \r\nL 3481 531 \r\nL 3481 0 \r\nL 794 0 \r\nL 794 531 \r\nz\r\n\" id=\"DejaVuSans-31\" transform=\"scale(0.015625)\"/>\r\n       </defs>\r\n       <use xlink:href=\"#DejaVuSans-31\"/>\r\n       <use x=\"63.623047\" xlink:href=\"#DejaVuSans-30\"/>\r\n      </g>\r\n     </g>\r\n    </g>\r\n    <g id=\"xtick_4\">\r\n     <g id=\"line2d_4\">\r\n      <g>\r\n       <use style=\"stroke:#000000;stroke-width:0.8;\" x=\"253.12017\" xlink:href=\"#mebf0658f30\" y=\"348.478125\"/>\r\n      </g>\r\n     </g>\r\n     <g id=\"text_4\">\r\n      <!-- 15 -->\r\n      <g transform=\"translate(246.75767 363.076563)scale(0.1 -0.1)\">\r\n       <use xlink:href=\"#DejaVuSans-31\"/>\r\n       <use x=\"63.623047\" xlink:href=\"#DejaVuSans-35\"/>\r\n      </g>\r\n     </g>\r\n    </g>\r\n    <g id=\"xtick_5\">\r\n     <g id=\"line2d_5\">\r\n      <g>\r\n       <use style=\"stroke:#000000;stroke-width:0.8;\" x=\"318.574716\" xlink:href=\"#mebf0658f30\" y=\"348.478125\"/>\r\n      </g>\r\n     </g>\r\n     <g id=\"text_5\">\r\n      <!-- 20 -->\r\n      <g transform=\"translate(312.212216 363.076563)scale(0.1 -0.1)\">\r\n       <defs>\r\n        <path d=\"M 1228 531 \r\nL 3431 531 \r\nL 3431 0 \r\nL 469 0 \r\nL 469 531 \r\nQ 828 903 1448 1529 \r\nQ 2069 2156 2228 2338 \r\nQ 2531 2678 2651 2914 \r\nQ 2772 3150 2772 3378 \r\nQ 2772 3750 2511 3984 \r\nQ 2250 4219 1831 4219 \r\nQ 1534 4219 1204 4116 \r\nQ 875 4013 500 3803 \r\nL 500 4441 \r\nQ 881 4594 1212 4672 \r\nQ 1544 4750 1819 4750 \r\nQ 2544 4750 2975 4387 \r\nQ 3406 4025 3406 3419 \r\nQ 3406 3131 3298 2873 \r\nQ 3191 2616 2906 2266 \r\nQ 2828 2175 2409 1742 \r\nQ 1991 1309 1228 531 \r\nz\r\n\" id=\"DejaVuSans-32\" transform=\"scale(0.015625)\"/>\r\n       </defs>\r\n       <use xlink:href=\"#DejaVuSans-32\"/>\r\n       <use x=\"63.623047\" xlink:href=\"#DejaVuSans-30\"/>\r\n      </g>\r\n     </g>\r\n    </g>\r\n    <g id=\"xtick_6\">\r\n     <g id=\"line2d_6\">\r\n      <g>\r\n       <use style=\"stroke:#000000;stroke-width:0.8;\" x=\"384.029261\" xlink:href=\"#mebf0658f30\" y=\"348.478125\"/>\r\n      </g>\r\n     </g>\r\n     <g id=\"text_6\">\r\n      <!-- 25 -->\r\n      <g transform=\"translate(377.666761 363.076563)scale(0.1 -0.1)\">\r\n       <use xlink:href=\"#DejaVuSans-32\"/>\r\n       <use x=\"63.623047\" xlink:href=\"#DejaVuSans-35\"/>\r\n      </g>\r\n     </g>\r\n    </g>\r\n    <g id=\"xtick_7\">\r\n     <g id=\"line2d_7\">\r\n      <g>\r\n       <use style=\"stroke:#000000;stroke-width:0.8;\" x=\"449.483807\" xlink:href=\"#mebf0658f30\" y=\"348.478125\"/>\r\n      </g>\r\n     </g>\r\n     <g id=\"text_7\">\r\n      <!-- 30 -->\r\n      <g transform=\"translate(443.121307 363.076563)scale(0.1 -0.1)\">\r\n       <defs>\r\n        <path d=\"M 2597 2516 \r\nQ 3050 2419 3304 2112 \r\nQ 3559 1806 3559 1356 \r\nQ 3559 666 3084 287 \r\nQ 2609 -91 1734 -91 \r\nQ 1441 -91 1130 -33 \r\nQ 819 25 488 141 \r\nL 488 750 \r\nQ 750 597 1062 519 \r\nQ 1375 441 1716 441 \r\nQ 2309 441 2620 675 \r\nQ 2931 909 2931 1356 \r\nQ 2931 1769 2642 2001 \r\nQ 2353 2234 1838 2234 \r\nL 1294 2234 \r\nL 1294 2753 \r\nL 1863 2753 \r\nQ 2328 2753 2575 2939 \r\nQ 2822 3125 2822 3475 \r\nQ 2822 3834 2567 4026 \r\nQ 2313 4219 1838 4219 \r\nQ 1578 4219 1281 4162 \r\nQ 984 4106 628 3988 \r\nL 628 4550 \r\nQ 988 4650 1302 4700 \r\nQ 1616 4750 1894 4750 \r\nQ 2613 4750 3031 4423 \r\nQ 3450 4097 3450 3541 \r\nQ 3450 3153 3228 2886 \r\nQ 3006 2619 2597 2516 \r\nz\r\n\" id=\"DejaVuSans-33\" transform=\"scale(0.015625)\"/>\r\n       </defs>\r\n       <use xlink:href=\"#DejaVuSans-33\"/>\r\n       <use x=\"63.623047\" xlink:href=\"#DejaVuSans-30\"/>\r\n      </g>\r\n     </g>\r\n    </g>\r\n   </g>\r\n   <g id=\"matplotlib.axis_2\">\r\n    <g id=\"ytick_1\">\r\n     <g id=\"line2d_8\">\r\n      <defs>\r\n       <path d=\"M 0 0 \r\nL -3.5 0 \r\n\" id=\"m0af83aaee3\" style=\"stroke:#000000;stroke-width:0.8;\"/>\r\n      </defs>\r\n      <g>\r\n       <use style=\"stroke:#000000;stroke-width:0.8;\" x=\"36.465625\" xlink:href=\"#m0af83aaee3\" y=\"291.50737\"/>\r\n      </g>\r\n     </g>\r\n     <g id=\"text_8\">\r\n      <!-- 0.25 -->\r\n      <g transform=\"translate(7.2 295.306589)scale(0.1 -0.1)\">\r\n       <defs>\r\n        <path d=\"M 684 794 \r\nL 1344 794 \r\nL 1344 0 \r\nL 684 0 \r\nL 684 794 \r\nz\r\n\" id=\"DejaVuSans-2e\" transform=\"scale(0.015625)\"/>\r\n       </defs>\r\n       <use xlink:href=\"#DejaVuSans-30\"/>\r\n       <use x=\"63.623047\" xlink:href=\"#DejaVuSans-2e\"/>\r\n       <use x=\"95.410156\" xlink:href=\"#DejaVuSans-32\"/>\r\n       <use x=\"159.033203\" xlink:href=\"#DejaVuSans-35\"/>\r\n      </g>\r\n     </g>\r\n    </g>\r\n    <g id=\"ytick_2\">\r\n     <g id=\"line2d_9\">\r\n      <g>\r\n       <use style=\"stroke:#000000;stroke-width:0.8;\" x=\"36.465625\" xlink:href=\"#m0af83aaee3\" y=\"223.665963\"/>\r\n      </g>\r\n     </g>\r\n     <g id=\"text_9\">\r\n      <!-- 0.30 -->\r\n      <g transform=\"translate(7.2 227.465181)scale(0.1 -0.1)\">\r\n       <use xlink:href=\"#DejaVuSans-30\"/>\r\n       <use x=\"63.623047\" xlink:href=\"#DejaVuSans-2e\"/>\r\n       <use x=\"95.410156\" xlink:href=\"#DejaVuSans-33\"/>\r\n       <use x=\"159.033203\" xlink:href=\"#DejaVuSans-30\"/>\r\n      </g>\r\n     </g>\r\n    </g>\r\n    <g id=\"ytick_3\">\r\n     <g id=\"line2d_10\">\r\n      <g>\r\n       <use style=\"stroke:#000000;stroke-width:0.8;\" x=\"36.465625\" xlink:href=\"#m0af83aaee3\" y=\"155.824555\"/>\r\n      </g>\r\n     </g>\r\n     <g id=\"text_10\">\r\n      <!-- 0.35 -->\r\n      <g transform=\"translate(7.2 159.623774)scale(0.1 -0.1)\">\r\n       <use xlink:href=\"#DejaVuSans-30\"/>\r\n       <use x=\"63.623047\" xlink:href=\"#DejaVuSans-2e\"/>\r\n       <use x=\"95.410156\" xlink:href=\"#DejaVuSans-33\"/>\r\n       <use x=\"159.033203\" xlink:href=\"#DejaVuSans-35\"/>\r\n      </g>\r\n     </g>\r\n    </g>\r\n    <g id=\"ytick_4\">\r\n     <g id=\"line2d_11\">\r\n      <g>\r\n       <use style=\"stroke:#000000;stroke-width:0.8;\" x=\"36.465625\" xlink:href=\"#m0af83aaee3\" y=\"87.983147\"/>\r\n      </g>\r\n     </g>\r\n     <g id=\"text_11\">\r\n      <!-- 0.40 -->\r\n      <g transform=\"translate(7.2 91.782366)scale(0.1 -0.1)\">\r\n       <defs>\r\n        <path d=\"M 2419 4116 \r\nL 825 1625 \r\nL 2419 1625 \r\nL 2419 4116 \r\nz\r\nM 2253 4666 \r\nL 3047 4666 \r\nL 3047 1625 \r\nL 3713 1625 \r\nL 3713 1100 \r\nL 3047 1100 \r\nL 3047 0 \r\nL 2419 0 \r\nL 2419 1100 \r\nL 313 1100 \r\nL 313 1709 \r\nL 2253 4666 \r\nz\r\n\" id=\"DejaVuSans-34\" transform=\"scale(0.015625)\"/>\r\n       </defs>\r\n       <use xlink:href=\"#DejaVuSans-30\"/>\r\n       <use x=\"63.623047\" xlink:href=\"#DejaVuSans-2e\"/>\r\n       <use x=\"95.410156\" xlink:href=\"#DejaVuSans-34\"/>\r\n       <use x=\"159.033203\" xlink:href=\"#DejaVuSans-30\"/>\r\n      </g>\r\n     </g>\r\n    </g>\r\n   </g>\r\n   <g id=\"line2d_12\">\r\n    <path clip-path=\"url(#pbc469846eb)\" d=\"M 56.756534 37.14358 \r\nL 69.847443 156.903332 \r\nL 82.938352 197.684926 \r\nL 96.029261 204.639865 \r\nL 109.12017 203.884913 \r\nL 122.21108 215.433291 \r\nL 135.301989 224.913457 \r\nL 148.392898 223.100966 \r\nL 161.483807 225.022393 \r\nL 174.574716 234.677205 \r\nL 187.665625 226.256762 \r\nL 200.756534 226.064567 \r\nL 213.847443 218.208417 \r\nL 226.938352 221.314031 \r\nL 240.029261 220.781966 \r\nL 253.12017 221.553982 \r\nL 266.21108 225.688708 \r\nL 279.301989 227.107063 \r\nL 292.392898 216.068672 \r\nL 305.483807 222.639422 \r\nL 318.574716 212.941505 \r\nL 331.665625 220.754105 \r\nL 344.756534 220.171615 \r\nL 357.847443 228.669737 \r\nL 370.938352 229.22202 \r\nL 384.029261 205.288509 \r\nL 397.12017 184.534126 \r\nL 410.21108 209.530797 \r\nL 423.301989 218.955767 \r\nL 436.392898 223.598134 \r\nL 449.483807 233.498881 \r\nL 462.574716 238.283141 \r\n\" style=\"fill:none;stroke:#0000ff;stroke-linecap:square;stroke-width:1.5;\"/>\r\n   </g>\r\n   <g id=\"line2d_13\">\r\n    <path clip-path=\"url(#pbc469846eb)\" d=\"M 56.756534 87.399194 \r\nL 69.847443 88.083179 \r\nL 82.938352 175.171711 \r\nL 96.029261 139.621039 \r\nL 109.12017 209.519838 \r\nL 122.21108 245.562705 \r\nL 135.301989 182.618845 \r\nL 148.392898 200.645292 \r\nL 161.483807 260.125755 \r\nL 174.574716 259.137161 \r\nL 187.665625 195.268636 \r\nL 200.756534 294.667695 \r\nL 213.847443 282.233634 \r\nL 226.938352 235.156298 \r\nL 240.029261 277.225274 \r\nL 253.12017 214.277127 \r\nL 266.21108 282.854012 \r\nL 279.301989 257.444807 \r\nL 292.392898 228.289107 \r\nL 305.483807 278.20841 \r\nL 318.574716 272.525648 \r\nL 331.665625 333.65267 \r\nL 344.756534 274.290222 \r\nL 357.847443 285.715066 \r\nL 370.938352 259.415688 \r\nL 384.029261 150.85292 \r\nL 397.12017 168.50921 \r\nL 410.21108 197.062849 \r\nL 423.301989 232.99221 \r\nL 436.392898 212.282105 \r\nL 449.483807 273.208784 \r\nL 462.574716 315.184938 \r\n\" style=\"fill:none;stroke:#ff0000;stroke-linecap:square;stroke-width:1.5;\"/>\r\n   </g>\r\n   <g id=\"patch_3\">\r\n    <path d=\"M 36.465625 348.478125 \r\nL 36.465625 22.318125 \r\n\" style=\"fill:none;stroke:#000000;stroke-linecap:square;stroke-linejoin:miter;stroke-width:0.8;\"/>\r\n   </g>\r\n   <g id=\"patch_4\">\r\n    <path d=\"M 482.865625 348.478125 \r\nL 482.865625 22.318125 \r\n\" style=\"fill:none;stroke:#000000;stroke-linecap:square;stroke-linejoin:miter;stroke-width:0.8;\"/>\r\n   </g>\r\n   <g id=\"patch_5\">\r\n    <path d=\"M 36.465625 348.478125 \r\nL 482.865625 348.478125 \r\n\" style=\"fill:none;stroke:#000000;stroke-linecap:square;stroke-linejoin:miter;stroke-width:0.8;\"/>\r\n   </g>\r\n   <g id=\"patch_6\">\r\n    <path d=\"M 36.465625 22.318125 \r\nL 482.865625 22.318125 \r\n\" style=\"fill:none;stroke:#000000;stroke-linecap:square;stroke-linejoin:miter;stroke-width:0.8;\"/>\r\n   </g>\r\n   <g id=\"text_12\">\r\n    <!-- Baseline Training and validation loss -->\r\n    <g transform=\"translate(150.509687 16.318125)scale(0.12 -0.12)\">\r\n     <defs>\r\n      <path d=\"M 1259 2228 \r\nL 1259 519 \r\nL 2272 519 \r\nQ 2781 519 3026 730 \r\nQ 3272 941 3272 1375 \r\nQ 3272 1813 3026 2020 \r\nQ 2781 2228 2272 2228 \r\nL 1259 2228 \r\nz\r\nM 1259 4147 \r\nL 1259 2741 \r\nL 2194 2741 \r\nQ 2656 2741 2882 2914 \r\nQ 3109 3088 3109 3444 \r\nQ 3109 3797 2882 3972 \r\nQ 2656 4147 2194 4147 \r\nL 1259 4147 \r\nz\r\nM 628 4666 \r\nL 2241 4666 \r\nQ 2963 4666 3353 4366 \r\nQ 3744 4066 3744 3513 \r\nQ 3744 3084 3544 2831 \r\nQ 3344 2578 2956 2516 \r\nQ 3422 2416 3680 2098 \r\nQ 3938 1781 3938 1306 \r\nQ 3938 681 3513 340 \r\nQ 3088 0 2303 0 \r\nL 628 0 \r\nL 628 4666 \r\nz\r\n\" id=\"DejaVuSans-42\" transform=\"scale(0.015625)\"/>\r\n      <path d=\"M 2194 1759 \r\nQ 1497 1759 1228 1600 \r\nQ 959 1441 959 1056 \r\nQ 959 750 1161 570 \r\nQ 1363 391 1709 391 \r\nQ 2188 391 2477 730 \r\nQ 2766 1069 2766 1631 \r\nL 2766 1759 \r\nL 2194 1759 \r\nz\r\nM 3341 1997 \r\nL 3341 0 \r\nL 2766 0 \r\nL 2766 531 \r\nQ 2569 213 2275 61 \r\nQ 1981 -91 1556 -91 \r\nQ 1019 -91 701 211 \r\nQ 384 513 384 1019 \r\nQ 384 1609 779 1909 \r\nQ 1175 2209 1959 2209 \r\nL 2766 2209 \r\nL 2766 2266 \r\nQ 2766 2663 2505 2880 \r\nQ 2244 3097 1772 3097 \r\nQ 1472 3097 1187 3025 \r\nQ 903 2953 641 2809 \r\nL 641 3341 \r\nQ 956 3463 1253 3523 \r\nQ 1550 3584 1831 3584 \r\nQ 2591 3584 2966 3190 \r\nQ 3341 2797 3341 1997 \r\nz\r\n\" id=\"DejaVuSans-61\" transform=\"scale(0.015625)\"/>\r\n      <path d=\"M 2834 3397 \r\nL 2834 2853 \r\nQ 2591 2978 2328 3040 \r\nQ 2066 3103 1784 3103 \r\nQ 1356 3103 1142 2972 \r\nQ 928 2841 928 2578 \r\nQ 928 2378 1081 2264 \r\nQ 1234 2150 1697 2047 \r\nL 1894 2003 \r\nQ 2506 1872 2764 1633 \r\nQ 3022 1394 3022 966 \r\nQ 3022 478 2636 193 \r\nQ 2250 -91 1575 -91 \r\nQ 1294 -91 989 -36 \r\nQ 684 19 347 128 \r\nL 347 722 \r\nQ 666 556 975 473 \r\nQ 1284 391 1588 391 \r\nQ 1994 391 2212 530 \r\nQ 2431 669 2431 922 \r\nQ 2431 1156 2273 1281 \r\nQ 2116 1406 1581 1522 \r\nL 1381 1569 \r\nQ 847 1681 609 1914 \r\nQ 372 2147 372 2553 \r\nQ 372 3047 722 3315 \r\nQ 1072 3584 1716 3584 \r\nQ 2034 3584 2315 3537 \r\nQ 2597 3491 2834 3397 \r\nz\r\n\" id=\"DejaVuSans-73\" transform=\"scale(0.015625)\"/>\r\n      <path d=\"M 3597 1894 \r\nL 3597 1613 \r\nL 953 1613 \r\nQ 991 1019 1311 708 \r\nQ 1631 397 2203 397 \r\nQ 2534 397 2845 478 \r\nQ 3156 559 3463 722 \r\nL 3463 178 \r\nQ 3153 47 2828 -22 \r\nQ 2503 -91 2169 -91 \r\nQ 1331 -91 842 396 \r\nQ 353 884 353 1716 \r\nQ 353 2575 817 3079 \r\nQ 1281 3584 2069 3584 \r\nQ 2775 3584 3186 3129 \r\nQ 3597 2675 3597 1894 \r\nz\r\nM 3022 2063 \r\nQ 3016 2534 2758 2815 \r\nQ 2500 3097 2075 3097 \r\nQ 1594 3097 1305 2825 \r\nQ 1016 2553 972 2059 \r\nL 3022 2063 \r\nz\r\n\" id=\"DejaVuSans-65\" transform=\"scale(0.015625)\"/>\r\n      <path d=\"M 603 4863 \r\nL 1178 4863 \r\nL 1178 0 \r\nL 603 0 \r\nL 603 4863 \r\nz\r\n\" id=\"DejaVuSans-6c\" transform=\"scale(0.015625)\"/>\r\n      <path d=\"M 603 3500 \r\nL 1178 3500 \r\nL 1178 0 \r\nL 603 0 \r\nL 603 3500 \r\nz\r\nM 603 4863 \r\nL 1178 4863 \r\nL 1178 4134 \r\nL 603 4134 \r\nL 603 4863 \r\nz\r\n\" id=\"DejaVuSans-69\" transform=\"scale(0.015625)\"/>\r\n      <path d=\"M 3513 2113 \r\nL 3513 0 \r\nL 2938 0 \r\nL 2938 2094 \r\nQ 2938 2591 2744 2837 \r\nQ 2550 3084 2163 3084 \r\nQ 1697 3084 1428 2787 \r\nQ 1159 2491 1159 1978 \r\nL 1159 0 \r\nL 581 0 \r\nL 581 3500 \r\nL 1159 3500 \r\nL 1159 2956 \r\nQ 1366 3272 1645 3428 \r\nQ 1925 3584 2291 3584 \r\nQ 2894 3584 3203 3211 \r\nQ 3513 2838 3513 2113 \r\nz\r\n\" id=\"DejaVuSans-6e\" transform=\"scale(0.015625)\"/>\r\n      <path id=\"DejaVuSans-20\" transform=\"scale(0.015625)\"/>\r\n      <path d=\"M -19 4666 \r\nL 3928 4666 \r\nL 3928 4134 \r\nL 2272 4134 \r\nL 2272 0 \r\nL 1638 0 \r\nL 1638 4134 \r\nL -19 4134 \r\nL -19 4666 \r\nz\r\n\" id=\"DejaVuSans-54\" transform=\"scale(0.015625)\"/>\r\n      <path d=\"M 2631 2963 \r\nQ 2534 3019 2420 3045 \r\nQ 2306 3072 2169 3072 \r\nQ 1681 3072 1420 2755 \r\nQ 1159 2438 1159 1844 \r\nL 1159 0 \r\nL 581 0 \r\nL 581 3500 \r\nL 1159 3500 \r\nL 1159 2956 \r\nQ 1341 3275 1631 3429 \r\nQ 1922 3584 2338 3584 \r\nQ 2397 3584 2469 3576 \r\nQ 2541 3569 2628 3553 \r\nL 2631 2963 \r\nz\r\n\" id=\"DejaVuSans-72\" transform=\"scale(0.015625)\"/>\r\n      <path d=\"M 2906 1791 \r\nQ 2906 2416 2648 2759 \r\nQ 2391 3103 1925 3103 \r\nQ 1463 3103 1205 2759 \r\nQ 947 2416 947 1791 \r\nQ 947 1169 1205 825 \r\nQ 1463 481 1925 481 \r\nQ 2391 481 2648 825 \r\nQ 2906 1169 2906 1791 \r\nz\r\nM 3481 434 \r\nQ 3481 -459 3084 -895 \r\nQ 2688 -1331 1869 -1331 \r\nQ 1566 -1331 1297 -1286 \r\nQ 1028 -1241 775 -1147 \r\nL 775 -588 \r\nQ 1028 -725 1275 -790 \r\nQ 1522 -856 1778 -856 \r\nQ 2344 -856 2625 -561 \r\nQ 2906 -266 2906 331 \r\nL 2906 616 \r\nQ 2728 306 2450 153 \r\nQ 2172 0 1784 0 \r\nQ 1141 0 747 490 \r\nQ 353 981 353 1791 \r\nQ 353 2603 747 3093 \r\nQ 1141 3584 1784 3584 \r\nQ 2172 3584 2450 3431 \r\nQ 2728 3278 2906 2969 \r\nL 2906 3500 \r\nL 3481 3500 \r\nL 3481 434 \r\nz\r\n\" id=\"DejaVuSans-67\" transform=\"scale(0.015625)\"/>\r\n      <path d=\"M 2906 2969 \r\nL 2906 4863 \r\nL 3481 4863 \r\nL 3481 0 \r\nL 2906 0 \r\nL 2906 525 \r\nQ 2725 213 2448 61 \r\nQ 2172 -91 1784 -91 \r\nQ 1150 -91 751 415 \r\nQ 353 922 353 1747 \r\nQ 353 2572 751 3078 \r\nQ 1150 3584 1784 3584 \r\nQ 2172 3584 2448 3432 \r\nQ 2725 3281 2906 2969 \r\nz\r\nM 947 1747 \r\nQ 947 1113 1208 752 \r\nQ 1469 391 1925 391 \r\nQ 2381 391 2643 752 \r\nQ 2906 1113 2906 1747 \r\nQ 2906 2381 2643 2742 \r\nQ 2381 3103 1925 3103 \r\nQ 1469 3103 1208 2742 \r\nQ 947 2381 947 1747 \r\nz\r\n\" id=\"DejaVuSans-64\" transform=\"scale(0.015625)\"/>\r\n      <path d=\"M 191 3500 \r\nL 800 3500 \r\nL 1894 563 \r\nL 2988 3500 \r\nL 3597 3500 \r\nL 2284 0 \r\nL 1503 0 \r\nL 191 3500 \r\nz\r\n\" id=\"DejaVuSans-76\" transform=\"scale(0.015625)\"/>\r\n      <path d=\"M 1172 4494 \r\nL 1172 3500 \r\nL 2356 3500 \r\nL 2356 3053 \r\nL 1172 3053 \r\nL 1172 1153 \r\nQ 1172 725 1289 603 \r\nQ 1406 481 1766 481 \r\nL 2356 481 \r\nL 2356 0 \r\nL 1766 0 \r\nQ 1100 0 847 248 \r\nQ 594 497 594 1153 \r\nL 594 3053 \r\nL 172 3053 \r\nL 172 3500 \r\nL 594 3500 \r\nL 594 4494 \r\nL 1172 4494 \r\nz\r\n\" id=\"DejaVuSans-74\" transform=\"scale(0.015625)\"/>\r\n      <path d=\"M 1959 3097 \r\nQ 1497 3097 1228 2736 \r\nQ 959 2375 959 1747 \r\nQ 959 1119 1226 758 \r\nQ 1494 397 1959 397 \r\nQ 2419 397 2687 759 \r\nQ 2956 1122 2956 1747 \r\nQ 2956 2369 2687 2733 \r\nQ 2419 3097 1959 3097 \r\nz\r\nM 1959 3584 \r\nQ 2709 3584 3137 3096 \r\nQ 3566 2609 3566 1747 \r\nQ 3566 888 3137 398 \r\nQ 2709 -91 1959 -91 \r\nQ 1206 -91 779 398 \r\nQ 353 888 353 1747 \r\nQ 353 2609 779 3096 \r\nQ 1206 3584 1959 3584 \r\nz\r\n\" id=\"DejaVuSans-6f\" transform=\"scale(0.015625)\"/>\r\n     </defs>\r\n     <use xlink:href=\"#DejaVuSans-42\"/>\r\n     <use x=\"68.603516\" xlink:href=\"#DejaVuSans-61\"/>\r\n     <use x=\"129.882812\" xlink:href=\"#DejaVuSans-73\"/>\r\n     <use x=\"181.982422\" xlink:href=\"#DejaVuSans-65\"/>\r\n     <use x=\"243.505859\" xlink:href=\"#DejaVuSans-6c\"/>\r\n     <use x=\"271.289062\" xlink:href=\"#DejaVuSans-69\"/>\r\n     <use x=\"299.072266\" xlink:href=\"#DejaVuSans-6e\"/>\r\n     <use x=\"362.451172\" xlink:href=\"#DejaVuSans-65\"/>\r\n     <use x=\"423.974609\" xlink:href=\"#DejaVuSans-20\"/>\r\n     <use x=\"455.761719\" xlink:href=\"#DejaVuSans-54\"/>\r\n     <use x=\"502.095703\" xlink:href=\"#DejaVuSans-72\"/>\r\n     <use x=\"543.208984\" xlink:href=\"#DejaVuSans-61\"/>\r\n     <use x=\"604.488281\" xlink:href=\"#DejaVuSans-69\"/>\r\n     <use x=\"632.271484\" xlink:href=\"#DejaVuSans-6e\"/>\r\n     <use x=\"695.650391\" xlink:href=\"#DejaVuSans-69\"/>\r\n     <use x=\"723.433594\" xlink:href=\"#DejaVuSans-6e\"/>\r\n     <use x=\"786.8125\" xlink:href=\"#DejaVuSans-67\"/>\r\n     <use x=\"850.289062\" xlink:href=\"#DejaVuSans-20\"/>\r\n     <use x=\"882.076172\" xlink:href=\"#DejaVuSans-61\"/>\r\n     <use x=\"943.355469\" xlink:href=\"#DejaVuSans-6e\"/>\r\n     <use x=\"1006.734375\" xlink:href=\"#DejaVuSans-64\"/>\r\n     <use x=\"1070.210938\" xlink:href=\"#DejaVuSans-20\"/>\r\n     <use x=\"1101.998047\" xlink:href=\"#DejaVuSans-76\"/>\r\n     <use x=\"1161.177734\" xlink:href=\"#DejaVuSans-61\"/>\r\n     <use x=\"1222.457031\" xlink:href=\"#DejaVuSans-6c\"/>\r\n     <use x=\"1250.240234\" xlink:href=\"#DejaVuSans-69\"/>\r\n     <use x=\"1278.023438\" xlink:href=\"#DejaVuSans-64\"/>\r\n     <use x=\"1341.5\" xlink:href=\"#DejaVuSans-61\"/>\r\n     <use x=\"1402.779297\" xlink:href=\"#DejaVuSans-74\"/>\r\n     <use x=\"1441.988281\" xlink:href=\"#DejaVuSans-69\"/>\r\n     <use x=\"1469.771484\" xlink:href=\"#DejaVuSans-6f\"/>\r\n     <use x=\"1530.953125\" xlink:href=\"#DejaVuSans-6e\"/>\r\n     <use x=\"1594.332031\" xlink:href=\"#DejaVuSans-20\"/>\r\n     <use x=\"1626.119141\" xlink:href=\"#DejaVuSans-6c\"/>\r\n     <use x=\"1653.902344\" xlink:href=\"#DejaVuSans-6f\"/>\r\n     <use x=\"1715.083984\" xlink:href=\"#DejaVuSans-73\"/>\r\n     <use x=\"1767.183594\" xlink:href=\"#DejaVuSans-73\"/>\r\n    </g>\r\n   </g>\r\n   <g id=\"legend_1\">\r\n    <g id=\"patch_7\">\r\n     <path d=\"M 371.990625 59.674375 \r\nL 475.865625 59.674375 \r\nQ 477.865625 59.674375 477.865625 57.674375 \r\nL 477.865625 29.318125 \r\nQ 477.865625 27.318125 475.865625 27.318125 \r\nL 371.990625 27.318125 \r\nQ 369.990625 27.318125 369.990625 29.318125 \r\nL 369.990625 57.674375 \r\nQ 369.990625 59.674375 371.990625 59.674375 \r\nz\r\n\" style=\"fill:#ffffff;opacity:0.8;stroke:#cccccc;stroke-linejoin:miter;\"/>\r\n    </g>\r\n    <g id=\"line2d_14\">\r\n     <path d=\"M 373.990625 35.416562 \r\nL 393.990625 35.416562 \r\n\" style=\"fill:none;stroke:#0000ff;stroke-linecap:square;stroke-width:1.5;\"/>\r\n    </g>\r\n    <g id=\"line2d_15\"/>\r\n    <g id=\"text_13\">\r\n     <!-- Training loss -->\r\n     <g transform=\"translate(401.990625 38.916562)scale(0.1 -0.1)\">\r\n      <use xlink:href=\"#DejaVuSans-54\"/>\r\n      <use x=\"46.333984\" xlink:href=\"#DejaVuSans-72\"/>\r\n      <use x=\"87.447266\" xlink:href=\"#DejaVuSans-61\"/>\r\n      <use x=\"148.726562\" xlink:href=\"#DejaVuSans-69\"/>\r\n      <use x=\"176.509766\" xlink:href=\"#DejaVuSans-6e\"/>\r\n      <use x=\"239.888672\" xlink:href=\"#DejaVuSans-69\"/>\r\n      <use x=\"267.671875\" xlink:href=\"#DejaVuSans-6e\"/>\r\n      <use x=\"331.050781\" xlink:href=\"#DejaVuSans-67\"/>\r\n      <use x=\"394.527344\" xlink:href=\"#DejaVuSans-20\"/>\r\n      <use x=\"426.314453\" xlink:href=\"#DejaVuSans-6c\"/>\r\n      <use x=\"454.097656\" xlink:href=\"#DejaVuSans-6f\"/>\r\n      <use x=\"515.279297\" xlink:href=\"#DejaVuSans-73\"/>\r\n      <use x=\"567.378906\" xlink:href=\"#DejaVuSans-73\"/>\r\n     </g>\r\n    </g>\r\n    <g id=\"line2d_16\">\r\n     <path d=\"M 373.990625 50.094688 \r\nL 393.990625 50.094688 \r\n\" style=\"fill:none;stroke:#ff0000;stroke-linecap:square;stroke-width:1.5;\"/>\r\n    </g>\r\n    <g id=\"line2d_17\"/>\r\n    <g id=\"text_14\">\r\n     <!-- Validation loss -->\r\n     <g transform=\"translate(401.990625 53.594688)scale(0.1 -0.1)\">\r\n      <defs>\r\n       <path d=\"M 1831 0 \r\nL 50 4666 \r\nL 709 4666 \r\nL 2188 738 \r\nL 3669 4666 \r\nL 4325 4666 \r\nL 2547 0 \r\nL 1831 0 \r\nz\r\n\" id=\"DejaVuSans-56\" transform=\"scale(0.015625)\"/>\r\n      </defs>\r\n      <use xlink:href=\"#DejaVuSans-56\"/>\r\n      <use x=\"60.658203\" xlink:href=\"#DejaVuSans-61\"/>\r\n      <use x=\"121.9375\" xlink:href=\"#DejaVuSans-6c\"/>\r\n      <use x=\"149.720703\" xlink:href=\"#DejaVuSans-69\"/>\r\n      <use x=\"177.503906\" xlink:href=\"#DejaVuSans-64\"/>\r\n      <use x=\"240.980469\" xlink:href=\"#DejaVuSans-61\"/>\r\n      <use x=\"302.259766\" xlink:href=\"#DejaVuSans-74\"/>\r\n      <use x=\"341.46875\" xlink:href=\"#DejaVuSans-69\"/>\r\n      <use x=\"369.251953\" xlink:href=\"#DejaVuSans-6f\"/>\r\n      <use x=\"430.433594\" xlink:href=\"#DejaVuSans-6e\"/>\r\n      <use x=\"493.8125\" xlink:href=\"#DejaVuSans-20\"/>\r\n      <use x=\"525.599609\" xlink:href=\"#DejaVuSans-6c\"/>\r\n      <use x=\"553.382812\" xlink:href=\"#DejaVuSans-6f\"/>\r\n      <use x=\"614.564453\" xlink:href=\"#DejaVuSans-73\"/>\r\n      <use x=\"666.664062\" xlink:href=\"#DejaVuSans-73\"/>\r\n     </g>\r\n    </g>\r\n   </g>\r\n  </g>\r\n </g>\r\n <defs>\r\n  <clipPath id=\"pbc469846eb\">\r\n   <rect height=\"326.16\" width=\"446.4\" x=\"36.465625\" y=\"22.318125\"/>\r\n  </clipPath>\r\n </defs>\r\n</svg>\r\n",
      "image/png": "[encoded data removed]"
     },
     "metadata": {
      "needs_background": "light"
     }
    },
    {
     "output_type": "display_data",
     "data": {
      "text/plain": "<Figure size 576x432 with 0 Axes>"
     },
     "metadata": {}
    },
    {
     "output_type": "error",
     "ename": "NameError",
     "evalue": "name 'grid_result_best_params_' is not defined",
     "traceback": [
      "\u001b[1;31m---------------------------------------------------------------------------\u001b[0m",
      "\u001b[1;31mNameError\u001b[0m                                 Traceback (most recent call last)",
      "\u001b[1;32m<ipython-input-13-61d52f1b34bf>\u001b[0m in \u001b[0;36m<module>\u001b[1;34m\u001b[0m\n\u001b[0;32m     46\u001b[0m \u001b[1;33m\u001b[0m\u001b[0m\n\u001b[0;32m     47\u001b[0m     \u001b[1;31m# Log model parameters\u001b[0m\u001b[1;33m\u001b[0m\u001b[1;33m\u001b[0m\u001b[1;33m\u001b[0m\u001b[0m\n\u001b[1;32m---> 48\u001b[1;33m     \u001b[0mmlflow\u001b[0m\u001b[1;33m.\u001b[0m\u001b[0mlog_param\u001b[0m\u001b[1;33m(\u001b[0m\u001b[1;34m\"units\"\u001b[0m\u001b[1;33m,\u001b[0m \u001b[0mgrid_result_best_params_\u001b[0m\u001b[1;33m[\u001b[0m\u001b[1;34m'neurons'\u001b[0m\u001b[1;33m]\u001b[0m\u001b[1;33m)\u001b[0m\u001b[1;33m\u001b[0m\u001b[1;33m\u001b[0m\u001b[0m\n\u001b[0m\u001b[0;32m     49\u001b[0m     \u001b[0mmlflow\u001b[0m\u001b[1;33m.\u001b[0m\u001b[0mlog_param\u001b[0m\u001b[1;33m(\u001b[0m\u001b[1;34m\"activation\"\u001b[0m\u001b[1;33m,\u001b[0m \u001b[0mgrid_result_best_params_\u001b[0m\u001b[1;33m[\u001b[0m\u001b[1;34m'activation'\u001b[0m\u001b[1;33m]\u001b[0m\u001b[1;33m)\u001b[0m\u001b[1;33m\u001b[0m\u001b[1;33m\u001b[0m\u001b[0m\n\u001b[0;32m     50\u001b[0m     \u001b[0mmlflow\u001b[0m\u001b[1;33m.\u001b[0m\u001b[0mlog_param\u001b[0m\u001b[1;33m(\u001b[0m\u001b[1;34m\"output activation\"\u001b[0m\u001b[1;33m,\u001b[0m \u001b[0mgrid_result_best_params_\u001b[0m\u001b[1;33m[\u001b[0m\u001b[1;34m'output_layer'\u001b[0m\u001b[1;33m]\u001b[0m\u001b[1;33m)\u001b[0m\u001b[1;33m\u001b[0m\u001b[1;33m\u001b[0m\u001b[0m\n",
      "\u001b[1;31mNameError\u001b[0m: name 'grid_result_best_params_' is not defined"
     ]
    }
   ],
   "source": [
    "from tensorflow.keras.layers import Conv1D, Dropout, MaxPool1D, Flatten, Dense\n",
    "\n",
    "model_name = 'good_ugly_cnn_baseline'\n",
    "\n",
    "baseline_layers = [\n",
    "    Conv1D(filters=filters, kernel_size=kernel_size, padding='same', activation=activation, kernel_initializer=kernel_initializer),\n",
    "    Conv1D(filters=filters, kernel_size=kernel_size, padding='same', activation=activation, kernel_initializer=kernel_initializer),\n",
    "    Dropout(0.5),\n",
    "    MaxPool1D(pool_size=pool_size, padding='same'),\n",
    "    Flatten(), \n",
    "    Dense(100, activation=activation, kernel_initializer=kernel_initializer),\n",
    "    Dense(n_outputs, activation=output_activation)\n",
    "]\n",
    "\n",
    "with mlflow.start_run(run_name=model_name) as run:\n",
    "\n",
    "    baseline_model = create_model(layers=baseline_layers, optimizer=opt)\n",
    "\n",
    "    baseline_history = baseline_model.fit(\n",
    "                            X_train, \n",
    "                            y_train, \n",
    "                            epochs=epochs, \n",
    "                            batch_size=batch_size, \n",
    "                            validation_split=0.2, \n",
    "                            shuffle=True, \n",
    "                            verbose=verbose, \n",
    "                            callbacks=[early_stopping])\n",
    "\n",
    "    # Plot training history\n",
    "    plot_train_history(baseline_history, 'Baseline Training and validation loss')\n",
    "    plt.savefig(\"training_history.jpg\")\n",
    "    mlflow.log_artifact(\"training_history.jpg\")\n",
    "    plt.show()\n",
    "\n",
    "    # Log model parameters\n",
    "    mlflow.log_param(\"activation\", activation)\n",
    "    mlflow.log_param(\"kernel initializer\", kernel_initializer)\n",
    "    mlflow.log_param(\"output activation\", output_activation)\n",
    "    mlflow.log_param(\"optimizer\", optimizer)\n",
    "    mlflow.log_param(\"learning rate\", learning_rate)\n",
    "    mlflow.log_param(\"momentum\", momentum)\n",
    "    mlflow.log_param(\"batch size\", batch_size)\n",
    "    mlflow.log_param(\"epochs\", early_stopping.stopped_epoch)\n",
    "    mlflow.log_params(\"filters\", filters)\n",
    "    mlflow.log_param(\"kernel_size\", kernel_size)\n",
    "    mlflow.log_param(\"pool size\", pool_size)\n",
    "\n",
    "    # Log model performance\n",
    "    predictions = model.predict(X_test)\n",
    "    predictions = y_scaler.inverse_transform(predictions)\n",
    "    (mse, mae, r2, variance) = eval_metrics(y_test, predicitions)\n",
    "    mlflow.log_metric(\"mse\", mse)\n",
    "    mlflow.log_metric(\"mae\", mae)\n",
    "    mlflow.log_metric(\"R-squared\", r2)\n",
    "    mlflow.log_metric(\"variance\", variance)\n",
    "\n",
    "    # Log model and scaler(s)\n",
    "    mlflow.keras.log_model(dense_model, model_name, signature=signature)\n",
    "    mlflow.sklearn.log_model(X_scaler, 'InputScaler')\n",
    "    mlflow.sklearn.log_model(y_scaler, 'OutputScaler')"
   ]
  },
  {
   "source": [
    "## 3.6 Next model"
   ],
   "cell_type": "markdown",
   "metadata": {}
  },
  {
   "cell_type": "code",
   "execution_count": null,
   "metadata": {},
   "outputs": [],
   "source": [
    "# here"
   ]
  },
  {
   "source": [
    "# 4. Evaluate Model Performances\n",
    "\n",
    "## 4.1 Baseline model performance"
   ],
   "cell_type": "markdown",
   "metadata": {}
  },
  {
   "cell_type": "code",
   "execution_count": 14,
   "metadata": {},
   "outputs": [
    {
     "output_type": "stream",
     "name": "stdout",
     "text": [
      "704/704 [==============================] - 1s 1ms/step\n"
     ]
    },
    {
     "output_type": "error",
     "ename": "NameError",
     "evalue": "name 'y_scaler' is not defined",
     "traceback": [
      "\u001b[1;31m---------------------------------------------------------------------------\u001b[0m",
      "\u001b[1;31mNameError\u001b[0m                                 Traceback (most recent call last)",
      "\u001b[1;32m<ipython-input-14-ecbf491b4324>\u001b[0m in \u001b[0;36m<module>\u001b[1;34m\u001b[0m\n\u001b[0;32m      1\u001b[0m \u001b[0mbaseline_predictions\u001b[0m \u001b[1;33m=\u001b[0m \u001b[0mbaseline_model\u001b[0m\u001b[1;33m.\u001b[0m\u001b[0mpredict\u001b[0m\u001b[1;33m(\u001b[0m\u001b[0mX_test\u001b[0m\u001b[1;33m,\u001b[0m \u001b[0mbatch_size\u001b[0m\u001b[1;33m=\u001b[0m\u001b[0mbatch_size\u001b[0m\u001b[1;33m,\u001b[0m \u001b[0mverbose\u001b[0m\u001b[1;33m=\u001b[0m\u001b[1;36m1\u001b[0m\u001b[1;33m)\u001b[0m\u001b[1;33m\u001b[0m\u001b[1;33m\u001b[0m\u001b[0m\n\u001b[0;32m      2\u001b[0m \u001b[1;31m# Invert transform on predictions\u001b[0m\u001b[1;33m\u001b[0m\u001b[1;33m\u001b[0m\u001b[1;33m\u001b[0m\u001b[0m\n\u001b[1;32m----> 3\u001b[1;33m \u001b[0mbaseline_predictions\u001b[0m \u001b[1;33m=\u001b[0m \u001b[0my_scaler\u001b[0m\u001b[1;33m.\u001b[0m\u001b[0minverse_transform\u001b[0m\u001b[1;33m(\u001b[0m\u001b[0mbaseline_predictions\u001b[0m\u001b[1;33m)\u001b[0m\u001b[1;33m\u001b[0m\u001b[1;33m\u001b[0m\u001b[0m\n\u001b[0m",
      "\u001b[1;31mNameError\u001b[0m: name 'y_scaler' is not defined"
     ]
    }
   ],
   "source": [
    "baseline_predictions = baseline_model.predict(X_test, batch_size=batch_size, verbose=1)\n",
    "# Invert transform on predictions\n",
    "baseline_predictions = y_scaler.inverse_transform(baseline_predictions)"
   ]
  },
  {
   "cell_type": "code",
   "execution_count": 17,
   "metadata": {},
   "outputs": [
    {
     "output_type": "stream",
     "name": "stdout",
     "text": [
      "MSE:  0.17757892464645997\nMSA:  0.23264661286484986\nR-Squared:  0.22875150567292496\nExplained Variance Score:  0.2573130012858208\n"
     ]
    }
   ],
   "source": [
    "(mse, msa, r2, variance) = eval_metrics(y_test, baseline_predictions)\n",
    "\n",
    "print('MSE: ', mse)\n",
    "print('MSA: ', msa)\n",
    "print('R-Squared: ', r2)\n",
    "print('Explained Variance Score: ', variance)"
   ]
  },
  {
   "source": [
    "## 4.2 Next model performance"
   ],
   "cell_type": "markdown",
   "metadata": {}
  },
  {
   "cell_type": "code",
   "execution_count": null,
   "metadata": {},
   "outputs": [],
   "source": [
    "# here"
   ]
  },
  {
   "source": [
    "# 5. Register Model(s) (if applicable)"
   ],
   "cell_type": "markdown",
   "metadata": {}
  },
  {
   "cell_type": "code",
   "execution_count": 12,
   "metadata": {},
   "outputs": [],
   "source": [
    "#model_uri = \"runs:/{}/{}\".format(run.info.run_id, model_name)\n",
    "#mv = mlflow.register_model(model_uri, model_name)\n",
    "#print(\"Name: {}\".format(mv.name))\n",
    "#print(\"Version: {}\".format(mv.version))"
   ]
  }
 ]
}