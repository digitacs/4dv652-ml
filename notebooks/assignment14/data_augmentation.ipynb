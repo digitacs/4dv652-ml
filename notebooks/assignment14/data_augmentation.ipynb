{
 "metadata": {
  "language_info": {
   "codemirror_mode": {
    "name": "ipython",
    "version": 3
   },
   "file_extension": ".py",
   "mimetype": "text/x-python",
   "name": "python",
   "nbconvert_exporter": "python",
   "pygments_lexer": "ipython3",
   "version": "3.8.5"
  },
  "orig_nbformat": 2,
  "kernelspec": {
   "name": "python385jvsc74a57bd0a707b6ce8c685eb936424fcc3009d4b4b7a52543c4db09380a3fc49186ceb509",
   "display_name": "Python 3.8.5 64-bit ('base': conda)"
  }
 },
 "nbformat": 4,
 "nbformat_minor": 2,
 "cells": [
  {
   "source": [
    "# Horizontal flip and video in black-and-white"
   ],
   "cell_type": "markdown",
   "metadata": {}
  },
  {
   "cell_type": "code",
   "execution_count": 3,
   "metadata": {},
   "outputs": [],
   "source": [
    "import cv2\n",
    "\n",
    "vidcap = cv2.VideoCapture('../../datasets/videos/B1.avi')\n",
    "fourcc = cv2.VideoWriter_fourcc(*'MJPG')\n",
    "out = cv2.VideoWriter('output.avi', fourcc, 20.0, (int(vidcap.get(3)), int(vidcap.get(4))), 0)\n",
    "\n",
    "success, frame = vidcap.read()\n",
    "\n",
    "while success:\n",
    "  success, frame = vidcap.read()\n",
    "  if success:\n",
    "    frame = cv2.flip(frame, 1)\n",
    "    frame = cv2.cvtColor(frame, cv2.COLOR_BGR2GRAY)\n",
    "\n",
    "    out.write(frame)\n",
    "\n",
    "# Release everything if job is finished\n",
    "vidcap.release()\n",
    "out.release()\n",
    "cv2.destroyAllWindows()"
   ]
  }
 ]
}