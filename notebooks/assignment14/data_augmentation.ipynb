{
 "metadata": {
  "language_info": {
   "codemirror_mode": {
    "name": "ipython",
    "version": 3
   },
   "file_extension": ".py",
   "mimetype": "text/x-python",
   "name": "python",
   "nbconvert_exporter": "python",
   "pygments_lexer": "ipython3",
   "version": "3.8.5"
  },
  "orig_nbformat": 2,
  "kernelspec": {
   "name": "python385jvsc74a57bd0a707b6ce8c685eb936424fcc3009d4b4b7a52543c4db09380a3fc49186ceb509",
   "display_name": "Python 3.8.5 64-bit ('base': conda)"
  }
 },
 "nbformat": 4,
 "nbformat_minor": 2,
 "cells": [
  {
   "source": [
    "# Horizontal flip and video in black-and-white"
   ],
   "cell_type": "markdown",
   "metadata": {}
  },
  {
   "cell_type": "code",
   "execution_count": 4,
   "metadata": {},
   "outputs": [
    {
     "output_type": "stream",
     "name": "stdout",
     "text": [
      "A4.avi\n",
      "B19.avi\n",
      "A81.avi\n",
      "A132.avi\n",
      "A70.avi\n",
      "A43.avi\n",
      "A25.avi\n",
      "B19.avi\n",
      "A98.avi\n",
      "A32.avi\n",
      "A100.avi\n",
      "A18.avi\n",
      "A138.avi\n",
      "A126.avi\n",
      "A20.avi\n",
      "A56.avi\n",
      "A97.avi\n",
      "A84.avi\n",
      "A147.avi\n",
      "A127.avi\n"
     ]
    }
   ],
   "source": [
    "import os, random\n",
    "import cv2\n",
    "\n",
    "video_path = '../../datasets/videos/'\n",
    "output_path = '../../datasets/good_ugly_videos/'\n",
    "\n",
    "# Get 100 random videos\n",
    "# TODO: Add check for if randomly chosen video has already been processed\n",
    "type = 1\n",
    "for i in range(20):\n",
    "  file = random.choice(os.listdir(video_path))\n",
    "\n",
    "  vidcap = cv2.VideoCapture(video_path + file)\n",
    "  fourcc = cv2.VideoWriter_fourcc(*'MJPG')\n",
    "  out = cv2.VideoWriter(output_path + file, fourcc, 20.0, (int(vidcap.get(3)), int(vidcap.get(4))), 0)\n",
    "\n",
    "  success, frame = vidcap.read()\n",
    "\n",
    "  while success:\n",
    "    success, frame = vidcap.read()\n",
    "    if success:\n",
    "      if type == 1:\n",
    "        # Add Gaussian blur with 20%\n",
    "        frame = cv2.GaussianBlur(frame, (5,5), 20)\n",
    "        type = 2\n",
    "      elif type == 2:\n",
    "        # Darken image to 200%\n",
    "\n",
    "        # Brighten image to 200%\n",
    "        type = 3\n",
    "      elif type == 3:\n",
    "        # Add 50% noise \n",
    "        type = 4\n",
    "      elif type == 4:\n",
    "        # Rotate in a random angle between -20 to 20\n",
    "        type = 1\n",
    "\n",
    "      out.write(frame)\n",
    "\n",
    "# Release everything if job is finished\n",
    "vidcap.release()\n",
    "out.release()\n",
    "cv2.destroyAllWindows()"
   ]
  },
  {
   "cell_type": "code",
   "execution_count": null,
   "metadata": {},
   "outputs": [],
   "source": []
  }
 ]
}