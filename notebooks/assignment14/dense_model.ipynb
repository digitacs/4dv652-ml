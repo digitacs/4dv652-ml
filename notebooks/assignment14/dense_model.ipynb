{
 "cells": [
  {
   "cell_type": "markdown",
   "metadata": {},
   "source": [
    "# Dense Model\n",
    "\n",
    "\n",
    "## Section for Configurations and Imports"
   ]
  },
  {
   "cell_type": "code",
   "execution_count": 1,
   "metadata": {},
   "outputs": [
    {
     "name": "stdout",
     "output_type": "stream",
     "text": [
      "INFO:tensorflow:Enabling eager execution\n",
      "INFO:tensorflow:Enabling v2 tensorshape\n",
      "INFO:tensorflow:Enabling resource variables\n",
      "INFO:tensorflow:Enabling tensor equality\n",
      "INFO:tensorflow:Enabling control flow v2\n"
     ]
    }
   ],
   "source": [
    "import os \n",
    "import tempfile\n",
    "\n",
    "import numpy as np \n",
    "import pandas as pd\n",
    "import seaborn as sns\n",
    "import tensorflow as tf\n",
    "import matplotlib as mpl\n",
    "import matplotlib.pyplot as plt\n",
    "import time\n",
    "from tensorflow import keras\n",
    "\n",
    "# MLflow dashboard\n",
    "import mlflow\n",
    "mlflow.set_tracking_uri('http://35.228.45.76:5000')\n",
    "os.environ['GOOGLE_APPLICATION_CREDENTIALS']='../../keys/mlflow-312506-8cfad529f4fd.json'\n",
    "\n",
    "# Import data augmentation\n",
    "import sys\n",
    "module_path = os.path.abspath(os.path.join('../..'))\n",
    "if module_path not in sys.path:\n",
    "    sys.path.append(module_path)\n",
    "from augmentation.methods import *"
   ]
  },
  {
   "cell_type": "code",
   "execution_count": 2,
   "metadata": {},
   "outputs": [],
   "source": [
    "import warnings\n",
    "warnings.simplefilter('ignore')"
   ]
  },
  {
   "cell_type": "code",
   "execution_count": 3,
   "metadata": {},
   "outputs": [],
   "source": [
    "random_state = 47\n",
    "np.random.seed(random_state)"
   ]
  },
  {
   "cell_type": "code",
   "execution_count": 4,
   "metadata": {},
   "outputs": [],
   "source": [
    "from keras.callbacks import EarlyStopping\n",
    "\n",
    "early_stopping = EarlyStopping(\n",
    "    monitor='val_loss', \n",
    "    verbose=1,\n",
    "    patience=10,\n",
    "    mode='min',\n",
    "    restore_best_weights=True)"
   ]
  },
  {
   "cell_type": "markdown",
   "metadata": {},
   "source": [
    "# 1. Data Preparation"
   ]
  },
  {
   "cell_type": "markdown",
   "metadata": {},
   "source": [
    "## 1. Load Prepared Dataset"
   ]
  },
  {
   "cell_type": "code",
   "execution_count": 5,
   "metadata": {},
   "outputs": [],
   "source": [
    "data_path = '../../datasets/'\n",
    "files = [\n",
    "    'posenet_scored_all_1.csv',\n",
    "    'posenet_scored_all_2.csv',\n",
    "    'posenet_scored_all_3.csv',\n",
    "    'posenet_scored_all_4.csv',\n",
    "]\n",
    "df = None"
   ]
  },
  {
   "cell_type": "code",
   "execution_count": 6,
   "metadata": {},
   "outputs": [
    {
     "name": "stdout",
     "output_type": "stream",
     "text": [
      "(225092, 42)\n",
      "       head_x     head_y  head_score  left_shoulder_x  left_shoulder_y  \\\n",
      "0  421.555422  91.446746    0.995605       397.484966       131.001872   \n",
      "1  421.555422  91.446746    0.995605       397.484966       131.001872   \n",
      "2  421.555422  91.446746    0.995605       397.484966       131.001872   \n",
      "3  421.555422  91.446746    0.995605       397.484966       131.001872   \n",
      "4  421.555422  91.446746    0.995605       397.484966       131.001872   \n",
      "\n",
      "   left_shoulder_score  right_shoulder_x  right_shoulder_y  \\\n",
      "0             0.998238        461.732625        132.726183   \n",
      "1             0.998238        461.732625        132.726183   \n",
      "2             0.998238        461.732625        132.726183   \n",
      "3             0.998238        461.732625        132.726183   \n",
      "4             0.998238        461.732625        132.726183   \n",
      "\n",
      "   right_shoulder_score  left_elbow_x  ...  right_knee_score  left_ankle_x  \\\n",
      "0              0.999635    376.969123  ...          0.999779    416.909581   \n",
      "1              0.999635    376.969123  ...          0.999779    416.909581   \n",
      "2              0.999635    376.969123  ...          0.999779    416.909581   \n",
      "3              0.999635    376.969123  ...          0.999779    416.909581   \n",
      "4              0.999635    376.969123  ...          0.999779    416.909581   \n",
      "\n",
      "   left_ankle_y  left_ankle_score  right_ankle_x  right_ankle_y  \\\n",
      "0    397.533636           0.99831     458.224567      400.06622   \n",
      "1    397.533636           0.99831     458.224567      400.06622   \n",
      "2    397.533636           0.99831     458.224567      400.06622   \n",
      "3    397.533636           0.99831     458.224567      400.06622   \n",
      "4    397.533636           0.99831     458.224567      400.06622   \n",
      "\n",
      "   right_ankle_score     score  ConfidenceScore  GoodnessScore  \n",
      "0           0.998025  0.983839          0.96794              4  \n",
      "1           0.998025  0.983839          0.96794              4  \n",
      "2           0.998025  0.983839          0.96794              4  \n",
      "3           0.998025  0.983839          0.96794              4  \n",
      "4           0.998025  0.983839          0.96794              4  \n",
      "\n",
      "[5 rows x 42 columns]\n"
     ]
    }
   ],
   "source": [
    "import pandas as pd\n",
    "for file in files:\n",
    "    try:\n",
    "        dataset = pd.read_csv(data_path + file)\n",
    "        dataset.drop(columns=['left_eye_x', 'left_eye_y', 'left_eye_score', 'right_eye_x', 'right_eye_y', 'right_eye_score', \n",
    "                                'left_ear_x', 'left_ear_y', 'left_ear_score', 'right_ear_x', 'right_ear_y', 'right_ear_score'],\n",
    "                                inplace=True)\n",
    "        dataset.rename(columns = {'nose_x': 'head_x', 'nose_y': 'head_y', 'nose_score': 'head_score'}, inplace = True)\n",
    "        if df is None:\n",
    "            df = dataset\n",
    "        else:\n",
    "            df = df.append(dataset, ignore_index=True)  \n",
    "    except IOError as e:\n",
    "        print('Error in reading file: ', e)\n",
    "print(df.shape)\n",
    "print(df.head())"
   ]
  },
  {
   "cell_type": "markdown",
   "metadata": {},
   "source": [
    "## 2. Split"
   ]
  },
  {
   "cell_type": "code",
   "execution_count": 7,
   "metadata": {},
   "outputs": [],
   "source": [
    "X = df.drop(columns=['ConfidenceScore', 'GoodnessScore'])\n",
    "y = df[['ConfidenceScore', 'GoodnessScore']]"
   ]
  },
  {
   "cell_type": "code",
   "execution_count": 8,
   "metadata": {},
   "outputs": [],
   "source": [
    "from sklearn.model_selection import train_test_split\n",
    "\n",
    "X_train, X_test, y_train, y_test = train_test_split(X, y, test_size=0.1, random_state=random_state)"
   ]
  },
  {
   "cell_type": "code",
   "execution_count": 9,
   "metadata": {},
   "outputs": [
    {
     "name": "stdout",
     "output_type": "stream",
     "text": [
      "Training features shape: (202582, 40)\n",
      "Training labels shape: (202582, 2) \n",
      "\n",
      "Test features shape: (22510, 40)\n",
      "Test labels shape: (22510, 2)\n"
     ]
    }
   ],
   "source": [
    "from sklearn.preprocessing import StandardScaler\n",
    "\n",
    "from sklearn.preprocessing import StandardScaler\n",
    "X_scaler = StandardScaler()\n",
    "X_train = X_scaler.fit_transform(X_train)\n",
    "X_test = X_scaler.transform(X_test)\n",
    "y_scaler = StandardScaler()\n",
    "y_train = y_scaler.fit_transform(y_train)\n",
    "print('Training features shape:', X_train.shape)\n",
    "print('Training labels shape:', y_train.shape, '\\n')\n",
    "print('Test features shape:', X_test.shape)\n",
    "print('Test labels shape:', y_test.shape)"
   ]
  },
  {
   "cell_type": "markdown",
   "metadata": {},
   "source": [
    "## 3. Define the Model"
   ]
  },
  {
   "cell_type": "markdown",
   "metadata": {},
   "source": [
    "### 3.1 Configurations"
   ]
  },
  {
   "cell_type": "code",
   "execution_count": 10,
   "metadata": {},
   "outputs": [],
   "source": [
    "from tensorflow.keras.layers import Conv1D, Dense, MaxPooling1D, Dropout, Flatten\n",
    "\n",
    "EPOCHS = 500\n",
    "BATCH_SIZE = 150\n",
    "\n",
    "input_dim = X_train.shape[1]\n",
    "output_size = 2\n",
    "\n",
    "units = 64\n",
    "activation = 'relu'\n",
    "#kernel_initializer = 'he_uniform'\n",
    "kernel_initializer = 'normal'\n",
    "#output_activation = 'sigmoid'\n",
    "#output_activation = 'sigmoid'\n",
    "output_activation = 'linear'\n",
    "optimizer = 'Adam'\n",
    "#optimizer = 'rmsprop'\n",
    "learning_rate = 1e-3"
   ]
  },
  {
   "cell_type": "markdown",
   "metadata": {},
   "source": [
    "### 3.2 Model Architecture"
   ]
  },
  {
   "cell_type": "code",
   "execution_count": 11,
   "metadata": {},
   "outputs": [],
   "source": [
    "from tensorflow.keras.models import Sequential\n",
    "from tensorflow.keras.layers import InputLayer\n",
    "\n",
    "#METRICS = [\n",
    "#    keras.metrics.MeanSquaredError(name=\"mean_squared_error\"),\n",
    "#    keras.metrics.RootMeanSquaredError(name=\"root_mean_squared_error\"),\n",
    "#    keras.metrics.MeanAbsoluteError(name=\"mean_absolute_error\"),\n",
    "#    keras.metrics.MeanAbsolutePercentageError(name=\"mean_absolute_percentage_error\"),\n",
    "#]\n",
    "\n",
    "from tensorflow.keras.metrics import MeanSquaredError, MeanAbsoluteError, RootMeanSquaredError\n",
    "\n",
    "\n",
    "METRICS = [\n",
    "    MeanSquaredError(name=\"mse\", dtype=None),\n",
    "    MeanAbsoluteError(name=\"mae\", dtype=None),\n",
    "    RootMeanSquaredError(name=\"rmse\", dtype=None),\n",
    "]\n",
    "\n",
    "def make_model(input_dim, loss, optimizer, learning_rate=0.001, metrics=METRICS):\n",
    "    model = Sequential()\n",
    "    model.add(Dense(64, input_dim=input_dim, kernel_initializer=kernel_initializer, activation=activation))\n",
    "    model.add(Dense(64, kernel_initializer=kernel_initializer, activation=activation))\n",
    "    model.add(Dense(32, kernel_initializer=kernel_initializer, activation=activation))\n",
    "    model.add(Dense(8, kernel_initializer=kernel_initializer, activation=activation))\n",
    "    model.add(Dense(output_size, activation=output_activation))\n",
    "    \n",
    "    \n",
    "    optimizer = tf.keras.optimizers.get(optimizer)\n",
    "    optimizer.learning_rate.assign(learning_rate)\n",
    "\n",
    "    model.compile(\n",
    "      optimizer=optimizer,\n",
    "      loss=loss,\n",
    "      metrics=metrics)\n",
    "\n",
    "    print(model.summary())\n",
    "\n",
    "    return model"
   ]
  },
  {
   "cell_type": "markdown",
   "metadata": {},
   "source": [
    "## 4. MLflow Experimentation\n",
    "\n",
    "### 4.1 Configurations"
   ]
  },
  {
   "cell_type": "code",
   "execution_count": 12,
   "metadata": {},
   "outputs": [],
   "source": [
    "from mlflow.models.signature import ModelSignature\n",
    "from mlflow.types.schema import Schema, ColSpec\n",
    "input_schema = Schema([\n",
    "    ColSpec(\"double\", \"head_x\"),\n",
    "    ColSpec(\"double\", \"head_y\"),\n",
    "    ColSpec(\"double\", \"head_score\"),\n",
    "    ColSpec(\"double\", \"left_shoulder_x\"),\n",
    "    ColSpec(\"double\", \"left_shoulder_y\"),\n",
    "    ColSpec(\"double\", \"left_shoulder_score\"),\n",
    "    ColSpec(\"double\", \"right_shoulder_x\"),\n",
    "    ColSpec(\"double\", \"right_shoulder_y\"),\n",
    "    ColSpec(\"double\", \"right_shoulder_score\"),\n",
    "    ColSpec(\"double\", \"left_elbow_x\"),\n",
    "    ColSpec(\"double\", \"left_elbow_y\"),\n",
    "    ColSpec(\"double\", \"left_elbow_score\"),\n",
    "    ColSpec(\"double\", \"right_elbow_x\"),\n",
    "    ColSpec(\"double\", \"right_elbow_y\"),\n",
    "    ColSpec(\"double\", \"right_elbow_score\"),\n",
    "    ColSpec(\"double\", \"left_wrist_x\"),\n",
    "    ColSpec(\"double\", \"left_wrist_y\"),\n",
    "    ColSpec(\"double\", \"left_wrist_score\"),\n",
    "    ColSpec(\"double\", \"right_wrist_x\"),\n",
    "    ColSpec(\"double\", \"right_wrist_y\"),\n",
    "    ColSpec(\"double\", \"right_wrist_score\"),\n",
    "    ColSpec(\"double\", \"left_hip_x\"),\n",
    "    ColSpec(\"double\", \"left_hip_y\"),\n",
    "    ColSpec(\"double\", \"left_hip_score\"),\n",
    "    ColSpec(\"double\", \"right_hip_x\"),\n",
    "    ColSpec(\"double\", \"right_hip_y\"),\n",
    "    ColSpec(\"double\", \"right_hip_score\"),\n",
    "    ColSpec(\"double\", \"left_knee_x\"),\n",
    "    ColSpec(\"double\", \"left_knee_y\"),\n",
    "    ColSpec(\"double\", \"left_knee_score\"),\n",
    "    ColSpec(\"double\", \"right_knee_x\"),\n",
    "    ColSpec(\"double\", \"right_knee_y\"),\n",
    "    ColSpec(\"double\", \"right_knee_score\"),\n",
    "    ColSpec(\"double\", \"left_ankle_x\"),\n",
    "    ColSpec(\"double\", \"left_ankle_y\"),\n",
    "    ColSpec(\"double\", \"left_ankle_score\"),\n",
    "    ColSpec(\"double\", \"right_ankle_x\"),\n",
    "    ColSpec(\"double\", \"right_ankle_y\"),\n",
    "    ColSpec(\"double\", \"right_ankle_score\"),\n",
    "    ColSpec(\"double\", \"score\")\n",
    "])\n",
    "output_schema = Schema([\n",
    "    ColSpec(\"double\", \"ConfidenceScore\"),\n",
    "    ColSpec(\"double\", \"GoodnessScore\"),\n",
    "])\n",
    "signature = ModelSignature(inputs=input_schema, outputs=output_schema)"
   ]
  },
  {
   "cell_type": "markdown",
   "metadata": {},
   "source": [
    "### 4.2 Helper functions"
   ]
  },
  {
   "cell_type": "code",
   "execution_count": 13,
   "metadata": {},
   "outputs": [],
   "source": [
    "import matplotlib as mpl\n",
    "import matplotlib.pyplot as plt\n",
    "\n",
    "mpl.rcParams['figure.figsize'] = (8, 6)\n",
    "mpl.rcParams['axes.grid'] = False\n",
    "\n",
    "def plot_train_history(history, title):\n",
    "    loss = history.history['loss']\n",
    "    val_loss = history.history['val_loss']\n",
    "    epochs = range(len(loss))\n",
    "    plt.figure()\n",
    "    plt.plot(epochs, loss, 'b', label='Training loss')\n",
    "    plt.plot(epochs, val_loss, 'r', label='Validation loss')\n",
    "    plt.title(title)\n",
    "    plt.legend()\n",
    "    plt.show()"
   ]
  },
  {
   "cell_type": "code",
   "execution_count": 14,
   "metadata": {},
   "outputs": [],
   "source": [
    "from sklearn.metrics import mean_squared_error, r2_score, explained_variance_score, mean_absolute_error\n",
    "\n",
    "def eval_metrics(actual, pred):\n",
    "    mse = mean_squared_error(actual, pred)\n",
    "    msa = mean_absolute_error(actual, pred)\n",
    "    r2 = r2_score(actual, pred)\n",
    "    variance = explained_variance_score(actual, pred)\n",
    "    return mse, msa, r2, variance"
   ]
  },
  {
   "cell_type": "markdown",
   "metadata": {},
   "source": [
    "### 4.3 Start Run"
   ]
  },
  {
   "cell_type": "code",
   "execution_count": null,
   "metadata": {
    "tags": []
   },
   "outputs": [
    {
     "name": "stdout",
     "output_type": "stream",
     "text": [
      "Model: \"sequential\"\n",
      "_________________________________________________________________\n",
      "Layer (type)                 Output Shape              Param #   \n",
      "=================================================================\n",
      "dense (Dense)                (None, 64)                2624      \n",
      "_________________________________________________________________\n",
      "dense_1 (Dense)              (None, 64)                4160      \n",
      "_________________________________________________________________\n",
      "dense_2 (Dense)              (None, 32)                2080      \n",
      "_________________________________________________________________\n",
      "dense_3 (Dense)              (None, 8)                 264       \n",
      "_________________________________________________________________\n",
      "dense_4 (Dense)              (None, 2)                 18        \n",
      "=================================================================\n",
      "Total params: 9,146\n",
      "Trainable params: 9,146\n",
      "Non-trainable params: 0\n",
      "_________________________________________________________________\n",
      "None\n",
      "Epoch 1/500\n",
      "1081/1081 - 2s - loss: 0.3729 - mse: 0.3729 - mae: 0.3835 - rmse: 0.6106 - val_loss: 0.2904 - val_mse: 0.2904 - val_mae: 0.3212 - val_rmse: 0.5389\n",
      "Epoch 2/500\n",
      "1081/1081 - 1s - loss: 0.2689 - mse: 0.2689 - mae: 0.3062 - rmse: 0.5186 - val_loss: 0.2500 - val_mse: 0.2500 - val_mae: 0.2904 - val_rmse: 0.5000\n",
      "Epoch 3/500\n",
      "1081/1081 - 1s - loss: 0.2296 - mse: 0.2296 - mae: 0.2792 - rmse: 0.4791 - val_loss: 0.2087 - val_mse: 0.2087 - val_mae: 0.2644 - val_rmse: 0.4568\n",
      "Epoch 4/500\n",
      "1081/1081 - 1s - loss: 0.2069 - mse: 0.2069 - mae: 0.2632 - rmse: 0.4549 - val_loss: 0.1982 - val_mse: 0.1982 - val_mae: 0.2567 - val_rmse: 0.4452\n",
      "Epoch 5/500\n",
      "1081/1081 - 1s - loss: 0.1931 - mse: 0.1931 - mae: 0.2535 - rmse: 0.4394 - val_loss: 0.1879 - val_mse: 0.1879 - val_mae: 0.2506 - val_rmse: 0.4335\n",
      "Epoch 6/500\n",
      "1081/1081 - 1s - loss: 0.1816 - mse: 0.1816 - mae: 0.2448 - rmse: 0.4261 - val_loss: 0.1823 - val_mse: 0.1823 - val_mae: 0.2438 - val_rmse: 0.4270\n",
      "Epoch 7/500\n",
      "1081/1081 - 1s - loss: 0.1730 - mse: 0.1730 - mae: 0.2386 - rmse: 0.4159 - val_loss: 0.1630 - val_mse: 0.1630 - val_mae: 0.2303 - val_rmse: 0.4037\n",
      "Epoch 8/500\n",
      "1081/1081 - 1s - loss: 0.1647 - mse: 0.1647 - mae: 0.2322 - rmse: 0.4059 - val_loss: 0.1609 - val_mse: 0.1609 - val_mae: 0.2286 - val_rmse: 0.4011\n",
      "Epoch 9/500\n",
      "1081/1081 - 1s - loss: 0.1575 - mse: 0.1575 - mae: 0.2264 - rmse: 0.3969 - val_loss: 0.1475 - val_mse: 0.1475 - val_mae: 0.2174 - val_rmse: 0.3841\n",
      "Epoch 10/500\n",
      "1081/1081 - 1s - loss: 0.1510 - mse: 0.1510 - mae: 0.2216 - rmse: 0.3886 - val_loss: 0.1499 - val_mse: 0.1499 - val_mae: 0.2194 - val_rmse: 0.3872\n",
      "Epoch 11/500\n",
      "1081/1081 - 2s - loss: 0.1449 - mse: 0.1449 - mae: 0.2169 - rmse: 0.3806 - val_loss: 0.1452 - val_mse: 0.1452 - val_mae: 0.2155 - val_rmse: 0.3811\n",
      "Epoch 12/500\n",
      "1081/1081 - 1s - loss: 0.1396 - mse: 0.1396 - mae: 0.2127 - rmse: 0.3736 - val_loss: 0.1347 - val_mse: 0.1347 - val_mae: 0.2067 - val_rmse: 0.3670\n",
      "Epoch 13/500\n",
      "1081/1081 - 1s - loss: 0.1344 - mse: 0.1344 - mae: 0.2085 - rmse: 0.3667 - val_loss: 0.1360 - val_mse: 0.1360 - val_mae: 0.2100 - val_rmse: 0.3687\n",
      "Epoch 14/500\n",
      "1081/1081 - 1s - loss: 0.1309 - mse: 0.1309 - mae: 0.2054 - rmse: 0.3619 - val_loss: 0.1313 - val_mse: 0.1313 - val_mae: 0.2056 - val_rmse: 0.3623\n",
      "Epoch 15/500\n",
      "1081/1081 - 1s - loss: 0.1274 - mse: 0.1274 - mae: 0.2026 - rmse: 0.3570 - val_loss: 0.1374 - val_mse: 0.1374 - val_mae: 0.2127 - val_rmse: 0.3706\n",
      "Epoch 16/500\n",
      "1081/1081 - 1s - loss: 0.1240 - mse: 0.1240 - mae: 0.1998 - rmse: 0.3521 - val_loss: 0.1385 - val_mse: 0.1385 - val_mae: 0.2093 - val_rmse: 0.3722\n",
      "Epoch 17/500\n",
      "1081/1081 - 1s - loss: 0.1215 - mse: 0.1215 - mae: 0.1977 - rmse: 0.3486 - val_loss: 0.1195 - val_mse: 0.1195 - val_mae: 0.1932 - val_rmse: 0.3457\n",
      "Epoch 18/500\n",
      "1081/1081 - 1s - loss: 0.1190 - mse: 0.1190 - mae: 0.1957 - rmse: 0.3450 - val_loss: 0.1184 - val_mse: 0.1184 - val_mae: 0.1948 - val_rmse: 0.3441\n",
      "Epoch 19/500\n",
      "1081/1081 - 1s - loss: 0.1166 - mse: 0.1166 - mae: 0.1935 - rmse: 0.3414 - val_loss: 0.1195 - val_mse: 0.1195 - val_mae: 0.1968 - val_rmse: 0.3456\n",
      "Epoch 20/500\n",
      "1081/1081 - 2s - loss: 0.1142 - mse: 0.1142 - mae: 0.1915 - rmse: 0.3379 - val_loss: 0.1108 - val_mse: 0.1108 - val_mae: 0.1877 - val_rmse: 0.3328\n",
      "Epoch 21/500\n",
      "1081/1081 - 2s - loss: 0.1107 - mse: 0.1107 - mae: 0.1883 - rmse: 0.3327 - val_loss: 0.1144 - val_mse: 0.1144 - val_mae: 0.1915 - val_rmse: 0.3382\n",
      "Epoch 22/500\n",
      "1081/1081 - 2s - loss: 0.1090 - mse: 0.1090 - mae: 0.1866 - rmse: 0.3302 - val_loss: 0.1177 - val_mse: 0.1177 - val_mae: 0.1906 - val_rmse: 0.3431\n",
      "Epoch 23/500\n",
      "1081/1081 - 1s - loss: 0.1075 - mse: 0.1075 - mae: 0.1853 - rmse: 0.3279 - val_loss: 0.1094 - val_mse: 0.1094 - val_mae: 0.1880 - val_rmse: 0.3308\n",
      "Epoch 24/500\n",
      "1081/1081 - 1s - loss: 0.1057 - mse: 0.1057 - mae: 0.1836 - rmse: 0.3252 - val_loss: 0.1038 - val_mse: 0.1038 - val_mae: 0.1799 - val_rmse: 0.3222\n",
      "Epoch 25/500\n",
      "1081/1081 - 1s - loss: 0.1037 - mse: 0.1037 - mae: 0.1817 - rmse: 0.3220 - val_loss: 0.1039 - val_mse: 0.1039 - val_mae: 0.1831 - val_rmse: 0.3224\n",
      "Epoch 26/500\n",
      "1081/1081 - 1s - loss: 0.1019 - mse: 0.1019 - mae: 0.1799 - rmse: 0.3192 - val_loss: 0.1082 - val_mse: 0.1082 - val_mae: 0.1872 - val_rmse: 0.3289\n",
      "Epoch 27/500\n",
      "1081/1081 - 1s - loss: 0.1022 - mse: 0.1022 - mae: 0.1800 - rmse: 0.3197 - val_loss: 0.1008 - val_mse: 0.1008 - val_mae: 0.1766 - val_rmse: 0.3176\n",
      "Epoch 28/500\n",
      "1081/1081 - 1s - loss: 0.0995 - mse: 0.0995 - mae: 0.1770 - rmse: 0.3155 - val_loss: 0.0993 - val_mse: 0.0993 - val_mae: 0.1759 - val_rmse: 0.3150\n",
      "Epoch 29/500\n",
      "1081/1081 - 1s - loss: 0.0982 - mse: 0.0982 - mae: 0.1756 - rmse: 0.3134 - val_loss: 0.1009 - val_mse: 0.1009 - val_mae: 0.1770 - val_rmse: 0.3176\n",
      "Epoch 30/500\n",
      "1081/1081 - 1s - loss: 0.0970 - mse: 0.0970 - mae: 0.1750 - rmse: 0.3114 - val_loss: 0.1047 - val_mse: 0.1047 - val_mae: 0.1805 - val_rmse: 0.3235\n",
      "Epoch 31/500\n",
      "1081/1081 - 1s - loss: 0.0954 - mse: 0.0954 - mae: 0.1732 - rmse: 0.3088 - val_loss: 0.0980 - val_mse: 0.0980 - val_mae: 0.1736 - val_rmse: 0.3130\n",
      "Epoch 32/500\n",
      "1081/1081 - 1s - loss: 0.0950 - mse: 0.0950 - mae: 0.1726 - rmse: 0.3082 - val_loss: 0.0979 - val_mse: 0.0979 - val_mae: 0.1778 - val_rmse: 0.3129\n",
      "Epoch 33/500\n",
      "1081/1081 - 1s - loss: 0.0927 - mse: 0.0927 - mae: 0.1703 - rmse: 0.3045 - val_loss: 0.0931 - val_mse: 0.0931 - val_mae: 0.1694 - val_rmse: 0.3051\n",
      "Epoch 34/500\n",
      "1081/1081 - 1s - loss: 0.0915 - mse: 0.0915 - mae: 0.1694 - rmse: 0.3024 - val_loss: 0.0941 - val_mse: 0.0941 - val_mae: 0.1703 - val_rmse: 0.3068\n",
      "Epoch 35/500\n",
      "1081/1081 - 1s - loss: 0.0915 - mse: 0.0915 - mae: 0.1686 - rmse: 0.3025 - val_loss: 0.0959 - val_mse: 0.0959 - val_mae: 0.1728 - val_rmse: 0.3097\n",
      "Epoch 36/500\n",
      "1081/1081 - 1s - loss: 0.0897 - mse: 0.0897 - mae: 0.1671 - rmse: 0.2994 - val_loss: 0.1035 - val_mse: 0.1035 - val_mae: 0.1771 - val_rmse: 0.3217\n",
      "Epoch 37/500\n",
      "1081/1081 - 1s - loss: 0.0889 - mse: 0.0889 - mae: 0.1663 - rmse: 0.2982 - val_loss: 0.1030 - val_mse: 0.1030 - val_mae: 0.1770 - val_rmse: 0.3209\n",
      "Epoch 38/500\n",
      "1081/1081 - 1s - loss: 0.0883 - mse: 0.0883 - mae: 0.1656 - rmse: 0.2972 - val_loss: 0.0890 - val_mse: 0.0890 - val_mae: 0.1652 - val_rmse: 0.2984\n",
      "Epoch 39/500\n",
      "1081/1081 - 1s - loss: 0.0870 - mse: 0.0870 - mae: 0.1643 - rmse: 0.2950 - val_loss: 0.0861 - val_mse: 0.0861 - val_mae: 0.1631 - val_rmse: 0.2934\n",
      "Epoch 40/500\n",
      "1081/1081 - 1s - loss: 0.0861 - mse: 0.0861 - mae: 0.1634 - rmse: 0.2933 - val_loss: 0.1047 - val_mse: 0.1047 - val_mae: 0.1761 - val_rmse: 0.3236\n",
      "Epoch 41/500\n",
      "1081/1081 - 1s - loss: 0.0850 - mse: 0.0850 - mae: 0.1622 - rmse: 0.2916 - val_loss: 0.0906 - val_mse: 0.0906 - val_mae: 0.1646 - val_rmse: 0.3010\n",
      "Epoch 42/500\n",
      "1081/1081 - 1s - loss: 0.0846 - mse: 0.0846 - mae: 0.1617 - rmse: 0.2909 - val_loss: 0.0891 - val_mse: 0.0891 - val_mae: 0.1640 - val_rmse: 0.2984\n",
      "Epoch 43/500\n",
      "1081/1081 - 1s - loss: 0.0836 - mse: 0.0836 - mae: 0.1607 - rmse: 0.2891 - val_loss: 0.0881 - val_mse: 0.0881 - val_mae: 0.1617 - val_rmse: 0.2969\n",
      "Epoch 44/500\n",
      "1081/1081 - 1s - loss: 0.0827 - mse: 0.0827 - mae: 0.1598 - rmse: 0.2876 - val_loss: 0.0867 - val_mse: 0.0867 - val_mae: 0.1619 - val_rmse: 0.2944\n",
      "Epoch 45/500\n",
      "1081/1081 - 1s - loss: 0.0823 - mse: 0.0823 - mae: 0.1591 - rmse: 0.2868 - val_loss: 0.0833 - val_mse: 0.0833 - val_mae: 0.1603 - val_rmse: 0.2886\n"
     ]
    },
    {
     "name": "stdout",
     "output_type": "stream",
     "text": [
      "Epoch 46/500\n",
      "1081/1081 - 1s - loss: 0.0824 - mse: 0.0824 - mae: 0.1591 - rmse: 0.2871 - val_loss: 0.0879 - val_mse: 0.0879 - val_mae: 0.1636 - val_rmse: 0.2964\n",
      "Epoch 47/500\n",
      "1081/1081 - 1s - loss: 0.0810 - mse: 0.0810 - mae: 0.1575 - rmse: 0.2845 - val_loss: 0.0834 - val_mse: 0.0834 - val_mae: 0.1585 - val_rmse: 0.2888\n",
      "Epoch 48/500\n",
      "1081/1081 - 1s - loss: 0.0801 - mse: 0.0801 - mae: 0.1564 - rmse: 0.2830 - val_loss: 0.0850 - val_mse: 0.0850 - val_mae: 0.1585 - val_rmse: 0.2916\n",
      "Epoch 49/500\n",
      "1081/1081 - 1s - loss: 0.0805 - mse: 0.0805 - mae: 0.1574 - rmse: 0.2838 - val_loss: 0.0782 - val_mse: 0.0782 - val_mae: 0.1533 - val_rmse: 0.2797\n",
      "Epoch 50/500\n",
      "1081/1081 - 1s - loss: 0.0797 - mse: 0.0797 - mae: 0.1563 - rmse: 0.2823 - val_loss: 0.0810 - val_mse: 0.0810 - val_mae: 0.1559 - val_rmse: 0.2846\n",
      "Epoch 51/500\n",
      "1081/1081 - 1s - loss: 0.0779 - mse: 0.0779 - mae: 0.1544 - rmse: 0.2791 - val_loss: 0.0812 - val_mse: 0.0812 - val_mae: 0.1571 - val_rmse: 0.2850\n",
      "Epoch 52/500\n",
      "1081/1081 - 1s - loss: 0.0778 - mse: 0.0778 - mae: 0.1539 - rmse: 0.2789 - val_loss: 0.0816 - val_mse: 0.0816 - val_mae: 0.1582 - val_rmse: 0.2856\n",
      "Epoch 53/500\n",
      "1081/1081 - 1s - loss: 0.0781 - mse: 0.0781 - mae: 0.1545 - rmse: 0.2795 - val_loss: 0.0782 - val_mse: 0.0782 - val_mae: 0.1534 - val_rmse: 0.2797\n",
      "Epoch 54/500\n",
      "1081/1081 - 1s - loss: 0.0771 - mse: 0.0771 - mae: 0.1533 - rmse: 0.2776 - val_loss: 0.0789 - val_mse: 0.0789 - val_mae: 0.1533 - val_rmse: 0.2809\n",
      "Epoch 55/500\n",
      "1081/1081 - 1s - loss: 0.0757 - mse: 0.0757 - mae: 0.1519 - rmse: 0.2752 - val_loss: 0.0797 - val_mse: 0.0797 - val_mae: 0.1532 - val_rmse: 0.2824\n",
      "Epoch 56/500\n",
      "1081/1081 - 1s - loss: 0.0771 - mse: 0.0771 - mae: 0.1529 - rmse: 0.2777 - val_loss: 0.0786 - val_mse: 0.0786 - val_mae: 0.1553 - val_rmse: 0.2804\n",
      "Epoch 57/500\n",
      "1081/1081 - 1s - loss: 0.0750 - mse: 0.0750 - mae: 0.1506 - rmse: 0.2738 - val_loss: 0.0807 - val_mse: 0.0807 - val_mae: 0.1591 - val_rmse: 0.2840\n",
      "Epoch 58/500\n",
      "1081/1081 - 1s - loss: 0.0755 - mse: 0.0755 - mae: 0.1510 - rmse: 0.2747 - val_loss: 0.0757 - val_mse: 0.0757 - val_mae: 0.1545 - val_rmse: 0.2751\n"
     ]
    }
   ],
   "source": [
    "model_name = 'dense_model_confidence_goodness'\n",
    "#binary_crossentropy\n",
    "with mlflow.start_run(run_name=model_name) as run:\n",
    "\n",
    "    run_id = run.info.run_id\n",
    "\n",
    "    model = make_model(metrics=METRICS, \n",
    "                        loss='mean_squared_error', \n",
    "                        optimizer=optimizer, \n",
    "                        learning_rate=learning_rate, \n",
    "                        input_dim=input_dim)\n",
    "    \n",
    "    with tf.device('/CPU:0'):\n",
    "        history = model.fit(\n",
    "            x=X_train, \n",
    "            y=y_train, \n",
    "            shuffle=True, \n",
    "            epochs=EPOCHS, \n",
    "            verbose=2,\n",
    "            batch_size=BATCH_SIZE,\n",
    "            validation_split=0.2,\n",
    "            callbacks=[early_stopping])\n",
    "\n",
    "        # Plot training history\n",
    "    plot_train_history(history, 'Baseline Training and validation loss')\n",
    "    plt.savefig(\"training_history.jpg\")\n",
    "    mlflow.log_artifact(\"training_history.jpg\")\n",
    "    plt.show()\n",
    "\n",
    "    # Log model parameters\n",
    "    mlflow.log_param(\"activation\", activation)\n",
    "    mlflow.log_param(\"kernel initializer\", kernel_initializer)\n",
    "    mlflow.log_param(\"output activation\", output_activation)\n",
    "    mlflow.log_param(\"optimizer\", optimizer)\n",
    "    mlflow.log_param(\"learning rate\", learning_rate)\n",
    "    mlflow.log_param(\"batch size\", BATCH_SIZE)\n",
    "    mlflow.log_param(\"epochs\", early_stopping.stopped_epoch)\n",
    "\n",
    "    # Log model performance\n",
    "    process_time = [None] * 10\n",
    "    \n",
    "    for i in range(10):\n",
    "        start_time = time.time()\n",
    "        predictions = model.predict(X_test)\n",
    "        end_time = time.time()\n",
    "        process_time[i] = (end_time - start_time) * 1000\n",
    "    \n",
    "    predictions = y_scaler.inverse_transform(predictions)\n",
    "    (mse, mae, r2, variance) = eval_metrics(y_test, predictions)\n",
    "    mlflow.log_metric(\"mse\", mse)\n",
    "    mlflow.log_metric(\"mae\", mae)\n",
    "    mlflow.log_metric(\"R-squared\", r2)\n",
    "    mlflow.log_metric(\"variance\", variance)\n",
    "    mlflow.log_param(\"total params\", model.count_params())\n",
    "    mlflow.log_metric(\"process time\", np.mean(process_time)) \n",
    "\n",
    "    # Log model and scaler(s)\n",
    "    mlflow.keras.log_model(model, model_name, signature=signature)\n",
    "    mlflow.sklearn.log_model(X_scaler, 'InputScaler')\n",
    "    mlflow.sklearn.log_model(y_scaler, 'OutputScaler')\n",
    "    \n",
    "    # Print metrics\n",
    "    print('MSE: ', mse)\n",
    "    print('MSE: ', mae)\n",
    "    print('R-Squared: ', r2)\n",
    "    print('Explained Variance Score: ', variance)"
   ]
  },
  {
   "cell_type": "markdown",
   "metadata": {},
   "source": [
    "## 5. Register Model"
   ]
  },
  {
   "cell_type": "code",
   "execution_count": null,
   "metadata": {},
   "outputs": [],
   "source": [
    "model_uri = \"runs:/{}/{}\".format(run.info.run_id, model_name)\n",
    "mv = mlflow.register_model(model_uri, model_name)\n",
    "print(\"Name: {}\".format(mv.name))\n",
    "print(\"Version: {}\".format(mv.version))"
   ]
  },
  {
   "cell_type": "code",
   "execution_count": null,
   "metadata": {},
   "outputs": [],
   "source": []
  }
 ],
 "metadata": {
  "kernelspec": {
   "display_name": "Python 3",
   "language": "python",
   "name": "python3"
  },
  "language_info": {
   "codemirror_mode": {
    "name": "ipython",
    "version": 3
   },
   "file_extension": ".py",
   "mimetype": "text/x-python",
   "name": "python",
   "nbconvert_exporter": "python",
   "pygments_lexer": "ipython3",
   "version": "3.9.2"
  },
  "metadata": {
   "interpreter": {
    "hash": "63fd5069d213b44bf678585dea6b12cceca9941eaf7f819626cde1f2670de90d"
   }
  }
 },
 "nbformat": 4,
 "nbformat_minor": 2
}
