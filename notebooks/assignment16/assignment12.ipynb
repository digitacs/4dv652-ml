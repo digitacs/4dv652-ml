{
 "cells": [
  {
   "cell_type": "markdown",
   "metadata": {
    "id": "2qa5Xe4Cl-78"
   },
   "source": [
    "# Assignment 12 - Updated Version\n",
    "\n",
    "*by Angelica Hjelm Gardner, Muhammad Farooq, and Omid Golshan Tafti.*\n",
    "\n",
    "This report is an updated version of the previous submission to fix the points raised in the previous assignments (e.g. including executable code) and an update of the pipeline implementation as we were experiencing server issues before when this assignment was submitted - and those issues are now fixed.\n",
    "\n",
    "## Introduction (this part is kept intact from the first submission)\n",
    "\n",
    "In this sprint, we've implemented a new endpoint to our application that accepts a webcam recording or video upload, and gives back a skeleton avatar animation to the user. <br />\n",
    "This report begins with a user documentation, explaining how to get started with using the application as well as a step-by-step guide on how to use it.\n",
    "It also contains a part for technical documentation where we introduce the three different parts of our application (i.e. ML, API, UI) and focus extra on explaining the updates from this new version.\n",
    "\n",
    "----\n",
    "\n",
    "## Table of Contents\n",
    "\n",
    "1. **User Documentation**\n",
    "\n",
    "    1.1 Get Started\n",
    "\n",
    "    1.2 Step-by Step Guide\n",
    "\n",
    "2. **Technical Documentation**\n",
    "\n",
    "    2.1 ML Updates\n",
    "\n",
    "    2.2 API Updates\n",
    "\n",
    "    2.3 UI Updates\n",
    "\n",
    "    2.4 Current ML Models in the Pipeline\n",
    "\n",
    "----"
   ]
  },
  {
   "cell_type": "markdown",
   "metadata": {
    "id": "djqPz0BHN4Px"
   },
   "source": [
    "# 1. User Documentation\n",
    "\n",
    "Our application lets users become more health-conscious by assessing overhead squat movements performed by users either through video recordings or numerical joint positions. The application predicts a score and the weakest link in a user's musculoskeletal system. It also provides a skeleton avatar animation as a visual representation of the user's exercise.\n",
    "\n",
    "This section introduces our application from a user perspective.\n",
    "The first subsection describes how a user can get started with our application, and the second subsection contains a step-by-step guide how to use it. That subsection demonstrates the webcam and video upload functionality where you would receive the skeleton animation. And it will also shows how to use the form to get a score and the prediction for weakest link.\n",
    "\n",
    "## 1.1 Get Started\n",
    "\n",
    "Please use Chrome browser!\n",
    "\n",
    "A user visits our website at [http://rhtrv.com:9000/](http://rhtrv.com:9000/) via a web browser. \n",
    "\n",
    "All functionality will work except for the web camera. To use our web camera implementation, you need to first add our web app domain to be treated as a secure site. This is because currently, we're using the insecure HTTP protocol to serve our web app, and therefore, Chrome will not get permission to access your web camera. <br />\n",
    "We're looking into how to move our web app to a secure connection on our server, but as for now, we don't want to potentially cause any interruptions to the setup, which, in turn, might lead to downtime.\n",
    "\n",
    "## 1.1.1 Add our website as secure in Chrome\n",
    "\n",
    "Open this link in your Chrome browser [chrome://flags/#unsafely-treat-insecure-origin-as-secure](chrome://flags/#unsafely-treat-insecure-origin-as-secure), and add our domain (i.e.http://rhtrv.com:9000/) to \"Insecure origins treated as secure\", as shown below in Figure 1.1.\n",
    "\n",
    "![Figure 1.1](https://drive.google.com/uc?export=view&id=1TZ_lUnAsiC3D0m0JwNaxwpC3qFK9fvBe)\n",
    "\n",
    "<small>Figure 1.1: Add our domain to `Insecure origins treated as secure`.</small>\n",
    "\n",
    "After enabling this setting, visit:  [http://rhtrv.com:9000/](http://rhtrv.com:9000/) and you will be met with three alternatives; each of these are described in the section below.\n",
    "\n",
    "## 1.2 Step-by-Step Guide\n",
    "\n",
    "A step-by-step guide on how to use each part of our application. \n",
    "\n",
    "### 1.2.1 Form submission to get Score and Weakest link\n",
    "\n",
    "The form submission is supposed to be used when the user has performed an overhead squat assessment and received a set of numbers representing certain keypoints of your musculoskeletal system.\n",
    "You find the form submission by pressing the middle alternative at the home page:\n",
    "\n",
    "![Figure 1.2](https://drive.google.com/uc?export=view&id=1Kvigqn85Vc7rDNGxPJSCtn5nPhI2CIT1)\n",
    "\n",
    "When you're located at the form submission page, you'll find three alternatives:\n",
    "\n",
    "1. Fill in each value in separate form submission input fields;\n",
    "2. Place each predictor on a new line in the box (you should not use comma between variables); and\n",
    "3. Place each value on a new line and use comma as the separator.\n",
    "\n",
    "You may select any alternative of your choice. <br />\n",
    "Additionally, we have a test alternative where values are generated randomly for those wanting to test the functionality - but with dummy values. In that case, you press the red button, and values will appear as shown below:\n",
    "\n",
    "![Figure 1.3](https://drive.google.com/uc?export=view&id=1wnFkxqFwJuYZt_B1SyOkDDrRboNgWJr2)\n",
    "\n",
    "Once the form has all values, we press the blue button to receive the score and weakest link, like so: \n",
    "\n",
    "![Figure 1.4](https://drive.google.com/uc?export=view&id=1jmuogzht8i7m4yq-WAlUIve4Jtzu0pjD)\n",
    "\n",
    "### 1.2.2 Using Web camera to get a Skeleton Animation\n",
    "\n",
    "Web camera functionality works only for single person! \n",
    "\n",
    "The web camera functionality is located to the left:\n",
    "\n",
    "![Figure 1.5](https://drive.google.com/uc?export=view&id=1VgApfA80mNAWcs4u4i4AXXuCbFi21XAv)\n",
    "\n",
    "After granting permission for the website to use your web camera, you will see your webcam feed mirrored on the page. Then, you press the **Start** button to the left and perform the exercise. Please stand in a position where the webcam can capture your full body as making this exercise, like so:\n",
    "\n",
    "![Figure 1.6](https://drive.google.com/uc?export=view&id=10btJLlyc3nroJh0DOwtPyDzIMqfxpeIz)\n",
    "\n",
    "After you've finish performing the overhead squat, you press the **Stop** button so that your recording can be processed by our application.\n",
    "\n",
    "### 1.2.3 Video upload\n",
    "\n",
    "Our application accepts all video formats that are playable in the browser, such as .mp4 and formats listed in the figure below:\n",
    "\n",
    "![Figure 1.7](https://drive.google.com/uc?export=view&id=1TZ_lUnAsiC3D0m0JwNaxwpC3qFK9fvBe)\n",
    "\n",
    "<small>Please use one of these formats when uploading videos.</small>\n",
    "\n",
    "To the right on our website, we have the functionality to upload a video recording.\n",
    "\n",
    "![Figure 1.8](https://drive.google.com/uc?export=view&id=1BX5xikUduvPPf9M-rM85N3BOKFZGEnZd)\n",
    "\n",
    "The video recording should be of one person doing a overhead deep squat movement. After uploading the video, you press **Submit** as shown below:\n",
    "\n",
    "![Figure 1.9](https://drive.google.com/uc?export=view&id=1wiygWkeMs2QIidC21gx53PIJMg8GQj5f)"
   ]
  },
  {
   "cell_type": "markdown",
   "metadata": {
    "id": "IF0N43PgUnPN"
   },
   "source": [
    "# 2. Technical Documentation\n",
    "\n",
    "This section describes our application from the technical perspective. \n",
    "We're using three components:\n",
    "\n",
    "- ML component for experimenting, tracking, and serving our ML models;\n",
    "- Backend component consisting of a RESTful API built with Django. It receives requests from the user interface and retrieves predictions from our ML models;\n",
    "- Frontend component, a single-page web application built with Angular that communicates with our backend API.\n",
    "\n",
    "Each of these components will be briefly explained in a subsection below, and we will also introduce our latest updates to each component, which we have worked on this sprint."
   ]
  },
  {
   "cell_type": "markdown",
   "metadata": {
    "id": "nr41X5hwYxBo"
   },
   "source": [
    "## 2.1 ML Updates\n",
    "\n",
    "This section describes how we have approached ML model experimentation and what we're using to serve the best performing models. \n",
    "\n",
    "### 2.1.1 Model Improvements\n",
    "\n",
    "We're experimenting with our ML models in one Jupyter Notebook per model. These are the notebooks:\n",
    "\n",
    "- [posenet_to_kinect2d.ipynb](https://github.com/digitacs/4dv652-ml/blob/main/notebooks/assignment12/posenet_to_kinect2d.ipynb)\n",
    "- [kinect2d_to_3d.ipynb](https://github.com/digitacs/4dv652-ml/blob/main/notebooks/assignment12/kinect2d_to_3d.ipynb)\n",
    "- [uncut_to_cut.ipynb](https://github.com/digitacs/4dv652-ml/blob/main/notebooks/assignment12/uncut_to_cut.ipynb)\n",
    "\n",
    "We're using [MLFlow Tracking](https://mlflow.org/docs/latest/tracking.html) for logging parameters, code versions, metrics, and output files when running our ML code and up until this sprint, the logging has been done locally. This way, we eliminate the need for manually saving results when comparing experimentation runs as MLflow does that for us. MLFlow works with both Sklearn and Keras models.\n",
    "\n",
    "In each Notebook, we're using the `mlflow` module to start a run where we have provided variables to represent hyperparameters such as batch size, learning rate, optimization and activation function, as well as what results we get for the evaluation metrics we're using.\n",
    "\n",
    "In the Notebooks, we're using a `create_model()` method to create a Sequential model in Keras. We also want the ability to test different layer setups, so we have a variable to represent layers which is a list of Python dictionaries: one dictionary per layer.<br />\n",
    "Then, we're using the Factory pattern to create layer objects. Currently, the factory contains the possibility to experiment with these types of layers:\n",
    "\n",
    "`Conv1D, Dense, MaxPooling1D, Dropout, Flatten`\n",
    "\n",
    "But we can easily extend the alternatives in the Factory, if needed.\n",
    "\n",
    "The model is then compiled using the optimizer and learning rate of choice, as such:\n",
    "\n",
    "```python\n",
    "optimizer = tf.keras.optimizers.get(optimizer)\n",
    "optimizer.learning_rate.assign(learning_rate)\n",
    "model.compile(optimizer=optimizer, loss=loss, metrics=metrics)\n",
    "```\n",
    "\n",
    "And finally, it's returned from the function - ready to be used for fitting.\n",
    "An example of this could look like:\n",
    "\n",
    "```python\n",
    "with mlflow.start_run() as run:\n",
    "    # Model parameters\n",
    "    learning_rate = 0.001\n",
    "    optimizer = 'Adam'\n",
    "    loss = 'mse'\n",
    "    metrics = ['mae']\n",
    "    epochs = 500\n",
    "    batch_size = 16\n",
    "    layers = [ \n",
    "        { 'type': 'Dense', 'nodes':64, 'activation': 'relu' },\n",
    "        { 'type': 'Dense', 'nodes':64, 'activation': 'relu' },\n",
    "        { 'type': 'Dense', 'nodes':26, 'activation': ''}\n",
    "    ]\n",
    "\n",
    "    model = create_model(optimizer=optimizer)\n",
    "    history = model.fit(x=X_train, y=y_train, validation_split=0.2, shuffle=True, epochs=epochs, verbose=1, batch_size=batch_size, callbacks=[early_stopping])\n",
    "\n",
    "    predictions = model.predict(X_test, verbose=1)\n",
    "    # Invert transform on predictions\n",
    "    predictions = y_scaler.inverse_transform(predictions)\n",
    "    (mse, msa, r2, variance) = eval_metrics(y_test, predictions)\n",
    "\n",
    "    # Print metrics\n",
    "    print(\"\\nPoseNet_to_Kinect model (optimizer={}, learning_rate={}):\".format(optimizer, learning_rate))\n",
    "    print('MSE: ', mse)\n",
    "    print('MSA: ', msa)\n",
    "    print('R-Squared: ', r2)\n",
    "    print('Explained Variance Score: ', variance)\n",
    "\n",
    "    # Log parameter, metrics, and model to MLflow\n",
    "    mlflow.log_param(\"optimizer\", optimizer)\n",
    "    mlflow.log_param(\"learning rate\", learning_rate)\n",
    "    mlflow.log_param(\"batch size\", batch_size)\n",
    "    mlflow.log_metric(\"mse\", mse)\n",
    "    mlflow.log_metric(\"msa\", msa)\n",
    "    mlflow.log_metric(\"r2\", r2)\n",
    "    mlflow.log_metric(\"variance\", variance)\n",
    "\n",
    "    mlflow.keras.log_model(model, \"posenet_to_kinect2d\")\n",
    "```\n",
    "\n",
    "Some reflections we noticed when performing these experimentations:\n",
    "\n",
    "- The **Adam** optimizer usually gave the best performance and it preferred smaller batch sizes for our regression problems were the best was a batch size of 16. \n",
    "- Early stopping helped to avoid overfitting for all three models by automatically stopping when the chosen metric (i.e. validation loss - mse, we want the min value - for the regression problems and the validation precision-recall curve - we want the max value - for classification problems) has stopped improving for 10 epochs.\n",
    "\n",
    "#### 2.1.2 ML Dashboard\n",
    "\n",
    "At this sprint, we decided to implement an online dashboard with MLFlow so that we can easily track and compare our experimentation runs together and not only individually/locally. We can also use this online dashboard to serve the best performing ML models. <br />\n",
    "The dashboard can be found at [35.228.45.76:5000](http://35.228.45.76:5000/)\n",
    "Unfortunately, we don’t have any protection on the MLFlow dashboard for now as we had to promitize other parts of the application development, but we're working on adding that asap.\n",
    "\n",
    "We connect to the dashboard in the Notebooks by using the following lines directly after importing the `mlflow` module.\n",
    "\n",
    "```python\n",
    "mlflow.set_tracking_uri('http://35.228.45.76:5000')\n",
    "os.environ['GOOGLE_APPLICATION_CREDENTIALS']='./mlflow-312506-6387830e8324.json'\n",
    "```\n",
    "\n",
    "The `.json` file contains google cloud credentials to connect to other dashboard service, but this file is not uploaded to the repository so we keep the credentials secure. \n",
    "\n",
    "It's also important that you have Google Cloud and Google Cloud Storage installed, you can use the following command:\n",
    "\n",
    "`pip install google-cloud google-cloud-storage`\n",
    "\n",
    "At the dashboard, we have two tabs, which we can see in the figure below. These are: \n",
    "\n",
    "- An overview for experiments containing the parameters and metrics, among other information; and \n",
    "- An overview of registrered models. Here we can see what version of the model that is in production.\n",
    "\n",
    "![Figure 2.1](https://drive.google.com/uc?export=view&id=1F78XPjQfokAveEA2kGyYyesJeJrjB58V)\n",
    "\n",
    "#### 2.1.3 Serving our ML models\n",
    "\n",
    "When an MLflow Model is created from a run it is logged with Keras' `log_model()` method and we see from the metrics that this was the best performing model, we can register that model at MLflow Model Registry. Once a model is logged, this model can be registered with the Model Registry from an experiment's **Artifacts** section, as seen in the Figure below:\n",
    "\n",
    "![Figure 2.2](https://drive.google.com/uc?export=view&id=10H1Ly9utDznwaGOP1ai9RxMRjuIbIM7b)\n",
    "\n",
    "Then, when navigating to the **Models** tab at the dashboard, we can see details about models and transition their status to Archieved, Staging, or Production. \n",
    "\n",
    "![Figure 2.3](https://drive.google.com/uc?export=view&id=1NlrYavDmvnO-6w1C3YObe1rocnLuyvpX)\n",
    "\n",
    "After we have registered our MLflow models, we can fetch them in our backend API to include them in our application pipeline. We do this by using `mlflow.keras.load_model()` method where we feed the model with input we have received from our application, and use the output for its purpose. This process is described further in section 2.2.1 about the new API endpoint.\n",
    "\n",
    "If we want to compare the experimentation runs (perhaps we want to see how changing some parameter values have affected the model performance), then we can select the models of choice from the dashboard, like so:\n",
    "\n",
    "![Figure 2.4](https://drive.google.com/uc?export=view&id=1z7CnQ5Su0u5ZJSPs1vr9Lnfek4r3Q850)\n",
    "\n",
    "And after clicking on the \"Compare\" button, we will get a page with information logged about all selected experiments and there's also the possibility to create plots, for example this scatter plot below where we can see different R-squared values that the models have reached depending on what optimizer function that was used. If we hover over one of the dots, it will show information about that model.\n",
    "\n",
    "![Figure 2.5](https://drive.google.com/uc?export=view&id=19wY6fNrhMRIGQ8qdhJvxLDoyBrYmgUdY)"
   ]
  },
  {
   "cell_type": "markdown",
   "metadata": {
    "id": "7jshfAchYzWL"
   },
   "source": [
    "## 2.2 API Updates\n",
    "\n",
    "The second component of our application that we're introducing in this technical documentation part is our RESTful API built with Django. <br />\n",
    "In this sprint, we needed to introduce a new endpoint. So at this section, we're taking the opportunity to briefly present the history of our API and how it has involved to support the app functionality as it currently is. \n",
    "\n",
    "All status codes are standard HTTP status codes. The below ones are used in this API:\n",
    "\n",
    "- 2XX - Success of some kind\n",
    "- 4XX - Error occurred in client’s part\n",
    "- 5XX - Error occurred in server’s part\n",
    "\n",
    "| Status Code | Description |\n",
    "| --- | --- |\n",
    "| 200 | OK |\n",
    "| 201 | Created |\n",
    "| 400 | Bad request |\n",
    "| 500 | Internal Server Error |\n",
    "| 503 | Service Unavailable |\n",
    "\n",
    "#### 2.2.1 History of the API Endpoints\n",
    "\n",
    "##### **scores (v1)**\n",
    "\n",
    "This was our first version of the API. <br />\n",
    "The API method (POST) receives an input of numerical coordinates and predicts a score (of goodness for the exercise) using a Linear Regression Model. Only the score was returned.\n",
    "\n",
    "*Content Type*:<br />\n",
    "JSON\n",
    "\n",
    "| Method | URL |\n",
    "| --- | --- |\n",
    "| POST | api/v1/scores/| \n",
    "\n",
    "<br />\n",
    "\n",
    "| Input Parameters | Type |\n",
    "| --- | --- | \n",
    "| No_1_Angle_Deviation | FLOAT |\n",
    "No_2_Angle_Deviation\n",
    "No_3_Angle_Deviation\n",
    "No_4_Angle_Deviation\n",
    "No_5_Angle_Deviation\n",
    "No_6_Angle_Deviation\n",
    "No_7_Angle_Deviation\n",
    "No_8_Angle_Deviation\n",
    "No_9_Angle_Deviation\n",
    "No_10_Angle_Deviation\n",
    "No_11_Angle_Deviation\n",
    "No_12_Angle_Deviation\n",
    "No_13_Angle_Deviation\n",
    "No_1_NASM_Deviation \n",
    "No_2_NASM_Deviation\n",
    "No_3_NASM_Deviation\n",
    "No_4_NASM_Deviation\n",
    "No_5_NASM_Deviation\n",
    "No_6_NASM_Deviation\n",
    "No_7_NASM_Deviation\n",
    "No_8_NASM_Deviation\n",
    "No_9_NASM_Deviation\n",
    "No_10_NASM_Deviation\n",
    "No_11_NASM_Deviation\n",
    "No_12_NASM_Deviation\n",
    "No_13_NASM_Deviation\n",
    "No_14_NASM_Deviation\n",
    "No_15_NASM_Deviation\n",
    "No_16_NASM_Deviation\n",
    "No_17_NASM_Deviation\n",
    "No_18_NASM_Deviation\n",
    "No_19_NASM_Deviation\n",
    "No_20_NASM_Deviation\n",
    "No_21_NASM_Deviation\n",
    "No_22_NASM_Deviation\n",
    "No_23_NASM_Deviation\n",
    "No_24_NASM_Deviation\n",
    "No_25_NASM_Deviation\n",
    "No_1_Time_Deviation\n",
    "No_2_Time_Deviation\n",
    "\n",
    "<br />\n",
    "\n",
    "| Output | Type |\n",
    "| --- | --- |\n",
    "| score | FLOAT |\n",
    "\n",
    "##### **scores (v2)**\n",
    "\n",
    "This was our second version of the API. <br />\n",
    "The API method (POST) receives the same input of numerical coordinates as before, and now predicts a score (of goodness for the exercise) using a Linear Regression Model and the weakest link in the musculoskeletal system using a Logistic Regression model. Both the score and the weakest link is returned.\n",
    "\n",
    "The content type and input parameters are the same as before. \n",
    "\n",
    "| Method | URL |\n",
    "| --- | --- |\n",
    "| POST | api/v2/scores/| \n",
    "\n",
    "<br />\n",
    "\n",
    "| Output | Type |\n",
    "| --- | --- |\n",
    "| score | FLOAT |\n",
    "| weakest_link | String |\n",
    "\n",
    "##### **videoupload (v3)** \n",
    "\n",
    "The videoupload endpoint was added during this week, and it was supposed to receive a video recording uploaded from the UI that we would use PoseNet model at our backend to process. <br />\n",
    "As it turned out, our server did not support the use of Tensorflow and OpenCV (required for PoseNet) once we tried to deploy that solution - so we ended up switching to PoseNet at the frontend. Therefore, we're currently not using this endpoint with the deployed application in use. \n",
    "\n",
    "##### **camupload (v3)** \n",
    "\n",
    "The camupload endpoint was also added during this week, and it was supposed to support the webcam functionality. The webcam uses PoseNet at the frontend and sends its output to the backend for processing. And because we weren't able to use PoseNet at the backend, we're now processing video uploads at the frontend and also send PoseNet output from videos to this endpoint - so it's used by both webcam recordings and video upload functionalities. We will need to add a task to clean up this and remove any unnecessary code/endpoint in a later maintenance sprint. \n",
    "\n",
    "The current version of the API is v3. The scores endpoint is still in use for returning the score and weakest link, and now we have this endpoint to process the video upload or camera recordings and return a skeleton animation avatar.\n",
    "\n",
    "*Content Type*:<br />\n",
    "JSON\n",
    "\n",
    "| Method | URL |\n",
    "| --- | --- |\n",
    "| POST | api/v3/camupload/| \n",
    "\n",
    "<br />\n",
    "\n",
    "| Input Parameters | Type |\n",
    "| --- | --- |\n",
    "| Frames List | List | \n",
    "\n",
    "<br /> \n",
    "\n",
    "| Output | Type | \n",
    "| --- | --- | \n",
    "| file | String | \n",
    "\n",
    "#### 2.2.2 Connecting to MLflow\n",
    "\n",
    "Our Django API receives coordinates from PoseNet looking similar to this truncated example:\n",
    "\n",
    "```json\n",
    "{\"frames\":\n",
    "[[\n",
    "  {\"score\":0.9970989227294922,\"part\":\"nose\",\"position\":{\"x\":461.9463021323983,\"y\":133.34247247718187}},\n",
    "  {\"score\":0.9797642230987549,\"part\":\"leftEye\",\"position\":{\"x\":454.2126104469854,\"y\":125.83175154511568}},\n",
    "  {\"score\":0.996979832649231,\"part\":\"rightEye\",\"position\":{\"x\":471.04795377418054,\"y\":126.88906806916115}},\n",
    "  {\"score\":0.5669078230857849,\"part\":\"leftEar\",\"position\":{\"x\":444.7451548744883,\"y\":135.51062379829614}},\n",
    "  {\"score\":0.9454719424247742,\"part\":\"rightEar\",\"position\":{\"x\":482.0735604331796,\"y\":135.6166504143741}},\n",
    "]]\n",
    "}\n",
    "```\n",
    "\n",
    "With this input, it connects to our ML models that are served with MLflow. First, we load the posenet_to_kinect model, then kinect2d_to_3d, and lastly cutting leading and trailing frames. All models are loaded in the following way:\n",
    "\n",
    "```python\n",
    "kinect3D_model = mlflow.keras.load_model('gs://mlflow-atlas/mlflow_artifacts/0/cbca4a49c97a4f0a9e100a90658a5cb6/artifacts/kinect3D')\n",
    "predictions = kinect3D_model.predict(d)\n",
    "return Response({'file':serializer}, status=HTTP_200_OK)\n",
    "```\n",
    "\n",
    "The full implementation can be seen in [views.py](https://github.com/digitacs/4dv652-backend/blob/main/scores/views.py)."
   ]
  },
  {
   "cell_type": "markdown",
   "metadata": {
    "id": "lCXQxz9JagsD"
   },
   "source": [
    "## 2.3 UI Updates\n",
    "\n",
    "This section describes how our web application in Angular is built, especially focusing on the latest updates from this sprint. To get started with using this component, please see our [README](https://github.com/digitacs/4dv652-frontend/blob/main/README.md) at the repository. \n",
    "\n",
    "#### 2.3.1 Uploading a Video\n",
    "\n",
    "At our front page, we have an Angular component ([OptionCardComponent](https://github.com/digitacs/4dv652-frontend/tree/main/src/app/modules/dashboard/option-card)) handling redirect of the three main functionalities our app supports to each responsible component:\n",
    "\n",
    "- [ParameterFeedComponent](https://github.com/digitacs/4dv652-frontend/tree/main/src/app/modules/dashboard/parameter-feed) (form submission)\n",
    "- [LiveFeedComponent](https://github.com/digitacs/4dv652-frontend/tree/main/src/app/modules/dashboard/live-feed) (webcam)\n",
    "- [UploadVideoComponent](https://github.com/digitacs/4dv652-frontend/tree/main/src/app/modules/dashboard/upload-video) (added this sprint to support video upload)\n",
    "\n",
    "UploadVideoComponent is using an upload service that we created. Here' we're using Angular's FormData with file upload.\n",
    "\n",
    "#### 2.3.2 PoseNet\n",
    "\n",
    "As mentioned in section 2.2.1 about API endpoints, our first idea was to use PoseNet at the backend with Python, but as we were deploying that solution to our server, we noticed that it could not support the use of Tensorflow and OpenCV, so we had to rethink and use PoseNet at the frontend with Tensorflow.js. As we're already using PoseNet at the frontend for the webcam functionality, we could also included the video processing part. So these are two functionalities with slightly different user experience, but most of the appliation processing is the same. <br />\n",
    "The full implementation of using PoseNet for video upload can be seen in [upload-video.component.ts](https://github.com/digitacs/4dv652-frontend/blob/main/src/app/modules/dashboard/upload-video/upload-video.component.ts)\n",
    "\n",
    "#### 2.3.3 Displaying the Skeleton Avatar Animation\n",
    "\n",
    "For the webcam and video upload functionalities, we process the recordings with PoseNet, as mentioned.<br />\n",
    "After processing a video, we send our PoseNet data to the Django API and in response we will receive 3D predictions for each frame. From this response, we want to create a skeleton avatar animation for the user, so, we draw each element (i.e. head, left_shoulder, right_shoulder, etc.) as vertex showing their connection as a line in an HTML canvas element.\n",
    "\n",
    "The result is an animation from 3 different point of views, showing the user's overhead squat movement after it has been:\n",
    "\n",
    "- Processed by PoseNet in 2D;\n",
    "- Imitated to match a Kinect 2D device;\n",
    "- A third dimension is added for 3D;\n",
    "- Leading and trailing video frames are removed, so the end results only displays the actual exercise. \n",
    "\n",
    "An example of the output avatar can be seen in the code block below:"
   ]
  },
  {
   "cell_type": "code",
   "execution_count": 1,
   "metadata": {
    "id": "xpiz9v5SPAys"
   },
   "outputs": [
    {
     "data": {
      "text/html": [
       "\n",
       "<video width=400 controls>\n",
       "      <source src=\"https://github.com/digitacs/4dv652-frontend/blob/main/videos/skeleton_animation.mov?raw=true\" type=\"video/mp4\">\n",
       "</video>\n"
      ],
      "text/plain": [
       "<IPython.core.display.HTML object>"
      ]
     },
     "execution_count": 1,
     "metadata": {},
     "output_type": "execute_result"
    }
   ],
   "source": [
    "from IPython.display import HTML\n",
    "from base64 import b64encode\n",
    "HTML(\"\"\"\n",
    "<video width=400 controls>\n",
    "      <source src=\"https://github.com/digitacs/4dv652-frontend/blob/main/videos/skeleton_animation.mov?raw=true\" type=\"video/mp4\">\n",
    "</video>\n",
    "\"\"\")"
   ]
  },
  {
   "cell_type": "markdown",
   "metadata": {
    "id": "wuDpxSoyPq3F"
   },
   "source": [
    "## 2.4 Current ML Models in the Pipeline\n",
    "\n",
    "We'll look quickly at the ML models that create this pipeline. \n",
    "\n",
    "### 2.4.1 First model: PoseNet\n",
    "\n",
    "First is PoseNet using Tensorflow.js working with webcam and video upload on  the frontend. This model is served by our [PoseNet service](https://github.com/digitacs/4dv652-frontend/blob/main/src/app/modules/utils/posenet.service.ts) in Angular.\n",
    "\n",
    "### 2.4.2 Second model: Cut Start frames (Dense model)\n",
    "\n",
    "PoseNet provides its keypoint coordinates to the Cut Start frames model. This model cuts PoseNet Start frames so that after this process, any frames that were not part of the exercise from the start of the recording has (hopefully) been removed. The Cut Start model looks like the following:\n",
    "\n",
    "This is the dataset we used."
   ]
  },
  {
   "cell_type": "code",
   "execution_count": 2,
   "metadata": {
    "id": "0oR96E7v3kWC"
   },
   "outputs": [],
   "source": [
    "import warnings\n",
    "warnings.simplefilter('ignore')"
   ]
  },
  {
   "cell_type": "code",
   "execution_count": 3,
   "metadata": {
    "id": "PbMMtBlcS-9Y"
   },
   "outputs": [],
   "source": [
    "data_path = 'https://raw.githubusercontent.com/digitacs/4dv652-ml/main/datasets/new_posenet_marked_start_end/'\n",
    "\n",
    "df = None"
   ]
  },
  {
   "cell_type": "code",
   "execution_count": 4,
   "metadata": {
    "id": "RX6cD-AqTOmD"
   },
   "outputs": [
    {
     "name": "stdout",
     "output_type": "stream",
     "text": [
      "Error in reading file: A60.csv HTTP Error 404: Not Found\n",
      "Error in reading file: A107.csv HTTP Error 404: Not Found\n",
      "(141945, 28)\n"
     ]
    }
   ],
   "source": [
    "import pandas as pd\n",
    "\n",
    "# A-files\n",
    "for i in range (1,160):\n",
    "  try:\n",
    "    dataset = pd.read_csv(data_path + 'A{}.csv'.format(i))\n",
    "    dataset = dataset[dataset.columns.drop(list(dataset.filter(regex='_score')))]\n",
    "    dataset = dataset[dataset.columns.drop(list(dataset.filter(regex='_eye_')))]\n",
    "    dataset = dataset[dataset.columns.drop(list(dataset.filter(regex='_ear_')))]\n",
    "    dataset.rename(columns={'nose_x': 'head_x', 'nose_y': 'head_y'}, inplace=True)\n",
    "\n",
    "    if df is None:\n",
    "      df = dataset\n",
    "    else:\n",
    "      df = pd.concat((df, dataset), ignore_index=True)\n",
    "\n",
    "  except IOError as e:\n",
    "    print('Error in reading file: A{}.csv'.format(i), e)\n",
    "\n",
    "# B-files\n",
    "for i in range(1, 23):\n",
    "  try:\n",
    "    dataset = pd.read_csv(data_path + 'B{}.csv'.format(i))\n",
    "    dataset = dataset[dataset.columns.drop(list(dataset.filter(regex='_score')))]\n",
    "    dataset = dataset[dataset.columns.drop(list(dataset.filter(regex='_eye_')))]\n",
    "    dataset = dataset[dataset.columns.drop(list(dataset.filter(regex='_ear_')))]\n",
    "    dataset.rename(columns={'nose_x': 'head_x', 'nose_y': 'head_y'}, inplace=True)\n",
    "\n",
    "    if df is None:\n",
    "      df = dataset\n",
    "    else:\n",
    "      df = pd.concat((df, dataset), ignore_index=True)\n",
    "\n",
    "  except IOError as e:\n",
    "    print('Error in reading file: B{}.csv'.format(i), e)\n",
    "\n",
    "print(df.shape)"
   ]
  },
  {
   "cell_type": "markdown",
   "metadata": {
    "id": "iWXAXhqtTWBy"
   },
   "source": [
    "We used some data augmentation to train the model."
   ]
  },
  {
   "cell_type": "code",
   "execution_count": 5,
   "metadata": {
    "id": "aA3A7WAGVayH"
   },
   "outputs": [],
   "source": [
    "def mirror(data, axis, append=False):\n",
    "    try:\n",
    "        \n",
    "        if axis == 'a':\n",
    "            target_labels = [col for col in data.columns]\n",
    "        else:\n",
    "            axis = \"_\" + axis\n",
    "            target_labels = [col for col in data.columns if axis in col]\n",
    "\n",
    "        aug_data_mirror = data.copy()\n",
    "\n",
    "        for t in target_labels:\n",
    "            temp = -aug_data_mirror[t]\n",
    "            aug_data_mirror = aug_data_mirror.assign(**{t: temp.values})\n",
    "\n",
    "        if append:\n",
    "            return data.append(aug_data_mirror,ignore_index=True)\n",
    "\n",
    "        return aug_data_mirror\n",
    "    \n",
    "    except IOError as e:\n",
    "        print(e)\n",
    "        return None"
   ]
  },
  {
   "cell_type": "code",
   "execution_count": 6,
   "metadata": {
    "id": "MSRL8vxbTX4A"
   },
   "outputs": [
    {
     "name": "stdout",
     "output_type": "stream",
     "text": [
      "(283890, 28)\n"
     ]
    }
   ],
   "source": [
    "df = mirror(df,'x', append=True)\n",
    "print(df.shape)"
   ]
  },
  {
   "cell_type": "code",
   "execution_count": 7,
   "metadata": {
    "id": "FGI_EJr-Voy9"
   },
   "outputs": [],
   "source": [
    "X = df.drop(columns=['start', 'end'])\n",
    "y = df['start']"
   ]
  },
  {
   "cell_type": "markdown",
   "metadata": {
    "id": "lmXON0ONTaji"
   },
   "source": [
    "And performed oversampling."
   ]
  },
  {
   "cell_type": "code",
   "execution_count": 8,
   "metadata": {},
   "outputs": [
    {
     "name": "stdout",
     "output_type": "stream",
     "text": [
      "Requirement already satisfied: imblearn in /usr/local/lib/python3.9/site-packages (0.0)\n",
      "Requirement already satisfied: imbalanced-learn in /usr/local/lib/python3.9/site-packages (from imblearn) (0.8.0)\n",
      "Requirement already satisfied: numpy>=1.13.3 in /usr/local/lib/python3.9/site-packages (from imbalanced-learn->imblearn) (1.19.5)\n",
      "Requirement already satisfied: joblib>=0.11 in /usr/local/lib/python3.9/site-packages (from imbalanced-learn->imblearn) (1.0.1)\n",
      "Requirement already satisfied: scipy>=0.19.1 in /usr/local/lib/python3.9/site-packages (from imbalanced-learn->imblearn) (1.6.2)\n",
      "Requirement already satisfied: scikit-learn>=0.24 in /usr/local/lib/python3.9/site-packages (from imbalanced-learn->imblearn) (0.24.1)\n",
      "Requirement already satisfied: threadpoolctl>=2.0.0 in /usr/local/lib/python3.9/site-packages (from scikit-learn>=0.24->imbalanced-learn->imblearn) (2.1.0)\n",
      "\u001b[33mWARNING: You are using pip version 21.1.1; however, version 21.1.2 is available.\n",
      "You should consider upgrading via the '/usr/local/opt/python@3.9/bin/python3.9 -m pip install --upgrade pip' command.\u001b[0m\n"
     ]
    }
   ],
   "source": [
    "# in case imblearn is not installed\n",
    "!pip install imblearn"
   ]
  },
  {
   "cell_type": "code",
   "execution_count": 9,
   "metadata": {
    "id": "Q2GlT_V5Td99"
   },
   "outputs": [
    {
     "name": "stdout",
     "output_type": "stream",
     "text": [
      "(450672, 26)\n",
      "(450672,)\n"
     ]
    }
   ],
   "source": [
    "import numpy as np\n",
    "\n",
    "random_state=42\n",
    "np.random.seed(random_state)\n",
    "\n",
    "from imblearn.over_sampling import SMOTE\n",
    "\n",
    "sm = SMOTE(random_state=random_state) # Perform oversamling using SMOTE\n",
    "resampled_X, resampled_y = sm.fit_resample(X, y)\n",
    "\n",
    "print(resampled_X.shape)\n",
    "print(resampled_y.shape)"
   ]
  },
  {
   "cell_type": "markdown",
   "metadata": {
    "id": "sa9KuVbhTgf4"
   },
   "source": [
    "Then we split the data into sets for training, validation, and testing - and normalized it."
   ]
  },
  {
   "cell_type": "code",
   "execution_count": 10,
   "metadata": {
    "id": "J3HDp1chTgOc"
   },
   "outputs": [],
   "source": [
    "from sklearn.model_selection import train_test_split\n",
    "\n",
    "X_train, X_test, y_train, y_test = train_test_split(resampled_X, resampled_y, test_size=0.2, random_state=random_state)\n",
    "X_train, X_val, y_train, y_val = train_test_split(X_train, y_train, test_size=0.2, random_state=random_state)"
   ]
  },
  {
   "cell_type": "code",
   "execution_count": 11,
   "metadata": {
    "id": "w9M9J3mRTmsO"
   },
   "outputs": [
    {
     "name": "stdout",
     "output_type": "stream",
     "text": [
      "Training labels shape: (288429,)\n",
      "Validation labels shape: (72108,)\n",
      "Test labels shape: (90135,) \n",
      "\n",
      "Training features shape: (288429, 26)\n",
      "Validation features shape: (72108, 26)\n",
      "Test features shape: (90135, 26)\n"
     ]
    }
   ],
   "source": [
    "from sklearn.preprocessing import StandardScaler\n",
    "\n",
    "scaler = StandardScaler()\n",
    "X_train = scaler.fit_transform(X_train)\n",
    "\n",
    "X_val = scaler.transform(X_val)\n",
    "X_test = scaler.transform(X_test)\n",
    "\n",
    "print('Training labels shape:', y_train.shape)\n",
    "print('Validation labels shape:', y_val.shape)\n",
    "print('Test labels shape:', y_test.shape, '\\n')\n",
    "\n",
    "print('Training features shape:', X_train.shape)\n",
    "print('Validation features shape:', X_val.shape)\n",
    "print('Test features shape:', X_test.shape)"
   ]
  },
  {
   "cell_type": "markdown",
   "metadata": {
    "id": "Ygs73_IpVTyB"
   },
   "source": [
    "The model architecture looks like the following:"
   ]
  },
  {
   "cell_type": "code",
   "execution_count": 12,
   "metadata": {
    "id": "fHukh5JVWMKr"
   },
   "outputs": [],
   "source": [
    "input_dim = X_train.shape[1]\n",
    "output_size = 1"
   ]
  },
  {
   "cell_type": "code",
   "execution_count": 13,
   "metadata": {
    "id": "WpgqblkfVS_P"
   },
   "outputs": [
    {
     "name": "stdout",
     "output_type": "stream",
     "text": [
      "INFO:tensorflow:Enabling eager execution\n",
      "INFO:tensorflow:Enabling v2 tensorshape\n",
      "INFO:tensorflow:Enabling resource variables\n",
      "INFO:tensorflow:Enabling tensor equality\n",
      "INFO:tensorflow:Enabling control flow v2\n",
      "Model: \"sequential\"\n",
      "_________________________________________________________________\n",
      "Layer (type)                 Output Shape              Param #   \n",
      "=================================================================\n",
      "dense (Dense)                (None, 64)                1728      \n",
      "_________________________________________________________________\n",
      "dense_1 (Dense)              (None, 64)                4160      \n",
      "_________________________________________________________________\n",
      "dense_2 (Dense)              (None, 64)                4160      \n",
      "_________________________________________________________________\n",
      "dense_3 (Dense)              (None, 32)                2080      \n",
      "_________________________________________________________________\n",
      "dense_4 (Dense)              (None, 32)                1056      \n",
      "_________________________________________________________________\n",
      "dense_5 (Dense)              (None, 1)                 33        \n",
      "=================================================================\n",
      "Total params: 13,217\n",
      "Trainable params: 13,217\n",
      "Non-trainable params: 0\n",
      "_________________________________________________________________\n"
     ]
    }
   ],
   "source": [
    "from tensorflow.keras.models import Sequential\n",
    "from tensorflow.keras.layers import InputLayer, Dense\n",
    "from tensorflow.keras.optimizers import Adam\n",
    "\n",
    "import tensorflow as tf\n",
    "\n",
    "METRICS = [\n",
    "    tf.keras.metrics.BinaryAccuracy(name='accuracy'),\n",
    "    tf.keras.metrics.Precision(name='precision'),\n",
    "    tf.keras.metrics.Recall(name='recall'),\n",
    "    tf.keras.metrics.AUC(name='auc'),\n",
    "    tf.keras.metrics.AUC(name='prc', curve='PR'), # precision-recall curve\n",
    "]\n",
    "\n",
    "model = Sequential([\n",
    "  InputLayer(input_shape=(input_dim))\n",
    "])\n",
    "model.add(Dense(units=64, activation='relu', kernel_initializer='he_uniform'))\n",
    "model.add(Dense(units=64, activation='relu', kernel_initializer='he_uniform'))\n",
    "model.add(Dense(units=64, activation='relu', kernel_initializer='he_uniform'))\n",
    "model.add(Dense(units=32, activation='relu', kernel_initializer='he_uniform'))\n",
    "model.add(Dense(units=32, activation='relu', kernel_initializer='he_uniform'))\n",
    "model.add(Dense(units=output_size, activation='sigmoid'))\n",
    "\n",
    "model.compile(optimizer=Adam(learning_rate=1e-3), loss='binary_crossentropy', metrics=METRICS)\n",
    "\n",
    "model.summary()"
   ]
  },
  {
   "cell_type": "markdown",
   "metadata": {
    "id": "bWHWciJ9Wykr"
   },
   "source": [
    "We will use early stopping to prevent overfitting, watching the validation loss so it's kept at its minimum. Training this model looks like the following:"
   ]
  },
  {
   "cell_type": "code",
   "execution_count": 14,
   "metadata": {
    "id": "_XpjA-lXW1Mj"
   },
   "outputs": [],
   "source": [
    "from keras.callbacks import EarlyStopping\n",
    "\n",
    "EPOCHS = 200\n",
    "BATCH_SIZE = 128\n",
    "\n",
    "early_stopping = EarlyStopping(\n",
    "    monitor='val_loss', \n",
    "    verbose=1,\n",
    "    patience=10,\n",
    "    mode='min',\n",
    "    restore_best_weights=True)"
   ]
  },
  {
   "cell_type": "code",
   "execution_count": 15,
   "metadata": {
    "id": "HWcRfvbuW3ar"
   },
   "outputs": [
    {
     "name": "stdout",
     "output_type": "stream",
     "text": [
      "Epoch 1/200\n",
      "2254/2254 [==============================] - 5s 2ms/step - loss: 0.4413 - accuracy: 0.7728 - precision: 0.7596 - recall: 0.7967 - auc: 0.8672 - prc: 0.8589 - val_loss: 0.3649 - val_accuracy: 0.8223 - val_precision: 0.8192 - val_recall: 0.8292 - val_auc: 0.9138 - val_prc: 0.9143\n",
      "Epoch 2/200\n",
      "2254/2254 [==============================] - 3s 1ms/step - loss: 0.3512 - accuracy: 0.8295 - precision: 0.8234 - recall: 0.8387 - auc: 0.9204 - prc: 0.9198 - val_loss: 0.3309 - val_accuracy: 0.8395 - val_precision: 0.8783 - val_recall: 0.7899 - val_auc: 0.9321 - val_prc: 0.9321\n",
      "Epoch 3/200\n",
      "2254/2254 [==============================] - 3s 1ms/step - loss: 0.3202 - accuracy: 0.8470 - precision: 0.8420 - recall: 0.8542 - auc: 0.9345 - prc: 0.9343 - val_loss: 0.3036 - val_accuracy: 0.8592 - val_precision: 0.8309 - val_recall: 0.9036 - val_auc: 0.9430 - val_prc: 0.9432\n",
      "Epoch 4/200\n",
      "2254/2254 [==============================] - 3s 1ms/step - loss: 0.2993 - accuracy: 0.8584 - precision: 0.8528 - recall: 0.8651 - auc: 0.9431 - prc: 0.9426 - val_loss: 0.3048 - val_accuracy: 0.8579 - val_precision: 0.8152 - val_recall: 0.9273 - val_auc: 0.9456 - val_prc: 0.9457\n",
      "Epoch 5/200\n",
      "2254/2254 [==============================] - 3s 1ms/step - loss: 0.2802 - accuracy: 0.8682 - precision: 0.8635 - recall: 0.8750 - auc: 0.9503 - prc: 0.9502 - val_loss: 0.2731 - val_accuracy: 0.8722 - val_precision: 0.8727 - val_recall: 0.8729 - val_auc: 0.9535 - val_prc: 0.9537\n",
      "Epoch 6/200\n",
      "2254/2254 [==============================] - 3s 1ms/step - loss: 0.2663 - accuracy: 0.8779 - precision: 0.8720 - recall: 0.8853 - auc: 0.9553 - prc: 0.9544 - val_loss: 0.2651 - val_accuracy: 0.8790 - val_precision: 0.8469 - val_recall: 0.9267 - val_auc: 0.9581 - val_prc: 0.9574\n",
      "Epoch 7/200\n",
      "2254/2254 [==============================] - 3s 1ms/step - loss: 0.2503 - accuracy: 0.8866 - precision: 0.8795 - recall: 0.8954 - auc: 0.9608 - prc: 0.9599 - val_loss: 0.2458 - val_accuracy: 0.8887 - val_precision: 0.8591 - val_recall: 0.9311 - val_auc: 0.9639 - val_prc: 0.9638\n",
      "Epoch 8/200\n",
      "2254/2254 [==============================] - 3s 1ms/step - loss: 0.2422 - accuracy: 0.8904 - precision: 0.8828 - recall: 0.9011 - auc: 0.9632 - prc: 0.9627 - val_loss: 0.2276 - val_accuracy: 0.9002 - val_precision: 0.8909 - val_recall: 0.9130 - val_auc: 0.9678 - val_prc: 0.9668\n",
      "Epoch 9/200\n",
      "2254/2254 [==============================] - 3s 1ms/step - loss: 0.2301 - accuracy: 0.8969 - precision: 0.8895 - recall: 0.9061 - auc: 0.9669 - prc: 0.9660 - val_loss: 0.2259 - val_accuracy: 0.9006 - val_precision: 0.8878 - val_recall: 0.9182 - val_auc: 0.9681 - val_prc: 0.9676\n",
      "Epoch 10/200\n",
      "2254/2254 [==============================] - 3s 1ms/step - loss: 0.2238 - accuracy: 0.9010 - precision: 0.8931 - recall: 0.9103 - auc: 0.9686 - prc: 0.9674 - val_loss: 0.2187 - val_accuracy: 0.9061 - val_precision: 0.8863 - val_recall: 0.9327 - val_auc: 0.9706 - val_prc: 0.9694\n",
      "Epoch 11/200\n",
      "2254/2254 [==============================] - 3s 1ms/step - loss: 0.2137 - accuracy: 0.9055 - precision: 0.8961 - recall: 0.9171 - auc: 0.9713 - prc: 0.9701 - val_loss: 0.2185 - val_accuracy: 0.9026 - val_precision: 0.9031 - val_recall: 0.9031 - val_auc: 0.9703 - val_prc: 0.9693\n",
      "Epoch 12/200\n",
      "2254/2254 [==============================] - 4s 2ms/step - loss: 0.2070 - accuracy: 0.9097 - precision: 0.9002 - recall: 0.9209 - auc: 0.9732 - prc: 0.9721 - val_loss: 0.2071 - val_accuracy: 0.9085 - val_precision: 0.9114 - val_recall: 0.9058 - val_auc: 0.9735 - val_prc: 0.9730\n",
      "Epoch 13/200\n",
      "2254/2254 [==============================] - 4s 2ms/step - loss: 0.2037 - accuracy: 0.9124 - precision: 0.9029 - recall: 0.9237 - auc: 0.9740 - prc: 0.9729 - val_loss: 0.1997 - val_accuracy: 0.9139 - val_precision: 0.9134 - val_recall: 0.9153 - val_auc: 0.9752 - val_prc: 0.9744\n",
      "Epoch 14/200\n",
      "2254/2254 [==============================] - 3s 1ms/step - loss: 0.1980 - accuracy: 0.9142 - precision: 0.9048 - recall: 0.9257 - auc: 0.9753 - prc: 0.9742 - val_loss: 0.2088 - val_accuracy: 0.9081 - val_precision: 0.8811 - val_recall: 0.9445 - val_auc: 0.9738 - val_prc: 0.9729\n",
      "Epoch 15/200\n",
      "2254/2254 [==============================] - 3s 1ms/step - loss: 0.1920 - accuracy: 0.9170 - precision: 0.9075 - recall: 0.9289 - auc: 0.9769 - prc: 0.9759 - val_loss: 0.1980 - val_accuracy: 0.9146 - val_precision: 0.8985 - val_recall: 0.9357 - val_auc: 0.9754 - val_prc: 0.9743\n",
      "Epoch 16/200\n",
      "2254/2254 [==============================] - 3s 1ms/step - loss: 0.1862 - accuracy: 0.9202 - precision: 0.9115 - recall: 0.9309 - auc: 0.9782 - prc: 0.9772 - val_loss: 0.1938 - val_accuracy: 0.9188 - val_precision: 0.9115 - val_recall: 0.9286 - val_auc: 0.9767 - val_prc: 0.9760\n",
      "Epoch 17/200\n",
      "2254/2254 [==============================] - 3s 1ms/step - loss: 0.1808 - accuracy: 0.9236 - precision: 0.9134 - recall: 0.9354 - auc: 0.9793 - prc: 0.9780 - val_loss: 0.1812 - val_accuracy: 0.9230 - val_precision: 0.9276 - val_recall: 0.9183 - val_auc: 0.9799 - val_prc: 0.9790\n",
      "Epoch 18/200\n",
      "2254/2254 [==============================] - 3s 1ms/step - loss: 0.1785 - accuracy: 0.9234 - precision: 0.9132 - recall: 0.9353 - auc: 0.9799 - prc: 0.9788 - val_loss: 0.1704 - val_accuracy: 0.9281 - val_precision: 0.9194 - val_recall: 0.9392 - val_auc: 0.9816 - val_prc: 0.9809\n",
      "Epoch 19/200\n",
      "2254/2254 [==============================] - 3s 2ms/step - loss: 0.1753 - accuracy: 0.9256 - precision: 0.9155 - recall: 0.9372 - auc: 0.9805 - prc: 0.9793 - val_loss: 0.1793 - val_accuracy: 0.9218 - val_precision: 0.9047 - val_recall: 0.9436 - val_auc: 0.9797 - val_prc: 0.9786\n",
      "Epoch 20/200\n",
      "2254/2254 [==============================] - 3s 2ms/step - loss: 0.1732 - accuracy: 0.9272 - precision: 0.9168 - recall: 0.9397 - auc: 0.9810 - prc: 0.9799 - val_loss: 0.1726 - val_accuracy: 0.9274 - val_precision: 0.9106 - val_recall: 0.9486 - val_auc: 0.9813 - val_prc: 0.9805\n",
      "Epoch 21/200\n",
      "2254/2254 [==============================] - 3s 2ms/step - loss: 0.1673 - accuracy: 0.9296 - precision: 0.9196 - recall: 0.9417 - auc: 0.9823 - prc: 0.9813 - val_loss: 0.1779 - val_accuracy: 0.9242 - val_precision: 0.9128 - val_recall: 0.9389 - val_auc: 0.9799 - val_prc: 0.9786\n",
      "Epoch 22/200\n",
      "2254/2254 [==============================] - 3s 2ms/step - loss: 0.1699 - accuracy: 0.9286 - precision: 0.9182 - recall: 0.9408 - auc: 0.9817 - prc: 0.9806 - val_loss: 0.1730 - val_accuracy: 0.9275 - val_precision: 0.9216 - val_recall: 0.9353 - val_auc: 0.9810 - val_prc: 0.9801\n",
      "Epoch 23/200\n",
      "2254/2254 [==============================] - 3s 2ms/step - loss: 0.1607 - accuracy: 0.9329 - precision: 0.9225 - recall: 0.9449 - auc: 0.9836 - prc: 0.9825 - val_loss: 0.1722 - val_accuracy: 0.9282 - val_precision: 0.9368 - val_recall: 0.9191 - val_auc: 0.9821 - val_prc: 0.9810\n",
      "Epoch 24/200\n",
      "2254/2254 [==============================] - 3s 2ms/step - loss: 0.1587 - accuracy: 0.9341 - precision: 0.9238 - recall: 0.9461 - auc: 0.9838 - prc: 0.9828 - val_loss: 0.1586 - val_accuracy: 0.9362 - val_precision: 0.9253 - val_recall: 0.9496 - val_auc: 0.9839 - val_prc: 0.9832\n",
      "Epoch 25/200\n",
      "2254/2254 [==============================] - 3s 2ms/step - loss: 0.1546 - accuracy: 0.9363 - precision: 0.9262 - recall: 0.9477 - auc: 0.9847 - prc: 0.9837 - val_loss: 0.1539 - val_accuracy: 0.9362 - val_precision: 0.9385 - val_recall: 0.9342 - val_auc: 0.9853 - val_prc: 0.9843\n",
      "Epoch 26/200\n",
      "2254/2254 [==============================] - 3s 1ms/step - loss: 0.1539 - accuracy: 0.9358 - precision: 0.9258 - recall: 0.9474 - auc: 0.9849 - prc: 0.9840 - val_loss: 0.1543 - val_accuracy: 0.9348 - val_precision: 0.9342 - val_recall: 0.9362 - val_auc: 0.9851 - val_prc: 0.9846\n",
      "Epoch 27/200\n",
      "2254/2254 [==============================] - 3s 2ms/step - loss: 0.1502 - accuracy: 0.9379 - precision: 0.9278 - recall: 0.9497 - auc: 0.9855 - prc: 0.9847 - val_loss: 0.1552 - val_accuracy: 0.9376 - val_precision: 0.9242 - val_recall: 0.9540 - val_auc: 0.9847 - val_prc: 0.9837\n",
      "Epoch 28/200\n",
      "2254/2254 [==============================] - 3s 2ms/step - loss: 0.1496 - accuracy: 0.9393 - precision: 0.9287 - recall: 0.9515 - auc: 0.9855 - prc: 0.9845 - val_loss: 0.1537 - val_accuracy: 0.9380 - val_precision: 0.9270 - val_recall: 0.9515 - val_auc: 0.9846 - val_prc: 0.9834\n",
      "Epoch 29/200\n"
     ]
    },
    {
     "name": "stdout",
     "output_type": "stream",
     "text": [
      "2254/2254 [==============================] - 3s 2ms/step - loss: 0.1465 - accuracy: 0.9398 - precision: 0.9289 - recall: 0.9521 - auc: 0.9861 - prc: 0.9851 - val_loss: 0.1478 - val_accuracy: 0.9391 - val_precision: 0.9183 - val_recall: 0.9647 - val_auc: 0.9863 - val_prc: 0.9853\n",
      "Epoch 30/200\n",
      "2254/2254 [==============================] - 3s 1ms/step - loss: 0.1454 - accuracy: 0.9403 - precision: 0.9297 - recall: 0.9525 - auc: 0.9864 - prc: 0.9853 - val_loss: 0.1724 - val_accuracy: 0.9296 - val_precision: 0.9217 - val_recall: 0.9396 - val_auc: 0.9810 - val_prc: 0.9799\n",
      "Epoch 31/200\n",
      "2254/2254 [==============================] - 3s 1ms/step - loss: 0.1421 - accuracy: 0.9421 - precision: 0.9315 - recall: 0.9540 - auc: 0.9870 - prc: 0.9861 - val_loss: 0.1464 - val_accuracy: 0.9398 - val_precision: 0.9131 - val_recall: 0.9728 - val_auc: 0.9870 - val_prc: 0.9857\n",
      "Epoch 32/200\n",
      "2254/2254 [==============================] - 3s 1ms/step - loss: 0.1421 - accuracy: 0.9421 - precision: 0.9315 - recall: 0.9541 - auc: 0.9869 - prc: 0.9859 - val_loss: 0.1590 - val_accuracy: 0.9374 - val_precision: 0.9118 - val_recall: 0.9692 - val_auc: 0.9847 - val_prc: 0.9831\n",
      "Epoch 33/200\n",
      "2254/2254 [==============================] - 3s 1ms/step - loss: 0.1394 - accuracy: 0.9431 - precision: 0.9320 - recall: 0.9560 - auc: 0.9873 - prc: 0.9862 - val_loss: 0.1318 - val_accuracy: 0.9482 - val_precision: 0.9344 - val_recall: 0.9647 - val_auc: 0.9886 - val_prc: 0.9878\n",
      "Epoch 34/200\n",
      "2254/2254 [==============================] - 3s 1ms/step - loss: 0.1364 - accuracy: 0.9446 - precision: 0.9340 - recall: 0.9564 - auc: 0.9880 - prc: 0.9870 - val_loss: 0.1680 - val_accuracy: 0.9331 - val_precision: 0.9262 - val_recall: 0.9418 - val_auc: 0.9824 - val_prc: 0.9812\n",
      "Epoch 35/200\n",
      "2254/2254 [==============================] - 3s 1ms/step - loss: 0.1353 - accuracy: 0.9452 - precision: 0.9343 - recall: 0.9574 - auc: 0.9881 - prc: 0.9871 - val_loss: 0.1396 - val_accuracy: 0.9431 - val_precision: 0.9334 - val_recall: 0.9547 - val_auc: 0.9873 - val_prc: 0.9863\n",
      "Epoch 36/200\n",
      "2254/2254 [==============================] - 3s 1ms/step - loss: 0.1381 - accuracy: 0.9441 - precision: 0.9337 - recall: 0.9559 - auc: 0.9876 - prc: 0.9866 - val_loss: 0.1381 - val_accuracy: 0.9431 - val_precision: 0.9182 - val_recall: 0.9734 - val_auc: 0.9883 - val_prc: 0.9871\n",
      "Epoch 37/200\n",
      "2254/2254 [==============================] - 3s 1ms/step - loss: 0.1366 - accuracy: 0.9447 - precision: 0.9343 - recall: 0.9567 - auc: 0.9878 - prc: 0.9868 - val_loss: 0.1395 - val_accuracy: 0.9448 - val_precision: 0.9252 - val_recall: 0.9684 - val_auc: 0.9874 - val_prc: 0.9855\n",
      "Epoch 38/200\n",
      "2254/2254 [==============================] - 3s 1ms/step - loss: 0.1301 - accuracy: 0.9476 - precision: 0.9378 - recall: 0.9584 - auc: 0.9889 - prc: 0.9879 - val_loss: 0.1402 - val_accuracy: 0.9426 - val_precision: 0.9343 - val_recall: 0.9526 - val_auc: 0.9871 - val_prc: 0.9859\n",
      "Epoch 39/200\n",
      "2254/2254 [==============================] - 3s 1ms/step - loss: 0.1315 - accuracy: 0.9472 - precision: 0.9362 - recall: 0.9593 - auc: 0.9886 - prc: 0.9876 - val_loss: 0.1311 - val_accuracy: 0.9495 - val_precision: 0.9363 - val_recall: 0.9651 - val_auc: 0.9886 - val_prc: 0.9873\n",
      "Epoch 40/200\n",
      "2254/2254 [==============================] - 3s 1ms/step - loss: 0.1304 - accuracy: 0.9474 - precision: 0.9369 - recall: 0.9591 - auc: 0.9889 - prc: 0.9880 - val_loss: 0.1389 - val_accuracy: 0.9441 - val_precision: 0.9382 - val_recall: 0.9513 - val_auc: 0.9874 - val_prc: 0.9864\n",
      "Epoch 41/200\n",
      "2254/2254 [==============================] - 3s 1ms/step - loss: 0.1295 - accuracy: 0.9471 - precision: 0.9369 - recall: 0.9584 - auc: 0.9891 - prc: 0.9882 - val_loss: 0.1375 - val_accuracy: 0.9460 - val_precision: 0.9381 - val_recall: 0.9555 - val_auc: 0.9878 - val_prc: 0.9874\n",
      "Epoch 42/200\n",
      "2254/2254 [==============================] - 3s 2ms/step - loss: 0.1271 - accuracy: 0.9491 - precision: 0.9389 - recall: 0.9603 - auc: 0.9894 - prc: 0.9885 - val_loss: 0.1249 - val_accuracy: 0.9506 - val_precision: 0.9324 - val_recall: 0.9721 - val_auc: 0.9898 - val_prc: 0.9885389 - recall: 0.9603 - auc: 0.9894 - prc: \n",
      "Epoch 43/200\n",
      "2254/2254 [==============================] - 3s 1ms/step - loss: 0.1238 - accuracy: 0.9504 - precision: 0.9405 - recall: 0.9615 - auc: 0.9899 - prc: 0.9889 - val_loss: 0.1271 - val_accuracy: 0.9494 - val_precision: 0.9366 - val_recall: 0.9645 - val_auc: 0.9894 - val_prc: 0.9884\n",
      "Epoch 44/200\n",
      "2254/2254 [==============================] - 3s 1ms/step - loss: 0.1255 - accuracy: 0.9498 - precision: 0.9401 - recall: 0.9605 - auc: 0.9897 - prc: 0.9888 - val_loss: 0.1294 - val_accuracy: 0.9477 - val_precision: 0.9355 - val_recall: 0.9623 - val_auc: 0.9890 - val_prc: 0.9880\n",
      "Epoch 45/200\n",
      "2254/2254 [==============================] - 3s 1ms/step - loss: 0.1219 - accuracy: 0.9512 - precision: 0.9416 - recall: 0.9618 - auc: 0.9902 - prc: 0.9893 - val_loss: 0.1362 - val_accuracy: 0.9466 - val_precision: 0.9275 - val_recall: 0.9693 - val_auc: 0.9881 - val_prc: 0.9867\n",
      "Epoch 46/200\n",
      "2254/2254 [==============================] - 3s 1ms/step - loss: 0.1236 - accuracy: 0.9504 - precision: 0.9408 - recall: 0.9612 - auc: 0.9899 - prc: 0.9891 - val_loss: 0.1135 - val_accuracy: 0.9561 - val_precision: 0.9520 - val_recall: 0.9611 - val_auc: 0.9914 - val_prc: 0.9907\n",
      "Epoch 47/200\n",
      "2254/2254 [==============================] - 3s 1ms/step - loss: 0.1209 - accuracy: 0.9518 - precision: 0.9425 - recall: 0.9624 - auc: 0.9903 - prc: 0.9895 - val_loss: 0.1391 - val_accuracy: 0.9455 - val_precision: 0.9470 - val_recall: 0.9444 - val_auc: 0.9877 - val_prc: 0.9871\n",
      "Epoch 48/200\n",
      "2254/2254 [==============================] - 3s 2ms/step - loss: 0.1207 - accuracy: 0.9517 - precision: 0.9416 - recall: 0.9624 - auc: 0.9904 - prc: 0.9894 - val_loss: 0.1421 - val_accuracy: 0.9445 - val_precision: 0.9185 - val_recall: 0.9760 - val_auc: 0.9878 - val_prc: 0.9853\n",
      "Epoch 49/200\n",
      "2254/2254 [==============================] - 3s 1ms/step - loss: 0.1193 - accuracy: 0.9529 - precision: 0.9427 - recall: 0.9640 - auc: 0.9905 - prc: 0.9896 - val_loss: 0.1303 - val_accuracy: 0.9465 - val_precision: 0.9417 - val_recall: 0.9524 - val_auc: 0.9888 - val_prc: 0.9881\n",
      "Epoch 50/200\n",
      "2254/2254 [==============================] - 3s 1ms/step - loss: 0.1168 - accuracy: 0.9540 - precision: 0.9450 - recall: 0.9639 - auc: 0.9909 - prc: 0.9900 - val_loss: 0.1360 - val_accuracy: 0.9455 - val_precision: 0.9289 - val_recall: 0.9654 - val_auc: 0.9879 - val_prc: 0.9865\n",
      "Epoch 51/200\n",
      "2254/2254 [==============================] - 3s 1ms/step - loss: 0.1175 - accuracy: 0.9533 - precision: 0.9438 - recall: 0.9640 - auc: 0.9909 - prc: 0.9901 - val_loss: 0.1250 - val_accuracy: 0.9497 - val_precision: 0.9451 - val_recall: 0.9552 - val_auc: 0.9898 - val_prc: 0.9889\n",
      "Epoch 52/200\n",
      "2254/2254 [==============================] - 3s 1ms/step - loss: 0.1150 - accuracy: 0.9541 - precision: 0.9446 - recall: 0.9646 - auc: 0.9912 - prc: 0.9903 - val_loss: 0.1180 - val_accuracy: 0.9545 - val_precision: 0.9441 - val_recall: 0.9668 - val_auc: 0.9906 - val_prc: 0.9896\n",
      "Epoch 53/200\n",
      "2254/2254 [==============================] - 3s 1ms/step - loss: 0.1134 - accuracy: 0.9548 - precision: 0.9451 - recall: 0.9655 - auc: 0.9915 - prc: 0.9908 - val_loss: 0.1146 - val_accuracy: 0.9554 - val_precision: 0.9459 - val_recall: 0.9664 - val_auc: 0.9911 - val_prc: 0.9903\n",
      "Epoch 54/200\n",
      "2254/2254 [==============================] - 3s 1ms/step - loss: 0.1121 - accuracy: 0.9560 - precision: 0.9468 - recall: 0.9660 - auc: 0.9915 - prc: 0.9906 - val_loss: 0.1165 - val_accuracy: 0.9554 - val_precision: 0.9392 - val_recall: 0.9742 - val_auc: 0.9910 - val_prc: 0.9900\n",
      "Epoch 55/200\n",
      "2254/2254 [==============================] - 3s 1ms/step - loss: 0.1124 - accuracy: 0.9561 - precision: 0.9469 - recall: 0.9663 - auc: 0.9915 - prc: 0.9907 - val_loss: 0.1139 - val_accuracy: 0.9556 - val_precision: 0.9419 - val_recall: 0.9715 - val_auc: 0.9912 - val_prc: 0.9902\n",
      "Epoch 56/200\n",
      "2254/2254 [==============================] - 3s 1ms/step - loss: 0.1136 - accuracy: 0.9546 - precision: 0.9452 - recall: 0.9648 - auc: 0.9914 - prc: 0.9906 - val_loss: 0.1129 - val_accuracy: 0.9551 - val_precision: 0.9453 - val_recall: 0.9666 - val_auc: 0.9914 - val_prc: 0.9905\n"
     ]
    },
    {
     "name": "stdout",
     "output_type": "stream",
     "text": [
      "Epoch 57/200\n",
      "2254/2254 [==============================] - 4s 2ms/step - loss: 0.1082 - accuracy: 0.9575 - precision: 0.9480 - recall: 0.9680 - auc: 0.9922 - prc: 0.9915 - val_loss: 0.1218 - val_accuracy: 0.9507 - val_precision: 0.9359 - val_recall: 0.9681 - val_auc: 0.9902 - val_prc: 0.9895\n",
      "Epoch 58/200\n",
      "2254/2254 [==============================] - 3s 1ms/step - loss: 0.1125 - accuracy: 0.9557 - precision: 0.9460 - recall: 0.9666 - auc: 0.9916 - prc: 0.9909 - val_loss: 0.1442 - val_accuracy: 0.9427 - val_precision: 0.9504 - val_recall: 0.9348 - val_auc: 0.9876 - val_prc: 0.9868\n",
      "Epoch 59/200\n",
      "2254/2254 [==============================] - 3s 1ms/step - loss: 0.1098 - accuracy: 0.9569 - precision: 0.9475 - recall: 0.9674 - auc: 0.9919 - prc: 0.9912 - val_loss: 0.1232 - val_accuracy: 0.9527 - val_precision: 0.9459 - val_recall: 0.9607 - val_auc: 0.9899 - val_prc: 0.9892\n",
      "Epoch 60/200\n",
      "2254/2254 [==============================] - 3s 1ms/step - loss: 0.1071 - accuracy: 0.9576 - precision: 0.9478 - recall: 0.9683 - auc: 0.9923 - prc: 0.9915 - val_loss: 0.1136 - val_accuracy: 0.9563 - val_precision: 0.9460 - val_recall: 0.9683 - val_auc: 0.9911 - val_prc: 0.9900\n",
      "Epoch 61/200\n",
      "2254/2254 [==============================] - 3s 1ms/step - loss: 0.1078 - accuracy: 0.9583 - precision: 0.9490 - recall: 0.9682 - auc: 0.9922 - prc: 0.9914 - val_loss: 0.1178 - val_accuracy: 0.9539 - val_precision: 0.9506 - val_recall: 0.9579 - val_auc: 0.9906 - val_prc: 0.9894\n",
      "Epoch 62/200\n",
      "2254/2254 [==============================] - 3s 1ms/step - loss: 0.1066 - accuracy: 0.9585 - precision: 0.9493 - recall: 0.9684 - auc: 0.9923 - prc: 0.9916 - val_loss: 0.1279 - val_accuracy: 0.9502 - val_precision: 0.9309 - val_recall: 0.9732 - val_auc: 0.9896 - val_prc: 0.9885\n",
      "Epoch 63/200\n",
      "2254/2254 [==============================] - 3s 2ms/step - loss: 0.1043 - accuracy: 0.9595 - precision: 0.9506 - recall: 0.9690 - auc: 0.9927 - prc: 0.9919 - val_loss: 0.1086 - val_accuracy: 0.9585 - val_precision: 0.9428 - val_recall: 0.9765 - val_auc: 0.9920 - val_prc: 0.9909\n",
      "Epoch 64/200\n",
      "2254/2254 [==============================] - 3s 2ms/step - loss: 0.1044 - accuracy: 0.9590 - precision: 0.9498 - recall: 0.9692 - auc: 0.9926 - prc: 0.9920 - val_loss: 0.0961 - val_accuracy: 0.9622 - val_precision: 0.9495 - val_recall: 0.9767 - val_auc: 0.9936 - val_prc: 0.9930\n",
      "Epoch 65/200\n",
      "2254/2254 [==============================] - 3s 1ms/step - loss: 0.1032 - accuracy: 0.9601 - precision: 0.9515 - recall: 0.9694 - auc: 0.9927 - prc: 0.9920 - val_loss: 0.1139 - val_accuracy: 0.9557 - val_precision: 0.9432 - val_recall: 0.9702 - val_auc: 0.9912 - val_prc: 0.9901\n",
      "Epoch 66/200\n",
      "2254/2254 [==============================] - 3s 1ms/step - loss: 0.1056 - accuracy: 0.9587 - precision: 0.9502 - recall: 0.9681 - auc: 0.9924 - prc: 0.9917 - val_loss: 0.1145 - val_accuracy: 0.9549 - val_precision: 0.9472 - val_recall: 0.9640 - val_auc: 0.9909 - val_prc: 0.9900\n",
      "Epoch 67/200\n",
      "2254/2254 [==============================] - 3s 1ms/step - loss: 0.1036 - accuracy: 0.9592 - precision: 0.9503 - recall: 0.9688 - auc: 0.9927 - prc: 0.9919 - val_loss: 0.1055 - val_accuracy: 0.9606 - val_precision: 0.9476 - val_recall: 0.9754 - val_auc: 0.9922 - val_prc: 0.9910\n",
      "Epoch 68/200\n",
      "2254/2254 [==============================] - 3s 1ms/step - loss: 0.1007 - accuracy: 0.9607 - precision: 0.9523 - recall: 0.9699 - auc: 0.9931 - prc: 0.9923 - val_loss: 0.0991 - val_accuracy: 0.9627 - val_precision: 0.9596 - val_recall: 0.9665 - val_auc: 0.9933 - val_prc: 0.9928\n",
      "Epoch 69/200\n",
      "2254/2254 [==============================] - 3s 1ms/step - loss: 0.1034 - accuracy: 0.9593 - precision: 0.9509 - recall: 0.9684 - auc: 0.9928 - prc: 0.9921 - val_loss: 0.1154 - val_accuracy: 0.9537 - val_precision: 0.9513 - val_recall: 0.9570 - val_auc: 0.9910 - val_prc: 0.9900\n",
      "Epoch 70/200\n",
      "2254/2254 [==============================] - 3s 1ms/step - loss: 0.0990 - accuracy: 0.9618 - precision: 0.9534 - recall: 0.9709 - auc: 0.9932 - prc: 0.9924 - val_loss: 0.1410 - val_accuracy: 0.9454 - val_precision: 0.9278 - val_recall: 0.9665 - val_auc: 0.9879 - val_prc: 0.9859\n",
      "Epoch 71/200\n",
      "2254/2254 [==============================] - 3s 1ms/step - loss: 0.1013 - accuracy: 0.9609 - precision: 0.9525 - recall: 0.9701 - auc: 0.9930 - prc: 0.9922 - val_loss: 0.1032 - val_accuracy: 0.9614 - val_precision: 0.9541 - val_recall: 0.9697 - val_auc: 0.9926 - val_prc: 0.9919\n",
      "Epoch 72/200\n",
      "2254/2254 [==============================] - 3s 1ms/step - loss: 0.0996 - accuracy: 0.9615 - precision: 0.9533 - recall: 0.9705 - auc: 0.9932 - prc: 0.9924 - val_loss: 0.1091 - val_accuracy: 0.9594 - val_precision: 0.9550 - val_recall: 0.9645 - val_auc: 0.9919 - val_prc: 0.9915\n",
      "Epoch 73/200\n",
      "2254/2254 [==============================] - 3s 1ms/step - loss: 0.0973 - accuracy: 0.9620 - precision: 0.9540 - recall: 0.9706 - auc: 0.9936 - prc: 0.9930 - val_loss: 0.1191 - val_accuracy: 0.9527 - val_precision: 0.9412 - val_recall: 0.9662 - val_auc: 0.9906 - val_prc: 0.9896\n",
      "Epoch 74/200\n",
      "2254/2254 [==============================] - 3s 1ms/step - loss: 0.0975 - accuracy: 0.9623 - precision: 0.9540 - recall: 0.9711 - auc: 0.9934 - prc: 0.9928 - val_loss: 0.1030 - val_accuracy: 0.9624 - val_precision: 0.9479 - val_recall: 0.9790 - val_auc: 0.9928 - val_prc: 0.9917\n",
      "Restoring model weights from the end of the best epoch.\n",
      "Epoch 00074: early stopping\n"
     ]
    }
   ],
   "source": [
    "history = model.fit(\n",
    "    x=X_train, \n",
    "    y=y_train, \n",
    "    validation_data=(X_val, y_val), \n",
    "    shuffle=True, \n",
    "    epochs=EPOCHS, \n",
    "    verbose=1,\n",
    "    batch_size=BATCH_SIZE, \n",
    "    callbacks=[early_stopping])"
   ]
  },
  {
   "cell_type": "markdown",
   "metadata": {
    "id": "2Is9ANyKXBfR"
   },
   "source": [
    "And this is the performance of our pipeline's Cut Start frames model:"
   ]
  },
  {
   "cell_type": "code",
   "execution_count": 16,
   "metadata": {
    "id": "PgSt7Q8dX-wc"
   },
   "outputs": [],
   "source": [
    "from sklearn.metrics import accuracy_score, precision_score, recall_score, f1_score\n",
    "\n",
    "def eval_metrics(actual, pred):\n",
    "    accuracy = accuracy_score(actual, pred)\n",
    "    precision = precision_score(actual, pred)\n",
    "    recall = recall_score(actual, pred)\n",
    "    f1 = f1_score(actual, pred)\n",
    "    return accuracy, precision, recall, f1"
   ]
  },
  {
   "cell_type": "code",
   "execution_count": 17,
   "metadata": {
    "id": "Mxd0mf-PXD7_"
   },
   "outputs": [
    {
     "name": "stdout",
     "output_type": "stream",
     "text": [
      "\n",
      "Accuracy: 0.96367670716148 \n",
      "\n",
      "Precision score: 0.9514081927295451 \n",
      "\n",
      "Recall score: 0.9774412786965089 \n",
      "\n",
      "F1 score: 0.964249055449999\n"
     ]
    }
   ],
   "source": [
    "predictions = model.predict_classes(X_test)\n",
    "\n",
    "accuracy, precision, recall, f1 = eval_metrics(y_test, predictions)\n",
    "\n",
    "print('\\nAccuracy:', accuracy, '\\n')\n",
    "print('Precision score:', precision, '\\n')\n",
    "print('Recall score:', recall, '\\n')\n",
    "print('F1 score:', f1)"
   ]
  },
  {
   "cell_type": "markdown",
   "metadata": {
    "id": "4VucE6_72LTz"
   },
   "source": [
    "This model is served via MLflow Model Registry and can be found at [this URL](http://35.228.45.76:5000/#/experiments/0/runs/ca84e7c5b9e54551bd4708aa457bf730)."
   ]
  },
  {
   "cell_type": "markdown",
   "metadata": {
    "id": "SsTFaQ_4XMId"
   },
   "source": [
    "### 2.4.3 Third model: Cut Stop frames (Dense model)\n",
    "\n",
    "The remaining frames that was not removed by the Cut Start model is passed to the next model which is Cut Stop frames. This model cuts PoseNet Stop frames and that its processing, any frames that were not part of the exercise at the end of the recording has (hopefully) been removed. The remaining frames at the end should only contain the actual overhead deepsquat exercise. \n",
    "\n",
    "Let's look at the Cut Stop frames model. <br />\n",
    "The dataset used is the same as the Cut Start model used just before so we simply need to reassign the X and y values to keep the \"end\" column instead of \"start\" which was used previously."
   ]
  },
  {
   "cell_type": "code",
   "execution_count": 18,
   "metadata": {
    "id": "x37qZVNKXOkz"
   },
   "outputs": [],
   "source": [
    "X = df.drop(columns=['end', 'start'])\n",
    "y = df['end']"
   ]
  },
  {
   "cell_type": "code",
   "execution_count": 19,
   "metadata": {
    "id": "8e1Tbvux3cqJ"
   },
   "outputs": [
    {
     "name": "stdout",
     "output_type": "stream",
     "text": [
      "(474884, 26)\n",
      "(474884,)\n"
     ]
    }
   ],
   "source": [
    "sm = SMOTE(random_state=random_state) # Perform oversamling using SMOTE\n",
    "resampled_X, resampled_y = sm.fit_resample(X, y)\n",
    "\n",
    "print(resampled_X.shape)\n",
    "print(resampled_y.shape)"
   ]
  },
  {
   "cell_type": "code",
   "execution_count": 20,
   "metadata": {
    "id": "l-7x2c2-3fXv"
   },
   "outputs": [],
   "source": [
    "X_train, X_test, y_train, y_test = train_test_split(resampled_X, resampled_y, test_size=0.2, random_state=random_state)\n",
    "X_train, X_val, y_train, y_val = train_test_split(X_train, y_train, test_size=0.2, random_state=random_state)"
   ]
  },
  {
   "cell_type": "code",
   "execution_count": 21,
   "metadata": {
    "id": "zT1Rpje23qZh"
   },
   "outputs": [
    {
     "name": "stdout",
     "output_type": "stream",
     "text": [
      "Training labels shape: (303925,)\n",
      "Validation labels shape: (75982,)\n",
      "Test labels shape: (94977,) \n",
      "\n",
      "Training features shape: (303925, 26)\n",
      "Validation features shape: (75982, 26)\n",
      "Test features shape: (94977, 26)\n"
     ]
    }
   ],
   "source": [
    "scaler = StandardScaler()\n",
    "X_train = scaler.fit_transform(X_train)\n",
    "\n",
    "X_val = scaler.transform(X_val)\n",
    "X_test = scaler.transform(X_test)\n",
    "\n",
    "print('Training labels shape:', y_train.shape)\n",
    "print('Validation labels shape:', y_val.shape)\n",
    "print('Test labels shape:', y_test.shape, '\\n')\n",
    "\n",
    "print('Training features shape:', X_train.shape)\n",
    "print('Validation features shape:', X_val.shape)\n",
    "print('Test features shape:', X_test.shape)"
   ]
  },
  {
   "cell_type": "markdown",
   "metadata": {
    "id": "OhOsF2Tg3vI9"
   },
   "source": [
    "The model architecture for the Cut Stop frames is the same as Cut Start model."
   ]
  },
  {
   "cell_type": "code",
   "execution_count": 22,
   "metadata": {
    "id": "bL6Dce_R3yl5"
   },
   "outputs": [
    {
     "name": "stdout",
     "output_type": "stream",
     "text": [
      "Model: \"sequential_1\"\n",
      "_________________________________________________________________\n",
      "Layer (type)                 Output Shape              Param #   \n",
      "=================================================================\n",
      "dense_6 (Dense)              (None, 64)                1728      \n",
      "_________________________________________________________________\n",
      "dense_7 (Dense)              (None, 64)                4160      \n",
      "_________________________________________________________________\n",
      "dense_8 (Dense)              (None, 64)                4160      \n",
      "_________________________________________________________________\n",
      "dense_9 (Dense)              (None, 32)                2080      \n",
      "_________________________________________________________________\n",
      "dense_10 (Dense)             (None, 32)                1056      \n",
      "_________________________________________________________________\n",
      "dense_11 (Dense)             (None, 1)                 33        \n",
      "=================================================================\n",
      "Total params: 13,217\n",
      "Trainable params: 13,217\n",
      "Non-trainable params: 0\n",
      "_________________________________________________________________\n"
     ]
    }
   ],
   "source": [
    "model = Sequential([\n",
    "  InputLayer(input_shape=(input_dim))\n",
    "])\n",
    "model.add(Dense(units=64, activation='relu', kernel_initializer='he_uniform'))\n",
    "model.add(Dense(units=64, activation='relu', kernel_initializer='he_uniform'))\n",
    "model.add(Dense(units=64, activation='relu', kernel_initializer='he_uniform'))\n",
    "model.add(Dense(units=32, activation='relu', kernel_initializer='he_uniform'))\n",
    "model.add(Dense(units=32, activation='relu', kernel_initializer='he_uniform'))\n",
    "model.add(Dense(units=output_size, activation='sigmoid'))\n",
    "\n",
    "model.compile(optimizer=Adam(learning_rate=1e-3), loss='binary_crossentropy', metrics=METRICS)\n",
    "\n",
    "model.summary()"
   ]
  },
  {
   "cell_type": "code",
   "execution_count": 23,
   "metadata": {
    "id": "jZksmjPr4TiS",
    "scrolled": true
   },
   "outputs": [
    {
     "name": "stdout",
     "output_type": "stream",
     "text": [
      "Epoch 1/200\n",
      "2375/2375 [==============================] - 5s 2ms/step - loss: 0.3901 - accuracy: 0.8641 - precision: 0.8592 - recall: 0.8717 - auc: 0.9502 - prc: 0.9498 - val_loss: 0.3113 - val_accuracy: 0.8429 - val_precision: 0.8109 - val_recall: 0.8923 - val_auc: 0.9382 - val_prc: 0.9385\n",
      "Epoch 2/200\n",
      "2375/2375 [==============================] - 3s 1ms/step - loss: 0.2968 - accuracy: 0.8543 - precision: 0.8505 - recall: 0.8587 - auc: 0.9426 - prc: 0.9422 - val_loss: 0.2766 - val_accuracy: 0.8761 - val_precision: 0.8826 - val_recall: 0.8662 - val_auc: 0.9531 - val_prc: 0.9517\n",
      "Epoch 3/200\n",
      "2375/2375 [==============================] - 3s 1ms/step - loss: 0.2647 - accuracy: 0.8779 - precision: 0.8719 - recall: 0.8858 - auc: 0.9556 - prc: 0.9544 - val_loss: 0.2516 - val_accuracy: 0.8840 - val_precision: 0.8811 - val_recall: 0.8865 - val_auc: 0.9599 - val_prc: 0.9586\n",
      "Epoch 4/200\n",
      "2375/2375 [==============================] - 3s 1ms/step - loss: 0.2399 - accuracy: 0.8932 - precision: 0.8848 - recall: 0.9049 - auc: 0.9638 - prc: 0.9627 - val_loss: 0.2268 - val_accuracy: 0.8992 - val_precision: 0.8771 - val_recall: 0.9273 - val_auc: 0.9681 - val_prc: 0.9664\n",
      "Epoch 5/200\n",
      "2375/2375 [==============================] - 3s 1ms/step - loss: 0.2233 - accuracy: 0.9019 - precision: 0.8913 - recall: 0.9158 - auc: 0.9687 - prc: 0.9674 - val_loss: 0.2213 - val_accuracy: 0.9078 - val_precision: 0.8849 - val_recall: 0.9365 - val_auc: 0.9700 - val_prc: 0.9666\n",
      "Epoch 6/200\n",
      "2375/2375 [==============================] - 3s 1ms/step - loss: 0.2115 - accuracy: 0.9078 - precision: 0.8970 - recall: 0.9221 - auc: 0.9717 - prc: 0.9704 - val_loss: 0.2076 - val_accuracy: 0.9133 - val_precision: 0.8919 - val_recall: 0.9396 - val_auc: 0.9726 - val_prc: 0.9706\n",
      "Epoch 7/200\n",
      "2375/2375 [==============================] - 3s 1ms/step - loss: 0.1988 - accuracy: 0.9149 - precision: 0.9034 - recall: 0.9286 - auc: 0.9750 - prc: 0.9735 - val_loss: 0.2069 - val_accuracy: 0.9112 - val_precision: 0.9231 - val_recall: 0.8962 - val_auc: 0.9745 - val_prc: 0.9726\n",
      "Epoch 8/200\n",
      "2375/2375 [==============================] - 4s 1ms/step - loss: 0.1957 - accuracy: 0.9170 - precision: 0.9054 - recall: 0.9307 - auc: 0.9756 - prc: 0.9738 - val_loss: 0.1934 - val_accuracy: 0.9168 - val_precision: 0.8985 - val_recall: 0.9389 - val_auc: 0.9765 - val_prc: 0.9750\n",
      "Epoch 9/200\n",
      "2375/2375 [==============================] - 3s 1ms/step - loss: 0.1844 - accuracy: 0.9219 - precision: 0.9082 - recall: 0.9392 - auc: 0.9782 - prc: 0.9767 - val_loss: 0.2011 - val_accuracy: 0.9102 - val_precision: 0.8860 - val_recall: 0.9406 - val_auc: 0.9750 - val_prc: 0.9742\n",
      "Epoch 10/200\n",
      "2375/2375 [==============================] - 3s 1ms/step - loss: 0.1795 - accuracy: 0.9240 - precision: 0.9114 - recall: 0.9399 - auc: 0.9794 - prc: 0.9782 - val_loss: 0.1762 - val_accuracy: 0.9260 - val_precision: 0.9184 - val_recall: 0.9343 - val_auc: 0.9803 - val_prc: 0.9790\n",
      "Epoch 11/200\n",
      "2375/2375 [==============================] - 3s 1ms/step - loss: 0.1757 - accuracy: 0.9261 - precision: 0.9132 - recall: 0.9421 - auc: 0.9803 - prc: 0.9792 - val_loss: 0.1900 - val_accuracy: 0.9170 - val_precision: 0.9177 - val_recall: 0.9152 - val_auc: 0.9775 - val_prc: 0.9762\n",
      "Epoch 12/200\n",
      "2375/2375 [==============================] - 3s 1ms/step - loss: 0.1691 - accuracy: 0.9285 - precision: 0.9159 - recall: 0.9441 - auc: 0.9816 - prc: 0.9806 - val_loss: 0.1827 - val_accuracy: 0.9239 - val_precision: 0.8909 - val_recall: 0.9653 - val_auc: 0.9798 - val_prc: 0.9780\n",
      "Epoch 13/200\n",
      "2375/2375 [==============================] - 3s 1ms/step - loss: 0.1648 - accuracy: 0.9303 - precision: 0.9173 - recall: 0.9462 - auc: 0.9826 - prc: 0.9816 - val_loss: 0.1711 - val_accuracy: 0.9262 - val_precision: 0.8995 - val_recall: 0.9588 - val_auc: 0.9817 - val_prc: 0.9805\n",
      "Epoch 14/200\n",
      "2375/2375 [==============================] - 3s 1ms/step - loss: 0.1600 - accuracy: 0.9329 - precision: 0.9198 - recall: 0.9483 - auc: 0.9835 - prc: 0.9823 - val_loss: 0.1733 - val_accuracy: 0.9267 - val_precision: 0.9152 - val_recall: 0.9399 - val_auc: 0.9807 - val_prc: 0.9788\n",
      "Epoch 15/200\n",
      "2375/2375 [==============================] - 3s 1ms/step - loss: 0.1582 - accuracy: 0.9336 - precision: 0.9205 - recall: 0.9493 - auc: 0.9838 - prc: 0.9828 - val_loss: 0.1673 - val_accuracy: 0.9278 - val_precision: 0.9050 - val_recall: 0.9553 - val_auc: 0.9825 - val_prc: 0.9813\n",
      "Epoch 16/200\n",
      "2375/2375 [==============================] - 3s 1ms/step - loss: 0.1535 - accuracy: 0.9356 - precision: 0.9227 - recall: 0.9507 - auc: 0.9847 - prc: 0.9836 - val_loss: 0.1650 - val_accuracy: 0.9298 - val_precision: 0.9253 - val_recall: 0.9344 - val_auc: 0.9827 - val_prc: 0.9811\n",
      "Epoch 17/200\n",
      "2375/2375 [==============================] - 3s 1ms/step - loss: 0.1511 - accuracy: 0.9369 - precision: 0.9249 - recall: 0.9509 - auc: 0.9852 - prc: 0.9841 - val_loss: 0.1577 - val_accuracy: 0.9343 - val_precision: 0.9296 - val_recall: 0.9391 - val_auc: 0.9843 - val_prc: 0.9834\n",
      "Epoch 18/200\n",
      "2375/2375 [==============================] - 3s 1ms/step - loss: 0.1486 - accuracy: 0.9381 - precision: 0.9261 - recall: 0.9525 - auc: 0.9856 - prc: 0.9847 - val_loss: 0.1407 - val_accuracy: 0.9426 - val_precision: 0.9229 - val_recall: 0.9652 - val_auc: 0.9871 - val_prc: 0.9861\n",
      "Epoch 19/200\n",
      "2375/2375 [==============================] - 4s 1ms/step - loss: 0.1446 - accuracy: 0.9402 - precision: 0.9279 - recall: 0.9547 - auc: 0.9864 - prc: 0.9855 - val_loss: 0.1471 - val_accuracy: 0.9394 - val_precision: 0.9187 - val_recall: 0.9634 - val_auc: 0.9862 - val_prc: 0.9852\n",
      "Epoch 20/200\n",
      "2375/2375 [==============================] - 3s 1ms/step - loss: 0.1430 - accuracy: 0.9409 - precision: 0.9291 - recall: 0.9550 - auc: 0.9867 - prc: 0.9858 - val_loss: 0.1400 - val_accuracy: 0.9416 - val_precision: 0.9265 - val_recall: 0.9587 - val_auc: 0.9872 - val_prc: 0.9863\n",
      "Epoch 21/200\n",
      "2375/2375 [==============================] - 4s 1ms/step - loss: 0.1418 - accuracy: 0.9412 - precision: 0.9294 - recall: 0.9549 - auc: 0.9869 - prc: 0.9860 - val_loss: 0.1473 - val_accuracy: 0.9381 - val_precision: 0.9323 - val_recall: 0.9441 - val_auc: 0.9862 - val_prc: 0.9853\n",
      "Epoch 22/200\n",
      "2375/2375 [==============================] - 4s 2ms/step - loss: 0.1387 - accuracy: 0.9424 - precision: 0.9309 - recall: 0.9556 - auc: 0.9874 - prc: 0.9864 - val_loss: 0.1425 - val_accuracy: 0.9402 - val_precision: 0.9400 - val_recall: 0.9399 - val_auc: 0.9873 - val_prc: 0.9864\n",
      "Epoch 23/200\n",
      "2375/2375 [==============================] - 3s 1ms/step - loss: 0.1379 - accuracy: 0.9428 - precision: 0.9313 - recall: 0.9566 - auc: 0.9876 - prc: 0.9868 - val_loss: 0.1388 - val_accuracy: 0.9439 - val_precision: 0.9210 - val_recall: 0.9705 - val_auc: 0.9875 - val_prc: 0.9863\n",
      "Epoch 24/200\n",
      "2375/2375 [==============================] - 3s 1ms/step - loss: 0.1352 - accuracy: 0.9435 - precision: 0.9317 - recall: 0.9573 - auc: 0.9880 - prc: 0.9872 - val_loss: 0.1395 - val_accuracy: 0.9409 - val_precision: 0.9415 - val_recall: 0.9396 - val_auc: 0.9879 - val_prc: 0.9872\n",
      "Epoch 25/200\n",
      "2375/2375 [==============================] - 3s 1ms/step - loss: 0.1332 - accuracy: 0.9448 - precision: 0.9335 - recall: 0.9579 - auc: 0.9883 - prc: 0.9876 - val_loss: 0.1489 - val_accuracy: 0.9379 - val_precision: 0.9200 - val_recall: 0.9586 - val_auc: 0.9860 - val_prc: 0.9851\n",
      "Epoch 26/200\n",
      "2375/2375 [==============================] - 3s 1ms/step - loss: 0.1324 - accuracy: 0.9453 - precision: 0.9340 - recall: 0.9584 - auc: 0.9885 - prc: 0.9878 - val_loss: 0.1269 - val_accuracy: 0.9480 - val_precision: 0.9333 - val_recall: 0.9644 - val_auc: 0.9893 - val_prc: 0.9881\n",
      "Epoch 27/200\n",
      "2375/2375 [==============================] - 3s 1ms/step - loss: 0.1295 - accuracy: 0.9460 - precision: 0.9351 - recall: 0.9585 - auc: 0.9890 - prc: 0.9882 - val_loss: 0.1251 - val_accuracy: 0.9483 - val_precision: 0.9339 - val_recall: 0.9644 - val_auc: 0.9896 - val_prc: 0.9888\n",
      "Epoch 28/200\n",
      "2375/2375 [==============================] - 3s 1ms/step - loss: 0.1286 - accuracy: 0.9477 - precision: 0.9364 - recall: 0.9609 - auc: 0.9890 - prc: 0.9883 - val_loss: 0.1309 - val_accuracy: 0.9460 - val_precision: 0.9248 - val_recall: 0.9704 - val_auc: 0.9890 - val_prc: 0.9880\n",
      "Epoch 29/200\n"
     ]
    },
    {
     "name": "stdout",
     "output_type": "stream",
     "text": [
      "2375/2375 [==============================] - 3s 1ms/step - loss: 0.1259 - accuracy: 0.9483 - precision: 0.9374 - recall: 0.9610 - auc: 0.9895 - prc: 0.9888 - val_loss: 0.1250 - val_accuracy: 0.9483 - val_precision: 0.9273 - val_recall: 0.9723 - val_auc: 0.9899 - val_prc: 0.9888\n",
      "Epoch 30/200\n",
      "2375/2375 [==============================] - 3s 1ms/step - loss: 0.1225 - accuracy: 0.9499 - precision: 0.9385 - recall: 0.9631 - auc: 0.9901 - prc: 0.9893 - val_loss: 0.1379 - val_accuracy: 0.9415 - val_precision: 0.9235 - val_recall: 0.9621 - val_auc: 0.9878 - val_prc: 0.9868\n",
      "Epoch 31/200\n",
      "2375/2375 [==============================] - 3s 1ms/step - loss: 0.1244 - accuracy: 0.9497 - precision: 0.9382 - recall: 0.9628 - auc: 0.9897 - prc: 0.9889 - val_loss: 0.1286 - val_accuracy: 0.9484 - val_precision: 0.9317 - val_recall: 0.9672 - val_auc: 0.9892 - val_prc: 0.9882250 - accuracy: 0.9497 - precision: 0.9381 - recall: 0.9629 - au\n",
      "Epoch 32/200\n",
      "2375/2375 [==============================] - 3s 1ms/step - loss: 0.1203 - accuracy: 0.9511 - precision: 0.9403 - recall: 0.9633 - auc: 0.9904 - prc: 0.9897 - val_loss: 0.1316 - val_accuracy: 0.9463 - val_precision: 0.9513 - val_recall: 0.9403 - val_auc: 0.9893 - val_prc: 0.9886\n",
      "Epoch 33/200\n",
      "2375/2375 [==============================] - 3s 1ms/step - loss: 0.1193 - accuracy: 0.9514 - precision: 0.9410 - recall: 0.9633 - auc: 0.9906 - prc: 0.9898 - val_loss: 0.1187 - val_accuracy: 0.9529 - val_precision: 0.9343 - val_recall: 0.9737 - val_auc: 0.9906 - val_prc: 0.9893\n",
      "Epoch 34/200\n",
      "2375/2375 [==============================] - 3s 1ms/step - loss: 0.1201 - accuracy: 0.9510 - precision: 0.9397 - recall: 0.9637 - auc: 0.9904 - prc: 0.9897 - val_loss: 0.1261 - val_accuracy: 0.9483 - val_precision: 0.9377 - val_recall: 0.9599 - val_auc: 0.9895 - val_prc: 0.9883\n",
      "Epoch 35/200\n",
      "2375/2375 [==============================] - 4s 1ms/step - loss: 0.1168 - accuracy: 0.9521 - precision: 0.9416 - recall: 0.9640 - auc: 0.9909 - prc: 0.9902 - val_loss: 0.1185 - val_accuracy: 0.9526 - val_precision: 0.9423 - val_recall: 0.9636 - val_auc: 0.9906 - val_prc: 0.9896on: 0.9414 - recall: 0.9639 - auc: 0.99\n",
      "Epoch 36/200\n",
      "2375/2375 [==============================] - 3s 1ms/step - loss: 0.1168 - accuracy: 0.9523 - precision: 0.9423 - recall: 0.9636 - auc: 0.9910 - prc: 0.9902 - val_loss: 0.1303 - val_accuracy: 0.9455 - val_precision: 0.9336 - val_recall: 0.9586 - val_auc: 0.9890 - val_prc: 0.9879\n",
      "Epoch 37/200\n",
      "2375/2375 [==============================] - 3s 1ms/step - loss: 0.1160 - accuracy: 0.9526 - precision: 0.9422 - recall: 0.9642 - auc: 0.9910 - prc: 0.9903 - val_loss: 0.1224 - val_accuracy: 0.9496 - val_precision: 0.9408 - val_recall: 0.9591 - val_auc: 0.9900 - val_prc: 0.9892\n",
      "Epoch 38/200\n",
      "2375/2375 [==============================] - 3s 1ms/step - loss: 0.1136 - accuracy: 0.9538 - precision: 0.9434 - recall: 0.9654 - auc: 0.9914 - prc: 0.9908 - val_loss: 0.1232 - val_accuracy: 0.9508 - val_precision: 0.9429 - val_recall: 0.9593 - val_auc: 0.9897 - val_prc: 0.9885\n",
      "Epoch 39/200\n",
      "2375/2375 [==============================] - 3s 1ms/step - loss: 0.1126 - accuracy: 0.9540 - precision: 0.9442 - recall: 0.9655 - auc: 0.9916 - prc: 0.9909 - val_loss: 0.1232 - val_accuracy: 0.9479 - val_precision: 0.9438 - val_recall: 0.9520 - val_auc: 0.9901 - val_prc: 0.9890\n",
      "Epoch 40/200\n",
      "2375/2375 [==============================] - 3s 1ms/step - loss: 0.1116 - accuracy: 0.9539 - precision: 0.9438 - recall: 0.9653 - auc: 0.9917 - prc: 0.9911 - val_loss: 0.1159 - val_accuracy: 0.9524 - val_precision: 0.9309 - val_recall: 0.9768 - val_auc: 0.9919 - val_prc: 0.9913\n",
      "Epoch 41/200\n",
      "2375/2375 [==============================] - 3s 1ms/step - loss: 0.1106 - accuracy: 0.9547 - precision: 0.9448 - recall: 0.9660 - auc: 0.9919 - prc: 0.9913 - val_loss: 0.1166 - val_accuracy: 0.9510 - val_precision: 0.9419 - val_recall: 0.9609 - val_auc: 0.9910 - val_prc: 0.9903\n",
      "Epoch 42/200\n",
      "2375/2375 [==============================] - 3s 1ms/step - loss: 0.1095 - accuracy: 0.9546 - precision: 0.9446 - recall: 0.9661 - auc: 0.9920 - prc: 0.9914 - val_loss: 0.1101 - val_accuracy: 0.9569 - val_precision: 0.9394 - val_recall: 0.9762 - val_auc: 0.9921 - val_prc: 0.9913\n",
      "Epoch 43/200\n",
      "2375/2375 [==============================] - 3s 1ms/step - loss: 0.1075 - accuracy: 0.9559 - precision: 0.9462 - recall: 0.9669 - auc: 0.9923 - prc: 0.9918 - val_loss: 0.1091 - val_accuracy: 0.9558 - val_precision: 0.9499 - val_recall: 0.9620 - val_auc: 0.9917 - val_prc: 0.9905\n",
      "Epoch 44/200\n",
      "2375/2375 [==============================] - 3s 1ms/step - loss: 0.1081 - accuracy: 0.9560 - precision: 0.9467 - recall: 0.9665 - auc: 0.9922 - prc: 0.9916 - val_loss: 0.1058 - val_accuracy: 0.9583 - val_precision: 0.9460 - val_recall: 0.9716 - val_auc: 0.9925 - val_prc: 0.9919\n",
      "Epoch 45/200\n",
      "2375/2375 [==============================] - 3s 1ms/step - loss: 0.1061 - accuracy: 0.9569 - precision: 0.9479 - recall: 0.9670 - auc: 0.9925 - prc: 0.9918 - val_loss: 0.1046 - val_accuracy: 0.9580 - val_precision: 0.9488 - val_recall: 0.9679 - val_auc: 0.9927 - val_prc: 0.9919\n",
      "Epoch 46/200\n",
      "2375/2375 [==============================] - 3s 1ms/step - loss: 0.1052 - accuracy: 0.9576 - precision: 0.9484 - recall: 0.9680 - auc: 0.9926 - prc: 0.9919 - val_loss: 0.1113 - val_accuracy: 0.9544 - val_precision: 0.9479 - val_recall: 0.9613 - val_auc: 0.9917 - val_prc: 0.9908\n",
      "Epoch 47/200\n",
      "2375/2375 [==============================] - 3s 1ms/step - loss: 0.1056 - accuracy: 0.9568 - precision: 0.9479 - recall: 0.9672 - auc: 0.9925 - prc: 0.9920 - val_loss: 0.1133 - val_accuracy: 0.9543 - val_precision: 0.9537 - val_recall: 0.9545 - val_auc: 0.9916 - val_prc: 0.9905\n",
      "Epoch 48/200\n",
      "2375/2375 [==============================] - 3s 1ms/step - loss: 0.1053 - accuracy: 0.9571 - precision: 0.9483 - recall: 0.9668 - auc: 0.9926 - prc: 0.9919 - val_loss: 0.1067 - val_accuracy: 0.9576 - val_precision: 0.9503 - val_recall: 0.9652 - val_auc: 0.9923 - val_prc: 0.9915\n",
      "Epoch 49/200\n",
      "2375/2375 [==============================] - 3s 1ms/step - loss: 0.1044 - accuracy: 0.9573 - precision: 0.9479 - recall: 0.9677 - auc: 0.9928 - prc: 0.9922 - val_loss: 0.1057 - val_accuracy: 0.9574 - val_precision: 0.9488 - val_recall: 0.9665 - val_auc: 0.9924 - val_prc: 0.9917\n",
      "Epoch 50/200\n",
      "2375/2375 [==============================] - 3s 1ms/step - loss: 0.1032 - accuracy: 0.9582 - precision: 0.9483 - recall: 0.9691 - auc: 0.9929 - prc: 0.9923 - val_loss: 0.1149 - val_accuracy: 0.9538 - val_precision: 0.9465 - val_recall: 0.9615 - val_auc: 0.9910 - val_prc: 0.9902\n",
      "Epoch 51/200\n",
      "2375/2375 [==============================] - 4s 1ms/step - loss: 0.1016 - accuracy: 0.9587 - precision: 0.9499 - recall: 0.9685 - auc: 0.9931 - prc: 0.9926 - val_loss: 0.1102 - val_accuracy: 0.9536 - val_precision: 0.9386 - val_recall: 0.9703 - val_auc: 0.9920 - val_prc: 0.9910\n",
      "Epoch 52/200\n",
      "2375/2375 [==============================] - 4s 2ms/step - loss: 0.1020 - accuracy: 0.9583 - precision: 0.9490 - recall: 0.9687 - auc: 0.9930 - prc: 0.9924 - val_loss: 0.1017 - val_accuracy: 0.9597 - val_precision: 0.9443 - val_recall: 0.9766 - val_auc: 0.9929 - val_prc: 0.9921\n",
      "Epoch 53/200\n",
      "2375/2375 [==============================] - 3s 1ms/step - loss: 0.1014 - accuracy: 0.9586 - precision: 0.9494 - recall: 0.9692 - auc: 0.9931 - prc: 0.9926 - val_loss: 0.1072 - val_accuracy: 0.9576 - val_precision: 0.9438 - val_recall: 0.9726 - val_auc: 0.9922 - val_prc: 0.9916 - precision: 0.9487 - recall: 0.9691 \n",
      "Epoch 54/200\n",
      "2375/2375 [==============================] - 4s 2ms/step - loss: 0.0978 - accuracy: 0.9603 - precision: 0.9517 - recall: 0.9700 - auc: 0.9936 - prc: 0.9931 - val_loss: 0.1034 - val_accuracy: 0.9587 - val_precision: 0.9515 - val_recall: 0.9661 - val_auc: 0.9925 - val_prc: 0.9913\n",
      "Epoch 55/200\n",
      "2375/2375 [==============================] - 3s 1ms/step - loss: 0.0987 - accuracy: 0.9594 - precision: 0.9506 - recall: 0.9690 - auc: 0.9934 - prc: 0.9927 - val_loss: 0.1133 - val_accuracy: 0.9540 - val_precision: 0.9405 - val_recall: 0.9688 - val_auc: 0.9914 - val_prc: 0.9904\n",
      "Epoch 56/200\n",
      "2375/2375 [==============================] - 3s 1ms/step - loss: 0.0987 - accuracy: 0.9601 - precision: 0.9514 - recall: 0.9697 - auc: 0.9935 - prc: 0.9930 - val_loss: 0.1103 - val_accuracy: 0.9545 - val_precision: 0.9350 - val_recall: 0.9764 - val_auc: 0.9922 - val_prc: 0.9911\n"
     ]
    },
    {
     "name": "stdout",
     "output_type": "stream",
     "text": [
      "Epoch 57/200\n",
      "2375/2375 [==============================] - 3s 1ms/step - loss: 0.0995 - accuracy: 0.9595 - precision: 0.9512 - recall: 0.9688 - auc: 0.9934 - prc: 0.9929 - val_loss: 0.0971 - val_accuracy: 0.9614 - val_precision: 0.9530 - val_recall: 0.9703 - val_auc: 0.9935 - val_prc: 0.9925\n",
      "Epoch 58/200\n",
      "2375/2375 [==============================] - 3s 1ms/step - loss: 0.0974 - accuracy: 0.9599 - precision: 0.9515 - recall: 0.9691 - auc: 0.9936 - prc: 0.9930 - val_loss: 0.0998 - val_accuracy: 0.9609 - val_precision: 0.9479 - val_recall: 0.9750 - val_auc: 0.9931 - val_prc: 0.9920\n",
      "Epoch 59/200\n",
      "2375/2375 [==============================] - 3s 1ms/step - loss: 0.0960 - accuracy: 0.9614 - precision: 0.9536 - recall: 0.9702 - auc: 0.9938 - prc: 0.9933 - val_loss: 0.0984 - val_accuracy: 0.9610 - val_precision: 0.9534 - val_recall: 0.9688 - val_auc: 0.9933 - val_prc: 0.9921\n",
      "Epoch 60/200\n",
      "2375/2375 [==============================] - 3s 1ms/step - loss: 0.0967 - accuracy: 0.9608 - precision: 0.9525 - recall: 0.9701 - auc: 0.9937 - prc: 0.9932 - val_loss: 0.0908 - val_accuracy: 0.9642 - val_precision: 0.9547 - val_recall: 0.9743 - val_auc: 0.9942 - val_prc: 0.9934\n",
      "Epoch 61/200\n",
      "2375/2375 [==============================] - 3s 1ms/step - loss: 0.0941 - accuracy: 0.9620 - precision: 0.9533 - recall: 0.9713 - auc: 0.9940 - prc: 0.9934 - val_loss: 0.0981 - val_accuracy: 0.9601 - val_precision: 0.9525 - val_recall: 0.9682 - val_auc: 0.9936 - val_prc: 0.9930\n",
      "Epoch 62/200\n",
      "2375/2375 [==============================] - 4s 1ms/step - loss: 0.0963 - accuracy: 0.9605 - precision: 0.9522 - recall: 0.9697 - auc: 0.9937 - prc: 0.9932 - val_loss: 0.1090 - val_accuracy: 0.9558 - val_precision: 0.9520 - val_recall: 0.9596 - val_auc: 0.9923 - val_prc: 0.9914\n",
      "Epoch 63/200\n",
      "2375/2375 [==============================] - 3s 1ms/step - loss: 0.0931 - accuracy: 0.9619 - precision: 0.9542 - recall: 0.9703 - auc: 0.9942 - prc: 0.9937 - val_loss: 0.0999 - val_accuracy: 0.9591 - val_precision: 0.9536 - val_recall: 0.9649 - val_auc: 0.9931 - val_prc: 0.9921\n",
      "Epoch 64/200\n",
      "2375/2375 [==============================] - 4s 2ms/step - loss: 0.0927 - accuracy: 0.9622 - precision: 0.9537 - recall: 0.9716 - auc: 0.9942 - prc: 0.9938 - val_loss: 0.1175 - val_accuracy: 0.9526 - val_precision: 0.9518 - val_recall: 0.9530 - val_auc: 0.9912 - val_prc: 0.9903\n",
      "Epoch 65/200\n",
      "2375/2375 [==============================] - 3s 1ms/step - loss: 0.0934 - accuracy: 0.9618 - precision: 0.9539 - recall: 0.9703 - auc: 0.9941 - prc: 0.9937 - val_loss: 0.0911 - val_accuracy: 0.9633 - val_precision: 0.9570 - val_recall: 0.9698 - val_auc: 0.9944 - val_prc: 0.9938\n",
      "Epoch 66/200\n",
      "2375/2375 [==============================] - 3s 1ms/step - loss: 0.0924 - accuracy: 0.9621 - precision: 0.9539 - recall: 0.9712 - auc: 0.9942 - prc: 0.9937 - val_loss: 0.0956 - val_accuracy: 0.9595 - val_precision: 0.9557 - val_recall: 0.9633 - val_auc: 0.9940 - val_prc: 0.9934\n",
      "Epoch 67/200\n",
      "2375/2375 [==============================] - 3s 1ms/step - loss: 0.0922 - accuracy: 0.9621 - precision: 0.9546 - recall: 0.9706 - auc: 0.9943 - prc: 0.9939 - val_loss: 0.0915 - val_accuracy: 0.9629 - val_precision: 0.9505 - val_recall: 0.9764 - val_auc: 0.9943 - val_prc: 0.9936\n",
      "Epoch 68/200\n",
      "2375/2375 [==============================] - 4s 1ms/step - loss: 0.0902 - accuracy: 0.9639 - precision: 0.9555 - recall: 0.9732 - auc: 0.9945 - prc: 0.9940 - val_loss: 0.0953 - val_accuracy: 0.9610 - val_precision: 0.9480 - val_recall: 0.9751 - val_auc: 0.9938 - val_prc: 0.9929\n",
      "Epoch 69/200\n",
      "2375/2375 [==============================] - 4s 2ms/step - loss: 0.0912 - accuracy: 0.9631 - precision: 0.9550 - recall: 0.9718 - auc: 0.9944 - prc: 0.9938 - val_loss: 0.0946 - val_accuracy: 0.9619 - val_precision: 0.9515 - val_recall: 0.9730 - val_auc: 0.9939 - val_prc: 0.9931\n",
      "Epoch 70/200\n",
      "2375/2375 [==============================] - 3s 1ms/step - loss: 0.0890 - accuracy: 0.9634 - precision: 0.9556 - recall: 0.9722 - auc: 0.9946 - prc: 0.9942 - val_loss: 0.0987 - val_accuracy: 0.9610 - val_precision: 0.9421 - val_recall: 0.9820 - val_auc: 0.9937 - val_prc: 0.9923\n",
      "Restoring model weights from the end of the best epoch.\n",
      "Epoch 00070: early stopping\n"
     ]
    }
   ],
   "source": [
    "history = model.fit(\n",
    "    x=X_train, \n",
    "    y=y_train, \n",
    "    validation_data=(X_val, y_val), \n",
    "    shuffle=True, \n",
    "    epochs=EPOCHS, \n",
    "    verbose=1,\n",
    "    batch_size=BATCH_SIZE, \n",
    "    callbacks=[early_stopping])"
   ]
  },
  {
   "cell_type": "code",
   "execution_count": 24,
   "metadata": {
    "id": "ATMqABnN4WJl"
   },
   "outputs": [
    {
     "name": "stdout",
     "output_type": "stream",
     "text": [
      "\n",
      "Accuracy: 0.9657074870758183 \n",
      "\n",
      "Precision score: 0.9577441529219908 \n",
      "\n",
      "Recall score: 0.974583035751796 \n",
      "\n",
      "F1 score: 0.9660902247811013\n"
     ]
    }
   ],
   "source": [
    "predictions = model.predict_classes(X_test)\n",
    "\n",
    "accuracy, precision, recall, f1 = eval_metrics(y_test, predictions)\n",
    "\n",
    "print('\\nAccuracy:', accuracy, '\\n')\n",
    "print('Precision score:', precision, '\\n')\n",
    "print('Recall score:', recall, '\\n')\n",
    "print('F1 score:', f1)"
   ]
  },
  {
   "cell_type": "markdown",
   "metadata": {
    "id": "bgv-DAGI7m9D"
   },
   "source": [
    "This model is also served via MLflow Model Registry and can be found at [this URL](http://35.228.45.76:5000/#/experiments/0/runs/583700c9367d4a49ad54912df95cf3cb)."
   ]
  },
  {
   "cell_type": "markdown",
   "metadata": {
    "id": "zH3lEGpxRySs"
   },
   "source": [
    "### 2.4.4 Fourth model: PoseNet to Kinect 2D (Dense model)\n",
    "\n",
    "After start and stop frames has been removed, the data is transferred to the next model in the pipeline which is PoseNet to Kinect 2D.\n",
    "\n",
    "Lets load the dataset we've used for this model."
   ]
  },
  {
   "cell_type": "code",
   "execution_count": 25,
   "metadata": {
    "id": "SkFX3ec1XVtH"
   },
   "outputs": [],
   "source": [
    "posenetDataPath = 'https://raw.githubusercontent.com/digitacs/4dv652-ml/main/datasets/posenet-uncut/old_without_score/'\n",
    "kinectDataPath = 'https://raw.githubusercontent.com/digitacs/4dv652-ml/main/datasets/kinect_fixed_not_cut_dup_fNo/'\n",
    "\n",
    "X = None\n",
    "y = None\n",
    "\n",
    "train_test_ratio = 0.8"
   ]
  },
  {
   "cell_type": "code",
   "execution_count": 26,
   "metadata": {
    "id": "TcR3Q8g4-JrQ"
   },
   "outputs": [
    {
     "name": "stdout",
     "output_type": "stream",
     "text": [
      "Error in reading file: 107 HTTP Error 404: Not Found\n",
      "(142866, 26)\n",
      "(142866, 26)\n"
     ]
    }
   ],
   "source": [
    "import re\n",
    "\n",
    "# A-files\n",
    "for i in range(1,160):\n",
    "  try:\n",
    "    posenetData = pd.read_csv(posenetDataPath + 'A{}.csv'.format(i))\n",
    "    scores = []\n",
    "    for score in posenetData.columns:\n",
    "      if re.search(\"^.*_score$\", score):\n",
    "        scores.append(score)\n",
    "    posenetData.drop(columns=scores, inplace=True)\n",
    "    posenetData.drop(columns=['left_eye_x', 'left_eye_y', 'right_eye_x', 'right_eye_y', 'left_ear_x', 'left_ear_y', 'right_ear_x', 'right_ear_y'], inplace=True)\n",
    "    posenetData.rename(columns={'nose_x': 'head_x', 'nose_y': 'head_y'}, inplace=True)\n",
    "\n",
    "    kinectData = pd.read_csv(kinectDataPath + 'A{}_kinect.csv'.format(i))\n",
    "    # Check amount of frames\n",
    "    if (len(posenetData) == len(kinectData)):\n",
    "      if X is None:\n",
    "        X = posenetData\n",
    "      else:\n",
    "        X = pd.concat((X, posenetData), ignore_index=True)\n",
    "\n",
    "    # Drop Z-columns from Kinect\n",
    "    z = []\n",
    "    for c in kinectData.columns:\n",
    "      if re.search(\"^.*_z$\", c):\n",
    "        z.append(c)\n",
    "    kinectData.drop(columns=z, inplace=True)\n",
    "    kinectData.drop(columns=['Unnamed: 0', 'FrameNo'], inplace=True)\n",
    "    if y is None:\n",
    "      y = kinectData\n",
    "    else:\n",
    "      y = pd.concat((y, kinectData), ignore_index=True)\n",
    "  except IOError as e:\n",
    "    print('Error in reading file: {}'.format(i), e)\n",
    "\n",
    "# B-files\n",
    "for i in range(1, 23):\n",
    "  try:\n",
    "    posenetData = pd.read_csv(posenetDataPath + 'B{}.csv'.format(i))\n",
    "    scores = []\n",
    "    for score in posenetData.columns:\n",
    "      if re.search(\"^.*_score$\", score):\n",
    "        scores.append(score)\n",
    "    posenetData.drop(columns=scores, inplace=True)\n",
    "    posenetData.drop(columns=['left_eye_x', 'left_eye_y', 'right_eye_x', 'right_eye_y', 'left_ear_x', 'left_ear_y', 'right_ear_x', 'right_ear_y'], inplace=True)\n",
    "    posenetData.rename(columns={'nose_x': 'head_x', 'nose_y': 'head_y'}, inplace=True)\n",
    "\n",
    "    kinectData = pd.read_csv(kinectDataPath + 'B{}_kinect.csv'.format(i))\n",
    "    # Check amount of frames\n",
    "    if (len(posenetData) == len(kinectData)):\n",
    "      if X is None:\n",
    "        X = posenetData\n",
    "      else:\n",
    "        X = pd.concat((X, posenetData), ignore_index=True)\n",
    "\n",
    "    # Drop Z-columns from Kinect\n",
    "    z = []\n",
    "    for c in kinectData.columns:\n",
    "      if re.search(\"^.*_z$\", c):\n",
    "        z.append(c)\n",
    "    kinectData.drop(columns=z, inplace=True)\n",
    "    kinectData.drop(columns=['Unnamed: 0', 'FrameNo'], inplace=True)\n",
    "    if y is None:\n",
    "      y = kinectData\n",
    "    else:\n",
    "      y = pd.concat((y, kinectData), ignore_index=True)\n",
    "  except IOError as e:\n",
    "    print('Error in reading file: {}'.format(i), e)\n",
    "\n",
    "print(X.shape)\n",
    "print(y.shape)"
   ]
  },
  {
   "cell_type": "code",
   "execution_count": 27,
   "metadata": {
    "id": "-O37noS--ILl"
   },
   "outputs": [
    {
     "name": "stdout",
     "output_type": "stream",
     "text": [
      "(114292, 26)\n",
      "(114292, 26)\n",
      "(28574, 26)\n",
      "(28574, 26)\n"
     ]
    }
   ],
   "source": [
    "X_train, X_test, y_train, y_test  = train_test_split(X, y, train_size=train_test_ratio, random_state=random_state)\n",
    "\n",
    "input_dim = X_train.shape[1]\n",
    "output_size = y_train.shape[1]\n",
    "\n",
    "print(X_train.shape)\n",
    "print(y_train.shape)\n",
    "print(X_test.shape)\n",
    "print(y_test.shape)"
   ]
  },
  {
   "cell_type": "markdown",
   "metadata": {
    "id": "GJs1jEV3-NU1"
   },
   "source": [
    "We scale both the features and labels as this is a regression problem. Then we use inverse scaling for labels before comparing the predictions with the real labels in *y_test*."
   ]
  },
  {
   "cell_type": "code",
   "execution_count": 28,
   "metadata": {
    "id": "p9_-BEla-M0z"
   },
   "outputs": [],
   "source": [
    "X_scaler = StandardScaler()\n",
    "X_train = X_scaler.fit_transform(X_train)\n",
    "X_test = X_scaler.transform(X_test)\n",
    "\n",
    "y_scaler = StandardScaler()\n",
    "y_train = y_scaler.fit_transform(y_train)"
   ]
  },
  {
   "cell_type": "markdown",
   "metadata": {
    "id": "Ex9t6tqzCvy3"
   },
   "source": [
    "\n",
    "The model variant for PoseNet to Kinect 2D model is also Dense and it's architecture looks like the following:"
   ]
  },
  {
   "cell_type": "code",
   "execution_count": 29,
   "metadata": {
    "id": "CmIIXGbCC048"
   },
   "outputs": [
    {
     "name": "stdout",
     "output_type": "stream",
     "text": [
      "Model: \"sequential_2\"\n",
      "_________________________________________________________________\n",
      "Layer (type)                 Output Shape              Param #   \n",
      "=================================================================\n",
      "dense_12 (Dense)             (None, 64)                1728      \n",
      "_________________________________________________________________\n",
      "dense_13 (Dense)             (None, 64)                4160      \n",
      "_________________________________________________________________\n",
      "dense_14 (Dense)             (None, 32)                2080      \n",
      "_________________________________________________________________\n",
      "dense_15 (Dense)             (None, 64)                2112      \n",
      "_________________________________________________________________\n",
      "dense_16 (Dense)             (None, 26)                1690      \n",
      "=================================================================\n",
      "Total params: 11,770\n",
      "Trainable params: 11,770\n",
      "Non-trainable params: 0\n",
      "_________________________________________________________________\n"
     ]
    }
   ],
   "source": [
    "from tensorflow.keras.optimizers import RMSprop\n",
    "\n",
    "METRICS = [\n",
    "    tf.keras.metrics.MeanSquaredError(name=\"mse\", dtype=None),\n",
    "    tf.keras.metrics.MeanAbsoluteError(name=\"mae\", dtype=None),\n",
    "    tf.keras.metrics.RootMeanSquaredError(name=\"rmse\", dtype=None),\n",
    "]\n",
    "\n",
    "model = Sequential([\n",
    "  InputLayer(input_shape=(input_dim))\n",
    "])\n",
    "model.add(Dense(units=64, activation='relu', kernel_initializer='he_uniform'))\n",
    "model.add(Dense(units=64, activation='relu'))\n",
    "model.add(Dense(units=32, activation='relu', kernel_initializer='he_uniform'))\n",
    "model.add(Dense(units=64, activation='relu'))\n",
    "model.add(Dense(units=output_size))\n",
    "\n",
    "model.compile(optimizer=RMSprop(learning_rate=1e-3), loss='mse', metrics=METRICS)\n",
    "\n",
    "model.summary()"
   ]
  },
  {
   "cell_type": "markdown",
   "metadata": {
    "id": "D8ojVH3iDumt"
   },
   "source": [
    "We need to change the early stopping criteria to fit our regression problem and therefore we choose lowest loss as the critera."
   ]
  },
  {
   "cell_type": "code",
   "execution_count": 30,
   "metadata": {
    "id": "58eMQistCxEz"
   },
   "outputs": [
    {
     "name": "stdout",
     "output_type": "stream",
     "text": [
      "Epoch 1/200\n",
      "1633/1633 [==============================] - 2s 944us/step - loss: 0.2901 - mse: 0.2901 - mae: 0.3190 - rmse: 0.5331 - val_loss: 0.1824 - val_mse: 0.1824 - val_mae: 0.2414 - val_rmse: 0.4271\n",
      "Epoch 2/200\n",
      "1633/1633 [==============================] - 1s 895us/step - loss: 0.1727 - mse: 0.1727 - mae: 0.2241 - rmse: 0.4155 - val_loss: 0.1584 - val_mse: 0.1584 - val_mae: 0.2147 - val_rmse: 0.3980\n",
      "Epoch 3/200\n",
      "1633/1633 [==============================] - 1s 894us/step - loss: 0.1571 - mse: 0.1571 - mae: 0.2088 - rmse: 0.3963 - val_loss: 0.1698 - val_mse: 0.1698 - val_mae: 0.2130 - val_rmse: 0.4121\n",
      "Epoch 4/200\n",
      "1633/1633 [==============================] - 1s 881us/step - loss: 0.1477 - mse: 0.1477 - mae: 0.1996 - rmse: 0.3843 - val_loss: 0.1523 - val_mse: 0.1523 - val_mae: 0.2118 - val_rmse: 0.3902\n",
      "Epoch 5/200\n",
      "1633/1633 [==============================] - 1s 885us/step - loss: 0.1445 - mse: 0.1445 - mae: 0.1952 - rmse: 0.3801 - val_loss: 0.1754 - val_mse: 0.1754 - val_mae: 0.2066 - val_rmse: 0.4188\n",
      "Epoch 6/200\n",
      "1633/1633 [==============================] - 1s 879us/step - loss: 0.1426 - mse: 0.1426 - mae: 0.1914 - rmse: 0.3776 - val_loss: 0.1715 - val_mse: 0.1715 - val_mae: 0.1977 - val_rmse: 0.4141\n",
      "Epoch 7/200\n",
      "1633/1633 [==============================] - 1s 898us/step - loss: 0.1351 - mse: 0.1351 - mae: 0.1874 - rmse: 0.3676 - val_loss: 0.1305 - val_mse: 0.1305 - val_mae: 0.1889 - val_rmse: 0.3612\n",
      "Epoch 8/200\n",
      "1633/1633 [==============================] - 1s 911us/step - loss: 0.1331 - mse: 0.1331 - mae: 0.1850 - rmse: 0.3647 - val_loss: 0.1396 - val_mse: 0.1396 - val_mae: 0.1917 - val_rmse: 0.3736\n",
      "Epoch 9/200\n",
      "1633/1633 [==============================] - 1s 888us/step - loss: 0.1301 - mse: 0.1301 - mae: 0.1834 - rmse: 0.3606 - val_loss: 0.1202 - val_mse: 0.1202 - val_mae: 0.1814 - val_rmse: 0.3467\n",
      "Epoch 10/200\n",
      "1633/1633 [==============================] - 1s 877us/step - loss: 0.1278 - mse: 0.1278 - mae: 0.1819 - rmse: 0.3575 - val_loss: 0.1230 - val_mse: 0.1230 - val_mae: 0.1781 - val_rmse: 0.3507\n",
      "Epoch 11/200\n",
      "1633/1633 [==============================] - 1s 889us/step - loss: 0.1285 - mse: 0.1285 - mae: 0.1811 - rmse: 0.3584 - val_loss: 0.1271 - val_mse: 0.1271 - val_mae: 0.1831 - val_rmse: 0.3566\n",
      "Epoch 12/200\n",
      "1633/1633 [==============================] - 1s 887us/step - loss: 0.1252 - mse: 0.1252 - mae: 0.1783 - rmse: 0.3538 - val_loss: 0.1224 - val_mse: 0.1224 - val_mae: 0.1812 - val_rmse: 0.3499\n",
      "Epoch 13/200\n",
      "1633/1633 [==============================] - 1s 899us/step - loss: 0.1259 - mse: 0.1259 - mae: 0.1780 - rmse: 0.3547 - val_loss: 0.1170 - val_mse: 0.1170 - val_mae: 0.1725 - val_rmse: 0.3421\n",
      "Epoch 14/200\n",
      "1633/1633 [==============================] - 1s 898us/step - loss: 0.1235 - mse: 0.1235 - mae: 0.1768 - rmse: 0.3513 - val_loss: 0.1173 - val_mse: 0.1173 - val_mae: 0.1734 - val_rmse: 0.3424\n",
      "Epoch 15/200\n",
      "1633/1633 [==============================] - 1s 888us/step - loss: 0.1191 - mse: 0.1191 - mae: 0.1740 - rmse: 0.3451 - val_loss: 0.1294 - val_mse: 0.1294 - val_mae: 0.1834 - val_rmse: 0.3597\n",
      "Epoch 16/200\n",
      "1633/1633 [==============================] - 2s 957us/step - loss: 0.1162 - mse: 0.1162 - mae: 0.1731 - rmse: 0.3408 - val_loss: 0.1260 - val_mse: 0.1260 - val_mae: 0.1726 - val_rmse: 0.3550\n",
      "Epoch 17/200\n",
      "1633/1633 [==============================] - 1s 817us/step - loss: 0.1178 - mse: 0.1178 - mae: 0.1728 - rmse: 0.3431 - val_loss: 0.1190 - val_mse: 0.1190 - val_mae: 0.1727 - val_rmse: 0.3450\n",
      "Epoch 18/200\n",
      "1633/1633 [==============================] - 2s 959us/step - loss: 0.1168 - mse: 0.1168 - mae: 0.1725 - rmse: 0.3417 - val_loss: 0.1279 - val_mse: 0.1279 - val_mae: 0.1783 - val_rmse: 0.3576\n",
      "Epoch 19/200\n",
      "1633/1633 [==============================] - 1s 900us/step - loss: 0.1175 - mse: 0.1175 - mae: 0.1717 - rmse: 0.3428 - val_loss: 0.1329 - val_mse: 0.1329 - val_mae: 0.1899 - val_rmse: 0.3645\n",
      "Epoch 20/200\n",
      "1633/1633 [==============================] - 2s 933us/step - loss: 0.1157 - mse: 0.1157 - mae: 0.1716 - rmse: 0.3401 - val_loss: 0.1065 - val_mse: 0.1065 - val_mae: 0.1665 - val_rmse: 0.3263\n",
      "Epoch 21/200\n",
      "1633/1633 [==============================] - 1s 883us/step - loss: 0.1112 - mse: 0.1112 - mae: 0.1697 - rmse: 0.3334 - val_loss: 0.1396 - val_mse: 0.1396 - val_mae: 0.1791 - val_rmse: 0.3737\n",
      "Epoch 22/200\n",
      "1633/1633 [==============================] - 1s 890us/step - loss: 0.1140 - mse: 0.1140 - mae: 0.1703 - rmse: 0.3375 - val_loss: 0.1169 - val_mse: 0.1169 - val_mae: 0.1712 - val_rmse: 0.3419\n",
      "Epoch 23/200\n",
      "1633/1633 [==============================] - 1s 914us/step - loss: 0.1098 - mse: 0.1098 - mae: 0.1680 - rmse: 0.3313 - val_loss: 0.1097 - val_mse: 0.1097 - val_mae: 0.1687 - val_rmse: 0.3311\n",
      "Epoch 24/200\n",
      "1633/1633 [==============================] - 2s 975us/step - loss: 0.1118 - mse: 0.1118 - mae: 0.1689 - rmse: 0.3343 - val_loss: 0.1128 - val_mse: 0.1128 - val_mae: 0.1671 - val_rmse: 0.3359\n",
      "Epoch 25/200\n",
      "1633/1633 [==============================] - 2s 1ms/step - loss: 0.1128 - mse: 0.1128 - mae: 0.1691 - rmse: 0.3359 - val_loss: 0.1160 - val_mse: 0.1160 - val_mae: 0.1776 - val_rmse: 0.3406\n",
      "Epoch 26/200\n",
      "1633/1633 [==============================] - 2s 1ms/step - loss: 0.1038 - mse: 0.1038 - mae: 0.1659 - rmse: 0.3220 - val_loss: 0.1108 - val_mse: 0.1108 - val_mae: 0.1689 - val_rmse: 0.3328\n",
      "Epoch 27/200\n",
      "1633/1633 [==============================] - 2s 1ms/step - loss: 0.1105 - mse: 0.1105 - mae: 0.1683 - rmse: 0.3324 - val_loss: 0.1049 - val_mse: 0.1049 - val_mae: 0.1661 - val_rmse: 0.3239\n",
      "Epoch 28/200\n",
      "1633/1633 [==============================] - 2s 1ms/step - loss: 0.1078 - mse: 0.1078 - mae: 0.1663 - rmse: 0.3282 - val_loss: 0.1070 - val_mse: 0.1070 - val_mae: 0.1651 - val_rmse: 0.3272\n",
      "Epoch 29/200\n",
      "1633/1633 [==============================] - 2s 1ms/step - loss: 0.1084 - mse: 0.1084 - mae: 0.1661 - rmse: 0.3291 - val_loss: 0.1096 - val_mse: 0.1096 - val_mae: 0.1669 - val_rmse: 0.3311\n",
      "Epoch 30/200\n",
      "1633/1633 [==============================] - 2s 1ms/step - loss: 0.1050 - mse: 0.1050 - mae: 0.1656 - rmse: 0.3240 - val_loss: 0.1225 - val_mse: 0.1225 - val_mae: 0.1702 - val_rmse: 0.3500\n",
      "Epoch 31/200\n",
      "1633/1633 [==============================] - 2s 1ms/step - loss: 0.1102 - mse: 0.1102 - mae: 0.1669 - rmse: 0.3319 - val_loss: 0.1194 - val_mse: 0.1194 - val_mae: 0.1673 - val_rmse: 0.3456\n",
      "Epoch 32/200\n",
      "1633/1633 [==============================] - 2s 965us/step - loss: 0.1061 - mse: 0.1061 - mae: 0.1658 - rmse: 0.3256 - val_loss: 0.1226 - val_mse: 0.1226 - val_mae: 0.1748 - val_rmse: 0.3501\n",
      "Epoch 33/200\n",
      "1633/1633 [==============================] - 2s 945us/step - loss: 0.1086 - mse: 0.1086 - mae: 0.1659 - rmse: 0.3295 - val_loss: 0.1063 - val_mse: 0.1063 - val_mae: 0.1688 - val_rmse: 0.3260\n",
      "Epoch 34/200\n",
      "1633/1633 [==============================] - 1s 915us/step - loss: 0.1008 - mse: 0.1008 - mae: 0.1638 - rmse: 0.3174 - val_loss: 0.1033 - val_mse: 0.1033 - val_mae: 0.1654 - val_rmse: 0.3213\n",
      "Epoch 35/200\n",
      "1633/1633 [==============================] - 1s 905us/step - loss: 0.1061 - mse: 0.1061 - mae: 0.1645 - rmse: 0.3256 - val_loss: 0.1198 - val_mse: 0.1198 - val_mae: 0.1739 - val_rmse: 0.3461\n",
      "Epoch 36/200\n",
      "1633/1633 [==============================] - 1s 898us/step - loss: 0.1010 - mse: 0.1010 - mae: 0.1630 - rmse: 0.3177 - val_loss: 0.1149 - val_mse: 0.1149 - val_mae: 0.1708 - val_rmse: 0.3390\n",
      "Epoch 37/200\n",
      "1633/1633 [==============================] - 2s 1ms/step - loss: 0.1048 - mse: 0.1048 - mae: 0.1645 - rmse: 0.3236 - val_loss: 0.1100 - val_mse: 0.1100 - val_mae: 0.1721 - val_rmse: 0.3317\n",
      "Epoch 38/200\n",
      "1633/1633 [==============================] - 2s 1ms/step - loss: 0.1056 - mse: 0.1056 - mae: 0.1644 - rmse: 0.3249 - val_loss: 0.1072 - val_mse: 0.1072 - val_mae: 0.1712 - val_rmse: 0.3275\n",
      "Epoch 39/200\n",
      "1633/1633 [==============================] - 2s 966us/step - loss: 0.1043 - mse: 0.1043 - mae: 0.1638 - rmse: 0.3229 - val_loss: 0.1272 - val_mse: 0.1272 - val_mae: 0.1850 - val_rmse: 0.3567\n",
      "Epoch 40/200\n",
      "1633/1633 [==============================] - 2s 944us/step - loss: 0.1028 - mse: 0.1028 - mae: 0.1633 - rmse: 0.3206 - val_loss: 0.1204 - val_mse: 0.1204 - val_mae: 0.1773 - val_rmse: 0.3470\n",
      "Epoch 41/200\n"
     ]
    },
    {
     "name": "stdout",
     "output_type": "stream",
     "text": [
      "1633/1633 [==============================] - 1s 878us/step - loss: 0.0993 - mse: 0.0993 - mae: 0.1626 - rmse: 0.3150 - val_loss: 0.1083 - val_mse: 0.1083 - val_mae: 0.1658 - val_rmse: 0.3291\n",
      "Epoch 42/200\n",
      "1633/1633 [==============================] - 1s 901us/step - loss: 0.1035 - mse: 0.1035 - mae: 0.1637 - rmse: 0.3216 - val_loss: 0.1085 - val_mse: 0.1085 - val_mae: 0.1677 - val_rmse: 0.3294\n",
      "Epoch 43/200\n",
      "1633/1633 [==============================] - 2s 948us/step - loss: 0.1002 - mse: 0.1002 - mae: 0.1617 - rmse: 0.3165 - val_loss: 0.1082 - val_mse: 0.1082 - val_mae: 0.1680 - val_rmse: 0.3290\n",
      "Epoch 44/200\n",
      "1633/1633 [==============================] - 2s 920us/step - loss: 0.1009 - mse: 0.1009 - mae: 0.1622 - rmse: 0.3176 - val_loss: 0.1023 - val_mse: 0.1023 - val_mae: 0.1709 - val_rmse: 0.3198\n",
      "Epoch 45/200\n",
      "1633/1633 [==============================] - 1s 912us/step - loss: 0.1049 - mse: 0.1049 - mae: 0.1638 - rmse: 0.3238 - val_loss: 0.1171 - val_mse: 0.1171 - val_mae: 0.1695 - val_rmse: 0.3422\n",
      "Epoch 46/200\n",
      "1633/1633 [==============================] - 1s 914us/step - loss: 0.1031 - mse: 0.1031 - mae: 0.1624 - rmse: 0.3209 - val_loss: 0.1104 - val_mse: 0.1104 - val_mae: 0.1691 - val_rmse: 0.3323\n",
      "Epoch 47/200\n",
      "1633/1633 [==============================] - 1s 881us/step - loss: 0.0997 - mse: 0.0997 - mae: 0.1616 - rmse: 0.3157 - val_loss: 0.1154 - val_mse: 0.1154 - val_mae: 0.1746 - val_rmse: 0.3397\n",
      "Epoch 48/200\n",
      "1633/1633 [==============================] - 1s 917us/step - loss: 0.0971 - mse: 0.0971 - mae: 0.1608 - rmse: 0.3115 - val_loss: 0.1223 - val_mse: 0.1223 - val_mae: 0.1748 - val_rmse: 0.3498\n",
      "Epoch 49/200\n",
      "1633/1633 [==============================] - 1s 889us/step - loss: 0.1035 - mse: 0.1035 - mae: 0.1626 - rmse: 0.3216 - val_loss: 0.1093 - val_mse: 0.1093 - val_mae: 0.1663 - val_rmse: 0.3306\n",
      "Epoch 50/200\n",
      "1633/1633 [==============================] - 1s 875us/step - loss: 0.1010 - mse: 0.1010 - mae: 0.1626 - rmse: 0.3177 - val_loss: 0.1199 - val_mse: 0.1199 - val_mae: 0.1685 - val_rmse: 0.3462\n",
      "Epoch 51/200\n",
      "1633/1633 [==============================] - 2s 1ms/step - loss: 0.0998 - mse: 0.0998 - mae: 0.1611 - rmse: 0.3158 - val_loss: 0.1066 - val_mse: 0.1066 - val_mae: 0.1682 - val_rmse: 0.3265\n",
      "Epoch 52/200\n",
      "1633/1633 [==============================] - 2s 1ms/step - loss: 0.1010 - mse: 0.1010 - mae: 0.1613 - rmse: 0.3175 - val_loss: 0.0970 - val_mse: 0.0970 - val_mae: 0.1612 - val_rmse: 0.3114\n",
      "Epoch 53/200\n",
      "1633/1633 [==============================] - 2s 919us/step - loss: 0.1010 - mse: 0.1010 - mae: 0.1616 - rmse: 0.3176 - val_loss: 0.1207 - val_mse: 0.1207 - val_mae: 0.1649 - val_rmse: 0.3474\n",
      "Epoch 54/200\n",
      "1633/1633 [==============================] - 2s 927us/step - loss: 0.0998 - mse: 0.0998 - mae: 0.1608 - rmse: 0.3158 - val_loss: 0.1129 - val_mse: 0.1129 - val_mae: 0.1657 - val_rmse: 0.3360\n",
      "Epoch 55/200\n",
      "1633/1633 [==============================] - 1s 917us/step - loss: 0.0990 - mse: 0.0990 - mae: 0.1606 - rmse: 0.3146 - val_loss: 0.0991 - val_mse: 0.0991 - val_mae: 0.1662 - val_rmse: 0.3148\n",
      "Epoch 56/200\n",
      "1633/1633 [==============================] - 1s 885us/step - loss: 0.0964 - mse: 0.0964 - mae: 0.1598 - rmse: 0.3105 - val_loss: 0.1138 - val_mse: 0.1138 - val_mae: 0.1684 - val_rmse: 0.3373\n",
      "Epoch 57/200\n",
      "1633/1633 [==============================] - 1s 878us/step - loss: 0.0992 - mse: 0.0992 - mae: 0.1604 - rmse: 0.3149 - val_loss: 0.0998 - val_mse: 0.0998 - val_mae: 0.1633 - val_rmse: 0.3159\n",
      "Epoch 58/200\n",
      "1633/1633 [==============================] - 1s 903us/step - loss: 0.1010 - mse: 0.1010 - mae: 0.1615 - rmse: 0.3177 - val_loss: 0.1018 - val_mse: 0.1018 - val_mae: 0.1646 - val_rmse: 0.3191\n",
      "Epoch 59/200\n",
      "1633/1633 [==============================] - 1s 909us/step - loss: 0.0972 - mse: 0.0972 - mae: 0.1594 - rmse: 0.3118 - val_loss: 0.1026 - val_mse: 0.1026 - val_mae: 0.1636 - val_rmse: 0.3204\n",
      "Epoch 60/200\n",
      "1633/1633 [==============================] - 1s 891us/step - loss: 0.0952 - mse: 0.0952 - mae: 0.1588 - rmse: 0.3085 - val_loss: 0.1010 - val_mse: 0.1010 - val_mae: 0.1621 - val_rmse: 0.3178\n",
      "Epoch 61/200\n",
      "1633/1633 [==============================] - 1s 886us/step - loss: 0.0978 - mse: 0.0978 - mae: 0.1596 - rmse: 0.3127 - val_loss: 0.1082 - val_mse: 0.1082 - val_mae: 0.1676 - val_rmse: 0.3289\n",
      "Epoch 62/200\n",
      "1633/1633 [==============================] - 1s 893us/step - loss: 0.0912 - mse: 0.0912 - mae: 0.1577 - rmse: 0.3019 - val_loss: 0.1063 - val_mse: 0.1063 - val_mae: 0.1617 - val_rmse: 0.3260\n",
      "Restoring model weights from the end of the best epoch.\n",
      "Epoch 00062: early stopping\n"
     ]
    }
   ],
   "source": [
    "BATCH_SIZE = 56  \n",
    "\n",
    "history = model.fit(\n",
    "    x=X_train, \n",
    "    y=y_train, \n",
    "    validation_split=0.2, \n",
    "    shuffle=True, \n",
    "    epochs=EPOCHS, \n",
    "    verbose=1,\n",
    "    batch_size=BATCH_SIZE, \n",
    "    callbacks=[early_stopping])"
   ]
  },
  {
   "cell_type": "code",
   "execution_count": 31,
   "metadata": {
    "id": "5MxaOCyJSs_Q"
   },
   "outputs": [],
   "source": [
    "from sklearn.metrics import mean_squared_error, r2_score, explained_variance_score, mean_absolute_error\n",
    "\n",
    "def eval_metrics(actual, pred):\n",
    "  mse = mean_squared_error(actual, pred)\n",
    "  msa = mean_absolute_error(actual, pred)\n",
    "  r2 = r2_score(actual, pred)\n",
    "  variance = explained_variance_score(actual, pred)\n",
    "  return mse, msa, r2, variance"
   ]
  },
  {
   "cell_type": "code",
   "execution_count": 32,
   "metadata": {
    "id": "v2dtjPEcDCV1"
   },
   "outputs": [
    {
     "name": "stdout",
     "output_type": "stream",
     "text": [
      "\n",
      "MSE:  0.0024731577203248745 \n",
      "\n",
      "MSA:  0.02538149519556356 \n",
      "\n",
      "R-Squared:  0.904380763039851 \n",
      "\n",
      "Explained Variance Score:  0.9060541908858107\n"
     ]
    }
   ],
   "source": [
    "predictions = model.predict(X_test)\n",
    "\n",
    "predictions = y_scaler.inverse_transform(predictions) \n",
    "(mse, msa, r2, variance) = eval_metrics(y_test, predictions)\n",
    " \n",
    "print('\\nMSE: ', mse, '\\n')\n",
    "print('MSA: ', msa, '\\n')\n",
    "print('R-Squared: ', r2, '\\n')\n",
    "print('Explained Variance Score: ', variance)"
   ]
  },
  {
   "cell_type": "markdown",
   "metadata": {
    "id": "-qkAK-Kf9pJe"
   },
   "source": [
    "Serving this model is done with MLflow and it is found [here](http://35.228.45.76:5000/#/experiments/0/runs/33d92199595745e3a005bb31f620c839)."
   ]
  },
  {
   "cell_type": "markdown",
   "metadata": {
    "id": "3fiXZrN_R8TI"
   },
   "source": [
    "### 2.4.5 Fifth model: Kinect 2D to 3D (Dense model)\n",
    "\n",
    "At this stage of the application pipeline, we have exercise frames in Kinect 2D. They will not be converted into 3D using our Kinect 2D to 3D model. \n",
    "\n",
    "We're using another dataset to train this model:"
   ]
  },
  {
   "cell_type": "code",
   "execution_count": 33,
   "metadata": {
    "id": "0uYnLc4yXPE-"
   },
   "outputs": [],
   "source": [
    "import re\n",
    "\n",
    "def read_from_file( file_name ):\n",
    "    data = pd.read_csv('https://raw.githubusercontent.com/digitacs/4dv652-ml/main/datasets/kinect_good_preprocessed/{}.csv'.format( file_name ))\n",
    "    data = data.drop( columns=['FrameNo'] )\n",
    "\n",
    "    target_labels = []\n",
    "    for c in data.columns:\n",
    "        if re.search(\"^.*_z$\", c):\n",
    "            target_labels.append(c)\n",
    "\n",
    "    target_data = data[target_labels]\n",
    "    input_data = data.drop( columns=target_labels )\n",
    "    \n",
    "    return input_data, target_data"
   ]
  },
  {
   "cell_type": "code",
   "execution_count": 43,
   "metadata": {
    "id": "g9VKQFuw93mz"
   },
   "outputs": [],
   "source": [
    "import random\n",
    "from sklearn.utils import shuffle\n",
    "\n",
    "# Generate 10 random numbers\n",
    "X, y = read_from_file('A1_kinect')\n",
    "files = random.sample(range(2, 151), 10)\n",
    "\n",
    "# Retrieve 10 training sequences\n",
    "for i in files:\n",
    "    try:\n",
    "        iData, tData = read_from_file('A{}_kinect'.format(i))\n",
    "        X = np.concatenate((X, iData))\n",
    "        y = np.concatenate((y, tData))\n",
    "    except IOError as e:\n",
    "        print('Error in reading A{}_kinect.csv'.format(i),e)\n",
    "\n",
    "X, y = shuffle(X, y)"
   ]
  },
  {
   "cell_type": "code",
   "execution_count": 44,
   "metadata": {
    "id": "iALdRmAqUFyf"
   },
   "outputs": [],
   "source": [
    "X_train, X_test, y_train, y_test = train_test_split(X, y, test_size=0.1, random_state=random_state)\n",
    "X_train, X_val, y_train, y_val = train_test_split(X_train, y_train, test_size=0.2, random_state=random_state)\n",
    "\n",
    "input_dim = X_train.shape[1]\n",
    "output_size = y_train.shape[1]"
   ]
  },
  {
   "cell_type": "code",
   "execution_count": 45,
   "metadata": {
    "colab": {
     "base_uri": "https://localhost:8080/"
    },
    "id": "K2L8LU7AUHhT",
    "outputId": "2ad1b4d4-8e95-4e60-9c58-4b9b056119e5"
   },
   "outputs": [
    {
     "name": "stdout",
     "output_type": "stream",
     "text": [
      "Training features shape: (1218, 26)\n",
      "Training labels shape: (1218, 13) \n",
      "\n",
      "Validation features shape: (305, 26)\n",
      "Validation labels shape: (305, 13) \n",
      "\n",
      "Test features shape: (170, 26)\n",
      "Test labels shape: (170, 13) \n",
      "\n"
     ]
    }
   ],
   "source": [
    "X_scaler = StandardScaler()\n",
    "X_train = X_scaler.fit_transform(X_train)\n",
    "\n",
    "X_val = X_scaler.transform(X_val)\n",
    "X_test = X_scaler.transform(X_test)\n",
    "\n",
    "y_scaler = StandardScaler()\n",
    "y_train = y_scaler.fit_transform(y_train)\n",
    "y_val = y_scaler.transform(y_val)\n",
    "\n",
    "print('Training features shape:', X_train.shape)\n",
    "print('Training labels shape:', y_train.shape, '\\n')\n",
    "\n",
    "print('Validation features shape:', X_val.shape)\n",
    "print('Validation labels shape:', y_val.shape, '\\n')\n",
    "\n",
    "print('Test features shape:', X_test.shape)\n",
    "print('Test labels shape:', y_test.shape, '\\n')"
   ]
  },
  {
   "cell_type": "markdown",
   "metadata": {
    "id": "_JrVIcuQUfA6"
   },
   "source": [
    "The model architecture for Kinect 2D to 3D model looks like the following:"
   ]
  },
  {
   "cell_type": "code",
   "execution_count": 47,
   "metadata": {
    "colab": {
     "base_uri": "https://localhost:8080/"
    },
    "id": "ERj0iLyVUR6M",
    "outputId": "5201c784-023d-4f9b-fe2e-d2563a59f6e3"
   },
   "outputs": [
    {
     "name": "stdout",
     "output_type": "stream",
     "text": [
      "Model: \"sequential_4\"\n",
      "_________________________________________________________________\n",
      "Layer (type)                 Output Shape              Param #   \n",
      "=================================================================\n",
      "dense_21 (Dense)             (None, 38)                1026      \n",
      "_________________________________________________________________\n",
      "dense_22 (Dense)             (None, 38)                1482      \n",
      "_________________________________________________________________\n",
      "dense_23 (Dense)             (None, 38)                1482      \n",
      "_________________________________________________________________\n",
      "dense_24 (Dense)             (None, 13)                507       \n",
      "=================================================================\n",
      "Total params: 4,497\n",
      "Trainable params: 4,497\n",
      "Non-trainable params: 0\n",
      "_________________________________________________________________\n"
     ]
    }
   ],
   "source": [
    "model = Sequential([\n",
    "  InputLayer(input_shape=(input_dim))\n",
    "])\n",
    "model.add(Dense(units=38, activation='relu'))\n",
    "model.add(Dense(units=38, activation='relu'))\n",
    "model.add(Dense(units=38, activation='relu'))\n",
    "model.add(Dense(units=output_size, activation='linear'))\n",
    "\n",
    "model.compile(optimizer=Adam(learning_rate=1e-2), loss='mse', metrics=METRICS)\n",
    "\n",
    "model.summary()"
   ]
  },
  {
   "cell_type": "code",
   "execution_count": 48,
   "metadata": {
    "colab": {
     "base_uri": "https://localhost:8080/"
    },
    "id": "WQVaq3l0Vv6m",
    "outputId": "dddf97f2-b212-45c9-95d5-04078163a795"
   },
   "outputs": [
    {
     "name": "stdout",
     "output_type": "stream",
     "text": [
      "Epoch 1/200\n",
      "18/18 [==============================] - 0s 8ms/step - loss: 0.7473 - mse: 0.1192 - mae: 0.1732 - rmse: 0.3358 - val_loss: 0.3134 - val_mse: 0.3134 - val_mae: 0.4218 - val_rmse: 0.5598\n",
      "Epoch 2/200\n",
      "18/18 [==============================] - 0s 2ms/step - loss: 0.2361 - mse: 0.2361 - mae: 0.3630 - rmse: 0.4850 - val_loss: 0.1694 - val_mse: 0.1694 - val_mae: 0.3048 - val_rmse: 0.4116\n",
      "Epoch 3/200\n",
      "18/18 [==============================] - 0s 2ms/step - loss: 0.1151 - mse: 0.1151 - mae: 0.2494 - rmse: 0.3392 - val_loss: 0.1069 - val_mse: 0.1069 - val_mae: 0.2341 - val_rmse: 0.3270\n",
      "Epoch 4/200\n",
      "18/18 [==============================] - 0s 2ms/step - loss: 0.0924 - mse: 0.0924 - mae: 0.2160 - rmse: 0.3038 - val_loss: 0.0966 - val_mse: 0.0966 - val_mae: 0.2191 - val_rmse: 0.3109\n",
      "Epoch 5/200\n",
      "18/18 [==============================] - 0s 2ms/step - loss: 0.0644 - mse: 0.0644 - mae: 0.1825 - rmse: 0.2537 - val_loss: 0.0780 - val_mse: 0.0780 - val_mae: 0.1958 - val_rmse: 0.2793\n",
      "Epoch 6/200\n",
      "18/18 [==============================] - 0s 2ms/step - loss: 0.0554 - mse: 0.0554 - mae: 0.1698 - rmse: 0.2351 - val_loss: 0.0643 - val_mse: 0.0643 - val_mae: 0.1740 - val_rmse: 0.2536\n",
      "Epoch 7/200\n",
      "18/18 [==============================] - 0s 2ms/step - loss: 0.0443 - mse: 0.0443 - mae: 0.1481 - rmse: 0.2099 - val_loss: 0.0551 - val_mse: 0.0551 - val_mae: 0.1594 - val_rmse: 0.2348\n",
      "Epoch 8/200\n",
      "18/18 [==============================] - 0s 2ms/step - loss: 0.0348 - mse: 0.0348 - mae: 0.1315 - rmse: 0.1865 - val_loss: 0.0507 - val_mse: 0.0507 - val_mae: 0.1534 - val_rmse: 0.2251\n",
      "Epoch 9/200\n",
      "18/18 [==============================] - 0s 2ms/step - loss: 0.0325 - mse: 0.0325 - mae: 0.1306 - rmse: 0.1803 - val_loss: 0.0449 - val_mse: 0.0449 - val_mae: 0.1499 - val_rmse: 0.2119\n",
      "Epoch 10/200\n",
      "18/18 [==============================] - 0s 2ms/step - loss: 0.0288 - mse: 0.0288 - mae: 0.1229 - rmse: 0.1695 - val_loss: 0.0381 - val_mse: 0.0381 - val_mae: 0.1378 - val_rmse: 0.1951\n",
      "Epoch 11/200\n",
      "18/18 [==============================] - 0s 2ms/step - loss: 0.0255 - mse: 0.0255 - mae: 0.1164 - rmse: 0.1597 - val_loss: 0.0370 - val_mse: 0.0370 - val_mae: 0.1401 - val_rmse: 0.1922\n",
      "Epoch 12/200\n",
      "18/18 [==============================] - 0s 2ms/step - loss: 0.0246 - mse: 0.0246 - mae: 0.1181 - rmse: 0.1569 - val_loss: 0.0285 - val_mse: 0.0285 - val_mae: 0.1223 - val_rmse: 0.1688\n",
      "Epoch 13/200\n",
      "18/18 [==============================] - 0s 2ms/step - loss: 0.0255 - mse: 0.0255 - mae: 0.1183 - rmse: 0.1595 - val_loss: 0.0281 - val_mse: 0.0281 - val_mae: 0.1207 - val_rmse: 0.1677\n",
      "Epoch 14/200\n",
      "18/18 [==============================] - 0s 2ms/step - loss: 0.0189 - mse: 0.0189 - mae: 0.1008 - rmse: 0.1375 - val_loss: 0.0239 - val_mse: 0.0239 - val_mae: 0.1114 - val_rmse: 0.1546\n",
      "Epoch 15/200\n",
      "18/18 [==============================] - 0s 2ms/step - loss: 0.0173 - mse: 0.0173 - mae: 0.0977 - rmse: 0.1315 - val_loss: 0.0220 - val_mse: 0.0220 - val_mae: 0.1062 - val_rmse: 0.1483\n",
      "Epoch 16/200\n",
      "18/18 [==============================] - 0s 2ms/step - loss: 0.0169 - mse: 0.0169 - mae: 0.0963 - rmse: 0.1299 - val_loss: 0.0249 - val_mse: 0.0249 - val_mae: 0.1121 - val_rmse: 0.1577\n",
      "Epoch 17/200\n",
      "18/18 [==============================] - 0s 2ms/step - loss: 0.0153 - mse: 0.0153 - mae: 0.0936 - rmse: 0.1239 - val_loss: 0.0196 - val_mse: 0.0196 - val_mae: 0.1042 - val_rmse: 0.1399\n",
      "Epoch 18/200\n",
      "18/18 [==============================] - 0s 2ms/step - loss: 0.0132 - mse: 0.0132 - mae: 0.0863 - rmse: 0.1147 - val_loss: 0.0159 - val_mse: 0.0159 - val_mae: 0.0907 - val_rmse: 0.1263\n",
      "Epoch 19/200\n",
      "18/18 [==============================] - 0s 2ms/step - loss: 0.0140 - mse: 0.0140 - mae: 0.0881 - rmse: 0.1183 - val_loss: 0.0162 - val_mse: 0.0162 - val_mae: 0.0953 - val_rmse: 0.1274\n",
      "Epoch 20/200\n",
      "18/18 [==============================] - 0s 2ms/step - loss: 0.0114 - mse: 0.0114 - mae: 0.0802 - rmse: 0.1068 - val_loss: 0.0158 - val_mse: 0.0158 - val_mae: 0.0929 - val_rmse: 0.1256\n",
      "Epoch 21/200\n",
      "18/18 [==============================] - 0s 2ms/step - loss: 0.0122 - mse: 0.0122 - mae: 0.0848 - rmse: 0.1106 - val_loss: 0.0162 - val_mse: 0.0162 - val_mae: 0.0941 - val_rmse: 0.1272\n",
      "Epoch 22/200\n",
      "18/18 [==============================] - 0s 2ms/step - loss: 0.0118 - mse: 0.0118 - mae: 0.0814 - rmse: 0.1086 - val_loss: 0.0132 - val_mse: 0.0132 - val_mae: 0.0839 - val_rmse: 0.1151\n",
      "Epoch 23/200\n",
      "18/18 [==============================] - 0s 3ms/step - loss: 0.0093 - mse: 0.0093 - mae: 0.0725 - rmse: 0.0963 - val_loss: 0.0122 - val_mse: 0.0122 - val_mae: 0.0810 - val_rmse: 0.1106\n",
      "Epoch 24/200\n",
      "18/18 [==============================] - 0s 2ms/step - loss: 0.0087 - mse: 0.0087 - mae: 0.0704 - rmse: 0.0933 - val_loss: 0.0100 - val_mse: 0.0100 - val_mae: 0.0731 - val_rmse: 0.1002\n",
      "Epoch 25/200\n",
      "18/18 [==============================] - 0s 2ms/step - loss: 0.0083 - mse: 0.0083 - mae: 0.0686 - rmse: 0.0911 - val_loss: 0.0119 - val_mse: 0.0119 - val_mae: 0.0802 - val_rmse: 0.1090\n",
      "Epoch 26/200\n",
      "18/18 [==============================] - 0s 2ms/step - loss: 0.0092 - mse: 0.0092 - mae: 0.0721 - rmse: 0.0960 - val_loss: 0.0131 - val_mse: 0.0131 - val_mae: 0.0850 - val_rmse: 0.1144\n",
      "Epoch 27/200\n",
      "18/18 [==============================] - 0s 2ms/step - loss: 0.0136 - mse: 0.0136 - mae: 0.0825 - rmse: 0.1165 - val_loss: 0.0171 - val_mse: 0.0171 - val_mae: 0.0973 - val_rmse: 0.1308\n",
      "Epoch 28/200\n",
      "18/18 [==============================] - 0s 2ms/step - loss: 0.0154 - mse: 0.0154 - mae: 0.0925 - rmse: 0.1241 - val_loss: 0.0145 - val_mse: 0.0145 - val_mae: 0.0897 - val_rmse: 0.1204\n",
      "Epoch 29/200\n",
      "18/18 [==============================] - 0s 2ms/step - loss: 0.0135 - mse: 0.0135 - mae: 0.0878 - rmse: 0.1160 - val_loss: 0.0161 - val_mse: 0.0161 - val_mae: 0.0920 - val_rmse: 0.1269\n",
      "Epoch 30/200\n",
      "18/18 [==============================] - 0s 2ms/step - loss: 0.0114 - mse: 0.0114 - mae: 0.0793 - rmse: 0.1067 - val_loss: 0.0135 - val_mse: 0.0135 - val_mae: 0.0869 - val_rmse: 0.1164\n",
      "Epoch 31/200\n",
      "18/18 [==============================] - 0s 2ms/step - loss: 0.0105 - mse: 0.0105 - mae: 0.0790 - rmse: 0.1026 - val_loss: 0.0104 - val_mse: 0.0104 - val_mae: 0.0760 - val_rmse: 0.1019\n",
      "Epoch 32/200\n",
      "18/18 [==============================] - 0s 2ms/step - loss: 0.0078 - mse: 0.0078 - mae: 0.0678 - rmse: 0.0886 - val_loss: 0.0082 - val_mse: 0.0082 - val_mae: 0.0663 - val_rmse: 0.0906\n",
      "Epoch 33/200\n",
      "18/18 [==============================] - 0s 2ms/step - loss: 0.0071 - mse: 0.0071 - mae: 0.0641 - rmse: 0.0844 - val_loss: 0.0112 - val_mse: 0.0112 - val_mae: 0.0780 - val_rmse: 0.1056\n",
      "Epoch 34/200\n",
      "18/18 [==============================] - 0s 2ms/step - loss: 0.0087 - mse: 0.0087 - mae: 0.0714 - rmse: 0.0933 - val_loss: 0.0102 - val_mse: 0.0102 - val_mae: 0.0746 - val_rmse: 0.1011\n",
      "Epoch 35/200\n",
      "18/18 [==============================] - 0s 2ms/step - loss: 0.0075 - mse: 0.0075 - mae: 0.0653 - rmse: 0.0864 - val_loss: 0.0091 - val_mse: 0.0091 - val_mae: 0.0707 - val_rmse: 0.0956\n",
      "Epoch 36/200\n",
      "18/18 [==============================] - 0s 2ms/step - loss: 0.0064 - mse: 0.0064 - mae: 0.0606 - rmse: 0.0802 - val_loss: 0.0101 - val_mse: 0.0101 - val_mae: 0.0741 - val_rmse: 0.1005\n",
      "Epoch 37/200\n",
      "18/18 [==============================] - 0s 2ms/step - loss: 0.0079 - mse: 0.0079 - mae: 0.0663 - rmse: 0.0888 - val_loss: 0.0104 - val_mse: 0.0104 - val_mae: 0.0775 - val_rmse: 0.1020\n",
      "Epoch 38/200\n",
      "18/18 [==============================] - 0s 2ms/step - loss: 0.0076 - mse: 0.0076 - mae: 0.0667 - rmse: 0.0873 - val_loss: 0.0098 - val_mse: 0.0098 - val_mae: 0.0728 - val_rmse: 0.0989\n",
      "Epoch 39/200\n",
      "18/18 [==============================] - 0s 2ms/step - loss: 0.0092 - mse: 0.0092 - mae: 0.0710 - rmse: 0.0956 - val_loss: 0.0083 - val_mse: 0.0083 - val_mae: 0.0683 - val_rmse: 0.0909\n",
      "Epoch 40/200\n",
      "18/18 [==============================] - 0s 2ms/step - loss: 0.0066 - mse: 0.0066 - mae: 0.0618 - rmse: 0.0814 - val_loss: 0.0075 - val_mse: 0.0075 - val_mae: 0.0641 - val_rmse: 0.0864\n",
      "Epoch 41/200\n",
      "18/18 [==============================] - 0s 2ms/step - loss: 0.0058 - mse: 0.0058 - mae: 0.0578 - rmse: 0.0758 - val_loss: 0.0088 - val_mse: 0.0088 - val_mae: 0.0697 - val_rmse: 0.0939\n",
      "Epoch 42/200\n"
     ]
    },
    {
     "name": "stdout",
     "output_type": "stream",
     "text": [
      "18/18 [==============================] - 0s 2ms/step - loss: 0.0066 - mse: 0.0066 - mae: 0.0607 - rmse: 0.0815 - val_loss: 0.0077 - val_mse: 0.0077 - val_mae: 0.0651 - val_rmse: 0.0875\n",
      "Epoch 43/200\n",
      "18/18 [==============================] - 0s 2ms/step - loss: 0.0053 - mse: 0.0053 - mae: 0.0559 - rmse: 0.0728 - val_loss: 0.0071 - val_mse: 0.0071 - val_mae: 0.0637 - val_rmse: 0.0842\n",
      "Epoch 44/200\n",
      "18/18 [==============================] - 0s 2ms/step - loss: 0.0057 - mse: 0.0057 - mae: 0.0575 - rmse: 0.0754 - val_loss: 0.0073 - val_mse: 0.0073 - val_mae: 0.0621 - val_rmse: 0.0854\n",
      "Epoch 45/200\n",
      "18/18 [==============================] - 0s 2ms/step - loss: 0.0047 - mse: 0.0047 - mae: 0.0510 - rmse: 0.0685 - val_loss: 0.0058 - val_mse: 0.0058 - val_mae: 0.0550 - val_rmse: 0.0762\n",
      "Epoch 46/200\n",
      "18/18 [==============================] - 0s 2ms/step - loss: 0.0045 - mse: 0.0045 - mae: 0.0502 - rmse: 0.0669 - val_loss: 0.0057 - val_mse: 0.0057 - val_mae: 0.0546 - val_rmse: 0.0754\n",
      "Epoch 47/200\n",
      "18/18 [==============================] - 0s 2ms/step - loss: 0.0041 - mse: 0.0041 - mae: 0.0491 - rmse: 0.0640 - val_loss: 0.0062 - val_mse: 0.0062 - val_mae: 0.0576 - val_rmse: 0.0788\n",
      "Epoch 48/200\n",
      "18/18 [==============================] - 0s 2ms/step - loss: 0.0044 - mse: 0.0044 - mae: 0.0499 - rmse: 0.0663 - val_loss: 0.0064 - val_mse: 0.0064 - val_mae: 0.0585 - val_rmse: 0.0799\n",
      "Epoch 49/200\n",
      "18/18 [==============================] - 0s 2ms/step - loss: 0.0049 - mse: 0.0049 - mae: 0.0534 - rmse: 0.0702 - val_loss: 0.0060 - val_mse: 0.0060 - val_mae: 0.0560 - val_rmse: 0.0774\n",
      "Epoch 50/200\n",
      "18/18 [==============================] - 0s 2ms/step - loss: 0.0043 - mse: 0.0043 - mae: 0.0492 - rmse: 0.0652 - val_loss: 0.0057 - val_mse: 0.0057 - val_mae: 0.0556 - val_rmse: 0.0754\n",
      "Epoch 51/200\n",
      "18/18 [==============================] - 0s 2ms/step - loss: 0.0046 - mse: 0.0046 - mae: 0.0507 - rmse: 0.0681 - val_loss: 0.0062 - val_mse: 0.0062 - val_mae: 0.0568 - val_rmse: 0.0790\n",
      "Epoch 52/200\n",
      "18/18 [==============================] - 0s 2ms/step - loss: 0.0056 - mse: 0.0056 - mae: 0.0532 - rmse: 0.0745 - val_loss: 0.0069 - val_mse: 0.0069 - val_mae: 0.0598 - val_rmse: 0.0828\n",
      "Epoch 53/200\n",
      "18/18 [==============================] - 0s 2ms/step - loss: 0.0058 - mse: 0.0058 - mae: 0.0574 - rmse: 0.0764 - val_loss: 0.0083 - val_mse: 0.0083 - val_mae: 0.0678 - val_rmse: 0.0909\n",
      "Epoch 54/200\n",
      "18/18 [==============================] - 0s 2ms/step - loss: 0.0066 - mse: 0.0066 - mae: 0.0619 - rmse: 0.0813 - val_loss: 0.0065 - val_mse: 0.0065 - val_mae: 0.0597 - val_rmse: 0.0806\n",
      "Epoch 55/200\n",
      "18/18 [==============================] - 0s 2ms/step - loss: 0.0052 - mse: 0.0052 - mae: 0.0557 - rmse: 0.0724 - val_loss: 0.0062 - val_mse: 0.0062 - val_mae: 0.0578 - val_rmse: 0.0789\n",
      "Epoch 56/200\n",
      "18/18 [==============================] - 0s 2ms/step - loss: 0.0043 - mse: 0.0043 - mae: 0.0495 - rmse: 0.0655 - val_loss: 0.0055 - val_mse: 0.0055 - val_mae: 0.0540 - val_rmse: 0.0743\n",
      "Epoch 57/200\n",
      "18/18 [==============================] - 0s 2ms/step - loss: 0.0037 - mse: 0.0037 - mae: 0.0461 - rmse: 0.0611 - val_loss: 0.0060 - val_mse: 0.0060 - val_mae: 0.0563 - val_rmse: 0.0777\n",
      "Epoch 58/200\n",
      "18/18 [==============================] - 0s 2ms/step - loss: 0.0045 - mse: 0.0045 - mae: 0.0512 - rmse: 0.0673 - val_loss: 0.0064 - val_mse: 0.0064 - val_mae: 0.0588 - val_rmse: 0.0800\n",
      "Epoch 59/200\n",
      "18/18 [==============================] - 0s 2ms/step - loss: 0.0052 - mse: 0.0052 - mae: 0.0545 - rmse: 0.0724 - val_loss: 0.0066 - val_mse: 0.0066 - val_mae: 0.0609 - val_rmse: 0.0815\n",
      "Epoch 60/200\n",
      "18/18 [==============================] - 0s 2ms/step - loss: 0.0052 - mse: 0.0052 - mae: 0.0553 - rmse: 0.0723 - val_loss: 0.0060 - val_mse: 0.0060 - val_mae: 0.0569 - val_rmse: 0.0771\n",
      "Epoch 61/200\n",
      "18/18 [==============================] - 0s 2ms/step - loss: 0.0048 - mse: 0.0048 - mae: 0.0524 - rmse: 0.0694 - val_loss: 0.0065 - val_mse: 0.0065 - val_mae: 0.0594 - val_rmse: 0.0809\n",
      "Epoch 62/200\n",
      "18/18 [==============================] - 0s 2ms/step - loss: 0.0051 - mse: 0.0051 - mae: 0.0541 - rmse: 0.0715 - val_loss: 0.0059 - val_mse: 0.0059 - val_mae: 0.0566 - val_rmse: 0.0770\n",
      "Epoch 63/200\n",
      "18/18 [==============================] - 0s 2ms/step - loss: 0.0051 - mse: 0.0051 - mae: 0.0539 - rmse: 0.0715 - val_loss: 0.0064 - val_mse: 0.0064 - val_mae: 0.0592 - val_rmse: 0.0798\n",
      "Epoch 64/200\n",
      "18/18 [==============================] - 0s 2ms/step - loss: 0.0050 - mse: 0.0050 - mae: 0.0535 - rmse: 0.0705 - val_loss: 0.0062 - val_mse: 0.0062 - val_mae: 0.0573 - val_rmse: 0.0787\n",
      "Epoch 65/200\n",
      "18/18 [==============================] - 0s 2ms/step - loss: 0.0052 - mse: 0.0052 - mae: 0.0549 - rmse: 0.0719 - val_loss: 0.0086 - val_mse: 0.0086 - val_mae: 0.0683 - val_rmse: 0.0928\n",
      "Epoch 66/200\n",
      "18/18 [==============================] - 0s 2ms/step - loss: 0.0052 - mse: 0.0052 - mae: 0.0542 - rmse: 0.0719 - val_loss: 0.0054 - val_mse: 0.0054 - val_mae: 0.0542 - val_rmse: 0.0733\n",
      "Epoch 67/200\n",
      "18/18 [==============================] - 0s 2ms/step - loss: 0.0043 - mse: 0.0043 - mae: 0.0499 - rmse: 0.0653 - val_loss: 0.0065 - val_mse: 0.0065 - val_mae: 0.0591 - val_rmse: 0.0806\n",
      "Epoch 68/200\n",
      "18/18 [==============================] - 0s 2ms/step - loss: 0.0046 - mse: 0.0046 - mae: 0.0515 - rmse: 0.0678 - val_loss: 0.0058 - val_mse: 0.0058 - val_mae: 0.0561 - val_rmse: 0.0764\n",
      "Epoch 69/200\n",
      "18/18 [==============================] - 0s 2ms/step - loss: 0.0042 - mse: 0.0042 - mae: 0.0496 - rmse: 0.0649 - val_loss: 0.0051 - val_mse: 0.0051 - val_mae: 0.0520 - val_rmse: 0.0716\n",
      "Epoch 70/200\n",
      "18/18 [==============================] - 0s 2ms/step - loss: 0.0042 - mse: 0.0042 - mae: 0.0492 - rmse: 0.0647 - val_loss: 0.0059 - val_mse: 0.0059 - val_mae: 0.0556 - val_rmse: 0.0768\n",
      "Epoch 71/200\n",
      "18/18 [==============================] - 0s 2ms/step - loss: 0.0044 - mse: 0.0044 - mae: 0.0497 - rmse: 0.0662 - val_loss: 0.0059 - val_mse: 0.0059 - val_mae: 0.0562 - val_rmse: 0.0767\n",
      "Epoch 72/200\n",
      "18/18 [==============================] - 0s 2ms/step - loss: 0.0039 - mse: 0.0039 - mae: 0.0480 - rmse: 0.0623 - val_loss: 0.0050 - val_mse: 0.0050 - val_mae: 0.0509 - val_rmse: 0.0704\n",
      "Epoch 73/200\n",
      "18/18 [==============================] - 0s 2ms/step - loss: 0.0038 - mse: 0.0038 - mae: 0.0467 - rmse: 0.0618 - val_loss: 0.0060 - val_mse: 0.0060 - val_mae: 0.0571 - val_rmse: 0.0775\n",
      "Epoch 74/200\n",
      "18/18 [==============================] - 0s 2ms/step - loss: 0.0043 - mse: 0.0043 - mae: 0.0500 - rmse: 0.0659 - val_loss: 0.0074 - val_mse: 0.0074 - val_mae: 0.0612 - val_rmse: 0.0862\n",
      "Epoch 75/200\n",
      "18/18 [==============================] - 0s 2ms/step - loss: 0.0045 - mse: 0.0045 - mae: 0.0513 - rmse: 0.0671 - val_loss: 0.0048 - val_mse: 0.0048 - val_mae: 0.0506 - val_rmse: 0.0692\n",
      "Epoch 76/200\n",
      "18/18 [==============================] - 0s 2ms/step - loss: 0.0054 - mse: 0.0054 - mae: 0.0538 - rmse: 0.0733 - val_loss: 0.0056 - val_mse: 0.0056 - val_mae: 0.0545 - val_rmse: 0.0747\n",
      "Epoch 77/200\n",
      "18/18 [==============================] - 0s 2ms/step - loss: 0.0045 - mse: 0.0045 - mae: 0.0507 - rmse: 0.0669 - val_loss: 0.0056 - val_mse: 0.0056 - val_mae: 0.0559 - val_rmse: 0.0750\n",
      "Epoch 78/200\n",
      "18/18 [==============================] - 0s 2ms/step - loss: 0.0048 - mse: 0.0048 - mae: 0.0523 - rmse: 0.0689 - val_loss: 0.0060 - val_mse: 0.0060 - val_mae: 0.0574 - val_rmse: 0.0775\n",
      "Epoch 79/200\n",
      "18/18 [==============================] - 0s 2ms/step - loss: 0.0054 - mse: 0.0054 - mae: 0.0557 - rmse: 0.0736 - val_loss: 0.0061 - val_mse: 0.0061 - val_mae: 0.0542 - val_rmse: 0.0779\n",
      "Epoch 80/200\n",
      "18/18 [==============================] - 0s 2ms/step - loss: 0.0070 - mse: 0.0070 - mae: 0.0579 - rmse: 0.0835 - val_loss: 0.0076 - val_mse: 0.0076 - val_mae: 0.0647 - val_rmse: 0.0873\n",
      "Epoch 81/200\n",
      "18/18 [==============================] - 0s 2ms/step - loss: 0.0057 - mse: 0.0057 - mae: 0.0568 - rmse: 0.0756 - val_loss: 0.0069 - val_mse: 0.0069 - val_mae: 0.0609 - val_rmse: 0.0831\n",
      "Epoch 82/200\n",
      "18/18 [==============================] - 0s 2ms/step - loss: 0.0080 - mse: 0.0080 - mae: 0.0674 - rmse: 0.0894 - val_loss: 0.0105 - val_mse: 0.0105 - val_mae: 0.0765 - val_rmse: 0.1026\n",
      "Epoch 83/200\n"
     ]
    },
    {
     "name": "stdout",
     "output_type": "stream",
     "text": [
      "18/18 [==============================] - 0s 2ms/step - loss: 0.0083 - mse: 0.0083 - mae: 0.0690 - rmse: 0.0910 - val_loss: 0.0072 - val_mse: 0.0072 - val_mae: 0.0607 - val_rmse: 0.0848\n",
      "Epoch 84/200\n",
      "18/18 [==============================] - 0s 2ms/step - loss: 0.0051 - mse: 0.0051 - mae: 0.0540 - rmse: 0.0712 - val_loss: 0.0067 - val_mse: 0.0067 - val_mae: 0.0621 - val_rmse: 0.0821\n",
      "Epoch 85/200\n",
      "18/18 [==============================] - 0s 2ms/step - loss: 0.0069 - mse: 0.0069 - mae: 0.0643 - rmse: 0.0830 - val_loss: 0.0096 - val_mse: 0.0096 - val_mae: 0.0747 - val_rmse: 0.0979\n",
      "Restoring model weights from the end of the best epoch.\n",
      "Epoch 00085: early stopping\n"
     ]
    }
   ],
   "source": [
    "history = model.fit(\n",
    "    x=X_train, \n",
    "    y=y_train, \n",
    "    validation_split=0.2, \n",
    "    shuffle=True, \n",
    "    epochs=EPOCHS, \n",
    "    verbose=1,\n",
    "    batch_size=BATCH_SIZE, \n",
    "    callbacks=[early_stopping])"
   ]
  },
  {
   "cell_type": "code",
   "execution_count": 49,
   "metadata": {
    "colab": {
     "base_uri": "https://localhost:8080/"
    },
    "id": "WRK0AetKPEZq",
    "outputId": "38afa6d3-9c54-433a-98c0-57d5d40d196d"
   },
   "outputs": [
    {
     "name": "stdout",
     "output_type": "stream",
     "text": [
      "\n",
      "MSE:  5.9571619502974645e-05 \n",
      "\n",
      "MSA:  0.005218014965537832 \n",
      "\n",
      "R-Squared:  0.994291617268074 \n",
      "\n",
      "Explained Variance Score:  0.9944986640609871\n"
     ]
    }
   ],
   "source": [
    "predictions = model.predict(X_test)\n",
    "\n",
    "predictions = y_scaler.inverse_transform(predictions) \n",
    "(mse, msa, r2, variance) = eval_metrics(y_test, predictions)\n",
    " \n",
    "print('\\nMSE: ', mse, '\\n')\n",
    "print('MSA: ', msa, '\\n')\n",
    "print('R-Squared: ', r2, '\\n')\n",
    "print('Explained Variance Score: ', variance)"
   ]
  },
  {
   "cell_type": "markdown",
   "metadata": {
    "id": "L4LqI_sGSPVs"
   },
   "source": [
    "This final model is served with MLflow and can be found in the Registry [here](http://35.228.45.76:5000/#/experiments/0/runs/47d7fdb1a3ed4ca48159e94ce1d6cbbc).\n",
    "\n",
    "Those were all models we're currently using in our application pipeline. The majority part of this application is handled on the backend, with the exception of PoseNet and displaying the Skeleton to the user."
   ]
  }
 ],
 "metadata": {
  "colab": {
   "collapsed_sections": [],
   "name": "assignment12.ipynb",
   "provenance": [],
   "toc_visible": true
  },
  "kernelspec": {
   "display_name": "Python 3",
   "language": "python",
   "name": "python3"
  },
  "language_info": {
   "codemirror_mode": {
    "name": "ipython",
    "version": 3
   },
   "file_extension": ".py",
   "mimetype": "text/x-python",
   "name": "python",
   "nbconvert_exporter": "python",
   "pygments_lexer": "ipython3",
   "version": "3.9.5"
  }
 },
 "nbformat": 4,
 "nbformat_minor": 1
}
