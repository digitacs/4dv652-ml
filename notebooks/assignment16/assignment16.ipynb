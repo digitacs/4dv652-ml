{
  "nbformat": 4,
  "nbformat_minor": 0,
  "metadata": {
    "colab": {
      "name": "assignment16.ipynb",
      "provenance": [],
      "collapsed_sections": []
    },
    "kernelspec": {
      "name": "python395jvsc74a57bd063fd5069d213b44bf678585dea6b12cceca9941eaf7f819626cde1f2670de90d",
      "display_name": "Python 3.9.5 64-bit"
    },
    "language_info": {
      "name": "python",
      "version": "3.9.5"
    },
    "metadata": {
      "interpreter": {
        "hash": "63fd5069d213b44bf678585dea6b12cceca9941eaf7f819626cde1f2670de90d"
      }
    }
  },
  "cells": [
    {
      "cell_type": "markdown",
      "metadata": {
        "id": "2qa5Xe4Cl-78"
      },
      "source": [
        "# Assignment 16\n",
        "\n",
        "*by Angelica Hjelm Gardner, Muhammad Farooq, and Omid Golshan Tafti.*\n",
        "\n",
        "This is the last sprint for this project work. In this report, we will include: \n",
        "\n",
        "- A user guide for how our final application can be used;\n",
        "- Implementation of the final endpoint and why we chose the 2D alternative\n",
        "- Deployment and Testing of the New Endpoint\n",
        "\n",
        "We have also prepared a presentation this week, and the slides can be found [here](https://docs.google.com/presentation/d/1lWfOX-wXXvuHOGAvpRmmupUH6sOUZ2xQLpOMQtU-nbQ/edit?usp=sharing).\n",
        "\n",
        "----\n",
        "\n",
        "## Table of Contents\n",
        "\n",
        "1. **User Guide**\n",
        "\n",
        "  1.1 How to Get Started\n",
        "\n",
        "  1.2 Step-by-Step Guide\n",
        "\n",
        "2. **Implementing the Final Endpoint**\n",
        "\n",
        "  2.1 Choosing the 2D Alternative\n",
        "\n",
        "  2.2 Scoring model Improvements\n",
        "\n",
        "  2.3 Backend updates\n",
        "\n",
        "  2.4 Frontend updates\n",
        "\n",
        "3. **Deployment and Testing**\n",
        "\n",
        "----"
      ]
    },
    {
      "cell_type": "markdown",
      "metadata": {
        "id": "NdOsnhNKfan5"
      },
      "source": [
        "# 1. User Guide\n",
        "\n",
        "This final implementation of our application lets users become more health-conscious by assessing overhead squat movements performed by the user through a video recording. After receiving the video, the application processes it and returns the following to the user:\n",
        "\n",
        "- Good/Bad Exercise notification. If the user didn't do the exercise in a proper way, then our application will let he/she know that it can't be considered a proper deepsquat exercise.\n",
        "- A score of how good the deepsquat was. This is an indication of any problems with the user's musculoskeletal system.\n",
        "- Skeleton avatar animation as a visual representation of the user's exercise.\n",
        "\n",
        "The application also checks the environment the user is recording its exercise in. If it's an ugly recording (i.e. the environment prevents our application from providing a confident result), we give the user instant feedback to fix this and improve its surroundings (e.g. with better lightening or removing objects that are in the way). Otherwise, he/she should not expect a good accuracy from the application result.\n",
        "\n",
        "## 1.1 How to Get Started\n",
        "\n",
        "Please use the Chrome browser!\n",
        "\n",
        "A user visits our website at: http://rhtrv.com:9000/.\n",
        "\n",
        "All functionality will work automatically, except for the web camera. To use our web camera implementation, you need to first add our web app domain to be treated as a secure site. This is because currently, we're using the insecure HTTP protocol to serve our web app, and therefore, Chrome will not get permission to access your web camera.\n",
        "\n",
        "### 1.1.1 Add our website as secure in Chrome\n",
        "\n",
        "Open this link in your Chrome browser [chrome://flags/#unsafely-treat-insecure-origin-as-secure](chrome://flags/#unsafely-treat-insecure-origin-as-secure), and add our domain (i.e.http://rhtrv.com:9000/) to \"Insecure origins treated as secure\", as shown below in Figure 1.1.\n",
        "\n",
        "![Figure 1.1](https://drive.google.com/uc?export=view&id=1TZ_lUnAsiC3D0m0JwNaxwpC3qFK9fvBe)\n",
        "\n",
        "<small>Figure 1.1: Add our domain to `Insecure origins treated as secure`.</small>\n",
        "\n",
        "After enabling this setting, visit:  [http://rhtrv.com:9000/](http://rhtrv.com:9000/) and you will be met with three alternatives; each of these are described in the section below.\n",
        "\n",
        "## 1.2 Step-by-Step Guide\n",
        "\n",
        "A step-by-step guide on how to use each part of our application. \n",
        "\n",
        "### 1.2.1 Form submission to get Score and Weakest link\n",
        "\n",
        "The form submission is supposed to be used when the user has performed an overhead squat assessment and received a set of numbers representing certain keypoints of your musculoskeletal system.\n",
        "You find the form submission by pressing the middle alternative at the home page:\n",
        "\n",
        "![Figure 1.2](https://drive.google.com/uc?export=view&id=1Kvigqn85Vc7rDNGxPJSCtn5nPhI2CIT1)\n",
        "\n",
        "When you're located at the form submission page, you'll find three alternatives:\n",
        "\n",
        "1. Fill in each value in separate form submission input fields;\n",
        "2. Place each predictor on a new line in the box (you should not use comma between variables); and\n",
        "3. Place each value on a new line and use comma as the separator.\n",
        "\n",
        "You may select any alternative of your choice. <br />\n",
        "Additionally, we have a test alternative where values are generated randomly for those wanting to test the functionality - but with dummy values. In that case, you press the red button, and values will appear as shown below:\n",
        "\n",
        "![Figure 1.3](https://drive.google.com/uc?export=view&id=1wnFkxqFwJuYZt_B1SyOkDDrRboNgWJr2)\n",
        "\n",
        "Once the form has all values, we press the blue button to receive the score and weakest link, like so: \n",
        "\n",
        "![Figure 1.4](https://drive.google.com/uc?export=view&id=1jmuogzht8i7m4yq-WAlUIve4Jtzu0pjD)\n",
        "\n",
        "### 1.2.2 Using Web camera to get a Skeleton Animation\n",
        "\n",
        "Web camera functionality works only for single person! \n",
        "\n",
        "The web camera functionality is located to the left:\n",
        "\n",
        "![Figure 1.5](https://drive.google.com/uc?export=view&id=1VgApfA80mNAWcs4u4i4AXXuCbFi21XAv)\n",
        "\n",
        "After granting permission for the website to use your web camera, you will see your webcam feed mirrored on the page. Then, you press the **Start** button to the left and perform the exercise. Please stand in a position where the webcam can capture your full body as making this exercise, like so:\n",
        "\n",
        "![Figure 1.6](https://drive.google.com/uc?export=view&id=10btJLlyc3nroJh0DOwtPyDzIMqfxpeIz)\n",
        "\n",
        "After you've finish performing the overhead squat, you press the **Stop** button so that your recording can be processed by our application. <br />\n",
        "The output result is the same as uploading a video, i.e. a skeleton avatar animation, a good/bad label, and a score in percentage indicating how perfect the exercise was.\n",
        "\n",
        "### 1.2.3 Video upload\n",
        "\n",
        "Our application accepts all video formats that are playable in the browser, such as .mp4 and formats listed in the figure below:\n",
        "\n",
        "![Figure 1.7](https://drive.google.com/uc?export=view&id=1TZ_lUnAsiC3D0m0JwNaxwpC3qFK9fvBe)\n",
        "\n",
        "<small>Please use one of these formats when uploading videos.</small>\n",
        "\n",
        "To the right on our website, we have the functionality to upload a video recording.\n",
        "\n",
        "![Figure 1.8](https://drive.google.com/uc?export=view&id=1BX5xikUduvPPf9M-rM85N3BOKFZGEnZd)\n",
        "\n",
        "The video recording should be of one person doing a overhead deep squat movement. After uploading the video, you press **Submit** as shown below:\n",
        "\n",
        "![Figure 1.9](https://drive.google.com/uc?export=view&id=1wiygWkeMs2QIidC21gx53PIJMg8GQj5f)\n",
        "\n",
        "The video is processed and to the right of the video, there's an indication of how ugly/good the video recording is. This green bar can assure the user to have confidence in his/her result.\n",
        "\n",
        "![Figure 1.10](https://drive.google.com/uc?export=view&id=1QD9sSRgEt4Clhi9zdosnoX42pL-NugFI)\n",
        "\n",
        "And here we have the results: a score, a label that this exercise was performed well, and the skeleton avatar animation.\n",
        "\n",
        "![Figure 1.11](https://drive.google.com/uc?export=view&id=1uGhDpm1nKBpi4g6HusPfo9qFAK4vQK4f)"
      ]
    },
    {
      "cell_type": "markdown",
      "metadata": {
        "id": "Is2PiejxffKk"
      },
      "source": [
        "# 2. Implementing the Final Endpoint\n",
        "\n",
        "In this section, we'll describe why we chose to implement the 2D alternative for endpoint, which scoring model improvements we've made since last week, and what updates that were made on the frontend and backend connected to the pipeline implementations.\n",
        "\n",
        "## 2.1 Choosing the 2D Alternative\n",
        "\n",
        "We could choose between implementing one of two alternatives for the ML pipeline:\n",
        "\n",
        "1. **2D PIPELINE (using only PoseNet data)**: <br />\n",
        "(start) PoseNet <br />\n",
        "➝ Good/Ugly Recordings in 2D <br />\n",
        "➝ Cut Start and Stop frames in 2D <br />\n",
        "➝ Good/Bad Exercise in 2D <br />\n",
        "➝ Scoring in 2D <br />\n",
        "(output) Skeleton animation & Score\n",
        "\n",
        "2. **3D PIPELINE (using PoseNet and imitated Kinect data)**: <br />\n",
        "(start) PoseNet <br />\n",
        "➝ Good/Ugly Recordings in 2D <br />\n",
        "➝ PoseNet to Kinect 2D <br />\n",
        "➝ Kinect 2D to 3D <br />\n",
        "➝ Cut Start and Stop frames in 3D <br />\n",
        "➝ Good/Bad Exercise in 3D <br />\n",
        "➝ Scoring in 3D <br />\n",
        "(output) Skeleton animation & Score\n",
        "\n",
        "After weighing both alternatives, we chose the 2D pipeline. Generally, all ML models had similar performances regardless of it was dealing with problem A (Kinect, i.e. 3D) or problem B (PoseNet, i.e. 2D). Therefore, we had no particular preference on this point. <br />\n",
        "But because our PoseNet to Kinect 3D models did not hold a high-enough performance, the skeleton animation that was returned in 3D looked good in 2 dimensions, but the third dimension (i.e. the imitated one) always turned out hunched, see figures below.\n",
        "\n",
        "| | |\n",
        "| --- | --- |\n",
        "| ![Figure 2.1](https://drive.google.com/uc?export=view&id=1Z8sV1cORZFC-gEOoeyyN1tOxXvgxL9bd) | ![Figure 2.2](https://drive.google.com/uc?export=view&id=1m_Fq4lF47qCgZxE0KNk0Ty_MEropA_0e) |\n",
        "<small>Examples of third dimension with hunchback</small>\n",
        "\n",
        "And we feared that this bad performance on the third axis might potentially also affect the Scoring model and providing Scores that were not correct.\n",
        "\n",
        "Finally, removing the two PoseNet to Kinect 3d models and sticking to the 2D pipeline makes the response time of the application quicker as we're only dealing with predictions from 5 ML models instead of 7.\n",
        "\n",
        "## 2.2 Scoring model Improvements\n",
        "\n",
        "From last week, we worked on solving the Scoring problem with a Dense model, CNN, and RNN. However, we did not consider these models to get a good enough performance to trust their predictions and therefore, we've continued to experiment with the Scoring problem this week. <br />\n",
        "In this section, we're mentioning the improvements and final results for the Scoring model.\n",
        "\n",
        "First, we wanted to decide whether to proceed working with the CNN or RNN variants. After experimenting with CNNs, we found that they never reached a high enough R-squared value (in our opinion) and we can also see from the figure below that the MSE was quite large.\n",
        "\n",
        "![Figure 2.3](https://drive.google.com/uc?export=view&id=1KJbinU1F33MHFqWgr-VgjQMGmRZbR06P)\n",
        "\n",
        "<small>CNN results from experimentation</small>\n",
        "\n",
        "Therefore, we decided to focus our attention on RNNs instead.<br />\n",
        "The Notebook we've worked on is [exercise_score_rnn_posenet-improved.ipynb](https://github.com/digitacs/4dv652-ml/blob/main/notebooks/assignment15/exercise_score_rnn_posenet-improved.ipynb), and the model is registered here in our [MLflow Model registry](http://35.228.45.76:5000/#/experiments/0/runs/472b72effd6641d49cdf48eda1bfd49e).\n",
        "\n",
        "Let's start by loading the dataset files we're using for training the RNN model and split it into training/test sets with a ratio of 9:1. We want to keep full videos either for training and test, so we perform the split before loading all frames into the set, to we make sure the same video frames aren't separated into both sets."
      ]
    },
    {
      "cell_type": "code",
      "metadata": {
        "id": "Y_4B2DngLrhh"
      },
      "source": [
        "# Ignore warnings\n",
        "import warnings\n",
        "warnings.simplefilter('ignore')"
      ],
      "execution_count": 1,
      "outputs": []
    },
    {
      "cell_type": "code",
      "metadata": {
        "id": "UTxrq67_Ly7R"
      },
      "source": [
        "# Set random state\n",
        "import numpy as np\n",
        "random_state = 47\n",
        "np.random.seed(random_state)"
      ],
      "execution_count": 2,
      "outputs": []
    },
    {
      "cell_type": "code",
      "execution_count": 3,
      "metadata": {},
      "outputs": [
        {
          "output_type": "stream",
          "name": "stdout",
          "text": [
            "Num GPUs Available:  1\n"
          ]
        }
      ],
      "source": [
        "# Use GPU (if available)\n",
        "import tensorflow as tf\n",
        "physical_devices = tf.config.experimental.list_physical_devices( 'GPU' )\n",
        "print( 'Num GPUs Available: ', len( physical_devices ) )\n",
        "if len( physical_devices ) > 0:\n",
        "    tf.config.experimental.set_memory_growth( physical_devices[0], True )"
      ]
    },
    {
      "source": [
        "We usually load datasets from our GitHub repository when writing reports, but this time we need to use the local datasets as GitHub was experiencing server errors at the time of this report writing."
      ],
      "cell_type": "markdown",
      "metadata": {}
    },
    {
      "cell_type": "code",
      "metadata": {
        "id": "J6duygYHeV9b"
      },
      "source": [
        "import pandas as pd\n",
        "\n",
        "posenet_dataset_path = '../../datasets/posenet-uncut/'\n",
        "kinect_dataset_path = '../../datasets/kinect_fixed_not_cut/'\n",
        "cut_dataset_path = '../../datasets/new_posenet_marked_start_end/'\n",
        "goodness_score = pd.read_csv('../../datasets/VideoScoring.csv')\n",
        "exrecise_score = pd.read_csv('../../datasets/ExerciseScoring.csv')\n",
        "\n",
        "#posenet_dataset_path = 'https://raw.githubusercontent.com/digitacs/4dv652-ml/main/datasets/posenet-uncut/'\n",
        "#kinect_dataset_path = 'https://raw.githubusercontent.com/digitacs/4dv652-ml/main/datasets/kinect_fixed_not_cut/'\n",
        "#cut_dataset_path = 'https://raw.githubusercontent.com/digitacs/4dv652-ml/main/datasets/new_posenet_marked_start_end/'\n",
        "#goodness_score = pd.read_csv('https://raw.githubusercontent.com/digitacs/4dv652-ml/main/datasets/VideoScoring.csv')\n",
        "#exrecise_score = pd.read_csv('https://raw.githubusercontent.com/digitacs/4dv652-ml/main/datasets/ExerciseScoring.csv')\n",
        "\n",
        "train_test_ratio = 0.9\n",
        "new_label = 'ExreciseScore'\n",
        "exersice_score_indicator = 'O_Score'\n",
        "goodness_score_indicator = 'AVG'\n",
        "goodness_score_threshold = 3"
      ],
      "execution_count": 4,
      "outputs": []
    },
    {
      "cell_type": "code",
      "metadata": {
        "id": "ujqEXpAsDP9V"
      },
      "source": [
        "# Drop video augmentation results\n",
        "goodness_score = goodness_score[goodness_score['FileName'].str.match('U')==False]\n",
        "goodness_score = goodness_score[goodness_score[goodness_score_indicator]>=goodness_score_threshold]\n",
        "\n",
        "posenet_ok = goodness_score['FileName']+'.csv'\n",
        "\n",
        "exrecise_score['Posenet'] = exrecise_score['Posenet'] + '.csv'\n",
        "exrecise_score['Kinect'] = exrecise_score['Kinect'] + '.csv'"
      ],
      "execution_count": 5,
      "outputs": []
    },
    {
      "cell_type": "code",
      "metadata": {
        "colab": {
          "base_uri": "https://localhost:8080/"
        },
        "id": "FPfPa3YYDUe5",
        "outputId": "dc673b56-b4cc-4a2c-9d16-c264b77e69a0"
      },
      "source": [
        "posenet_files = []\n",
        "kinect_files = []\n",
        "\n",
        "for file in os.listdir(posenet_dataset_path):\n",
        "    if not file.find(\".csv\",0) == -1:\n",
        "        if file in (goodness_score['FileName']+'.csv').to_list():\n",
        "            posenet_files.append(file)\n",
        "        \n",
        "for file in os.listdir(kinect_dataset_path):\n",
        "    if not file.find(\".csv\",0) == -1:\n",
        "        if file in (goodness_score['FileName']+'_kinect.csv').to_list():\n",
        "            kinect_files.append(file)\n",
        "\n",
        "#for i in range(1, 160):\n",
        "  #file_name = 'A{}'.format(i)\n",
        "  #if file_name in (goodness_score['FileName']).to_list():\n",
        "    #kinect_files.append('{}_kinect.csv'.format(file_name))\n",
        "    #posenet_files.append('{}.csv'.format(file_name))\n",
        "\n",
        "#for i in range(1, 23):\n",
        "  #file_name = 'B{}'.format(i)\n",
        "  #if file_name in (goodness_score['FileName']).to_list():\n",
        "    #kinect_files.append('{}_kinect.csv'.format(file_name))\n",
        "    #posenet_files.append('{}.csv'.format(file_name))\n",
        "        \n",
        "print('Total posenet datasets: {}'.format(len(posenet_files)))\n",
        "print('Total kinect datasets: {}'.format(len(kinect_files)))"
      ],
      "execution_count": 6,
      "outputs": [
        {
          "output_type": "stream",
          "name": "stdout",
          "text": [
            "Total posenet datasets: 157\nTotal kinect datasets: 157\n"
          ]
        }
      ]
    },
    {
      "cell_type": "code",
      "metadata": {
        "colab": {
          "base_uri": "https://localhost:8080/"
        },
        "id": "7B_CNuMwDZz9",
        "outputId": "cb9eab0c-ed81-4487-eca9-4256ce879913"
      },
      "source": [
        "TRAIN_SPLIT_POSENET = int(len(posenet_files)*train_test_ratio)\n",
        "TRAIN_SPLIT_KINECT = int(len(kinect_files)*train_test_ratio)\n",
        "print(TRAIN_SPLIT_POSENET,TRAIN_SPLIT_KINECT)"
      ],
      "execution_count": 7,
      "outputs": [
        {
          "output_type": "stream",
          "name": "stdout",
          "text": [
            "141 141\n"
          ]
        }
      ]
    },
    {
      "cell_type": "markdown",
      "metadata": {
        "id": "7aU0GGv8Gfnf"
      },
      "source": [
        "We also use our data augmentation methods from before."
      ]
    },
    {
      "cell_type": "code",
      "metadata": {
        "id": "I4nCXIw-JVIt"
      },
      "source": [
        "# Mirror\n",
        "# 'a' means all axis else 'x', 'y' or 'z'\n",
        "# if Append calculated data will be appended to the input data\n",
        "def mirror(data, axis, append=False):\n",
        "    try:\n",
        "        \n",
        "        if axis == 'a':\n",
        "            target_labels = [col for col in data.columns]\n",
        "        else:\n",
        "            axis = \"_\" + axis\n",
        "            target_labels = [col for col in data.columns if axis in col]\n",
        "\n",
        "        aug_data_mirror = data.copy()\n",
        "\n",
        "        for t in target_labels:\n",
        "            temp = -aug_data_mirror[t]\n",
        "            aug_data_mirror = aug_data_mirror.assign(**{t: temp.values})\n",
        "\n",
        "        if append:\n",
        "            return data.append(aug_data_mirror,ignore_index=True)\n",
        "\n",
        "        return aug_data_mirror\n",
        "    \n",
        "    except IOError as e:\n",
        "        print(e)\n",
        "        return None\n",
        "\n",
        "# Multiplier\n",
        "# if multiplier > 1 strecth and if multiplier < 1 compress\n",
        "# if Append calculated data will be appended to input data\n",
        "def augMultiplier(data, multiplier, append=False):\n",
        "    \n",
        "    try:\n",
        "        aug_data_offset = data.copy()\n",
        "        aug_data_offset *= multiplier\n",
        "        if append:\n",
        "            return data.append(aug_data_offset,ignore_index=True)\n",
        "        \n",
        "        return aug_data_offset\n",
        "    \n",
        "    except IOError as e:\n",
        "        print(e)\n",
        "        return None"
      ],
      "execution_count": 8,
      "outputs": []
    },
    {
      "cell_type": "code",
      "metadata": {
        "id": "1sHqn-yPGi_j"
      },
      "source": [
        "def data_augmentation(df):\n",
        "    augmented_datasets = []\n",
        "    \n",
        "    # Add original data\n",
        "    augmented_datasets.append(df)\n",
        "    \n",
        "    # Mirror X coordinate\n",
        "    for i in range(len(augmented_datasets)):\n",
        "        augmented_datasets.append(mirror(augmented_datasets[i],'x', append=False))\n",
        "\n",
        "    # Stretch by 50%\n",
        "    for i in range(len(augmented_datasets)):\n",
        "        df_temp = augMultiplier(augmented_datasets[i].drop(columns=[new_label]), multiplier=1.5)\n",
        "        df_temp[new_label] = augmented_datasets[i][new_label]\n",
        "        augmented_datasets.append(df_temp)\n",
        "\n",
        "    # Compress by 25%\n",
        "    for i in range(len(augmented_datasets)):\n",
        "        df_temp = augMultiplier(augmented_datasets[i].drop(columns=[new_label]), multiplier=0.25)\n",
        "        df_temp[new_label] = augmented_datasets[i][new_label]\n",
        "        augmented_datasets.append(df_temp)\n",
        "\n",
        "    return augmented_datasets"
      ],
      "execution_count": 9,
      "outputs": []
    },
    {
      "cell_type": "markdown",
      "metadata": {
        "id": "QWCPZFRRHjFf"
      },
      "source": [
        "We don't want to pick a too large history size value, so we chose the smallest amount of frames from the videos used in training.\n",
        "\n",
        "Therefore, from each video, we pick 125 frames evenly through the whole exercise after removing the start and stop frames from the video. Then, we will add the score value as our target value. Finally, we reshape it into a 3D array (e.g. 1,150,26)."
      ]
    },
    {
      "cell_type": "code",
      "metadata": {
        "id": "J7Ix8XotHRIw"
      },
      "source": [
        "HISTORY_SIZE = 125\n",
        "N_FEATURES = 26\n",
        "\n",
        "def multivariate_data(dataset, target_column, history_columns):\n",
        "\n",
        "    HISTORY_SIZE = 150\n",
        "    F = len(dataset)\n",
        "    step = F / HISTORY_SIZE\n",
        "\n",
        "    # Choose index which should be picked\n",
        "    result = np.round(np.arange(0,HISTORY_SIZE-1) * step)\n",
        "    result = np.append(result,F-1)\n",
        "        \n",
        "    return np.array(dataset[history_columns].iloc[result]).reshape(-1,HISTORY_SIZE,N_FEATURES), np.array(dataset[target_column].mean())"
      ],
      "execution_count": 10,
      "outputs": []
    },
    {
      "cell_type": "code",
      "metadata": {
        "id": "pwaoE2NSHkj9"
      },
      "source": [
        "history_columns = ['head_x', 'head_y', 'left_shoulder_x', 'left_shoulder_y',\n",
        "       'right_shoulder_x', 'right_shoulder_y', 'left_elbow_x', 'left_elbow_y',\n",
        "       'right_elbow_x', 'right_elbow_y', 'left_wrist_x', 'left_wrist_y',\n",
        "       'right_wrist_x', 'right_wrist_y', 'left_hip_x', 'left_hip_y',\n",
        "       'right_hip_x', 'right_hip_y', 'left_knee_x', 'left_knee_y',\n",
        "       'right_knee_x', 'right_knee_y', 'left_ankle_x', 'left_ankle_y',\n",
        "       'right_ankle_x', 'right_ankle_y']\n",
        "target_column = 'ExreciseScore'\n",
        "\n",
        "def read_dataset(path,file_list,split_point,is_posenet=True,isTrain=True):\n",
        "    all_segments = None\n",
        "    all_labels = None\n",
        "    \n",
        "    start=0\n",
        "    end=0\n",
        "    \n",
        "    if isTrain:\n",
        "        start = 0\n",
        "        end = split_point\n",
        "    else:\n",
        "        start = split_point\n",
        "        end = len(file_list)\n",
        "    \n",
        "    for file_name in file_list[start:end]:\n",
        "        df = pd.read_csv(path+file_name)\n",
        "        \n",
        "        if is_posenet:  \n",
        "            df = df[df.columns.drop(list(df.filter(regex='_eye_')))]\n",
        "            df = df[df.columns.drop(list(df.filter(regex='_ear_')))]\n",
        "            df = df[df.columns.drop(list(df.filter(regex='score')))]\n",
        "            df = df.rename(columns={'nose_x': 'head_x', 'nose_y': 'head_y'})\n",
        "            df[new_label] = float(exrecise_score[exrecise_score['Posenet'] == file_name][exersice_score_indicator])\n",
        "        else:  \n",
        "            df = df.drop(columns=['Unnamed: 0','FrameNo'])\n",
        "            df[new_label] = float(exrecise_score[exrecise_score['Kinect'] == file_name][exersice_score_indicator])\n",
        "            \n",
        "        # Cut start / end\n",
        "        try:\n",
        "            se = pd.read_csv('../../datasets/new_posenet_marked_start_end/'+file_name)\n",
        "            #se = pd.read_csv('https://raw.githubusercontent.com/digitacs/4dv652-ml/main/datasets/new_posenet_marked_start_end/'+file_name)\n",
        "            cut_start = min(se[(se['start']==0) * (se['end']==0)].index)\n",
        "            cut_end = max(se[(se['start']==0) * (se['end']==0)].index)\n",
        "            df = df.iloc[cut_start:cut_end]\n",
        "        except IOError as e:\n",
        "            print('Error in reading file: ', e)\n",
        "            \n",
        "    \n",
        "        if isTrain:\n",
        "            for sets in data_augmentation(df):\n",
        "                segment,label = multivariate_data(sets,target_column,history_columns)\n",
        "                \n",
        "                if all_segments is None:\n",
        "                    all_segments = segment\n",
        "                    all_labels = label\n",
        "                else:\n",
        "                    all_segments = np.append(all_segments,segment,axis=0)  \n",
        "                    all_labels = np.append(all_labels,label)  \n",
        "\n",
        "        else:\n",
        "            segment,label = multivariate_data(df,target_column,history_columns)\n",
        "\n",
        "            if all_segments is None:\n",
        "                all_segments = segment\n",
        "                all_labels = label\n",
        "            else:\n",
        "                all_segments = np.append(all_segments,segment,axis=0)  \n",
        "                all_labels = np.append(all_labels,label)\n",
        "    \n",
        "    return all_segments,all_labels"
      ],
      "execution_count": 11,
      "outputs": []
    },
    {
      "cell_type": "code",
      "metadata": {
        "colab": {
          "base_uri": "https://localhost:8080/"
        },
        "id": "V_7YQQ4jHnUG",
        "outputId": "98aa4968-818b-4644-cae3-2b5954941fed"
      },
      "source": [
        "X_train, y_train = read_dataset(posenet_dataset_path,posenet_files,TRAIN_SPLIT_POSENET,True,True)\n",
        "X_test, y_test = read_dataset(posenet_dataset_path,posenet_files,TRAIN_SPLIT_POSENET,True,False)\n",
        "\n",
        "print(X_train.shape)\n",
        "print(X_test.shape)"
      ],
      "execution_count": 12,
      "outputs": [
        {
          "output_type": "stream",
          "name": "stdout",
          "text": [
            "Error in reading file:  [Errno 2] No such file or directory: '../../datasets/new_posenet_marked_start_end/A60.csv'\n",
            "(1128, 150, 26)\n",
            "(16, 150, 26)\n"
          ]
        }
      ]
    },
    {
      "cell_type": "code",
      "metadata": {
        "colab": {
          "base_uri": "https://localhost:8080/"
        },
        "id": "V20_xiHIHsrt",
        "outputId": "45fc11e4-6f6d-4942-a0a6-34538ca6d39e"
      },
      "source": [
        "train_mean = X_train.mean()\n",
        "train_std = X_train.std()\n",
        "X_train = (X_train-train_mean)/train_std\n",
        "X_test = (X_test-train_mean)/train_std\n",
        "\n",
        "target_mean = y_train.mean()\n",
        "target_std = y_train.std()\n",
        "y_train = (y_train-target_mean)/target_std\n",
        "y_test = (y_test-target_mean)/target_std\n",
        "\n",
        "\n",
        "print ('Train data shape')\n",
        "print(X_train.shape)\n",
        "print(y_train.shape)\n",
        "print ('\\nTest data shape')\n",
        "print(X_test.shape)\n",
        "print(y_test.shape)"
      ],
      "execution_count": 13,
      "outputs": [
        {
          "output_type": "stream",
          "name": "stdout",
          "text": [
            "Train data shape\n(1128, 150, 26)\n(1128,)\n\nTest data shape\n(16, 150, 26)\n(16,)\n"
          ]
        }
      ]
    },
    {
      "cell_type": "code",
      "metadata": {
        "id": "kslDTc9CHwQx"
      },
      "source": [
        "import tensorflow as tf\n",
        "\n",
        "BATCH_SIZE = 60\n",
        "BUFFER_SIZE = 100000\n",
        "\n",
        "train_set = tf.data.Dataset.from_tensor_slices((X_train, y_train))\n",
        "train_set = train_set.cache().shuffle(BUFFER_SIZE).batch(BATCH_SIZE).repeat()\n",
        "\n",
        "test_set = tf.data.Dataset.from_tensor_slices((X_test, y_test))\n",
        "test_set = test_set.batch(BATCH_SIZE).repeat()"
      ],
      "execution_count": 14,
      "outputs": []
    },
    {
      "cell_type": "markdown",
      "metadata": {
        "id": "c-wY23jjPh64"
      },
      "source": [
        "We will use early stopping as a form of regularization to avoid overfitting. We're looking for a stagnation in the improvement of validation loss (i.e. MSE). Because we're working with a RNN, we use a higher patience value than for other model variants."
      ]
    },
    {
      "cell_type": "code",
      "metadata": {
        "id": "8Th167PeQLUm"
      },
      "source": [
        "from keras.callbacks import EarlyStopping\n",
        "\n",
        "early_stopping = EarlyStopping(\n",
        "    monitor='val_loss', \n",
        "    verbose=1,\n",
        "    patience=25,\n",
        "    mode='min',\n",
        "    restore_best_weights=True)"
      ],
      "execution_count": 15,
      "outputs": []
    },
    {
      "cell_type": "markdown",
      "metadata": {
        "id": "6W3D_cVaQnhd"
      },
      "source": [
        "Then, we'll define the model architecture. We experimented with both LSTM and GRU layers for this RNN (with same parameter values) and they reached very similar performance, however, LSTM were always taking somewhat longer time to process predictions and therefore, we chose to stick with GRU layers for shorter processing time and same performance.\n",
        "\n",
        "![Figure 2.4](https://drive.google.com/uc?export=view&id=12fLePayGzdXP8zq0_VVlgkD3hiMWa1LF) \n",
        "\n",
        "<small>Figure showing models with LSTM layers having increased process time compared to models with GRU layers).</small>\n",
        "\n",
        "We experimented with different parameter values such as learning rate, GRU units, Dense units, history size (*c*), and evaluation interval for a total of 38 experimentations, and they can be found in [MLflow dashboard](http://35.228.45.76:5000/#/compare-runs?runs=[%227aa601acaf9044eda24b749750139c92%22,%226622f42fa86744a1b1d3b9777f8578dd%22,%2299c13ec9eba546ccad2b792057f95321%22,%22f09d1e04981743d29d62870dddf5c1d8%22,%22472b72effd6641d49cdf48eda1bfd49e%22,%220412c983809d4aa7b1725b066aad2c83%22,%222b1084b265ea40649bb68e78389d2efc%22,%22a627c10feac147d38a404966af798027%22,%22b96a96921ee54ec9982e33609b371a97%22,%221524b17900c3497b8e0155324109a8e8%22,%227bd3e9f19b814096ab429d889bf5b6dd%22,%22af3f6b1e340e4ab8a4f9476305a5350d%22,%227599a25e7119431e95e225f3bd42fc37%22,%225ae25b759c524da89a75b314adf401df%22,%222076bf1e6ae44104a81a14b7186f22af%22,%226c853b9b29b343b2af70b1f9706af7ed%22,%227fd70b567a7743f29405399088c07b96%22,%22a07bd6b1f87247be9d6a4d9dae04939e%22,%22e9d48a54721f4e819c7af767a93abd2b%22,%2252e81a317dfe458ba46d96ff24213fb2%22,%2254c4cbd53fec40bb90de68bd54df95b1%22,%229917e57354e144cc96ceeb059f94f95b%22,%220aeea072697148f3b2fd135253a96c53%22,%229e2fb0192a864ac0ba56d4cd9fef9850%22,%223dd009ffebfc4790b7f5ba39922563ca%22,%22ada2e865f2254554a53a2b8db54bd6e5%22,%2270674bfb22e84649afdaaa205d0b7bc6%22,%22589b6aaff6b54af2a588a0af27aab0a6%22,%2280dac6ac42c042928983610268fdcadc%22,%225f1c539381f44926aa4a123405053e36%22,%22340d6486fe8544529fee85fae922e1a5%22,%22462640f7555d453f973f594597a0cc72%22,%223098a27ba2aa41cbb94d66b660600cd8%22,%22797d05d3bf9d4cbaae775629849fb1fa%22,%220571ca64d45a47248b2ccebf1bdc17bc%22,%225c00bfbb502a419b8141b9a97b53394b%22,%222406465fbea740ab9870f120710b8466%22,%2235d957b4d2704975acf058e02b76d956%22]&experiment=0) for easy comparison.\n",
        "\n",
        "We have used the best performing combination of parameter values in this report to demonstrate the final model performance."
      ]
    },
    {
      "cell_type": "code",
      "metadata": {
        "colab": {
          "base_uri": "https://localhost:8080/"
        },
        "id": "twgvfaQ9PlRK",
        "outputId": "aeabdd2d-2eb0-4d58-fe35-35336ff36928"
      },
      "source": [
        "from tensorflow.keras.metrics import MeanSquaredError, MeanAbsoluteError, RootMeanSquaredError\n",
        "from tensorflow.keras.layers import InputLayer\n",
        "from tensorflow.keras.layers import Dense, GRU, Dropout\n",
        "\n",
        "INPUT_SHAPE = X_train.shape[-2:]\n",
        "EVALUATION_INTERVAL = 4000\n",
        "\n",
        "metrics = [\n",
        "    MeanSquaredError(name=\"mse\", dtype=None),\n",
        "    MeanAbsoluteError(name=\"mae\", dtype=None),\n",
        "    RootMeanSquaredError(name=\"rmse\", dtype=None),\n",
        "]\n",
        "\n",
        "model = tf.keras.models.Sequential(\n",
        "  InputLayer(input_shape=INPUT_SHAPE)\n",
        ")\n",
        "\n",
        "model.add(GRU(64,use_bias=True))\n",
        "model.add(Dropout(0.5))\n",
        "model.add(Dense(32, activation='relu'))\n",
        "model.add(Dense(1))\n",
        "\n",
        "model.compile(optimizer='adam', loss='mean_squared_error', metrics=metrics)\n",
        "\n",
        "print(model.summary())"
      ],
      "execution_count": 16,
      "outputs": [
        {
          "output_type": "stream",
          "name": "stdout",
          "text": [
            "Model: \"sequential\"\n_________________________________________________________________\nLayer (type)                 Output Shape              Param #   \n=================================================================\ngru (GRU)                    (None, 64)                17664     \n_________________________________________________________________\ndropout (Dropout)            (None, 64)                0         \n_________________________________________________________________\ndense (Dense)                (None, 32)                2080      \n_________________________________________________________________\ndense_1 (Dense)              (None, 1)                 33        \n=================================================================\nTotal params: 19,777\nTrainable params: 19,777\nNon-trainable params: 0\n_________________________________________________________________\nNone\n"
          ]
        }
      ]
    },
    {
      "cell_type": "markdown",
      "metadata": {
        "id": "mS1nIgNlRq1O"
      },
      "source": [
        "Let's train this RNN."
      ]
    },
    {
      "cell_type": "code",
      "metadata": {
        "colab": {
          "base_uri": "https://localhost:8080/"
        },
        "id": "2CpWEXIvRtbI",
        "outputId": "4234b257-e92b-4bd2-935d-5f86f48f4eb6"
      },
      "source": [
        "history = model.fit(train_set, \n",
        "  epochs=50, \n",
        "  steps_per_epoch=EVALUATION_INTERVAL, \n",
        "  validation_data=test_set, \n",
        "  validation_steps=50,\n",
        "  verbose=1, \n",
        "  callbacks=[early_stopping])"
      ],
      "execution_count": 17,
      "outputs": [
        {
          "output_type": "stream",
          "name": "stdout",
          "text": [
            "Epoch 1/50\n",
            "4000/4000 [==============================] - 42s 10ms/step - loss: 0.7354 - mse: 0.7354 - mae: 0.6840 - rmse: 0.8576 - val_loss: 1.2109 - val_mse: 1.2109 - val_mae: 0.9905 - val_rmse: 1.1004\n",
            "Epoch 2/50\n",
            "4000/4000 [==============================] - 40s 10ms/step - loss: 0.5447 - mse: 0.5447 - mae: 0.5623 - rmse: 0.7381 - val_loss: 2.8771 - val_mse: 2.8771 - val_mae: 1.5930 - val_rmse: 1.6962\n",
            "Epoch 3/50\n",
            "4000/4000 [==============================] - 40s 10ms/step - loss: 0.5623 - mse: 0.5623 - mae: 0.5716 - rmse: 0.7499 - val_loss: 0.4298 - val_mse: 0.4298 - val_mae: 0.5352 - val_rmse: 0.6556\n",
            "Epoch 4/50\n",
            "4000/4000 [==============================] - 40s 10ms/step - loss: 0.3258 - mse: 0.3258 - mae: 0.4097 - rmse: 0.5708 - val_loss: 0.3183 - val_mse: 0.3183 - val_mae: 0.4502 - val_rmse: 0.5642\n",
            "Epoch 5/50\n",
            "4000/4000 [==============================] - 40s 10ms/step - loss: 0.3040 - mse: 0.3040 - mae: 0.3887 - rmse: 0.5514 - val_loss: 3.5502 - val_mse: 3.5502 - val_mae: 1.7592 - val_rmse: 1.8842\n",
            "Epoch 6/50\n",
            "4000/4000 [==============================] - 40s 10ms/step - loss: 0.5060 - mse: 0.5060 - mae: 0.5377 - rmse: 0.7114 - val_loss: 1.2435 - val_mse: 1.2435 - val_mae: 1.0233 - val_rmse: 1.1151\n",
            "Epoch 7/50\n",
            "4000/4000 [==============================] - 40s 10ms/step - loss: 0.2868 - mse: 0.2868 - mae: 0.3909 - rmse: 0.5355 - val_loss: 0.4241 - val_mse: 0.4241 - val_mae: 0.4884 - val_rmse: 0.6512\n",
            "Epoch 8/50\n",
            "4000/4000 [==============================] - 40s 10ms/step - loss: 0.3331 - mse: 0.3331 - mae: 0.4107 - rmse: 0.5771 - val_loss: 1.8476 - val_mse: 1.8476 - val_mae: 1.2176 - val_rmse: 1.3592\n",
            "Epoch 9/50\n",
            "4000/4000 [==============================] - 40s 10ms/step - loss: 0.1938 - mse: 0.1938 - mae: 0.3148 - rmse: 0.4402 - val_loss: 0.6060 - val_mse: 0.6060 - val_mae: 0.5729 - val_rmse: 0.7785\n",
            "Epoch 10/50\n",
            "4000/4000 [==============================] - 39s 10ms/step - loss: 0.2118 - mse: 0.2118 - mae: 0.3196 - rmse: 0.4603 - val_loss: 0.9226 - val_mse: 0.9226 - val_mae: 0.7978 - val_rmse: 0.9605\n",
            "Epoch 11/50\n",
            "4000/4000 [==============================] - 39s 10ms/step - loss: 0.1206 - mse: 0.1206 - mae: 0.2477 - rmse: 0.3473 - val_loss: 0.8475 - val_mse: 0.8475 - val_mae: 0.7695 - val_rmse: 0.9206\n",
            "Epoch 12/50\n",
            "4000/4000 [==============================] - 37s 9ms/step - loss: 0.1022 - mse: 0.1022 - mae: 0.2261 - rmse: 0.3198 - val_loss: 0.4455 - val_mse: 0.4455 - val_mae: 0.5591 - val_rmse: 0.6675\n",
            "Epoch 13/50\n",
            "4000/4000 [==============================] - 37s 9ms/step - loss: 0.0890 - mse: 0.0890 - mae: 0.2097 - rmse: 0.2984 - val_loss: 3.4021 - val_mse: 3.4021 - val_mae: 1.6523 - val_rmse: 1.8445\n",
            "Epoch 14/50\n",
            "4000/4000 [==============================] - 37s 9ms/step - loss: 0.1972 - mse: 0.1972 - mae: 0.2946 - rmse: 0.4440 - val_loss: 0.9591 - val_mse: 0.9591 - val_mae: 0.7839 - val_rmse: 0.9793\n",
            "Epoch 15/50\n",
            "4000/4000 [==============================] - 37s 9ms/step - loss: 0.2781 - mse: 0.2781 - mae: 0.3735 - rmse: 0.5273 - val_loss: 0.3627 - val_mse: 0.3627 - val_mae: 0.5005 - val_rmse: 0.6023\n",
            "Epoch 16/50\n",
            "4000/4000 [==============================] - 37s 9ms/step - loss: 0.1855 - mse: 0.1855 - mae: 0.2999 - rmse: 0.4308 - val_loss: 0.5019 - val_mse: 0.5019 - val_mae: 0.6281 - val_rmse: 0.7084\n",
            "Epoch 17/50\n",
            "4000/4000 [==============================] - 37s 9ms/step - loss: 0.1511 - mse: 0.1511 - mae: 0.2682 - rmse: 0.3887 - val_loss: 0.3702 - val_mse: 0.3702 - val_mae: 0.5062 - val_rmse: 0.6084\n",
            "Epoch 18/50\n",
            "4000/4000 [==============================] - 38s 9ms/step - loss: 0.0851 - mse: 0.0851 - mae: 0.2077 - rmse: 0.2917 - val_loss: 0.4558 - val_mse: 0.4558 - val_mae: 0.6019 - val_rmse: 0.6751\n",
            "Epoch 19/50\n",
            "4000/4000 [==============================] - 38s 9ms/step - loss: 0.1286 - mse: 0.1286 - mae: 0.2382 - rmse: 0.3586 - val_loss: 0.4838 - val_mse: 0.4838 - val_mae: 0.6172 - val_rmse: 0.6956\n",
            "Epoch 20/50\n",
            "4000/4000 [==============================] - 38s 9ms/step - loss: 0.1133 - mse: 0.1133 - mae: 0.2285 - rmse: 0.3366 - val_loss: 0.4499 - val_mse: 0.4499 - val_mae: 0.5934 - val_rmse: 0.6707\n",
            "Epoch 21/50\n",
            "4000/4000 [==============================] - 37s 9ms/step - loss: 0.1478 - mse: 0.1478 - mae: 0.2540 - rmse: 0.3845 - val_loss: 0.3675 - val_mse: 0.3675 - val_mae: 0.5209 - val_rmse: 0.6062\n",
            "Epoch 22/50\n",
            "4000/4000 [==============================] - 37s 9ms/step - loss: 0.0732 - mse: 0.0732 - mae: 0.1911 - rmse: 0.2705 - val_loss: 0.4804 - val_mse: 0.4804 - val_mae: 0.6138 - val_rmse: 0.6931\n",
            "Epoch 23/50\n",
            "4000/4000 [==============================] - 38s 9ms/step - loss: 0.0952 - mse: 0.0952 - mae: 0.2070 - rmse: 0.3085 - val_loss: 0.5959 - val_mse: 0.5959 - val_mae: 0.6689 - val_rmse: 0.7719\n",
            "Epoch 24/50\n",
            "4000/4000 [==============================] - 38s 9ms/step - loss: 0.0571 - mse: 0.0571 - mae: 0.1665 - rmse: 0.2389 - val_loss: 0.6344 - val_mse: 0.6344 - val_mae: 0.7102 - val_rmse: 0.7965\n",
            "Epoch 25/50\n",
            "4000/4000 [==============================] - 37s 9ms/step - loss: 0.2214 - mse: 0.2214 - mae: 0.3035 - rmse: 0.4706 - val_loss: 1.2603 - val_mse: 1.2603 - val_mae: 0.8840 - val_rmse: 1.1226\n",
            "Epoch 26/50\n",
            "4000/4000 [==============================] - 41s 10ms/step - loss: 0.2083 - mse: 0.2083 - mae: 0.3286 - rmse: 0.4565 - val_loss: 0.6240 - val_mse: 0.6240 - val_mae: 0.6326 - val_rmse: 0.7899\n",
            "Epoch 27/50\n",
            "4000/4000 [==============================] - 42s 10ms/step - loss: 0.1201 - mse: 0.1201 - mae: 0.2437 - rmse: 0.3466 - val_loss: 0.7037 - val_mse: 0.7037 - val_mae: 0.7154 - val_rmse: 0.8389\n",
            "Epoch 28/50\n",
            "4000/4000 [==============================] - 42s 10ms/step - loss: 0.1501 - mse: 0.1501 - mae: 0.2702 - rmse: 0.3874 - val_loss: 0.8062 - val_mse: 0.8062 - val_mae: 0.8257 - val_rmse: 0.8979\n",
            "Epoch 29/50\n",
            "4000/4000 [==============================] - 41s 10ms/step - loss: 0.1795 - mse: 0.1795 - mae: 0.2903 - rmse: 0.4236 - val_loss: 2.7127 - val_mse: 2.7127 - val_mae: 1.5131 - val_rmse: 1.6470\n",
            "Restoring model weights from the end of the best epoch.\n",
            "Epoch 00029: early stopping\n"
          ]
        }
      ]
    },
    {
      "cell_type": "markdown",
      "metadata": {
        "id": "ZP4WAhpnkQcw"
      },
      "source": [
        "We take a look at the training history. It seems that the model was almost about to start overfitting, and then the early stopping stepped in to prevent that."
      ]
    },
    {
      "cell_type": "code",
      "metadata": {
        "colab": {
          "base_uri": "https://localhost:8080/",
          "height": 390
        },
        "id": "MfRSEAR1kTJE",
        "outputId": "7bf51466-b072-408b-8207-d38a236b0719"
      },
      "source": [
        "import matplotlib as mpl\n",
        "import matplotlib.pyplot as plt\n",
        "\n",
        "mpl.rcParams['figure.figsize'] = (8, 6)\n",
        "mpl.rcParams['axes.grid'] = False\n",
        "\n",
        "def plot_train_history(history, title):\n",
        "    loss = history.history['loss']\n",
        "    val_loss = history.history['val_loss']\n",
        "    epochs = range(len(loss))\n",
        "    plt.figure()\n",
        "    plt.plot(epochs, loss, 'b', label='Training loss')\n",
        "    plt.plot(epochs, val_loss, 'r', label='Validation loss')\n",
        "    plt.title(title)\n",
        "\n",
        "plot_train_history(history, 'Training and validation loss')"
      ],
      "execution_count": 18,
      "outputs": [
        {
          "output_type": "display_data",
          "data": {
            "text/plain": "<Figure size 576x432 with 1 Axes>",
            "image/svg+xml": "<?xml version=\"1.0\" encoding=\"utf-8\" standalone=\"no\"?>\r\n<!DOCTYPE svg PUBLIC \"-//W3C//DTD SVG 1.1//EN\"\r\n  \"http://www.w3.org/Graphics/SVG/1.1/DTD/svg11.dtd\">\r\n<svg height=\"372.35625pt\" version=\"1.1\" viewBox=\"0 0 483.703125 372.35625\" width=\"483.703125pt\" xmlns=\"http://www.w3.org/2000/svg\" xmlns:xlink=\"http://www.w3.org/1999/xlink\">\r\n <metadata>\r\n  <rdf:RDF xmlns:cc=\"http://creativecommons.org/ns#\" xmlns:dc=\"http://purl.org/dc/elements/1.1/\" xmlns:rdf=\"http://www.w3.org/1999/02/22-rdf-syntax-ns#\">\r\n   <cc:Work>\r\n    <dc:type rdf:resource=\"http://purl.org/dc/dcmitype/StillImage\"/>\r\n    <dc:date>2021-06-08T18:46:43.946506</dc:date>\r\n    <dc:format>image/svg+xml</dc:format>\r\n    <dc:creator>\r\n     <cc:Agent>\r\n      <dc:title>Matplotlib v3.4.2, https://matplotlib.org/</dc:title>\r\n     </cc:Agent>\r\n    </dc:creator>\r\n   </cc:Work>\r\n  </rdf:RDF>\r\n </metadata>\r\n <defs>\r\n  <style type=\"text/css\">*{stroke-linecap:butt;stroke-linejoin:round;}</style>\r\n </defs>\r\n <g id=\"figure_1\">\r\n  <g id=\"patch_1\">\r\n   <path d=\"M 0 372.35625 \r\nL 483.703125 372.35625 \r\nL 483.703125 0 \r\nL 0 0 \r\nz\r\n\" style=\"fill:none;\"/>\r\n  </g>\r\n  <g id=\"axes_1\">\r\n   <g id=\"patch_2\">\r\n    <path d=\"M 30.103125 348.478125 \r\nL 476.503125 348.478125 \r\nL 476.503125 22.318125 \r\nL 30.103125 22.318125 \r\nz\r\n\" style=\"fill:#ffffff;\"/>\r\n   </g>\r\n   <g id=\"matplotlib.axis_1\">\r\n    <g id=\"xtick_1\">\r\n     <g id=\"line2d_1\">\r\n      <defs>\r\n       <path d=\"M 0 0 \r\nL 0 3.5 \r\n\" id=\"md2f036fc63\" style=\"stroke:#000000;stroke-width:0.8;\"/>\r\n      </defs>\r\n      <g>\r\n       <use style=\"stroke:#000000;stroke-width:0.8;\" x=\"50.394034\" xlink:href=\"#md2f036fc63\" y=\"348.478125\"/>\r\n      </g>\r\n     </g>\r\n     <g id=\"text_1\">\r\n      <!-- 0 -->\r\n      <g transform=\"translate(47.212784 363.076563)scale(0.1 -0.1)\">\r\n       <defs>\r\n        <path d=\"M 2034 4250 \r\nQ 1547 4250 1301 3770 \r\nQ 1056 3291 1056 2328 \r\nQ 1056 1369 1301 889 \r\nQ 1547 409 2034 409 \r\nQ 2525 409 2770 889 \r\nQ 3016 1369 3016 2328 \r\nQ 3016 3291 2770 3770 \r\nQ 2525 4250 2034 4250 \r\nz\r\nM 2034 4750 \r\nQ 2819 4750 3233 4129 \r\nQ 3647 3509 3647 2328 \r\nQ 3647 1150 3233 529 \r\nQ 2819 -91 2034 -91 \r\nQ 1250 -91 836 529 \r\nQ 422 1150 422 2328 \r\nQ 422 3509 836 4129 \r\nQ 1250 4750 2034 4750 \r\nz\r\n\" id=\"DejaVuSans-30\" transform=\"scale(0.015625)\"/>\r\n       </defs>\r\n       <use xlink:href=\"#DejaVuSans-30\"/>\r\n      </g>\r\n     </g>\r\n    </g>\r\n    <g id=\"xtick_2\">\r\n     <g id=\"line2d_2\">\r\n      <g>\r\n       <use style=\"stroke:#000000;stroke-width:0.8;\" x=\"122.861567\" xlink:href=\"#md2f036fc63\" y=\"348.478125\"/>\r\n      </g>\r\n     </g>\r\n     <g id=\"text_2\">\r\n      <!-- 5 -->\r\n      <g transform=\"translate(119.680317 363.076563)scale(0.1 -0.1)\">\r\n       <defs>\r\n        <path d=\"M 691 4666 \r\nL 3169 4666 \r\nL 3169 4134 \r\nL 1269 4134 \r\nL 1269 2991 \r\nQ 1406 3038 1543 3061 \r\nQ 1681 3084 1819 3084 \r\nQ 2600 3084 3056 2656 \r\nQ 3513 2228 3513 1497 \r\nQ 3513 744 3044 326 \r\nQ 2575 -91 1722 -91 \r\nQ 1428 -91 1123 -41 \r\nQ 819 9 494 109 \r\nL 494 744 \r\nQ 775 591 1075 516 \r\nQ 1375 441 1709 441 \r\nQ 2250 441 2565 725 \r\nQ 2881 1009 2881 1497 \r\nQ 2881 1984 2565 2268 \r\nQ 2250 2553 1709 2553 \r\nQ 1456 2553 1204 2497 \r\nQ 953 2441 691 2322 \r\nL 691 4666 \r\nz\r\n\" id=\"DejaVuSans-35\" transform=\"scale(0.015625)\"/>\r\n       </defs>\r\n       <use xlink:href=\"#DejaVuSans-35\"/>\r\n      </g>\r\n     </g>\r\n    </g>\r\n    <g id=\"xtick_3\">\r\n     <g id=\"line2d_3\">\r\n      <g>\r\n       <use style=\"stroke:#000000;stroke-width:0.8;\" x=\"195.329099\" xlink:href=\"#md2f036fc63\" y=\"348.478125\"/>\r\n      </g>\r\n     </g>\r\n     <g id=\"text_3\">\r\n      <!-- 10 -->\r\n      <g transform=\"translate(188.966599 363.076563)scale(0.1 -0.1)\">\r\n       <defs>\r\n        <path d=\"M 794 531 \r\nL 1825 531 \r\nL 1825 4091 \r\nL 703 3866 \r\nL 703 4441 \r\nL 1819 4666 \r\nL 2450 4666 \r\nL 2450 531 \r\nL 3481 531 \r\nL 3481 0 \r\nL 794 0 \r\nL 794 531 \r\nz\r\n\" id=\"DejaVuSans-31\" transform=\"scale(0.015625)\"/>\r\n       </defs>\r\n       <use xlink:href=\"#DejaVuSans-31\"/>\r\n       <use x=\"63.623047\" xlink:href=\"#DejaVuSans-30\"/>\r\n      </g>\r\n     </g>\r\n    </g>\r\n    <g id=\"xtick_4\">\r\n     <g id=\"line2d_4\">\r\n      <g>\r\n       <use style=\"stroke:#000000;stroke-width:0.8;\" x=\"267.796631\" xlink:href=\"#md2f036fc63\" y=\"348.478125\"/>\r\n      </g>\r\n     </g>\r\n     <g id=\"text_4\">\r\n      <!-- 15 -->\r\n      <g transform=\"translate(261.434131 363.076563)scale(0.1 -0.1)\">\r\n       <use xlink:href=\"#DejaVuSans-31\"/>\r\n       <use x=\"63.623047\" xlink:href=\"#DejaVuSans-35\"/>\r\n      </g>\r\n     </g>\r\n    </g>\r\n    <g id=\"xtick_5\">\r\n     <g id=\"line2d_5\">\r\n      <g>\r\n       <use style=\"stroke:#000000;stroke-width:0.8;\" x=\"340.264164\" xlink:href=\"#md2f036fc63\" y=\"348.478125\"/>\r\n      </g>\r\n     </g>\r\n     <g id=\"text_5\">\r\n      <!-- 20 -->\r\n      <g transform=\"translate(333.901664 363.076563)scale(0.1 -0.1)\">\r\n       <defs>\r\n        <path d=\"M 1228 531 \r\nL 3431 531 \r\nL 3431 0 \r\nL 469 0 \r\nL 469 531 \r\nQ 828 903 1448 1529 \r\nQ 2069 2156 2228 2338 \r\nQ 2531 2678 2651 2914 \r\nQ 2772 3150 2772 3378 \r\nQ 2772 3750 2511 3984 \r\nQ 2250 4219 1831 4219 \r\nQ 1534 4219 1204 4116 \r\nQ 875 4013 500 3803 \r\nL 500 4441 \r\nQ 881 4594 1212 4672 \r\nQ 1544 4750 1819 4750 \r\nQ 2544 4750 2975 4387 \r\nQ 3406 4025 3406 3419 \r\nQ 3406 3131 3298 2873 \r\nQ 3191 2616 2906 2266 \r\nQ 2828 2175 2409 1742 \r\nQ 1991 1309 1228 531 \r\nz\r\n\" id=\"DejaVuSans-32\" transform=\"scale(0.015625)\"/>\r\n       </defs>\r\n       <use xlink:href=\"#DejaVuSans-32\"/>\r\n       <use x=\"63.623047\" xlink:href=\"#DejaVuSans-30\"/>\r\n      </g>\r\n     </g>\r\n    </g>\r\n    <g id=\"xtick_6\">\r\n     <g id=\"line2d_6\">\r\n      <g>\r\n       <use style=\"stroke:#000000;stroke-width:0.8;\" x=\"412.731696\" xlink:href=\"#md2f036fc63\" y=\"348.478125\"/>\r\n      </g>\r\n     </g>\r\n     <g id=\"text_6\">\r\n      <!-- 25 -->\r\n      <g transform=\"translate(406.369196 363.076563)scale(0.1 -0.1)\">\r\n       <use xlink:href=\"#DejaVuSans-32\"/>\r\n       <use x=\"63.623047\" xlink:href=\"#DejaVuSans-35\"/>\r\n      </g>\r\n     </g>\r\n    </g>\r\n   </g>\r\n   <g id=\"matplotlib.axis_2\">\r\n    <g id=\"ytick_1\">\r\n     <g id=\"line2d_7\">\r\n      <defs>\r\n       <path d=\"M 0 0 \r\nL -3.5 0 \r\n\" id=\"mecb3016a97\" style=\"stroke:#000000;stroke-width:0.8;\"/>\r\n      </defs>\r\n      <g>\r\n       <use style=\"stroke:#000000;stroke-width:0.8;\" x=\"30.103125\" xlink:href=\"#mecb3016a97\" y=\"338.498495\"/>\r\n      </g>\r\n     </g>\r\n     <g id=\"text_7\">\r\n      <!-- 0.0 -->\r\n      <g transform=\"translate(7.2 342.297714)scale(0.1 -0.1)\">\r\n       <defs>\r\n        <path d=\"M 684 794 \r\nL 1344 794 \r\nL 1344 0 \r\nL 684 0 \r\nL 684 794 \r\nz\r\n\" id=\"DejaVuSans-2e\" transform=\"scale(0.015625)\"/>\r\n       </defs>\r\n       <use xlink:href=\"#DejaVuSans-30\"/>\r\n       <use x=\"63.623047\" xlink:href=\"#DejaVuSans-2e\"/>\r\n       <use x=\"95.410156\" xlink:href=\"#DejaVuSans-30\"/>\r\n      </g>\r\n     </g>\r\n    </g>\r\n    <g id=\"ytick_2\">\r\n     <g id=\"line2d_8\">\r\n      <g>\r\n       <use style=\"stroke:#000000;stroke-width:0.8;\" x=\"30.103125\" xlink:href=\"#mecb3016a97\" y=\"296.057105\"/>\r\n      </g>\r\n     </g>\r\n     <g id=\"text_8\">\r\n      <!-- 0.5 -->\r\n      <g transform=\"translate(7.2 299.856323)scale(0.1 -0.1)\">\r\n       <use xlink:href=\"#DejaVuSans-30\"/>\r\n       <use x=\"63.623047\" xlink:href=\"#DejaVuSans-2e\"/>\r\n       <use x=\"95.410156\" xlink:href=\"#DejaVuSans-35\"/>\r\n      </g>\r\n     </g>\r\n    </g>\r\n    <g id=\"ytick_3\">\r\n     <g id=\"line2d_9\">\r\n      <g>\r\n       <use style=\"stroke:#000000;stroke-width:0.8;\" x=\"30.103125\" xlink:href=\"#mecb3016a97\" y=\"253.615714\"/>\r\n      </g>\r\n     </g>\r\n     <g id=\"text_9\">\r\n      <!-- 1.0 -->\r\n      <g transform=\"translate(7.2 257.414933)scale(0.1 -0.1)\">\r\n       <use xlink:href=\"#DejaVuSans-31\"/>\r\n       <use x=\"63.623047\" xlink:href=\"#DejaVuSans-2e\"/>\r\n       <use x=\"95.410156\" xlink:href=\"#DejaVuSans-30\"/>\r\n      </g>\r\n     </g>\r\n    </g>\r\n    <g id=\"ytick_4\">\r\n     <g id=\"line2d_10\">\r\n      <g>\r\n       <use style=\"stroke:#000000;stroke-width:0.8;\" x=\"30.103125\" xlink:href=\"#mecb3016a97\" y=\"211.174324\"/>\r\n      </g>\r\n     </g>\r\n     <g id=\"text_10\">\r\n      <!-- 1.5 -->\r\n      <g transform=\"translate(7.2 214.973542)scale(0.1 -0.1)\">\r\n       <use xlink:href=\"#DejaVuSans-31\"/>\r\n       <use x=\"63.623047\" xlink:href=\"#DejaVuSans-2e\"/>\r\n       <use x=\"95.410156\" xlink:href=\"#DejaVuSans-35\"/>\r\n      </g>\r\n     </g>\r\n    </g>\r\n    <g id=\"ytick_5\">\r\n     <g id=\"line2d_11\">\r\n      <g>\r\n       <use style=\"stroke:#000000;stroke-width:0.8;\" x=\"30.103125\" xlink:href=\"#mecb3016a97\" y=\"168.732933\"/>\r\n      </g>\r\n     </g>\r\n     <g id=\"text_11\">\r\n      <!-- 2.0 -->\r\n      <g transform=\"translate(7.2 172.532152)scale(0.1 -0.1)\">\r\n       <use xlink:href=\"#DejaVuSans-32\"/>\r\n       <use x=\"63.623047\" xlink:href=\"#DejaVuSans-2e\"/>\r\n       <use x=\"95.410156\" xlink:href=\"#DejaVuSans-30\"/>\r\n      </g>\r\n     </g>\r\n    </g>\r\n    <g id=\"ytick_6\">\r\n     <g id=\"line2d_12\">\r\n      <g>\r\n       <use style=\"stroke:#000000;stroke-width:0.8;\" x=\"30.103125\" xlink:href=\"#mecb3016a97\" y=\"126.291543\"/>\r\n      </g>\r\n     </g>\r\n     <g id=\"text_12\">\r\n      <!-- 2.5 -->\r\n      <g transform=\"translate(7.2 130.090761)scale(0.1 -0.1)\">\r\n       <use xlink:href=\"#DejaVuSans-32\"/>\r\n       <use x=\"63.623047\" xlink:href=\"#DejaVuSans-2e\"/>\r\n       <use x=\"95.410156\" xlink:href=\"#DejaVuSans-35\"/>\r\n      </g>\r\n     </g>\r\n    </g>\r\n    <g id=\"ytick_7\">\r\n     <g id=\"line2d_13\">\r\n      <g>\r\n       <use style=\"stroke:#000000;stroke-width:0.8;\" x=\"30.103125\" xlink:href=\"#mecb3016a97\" y=\"83.850152\"/>\r\n      </g>\r\n     </g>\r\n     <g id=\"text_13\">\r\n      <!-- 3.0 -->\r\n      <g transform=\"translate(7.2 87.649371)scale(0.1 -0.1)\">\r\n       <defs>\r\n        <path d=\"M 2597 2516 \r\nQ 3050 2419 3304 2112 \r\nQ 3559 1806 3559 1356 \r\nQ 3559 666 3084 287 \r\nQ 2609 -91 1734 -91 \r\nQ 1441 -91 1130 -33 \r\nQ 819 25 488 141 \r\nL 488 750 \r\nQ 750 597 1062 519 \r\nQ 1375 441 1716 441 \r\nQ 2309 441 2620 675 \r\nQ 2931 909 2931 1356 \r\nQ 2931 1769 2642 2001 \r\nQ 2353 2234 1838 2234 \r\nL 1294 2234 \r\nL 1294 2753 \r\nL 1863 2753 \r\nQ 2328 2753 2575 2939 \r\nQ 2822 3125 2822 3475 \r\nQ 2822 3834 2567 4026 \r\nQ 2313 4219 1838 4219 \r\nQ 1578 4219 1281 4162 \r\nQ 984 4106 628 3988 \r\nL 628 4550 \r\nQ 988 4650 1302 4700 \r\nQ 1616 4750 1894 4750 \r\nQ 2613 4750 3031 4423 \r\nQ 3450 4097 3450 3541 \r\nQ 3450 3153 3228 2886 \r\nQ 3006 2619 2597 2516 \r\nz\r\n\" id=\"DejaVuSans-33\" transform=\"scale(0.015625)\"/>\r\n       </defs>\r\n       <use xlink:href=\"#DejaVuSans-33\"/>\r\n       <use x=\"63.623047\" xlink:href=\"#DejaVuSans-2e\"/>\r\n       <use x=\"95.410156\" xlink:href=\"#DejaVuSans-30\"/>\r\n      </g>\r\n     </g>\r\n    </g>\r\n    <g id=\"ytick_8\">\r\n     <g id=\"line2d_14\">\r\n      <g>\r\n       <use style=\"stroke:#000000;stroke-width:0.8;\" x=\"30.103125\" xlink:href=\"#mecb3016a97\" y=\"41.408762\"/>\r\n      </g>\r\n     </g>\r\n     <g id=\"text_14\">\r\n      <!-- 3.5 -->\r\n      <g transform=\"translate(7.2 45.20798)scale(0.1 -0.1)\">\r\n       <use xlink:href=\"#DejaVuSans-33\"/>\r\n       <use x=\"63.623047\" xlink:href=\"#DejaVuSans-2e\"/>\r\n       <use x=\"95.410156\" xlink:href=\"#DejaVuSans-35\"/>\r\n      </g>\r\n     </g>\r\n    </g>\r\n   </g>\r\n   <g id=\"line2d_15\">\r\n    <path clip-path=\"url(#p710b39db49)\" d=\"M 50.394034 276.071487 \r\nL 64.887541 292.2601 \r\nL 79.381047 290.765875 \r\nL 93.874554 310.842114 \r\nL 108.36806 312.693999 \r\nL 122.861567 295.544435 \r\nL 137.355073 314.15654 \r\nL 151.84858 310.225102 \r\nL 166.342086 322.049822 \r\nL 180.835593 320.516333 \r\nL 195.329099 328.262846 \r\nL 209.822606 329.819864 \r\nL 224.316112 330.942552 \r\nL 238.809619 321.762143 \r\nL 253.303125 314.893258 \r\nL 267.796631 322.748801 \r\nL 282.290138 325.672172 \r\nL 296.783644 331.27718 \r\nL 311.277151 327.582652 \r\nL 325.770657 328.880503 \r\nL 340.264164 325.949221 \r\nL 354.75767 332.286173 \r\nL 369.251177 330.420744 \r\nL 383.744683 333.65267 \r\nL 398.23819 319.703854 \r\nL 412.731696 320.813361 \r\nL 427.225203 328.300505 \r\nL 441.718709 325.757165 \r\nL 456.212216 323.263877 \r\n\" style=\"fill:none;stroke:#0000ff;stroke-linecap:square;stroke-width:1.5;\"/>\r\n   </g>\r\n   <g id=\"line2d_16\">\r\n    <path clip-path=\"url(#p710b39db49)\" d=\"M 50.394034 235.712706 \r\nL 64.887541 94.283077 \r\nL 79.381047 302.019427 \r\nL 93.874554 311.481884 \r\nL 108.36806 37.14358 \r\nL 122.861567 232.944592 \r\nL 137.355073 302.502178 \r\nL 151.84858 181.672531 \r\nL 166.342086 287.059413 \r\nL 180.835593 260.182775 \r\nL 195.329099 266.556435 \r\nL 209.822606 300.68262 \r\nL 224.316112 49.719264 \r\nL 238.809619 257.085259 \r\nL 253.303125 307.707758 \r\nL 267.796631 295.896873 \r\nL 282.290138 307.07473 \r\nL 296.783644 299.807054 \r\nL 311.277151 297.431308 \r\nL 325.770657 300.312952 \r\nL 340.264164 307.304854 \r\nL 354.75767 297.721445 \r\nL 369.251177 287.920089 \r\nL 383.744683 284.651494 \r\nL 398.23819 231.52045 \r\nL 412.731696 285.532929 \r\nL 427.225203 278.765116 \r\nL 441.718709 270.062241 \r\nL 456.212216 108.235062 \r\n\" style=\"fill:none;stroke:#ff0000;stroke-linecap:square;stroke-width:1.5;\"/>\r\n   </g>\r\n   <g id=\"patch_3\">\r\n    <path d=\"M 30.103125 348.478125 \r\nL 30.103125 22.318125 \r\n\" style=\"fill:none;stroke:#000000;stroke-linecap:square;stroke-linejoin:miter;stroke-width:0.8;\"/>\r\n   </g>\r\n   <g id=\"patch_4\">\r\n    <path d=\"M 476.503125 348.478125 \r\nL 476.503125 22.318125 \r\n\" style=\"fill:none;stroke:#000000;stroke-linecap:square;stroke-linejoin:miter;stroke-width:0.8;\"/>\r\n   </g>\r\n   <g id=\"patch_5\">\r\n    <path d=\"M 30.103125 348.478125 \r\nL 476.503125 348.478125 \r\n\" style=\"fill:none;stroke:#000000;stroke-linecap:square;stroke-linejoin:miter;stroke-width:0.8;\"/>\r\n   </g>\r\n   <g id=\"patch_6\">\r\n    <path d=\"M 30.103125 22.318125 \r\nL 476.503125 22.318125 \r\n\" style=\"fill:none;stroke:#000000;stroke-linecap:square;stroke-linejoin:miter;stroke-width:0.8;\"/>\r\n   </g>\r\n   <g id=\"text_15\">\r\n    <!-- Training and validation loss -->\r\n    <g transform=\"translate(171.493125 16.318125)scale(0.12 -0.12)\">\r\n     <defs>\r\n      <path d=\"M -19 4666 \r\nL 3928 4666 \r\nL 3928 4134 \r\nL 2272 4134 \r\nL 2272 0 \r\nL 1638 0 \r\nL 1638 4134 \r\nL -19 4134 \r\nL -19 4666 \r\nz\r\n\" id=\"DejaVuSans-54\" transform=\"scale(0.015625)\"/>\r\n      <path d=\"M 2631 2963 \r\nQ 2534 3019 2420 3045 \r\nQ 2306 3072 2169 3072 \r\nQ 1681 3072 1420 2755 \r\nQ 1159 2438 1159 1844 \r\nL 1159 0 \r\nL 581 0 \r\nL 581 3500 \r\nL 1159 3500 \r\nL 1159 2956 \r\nQ 1341 3275 1631 3429 \r\nQ 1922 3584 2338 3584 \r\nQ 2397 3584 2469 3576 \r\nQ 2541 3569 2628 3553 \r\nL 2631 2963 \r\nz\r\n\" id=\"DejaVuSans-72\" transform=\"scale(0.015625)\"/>\r\n      <path d=\"M 2194 1759 \r\nQ 1497 1759 1228 1600 \r\nQ 959 1441 959 1056 \r\nQ 959 750 1161 570 \r\nQ 1363 391 1709 391 \r\nQ 2188 391 2477 730 \r\nQ 2766 1069 2766 1631 \r\nL 2766 1759 \r\nL 2194 1759 \r\nz\r\nM 3341 1997 \r\nL 3341 0 \r\nL 2766 0 \r\nL 2766 531 \r\nQ 2569 213 2275 61 \r\nQ 1981 -91 1556 -91 \r\nQ 1019 -91 701 211 \r\nQ 384 513 384 1019 \r\nQ 384 1609 779 1909 \r\nQ 1175 2209 1959 2209 \r\nL 2766 2209 \r\nL 2766 2266 \r\nQ 2766 2663 2505 2880 \r\nQ 2244 3097 1772 3097 \r\nQ 1472 3097 1187 3025 \r\nQ 903 2953 641 2809 \r\nL 641 3341 \r\nQ 956 3463 1253 3523 \r\nQ 1550 3584 1831 3584 \r\nQ 2591 3584 2966 3190 \r\nQ 3341 2797 3341 1997 \r\nz\r\n\" id=\"DejaVuSans-61\" transform=\"scale(0.015625)\"/>\r\n      <path d=\"M 603 3500 \r\nL 1178 3500 \r\nL 1178 0 \r\nL 603 0 \r\nL 603 3500 \r\nz\r\nM 603 4863 \r\nL 1178 4863 \r\nL 1178 4134 \r\nL 603 4134 \r\nL 603 4863 \r\nz\r\n\" id=\"DejaVuSans-69\" transform=\"scale(0.015625)\"/>\r\n      <path d=\"M 3513 2113 \r\nL 3513 0 \r\nL 2938 0 \r\nL 2938 2094 \r\nQ 2938 2591 2744 2837 \r\nQ 2550 3084 2163 3084 \r\nQ 1697 3084 1428 2787 \r\nQ 1159 2491 1159 1978 \r\nL 1159 0 \r\nL 581 0 \r\nL 581 3500 \r\nL 1159 3500 \r\nL 1159 2956 \r\nQ 1366 3272 1645 3428 \r\nQ 1925 3584 2291 3584 \r\nQ 2894 3584 3203 3211 \r\nQ 3513 2838 3513 2113 \r\nz\r\n\" id=\"DejaVuSans-6e\" transform=\"scale(0.015625)\"/>\r\n      <path d=\"M 2906 1791 \r\nQ 2906 2416 2648 2759 \r\nQ 2391 3103 1925 3103 \r\nQ 1463 3103 1205 2759 \r\nQ 947 2416 947 1791 \r\nQ 947 1169 1205 825 \r\nQ 1463 481 1925 481 \r\nQ 2391 481 2648 825 \r\nQ 2906 1169 2906 1791 \r\nz\r\nM 3481 434 \r\nQ 3481 -459 3084 -895 \r\nQ 2688 -1331 1869 -1331 \r\nQ 1566 -1331 1297 -1286 \r\nQ 1028 -1241 775 -1147 \r\nL 775 -588 \r\nQ 1028 -725 1275 -790 \r\nQ 1522 -856 1778 -856 \r\nQ 2344 -856 2625 -561 \r\nQ 2906 -266 2906 331 \r\nL 2906 616 \r\nQ 2728 306 2450 153 \r\nQ 2172 0 1784 0 \r\nQ 1141 0 747 490 \r\nQ 353 981 353 1791 \r\nQ 353 2603 747 3093 \r\nQ 1141 3584 1784 3584 \r\nQ 2172 3584 2450 3431 \r\nQ 2728 3278 2906 2969 \r\nL 2906 3500 \r\nL 3481 3500 \r\nL 3481 434 \r\nz\r\n\" id=\"DejaVuSans-67\" transform=\"scale(0.015625)\"/>\r\n      <path id=\"DejaVuSans-20\" transform=\"scale(0.015625)\"/>\r\n      <path d=\"M 2906 2969 \r\nL 2906 4863 \r\nL 3481 4863 \r\nL 3481 0 \r\nL 2906 0 \r\nL 2906 525 \r\nQ 2725 213 2448 61 \r\nQ 2172 -91 1784 -91 \r\nQ 1150 -91 751 415 \r\nQ 353 922 353 1747 \r\nQ 353 2572 751 3078 \r\nQ 1150 3584 1784 3584 \r\nQ 2172 3584 2448 3432 \r\nQ 2725 3281 2906 2969 \r\nz\r\nM 947 1747 \r\nQ 947 1113 1208 752 \r\nQ 1469 391 1925 391 \r\nQ 2381 391 2643 752 \r\nQ 2906 1113 2906 1747 \r\nQ 2906 2381 2643 2742 \r\nQ 2381 3103 1925 3103 \r\nQ 1469 3103 1208 2742 \r\nQ 947 2381 947 1747 \r\nz\r\n\" id=\"DejaVuSans-64\" transform=\"scale(0.015625)\"/>\r\n      <path d=\"M 191 3500 \r\nL 800 3500 \r\nL 1894 563 \r\nL 2988 3500 \r\nL 3597 3500 \r\nL 2284 0 \r\nL 1503 0 \r\nL 191 3500 \r\nz\r\n\" id=\"DejaVuSans-76\" transform=\"scale(0.015625)\"/>\r\n      <path d=\"M 603 4863 \r\nL 1178 4863 \r\nL 1178 0 \r\nL 603 0 \r\nL 603 4863 \r\nz\r\n\" id=\"DejaVuSans-6c\" transform=\"scale(0.015625)\"/>\r\n      <path d=\"M 1172 4494 \r\nL 1172 3500 \r\nL 2356 3500 \r\nL 2356 3053 \r\nL 1172 3053 \r\nL 1172 1153 \r\nQ 1172 725 1289 603 \r\nQ 1406 481 1766 481 \r\nL 2356 481 \r\nL 2356 0 \r\nL 1766 0 \r\nQ 1100 0 847 248 \r\nQ 594 497 594 1153 \r\nL 594 3053 \r\nL 172 3053 \r\nL 172 3500 \r\nL 594 3500 \r\nL 594 4494 \r\nL 1172 4494 \r\nz\r\n\" id=\"DejaVuSans-74\" transform=\"scale(0.015625)\"/>\r\n      <path d=\"M 1959 3097 \r\nQ 1497 3097 1228 2736 \r\nQ 959 2375 959 1747 \r\nQ 959 1119 1226 758 \r\nQ 1494 397 1959 397 \r\nQ 2419 397 2687 759 \r\nQ 2956 1122 2956 1747 \r\nQ 2956 2369 2687 2733 \r\nQ 2419 3097 1959 3097 \r\nz\r\nM 1959 3584 \r\nQ 2709 3584 3137 3096 \r\nQ 3566 2609 3566 1747 \r\nQ 3566 888 3137 398 \r\nQ 2709 -91 1959 -91 \r\nQ 1206 -91 779 398 \r\nQ 353 888 353 1747 \r\nQ 353 2609 779 3096 \r\nQ 1206 3584 1959 3584 \r\nz\r\n\" id=\"DejaVuSans-6f\" transform=\"scale(0.015625)\"/>\r\n      <path d=\"M 2834 3397 \r\nL 2834 2853 \r\nQ 2591 2978 2328 3040 \r\nQ 2066 3103 1784 3103 \r\nQ 1356 3103 1142 2972 \r\nQ 928 2841 928 2578 \r\nQ 928 2378 1081 2264 \r\nQ 1234 2150 1697 2047 \r\nL 1894 2003 \r\nQ 2506 1872 2764 1633 \r\nQ 3022 1394 3022 966 \r\nQ 3022 478 2636 193 \r\nQ 2250 -91 1575 -91 \r\nQ 1294 -91 989 -36 \r\nQ 684 19 347 128 \r\nL 347 722 \r\nQ 666 556 975 473 \r\nQ 1284 391 1588 391 \r\nQ 1994 391 2212 530 \r\nQ 2431 669 2431 922 \r\nQ 2431 1156 2273 1281 \r\nQ 2116 1406 1581 1522 \r\nL 1381 1569 \r\nQ 847 1681 609 1914 \r\nQ 372 2147 372 2553 \r\nQ 372 3047 722 3315 \r\nQ 1072 3584 1716 3584 \r\nQ 2034 3584 2315 3537 \r\nQ 2597 3491 2834 3397 \r\nz\r\n\" id=\"DejaVuSans-73\" transform=\"scale(0.015625)\"/>\r\n     </defs>\r\n     <use xlink:href=\"#DejaVuSans-54\"/>\r\n     <use x=\"46.333984\" xlink:href=\"#DejaVuSans-72\"/>\r\n     <use x=\"87.447266\" xlink:href=\"#DejaVuSans-61\"/>\r\n     <use x=\"148.726562\" xlink:href=\"#DejaVuSans-69\"/>\r\n     <use x=\"176.509766\" xlink:href=\"#DejaVuSans-6e\"/>\r\n     <use x=\"239.888672\" xlink:href=\"#DejaVuSans-69\"/>\r\n     <use x=\"267.671875\" xlink:href=\"#DejaVuSans-6e\"/>\r\n     <use x=\"331.050781\" xlink:href=\"#DejaVuSans-67\"/>\r\n     <use x=\"394.527344\" xlink:href=\"#DejaVuSans-20\"/>\r\n     <use x=\"426.314453\" xlink:href=\"#DejaVuSans-61\"/>\r\n     <use x=\"487.59375\" xlink:href=\"#DejaVuSans-6e\"/>\r\n     <use x=\"550.972656\" xlink:href=\"#DejaVuSans-64\"/>\r\n     <use x=\"614.449219\" xlink:href=\"#DejaVuSans-20\"/>\r\n     <use x=\"646.236328\" xlink:href=\"#DejaVuSans-76\"/>\r\n     <use x=\"705.416016\" xlink:href=\"#DejaVuSans-61\"/>\r\n     <use x=\"766.695312\" xlink:href=\"#DejaVuSans-6c\"/>\r\n     <use x=\"794.478516\" xlink:href=\"#DejaVuSans-69\"/>\r\n     <use x=\"822.261719\" xlink:href=\"#DejaVuSans-64\"/>\r\n     <use x=\"885.738281\" xlink:href=\"#DejaVuSans-61\"/>\r\n     <use x=\"947.017578\" xlink:href=\"#DejaVuSans-74\"/>\r\n     <use x=\"986.226562\" xlink:href=\"#DejaVuSans-69\"/>\r\n     <use x=\"1014.009766\" xlink:href=\"#DejaVuSans-6f\"/>\r\n     <use x=\"1075.191406\" xlink:href=\"#DejaVuSans-6e\"/>\r\n     <use x=\"1138.570312\" xlink:href=\"#DejaVuSans-20\"/>\r\n     <use x=\"1170.357422\" xlink:href=\"#DejaVuSans-6c\"/>\r\n     <use x=\"1198.140625\" xlink:href=\"#DejaVuSans-6f\"/>\r\n     <use x=\"1259.322266\" xlink:href=\"#DejaVuSans-73\"/>\r\n     <use x=\"1311.421875\" xlink:href=\"#DejaVuSans-73\"/>\r\n    </g>\r\n   </g>\r\n  </g>\r\n </g>\r\n <defs>\r\n  <clipPath id=\"p710b39db49\">\r\n   <rect height=\"326.16\" width=\"446.4\" x=\"30.103125\" y=\"22.318125\"/>\r\n  </clipPath>\r\n </defs>\r\n</svg>\r\n",
            "image/png": "[encoded data removed]"
          },
          "metadata": {
            "needs_background": "light"
          }
        }
      ]
    },
    {
      "cell_type": "markdown",
      "metadata": {
        "id": "_FfH1UYcv_xP"
      },
      "source": [
        "We want to take a look at how far away the model predictions were from the real score values. We can do this using a scatterplot.\n",
        "\n",
        "We can see that in most cases, the predictions are within the same scoring range, but sometimes quite far away."
      ]
    },
    {
      "cell_type": "code",
      "metadata": {
        "colab": {
          "base_uri": "https://localhost:8080/",
          "height": 506
        },
        "id": "oc6Z5E5PwBo7",
        "outputId": "ffe02a1b-57d5-4eb6-cccf-c9eb24a56314"
      },
      "source": [
        "import seaborn\n",
        "\n",
        "# Plot test prediction\n",
        "predictions = model.predict(X_test,verbose=1)\n",
        "predictions = predictions * target_std + target_mean\n",
        "actual = y_test * target_std + target_mean\n",
        "w = 10\n",
        "h = 8\n",
        "d = 70\n",
        "plt.figure(figsize=(w, h), dpi=d)\n",
        "a = model.predict(X_test,verbose=1).reshape(-1) * target_std + target_mean\n",
        "b = y_test* target_std + target_mean\n",
        "y1=y_test.reshape(len(predictions))\n",
        "y2=predictions.reshape(len(predictions))\n",
        "x = np.arange(len(y_test))\n",
        "seaborn.scatterplot(x, a)\n",
        "seaborn.scatterplot(x, b)\n",
        "plt.legend([\"predictions\", \"real score\"], loc=\"upper right\")"
      ],
      "execution_count": 19,
      "outputs": [
        {
          "output_type": "stream",
          "name": "stdout",
          "text": [
            "1/1 [==============================] - 0s 340ms/step\n",
            "1/1 [==============================] - 0s 14ms/step\n"
          ]
        },
        {
          "output_type": "execute_result",
          "data": {
            "text/plain": [
              "<matplotlib.legend.Legend at 0x1dac8773c40>"
            ]
          },
          "metadata": {},
          "execution_count": 19
        },
        {
          "output_type": "display_data",
          "data": {
            "text/plain": "<Figure size 700x560 with 1 Axes>",
            "image/svg+xml": "<?xml version=\"1.0\" encoding=\"utf-8\" standalone=\"no\"?>\r\n<!DOCTYPE svg PUBLIC \"-//W3C//DTD SVG 1.1//EN\"\r\n  \"http://www.w3.org/Graphics/SVG/1.1/DTD/svg11.dtd\">\r\n<svg height=\"465.958125pt\" version=\"1.1\" viewBox=\"0 0 585.7625 465.958125\" width=\"585.7625pt\" xmlns=\"http://www.w3.org/2000/svg\" xmlns:xlink=\"http://www.w3.org/1999/xlink\">\r\n <metadata>\r\n  <rdf:RDF xmlns:cc=\"http://creativecommons.org/ns#\" xmlns:dc=\"http://purl.org/dc/elements/1.1/\" xmlns:rdf=\"http://www.w3.org/1999/02/22-rdf-syntax-ns#\">\r\n   <cc:Work>\r\n    <dc:type rdf:resource=\"http://purl.org/dc/dcmitype/StillImage\"/>\r\n    <dc:date>2021-06-08T18:46:44.747533</dc:date>\r\n    <dc:format>image/svg+xml</dc:format>\r\n    <dc:creator>\r\n     <cc:Agent>\r\n      <dc:title>Matplotlib v3.4.2, https://matplotlib.org/</dc:title>\r\n     </cc:Agent>\r\n    </dc:creator>\r\n   </cc:Work>\r\n  </rdf:RDF>\r\n </metadata>\r\n <defs>\r\n  <style type=\"text/css\">*{stroke-linecap:butt;stroke-linejoin:round;}</style>\r\n </defs>\r\n <g id=\"figure_1\">\r\n  <g id=\"patch_1\">\r\n   <path d=\"M 0 465.958125 \r\nL 585.7625 465.958125 \r\nL 585.7625 0 \r\nL 0 0 \r\nz\r\n\" style=\"fill:none;\"/>\r\n  </g>\r\n  <g id=\"axes_1\">\r\n   <g id=\"patch_2\">\r\n    <path d=\"M 20.5625 442.08 \r\nL 578.5625 442.08 \r\nL 578.5625 7.2 \r\nL 20.5625 7.2 \r\nz\r\n\" style=\"fill:#ffffff;\"/>\r\n   </g>\r\n   <g id=\"PathCollection_1\">\r\n    <defs>\r\n     <path d=\"M 0 3 \r\nC 0.795609 3 1.55874 2.683901 2.12132 2.12132 \r\nC 2.683901 1.55874 3 0.795609 3 0 \r\nC 3 -0.795609 2.683901 -1.55874 2.12132 -2.12132 \r\nC 1.55874 -2.683901 0.795609 -3 0 -3 \r\nC -0.795609 -3 -1.55874 -2.683901 -2.12132 -2.12132 \r\nC -2.683901 -1.55874 -3 -0.795609 -3 0 \r\nC -3 0.795609 -2.683901 1.55874 -2.12132 2.12132 \r\nC -1.55874 2.683901 -0.795609 3 0 3 \r\nz\r\n\" id=\"m29c1df923f\" style=\"stroke:#ffffff;stroke-width:0.48;\"/>\r\n    </defs>\r\n    <g clip-path=\"url(#p9bb31f6c6a)\">\r\n     <use style=\"fill:#1f77b4;stroke:#ffffff;stroke-width:0.48;\" x=\"45.926136\" xlink:href=\"#m29c1df923f\" y=\"340.864572\"/>\r\n     <use style=\"fill:#1f77b4;stroke:#ffffff;stroke-width:0.48;\" x=\"79.744318\" xlink:href=\"#m29c1df923f\" y=\"331.183731\"/>\r\n     <use style=\"fill:#1f77b4;stroke:#ffffff;stroke-width:0.48;\" x=\"113.5625\" xlink:href=\"#m29c1df923f\" y=\"341.603025\"/>\r\n     <use style=\"fill:#1f77b4;stroke:#ffffff;stroke-width:0.48;\" x=\"147.380682\" xlink:href=\"#m29c1df923f\" y=\"336.826647\"/>\r\n     <use style=\"fill:#1f77b4;stroke:#ffffff;stroke-width:0.48;\" x=\"181.198864\" xlink:href=\"#m29c1df923f\" y=\"342.356558\"/>\r\n     <use style=\"fill:#1f77b4;stroke:#ffffff;stroke-width:0.48;\" x=\"215.017045\" xlink:href=\"#m29c1df923f\" y=\"145.244853\"/>\r\n     <use style=\"fill:#1f77b4;stroke:#ffffff;stroke-width:0.48;\" x=\"248.835227\" xlink:href=\"#m29c1df923f\" y=\"338.410252\"/>\r\n     <use style=\"fill:#1f77b4;stroke:#ffffff;stroke-width:0.48;\" x=\"282.653409\" xlink:href=\"#m29c1df923f\" y=\"337.892193\"/>\r\n     <use style=\"fill:#1f77b4;stroke:#ffffff;stroke-width:0.48;\" x=\"316.471591\" xlink:href=\"#m29c1df923f\" y=\"343.522281\"/>\r\n     <use style=\"fill:#1f77b4;stroke:#ffffff;stroke-width:0.48;\" x=\"350.289773\" xlink:href=\"#m29c1df923f\" y=\"120.515855\"/>\r\n     <use style=\"fill:#1f77b4;stroke:#ffffff;stroke-width:0.48;\" x=\"384.107955\" xlink:href=\"#m29c1df923f\" y=\"99.757896\"/>\r\n     <use style=\"fill:#1f77b4;stroke:#ffffff;stroke-width:0.48;\" x=\"417.926136\" xlink:href=\"#m29c1df923f\" y=\"110.429376\"/>\r\n     <use style=\"fill:#1f77b4;stroke:#ffffff;stroke-width:0.48;\" x=\"451.744318\" xlink:href=\"#m29c1df923f\" y=\"325.226484\"/>\r\n     <use style=\"fill:#1f77b4;stroke:#ffffff;stroke-width:0.48;\" x=\"485.5625\" xlink:href=\"#m29c1df923f\" y=\"331.651174\"/>\r\n     <use style=\"fill:#1f77b4;stroke:#ffffff;stroke-width:0.48;\" x=\"519.380682\" xlink:href=\"#m29c1df923f\" y=\"343.326168\"/>\r\n     <use style=\"fill:#1f77b4;stroke:#ffffff;stroke-width:0.48;\" x=\"553.198864\" xlink:href=\"#m29c1df923f\" y=\"342.333918\"/>\r\n    </g>\r\n   </g>\r\n   <g id=\"PathCollection_2\">\r\n    <defs>\r\n     <path d=\"M 0 3 \r\nC 0.795609 3 1.55874 2.683901 2.12132 2.12132 \r\nC 2.683901 1.55874 3 0.795609 3 0 \r\nC 3 -0.795609 2.683901 -1.55874 2.12132 -2.12132 \r\nC 1.55874 -2.683901 0.795609 -3 0 -3 \r\nC -0.795609 -3 -1.55874 -2.683901 -2.12132 -2.12132 \r\nC -2.683901 -1.55874 -3 -0.795609 -3 0 \r\nC -3 0.795609 -2.683901 1.55874 -2.12132 2.12132 \r\nC -1.55874 2.683901 -0.795609 3 0 3 \r\nz\r\n\" id=\"mcb7c6b3d8c\" style=\"stroke:#ffffff;stroke-width:0.48;\"/>\r\n    </defs>\r\n    <g clip-path=\"url(#p9bb31f6c6a)\">\r\n     <use style=\"fill:#ff7f0e;stroke:#ffffff;stroke-width:0.48;\" x=\"45.926136\" xlink:href=\"#mcb7c6b3d8c\" y=\"343.288746\"/>\r\n     <use style=\"fill:#ff7f0e;stroke:#ffffff;stroke-width:0.48;\" x=\"79.744318\" xlink:href=\"#mcb7c6b3d8c\" y=\"374.882963\"/>\r\n     <use style=\"fill:#ff7f0e;stroke:#ffffff;stroke-width:0.48;\" x=\"113.5625\" xlink:href=\"#mcb7c6b3d8c\" y=\"327.40517\"/>\r\n     <use style=\"fill:#ff7f0e;stroke:#ffffff;stroke-width:0.48;\" x=\"147.380682\" xlink:href=\"#mcb7c6b3d8c\" y=\"348.472079\"/>\r\n     <use style=\"fill:#ff7f0e;stroke:#ffffff;stroke-width:0.48;\" x=\"181.198864\" xlink:href=\"#mcb7c6b3d8c\" y=\"422.312727\"/>\r\n     <use style=\"fill:#ff7f0e;stroke:#ffffff;stroke-width:0.48;\" x=\"215.017045\" xlink:href=\"#mcb7c6b3d8c\" y=\"26.967273\"/>\r\n     <use style=\"fill:#ff7f0e;stroke:#ffffff;stroke-width:0.48;\" x=\"248.835227\" xlink:href=\"#mcb7c6b3d8c\" y=\"366.913581\"/>\r\n     <use style=\"fill:#ff7f0e;stroke:#ffffff;stroke-width:0.48;\" x=\"282.653409\" xlink:href=\"#mcb7c6b3d8c\" y=\"359.632319\"/>\r\n     <use style=\"fill:#ff7f0e;stroke:#ffffff;stroke-width:0.48;\" x=\"316.471591\" xlink:href=\"#mcb7c6b3d8c\" y=\"387.946269\"/>\r\n     <use style=\"fill:#ff7f0e;stroke:#ffffff;stroke-width:0.48;\" x=\"350.289773\" xlink:href=\"#mcb7c6b3d8c\" y=\"102.42126\"/>\r\n     <use style=\"fill:#ff7f0e;stroke:#ffffff;stroke-width:0.48;\" x=\"384.107955\" xlink:href=\"#mcb7c6b3d8c\" y=\"103.503747\"/>\r\n     <use style=\"fill:#ff7f0e;stroke:#ffffff;stroke-width:0.48;\" x=\"417.926136\" xlink:href=\"#mcb7c6b3d8c\" y=\"178.959725\"/>\r\n     <use style=\"fill:#ff7f0e;stroke:#ffffff;stroke-width:0.48;\" x=\"451.744318\" xlink:href=\"#mcb7c6b3d8c\" y=\"362.70383\"/>\r\n     <use style=\"fill:#ff7f0e;stroke:#ffffff;stroke-width:0.48;\" x=\"485.5625\" xlink:href=\"#mcb7c6b3d8c\" y=\"422.312727\"/>\r\n     <use style=\"fill:#ff7f0e;stroke:#ffffff;stroke-width:0.48;\" x=\"519.380682\" xlink:href=\"#mcb7c6b3d8c\" y=\"383.200243\"/>\r\n     <use style=\"fill:#ff7f0e;stroke:#ffffff;stroke-width:0.48;\" x=\"553.198864\" xlink:href=\"#mcb7c6b3d8c\" y=\"422.312727\"/>\r\n    </g>\r\n   </g>\r\n   <g id=\"matplotlib.axis_1\">\r\n    <g id=\"xtick_1\">\r\n     <g id=\"line2d_1\">\r\n      <defs>\r\n       <path d=\"M 0 0 \r\nL 0 3.5 \r\n\" id=\"m2cb0dc683a\" style=\"stroke:#000000;stroke-width:0.8;\"/>\r\n      </defs>\r\n      <g>\r\n       <use style=\"stroke:#000000;stroke-width:0.8;\" x=\"45.926136\" xlink:href=\"#m2cb0dc683a\" y=\"442.08\"/>\r\n      </g>\r\n     </g>\r\n     <g id=\"text_1\">\r\n      <!-- 0 -->\r\n      <g transform=\"translate(42.744886 456.678437)scale(0.1 -0.1)\">\r\n       <defs>\r\n        <path d=\"M 2034 4250 \r\nQ 1547 4250 1301 3770 \r\nQ 1056 3291 1056 2328 \r\nQ 1056 1369 1301 889 \r\nQ 1547 409 2034 409 \r\nQ 2525 409 2770 889 \r\nQ 3016 1369 3016 2328 \r\nQ 3016 3291 2770 3770 \r\nQ 2525 4250 2034 4250 \r\nz\r\nM 2034 4750 \r\nQ 2819 4750 3233 4129 \r\nQ 3647 3509 3647 2328 \r\nQ 3647 1150 3233 529 \r\nQ 2819 -91 2034 -91 \r\nQ 1250 -91 836 529 \r\nQ 422 1150 422 2328 \r\nQ 422 3509 836 4129 \r\nQ 1250 4750 2034 4750 \r\nz\r\n\" id=\"DejaVuSans-30\" transform=\"scale(0.015625)\"/>\r\n       </defs>\r\n       <use xlink:href=\"#DejaVuSans-30\"/>\r\n      </g>\r\n     </g>\r\n    </g>\r\n    <g id=\"xtick_2\">\r\n     <g id=\"line2d_2\">\r\n      <g>\r\n       <use style=\"stroke:#000000;stroke-width:0.8;\" x=\"113.5625\" xlink:href=\"#m2cb0dc683a\" y=\"442.08\"/>\r\n      </g>\r\n     </g>\r\n     <g id=\"text_2\">\r\n      <!-- 2 -->\r\n      <g transform=\"translate(110.38125 456.678437)scale(0.1 -0.1)\">\r\n       <defs>\r\n        <path d=\"M 1228 531 \r\nL 3431 531 \r\nL 3431 0 \r\nL 469 0 \r\nL 469 531 \r\nQ 828 903 1448 1529 \r\nQ 2069 2156 2228 2338 \r\nQ 2531 2678 2651 2914 \r\nQ 2772 3150 2772 3378 \r\nQ 2772 3750 2511 3984 \r\nQ 2250 4219 1831 4219 \r\nQ 1534 4219 1204 4116 \r\nQ 875 4013 500 3803 \r\nL 500 4441 \r\nQ 881 4594 1212 4672 \r\nQ 1544 4750 1819 4750 \r\nQ 2544 4750 2975 4387 \r\nQ 3406 4025 3406 3419 \r\nQ 3406 3131 3298 2873 \r\nQ 3191 2616 2906 2266 \r\nQ 2828 2175 2409 1742 \r\nQ 1991 1309 1228 531 \r\nz\r\n\" id=\"DejaVuSans-32\" transform=\"scale(0.015625)\"/>\r\n       </defs>\r\n       <use xlink:href=\"#DejaVuSans-32\"/>\r\n      </g>\r\n     </g>\r\n    </g>\r\n    <g id=\"xtick_3\">\r\n     <g id=\"line2d_3\">\r\n      <g>\r\n       <use style=\"stroke:#000000;stroke-width:0.8;\" x=\"181.198864\" xlink:href=\"#m2cb0dc683a\" y=\"442.08\"/>\r\n      </g>\r\n     </g>\r\n     <g id=\"text_3\">\r\n      <!-- 4 -->\r\n      <g transform=\"translate(178.017614 456.678437)scale(0.1 -0.1)\">\r\n       <defs>\r\n        <path d=\"M 2419 4116 \r\nL 825 1625 \r\nL 2419 1625 \r\nL 2419 4116 \r\nz\r\nM 2253 4666 \r\nL 3047 4666 \r\nL 3047 1625 \r\nL 3713 1625 \r\nL 3713 1100 \r\nL 3047 1100 \r\nL 3047 0 \r\nL 2419 0 \r\nL 2419 1100 \r\nL 313 1100 \r\nL 313 1709 \r\nL 2253 4666 \r\nz\r\n\" id=\"DejaVuSans-34\" transform=\"scale(0.015625)\"/>\r\n       </defs>\r\n       <use xlink:href=\"#DejaVuSans-34\"/>\r\n      </g>\r\n     </g>\r\n    </g>\r\n    <g id=\"xtick_4\">\r\n     <g id=\"line2d_4\">\r\n      <g>\r\n       <use style=\"stroke:#000000;stroke-width:0.8;\" x=\"248.835227\" xlink:href=\"#m2cb0dc683a\" y=\"442.08\"/>\r\n      </g>\r\n     </g>\r\n     <g id=\"text_4\">\r\n      <!-- 6 -->\r\n      <g transform=\"translate(245.653977 456.678437)scale(0.1 -0.1)\">\r\n       <defs>\r\n        <path d=\"M 2113 2584 \r\nQ 1688 2584 1439 2293 \r\nQ 1191 2003 1191 1497 \r\nQ 1191 994 1439 701 \r\nQ 1688 409 2113 409 \r\nQ 2538 409 2786 701 \r\nQ 3034 994 3034 1497 \r\nQ 3034 2003 2786 2293 \r\nQ 2538 2584 2113 2584 \r\nz\r\nM 3366 4563 \r\nL 3366 3988 \r\nQ 3128 4100 2886 4159 \r\nQ 2644 4219 2406 4219 \r\nQ 1781 4219 1451 3797 \r\nQ 1122 3375 1075 2522 \r\nQ 1259 2794 1537 2939 \r\nQ 1816 3084 2150 3084 \r\nQ 2853 3084 3261 2657 \r\nQ 3669 2231 3669 1497 \r\nQ 3669 778 3244 343 \r\nQ 2819 -91 2113 -91 \r\nQ 1303 -91 875 529 \r\nQ 447 1150 447 2328 \r\nQ 447 3434 972 4092 \r\nQ 1497 4750 2381 4750 \r\nQ 2619 4750 2861 4703 \r\nQ 3103 4656 3366 4563 \r\nz\r\n\" id=\"DejaVuSans-36\" transform=\"scale(0.015625)\"/>\r\n       </defs>\r\n       <use xlink:href=\"#DejaVuSans-36\"/>\r\n      </g>\r\n     </g>\r\n    </g>\r\n    <g id=\"xtick_5\">\r\n     <g id=\"line2d_5\">\r\n      <g>\r\n       <use style=\"stroke:#000000;stroke-width:0.8;\" x=\"316.471591\" xlink:href=\"#m2cb0dc683a\" y=\"442.08\"/>\r\n      </g>\r\n     </g>\r\n     <g id=\"text_5\">\r\n      <!-- 8 -->\r\n      <g transform=\"translate(313.290341 456.678437)scale(0.1 -0.1)\">\r\n       <defs>\r\n        <path d=\"M 2034 2216 \r\nQ 1584 2216 1326 1975 \r\nQ 1069 1734 1069 1313 \r\nQ 1069 891 1326 650 \r\nQ 1584 409 2034 409 \r\nQ 2484 409 2743 651 \r\nQ 3003 894 3003 1313 \r\nQ 3003 1734 2745 1975 \r\nQ 2488 2216 2034 2216 \r\nz\r\nM 1403 2484 \r\nQ 997 2584 770 2862 \r\nQ 544 3141 544 3541 \r\nQ 544 4100 942 4425 \r\nQ 1341 4750 2034 4750 \r\nQ 2731 4750 3128 4425 \r\nQ 3525 4100 3525 3541 \r\nQ 3525 3141 3298 2862 \r\nQ 3072 2584 2669 2484 \r\nQ 3125 2378 3379 2068 \r\nQ 3634 1759 3634 1313 \r\nQ 3634 634 3220 271 \r\nQ 2806 -91 2034 -91 \r\nQ 1263 -91 848 271 \r\nQ 434 634 434 1313 \r\nQ 434 1759 690 2068 \r\nQ 947 2378 1403 2484 \r\nz\r\nM 1172 3481 \r\nQ 1172 3119 1398 2916 \r\nQ 1625 2713 2034 2713 \r\nQ 2441 2713 2670 2916 \r\nQ 2900 3119 2900 3481 \r\nQ 2900 3844 2670 4047 \r\nQ 2441 4250 2034 4250 \r\nQ 1625 4250 1398 4047 \r\nQ 1172 3844 1172 3481 \r\nz\r\n\" id=\"DejaVuSans-38\" transform=\"scale(0.015625)\"/>\r\n       </defs>\r\n       <use xlink:href=\"#DejaVuSans-38\"/>\r\n      </g>\r\n     </g>\r\n    </g>\r\n    <g id=\"xtick_6\">\r\n     <g id=\"line2d_6\">\r\n      <g>\r\n       <use style=\"stroke:#000000;stroke-width:0.8;\" x=\"384.107955\" xlink:href=\"#m2cb0dc683a\" y=\"442.08\"/>\r\n      </g>\r\n     </g>\r\n     <g id=\"text_6\">\r\n      <!-- 10 -->\r\n      <g transform=\"translate(377.745455 456.678437)scale(0.1 -0.1)\">\r\n       <defs>\r\n        <path d=\"M 794 531 \r\nL 1825 531 \r\nL 1825 4091 \r\nL 703 3866 \r\nL 703 4441 \r\nL 1819 4666 \r\nL 2450 4666 \r\nL 2450 531 \r\nL 3481 531 \r\nL 3481 0 \r\nL 794 0 \r\nL 794 531 \r\nz\r\n\" id=\"DejaVuSans-31\" transform=\"scale(0.015625)\"/>\r\n       </defs>\r\n       <use xlink:href=\"#DejaVuSans-31\"/>\r\n       <use x=\"63.623047\" xlink:href=\"#DejaVuSans-30\"/>\r\n      </g>\r\n     </g>\r\n    </g>\r\n    <g id=\"xtick_7\">\r\n     <g id=\"line2d_7\">\r\n      <g>\r\n       <use style=\"stroke:#000000;stroke-width:0.8;\" x=\"451.744318\" xlink:href=\"#m2cb0dc683a\" y=\"442.08\"/>\r\n      </g>\r\n     </g>\r\n     <g id=\"text_7\">\r\n      <!-- 12 -->\r\n      <g transform=\"translate(445.381818 456.678437)scale(0.1 -0.1)\">\r\n       <use xlink:href=\"#DejaVuSans-31\"/>\r\n       <use x=\"63.623047\" xlink:href=\"#DejaVuSans-32\"/>\r\n      </g>\r\n     </g>\r\n    </g>\r\n    <g id=\"xtick_8\">\r\n     <g id=\"line2d_8\">\r\n      <g>\r\n       <use style=\"stroke:#000000;stroke-width:0.8;\" x=\"519.380682\" xlink:href=\"#m2cb0dc683a\" y=\"442.08\"/>\r\n      </g>\r\n     </g>\r\n     <g id=\"text_8\">\r\n      <!-- 14 -->\r\n      <g transform=\"translate(513.018182 456.678437)scale(0.1 -0.1)\">\r\n       <use xlink:href=\"#DejaVuSans-31\"/>\r\n       <use x=\"63.623047\" xlink:href=\"#DejaVuSans-34\"/>\r\n      </g>\r\n     </g>\r\n    </g>\r\n   </g>\r\n   <g id=\"matplotlib.axis_2\">\r\n    <g id=\"ytick_1\">\r\n     <g id=\"line2d_9\">\r\n      <defs>\r\n       <path d=\"M 0 0 \r\nL -3.5 0 \r\n\" id=\"m887ade87cc\" style=\"stroke:#000000;stroke-width:0.8;\"/>\r\n      </defs>\r\n      <g>\r\n       <use style=\"stroke:#000000;stroke-width:0.8;\" x=\"20.5625\" xlink:href=\"#m887ade87cc\" y=\"422.312727\"/>\r\n      </g>\r\n     </g>\r\n     <g id=\"text_9\">\r\n      <!-- 0 -->\r\n      <g transform=\"translate(7.2 426.111946)scale(0.1 -0.1)\">\r\n       <use xlink:href=\"#DejaVuSans-30\"/>\r\n      </g>\r\n     </g>\r\n    </g>\r\n    <g id=\"ytick_2\">\r\n     <g id=\"line2d_10\">\r\n      <g>\r\n       <use style=\"stroke:#000000;stroke-width:0.8;\" x=\"20.5625\" xlink:href=\"#m887ade87cc\" y=\"343.243636\"/>\r\n      </g>\r\n     </g>\r\n     <g id=\"text_10\">\r\n      <!-- 1 -->\r\n      <g transform=\"translate(7.2 347.042855)scale(0.1 -0.1)\">\r\n       <use xlink:href=\"#DejaVuSans-31\"/>\r\n      </g>\r\n     </g>\r\n    </g>\r\n    <g id=\"ytick_3\">\r\n     <g id=\"line2d_11\">\r\n      <g>\r\n       <use style=\"stroke:#000000;stroke-width:0.8;\" x=\"20.5625\" xlink:href=\"#m887ade87cc\" y=\"264.174545\"/>\r\n      </g>\r\n     </g>\r\n     <g id=\"text_11\">\r\n      <!-- 2 -->\r\n      <g transform=\"translate(7.2 267.973764)scale(0.1 -0.1)\">\r\n       <use xlink:href=\"#DejaVuSans-32\"/>\r\n      </g>\r\n     </g>\r\n    </g>\r\n    <g id=\"ytick_4\">\r\n     <g id=\"line2d_12\">\r\n      <g>\r\n       <use style=\"stroke:#000000;stroke-width:0.8;\" x=\"20.5625\" xlink:href=\"#m887ade87cc\" y=\"185.105455\"/>\r\n      </g>\r\n     </g>\r\n     <g id=\"text_12\">\r\n      <!-- 3 -->\r\n      <g transform=\"translate(7.2 188.904673)scale(0.1 -0.1)\">\r\n       <defs>\r\n        <path d=\"M 2597 2516 \r\nQ 3050 2419 3304 2112 \r\nQ 3559 1806 3559 1356 \r\nQ 3559 666 3084 287 \r\nQ 2609 -91 1734 -91 \r\nQ 1441 -91 1130 -33 \r\nQ 819 25 488 141 \r\nL 488 750 \r\nQ 750 597 1062 519 \r\nQ 1375 441 1716 441 \r\nQ 2309 441 2620 675 \r\nQ 2931 909 2931 1356 \r\nQ 2931 1769 2642 2001 \r\nQ 2353 2234 1838 2234 \r\nL 1294 2234 \r\nL 1294 2753 \r\nL 1863 2753 \r\nQ 2328 2753 2575 2939 \r\nQ 2822 3125 2822 3475 \r\nQ 2822 3834 2567 4026 \r\nQ 2313 4219 1838 4219 \r\nQ 1578 4219 1281 4162 \r\nQ 984 4106 628 3988 \r\nL 628 4550 \r\nQ 988 4650 1302 4700 \r\nQ 1616 4750 1894 4750 \r\nQ 2613 4750 3031 4423 \r\nQ 3450 4097 3450 3541 \r\nQ 3450 3153 3228 2886 \r\nQ 3006 2619 2597 2516 \r\nz\r\n\" id=\"DejaVuSans-33\" transform=\"scale(0.015625)\"/>\r\n       </defs>\r\n       <use xlink:href=\"#DejaVuSans-33\"/>\r\n      </g>\r\n     </g>\r\n    </g>\r\n    <g id=\"ytick_5\">\r\n     <g id=\"line2d_13\">\r\n      <g>\r\n       <use style=\"stroke:#000000;stroke-width:0.8;\" x=\"20.5625\" xlink:href=\"#m887ade87cc\" y=\"106.036364\"/>\r\n      </g>\r\n     </g>\r\n     <g id=\"text_13\">\r\n      <!-- 4 -->\r\n      <g transform=\"translate(7.2 109.835582)scale(0.1 -0.1)\">\r\n       <use xlink:href=\"#DejaVuSans-34\"/>\r\n      </g>\r\n     </g>\r\n    </g>\r\n    <g id=\"ytick_6\">\r\n     <g id=\"line2d_14\">\r\n      <g>\r\n       <use style=\"stroke:#000000;stroke-width:0.8;\" x=\"20.5625\" xlink:href=\"#m887ade87cc\" y=\"26.967273\"/>\r\n      </g>\r\n     </g>\r\n     <g id=\"text_14\">\r\n      <!-- 5 -->\r\n      <g transform=\"translate(7.2 30.766491)scale(0.1 -0.1)\">\r\n       <defs>\r\n        <path d=\"M 691 4666 \r\nL 3169 4666 \r\nL 3169 4134 \r\nL 1269 4134 \r\nL 1269 2991 \r\nQ 1406 3038 1543 3061 \r\nQ 1681 3084 1819 3084 \r\nQ 2600 3084 3056 2656 \r\nQ 3513 2228 3513 1497 \r\nQ 3513 744 3044 326 \r\nQ 2575 -91 1722 -91 \r\nQ 1428 -91 1123 -41 \r\nQ 819 9 494 109 \r\nL 494 744 \r\nQ 775 591 1075 516 \r\nQ 1375 441 1709 441 \r\nQ 2250 441 2565 725 \r\nQ 2881 1009 2881 1497 \r\nQ 2881 1984 2565 2268 \r\nQ 2250 2553 1709 2553 \r\nQ 1456 2553 1204 2497 \r\nQ 953 2441 691 2322 \r\nL 691 4666 \r\nz\r\n\" id=\"DejaVuSans-35\" transform=\"scale(0.015625)\"/>\r\n       </defs>\r\n       <use xlink:href=\"#DejaVuSans-35\"/>\r\n      </g>\r\n     </g>\r\n    </g>\r\n   </g>\r\n   <g id=\"patch_3\">\r\n    <path d=\"M 20.5625 442.08 \r\nL 20.5625 7.2 \r\n\" style=\"fill:none;stroke:#000000;stroke-linecap:square;stroke-linejoin:miter;stroke-width:0.8;\"/>\r\n   </g>\r\n   <g id=\"patch_4\">\r\n    <path d=\"M 578.5625 442.08 \r\nL 578.5625 7.2 \r\n\" style=\"fill:none;stroke:#000000;stroke-linecap:square;stroke-linejoin:miter;stroke-width:0.8;\"/>\r\n   </g>\r\n   <g id=\"patch_5\">\r\n    <path d=\"M 20.5625 442.08 \r\nL 578.5625 442.08 \r\n\" style=\"fill:none;stroke:#000000;stroke-linecap:square;stroke-linejoin:miter;stroke-width:0.8;\"/>\r\n   </g>\r\n   <g id=\"patch_6\">\r\n    <path d=\"M 20.5625 7.2 \r\nL 578.5625 7.2 \r\n\" style=\"fill:none;stroke:#000000;stroke-linecap:square;stroke-linejoin:miter;stroke-width:0.8;\"/>\r\n   </g>\r\n   <g id=\"legend_1\">\r\n    <g id=\"patch_7\">\r\n     <path d=\"M 484.185938 44.55625 \r\nL 571.5625 44.55625 \r\nQ 573.5625 44.55625 573.5625 42.55625 \r\nL 573.5625 14.2 \r\nQ 573.5625 12.2 571.5625 12.2 \r\nL 484.185938 12.2 \r\nQ 482.185938 12.2 482.185938 14.2 \r\nL 482.185938 42.55625 \r\nQ 482.185938 44.55625 484.185938 44.55625 \r\nz\r\n\" style=\"fill:#ffffff;opacity:0.8;stroke:#cccccc;stroke-linejoin:miter;\"/>\r\n    </g>\r\n    <g id=\"PathCollection_3\">\r\n     <g>\r\n      <use style=\"fill:#1f77b4;stroke:#ffffff;stroke-width:0.48;\" x=\"496.185938\" xlink:href=\"#m29c1df923f\" y=\"21.173437\"/>\r\n     </g>\r\n    </g>\r\n    <g id=\"text_15\">\r\n     <!-- predictions -->\r\n     <g transform=\"translate(514.185938 23.798437)scale(0.1 -0.1)\">\r\n      <defs>\r\n       <path d=\"M 1159 525 \r\nL 1159 -1331 \r\nL 581 -1331 \r\nL 581 3500 \r\nL 1159 3500 \r\nL 1159 2969 \r\nQ 1341 3281 1617 3432 \r\nQ 1894 3584 2278 3584 \r\nQ 2916 3584 3314 3078 \r\nQ 3713 2572 3713 1747 \r\nQ 3713 922 3314 415 \r\nQ 2916 -91 2278 -91 \r\nQ 1894 -91 1617 61 \r\nQ 1341 213 1159 525 \r\nz\r\nM 3116 1747 \r\nQ 3116 2381 2855 2742 \r\nQ 2594 3103 2138 3103 \r\nQ 1681 3103 1420 2742 \r\nQ 1159 2381 1159 1747 \r\nQ 1159 1113 1420 752 \r\nQ 1681 391 2138 391 \r\nQ 2594 391 2855 752 \r\nQ 3116 1113 3116 1747 \r\nz\r\n\" id=\"DejaVuSans-70\" transform=\"scale(0.015625)\"/>\r\n       <path d=\"M 2631 2963 \r\nQ 2534 3019 2420 3045 \r\nQ 2306 3072 2169 3072 \r\nQ 1681 3072 1420 2755 \r\nQ 1159 2438 1159 1844 \r\nL 1159 0 \r\nL 581 0 \r\nL 581 3500 \r\nL 1159 3500 \r\nL 1159 2956 \r\nQ 1341 3275 1631 3429 \r\nQ 1922 3584 2338 3584 \r\nQ 2397 3584 2469 3576 \r\nQ 2541 3569 2628 3553 \r\nL 2631 2963 \r\nz\r\n\" id=\"DejaVuSans-72\" transform=\"scale(0.015625)\"/>\r\n       <path d=\"M 3597 1894 \r\nL 3597 1613 \r\nL 953 1613 \r\nQ 991 1019 1311 708 \r\nQ 1631 397 2203 397 \r\nQ 2534 397 2845 478 \r\nQ 3156 559 3463 722 \r\nL 3463 178 \r\nQ 3153 47 2828 -22 \r\nQ 2503 -91 2169 -91 \r\nQ 1331 -91 842 396 \r\nQ 353 884 353 1716 \r\nQ 353 2575 817 3079 \r\nQ 1281 3584 2069 3584 \r\nQ 2775 3584 3186 3129 \r\nQ 3597 2675 3597 1894 \r\nz\r\nM 3022 2063 \r\nQ 3016 2534 2758 2815 \r\nQ 2500 3097 2075 3097 \r\nQ 1594 3097 1305 2825 \r\nQ 1016 2553 972 2059 \r\nL 3022 2063 \r\nz\r\n\" id=\"DejaVuSans-65\" transform=\"scale(0.015625)\"/>\r\n       <path d=\"M 2906 2969 \r\nL 2906 4863 \r\nL 3481 4863 \r\nL 3481 0 \r\nL 2906 0 \r\nL 2906 525 \r\nQ 2725 213 2448 61 \r\nQ 2172 -91 1784 -91 \r\nQ 1150 -91 751 415 \r\nQ 353 922 353 1747 \r\nQ 353 2572 751 3078 \r\nQ 1150 3584 1784 3584 \r\nQ 2172 3584 2448 3432 \r\nQ 2725 3281 2906 2969 \r\nz\r\nM 947 1747 \r\nQ 947 1113 1208 752 \r\nQ 1469 391 1925 391 \r\nQ 2381 391 2643 752 \r\nQ 2906 1113 2906 1747 \r\nQ 2906 2381 2643 2742 \r\nQ 2381 3103 1925 3103 \r\nQ 1469 3103 1208 2742 \r\nQ 947 2381 947 1747 \r\nz\r\n\" id=\"DejaVuSans-64\" transform=\"scale(0.015625)\"/>\r\n       <path d=\"M 603 3500 \r\nL 1178 3500 \r\nL 1178 0 \r\nL 603 0 \r\nL 603 3500 \r\nz\r\nM 603 4863 \r\nL 1178 4863 \r\nL 1178 4134 \r\nL 603 4134 \r\nL 603 4863 \r\nz\r\n\" id=\"DejaVuSans-69\" transform=\"scale(0.015625)\"/>\r\n       <path d=\"M 3122 3366 \r\nL 3122 2828 \r\nQ 2878 2963 2633 3030 \r\nQ 2388 3097 2138 3097 \r\nQ 1578 3097 1268 2742 \r\nQ 959 2388 959 1747 \r\nQ 959 1106 1268 751 \r\nQ 1578 397 2138 397 \r\nQ 2388 397 2633 464 \r\nQ 2878 531 3122 666 \r\nL 3122 134 \r\nQ 2881 22 2623 -34 \r\nQ 2366 -91 2075 -91 \r\nQ 1284 -91 818 406 \r\nQ 353 903 353 1747 \r\nQ 353 2603 823 3093 \r\nQ 1294 3584 2113 3584 \r\nQ 2378 3584 2631 3529 \r\nQ 2884 3475 3122 3366 \r\nz\r\n\" id=\"DejaVuSans-63\" transform=\"scale(0.015625)\"/>\r\n       <path d=\"M 1172 4494 \r\nL 1172 3500 \r\nL 2356 3500 \r\nL 2356 3053 \r\nL 1172 3053 \r\nL 1172 1153 \r\nQ 1172 725 1289 603 \r\nQ 1406 481 1766 481 \r\nL 2356 481 \r\nL 2356 0 \r\nL 1766 0 \r\nQ 1100 0 847 248 \r\nQ 594 497 594 1153 \r\nL 594 3053 \r\nL 172 3053 \r\nL 172 3500 \r\nL 594 3500 \r\nL 594 4494 \r\nL 1172 4494 \r\nz\r\n\" id=\"DejaVuSans-74\" transform=\"scale(0.015625)\"/>\r\n       <path d=\"M 1959 3097 \r\nQ 1497 3097 1228 2736 \r\nQ 959 2375 959 1747 \r\nQ 959 1119 1226 758 \r\nQ 1494 397 1959 397 \r\nQ 2419 397 2687 759 \r\nQ 2956 1122 2956 1747 \r\nQ 2956 2369 2687 2733 \r\nQ 2419 3097 1959 3097 \r\nz\r\nM 1959 3584 \r\nQ 2709 3584 3137 3096 \r\nQ 3566 2609 3566 1747 \r\nQ 3566 888 3137 398 \r\nQ 2709 -91 1959 -91 \r\nQ 1206 -91 779 398 \r\nQ 353 888 353 1747 \r\nQ 353 2609 779 3096 \r\nQ 1206 3584 1959 3584 \r\nz\r\n\" id=\"DejaVuSans-6f\" transform=\"scale(0.015625)\"/>\r\n       <path d=\"M 3513 2113 \r\nL 3513 0 \r\nL 2938 0 \r\nL 2938 2094 \r\nQ 2938 2591 2744 2837 \r\nQ 2550 3084 2163 3084 \r\nQ 1697 3084 1428 2787 \r\nQ 1159 2491 1159 1978 \r\nL 1159 0 \r\nL 581 0 \r\nL 581 3500 \r\nL 1159 3500 \r\nL 1159 2956 \r\nQ 1366 3272 1645 3428 \r\nQ 1925 3584 2291 3584 \r\nQ 2894 3584 3203 3211 \r\nQ 3513 2838 3513 2113 \r\nz\r\n\" id=\"DejaVuSans-6e\" transform=\"scale(0.015625)\"/>\r\n       <path d=\"M 2834 3397 \r\nL 2834 2853 \r\nQ 2591 2978 2328 3040 \r\nQ 2066 3103 1784 3103 \r\nQ 1356 3103 1142 2972 \r\nQ 928 2841 928 2578 \r\nQ 928 2378 1081 2264 \r\nQ 1234 2150 1697 2047 \r\nL 1894 2003 \r\nQ 2506 1872 2764 1633 \r\nQ 3022 1394 3022 966 \r\nQ 3022 478 2636 193 \r\nQ 2250 -91 1575 -91 \r\nQ 1294 -91 989 -36 \r\nQ 684 19 347 128 \r\nL 347 722 \r\nQ 666 556 975 473 \r\nQ 1284 391 1588 391 \r\nQ 1994 391 2212 530 \r\nQ 2431 669 2431 922 \r\nQ 2431 1156 2273 1281 \r\nQ 2116 1406 1581 1522 \r\nL 1381 1569 \r\nQ 847 1681 609 1914 \r\nQ 372 2147 372 2553 \r\nQ 372 3047 722 3315 \r\nQ 1072 3584 1716 3584 \r\nQ 2034 3584 2315 3537 \r\nQ 2597 3491 2834 3397 \r\nz\r\n\" id=\"DejaVuSans-73\" transform=\"scale(0.015625)\"/>\r\n      </defs>\r\n      <use xlink:href=\"#DejaVuSans-70\"/>\r\n      <use x=\"63.476562\" xlink:href=\"#DejaVuSans-72\"/>\r\n      <use x=\"102.339844\" xlink:href=\"#DejaVuSans-65\"/>\r\n      <use x=\"163.863281\" xlink:href=\"#DejaVuSans-64\"/>\r\n      <use x=\"227.339844\" xlink:href=\"#DejaVuSans-69\"/>\r\n      <use x=\"255.123047\" xlink:href=\"#DejaVuSans-63\"/>\r\n      <use x=\"310.103516\" xlink:href=\"#DejaVuSans-74\"/>\r\n      <use x=\"349.3125\" xlink:href=\"#DejaVuSans-69\"/>\r\n      <use x=\"377.095703\" xlink:href=\"#DejaVuSans-6f\"/>\r\n      <use x=\"438.277344\" xlink:href=\"#DejaVuSans-6e\"/>\r\n      <use x=\"501.65625\" xlink:href=\"#DejaVuSans-73\"/>\r\n     </g>\r\n    </g>\r\n    <g id=\"PathCollection_4\">\r\n     <g>\r\n      <use style=\"fill:#ff7f0e;stroke:#ffffff;stroke-width:0.48;\" x=\"496.185938\" xlink:href=\"#mcb7c6b3d8c\" y=\"35.851562\"/>\r\n     </g>\r\n    </g>\r\n    <g id=\"text_16\">\r\n     <!-- real score -->\r\n     <g transform=\"translate(514.185938 38.476562)scale(0.1 -0.1)\">\r\n      <defs>\r\n       <path d=\"M 2194 1759 \r\nQ 1497 1759 1228 1600 \r\nQ 959 1441 959 1056 \r\nQ 959 750 1161 570 \r\nQ 1363 391 1709 391 \r\nQ 2188 391 2477 730 \r\nQ 2766 1069 2766 1631 \r\nL 2766 1759 \r\nL 2194 1759 \r\nz\r\nM 3341 1997 \r\nL 3341 0 \r\nL 2766 0 \r\nL 2766 531 \r\nQ 2569 213 2275 61 \r\nQ 1981 -91 1556 -91 \r\nQ 1019 -91 701 211 \r\nQ 384 513 384 1019 \r\nQ 384 1609 779 1909 \r\nQ 1175 2209 1959 2209 \r\nL 2766 2209 \r\nL 2766 2266 \r\nQ 2766 2663 2505 2880 \r\nQ 2244 3097 1772 3097 \r\nQ 1472 3097 1187 3025 \r\nQ 903 2953 641 2809 \r\nL 641 3341 \r\nQ 956 3463 1253 3523 \r\nQ 1550 3584 1831 3584 \r\nQ 2591 3584 2966 3190 \r\nQ 3341 2797 3341 1997 \r\nz\r\n\" id=\"DejaVuSans-61\" transform=\"scale(0.015625)\"/>\r\n       <path d=\"M 603 4863 \r\nL 1178 4863 \r\nL 1178 0 \r\nL 603 0 \r\nL 603 4863 \r\nz\r\n\" id=\"DejaVuSans-6c\" transform=\"scale(0.015625)\"/>\r\n       <path id=\"DejaVuSans-20\" transform=\"scale(0.015625)\"/>\r\n      </defs>\r\n      <use xlink:href=\"#DejaVuSans-72\"/>\r\n      <use x=\"38.863281\" xlink:href=\"#DejaVuSans-65\"/>\r\n      <use x=\"100.386719\" xlink:href=\"#DejaVuSans-61\"/>\r\n      <use x=\"161.666016\" xlink:href=\"#DejaVuSans-6c\"/>\r\n      <use x=\"189.449219\" xlink:href=\"#DejaVuSans-20\"/>\r\n      <use x=\"221.236328\" xlink:href=\"#DejaVuSans-73\"/>\r\n      <use x=\"273.335938\" xlink:href=\"#DejaVuSans-63\"/>\r\n      <use x=\"328.316406\" xlink:href=\"#DejaVuSans-6f\"/>\r\n      <use x=\"389.498047\" xlink:href=\"#DejaVuSans-72\"/>\r\n      <use x=\"428.361328\" xlink:href=\"#DejaVuSans-65\"/>\r\n     </g>\r\n    </g>\r\n   </g>\r\n  </g>\r\n </g>\r\n <defs>\r\n  <clipPath id=\"p9bb31f6c6a\">\r\n   <rect height=\"434.88\" width=\"558\" x=\"20.5625\" y=\"7.2\"/>\r\n  </clipPath>\r\n </defs>\r\n</svg>\r\n",
            "image/png": "[encoded data removed]"
          },
          "metadata": {
            "needs_background": "light"
          }
        }
      ]
    },
    {
      "cell_type": "markdown",
      "metadata": {
        "id": "OCG5PpFVyeVd"
      },
      "source": [
        "As we can see, this RNN outperformed CNNs (and also the baseline Dense models), so this is the champion model we selected for implementing into our pipeline.\n",
        "\n",
        "It's served using MLflow."
      ]
    },
    {
      "cell_type": "markdown",
      "metadata": {
        "id": "zhQwV1dV7H9A"
      },
      "source": [
        "## 2.3 Backend updates\n",
        "\n",
        "On the backend, we're updating our Django REST API.\n",
        "\n",
        "In Django, the [views.py](https://github.com/digitacs/4dv652-backend/blob/main/scores/views.py) file is responsible for receiving the web requests and returning a response. In this file, our PoseNetFrames class is an implementation of the Django Rest Framework's ListCreateAPIView that is used for read-write endpoints to represent a collection of model instances. And this class takes care of loading our ML models with MLflow.\n",
        "\n",
        "As we can see from the source code below, this class loads each model and sets the correct data schemas.\n",
        "\n",
        "```python\n",
        "class PoseNetFrames(ListCreateAPIView):\n",
        "\n",
        "    # 0:None, 1:Posenet, 2:Kinect\n",
        "    cut_leading_and_trailing = 1\n",
        "\n",
        "    serializer_class = FrameSerializer\n",
        "    columns_reorder_2d_in = ['head_x', 'head_y', 'left_shoulder_x', 'left_shoulder_y',\n",
        "                             'left_elbow_x', 'left_elbow_y', 'right_shoulder_x', 'right_shoulder_y',\n",
        "                             'right_elbow_x', 'right_elbow_y', 'left_wrist_x', 'left_wrist_y',\n",
        "                             'right_wrist_x', 'right_wrist_y', 'left_hip_x', 'left_hip_y', 'right_hip_x',\n",
        "                             'right_hip_y', 'left_knee_x', 'left_knee_y', 'right_knee_x', 'right_knee_y',\n",
        "                             'left_ankle_x', 'left_ankle_y', 'right_ankle_x', 'right_ankle_y']\n",
        "\n",
        "    columns_reorder_score_in = ['head_x', 'head_y', \n",
        "                            'left_shoulder_x', 'left_shoulder_y', 'right_shoulder_x', 'right_shoulder_y',\n",
        "                             'left_elbow_x', 'left_elbow_y', 'right_elbow_x', 'right_elbow_y',\n",
        "                             'left_wrist_x', 'left_wrist_y', 'right_wrist_x', 'right_wrist_y', \n",
        "                             'left_hip_x', 'left_hip_y', 'right_hip_x', 'right_hip_y', \n",
        "                             'left_knee_x', 'left_knee_y', 'right_knee_x', 'right_knee_y',\n",
        "                             'left_ankle_x', 'left_ankle_y', 'right_ankle_x', 'right_ankle_y']\n",
        "\n",
        "    columns_order_2d_in = ['head_x', 'head_y', 'left_shoulder_x', 'left_shoulder_y',\n",
        "                           'left_elbow_x', 'left_elbow_y', 'right_shoulder_x', 'right_shoulder_y',\n",
        "                           'right_elbow_x', 'right_elbow_y', 'left_hand_x', 'left_hand_y',\n",
        "                           'right_hand_x', 'right_hand_y', 'left_hip_x', 'left_hip_y',\n",
        "                           'right_hip_x', 'right_hip_y', 'left_knee_x', 'left_knee_y',\n",
        "                           'right_knee_x', 'right_knee_y', 'left_foot_x', 'left_foot_y',\n",
        "                           'right_foot_x', 'right_foot_y']\n",
        "\n",
        "    columns_order_2d_out = ['head_x', 'head_y', 'left_shoulder_x', 'left_shoulder_y',\n",
        "                            'left_elbow_x', 'left_elbow_y', 'right_shoulder_x', 'right_shoulder_y',\n",
        "                            'right_elbow_x', 'right_elbow_y', 'left_hand_x', 'left_hand_y',\n",
        "                            'right_hand_x', 'right_hand_y', 'left_hip_x', 'left_hip_y',\n",
        "                            'right_hip_x', 'right_hip_y', 'left_knee_x', 'left_knee_y',\n",
        "                            'right_knee_x', 'right_knee_y', 'left_foot_x', 'left_foot_y',\n",
        "                            'right_foot_x', 'right_foot_y']\n",
        "\n",
        "    # Posenet Scalers\n",
        "    posenetInputScaler = mlflow.sklearn.load_model(\n",
        "        'gs://mlflow-atlas/mlflow_artifacts/0/33d92199595745e3a005bb31f620c839/artifacts/PosenetInputScaler')\n",
        "    posenetOutputScaler = mlflow.sklearn.load_model(\n",
        "        'gs://mlflow-atlas/mlflow_artifacts/0/33d92199595745e3a005bb31f620c839/artifacts/PosenetOutputScaler')\n",
        "\n",
        "    # Kinect Scaler\n",
        "    kinectInputScaler = mlflow.sklearn.load_model(\n",
        "        'gs://mlflow-atlas/mlflow_artifacts/0/47d7fdb1a3ed4ca48159e94ce1d6cbbc/artifacts/KinectInputScaler')\n",
        "    kinectOutputScaler = mlflow.sklearn.load_model(\n",
        "        'gs://mlflow-atlas/mlflow_artifacts/0/47d7fdb1a3ed4ca48159e94ce1d6cbbc/artifacts/KinectOutputScaler')\n",
        "\n",
        "    # Models\n",
        "    kinect_2D_kinect_3D_model = mlflow.keras.load_model(\n",
        "        'gs://mlflow-atlas/mlflow_artifacts/0/47d7fdb1a3ed4ca48159e94ce1d6cbbc/artifacts/kinect3D')\n",
        "    posenet_kinect_2D_model = mlflow.keras.load_model(\n",
        "        'gs://mlflow-atlas/mlflow_artifacts/0/33d92199595745e3a005bb31f620c839/artifacts/PoseNet_to_Kinect2D')\n",
        "\n",
        "    # cut start/stop posenet models\n",
        "    cut_start_posenet_scaler = mlflow.sklearn.load_model(\n",
        "        'gs://mlflow-atlas/mlflow_artifacts/0/ca84e7c5b9e54551bd4708aa457bf730/artifacts/InputScaler')\n",
        "    cut_start_posenet_model = mlflow.keras.load_model(\n",
        "        'gs://mlflow-atlas/mlflow_artifacts/0/ca84e7c5b9e54551bd4708aa457bf730/artifacts/cut_start_posenet')\n",
        "    cut_stop_posenet_scaler = mlflow.sklearn.load_model(\n",
        "        'gs://mlflow-atlas/mlflow_artifacts/0/583700c9367d4a49ad54912df95cf3cb/artifacts/InputScaler')\n",
        "    cut_stop_posenet_model = mlflow.keras.load_model(\n",
        "        'gs://mlflow-atlas/mlflow_artifacts/0/583700c9367d4a49ad54912df95cf3cb/artifacts/cut_stop_posenet')\n",
        "\n",
        "    # cut start/stop kinect models\n",
        "    cut_start_kinect_scaler = mlflow.sklearn.load_model(\n",
        "        'gs://mlflow-atlas/mlflow_artifacts/0/14b3d62fe0ac449d98a19e883e57133c/artifacts/InputScaler')\n",
        "    cut_start_kinect_model = mlflow.keras.load_model(\n",
        "        'gs://mlflow-atlas/mlflow_artifacts/0/14b3d62fe0ac449d98a19e883e57133c/artifacts/cut_start_kinect')\n",
        "    cut_stop_kinect_scaler = mlflow.sklearn.load_model(\n",
        "        'gs://mlflow-atlas/mlflow_artifacts/0/550767846e1441389ca2c312d5b73355/artifacts/InputScaler')\n",
        "    cut_stop_kinect_model = mlflow.keras.load_model(\n",
        "        'gs://mlflow-atlas/mlflow_artifacts/0/550767846e1441389ca2c312d5b73355/artifacts/cut_stop_kinect')\n",
        "\n",
        "    # Good or Bad exercise\n",
        "    good_vs_bad_posenet_scaler = mlflow.sklearn.load_model(\n",
        "        'gs://mlflow-atlas/mlflow_artifacts/0/4ffaf14d67db4e2f8d1d04df5fb603e4/artifacts/InputScaler')\n",
        "    good_vs_bad_posenet_model = mlflow.keras.load_model(\n",
        "        'gs://mlflow-atlas/mlflow_artifacts/0/4ffaf14d67db4e2f8d1d04df5fb603e4/artifacts/dense_model_posenet_good/bad')\n",
        "\n",
        "    # Score model\n",
        "    score_posenet_input_mean = 108.71090243888565\n",
        "    score_posenet_output_mean = 3.1380742847822694\n",
        "    score_posenet_input_std = 348.92948195050417\n",
        "    score_posenet_output_std = 1.2347746037766676\n",
        "    score_posenet_model = mlflow.keras.load_model(\n",
        "        'gs://mlflow-atlas/mlflow_artifacts/0/472b72effd6641d49cdf48eda1bfd49e/artifacts/scoring_rnn_gru')\n",
        "```\n",
        "\n",
        "Each model also has a method connected to it where the API handles the model predictions before moving to the next step in the pipeline. We will take the newly implemented predictScore() method as an example. When the Scoring model is called, this method takes care of setting the history size as well as normalizing the data for predictions.\n",
        "\n",
        "```python\n",
        "def predictScore(self, data):\n",
        "    HISTORY_SIZE = 150\n",
        "    F = len(data)\n",
        "    step = F / HISTORY_SIZE\n",
        "        \n",
        "    x = (data-self.score_posenet_input_mean)/self.score_posenet_input_std\n",
        "\n",
        "    # Choose index which should be picked\n",
        "    result = np.round(np.arange(0,HISTORY_SIZE-1) * step)\n",
        "    result = np.append(result,F-1)\n",
        "        \n",
        "\n",
        "    X_test = np.array(data[self.columns_reorder_score_in].iloc[result]).reshape(-1,HISTORY_SIZE,26)\n",
        "\n",
        "    prediction = self.score_posenet_model.predict(X_test,verbose=1)\n",
        "\n",
        "    return prediction[0][0] * self.score_posenet_output_std + self.score_posenet_output_mean\n",
        "```\n",
        "\n",
        "The full pipeline is handled by the create() method, and in this method, we can see in which order all the models are called. We also see that the final response being returned from the API includes the frames (to create the skeleton on the frontend), a goodness-score, and the final exercise score implemented this week - as well as an HTTP response code of 200.\n",
        "\n",
        "```python\n",
        "def create(self, request, *args, **kwargs):\n",
        "    frames = request.data[\"frames\"]\n",
        "    dataset = pd.DataFrame(frames)\n",
        "\n",
        "    # Prepare datset\n",
        "    data = pd.DataFrame(self.prepareData(dataset))\n",
        "        \n",
        "    # Cutting Leading and Trailing frames (Posenet)\n",
        "    if self.cut_leading_and_trailing == 1:\n",
        "        data = self.cut_leading_trailing_posenet(data)\n",
        "\n",
        "    # Check Model goodness\n",
        "    isGood = self.goodVsBad(data)\n",
        "\n",
        "    # 1st Model prediction\n",
        "    k2D_predictions = pd.DataFrame(self.posenetToKinect2D(data))\n",
        "    k2D_predictions.columns = self.columns_order_2d_in\n",
        "\n",
        "    # 2nd Model prediction\n",
        "    k3D_predictions = self.kinect2DtoKinect3D(k2D_predictions)\n",
        "\n",
        "    # Merge x,y and z-axis\n",
        "    predictions = k3D_predictions.merge(\n",
        "        k2D_predictions, left_index=True, right_index=True)\n",
        "\n",
        "    predictions.to_csv(\"kinect_tset.csv\")\n",
        "\n",
        "    # Cutting Leading and Trailing frames (Kinect)\n",
        "    if self.cut_leading_and_trailing == 2:\n",
        "        predictions = self.cut_leading_trailing_kinect(predictions)\n",
        "\n",
        "    # Predict score\n",
        "    exerciseScore = self.predictScore(data)\n",
        "\n",
        "    # Prepare response in the correct format\n",
        "    resp = []\n",
        "    for jdict in predictions.to_dict(orient='records'):\n",
        "        resp.append(jdict)\n",
        "\n",
        "    return Response({'frames': resp , 'isGood':isGood, 'score':exerciseScore}, status=HTTP_200_OK)\n",
        "```"
      ]
    },
    {
      "source": [
        "## 2.4 Frontend updates\n",
        "\n",
        "On the frontend, we're updating our Angular Single-page application.\n",
        "\n",
        "We already have the setup for connecting our frontend to the backend API: \n",
        "\n",
        "- [Comma separated form](https://github.com/digitacs/4dv652-frontend/tree/main/src/app/modules/dashboard/comma-separated-form), [Default predictor form](https://github.com/digitacs/4dv652-frontend/tree/main/src/app/modules/dashboard/default-predictor-form), and [Newline separated form](https://github.com/digitacs/4dv652-frontend/tree/main/src/app/modules/dashboard/newline-separated-form) are three components to used to create our form functionality for numerical input - this was from the first version of our application.\n",
        "\n",
        "- [The Dashboard component](https://github.com/digitacs/4dv652-frontend/blob/main/src/app/modules/dashboard/dashboard.component.html) takes care of routing so the user can choose between our three alternatives for using webcam, using form, and uploading a video.\n",
        "\n",
        "- [Upload video](https://github.com/digitacs/4dv652-frontend/blob/main/src/app/modules/dashboard/upload-video/upload-video.component.ts) component accepts a video file input, uses the [PosenetService](https://github.com/digitacs/4dv652-frontend/blob/main/src/app/modules/utils/posenet.service.ts) to detect poses, [GoodnessService](https://github.com/digitacs/4dv652-frontend/blob/main/src/app/modules/utils/goodness.service.ts) to receive the indication of an ugly recording environment, [ScoreService](https://github.com/digitacs/4dv652-frontend/blob/main/src/app/modules/dashboard/score.service.ts) to connect with the backend API, and [RendererService](https://github.com/digitacs/4dv652-frontend/blob/main/src/app/modules/utils/renderer.service.ts) draw the skeleton which is displayed with the [Skeleton component](https://github.com/digitacs/4dv652-frontend/tree/main/src/app/modules/dashboard/skeleton).\n",
        "\n",
        "- [Live feed component](https://github.com/digitacs/4dv652-frontend/tree/main/src/app/modules/dashboard/live-feed) to use the same functionality as video upload, but for live webcam input.\n",
        "\n",
        "What we had to implement for this sprint was to add the score received from Scoring model on the UI so that the user can see his/her exercise score. We chose to return a percentage, like the example in the figure below. In that figure, there's an example of a well-performed squat (Good Exercise) with 80% as score - and there's an example of a badly performed exercise (it was not a proper deepsquat) with a 62% score.<br />\n",
        "The reason why we're displaying percentage is because the model returned a score between 0-5 where 0 means perfect and 5 means the worst exercise. However this is going to be visually interpreted by the user quite differently. For example, a user sends a good video but will receive 0 as score - which is usually interpreted as a bad result. So we thought it was better to return a lower percentage, for example 0%, for bad exercises and a higher percentage for the better an exercise was.\n",
        "\n",
        "| | |\n",
        "| --- | --- |\n",
        "| ![Figure 2.10](https://drive.google.com/uc?export=view&id=12mBPX5nVW7K-709uiiKvvrnoTMT3F8mF) | ![Figure 2.11](https://drive.google.com/uc?export=view&id=1TuacULmcVMRqU93jsKtCaUu7z_3PFBpR) |\n",
        "\n",
        "<small>Examples of how Score is displayed on the UI</small>"
      ],
      "cell_type": "markdown",
      "metadata": {}
    },
    {
      "cell_type": "markdown",
      "metadata": {
        "id": "ERQs1r1RC8uA"
      },
      "source": [
        "# 3. Deployment and Testing\n",
        "\n",
        "In this section, we discuss how the implementation of our final application has been deployed and tested.\n",
        "\n",
        "## 3.1 Application deployment\n",
        "\n",
        "We have one application component for frontend (Angular) and another for backend (Django REST API), and they have separate repositories.\n",
        "Therefore, we have created separate Jenkins Jobs for automation on frontend and backend.\n",
        "\n",
        "Using GitHub actions, whenever we push/merge into the **main** branch, we trigger a Jenkins Job, either for the backend OR frontend (depending on which repository that is updated). <br />\n",
        "The corresponding job uses a Docker-compose file to dockerize and deploy the application to:\n",
        "\n",
        "- Backend: [rthrv.com:8000](http://rhtrv.com:8000/)\n",
        "- Frontend: [rhtrv.com:9000](http://rhtrv.com:9000/)\n",
        "\n",
        "Right now, we have discarded GitHub actions because on every push to the main branch, it triggers the Jenkins Job that makes an image - and this results in more space reserved on server. \n",
        "So to avoid server costs, we are doing this trigger manually and doing cleanup time after time to avoid the extra space required.\n",
        "\n",
        "## 3.2 Testing\n",
        "\n",
        "We have performed some manual testing to control the usefulness of the full pipeline, we wanted to use some video recordings that we have not used in the training and testing of these models. Therefore, we used a few videos from the [all_good_bad_videos](https://github.com/digitacs/4dv652-ml/tree/main/datasets/all_good_bad_videos) dataset (this dataset was not used during ML model training phase) but we lacked the scores for these videos. Therefore, we decided to manually score these videos - and these scores can be seen [here](https://drive.google.com/file/d/10dD0wLkKUVIqadXr7YN1DJlImlY3x4K2/view). \n",
        "\n",
        "### 3.2.1 Test: Good environment, good exercise - score is 0 (perfect)\n",
        "\n",
        "Let's start by looking at one of the videos for good exercises which the Scoring model has never seen before.\n",
        "The application seems to be quite confident that this is a good recording (environment) and it returns a \"Good Exercise\" label. Howevery, the score percentage is not close to perfect at all. Also, the skeleton avatar animation is quite slow which might indicate that the start frames were not correctly removed."
      ]
    },
    {
      "cell_type": "code",
      "execution_count": 28,
      "metadata": {},
      "outputs": [
        {
          "output_type": "execute_result",
          "data": {
            "text/plain": [
              "<IPython.core.display.Video object>"
            ],
            "text/html": "<video src=\"https://github.com/digitacs/4dv652-frontend/blob/main/videos/zoom_0.mp4?raw=true\" controls  >\n      Your browser does not support the <code>video</code> element.\n    </video>"
          },
          "metadata": {},
          "execution_count": 28
        }
      ],
      "source": [
        "from IPython.core.display import Video\n",
        "\n",
        "Video(\"https://github.com/digitacs/4dv652-frontend/blob/main/videos/zoom_0.mp4?raw=true\")"
      ]
    },
    {
      "source": [
        "### 3.2.2 Test: Good environment, good exercise - score is 0 (perfect)\n",
        "\n",
        "We compare this to a video with the same good environment and exercise, but this video was part of the model training. And the score is much higher, perhaps indicating that the model has problems scoring videos it has never seen before?"
      ],
      "cell_type": "markdown",
      "metadata": {}
    },
    {
      "cell_type": "code",
      "execution_count": 25,
      "metadata": {},
      "outputs": [
        {
          "output_type": "execute_result",
          "data": {
            "text/plain": [
              "<IPython.core.display.Video object>"
            ],
            "text/html": "<video src=\"https://github.com/digitacs/4dv652-frontend/blob/main/videos/zoom_2.mp4?raw=true\" controls  >\n      Your browser does not support the <code>video</code> element.\n    </video>"
          },
          "metadata": {},
          "execution_count": 25
        }
      ],
      "source": [
        "Video(\"https://github.com/digitacs/4dv652-frontend/blob/main/videos/zoom_2.mp4?raw=true\")"
      ]
    },
    {
      "source": [
        "### 3.2.3 Test: Good environment but bad exercise\n",
        "\n",
        "This time we're testing the pipeline with a video with a good recording setting (environment) - which the application is confident about. But the exercise is one of the \"bad exercise\" videos, and the application also returns a low score and the label \"Bad exercise\"."
      ],
      "cell_type": "markdown",
      "metadata": {}
    },
    {
      "cell_type": "code",
      "execution_count": 26,
      "metadata": {},
      "outputs": [
        {
          "output_type": "execute_result",
          "data": {
            "text/plain": [
              "<IPython.core.display.Video object>"
            ],
            "text/html": "<video src=\"https://github.com/digitacs/4dv652-frontend/blob/main/videos/zoom_3.mp4?raw=true\" controls  >\n      Your browser does not support the <code>video</code> element.\n    </video>"
          },
          "metadata": {},
          "execution_count": 26
        }
      ],
      "source": [
        "Video(\"https://github.com/digitacs/4dv652-frontend/blob/main/videos/zoom_3.mp4?raw=true\")"
      ]
    },
    {
      "source": [
        "### 3.2.4 Test: Ugly environment, good exercise\n",
        "\n",
        "Lastly, we tested one of the \"good exercise videos\" with an ugly environment. And as we expect, the application is not confident about the recording environment but shows a red bar a lot of the time. However, it stills return a \"Good exercise\" label, which is to expect. Showing the user that the recording is ugly however, is supposed to mean that the confidence for that score and label is not what we would hope for."
      ],
      "cell_type": "markdown",
      "metadata": {}
    },
    {
      "cell_type": "code",
      "execution_count": 27,
      "metadata": {},
      "outputs": [
        {
          "output_type": "execute_result",
          "data": {
            "text/plain": [
              "<IPython.core.display.Video object>"
            ],
            "text/html": "<video src=\"https://github.com/digitacs/4dv652-frontend/blob/main/videos/zoom_4.mp4?raw=true\" controls  >\n      Your browser does not support the <code>video</code> element.\n    </video>"
          },
          "metadata": {},
          "execution_count": 27
        }
      ],
      "source": [
        "Video(\"https://github.com/digitacs/4dv652-frontend/blob/main/videos/zoom_4.mp4?raw=true\")"
      ]
    }
  ]
}