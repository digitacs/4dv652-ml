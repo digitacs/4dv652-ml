{
 "cells": [
  {
   "cell_type": "markdown",
   "metadata": {},
   "source": [
    "Assessing model accuracy (10-Fold Cross-Validation) and Response time\n",
    "\n",
    "- Logistic Regression\n",
    "- k-Nearest Neighbors\n",
    "- LDA (Linear Discriminant Analysis)\n",
    "- QDA (Quadratic Discriminant Analysis)\n",
    "- Naive Bayes\n",
    "- Tree-based Approaches\n",
    "- Support Vector Machines (SVM)"
   ]
  },
  {
   "cell_type": "code",
   "execution_count": 1,
   "metadata": {},
   "outputs": [],
   "source": [
    "import pandas as pd\n",
    "\n",
    "from sklearn.linear_model import LogisticRegression\n",
    "from sklearn.model_selection import cross_val_score, KFold\n",
    "import matplotlib.pyplot as plt\n",
    "from sklearn.metrics import accuracy_score\n",
    "from sklearn import neighbors\n",
    "import numpy as np\n",
    "import seaborn as sns\n",
    "\n",
    "\n",
    "from sklearn.discriminant_analysis import LinearDiscriminantAnalysis, QuadraticDiscriminantAnalysis\n",
    "\n",
    "from sklearn.naive_bayes import GaussianNB\n",
    "\n",
    "from sklearn.tree import DecisionTreeClassifier\n",
    "from sklearn.metrics import mean_squared_error\n",
    "from sklearn.ensemble import RandomForestClassifier\n",
    "\n",
    "from sklearn.model_selection import GridSearchCV\n",
    "from sklearn.svm import SVC\n",
    "\n",
    "import time"
   ]
  },
  {
   "cell_type": "code",
   "execution_count": 2,
   "metadata": {},
   "outputs": [],
   "source": [
    "import warnings\n",
    "\n",
    "# Set Seaborn theme\n",
    "sns.set_theme(color_codes=True)\n",
    "\n",
    "# Disable warnings\n",
    "warnings.simplefilter(\"ignore\")"
   ]
  },
  {
   "cell_type": "code",
   "execution_count": 3,
   "metadata": {},
   "outputs": [],
   "source": [
    "kfolds = KFold(n_splits = 10, shuffle = True, random_state = 1)\n",
    "trainingPercent = 0.8\n",
    "iterations = 30"
   ]
  },
  {
   "cell_type": "markdown",
   "metadata": {},
   "source": [
    "# 1. Data Preparation\n",
    "\n",
    "## 1.1 Load the data"
   ]
  },
  {
   "cell_type": "code",
   "execution_count": 4,
   "metadata": {},
   "outputs": [],
   "source": [
    "try:\n",
    "    data = pd.read_csv('../../datasets/AimoScoreWeakLinks.csv')\n",
    "    data = data.drop(columns=['Unnamed: 0', 'AimoScore'])\n",
    "except IOError as e:\n",
    "    print(e)"
   ]
  },
  {
   "cell_type": "markdown",
   "metadata": {},
   "source": [
    "## 1.2 Split it into training and test sets"
   ]
  },
  {
   "cell_type": "code",
   "execution_count": 5,
   "metadata": {},
   "outputs": [],
   "source": [
    "from sklearn.model_selection import train_test_split\n",
    "\n",
    "X = data.drop(columns=[\"WeakLinks\"])\n",
    "y = data[\"WeakLinks\"]\n",
    "y_train, y_test, X_train, X_test  = train_test_split(data[\"WeakLinks\"], data.drop(columns=[\"WeakLinks\"]), train_size = trainingPercent, random_state=5)"
   ]
  },
  {
   "cell_type": "markdown",
   "metadata": {},
   "source": [
    "# 2. Create the Models"
   ]
  },
  {
   "cell_type": "markdown",
   "metadata": {},
   "source": [
    "## 2.1 Logistic Regression"
   ]
  },
  {
   "cell_type": "code",
   "execution_count": 6,
   "metadata": {},
   "outputs": [
    {
     "name": "stdout",
     "output_type": "stream",
     "text": [
      "0.5827338129496403\n"
     ]
    }
   ],
   "source": [
    "lr = LogisticRegression(solver='liblinear', C=3, random_state=0)\n",
    "lr.fit(X_train, y_train)\n",
    "preds_lr = lr.predict(X_test)\n",
    "accuracy_lr = accuracy_score(preds_lr, y_test)\n",
    "print(accuracy_lr)"
   ]
  },
  {
   "cell_type": "code",
   "execution_count": 7,
   "metadata": {},
   "outputs": [
    {
     "name": "stdout",
     "output_type": "stream",
     "text": [
      "0.49101796407185627\n",
      "0.5354195224009812\n",
      "0.5783132530120482\n"
     ]
    }
   ],
   "source": [
    "lr_cv_scores = cross_val_score(lr, X_train, y_train, scoring='accuracy', cv = kfolds)\n",
    "\n",
    "print(lr_cv_scores.min())\n",
    "print(lr_cv_scores.mean())\n",
    "print(lr_cv_scores.max())"
   ]
  },
  {
   "cell_type": "code",
   "execution_count": 8,
   "metadata": {},
   "outputs": [
    {
     "data": {
      "text/plain": [
       "1.4556169509887695"
      ]
     },
     "execution_count": 8,
     "metadata": {},
     "output_type": "execute_result"
    }
   ],
   "source": [
    "arr_latency_lr = []\n",
    "\n",
    "for i in range(0, iterations):\n",
    "    start_time = time.time()\n",
    "    preds_lr = lr.predict(X_test)\n",
    "    end_time = time.time()\n",
    "    latency_lr = (end_time - start_time) * 1000\n",
    "    arr_latency_lr.append(latency_lr)\n",
    "    \n",
    "np.mean(arr_latency_lr)"
   ]
  },
  {
   "cell_type": "code",
   "execution_count": 9,
   "metadata": {},
   "outputs": [
    {
     "name": "stdout",
     "output_type": "stream",
     "text": [
      "0.49760765550239233\n",
      "0.5458133971291865\n",
      "0.5817307692307693\n"
     ]
    }
   ],
   "source": [
    "# all data\n",
    "\n",
    "lr_all = LogisticRegression(solver='liblinear', C=3, random_state=0)\n",
    "\n",
    "lr_cv_scores_all = cross_val_score(lr_all, X, y, scoring='accuracy', cv = kfolds)\n",
    "\n",
    "print(lr_cv_scores_all.min())\n",
    "print(lr_cv_scores_all.mean())\n",
    "print(lr_cv_scores_all.max())"
   ]
  },
  {
   "cell_type": "markdown",
   "metadata": {},
   "source": [
    "## 2.2 k-Nearest Neighbors (kNN)"
   ]
  },
  {
   "cell_type": "code",
   "execution_count": 10,
   "metadata": {},
   "outputs": [
    {
     "name": "stdout",
     "output_type": "stream",
     "text": [
      "0.5851318944844125\n"
     ]
    }
   ],
   "source": [
    "knn = neighbors.KNeighborsClassifier(n_neighbors=10)\n",
    "knn.fit(X_train, y_train)\n",
    "preds_knn = knn.predict(X_test)\n",
    "accuracy_knn = accuracy_score(preds_knn, y_test)\n",
    "print(accuracy_knn)"
   ]
  },
  {
   "cell_type": "code",
   "execution_count": 11,
   "metadata": {},
   "outputs": [
    {
     "name": "stdout",
     "output_type": "stream",
     "text": [
      "0.4251497005988024\n",
      "0.5180001442897338\n",
      "0.592814371257485\n"
     ]
    }
   ],
   "source": [
    "knn_cv_scores = cross_val_score(knn, X_train, y_train, scoring='accuracy', cv = kfolds)\n",
    "\n",
    "print(knn_cv_scores.min())\n",
    "print(knn_cv_scores.mean())\n",
    "print(knn_cv_scores.max())"
   ]
  },
  {
   "cell_type": "code",
   "execution_count": 12,
   "metadata": {},
   "outputs": [
    {
     "data": {
      "text/plain": [
       "23.698782920837402"
      ]
     },
     "execution_count": 12,
     "metadata": {},
     "output_type": "execute_result"
    }
   ],
   "source": [
    "arr_latency_knn = []\n",
    "\n",
    "for i in range(0, iterations):\n",
    "    start_time = time.time()\n",
    "    preds_knn = knn.predict(X_test)\n",
    "    end_time = time.time()\n",
    "    latency_knn = (end_time - start_time) * 1000\n",
    "    arr_latency_knn.append(latency_knn)\n",
    "    \n",
    "np.mean(arr_latency_knn)"
   ]
  },
  {
   "cell_type": "code",
   "execution_count": 13,
   "metadata": {},
   "outputs": [
    {
     "name": "stdout",
     "output_type": "stream",
     "text": [
      "0.5119617224880383\n",
      "0.547228100846522\n",
      "0.5885167464114832\n"
     ]
    }
   ],
   "source": [
    "# all data\n",
    "\n",
    "knn_all = neighbors.KNeighborsClassifier(n_neighbors=10)\n",
    "\n",
    "knn_cv_scores_all = cross_val_score(knn_all, X, y, scoring='accuracy', cv = kfolds)\n",
    "\n",
    "print(knn_cv_scores_all.min())\n",
    "print(knn_cv_scores_all.mean())\n",
    "print(knn_cv_scores_all.max())"
   ]
  },
  {
   "cell_type": "markdown",
   "metadata": {},
   "source": [
    "## 2.3 LDA (Linear Discriminant Analysis)"
   ]
  },
  {
   "cell_type": "code",
   "execution_count": 14,
   "metadata": {},
   "outputs": [
    {
     "name": "stdout",
     "output_type": "stream",
     "text": [
      "0.5611510791366906\n"
     ]
    }
   ],
   "source": [
    "lda = LinearDiscriminantAnalysis()\n",
    "lda.fit(X_train, y_train)\n",
    "preds_lda = lda.predict(X_test)\n",
    "accuracy_lda = accuracy_score(preds_lda, y_test)\n",
    "print(accuracy_lda)"
   ]
  },
  {
   "cell_type": "code",
   "execution_count": 15,
   "metadata": {},
   "outputs": [
    {
     "name": "stdout",
     "output_type": "stream",
     "text": [
      "0.47904191616766467\n",
      "0.531238727364548\n",
      "0.5963855421686747\n"
     ]
    }
   ],
   "source": [
    "lda_cv_scores = cross_val_score(lda, X_train, y_train, scoring='accuracy', cv = kfolds)\n",
    "\n",
    "print(lda_cv_scores.min())\n",
    "print(lda_cv_scores.mean())\n",
    "print(lda_cv_scores.max())"
   ]
  },
  {
   "cell_type": "code",
   "execution_count": 16,
   "metadata": {},
   "outputs": [
    {
     "data": {
      "text/plain": [
       "1.6148885091145833"
      ]
     },
     "execution_count": 16,
     "metadata": {},
     "output_type": "execute_result"
    }
   ],
   "source": [
    "arr_latency_lda = []\n",
    "\n",
    "for i in range(0, iterations):\n",
    "    start_time = time.time()\n",
    "    preds_lda = lda.predict(X_test)\n",
    "    end_time = time.time()\n",
    "    latency_lda = (end_time - start_time) * 1000\n",
    "    arr_latency_lda.append(latency_lda)\n",
    "    \n",
    "np.mean(arr_latency_lda)"
   ]
  },
  {
   "cell_type": "code",
   "execution_count": 17,
   "metadata": {},
   "outputs": [
    {
     "name": "stdout",
     "output_type": "stream",
     "text": [
      "0.48325358851674644\n",
      "0.5323817629738681\n",
      "0.5598086124401914\n"
     ]
    }
   ],
   "source": [
    "# all data\n",
    "\n",
    "lda_all = LinearDiscriminantAnalysis()\n",
    "\n",
    "lda_cv_scores_all = cross_val_score(lda_all, X, y, scoring='accuracy', cv = kfolds)\n",
    "\n",
    "print(lda_cv_scores_all.min())\n",
    "print(lda_cv_scores_all.mean())\n",
    "print(lda_cv_scores_all.max())"
   ]
  },
  {
   "cell_type": "markdown",
   "metadata": {},
   "source": [
    "## 2.4 QDA (Quadratic Discriminant Analysis)"
   ]
  },
  {
   "cell_type": "code",
   "execution_count": 18,
   "metadata": {},
   "outputs": [
    {
     "name": "stdout",
     "output_type": "stream",
     "text": [
      "0.5611510791366906\n"
     ]
    }
   ],
   "source": [
    "qda = LinearDiscriminantAnalysis()\n",
    "qda.fit(X_train, y_train)\n",
    "preds_qda = qda.predict(X_test)\n",
    "accuracy_qda = accuracy_score(preds_qda, y_test)\n",
    "print(accuracy_qda)"
   ]
  },
  {
   "cell_type": "code",
   "execution_count": 19,
   "metadata": {},
   "outputs": [
    {
     "name": "stdout",
     "output_type": "stream",
     "text": [
      "0.47904191616766467\n",
      "0.531238727364548\n",
      "0.5963855421686747\n"
     ]
    }
   ],
   "source": [
    "qda_cv_scores = cross_val_score(qda, X_train, y_train, scoring='accuracy', cv = kfolds)\n",
    "\n",
    "print(qda_cv_scores.min())\n",
    "print(qda_cv_scores.mean())\n",
    "print(qda_cv_scores.max())"
   ]
  },
  {
   "cell_type": "code",
   "execution_count": 20,
   "metadata": {},
   "outputs": [
    {
     "data": {
      "text/plain": [
       "1.44195556640625"
      ]
     },
     "execution_count": 20,
     "metadata": {},
     "output_type": "execute_result"
    }
   ],
   "source": [
    "arr_latency_qda = []\n",
    "\n",
    "for i in range(0, iterations):\n",
    "    start_time = time.time()\n",
    "    preds_qda = qda.predict(X_test)\n",
    "    end_time = time.time()\n",
    "    latency_qda = (end_time - start_time) * 1000\n",
    "    arr_latency_qda.append(latency_qda)\n",
    "    \n",
    "np.mean(arr_latency_qda)"
   ]
  },
  {
   "cell_type": "code",
   "execution_count": 21,
   "metadata": {},
   "outputs": [
    {
     "name": "stdout",
     "output_type": "stream",
     "text": [
      "0.48325358851674644\n",
      "0.5323817629738681\n",
      "0.5598086124401914\n"
     ]
    }
   ],
   "source": [
    "# all data\n",
    "\n",
    "qda_all = LinearDiscriminantAnalysis()\n",
    "\n",
    "qda_cv_scores_all = cross_val_score(qda_all, X, y, scoring='accuracy', cv = kfolds)\n",
    "\n",
    "print(qda_cv_scores_all.min())\n",
    "print(qda_cv_scores_all.mean())\n",
    "print(qda_cv_scores_all.max())"
   ]
  },
  {
   "cell_type": "markdown",
   "metadata": {},
   "source": [
    "## 2.5 Naive Bayes"
   ]
  },
  {
   "cell_type": "code",
   "execution_count": 22,
   "metadata": {},
   "outputs": [
    {
     "name": "stdout",
     "output_type": "stream",
     "text": [
      "0.4676258992805755\n"
     ]
    }
   ],
   "source": [
    "nb = GaussianNB()\n",
    "nb.fit(X_train, y_train)\n",
    "preds_nb = nb.predict(X_test)\n",
    "accuracy_nb = accuracy_score(preds_nb, y_test)\n",
    "print(accuracy_nb)"
   ]
  },
  {
   "cell_type": "code",
   "execution_count": 23,
   "metadata": {},
   "outputs": [
    {
     "name": "stdout",
     "output_type": "stream",
     "text": [
      "0.38323353293413176\n",
      "0.4832371401774764\n",
      "0.5508982035928144\n"
     ]
    }
   ],
   "source": [
    "nb_cv_scores = cross_val_score(nb, X_train, y_train, scoring='accuracy', cv = kfolds)\n",
    "\n",
    "print(nb_cv_scores.min())\n",
    "print(nb_cv_scores.mean())\n",
    "print(nb_cv_scores.max())"
   ]
  },
  {
   "cell_type": "code",
   "execution_count": 24,
   "metadata": {},
   "outputs": [
    {
     "data": {
      "text/plain": [
       "2.2471745808919272"
      ]
     },
     "execution_count": 24,
     "metadata": {},
     "output_type": "execute_result"
    }
   ],
   "source": [
    "arr_latency_nb = []\n",
    "\n",
    "for i in range(0, iterations):\n",
    "    start_time = time.time()\n",
    "    preds_nb = nb.predict(X_test)\n",
    "    end_time = time.time()\n",
    "    latency_nb = (end_time - start_time) * 1000\n",
    "    arr_latency_nb.append(latency_nb)\n",
    "    \n",
    "np.mean(arr_latency_nb)"
   ]
  },
  {
   "cell_type": "code",
   "execution_count": 25,
   "metadata": {},
   "outputs": [
    {
     "name": "stdout",
     "output_type": "stream",
     "text": [
      "0.4354066985645933\n",
      "0.48343991534781006\n",
      "0.5454545454545454\n"
     ]
    }
   ],
   "source": [
    "# all data\n",
    "\n",
    "nb_all = GaussianNB()\n",
    "\n",
    "nb_cv_scores_all = cross_val_score(nb_all, X, y, scoring='accuracy', cv = kfolds)\n",
    "\n",
    "print(nb_cv_scores_all.min())\n",
    "print(nb_cv_scores_all.mean())\n",
    "print(nb_cv_scores_all.max())"
   ]
  },
  {
   "cell_type": "markdown",
   "metadata": {},
   "source": [
    "## 2.6 Tree-based Approaches"
   ]
  },
  {
   "cell_type": "markdown",
   "metadata": {},
   "source": [
    "### Decision Tree Classifier"
   ]
  },
  {
   "cell_type": "code",
   "execution_count": 26,
   "metadata": {},
   "outputs": [
    {
     "name": "stdout",
     "output_type": "stream",
     "text": [
      "0.4892086330935252\n"
     ]
    }
   ],
   "source": [
    "dtc = DecisionTreeClassifier(max_depth=10)\n",
    "dtc.fit(X_train, y_train)\n",
    "preds_dtc = dtc.predict(X_test)\n",
    "accuracy_dtc = accuracy_score(preds_dtc, y_test)\n",
    "print(accuracy_dtc)"
   ]
  },
  {
   "cell_type": "code",
   "execution_count": 27,
   "metadata": {},
   "outputs": [
    {
     "name": "stdout",
     "output_type": "stream",
     "text": [
      "0.4251497005988024\n",
      "0.4868191328186999\n",
      "0.5808383233532934\n"
     ]
    }
   ],
   "source": [
    "dtc_cv_scores = cross_val_score(dtc, X_train, y_train, scoring='accuracy', cv = kfolds)\n",
    "\n",
    "print(dtc_cv_scores.min())\n",
    "print(dtc_cv_scores.mean())\n",
    "print(dtc_cv_scores.max())"
   ]
  },
  {
   "cell_type": "code",
   "execution_count": 28,
   "metadata": {},
   "outputs": [
    {
     "data": {
      "text/plain": [
       "1.4881134033203125"
      ]
     },
     "execution_count": 28,
     "metadata": {},
     "output_type": "execute_result"
    }
   ],
   "source": [
    "arr_latency_dtc = []\n",
    "\n",
    "for i in range(0, iterations):\n",
    "    start_time = time.time()\n",
    "    preds_dtc = dtc.predict(X_test)\n",
    "    end_time = time.time()\n",
    "    latency_dtc = (end_time - start_time) * 1000\n",
    "    arr_latency_dtc.append(latency_dtc)\n",
    "    \n",
    "np.mean(arr_latency_dtc)"
   ]
  },
  {
   "cell_type": "code",
   "execution_count": 29,
   "metadata": {},
   "outputs": [
    {
     "name": "stdout",
     "output_type": "stream",
     "text": [
      "0.47368421052631576\n",
      "0.5079108391608391\n",
      "0.5311004784688995\n"
     ]
    }
   ],
   "source": [
    "# all data\n",
    "\n",
    "dtc_all = DecisionTreeClassifier(max_depth=10)\n",
    "\n",
    "dtc_cv_scores_all = cross_val_score(dtc_all, X, y, scoring='accuracy', cv = kfolds)\n",
    "\n",
    "print(dtc_cv_scores_all.min())\n",
    "print(dtc_cv_scores_all.mean())\n",
    "print(dtc_cv_scores_all.max())"
   ]
  },
  {
   "cell_type": "markdown",
   "metadata": {},
   "source": [
    "### Random Forest Classifier"
   ]
  },
  {
   "cell_type": "code",
   "execution_count": 30,
   "metadata": {},
   "outputs": [
    {
     "name": "stdout",
     "output_type": "stream",
     "text": [
      "0.6091127098321343\n"
     ]
    }
   ],
   "source": [
    "rfc = RandomForestClassifier(max_depth=23)\n",
    "rfc.fit(X_train, y_train)\n",
    "preds_rfc = rfc.predict(X_test)\n",
    "accuracy_rfc = accuracy_score(preds_rfc, y_test)\n",
    "print(accuracy_rfc)"
   ]
  },
  {
   "cell_type": "code",
   "execution_count": 31,
   "metadata": {},
   "outputs": [
    {
     "name": "stdout",
     "output_type": "stream",
     "text": [
      "0.48502994011976047\n",
      "0.5743669287930163\n",
      "0.6766467065868264\n"
     ]
    }
   ],
   "source": [
    "rfc_cv_scores = cross_val_score(rfc, X_train, y_train, scoring='accuracy', cv = kfolds)\n",
    "\n",
    "print(rfc_cv_scores.min())\n",
    "print(rfc_cv_scores.mean())\n",
    "print(rfc_cv_scores.max())"
   ]
  },
  {
   "cell_type": "code",
   "execution_count": 32,
   "metadata": {},
   "outputs": [
    {
     "data": {
      "text/plain": [
       "16.109800338745117"
      ]
     },
     "execution_count": 32,
     "metadata": {},
     "output_type": "execute_result"
    }
   ],
   "source": [
    "arr_latency_rfc = []\n",
    "\n",
    "for i in range(0, iterations):\n",
    "    start_time = time.time()\n",
    "    preds_rfc = rfc.predict(X_test)\n",
    "    end_time = time.time()\n",
    "    latency_rfc = (end_time - start_time) * 1000\n",
    "    arr_latency_rfc.append(latency_rfc)\n",
    "    \n",
    "np.mean(arr_latency_rfc)"
   ]
  },
  {
   "cell_type": "code",
   "execution_count": 33,
   "metadata": {},
   "outputs": [
    {
     "name": "stdout",
     "output_type": "stream",
     "text": [
      "0.5432692307692307\n",
      "0.6009408354803092\n",
      "0.631578947368421\n"
     ]
    }
   ],
   "source": [
    "# all data\n",
    "\n",
    "rfc_all = RandomForestClassifier(max_depth=23)\n",
    "\n",
    "rfc_cv_scores_all = cross_val_score(rfc_all, X, y, scoring='accuracy', cv = kfolds)\n",
    "\n",
    "print(rfc_cv_scores_all.min())\n",
    "print(rfc_cv_scores_all.mean())\n",
    "print(rfc_cv_scores_all.max())"
   ]
  },
  {
   "cell_type": "markdown",
   "metadata": {},
   "source": [
    "## 2.7 Support Vector Machines (SVM)"
   ]
  },
  {
   "cell_type": "markdown",
   "metadata": {},
   "source": [
    "### Linear kernel"
   ]
  },
  {
   "cell_type": "code",
   "execution_count": 34,
   "metadata": {},
   "outputs": [
    {
     "name": "stdout",
     "output_type": "stream",
     "text": [
      "0.5779376498800959\n"
     ]
    }
   ],
   "source": [
    "svm_linear = SVC(C=2, kernel='linear')\n",
    "svm_linear.fit(X_train, y_train)\n",
    "preds_svm_linear = svm_linear.predict(X_test)\n",
    "accuracy_svm_linear = accuracy_score(preds_svm_linear, y_test)\n",
    "print(accuracy_svm_linear)"
   ]
  },
  {
   "cell_type": "code",
   "execution_count": 35,
   "metadata": {},
   "outputs": [
    {
     "name": "stdout",
     "output_type": "stream",
     "text": [
      "0.48502994011976047\n",
      "0.556402856936729\n",
      "0.6024096385542169\n"
     ]
    }
   ],
   "source": [
    "svm_linear_cv_scores = cross_val_score(svm_linear, X_train, y_train, scoring='accuracy', cv = kfolds)\n",
    "\n",
    "print(svm_linear_cv_scores.min())\n",
    "print(svm_linear_cv_scores.mean())\n",
    "print(svm_linear_cv_scores.max())"
   ]
  },
  {
   "cell_type": "code",
   "execution_count": 36,
   "metadata": {},
   "outputs": [
    {
     "data": {
      "text/plain": [
       "24.455968538920086"
      ]
     },
     "execution_count": 36,
     "metadata": {},
     "output_type": "execute_result"
    }
   ],
   "source": [
    "arr_latency_svm_linear = []\n",
    "\n",
    "for i in range(0, iterations):\n",
    "    start_time = time.time()\n",
    "    preds_svm_linear = svm_linear.predict(X_test)\n",
    "    end_time = time.time()\n",
    "    latency_svm_linear = (end_time - start_time) * 1000\n",
    "    arr_latency_svm_linear.append(latency_svm_linear)\n",
    "    \n",
    "np.mean(arr_latency_svm_linear)"
   ]
  },
  {
   "cell_type": "code",
   "execution_count": 37,
   "metadata": {},
   "outputs": [
    {
     "name": "stdout",
     "output_type": "stream",
     "text": [
      "0.5119617224880383\n",
      "0.5602065697460434\n",
      "0.6028708133971292\n"
     ]
    }
   ],
   "source": [
    "# all data\n",
    "\n",
    "svm_linear_all = SVC(C=2, kernel='linear')\n",
    "\n",
    "svm_linear_cv_scores_all = cross_val_score(svm_linear_all, X, y, scoring='accuracy', cv = kfolds)\n",
    "\n",
    "print(svm_linear_cv_scores_all.min())\n",
    "print(svm_linear_cv_scores_all.mean())\n",
    "print(svm_linear_cv_scores_all.max())"
   ]
  },
  {
   "cell_type": "markdown",
   "metadata": {},
   "source": [
    "### Radial Kernel"
   ]
  },
  {
   "cell_type": "code",
   "execution_count": 38,
   "metadata": {},
   "outputs": [
    {
     "name": "stdout",
     "output_type": "stream",
     "text": [
      "0.6235011990407674\n"
     ]
    }
   ],
   "source": [
    "svm_radial = SVC(C=3, kernel='rbf',gamma=1)\n",
    "svm_radial.fit(X_train, y_train)\n",
    "preds_svm_radial = svm_radial.predict(X_test)\n",
    "accuracy_svm_radial = accuracy_score(preds_svm_radial, y_test)\n",
    "print(accuracy_svm_radial)"
   ]
  },
  {
   "cell_type": "code",
   "execution_count": 39,
   "metadata": {},
   "outputs": [
    {
     "name": "stdout",
     "output_type": "stream",
     "text": [
      "0.5089820359281437\n",
      "0.5677692807156771\n",
      "0.6766467065868264\n"
     ]
    }
   ],
   "source": [
    "svm_radial_cv_scores = cross_val_score(svm_radial, X_train, y_train, scoring='accuracy', cv = kfolds)\n",
    "\n",
    "print(svm_radial_cv_scores.min())\n",
    "print(svm_radial_cv_scores.mean())\n",
    "print(svm_radial_cv_scores.max())"
   ]
  },
  {
   "cell_type": "code",
   "execution_count": 40,
   "metadata": {},
   "outputs": [
    {
     "data": {
      "text/plain": [
       "75.02907911936443"
      ]
     },
     "execution_count": 40,
     "metadata": {},
     "output_type": "execute_result"
    }
   ],
   "source": [
    "arr_latency_svm_radial = []\n",
    "\n",
    "for i in range(0, iterations):\n",
    "    start_time = time.time()\n",
    "    preds_svm_radial = svm_radial.predict(X_test)\n",
    "    end_time = time.time()\n",
    "    latency_svm_radial = (end_time - start_time) * 1000\n",
    "    arr_latency_svm_radial.append(latency_svm_radial)\n",
    "    \n",
    "np.mean(arr_latency_svm_radial)"
   ]
  },
  {
   "cell_type": "code",
   "execution_count": 41,
   "metadata": {},
   "outputs": [
    {
     "name": "stdout",
     "output_type": "stream",
     "text": [
      "0.5240384615384616\n",
      "0.5947023371365476\n",
      "0.6267942583732058\n"
     ]
    }
   ],
   "source": [
    "# all data\n",
    "\n",
    "svm_radial_all = SVC(C=3, kernel='rbf',gamma=1)\n",
    "\n",
    "svm_radial_cv_scores_all = cross_val_score(svm_radial_all, X, y, scoring='accuracy', cv = kfolds)\n",
    "\n",
    "print(svm_radial_cv_scores_all.min())\n",
    "print(svm_radial_cv_scores_all.mean())\n",
    "print(svm_radial_cv_scores_all.max())"
   ]
  },
  {
   "cell_type": "markdown",
   "metadata": {},
   "source": [
    "### Polynomial Kernel"
   ]
  },
  {
   "cell_type": "code",
   "execution_count": 42,
   "metadata": {},
   "outputs": [
    {
     "name": "stdout",
     "output_type": "stream",
     "text": [
      "0.592326139088729\n"
     ]
    }
   ],
   "source": [
    "svm_polynomial = SVC(C=5, kernel='poly', degree=4 ,gamma = 0.1)\n",
    "svm_polynomial.fit(X_train, y_train)\n",
    "preds_svm_polynomial = svm_polynomial.predict(X_test)\n",
    "accuracy_svm_polynomial = accuracy_score(preds_svm_polynomial, y_test)\n",
    "print(accuracy_svm_polynomial)"
   ]
  },
  {
   "cell_type": "code",
   "execution_count": 43,
   "metadata": {},
   "outputs": [
    {
     "name": "stdout",
     "output_type": "stream",
     "text": [
      "0.5029940119760479\n",
      "0.5599920640646419\n",
      "0.6167664670658682\n"
     ]
    }
   ],
   "source": [
    "svm_polynomial_cv_scores = cross_val_score(svm_polynomial, X_train, y_train, scoring='accuracy', cv = kfolds)\n",
    "\n",
    "print(svm_polynomial_cv_scores.min())\n",
    "print(svm_polynomial_cv_scores.mean())\n",
    "print(svm_polynomial_cv_scores.max())"
   ]
  },
  {
   "cell_type": "code",
   "execution_count": 44,
   "metadata": {},
   "outputs": [
    {
     "data": {
      "text/plain": [
       "26.3461430867513"
      ]
     },
     "execution_count": 44,
     "metadata": {},
     "output_type": "execute_result"
    }
   ],
   "source": [
    "arr_latency_svm_polynomial = []\n",
    "\n",
    "for i in range(0, iterations):\n",
    "    start_time = time.time()\n",
    "    preds_svm_polynomial = svm_polynomial.predict(X_test)\n",
    "    end_time = time.time()\n",
    "    latency_svm_polynomial = (end_time - start_time) * 1000\n",
    "    arr_latency_svm_polynomial.append(latency_svm_polynomial)\n",
    "    \n",
    "np.mean(arr_latency_svm_polynomial)"
   ]
  },
  {
   "cell_type": "code",
   "execution_count": 45,
   "metadata": {},
   "outputs": [
    {
     "name": "stdout",
     "output_type": "stream",
     "text": [
      "0.5432692307692307\n",
      "0.5788990614648509\n",
      "0.6201923076923077\n"
     ]
    }
   ],
   "source": [
    "# all data\n",
    "\n",
    "svm_polynomial_all = SVC(C=5, kernel='poly', degree=4 ,gamma = 0.1)\n",
    "\n",
    "svm_polynomial_cv_scores_all = cross_val_score(svm_polynomial_all, X, y, scoring='accuracy', cv = kfolds)\n",
    "\n",
    "print(svm_polynomial_cv_scores_all.min())\n",
    "print(svm_polynomial_cv_scores_all.mean())\n",
    "print(svm_polynomial_cv_scores_all.max())"
   ]
  },
  {
   "cell_type": "markdown",
   "metadata": {},
   "source": [
    "\n",
    "\n"
   ]
  },
  {
   "cell_type": "markdown",
   "metadata": {},
   "source": [
    "# Assessing Model Performances\n",
    "\n",
    "## Model Accuracies"
   ]
  },
  {
   "cell_type": "code",
   "execution_count": 46,
   "metadata": {},
   "outputs": [
    {
     "data": {
      "image/png": "[encoded data removed]",
      "text/plain": [
       "<Figure size 1152x576 with 1 Axes>"
      ]
     },
     "metadata": {},
     "output_type": "display_data"
    }
   ],
   "source": [
    "results = pd.DataFrame({\n",
    "    \"Accuracy\":[\n",
    "        accuracy_lr,\n",
    "        accuracy_knn,\n",
    "        accuracy_lda,\n",
    "        accuracy_qda,\n",
    "        accuracy_nb,\n",
    "        accuracy_dtc,\n",
    "        accuracy_rfc,\n",
    "        accuracy_svm_linear,\n",
    "        accuracy_svm_radial,\n",
    "        accuracy_svm_polynomial\n",
    "        \n",
    "    ],\n",
    "    \"Models\":[\n",
    "        \"LR\",\n",
    "        \"kNN\",\n",
    "        \"LDA\",\n",
    "        \"QDA\",\n",
    "        \"NB\",\n",
    "        \"DTC\",\n",
    "        \"RFC\",\n",
    "        \"SVM Linear\",\n",
    "        \"SVM Radial\",\n",
    "        \"SVM Poly\"\n",
    "    ]\n",
    "})\n",
    "\n",
    "results = results.sort_values(\"Accuracy\", ascending=False)\n",
    "\n",
    "# Set up the matplotlib figure\n",
    "fig, ax = plt.subplots(figsize=(16,8))\n",
    "\n",
    "cplot = sns.barplot(data=results, x=\"Models\", y=\"Accuracy\",ax=ax, palette=\"dark:salmon_r\")\n",
    "\n",
    "for p in cplot.patches:\n",
    "    cplot.annotate(format(p.get_height(), '.3f'), \n",
    "                   (p.get_x() + p.get_width() / 2., p.get_height()), \n",
    "                   ha = 'center', va = 'center', \n",
    "                   xytext = (0, 9), \n",
    "                   textcoords = 'offset points')\n",
    "\n",
    "# Add labels to plot\n",
    "plt.xlabel(\"Models\")\n",
    "plt.ylabel(\"Accuracy (Higher is better)\")\n",
    "\n",
    "plt.show()"
   ]
  },
  {
   "cell_type": "code",
   "execution_count": 47,
   "metadata": {},
   "outputs": [
    {
     "data": {
      "image/png": "[encoded data removed]",
      "text/plain": [
       "<Figure size 1152x576 with 1 Axes>"
      ]
     },
     "metadata": {},
     "output_type": "display_data"
    }
   ],
   "source": [
    "results = pd.DataFrame({\n",
    "    \"Accuracy\":[\n",
    "        lr_cv_scores.mean(),\n",
    "        knn_cv_scores.mean(),\n",
    "        lda_cv_scores.mean(),\n",
    "        qda_cv_scores.mean(),\n",
    "        nb_cv_scores.mean(),\n",
    "        dtc_cv_scores.mean(),\n",
    "        rfc_cv_scores.mean(),\n",
    "        svm_linear_cv_scores.mean(),\n",
    "        svm_radial_cv_scores.mean(),\n",
    "        svm_polynomial_cv_scores.mean()\n",
    "    ],\n",
    "    \"Models\":[\n",
    "        \"LR\",\n",
    "        \"kNN\",\n",
    "        \"LDA\",\n",
    "        \"QDA\",\n",
    "        \"NB\",\n",
    "        \"DTC\",\n",
    "        \"RFC\",\n",
    "        \"SVM Linear\",\n",
    "        \"SVM Radial\",\n",
    "        \"SVM Poly\"\n",
    "    ]\n",
    "})\n",
    "\n",
    "results = results.sort_values(\"Accuracy\", ascending=False)\n",
    "\n",
    "# Set up the matplotlib figure\n",
    "fig, ax = plt.subplots(figsize=(16,8))\n",
    "\n",
    "cplot = sns.barplot(data=results, x=\"Models\", y=\"Accuracy\",ax=ax, palette=\"dark:salmon_r\")\n",
    "\n",
    "for p in cplot.patches:\n",
    "    cplot.annotate(format(p.get_height(), '.3f'), \n",
    "                   (p.get_x() + p.get_width() / 2., p.get_height()), \n",
    "                   ha = 'center', va = 'center', \n",
    "                   xytext = (0, 9), \n",
    "                   textcoords = 'offset points')\n",
    "\n",
    "# Add labels to plot\n",
    "plt.xlabel(\"Models\")\n",
    "plt.ylabel(\"Accuracy (CV Mean - Higher is better)\")\n",
    "\n",
    "plt.show()"
   ]
  },
  {
   "cell_type": "code",
   "execution_count": 48,
   "metadata": {},
   "outputs": [
    {
     "data": {
      "image/png": "[encoded data removed]",
      "text/plain": [
       "<Figure size 1152x576 with 1 Axes>"
      ]
     },
     "metadata": {},
     "output_type": "display_data"
    }
   ],
   "source": [
    "results = pd.DataFrame({\n",
    "    \"Accuracy\":[\n",
    "        lr_cv_scores.max(),\n",
    "        knn_cv_scores.max(),\n",
    "        lda_cv_scores.max(),\n",
    "        qda_cv_scores.max(),\n",
    "        nb_cv_scores.max(),\n",
    "        dtc_cv_scores.max(),\n",
    "        rfc_cv_scores.max(),\n",
    "        svm_linear_cv_scores.max(),\n",
    "        svm_radial_cv_scores.max(),\n",
    "        svm_polynomial_cv_scores.max()\n",
    "    ],\n",
    "    \"Models\":[\n",
    "        \"LR\",\n",
    "        \"kNN\",\n",
    "        \"LDA\",\n",
    "        \"QDA\",\n",
    "        \"NB\",\n",
    "        \"DTC\",\n",
    "        \"RFC\",\n",
    "        \"SVM Linear\",\n",
    "        \"SVM Radial\",\n",
    "        \"SVM Poly\"\n",
    "    ]\n",
    "})\n",
    "\n",
    "results = results.sort_values(\"Accuracy\", ascending=False)\n",
    "\n",
    "# Set up the matplotlib figure\n",
    "fig, ax = plt.subplots(figsize=(16,8))\n",
    "\n",
    "cplot = sns.barplot(data=results, x=\"Models\", y=\"Accuracy\",ax=ax, palette=\"dark:salmon_r\")\n",
    "\n",
    "for p in cplot.patches:\n",
    "    cplot.annotate(format(p.get_height(), '.3f'), \n",
    "                   (p.get_x() + p.get_width() / 2., p.get_height()), \n",
    "                   ha = 'center', va = 'center', \n",
    "                   xytext = (0, 9), \n",
    "                   textcoords = 'offset points')\n",
    "\n",
    "# Add labels to plot\n",
    "plt.xlabel(\"Models\")\n",
    "plt.ylabel(\"Accuracy (CV Max -Higher is better)\")\n",
    "\n",
    "plt.show()"
   ]
  },
  {
   "cell_type": "code",
   "execution_count": 49,
   "metadata": {},
   "outputs": [
    {
     "data": {
      "image/png": "[encoded data removed]",
      "text/plain": [
       "<Figure size 1152x576 with 1 Axes>"
      ]
     },
     "metadata": {},
     "output_type": "display_data"
    }
   ],
   "source": [
    "results = pd.DataFrame({\n",
    "    \"Accuracy\":[\n",
    "        lr_cv_scores_all.mean(),\n",
    "        knn_cv_scores_all.mean(),\n",
    "        lda_cv_scores_all.mean(),\n",
    "        qda_cv_scores_all.mean(),\n",
    "        nb_cv_scores_all.mean(),\n",
    "        dtc_cv_scores_all.mean(),\n",
    "        rfc_cv_scores_all.mean(),\n",
    "        svm_linear_cv_scores_all.mean(),\n",
    "        svm_radial_cv_scores_all.mean(),\n",
    "        svm_polynomial_cv_scores_all.mean()\n",
    "    ],\n",
    "    \"Models\":[\n",
    "        \"LR\",\n",
    "        \"kNN\",\n",
    "        \"LDA\",\n",
    "        \"QDA\",\n",
    "        \"NB\",\n",
    "        \"DTC\",\n",
    "        \"RFC\",\n",
    "        \"SVM Linear\",\n",
    "        \"SVM Radial\",\n",
    "        \"SVM Poly\"\n",
    "    ]\n",
    "})\n",
    "\n",
    "results = results.sort_values(\"Accuracy\", ascending=False)\n",
    "\n",
    "# Set up the matplotlib figure\n",
    "fig, ax = plt.subplots(figsize=(16,8))\n",
    "\n",
    "cplot = sns.barplot(data=results, x=\"Models\", y=\"Accuracy\",ax=ax, palette=\"dark:salmon_r\")\n",
    "\n",
    "for p in cplot.patches:\n",
    "    cplot.annotate(format(p.get_height(), '.3f'), \n",
    "                   (p.get_x() + p.get_width() / 2., p.get_height()), \n",
    "                   ha = 'center', va = 'center', \n",
    "                   xytext = (0, 9), \n",
    "                   textcoords = 'offset points')\n",
    "\n",
    "# Add labels to plot\n",
    "plt.xlabel(\"Models\")\n",
    "plt.ylabel(\"Accuracy (CV Mean (all data) - Higher is better)\")\n",
    "\n",
    "plt.show()"
   ]
  },
  {
   "cell_type": "markdown",
   "metadata": {},
   "source": [
    "## Model Response Time"
   ]
  },
  {
   "cell_type": "code",
   "execution_count": 50,
   "metadata": {},
   "outputs": [
    {
     "data": {
      "image/png": "[encoded data removed]",
      "text/plain": [
       "<Figure size 1152x576 with 1 Axes>"
      ]
     },
     "metadata": {},
     "output_type": "display_data"
    }
   ],
   "source": [
    "results = pd.DataFrame({\n",
    "    \"Runtime\":[\n",
    "        np.mean(arr_latency_lr),\n",
    "        np.mean(arr_latency_knn),\n",
    "        np.mean(arr_latency_lda),\n",
    "        np.mean(arr_latency_qda),\n",
    "        np.mean(arr_latency_nb),\n",
    "        np.mean(arr_latency_dtc),\n",
    "        np.mean(arr_latency_rfc),\n",
    "        np.mean(arr_latency_svm_linear),\n",
    "        np.mean(arr_latency_svm_radial),\n",
    "        np.mean(arr_latency_svm_polynomial)\n",
    "    ],\n",
    "    \"Models\":[\n",
    "        \"LR\",\n",
    "        \"kNN\",\n",
    "        \"LDA\",\n",
    "        \"QDA\",\n",
    "        \"NB\",\n",
    "        \"DTC\",\n",
    "        \"RFC\",\n",
    "        \"SVM Linear\",\n",
    "        \"SVM Radial\",\n",
    "        \"SVM Poly\"\n",
    "    ]\n",
    "})\n",
    "\n",
    "results = results.sort_values(\"Runtime\", ascending=False)\n",
    "\n",
    "# Set up the matplotlib figure\n",
    "fig, ax = plt.subplots(figsize=(16,8))\n",
    "\n",
    "cplot = sns.barplot(data=results, x=\"Models\", y=\"Runtime\",ax=ax)\n",
    "\n",
    "for p in cplot.patches:\n",
    "    cplot.annotate(format(p.get_height(), '.3f'), \n",
    "                   (p.get_x() + p.get_width() / 2., p.get_height()), \n",
    "                   ha = 'center', va = 'center', \n",
    "                   xytext = (0, 9), \n",
    "                   textcoords = 'offset points')\n",
    "\n",
    "# Add labels to plot\n",
    "plt.xlabel(\"Models\")\n",
    "plt.ylabel(\"Runtime (ms)\")\n",
    "\n",
    "plt.show()"
   ]
  },
  {
   "cell_type": "markdown",
   "metadata": {},
   "source": [
    "## Model Response Time (remove outlier)"
   ]
  },
  {
   "cell_type": "code",
   "execution_count": 51,
   "metadata": {},
   "outputs": [],
   "source": [
    "def removeOutliers(x, outlierConstant = 1.5):\n",
    "    a = np.array(x)\n",
    "    upper_quartile = np.percentile(a, 75)\n",
    "    lower_quartile = np.percentile(a, 25)\n",
    "    IQR = (upper_quartile - lower_quartile) * outlierConstant\n",
    "    quartileSet = (lower_quartile - IQR, upper_quartile + IQR)\n",
    "    \n",
    "    result = a[np.where((a >= quartileSet[0]) & (a <= quartileSet[1]))]\n",
    "    \n",
    "    return result.tolist()"
   ]
  },
  {
   "cell_type": "code",
   "execution_count": 52,
   "metadata": {},
   "outputs": [],
   "source": [
    "arr_latency_lr_n = removeOutliers(arr_latency_lr)\n",
    "arr_latency_knn_n = removeOutliers(arr_latency_knn)\n",
    "arr_latency_lda_n = removeOutliers(arr_latency_lda)\n",
    "arr_latency_qda_n = removeOutliers(arr_latency_qda)\n",
    "arr_latency_nb_n = removeOutliers(arr_latency_nb)\n",
    "arr_latency_dtc_n = removeOutliers(arr_latency_dtc)\n",
    "arr_latency_rfc_n = removeOutliers(arr_latency_rfc)\n",
    "arr_latency_svm_linear_n = removeOutliers(arr_latency_svm_linear)\n",
    "arr_latency_svm_radial_n = removeOutliers(arr_latency_svm_radial)\n",
    "arr_latency_svm_polynomial_n = removeOutliers(arr_latency_svm_polynomial)"
   ]
  },
  {
   "cell_type": "code",
   "execution_count": 53,
   "metadata": {},
   "outputs": [
    {
     "data": {
      "image/png": "[encoded data removed]",
      "text/plain": [
       "<Figure size 1152x576 with 1 Axes>"
      ]
     },
     "metadata": {},
     "output_type": "display_data"
    }
   ],
   "source": [
    "results = pd.DataFrame({\n",
    "    \"Runtime\":[\n",
    "        np.mean(arr_latency_lr_n),\n",
    "        np.mean(arr_latency_knn_n),\n",
    "        np.mean(arr_latency_lda_n),\n",
    "        np.mean(arr_latency_qda_n),\n",
    "        np.mean(arr_latency_nb_n),\n",
    "        np.mean(arr_latency_dtc_n),\n",
    "        np.mean(arr_latency_rfc_n),\n",
    "        np.mean(arr_latency_svm_linear_n),\n",
    "        np.mean(arr_latency_svm_radial_n),\n",
    "        np.mean(arr_latency_svm_polynomial_n)\n",
    "    ],\n",
    "    \"Models\":[\n",
    "        \"LR\",\n",
    "        \"kNN\",\n",
    "        \"LDA\",\n",
    "        \"QDA\",\n",
    "        \"NB\",\n",
    "        \"DTC\",\n",
    "        \"RFC\",\n",
    "        \"SVM Linear\",\n",
    "        \"SVM Radial\",\n",
    "        \"SVM Poly\"\n",
    "    ]\n",
    "})\n",
    "\n",
    "results = results.sort_values(\"Runtime\", ascending=False)\n",
    "\n",
    "# Set up the matplotlib figure\n",
    "fig, ax = plt.subplots(figsize=(16,8))\n",
    "\n",
    "cplot = sns.barplot(data=results, x=\"Models\", y=\"Runtime\",ax=ax)\n",
    "\n",
    "for p in cplot.patches:\n",
    "    cplot.annotate(format(p.get_height(), '.3f'), \n",
    "                   (p.get_x() + p.get_width() / 2., p.get_height()), \n",
    "                   ha = 'center', va = 'center', \n",
    "                   xytext = (0, 9), \n",
    "                   textcoords = 'offset points')\n",
    "\n",
    "# Add labels to plot\n",
    "plt.xlabel(\"Models\")\n",
    "plt.ylabel(\"Runtime (ms)\")\n",
    "\n",
    "plt.show()"
   ]
  },
  {
   "cell_type": "code",
   "execution_count": null,
   "metadata": {},
   "outputs": [],
   "source": []
  },
  {
   "cell_type": "code",
   "execution_count": null,
   "metadata": {},
   "outputs": [],
   "source": []
  },
  {
   "cell_type": "code",
   "execution_count": null,
   "metadata": {},
   "outputs": [],
   "source": []
  },
  {
   "cell_type": "code",
   "execution_count": null,
   "metadata": {},
   "outputs": [],
   "source": []
  }
 ],
 "metadata": {
  "kernelspec": {
   "display_name": "Python 3",
   "language": "python",
   "name": "python3"
  },
  "language_info": {
   "codemirror_mode": {
    "name": "ipython",
    "version": 3
   },
   "file_extension": ".py",
   "mimetype": "text/x-python",
   "name": "python",
   "nbconvert_exporter": "python",
   "pygments_lexer": "ipython3",
   "version": "3.9.2"
  }
 },
 "nbformat": 4,
 "nbformat_minor": 2
}
