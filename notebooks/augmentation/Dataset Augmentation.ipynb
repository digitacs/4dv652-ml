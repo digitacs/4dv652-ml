{
 "cells": [
  {
   "cell_type": "markdown",
   "id": "aware-instrument",
   "metadata": {},
   "source": [
    "# Dataset Augmentation"
   ]
  },
  {
   "cell_type": "code",
   "execution_count": 1,
   "id": "sunset-token",
   "metadata": {},
   "outputs": [],
   "source": [
    "import sys\n",
    "import pandas as pd\n",
    "import numpy as np"
   ]
  },
  {
   "cell_type": "markdown",
   "id": "copyrighted-recruitment",
   "metadata": {},
   "source": [
    "## 1. Read dataset"
   ]
  },
  {
   "cell_type": "code",
   "execution_count": 2,
   "id": "suspended-diary",
   "metadata": {},
   "outputs": [],
   "source": [
    "dirname = '../../datasets/marked_start_mid_end/'\n",
    "suffix = '.csv'\n",
    "\n",
    "def read_from_file( file_name, rand_num):\n",
    "    \n",
    "    try:\n",
    "        #full_file_name = file_name + str(rand_num) + \"_kinect\"\n",
    "        full_file_name = file_name + str(rand_num)\n",
    "\n",
    "        file_at_path = dirname + full_file_name + suffix\n",
    "\n",
    "        data = pd.read_csv(file_at_path)\n",
    "        \n",
    "        return data, full_file_name\n",
    "    \n",
    "    except IOError as e:\n",
    "        print(e)\n",
    "        return None,None"
   ]
  },
  {
   "cell_type": "markdown",
   "id": "alert-savage",
   "metadata": {},
   "source": [
    "## 2. Read files"
   ]
  },
  {
   "cell_type": "markdown",
   "id": "trained-timing",
   "metadata": {},
   "source": [
    "### 2.1 The A series (A1-A159)"
   ]
  },
  {
   "cell_type": "code",
   "execution_count": 3,
   "id": "consolidated-victoria",
   "metadata": {},
   "outputs": [
    {
     "name": "stdout",
     "output_type": "stream",
     "text": [
      "(229, 28)\n",
      "[Errno 2] No such file or directory: '../../datasets/marked_start_mid_end/A60.csv'\n",
      "[Errno 2] No such file or directory: '../../datasets/marked_start_mid_end/A107.csv'\n",
      "(33093, 28)\n"
     ]
    }
   ],
   "source": [
    "raw_data, full_file_name = read_from_file(\"A\", 1)\n",
    "\n",
    "#print(full_file_name)\n",
    "print(raw_data.shape)\n",
    "\n",
    "for i in range(2,160):\n",
    "    input_data, full_file_name = read_from_file(\"A\", i)\n",
    "    \n",
    "    if(full_file_name is None):\n",
    "        continue\n",
    "    else:\n",
    "        #print(full_file_name)\n",
    "        raw_data = raw_data.append(input_data, ignore_index = True)\n",
    "\n",
    "print(raw_data.shape)"
   ]
  },
  {
   "cell_type": "markdown",
   "id": "driven-graph",
   "metadata": {},
   "source": [
    "### 2.2 The B series (B1-B22)"
   ]
  },
  {
   "cell_type": "code",
   "execution_count": 4,
   "id": "reserved-victoria",
   "metadata": {},
   "outputs": [
    {
     "name": "stdout",
     "output_type": "stream",
     "text": [
      "(38488, 28)\n"
     ]
    }
   ],
   "source": [
    "for i in range(1,23):\n",
    "    input_data, full_file_name = read_from_file(\"B\", i)\n",
    "    \n",
    "    if(full_file_name is None):\n",
    "        continue\n",
    "    else:\n",
    "        #print(full_file_name)\n",
    "        raw_data = raw_data.append(input_data, ignore_index = True)\n",
    "\n",
    "print(raw_data.shape)"
   ]
  },
  {
   "cell_type": "markdown",
   "id": "decreased-dinner",
   "metadata": {},
   "source": [
    "# Data augumentation"
   ]
  },
  {
   "cell_type": "markdown",
   "id": "stretch-classroom",
   "metadata": {},
   "source": [
    "## <font color='green'> Mirror </font>\n",
    "\n",
    "    'a' means all axis else 'x', 'y' or 'z'\n",
    "    if Append calculated data will be appended to the input data"
   ]
  },
  {
   "cell_type": "code",
   "execution_count": 5,
   "id": "stone-adapter",
   "metadata": {},
   "outputs": [],
   "source": [
    "# 'a' means all axis else 'x', 'y' or 'z'\n",
    "# if Append calculated data will be appended to the input data\n",
    "def mirror(data, axis, append=False):\n",
    "    \n",
    "    try:\n",
    "        \n",
    "        if axis == 'a':\n",
    "            target_labels = [col for col in raw_data.columns]\n",
    "        else:\n",
    "            axis = \"_\" + axis\n",
    "            target_labels = [col for col in raw_data.columns if axis in col]\n",
    "\n",
    "        aug_data_mirror = data.copy()\n",
    "\n",
    "        for t in target_labels:\n",
    "            temp = -aug_data_mirror[t]\n",
    "            aug_data_mirror = aug_data_mirror.assign(**{t: temp.values})\n",
    "\n",
    "        if append:\n",
    "            return data.append(aug_data_mirror,ignore_index=True)\n",
    "\n",
    "        return aug_data_mirror\n",
    "    \n",
    "    except IOError as e:\n",
    "        print(e)\n",
    "        return None"
   ]
  },
  {
   "cell_type": "code",
   "execution_count": 6,
   "id": "eligible-farmer",
   "metadata": {},
   "outputs": [
    {
     "name": "stdout",
     "output_type": "stream",
     "text": [
      "(38488, 28)\n"
     ]
    }
   ],
   "source": [
    "aug_data_x_mirror = mirror(raw_data,'x')\n",
    "print(aug_data_x_mirror.shape)"
   ]
  },
  {
   "cell_type": "code",
   "execution_count": 7,
   "id": "operating-shock",
   "metadata": {},
   "outputs": [
    {
     "name": "stdout",
     "output_type": "stream",
     "text": [
      "(76976, 28)\n"
     ]
    }
   ],
   "source": [
    "aug_data_x_mirror_append = mirror(raw_data,'x', append=True)\n",
    "print(aug_data_x_mirror_append.shape)"
   ]
  },
  {
   "cell_type": "code",
   "execution_count": 8,
   "id": "amateur-mileage",
   "metadata": {},
   "outputs": [
    {
     "name": "stdout",
     "output_type": "stream",
     "text": [
      "(38488, 28)\n"
     ]
    }
   ],
   "source": [
    "aug_data_a_mirror = mirror(raw_data,'a')\n",
    "print(aug_data_a_mirror.shape)"
   ]
  },
  {
   "cell_type": "code",
   "execution_count": 9,
   "id": "aware-philadelphia",
   "metadata": {
    "scrolled": true
   },
   "outputs": [
    {
     "name": "stdout",
     "output_type": "stream",
     "text": [
      "(76976, 28)\n"
     ]
    }
   ],
   "source": [
    "aug_data_a_mirror_append = mirror(raw_data,'a', append=True)\n",
    "print(aug_data_a_mirror_append.shape)"
   ]
  },
  {
   "cell_type": "markdown",
   "id": "everyday-people",
   "metadata": {},
   "source": [
    "## <font color='green'> Multiplier </font>\n",
    "\n",
    "    if multiplier > 1 strecth and if multiplier < 1 compress\n",
    "    if Append calculated data will be appended to input data"
   ]
  },
  {
   "cell_type": "code",
   "execution_count": 10,
   "id": "authentic-scratch",
   "metadata": {},
   "outputs": [],
   "source": [
    "# if multiplier > 1 strecth and if multiplier < 1 compress\n",
    "# if Append calculated data will be appended to input data\n",
    "def augMultiplier(data, multiplier, append=False):\n",
    "    \n",
    "    try:\n",
    "        aug_data_offset = data.copy()\n",
    "        aug_data_offset *= multiplier\n",
    "        if append:\n",
    "            return data.append(aug_data_offset,ignore_index=True)\n",
    "        \n",
    "        return aug_data_offset\n",
    "    \n",
    "    except IOError as e:\n",
    "        print(e)\n",
    "        return None"
   ]
  },
  {
   "cell_type": "code",
   "execution_count": 11,
   "id": "breeding-browser",
   "metadata": {},
   "outputs": [
    {
     "name": "stdout",
     "output_type": "stream",
     "text": [
      "(38488, 28)\n"
     ]
    }
   ],
   "source": [
    "aug_data_offset = augMultiplier(raw_data, multiplier=2)\n",
    "print(aug_data_offset.shape)"
   ]
  },
  {
   "cell_type": "code",
   "execution_count": 12,
   "id": "narrative-friendly",
   "metadata": {},
   "outputs": [
    {
     "name": "stdout",
     "output_type": "stream",
     "text": [
      "(76976, 28)\n"
     ]
    }
   ],
   "source": [
    "aug_data_offset_append = augMultiplier(raw_data, multiplier=0.5, append=True)\n",
    "print(aug_data_offset_append.shape)"
   ]
  },
  {
   "cell_type": "markdown",
   "id": "round-bacon",
   "metadata": {},
   "source": [
    "# Explain\n",
    "\n",
    "#### CASE-1  Append False\n",
    "    lets assume we have <font color='red'> A </font>\n",
    "    we perform mirror, it will be <font color='red'> A-mirror </font>\n",
    "    we perform multiplie, it will be <font color='red'> A-multiplier </font>\n",
    "\n",
    "#### CASE-2  Append True for First one\n",
    "    lets assume we have <font color='red'> A </font>\n",
    "    we perform mirror, it will be <font color='red'> A + A-mirror </font>\n",
    "    we perform multiplier, it will be <font color='red'> A-multiplier + A-mirror-multiplier </font>\n",
    "    \n",
    "#### CASE-3  Append True for all\n",
    "    lets assume we have <font color='red'> A </font>\n",
    "    we perform mirror, it will be <font color='red'> A + A-mirror </font>\n",
    "    we perform multiplier, it will be <font color='red'> A + A-mirror + A-multiplier + A-mirror-multiplier </font>\n",
    "    "
   ]
  },
  {
   "cell_type": "markdown",
   "id": "heard-secret",
   "metadata": {},
   "source": [
    "## <font color='green'> Rotate </font>"
   ]
  },
  {
   "cell_type": "code",
   "execution_count": 13,
   "id": "handled-switzerland",
   "metadata": {},
   "outputs": [],
   "source": [
    "def rotatePoint(angle, x,y):\n",
    "    a = np.radians(angle)\n",
    "    cosa = np.cos(a)\n",
    "    sina = np.sin(a)\n",
    "    return x*cosa - y*sina, x*sina + y*cosa"
   ]
  },
  {
   "cell_type": "code",
   "execution_count": 14,
   "id": "discrete-edinburgh",
   "metadata": {},
   "outputs": [],
   "source": [
    "def rotate(data, angle, posenet=False):\n",
    "    \n",
    "    try:\n",
    "        aug_data = data.copy()\n",
    "        length = len(aug_data)\n",
    "        if posenet:\n",
    "            for index, row in aug_data.iterrows():\n",
    "                head_x, head_y = rotatePoint(angle,row['head_x'],row['head_y'])\n",
    "                leftShoulder_x, leftShoulder_y = rotatePoint(angle,row['leftShoulder_x'],row['leftShoulder_y'])\n",
    "                rightShoulder_x, rightShoulder_y = rotatePoint(angle,row['rightShoulder_x'],row['rightShoulder_y'])\n",
    "                leftElbow_x, leftElbow_y = rotatePoint(angle,row['leftElbow_x'],row['leftElbow_y'])\n",
    "                rightElbow_x, rightElbow_y = rotatePoint(angle,row['rightElbow_x'],row['rightElbow_y'])\n",
    "                leftWrist_x, leftWrist_y = rotatePoint(angle,row['leftWrist_x'],row['leftWrist_y'])\n",
    "                rightWrist_x, rightWrist_y = rotatePoint(angle,row['rightWrist_x'],row['rightWrist_y'])\n",
    "                leftHip_x, leftHip_y = rotatePoint(angle,row['leftHip_x'],row['leftHip_y'])\n",
    "                rightHip_x, rightHip_y = rotatePoint(angle,row['rightHip_x'],row['rightHip_y'])\n",
    "                leftKnee_x, leftKnee_y = rotatePoint(angle,row['leftKnee_x'],row['leftKnee_y'])\n",
    "                rightKnee_x, rightKnee_y = rotatePoint(angle,row['rightKnee_x'],row['rightKnee_y'])\n",
    "                leftAnkle_x, leftAnkle_y = rotatePoint(angle,row['leftAnkle_x'],row['leftAnkle_y'])\n",
    "                rightAnkle_x, rightAnkle_y = rotatePoint(angle,row['rightAnkle_x'],row['rightAnkle_y']) \n",
    "                aug_data = aug_data.append({'head_x':head_x,'head_y':head_y,\n",
    "                                            'leftShoulder_x':leftShoulder_x,'leftShoulder_y':leftShoulder_y,\n",
    "                                            'rightShoulder_x':rightShoulder_x,'rightShoulder_y':rightShoulder_y,\n",
    "                                            'leftElbow_x':leftElbow_x,'leftElbow_y':leftElbow_y,\n",
    "                                            'rightElbow_x':rightElbow_x,'rightElbow_y':rightElbow_y,\n",
    "                                            'leftWrist_x':leftWrist_x,'leftWrist_y':leftWrist_y,\n",
    "                                            'rightWrist_x':rightWrist_x,'rightWrist_y':rightWrist_y,\n",
    "                                            'leftHip_x':leftHip_x,'leftHip_y':leftHip_y,\n",
    "                                            'rightHip_x':rightHip_x,'rightHip_y':rightHip_y,\n",
    "                                            'leftKnee_x':leftKnee_x,'leftKnee_y':leftKnee_y,\n",
    "                                            'rightKnee_x':rightKnee_x,'rightKnee_y':rightKnee_y,\n",
    "                                            'leftAnkle_x':leftAnkle_x,'leftAnkle_y':leftAnkle_y,\n",
    "                                            'rightAnkle_x':rightAnkle_x,'rightAnkle_y':rightAnkle_y},ignore_index=True)\n",
    "        else:\n",
    "            for index, row in aug_data.iterrows():\n",
    "                head_x, head_y = rotatePoint(angle,row[' head_x'],row['head_y'])\n",
    "                left_shoulder_x, left_shoulder_y = rotatePoint(angle,row['left_shoulder_x'],row['left_shoulder_y'])\n",
    "                right_shoulder_x, right_shoulder_y = rotatePoint(angle,row['right_shoulder_x'],row['right_shoulder_y'])\n",
    "                left_elbow_x, left_elbow_y = rotatePoint(angle,row['left_elbow_x'],row['left_elbow_y'])\n",
    "                right_elbow_x, right_elbow_y = rotatePoint(angle,row['right_elbow_x'],row['right_elbow_y'])\n",
    "                left_hand_x, left_hand_y = rotatePoint(angle,row['left_hand_x'],row['left_hand_y'])\n",
    "                right_hand_x, right_hand_y = rotatePoint(angle,row['right_hand_x'],row['right_hand_y'])\n",
    "                left_hip_x, left_hip_y = rotatePoint(angle,row['left_hip_x'],row['left_hip_y'])\n",
    "                right_hip_x, right_hip_y = rotatePoint(angle,row['right_hip_x'],row['right_hip_y'])\n",
    "                left_knee_x, left_knee_y = rotatePoint(angle,row['left_knee_x'],row['left_knee_y'])\n",
    "                right_knee_x, right_knee_y = rotatePoint(angle,row['right_knee_x'],row['right_knee_y'])\n",
    "                left_foot_x, left_foot_y = rotatePoint(angle,row['left_foot_x'],row['left_foot_y'])\n",
    "                right_foot_x, right_foot_y = rotatePoint(angle,row['right_foot_x'],row['right_foot_y']) \n",
    "                aug_data = aug_data.append({' head_x':head_x,'head_y':head_y,\n",
    "                                            'left_shoulder_x':left_shoulder_x,'left_shoulder_y':left_shoulder_y,\n",
    "                                            'right_shoulder_x':right_shoulder_x,'right_shoulder_y':right_shoulder_y,\n",
    "                                            'left_elbow_x':left_elbow_x,'left_elbow_y':left_elbow_y,\n",
    "                                            'right_elbow_x':right_elbow_x,'right_elbow_y':right_elbow_y,\n",
    "                                            'left_hand_x':left_hand_x,'left_hand_y':left_hand_y,\n",
    "                                            'right_hand_x':right_hand_x,'right_hand_y':right_hand_y,\n",
    "                                            'left_hip_x':left_hip_x,'left_hip_y':left_hip_y,\n",
    "                                            'right_hip_x':right_hip_x,'right_hip_y':right_hip_y,\n",
    "                                            'left_knee_x':left_knee_x,'left_knee_y':left_knee_y,\n",
    "                                            'right_knee_x':right_knee_x,'right_knee_y':right_knee_y,\n",
    "                                            'left_foot_x':left_foot_x,'left_foot_y':left_foot_y,\n",
    "                                            'right_foot_x':right_foot_x,'right_foot_y':right_foot_y},ignore_index=True)\n",
    "        \n",
    "        return aug_data\n",
    "    \n",
    "    except IOError as e:\n",
    "        print(e)\n",
    "        return None"
   ]
  },
  {
   "cell_type": "code",
   "execution_count": 15,
   "id": "graduate-promise",
   "metadata": {},
   "outputs": [
    {
     "name": "stdout",
     "output_type": "stream",
     "text": [
      "       FrameNo      head_x       head_y  leftShoulder_x  leftShoulder_y  \\\n",
      "0            0  262.066742   994.135620      375.759686     1057.411090   \n",
      "1            1  263.581139   992.800872      375.749203     1056.170479   \n",
      "2            2  263.243067   993.016745      375.931049     1055.647247   \n",
      "3            3  264.052307   992.361849      377.491020     1056.573054   \n",
      "4            4  263.674868   992.907155      377.245414     1056.405841   \n",
      "...        ...         ...          ...             ...             ...   \n",
      "38483      235  187.020227  1063.302928      268.349169     1101.640977   \n",
      "38484      236  186.034678  1063.276455      267.295066     1101.947708   \n",
      "38485      237  186.855136  1061.691429      265.131050     1100.384655   \n",
      "38486      238  186.557939  1058.923707      260.327946     1095.851565   \n",
      "38487      239  185.851574  1058.682094      258.055370     1101.839875   \n",
      "\n",
      "       rightShoulder_x  rightShoulder_y  leftElbow_x  leftElbow_y  \\\n",
      "0           382.580955       920.305207   496.493179  1079.227467   \n",
      "1           381.573855       920.501798   496.708486  1078.117512   \n",
      "2           381.855203       920.968293   495.078997  1078.130609   \n",
      "3           382.514724       920.283090   496.138878  1077.009937   \n",
      "4           382.608525       920.873450   493.847589  1076.760449   \n",
      "...                ...              ...          ...          ...   \n",
      "38483       275.092599       980.337267   370.437723  1153.259502   \n",
      "38484       274.296104       982.232003   368.424443  1140.413321   \n",
      "38485       275.215525       981.939868   365.989888  1153.517583   \n",
      "38486       273.896970       980.764162   352.193104  1139.656477   \n",
      "38487       273.309626       980.763985   364.944871  1144.986951   \n",
      "\n",
      "       rightElbow_x  ...   rightHip_y  leftKnee_x   leftKnee_y  rightKnee_x  \\\n",
      "0        501.843892  ...   932.162345  790.678961  1048.936701   799.932411   \n",
      "1        498.224803  ...   942.356170  788.839322  1046.899053   789.020575   \n",
      "2        501.484271  ...   942.744961  791.051172  1047.688357   785.984456   \n",
      "3        504.516806  ...   943.913966  783.807687  1041.109386   789.262715   \n",
      "4        505.960956  ...   942.773498  782.652318  1040.924647   788.349922   \n",
      "...             ...  ...          ...         ...          ...          ...   \n",
      "38483    378.432958  ...  1004.961255  643.393000  1085.001933   636.348946   \n",
      "38484    377.119350  ...  1005.780483  638.514953  1084.204138   637.767792   \n",
      "38485    378.954248  ...  1004.996926  638.237042  1083.858278   638.585463   \n",
      "38486    374.662521  ...  1001.659971  637.281734  1083.874370   639.221573   \n",
      "38487    371.892162  ...  1008.504230  641.796321  1085.459160   637.586840   \n",
      "\n",
      "       rightKnee_y  leftAnkle_x  leftAnkle_y  rightAnkle_x  rightAnkle_y  \\\n",
      "0       916.659549   987.035062  1052.085086    985.324309    914.177256   \n",
      "1       911.572589   987.674662  1053.617341    982.446002    913.666266   \n",
      "2       912.766431   988.034841  1054.136438    982.152660    915.409163   \n",
      "3       912.361445   987.864322  1053.845620    984.492254    916.521814   \n",
      "4       912.042381   987.438456  1053.170948    982.304178    913.830744   \n",
      "...            ...          ...          ...           ...           ...   \n",
      "38483  1013.502414   794.880987  1080.577164    793.098244   1003.013258   \n",
      "38484  1013.403677   794.218175  1079.982319    793.458130   1003.044199   \n",
      "38485  1013.539751   793.801283  1079.818405    793.777122   1002.993298   \n",
      "38486  1004.560148   793.834250  1079.758448    793.826335   1003.044853   \n",
      "38487  1012.432205   794.001962  1080.628126    793.510520   1002.885960   \n",
      "\n",
      "       status  \n",
      "0           0  \n",
      "1           0  \n",
      "2           0  \n",
      "3           0  \n",
      "4           0  \n",
      "...       ...  \n",
      "38483       2  \n",
      "38484       2  \n",
      "38485       2  \n",
      "38486       2  \n",
      "38487       2  \n",
      "\n",
      "[38488 rows x 28 columns]\n",
      "    FrameNo      head_x      head_y  leftShoulder_x  leftShoulder_y  \\\n",
      "0       0.0  262.066742  994.135620      375.759686     1057.411090   \n",
      "1       1.0  263.581139  992.800872      375.749203     1056.170479   \n",
      "2       2.0  263.243067  993.016745      375.931049     1055.647247   \n",
      "3       3.0  264.052307  992.361849      377.491020     1056.573054   \n",
      "4       4.0  263.674868  992.907155      377.245414     1056.405841   \n",
      "5       5.0  263.866808  992.915822      377.692335     1057.053489   \n",
      "6       6.0  263.779731  992.854358      378.216695     1056.491807   \n",
      "7       7.0  263.812344  993.278184      378.188847     1056.364199   \n",
      "8       8.0  263.396337  993.372155      378.281319     1056.457882   \n",
      "9       9.0  263.313774  992.983387      378.051834     1057.111169   \n",
      "10      NaN  430.715198  933.525054      553.668561      976.096654   \n",
      "11      NaN  431.974811  931.947611      553.442807      974.876712   \n",
      "12      NaN  431.679362  932.218910      553.531032      974.329852   \n",
      "13      NaN  432.362585  931.433441      555.228068      974.970708   \n",
      "14      NaN  432.085572  932.036004      554.957158      974.848683   \n",
      "15      NaN  432.276102  932.011209      555.509752      975.408886   \n",
      "16      NaN  432.179674  931.965800      555.928610      974.764683   \n",
      "17      NaN  432.285388  932.377523      555.879026      974.643849   \n",
      "18      NaN  431.892019  932.542306      555.986362      974.720052   \n",
      "19      NaN  431.743202  932.173781      555.873805      975.403263   \n",
      "\n",
      "    rightShoulder_x  rightShoulder_y  leftElbow_x  leftElbow_y  rightElbow_x  \\\n",
      "0        382.580955       920.305207   496.493179  1079.227467    501.843892   \n",
      "1        381.573855       920.501798   496.708486  1078.117512    498.224803   \n",
      "2        381.855203       920.968293   495.078997  1078.130609    501.484271   \n",
      "3        382.514724       920.283090   496.138878  1077.009937    504.516806   \n",
      "4        382.608525       920.873450   493.847589  1076.760449    505.960956   \n",
      "5        381.870450       921.498170   493.501056  1076.238506    504.750009   \n",
      "6        381.856089       921.518940   494.203263  1075.862387    504.191375   \n",
      "7        381.959575       921.566659   495.498815  1077.529412    505.234305   \n",
      "8        382.357842       921.122933   494.953912  1077.839628    505.599854   \n",
      "9        382.873244       919.699490   491.723925  1081.844968    495.280277   \n",
      "10       536.578013       839.889217   676.356215   976.616441    650.805850   \n",
      "11       535.620351       840.257703   676.375510   975.485961    646.926001   \n",
      "12       535.978430       840.668255   674.773050   975.781816    650.268628   \n",
      "13       536.508947       839.878937   675.622226   974.494125    653.328493   \n",
      "14       536.703838       840.444040   673.322424   974.646304    654.883873   \n",
      "15       536.085458       841.187435   672.890521   974.192466    653.873312   \n",
      "16       536.074922       841.210383   673.516748   973.700124    653.319685   \n",
      "17       536.185122       841.239407   675.082093   975.116853    654.432590   \n",
      "18       536.500286       840.733264   674.599337   975.516977    654.587895   \n",
      "19       536.760680       839.241947   672.113941   980.022348    643.247851   \n",
      "\n",
      "    ...  rightHip_y  leftKnee_x   leftKnee_y  rightKnee_x  rightKnee_y  \\\n",
      "0   ...  932.162345  790.678961  1048.936701   799.932411   916.659549   \n",
      "1   ...  942.356170  788.839322  1046.899053   789.020575   911.572589   \n",
      "2   ...  942.744961  791.051172  1047.688357   785.984456   912.766431   \n",
      "3   ...  943.913966  783.807687  1041.109386   789.262715   912.361445   \n",
      "4   ...  942.773498  782.652318  1040.924647   788.349922   912.042381   \n",
      "5   ...  941.536880  783.800767  1039.875912   789.406777   913.393860   \n",
      "6   ...  941.666464  789.130880  1047.598564   789.727399   913.953322   \n",
      "7   ...  942.290435  788.911109  1048.226004   778.392791   924.165447   \n",
      "8   ...  942.062353  780.407068  1041.247015   788.788469   914.142925   \n",
      "9   ...  935.361255  789.183133  1050.129471   776.271608   922.135732   \n",
      "10  ...  812.671448  960.812717   895.701035   946.955901   763.826625   \n",
      "11  ...  823.640637  958.647193   894.013793   935.326498   760.711768   \n",
      "12  ...  823.890476  960.962501   894.407023   932.543814   762.414689   \n",
      "13  ...  825.125444  952.686635   889.185818   935.701944   761.446592   \n",
      "14  ...  824.036162  951.516738   889.204514   934.747613   761.290881   \n",
      "15  ...  823.015274  952.465629   887.972285   936.023094   762.438306   \n",
      "16  ...  823.119606  959.055790   894.652049   936.435994   762.933593   \n",
      "17  ...  823.658645  958.948312   895.308119   927.046901   774.958808   \n",
      "18  ...  823.402325  949.361578   889.911868   935.544253   763.283360   \n",
      "19  ...  816.184453  959.546737   897.135432   924.605487   773.328268   \n",
      "\n",
      "    leftAnkle_x  leftAnkle_y  rightAnkle_x  rightAnkle_y  status  \n",
      "0    987.035062  1052.085086    985.324309    914.177256     0.0  \n",
      "1    987.674662  1053.617341    982.446002    913.666266     0.0  \n",
      "2    988.034841  1054.136438    982.152660    915.409163     0.0  \n",
      "3    987.864322  1053.845620    984.492254    916.521814     0.0  \n",
      "4    987.438456  1053.170948    982.304178    913.830744     0.0  \n",
      "5    987.859097  1053.771122    981.648023    913.512361     0.0  \n",
      "6    988.167075  1053.556277    981.343321    913.562862     0.0  \n",
      "7    988.229777  1053.264500    981.111465    913.741334     0.0  \n",
      "8    988.474371  1053.208370    981.195015    913.408041     0.0  \n",
      "9    988.030282  1052.898044    982.553542    913.862464     0.0  \n",
      "10  1154.732440   864.704710   1129.100233    729.189079     NaN  \n",
      "11  1155.628395   866.102621   1126.176921    729.185665     NaN  \n",
      "12  1156.073243   866.551287   1126.190687    730.953021     NaN  \n",
      "13  1155.854815   866.294498   1128.687948    731.642503     NaN  \n",
      "14  1155.318263   865.704027   1126.065814    729.372271     NaN  \n",
      "15  1155.836732   866.222039   1125.364340    729.172665     NaN  \n",
      "16  1156.102724   865.956978   1125.073037    729.275310     NaN  \n",
      "17  1156.113807   865.658746   1124.875695    729.491332     NaN  \n",
      "18  1156.344938   865.560995   1124.900100    729.148594     NaN  \n",
      "19  1155.853708   865.332499   1126.316897    729.360208     NaN  \n",
      "\n",
      "[20 rows x 28 columns]\n"
     ]
    }
   ],
   "source": [
    "print(raw_data)\n",
    "aug_data = rotate(raw_data.head(10),-10,True)\n",
    "print(aug_data)"
   ]
  },
  {
   "cell_type": "markdown",
   "id": "insured-sport",
   "metadata": {},
   "source": [
    "## <font color='red'> Test </font>"
   ]
  },
  {
   "cell_type": "code",
   "execution_count": 16,
   "id": "scenic-pierre",
   "metadata": {},
   "outputs": [],
   "source": [
    "def drawP(data,posenet=False):\n",
    "    try:\n",
    "        aug_data = data.copy()\n",
    "        if posenet:\n",
    "            for index, row in aug_data.iterrows():\n",
    "                import matplotlib.pyplot as plt\n",
    "                \n",
    "                fig=plt.figure() \n",
    "                ax=fig.add_subplot(111,projection='3d')\n",
    "\n",
    "                # for rotate the axes and update.\n",
    "                for angle in range(0,360): \n",
    "                    ax.view_init(90,angle)\n",
    "\n",
    "                plt.plot([row['leftShoulder_x'],row['leftElbow_x']],[row['leftShoulder_y'],row['leftElbow_y']])\n",
    "                \n",
    "                plt.plot([row['leftElbow_x'],row['leftWrist_x']],[row['leftElbow_y'],row['leftWrist_y']])\n",
    "                \n",
    "                plt.plot([row['leftShoulder_x'],row['leftHip_x']],[row['leftShoulder_y'],row['leftHip_y']])\n",
    "                \n",
    "                plt.plot([row['leftHip_x'],row['leftKnee_x']],[row['leftHip_y'],row['leftKnee_y']])\n",
    "                \n",
    "                plt.plot([row['leftKnee_x'],row['leftAnkle_x']],[row['leftKnee_y'],row['leftAnkle_y']])\n",
    "                \n",
    "                plt.plot([row['leftShoulder_x'],row['rightShoulder_x']],[row['leftShoulder_y'],row['rightShoulder_y']])\n",
    "                \n",
    "                plt.plot([row['rightElbow_x'],row['rightWrist_x']],[row['rightElbow_y'],row['rightWrist_y']])\n",
    "                \n",
    "                plt.plot([row['rightShoulder_x'],row['rightHip_x']],[row['rightShoulder_y'],row['rightHip_y']])\n",
    "                \n",
    "                plt.plot([row['rightHip_x'],row['rightKnee_x']],[row['rightHip_y'],row['rightKnee_y']])\n",
    "                \n",
    "                plt.plot([row['rightShoulder_x'],row['rightElbow_x']],[row['rightShoulder_y'],row['rightElbow_y']])\n",
    "                \n",
    "                plt.plot([row['rightKnee_x'],row['rightAnkle_x']],[row['rightKnee_y'],row['rightAnkle_y']])\n",
    "                \n",
    "                \n",
    "                \n",
    "                plt.show()\n",
    "    except IOError as e:\n",
    "        print(e)"
   ]
  },
  {
   "cell_type": "code",
   "execution_count": 17,
   "id": "comprehensive-tracy",
   "metadata": {},
   "outputs": [
    {
     "data": {
      "image/png": "[encoded data removed]",
      "text/plain": [
       "<Figure size 432x288 with 1 Axes>"
      ]
     },
     "metadata": {
      "needs_background": "light"
     },
     "output_type": "display_data"
    },
    {
     "data": {
      "image/png": "[encoded data removed]",
      "text/plain": [
       "<Figure size 432x288 with 1 Axes>"
      ]
     },
     "metadata": {
      "needs_background": "light"
     },
     "output_type": "display_data"
    },
    {
     "data": {
      "image/png": "[encoded data removed]",
      "text/plain": [
       "<Figure size 432x288 with 1 Axes>"
      ]
     },
     "metadata": {
      "needs_background": "light"
     },
     "output_type": "display_data"
    }
   ],
   "source": [
    "drawP(raw_data.head(3),True)"
   ]
  },
  {
   "cell_type": "markdown",
   "id": "medium-bench",
   "metadata": {},
   "source": [
    "## <font color='green'> Angle [4] </font>"
   ]
  },
  {
   "cell_type": "code",
   "execution_count": 18,
   "id": "therapeutic-berlin",
   "metadata": {},
   "outputs": [],
   "source": [
    "def multiDimenDist(point1,point2):\n",
    "    #find the difference between the two points, its really the same as below\n",
    "    deltaVals = [point2[dimension]-point1[dimension] for dimension in range(len(point1))]\n",
    "    runningSquared = 0\n",
    "    #because the pythagarom theorm works for any dimension we can just use that\n",
    "    for coOrd in deltaVals:\n",
    "        runningSquared += coOrd**2\n",
    "    return runningSquared**(1/2)\n",
    "def findVec(point1,point2,unitSphere = False):\n",
    "    #setting unitSphere to True will make the vector scaled down to a sphere with a radius one, instead of it's orginal length\n",
    "    finalVector = [0 for coOrd in point1]\n",
    "    for dimension, coOrd in enumerate(point1):\n",
    "        #finding total differnce for that co-ordinate(x,y,z...)\n",
    "        deltaCoOrd = point2[dimension]-coOrd\n",
    "        #adding total difference\n",
    "        finalVector[dimension] = deltaCoOrd\n",
    "    if unitSphere:\n",
    "        totalDist = multiDimenDist(point1,point2)\n",
    "        unitVector =[]\n",
    "        for dimen in finalVector:\n",
    "            unitVector.append( dimen/totalDist)\n",
    "        return unitVector\n",
    "    else:\n",
    "        return finalVector"
   ]
  },
  {
   "cell_type": "code",
   "execution_count": 19,
   "id": "patient-barbados",
   "metadata": {},
   "outputs": [],
   "source": [
    "def angleP(data,posenet=False):\n",
    "    try:\n",
    "        aug_data = data.copy()\n",
    "        if posenet:\n",
    "            for index, row in aug_data.iterrows():\n",
    "                #LEFT\n",
    "                vector_11 = findVec([row['leftShoulder_x'],row['leftShoulder_y']], [row['leftElbow_x'],row['leftElbow_y']])\n",
    "                vector_12 = findVec([row['leftShoulder_x'],row['leftShoulder_y']], [row['leftHip_x'],row['leftHip_y']])\n",
    "\n",
    "                unit_vector_11 = vector_11 / np.linalg.norm(vector_11)\n",
    "                unit_vector_12 = vector_12 / np.linalg.norm(vector_12)\n",
    "                angle_left_1 = np.arccos(np.dot(unit_vector_11, unit_vector_12))\n",
    "\n",
    "                #print(np.degrees(angle_left_1))\n",
    "                \n",
    "                vector_13 = findVec([row['leftElbow_x'],row['leftElbow_y']], [row['leftShoulder_x'],row['leftShoulder_y']])\n",
    "                vector_14 = findVec([row['leftElbow_x'],row['leftElbow_y']], [row['leftWrist_x'],row['leftWrist_y']])\n",
    "\n",
    "                unit_vector_13 = vector_13 / np.linalg.norm(vector_13)\n",
    "                unit_vector_14 = vector_14 / np.linalg.norm(vector_14)\n",
    "                angle_left_2 = np.arccos(np.dot(unit_vector_13, unit_vector_14))\n",
    "\n",
    "                #print(np.degrees(angle_left_2))\n",
    "                \n",
    "                #RIGHT\n",
    "                vector_21 = findVec([row['rightShoulder_x'],row['rightShoulder_y']], [row['rightElbow_x'],row['rightElbow_y']])\n",
    "                vector_22 = findVec([row['rightShoulder_x'],row['rightShoulder_y']], [row['rightHip_x'],row['rightHip_y']])\n",
    "\n",
    "                unit_vector_21 = vector_21 / np.linalg.norm(vector_21)\n",
    "                unit_vector_22 = vector_22 / np.linalg.norm(vector_22)\n",
    "                angle_right_1 = np.arccos(np.dot(unit_vector_21, unit_vector_22))\n",
    "\n",
    "                #print(np.degrees(angle_right_1))\n",
    "                \n",
    "                vector_23 = findVec([row['rightElbow_x'],row['rightElbow_y']], [row['rightShoulder_x'],row['rightShoulder_y']])\n",
    "                vector_24 = findVec([row['rightElbow_x'],row['rightElbow_y']], [row['rightWrist_x'],row['rightWrist_y']])\n",
    "\n",
    "                unit_vector_23 = vector_23 / np.linalg.norm(vector_23)\n",
    "                unit_vector_24 = vector_24 / np.linalg.norm(vector_24)\n",
    "                angle_right_2 = np.arccos(np.dot(unit_vector_23, unit_vector_24))\n",
    "\n",
    "                #print(np.degrees(angle_right_2))\n",
    "                \n",
    "                aug_data.loc[index,'angle_left_1'] = angle_left_1\n",
    "                aug_data.loc[index,'angle_left_2'] = angle_left_2\n",
    "                aug_data.loc[index,'angle_right_1'] = angle_right_1\n",
    "                aug_data.loc[index,'angle_right_2'] = angle_right_2\n",
    "        else:\n",
    "            for index, row in aug_data.iterrows():\n",
    "                #LEFT\n",
    "                vector_11 = findVec([row['left_shoulder_x'],row['left_shoulder_y']], [row['left_elbow_x'],row['left_elbow_y']])\n",
    "                vector_12 = findVec([row['left_shoulder_x'],row['left_shoulder_y']], [row['left_hip_x'],row['left_hip_y']])\n",
    "\n",
    "                unit_vector_11 = vector_11 / np.linalg.norm(vector_11)\n",
    "                unit_vector_12 = vector_12 / np.linalg.norm(vector_12)\n",
    "                angle_left_1 = np.arccos(np.dot(unit_vector_11, unit_vector_12))\n",
    "\n",
    "                #print(np.degrees(angle_left_1))\n",
    "                \n",
    "                vector_13 = findVec([row['left_elbow_x'],row['left_elbow_y']], [row['left_shoulder_x'],row['left_shoulder_y']])\n",
    "                vector_14 = findVec([row['left_elbow_x'],row['left_elbow_y']], [row['left_wrist_x'],row['left_wrist_y']])\n",
    "\n",
    "                unit_vector_13 = vector_13 / np.linalg.norm(vector_13)\n",
    "                unit_vector_14 = vector_14 / np.linalg.norm(vector_14)\n",
    "                angle_left_2 = np.arccos(np.dot(unit_vector_13, unit_vector_14))\n",
    "\n",
    "                #print(np.degrees(angle_left_2))\n",
    "                \n",
    "                #RIGHT\n",
    "                vector_21 = findVec([row['right_shoulder_x'],row['right_shoulder_y']], [row['right_elbow_x'],row['right_elbow_y']])\n",
    "                vector_22 = findVec([row['right_shoulder_x'],row['right_shoulder_y']], [row['right_hip_x'],row['right_hip_y']])\n",
    "\n",
    "                unit_vector_21 = vector_21 / np.linalg.norm(vector_21)\n",
    "                unit_vector_22 = vector_22 / np.linalg.norm(vector_22)\n",
    "                angle_right_1 = np.arccos(np.dot(unit_vector_21, unit_vector_22))\n",
    "\n",
    "                #print(np.degrees(angle_right_1))\n",
    "                \n",
    "                vector_23 = findVec([row['right_elbow_x'],row['right_elbow_y']], [row['right_shoulder_x'],row['right_shoulder_y']])\n",
    "                vector_24 = findVec([row['right_elbow_x'],row['right_elbow_y']], [row['right_wrist_x'],row['right_wrist_y']])\n",
    "\n",
    "                unit_vector_23 = vector_23 / np.linalg.norm(vector_23)\n",
    "                unit_vector_24 = vector_24 / np.linalg.norm(vector_24)\n",
    "                angle_right_2 = np.arccos(np.dot(unit_vector_23, unit_vector_24))\n",
    "\n",
    "                #print(np.degrees(angle_right_2))\n",
    "                \n",
    "                aug_data.loc[index,'angle_left_1'] = angle_left_1\n",
    "                aug_data.loc[index,'angle_left_2'] = angle_left_2\n",
    "                aug_data.loc[index,'angle_right_1'] = angle_right_1\n",
    "                aug_data.loc[index,'angle_right_2'] = angle_right_2\n",
    "        \n",
    "        return aug_data\n",
    "    except IOError as e:\n",
    "        print(e)"
   ]
  },
  {
   "cell_type": "code",
   "execution_count": 20,
   "id": "suspended-tower",
   "metadata": {},
   "outputs": [
    {
     "name": "stdout",
     "output_type": "stream",
     "text": [
      "   FrameNo      head_x      head_y  leftShoulder_x  leftShoulder_y  \\\n",
      "0        0  262.066742  994.135620      375.759686     1057.411090   \n",
      "1        1  263.581139  992.800872      375.749203     1056.170479   \n",
      "2        2  263.243067  993.016745      375.931049     1055.647247   \n",
      "\n",
      "   rightShoulder_x  rightShoulder_y  leftElbow_x  leftElbow_y  rightElbow_x  \\\n",
      "0       382.580955       920.305207   496.493179  1079.227467    501.843892   \n",
      "1       381.573855       920.501798   496.708486  1078.117512    498.224803   \n",
      "2       381.855203       920.968293   495.078997  1078.130609    501.484271   \n",
      "\n",
      "   ...  rightKnee_y  leftAnkle_x  leftAnkle_y  rightAnkle_x  rightAnkle_y  \\\n",
      "0  ...   916.659549   987.035062  1052.085086    985.324309    914.177256   \n",
      "1  ...   911.572589   987.674662  1053.617341    982.446002    913.666266   \n",
      "2  ...   912.766431   988.034841  1054.136438    982.152660    915.409163   \n",
      "\n",
      "   status  angle_left_1  angle_left_2  angle_right_1  angle_right_2  \n",
      "0       0      0.261094      3.094569       0.207287       3.102919  \n",
      "1       0      0.267183      3.068789       0.273776       3.127451  \n",
      "2       0      0.282787      3.067851       0.266530       3.125355  \n",
      "\n",
      "[3 rows x 32 columns]\n"
     ]
    }
   ],
   "source": [
    "aug_data = angleP(raw_data.head(3),True)\n",
    "print(aug_data)"
   ]
  },
  {
   "cell_type": "code",
   "execution_count": null,
   "id": "smoking-thickness",
   "metadata": {},
   "outputs": [],
   "source": []
  }
 ],
 "metadata": {
  "kernelspec": {
   "display_name": "Python 3",
   "language": "python",
   "name": "python3"
  },
  "language_info": {
   "codemirror_mode": {
    "name": "ipython",
    "version": 3
   },
   "file_extension": ".py",
   "mimetype": "text/x-python",
   "name": "python",
   "nbconvert_exporter": "python",
   "pygments_lexer": "ipython3",
   "version": "3.9.2"
  }
 },
 "nbformat": 4,
 "nbformat_minor": 5
}
