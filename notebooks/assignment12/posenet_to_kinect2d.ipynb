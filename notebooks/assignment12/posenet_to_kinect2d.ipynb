{
 "metadata": {
  "language_info": {
   "codemirror_mode": {
    "name": "ipython",
    "version": 3
   },
   "file_extension": ".py",
   "mimetype": "text/x-python",
   "name": "python",
   "nbconvert_exporter": "python",
   "pygments_lexer": "ipython3",
   "version": "3.9.2"
  },
  "orig_nbformat": 2,
  "kernelspec": {
   "name": "python392jvsc74a57bd04cd7ab41f5fca4b9b44701077e38c5ffd31fe66a6cab21e0214b68d958d0e462",
   "display_name": "Python 3.9.2 64-bit"
  },
  "metadata": {
   "interpreter": {
    "hash": "4cd7ab41f5fca4b9b44701077e38c5ffd31fe66a6cab21e0214b68d958d0e462"
   }
  }
 },
 "nbformat": 4,
 "nbformat_minor": 2,
 "cells": [
  {
   "source": [
    "# PoseNet 2D to Kinect 2D"
   ],
   "cell_type": "markdown",
   "metadata": {}
  },
  {
   "cell_type": "code",
   "execution_count": 1,
   "metadata": {},
   "outputs": [
    {
     "output_type": "stream",
     "name": "stdout",
     "text": [
      "INFO:tensorflow:Enabling eager execution\n",
      "INFO:tensorflow:Enabling v2 tensorshape\n",
      "INFO:tensorflow:Enabling resource variables\n",
      "INFO:tensorflow:Enabling tensor equality\n",
      "INFO:tensorflow:Enabling control flow v2\n"
     ]
    }
   ],
   "source": [
    "import os\n",
    "import numpy as np\n",
    "import pandas as pd\n",
    "import tensorflow as tf\n",
    "import seaborn as sns\n",
    "import matplotlib.pyplot as plt\n",
    "\n",
    "from tensorflow import keras\n",
    "from tensorflow.keras.optimizers import RMSprop, Adam, SGD"
   ]
  },
  {
   "cell_type": "code",
   "execution_count": 2,
   "metadata": {},
   "outputs": [],
   "source": [
    "import warnings\n",
    "warnings.simplefilter('ignore')"
   ]
  },
  {
   "cell_type": "code",
   "execution_count": 3,
   "metadata": {},
   "outputs": [],
   "source": [
    "posenetDataPath = '../../datasets/posenet-uncut/'\n",
    "kinectDataPath = '../../datasets/kinect_good_preprocessed_not_cut/'\n",
    "\n",
    "X = None\n",
    "y = None\n",
    "\n",
    "train_test_ratio = 0.8\n",
    "random_state = 47\n",
    "\n",
    "# Model parameters\n",
    "learning_rate = 0.001\n",
    "optimizer = 'Adam'\n",
    "loss = 'mse'\n",
    "metrics = ['mae']\n",
    "epochs = 500\n",
    "batch_size = 16\n",
    "layers = [ \n",
    "    { 'type': 'Dense', 'nodes':64, 'activation': 'relu' },\n",
    "    { 'type': 'Dense', 'nodes':64, 'activation': 'relu' },\n",
    "    { 'type': 'Dense', 'nodes':26, 'activation': ''}\n",
    "]\n",
    "\n",
    "# Early stopping parameters\n",
    "monitor = 'val_loss'\n",
    "verbose = 1\n",
    "patience = 20\n",
    "mode = 'min'\n",
    "restore_best_weights = True"
   ]
  },
  {
   "cell_type": "code",
   "execution_count": 4,
   "metadata": {},
   "outputs": [],
   "source": [
    "np.random.seed(random_state)"
   ]
  },
  {
   "source": [
    "## 1. Data Preparation"
   ],
   "cell_type": "markdown",
   "metadata": {}
  },
  {
   "source": [
    "### Load matching files from PoseNet and Kinect"
   ],
   "cell_type": "markdown",
   "metadata": {}
  },
  {
   "cell_type": "code",
   "execution_count": 5,
   "metadata": {},
   "outputs": [
    {
     "output_type": "stream",
     "name": "stdout",
     "text": [
      "(30502, 26)\n(30502, 26)\n"
     ]
    }
   ],
   "source": [
    "import re\n",
    "\n",
    "for file in os.listdir(posenetDataPath):\n",
    "    if file.endswith('.csv'):\n",
    "        try:\n",
    "            posenetData = pd.read_csv(posenetDataPath + file)\n",
    "            kinectData = pd.read_csv(kinectDataPath + '{}_kinect.csv'.format(file.replace('.csv', '')))\n",
    "            # Check amount of frames\n",
    "            if (len(posenetData) == len(kinectData)):\n",
    "                posenetData.drop(columns=['FrameNo'], inplace=True)\n",
    "                if X is None:\n",
    "                    X = posenetData\n",
    "                else:\n",
    "                    X = pd.concat((X, posenetData), ignore_index=True)\n",
    "\n",
    "                # Drop Z-columns from Kinect\n",
    "                z = []\n",
    "                for c in kinectData.columns:\n",
    "                    if re.search(\"^.*_z$\", c):\n",
    "                        z.append(c)\n",
    "                kinectData.drop(columns=z, inplace=True)\n",
    "                kinectData.drop(columns=['FrameNo'], inplace=True)\n",
    "                if y is None:\n",
    "                    y = kinectData\n",
    "                else:\n",
    "                    y = pd.concat((y, kinectData), ignore_index=True)\n",
    "        except IOError as e:\n",
    "            print('Error in reading file: ', e)\n",
    "\n",
    "print(X.shape)\n",
    "print(y.shape)"
   ]
  },
  {
   "source": [
    "### Training and test split"
   ],
   "cell_type": "markdown",
   "metadata": {}
  },
  {
   "cell_type": "code",
   "execution_count": 6,
   "metadata": {},
   "outputs": [
    {
     "output_type": "stream",
     "name": "stdout",
     "text": [
      "(24401, 26)\n(24401, 26)\n(6101, 26)\n(6101, 26)\n"
     ]
    }
   ],
   "source": [
    "from sklearn.model_selection import train_test_split\n",
    "\n",
    "X_train, X_test, y_train, y_test  = train_test_split(X, y, train_size=train_test_ratio, random_state=random_state)\n",
    "\n",
    "input_dim = X_train.shape[1]\n",
    "\n",
    "print(X_train.shape)\n",
    "print(y_train.shape)\n",
    "print(X_test.shape)\n",
    "print(y_test.shape)"
   ]
  },
  {
   "source": [
    "### Scaling"
   ],
   "cell_type": "markdown",
   "metadata": {}
  },
  {
   "cell_type": "code",
   "execution_count": 7,
   "metadata": {},
   "outputs": [
    {
     "output_type": "execute_result",
     "data": {
      "text/plain": [
       "array([[-0.27495994, -0.26773764, -0.34432833, ..., -0.34883442,\n",
       "        -0.58006339, -0.24141234],\n",
       "       [ 1.12571837, -1.12601649,  0.76471187, ..., -0.13458797,\n",
       "        -0.51606205, -0.23704848],\n",
       "       [-0.7464662 ,  0.53853235, -0.9152584 , ...,  0.28876792,\n",
       "        -1.33867572,  0.82637654],\n",
       "       ...,\n",
       "       [-0.23958541,  0.21279773, -0.3489995 , ..., -0.01750024,\n",
       "        -0.70755953,  0.42285945],\n",
       "       [-0.23776884, -0.61749004, -0.31000717, ..., -0.24018406,\n",
       "         1.05727403, -1.26829454],\n",
       "       [-0.44383449, -0.36911555, -0.40507922, ..., -0.34225154,\n",
       "        -0.81226638, -0.16403101]])"
      ]
     },
     "metadata": {},
     "execution_count": 7
    }
   ],
   "source": [
    "from sklearn.preprocessing import StandardScaler\n",
    "\n",
    "scaler = StandardScaler()\n",
    "scaler.fit_transform(X_train)\n",
    "scaler.transform(X_test)"
   ]
  },
  {
   "source": [
    "## 2. DL Model"
   ],
   "cell_type": "markdown",
   "metadata": {}
  },
  {
   "source": [
    "### Layer Factory"
   ],
   "cell_type": "markdown",
   "metadata": {}
  },
  {
   "cell_type": "code",
   "execution_count": 8,
   "metadata": {},
   "outputs": [],
   "source": [
    "from tensorflow.keras.layers import Conv1D, Dense, MaxPooling1D, Dropout, Flatten\n",
    "\n",
    "def layerFactory(type, nodes, activation):\n",
    "    if type == 'Dense':\n",
    "        if not activation:\n",
    "            return Dense(units=nodes)\n",
    "        else:\n",
    "            return Dense(units=nodes, activation=activation)\n",
    "    if type == 'Conv1D':\n",
    "        if not activation:\n",
    "            return Conv1D(units=nodes)\n",
    "        else:\n",
    "            return Conv1D(units=nodes, activation=activation)\n",
    "    if type == 'MaxPooling1D':\n",
    "        if not activation:\n",
    "            return MaxPooling1D(units=nodes)\n",
    "        else:\n",
    "            return MaxPooling1D(units=nodes, activation=activation)\n",
    "    if type == 'Dropout':\n",
    "        if not activation:\n",
    "            return Dropout(units=nodes)\n",
    "        else:\n",
    "            return Dropout(units=nodes, activation=activation)\n",
    "    if type == 'Flatten':\n",
    "        if not activation:\n",
    "            return Flatten(units=nodes)\n",
    "        else:\n",
    "            return Flatten(units=nodes, activation=activation)\n",
    "    \n",
    "    # otherwise return dense as default\n",
    "    return Dense(units=nodes, activation=activation)"
   ]
  },
  {
   "source": [
    "### Model Architecture"
   ],
   "cell_type": "markdown",
   "metadata": {}
  },
  {
   "cell_type": "code",
   "execution_count": 9,
   "metadata": {},
   "outputs": [
    {
     "output_type": "stream",
     "name": "stdout",
     "text": [
      "Model: \"sequential\"\n_________________________________________________________________\nLayer (type)                 Output Shape              Param #   \n=================================================================\ndense (Dense)                (None, 64)                1728      \n_________________________________________________________________\ndense_1 (Dense)              (None, 64)                4160      \n_________________________________________________________________\ndense_2 (Dense)              (None, 26)                1690      \n=================================================================\nTotal params: 7,578\nTrainable params: 7,578\nNon-trainable params: 0\n_________________________________________________________________\n"
     ]
    }
   ],
   "source": [
    "from tensorflow.keras.models import Sequential\n",
    "from tensorflow.keras.layers import InputLayer\n",
    "\n",
    "model = Sequential([\n",
    "    InputLayer(input_shape=(input_dim))\n",
    "])\n",
    "\n",
    "for layer in layers:\n",
    "    model.add(layerFactory(layer['type'], layer['nodes'], layer['activation']))\n",
    "\n",
    "optimizer = tf.keras.optimizers.get(optimizer)\n",
    "optimizer.learning_rate.assign(learning_rate)\n",
    "model.compile(optimizer=optimizer, loss=loss, metrics=metrics)\n",
    "\n",
    "model.summary()"
   ]
  },
  {
   "source": [
    "### Early stopping"
   ],
   "cell_type": "markdown",
   "metadata": {}
  },
  {
   "cell_type": "code",
   "execution_count": 10,
   "metadata": {},
   "outputs": [],
   "source": [
    "from keras.callbacks import EarlyStopping\n",
    "\n",
    "early_stopping = EarlyStopping(\n",
    "    monitor=monitor, \n",
    "    verbose=verbose,\n",
    "    patience=patience,\n",
    "    mode=mode,\n",
    "    restore_best_weights=restore_best_weights)"
   ]
  },
  {
   "source": [
    "### Model Training"
   ],
   "cell_type": "markdown",
   "metadata": {}
  },
  {
   "cell_type": "code",
   "execution_count": 11,
   "metadata": {},
   "outputs": [
    {
     "output_type": "stream",
     "name": "stdout",
     "text": [
      "Epoch 1/500\n",
      "1220/1220 [==============================] - 2s 924us/step - loss: 3197.4748 - mae: 18.7511 - val_loss: 20.6661 - val_mae: 3.3426\n",
      "Epoch 2/500\n",
      "1220/1220 [==============================] - 1s 815us/step - loss: 16.6064 - mae: 2.9894 - val_loss: 10.5197 - val_mae: 2.4068\n",
      "Epoch 3/500\n",
      "1220/1220 [==============================] - 1s 863us/step - loss: 9.3652 - mae: 2.2651 - val_loss: 5.5760 - val_mae: 1.7347\n",
      "Epoch 4/500\n",
      "1220/1220 [==============================] - 1s 887us/step - loss: 5.7128 - mae: 1.7679 - val_loss: 4.0415 - val_mae: 1.5440\n",
      "Epoch 5/500\n",
      "1220/1220 [==============================] - 1s 899us/step - loss: 3.6156 - mae: 1.4179 - val_loss: 2.9750 - val_mae: 1.3108\n",
      "Epoch 6/500\n",
      "1220/1220 [==============================] - 1s 877us/step - loss: 2.3635 - mae: 1.1474 - val_loss: 1.5466 - val_mae: 0.9456\n",
      "Epoch 7/500\n",
      "1220/1220 [==============================] - 1s 784us/step - loss: 1.7192 - mae: 0.9884 - val_loss: 0.9263 - val_mae: 0.7358\n",
      "Epoch 8/500\n",
      "1220/1220 [==============================] - 1s 736us/step - loss: 1.0721 - mae: 0.7781 - val_loss: 0.5923 - val_mae: 0.5848\n",
      "Epoch 9/500\n",
      "1220/1220 [==============================] - 1s 734us/step - loss: 0.6900 - mae: 0.6258 - val_loss: 0.8663 - val_mae: 0.7274\n",
      "Epoch 10/500\n",
      "1220/1220 [==============================] - 1s 726us/step - loss: 0.5878 - mae: 0.5583 - val_loss: 0.2609 - val_mae: 0.3881\n",
      "Epoch 11/500\n",
      "1220/1220 [==============================] - 1s 724us/step - loss: 0.2984 - mae: 0.4163 - val_loss: 0.2921 - val_mae: 0.4244\n",
      "Epoch 12/500\n",
      "1220/1220 [==============================] - 1s 723us/step - loss: 0.2588 - mae: 0.3884 - val_loss: 0.6226 - val_mae: 0.6155\n",
      "Epoch 13/500\n",
      "1220/1220 [==============================] - 1s 725us/step - loss: 0.2177 - mae: 0.3523 - val_loss: 0.3464 - val_mae: 0.4594\n",
      "Epoch 14/500\n",
      "1220/1220 [==============================] - 1s 741us/step - loss: 0.1681 - mae: 0.3035 - val_loss: 0.0610 - val_mae: 0.1831\n",
      "Epoch 15/500\n",
      "1220/1220 [==============================] - 1s 720us/step - loss: 0.1169 - mae: 0.2573 - val_loss: 0.0854 - val_mae: 0.2205\n",
      "Epoch 16/500\n",
      "1220/1220 [==============================] - 1s 729us/step - loss: 0.1081 - mae: 0.2382 - val_loss: 0.0498 - val_mae: 0.1703\n",
      "Epoch 17/500\n",
      "1220/1220 [==============================] - 1s 734us/step - loss: 0.0980 - mae: 0.2054 - val_loss: 0.0536 - val_mae: 0.1782\n",
      "Epoch 18/500\n",
      "1220/1220 [==============================] - 1s 726us/step - loss: 0.0541 - mae: 0.1735 - val_loss: 0.0434 - val_mae: 0.1596\n",
      "Epoch 19/500\n",
      "1220/1220 [==============================] - 1s 729us/step - loss: 0.0493 - mae: 0.1635 - val_loss: 0.0292 - val_mae: 0.1255\n",
      "Epoch 20/500\n",
      "1220/1220 [==============================] - 1s 733us/step - loss: 0.0389 - mae: 0.1467 - val_loss: 0.0462 - val_mae: 0.1654\n",
      "Epoch 21/500\n",
      "1220/1220 [==============================] - 1s 733us/step - loss: 0.0307 - mae: 0.1330 - val_loss: 0.0214 - val_mae: 0.1070\n",
      "Epoch 22/500\n",
      "1220/1220 [==============================] - 1s 731us/step - loss: 0.3207 - mae: 0.2382 - val_loss: 0.0370 - val_mae: 0.1441\n",
      "Epoch 23/500\n",
      "1220/1220 [==============================] - 1s 732us/step - loss: 0.0260 - mae: 0.1170 - val_loss: 0.0159 - val_mae: 0.0923\n",
      "Epoch 24/500\n",
      "1220/1220 [==============================] - 1s 735us/step - loss: 0.0137 - mae: 0.0853 - val_loss: 0.0128 - val_mae: 0.0838\n",
      "Epoch 25/500\n",
      "1220/1220 [==============================] - 1s 734us/step - loss: 0.0118 - mae: 0.0795 - val_loss: 0.0121 - val_mae: 0.0832\n",
      "Epoch 26/500\n",
      "1220/1220 [==============================] - 1s 740us/step - loss: 0.0117 - mae: 0.0796 - val_loss: 0.0100 - val_mae: 0.0735\n",
      "Epoch 27/500\n",
      "1220/1220 [==============================] - 1s 726us/step - loss: 0.0114 - mae: 0.0775 - val_loss: 0.0155 - val_mae: 0.0961\n",
      "Epoch 28/500\n",
      "1220/1220 [==============================] - 1s 728us/step - loss: 0.0118 - mae: 0.0780 - val_loss: 0.0074 - val_mae: 0.0608\n",
      "Epoch 29/500\n",
      "1220/1220 [==============================] - 1s 732us/step - loss: 0.0104 - mae: 0.0692 - val_loss: 0.0331 - val_mae: 0.1286\n",
      "Epoch 30/500\n",
      "1220/1220 [==============================] - 1s 733us/step - loss: 0.0231 - mae: 0.1000 - val_loss: 0.0170 - val_mae: 0.0844\n",
      "Epoch 31/500\n",
      "1220/1220 [==============================] - 1s 742us/step - loss: 0.0170 - mae: 0.0859 - val_loss: 0.0140 - val_mae: 0.0785\n",
      "Epoch 32/500\n",
      "1220/1220 [==============================] - 1s 726us/step - loss: 0.0143 - mae: 0.0782 - val_loss: 0.0149 - val_mae: 0.0816\n",
      "Epoch 33/500\n",
      "1220/1220 [==============================] - 1s 734us/step - loss: 0.0138 - mae: 0.0764 - val_loss: 0.0158 - val_mae: 0.0812\n",
      "Epoch 34/500\n",
      "1220/1220 [==============================] - 1s 731us/step - loss: 0.0129 - mae: 0.0754 - val_loss: 0.0097 - val_mae: 0.0688\n",
      "Epoch 35/500\n",
      "1220/1220 [==============================] - 1s 746us/step - loss: 0.0104 - mae: 0.0699 - val_loss: 0.0085 - val_mae: 0.0641\n",
      "Epoch 36/500\n",
      "1220/1220 [==============================] - 1s 739us/step - loss: 0.0090 - mae: 0.0646 - val_loss: 0.0071 - val_mae: 0.0575\n",
      "Epoch 37/500\n",
      "1220/1220 [==============================] - 1s 747us/step - loss: 0.0076 - mae: 0.0601 - val_loss: 0.0082 - val_mae: 0.0647\n",
      "Epoch 38/500\n",
      "1220/1220 [==============================] - 1s 740us/step - loss: 0.0072 - mae: 0.0579 - val_loss: 0.0065 - val_mae: 0.0532\n",
      "Epoch 39/500\n",
      "1220/1220 [==============================] - 1s 730us/step - loss: 0.0063 - mae: 0.0537 - val_loss: 0.0064 - val_mae: 0.0554\n",
      "Epoch 40/500\n",
      "1220/1220 [==============================] - 1s 740us/step - loss: 0.0058 - mae: 0.0521 - val_loss: 0.0064 - val_mae: 0.0543\n",
      "Epoch 41/500\n",
      "1220/1220 [==============================] - 1s 748us/step - loss: 0.0054 - mae: 0.0498 - val_loss: 0.0052 - val_mae: 0.0494\n",
      "Epoch 42/500\n",
      "1220/1220 [==============================] - 1s 738us/step - loss: 0.0052 - mae: 0.0491 - val_loss: 0.0048 - val_mae: 0.0476\n",
      "Epoch 43/500\n",
      "1220/1220 [==============================] - 1s 741us/step - loss: 0.0050 - mae: 0.0478 - val_loss: 0.0061 - val_mae: 0.0516\n",
      "Epoch 44/500\n",
      "1220/1220 [==============================] - 1s 742us/step - loss: 0.0049 - mae: 0.0477 - val_loss: 0.0051 - val_mae: 0.0481\n",
      "Epoch 45/500\n",
      "1220/1220 [==============================] - 1s 735us/step - loss: 0.0049 - mae: 0.0470 - val_loss: 0.0045 - val_mae: 0.0456\n",
      "Epoch 46/500\n",
      "1220/1220 [==============================] - 1s 745us/step - loss: 0.0048 - mae: 0.0465 - val_loss: 0.0049 - val_mae: 0.0486\n",
      "Epoch 47/500\n",
      "1220/1220 [==============================] - 1s 732us/step - loss: 0.0047 - mae: 0.0464 - val_loss: 0.0044 - val_mae: 0.0447\n",
      "Epoch 48/500\n",
      "1220/1220 [==============================] - 1s 737us/step - loss: 0.0047 - mae: 0.0458 - val_loss: 0.0047 - val_mae: 0.0471\n",
      "Epoch 49/500\n",
      "1220/1220 [==============================] - 1s 733us/step - loss: 0.0047 - mae: 0.0458 - val_loss: 0.0048 - val_mae: 0.0462\n",
      "Epoch 50/500\n",
      "1220/1220 [==============================] - 1s 735us/step - loss: 0.0046 - mae: 0.0455 - val_loss: 0.0045 - val_mae: 0.0446\n",
      "Epoch 51/500\n",
      "1220/1220 [==============================] - 1s 736us/step - loss: 0.0046 - mae: 0.0452 - val_loss: 0.0042 - val_mae: 0.0433\n",
      "Epoch 52/500\n",
      "1220/1220 [==============================] - 1s 731us/step - loss: 0.0047 - mae: 0.0458 - val_loss: 0.0046 - val_mae: 0.0448\n",
      "Epoch 53/500\n",
      "1220/1220 [==============================] - 1s 735us/step - loss: 0.0046 - mae: 0.0454 - val_loss: 0.0044 - val_mae: 0.0440\n",
      "Epoch 54/500\n",
      "1220/1220 [==============================] - 1s 745us/step - loss: 0.0045 - mae: 0.0450 - val_loss: 0.0042 - val_mae: 0.0434\n",
      "Epoch 55/500\n",
      "1220/1220 [==============================] - 1s 799us/step - loss: 0.0046 - mae: 0.0454 - val_loss: 0.0044 - val_mae: 0.0444\n",
      "Epoch 56/500\n",
      "1220/1220 [==============================] - 1s 725us/step - loss: 0.0046 - mae: 0.0454 - val_loss: 0.0045 - val_mae: 0.0452\n",
      "Epoch 57/500\n",
      "1220/1220 [==============================] - 1s 723us/step - loss: 0.0046 - mae: 0.0453 - val_loss: 0.0046 - val_mae: 0.0461\n",
      "Epoch 58/500\n",
      "1220/1220 [==============================] - 1s 726us/step - loss: 0.0047 - mae: 0.0456 - val_loss: 0.0062 - val_mae: 0.0542\n",
      "Epoch 59/500\n",
      "1220/1220 [==============================] - 1s 733us/step - loss: 0.0045 - mae: 0.0452 - val_loss: 0.0042 - val_mae: 0.0434\n",
      "Epoch 60/500\n",
      "1220/1220 [==============================] - 1s 725us/step - loss: 0.0043 - mae: 0.0444 - val_loss: 0.0046 - val_mae: 0.0454\n",
      "Epoch 61/500\n",
      "1220/1220 [==============================] - 1s 725us/step - loss: 0.0046 - mae: 0.0453 - val_loss: 0.0041 - val_mae: 0.0430\n",
      "Epoch 62/500\n",
      "1220/1220 [==============================] - 1s 731us/step - loss: 0.0045 - mae: 0.0451 - val_loss: 0.0043 - val_mae: 0.0443\n",
      "Epoch 63/500\n",
      "1220/1220 [==============================] - 1s 727us/step - loss: 0.0045 - mae: 0.0448 - val_loss: 0.0051 - val_mae: 0.0487\n",
      "Epoch 64/500\n",
      "1220/1220 [==============================] - 1s 740us/step - loss: 0.0044 - mae: 0.0448 - val_loss: 0.0050 - val_mae: 0.0478\n",
      "Epoch 65/500\n",
      "1220/1220 [==============================] - 1s 731us/step - loss: 0.0044 - mae: 0.0446 - val_loss: 0.0041 - val_mae: 0.0431\n",
      "Epoch 66/500\n",
      "1220/1220 [==============================] - 1s 798us/step - loss: 0.0045 - mae: 0.0449 - val_loss: 0.0050 - val_mae: 0.0477\n",
      "Epoch 67/500\n",
      "1220/1220 [==============================] - 1s 885us/step - loss: 0.0045 - mae: 0.0448 - val_loss: 0.0044 - val_mae: 0.0448\n",
      "Epoch 68/500\n",
      "1220/1220 [==============================] - 1s 828us/step - loss: 0.0045 - mae: 0.0449 - val_loss: 0.0044 - val_mae: 0.0442\n",
      "Epoch 69/500\n",
      "1220/1220 [==============================] - 1s 763us/step - loss: 0.0044 - mae: 0.0445 - val_loss: 0.0060 - val_mae: 0.0523\n",
      "Epoch 70/500\n",
      "1220/1220 [==============================] - 1s 732us/step - loss: 0.0046 - mae: 0.0452 - val_loss: 0.0041 - val_mae: 0.0430\n",
      "Epoch 71/500\n",
      "1220/1220 [==============================] - 1s 743us/step - loss: 0.0045 - mae: 0.0449 - val_loss: 0.0041 - val_mae: 0.0436\n",
      "Epoch 72/500\n",
      "1220/1220 [==============================] - 1s 734us/step - loss: 0.0044 - mae: 0.0449 - val_loss: 0.0047 - val_mae: 0.0469\n",
      "Epoch 73/500\n",
      "1220/1220 [==============================] - 1s 732us/step - loss: 0.0047 - mae: 0.0461 - val_loss: 0.0045 - val_mae: 0.0452\n",
      "Epoch 74/500\n",
      "1220/1220 [==============================] - 1s 729us/step - loss: 0.0045 - mae: 0.0450 - val_loss: 0.0041 - val_mae: 0.0430\n",
      "Epoch 75/500\n",
      "1220/1220 [==============================] - 1s 760us/step - loss: 0.0045 - mae: 0.0451 - val_loss: 0.0048 - val_mae: 0.0460\n",
      "Epoch 76/500\n",
      "1220/1220 [==============================] - 1s 756us/step - loss: 0.0044 - mae: 0.0446 - val_loss: 0.0044 - val_mae: 0.0452\n",
      "Epoch 77/500\n",
      "1220/1220 [==============================] - 1s 739us/step - loss: 0.0046 - mae: 0.0456 - val_loss: 0.0042 - val_mae: 0.0434\n",
      "Epoch 78/500\n",
      "1220/1220 [==============================] - 1s 736us/step - loss: 0.0045 - mae: 0.0444 - val_loss: 0.0041 - val_mae: 0.0426\n",
      "Epoch 79/500\n",
      "1220/1220 [==============================] - 1s 750us/step - loss: 0.0046 - mae: 0.0452 - val_loss: 0.0043 - val_mae: 0.0449\n",
      "Epoch 80/500\n",
      "1220/1220 [==============================] - 1s 752us/step - loss: 0.0044 - mae: 0.0446 - val_loss: 0.0045 - val_mae: 0.0452\n",
      "Epoch 81/500\n",
      "1220/1220 [==============================] - 1s 731us/step - loss: 0.0044 - mae: 0.0445 - val_loss: 0.0045 - val_mae: 0.0452\n",
      "Epoch 82/500\n",
      "1220/1220 [==============================] - 1s 755us/step - loss: 0.0045 - mae: 0.0452 - val_loss: 0.0044 - val_mae: 0.0448\n",
      "Epoch 83/500\n",
      "1220/1220 [==============================] - 1s 736us/step - loss: 0.0044 - mae: 0.0446 - val_loss: 0.0043 - val_mae: 0.0446\n",
      "Epoch 84/500\n",
      "1220/1220 [==============================] - 1s 749us/step - loss: 0.0045 - mae: 0.0449 - val_loss: 0.0040 - val_mae: 0.0430\n",
      "Epoch 85/500\n",
      "1220/1220 [==============================] - 1s 740us/step - loss: 0.0044 - mae: 0.0446 - val_loss: 0.0063 - val_mae: 0.0535\n",
      "Epoch 86/500\n",
      "1220/1220 [==============================] - 1s 749us/step - loss: 0.0045 - mae: 0.0448 - val_loss: 0.0041 - val_mae: 0.0433\n",
      "Epoch 87/500\n",
      "1220/1220 [==============================] - 1s 758us/step - loss: 0.0046 - mae: 0.0452 - val_loss: 0.0041 - val_mae: 0.0435\n",
      "Epoch 88/500\n",
      "1220/1220 [==============================] - 1s 752us/step - loss: 0.0045 - mae: 0.0451 - val_loss: 0.0042 - val_mae: 0.0441\n",
      "Epoch 89/500\n",
      "1220/1220 [==============================] - 1s 745us/step - loss: 0.0044 - mae: 0.0445 - val_loss: 0.0047 - val_mae: 0.0467\n",
      "Epoch 90/500\n",
      "1220/1220 [==============================] - 1s 755us/step - loss: 0.0046 - mae: 0.0458 - val_loss: 0.0040 - val_mae: 0.0427\n",
      "Epoch 91/500\n",
      "1220/1220 [==============================] - 1s 755us/step - loss: 0.0046 - mae: 0.0455 - val_loss: 0.0041 - val_mae: 0.0432\n",
      "Epoch 92/500\n",
      "1220/1220 [==============================] - 1s 756us/step - loss: 0.0046 - mae: 0.0453 - val_loss: 0.0043 - val_mae: 0.0442\n",
      "Epoch 93/500\n",
      "1220/1220 [==============================] - 1s 821us/step - loss: 0.0047 - mae: 0.0462 - val_loss: 0.0051 - val_mae: 0.0489\n",
      "Epoch 94/500\n",
      "1220/1220 [==============================] - 1s 755us/step - loss: 0.0045 - mae: 0.0453 - val_loss: 0.0041 - val_mae: 0.0429\n",
      "Epoch 95/500\n",
      "1220/1220 [==============================] - 1s 745us/step - loss: 0.0044 - mae: 0.0447 - val_loss: 0.0043 - val_mae: 0.0437\n",
      "Epoch 96/500\n",
      "1220/1220 [==============================] - 1s 760us/step - loss: 0.0044 - mae: 0.0447 - val_loss: 0.0042 - val_mae: 0.0436\n",
      "Epoch 97/500\n",
      "1220/1220 [==============================] - 1s 756us/step - loss: 0.0044 - mae: 0.0447 - val_loss: 0.0042 - val_mae: 0.0437\n",
      "Epoch 98/500\n",
      "1220/1220 [==============================] - 1s 754us/step - loss: 0.0045 - mae: 0.0450 - val_loss: 0.0046 - val_mae: 0.0460\n",
      "Epoch 99/500\n",
      "1220/1220 [==============================] - 1s 749us/step - loss: 0.0044 - mae: 0.0444 - val_loss: 0.0041 - val_mae: 0.0436\n",
      "Epoch 100/500\n",
      "1220/1220 [==============================] - 1s 759us/step - loss: 0.0044 - mae: 0.0445 - val_loss: 0.0042 - val_mae: 0.0436\n",
      "Epoch 101/500\n",
      "1220/1220 [==============================] - 1s 762us/step - loss: 0.0043 - mae: 0.0444 - val_loss: 0.0044 - val_mae: 0.0446\n",
      "Epoch 102/500\n",
      "1220/1220 [==============================] - 1s 761us/step - loss: 0.0046 - mae: 0.0454 - val_loss: 0.0040 - val_mae: 0.0428\n",
      "Epoch 103/500\n",
      "1220/1220 [==============================] - 1s 754us/step - loss: 0.0048 - mae: 0.0466 - val_loss: 0.0046 - val_mae: 0.0469\n",
      "Epoch 104/500\n",
      "1220/1220 [==============================] - 1s 776us/step - loss: 0.0047 - mae: 0.0474 - val_loss: 0.0045 - val_mae: 0.0457\n",
      "Restoring model weights from the end of the best epoch.\n",
      "Epoch 00104: early stopping\n"
     ]
    }
   ],
   "source": [
    "history = model.fit(x=X_train, y=y_train, validation_split=0.2, shuffle=True, epochs=epochs, verbose=1, batch_size=batch_size, callbacks=[early_stopping])\n",
    "\n",
    "training_history = pd.DataFrame(history.history)\n",
    "training_history['epochs'] = range(len(training_history['mae']))"
   ]
  },
  {
   "source": [
    "### Plot training and validation MAE & loss per epoch"
   ],
   "cell_type": "markdown",
   "metadata": {}
  },
  {
   "cell_type": "code",
   "execution_count": 13,
   "metadata": {},
   "outputs": [
    {
     "output_type": "display_data",
     "data": {
      "text/plain": "<Figure size 1440x1440 with 2 Axes>",
      "image/svg+xml": "<?xml version=\"1.0\" encoding=\"utf-8\" standalone=\"no\"?>\n<!DOCTYPE svg PUBLIC \"-//W3C//DTD SVG 1.1//EN\"\n  \"http://www.w3.org/Graphics/SVG/1.1/DTD/svg11.dtd\">\n<!-- Created with matplotlib (https://matplotlib.org/) -->\n<svg height=\"508.520956pt\" version=\"1.1\" viewBox=\"0 0 763.558272 508.520956\" width=\"763.558272pt\" xmlns=\"http://www.w3.org/2000/svg\" xmlns:xlink=\"http://www.w3.org/1999/xlink\">\n <metadata>\n  <rdf:RDF xmlns:cc=\"http://creativecommons.org/ns#\" xmlns:dc=\"http://purl.org/dc/elements/1.1/\" xmlns:rdf=\"http://www.w3.org/1999/02/22-rdf-syntax-ns#\">\n   <cc:Work>\n    <dc:type rdf:resource=\"http://purl.org/dc/dcmitype/StillImage\"/>\n    <dc:date>2021-05-02T13:07:18.654763</dc:date>\n    <dc:format>image/svg+xml</dc:format>\n    <dc:creator>\n     <cc:Agent>\n      <dc:title>Matplotlib v3.3.3, https://matplotlib.org/</dc:title>\n     </cc:Agent>\n    </dc:creator>\n   </cc:Work>\n  </rdf:RDF>\n </metadata>\n <defs>\n  <style type=\"text/css\">*{stroke-linecap:butt;stroke-linejoin:round;}</style>\n </defs>\n <g id=\"figure_1\">\n  <g id=\"patch_1\">\n   <path d=\"M 0 508.520956 \nL 763.558272 508.520956 \nL 763.558272 0 \nL 0 0 \nz\n\" style=\"fill:none;\"/>\n  </g>\n  <g id=\"axes_1\">\n   <g id=\"patch_2\">\n    <path d=\"M 34.240625 470.964706 \nL 362.475919 470.964706 \nL 362.475919 151.2 \nL 34.240625 151.2 \nz\n\" style=\"fill:#ffffff;\"/>\n   </g>\n   <g id=\"matplotlib.axis_1\">\n    <g id=\"xtick_1\">\n     <g id=\"line2d_1\">\n      <defs>\n       <path d=\"M 0 0 \nL 0 3.5 \n\" id=\"m333c232881\" style=\"stroke:#000000;stroke-width:0.8;\"/>\n      </defs>\n      <g>\n       <use style=\"stroke:#000000;stroke-width:0.8;\" x=\"49.160411\" xlink:href=\"#m333c232881\" y=\"470.964706\"/>\n      </g>\n     </g>\n     <g id=\"text_1\">\n      <!-- 0 -->\n      <g transform=\"translate(45.979161 485.563143)scale(0.1 -0.1)\">\n       <defs>\n        <path d=\"M 31.78125 66.40625 \nQ 24.171875 66.40625 20.328125 58.90625 \nQ 16.5 51.421875 16.5 36.375 \nQ 16.5 21.390625 20.328125 13.890625 \nQ 24.171875 6.390625 31.78125 6.390625 \nQ 39.453125 6.390625 43.28125 13.890625 \nQ 47.125 21.390625 47.125 36.375 \nQ 47.125 51.421875 43.28125 58.90625 \nQ 39.453125 66.40625 31.78125 66.40625 \nz\nM 31.78125 74.21875 \nQ 44.046875 74.21875 50.515625 64.515625 \nQ 56.984375 54.828125 56.984375 36.375 \nQ 56.984375 17.96875 50.515625 8.265625 \nQ 44.046875 -1.421875 31.78125 -1.421875 \nQ 19.53125 -1.421875 13.0625 8.265625 \nQ 6.59375 17.96875 6.59375 36.375 \nQ 6.59375 54.828125 13.0625 64.515625 \nQ 19.53125 74.21875 31.78125 74.21875 \nz\n\" id=\"DejaVuSans-48\"/>\n       </defs>\n       <use xlink:href=\"#DejaVuSans-48\"/>\n      </g>\n     </g>\n    </g>\n    <g id=\"xtick_2\">\n     <g id=\"line2d_2\">\n      <g>\n       <use style=\"stroke:#000000;stroke-width:0.8;\" x=\"107.101328\" xlink:href=\"#m333c232881\" y=\"470.964706\"/>\n      </g>\n     </g>\n     <g id=\"text_2\">\n      <!-- 20 -->\n      <g transform=\"translate(100.738828 485.563143)scale(0.1 -0.1)\">\n       <defs>\n        <path d=\"M 19.1875 8.296875 \nL 53.609375 8.296875 \nL 53.609375 0 \nL 7.328125 0 \nL 7.328125 8.296875 \nQ 12.9375 14.109375 22.625 23.890625 \nQ 32.328125 33.6875 34.8125 36.53125 \nQ 39.546875 41.84375 41.421875 45.53125 \nQ 43.3125 49.21875 43.3125 52.78125 \nQ 43.3125 58.59375 39.234375 62.25 \nQ 35.15625 65.921875 28.609375 65.921875 \nQ 23.96875 65.921875 18.8125 64.3125 \nQ 13.671875 62.703125 7.8125 59.421875 \nL 7.8125 69.390625 \nQ 13.765625 71.78125 18.9375 73 \nQ 24.125 74.21875 28.421875 74.21875 \nQ 39.75 74.21875 46.484375 68.546875 \nQ 53.21875 62.890625 53.21875 53.421875 \nQ 53.21875 48.921875 51.53125 44.890625 \nQ 49.859375 40.875 45.40625 35.40625 \nQ 44.1875 33.984375 37.640625 27.21875 \nQ 31.109375 20.453125 19.1875 8.296875 \nz\n\" id=\"DejaVuSans-50\"/>\n       </defs>\n       <use xlink:href=\"#DejaVuSans-50\"/>\n       <use x=\"63.623047\" xlink:href=\"#DejaVuSans-48\"/>\n      </g>\n     </g>\n    </g>\n    <g id=\"xtick_3\">\n     <g id=\"line2d_3\">\n      <g>\n       <use style=\"stroke:#000000;stroke-width:0.8;\" x=\"165.042245\" xlink:href=\"#m333c232881\" y=\"470.964706\"/>\n      </g>\n     </g>\n     <g id=\"text_3\">\n      <!-- 40 -->\n      <g transform=\"translate(158.679745 485.563143)scale(0.1 -0.1)\">\n       <defs>\n        <path d=\"M 37.796875 64.3125 \nL 12.890625 25.390625 \nL 37.796875 25.390625 \nz\nM 35.203125 72.90625 \nL 47.609375 72.90625 \nL 47.609375 25.390625 \nL 58.015625 25.390625 \nL 58.015625 17.1875 \nL 47.609375 17.1875 \nL 47.609375 0 \nL 37.796875 0 \nL 37.796875 17.1875 \nL 4.890625 17.1875 \nL 4.890625 26.703125 \nz\n\" id=\"DejaVuSans-52\"/>\n       </defs>\n       <use xlink:href=\"#DejaVuSans-52\"/>\n       <use x=\"63.623047\" xlink:href=\"#DejaVuSans-48\"/>\n      </g>\n     </g>\n    </g>\n    <g id=\"xtick_4\">\n     <g id=\"line2d_4\">\n      <g>\n       <use style=\"stroke:#000000;stroke-width:0.8;\" x=\"222.983162\" xlink:href=\"#m333c232881\" y=\"470.964706\"/>\n      </g>\n     </g>\n     <g id=\"text_4\">\n      <!-- 60 -->\n      <g transform=\"translate(216.620662 485.563143)scale(0.1 -0.1)\">\n       <defs>\n        <path d=\"M 33.015625 40.375 \nQ 26.375 40.375 22.484375 35.828125 \nQ 18.609375 31.296875 18.609375 23.390625 \nQ 18.609375 15.53125 22.484375 10.953125 \nQ 26.375 6.390625 33.015625 6.390625 \nQ 39.65625 6.390625 43.53125 10.953125 \nQ 47.40625 15.53125 47.40625 23.390625 \nQ 47.40625 31.296875 43.53125 35.828125 \nQ 39.65625 40.375 33.015625 40.375 \nz\nM 52.59375 71.296875 \nL 52.59375 62.3125 \nQ 48.875 64.0625 45.09375 64.984375 \nQ 41.3125 65.921875 37.59375 65.921875 \nQ 27.828125 65.921875 22.671875 59.328125 \nQ 17.53125 52.734375 16.796875 39.40625 \nQ 19.671875 43.65625 24.015625 45.921875 \nQ 28.375 48.1875 33.59375 48.1875 \nQ 44.578125 48.1875 50.953125 41.515625 \nQ 57.328125 34.859375 57.328125 23.390625 \nQ 57.328125 12.15625 50.6875 5.359375 \nQ 44.046875 -1.421875 33.015625 -1.421875 \nQ 20.359375 -1.421875 13.671875 8.265625 \nQ 6.984375 17.96875 6.984375 36.375 \nQ 6.984375 53.65625 15.1875 63.9375 \nQ 23.390625 74.21875 37.203125 74.21875 \nQ 40.921875 74.21875 44.703125 73.484375 \nQ 48.484375 72.75 52.59375 71.296875 \nz\n\" id=\"DejaVuSans-54\"/>\n       </defs>\n       <use xlink:href=\"#DejaVuSans-54\"/>\n       <use x=\"63.623047\" xlink:href=\"#DejaVuSans-48\"/>\n      </g>\n     </g>\n    </g>\n    <g id=\"xtick_5\">\n     <g id=\"line2d_5\">\n      <g>\n       <use style=\"stroke:#000000;stroke-width:0.8;\" x=\"280.924079\" xlink:href=\"#m333c232881\" y=\"470.964706\"/>\n      </g>\n     </g>\n     <g id=\"text_5\">\n      <!-- 80 -->\n      <g transform=\"translate(274.561579 485.563143)scale(0.1 -0.1)\">\n       <defs>\n        <path d=\"M 31.78125 34.625 \nQ 24.75 34.625 20.71875 30.859375 \nQ 16.703125 27.09375 16.703125 20.515625 \nQ 16.703125 13.921875 20.71875 10.15625 \nQ 24.75 6.390625 31.78125 6.390625 \nQ 38.8125 6.390625 42.859375 10.171875 \nQ 46.921875 13.96875 46.921875 20.515625 \nQ 46.921875 27.09375 42.890625 30.859375 \nQ 38.875 34.625 31.78125 34.625 \nz\nM 21.921875 38.8125 \nQ 15.578125 40.375 12.03125 44.71875 \nQ 8.5 49.078125 8.5 55.328125 \nQ 8.5 64.0625 14.71875 69.140625 \nQ 20.953125 74.21875 31.78125 74.21875 \nQ 42.671875 74.21875 48.875 69.140625 \nQ 55.078125 64.0625 55.078125 55.328125 \nQ 55.078125 49.078125 51.53125 44.71875 \nQ 48 40.375 41.703125 38.8125 \nQ 48.828125 37.15625 52.796875 32.3125 \nQ 56.78125 27.484375 56.78125 20.515625 \nQ 56.78125 9.90625 50.3125 4.234375 \nQ 43.84375 -1.421875 31.78125 -1.421875 \nQ 19.734375 -1.421875 13.25 4.234375 \nQ 6.78125 9.90625 6.78125 20.515625 \nQ 6.78125 27.484375 10.78125 32.3125 \nQ 14.796875 37.15625 21.921875 38.8125 \nz\nM 18.3125 54.390625 \nQ 18.3125 48.734375 21.84375 45.5625 \nQ 25.390625 42.390625 31.78125 42.390625 \nQ 38.140625 42.390625 41.71875 45.5625 \nQ 45.3125 48.734375 45.3125 54.390625 \nQ 45.3125 60.0625 41.71875 63.234375 \nQ 38.140625 66.40625 31.78125 66.40625 \nQ 25.390625 66.40625 21.84375 63.234375 \nQ 18.3125 60.0625 18.3125 54.390625 \nz\n\" id=\"DejaVuSans-56\"/>\n       </defs>\n       <use xlink:href=\"#DejaVuSans-56\"/>\n       <use x=\"63.623047\" xlink:href=\"#DejaVuSans-48\"/>\n      </g>\n     </g>\n    </g>\n    <g id=\"xtick_6\">\n     <g id=\"line2d_6\">\n      <g>\n       <use style=\"stroke:#000000;stroke-width:0.8;\" x=\"338.864995\" xlink:href=\"#m333c232881\" y=\"470.964706\"/>\n      </g>\n     </g>\n     <g id=\"text_6\">\n      <!-- 100 -->\n      <g transform=\"translate(329.321245 485.563143)scale(0.1 -0.1)\">\n       <defs>\n        <path d=\"M 12.40625 8.296875 \nL 28.515625 8.296875 \nL 28.515625 63.921875 \nL 10.984375 60.40625 \nL 10.984375 69.390625 \nL 28.421875 72.90625 \nL 38.28125 72.90625 \nL 38.28125 8.296875 \nL 54.390625 8.296875 \nL 54.390625 0 \nL 12.40625 0 \nz\n\" id=\"DejaVuSans-49\"/>\n       </defs>\n       <use xlink:href=\"#DejaVuSans-49\"/>\n       <use x=\"63.623047\" xlink:href=\"#DejaVuSans-48\"/>\n       <use x=\"127.246094\" xlink:href=\"#DejaVuSans-48\"/>\n      </g>\n     </g>\n    </g>\n    <g id=\"text_7\">\n     <!-- Epochs -->\n     <g transform=\"translate(180.442647 499.241268)scale(0.1 -0.1)\">\n      <defs>\n       <path d=\"M 9.8125 72.90625 \nL 55.90625 72.90625 \nL 55.90625 64.59375 \nL 19.671875 64.59375 \nL 19.671875 43.015625 \nL 54.390625 43.015625 \nL 54.390625 34.71875 \nL 19.671875 34.71875 \nL 19.671875 8.296875 \nL 56.78125 8.296875 \nL 56.78125 0 \nL 9.8125 0 \nz\n\" id=\"DejaVuSans-69\"/>\n       <path d=\"M 18.109375 8.203125 \nL 18.109375 -20.796875 \nL 9.078125 -20.796875 \nL 9.078125 54.6875 \nL 18.109375 54.6875 \nL 18.109375 46.390625 \nQ 20.953125 51.265625 25.265625 53.625 \nQ 29.59375 56 35.59375 56 \nQ 45.5625 56 51.78125 48.09375 \nQ 58.015625 40.1875 58.015625 27.296875 \nQ 58.015625 14.40625 51.78125 6.484375 \nQ 45.5625 -1.421875 35.59375 -1.421875 \nQ 29.59375 -1.421875 25.265625 0.953125 \nQ 20.953125 3.328125 18.109375 8.203125 \nz\nM 48.6875 27.296875 \nQ 48.6875 37.203125 44.609375 42.84375 \nQ 40.53125 48.484375 33.40625 48.484375 \nQ 26.265625 48.484375 22.1875 42.84375 \nQ 18.109375 37.203125 18.109375 27.296875 \nQ 18.109375 17.390625 22.1875 11.75 \nQ 26.265625 6.109375 33.40625 6.109375 \nQ 40.53125 6.109375 44.609375 11.75 \nQ 48.6875 17.390625 48.6875 27.296875 \nz\n\" id=\"DejaVuSans-112\"/>\n       <path d=\"M 30.609375 48.390625 \nQ 23.390625 48.390625 19.1875 42.75 \nQ 14.984375 37.109375 14.984375 27.296875 \nQ 14.984375 17.484375 19.15625 11.84375 \nQ 23.34375 6.203125 30.609375 6.203125 \nQ 37.796875 6.203125 41.984375 11.859375 \nQ 46.1875 17.53125 46.1875 27.296875 \nQ 46.1875 37.015625 41.984375 42.703125 \nQ 37.796875 48.390625 30.609375 48.390625 \nz\nM 30.609375 56 \nQ 42.328125 56 49.015625 48.375 \nQ 55.71875 40.765625 55.71875 27.296875 \nQ 55.71875 13.875 49.015625 6.21875 \nQ 42.328125 -1.421875 30.609375 -1.421875 \nQ 18.84375 -1.421875 12.171875 6.21875 \nQ 5.515625 13.875 5.515625 27.296875 \nQ 5.515625 40.765625 12.171875 48.375 \nQ 18.84375 56 30.609375 56 \nz\n\" id=\"DejaVuSans-111\"/>\n       <path d=\"M 48.78125 52.59375 \nL 48.78125 44.1875 \nQ 44.96875 46.296875 41.140625 47.34375 \nQ 37.3125 48.390625 33.40625 48.390625 \nQ 24.65625 48.390625 19.8125 42.84375 \nQ 14.984375 37.3125 14.984375 27.296875 \nQ 14.984375 17.28125 19.8125 11.734375 \nQ 24.65625 6.203125 33.40625 6.203125 \nQ 37.3125 6.203125 41.140625 7.25 \nQ 44.96875 8.296875 48.78125 10.40625 \nL 48.78125 2.09375 \nQ 45.015625 0.34375 40.984375 -0.53125 \nQ 36.96875 -1.421875 32.421875 -1.421875 \nQ 20.0625 -1.421875 12.78125 6.34375 \nQ 5.515625 14.109375 5.515625 27.296875 \nQ 5.515625 40.671875 12.859375 48.328125 \nQ 20.21875 56 33.015625 56 \nQ 37.15625 56 41.109375 55.140625 \nQ 45.0625 54.296875 48.78125 52.59375 \nz\n\" id=\"DejaVuSans-99\"/>\n       <path d=\"M 54.890625 33.015625 \nL 54.890625 0 \nL 45.90625 0 \nL 45.90625 32.71875 \nQ 45.90625 40.484375 42.875 44.328125 \nQ 39.84375 48.1875 33.796875 48.1875 \nQ 26.515625 48.1875 22.3125 43.546875 \nQ 18.109375 38.921875 18.109375 30.90625 \nL 18.109375 0 \nL 9.078125 0 \nL 9.078125 75.984375 \nL 18.109375 75.984375 \nL 18.109375 46.1875 \nQ 21.34375 51.125 25.703125 53.5625 \nQ 30.078125 56 35.796875 56 \nQ 45.21875 56 50.046875 50.171875 \nQ 54.890625 44.34375 54.890625 33.015625 \nz\n\" id=\"DejaVuSans-104\"/>\n       <path d=\"M 44.28125 53.078125 \nL 44.28125 44.578125 \nQ 40.484375 46.53125 36.375 47.5 \nQ 32.28125 48.484375 27.875 48.484375 \nQ 21.1875 48.484375 17.84375 46.4375 \nQ 14.5 44.390625 14.5 40.28125 \nQ 14.5 37.15625 16.890625 35.375 \nQ 19.28125 33.59375 26.515625 31.984375 \nL 29.59375 31.296875 \nQ 39.15625 29.25 43.1875 25.515625 \nQ 47.21875 21.78125 47.21875 15.09375 \nQ 47.21875 7.46875 41.1875 3.015625 \nQ 35.15625 -1.421875 24.609375 -1.421875 \nQ 20.21875 -1.421875 15.453125 -0.5625 \nQ 10.6875 0.296875 5.421875 2 \nL 5.421875 11.28125 \nQ 10.40625 8.6875 15.234375 7.390625 \nQ 20.0625 6.109375 24.8125 6.109375 \nQ 31.15625 6.109375 34.5625 8.28125 \nQ 37.984375 10.453125 37.984375 14.40625 \nQ 37.984375 18.0625 35.515625 20.015625 \nQ 33.0625 21.96875 24.703125 23.78125 \nL 21.578125 24.515625 \nQ 13.234375 26.265625 9.515625 29.90625 \nQ 5.8125 33.546875 5.8125 39.890625 \nQ 5.8125 47.609375 11.28125 51.796875 \nQ 16.75 56 26.8125 56 \nQ 31.78125 56 36.171875 55.265625 \nQ 40.578125 54.546875 44.28125 53.078125 \nz\n\" id=\"DejaVuSans-115\"/>\n      </defs>\n      <use xlink:href=\"#DejaVuSans-69\"/>\n      <use x=\"63.183594\" xlink:href=\"#DejaVuSans-112\"/>\n      <use x=\"126.660156\" xlink:href=\"#DejaVuSans-111\"/>\n      <use x=\"187.841797\" xlink:href=\"#DejaVuSans-99\"/>\n      <use x=\"242.822266\" xlink:href=\"#DejaVuSans-104\"/>\n      <use x=\"306.201172\" xlink:href=\"#DejaVuSans-115\"/>\n     </g>\n    </g>\n   </g>\n   <g id=\"matplotlib.axis_2\">\n    <g id=\"ytick_1\">\n     <g id=\"line2d_7\">\n      <defs>\n       <path d=\"M 0 0 \nL -3.5 0 \n\" id=\"m3b006c9d6e\" style=\"stroke:#000000;stroke-width:0.8;\"/>\n      </defs>\n      <g>\n       <use style=\"stroke:#000000;stroke-width:0.8;\" x=\"34.240625\" xlink:href=\"#m3b006c9d6e\" y=\"458.131034\"/>\n      </g>\n     </g>\n     <g id=\"text_8\">\n      <!-- 0 -->\n      <g transform=\"translate(20.878125 461.930253)scale(0.1 -0.1)\">\n       <use xlink:href=\"#DejaVuSans-48\"/>\n      </g>\n     </g>\n    </g>\n    <g id=\"ytick_2\">\n     <g id=\"line2d_8\">\n      <g>\n       <use style=\"stroke:#000000;stroke-width:0.8;\" x=\"34.240625\" xlink:href=\"#m3b006c9d6e\" y=\"418.167154\"/>\n      </g>\n     </g>\n     <g id=\"text_9\">\n      <!-- 1 -->\n      <g transform=\"translate(20.878125 421.966372)scale(0.1 -0.1)\">\n       <use xlink:href=\"#DejaVuSans-49\"/>\n      </g>\n     </g>\n    </g>\n    <g id=\"ytick_3\">\n     <g id=\"line2d_9\">\n      <g>\n       <use style=\"stroke:#000000;stroke-width:0.8;\" x=\"34.240625\" xlink:href=\"#m3b006c9d6e\" y=\"378.203273\"/>\n      </g>\n     </g>\n     <g id=\"text_10\">\n      <!-- 2 -->\n      <g transform=\"translate(20.878125 382.002492)scale(0.1 -0.1)\">\n       <use xlink:href=\"#DejaVuSans-50\"/>\n      </g>\n     </g>\n    </g>\n    <g id=\"ytick_4\">\n     <g id=\"line2d_10\">\n      <g>\n       <use style=\"stroke:#000000;stroke-width:0.8;\" x=\"34.240625\" xlink:href=\"#m3b006c9d6e\" y=\"338.239392\"/>\n      </g>\n     </g>\n     <g id=\"text_11\">\n      <!-- 3 -->\n      <g transform=\"translate(20.878125 342.038611)scale(0.1 -0.1)\">\n       <defs>\n        <path d=\"M 40.578125 39.3125 \nQ 47.65625 37.796875 51.625 33 \nQ 55.609375 28.21875 55.609375 21.1875 \nQ 55.609375 10.40625 48.1875 4.484375 \nQ 40.765625 -1.421875 27.09375 -1.421875 \nQ 22.515625 -1.421875 17.65625 -0.515625 \nQ 12.796875 0.390625 7.625 2.203125 \nL 7.625 11.71875 \nQ 11.71875 9.328125 16.59375 8.109375 \nQ 21.484375 6.890625 26.8125 6.890625 \nQ 36.078125 6.890625 40.9375 10.546875 \nQ 45.796875 14.203125 45.796875 21.1875 \nQ 45.796875 27.640625 41.28125 31.265625 \nQ 36.765625 34.90625 28.71875 34.90625 \nL 20.21875 34.90625 \nL 20.21875 43.015625 \nL 29.109375 43.015625 \nQ 36.375 43.015625 40.234375 45.921875 \nQ 44.09375 48.828125 44.09375 54.296875 \nQ 44.09375 59.90625 40.109375 62.90625 \nQ 36.140625 65.921875 28.71875 65.921875 \nQ 24.65625 65.921875 20.015625 65.03125 \nQ 15.375 64.15625 9.8125 62.3125 \nL 9.8125 71.09375 \nQ 15.4375 72.65625 20.34375 73.4375 \nQ 25.25 74.21875 29.59375 74.21875 \nQ 40.828125 74.21875 47.359375 69.109375 \nQ 53.90625 64.015625 53.90625 55.328125 \nQ 53.90625 49.265625 50.4375 45.09375 \nQ 46.96875 40.921875 40.578125 39.3125 \nz\n\" id=\"DejaVuSans-51\"/>\n       </defs>\n       <use xlink:href=\"#DejaVuSans-51\"/>\n      </g>\n     </g>\n    </g>\n    <g id=\"ytick_5\">\n     <g id=\"line2d_11\">\n      <g>\n       <use style=\"stroke:#000000;stroke-width:0.8;\" x=\"34.240625\" xlink:href=\"#m3b006c9d6e\" y=\"298.275511\"/>\n      </g>\n     </g>\n     <g id=\"text_12\">\n      <!-- 4 -->\n      <g transform=\"translate(20.878125 302.07473)scale(0.1 -0.1)\">\n       <use xlink:href=\"#DejaVuSans-52\"/>\n      </g>\n     </g>\n    </g>\n    <g id=\"ytick_6\">\n     <g id=\"line2d_12\">\n      <g>\n       <use style=\"stroke:#000000;stroke-width:0.8;\" x=\"34.240625\" xlink:href=\"#m3b006c9d6e\" y=\"258.31163\"/>\n      </g>\n     </g>\n     <g id=\"text_13\">\n      <!-- 5 -->\n      <g transform=\"translate(20.878125 262.110849)scale(0.1 -0.1)\">\n       <defs>\n        <path d=\"M 10.796875 72.90625 \nL 49.515625 72.90625 \nL 49.515625 64.59375 \nL 19.828125 64.59375 \nL 19.828125 46.734375 \nQ 21.96875 47.46875 24.109375 47.828125 \nQ 26.265625 48.1875 28.421875 48.1875 \nQ 40.625 48.1875 47.75 41.5 \nQ 54.890625 34.8125 54.890625 23.390625 \nQ 54.890625 11.625 47.5625 5.09375 \nQ 40.234375 -1.421875 26.90625 -1.421875 \nQ 22.3125 -1.421875 17.546875 -0.640625 \nQ 12.796875 0.140625 7.71875 1.703125 \nL 7.71875 11.625 \nQ 12.109375 9.234375 16.796875 8.0625 \nQ 21.484375 6.890625 26.703125 6.890625 \nQ 35.15625 6.890625 40.078125 11.328125 \nQ 45.015625 15.765625 45.015625 23.390625 \nQ 45.015625 31 40.078125 35.4375 \nQ 35.15625 39.890625 26.703125 39.890625 \nQ 22.75 39.890625 18.8125 39.015625 \nQ 14.890625 38.140625 10.796875 36.28125 \nz\n\" id=\"DejaVuSans-53\"/>\n       </defs>\n       <use xlink:href=\"#DejaVuSans-53\"/>\n      </g>\n     </g>\n    </g>\n    <g id=\"ytick_7\">\n     <g id=\"line2d_13\">\n      <g>\n       <use style=\"stroke:#000000;stroke-width:0.8;\" x=\"34.240625\" xlink:href=\"#m3b006c9d6e\" y=\"218.347749\"/>\n      </g>\n     </g>\n     <g id=\"text_14\">\n      <!-- 6 -->\n      <g transform=\"translate(20.878125 222.146968)scale(0.1 -0.1)\">\n       <use xlink:href=\"#DejaVuSans-54\"/>\n      </g>\n     </g>\n    </g>\n    <g id=\"ytick_8\">\n     <g id=\"line2d_14\">\n      <g>\n       <use style=\"stroke:#000000;stroke-width:0.8;\" x=\"34.240625\" xlink:href=\"#m3b006c9d6e\" y=\"178.383869\"/>\n      </g>\n     </g>\n     <g id=\"text_15\">\n      <!-- 7 -->\n      <g transform=\"translate(20.878125 182.183087)scale(0.1 -0.1)\">\n       <defs>\n        <path d=\"M 8.203125 72.90625 \nL 55.078125 72.90625 \nL 55.078125 68.703125 \nL 28.609375 0 \nL 18.3125 0 \nL 43.21875 64.59375 \nL 8.203125 64.59375 \nz\n\" id=\"DejaVuSans-55\"/>\n       </defs>\n       <use xlink:href=\"#DejaVuSans-55\"/>\n      </g>\n     </g>\n    </g>\n    <g id=\"text_16\">\n     <!-- MAE -->\n     <g transform=\"translate(14.798438 321.976103)rotate(-90)scale(0.1 -0.1)\">\n      <defs>\n       <path d=\"M 9.8125 72.90625 \nL 24.515625 72.90625 \nL 43.109375 23.296875 \nL 61.8125 72.90625 \nL 76.515625 72.90625 \nL 76.515625 0 \nL 66.890625 0 \nL 66.890625 64.015625 \nL 48.09375 14.015625 \nL 38.1875 14.015625 \nL 19.390625 64.015625 \nL 19.390625 0 \nL 9.8125 0 \nz\n\" id=\"DejaVuSans-77\"/>\n       <path d=\"M 34.1875 63.1875 \nL 20.796875 26.90625 \nL 47.609375 26.90625 \nz\nM 28.609375 72.90625 \nL 39.796875 72.90625 \nL 67.578125 0 \nL 57.328125 0 \nL 50.6875 18.703125 \nL 17.828125 18.703125 \nL 11.1875 0 \nL 0.78125 0 \nz\n\" id=\"DejaVuSans-65\"/>\n      </defs>\n      <use xlink:href=\"#DejaVuSans-77\"/>\n      <use x=\"86.279297\" xlink:href=\"#DejaVuSans-65\"/>\n      <use x=\"154.6875\" xlink:href=\"#DejaVuSans-69\"/>\n     </g>\n    </g>\n   </g>\n   <g id=\"line2d_15\">\n    <path clip-path=\"url(#p5506735183)\" d=\"M 49.160411 165.734759 \nL 52.057457 346.453661 \nL 54.954503 373.122216 \nL 57.851549 391.356782 \nL 60.748594 404.143616 \nL 63.64564 414.658171 \nL 66.542686 421.137287 \nL 69.439732 427.695459 \nL 72.336778 433.724763 \nL 75.233824 436.055247 \nL 78.13087 441.259757 \nL 81.027915 442.674478 \nL 83.924961 444.484413 \nL 86.822007 446.806315 \nL 89.719053 447.730515 \nL 92.616099 448.77841 \nL 95.513145 449.393404 \nL 98.41019 451.17235 \nL 101.307236 451.587831 \nL 104.204282 452.057659 \nL 107.101328 452.998366 \nL 109.998374 448.400128 \nL 112.89542 453.911776 \nL 115.792466 454.785817 \nL 118.689511 454.975163 \nL 121.586557 454.957841 \nL 124.483603 454.899495 \nL 127.380649 455.099622 \nL 130.277695 454.56466 \nL 133.174741 454.421375 \nL 136.071786 454.796254 \nL 138.968832 455.023206 \nL 141.865878 455.038755 \nL 144.762924 455.202711 \nL 147.65997 455.387541 \nL 150.557016 455.600266 \nL 153.454061 455.732826 \nL 156.351107 455.863063 \nL 159.248153 456.002956 \nL 162.145199 456.075301 \nL 165.042245 456.155803 \nL 167.939291 456.174994 \nL 170.836337 456.218966 \nL 173.733382 456.222762 \nL 176.630428 456.250451 \nL 179.527474 456.254964 \nL 182.42452 456.284174 \nL 185.321566 456.296724 \nL 188.218612 456.306195 \nL 191.115657 456.303154 \nL 194.012703 456.325516 \nL 196.909749 456.316155 \nL 199.806795 456.31813 \nL 202.703841 456.324429 \nL 205.600887 456.322424 \nL 208.497933 456.324273 \nL 211.394978 456.344919 \nL 214.292024 456.318975 \nL 217.18907 456.339944 \nL 220.086116 456.346394 \nL 222.983162 456.331924 \nL 225.880208 456.323753 \nL 228.777253 456.339745 \nL 231.674299 456.338443 \nL 234.571345 456.349621 \nL 237.468391 456.338683 \nL 240.365437 456.3331 \nL 243.262483 456.345279 \nL 246.159528 456.349771 \nL 249.056574 456.343472 \nL 251.95362 456.337006 \nL 254.850666 456.338226 \nL 257.747712 456.317596 \nL 260.644758 456.334256 \nL 263.541804 456.34468 \nL 266.438849 456.342605 \nL 269.335895 456.339721 \nL 272.232941 456.341797 \nL 275.129987 456.334309 \nL 278.027033 456.346734 \nL 280.924079 456.341591 \nL 283.821124 456.325871 \nL 286.71817 456.331802 \nL 289.615216 456.340974 \nL 292.512262 456.34546 \nL 295.409308 456.332756 \nL 298.306354 456.326502 \nL 301.2034 456.348303 \nL 304.100445 456.316723 \nL 306.997491 456.317958 \nL 309.894537 456.332323 \nL 312.791583 456.315636 \nL 315.688629 456.329141 \nL 318.585675 456.332582 \nL 321.48272 456.34068 \nL 324.379766 456.348835 \nL 327.276812 456.342718 \nL 330.173858 456.351424 \nL 333.070904 456.338097 \nL 335.96795 456.359939 \nL 338.864995 456.34103 \nL 341.762041 456.325387 \nL 344.659087 456.209095 \nL 347.556133 456.244203 \n\" style=\"fill:none;stroke:#1f77b4;stroke-linecap:square;stroke-width:1.5;\"/>\n   </g>\n   <g id=\"line2d_16\">\n    <path clip-path=\"url(#p5506735183)\" d=\"M 49.160411 324.54941 \nL 52.057457 361.946641 \nL 54.954503 388.805539 \nL 57.851549 396.426968 \nL 60.748594 405.745952 \nL 63.64564 420.340249 \nL 66.542686 428.725595 \nL 69.439732 434.759785 \nL 72.336778 429.060123 \nL 75.233824 442.619884 \nL 78.13087 441.171931 \nL 81.027915 433.531325 \nL 83.924961 439.771878 \nL 86.822007 450.814211 \nL 89.719053 449.318744 \nL 92.616099 451.324613 \nL 95.513145 451.00839 \nL 98.41019 451.751551 \nL 101.307236 453.114715 \nL 104.204282 451.522925 \nL 107.101328 453.855693 \nL 109.998374 452.371771 \nL 112.89542 454.442827 \nL 115.792466 454.781521 \nL 118.689511 454.807028 \nL 121.586557 455.193194 \nL 124.483603 454.288886 \nL 127.380649 455.699992 \nL 130.277695 452.990779 \nL 133.174741 454.757488 \nL 136.071786 454.992091 \nL 138.968832 454.870822 \nL 141.865878 454.884728 \nL 144.762924 455.38232 \nL 147.65997 455.568342 \nL 150.557016 455.831394 \nL 153.454061 455.54571 \nL 156.351107 456.003687 \nL 159.248153 455.917422 \nL 162.145199 455.960769 \nL 165.042245 456.156732 \nL 167.939291 456.229922 \nL 170.836337 456.068914 \nL 173.733382 456.207864 \nL 176.630428 456.306979 \nL 179.527474 456.190071 \nL 182.42452 456.346373 \nL 185.321566 456.247268 \nL 188.218612 456.284084 \nL 191.115657 456.347157 \nL 194.012703 456.400647 \nL 196.909749 456.341989 \nL 199.806795 456.371705 \nL 202.703841 456.395741 \nL 205.600887 456.356459 \nL 208.497933 456.323556 \nL 211.394978 456.288589 \nL 214.292024 455.963286 \nL 217.18907 456.396717 \nL 220.086116 456.315645 \nL 222.983162 456.414007 \nL 225.880208 456.360063 \nL 228.777253 456.185303 \nL 231.674299 456.219574 \nL 234.571345 456.408585 \nL 237.468391 456.225936 \nL 240.365437 456.338811 \nL 243.262483 456.365627 \nL 246.159528 456.040141 \nL 249.056574 456.41273 \nL 251.95362 456.386922 \nL 254.850666 456.257897 \nL 257.747712 456.326046 \nL 260.644758 456.411535 \nL 263.541804 456.293391 \nL 266.438849 456.322914 \nL 269.335895 456.395067 \nL 272.232941 456.429947 \nL 275.129987 456.337487 \nL 278.027033 456.325222 \nL 280.924079 456.323411 \nL 283.821124 456.340498 \nL 286.71817 456.348613 \nL 289.615216 456.411891 \nL 292.512262 455.991022 \nL 295.409308 456.401795 \nL 298.306354 456.391072 \nL 301.2034 456.367584 \nL 304.100445 456.266143 \nL 306.997491 456.425889 \nL 309.894537 456.404897 \nL 312.791583 456.363598 \nL 315.688629 456.175055 \nL 318.585675 456.416749 \nL 321.48272 456.383711 \nL 324.379766 456.387124 \nL 327.276812 456.386292 \nL 330.173858 456.292435 \nL 333.070904 456.38881 \nL 335.96795 456.388574 \nL 338.864995 456.34694 \nL 341.762041 456.418736 \nL 344.659087 456.258466 \nL 347.556133 456.303318 \n\" style=\"fill:none;stroke:#ff7f0e;stroke-dasharray:6,2.25;stroke-dashoffset:0;stroke-width:1.5;\"/>\n   </g>\n   <g id=\"line2d_17\"/>\n   <g id=\"line2d_18\"/>\n   <g id=\"patch_3\">\n    <path d=\"M 34.240625 470.964706 \nL 34.240625 151.2 \n\" style=\"fill:none;stroke:#000000;stroke-linecap:square;stroke-linejoin:miter;stroke-width:0.8;\"/>\n   </g>\n   <g id=\"patch_4\">\n    <path d=\"M 362.475919 470.964706 \nL 362.475919 151.2 \n\" style=\"fill:none;stroke:#000000;stroke-linecap:square;stroke-linejoin:miter;stroke-width:0.8;\"/>\n   </g>\n   <g id=\"patch_5\">\n    <path d=\"M 34.240625 470.964706 \nL 362.475919 470.964706 \n\" style=\"fill:none;stroke:#000000;stroke-linecap:square;stroke-linejoin:miter;stroke-width:0.8;\"/>\n   </g>\n   <g id=\"patch_6\">\n    <path d=\"M 34.240625 151.2 \nL 362.475919 151.2 \n\" style=\"fill:none;stroke:#000000;stroke-linecap:square;stroke-linejoin:miter;stroke-width:0.8;\"/>\n   </g>\n   <g id=\"text_17\">\n    <!-- Training and validation MAE -->\n    <g transform=\"translate(115.065147 145.2)scale(0.12 -0.12)\">\n     <defs>\n      <path d=\"M -0.296875 72.90625 \nL 61.375 72.90625 \nL 61.375 64.59375 \nL 35.5 64.59375 \nL 35.5 0 \nL 25.59375 0 \nL 25.59375 64.59375 \nL -0.296875 64.59375 \nz\n\" id=\"DejaVuSans-84\"/>\n      <path d=\"M 41.109375 46.296875 \nQ 39.59375 47.171875 37.8125 47.578125 \nQ 36.03125 48 33.890625 48 \nQ 26.265625 48 22.1875 43.046875 \nQ 18.109375 38.09375 18.109375 28.8125 \nL 18.109375 0 \nL 9.078125 0 \nL 9.078125 54.6875 \nL 18.109375 54.6875 \nL 18.109375 46.1875 \nQ 20.953125 51.171875 25.484375 53.578125 \nQ 30.03125 56 36.53125 56 \nQ 37.453125 56 38.578125 55.875 \nQ 39.703125 55.765625 41.0625 55.515625 \nz\n\" id=\"DejaVuSans-114\"/>\n      <path d=\"M 34.28125 27.484375 \nQ 23.390625 27.484375 19.1875 25 \nQ 14.984375 22.515625 14.984375 16.5 \nQ 14.984375 11.71875 18.140625 8.90625 \nQ 21.296875 6.109375 26.703125 6.109375 \nQ 34.1875 6.109375 38.703125 11.40625 \nQ 43.21875 16.703125 43.21875 25.484375 \nL 43.21875 27.484375 \nz\nM 52.203125 31.203125 \nL 52.203125 0 \nL 43.21875 0 \nL 43.21875 8.296875 \nQ 40.140625 3.328125 35.546875 0.953125 \nQ 30.953125 -1.421875 24.3125 -1.421875 \nQ 15.921875 -1.421875 10.953125 3.296875 \nQ 6 8.015625 6 15.921875 \nQ 6 25.140625 12.171875 29.828125 \nQ 18.359375 34.515625 30.609375 34.515625 \nL 43.21875 34.515625 \nL 43.21875 35.40625 \nQ 43.21875 41.609375 39.140625 45 \nQ 35.0625 48.390625 27.6875 48.390625 \nQ 23 48.390625 18.546875 47.265625 \nQ 14.109375 46.140625 10.015625 43.890625 \nL 10.015625 52.203125 \nQ 14.9375 54.109375 19.578125 55.046875 \nQ 24.21875 56 28.609375 56 \nQ 40.484375 56 46.34375 49.84375 \nQ 52.203125 43.703125 52.203125 31.203125 \nz\n\" id=\"DejaVuSans-97\"/>\n      <path d=\"M 9.421875 54.6875 \nL 18.40625 54.6875 \nL 18.40625 0 \nL 9.421875 0 \nz\nM 9.421875 75.984375 \nL 18.40625 75.984375 \nL 18.40625 64.59375 \nL 9.421875 64.59375 \nz\n\" id=\"DejaVuSans-105\"/>\n      <path d=\"M 54.890625 33.015625 \nL 54.890625 0 \nL 45.90625 0 \nL 45.90625 32.71875 \nQ 45.90625 40.484375 42.875 44.328125 \nQ 39.84375 48.1875 33.796875 48.1875 \nQ 26.515625 48.1875 22.3125 43.546875 \nQ 18.109375 38.921875 18.109375 30.90625 \nL 18.109375 0 \nL 9.078125 0 \nL 9.078125 54.6875 \nL 18.109375 54.6875 \nL 18.109375 46.1875 \nQ 21.34375 51.125 25.703125 53.5625 \nQ 30.078125 56 35.796875 56 \nQ 45.21875 56 50.046875 50.171875 \nQ 54.890625 44.34375 54.890625 33.015625 \nz\n\" id=\"DejaVuSans-110\"/>\n      <path d=\"M 45.40625 27.984375 \nQ 45.40625 37.75 41.375 43.109375 \nQ 37.359375 48.484375 30.078125 48.484375 \nQ 22.859375 48.484375 18.828125 43.109375 \nQ 14.796875 37.75 14.796875 27.984375 \nQ 14.796875 18.265625 18.828125 12.890625 \nQ 22.859375 7.515625 30.078125 7.515625 \nQ 37.359375 7.515625 41.375 12.890625 \nQ 45.40625 18.265625 45.40625 27.984375 \nz\nM 54.390625 6.78125 \nQ 54.390625 -7.171875 48.1875 -13.984375 \nQ 42 -20.796875 29.203125 -20.796875 \nQ 24.46875 -20.796875 20.265625 -20.09375 \nQ 16.0625 -19.390625 12.109375 -17.921875 \nL 12.109375 -9.1875 \nQ 16.0625 -11.328125 19.921875 -12.34375 \nQ 23.78125 -13.375 27.78125 -13.375 \nQ 36.625 -13.375 41.015625 -8.765625 \nQ 45.40625 -4.15625 45.40625 5.171875 \nL 45.40625 9.625 \nQ 42.625 4.78125 38.28125 2.390625 \nQ 33.9375 0 27.875 0 \nQ 17.828125 0 11.671875 7.65625 \nQ 5.515625 15.328125 5.515625 27.984375 \nQ 5.515625 40.671875 11.671875 48.328125 \nQ 17.828125 56 27.875 56 \nQ 33.9375 56 38.28125 53.609375 \nQ 42.625 51.21875 45.40625 46.390625 \nL 45.40625 54.6875 \nL 54.390625 54.6875 \nz\n\" id=\"DejaVuSans-103\"/>\n      <path id=\"DejaVuSans-32\"/>\n      <path d=\"M 45.40625 46.390625 \nL 45.40625 75.984375 \nL 54.390625 75.984375 \nL 54.390625 0 \nL 45.40625 0 \nL 45.40625 8.203125 \nQ 42.578125 3.328125 38.25 0.953125 \nQ 33.9375 -1.421875 27.875 -1.421875 \nQ 17.96875 -1.421875 11.734375 6.484375 \nQ 5.515625 14.40625 5.515625 27.296875 \nQ 5.515625 40.1875 11.734375 48.09375 \nQ 17.96875 56 27.875 56 \nQ 33.9375 56 38.25 53.625 \nQ 42.578125 51.265625 45.40625 46.390625 \nz\nM 14.796875 27.296875 \nQ 14.796875 17.390625 18.875 11.75 \nQ 22.953125 6.109375 30.078125 6.109375 \nQ 37.203125 6.109375 41.296875 11.75 \nQ 45.40625 17.390625 45.40625 27.296875 \nQ 45.40625 37.203125 41.296875 42.84375 \nQ 37.203125 48.484375 30.078125 48.484375 \nQ 22.953125 48.484375 18.875 42.84375 \nQ 14.796875 37.203125 14.796875 27.296875 \nz\n\" id=\"DejaVuSans-100\"/>\n      <path d=\"M 2.984375 54.6875 \nL 12.5 54.6875 \nL 29.59375 8.796875 \nL 46.6875 54.6875 \nL 56.203125 54.6875 \nL 35.6875 0 \nL 23.484375 0 \nz\n\" id=\"DejaVuSans-118\"/>\n      <path d=\"M 9.421875 75.984375 \nL 18.40625 75.984375 \nL 18.40625 0 \nL 9.421875 0 \nz\n\" id=\"DejaVuSans-108\"/>\n      <path d=\"M 18.3125 70.21875 \nL 18.3125 54.6875 \nL 36.8125 54.6875 \nL 36.8125 47.703125 \nL 18.3125 47.703125 \nL 18.3125 18.015625 \nQ 18.3125 11.328125 20.140625 9.421875 \nQ 21.96875 7.515625 27.59375 7.515625 \nL 36.8125 7.515625 \nL 36.8125 0 \nL 27.59375 0 \nQ 17.1875 0 13.234375 3.875 \nQ 9.28125 7.765625 9.28125 18.015625 \nL 9.28125 47.703125 \nL 2.6875 47.703125 \nL 2.6875 54.6875 \nL 9.28125 54.6875 \nL 9.28125 70.21875 \nz\n\" id=\"DejaVuSans-116\"/>\n     </defs>\n     <use xlink:href=\"#DejaVuSans-84\"/>\n     <use x=\"46.333984\" xlink:href=\"#DejaVuSans-114\"/>\n     <use x=\"87.447266\" xlink:href=\"#DejaVuSans-97\"/>\n     <use x=\"148.726562\" xlink:href=\"#DejaVuSans-105\"/>\n     <use x=\"176.509766\" xlink:href=\"#DejaVuSans-110\"/>\n     <use x=\"239.888672\" xlink:href=\"#DejaVuSans-105\"/>\n     <use x=\"267.671875\" xlink:href=\"#DejaVuSans-110\"/>\n     <use x=\"331.050781\" xlink:href=\"#DejaVuSans-103\"/>\n     <use x=\"394.527344\" xlink:href=\"#DejaVuSans-32\"/>\n     <use x=\"426.314453\" xlink:href=\"#DejaVuSans-97\"/>\n     <use x=\"487.59375\" xlink:href=\"#DejaVuSans-110\"/>\n     <use x=\"550.972656\" xlink:href=\"#DejaVuSans-100\"/>\n     <use x=\"614.449219\" xlink:href=\"#DejaVuSans-32\"/>\n     <use x=\"646.236328\" xlink:href=\"#DejaVuSans-118\"/>\n     <use x=\"705.416016\" xlink:href=\"#DejaVuSans-97\"/>\n     <use x=\"766.695312\" xlink:href=\"#DejaVuSans-108\"/>\n     <use x=\"794.478516\" xlink:href=\"#DejaVuSans-105\"/>\n     <use x=\"822.261719\" xlink:href=\"#DejaVuSans-100\"/>\n     <use x=\"885.738281\" xlink:href=\"#DejaVuSans-97\"/>\n     <use x=\"947.017578\" xlink:href=\"#DejaVuSans-116\"/>\n     <use x=\"986.226562\" xlink:href=\"#DejaVuSans-105\"/>\n     <use x=\"1014.009766\" xlink:href=\"#DejaVuSans-111\"/>\n     <use x=\"1075.191406\" xlink:href=\"#DejaVuSans-110\"/>\n     <use x=\"1138.570312\" xlink:href=\"#DejaVuSans-32\"/>\n     <use x=\"1170.357422\" xlink:href=\"#DejaVuSans-77\"/>\n     <use x=\"1256.636719\" xlink:href=\"#DejaVuSans-65\"/>\n     <use x=\"1325.044922\" xlink:href=\"#DejaVuSans-69\"/>\n    </g>\n   </g>\n   <g id=\"legend_1\">\n    <g id=\"patch_7\">\n     <path d=\"M 281.629044 188.834375 \nL 355.475919 188.834375 \nQ 357.475919 188.834375 357.475919 186.834375 \nL 357.475919 158.2 \nQ 357.475919 156.2 355.475919 156.2 \nL 281.629044 156.2 \nQ 279.629044 156.2 279.629044 158.2 \nL 279.629044 186.834375 \nQ 279.629044 188.834375 281.629044 188.834375 \nz\n\" style=\"fill:#ffffff;opacity:0.8;stroke:#cccccc;stroke-linejoin:miter;\"/>\n    </g>\n    <g id=\"line2d_19\">\n     <path d=\"M 283.629044 164.298437 \nL 303.629044 164.298437 \n\" style=\"fill:none;stroke:#1f77b4;stroke-linecap:square;stroke-width:1.5;\"/>\n    </g>\n    <g id=\"line2d_20\"/>\n    <g id=\"text_18\">\n     <!-- mae -->\n     <g transform=\"translate(311.629044 167.798437)scale(0.1 -0.1)\">\n      <defs>\n       <path d=\"M 52 44.1875 \nQ 55.375 50.25 60.0625 53.125 \nQ 64.75 56 71.09375 56 \nQ 79.640625 56 84.28125 50.015625 \nQ 88.921875 44.046875 88.921875 33.015625 \nL 88.921875 0 \nL 79.890625 0 \nL 79.890625 32.71875 \nQ 79.890625 40.578125 77.09375 44.375 \nQ 74.3125 48.1875 68.609375 48.1875 \nQ 61.625 48.1875 57.5625 43.546875 \nQ 53.515625 38.921875 53.515625 30.90625 \nL 53.515625 0 \nL 44.484375 0 \nL 44.484375 32.71875 \nQ 44.484375 40.625 41.703125 44.40625 \nQ 38.921875 48.1875 33.109375 48.1875 \nQ 26.21875 48.1875 22.15625 43.53125 \nQ 18.109375 38.875 18.109375 30.90625 \nL 18.109375 0 \nL 9.078125 0 \nL 9.078125 54.6875 \nL 18.109375 54.6875 \nL 18.109375 46.1875 \nQ 21.1875 51.21875 25.484375 53.609375 \nQ 29.78125 56 35.6875 56 \nQ 41.65625 56 45.828125 52.96875 \nQ 50 49.953125 52 44.1875 \nz\n\" id=\"DejaVuSans-109\"/>\n       <path d=\"M 56.203125 29.59375 \nL 56.203125 25.203125 \nL 14.890625 25.203125 \nQ 15.484375 15.921875 20.484375 11.0625 \nQ 25.484375 6.203125 34.421875 6.203125 \nQ 39.59375 6.203125 44.453125 7.46875 \nQ 49.3125 8.734375 54.109375 11.28125 \nL 54.109375 2.78125 \nQ 49.265625 0.734375 44.1875 -0.34375 \nQ 39.109375 -1.421875 33.890625 -1.421875 \nQ 20.796875 -1.421875 13.15625 6.1875 \nQ 5.515625 13.8125 5.515625 26.8125 \nQ 5.515625 40.234375 12.765625 48.109375 \nQ 20.015625 56 32.328125 56 \nQ 43.359375 56 49.78125 48.890625 \nQ 56.203125 41.796875 56.203125 29.59375 \nz\nM 47.21875 32.234375 \nQ 47.125 39.59375 43.09375 43.984375 \nQ 39.0625 48.390625 32.421875 48.390625 \nQ 24.90625 48.390625 20.390625 44.140625 \nQ 15.875 39.890625 15.1875 32.171875 \nz\n\" id=\"DejaVuSans-101\"/>\n      </defs>\n      <use xlink:href=\"#DejaVuSans-109\"/>\n      <use x=\"97.412109\" xlink:href=\"#DejaVuSans-97\"/>\n      <use x=\"158.691406\" xlink:href=\"#DejaVuSans-101\"/>\n     </g>\n    </g>\n    <g id=\"line2d_21\">\n     <path d=\"M 283.629044 178.976562 \nL 303.629044 178.976562 \n\" style=\"fill:none;stroke:#ff7f0e;stroke-dasharray:6,2.25;stroke-dashoffset:0;stroke-width:1.5;\"/>\n    </g>\n    <g id=\"line2d_22\"/>\n    <g id=\"text_19\">\n     <!-- val_mae -->\n     <g transform=\"translate(311.629044 182.476562)scale(0.1 -0.1)\">\n      <defs>\n       <path d=\"M 50.984375 -16.609375 \nL 50.984375 -23.578125 \nL -0.984375 -23.578125 \nL -0.984375 -16.609375 \nz\n\" id=\"DejaVuSans-95\"/>\n      </defs>\n      <use xlink:href=\"#DejaVuSans-118\"/>\n      <use x=\"59.179688\" xlink:href=\"#DejaVuSans-97\"/>\n      <use x=\"120.458984\" xlink:href=\"#DejaVuSans-108\"/>\n      <use x=\"148.242188\" xlink:href=\"#DejaVuSans-95\"/>\n      <use x=\"198.242188\" xlink:href=\"#DejaVuSans-109\"/>\n      <use x=\"295.654297\" xlink:href=\"#DejaVuSans-97\"/>\n      <use x=\"356.933594\" xlink:href=\"#DejaVuSans-101\"/>\n     </g>\n    </g>\n   </g>\n  </g>\n  <g id=\"axes_2\">\n   <g id=\"patch_8\">\n    <path d=\"M 428.122978 470.964706 \nL 756.358272 470.964706 \nL 756.358272 151.2 \nL 428.122978 151.2 \nz\n\" style=\"fill:#ffffff;\"/>\n   </g>\n   <g id=\"matplotlib.axis_3\">\n    <g id=\"xtick_7\">\n     <g id=\"line2d_23\">\n      <g>\n       <use style=\"stroke:#000000;stroke-width:0.8;\" x=\"443.042764\" xlink:href=\"#m333c232881\" y=\"470.964706\"/>\n      </g>\n     </g>\n     <g id=\"text_20\">\n      <!-- 0 -->\n      <g transform=\"translate(439.861514 485.563143)scale(0.1 -0.1)\">\n       <use xlink:href=\"#DejaVuSans-48\"/>\n      </g>\n     </g>\n    </g>\n    <g id=\"xtick_8\">\n     <g id=\"line2d_24\">\n      <g>\n       <use style=\"stroke:#000000;stroke-width:0.8;\" x=\"500.983681\" xlink:href=\"#m333c232881\" y=\"470.964706\"/>\n      </g>\n     </g>\n     <g id=\"text_21\">\n      <!-- 20 -->\n      <g transform=\"translate(494.621181 485.563143)scale(0.1 -0.1)\">\n       <use xlink:href=\"#DejaVuSans-50\"/>\n       <use x=\"63.623047\" xlink:href=\"#DejaVuSans-48\"/>\n      </g>\n     </g>\n    </g>\n    <g id=\"xtick_9\">\n     <g id=\"line2d_25\">\n      <g>\n       <use style=\"stroke:#000000;stroke-width:0.8;\" x=\"558.924598\" xlink:href=\"#m333c232881\" y=\"470.964706\"/>\n      </g>\n     </g>\n     <g id=\"text_22\">\n      <!-- 40 -->\n      <g transform=\"translate(552.562098 485.563143)scale(0.1 -0.1)\">\n       <use xlink:href=\"#DejaVuSans-52\"/>\n       <use x=\"63.623047\" xlink:href=\"#DejaVuSans-48\"/>\n      </g>\n     </g>\n    </g>\n    <g id=\"xtick_10\">\n     <g id=\"line2d_26\">\n      <g>\n       <use style=\"stroke:#000000;stroke-width:0.8;\" x=\"616.865515\" xlink:href=\"#m333c232881\" y=\"470.964706\"/>\n      </g>\n     </g>\n     <g id=\"text_23\">\n      <!-- 60 -->\n      <g transform=\"translate(610.503015 485.563143)scale(0.1 -0.1)\">\n       <use xlink:href=\"#DejaVuSans-54\"/>\n       <use x=\"63.623047\" xlink:href=\"#DejaVuSans-48\"/>\n      </g>\n     </g>\n    </g>\n    <g id=\"xtick_11\">\n     <g id=\"line2d_27\">\n      <g>\n       <use style=\"stroke:#000000;stroke-width:0.8;\" x=\"674.806432\" xlink:href=\"#m333c232881\" y=\"470.964706\"/>\n      </g>\n     </g>\n     <g id=\"text_24\">\n      <!-- 80 -->\n      <g transform=\"translate(668.443932 485.563143)scale(0.1 -0.1)\">\n       <use xlink:href=\"#DejaVuSans-56\"/>\n       <use x=\"63.623047\" xlink:href=\"#DejaVuSans-48\"/>\n      </g>\n     </g>\n    </g>\n    <g id=\"xtick_12\">\n     <g id=\"line2d_28\">\n      <g>\n       <use style=\"stroke:#000000;stroke-width:0.8;\" x=\"732.747348\" xlink:href=\"#m333c232881\" y=\"470.964706\"/>\n      </g>\n     </g>\n     <g id=\"text_25\">\n      <!-- 100 -->\n      <g transform=\"translate(723.203598 485.563143)scale(0.1 -0.1)\">\n       <use xlink:href=\"#DejaVuSans-49\"/>\n       <use x=\"63.623047\" xlink:href=\"#DejaVuSans-48\"/>\n       <use x=\"127.246094\" xlink:href=\"#DejaVuSans-48\"/>\n      </g>\n     </g>\n    </g>\n    <g id=\"text_26\">\n     <!-- Epochs -->\n     <g transform=\"translate(574.325 499.241268)scale(0.1 -0.1)\">\n      <use xlink:href=\"#DejaVuSans-69\"/>\n      <use x=\"63.183594\" xlink:href=\"#DejaVuSans-112\"/>\n      <use x=\"126.660156\" xlink:href=\"#DejaVuSans-111\"/>\n      <use x=\"187.841797\" xlink:href=\"#DejaVuSans-99\"/>\n      <use x=\"242.822266\" xlink:href=\"#DejaVuSans-104\"/>\n      <use x=\"306.201172\" xlink:href=\"#DejaVuSans-115\"/>\n     </g>\n    </g>\n   </g>\n   <g id=\"matplotlib.axis_4\">\n    <g id=\"ytick_9\">\n     <g id=\"line2d_29\">\n      <g>\n       <use style=\"stroke:#000000;stroke-width:0.8;\" x=\"428.122978\" xlink:href=\"#m3b006c9d6e\" y=\"456.432002\"/>\n      </g>\n     </g>\n     <g id=\"text_27\">\n      <!-- 0 -->\n      <g transform=\"translate(414.760478 460.231221)scale(0.1 -0.1)\">\n       <use xlink:href=\"#DejaVuSans-48\"/>\n      </g>\n     </g>\n    </g>\n    <g id=\"ytick_10\">\n     <g id=\"line2d_30\">\n      <g>\n       <use style=\"stroke:#000000;stroke-width:0.8;\" x=\"428.122978\" xlink:href=\"#m3b006c9d6e\" y=\"405.169009\"/>\n      </g>\n     </g>\n     <g id=\"text_28\">\n      <!-- 100 -->\n      <g transform=\"translate(402.035478 408.968228)scale(0.1 -0.1)\">\n       <use xlink:href=\"#DejaVuSans-49\"/>\n       <use x=\"63.623047\" xlink:href=\"#DejaVuSans-48\"/>\n       <use x=\"127.246094\" xlink:href=\"#DejaVuSans-48\"/>\n      </g>\n     </g>\n    </g>\n    <g id=\"ytick_11\">\n     <g id=\"line2d_31\">\n      <g>\n       <use style=\"stroke:#000000;stroke-width:0.8;\" x=\"428.122978\" xlink:href=\"#m3b006c9d6e\" y=\"353.906017\"/>\n      </g>\n     </g>\n     <g id=\"text_29\">\n      <!-- 200 -->\n      <g transform=\"translate(402.035478 357.705236)scale(0.1 -0.1)\">\n       <use xlink:href=\"#DejaVuSans-50\"/>\n       <use x=\"63.623047\" xlink:href=\"#DejaVuSans-48\"/>\n       <use x=\"127.246094\" xlink:href=\"#DejaVuSans-48\"/>\n      </g>\n     </g>\n    </g>\n    <g id=\"ytick_12\">\n     <g id=\"line2d_32\">\n      <g>\n       <use style=\"stroke:#000000;stroke-width:0.8;\" x=\"428.122978\" xlink:href=\"#m3b006c9d6e\" y=\"302.643025\"/>\n      </g>\n     </g>\n     <g id=\"text_30\">\n      <!-- 300 -->\n      <g transform=\"translate(402.035478 306.442243)scale(0.1 -0.1)\">\n       <use xlink:href=\"#DejaVuSans-51\"/>\n       <use x=\"63.623047\" xlink:href=\"#DejaVuSans-48\"/>\n       <use x=\"127.246094\" xlink:href=\"#DejaVuSans-48\"/>\n      </g>\n     </g>\n    </g>\n    <g id=\"ytick_13\">\n     <g id=\"line2d_33\">\n      <g>\n       <use style=\"stroke:#000000;stroke-width:0.8;\" x=\"428.122978\" xlink:href=\"#m3b006c9d6e\" y=\"251.380032\"/>\n      </g>\n     </g>\n     <g id=\"text_31\">\n      <!-- 400 -->\n      <g transform=\"translate(402.035478 255.179251)scale(0.1 -0.1)\">\n       <use xlink:href=\"#DejaVuSans-52\"/>\n       <use x=\"63.623047\" xlink:href=\"#DejaVuSans-48\"/>\n       <use x=\"127.246094\" xlink:href=\"#DejaVuSans-48\"/>\n      </g>\n     </g>\n    </g>\n    <g id=\"ytick_14\">\n     <g id=\"line2d_34\">\n      <g>\n       <use style=\"stroke:#000000;stroke-width:0.8;\" x=\"428.122978\" xlink:href=\"#m3b006c9d6e\" y=\"200.11704\"/>\n      </g>\n     </g>\n     <g id=\"text_32\">\n      <!-- 500 -->\n      <g transform=\"translate(402.035478 203.916259)scale(0.1 -0.1)\">\n       <use xlink:href=\"#DejaVuSans-53\"/>\n       <use x=\"63.623047\" xlink:href=\"#DejaVuSans-48\"/>\n       <use x=\"127.246094\" xlink:href=\"#DejaVuSans-48\"/>\n      </g>\n     </g>\n    </g>\n    <g id=\"text_33\">\n     <!-- MSE -->\n     <g transform=\"translate(395.95579 321.730009)rotate(-90)scale(0.1 -0.1)\">\n      <defs>\n       <path d=\"M 53.515625 70.515625 \nL 53.515625 60.890625 \nQ 47.90625 63.578125 42.921875 64.890625 \nQ 37.9375 66.21875 33.296875 66.21875 \nQ 25.25 66.21875 20.875 63.09375 \nQ 16.5 59.96875 16.5 54.203125 \nQ 16.5 49.359375 19.40625 46.890625 \nQ 22.3125 44.4375 30.421875 42.921875 \nL 36.375 41.703125 \nQ 47.40625 39.59375 52.65625 34.296875 \nQ 57.90625 29 57.90625 20.125 \nQ 57.90625 9.515625 50.796875 4.046875 \nQ 43.703125 -1.421875 29.984375 -1.421875 \nQ 24.8125 -1.421875 18.96875 -0.25 \nQ 13.140625 0.921875 6.890625 3.21875 \nL 6.890625 13.375 \nQ 12.890625 10.015625 18.65625 8.296875 \nQ 24.421875 6.59375 29.984375 6.59375 \nQ 38.421875 6.59375 43.015625 9.90625 \nQ 47.609375 13.234375 47.609375 19.390625 \nQ 47.609375 24.75 44.3125 27.78125 \nQ 41.015625 30.8125 33.5 32.328125 \nL 27.484375 33.5 \nQ 16.453125 35.6875 11.515625 40.375 \nQ 6.59375 45.0625 6.59375 53.421875 \nQ 6.59375 63.09375 13.40625 68.65625 \nQ 20.21875 74.21875 32.171875 74.21875 \nQ 37.3125 74.21875 42.625 73.28125 \nQ 47.953125 72.359375 53.515625 70.515625 \nz\n\" id=\"DejaVuSans-83\"/>\n      </defs>\n      <use xlink:href=\"#DejaVuSans-77\"/>\n      <use x=\"86.279297\" xlink:href=\"#DejaVuSans-83\"/>\n      <use x=\"149.755859\" xlink:href=\"#DejaVuSans-69\"/>\n     </g>\n    </g>\n   </g>\n   <g id=\"line2d_35\">\n    <path clip-path=\"url(#pd82451a40d)\" d=\"M 443.042764 165.734759 \nL 445.93981 448.999028 \nL 448.836856 452.196736 \nL 451.733902 453.832685 \nL 454.630947 454.76615 \nL 457.527993 455.350466 \nL 460.425039 455.657414 \nL 463.322085 455.902739 \nL 466.219131 456.091405 \nL 469.116177 456.112567 \nL 472.013222 456.276044 \nL 474.910268 456.298237 \nL 477.807314 456.318507 \nL 480.70436 456.359485 \nL 483.601406 456.370477 \nL 486.498452 456.379392 \nL 489.395498 456.367721 \nL 492.292543 456.404192 \nL 495.189589 456.406692 \nL 498.086635 456.410329 \nL 500.983681 456.41722 \nL 503.880727 456.277522 \nL 506.777773 456.421052 \nL 509.674818 456.425234 \nL 512.571864 456.426026 \nL 515.46891 456.426009 \nL 518.365956 456.425452 \nL 521.263002 456.426251 \nL 524.160048 456.416253 \nL 527.057094 456.421782 \nL 529.954139 456.423808 \nL 532.851185 456.424703 \nL 535.748231 456.424793 \nL 538.645277 456.425851 \nL 541.542323 456.42688 \nL 544.439369 456.427597 \nL 547.336414 456.428068 \nL 550.23346 456.428436 \nL 553.130506 456.42883 \nL 556.027552 456.429061 \nL 558.924598 456.429281 \nL 561.821644 456.429315 \nL 564.718689 456.429428 \nL 567.615735 456.429427 \nL 570.512781 456.429486 \nL 573.409827 456.429496 \nL 576.306873 456.429574 \nL 579.203919 456.429599 \nL 582.100965 456.429618 \nL 584.99801 456.429612 \nL 587.895056 456.42966 \nL 590.792102 456.429642 \nL 593.689148 456.429651 \nL 596.586194 456.429664 \nL 599.48324 456.429665 \nL 602.380285 456.429663 \nL 605.277331 456.429717 \nL 608.174377 456.429657 \nL 611.071423 456.429707 \nL 613.968469 456.429729 \nL 616.865515 456.429683 \nL 619.762561 456.429665 \nL 622.659606 456.429699 \nL 625.556652 456.429714 \nL 628.453698 456.429733 \nL 631.350744 456.429711 \nL 634.24779 456.429693 \nL 637.144836 456.429722 \nL 640.041881 456.429726 \nL 642.938927 456.429719 \nL 645.835973 456.4297 \nL 648.733019 456.429715 \nL 651.630065 456.429663 \nL 654.527111 456.429715 \nL 657.424156 456.42973 \nL 660.321202 456.429709 \nL 663.218248 456.429716 \nL 666.115294 456.429715 \nL 669.01234 456.429704 \nL 671.909386 456.429741 \nL 674.806432 456.429729 \nL 677.703477 456.429698 \nL 680.600523 456.429701 \nL 683.497569 456.42971 \nL 686.394615 456.429726 \nL 689.291661 456.429701 \nL 692.188707 456.429689 \nL 695.085752 456.429729 \nL 697.982798 456.429611 \nL 700.879844 456.429678 \nL 703.77689 456.429696 \nL 706.673936 456.42965 \nL 709.570982 456.429703 \nL 712.468028 456.429696 \nL 715.365073 456.429725 \nL 718.262119 456.429736 \nL 721.159165 456.429734 \nL 724.056211 456.42976 \nL 726.953257 456.429718 \nL 729.850303 456.429775 \nL 732.747348 456.429725 \nL 735.644394 456.42969 \nL 738.54144 456.429427 \nL 741.438486 456.429562 \n\" style=\"fill:none;stroke:#1f77b4;stroke-linecap:square;stroke-width:1.5;\"/>\n   </g>\n   <g id=\"line2d_36\">\n    <path clip-path=\"url(#pd82451a40d)\" d=\"M 443.042764 445.837946 \nL 445.93981 451.039277 \nL 448.836856 453.57358 \nL 451.733902 454.360215 \nL 454.630947 454.906903 \nL 457.527993 455.639175 \nL 460.425039 455.957149 \nL 463.322085 456.128378 \nL 466.219131 455.987896 \nL 469.116177 456.298282 \nL 472.013222 456.282278 \nL 474.910268 456.112815 \nL 477.807314 456.254412 \nL 480.70436 456.400737 \nL 483.601406 456.388228 \nL 486.498452 456.406451 \nL 489.395498 456.404525 \nL 492.292543 456.409746 \nL 495.189589 456.417051 \nL 498.086635 456.408326 \nL 500.983681 456.421019 \nL 503.880727 456.413053 \nL 506.777773 456.42385 \nL 509.674818 456.425442 \nL 512.571864 456.425775 \nL 515.46891 456.426881 \nL 518.365956 456.424031 \nL 521.263002 456.428188 \nL 524.160048 456.415011 \nL 527.057094 456.423277 \nL 529.954139 456.424822 \nL 532.851185 456.424384 \nL 535.748231 456.423882 \nL 538.645277 456.427027 \nL 541.542323 456.427666 \nL 544.439369 456.428372 \nL 547.336414 456.427823 \nL 550.23346 456.428666 \nL 553.130506 456.428703 \nL 556.027552 456.428745 \nL 558.924598 456.429348 \nL 561.821644 456.429535 \nL 564.718689 456.428896 \nL 567.615735 456.429369 \nL 570.512781 456.429674 \nL 573.409827 456.429484 \nL 576.306873 456.429722 \nL 579.203919 456.429573 \nL 582.100965 456.429563 \nL 584.99801 456.429718 \nL 587.895056 456.429867 \nL 590.792102 456.429634 \nL 593.689148 456.429763 \nL 596.586194 456.429851 \nL 599.48324 456.429752 \nL 602.380285 456.429716 \nL 605.277331 456.429623 \nL 608.174377 456.428817 \nL 611.071423 456.429848 \nL 613.968469 456.429668 \nL 616.865515 456.429883 \nL 619.762561 456.429775 \nL 622.659606 456.429388 \nL 625.556652 456.429454 \nL 628.453698 456.429891 \nL 631.350744 456.429452 \nL 634.24779 456.42975 \nL 637.144836 456.429754 \nL 640.041881 456.428922 \nL 642.938927 456.429902 \nL 645.835973 456.429889 \nL 648.733019 456.429595 \nL 651.630065 456.429718 \nL 654.527111 456.429909 \nL 657.424156 456.429533 \nL 660.321202 456.42974 \nL 663.218248 456.429829 \nL 666.115294 456.429915 \nL 669.01234 456.429774 \nL 671.909386 456.429677 \nL 674.806432 456.429698 \nL 677.703477 456.429728 \nL 680.600523 456.429782 \nL 683.497569 456.429947 \nL 686.394615 456.428785 \nL 689.291661 456.429879 \nL 692.188707 456.429897 \nL 695.085752 456.429849 \nL 697.982798 456.429592 \nL 700.879844 456.429926 \nL 703.77689 456.429892 \nL 706.673936 456.429811 \nL 709.570982 456.429407 \nL 712.468028 456.429925 \nL 715.365073 456.429792 \nL 718.262119 456.429864 \nL 721.159165 456.429856 \nL 724.056211 456.429622 \nL 726.953257 456.429892 \nL 729.850303 456.429842 \nL 732.747348 456.429763 \nL 735.644394 456.429935 \nL 738.54144 456.429655 \nL 741.438486 456.429675 \n\" style=\"fill:none;stroke:#ff7f0e;stroke-dasharray:6,2.25;stroke-dashoffset:0;stroke-width:1.5;\"/>\n   </g>\n   <g id=\"line2d_37\"/>\n   <g id=\"line2d_38\"/>\n   <g id=\"patch_9\">\n    <path d=\"M 428.122978 470.964706 \nL 428.122978 151.2 \n\" style=\"fill:none;stroke:#000000;stroke-linecap:square;stroke-linejoin:miter;stroke-width:0.8;\"/>\n   </g>\n   <g id=\"patch_10\">\n    <path d=\"M 756.358272 470.964706 \nL 756.358272 151.2 \n\" style=\"fill:none;stroke:#000000;stroke-linecap:square;stroke-linejoin:miter;stroke-width:0.8;\"/>\n   </g>\n   <g id=\"patch_11\">\n    <path d=\"M 428.122978 470.964706 \nL 756.358272 470.964706 \n\" style=\"fill:none;stroke:#000000;stroke-linecap:square;stroke-linejoin:miter;stroke-width:0.8;\"/>\n   </g>\n   <g id=\"patch_12\">\n    <path d=\"M 428.122978 151.2 \nL 756.358272 151.2 \n\" style=\"fill:none;stroke:#000000;stroke-linecap:square;stroke-linejoin:miter;stroke-width:0.8;\"/>\n   </g>\n   <g id=\"text_34\">\n    <!-- Training and validation loss -->\n    <g transform=\"translate(510.430625 145.2)scale(0.12 -0.12)\">\n     <use xlink:href=\"#DejaVuSans-84\"/>\n     <use x=\"46.333984\" xlink:href=\"#DejaVuSans-114\"/>\n     <use x=\"87.447266\" xlink:href=\"#DejaVuSans-97\"/>\n     <use x=\"148.726562\" xlink:href=\"#DejaVuSans-105\"/>\n     <use x=\"176.509766\" xlink:href=\"#DejaVuSans-110\"/>\n     <use x=\"239.888672\" xlink:href=\"#DejaVuSans-105\"/>\n     <use x=\"267.671875\" xlink:href=\"#DejaVuSans-110\"/>\n     <use x=\"331.050781\" xlink:href=\"#DejaVuSans-103\"/>\n     <use x=\"394.527344\" xlink:href=\"#DejaVuSans-32\"/>\n     <use x=\"426.314453\" xlink:href=\"#DejaVuSans-97\"/>\n     <use x=\"487.59375\" xlink:href=\"#DejaVuSans-110\"/>\n     <use x=\"550.972656\" xlink:href=\"#DejaVuSans-100\"/>\n     <use x=\"614.449219\" xlink:href=\"#DejaVuSans-32\"/>\n     <use x=\"646.236328\" xlink:href=\"#DejaVuSans-118\"/>\n     <use x=\"705.416016\" xlink:href=\"#DejaVuSans-97\"/>\n     <use x=\"766.695312\" xlink:href=\"#DejaVuSans-108\"/>\n     <use x=\"794.478516\" xlink:href=\"#DejaVuSans-105\"/>\n     <use x=\"822.261719\" xlink:href=\"#DejaVuSans-100\"/>\n     <use x=\"885.738281\" xlink:href=\"#DejaVuSans-97\"/>\n     <use x=\"947.017578\" xlink:href=\"#DejaVuSans-116\"/>\n     <use x=\"986.226562\" xlink:href=\"#DejaVuSans-105\"/>\n     <use x=\"1014.009766\" xlink:href=\"#DejaVuSans-111\"/>\n     <use x=\"1075.191406\" xlink:href=\"#DejaVuSans-110\"/>\n     <use x=\"1138.570312\" xlink:href=\"#DejaVuSans-32\"/>\n     <use x=\"1170.357422\" xlink:href=\"#DejaVuSans-108\"/>\n     <use x=\"1198.140625\" xlink:href=\"#DejaVuSans-111\"/>\n     <use x=\"1259.322266\" xlink:href=\"#DejaVuSans-115\"/>\n     <use x=\"1311.421875\" xlink:href=\"#DejaVuSans-115\"/>\n    </g>\n   </g>\n   <g id=\"legend_2\">\n    <g id=\"patch_13\">\n     <path d=\"M 678.217647 188.834375 \nL 749.358272 188.834375 \nQ 751.358272 188.834375 751.358272 186.834375 \nL 751.358272 158.2 \nQ 751.358272 156.2 749.358272 156.2 \nL 678.217647 156.2 \nQ 676.217647 156.2 676.217647 158.2 \nL 676.217647 186.834375 \nQ 676.217647 188.834375 678.217647 188.834375 \nz\n\" style=\"fill:#ffffff;opacity:0.8;stroke:#cccccc;stroke-linejoin:miter;\"/>\n    </g>\n    <g id=\"line2d_39\">\n     <path d=\"M 680.217647 164.298437 \nL 700.217647 164.298437 \n\" style=\"fill:none;stroke:#1f77b4;stroke-linecap:square;stroke-width:1.5;\"/>\n    </g>\n    <g id=\"line2d_40\"/>\n    <g id=\"text_35\">\n     <!-- loss -->\n     <g transform=\"translate(708.217647 167.798437)scale(0.1 -0.1)\">\n      <use xlink:href=\"#DejaVuSans-108\"/>\n      <use x=\"27.783203\" xlink:href=\"#DejaVuSans-111\"/>\n      <use x=\"88.964844\" xlink:href=\"#DejaVuSans-115\"/>\n      <use x=\"141.064453\" xlink:href=\"#DejaVuSans-115\"/>\n     </g>\n    </g>\n    <g id=\"line2d_41\">\n     <path d=\"M 680.217647 178.976562 \nL 700.217647 178.976562 \n\" style=\"fill:none;stroke:#ff7f0e;stroke-dasharray:6,2.25;stroke-dashoffset:0;stroke-width:1.5;\"/>\n    </g>\n    <g id=\"line2d_42\"/>\n    <g id=\"text_36\">\n     <!-- val_loss -->\n     <g transform=\"translate(708.217647 182.476562)scale(0.1 -0.1)\">\n      <use xlink:href=\"#DejaVuSans-118\"/>\n      <use x=\"59.179688\" xlink:href=\"#DejaVuSans-97\"/>\n      <use x=\"120.458984\" xlink:href=\"#DejaVuSans-108\"/>\n      <use x=\"148.242188\" xlink:href=\"#DejaVuSans-95\"/>\n      <use x=\"198.242188\" xlink:href=\"#DejaVuSans-108\"/>\n      <use x=\"226.025391\" xlink:href=\"#DejaVuSans-111\"/>\n      <use x=\"287.207031\" xlink:href=\"#DejaVuSans-115\"/>\n      <use x=\"339.306641\" xlink:href=\"#DejaVuSans-115\"/>\n     </g>\n    </g>\n   </g>\n  </g>\n  <g id=\"text_37\">\n   <!--  -->\n   <g transform=\"translate(574.240625 16.318125)scale(0.12 -0.12)\"/>\n   <!-- Batch size: 16 -->\n   <g transform=\"translate(574.240625 29.7555)scale(0.12 -0.12)\">\n    <defs>\n     <path d=\"M 19.671875 34.8125 \nL 19.671875 8.109375 \nL 35.5 8.109375 \nQ 43.453125 8.109375 47.28125 11.40625 \nQ 51.125 14.703125 51.125 21.484375 \nQ 51.125 28.328125 47.28125 31.5625 \nQ 43.453125 34.8125 35.5 34.8125 \nz\nM 19.671875 64.796875 \nL 19.671875 42.828125 \nL 34.28125 42.828125 \nQ 41.5 42.828125 45.03125 45.53125 \nQ 48.578125 48.25 48.578125 53.8125 \nQ 48.578125 59.328125 45.03125 62.0625 \nQ 41.5 64.796875 34.28125 64.796875 \nz\nM 9.8125 72.90625 \nL 35.015625 72.90625 \nQ 46.296875 72.90625 52.390625 68.21875 \nQ 58.5 63.53125 58.5 54.890625 \nQ 58.5 48.1875 55.375 44.234375 \nQ 52.25 40.28125 46.1875 39.3125 \nQ 53.46875 37.75 57.5 32.78125 \nQ 61.53125 27.828125 61.53125 20.40625 \nQ 61.53125 10.640625 54.890625 5.3125 \nQ 48.25 0 35.984375 0 \nL 9.8125 0 \nz\n\" id=\"DejaVuSans-66\"/>\n     <path d=\"M 5.515625 54.6875 \nL 48.1875 54.6875 \nL 48.1875 46.484375 \nL 14.40625 7.171875 \nL 48.1875 7.171875 \nL 48.1875 0 \nL 4.296875 0 \nL 4.296875 8.203125 \nL 38.09375 47.515625 \nL 5.515625 47.515625 \nz\n\" id=\"DejaVuSans-122\"/>\n     <path d=\"M 11.71875 12.40625 \nL 22.015625 12.40625 \nL 22.015625 0 \nL 11.71875 0 \nz\nM 11.71875 51.703125 \nL 22.015625 51.703125 \nL 22.015625 39.3125 \nL 11.71875 39.3125 \nz\n\" id=\"DejaVuSans-58\"/>\n    </defs>\n    <use xlink:href=\"#DejaVuSans-66\"/>\n    <use x=\"68.603516\" xlink:href=\"#DejaVuSans-97\"/>\n    <use x=\"129.882812\" xlink:href=\"#DejaVuSans-116\"/>\n    <use x=\"169.091797\" xlink:href=\"#DejaVuSans-99\"/>\n    <use x=\"224.072266\" xlink:href=\"#DejaVuSans-104\"/>\n    <use x=\"287.451172\" xlink:href=\"#DejaVuSans-32\"/>\n    <use x=\"319.238281\" xlink:href=\"#DejaVuSans-115\"/>\n    <use x=\"371.337891\" xlink:href=\"#DejaVuSans-105\"/>\n    <use x=\"399.121094\" xlink:href=\"#DejaVuSans-122\"/>\n    <use x=\"451.611328\" xlink:href=\"#DejaVuSans-101\"/>\n    <use x=\"513.134766\" xlink:href=\"#DejaVuSans-58\"/>\n    <use x=\"546.826172\" xlink:href=\"#DejaVuSans-32\"/>\n    <use x=\"578.613281\" xlink:href=\"#DejaVuSans-49\"/>\n    <use x=\"642.236328\" xlink:href=\"#DejaVuSans-54\"/>\n   </g>\n   <!-- Optimizer: Adam -->\n   <g transform=\"translate(574.240625 43.192875)scale(0.12 -0.12)\">\n    <defs>\n     <path d=\"M 39.40625 66.21875 \nQ 28.65625 66.21875 22.328125 58.203125 \nQ 16.015625 50.203125 16.015625 36.375 \nQ 16.015625 22.609375 22.328125 14.59375 \nQ 28.65625 6.59375 39.40625 6.59375 \nQ 50.140625 6.59375 56.421875 14.59375 \nQ 62.703125 22.609375 62.703125 36.375 \nQ 62.703125 50.203125 56.421875 58.203125 \nQ 50.140625 66.21875 39.40625 66.21875 \nz\nM 39.40625 74.21875 \nQ 54.734375 74.21875 63.90625 63.9375 \nQ 73.09375 53.65625 73.09375 36.375 \nQ 73.09375 19.140625 63.90625 8.859375 \nQ 54.734375 -1.421875 39.40625 -1.421875 \nQ 24.03125 -1.421875 14.8125 8.828125 \nQ 5.609375 19.09375 5.609375 36.375 \nQ 5.609375 53.65625 14.8125 63.9375 \nQ 24.03125 74.21875 39.40625 74.21875 \nz\n\" id=\"DejaVuSans-79\"/>\n    </defs>\n    <use xlink:href=\"#DejaVuSans-79\"/>\n    <use x=\"78.710938\" xlink:href=\"#DejaVuSans-112\"/>\n    <use x=\"142.1875\" xlink:href=\"#DejaVuSans-116\"/>\n    <use x=\"181.396484\" xlink:href=\"#DejaVuSans-105\"/>\n    <use x=\"209.179688\" xlink:href=\"#DejaVuSans-109\"/>\n    <use x=\"306.591797\" xlink:href=\"#DejaVuSans-105\"/>\n    <use x=\"334.375\" xlink:href=\"#DejaVuSans-122\"/>\n    <use x=\"386.865234\" xlink:href=\"#DejaVuSans-101\"/>\n    <use x=\"448.388672\" xlink:href=\"#DejaVuSans-114\"/>\n    <use x=\"487.751953\" xlink:href=\"#DejaVuSans-58\"/>\n    <use x=\"521.443359\" xlink:href=\"#DejaVuSans-32\"/>\n    <use x=\"553.230469\" xlink:href=\"#DejaVuSans-65\"/>\n    <use x=\"619.888672\" xlink:href=\"#DejaVuSans-100\"/>\n    <use x=\"683.365234\" xlink:href=\"#DejaVuSans-97\"/>\n    <use x=\"744.644531\" xlink:href=\"#DejaVuSans-109\"/>\n   </g>\n   <!-- Loss: mse -->\n   <g transform=\"translate(574.240625 56.63025)scale(0.12 -0.12)\">\n    <defs>\n     <path d=\"M 9.8125 72.90625 \nL 19.671875 72.90625 \nL 19.671875 8.296875 \nL 55.171875 8.296875 \nL 55.171875 0 \nL 9.8125 0 \nz\n\" id=\"DejaVuSans-76\"/>\n    </defs>\n    <use xlink:href=\"#DejaVuSans-76\"/>\n    <use x=\"53.962891\" xlink:href=\"#DejaVuSans-111\"/>\n    <use x=\"115.144531\" xlink:href=\"#DejaVuSans-115\"/>\n    <use x=\"167.244141\" xlink:href=\"#DejaVuSans-115\"/>\n    <use x=\"219.34375\" xlink:href=\"#DejaVuSans-58\"/>\n    <use x=\"253.035156\" xlink:href=\"#DejaVuSans-32\"/>\n    <use x=\"284.822266\" xlink:href=\"#DejaVuSans-109\"/>\n    <use x=\"382.234375\" xlink:href=\"#DejaVuSans-115\"/>\n    <use x=\"434.333984\" xlink:href=\"#DejaVuSans-101\"/>\n   </g>\n  </g>\n </g>\n <defs>\n  <clipPath id=\"p5506735183\">\n   <rect height=\"319.764706\" width=\"328.235294\" x=\"34.240625\" y=\"151.2\"/>\n  </clipPath>\n  <clipPath id=\"pd82451a40d\">\n   <rect height=\"319.764706\" width=\"328.235294\" x=\"428.122978\" y=\"151.2\"/>\n  </clipPath>\n </defs>\n</svg>\n",
      "image/png": "[encoded data removed]"
     },
     "metadata": {
      "needs_background": "light"
     }
    }
   ],
   "source": [
    "plots = [\n",
    "           {'cols':['mae', 'val_mae'], 'title':'Training and validation MAE', 'yLabel':'MAE'},\n",
    "           {'cols':['loss', 'val_loss'], 'title':'Training and validation loss', 'yLabel':'MSE'},\n",
    "]\n",
    "\n",
    "fig = plt.figure(figsize=(20,20))\n",
    "fig_no = 331\n",
    "title = '\\nBatch size: {}\\nOptimizer: {}\\nLoss: {}'.format(batch_size,optimizer._name, loss)\n",
    "fig.suptitle(title, fontsize=\"large\", horizontalalignment='left', verticalalignment='top')\n",
    "\n",
    "for i in range(len(plots)):\n",
    "    ax = fig.add_subplot(str(fig_no))\n",
    "    sns.lineplot(data=training_history[plots[i]['cols']], ax=ax)\n",
    "    plt.title(plots[i]['title'])\n",
    "    plt.xlabel('Epochs')\n",
    "    plt.ylabel(plots[i]['yLabel'])\n",
    "    fig_no += 1\n",
    "\n",
    "plt.show()"
   ]
  },
  {
   "source": [
    "### Predictions"
   ],
   "cell_type": "markdown",
   "metadata": {}
  },
  {
   "cell_type": "code",
   "execution_count": 14,
   "metadata": {},
   "outputs": [
    {
     "output_type": "stream",
     "name": "stdout",
     "text": [
      "191/191 [==============================] - 0s 379us/step\n"
     ]
    }
   ],
   "source": [
    "predictions = model.predict(x=X_test, verbose=1)"
   ]
  },
  {
   "cell_type": "code",
   "execution_count": 15,
   "metadata": {},
   "outputs": [
    {
     "output_type": "stream",
     "name": "stdout",
     "text": [
      "MSE:  0.004052140399816887\nMSA:  0.04328094317612125\nR-Squared:  0.7220480405482683\nExplained Variance Score:  0.7237303951102029\n"
     ]
    }
   ],
   "source": [
    "from sklearn.metrics import mean_squared_error, r2_score, explained_variance_score, mean_absolute_error\n",
    "\n",
    "print('MSE: ', mean_squared_error( y_test, predictions ))\n",
    "print('MSA: ', mean_absolute_error( y_test, predictions ))\n",
    "print('R-Squared: ', r2_score( y_test, predictions ))\n",
    "print('Explained Variance Score: ', explained_variance_score( y_test, predictions ))"
   ]
  },
  {
   "cell_type": "code",
   "execution_count": null,
   "metadata": {},
   "outputs": [],
   "source": []
  }
 ]
}