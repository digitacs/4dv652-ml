{
 "metadata": {
  "language_info": {
   "codemirror_mode": {
    "name": "ipython",
    "version": 3
   },
   "file_extension": ".py",
   "mimetype": "text/x-python",
   "name": "python",
   "nbconvert_exporter": "python",
   "pygments_lexer": "ipython3",
   "version": "3.9.2"
  },
  "orig_nbformat": 2,
  "kernelspec": {
   "name": "python392jvsc74a57bd04cd7ab41f5fca4b9b44701077e38c5ffd31fe66a6cab21e0214b68d958d0e462",
   "display_name": "Python 3.9.2 64-bit"
  },
  "metadata": {
   "interpreter": {
    "hash": "4cd7ab41f5fca4b9b44701077e38c5ffd31fe66a6cab21e0214b68d958d0e462"
   }
  }
 },
 "nbformat": 4,
 "nbformat_minor": 2,
 "cells": [
  {
   "source": [
    "# PoseNet 2D to Kinect 2D"
   ],
   "cell_type": "markdown",
   "metadata": {}
  },
  {
   "cell_type": "code",
   "execution_count": 13,
   "metadata": {},
   "outputs": [],
   "source": [
    "import os\n",
    "import pandas as pd\n",
    "import tensorflow as tf\n",
    "import seaborn as sns\n",
    "import matplotlib.pyplot as plt\n",
    "\n",
    "from tensorflow import keras\n",
    "from tensorflow.keras.optimizers import RMSprop, Adam, SGD"
   ]
  },
  {
   "cell_type": "code",
   "execution_count": 14,
   "metadata": {},
   "outputs": [],
   "source": [
    "import warnings\n",
    "warnings.simplefilter('ignore')"
   ]
  },
  {
   "cell_type": "code",
   "execution_count": 15,
   "metadata": {},
   "outputs": [],
   "source": [
    "posenetDataPath = '../../datasets/posenet-uncut/'\n",
    "kinectDataPath = '../../datasets/kinect_good_preprocessed_not_cut/'\n",
    "\n",
    "X = None\n",
    "y = None\n",
    "\n",
    "train_test_ratio = 0.8\n",
    "random_state = 47\n",
    "\n",
    "# Model parameters\n",
    "units = 64\n",
    "activation = 'relu'\n",
    "output_layer = ''\n",
    "learning_rate = 0.001\n",
    "optimizer = 'Adam'\n",
    "loss = 'mse'\n",
    "metrics = ['mae']\n",
    "epochs = 500\n",
    "batch_size = 16\n",
    "\n",
    "# Early stopping parameters\n",
    "monitor = 'val_loss'\n",
    "verbose = 1\n",
    "patience = 20\n",
    "mode = 'min'\n",
    "restore_best_weights = True"
   ]
  },
  {
   "source": [
    "## 1. Data Preparation"
   ],
   "cell_type": "markdown",
   "metadata": {}
  },
  {
   "source": [
    "### Load matching files from PoseNet and Kinect"
   ],
   "cell_type": "markdown",
   "metadata": {}
  },
  {
   "cell_type": "code",
   "execution_count": 16,
   "metadata": {},
   "outputs": [
    {
     "output_type": "stream",
     "name": "stdout",
     "text": [
      "(30502, 26)\n(30502, 26)\n"
     ]
    }
   ],
   "source": [
    "import re\n",
    "\n",
    "for file in os.listdir(posenetDataPath):\n",
    "    if file.endswith('.csv'):\n",
    "        try:\n",
    "            posenetData = pd.read_csv(posenetDataPath + file)\n",
    "            kinectData = pd.read_csv(kinectDataPath + '{}_kinect.csv'.format(file.replace('.csv', '')))\n",
    "            # Check amount of frames\n",
    "            if (len(posenetData) == len(kinectData)):\n",
    "                posenetData.drop(columns=['FrameNo'], inplace=True)\n",
    "                if X is None:\n",
    "                    X = posenetData\n",
    "                else:\n",
    "                    X = pd.concat((X, posenetData), ignore_index=True)\n",
    "\n",
    "                # Drop Z-columns from Kinect\n",
    "                z = []\n",
    "                for c in kinectData.columns:\n",
    "                    if re.search(\"^.*_z$\", c):\n",
    "                        z.append(c)\n",
    "                kinectData.drop(columns=z, inplace=True)\n",
    "                kinectData.drop(columns=['FrameNo'], inplace=True)\n",
    "                if y is None:\n",
    "                    y = kinectData\n",
    "                else:\n",
    "                    y = pd.concat((y, kinectData), ignore_index=True)\n",
    "        except IOError as e:\n",
    "            print('Error in reading file: ', e)\n",
    "\n",
    "print(X.shape)\n",
    "print(y.shape)"
   ]
  },
  {
   "source": [
    "### Training and test split"
   ],
   "cell_type": "markdown",
   "metadata": {}
  },
  {
   "cell_type": "code",
   "execution_count": 17,
   "metadata": {},
   "outputs": [
    {
     "output_type": "stream",
     "name": "stdout",
     "text": [
      "(24401, 26)\n(24401, 26)\n(6101, 26)\n(6101, 26)\n"
     ]
    }
   ],
   "source": [
    "from sklearn.model_selection import train_test_split\n",
    "\n",
    "X_train, X_test, y_train, y_test  = train_test_split(X, y, train_size=train_test_ratio, random_state=random_state)\n",
    "\n",
    "input_dim = X_train.shape[1]\n",
    "\n",
    "print(X_train.shape)\n",
    "print(y_train.shape)\n",
    "print(X_test.shape)\n",
    "print(y_test.shape)"
   ]
  },
  {
   "source": [
    "### Scaling"
   ],
   "cell_type": "markdown",
   "metadata": {}
  },
  {
   "cell_type": "code",
   "execution_count": 18,
   "metadata": {},
   "outputs": [
    {
     "output_type": "execute_result",
     "data": {
      "text/plain": [
       "array([[-0.27495994, -0.26773764, -0.34432833, ..., -0.34883442,\n",
       "        -0.58006339, -0.24141234],\n",
       "       [ 1.12571837, -1.12601649,  0.76471187, ..., -0.13458797,\n",
       "        -0.51606205, -0.23704848],\n",
       "       [-0.7464662 ,  0.53853235, -0.9152584 , ...,  0.28876792,\n",
       "        -1.33867572,  0.82637654],\n",
       "       ...,\n",
       "       [-0.23958541,  0.21279773, -0.3489995 , ..., -0.01750024,\n",
       "        -0.70755953,  0.42285945],\n",
       "       [-0.23776884, -0.61749004, -0.31000717, ..., -0.24018406,\n",
       "         1.05727403, -1.26829454],\n",
       "       [-0.44383449, -0.36911555, -0.40507922, ..., -0.34225154,\n",
       "        -0.81226638, -0.16403101]])"
      ]
     },
     "metadata": {},
     "execution_count": 18
    }
   ],
   "source": [
    "from sklearn.preprocessing import StandardScaler\n",
    "\n",
    "scaler = StandardScaler()\n",
    "scaler.fit_transform(X_train)\n",
    "scaler.transform(X_test)"
   ]
  },
  {
   "source": [
    "## 2. DL Model"
   ],
   "cell_type": "markdown",
   "metadata": {}
  },
  {
   "source": [
    "### Model Architecture"
   ],
   "cell_type": "markdown",
   "metadata": {}
  },
  {
   "cell_type": "code",
   "execution_count": 19,
   "metadata": {},
   "outputs": [
    {
     "output_type": "stream",
     "name": "stdout",
     "text": [
      "Model: \"sequential_1\"\n_________________________________________________________________\nLayer (type)                 Output Shape              Param #   \n=================================================================\ndense_3 (Dense)              (None, 64)                1728      \n_________________________________________________________________\ndense_4 (Dense)              (None, 64)                4160      \n_________________________________________________________________\ndense_5 (Dense)              (None, 26)                1690      \n=================================================================\nTotal params: 7,578\nTrainable params: 7,578\nNon-trainable params: 0\n_________________________________________________________________\n"
     ]
    }
   ],
   "source": [
    "from tensorflow.keras.models import Sequential\n",
    "from tensorflow.keras.layers import Input, Dense, InputLayer\n",
    "\n",
    "model = Sequential([\n",
    "    InputLayer(input_shape=(input_dim))\n",
    "])\n",
    "model.add(Dense(units=units, activation=activation))\n",
    "model.add(Dense(units=units, activation=activation))\n",
    "if not output_layer:\n",
    "    model.add(Dense(units=input_dim))\n",
    "else:\n",
    "    model.add(Dense(units=input_dim, activation=output_layer))\n",
    "\n",
    "optimizer = tf.keras.optimizers.get(optimizer)\n",
    "optimizer.learning_rate.assign(learning_rate)\n",
    "model.compile(optimizer=optimizer, loss=loss, metrics=metrics)\n",
    "\n",
    "model.summary()"
   ]
  },
  {
   "source": [
    "### Early stopping"
   ],
   "cell_type": "markdown",
   "metadata": {}
  },
  {
   "cell_type": "code",
   "execution_count": 20,
   "metadata": {},
   "outputs": [],
   "source": [
    "from keras.callbacks import EarlyStopping\n",
    "\n",
    "early_stopping = EarlyStopping(\n",
    "    monitor=monitor, \n",
    "    verbose=verbose,\n",
    "    patience=patience,\n",
    "    mode=mode,\n",
    "    restore_best_weights=restore_best_weights)"
   ]
  },
  {
   "source": [
    "### Model Training"
   ],
   "cell_type": "markdown",
   "metadata": {}
  },
  {
   "cell_type": "code",
   "execution_count": 21,
   "metadata": {},
   "outputs": [
    {
     "output_type": "stream",
     "name": "stdout",
     "text": [
      "Epoch 1/500\n",
      "1220/1220 [==============================] - 1s 802us/step - loss: 2473.5264 - mae: 17.3428 - val_loss: 12.3870 - val_mae: 2.5107\n",
      "Epoch 2/500\n",
      "1220/1220 [==============================] - 1s 721us/step - loss: 11.1998 - mae: 2.4149 - val_loss: 6.5528 - val_mae: 1.8235\n",
      "Epoch 3/500\n",
      "1220/1220 [==============================] - 1s 720us/step - loss: 6.2273 - mae: 1.8137 - val_loss: 5.1536 - val_mae: 1.7319\n",
      "Epoch 4/500\n",
      "1220/1220 [==============================] - 1s 725us/step - loss: 3.8864 - mae: 1.4562 - val_loss: 3.1313 - val_mae: 1.3343\n",
      "Epoch 5/500\n",
      "1220/1220 [==============================] - 1s 735us/step - loss: 2.3211 - mae: 1.1265 - val_loss: 1.4469 - val_mae: 0.8857\n",
      "Epoch 6/500\n",
      "1220/1220 [==============================] - 1s 730us/step - loss: 1.4388 - mae: 0.8978 - val_loss: 1.0565 - val_mae: 0.7740\n",
      "Epoch 7/500\n",
      "1220/1220 [==============================] - 1s 722us/step - loss: 0.9202 - mae: 0.7210 - val_loss: 0.8943 - val_mae: 0.7384\n",
      "Epoch 8/500\n",
      "1220/1220 [==============================] - 1s 721us/step - loss: 0.6128 - mae: 0.5893 - val_loss: 0.3727 - val_mae: 0.4369\n",
      "Epoch 9/500\n",
      "1220/1220 [==============================] - 1s 735us/step - loss: 0.4323 - mae: 0.4915 - val_loss: 0.5321 - val_mae: 0.5738\n",
      "Epoch 10/500\n",
      "1220/1220 [==============================] - 1s 714us/step - loss: 0.3247 - mae: 0.4289 - val_loss: 0.2036 - val_mae: 0.3509\n",
      "Epoch 11/500\n",
      "1220/1220 [==============================] - 1s 712us/step - loss: 0.2577 - mae: 0.3657 - val_loss: 0.1116 - val_mae: 0.2498\n",
      "Epoch 12/500\n",
      "1220/1220 [==============================] - 1s 707us/step - loss: 0.1512 - mae: 0.2927 - val_loss: 0.1716 - val_mae: 0.3208\n",
      "Epoch 13/500\n",
      "1220/1220 [==============================] - 1s 709us/step - loss: 0.1021 - mae: 0.2408 - val_loss: 0.0681 - val_mae: 0.1985\n",
      "Epoch 14/500\n",
      "1220/1220 [==============================] - 1s 714us/step - loss: 0.0895 - mae: 0.2226 - val_loss: 0.0777 - val_mae: 0.2162\n",
      "Epoch 15/500\n",
      "1220/1220 [==============================] - 1s 710us/step - loss: 0.0628 - mae: 0.1887 - val_loss: 0.0380 - val_mae: 0.1425\n",
      "Epoch 16/500\n",
      "1220/1220 [==============================] - 1s 769us/step - loss: 0.0621 - mae: 0.1763 - val_loss: 0.0882 - val_mae: 0.2256\n",
      "Epoch 17/500\n",
      "1220/1220 [==============================] - 1s 725us/step - loss: 0.0426 - mae: 0.1540 - val_loss: 0.0260 - val_mae: 0.1173\n",
      "Epoch 18/500\n",
      "1220/1220 [==============================] - 1s 699us/step - loss: 0.0348 - mae: 0.1392 - val_loss: 0.0466 - val_mae: 0.1625\n",
      "Epoch 19/500\n",
      "1220/1220 [==============================] - 1s 824us/step - loss: 0.0375 - mae: 0.1395 - val_loss: 0.0260 - val_mae: 0.1245\n",
      "Epoch 20/500\n",
      "1220/1220 [==============================] - 1s 813us/step - loss: 0.0251 - mae: 0.1160 - val_loss: 0.0112 - val_mae: 0.0774\n",
      "Epoch 21/500\n",
      "1220/1220 [==============================] - 1s 912us/step - loss: 0.1489 - mae: 0.1493 - val_loss: 0.0153 - val_mae: 0.0900\n",
      "Epoch 22/500\n",
      "1220/1220 [==============================] - 1s 762us/step - loss: 0.0140 - mae: 0.0863 - val_loss: 0.0101 - val_mae: 0.0720\n",
      "Epoch 23/500\n",
      "1220/1220 [==============================] - 1s 741us/step - loss: 0.0116 - mae: 0.0787 - val_loss: 0.0100 - val_mae: 0.0747\n",
      "Epoch 24/500\n",
      "1220/1220 [==============================] - 1s 837us/step - loss: 0.0124 - mae: 0.0810 - val_loss: 0.0107 - val_mae: 0.0741\n",
      "Epoch 25/500\n",
      "1220/1220 [==============================] - 1s 732us/step - loss: 0.0131 - mae: 0.0815 - val_loss: 0.0107 - val_mae: 0.0727\n",
      "Epoch 26/500\n",
      "1220/1220 [==============================] - 1s 752us/step - loss: 0.0104 - mae: 0.0728 - val_loss: 0.0088 - val_mae: 0.0674\n",
      "Epoch 27/500\n",
      "1220/1220 [==============================] - 1s 753us/step - loss: 0.0096 - mae: 0.0709 - val_loss: 0.0098 - val_mae: 0.0716\n",
      "Epoch 28/500\n",
      "1220/1220 [==============================] - 1s 791us/step - loss: 0.0152 - mae: 0.0786 - val_loss: 0.0090 - val_mae: 0.0687\n",
      "Epoch 29/500\n",
      "1220/1220 [==============================] - 1s 757us/step - loss: 0.0085 - mae: 0.0660 - val_loss: 0.0091 - val_mae: 0.0675\n",
      "Epoch 30/500\n",
      "1220/1220 [==============================] - 1s 718us/step - loss: 0.0087 - mae: 0.0674 - val_loss: 0.0081 - val_mae: 0.0672\n",
      "Epoch 31/500\n",
      "1220/1220 [==============================] - 1s 810us/step - loss: 0.0090 - mae: 0.0678 - val_loss: 0.0142 - val_mae: 0.0799\n",
      "Epoch 32/500\n",
      "1220/1220 [==============================] - 1s 778us/step - loss: 0.0094 - mae: 0.0674 - val_loss: 0.0082 - val_mae: 0.0682\n",
      "Epoch 33/500\n",
      "1220/1220 [==============================] - 1s 928us/step - loss: 0.0078 - mae: 0.0623 - val_loss: 0.0069 - val_mae: 0.0600\n",
      "Epoch 34/500\n",
      "1220/1220 [==============================] - 1s 965us/step - loss: 0.0070 - mae: 0.0594 - val_loss: 0.0119 - val_mae: 0.0811\n",
      "Epoch 35/500\n",
      "1220/1220 [==============================] - 1s 826us/step - loss: 0.0089 - mae: 0.0669 - val_loss: 0.0063 - val_mae: 0.0556\n",
      "Epoch 36/500\n",
      "1220/1220 [==============================] - 1s 790us/step - loss: 0.0064 - mae: 0.0565 - val_loss: 0.0058 - val_mae: 0.0536\n",
      "Epoch 37/500\n",
      "1220/1220 [==============================] - 1s 717us/step - loss: 0.0071 - mae: 0.0581 - val_loss: 0.0078 - val_mae: 0.0604\n",
      "Epoch 38/500\n",
      "1220/1220 [==============================] - 1s 767us/step - loss: 0.0076 - mae: 0.0598 - val_loss: 0.0064 - val_mae: 0.0525\n",
      "Epoch 39/500\n",
      "1220/1220 [==============================] - 1s 740us/step - loss: 0.0072 - mae: 0.0571 - val_loss: 0.0069 - val_mae: 0.0571\n",
      "Epoch 40/500\n",
      "1220/1220 [==============================] - 1s 749us/step - loss: 0.0067 - mae: 0.0548 - val_loss: 0.0067 - val_mae: 0.0568\n",
      "Epoch 41/500\n",
      "1220/1220 [==============================] - 1s 791us/step - loss: 0.0067 - mae: 0.0546 - val_loss: 0.0054 - val_mae: 0.0504\n",
      "Epoch 42/500\n",
      "1220/1220 [==============================] - 1s 963us/step - loss: 0.0058 - mae: 0.0520 - val_loss: 0.0063 - val_mae: 0.0557\n",
      "Epoch 43/500\n",
      "1220/1220 [==============================] - 1s 923us/step - loss: 0.0068 - mae: 0.0545 - val_loss: 0.0049 - val_mae: 0.0476\n",
      "Epoch 44/500\n",
      "1220/1220 [==============================] - 1s 747us/step - loss: 0.0052 - mae: 0.0491 - val_loss: 0.0047 - val_mae: 0.0471\n",
      "Epoch 45/500\n",
      "1220/1220 [==============================] - 1s 729us/step - loss: 0.0052 - mae: 0.0492 - val_loss: 0.0047 - val_mae: 0.0471\n",
      "Epoch 46/500\n",
      "1220/1220 [==============================] - 1s 771us/step - loss: 0.0053 - mae: 0.0493 - val_loss: 0.0053 - val_mae: 0.0490\n",
      "Epoch 47/500\n",
      "1220/1220 [==============================] - 1s 982us/step - loss: 0.0054 - mae: 0.0497 - val_loss: 0.0053 - val_mae: 0.0494\n",
      "Epoch 48/500\n",
      "1220/1220 [==============================] - 1s 934us/step - loss: 0.0053 - mae: 0.0493 - val_loss: 0.0045 - val_mae: 0.0457\n",
      "Epoch 49/500\n",
      "1220/1220 [==============================] - 1s 871us/step - loss: 0.0049 - mae: 0.0472 - val_loss: 0.0053 - val_mae: 0.0490\n",
      "Epoch 50/500\n",
      "1220/1220 [==============================] - 1s 882us/step - loss: 0.0051 - mae: 0.0480 - val_loss: 0.0048 - val_mae: 0.0467\n",
      "Epoch 51/500\n",
      "1220/1220 [==============================] - 1s 821us/step - loss: 0.0049 - mae: 0.0470 - val_loss: 0.0045 - val_mae: 0.0449\n",
      "Epoch 52/500\n",
      "1220/1220 [==============================] - 1s 839us/step - loss: 0.0048 - mae: 0.0469 - val_loss: 0.0045 - val_mae: 0.0452\n",
      "Epoch 53/500\n",
      "1220/1220 [==============================] - 1s 799us/step - loss: 0.0048 - mae: 0.0470 - val_loss: 0.0047 - val_mae: 0.0471\n",
      "Epoch 54/500\n",
      "1220/1220 [==============================] - 1s 808us/step - loss: 0.0050 - mae: 0.0478 - val_loss: 0.0057 - val_mae: 0.0514\n",
      "Epoch 55/500\n",
      "1220/1220 [==============================] - 1s 904us/step - loss: 0.0051 - mae: 0.0479 - val_loss: 0.0045 - val_mae: 0.0456\n",
      "Epoch 56/500\n",
      "1220/1220 [==============================] - 1s 930us/step - loss: 0.0048 - mae: 0.0469 - val_loss: 0.0052 - val_mae: 0.0497\n",
      "Epoch 57/500\n",
      "1220/1220 [==============================] - 1s 746us/step - loss: 0.0053 - mae: 0.0489 - val_loss: 0.0046 - val_mae: 0.0460\n",
      "Epoch 58/500\n",
      "1220/1220 [==============================] - 1s 903us/step - loss: 0.0050 - mae: 0.0477 - val_loss: 0.0047 - val_mae: 0.0471\n",
      "Epoch 59/500\n",
      "1220/1220 [==============================] - 1s 916us/step - loss: 0.0048 - mae: 0.0467 - val_loss: 0.0057 - val_mae: 0.0515\n",
      "Epoch 60/500\n",
      "1220/1220 [==============================] - 1s 1ms/step - loss: 0.0049 - mae: 0.0474 - val_loss: 0.0052 - val_mae: 0.0491\n",
      "Epoch 61/500\n",
      "1220/1220 [==============================] - 1s 831us/step - loss: 0.0048 - mae: 0.0468 - val_loss: 0.0046 - val_mae: 0.0458\n",
      "Epoch 62/500\n",
      "1220/1220 [==============================] - 1s 789us/step - loss: 0.0047 - mae: 0.0461 - val_loss: 0.0044 - val_mae: 0.0447\n",
      "Epoch 63/500\n",
      "1220/1220 [==============================] - 1s 765us/step - loss: 0.0047 - mae: 0.0460 - val_loss: 0.0044 - val_mae: 0.0449\n",
      "Epoch 64/500\n",
      "1220/1220 [==============================] - 1s 823us/step - loss: 0.0046 - mae: 0.0460 - val_loss: 0.0055 - val_mae: 0.0505\n",
      "Epoch 65/500\n",
      "1220/1220 [==============================] - 1s 758us/step - loss: 0.0047 - mae: 0.0463 - val_loss: 0.0049 - val_mae: 0.0468\n",
      "Epoch 66/500\n",
      "1220/1220 [==============================] - 1s 864us/step - loss: 0.0050 - mae: 0.0479 - val_loss: 0.0068 - val_mae: 0.0565\n",
      "Epoch 67/500\n",
      "1220/1220 [==============================] - 1s 735us/step - loss: 0.0047 - mae: 0.0463 - val_loss: 0.0043 - val_mae: 0.0443\n",
      "Epoch 68/500\n",
      "1220/1220 [==============================] - 1s 951us/step - loss: 0.0046 - mae: 0.0460 - val_loss: 0.0060 - val_mae: 0.0520\n",
      "Epoch 69/500\n",
      "1220/1220 [==============================] - 1s 957us/step - loss: 0.0051 - mae: 0.0479 - val_loss: 0.0043 - val_mae: 0.0446\n",
      "Epoch 70/500\n",
      "1220/1220 [==============================] - 1s 884us/step - loss: 0.0047 - mae: 0.0462 - val_loss: 0.0050 - val_mae: 0.0473\n",
      "Epoch 71/500\n",
      "1220/1220 [==============================] - 1s 850us/step - loss: 0.0047 - mae: 0.0464 - val_loss: 0.0044 - val_mae: 0.0444\n",
      "Epoch 72/500\n",
      "1220/1220 [==============================] - 1s 735us/step - loss: 0.0046 - mae: 0.0462 - val_loss: 0.0043 - val_mae: 0.0444\n",
      "Epoch 73/500\n",
      "1220/1220 [==============================] - 1s 772us/step - loss: 0.0047 - mae: 0.0463 - val_loss: 0.0045 - val_mae: 0.0450\n",
      "Epoch 74/500\n",
      "1220/1220 [==============================] - 1s 759us/step - loss: 0.0047 - mae: 0.0462 - val_loss: 0.0043 - val_mae: 0.0444\n",
      "Epoch 75/500\n",
      "1220/1220 [==============================] - 1s 746us/step - loss: 0.0047 - mae: 0.0464 - val_loss: 0.0045 - val_mae: 0.0454\n",
      "Epoch 76/500\n",
      "1220/1220 [==============================] - 1s 767us/step - loss: 0.0047 - mae: 0.0466 - val_loss: 0.0046 - val_mae: 0.0459\n",
      "Epoch 77/500\n",
      "1220/1220 [==============================] - 1s 806us/step - loss: 0.0047 - mae: 0.0463 - val_loss: 0.0045 - val_mae: 0.0456\n",
      "Epoch 78/500\n",
      "1220/1220 [==============================] - 1s 775us/step - loss: 0.0048 - mae: 0.0467 - val_loss: 0.0050 - val_mae: 0.0475\n",
      "Epoch 79/500\n",
      "1220/1220 [==============================] - 1s 794us/step - loss: 0.0047 - mae: 0.0463 - val_loss: 0.0047 - val_mae: 0.0463\n",
      "Epoch 80/500\n",
      "1220/1220 [==============================] - 1s 773us/step - loss: 0.0048 - mae: 0.0468 - val_loss: 0.0051 - val_mae: 0.0478\n",
      "Epoch 81/500\n",
      "1220/1220 [==============================] - 1s 814us/step - loss: 0.0046 - mae: 0.0457 - val_loss: 0.0045 - val_mae: 0.0457\n",
      "Epoch 82/500\n",
      "1220/1220 [==============================] - 1s 752us/step - loss: 0.0047 - mae: 0.0463 - val_loss: 0.0056 - val_mae: 0.0502\n",
      "Epoch 83/500\n",
      "1220/1220 [==============================] - 1s 777us/step - loss: 0.0045 - mae: 0.0458 - val_loss: 0.0042 - val_mae: 0.0438\n",
      "Epoch 84/500\n",
      "1220/1220 [==============================] - 1s 762us/step - loss: 0.0046 - mae: 0.0461 - val_loss: 0.0043 - val_mae: 0.0445\n",
      "Epoch 85/500\n",
      "1220/1220 [==============================] - 1s 799us/step - loss: 0.0046 - mae: 0.0460 - val_loss: 0.0051 - val_mae: 0.0494\n",
      "Epoch 86/500\n",
      "1220/1220 [==============================] - 1s 782us/step - loss: 0.0046 - mae: 0.0459 - val_loss: 0.0043 - val_mae: 0.0445\n",
      "Epoch 87/500\n",
      "1220/1220 [==============================] - 1s 758us/step - loss: 0.0047 - mae: 0.0467 - val_loss: 0.0046 - val_mae: 0.0458\n",
      "Epoch 88/500\n",
      "1220/1220 [==============================] - 1s 777us/step - loss: 0.0045 - mae: 0.0454 - val_loss: 0.0045 - val_mae: 0.0457\n",
      "Epoch 89/500\n",
      "1220/1220 [==============================] - 1s 773us/step - loss: 0.0047 - mae: 0.0466 - val_loss: 0.0044 - val_mae: 0.0443\n",
      "Epoch 90/500\n",
      "1220/1220 [==============================] - 1s 802us/step - loss: 0.0045 - mae: 0.0453 - val_loss: 0.0071 - val_mae: 0.0541\n",
      "Epoch 91/500\n",
      "1220/1220 [==============================] - 1s 792us/step - loss: 0.0046 - mae: 0.0459 - val_loss: 0.0044 - val_mae: 0.0452\n",
      "Epoch 92/500\n",
      "1220/1220 [==============================] - 1s 736us/step - loss: 0.0047 - mae: 0.0464 - val_loss: 0.0042 - val_mae: 0.0447\n",
      "Epoch 93/500\n",
      "1220/1220 [==============================] - 1s 783us/step - loss: 0.0045 - mae: 0.0453 - val_loss: 0.0047 - val_mae: 0.0462\n",
      "Epoch 94/500\n",
      "1220/1220 [==============================] - 1s 845us/step - loss: 0.0048 - mae: 0.0466 - val_loss: 0.0046 - val_mae: 0.0461\n",
      "Epoch 95/500\n",
      "1220/1220 [==============================] - 1s 731us/step - loss: 0.0047 - mae: 0.0464 - val_loss: 0.0042 - val_mae: 0.0435\n",
      "Epoch 96/500\n",
      "1220/1220 [==============================] - 1s 762us/step - loss: 0.0047 - mae: 0.0463 - val_loss: 0.0048 - val_mae: 0.0468\n",
      "Epoch 97/500\n",
      "1220/1220 [==============================] - 1s 768us/step - loss: 0.0043 - mae: 0.0446 - val_loss: 0.0043 - val_mae: 0.0447\n",
      "Epoch 98/500\n",
      "1220/1220 [==============================] - 1s 739us/step - loss: 0.0045 - mae: 0.0455 - val_loss: 0.0044 - val_mae: 0.0454\n",
      "Epoch 99/500\n",
      "1220/1220 [==============================] - 1s 752us/step - loss: 0.0045 - mae: 0.0455 - val_loss: 0.0045 - val_mae: 0.0459\n",
      "Epoch 100/500\n",
      "1220/1220 [==============================] - 1s 797us/step - loss: 0.0047 - mae: 0.0463 - val_loss: 0.0043 - val_mae: 0.0442\n",
      "Epoch 101/500\n",
      "1220/1220 [==============================] - 1s 931us/step - loss: 0.0045 - mae: 0.0457 - val_loss: 0.0049 - val_mae: 0.0486\n",
      "Epoch 102/500\n",
      "1220/1220 [==============================] - 1s 948us/step - loss: 0.0048 - mae: 0.0464 - val_loss: 0.0041 - val_mae: 0.0436\n",
      "Epoch 103/500\n",
      "1220/1220 [==============================] - 1s 847us/step - loss: 0.0048 - mae: 0.0470 - val_loss: 0.0053 - val_mae: 0.0486\n",
      "Epoch 104/500\n",
      "1220/1220 [==============================] - 1s 874us/step - loss: 0.0052 - mae: 0.0489 - val_loss: 0.0048 - val_mae: 0.0474\n",
      "Epoch 105/500\n",
      "1220/1220 [==============================] - 1s 886us/step - loss: 0.0048 - mae: 0.0470 - val_loss: 0.0046 - val_mae: 0.0460\n",
      "Epoch 106/500\n",
      "1220/1220 [==============================] - 1s 899us/step - loss: 0.0047 - mae: 0.0469 - val_loss: 0.0045 - val_mae: 0.0456\n",
      "Epoch 107/500\n",
      "1220/1220 [==============================] - 1s 878us/step - loss: 0.0047 - mae: 0.0467 - val_loss: 0.0047 - val_mae: 0.0473\n",
      "Epoch 108/500\n",
      "1220/1220 [==============================] - 1s 868us/step - loss: 0.0048 - mae: 0.0470 - val_loss: 0.0049 - val_mae: 0.0479\n",
      "Epoch 109/500\n",
      "1220/1220 [==============================] - 1s 822us/step - loss: 0.0053 - mae: 0.0486 - val_loss: 0.0046 - val_mae: 0.0455\n",
      "Epoch 110/500\n",
      "1220/1220 [==============================] - 1s 836us/step - loss: 0.0047 - mae: 0.0464 - val_loss: 0.0046 - val_mae: 0.0468\n",
      "Epoch 111/500\n",
      "1220/1220 [==============================] - 1s 926us/step - loss: 0.0046 - mae: 0.0463 - val_loss: 0.0044 - val_mae: 0.0450\n",
      "Epoch 112/500\n",
      "1220/1220 [==============================] - 1s 840us/step - loss: 0.0047 - mae: 0.0466 - val_loss: 0.0045 - val_mae: 0.0458\n",
      "Epoch 113/500\n",
      "1220/1220 [==============================] - 1s 799us/step - loss: 0.0048 - mae: 0.0469 - val_loss: 0.0046 - val_mae: 0.0460\n",
      "Epoch 114/500\n",
      "1220/1220 [==============================] - 1s 872us/step - loss: 0.0047 - mae: 0.0465 - val_loss: 0.0044 - val_mae: 0.0447\n",
      "Epoch 115/500\n",
      "1220/1220 [==============================] - 1s 848us/step - loss: 0.0047 - mae: 0.0466 - val_loss: 0.0045 - val_mae: 0.0455\n",
      "Epoch 116/500\n",
      "1220/1220 [==============================] - 1s 764us/step - loss: 0.0047 - mae: 0.0465 - val_loss: 0.0060 - val_mae: 0.0519\n",
      "Epoch 117/500\n",
      "1220/1220 [==============================] - 1s 857us/step - loss: 0.0048 - mae: 0.0468 - val_loss: 0.0045 - val_mae: 0.0450\n",
      "Epoch 118/500\n",
      "1220/1220 [==============================] - 1s 811us/step - loss: 0.0046 - mae: 0.0462 - val_loss: 0.0042 - val_mae: 0.0440\n",
      "Epoch 119/500\n",
      "1220/1220 [==============================] - 1s 791us/step - loss: 0.0046 - mae: 0.0457 - val_loss: 0.0044 - val_mae: 0.0458\n",
      "Epoch 120/500\n",
      "1220/1220 [==============================] - 1s 884us/step - loss: 0.0046 - mae: 0.0461 - val_loss: 0.0043 - val_mae: 0.0447\n",
      "Epoch 121/500\n",
      "1220/1220 [==============================] - 1s 916us/step - loss: 0.0047 - mae: 0.0464 - val_loss: 0.0050 - val_mae: 0.0478\n",
      "Epoch 122/500\n",
      "1220/1220 [==============================] - 1s 781us/step - loss: 0.0046 - mae: 0.0460 - val_loss: 0.0049 - val_mae: 0.0470\n",
      "Restoring model weights from the end of the best epoch.\n",
      "Epoch 00122: early stopping\n"
     ]
    }
   ],
   "source": [
    "history = model.fit(x=X_train, y=y_train, validation_split=0.2, shuffle=True, epochs=epochs, verbose=1, batch_size=batch_size, callbacks=[early_stopping])\n",
    "\n",
    "training_history = pd.DataFrame(history.history)\n",
    "training_history['epochs'] = range(len(training_history['mae']))"
   ]
  },
  {
   "source": [
    "### Plot training and validation MAE & loss per epoch"
   ],
   "cell_type": "markdown",
   "metadata": {}
  },
  {
   "cell_type": "code",
   "execution_count": 22,
   "metadata": {},
   "outputs": [
    {
     "output_type": "display_data",
     "data": {
      "text/plain": "<Figure size 1440x1440 with 2 Axes>",
      "image/svg+xml": "<?xml version=\"1.0\" encoding=\"utf-8\" standalone=\"no\"?>\n<!DOCTYPE svg PUBLIC \"-//W3C//DTD SVG 1.1//EN\"\n  \"http://www.w3.org/Graphics/SVG/1.1/DTD/svg11.dtd\">\n<!-- Created with matplotlib (https://matplotlib.org/) -->\n<svg height=\"508.520956pt\" version=\"1.1\" viewBox=\"0 0 763.558272 508.520956\" width=\"763.558272pt\" xmlns=\"http://www.w3.org/2000/svg\" xmlns:xlink=\"http://www.w3.org/1999/xlink\">\n <metadata>\n  <rdf:RDF xmlns:cc=\"http://creativecommons.org/ns#\" xmlns:dc=\"http://purl.org/dc/elements/1.1/\" xmlns:rdf=\"http://www.w3.org/1999/02/22-rdf-syntax-ns#\">\n   <cc:Work>\n    <dc:type rdf:resource=\"http://purl.org/dc/dcmitype/StillImage\"/>\n    <dc:date>2021-05-01T22:18:43.112421</dc:date>\n    <dc:format>image/svg+xml</dc:format>\n    <dc:creator>\n     <cc:Agent>\n      <dc:title>Matplotlib v3.3.3, https://matplotlib.org/</dc:title>\n     </cc:Agent>\n    </dc:creator>\n   </cc:Work>\n  </rdf:RDF>\n </metadata>\n <defs>\n  <style type=\"text/css\">*{stroke-linecap:butt;stroke-linejoin:round;}</style>\n </defs>\n <g id=\"figure_1\">\n  <g id=\"patch_1\">\n   <path d=\"M 0 508.520956 \nL 763.558272 508.520956 \nL 763.558272 0 \nL 0 0 \nz\n\" style=\"fill:none;\"/>\n  </g>\n  <g id=\"axes_1\">\n   <g id=\"patch_2\">\n    <path d=\"M 34.240625 470.964706 \nL 362.475919 470.964706 \nL 362.475919 151.2 \nL 34.240625 151.2 \nz\n\" style=\"fill:#ffffff;\"/>\n   </g>\n   <g id=\"matplotlib.axis_1\">\n    <g id=\"xtick_1\">\n     <g id=\"line2d_1\">\n      <defs>\n       <path d=\"M 0 0 \nL 0 3.5 \n\" id=\"mce1e332250\" style=\"stroke:#000000;stroke-width:0.8;\"/>\n      </defs>\n      <g>\n       <use style=\"stroke:#000000;stroke-width:0.8;\" x=\"49.160411\" xlink:href=\"#mce1e332250\" y=\"470.964706\"/>\n      </g>\n     </g>\n     <g id=\"text_1\">\n      <!-- 0 -->\n      <g transform=\"translate(45.979161 485.563143)scale(0.1 -0.1)\">\n       <defs>\n        <path d=\"M 31.78125 66.40625 \nQ 24.171875 66.40625 20.328125 58.90625 \nQ 16.5 51.421875 16.5 36.375 \nQ 16.5 21.390625 20.328125 13.890625 \nQ 24.171875 6.390625 31.78125 6.390625 \nQ 39.453125 6.390625 43.28125 13.890625 \nQ 47.125 21.390625 47.125 36.375 \nQ 47.125 51.421875 43.28125 58.90625 \nQ 39.453125 66.40625 31.78125 66.40625 \nz\nM 31.78125 74.21875 \nQ 44.046875 74.21875 50.515625 64.515625 \nQ 56.984375 54.828125 56.984375 36.375 \nQ 56.984375 17.96875 50.515625 8.265625 \nQ 44.046875 -1.421875 31.78125 -1.421875 \nQ 19.53125 -1.421875 13.0625 8.265625 \nQ 6.59375 17.96875 6.59375 36.375 \nQ 6.59375 54.828125 13.0625 64.515625 \nQ 19.53125 74.21875 31.78125 74.21875 \nz\n\" id=\"DejaVuSans-48\"/>\n       </defs>\n       <use xlink:href=\"#DejaVuSans-48\"/>\n      </g>\n     </g>\n    </g>\n    <g id=\"xtick_2\">\n     <g id=\"line2d_2\">\n      <g>\n       <use style=\"stroke:#000000;stroke-width:0.8;\" x=\"98.482018\" xlink:href=\"#mce1e332250\" y=\"470.964706\"/>\n      </g>\n     </g>\n     <g id=\"text_2\">\n      <!-- 20 -->\n      <g transform=\"translate(92.119518 485.563143)scale(0.1 -0.1)\">\n       <defs>\n        <path d=\"M 19.1875 8.296875 \nL 53.609375 8.296875 \nL 53.609375 0 \nL 7.328125 0 \nL 7.328125 8.296875 \nQ 12.9375 14.109375 22.625 23.890625 \nQ 32.328125 33.6875 34.8125 36.53125 \nQ 39.546875 41.84375 41.421875 45.53125 \nQ 43.3125 49.21875 43.3125 52.78125 \nQ 43.3125 58.59375 39.234375 62.25 \nQ 35.15625 65.921875 28.609375 65.921875 \nQ 23.96875 65.921875 18.8125 64.3125 \nQ 13.671875 62.703125 7.8125 59.421875 \nL 7.8125 69.390625 \nQ 13.765625 71.78125 18.9375 73 \nQ 24.125 74.21875 28.421875 74.21875 \nQ 39.75 74.21875 46.484375 68.546875 \nQ 53.21875 62.890625 53.21875 53.421875 \nQ 53.21875 48.921875 51.53125 44.890625 \nQ 49.859375 40.875 45.40625 35.40625 \nQ 44.1875 33.984375 37.640625 27.21875 \nQ 31.109375 20.453125 19.1875 8.296875 \nz\n\" id=\"DejaVuSans-50\"/>\n       </defs>\n       <use xlink:href=\"#DejaVuSans-50\"/>\n       <use x=\"63.623047\" xlink:href=\"#DejaVuSans-48\"/>\n      </g>\n     </g>\n    </g>\n    <g id=\"xtick_3\">\n     <g id=\"line2d_3\">\n      <g>\n       <use style=\"stroke:#000000;stroke-width:0.8;\" x=\"147.803625\" xlink:href=\"#mce1e332250\" y=\"470.964706\"/>\n      </g>\n     </g>\n     <g id=\"text_3\">\n      <!-- 40 -->\n      <g transform=\"translate(141.441125 485.563143)scale(0.1 -0.1)\">\n       <defs>\n        <path d=\"M 37.796875 64.3125 \nL 12.890625 25.390625 \nL 37.796875 25.390625 \nz\nM 35.203125 72.90625 \nL 47.609375 72.90625 \nL 47.609375 25.390625 \nL 58.015625 25.390625 \nL 58.015625 17.1875 \nL 47.609375 17.1875 \nL 47.609375 0 \nL 37.796875 0 \nL 37.796875 17.1875 \nL 4.890625 17.1875 \nL 4.890625 26.703125 \nz\n\" id=\"DejaVuSans-52\"/>\n       </defs>\n       <use xlink:href=\"#DejaVuSans-52\"/>\n       <use x=\"63.623047\" xlink:href=\"#DejaVuSans-48\"/>\n      </g>\n     </g>\n    </g>\n    <g id=\"xtick_4\">\n     <g id=\"line2d_4\">\n      <g>\n       <use style=\"stroke:#000000;stroke-width:0.8;\" x=\"197.125232\" xlink:href=\"#mce1e332250\" y=\"470.964706\"/>\n      </g>\n     </g>\n     <g id=\"text_4\">\n      <!-- 60 -->\n      <g transform=\"translate(190.762732 485.563143)scale(0.1 -0.1)\">\n       <defs>\n        <path d=\"M 33.015625 40.375 \nQ 26.375 40.375 22.484375 35.828125 \nQ 18.609375 31.296875 18.609375 23.390625 \nQ 18.609375 15.53125 22.484375 10.953125 \nQ 26.375 6.390625 33.015625 6.390625 \nQ 39.65625 6.390625 43.53125 10.953125 \nQ 47.40625 15.53125 47.40625 23.390625 \nQ 47.40625 31.296875 43.53125 35.828125 \nQ 39.65625 40.375 33.015625 40.375 \nz\nM 52.59375 71.296875 \nL 52.59375 62.3125 \nQ 48.875 64.0625 45.09375 64.984375 \nQ 41.3125 65.921875 37.59375 65.921875 \nQ 27.828125 65.921875 22.671875 59.328125 \nQ 17.53125 52.734375 16.796875 39.40625 \nQ 19.671875 43.65625 24.015625 45.921875 \nQ 28.375 48.1875 33.59375 48.1875 \nQ 44.578125 48.1875 50.953125 41.515625 \nQ 57.328125 34.859375 57.328125 23.390625 \nQ 57.328125 12.15625 50.6875 5.359375 \nQ 44.046875 -1.421875 33.015625 -1.421875 \nQ 20.359375 -1.421875 13.671875 8.265625 \nQ 6.984375 17.96875 6.984375 36.375 \nQ 6.984375 53.65625 15.1875 63.9375 \nQ 23.390625 74.21875 37.203125 74.21875 \nQ 40.921875 74.21875 44.703125 73.484375 \nQ 48.484375 72.75 52.59375 71.296875 \nz\n\" id=\"DejaVuSans-54\"/>\n       </defs>\n       <use xlink:href=\"#DejaVuSans-54\"/>\n       <use x=\"63.623047\" xlink:href=\"#DejaVuSans-48\"/>\n      </g>\n     </g>\n    </g>\n    <g id=\"xtick_5\">\n     <g id=\"line2d_5\">\n      <g>\n       <use style=\"stroke:#000000;stroke-width:0.8;\" x=\"246.446839\" xlink:href=\"#mce1e332250\" y=\"470.964706\"/>\n      </g>\n     </g>\n     <g id=\"text_5\">\n      <!-- 80 -->\n      <g transform=\"translate(240.084339 485.563143)scale(0.1 -0.1)\">\n       <defs>\n        <path d=\"M 31.78125 34.625 \nQ 24.75 34.625 20.71875 30.859375 \nQ 16.703125 27.09375 16.703125 20.515625 \nQ 16.703125 13.921875 20.71875 10.15625 \nQ 24.75 6.390625 31.78125 6.390625 \nQ 38.8125 6.390625 42.859375 10.171875 \nQ 46.921875 13.96875 46.921875 20.515625 \nQ 46.921875 27.09375 42.890625 30.859375 \nQ 38.875 34.625 31.78125 34.625 \nz\nM 21.921875 38.8125 \nQ 15.578125 40.375 12.03125 44.71875 \nQ 8.5 49.078125 8.5 55.328125 \nQ 8.5 64.0625 14.71875 69.140625 \nQ 20.953125 74.21875 31.78125 74.21875 \nQ 42.671875 74.21875 48.875 69.140625 \nQ 55.078125 64.0625 55.078125 55.328125 \nQ 55.078125 49.078125 51.53125 44.71875 \nQ 48 40.375 41.703125 38.8125 \nQ 48.828125 37.15625 52.796875 32.3125 \nQ 56.78125 27.484375 56.78125 20.515625 \nQ 56.78125 9.90625 50.3125 4.234375 \nQ 43.84375 -1.421875 31.78125 -1.421875 \nQ 19.734375 -1.421875 13.25 4.234375 \nQ 6.78125 9.90625 6.78125 20.515625 \nQ 6.78125 27.484375 10.78125 32.3125 \nQ 14.796875 37.15625 21.921875 38.8125 \nz\nM 18.3125 54.390625 \nQ 18.3125 48.734375 21.84375 45.5625 \nQ 25.390625 42.390625 31.78125 42.390625 \nQ 38.140625 42.390625 41.71875 45.5625 \nQ 45.3125 48.734375 45.3125 54.390625 \nQ 45.3125 60.0625 41.71875 63.234375 \nQ 38.140625 66.40625 31.78125 66.40625 \nQ 25.390625 66.40625 21.84375 63.234375 \nQ 18.3125 60.0625 18.3125 54.390625 \nz\n\" id=\"DejaVuSans-56\"/>\n       </defs>\n       <use xlink:href=\"#DejaVuSans-56\"/>\n       <use x=\"63.623047\" xlink:href=\"#DejaVuSans-48\"/>\n      </g>\n     </g>\n    </g>\n    <g id=\"xtick_6\">\n     <g id=\"line2d_6\">\n      <g>\n       <use style=\"stroke:#000000;stroke-width:0.8;\" x=\"295.768446\" xlink:href=\"#mce1e332250\" y=\"470.964706\"/>\n      </g>\n     </g>\n     <g id=\"text_6\">\n      <!-- 100 -->\n      <g transform=\"translate(286.224696 485.563143)scale(0.1 -0.1)\">\n       <defs>\n        <path d=\"M 12.40625 8.296875 \nL 28.515625 8.296875 \nL 28.515625 63.921875 \nL 10.984375 60.40625 \nL 10.984375 69.390625 \nL 28.421875 72.90625 \nL 38.28125 72.90625 \nL 38.28125 8.296875 \nL 54.390625 8.296875 \nL 54.390625 0 \nL 12.40625 0 \nz\n\" id=\"DejaVuSans-49\"/>\n       </defs>\n       <use xlink:href=\"#DejaVuSans-49\"/>\n       <use x=\"63.623047\" xlink:href=\"#DejaVuSans-48\"/>\n       <use x=\"127.246094\" xlink:href=\"#DejaVuSans-48\"/>\n      </g>\n     </g>\n    </g>\n    <g id=\"xtick_7\">\n     <g id=\"line2d_7\">\n      <g>\n       <use style=\"stroke:#000000;stroke-width:0.8;\" x=\"345.090053\" xlink:href=\"#mce1e332250\" y=\"470.964706\"/>\n      </g>\n     </g>\n     <g id=\"text_7\">\n      <!-- 120 -->\n      <g transform=\"translate(335.546303 485.563143)scale(0.1 -0.1)\">\n       <use xlink:href=\"#DejaVuSans-49\"/>\n       <use x=\"63.623047\" xlink:href=\"#DejaVuSans-50\"/>\n       <use x=\"127.246094\" xlink:href=\"#DejaVuSans-48\"/>\n      </g>\n     </g>\n    </g>\n    <g id=\"text_8\">\n     <!-- Epochs -->\n     <g transform=\"translate(180.442647 499.241268)scale(0.1 -0.1)\">\n      <defs>\n       <path d=\"M 9.8125 72.90625 \nL 55.90625 72.90625 \nL 55.90625 64.59375 \nL 19.671875 64.59375 \nL 19.671875 43.015625 \nL 54.390625 43.015625 \nL 54.390625 34.71875 \nL 19.671875 34.71875 \nL 19.671875 8.296875 \nL 56.78125 8.296875 \nL 56.78125 0 \nL 9.8125 0 \nz\n\" id=\"DejaVuSans-69\"/>\n       <path d=\"M 18.109375 8.203125 \nL 18.109375 -20.796875 \nL 9.078125 -20.796875 \nL 9.078125 54.6875 \nL 18.109375 54.6875 \nL 18.109375 46.390625 \nQ 20.953125 51.265625 25.265625 53.625 \nQ 29.59375 56 35.59375 56 \nQ 45.5625 56 51.78125 48.09375 \nQ 58.015625 40.1875 58.015625 27.296875 \nQ 58.015625 14.40625 51.78125 6.484375 \nQ 45.5625 -1.421875 35.59375 -1.421875 \nQ 29.59375 -1.421875 25.265625 0.953125 \nQ 20.953125 3.328125 18.109375 8.203125 \nz\nM 48.6875 27.296875 \nQ 48.6875 37.203125 44.609375 42.84375 \nQ 40.53125 48.484375 33.40625 48.484375 \nQ 26.265625 48.484375 22.1875 42.84375 \nQ 18.109375 37.203125 18.109375 27.296875 \nQ 18.109375 17.390625 22.1875 11.75 \nQ 26.265625 6.109375 33.40625 6.109375 \nQ 40.53125 6.109375 44.609375 11.75 \nQ 48.6875 17.390625 48.6875 27.296875 \nz\n\" id=\"DejaVuSans-112\"/>\n       <path d=\"M 30.609375 48.390625 \nQ 23.390625 48.390625 19.1875 42.75 \nQ 14.984375 37.109375 14.984375 27.296875 \nQ 14.984375 17.484375 19.15625 11.84375 \nQ 23.34375 6.203125 30.609375 6.203125 \nQ 37.796875 6.203125 41.984375 11.859375 \nQ 46.1875 17.53125 46.1875 27.296875 \nQ 46.1875 37.015625 41.984375 42.703125 \nQ 37.796875 48.390625 30.609375 48.390625 \nz\nM 30.609375 56 \nQ 42.328125 56 49.015625 48.375 \nQ 55.71875 40.765625 55.71875 27.296875 \nQ 55.71875 13.875 49.015625 6.21875 \nQ 42.328125 -1.421875 30.609375 -1.421875 \nQ 18.84375 -1.421875 12.171875 6.21875 \nQ 5.515625 13.875 5.515625 27.296875 \nQ 5.515625 40.765625 12.171875 48.375 \nQ 18.84375 56 30.609375 56 \nz\n\" id=\"DejaVuSans-111\"/>\n       <path d=\"M 48.78125 52.59375 \nL 48.78125 44.1875 \nQ 44.96875 46.296875 41.140625 47.34375 \nQ 37.3125 48.390625 33.40625 48.390625 \nQ 24.65625 48.390625 19.8125 42.84375 \nQ 14.984375 37.3125 14.984375 27.296875 \nQ 14.984375 17.28125 19.8125 11.734375 \nQ 24.65625 6.203125 33.40625 6.203125 \nQ 37.3125 6.203125 41.140625 7.25 \nQ 44.96875 8.296875 48.78125 10.40625 \nL 48.78125 2.09375 \nQ 45.015625 0.34375 40.984375 -0.53125 \nQ 36.96875 -1.421875 32.421875 -1.421875 \nQ 20.0625 -1.421875 12.78125 6.34375 \nQ 5.515625 14.109375 5.515625 27.296875 \nQ 5.515625 40.671875 12.859375 48.328125 \nQ 20.21875 56 33.015625 56 \nQ 37.15625 56 41.109375 55.140625 \nQ 45.0625 54.296875 48.78125 52.59375 \nz\n\" id=\"DejaVuSans-99\"/>\n       <path d=\"M 54.890625 33.015625 \nL 54.890625 0 \nL 45.90625 0 \nL 45.90625 32.71875 \nQ 45.90625 40.484375 42.875 44.328125 \nQ 39.84375 48.1875 33.796875 48.1875 \nQ 26.515625 48.1875 22.3125 43.546875 \nQ 18.109375 38.921875 18.109375 30.90625 \nL 18.109375 0 \nL 9.078125 0 \nL 9.078125 75.984375 \nL 18.109375 75.984375 \nL 18.109375 46.1875 \nQ 21.34375 51.125 25.703125 53.5625 \nQ 30.078125 56 35.796875 56 \nQ 45.21875 56 50.046875 50.171875 \nQ 54.890625 44.34375 54.890625 33.015625 \nz\n\" id=\"DejaVuSans-104\"/>\n       <path d=\"M 44.28125 53.078125 \nL 44.28125 44.578125 \nQ 40.484375 46.53125 36.375 47.5 \nQ 32.28125 48.484375 27.875 48.484375 \nQ 21.1875 48.484375 17.84375 46.4375 \nQ 14.5 44.390625 14.5 40.28125 \nQ 14.5 37.15625 16.890625 35.375 \nQ 19.28125 33.59375 26.515625 31.984375 \nL 29.59375 31.296875 \nQ 39.15625 29.25 43.1875 25.515625 \nQ 47.21875 21.78125 47.21875 15.09375 \nQ 47.21875 7.46875 41.1875 3.015625 \nQ 35.15625 -1.421875 24.609375 -1.421875 \nQ 20.21875 -1.421875 15.453125 -0.5625 \nQ 10.6875 0.296875 5.421875 2 \nL 5.421875 11.28125 \nQ 10.40625 8.6875 15.234375 7.390625 \nQ 20.0625 6.109375 24.8125 6.109375 \nQ 31.15625 6.109375 34.5625 8.28125 \nQ 37.984375 10.453125 37.984375 14.40625 \nQ 37.984375 18.0625 35.515625 20.015625 \nQ 33.0625 21.96875 24.703125 23.78125 \nL 21.578125 24.515625 \nQ 13.234375 26.265625 9.515625 29.90625 \nQ 5.8125 33.546875 5.8125 39.890625 \nQ 5.8125 47.609375 11.28125 51.796875 \nQ 16.75 56 26.8125 56 \nQ 31.78125 56 36.171875 55.265625 \nQ 40.578125 54.546875 44.28125 53.078125 \nz\n\" id=\"DejaVuSans-115\"/>\n      </defs>\n      <use xlink:href=\"#DejaVuSans-69\"/>\n      <use x=\"63.183594\" xlink:href=\"#DejaVuSans-112\"/>\n      <use x=\"126.660156\" xlink:href=\"#DejaVuSans-111\"/>\n      <use x=\"187.841797\" xlink:href=\"#DejaVuSans-99\"/>\n      <use x=\"242.822266\" xlink:href=\"#DejaVuSans-104\"/>\n      <use x=\"306.201172\" xlink:href=\"#DejaVuSans-115\"/>\n     </g>\n    </g>\n   </g>\n   <g id=\"matplotlib.axis_2\">\n    <g id=\"ytick_1\">\n     <g id=\"line2d_8\">\n      <defs>\n       <path d=\"M 0 0 \nL -3.5 0 \n\" id=\"mabdd30cdac\" style=\"stroke:#000000;stroke-width:0.8;\"/>\n      </defs>\n      <g>\n       <use style=\"stroke:#000000;stroke-width:0.8;\" x=\"34.240625\" xlink:href=\"#mabdd30cdac\" y=\"458.386948\"/>\n      </g>\n     </g>\n     <g id=\"text_9\">\n      <!-- 0 -->\n      <g transform=\"translate(20.878125 462.186167)scale(0.1 -0.1)\">\n       <use xlink:href=\"#DejaVuSans-48\"/>\n      </g>\n     </g>\n    </g>\n    <g id=\"ytick_2\">\n     <g id=\"line2d_9\">\n      <g>\n       <use style=\"stroke:#000000;stroke-width:0.8;\" x=\"34.240625\" xlink:href=\"#mabdd30cdac\" y=\"413.428636\"/>\n      </g>\n     </g>\n     <g id=\"text_10\">\n      <!-- 1 -->\n      <g transform=\"translate(20.878125 417.227855)scale(0.1 -0.1)\">\n       <use xlink:href=\"#DejaVuSans-49\"/>\n      </g>\n     </g>\n    </g>\n    <g id=\"ytick_3\">\n     <g id=\"line2d_10\">\n      <g>\n       <use style=\"stroke:#000000;stroke-width:0.8;\" x=\"34.240625\" xlink:href=\"#mabdd30cdac\" y=\"368.470324\"/>\n      </g>\n     </g>\n     <g id=\"text_11\">\n      <!-- 2 -->\n      <g transform=\"translate(20.878125 372.269543)scale(0.1 -0.1)\">\n       <use xlink:href=\"#DejaVuSans-50\"/>\n      </g>\n     </g>\n    </g>\n    <g id=\"ytick_4\">\n     <g id=\"line2d_11\">\n      <g>\n       <use style=\"stroke:#000000;stroke-width:0.8;\" x=\"34.240625\" xlink:href=\"#mabdd30cdac\" y=\"323.512012\"/>\n      </g>\n     </g>\n     <g id=\"text_12\">\n      <!-- 3 -->\n      <g transform=\"translate(20.878125 327.311231)scale(0.1 -0.1)\">\n       <defs>\n        <path d=\"M 40.578125 39.3125 \nQ 47.65625 37.796875 51.625 33 \nQ 55.609375 28.21875 55.609375 21.1875 \nQ 55.609375 10.40625 48.1875 4.484375 \nQ 40.765625 -1.421875 27.09375 -1.421875 \nQ 22.515625 -1.421875 17.65625 -0.515625 \nQ 12.796875 0.390625 7.625 2.203125 \nL 7.625 11.71875 \nQ 11.71875 9.328125 16.59375 8.109375 \nQ 21.484375 6.890625 26.8125 6.890625 \nQ 36.078125 6.890625 40.9375 10.546875 \nQ 45.796875 14.203125 45.796875 21.1875 \nQ 45.796875 27.640625 41.28125 31.265625 \nQ 36.765625 34.90625 28.71875 34.90625 \nL 20.21875 34.90625 \nL 20.21875 43.015625 \nL 29.109375 43.015625 \nQ 36.375 43.015625 40.234375 45.921875 \nQ 44.09375 48.828125 44.09375 54.296875 \nQ 44.09375 59.90625 40.109375 62.90625 \nQ 36.140625 65.921875 28.71875 65.921875 \nQ 24.65625 65.921875 20.015625 65.03125 \nQ 15.375 64.15625 9.8125 62.3125 \nL 9.8125 71.09375 \nQ 15.4375 72.65625 20.34375 73.4375 \nQ 25.25 74.21875 29.59375 74.21875 \nQ 40.828125 74.21875 47.359375 69.109375 \nQ 53.90625 64.015625 53.90625 55.328125 \nQ 53.90625 49.265625 50.4375 45.09375 \nQ 46.96875 40.921875 40.578125 39.3125 \nz\n\" id=\"DejaVuSans-51\"/>\n       </defs>\n       <use xlink:href=\"#DejaVuSans-51\"/>\n      </g>\n     </g>\n    </g>\n    <g id=\"ytick_5\">\n     <g id=\"line2d_12\">\n      <g>\n       <use style=\"stroke:#000000;stroke-width:0.8;\" x=\"34.240625\" xlink:href=\"#mabdd30cdac\" y=\"278.5537\"/>\n      </g>\n     </g>\n     <g id=\"text_13\">\n      <!-- 4 -->\n      <g transform=\"translate(20.878125 282.352919)scale(0.1 -0.1)\">\n       <use xlink:href=\"#DejaVuSans-52\"/>\n      </g>\n     </g>\n    </g>\n    <g id=\"ytick_6\">\n     <g id=\"line2d_13\">\n      <g>\n       <use style=\"stroke:#000000;stroke-width:0.8;\" x=\"34.240625\" xlink:href=\"#mabdd30cdac\" y=\"233.595388\"/>\n      </g>\n     </g>\n     <g id=\"text_14\">\n      <!-- 5 -->\n      <g transform=\"translate(20.878125 237.394607)scale(0.1 -0.1)\">\n       <defs>\n        <path d=\"M 10.796875 72.90625 \nL 49.515625 72.90625 \nL 49.515625 64.59375 \nL 19.828125 64.59375 \nL 19.828125 46.734375 \nQ 21.96875 47.46875 24.109375 47.828125 \nQ 26.265625 48.1875 28.421875 48.1875 \nQ 40.625 48.1875 47.75 41.5 \nQ 54.890625 34.8125 54.890625 23.390625 \nQ 54.890625 11.625 47.5625 5.09375 \nQ 40.234375 -1.421875 26.90625 -1.421875 \nQ 22.3125 -1.421875 17.546875 -0.640625 \nQ 12.796875 0.140625 7.71875 1.703125 \nL 7.71875 11.625 \nQ 12.109375 9.234375 16.796875 8.0625 \nQ 21.484375 6.890625 26.703125 6.890625 \nQ 35.15625 6.890625 40.078125 11.328125 \nQ 45.015625 15.765625 45.015625 23.390625 \nQ 45.015625 31 40.078125 35.4375 \nQ 35.15625 39.890625 26.703125 39.890625 \nQ 22.75 39.890625 18.8125 39.015625 \nQ 14.890625 38.140625 10.796875 36.28125 \nz\n\" id=\"DejaVuSans-53\"/>\n       </defs>\n       <use xlink:href=\"#DejaVuSans-53\"/>\n      </g>\n     </g>\n    </g>\n    <g id=\"ytick_7\">\n     <g id=\"line2d_14\">\n      <g>\n       <use style=\"stroke:#000000;stroke-width:0.8;\" x=\"34.240625\" xlink:href=\"#mabdd30cdac\" y=\"188.637076\"/>\n      </g>\n     </g>\n     <g id=\"text_15\">\n      <!-- 6 -->\n      <g transform=\"translate(20.878125 192.436295)scale(0.1 -0.1)\">\n       <use xlink:href=\"#DejaVuSans-54\"/>\n      </g>\n     </g>\n    </g>\n    <g id=\"text_16\">\n     <!-- MAE -->\n     <g transform=\"translate(14.798438 321.976103)rotate(-90)scale(0.1 -0.1)\">\n      <defs>\n       <path d=\"M 9.8125 72.90625 \nL 24.515625 72.90625 \nL 43.109375 23.296875 \nL 61.8125 72.90625 \nL 76.515625 72.90625 \nL 76.515625 0 \nL 66.890625 0 \nL 66.890625 64.015625 \nL 48.09375 14.015625 \nL 38.1875 14.015625 \nL 19.390625 64.015625 \nL 19.390625 0 \nL 9.8125 0 \nz\n\" id=\"DejaVuSans-77\"/>\n       <path d=\"M 34.1875 63.1875 \nL 20.796875 26.90625 \nL 47.609375 26.90625 \nz\nM 28.609375 72.90625 \nL 39.796875 72.90625 \nL 67.578125 0 \nL 57.328125 0 \nL 50.6875 18.703125 \nL 17.828125 18.703125 \nL 11.1875 0 \nL 0.78125 0 \nz\n\" id=\"DejaVuSans-65\"/>\n      </defs>\n      <use xlink:href=\"#DejaVuSans-77\"/>\n      <use x=\"86.279297\" xlink:href=\"#DejaVuSans-65\"/>\n      <use x=\"154.6875\" xlink:href=\"#DejaVuSans-69\"/>\n     </g>\n    </g>\n   </g>\n   <g id=\"line2d_15\">\n    <path clip-path=\"url(#p614a5a2715)\" d=\"M 49.160411 165.734759 \nL 51.626491 358.018124 \nL 54.092572 381.977827 \nL 56.558652 397.193146 \nL 59.024732 410.085835 \nL 61.490813 419.409582 \nL 63.956893 427.418206 \nL 66.422974 433.154608 \nL 68.889054 437.628638 \nL 71.355134 440.423198 \nL 73.821215 443.448513 \nL 76.287295 445.657235 \nL 78.753375 447.701422 \nL 81.219456 448.3366 \nL 83.685536 449.890901 \nL 86.151616 450.626895 \nL 88.617697 451.285824 \nL 91.083777 452.238043 \nL 93.549857 452.344979 \nL 96.015938 452.994622 \nL 98.482018 451.573848 \nL 100.948098 454.66537 \nL 103.414179 454.826055 \nL 105.880259 454.732664 \nL 108.346339 454.32291 \nL 110.81242 455.261294 \nL 113.2785 455.011489 \nL 115.74458 454.722301 \nL 118.210661 455.430125 \nL 120.676741 455.308807 \nL 123.142821 454.859627 \nL 125.608902 455.493661 \nL 128.074982 455.525459 \nL 130.541063 455.662345 \nL 133.007143 455.485179 \nL 135.473223 455.828223 \nL 137.939304 455.710572 \nL 140.405384 455.718754 \nL 142.871464 455.837741 \nL 145.337545 455.927889 \nL 147.803625 455.942913 \nL 150.269705 456.059814 \nL 152.735786 456.058685 \nL 155.201866 456.156003 \nL 157.667946 456.169646 \nL 160.134027 456.146578 \nL 162.600107 456.173236 \nL 165.066187 456.198781 \nL 167.532268 456.24235 \nL 169.998348 456.192597 \nL 172.464428 456.264537 \nL 174.930509 456.263649 \nL 177.396589 456.254408 \nL 179.862669 456.209169 \nL 182.32875 456.262628 \nL 184.79483 456.284535 \nL 187.26091 456.2378 \nL 189.726991 456.22042 \nL 192.193071 456.260309 \nL 194.659152 456.267225 \nL 197.125232 456.278904 \nL 199.591312 456.29016 \nL 202.057393 456.285446 \nL 204.523473 456.292672 \nL 206.989553 456.303348 \nL 209.455634 456.278421 \nL 211.921714 456.317291 \nL 214.387794 456.276097 \nL 216.853875 456.282761 \nL 219.319955 456.305642 \nL 221.786035 456.300635 \nL 224.252116 456.317101 \nL 226.718196 456.307425 \nL 229.184276 456.303885 \nL 231.650357 456.291364 \nL 234.116437 456.295358 \nL 236.582517 456.301087 \nL 239.048598 456.295785 \nL 241.514678 456.31716 \nL 243.980758 456.285925 \nL 246.446839 456.306869 \nL 248.912919 456.322001 \nL 251.379 456.326391 \nL 253.84508 456.315727 \nL 256.31116 456.310752 \nL 258.777241 456.301971 \nL 261.243321 456.301224 \nL 263.709401 456.317814 \nL 266.175482 456.303322 \nL 268.641562 456.317677 \nL 271.107642 456.317411 \nL 273.573723 456.297039 \nL 276.039803 456.320552 \nL 278.505883 456.314327 \nL 280.971964 456.321392 \nL 283.438044 456.294715 \nL 285.904124 456.34634 \nL 288.370205 456.323209 \nL 290.836285 456.311063 \nL 293.302365 456.316018 \nL 295.768446 456.309291 \nL 298.234526 456.324337 \nL 300.700606 456.254894 \nL 303.166687 456.241246 \nL 305.632767 456.27367 \nL 308.098847 456.292479 \nL 310.564928 456.279888 \nL 313.031008 456.2939 \nL 315.497089 456.254098 \nL 317.963169 456.314485 \nL 320.429249 456.315069 \nL 322.89533 456.264147 \nL 325.36141 456.28682 \nL 327.82749 456.279178 \nL 330.293571 456.294153 \nL 332.759651 456.292231 \nL 335.225731 456.2971 \nL 337.691812 456.316771 \nL 340.157892 456.295875 \nL 342.623972 456.326729 \nL 345.090053 456.31591 \nL 347.556133 456.281666 \n\" style=\"fill:none;stroke:#1f77b4;stroke-linecap:square;stroke-width:1.5;\"/>\n   </g>\n   <g id=\"line2d_16\">\n    <path clip-path=\"url(#p614a5a2715)\" d=\"M 49.160411 345.509718 \nL 51.626491 376.406102 \nL 54.092572 380.524013 \nL 56.558652 398.397982 \nL 59.024732 418.56578 \nL 61.490813 423.590646 \nL 63.956893 425.189718 \nL 66.422974 438.746243 \nL 68.889054 432.589026 \nL 71.355134 442.608921 \nL 73.821215 447.157313 \nL 76.287295 443.964894 \nL 78.753375 449.462878 \nL 81.219456 448.669166 \nL 83.685536 451.982318 \nL 86.151616 448.244498 \nL 88.617697 453.113503 \nL 91.083777 451.078988 \nL 93.549857 452.788567 \nL 96.015938 454.905289 \nL 98.482018 454.339766 \nL 100.948098 455.148242 \nL 103.414179 455.030623 \nL 105.880259 455.055478 \nL 108.346339 455.120579 \nL 110.81242 455.356949 \nL 113.2785 455.167214 \nL 115.74458 455.298656 \nL 118.210661 455.352734 \nL 120.676741 455.364771 \nL 123.142821 454.793192 \nL 125.608902 455.32267 \nL 128.074982 455.687836 \nL 130.541063 454.742779 \nL 133.007143 455.887284 \nL 135.473223 455.977982 \nL 137.939304 455.673509 \nL 140.405384 456.028792 \nL 142.871464 455.819192 \nL 145.337545 455.83119 \nL 147.803625 456.120514 \nL 150.269705 455.884009 \nL 152.735786 456.24884 \nL 155.201866 456.269929 \nL 157.667946 456.270972 \nL 160.134027 456.182832 \nL 162.600107 456.165167 \nL 165.066187 456.332707 \nL 167.532268 456.182783 \nL 169.998348 456.286081 \nL 172.464428 456.370095 \nL 174.930509 456.3538 \nL 177.396589 456.271446 \nL 179.862669 456.076836 \nL 182.32875 456.335359 \nL 184.79483 456.153835 \nL 187.26091 456.320371 \nL 189.726991 456.27098 \nL 192.193071 456.072494 \nL 194.659152 456.178648 \nL 197.125232 456.327349 \nL 199.591312 456.376278 \nL 202.057393 456.36901 \nL 204.523473 456.117323 \nL 206.989553 456.283377 \nL 209.455634 455.847477 \nL 211.921714 456.395717 \nL 214.387794 456.048409 \nL 216.853875 456.382834 \nL 219.319955 456.258931 \nL 221.786035 456.39094 \nL 224.252116 456.392105 \nL 226.718196 456.362868 \nL 229.184276 456.388938 \nL 231.650357 456.347748 \nL 234.116437 456.322559 \nL 236.582517 456.338202 \nL 239.048598 456.249839 \nL 241.514678 456.305385 \nL 243.980758 456.236468 \nL 246.446839 456.333878 \nL 248.912919 456.127947 \nL 251.379 456.417504 \nL 253.84508 456.385677 \nL 256.31116 456.166847 \nL 258.777241 456.38656 \nL 261.243321 456.325665 \nL 263.709401 456.331786 \nL 266.175482 456.396665 \nL 268.641562 455.952735 \nL 271.107642 456.356371 \nL 273.573723 456.375518 \nL 276.039803 456.308281 \nL 278.505883 456.313493 \nL 280.971964 456.429947 \nL 283.438044 456.28324 \nL 285.904124 456.376918 \nL 288.370205 456.345999 \nL 290.836285 456.324865 \nL 293.302365 456.399919 \nL 295.768446 456.202727 \nL 298.234526 456.426927 \nL 300.700606 456.203077 \nL 303.166687 456.257404 \nL 305.632767 456.318162 \nL 308.098847 456.336785 \nL 310.564928 456.260115 \nL 313.031008 456.23326 \nL 315.497089 456.342186 \nL 317.963169 456.283879 \nL 320.429249 456.365408 \nL 322.89533 456.328125 \nL 325.36141 456.319522 \nL 327.82749 456.377854 \nL 330.293571 456.341617 \nL 332.759651 456.054858 \nL 335.225731 456.363151 \nL 337.691812 456.407475 \nL 340.157892 456.329445 \nL 342.623972 456.377031 \nL 345.090053 456.240109 \nL 347.556133 456.272301 \n\" style=\"fill:none;stroke:#ff7f0e;stroke-dasharray:6,2.25;stroke-dashoffset:0;stroke-width:1.5;\"/>\n   </g>\n   <g id=\"line2d_17\"/>\n   <g id=\"line2d_18\"/>\n   <g id=\"patch_3\">\n    <path d=\"M 34.240625 470.964706 \nL 34.240625 151.2 \n\" style=\"fill:none;stroke:#000000;stroke-linecap:square;stroke-linejoin:miter;stroke-width:0.8;\"/>\n   </g>\n   <g id=\"patch_4\">\n    <path d=\"M 362.475919 470.964706 \nL 362.475919 151.2 \n\" style=\"fill:none;stroke:#000000;stroke-linecap:square;stroke-linejoin:miter;stroke-width:0.8;\"/>\n   </g>\n   <g id=\"patch_5\">\n    <path d=\"M 34.240625 470.964706 \nL 362.475919 470.964706 \n\" style=\"fill:none;stroke:#000000;stroke-linecap:square;stroke-linejoin:miter;stroke-width:0.8;\"/>\n   </g>\n   <g id=\"patch_6\">\n    <path d=\"M 34.240625 151.2 \nL 362.475919 151.2 \n\" style=\"fill:none;stroke:#000000;stroke-linecap:square;stroke-linejoin:miter;stroke-width:0.8;\"/>\n   </g>\n   <g id=\"text_17\">\n    <!-- Training and validation MAE -->\n    <g transform=\"translate(115.065147 145.2)scale(0.12 -0.12)\">\n     <defs>\n      <path d=\"M -0.296875 72.90625 \nL 61.375 72.90625 \nL 61.375 64.59375 \nL 35.5 64.59375 \nL 35.5 0 \nL 25.59375 0 \nL 25.59375 64.59375 \nL -0.296875 64.59375 \nz\n\" id=\"DejaVuSans-84\"/>\n      <path d=\"M 41.109375 46.296875 \nQ 39.59375 47.171875 37.8125 47.578125 \nQ 36.03125 48 33.890625 48 \nQ 26.265625 48 22.1875 43.046875 \nQ 18.109375 38.09375 18.109375 28.8125 \nL 18.109375 0 \nL 9.078125 0 \nL 9.078125 54.6875 \nL 18.109375 54.6875 \nL 18.109375 46.1875 \nQ 20.953125 51.171875 25.484375 53.578125 \nQ 30.03125 56 36.53125 56 \nQ 37.453125 56 38.578125 55.875 \nQ 39.703125 55.765625 41.0625 55.515625 \nz\n\" id=\"DejaVuSans-114\"/>\n      <path d=\"M 34.28125 27.484375 \nQ 23.390625 27.484375 19.1875 25 \nQ 14.984375 22.515625 14.984375 16.5 \nQ 14.984375 11.71875 18.140625 8.90625 \nQ 21.296875 6.109375 26.703125 6.109375 \nQ 34.1875 6.109375 38.703125 11.40625 \nQ 43.21875 16.703125 43.21875 25.484375 \nL 43.21875 27.484375 \nz\nM 52.203125 31.203125 \nL 52.203125 0 \nL 43.21875 0 \nL 43.21875 8.296875 \nQ 40.140625 3.328125 35.546875 0.953125 \nQ 30.953125 -1.421875 24.3125 -1.421875 \nQ 15.921875 -1.421875 10.953125 3.296875 \nQ 6 8.015625 6 15.921875 \nQ 6 25.140625 12.171875 29.828125 \nQ 18.359375 34.515625 30.609375 34.515625 \nL 43.21875 34.515625 \nL 43.21875 35.40625 \nQ 43.21875 41.609375 39.140625 45 \nQ 35.0625 48.390625 27.6875 48.390625 \nQ 23 48.390625 18.546875 47.265625 \nQ 14.109375 46.140625 10.015625 43.890625 \nL 10.015625 52.203125 \nQ 14.9375 54.109375 19.578125 55.046875 \nQ 24.21875 56 28.609375 56 \nQ 40.484375 56 46.34375 49.84375 \nQ 52.203125 43.703125 52.203125 31.203125 \nz\n\" id=\"DejaVuSans-97\"/>\n      <path d=\"M 9.421875 54.6875 \nL 18.40625 54.6875 \nL 18.40625 0 \nL 9.421875 0 \nz\nM 9.421875 75.984375 \nL 18.40625 75.984375 \nL 18.40625 64.59375 \nL 9.421875 64.59375 \nz\n\" id=\"DejaVuSans-105\"/>\n      <path d=\"M 54.890625 33.015625 \nL 54.890625 0 \nL 45.90625 0 \nL 45.90625 32.71875 \nQ 45.90625 40.484375 42.875 44.328125 \nQ 39.84375 48.1875 33.796875 48.1875 \nQ 26.515625 48.1875 22.3125 43.546875 \nQ 18.109375 38.921875 18.109375 30.90625 \nL 18.109375 0 \nL 9.078125 0 \nL 9.078125 54.6875 \nL 18.109375 54.6875 \nL 18.109375 46.1875 \nQ 21.34375 51.125 25.703125 53.5625 \nQ 30.078125 56 35.796875 56 \nQ 45.21875 56 50.046875 50.171875 \nQ 54.890625 44.34375 54.890625 33.015625 \nz\n\" id=\"DejaVuSans-110\"/>\n      <path d=\"M 45.40625 27.984375 \nQ 45.40625 37.75 41.375 43.109375 \nQ 37.359375 48.484375 30.078125 48.484375 \nQ 22.859375 48.484375 18.828125 43.109375 \nQ 14.796875 37.75 14.796875 27.984375 \nQ 14.796875 18.265625 18.828125 12.890625 \nQ 22.859375 7.515625 30.078125 7.515625 \nQ 37.359375 7.515625 41.375 12.890625 \nQ 45.40625 18.265625 45.40625 27.984375 \nz\nM 54.390625 6.78125 \nQ 54.390625 -7.171875 48.1875 -13.984375 \nQ 42 -20.796875 29.203125 -20.796875 \nQ 24.46875 -20.796875 20.265625 -20.09375 \nQ 16.0625 -19.390625 12.109375 -17.921875 \nL 12.109375 -9.1875 \nQ 16.0625 -11.328125 19.921875 -12.34375 \nQ 23.78125 -13.375 27.78125 -13.375 \nQ 36.625 -13.375 41.015625 -8.765625 \nQ 45.40625 -4.15625 45.40625 5.171875 \nL 45.40625 9.625 \nQ 42.625 4.78125 38.28125 2.390625 \nQ 33.9375 0 27.875 0 \nQ 17.828125 0 11.671875 7.65625 \nQ 5.515625 15.328125 5.515625 27.984375 \nQ 5.515625 40.671875 11.671875 48.328125 \nQ 17.828125 56 27.875 56 \nQ 33.9375 56 38.28125 53.609375 \nQ 42.625 51.21875 45.40625 46.390625 \nL 45.40625 54.6875 \nL 54.390625 54.6875 \nz\n\" id=\"DejaVuSans-103\"/>\n      <path id=\"DejaVuSans-32\"/>\n      <path d=\"M 45.40625 46.390625 \nL 45.40625 75.984375 \nL 54.390625 75.984375 \nL 54.390625 0 \nL 45.40625 0 \nL 45.40625 8.203125 \nQ 42.578125 3.328125 38.25 0.953125 \nQ 33.9375 -1.421875 27.875 -1.421875 \nQ 17.96875 -1.421875 11.734375 6.484375 \nQ 5.515625 14.40625 5.515625 27.296875 \nQ 5.515625 40.1875 11.734375 48.09375 \nQ 17.96875 56 27.875 56 \nQ 33.9375 56 38.25 53.625 \nQ 42.578125 51.265625 45.40625 46.390625 \nz\nM 14.796875 27.296875 \nQ 14.796875 17.390625 18.875 11.75 \nQ 22.953125 6.109375 30.078125 6.109375 \nQ 37.203125 6.109375 41.296875 11.75 \nQ 45.40625 17.390625 45.40625 27.296875 \nQ 45.40625 37.203125 41.296875 42.84375 \nQ 37.203125 48.484375 30.078125 48.484375 \nQ 22.953125 48.484375 18.875 42.84375 \nQ 14.796875 37.203125 14.796875 27.296875 \nz\n\" id=\"DejaVuSans-100\"/>\n      <path d=\"M 2.984375 54.6875 \nL 12.5 54.6875 \nL 29.59375 8.796875 \nL 46.6875 54.6875 \nL 56.203125 54.6875 \nL 35.6875 0 \nL 23.484375 0 \nz\n\" id=\"DejaVuSans-118\"/>\n      <path d=\"M 9.421875 75.984375 \nL 18.40625 75.984375 \nL 18.40625 0 \nL 9.421875 0 \nz\n\" id=\"DejaVuSans-108\"/>\n      <path d=\"M 18.3125 70.21875 \nL 18.3125 54.6875 \nL 36.8125 54.6875 \nL 36.8125 47.703125 \nL 18.3125 47.703125 \nL 18.3125 18.015625 \nQ 18.3125 11.328125 20.140625 9.421875 \nQ 21.96875 7.515625 27.59375 7.515625 \nL 36.8125 7.515625 \nL 36.8125 0 \nL 27.59375 0 \nQ 17.1875 0 13.234375 3.875 \nQ 9.28125 7.765625 9.28125 18.015625 \nL 9.28125 47.703125 \nL 2.6875 47.703125 \nL 2.6875 54.6875 \nL 9.28125 54.6875 \nL 9.28125 70.21875 \nz\n\" id=\"DejaVuSans-116\"/>\n     </defs>\n     <use xlink:href=\"#DejaVuSans-84\"/>\n     <use x=\"46.333984\" xlink:href=\"#DejaVuSans-114\"/>\n     <use x=\"87.447266\" xlink:href=\"#DejaVuSans-97\"/>\n     <use x=\"148.726562\" xlink:href=\"#DejaVuSans-105\"/>\n     <use x=\"176.509766\" xlink:href=\"#DejaVuSans-110\"/>\n     <use x=\"239.888672\" xlink:href=\"#DejaVuSans-105\"/>\n     <use x=\"267.671875\" xlink:href=\"#DejaVuSans-110\"/>\n     <use x=\"331.050781\" xlink:href=\"#DejaVuSans-103\"/>\n     <use x=\"394.527344\" xlink:href=\"#DejaVuSans-32\"/>\n     <use x=\"426.314453\" xlink:href=\"#DejaVuSans-97\"/>\n     <use x=\"487.59375\" xlink:href=\"#DejaVuSans-110\"/>\n     <use x=\"550.972656\" xlink:href=\"#DejaVuSans-100\"/>\n     <use x=\"614.449219\" xlink:href=\"#DejaVuSans-32\"/>\n     <use x=\"646.236328\" xlink:href=\"#DejaVuSans-118\"/>\n     <use x=\"705.416016\" xlink:href=\"#DejaVuSans-97\"/>\n     <use x=\"766.695312\" xlink:href=\"#DejaVuSans-108\"/>\n     <use x=\"794.478516\" xlink:href=\"#DejaVuSans-105\"/>\n     <use x=\"822.261719\" xlink:href=\"#DejaVuSans-100\"/>\n     <use x=\"885.738281\" xlink:href=\"#DejaVuSans-97\"/>\n     <use x=\"947.017578\" xlink:href=\"#DejaVuSans-116\"/>\n     <use x=\"986.226562\" xlink:href=\"#DejaVuSans-105\"/>\n     <use x=\"1014.009766\" xlink:href=\"#DejaVuSans-111\"/>\n     <use x=\"1075.191406\" xlink:href=\"#DejaVuSans-110\"/>\n     <use x=\"1138.570312\" xlink:href=\"#DejaVuSans-32\"/>\n     <use x=\"1170.357422\" xlink:href=\"#DejaVuSans-77\"/>\n     <use x=\"1256.636719\" xlink:href=\"#DejaVuSans-65\"/>\n     <use x=\"1325.044922\" xlink:href=\"#DejaVuSans-69\"/>\n    </g>\n   </g>\n   <g id=\"legend_1\">\n    <g id=\"patch_7\">\n     <path d=\"M 281.629044 188.834375 \nL 355.475919 188.834375 \nQ 357.475919 188.834375 357.475919 186.834375 \nL 357.475919 158.2 \nQ 357.475919 156.2 355.475919 156.2 \nL 281.629044 156.2 \nQ 279.629044 156.2 279.629044 158.2 \nL 279.629044 186.834375 \nQ 279.629044 188.834375 281.629044 188.834375 \nz\n\" style=\"fill:#ffffff;opacity:0.8;stroke:#cccccc;stroke-linejoin:miter;\"/>\n    </g>\n    <g id=\"line2d_19\">\n     <path d=\"M 283.629044 164.298437 \nL 303.629044 164.298437 \n\" style=\"fill:none;stroke:#1f77b4;stroke-linecap:square;stroke-width:1.5;\"/>\n    </g>\n    <g id=\"line2d_20\"/>\n    <g id=\"text_18\">\n     <!-- mae -->\n     <g transform=\"translate(311.629044 167.798437)scale(0.1 -0.1)\">\n      <defs>\n       <path d=\"M 52 44.1875 \nQ 55.375 50.25 60.0625 53.125 \nQ 64.75 56 71.09375 56 \nQ 79.640625 56 84.28125 50.015625 \nQ 88.921875 44.046875 88.921875 33.015625 \nL 88.921875 0 \nL 79.890625 0 \nL 79.890625 32.71875 \nQ 79.890625 40.578125 77.09375 44.375 \nQ 74.3125 48.1875 68.609375 48.1875 \nQ 61.625 48.1875 57.5625 43.546875 \nQ 53.515625 38.921875 53.515625 30.90625 \nL 53.515625 0 \nL 44.484375 0 \nL 44.484375 32.71875 \nQ 44.484375 40.625 41.703125 44.40625 \nQ 38.921875 48.1875 33.109375 48.1875 \nQ 26.21875 48.1875 22.15625 43.53125 \nQ 18.109375 38.875 18.109375 30.90625 \nL 18.109375 0 \nL 9.078125 0 \nL 9.078125 54.6875 \nL 18.109375 54.6875 \nL 18.109375 46.1875 \nQ 21.1875 51.21875 25.484375 53.609375 \nQ 29.78125 56 35.6875 56 \nQ 41.65625 56 45.828125 52.96875 \nQ 50 49.953125 52 44.1875 \nz\n\" id=\"DejaVuSans-109\"/>\n       <path d=\"M 56.203125 29.59375 \nL 56.203125 25.203125 \nL 14.890625 25.203125 \nQ 15.484375 15.921875 20.484375 11.0625 \nQ 25.484375 6.203125 34.421875 6.203125 \nQ 39.59375 6.203125 44.453125 7.46875 \nQ 49.3125 8.734375 54.109375 11.28125 \nL 54.109375 2.78125 \nQ 49.265625 0.734375 44.1875 -0.34375 \nQ 39.109375 -1.421875 33.890625 -1.421875 \nQ 20.796875 -1.421875 13.15625 6.1875 \nQ 5.515625 13.8125 5.515625 26.8125 \nQ 5.515625 40.234375 12.765625 48.109375 \nQ 20.015625 56 32.328125 56 \nQ 43.359375 56 49.78125 48.890625 \nQ 56.203125 41.796875 56.203125 29.59375 \nz\nM 47.21875 32.234375 \nQ 47.125 39.59375 43.09375 43.984375 \nQ 39.0625 48.390625 32.421875 48.390625 \nQ 24.90625 48.390625 20.390625 44.140625 \nQ 15.875 39.890625 15.1875 32.171875 \nz\n\" id=\"DejaVuSans-101\"/>\n      </defs>\n      <use xlink:href=\"#DejaVuSans-109\"/>\n      <use x=\"97.412109\" xlink:href=\"#DejaVuSans-97\"/>\n      <use x=\"158.691406\" xlink:href=\"#DejaVuSans-101\"/>\n     </g>\n    </g>\n    <g id=\"line2d_21\">\n     <path d=\"M 283.629044 178.976562 \nL 303.629044 178.976562 \n\" style=\"fill:none;stroke:#ff7f0e;stroke-dasharray:6,2.25;stroke-dashoffset:0;stroke-width:1.5;\"/>\n    </g>\n    <g id=\"line2d_22\"/>\n    <g id=\"text_19\">\n     <!-- val_mae -->\n     <g transform=\"translate(311.629044 182.476562)scale(0.1 -0.1)\">\n      <defs>\n       <path d=\"M 50.984375 -16.609375 \nL 50.984375 -23.578125 \nL -0.984375 -23.578125 \nL -0.984375 -16.609375 \nz\n\" id=\"DejaVuSans-95\"/>\n      </defs>\n      <use xlink:href=\"#DejaVuSans-118\"/>\n      <use x=\"59.179688\" xlink:href=\"#DejaVuSans-97\"/>\n      <use x=\"120.458984\" xlink:href=\"#DejaVuSans-108\"/>\n      <use x=\"148.242188\" xlink:href=\"#DejaVuSans-95\"/>\n      <use x=\"198.242188\" xlink:href=\"#DejaVuSans-109\"/>\n      <use x=\"295.654297\" xlink:href=\"#DejaVuSans-97\"/>\n      <use x=\"356.933594\" xlink:href=\"#DejaVuSans-101\"/>\n     </g>\n    </g>\n   </g>\n  </g>\n  <g id=\"axes_2\">\n   <g id=\"patch_8\">\n    <path d=\"M 428.122978 470.964706 \nL 756.358272 470.964706 \nL 756.358272 151.2 \nL 428.122978 151.2 \nz\n\" style=\"fill:#ffffff;\"/>\n   </g>\n   <g id=\"matplotlib.axis_3\">\n    <g id=\"xtick_8\">\n     <g id=\"line2d_23\">\n      <g>\n       <use style=\"stroke:#000000;stroke-width:0.8;\" x=\"443.042764\" xlink:href=\"#mce1e332250\" y=\"470.964706\"/>\n      </g>\n     </g>\n     <g id=\"text_20\">\n      <!-- 0 -->\n      <g transform=\"translate(439.861514 485.563143)scale(0.1 -0.1)\">\n       <use xlink:href=\"#DejaVuSans-48\"/>\n      </g>\n     </g>\n    </g>\n    <g id=\"xtick_9\">\n     <g id=\"line2d_24\">\n      <g>\n       <use style=\"stroke:#000000;stroke-width:0.8;\" x=\"492.364371\" xlink:href=\"#mce1e332250\" y=\"470.964706\"/>\n      </g>\n     </g>\n     <g id=\"text_21\">\n      <!-- 20 -->\n      <g transform=\"translate(486.001871 485.563143)scale(0.1 -0.1)\">\n       <use xlink:href=\"#DejaVuSans-50\"/>\n       <use x=\"63.623047\" xlink:href=\"#DejaVuSans-48\"/>\n      </g>\n     </g>\n    </g>\n    <g id=\"xtick_10\">\n     <g id=\"line2d_25\">\n      <g>\n       <use style=\"stroke:#000000;stroke-width:0.8;\" x=\"541.685978\" xlink:href=\"#mce1e332250\" y=\"470.964706\"/>\n      </g>\n     </g>\n     <g id=\"text_22\">\n      <!-- 40 -->\n      <g transform=\"translate(535.323478 485.563143)scale(0.1 -0.1)\">\n       <use xlink:href=\"#DejaVuSans-52\"/>\n       <use x=\"63.623047\" xlink:href=\"#DejaVuSans-48\"/>\n      </g>\n     </g>\n    </g>\n    <g id=\"xtick_11\">\n     <g id=\"line2d_26\">\n      <g>\n       <use style=\"stroke:#000000;stroke-width:0.8;\" x=\"591.007585\" xlink:href=\"#mce1e332250\" y=\"470.964706\"/>\n      </g>\n     </g>\n     <g id=\"text_23\">\n      <!-- 60 -->\n      <g transform=\"translate(584.645085 485.563143)scale(0.1 -0.1)\">\n       <use xlink:href=\"#DejaVuSans-54\"/>\n       <use x=\"63.623047\" xlink:href=\"#DejaVuSans-48\"/>\n      </g>\n     </g>\n    </g>\n    <g id=\"xtick_12\">\n     <g id=\"line2d_27\">\n      <g>\n       <use style=\"stroke:#000000;stroke-width:0.8;\" x=\"640.329192\" xlink:href=\"#mce1e332250\" y=\"470.964706\"/>\n      </g>\n     </g>\n     <g id=\"text_24\">\n      <!-- 80 -->\n      <g transform=\"translate(633.966692 485.563143)scale(0.1 -0.1)\">\n       <use xlink:href=\"#DejaVuSans-56\"/>\n       <use x=\"63.623047\" xlink:href=\"#DejaVuSans-48\"/>\n      </g>\n     </g>\n    </g>\n    <g id=\"xtick_13\">\n     <g id=\"line2d_28\">\n      <g>\n       <use style=\"stroke:#000000;stroke-width:0.8;\" x=\"689.650799\" xlink:href=\"#mce1e332250\" y=\"470.964706\"/>\n      </g>\n     </g>\n     <g id=\"text_25\">\n      <!-- 100 -->\n      <g transform=\"translate(680.107049 485.563143)scale(0.1 -0.1)\">\n       <use xlink:href=\"#DejaVuSans-49\"/>\n       <use x=\"63.623047\" xlink:href=\"#DejaVuSans-48\"/>\n       <use x=\"127.246094\" xlink:href=\"#DejaVuSans-48\"/>\n      </g>\n     </g>\n    </g>\n    <g id=\"xtick_14\">\n     <g id=\"line2d_29\">\n      <g>\n       <use style=\"stroke:#000000;stroke-width:0.8;\" x=\"738.972406\" xlink:href=\"#mce1e332250\" y=\"470.964706\"/>\n      </g>\n     </g>\n     <g id=\"text_26\">\n      <!-- 120 -->\n      <g transform=\"translate(729.428656 485.563143)scale(0.1 -0.1)\">\n       <use xlink:href=\"#DejaVuSans-49\"/>\n       <use x=\"63.623047\" xlink:href=\"#DejaVuSans-50\"/>\n       <use x=\"127.246094\" xlink:href=\"#DejaVuSans-48\"/>\n      </g>\n     </g>\n    </g>\n    <g id=\"text_27\">\n     <!-- Epochs -->\n     <g transform=\"translate(574.325 499.241268)scale(0.1 -0.1)\">\n      <use xlink:href=\"#DejaVuSans-69\"/>\n      <use x=\"63.183594\" xlink:href=\"#DejaVuSans-112\"/>\n      <use x=\"126.660156\" xlink:href=\"#DejaVuSans-111\"/>\n      <use x=\"187.841797\" xlink:href=\"#DejaVuSans-99\"/>\n      <use x=\"242.822266\" xlink:href=\"#DejaVuSans-104\"/>\n      <use x=\"306.201172\" xlink:href=\"#DejaVuSans-115\"/>\n     </g>\n    </g>\n   </g>\n   <g id=\"matplotlib.axis_4\">\n    <g id=\"ytick_8\">\n     <g id=\"line2d_30\">\n      <g>\n       <use style=\"stroke:#000000;stroke-width:0.8;\" x=\"428.122978\" xlink:href=\"#mabdd30cdac\" y=\"456.432626\"/>\n      </g>\n     </g>\n     <g id=\"text_28\">\n      <!-- 0 -->\n      <g transform=\"translate(414.760478 460.231845)scale(0.1 -0.1)\">\n       <use xlink:href=\"#DejaVuSans-48\"/>\n      </g>\n     </g>\n    </g>\n    <g id=\"ytick_9\">\n     <g id=\"line2d_31\">\n      <g>\n       <use style=\"stroke:#000000;stroke-width:0.8;\" x=\"428.122978\" xlink:href=\"#mabdd30cdac\" y=\"391.047773\"/>\n      </g>\n     </g>\n     <g id=\"text_29\">\n      <!-- 100 -->\n      <g transform=\"translate(402.035478 394.846992)scale(0.1 -0.1)\">\n       <use xlink:href=\"#DejaVuSans-49\"/>\n       <use x=\"63.623047\" xlink:href=\"#DejaVuSans-48\"/>\n       <use x=\"127.246094\" xlink:href=\"#DejaVuSans-48\"/>\n      </g>\n     </g>\n    </g>\n    <g id=\"ytick_10\">\n     <g id=\"line2d_32\">\n      <g>\n       <use style=\"stroke:#000000;stroke-width:0.8;\" x=\"428.122978\" xlink:href=\"#mabdd30cdac\" y=\"325.662921\"/>\n      </g>\n     </g>\n     <g id=\"text_30\">\n      <!-- 200 -->\n      <g transform=\"translate(402.035478 329.462139)scale(0.1 -0.1)\">\n       <use xlink:href=\"#DejaVuSans-50\"/>\n       <use x=\"63.623047\" xlink:href=\"#DejaVuSans-48\"/>\n       <use x=\"127.246094\" xlink:href=\"#DejaVuSans-48\"/>\n      </g>\n     </g>\n    </g>\n    <g id=\"ytick_11\">\n     <g id=\"line2d_33\">\n      <g>\n       <use style=\"stroke:#000000;stroke-width:0.8;\" x=\"428.122978\" xlink:href=\"#mabdd30cdac\" y=\"260.278068\"/>\n      </g>\n     </g>\n     <g id=\"text_31\">\n      <!-- 300 -->\n      <g transform=\"translate(402.035478 264.077287)scale(0.1 -0.1)\">\n       <use xlink:href=\"#DejaVuSans-51\"/>\n       <use x=\"63.623047\" xlink:href=\"#DejaVuSans-48\"/>\n       <use x=\"127.246094\" xlink:href=\"#DejaVuSans-48\"/>\n      </g>\n     </g>\n    </g>\n    <g id=\"ytick_12\">\n     <g id=\"line2d_34\">\n      <g>\n       <use style=\"stroke:#000000;stroke-width:0.8;\" x=\"428.122978\" xlink:href=\"#mabdd30cdac\" y=\"194.893215\"/>\n      </g>\n     </g>\n     <g id=\"text_32\">\n      <!-- 400 -->\n      <g transform=\"translate(402.035478 198.692434)scale(0.1 -0.1)\">\n       <use xlink:href=\"#DejaVuSans-52\"/>\n       <use x=\"63.623047\" xlink:href=\"#DejaVuSans-48\"/>\n       <use x=\"127.246094\" xlink:href=\"#DejaVuSans-48\"/>\n      </g>\n     </g>\n    </g>\n    <g id=\"text_33\">\n     <!-- MSE -->\n     <g transform=\"translate(395.95579 321.730009)rotate(-90)scale(0.1 -0.1)\">\n      <defs>\n       <path d=\"M 53.515625 70.515625 \nL 53.515625 60.890625 \nQ 47.90625 63.578125 42.921875 64.890625 \nQ 37.9375 66.21875 33.296875 66.21875 \nQ 25.25 66.21875 20.875 63.09375 \nQ 16.5 59.96875 16.5 54.203125 \nQ 16.5 49.359375 19.40625 46.890625 \nQ 22.3125 44.4375 30.421875 42.921875 \nL 36.375 41.703125 \nQ 47.40625 39.59375 52.65625 34.296875 \nQ 57.90625 29 57.90625 20.125 \nQ 57.90625 9.515625 50.796875 4.046875 \nQ 43.703125 -1.421875 29.984375 -1.421875 \nQ 24.8125 -1.421875 18.96875 -0.25 \nQ 13.140625 0.921875 6.890625 3.21875 \nL 6.890625 13.375 \nQ 12.890625 10.015625 18.65625 8.296875 \nQ 24.421875 6.59375 29.984375 6.59375 \nQ 38.421875 6.59375 43.015625 9.90625 \nQ 47.609375 13.234375 47.609375 19.390625 \nQ 47.609375 24.75 44.3125 27.78125 \nQ 41.015625 30.8125 33.5 32.328125 \nL 27.484375 33.5 \nQ 16.453125 35.6875 11.515625 40.375 \nQ 6.59375 45.0625 6.59375 53.421875 \nQ 6.59375 63.09375 13.40625 68.65625 \nQ 20.21875 74.21875 32.171875 74.21875 \nQ 37.3125 74.21875 42.625 73.28125 \nQ 47.953125 72.359375 53.515625 70.515625 \nz\n\" id=\"DejaVuSans-83\"/>\n      </defs>\n      <use xlink:href=\"#DejaVuSans-77\"/>\n      <use x=\"86.279297\" xlink:href=\"#DejaVuSans-83\"/>\n      <use x=\"149.755859\" xlink:href=\"#DejaVuSans-69\"/>\n     </g>\n    </g>\n   </g>\n   <g id=\"line2d_35\">\n    <path clip-path=\"url(#p0be1ac3b6b)\" d=\"M 443.042764 165.734759 \nL 445.508844 450.187915 \nL 447.974925 452.873309 \nL 450.441005 454.200668 \nL 452.907085 455.053165 \nL 455.373166 455.558206 \nL 457.839246 455.882788 \nL 460.305326 456.068361 \nL 462.771407 456.184697 \nL 465.237487 456.243567 \nL 467.703568 456.294673 \nL 470.169648 456.33949 \nL 472.635728 456.367049 \nL 475.101809 456.37378 \nL 477.567889 456.391194 \nL 480.033969 456.395966 \nL 482.50005 456.402454 \nL 484.96613 456.410643 \nL 487.43221 456.41032 \nL 489.898291 456.414358 \nL 492.364371 456.340964 \nL 494.830451 456.424171 \nL 497.296532 456.42492 \nL 499.762612 456.424388 \nL 502.228692 456.421086 \nL 504.694773 456.426474 \nL 507.160853 456.425089 \nL 509.626933 456.42104 \nL 512.093014 456.427091 \nL 514.559094 456.42673 \nL 517.025174 456.423484 \nL 519.491255 456.427176 \nL 521.957335 456.427206 \nL 524.423415 456.427918 \nL 526.889496 456.427161 \nL 529.355576 456.428428 \nL 531.821657 456.42769 \nL 534.287737 456.42771 \nL 536.753817 456.427947 \nL 539.219898 456.428241 \nL 541.685978 456.428367 \nL 544.152058 456.428855 \nL 546.618139 456.428772 \nL 549.084219 456.429148 \nL 551.550299 456.429182 \nL 554.01638 456.429047 \nL 556.48246 456.429165 \nL 558.94854 456.429217 \nL 561.414621 456.429373 \nL 563.880701 456.429183 \nL 566.346781 456.429431 \nL 568.812862 456.429427 \nL 571.278942 456.429399 \nL 573.745022 456.429265 \nL 576.211103 456.429418 \nL 578.677183 456.429495 \nL 581.143263 456.42934 \nL 583.609344 456.429274 \nL 586.075424 456.42941 \nL 588.541504 456.429441 \nL 591.007585 456.429469 \nL 593.473665 456.429503 \nL 595.939746 456.429485 \nL 598.405826 456.429512 \nL 600.871906 456.429559 \nL 603.337987 456.429469 \nL 605.804067 456.429597 \nL 608.270147 456.42946 \nL 610.736228 456.429488 \nL 613.202308 456.429558 \nL 615.668388 456.42955 \nL 618.134469 456.42959 \nL 620.600549 456.429564 \nL 623.066629 456.429554 \nL 625.53271 456.429503 \nL 627.99879 456.429536 \nL 630.46487 456.429546 \nL 632.930951 456.429527 \nL 635.397031 456.429581 \nL 637.863111 456.429484 \nL 640.329192 456.429557 \nL 642.795272 456.429616 \nL 645.261352 456.429635 \nL 647.727433 456.429597 \nL 650.193513 456.429578 \nL 652.659593 456.429551 \nL 655.125674 456.429547 \nL 657.591754 456.429598 \nL 660.057835 456.429546 \nL 662.523915 456.429601 \nL 664.989995 456.429599 \nL 667.456076 456.429528 \nL 669.922156 456.429606 \nL 672.388236 456.429575 \nL 674.854317 456.429608 \nL 677.320397 456.429509 \nL 679.786477 456.429682 \nL 682.252558 456.429618 \nL 684.718638 456.429581 \nL 687.184718 456.429588 \nL 689.650799 456.429577 \nL 692.116879 456.429622 \nL 694.582959 456.429401 \nL 697.04904 456.429408 \nL 699.51512 456.429513 \nL 701.9812 456.429552 \nL 704.447281 456.429505 \nL 706.913361 456.429555 \nL 709.379441 456.429405 \nL 711.845522 456.429598 \nL 714.311602 456.429613 \nL 716.777682 456.429462 \nL 719.243763 456.429519 \nL 721.709843 456.429497 \nL 724.175924 456.429555 \nL 726.642004 456.429516 \nL 729.108084 456.429563 \nL 731.574165 456.429614 \nL 734.040245 456.429529 \nL 736.506325 456.429637 \nL 738.972406 456.429607 \nL 741.438486 456.429504 \n\" style=\"fill:none;stroke:#1f77b4;stroke-linecap:square;stroke-width:1.5;\"/>\n   </g>\n   <g id=\"line2d_36\">\n    <path clip-path=\"url(#p0be1ac3b6b)\" d=\"M 443.042764 448.333403 \nL 445.508844 452.148099 \nL 447.974925 453.062977 \nL 450.441005 454.385201 \nL 452.907085 455.48655 \nL 455.373166 455.741819 \nL 457.839246 455.847902 \nL 460.305326 456.188945 \nL 462.771407 456.084709 \nL 465.237487 456.299511 \nL 467.703568 456.35964 \nL 470.169648 456.320403 \nL 472.635728 456.388095 \nL 475.101809 456.381817 \nL 477.567889 456.40779 \nL 480.033969 456.374979 \nL 482.50005 456.415601 \nL 484.96613 456.402151 \nL 487.43221 456.41563 \nL 489.898291 456.425272 \nL 492.364371 456.422628 \nL 494.830451 456.426043 \nL 497.296532 456.426094 \nL 499.762612 456.425656 \nL 502.228692 456.425629 \nL 504.694773 456.426879 \nL 507.160853 456.426205 \nL 509.626933 456.426747 \nL 512.093014 456.426685 \nL 514.559094 456.427302 \nL 517.025174 456.42334 \nL 519.491255 456.427256 \nL 521.957335 456.428094 \nL 524.423415 456.424823 \nL 526.889496 456.428532 \nL 529.355576 456.428817 \nL 531.821657 456.427534 \nL 534.287737 456.428413 \nL 536.753817 456.428098 \nL 539.219898 456.428264 \nL 541.685978 456.429068 \nL 544.152058 456.428488 \nL 546.618139 456.42941 \nL 549.084219 456.429524 \nL 551.550299 456.429522 \nL 554.01638 456.429163 \nL 556.48246 456.429184 \nL 558.94854 456.429653 \nL 561.414621 456.429181 \nL 563.880701 456.42951 \nL 566.346781 456.429701 \nL 568.812862 456.429713 \nL 571.278942 456.42957 \nL 573.745022 456.428879 \nL 576.211103 456.429669 \nL 578.677183 456.429243 \nL 581.143263 456.429586 \nL 583.609344 456.429528 \nL 586.075424 456.428894 \nL 588.541504 456.429226 \nL 591.007585 456.429621 \nL 593.473665 456.42972 \nL 595.939746 456.429721 \nL 598.405826 456.429036 \nL 600.871906 456.429431 \nL 603.337987 456.428174 \nL 605.804067 456.429847 \nL 608.270147 456.428729 \nL 610.736228 456.429792 \nL 613.202308 456.429349 \nL 615.668388 456.429769 \nL 618.134469 456.429783 \nL 620.600549 456.429702 \nL 623.066629 456.429827 \nL 625.53271 456.429668 \nL 627.99879 456.429631 \nL 630.46487 456.429706 \nL 632.930951 456.429365 \nL 635.397031 456.429525 \nL 637.863111 456.429304 \nL 640.329192 456.429679 \nL 642.795272 456.428946 \nL 645.261352 456.429877 \nL 647.727433 456.429794 \nL 650.193513 456.429272 \nL 652.659593 456.42979 \nL 655.125674 456.429629 \nL 657.591754 456.429661 \nL 660.057835 456.429758 \nL 662.523915 456.427967 \nL 664.989995 456.429749 \nL 667.456076 456.429879 \nL 669.922156 456.429579 \nL 672.388236 456.429614 \nL 674.854317 456.429885 \nL 677.320397 456.429517 \nL 679.786477 456.429791 \nL 682.252558 456.429747 \nL 684.718638 456.429706 \nL 687.184718 456.429835 \nL 689.650799 456.429392 \nL 692.116879 456.429947 \nL 694.582959 456.429135 \nL 697.04904 456.42952 \nL 699.51512 456.429622 \nL 701.9812 456.429678 \nL 704.447281 456.429534 \nL 706.913361 456.42943 \nL 709.379441 456.429648 \nL 711.845522 456.42961 \nL 714.311602 456.429753 \nL 716.777682 456.429655 \nL 719.243763 456.429646 \nL 721.709843 456.429774 \nL 724.175924 456.429708 \nL 726.642004 456.428687 \nL 729.108084 456.429692 \nL 731.574165 456.429849 \nL 734.040245 456.42976 \nL 736.506325 456.429791 \nL 738.972406 456.429366 \nL 741.438486 456.429445 \n\" style=\"fill:none;stroke:#ff7f0e;stroke-dasharray:6,2.25;stroke-dashoffset:0;stroke-width:1.5;\"/>\n   </g>\n   <g id=\"line2d_37\"/>\n   <g id=\"line2d_38\"/>\n   <g id=\"patch_9\">\n    <path d=\"M 428.122978 470.964706 \nL 428.122978 151.2 \n\" style=\"fill:none;stroke:#000000;stroke-linecap:square;stroke-linejoin:miter;stroke-width:0.8;\"/>\n   </g>\n   <g id=\"patch_10\">\n    <path d=\"M 756.358272 470.964706 \nL 756.358272 151.2 \n\" style=\"fill:none;stroke:#000000;stroke-linecap:square;stroke-linejoin:miter;stroke-width:0.8;\"/>\n   </g>\n   <g id=\"patch_11\">\n    <path d=\"M 428.122978 470.964706 \nL 756.358272 470.964706 \n\" style=\"fill:none;stroke:#000000;stroke-linecap:square;stroke-linejoin:miter;stroke-width:0.8;\"/>\n   </g>\n   <g id=\"patch_12\">\n    <path d=\"M 428.122978 151.2 \nL 756.358272 151.2 \n\" style=\"fill:none;stroke:#000000;stroke-linecap:square;stroke-linejoin:miter;stroke-width:0.8;\"/>\n   </g>\n   <g id=\"text_34\">\n    <!-- Training and validation loss -->\n    <g transform=\"translate(510.430625 145.2)scale(0.12 -0.12)\">\n     <use xlink:href=\"#DejaVuSans-84\"/>\n     <use x=\"46.333984\" xlink:href=\"#DejaVuSans-114\"/>\n     <use x=\"87.447266\" xlink:href=\"#DejaVuSans-97\"/>\n     <use x=\"148.726562\" xlink:href=\"#DejaVuSans-105\"/>\n     <use x=\"176.509766\" xlink:href=\"#DejaVuSans-110\"/>\n     <use x=\"239.888672\" xlink:href=\"#DejaVuSans-105\"/>\n     <use x=\"267.671875\" xlink:href=\"#DejaVuSans-110\"/>\n     <use x=\"331.050781\" xlink:href=\"#DejaVuSans-103\"/>\n     <use x=\"394.527344\" xlink:href=\"#DejaVuSans-32\"/>\n     <use x=\"426.314453\" xlink:href=\"#DejaVuSans-97\"/>\n     <use x=\"487.59375\" xlink:href=\"#DejaVuSans-110\"/>\n     <use x=\"550.972656\" xlink:href=\"#DejaVuSans-100\"/>\n     <use x=\"614.449219\" xlink:href=\"#DejaVuSans-32\"/>\n     <use x=\"646.236328\" xlink:href=\"#DejaVuSans-118\"/>\n     <use x=\"705.416016\" xlink:href=\"#DejaVuSans-97\"/>\n     <use x=\"766.695312\" xlink:href=\"#DejaVuSans-108\"/>\n     <use x=\"794.478516\" xlink:href=\"#DejaVuSans-105\"/>\n     <use x=\"822.261719\" xlink:href=\"#DejaVuSans-100\"/>\n     <use x=\"885.738281\" xlink:href=\"#DejaVuSans-97\"/>\n     <use x=\"947.017578\" xlink:href=\"#DejaVuSans-116\"/>\n     <use x=\"986.226562\" xlink:href=\"#DejaVuSans-105\"/>\n     <use x=\"1014.009766\" xlink:href=\"#DejaVuSans-111\"/>\n     <use x=\"1075.191406\" xlink:href=\"#DejaVuSans-110\"/>\n     <use x=\"1138.570312\" xlink:href=\"#DejaVuSans-32\"/>\n     <use x=\"1170.357422\" xlink:href=\"#DejaVuSans-108\"/>\n     <use x=\"1198.140625\" xlink:href=\"#DejaVuSans-111\"/>\n     <use x=\"1259.322266\" xlink:href=\"#DejaVuSans-115\"/>\n     <use x=\"1311.421875\" xlink:href=\"#DejaVuSans-115\"/>\n    </g>\n   </g>\n   <g id=\"legend_2\">\n    <g id=\"patch_13\">\n     <path d=\"M 678.217647 188.834375 \nL 749.358272 188.834375 \nQ 751.358272 188.834375 751.358272 186.834375 \nL 751.358272 158.2 \nQ 751.358272 156.2 749.358272 156.2 \nL 678.217647 156.2 \nQ 676.217647 156.2 676.217647 158.2 \nL 676.217647 186.834375 \nQ 676.217647 188.834375 678.217647 188.834375 \nz\n\" style=\"fill:#ffffff;opacity:0.8;stroke:#cccccc;stroke-linejoin:miter;\"/>\n    </g>\n    <g id=\"line2d_39\">\n     <path d=\"M 680.217647 164.298437 \nL 700.217647 164.298437 \n\" style=\"fill:none;stroke:#1f77b4;stroke-linecap:square;stroke-width:1.5;\"/>\n    </g>\n    <g id=\"line2d_40\"/>\n    <g id=\"text_35\">\n     <!-- loss -->\n     <g transform=\"translate(708.217647 167.798437)scale(0.1 -0.1)\">\n      <use xlink:href=\"#DejaVuSans-108\"/>\n      <use x=\"27.783203\" xlink:href=\"#DejaVuSans-111\"/>\n      <use x=\"88.964844\" xlink:href=\"#DejaVuSans-115\"/>\n      <use x=\"141.064453\" xlink:href=\"#DejaVuSans-115\"/>\n     </g>\n    </g>\n    <g id=\"line2d_41\">\n     <path d=\"M 680.217647 178.976562 \nL 700.217647 178.976562 \n\" style=\"fill:none;stroke:#ff7f0e;stroke-dasharray:6,2.25;stroke-dashoffset:0;stroke-width:1.5;\"/>\n    </g>\n    <g id=\"line2d_42\"/>\n    <g id=\"text_36\">\n     <!-- val_loss -->\n     <g transform=\"translate(708.217647 182.476562)scale(0.1 -0.1)\">\n      <use xlink:href=\"#DejaVuSans-118\"/>\n      <use x=\"59.179688\" xlink:href=\"#DejaVuSans-97\"/>\n      <use x=\"120.458984\" xlink:href=\"#DejaVuSans-108\"/>\n      <use x=\"148.242188\" xlink:href=\"#DejaVuSans-95\"/>\n      <use x=\"198.242188\" xlink:href=\"#DejaVuSans-108\"/>\n      <use x=\"226.025391\" xlink:href=\"#DejaVuSans-111\"/>\n      <use x=\"287.207031\" xlink:href=\"#DejaVuSans-115\"/>\n      <use x=\"339.306641\" xlink:href=\"#DejaVuSans-115\"/>\n     </g>\n    </g>\n   </g>\n  </g>\n  <g id=\"text_37\">\n   <!-- Activation function: relu -->\n   <g transform=\"translate(574.240625 16.318125)scale(0.12 -0.12)\">\n    <defs>\n     <path d=\"M 37.109375 75.984375 \nL 37.109375 68.5 \nL 28.515625 68.5 \nQ 23.6875 68.5 21.796875 66.546875 \nQ 19.921875 64.59375 19.921875 59.515625 \nL 19.921875 54.6875 \nL 34.71875 54.6875 \nL 34.71875 47.703125 \nL 19.921875 47.703125 \nL 19.921875 0 \nL 10.890625 0 \nL 10.890625 47.703125 \nL 2.296875 47.703125 \nL 2.296875 54.6875 \nL 10.890625 54.6875 \nL 10.890625 58.5 \nQ 10.890625 67.625 15.140625 71.796875 \nQ 19.390625 75.984375 28.609375 75.984375 \nz\n\" id=\"DejaVuSans-102\"/>\n     <path d=\"M 8.5 21.578125 \nL 8.5 54.6875 \nL 17.484375 54.6875 \nL 17.484375 21.921875 \nQ 17.484375 14.15625 20.5 10.265625 \nQ 23.53125 6.390625 29.59375 6.390625 \nQ 36.859375 6.390625 41.078125 11.03125 \nQ 45.3125 15.671875 45.3125 23.6875 \nL 45.3125 54.6875 \nL 54.296875 54.6875 \nL 54.296875 0 \nL 45.3125 0 \nL 45.3125 8.40625 \nQ 42.046875 3.421875 37.71875 1 \nQ 33.40625 -1.421875 27.6875 -1.421875 \nQ 18.265625 -1.421875 13.375 4.4375 \nQ 8.5 10.296875 8.5 21.578125 \nz\nM 31.109375 56 \nz\n\" id=\"DejaVuSans-117\"/>\n     <path d=\"M 11.71875 12.40625 \nL 22.015625 12.40625 \nL 22.015625 0 \nL 11.71875 0 \nz\nM 11.71875 51.703125 \nL 22.015625 51.703125 \nL 22.015625 39.3125 \nL 11.71875 39.3125 \nz\n\" id=\"DejaVuSans-58\"/>\n    </defs>\n    <use xlink:href=\"#DejaVuSans-65\"/>\n    <use x=\"66.658203\" xlink:href=\"#DejaVuSans-99\"/>\n    <use x=\"121.638672\" xlink:href=\"#DejaVuSans-116\"/>\n    <use x=\"160.847656\" xlink:href=\"#DejaVuSans-105\"/>\n    <use x=\"188.630859\" xlink:href=\"#DejaVuSans-118\"/>\n    <use x=\"247.810547\" xlink:href=\"#DejaVuSans-97\"/>\n    <use x=\"309.089844\" xlink:href=\"#DejaVuSans-116\"/>\n    <use x=\"348.298828\" xlink:href=\"#DejaVuSans-105\"/>\n    <use x=\"376.082031\" xlink:href=\"#DejaVuSans-111\"/>\n    <use x=\"437.263672\" xlink:href=\"#DejaVuSans-110\"/>\n    <use x=\"500.642578\" xlink:href=\"#DejaVuSans-32\"/>\n    <use x=\"532.429688\" xlink:href=\"#DejaVuSans-102\"/>\n    <use x=\"567.634766\" xlink:href=\"#DejaVuSans-117\"/>\n    <use x=\"631.013672\" xlink:href=\"#DejaVuSans-110\"/>\n    <use x=\"694.392578\" xlink:href=\"#DejaVuSans-99\"/>\n    <use x=\"749.373047\" xlink:href=\"#DejaVuSans-116\"/>\n    <use x=\"788.582031\" xlink:href=\"#DejaVuSans-105\"/>\n    <use x=\"816.365234\" xlink:href=\"#DejaVuSans-111\"/>\n    <use x=\"877.546875\" xlink:href=\"#DejaVuSans-110\"/>\n    <use x=\"940.925781\" xlink:href=\"#DejaVuSans-58\"/>\n    <use x=\"974.617188\" xlink:href=\"#DejaVuSans-32\"/>\n    <use x=\"1006.404297\" xlink:href=\"#DejaVuSans-114\"/>\n    <use x=\"1045.267578\" xlink:href=\"#DejaVuSans-101\"/>\n    <use x=\"1106.791016\" xlink:href=\"#DejaVuSans-108\"/>\n    <use x=\"1134.574219\" xlink:href=\"#DejaVuSans-117\"/>\n   </g>\n   <!-- Batch size: 16 -->\n   <g transform=\"translate(574.240625 29.7555)scale(0.12 -0.12)\">\n    <defs>\n     <path d=\"M 19.671875 34.8125 \nL 19.671875 8.109375 \nL 35.5 8.109375 \nQ 43.453125 8.109375 47.28125 11.40625 \nQ 51.125 14.703125 51.125 21.484375 \nQ 51.125 28.328125 47.28125 31.5625 \nQ 43.453125 34.8125 35.5 34.8125 \nz\nM 19.671875 64.796875 \nL 19.671875 42.828125 \nL 34.28125 42.828125 \nQ 41.5 42.828125 45.03125 45.53125 \nQ 48.578125 48.25 48.578125 53.8125 \nQ 48.578125 59.328125 45.03125 62.0625 \nQ 41.5 64.796875 34.28125 64.796875 \nz\nM 9.8125 72.90625 \nL 35.015625 72.90625 \nQ 46.296875 72.90625 52.390625 68.21875 \nQ 58.5 63.53125 58.5 54.890625 \nQ 58.5 48.1875 55.375 44.234375 \nQ 52.25 40.28125 46.1875 39.3125 \nQ 53.46875 37.75 57.5 32.78125 \nQ 61.53125 27.828125 61.53125 20.40625 \nQ 61.53125 10.640625 54.890625 5.3125 \nQ 48.25 0 35.984375 0 \nL 9.8125 0 \nz\n\" id=\"DejaVuSans-66\"/>\n     <path d=\"M 5.515625 54.6875 \nL 48.1875 54.6875 \nL 48.1875 46.484375 \nL 14.40625 7.171875 \nL 48.1875 7.171875 \nL 48.1875 0 \nL 4.296875 0 \nL 4.296875 8.203125 \nL 38.09375 47.515625 \nL 5.515625 47.515625 \nz\n\" id=\"DejaVuSans-122\"/>\n    </defs>\n    <use xlink:href=\"#DejaVuSans-66\"/>\n    <use x=\"68.603516\" xlink:href=\"#DejaVuSans-97\"/>\n    <use x=\"129.882812\" xlink:href=\"#DejaVuSans-116\"/>\n    <use x=\"169.091797\" xlink:href=\"#DejaVuSans-99\"/>\n    <use x=\"224.072266\" xlink:href=\"#DejaVuSans-104\"/>\n    <use x=\"287.451172\" xlink:href=\"#DejaVuSans-32\"/>\n    <use x=\"319.238281\" xlink:href=\"#DejaVuSans-115\"/>\n    <use x=\"371.337891\" xlink:href=\"#DejaVuSans-105\"/>\n    <use x=\"399.121094\" xlink:href=\"#DejaVuSans-122\"/>\n    <use x=\"451.611328\" xlink:href=\"#DejaVuSans-101\"/>\n    <use x=\"513.134766\" xlink:href=\"#DejaVuSans-58\"/>\n    <use x=\"546.826172\" xlink:href=\"#DejaVuSans-32\"/>\n    <use x=\"578.613281\" xlink:href=\"#DejaVuSans-49\"/>\n    <use x=\"642.236328\" xlink:href=\"#DejaVuSans-54\"/>\n   </g>\n   <!-- Optimizer: Adam -->\n   <g transform=\"translate(574.240625 43.192875)scale(0.12 -0.12)\">\n    <defs>\n     <path d=\"M 39.40625 66.21875 \nQ 28.65625 66.21875 22.328125 58.203125 \nQ 16.015625 50.203125 16.015625 36.375 \nQ 16.015625 22.609375 22.328125 14.59375 \nQ 28.65625 6.59375 39.40625 6.59375 \nQ 50.140625 6.59375 56.421875 14.59375 \nQ 62.703125 22.609375 62.703125 36.375 \nQ 62.703125 50.203125 56.421875 58.203125 \nQ 50.140625 66.21875 39.40625 66.21875 \nz\nM 39.40625 74.21875 \nQ 54.734375 74.21875 63.90625 63.9375 \nQ 73.09375 53.65625 73.09375 36.375 \nQ 73.09375 19.140625 63.90625 8.859375 \nQ 54.734375 -1.421875 39.40625 -1.421875 \nQ 24.03125 -1.421875 14.8125 8.828125 \nQ 5.609375 19.09375 5.609375 36.375 \nQ 5.609375 53.65625 14.8125 63.9375 \nQ 24.03125 74.21875 39.40625 74.21875 \nz\n\" id=\"DejaVuSans-79\"/>\n    </defs>\n    <use xlink:href=\"#DejaVuSans-79\"/>\n    <use x=\"78.710938\" xlink:href=\"#DejaVuSans-112\"/>\n    <use x=\"142.1875\" xlink:href=\"#DejaVuSans-116\"/>\n    <use x=\"181.396484\" xlink:href=\"#DejaVuSans-105\"/>\n    <use x=\"209.179688\" xlink:href=\"#DejaVuSans-109\"/>\n    <use x=\"306.591797\" xlink:href=\"#DejaVuSans-105\"/>\n    <use x=\"334.375\" xlink:href=\"#DejaVuSans-122\"/>\n    <use x=\"386.865234\" xlink:href=\"#DejaVuSans-101\"/>\n    <use x=\"448.388672\" xlink:href=\"#DejaVuSans-114\"/>\n    <use x=\"487.751953\" xlink:href=\"#DejaVuSans-58\"/>\n    <use x=\"521.443359\" xlink:href=\"#DejaVuSans-32\"/>\n    <use x=\"553.230469\" xlink:href=\"#DejaVuSans-65\"/>\n    <use x=\"619.888672\" xlink:href=\"#DejaVuSans-100\"/>\n    <use x=\"683.365234\" xlink:href=\"#DejaVuSans-97\"/>\n    <use x=\"744.644531\" xlink:href=\"#DejaVuSans-109\"/>\n   </g>\n   <!-- Loss: mse -->\n   <g transform=\"translate(574.240625 56.63025)scale(0.12 -0.12)\">\n    <defs>\n     <path d=\"M 9.8125 72.90625 \nL 19.671875 72.90625 \nL 19.671875 8.296875 \nL 55.171875 8.296875 \nL 55.171875 0 \nL 9.8125 0 \nz\n\" id=\"DejaVuSans-76\"/>\n    </defs>\n    <use xlink:href=\"#DejaVuSans-76\"/>\n    <use x=\"53.962891\" xlink:href=\"#DejaVuSans-111\"/>\n    <use x=\"115.144531\" xlink:href=\"#DejaVuSans-115\"/>\n    <use x=\"167.244141\" xlink:href=\"#DejaVuSans-115\"/>\n    <use x=\"219.34375\" xlink:href=\"#DejaVuSans-58\"/>\n    <use x=\"253.035156\" xlink:href=\"#DejaVuSans-32\"/>\n    <use x=\"284.822266\" xlink:href=\"#DejaVuSans-109\"/>\n    <use x=\"382.234375\" xlink:href=\"#DejaVuSans-115\"/>\n    <use x=\"434.333984\" xlink:href=\"#DejaVuSans-101\"/>\n   </g>\n  </g>\n </g>\n <defs>\n  <clipPath id=\"p614a5a2715\">\n   <rect height=\"319.764706\" width=\"328.235294\" x=\"34.240625\" y=\"151.2\"/>\n  </clipPath>\n  <clipPath id=\"p0be1ac3b6b\">\n   <rect height=\"319.764706\" width=\"328.235294\" x=\"428.122978\" y=\"151.2\"/>\n  </clipPath>\n </defs>\n</svg>\n",
      "image/png": "[encoded data removed]"
     },
     "metadata": {
      "needs_background": "light"
     }
    }
   ],
   "source": [
    "plots = [\n",
    "           {'cols':['mae', 'val_mae'], 'title':'Training and validation MAE', 'yLabel':'MAE'},\n",
    "           {'cols':['loss', 'val_loss'], 'title':'Training and validation loss', 'yLabel':'MSE'},\n",
    "]\n",
    "\n",
    "fig = plt.figure(figsize=(20,20))\n",
    "fig_no = 331\n",
    "title = 'Activation function: {}\\nBatch size: {}\\nOptimizer: {}\\nLoss: {}'.format(activation, batch_size,optimizer._name, loss)\n",
    "fig.suptitle(title, fontsize=\"large\", horizontalalignment='left', verticalalignment='top')\n",
    "\n",
    "for i in range(len(plots)):\n",
    "    ax = fig.add_subplot(str(fig_no))\n",
    "    sns.lineplot(data=training_history[plots[i]['cols']], ax=ax)\n",
    "    plt.title(plots[i]['title'])\n",
    "    plt.xlabel('Epochs')\n",
    "    plt.ylabel(plots[i]['yLabel'])\n",
    "    fig_no += 1\n",
    "\n",
    "plt.show()"
   ]
  },
  {
   "source": [
    "### Predictions"
   ],
   "cell_type": "markdown",
   "metadata": {}
  },
  {
   "cell_type": "code",
   "execution_count": 23,
   "metadata": {},
   "outputs": [
    {
     "output_type": "stream",
     "name": "stdout",
     "text": [
      "191/191 [==============================] - 0s 410us/step\n"
     ]
    }
   ],
   "source": [
    "predictions = model.predict(x=X_test, verbose=1)"
   ]
  },
  {
   "cell_type": "code",
   "execution_count": 24,
   "metadata": {},
   "outputs": [
    {
     "output_type": "stream",
     "name": "stdout",
     "text": [
      "MSE:  0.004149122395313682\nMSA:  0.043969480372849326\nR-Squared:  0.7044596616647205\nExplained Variance Score:  0.7060053097427361\n"
     ]
    }
   ],
   "source": [
    "from sklearn.metrics import mean_squared_error, r2_score, explained_variance_score, mean_absolute_error\n",
    "\n",
    "print('MSE: ', mean_squared_error( y_test, predictions ))\n",
    "print('MSA: ', mean_absolute_error( y_test, predictions ))\n",
    "print('R-Squared: ', r2_score( y_test, predictions ))\n",
    "print('Explained Variance Score: ', explained_variance_score( y_test, predictions ))"
   ]
  },
  {
   "cell_type": "code",
   "execution_count": null,
   "metadata": {},
   "outputs": [],
   "source": []
  }
 ]
}