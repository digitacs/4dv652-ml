{
 "metadata": {
  "language_info": {
   "codemirror_mode": {
    "name": "ipython",
    "version": 3
   },
   "file_extension": ".py",
   "mimetype": "text/x-python",
   "name": "python",
   "nbconvert_exporter": "python",
   "pygments_lexer": "ipython3",
   "version": "3.9.2"
  },
  "orig_nbformat": 2,
  "kernelspec": {
   "name": "python392jvsc74a57bd0aee8b7b246df8f9039afb4144a1f6fd8d2ca17a180786b69acc140d282b71a49",
   "display_name": "Python 3.9.2 64-bit"
  },
  "metadata": {
   "interpreter": {
    "hash": "aee8b7b246df8f9039afb4144a1f6fd8d2ca17a180786b69acc140d282b71a49"
   }
  }
 },
 "nbformat": 4,
 "nbformat_minor": 2,
 "cells": [
  {
   "source": [
    "# PoseNet 2D to Kinect 2D"
   ],
   "cell_type": "markdown",
   "metadata": {}
  },
  {
   "cell_type": "code",
   "execution_count": 71,
   "metadata": {},
   "outputs": [],
   "source": [
    "import os\n",
    "import numpy as np\n",
    "import pandas as pd\n",
    "import tensorflow as tf\n",
    "import seaborn as sns\n",
    "import matplotlib.pyplot as plt\n",
    "\n",
    "from tensorflow import keras\n",
    "from tensorflow.keras.optimizers import RMSprop, Adam, SGD"
   ]
  },
  {
   "cell_type": "code",
   "execution_count": 72,
   "metadata": {},
   "outputs": [],
   "source": [
    "import warnings\n",
    "warnings.simplefilter('ignore')"
   ]
  },
  {
   "cell_type": "code",
   "execution_count": 86,
   "metadata": {},
   "outputs": [],
   "source": [
    "posenetDataPath = '../../datasets/posenet-uncut/'\n",
    "kinectDataPath = '../../datasets/kinect_good_preprocessed_not_cut/'\n",
    "\n",
    "X = None\n",
    "y = None\n",
    "\n",
    "train_test_ratio = 0.8\n",
    "random_state = 47\n",
    "\n",
    "# Model parameters\n",
    "units = 64\n",
    "output_layer = ''\n",
    "learning_rate = 0.001\n",
    "optimizer = 'Adam'\n",
    "loss = 'mse'\n",
    "metrics = ['mae']\n",
    "epochs = 500\n",
    "batch_size = 16\n",
    "layers = [ \n",
    "    { 'type': 'Dense', 'nodes':64, 'activation': 'relu' },\n",
    "    { 'type': 'Dense', 'nodes':64, 'activation': 'relu' },\n",
    "    { 'type': 'Dense', 'nodes':26, 'activation': 'relu' }\n",
    "]\n",
    "\n",
    "# Early stopping parameters\n",
    "monitor = 'val_loss'\n",
    "verbose = 1\n",
    "patience = 20\n",
    "mode = 'min'\n",
    "restore_best_weights = True"
   ]
  },
  {
   "cell_type": "code",
   "execution_count": 87,
   "metadata": {},
   "outputs": [],
   "source": [
    "np.random.seed(random_state)"
   ]
  },
  {
   "source": [
    "## 1. Data Preparation"
   ],
   "cell_type": "markdown",
   "metadata": {}
  },
  {
   "source": [
    "### Load matching files from PoseNet and Kinect"
   ],
   "cell_type": "markdown",
   "metadata": {}
  },
  {
   "cell_type": "code",
   "execution_count": 88,
   "metadata": {},
   "outputs": [
    {
     "output_type": "stream",
     "name": "stdout",
     "text": [
      "(30502, 26)\n(30502, 26)\n"
     ]
    }
   ],
   "source": [
    "import re\n",
    "\n",
    "for file in os.listdir(posenetDataPath):\n",
    "    if file.endswith('.csv'):\n",
    "        try:\n",
    "            posenetData = pd.read_csv(posenetDataPath + file)\n",
    "            kinectData = pd.read_csv(kinectDataPath + '{}_kinect.csv'.format(file.replace('.csv', '')))\n",
    "            # Check amount of frames\n",
    "            if (len(posenetData) == len(kinectData)):\n",
    "                posenetData.drop(columns=['FrameNo'], inplace=True)\n",
    "                if X is None:\n",
    "                    X = posenetData\n",
    "                else:\n",
    "                    X = pd.concat((X, posenetData), ignore_index=True)\n",
    "\n",
    "                # Drop Z-columns from Kinect\n",
    "                z = []\n",
    "                for c in kinectData.columns:\n",
    "                    if re.search(\"^.*_z$\", c):\n",
    "                        z.append(c)\n",
    "                kinectData.drop(columns=z, inplace=True)\n",
    "                kinectData.drop(columns=['FrameNo'], inplace=True)\n",
    "                if y is None:\n",
    "                    y = kinectData\n",
    "                else:\n",
    "                    y = pd.concat((y, kinectData), ignore_index=True)\n",
    "        except IOError as e:\n",
    "            print('Error in reading file: ', e)\n",
    "\n",
    "print(X.shape)\n",
    "print(y.shape)"
   ]
  },
  {
   "source": [
    "### Training and test split"
   ],
   "cell_type": "markdown",
   "metadata": {}
  },
  {
   "cell_type": "code",
   "execution_count": 89,
   "metadata": {},
   "outputs": [
    {
     "output_type": "stream",
     "name": "stdout",
     "text": [
      "(24401, 26)\n(24401, 26)\n(6101, 26)\n(6101, 26)\n"
     ]
    }
   ],
   "source": [
    "from sklearn.model_selection import train_test_split\n",
    "\n",
    "X_train, X_test, y_train, y_test  = train_test_split(X, y, train_size=train_test_ratio, random_state=random_state)\n",
    "\n",
    "input_dim = X_train.shape[1]\n",
    "\n",
    "print(X_train.shape)\n",
    "print(y_train.shape)\n",
    "print(X_test.shape)\n",
    "print(y_test.shape)"
   ]
  },
  {
   "source": [
    "### Scaling"
   ],
   "cell_type": "markdown",
   "metadata": {}
  },
  {
   "cell_type": "code",
   "execution_count": 90,
   "metadata": {},
   "outputs": [
    {
     "output_type": "execute_result",
     "data": {
      "text/plain": [
       "array([[ -1.17386797,   0.72013281,  -1.1023334 , ...,   0.4404361 ,\n",
       "         -1.49153516,   0.83281636],\n",
       "       [ -0.22128634,  -0.05630455,  -0.2467548 , ...,  -0.31148637,\n",
       "         -0.64702484,   0.20606775],\n",
       "       [ -0.47873858,   0.0748577 ,  -0.15326916, ...,  -0.05447137,\n",
       "          1.01594385,  -0.22030745],\n",
       "       ...,\n",
       "       [  2.7756878 ,   0.10767545,   3.15859161, ...,  -0.47772728,\n",
       "          1.84904656,  -0.30172786],\n",
       "       [  1.08851202,  -7.49030714,   1.4794711 , ..., -10.04347431,\n",
       "          1.5473259 ,  -8.96460798],\n",
       "       [ -1.79499048,   0.75103295,  -1.6323526 , ...,   0.01854431,\n",
       "         -0.88179427,   0.41256754]])"
      ]
     },
     "metadata": {},
     "execution_count": 90
    }
   ],
   "source": [
    "from sklearn.preprocessing import StandardScaler\n",
    "\n",
    "scaler = StandardScaler()\n",
    "scaler.fit_transform(X_train)\n",
    "scaler.transform(X_test)"
   ]
  },
  {
   "source": [
    "## 2. DL Model"
   ],
   "cell_type": "markdown",
   "metadata": {}
  },
  {
   "cell_type": "code",
   "execution_count": 91,
   "metadata": {},
   "outputs": [],
   "source": [
    "# Model layer factory\n",
    "from tensorflow.keras.layers import Conv1D, Dense, MaxPooling1D, Dropout, Flatten\n",
    "\n",
    "def layerFactory(type, nodes, activation):\n",
    "    if type == 'Dense':\n",
    "        return Dense(units=nodes, activation=activation)\n",
    "    if type == 'Conv1D':\n",
    "        return Conv1D(units=nodes, activation=activation)\n",
    "    if type == 'MaxPooling1D':\n",
    "        return MaxPooling1D(units=nodes, activation=activation)\n",
    "    if type == 'Dropout':\n",
    "        return Dropout(units=nodes, activation=activation)\n",
    "    if type == 'Flatten':\n",
    "        return Flatten(units=nodes, activation=activation)\n",
    "    \n",
    "    # otherwise return dense as default\n",
    "    return Dense(units=nodes, activation=activation)"
   ]
  },
  {
   "source": [
    "### Model Architecture"
   ],
   "cell_type": "code",
   "metadata": {},
   "execution_count": 92,
   "outputs": []
  },
  {
   "cell_type": "code",
   "execution_count": 93,
   "metadata": {},
   "outputs": [
    {
     "output_type": "stream",
     "name": "stdout",
     "text": [
      "Model: \"sequential_3\"\n_________________________________________________________________\nLayer (type)                 Output Shape              Param #   \n=================================================================\ndense_6 (Dense)              (None, 64)                1728      \n_________________________________________________________________\ndense_7 (Dense)              (None, 64)                4160      \n_________________________________________________________________\ndense_8 (Dense)              (None, 26)                1690      \n=================================================================\nTotal params: 7,578\nTrainable params: 7,578\nNon-trainable params: 0\n_________________________________________________________________\n"
     ]
    }
   ],
   "source": [
    "from tensorflow.keras.models import Sequential\n",
    "from tensorflow.keras.layers import Input, Dense, InputLayer\n",
    "\n",
    "model = Sequential([\n",
    "    InputLayer(input_shape=(input_dim))\n",
    "])\n",
    "\n",
    "for layer in layers:\n",
    "    model.add(layerFactory(layer['type'], layer['nodes'], layer['activation']))\n",
    "\n",
    "optimizer = tf.keras.optimizers.get(optimizer)\n",
    "optimizer.learning_rate.assign(learning_rate)\n",
    "model.compile(optimizer=optimizer, loss=loss, metrics=metrics)\n",
    "\n",
    "model.summary()"
   ]
  },
  {
   "source": [
    "### Early stopping"
   ],
   "cell_type": "markdown",
   "metadata": {}
  },
  {
   "cell_type": "code",
   "execution_count": 94,
   "metadata": {},
   "outputs": [],
   "source": [
    "from keras.callbacks import EarlyStopping\n",
    "\n",
    "early_stopping = EarlyStopping(\n",
    "    monitor=monitor, \n",
    "    verbose=verbose,\n",
    "    patience=patience,\n",
    "    mode=mode,\n",
    "    restore_best_weights=restore_best_weights)"
   ]
  },
  {
   "source": [
    "### Model Training"
   ],
   "cell_type": "markdown",
   "metadata": {}
  },
  {
   "cell_type": "code",
   "execution_count": 95,
   "metadata": {},
   "outputs": [
    {
     "output_type": "stream",
     "name": "stdout",
     "text": [
      "Epoch 1/500\n",
      "1220/1220 [==============================] - 1s 865us/step - loss: 2596.9744 - mae: 6.7850 - val_loss: 0.1948 - val_mae: 0.3355\n",
      "Epoch 2/500\n",
      "1220/1220 [==============================] - 1s 829us/step - loss: 0.1921 - mae: 0.3371 - val_loss: 0.1894 - val_mae: 0.3354\n",
      "Epoch 3/500\n",
      "1220/1220 [==============================] - 1s 853us/step - loss: 0.1901 - mae: 0.3361 - val_loss: 0.1893 - val_mae: 0.3354\n",
      "Epoch 4/500\n",
      "1220/1220 [==============================] - 1s 822us/step - loss: 0.1905 - mae: 0.3366 - val_loss: 0.1895 - val_mae: 0.3354\n",
      "Epoch 5/500\n",
      "1220/1220 [==============================] - 1s 787us/step - loss: 0.1904 - mae: 0.3364 - val_loss: 0.1889 - val_mae: 0.3353\n",
      "Epoch 6/500\n",
      "1220/1220 [==============================] - 1s 802us/step - loss: 0.1907 - mae: 0.3367 - val_loss: 0.1889 - val_mae: 0.3353\n",
      "Epoch 7/500\n",
      "1220/1220 [==============================] - 1s 742us/step - loss: 0.1893 - mae: 0.3355 - val_loss: 0.1889 - val_mae: 0.3353\n",
      "Epoch 8/500\n",
      "1220/1220 [==============================] - 1s 839us/step - loss: 0.1900 - mae: 0.3360 - val_loss: 0.1889 - val_mae: 0.3353\n",
      "Epoch 9/500\n",
      "1220/1220 [==============================] - 1s 789us/step - loss: 0.1901 - mae: 0.3361 - val_loss: 0.1889 - val_mae: 0.3353\n",
      "Epoch 10/500\n",
      "1220/1220 [==============================] - 1s 780us/step - loss: 0.1910 - mae: 0.3370 - val_loss: 0.1889 - val_mae: 0.3353\n",
      "Epoch 11/500\n",
      "1220/1220 [==============================] - 1s 790us/step - loss: 0.1901 - mae: 0.3360 - val_loss: 0.1889 - val_mae: 0.3353\n",
      "Epoch 12/500\n",
      "1220/1220 [==============================] - 1s 819us/step - loss: 0.1904 - mae: 0.3364 - val_loss: 0.1889 - val_mae: 0.3353\n",
      "Epoch 13/500\n",
      "1220/1220 [==============================] - 1s 795us/step - loss: 0.1900 - mae: 0.3361 - val_loss: 0.1889 - val_mae: 0.3353\n",
      "Epoch 14/500\n",
      "1220/1220 [==============================] - 1s 773us/step - loss: 0.1908 - mae: 0.3369 - val_loss: 0.1889 - val_mae: 0.3353\n",
      "Epoch 15/500\n",
      "1220/1220 [==============================] - 1s 831us/step - loss: 0.1902 - mae: 0.3364 - val_loss: 0.1889 - val_mae: 0.3353\n",
      "Epoch 16/500\n",
      "1220/1220 [==============================] - 1s 914us/step - loss: 0.1900 - mae: 0.3360 - val_loss: 0.1889 - val_mae: 0.3353\n",
      "Epoch 17/500\n",
      "1220/1220 [==============================] - 1s 860us/step - loss: 0.1906 - mae: 0.3366 - val_loss: 0.1889 - val_mae: 0.3353\n",
      "Epoch 18/500\n",
      "1220/1220 [==============================] - 1s 863us/step - loss: 0.1911 - mae: 0.3370 - val_loss: 0.1889 - val_mae: 0.3353\n",
      "Epoch 19/500\n",
      "1220/1220 [==============================] - 1s 1ms/step - loss: 0.1904 - mae: 0.3364 - val_loss: 0.1889 - val_mae: 0.3353\n",
      "Epoch 20/500\n",
      "1220/1220 [==============================] - 1s 1ms/step - loss: 0.1903 - mae: 0.3363 - val_loss: 0.1889 - val_mae: 0.3353\n",
      "Epoch 21/500\n",
      "1220/1220 [==============================] - 1s 920us/step - loss: 0.1899 - mae: 0.3360 - val_loss: 0.1889 - val_mae: 0.3353\n",
      "Epoch 22/500\n",
      "1220/1220 [==============================] - 1s 857us/step - loss: 0.1900 - mae: 0.3359 - val_loss: 0.1889 - val_mae: 0.3353\n",
      "Epoch 23/500\n",
      "1220/1220 [==============================] - 1s 916us/step - loss: 0.1906 - mae: 0.3366 - val_loss: 0.1889 - val_mae: 0.3353\n",
      "Epoch 24/500\n",
      "1220/1220 [==============================] - 1s 836us/step - loss: 0.1901 - mae: 0.3362 - val_loss: 0.1889 - val_mae: 0.3353\n",
      "Epoch 25/500\n",
      "1220/1220 [==============================] - 1s 874us/step - loss: 0.1902 - mae: 0.3360 - val_loss: 0.1889 - val_mae: 0.3353\n",
      "Restoring model weights from the end of the best epoch.\n",
      "Epoch 00025: early stopping\n"
     ]
    }
   ],
   "source": [
    "history = model.fit(x=X_train, y=y_train, validation_split=0.2, shuffle=True, epochs=epochs, verbose=1, batch_size=batch_size, callbacks=[early_stopping])\n",
    "\n",
    "training_history = pd.DataFrame(history.history)\n",
    "training_history['epochs'] = range(len(training_history['mae']))"
   ]
  },
  {
   "source": [
    "### Plot training and validation MAE & loss per epoch"
   ],
   "cell_type": "markdown",
   "metadata": {}
  },
  {
   "cell_type": "code",
   "execution_count": 96,
   "metadata": {},
   "outputs": [
    {
     "output_type": "display_data",
     "data": {
      "text/plain": "<Figure size 1440x1440 with 2 Axes>",
      "image/svg+xml": "<?xml version=\"1.0\" encoding=\"utf-8\" standalone=\"no\"?>\n<!DOCTYPE svg PUBLIC \"-//W3C//DTD SVG 1.1//EN\"\n  \"http://www.w3.org/Graphics/SVG/1.1/DTD/svg11.dtd\">\n<svg height=\"508.520956pt\" version=\"1.1\" viewBox=\"0 0 776.974766 508.520956\" width=\"776.974766pt\" xmlns=\"http://www.w3.org/2000/svg\" xmlns:xlink=\"http://www.w3.org/1999/xlink\">\n <metadata>\n  <rdf:RDF xmlns:cc=\"http://creativecommons.org/ns#\" xmlns:dc=\"http://purl.org/dc/elements/1.1/\" xmlns:rdf=\"http://www.w3.org/1999/02/22-rdf-syntax-ns#\">\n   <cc:Work>\n    <dc:type rdf:resource=\"http://purl.org/dc/dcmitype/StillImage\"/>\n    <dc:date>2021-05-02T09:14:36.168099</dc:date>\n    <dc:format>image/svg+xml</dc:format>\n    <dc:creator>\n     <cc:Agent>\n      <dc:title>Matplotlib v3.4.1, https://matplotlib.org/</dc:title>\n     </cc:Agent>\n    </dc:creator>\n   </cc:Work>\n  </rdf:RDF>\n </metadata>\n <defs>\n  <style type=\"text/css\">*{stroke-linecap:butt;stroke-linejoin:round;}</style>\n </defs>\n <g id=\"figure_1\">\n  <g id=\"patch_1\">\n   <path d=\"M 0 508.520956 \nL 776.974766 508.520956 \nL 776.974766 0 \nL 0 0 \nz\n\" style=\"fill:none;\"/>\n  </g>\n  <g id=\"axes_1\">\n   <g id=\"patch_2\">\n    <path d=\"M 43.78125 470.964706 \nL 372.016544 470.964706 \nL 372.016544 151.2 \nL 43.78125 151.2 \nz\n\" style=\"fill:#ffffff;\"/>\n   </g>\n   <g id=\"matplotlib.axis_1\">\n    <g id=\"xtick_1\">\n     <g id=\"line2d_1\">\n      <defs>\n       <path d=\"M 0 0 \nL 0 3.5 \n\" id=\"md144a7bb41\" style=\"stroke:#000000;stroke-width:0.8;\"/>\n      </defs>\n      <g>\n       <use style=\"stroke:#000000;stroke-width:0.8;\" x=\"58.701036\" xlink:href=\"#md144a7bb41\" y=\"470.964706\"/>\n      </g>\n     </g>\n     <g id=\"text_1\">\n      <!-- 0 -->\n      <g transform=\"translate(55.519786 485.563143)scale(0.1 -0.1)\">\n       <defs>\n        <path d=\"M 2034 4250 \nQ 1547 4250 1301 3770 \nQ 1056 3291 1056 2328 \nQ 1056 1369 1301 889 \nQ 1547 409 2034 409 \nQ 2525 409 2770 889 \nQ 3016 1369 3016 2328 \nQ 3016 3291 2770 3770 \nQ 2525 4250 2034 4250 \nz\nM 2034 4750 \nQ 2819 4750 3233 4129 \nQ 3647 3509 3647 2328 \nQ 3647 1150 3233 529 \nQ 2819 -91 2034 -91 \nQ 1250 -91 836 529 \nQ 422 1150 422 2328 \nQ 422 3509 836 4129 \nQ 1250 4750 2034 4750 \nz\n\" id=\"DejaVuSans-30\" transform=\"scale(0.015625)\"/>\n       </defs>\n       <use xlink:href=\"#DejaVuSans-30\"/>\n      </g>\n     </g>\n    </g>\n    <g id=\"xtick_2\">\n     <g id=\"line2d_2\">\n      <g>\n       <use style=\"stroke:#000000;stroke-width:0.8;\" x=\"120.866811\" xlink:href=\"#md144a7bb41\" y=\"470.964706\"/>\n      </g>\n     </g>\n     <g id=\"text_2\">\n      <!-- 5 -->\n      <g transform=\"translate(117.685561 485.563143)scale(0.1 -0.1)\">\n       <defs>\n        <path d=\"M 691 4666 \nL 3169 4666 \nL 3169 4134 \nL 1269 4134 \nL 1269 2991 \nQ 1406 3038 1543 3061 \nQ 1681 3084 1819 3084 \nQ 2600 3084 3056 2656 \nQ 3513 2228 3513 1497 \nQ 3513 744 3044 326 \nQ 2575 -91 1722 -91 \nQ 1428 -91 1123 -41 \nQ 819 9 494 109 \nL 494 744 \nQ 775 591 1075 516 \nQ 1375 441 1709 441 \nQ 2250 441 2565 725 \nQ 2881 1009 2881 1497 \nQ 2881 1984 2565 2268 \nQ 2250 2553 1709 2553 \nQ 1456 2553 1204 2497 \nQ 953 2441 691 2322 \nL 691 4666 \nz\n\" id=\"DejaVuSans-35\" transform=\"scale(0.015625)\"/>\n       </defs>\n       <use xlink:href=\"#DejaVuSans-35\"/>\n      </g>\n     </g>\n    </g>\n    <g id=\"xtick_3\">\n     <g id=\"line2d_3\">\n      <g>\n       <use style=\"stroke:#000000;stroke-width:0.8;\" x=\"183.032587\" xlink:href=\"#md144a7bb41\" y=\"470.964706\"/>\n      </g>\n     </g>\n     <g id=\"text_3\">\n      <!-- 10 -->\n      <g transform=\"translate(176.670087 485.563143)scale(0.1 -0.1)\">\n       <defs>\n        <path d=\"M 794 531 \nL 1825 531 \nL 1825 4091 \nL 703 3866 \nL 703 4441 \nL 1819 4666 \nL 2450 4666 \nL 2450 531 \nL 3481 531 \nL 3481 0 \nL 794 0 \nL 794 531 \nz\n\" id=\"DejaVuSans-31\" transform=\"scale(0.015625)\"/>\n       </defs>\n       <use xlink:href=\"#DejaVuSans-31\"/>\n       <use x=\"63.623047\" xlink:href=\"#DejaVuSans-30\"/>\n      </g>\n     </g>\n    </g>\n    <g id=\"xtick_4\">\n     <g id=\"line2d_4\">\n      <g>\n       <use style=\"stroke:#000000;stroke-width:0.8;\" x=\"245.198362\" xlink:href=\"#md144a7bb41\" y=\"470.964706\"/>\n      </g>\n     </g>\n     <g id=\"text_4\">\n      <!-- 15 -->\n      <g transform=\"translate(238.835862 485.563143)scale(0.1 -0.1)\">\n       <use xlink:href=\"#DejaVuSans-31\"/>\n       <use x=\"63.623047\" xlink:href=\"#DejaVuSans-35\"/>\n      </g>\n     </g>\n    </g>\n    <g id=\"xtick_5\">\n     <g id=\"line2d_5\">\n      <g>\n       <use style=\"stroke:#000000;stroke-width:0.8;\" x=\"307.364138\" xlink:href=\"#md144a7bb41\" y=\"470.964706\"/>\n      </g>\n     </g>\n     <g id=\"text_5\">\n      <!-- 20 -->\n      <g transform=\"translate(301.001638 485.563143)scale(0.1 -0.1)\">\n       <defs>\n        <path d=\"M 1228 531 \nL 3431 531 \nL 3431 0 \nL 469 0 \nL 469 531 \nQ 828 903 1448 1529 \nQ 2069 2156 2228 2338 \nQ 2531 2678 2651 2914 \nQ 2772 3150 2772 3378 \nQ 2772 3750 2511 3984 \nQ 2250 4219 1831 4219 \nQ 1534 4219 1204 4116 \nQ 875 4013 500 3803 \nL 500 4441 \nQ 881 4594 1212 4672 \nQ 1544 4750 1819 4750 \nQ 2544 4750 2975 4387 \nQ 3406 4025 3406 3419 \nQ 3406 3131 3298 2873 \nQ 3191 2616 2906 2266 \nQ 2828 2175 2409 1742 \nQ 1991 1309 1228 531 \nz\n\" id=\"DejaVuSans-32\" transform=\"scale(0.015625)\"/>\n       </defs>\n       <use xlink:href=\"#DejaVuSans-32\"/>\n       <use x=\"63.623047\" xlink:href=\"#DejaVuSans-30\"/>\n      </g>\n     </g>\n    </g>\n    <g id=\"xtick_6\">\n     <g id=\"line2d_6\">\n      <g>\n       <use style=\"stroke:#000000;stroke-width:0.8;\" x=\"369.529913\" xlink:href=\"#md144a7bb41\" y=\"470.964706\"/>\n      </g>\n     </g>\n     <g id=\"text_6\">\n      <!-- 25 -->\n      <g transform=\"translate(363.167413 485.563143)scale(0.1 -0.1)\">\n       <use xlink:href=\"#DejaVuSans-32\"/>\n       <use x=\"63.623047\" xlink:href=\"#DejaVuSans-35\"/>\n      </g>\n     </g>\n    </g>\n    <g id=\"text_7\">\n     <!-- Epochs -->\n     <g transform=\"translate(189.983272 499.241268)scale(0.1 -0.1)\">\n      <defs>\n       <path d=\"M 628 4666 \nL 3578 4666 \nL 3578 4134 \nL 1259 4134 \nL 1259 2753 \nL 3481 2753 \nL 3481 2222 \nL 1259 2222 \nL 1259 531 \nL 3634 531 \nL 3634 0 \nL 628 0 \nL 628 4666 \nz\n\" id=\"DejaVuSans-45\" transform=\"scale(0.015625)\"/>\n       <path d=\"M 1159 525 \nL 1159 -1331 \nL 581 -1331 \nL 581 3500 \nL 1159 3500 \nL 1159 2969 \nQ 1341 3281 1617 3432 \nQ 1894 3584 2278 3584 \nQ 2916 3584 3314 3078 \nQ 3713 2572 3713 1747 \nQ 3713 922 3314 415 \nQ 2916 -91 2278 -91 \nQ 1894 -91 1617 61 \nQ 1341 213 1159 525 \nz\nM 3116 1747 \nQ 3116 2381 2855 2742 \nQ 2594 3103 2138 3103 \nQ 1681 3103 1420 2742 \nQ 1159 2381 1159 1747 \nQ 1159 1113 1420 752 \nQ 1681 391 2138 391 \nQ 2594 391 2855 752 \nQ 3116 1113 3116 1747 \nz\n\" id=\"DejaVuSans-70\" transform=\"scale(0.015625)\"/>\n       <path d=\"M 1959 3097 \nQ 1497 3097 1228 2736 \nQ 959 2375 959 1747 \nQ 959 1119 1226 758 \nQ 1494 397 1959 397 \nQ 2419 397 2687 759 \nQ 2956 1122 2956 1747 \nQ 2956 2369 2687 2733 \nQ 2419 3097 1959 3097 \nz\nM 1959 3584 \nQ 2709 3584 3137 3096 \nQ 3566 2609 3566 1747 \nQ 3566 888 3137 398 \nQ 2709 -91 1959 -91 \nQ 1206 -91 779 398 \nQ 353 888 353 1747 \nQ 353 2609 779 3096 \nQ 1206 3584 1959 3584 \nz\n\" id=\"DejaVuSans-6f\" transform=\"scale(0.015625)\"/>\n       <path d=\"M 3122 3366 \nL 3122 2828 \nQ 2878 2963 2633 3030 \nQ 2388 3097 2138 3097 \nQ 1578 3097 1268 2742 \nQ 959 2388 959 1747 \nQ 959 1106 1268 751 \nQ 1578 397 2138 397 \nQ 2388 397 2633 464 \nQ 2878 531 3122 666 \nL 3122 134 \nQ 2881 22 2623 -34 \nQ 2366 -91 2075 -91 \nQ 1284 -91 818 406 \nQ 353 903 353 1747 \nQ 353 2603 823 3093 \nQ 1294 3584 2113 3584 \nQ 2378 3584 2631 3529 \nQ 2884 3475 3122 3366 \nz\n\" id=\"DejaVuSans-63\" transform=\"scale(0.015625)\"/>\n       <path d=\"M 3513 2113 \nL 3513 0 \nL 2938 0 \nL 2938 2094 \nQ 2938 2591 2744 2837 \nQ 2550 3084 2163 3084 \nQ 1697 3084 1428 2787 \nQ 1159 2491 1159 1978 \nL 1159 0 \nL 581 0 \nL 581 4863 \nL 1159 4863 \nL 1159 2956 \nQ 1366 3272 1645 3428 \nQ 1925 3584 2291 3584 \nQ 2894 3584 3203 3211 \nQ 3513 2838 3513 2113 \nz\n\" id=\"DejaVuSans-68\" transform=\"scale(0.015625)\"/>\n       <path d=\"M 2834 3397 \nL 2834 2853 \nQ 2591 2978 2328 3040 \nQ 2066 3103 1784 3103 \nQ 1356 3103 1142 2972 \nQ 928 2841 928 2578 \nQ 928 2378 1081 2264 \nQ 1234 2150 1697 2047 \nL 1894 2003 \nQ 2506 1872 2764 1633 \nQ 3022 1394 3022 966 \nQ 3022 478 2636 193 \nQ 2250 -91 1575 -91 \nQ 1294 -91 989 -36 \nQ 684 19 347 128 \nL 347 722 \nQ 666 556 975 473 \nQ 1284 391 1588 391 \nQ 1994 391 2212 530 \nQ 2431 669 2431 922 \nQ 2431 1156 2273 1281 \nQ 2116 1406 1581 1522 \nL 1381 1569 \nQ 847 1681 609 1914 \nQ 372 2147 372 2553 \nQ 372 3047 722 3315 \nQ 1072 3584 1716 3584 \nQ 2034 3584 2315 3537 \nQ 2597 3491 2834 3397 \nz\n\" id=\"DejaVuSans-73\" transform=\"scale(0.015625)\"/>\n      </defs>\n      <use xlink:href=\"#DejaVuSans-45\"/>\n      <use x=\"63.183594\" xlink:href=\"#DejaVuSans-70\"/>\n      <use x=\"126.660156\" xlink:href=\"#DejaVuSans-6f\"/>\n      <use x=\"187.841797\" xlink:href=\"#DejaVuSans-63\"/>\n      <use x=\"242.822266\" xlink:href=\"#DejaVuSans-68\"/>\n      <use x=\"306.201172\" xlink:href=\"#DejaVuSans-73\"/>\n     </g>\n    </g>\n   </g>\n   <g id=\"matplotlib.axis_2\">\n    <g id=\"ytick_1\">\n     <g id=\"line2d_7\">\n      <defs>\n       <path d=\"M 0 0 \nL -3.5 0 \n\" id=\"me43dc1f8ef\" style=\"stroke:#000000;stroke-width:0.8;\"/>\n      </defs>\n      <g>\n       <use style=\"stroke:#000000;stroke-width:0.8;\" x=\"43.78125\" xlink:href=\"#me43dc1f8ef\" y=\"439.62412\"/>\n      </g>\n     </g>\n     <g id=\"text_8\">\n      <!-- 0.4 -->\n      <g transform=\"translate(20.878125 443.423339)scale(0.1 -0.1)\">\n       <defs>\n        <path d=\"M 684 794 \nL 1344 794 \nL 1344 0 \nL 684 0 \nL 684 794 \nz\n\" id=\"DejaVuSans-2e\" transform=\"scale(0.015625)\"/>\n        <path d=\"M 2419 4116 \nL 825 1625 \nL 2419 1625 \nL 2419 4116 \nz\nM 2253 4666 \nL 3047 4666 \nL 3047 1625 \nL 3713 1625 \nL 3713 1100 \nL 3047 1100 \nL 3047 0 \nL 2419 0 \nL 2419 1100 \nL 313 1100 \nL 313 1709 \nL 2253 4666 \nz\n\" id=\"DejaVuSans-34\" transform=\"scale(0.015625)\"/>\n       </defs>\n       <use xlink:href=\"#DejaVuSans-30\"/>\n       <use x=\"63.623047\" xlink:href=\"#DejaVuSans-2e\"/>\n       <use x=\"95.410156\" xlink:href=\"#DejaVuSans-34\"/>\n      </g>\n     </g>\n    </g>\n    <g id=\"ytick_2\">\n     <g id=\"line2d_8\">\n      <g>\n       <use style=\"stroke:#000000;stroke-width:0.8;\" x=\"43.78125\" xlink:href=\"#me43dc1f8ef\" y=\"387.644309\"/>\n      </g>\n     </g>\n     <g id=\"text_9\">\n      <!-- 0.6 -->\n      <g transform=\"translate(20.878125 391.443528)scale(0.1 -0.1)\">\n       <defs>\n        <path d=\"M 2113 2584 \nQ 1688 2584 1439 2293 \nQ 1191 2003 1191 1497 \nQ 1191 994 1439 701 \nQ 1688 409 2113 409 \nQ 2538 409 2786 701 \nQ 3034 994 3034 1497 \nQ 3034 2003 2786 2293 \nQ 2538 2584 2113 2584 \nz\nM 3366 4563 \nL 3366 3988 \nQ 3128 4100 2886 4159 \nQ 2644 4219 2406 4219 \nQ 1781 4219 1451 3797 \nQ 1122 3375 1075 2522 \nQ 1259 2794 1537 2939 \nQ 1816 3084 2150 3084 \nQ 2853 3084 3261 2657 \nQ 3669 2231 3669 1497 \nQ 3669 778 3244 343 \nQ 2819 -91 2113 -91 \nQ 1303 -91 875 529 \nQ 447 1150 447 2328 \nQ 447 3434 972 4092 \nQ 1497 4750 2381 4750 \nQ 2619 4750 2861 4703 \nQ 3103 4656 3366 4563 \nz\n\" id=\"DejaVuSans-36\" transform=\"scale(0.015625)\"/>\n       </defs>\n       <use xlink:href=\"#DejaVuSans-30\"/>\n       <use x=\"63.623047\" xlink:href=\"#DejaVuSans-2e\"/>\n       <use x=\"95.410156\" xlink:href=\"#DejaVuSans-36\"/>\n      </g>\n     </g>\n    </g>\n    <g id=\"ytick_3\">\n     <g id=\"line2d_9\">\n      <g>\n       <use style=\"stroke:#000000;stroke-width:0.8;\" x=\"43.78125\" xlink:href=\"#me43dc1f8ef\" y=\"335.664498\"/>\n      </g>\n     </g>\n     <g id=\"text_10\">\n      <!-- 0.8 -->\n      <g transform=\"translate(20.878125 339.463717)scale(0.1 -0.1)\">\n       <defs>\n        <path d=\"M 2034 2216 \nQ 1584 2216 1326 1975 \nQ 1069 1734 1069 1313 \nQ 1069 891 1326 650 \nQ 1584 409 2034 409 \nQ 2484 409 2743 651 \nQ 3003 894 3003 1313 \nQ 3003 1734 2745 1975 \nQ 2488 2216 2034 2216 \nz\nM 1403 2484 \nQ 997 2584 770 2862 \nQ 544 3141 544 3541 \nQ 544 4100 942 4425 \nQ 1341 4750 2034 4750 \nQ 2731 4750 3128 4425 \nQ 3525 4100 3525 3541 \nQ 3525 3141 3298 2862 \nQ 3072 2584 2669 2484 \nQ 3125 2378 3379 2068 \nQ 3634 1759 3634 1313 \nQ 3634 634 3220 271 \nQ 2806 -91 2034 -91 \nQ 1263 -91 848 271 \nQ 434 634 434 1313 \nQ 434 1759 690 2068 \nQ 947 2378 1403 2484 \nz\nM 1172 3481 \nQ 1172 3119 1398 2916 \nQ 1625 2713 2034 2713 \nQ 2441 2713 2670 2916 \nQ 2900 3119 2900 3481 \nQ 2900 3844 2670 4047 \nQ 2441 4250 2034 4250 \nQ 1625 4250 1398 4047 \nQ 1172 3844 1172 3481 \nz\n\" id=\"DejaVuSans-38\" transform=\"scale(0.015625)\"/>\n       </defs>\n       <use xlink:href=\"#DejaVuSans-30\"/>\n       <use x=\"63.623047\" xlink:href=\"#DejaVuSans-2e\"/>\n       <use x=\"95.410156\" xlink:href=\"#DejaVuSans-38\"/>\n      </g>\n     </g>\n    </g>\n    <g id=\"ytick_4\">\n     <g id=\"line2d_10\">\n      <g>\n       <use style=\"stroke:#000000;stroke-width:0.8;\" x=\"43.78125\" xlink:href=\"#me43dc1f8ef\" y=\"283.684687\"/>\n      </g>\n     </g>\n     <g id=\"text_11\">\n      <!-- 1.0 -->\n      <g transform=\"translate(20.878125 287.483906)scale(0.1 -0.1)\">\n       <use xlink:href=\"#DejaVuSans-31\"/>\n       <use x=\"63.623047\" xlink:href=\"#DejaVuSans-2e\"/>\n       <use x=\"95.410156\" xlink:href=\"#DejaVuSans-30\"/>\n      </g>\n     </g>\n    </g>\n    <g id=\"ytick_5\">\n     <g id=\"line2d_11\">\n      <g>\n       <use style=\"stroke:#000000;stroke-width:0.8;\" x=\"43.78125\" xlink:href=\"#me43dc1f8ef\" y=\"231.704876\"/>\n      </g>\n     </g>\n     <g id=\"text_12\">\n      <!-- 1.2 -->\n      <g transform=\"translate(20.878125 235.504094)scale(0.1 -0.1)\">\n       <use xlink:href=\"#DejaVuSans-31\"/>\n       <use x=\"63.623047\" xlink:href=\"#DejaVuSans-2e\"/>\n       <use x=\"95.410156\" xlink:href=\"#DejaVuSans-32\"/>\n      </g>\n     </g>\n    </g>\n    <g id=\"ytick_6\">\n     <g id=\"line2d_12\">\n      <g>\n       <use style=\"stroke:#000000;stroke-width:0.8;\" x=\"43.78125\" xlink:href=\"#me43dc1f8ef\" y=\"179.725065\"/>\n      </g>\n     </g>\n     <g id=\"text_13\">\n      <!-- 1.4 -->\n      <g transform=\"translate(20.878125 183.524283)scale(0.1 -0.1)\">\n       <use xlink:href=\"#DejaVuSans-31\"/>\n       <use x=\"63.623047\" xlink:href=\"#DejaVuSans-2e\"/>\n       <use x=\"95.410156\" xlink:href=\"#DejaVuSans-34\"/>\n      </g>\n     </g>\n    </g>\n    <g id=\"text_14\">\n     <!-- MAE -->\n     <g transform=\"translate(14.798437 321.976103)rotate(-90)scale(0.1 -0.1)\">\n      <defs>\n       <path d=\"M 628 4666 \nL 1569 4666 \nL 2759 1491 \nL 3956 4666 \nL 4897 4666 \nL 4897 0 \nL 4281 0 \nL 4281 4097 \nL 3078 897 \nL 2444 897 \nL 1241 4097 \nL 1241 0 \nL 628 0 \nL 628 4666 \nz\n\" id=\"DejaVuSans-4d\" transform=\"scale(0.015625)\"/>\n       <path d=\"M 2188 4044 \nL 1331 1722 \nL 3047 1722 \nL 2188 4044 \nz\nM 1831 4666 \nL 2547 4666 \nL 4325 0 \nL 3669 0 \nL 3244 1197 \nL 1141 1197 \nL 716 0 \nL 50 0 \nL 1831 4666 \nz\n\" id=\"DejaVuSans-41\" transform=\"scale(0.015625)\"/>\n      </defs>\n      <use xlink:href=\"#DejaVuSans-4d\"/>\n      <use x=\"86.279297\" xlink:href=\"#DejaVuSans-41\"/>\n      <use x=\"154.6875\" xlink:href=\"#DejaVuSans-45\"/>\n     </g>\n    </g>\n   </g>\n   <g id=\"line2d_13\">\n    <path clip-path=\"url(#pc7e7230f9c)\" d=\"M 58.701036 165.734759 \nL 71.134191 456.145187 \nL 83.567346 456.16751 \nL 96.000501 456.166015 \nL 108.433656 456.167084 \nL 120.866811 456.16727 \nL 133.299967 456.167053 \nL 145.733122 456.167069 \nL 158.166277 456.167053 \nL 170.599432 456.166984 \nL 183.032587 456.167038 \nL 195.465742 456.166968 \nL 207.898897 456.167092 \nL 220.332052 456.167007 \nL 232.765207 456.167077 \nL 245.198362 456.167092 \nL 257.631517 456.167069 \nL 270.064672 456.167069 \nL 282.497828 456.167131 \nL 294.930983 456.167131 \nL 307.364138 456.167046 \nL 319.797293 456.167131 \nL 332.230448 456.167084 \nL 344.663603 456.167162 \nL 357.096758 456.167053 \n\" style=\"fill:none;stroke:#1f77b4;stroke-linecap:square;stroke-width:1.5;\"/>\n   </g>\n   <g id=\"line2d_14\">\n    <path clip-path=\"url(#pc7e7230f9c)\" d=\"M 58.701036 456.377586 \nL 71.134191 456.417507 \nL 83.567346 456.419196 \nL 96.000501 456.415904 \nL 108.433656 456.429947 \nL 120.866811 456.429854 \nL 133.299967 456.429854 \nL 145.733122 456.429854 \nL 158.166277 456.429854 \nL 170.599432 456.429854 \nL 183.032587 456.429854 \nL 195.465742 456.429854 \nL 207.898897 456.429854 \nL 220.332052 456.429854 \nL 232.765207 456.429854 \nL 245.198362 456.429854 \nL 257.631517 456.429854 \nL 270.064672 456.429854 \nL 282.497828 456.429854 \nL 294.930983 456.429854 \nL 307.364138 456.429854 \nL 319.797293 456.429854 \nL 332.230448 456.429854 \nL 344.663603 456.429854 \nL 357.096758 456.429854 \n\" style=\"fill:none;stroke:#ff7f0e;stroke-dasharray:6,2.25;stroke-dashoffset:0;stroke-width:1.5;\"/>\n   </g>\n   <g id=\"line2d_15\"/>\n   <g id=\"line2d_16\"/>\n   <g id=\"patch_3\">\n    <path d=\"M 43.78125 470.964706 \nL 43.78125 151.2 \n\" style=\"fill:none;stroke:#000000;stroke-linecap:square;stroke-linejoin:miter;stroke-width:0.8;\"/>\n   </g>\n   <g id=\"patch_4\">\n    <path d=\"M 372.016544 470.964706 \nL 372.016544 151.2 \n\" style=\"fill:none;stroke:#000000;stroke-linecap:square;stroke-linejoin:miter;stroke-width:0.8;\"/>\n   </g>\n   <g id=\"patch_5\">\n    <path d=\"M 43.78125 470.964706 \nL 372.016544 470.964706 \n\" style=\"fill:none;stroke:#000000;stroke-linecap:square;stroke-linejoin:miter;stroke-width:0.8;\"/>\n   </g>\n   <g id=\"patch_6\">\n    <path d=\"M 43.78125 151.2 \nL 372.016544 151.2 \n\" style=\"fill:none;stroke:#000000;stroke-linecap:square;stroke-linejoin:miter;stroke-width:0.8;\"/>\n   </g>\n   <g id=\"text_15\">\n    <!-- Training and validation MAE -->\n    <g transform=\"translate(124.605772 145.2)scale(0.12 -0.12)\">\n     <defs>\n      <path d=\"M -19 4666 \nL 3928 4666 \nL 3928 4134 \nL 2272 4134 \nL 2272 0 \nL 1638 0 \nL 1638 4134 \nL -19 4134 \nL -19 4666 \nz\n\" id=\"DejaVuSans-54\" transform=\"scale(0.015625)\"/>\n      <path d=\"M 2631 2963 \nQ 2534 3019 2420 3045 \nQ 2306 3072 2169 3072 \nQ 1681 3072 1420 2755 \nQ 1159 2438 1159 1844 \nL 1159 0 \nL 581 0 \nL 581 3500 \nL 1159 3500 \nL 1159 2956 \nQ 1341 3275 1631 3429 \nQ 1922 3584 2338 3584 \nQ 2397 3584 2469 3576 \nQ 2541 3569 2628 3553 \nL 2631 2963 \nz\n\" id=\"DejaVuSans-72\" transform=\"scale(0.015625)\"/>\n      <path d=\"M 2194 1759 \nQ 1497 1759 1228 1600 \nQ 959 1441 959 1056 \nQ 959 750 1161 570 \nQ 1363 391 1709 391 \nQ 2188 391 2477 730 \nQ 2766 1069 2766 1631 \nL 2766 1759 \nL 2194 1759 \nz\nM 3341 1997 \nL 3341 0 \nL 2766 0 \nL 2766 531 \nQ 2569 213 2275 61 \nQ 1981 -91 1556 -91 \nQ 1019 -91 701 211 \nQ 384 513 384 1019 \nQ 384 1609 779 1909 \nQ 1175 2209 1959 2209 \nL 2766 2209 \nL 2766 2266 \nQ 2766 2663 2505 2880 \nQ 2244 3097 1772 3097 \nQ 1472 3097 1187 3025 \nQ 903 2953 641 2809 \nL 641 3341 \nQ 956 3463 1253 3523 \nQ 1550 3584 1831 3584 \nQ 2591 3584 2966 3190 \nQ 3341 2797 3341 1997 \nz\n\" id=\"DejaVuSans-61\" transform=\"scale(0.015625)\"/>\n      <path d=\"M 603 3500 \nL 1178 3500 \nL 1178 0 \nL 603 0 \nL 603 3500 \nz\nM 603 4863 \nL 1178 4863 \nL 1178 4134 \nL 603 4134 \nL 603 4863 \nz\n\" id=\"DejaVuSans-69\" transform=\"scale(0.015625)\"/>\n      <path d=\"M 3513 2113 \nL 3513 0 \nL 2938 0 \nL 2938 2094 \nQ 2938 2591 2744 2837 \nQ 2550 3084 2163 3084 \nQ 1697 3084 1428 2787 \nQ 1159 2491 1159 1978 \nL 1159 0 \nL 581 0 \nL 581 3500 \nL 1159 3500 \nL 1159 2956 \nQ 1366 3272 1645 3428 \nQ 1925 3584 2291 3584 \nQ 2894 3584 3203 3211 \nQ 3513 2838 3513 2113 \nz\n\" id=\"DejaVuSans-6e\" transform=\"scale(0.015625)\"/>\n      <path d=\"M 2906 1791 \nQ 2906 2416 2648 2759 \nQ 2391 3103 1925 3103 \nQ 1463 3103 1205 2759 \nQ 947 2416 947 1791 \nQ 947 1169 1205 825 \nQ 1463 481 1925 481 \nQ 2391 481 2648 825 \nQ 2906 1169 2906 1791 \nz\nM 3481 434 \nQ 3481 -459 3084 -895 \nQ 2688 -1331 1869 -1331 \nQ 1566 -1331 1297 -1286 \nQ 1028 -1241 775 -1147 \nL 775 -588 \nQ 1028 -725 1275 -790 \nQ 1522 -856 1778 -856 \nQ 2344 -856 2625 -561 \nQ 2906 -266 2906 331 \nL 2906 616 \nQ 2728 306 2450 153 \nQ 2172 0 1784 0 \nQ 1141 0 747 490 \nQ 353 981 353 1791 \nQ 353 2603 747 3093 \nQ 1141 3584 1784 3584 \nQ 2172 3584 2450 3431 \nQ 2728 3278 2906 2969 \nL 2906 3500 \nL 3481 3500 \nL 3481 434 \nz\n\" id=\"DejaVuSans-67\" transform=\"scale(0.015625)\"/>\n      <path id=\"DejaVuSans-20\" transform=\"scale(0.015625)\"/>\n      <path d=\"M 2906 2969 \nL 2906 4863 \nL 3481 4863 \nL 3481 0 \nL 2906 0 \nL 2906 525 \nQ 2725 213 2448 61 \nQ 2172 -91 1784 -91 \nQ 1150 -91 751 415 \nQ 353 922 353 1747 \nQ 353 2572 751 3078 \nQ 1150 3584 1784 3584 \nQ 2172 3584 2448 3432 \nQ 2725 3281 2906 2969 \nz\nM 947 1747 \nQ 947 1113 1208 752 \nQ 1469 391 1925 391 \nQ 2381 391 2643 752 \nQ 2906 1113 2906 1747 \nQ 2906 2381 2643 2742 \nQ 2381 3103 1925 3103 \nQ 1469 3103 1208 2742 \nQ 947 2381 947 1747 \nz\n\" id=\"DejaVuSans-64\" transform=\"scale(0.015625)\"/>\n      <path d=\"M 191 3500 \nL 800 3500 \nL 1894 563 \nL 2988 3500 \nL 3597 3500 \nL 2284 0 \nL 1503 0 \nL 191 3500 \nz\n\" id=\"DejaVuSans-76\" transform=\"scale(0.015625)\"/>\n      <path d=\"M 603 4863 \nL 1178 4863 \nL 1178 0 \nL 603 0 \nL 603 4863 \nz\n\" id=\"DejaVuSans-6c\" transform=\"scale(0.015625)\"/>\n      <path d=\"M 1172 4494 \nL 1172 3500 \nL 2356 3500 \nL 2356 3053 \nL 1172 3053 \nL 1172 1153 \nQ 1172 725 1289 603 \nQ 1406 481 1766 481 \nL 2356 481 \nL 2356 0 \nL 1766 0 \nQ 1100 0 847 248 \nQ 594 497 594 1153 \nL 594 3053 \nL 172 3053 \nL 172 3500 \nL 594 3500 \nL 594 4494 \nL 1172 4494 \nz\n\" id=\"DejaVuSans-74\" transform=\"scale(0.015625)\"/>\n     </defs>\n     <use xlink:href=\"#DejaVuSans-54\"/>\n     <use x=\"46.333984\" xlink:href=\"#DejaVuSans-72\"/>\n     <use x=\"87.447266\" xlink:href=\"#DejaVuSans-61\"/>\n     <use x=\"148.726562\" xlink:href=\"#DejaVuSans-69\"/>\n     <use x=\"176.509766\" xlink:href=\"#DejaVuSans-6e\"/>\n     <use x=\"239.888672\" xlink:href=\"#DejaVuSans-69\"/>\n     <use x=\"267.671875\" xlink:href=\"#DejaVuSans-6e\"/>\n     <use x=\"331.050781\" xlink:href=\"#DejaVuSans-67\"/>\n     <use x=\"394.527344\" xlink:href=\"#DejaVuSans-20\"/>\n     <use x=\"426.314453\" xlink:href=\"#DejaVuSans-61\"/>\n     <use x=\"487.59375\" xlink:href=\"#DejaVuSans-6e\"/>\n     <use x=\"550.972656\" xlink:href=\"#DejaVuSans-64\"/>\n     <use x=\"614.449219\" xlink:href=\"#DejaVuSans-20\"/>\n     <use x=\"646.236328\" xlink:href=\"#DejaVuSans-76\"/>\n     <use x=\"705.416016\" xlink:href=\"#DejaVuSans-61\"/>\n     <use x=\"766.695312\" xlink:href=\"#DejaVuSans-6c\"/>\n     <use x=\"794.478516\" xlink:href=\"#DejaVuSans-69\"/>\n     <use x=\"822.261719\" xlink:href=\"#DejaVuSans-64\"/>\n     <use x=\"885.738281\" xlink:href=\"#DejaVuSans-61\"/>\n     <use x=\"947.017578\" xlink:href=\"#DejaVuSans-74\"/>\n     <use x=\"986.226562\" xlink:href=\"#DejaVuSans-69\"/>\n     <use x=\"1014.009766\" xlink:href=\"#DejaVuSans-6f\"/>\n     <use x=\"1075.191406\" xlink:href=\"#DejaVuSans-6e\"/>\n     <use x=\"1138.570312\" xlink:href=\"#DejaVuSans-20\"/>\n     <use x=\"1170.357422\" xlink:href=\"#DejaVuSans-4d\"/>\n     <use x=\"1256.636719\" xlink:href=\"#DejaVuSans-41\"/>\n     <use x=\"1325.044922\" xlink:href=\"#DejaVuSans-45\"/>\n    </g>\n   </g>\n   <g id=\"legend_1\">\n    <g id=\"patch_7\">\n     <path d=\"M 291.169669 188.834375 \nL 365.016544 188.834375 \nQ 367.016544 188.834375 367.016544 186.834375 \nL 367.016544 158.2 \nQ 367.016544 156.2 365.016544 156.2 \nL 291.169669 156.2 \nQ 289.169669 156.2 289.169669 158.2 \nL 289.169669 186.834375 \nQ 289.169669 188.834375 291.169669 188.834375 \nz\n\" style=\"fill:#ffffff;opacity:0.8;stroke:#cccccc;stroke-linejoin:miter;\"/>\n    </g>\n    <g id=\"line2d_17\">\n     <path d=\"M 293.169669 164.298437 \nL 313.169669 164.298437 \n\" style=\"fill:none;stroke:#1f77b4;stroke-linecap:square;stroke-width:1.5;\"/>\n    </g>\n    <g id=\"line2d_18\"/>\n    <g id=\"text_16\">\n     <!-- mae -->\n     <g transform=\"translate(321.169669 167.798437)scale(0.1 -0.1)\">\n      <defs>\n       <path d=\"M 3328 2828 \nQ 3544 3216 3844 3400 \nQ 4144 3584 4550 3584 \nQ 5097 3584 5394 3201 \nQ 5691 2819 5691 2113 \nL 5691 0 \nL 5113 0 \nL 5113 2094 \nQ 5113 2597 4934 2840 \nQ 4756 3084 4391 3084 \nQ 3944 3084 3684 2787 \nQ 3425 2491 3425 1978 \nL 3425 0 \nL 2847 0 \nL 2847 2094 \nQ 2847 2600 2669 2842 \nQ 2491 3084 2119 3084 \nQ 1678 3084 1418 2786 \nQ 1159 2488 1159 1978 \nL 1159 0 \nL 581 0 \nL 581 3500 \nL 1159 3500 \nL 1159 2956 \nQ 1356 3278 1631 3431 \nQ 1906 3584 2284 3584 \nQ 2666 3584 2933 3390 \nQ 3200 3197 3328 2828 \nz\n\" id=\"DejaVuSans-6d\" transform=\"scale(0.015625)\"/>\n       <path d=\"M 3597 1894 \nL 3597 1613 \nL 953 1613 \nQ 991 1019 1311 708 \nQ 1631 397 2203 397 \nQ 2534 397 2845 478 \nQ 3156 559 3463 722 \nL 3463 178 \nQ 3153 47 2828 -22 \nQ 2503 -91 2169 -91 \nQ 1331 -91 842 396 \nQ 353 884 353 1716 \nQ 353 2575 817 3079 \nQ 1281 3584 2069 3584 \nQ 2775 3584 3186 3129 \nQ 3597 2675 3597 1894 \nz\nM 3022 2063 \nQ 3016 2534 2758 2815 \nQ 2500 3097 2075 3097 \nQ 1594 3097 1305 2825 \nQ 1016 2553 972 2059 \nL 3022 2063 \nz\n\" id=\"DejaVuSans-65\" transform=\"scale(0.015625)\"/>\n      </defs>\n      <use xlink:href=\"#DejaVuSans-6d\"/>\n      <use x=\"97.412109\" xlink:href=\"#DejaVuSans-61\"/>\n      <use x=\"158.691406\" xlink:href=\"#DejaVuSans-65\"/>\n     </g>\n    </g>\n    <g id=\"line2d_19\">\n     <path d=\"M 293.169669 178.976562 \nL 313.169669 178.976562 \n\" style=\"fill:none;stroke:#ff7f0e;stroke-dasharray:6,2.25;stroke-dashoffset:0;stroke-width:1.5;\"/>\n    </g>\n    <g id=\"line2d_20\"/>\n    <g id=\"text_17\">\n     <!-- val_mae -->\n     <g transform=\"translate(321.169669 182.476562)scale(0.1 -0.1)\">\n      <defs>\n       <path d=\"M 3263 -1063 \nL 3263 -1509 \nL -63 -1509 \nL -63 -1063 \nL 3263 -1063 \nz\n\" id=\"DejaVuSans-5f\" transform=\"scale(0.015625)\"/>\n      </defs>\n      <use xlink:href=\"#DejaVuSans-76\"/>\n      <use x=\"59.179688\" xlink:href=\"#DejaVuSans-61\"/>\n      <use x=\"120.458984\" xlink:href=\"#DejaVuSans-6c\"/>\n      <use x=\"148.242188\" xlink:href=\"#DejaVuSans-5f\"/>\n      <use x=\"198.242188\" xlink:href=\"#DejaVuSans-6d\"/>\n      <use x=\"295.654297\" xlink:href=\"#DejaVuSans-61\"/>\n      <use x=\"356.933594\" xlink:href=\"#DejaVuSans-65\"/>\n     </g>\n    </g>\n   </g>\n  </g>\n  <g id=\"axes_2\">\n   <g id=\"patch_8\">\n    <path d=\"M 437.663603 470.964706 \nL 765.898897 470.964706 \nL 765.898897 151.2 \nL 437.663603 151.2 \nz\n\" style=\"fill:#ffffff;\"/>\n   </g>\n   <g id=\"matplotlib.axis_3\">\n    <g id=\"xtick_7\">\n     <g id=\"line2d_21\">\n      <g>\n       <use style=\"stroke:#000000;stroke-width:0.8;\" x=\"452.583389\" xlink:href=\"#md144a7bb41\" y=\"470.964706\"/>\n      </g>\n     </g>\n     <g id=\"text_18\">\n      <!-- 0 -->\n      <g transform=\"translate(449.402139 485.563143)scale(0.1 -0.1)\">\n       <use xlink:href=\"#DejaVuSans-30\"/>\n      </g>\n     </g>\n    </g>\n    <g id=\"xtick_8\">\n     <g id=\"line2d_22\">\n      <g>\n       <use style=\"stroke:#000000;stroke-width:0.8;\" x=\"514.749164\" xlink:href=\"#md144a7bb41\" y=\"470.964706\"/>\n      </g>\n     </g>\n     <g id=\"text_19\">\n      <!-- 5 -->\n      <g transform=\"translate(511.567914 485.563143)scale(0.1 -0.1)\">\n       <use xlink:href=\"#DejaVuSans-35\"/>\n      </g>\n     </g>\n    </g>\n    <g id=\"xtick_9\">\n     <g id=\"line2d_23\">\n      <g>\n       <use style=\"stroke:#000000;stroke-width:0.8;\" x=\"576.91494\" xlink:href=\"#md144a7bb41\" y=\"470.964706\"/>\n      </g>\n     </g>\n     <g id=\"text_20\">\n      <!-- 10 -->\n      <g transform=\"translate(570.55244 485.563143)scale(0.1 -0.1)\">\n       <use xlink:href=\"#DejaVuSans-31\"/>\n       <use x=\"63.623047\" xlink:href=\"#DejaVuSans-30\"/>\n      </g>\n     </g>\n    </g>\n    <g id=\"xtick_10\">\n     <g id=\"line2d_24\">\n      <g>\n       <use style=\"stroke:#000000;stroke-width:0.8;\" x=\"639.080715\" xlink:href=\"#md144a7bb41\" y=\"470.964706\"/>\n      </g>\n     </g>\n     <g id=\"text_21\">\n      <!-- 15 -->\n      <g transform=\"translate(632.718215 485.563143)scale(0.1 -0.1)\">\n       <use xlink:href=\"#DejaVuSans-31\"/>\n       <use x=\"63.623047\" xlink:href=\"#DejaVuSans-35\"/>\n      </g>\n     </g>\n    </g>\n    <g id=\"xtick_11\">\n     <g id=\"line2d_25\">\n      <g>\n       <use style=\"stroke:#000000;stroke-width:0.8;\" x=\"701.246491\" xlink:href=\"#md144a7bb41\" y=\"470.964706\"/>\n      </g>\n     </g>\n     <g id=\"text_22\">\n      <!-- 20 -->\n      <g transform=\"translate(694.883991 485.563143)scale(0.1 -0.1)\">\n       <use xlink:href=\"#DejaVuSans-32\"/>\n       <use x=\"63.623047\" xlink:href=\"#DejaVuSans-30\"/>\n      </g>\n     </g>\n    </g>\n    <g id=\"xtick_12\">\n     <g id=\"line2d_26\">\n      <g>\n       <use style=\"stroke:#000000;stroke-width:0.8;\" x=\"763.412266\" xlink:href=\"#md144a7bb41\" y=\"470.964706\"/>\n      </g>\n     </g>\n     <g id=\"text_23\">\n      <!-- 25 -->\n      <g transform=\"translate(757.049766 485.563143)scale(0.1 -0.1)\">\n       <use xlink:href=\"#DejaVuSans-32\"/>\n       <use x=\"63.623047\" xlink:href=\"#DejaVuSans-35\"/>\n      </g>\n     </g>\n    </g>\n    <g id=\"text_24\">\n     <!-- Epochs -->\n     <g transform=\"translate(583.865625 499.241268)scale(0.1 -0.1)\">\n      <use xlink:href=\"#DejaVuSans-45\"/>\n      <use x=\"63.183594\" xlink:href=\"#DejaVuSans-70\"/>\n      <use x=\"126.660156\" xlink:href=\"#DejaVuSans-6f\"/>\n      <use x=\"187.841797\" xlink:href=\"#DejaVuSans-63\"/>\n      <use x=\"242.822266\" xlink:href=\"#DejaVuSans-68\"/>\n      <use x=\"306.201172\" xlink:href=\"#DejaVuSans-73\"/>\n     </g>\n    </g>\n   </g>\n   <g id=\"matplotlib.axis_4\">\n    <g id=\"ytick_7\">\n     <g id=\"line2d_27\">\n      <g>\n       <use style=\"stroke:#000000;stroke-width:0.8;\" x=\"437.663603\" xlink:href=\"#me43dc1f8ef\" y=\"456.562075\"/>\n      </g>\n     </g>\n     <g id=\"text_25\">\n      <!-- 0 -->\n      <g transform=\"translate(424.301103 460.361294)scale(0.1 -0.1)\">\n       <use xlink:href=\"#DejaVuSans-30\"/>\n      </g>\n     </g>\n    </g>\n    <g id=\"ytick_8\">\n     <g id=\"line2d_28\">\n      <g>\n       <use style=\"stroke:#000000;stroke-width:0.8;\" x=\"437.663603\" xlink:href=\"#me43dc1f8ef\" y=\"386.624856\"/>\n      </g>\n     </g>\n     <g id=\"text_26\">\n      <!-- 100 -->\n      <g transform=\"translate(411.576103 390.424074)scale(0.1 -0.1)\">\n       <use xlink:href=\"#DejaVuSans-31\"/>\n       <use x=\"63.623047\" xlink:href=\"#DejaVuSans-30\"/>\n       <use x=\"127.246094\" xlink:href=\"#DejaVuSans-30\"/>\n      </g>\n     </g>\n    </g>\n    <g id=\"ytick_9\">\n     <g id=\"line2d_29\">\n      <g>\n       <use style=\"stroke:#000000;stroke-width:0.8;\" x=\"437.663603\" xlink:href=\"#me43dc1f8ef\" y=\"316.687636\"/>\n      </g>\n     </g>\n     <g id=\"text_27\">\n      <!-- 200 -->\n      <g transform=\"translate(411.576103 320.486855)scale(0.1 -0.1)\">\n       <use xlink:href=\"#DejaVuSans-32\"/>\n       <use x=\"63.623047\" xlink:href=\"#DejaVuSans-30\"/>\n       <use x=\"127.246094\" xlink:href=\"#DejaVuSans-30\"/>\n      </g>\n     </g>\n    </g>\n    <g id=\"ytick_10\">\n     <g id=\"line2d_30\">\n      <g>\n       <use style=\"stroke:#000000;stroke-width:0.8;\" x=\"437.663603\" xlink:href=\"#me43dc1f8ef\" y=\"246.750416\"/>\n      </g>\n     </g>\n     <g id=\"text_28\">\n      <!-- 300 -->\n      <g transform=\"translate(411.576103 250.549635)scale(0.1 -0.1)\">\n       <defs>\n        <path d=\"M 2597 2516 \nQ 3050 2419 3304 2112 \nQ 3559 1806 3559 1356 \nQ 3559 666 3084 287 \nQ 2609 -91 1734 -91 \nQ 1441 -91 1130 -33 \nQ 819 25 488 141 \nL 488 750 \nQ 750 597 1062 519 \nQ 1375 441 1716 441 \nQ 2309 441 2620 675 \nQ 2931 909 2931 1356 \nQ 2931 1769 2642 2001 \nQ 2353 2234 1838 2234 \nL 1294 2234 \nL 1294 2753 \nL 1863 2753 \nQ 2328 2753 2575 2939 \nQ 2822 3125 2822 3475 \nQ 2822 3834 2567 4026 \nQ 2313 4219 1838 4219 \nQ 1578 4219 1281 4162 \nQ 984 4106 628 3988 \nL 628 4550 \nQ 988 4650 1302 4700 \nQ 1616 4750 1894 4750 \nQ 2613 4750 3031 4423 \nQ 3450 4097 3450 3541 \nQ 3450 3153 3228 2886 \nQ 3006 2619 2597 2516 \nz\n\" id=\"DejaVuSans-33\" transform=\"scale(0.015625)\"/>\n       </defs>\n       <use xlink:href=\"#DejaVuSans-33\"/>\n       <use x=\"63.623047\" xlink:href=\"#DejaVuSans-30\"/>\n       <use x=\"127.246094\" xlink:href=\"#DejaVuSans-30\"/>\n      </g>\n     </g>\n    </g>\n    <g id=\"ytick_11\">\n     <g id=\"line2d_31\">\n      <g>\n       <use style=\"stroke:#000000;stroke-width:0.8;\" x=\"437.663603\" xlink:href=\"#me43dc1f8ef\" y=\"176.813197\"/>\n      </g>\n     </g>\n     <g id=\"text_29\">\n      <!-- 400 -->\n      <g transform=\"translate(411.576103 180.612415)scale(0.1 -0.1)\">\n       <use xlink:href=\"#DejaVuSans-34\"/>\n       <use x=\"63.623047\" xlink:href=\"#DejaVuSans-30\"/>\n       <use x=\"127.246094\" xlink:href=\"#DejaVuSans-30\"/>\n      </g>\n     </g>\n    </g>\n    <g id=\"text_30\">\n     <!-- MSE -->\n     <g transform=\"translate(405.496415 321.730009)rotate(-90)scale(0.1 -0.1)\">\n      <defs>\n       <path d=\"M 3425 4513 \nL 3425 3897 \nQ 3066 4069 2747 4153 \nQ 2428 4238 2131 4238 \nQ 1616 4238 1336 4038 \nQ 1056 3838 1056 3469 \nQ 1056 3159 1242 3001 \nQ 1428 2844 1947 2747 \nL 2328 2669 \nQ 3034 2534 3370 2195 \nQ 3706 1856 3706 1288 \nQ 3706 609 3251 259 \nQ 2797 -91 1919 -91 \nQ 1588 -91 1214 -16 \nQ 841 59 441 206 \nL 441 856 \nQ 825 641 1194 531 \nQ 1563 422 1919 422 \nQ 2459 422 2753 634 \nQ 3047 847 3047 1241 \nQ 3047 1584 2836 1778 \nQ 2625 1972 2144 2069 \nL 1759 2144 \nQ 1053 2284 737 2584 \nQ 422 2884 422 3419 \nQ 422 4038 858 4394 \nQ 1294 4750 2059 4750 \nQ 2388 4750 2728 4690 \nQ 3069 4631 3425 4513 \nz\n\" id=\"DejaVuSans-53\" transform=\"scale(0.015625)\"/>\n      </defs>\n      <use xlink:href=\"#DejaVuSans-4d\"/>\n      <use x=\"86.279297\" xlink:href=\"#DejaVuSans-53\"/>\n      <use x=\"149.755859\" xlink:href=\"#DejaVuSans-45\"/>\n     </g>\n    </g>\n   </g>\n   <g id=\"line2d_32\">\n    <path clip-path=\"url(#pdedbcb22ea)\" d=\"M 452.583389 165.734759 \nL 465.016544 456.428438 \nL 477.449699 456.428962 \nL 489.882854 456.428949 \nL 502.316009 456.42896 \nL 514.749164 456.428962 \nL 527.18232 456.428961 \nL 539.615475 456.428961 \nL 552.04863 456.428961 \nL 564.481785 456.428961 \nL 576.91494 456.428961 \nL 589.348095 456.428961 \nL 601.78125 456.428961 \nL 614.214405 456.428961 \nL 626.64756 456.428961 \nL 639.080715 456.428961 \nL 651.51387 456.428961 \nL 663.947025 456.428961 \nL 676.38018 456.428961 \nL 688.813336 456.428961 \nL 701.246491 456.428961 \nL 713.679646 456.428961 \nL 726.112801 456.428961 \nL 738.545956 456.428961 \nL 750.979111 456.428961 \n\" style=\"fill:none;stroke:#1f77b4;stroke-linecap:square;stroke-width:1.5;\"/>\n   </g>\n   <g id=\"line2d_33\">\n    <path clip-path=\"url(#pdedbcb22ea)\" d=\"M 452.583389 456.425826 \nL 465.016544 456.429596 \nL 477.449699 456.429667 \nL 489.882854 456.429521 \nL 502.316009 456.429947 \nL 514.749164 456.429945 \nL 527.18232 456.429945 \nL 539.615475 456.429945 \nL 552.04863 456.429945 \nL 564.481785 456.429945 \nL 576.91494 456.429945 \nL 589.348095 456.429945 \nL 601.78125 456.429945 \nL 614.214405 456.429945 \nL 626.64756 456.429945 \nL 639.080715 456.429945 \nL 651.51387 456.429945 \nL 663.947025 456.429945 \nL 676.38018 456.429945 \nL 688.813336 456.429945 \nL 701.246491 456.429945 \nL 713.679646 456.429945 \nL 726.112801 456.429945 \nL 738.545956 456.429945 \nL 750.979111 456.429945 \n\" style=\"fill:none;stroke:#ff7f0e;stroke-dasharray:6,2.25;stroke-dashoffset:0;stroke-width:1.5;\"/>\n   </g>\n   <g id=\"line2d_34\"/>\n   <g id=\"line2d_35\"/>\n   <g id=\"patch_9\">\n    <path d=\"M 437.663603 470.964706 \nL 437.663603 151.2 \n\" style=\"fill:none;stroke:#000000;stroke-linecap:square;stroke-linejoin:miter;stroke-width:0.8;\"/>\n   </g>\n   <g id=\"patch_10\">\n    <path d=\"M 765.898897 470.964706 \nL 765.898897 151.2 \n\" style=\"fill:none;stroke:#000000;stroke-linecap:square;stroke-linejoin:miter;stroke-width:0.8;\"/>\n   </g>\n   <g id=\"patch_11\">\n    <path d=\"M 437.663603 470.964706 \nL 765.898897 470.964706 \n\" style=\"fill:none;stroke:#000000;stroke-linecap:square;stroke-linejoin:miter;stroke-width:0.8;\"/>\n   </g>\n   <g id=\"patch_12\">\n    <path d=\"M 437.663603 151.2 \nL 765.898897 151.2 \n\" style=\"fill:none;stroke:#000000;stroke-linecap:square;stroke-linejoin:miter;stroke-width:0.8;\"/>\n   </g>\n   <g id=\"text_31\">\n    <!-- Training and validation loss -->\n    <g transform=\"translate(519.97125 145.2)scale(0.12 -0.12)\">\n     <use xlink:href=\"#DejaVuSans-54\"/>\n     <use x=\"46.333984\" xlink:href=\"#DejaVuSans-72\"/>\n     <use x=\"87.447266\" xlink:href=\"#DejaVuSans-61\"/>\n     <use x=\"148.726562\" xlink:href=\"#DejaVuSans-69\"/>\n     <use x=\"176.509766\" xlink:href=\"#DejaVuSans-6e\"/>\n     <use x=\"239.888672\" xlink:href=\"#DejaVuSans-69\"/>\n     <use x=\"267.671875\" xlink:href=\"#DejaVuSans-6e\"/>\n     <use x=\"331.050781\" xlink:href=\"#DejaVuSans-67\"/>\n     <use x=\"394.527344\" xlink:href=\"#DejaVuSans-20\"/>\n     <use x=\"426.314453\" xlink:href=\"#DejaVuSans-61\"/>\n     <use x=\"487.59375\" xlink:href=\"#DejaVuSans-6e\"/>\n     <use x=\"550.972656\" xlink:href=\"#DejaVuSans-64\"/>\n     <use x=\"614.449219\" xlink:href=\"#DejaVuSans-20\"/>\n     <use x=\"646.236328\" xlink:href=\"#DejaVuSans-76\"/>\n     <use x=\"705.416016\" xlink:href=\"#DejaVuSans-61\"/>\n     <use x=\"766.695312\" xlink:href=\"#DejaVuSans-6c\"/>\n     <use x=\"794.478516\" xlink:href=\"#DejaVuSans-69\"/>\n     <use x=\"822.261719\" xlink:href=\"#DejaVuSans-64\"/>\n     <use x=\"885.738281\" xlink:href=\"#DejaVuSans-61\"/>\n     <use x=\"947.017578\" xlink:href=\"#DejaVuSans-74\"/>\n     <use x=\"986.226562\" xlink:href=\"#DejaVuSans-69\"/>\n     <use x=\"1014.009766\" xlink:href=\"#DejaVuSans-6f\"/>\n     <use x=\"1075.191406\" xlink:href=\"#DejaVuSans-6e\"/>\n     <use x=\"1138.570312\" xlink:href=\"#DejaVuSans-20\"/>\n     <use x=\"1170.357422\" xlink:href=\"#DejaVuSans-6c\"/>\n     <use x=\"1198.140625\" xlink:href=\"#DejaVuSans-6f\"/>\n     <use x=\"1259.322266\" xlink:href=\"#DejaVuSans-73\"/>\n     <use x=\"1311.421875\" xlink:href=\"#DejaVuSans-73\"/>\n    </g>\n   </g>\n   <g id=\"legend_2\">\n    <g id=\"patch_13\">\n     <path d=\"M 687.758272 188.834375 \nL 758.898897 188.834375 \nQ 760.898897 188.834375 760.898897 186.834375 \nL 760.898897 158.2 \nQ 760.898897 156.2 758.898897 156.2 \nL 687.758272 156.2 \nQ 685.758272 156.2 685.758272 158.2 \nL 685.758272 186.834375 \nQ 685.758272 188.834375 687.758272 188.834375 \nz\n\" style=\"fill:#ffffff;opacity:0.8;stroke:#cccccc;stroke-linejoin:miter;\"/>\n    </g>\n    <g id=\"line2d_36\">\n     <path d=\"M 689.758272 164.298437 \nL 709.758272 164.298437 \n\" style=\"fill:none;stroke:#1f77b4;stroke-linecap:square;stroke-width:1.5;\"/>\n    </g>\n    <g id=\"line2d_37\"/>\n    <g id=\"text_32\">\n     <!-- loss -->\n     <g transform=\"translate(717.758272 167.798437)scale(0.1 -0.1)\">\n      <use xlink:href=\"#DejaVuSans-6c\"/>\n      <use x=\"27.783203\" xlink:href=\"#DejaVuSans-6f\"/>\n      <use x=\"88.964844\" xlink:href=\"#DejaVuSans-73\"/>\n      <use x=\"141.064453\" xlink:href=\"#DejaVuSans-73\"/>\n     </g>\n    </g>\n    <g id=\"line2d_38\">\n     <path d=\"M 689.758272 178.976562 \nL 709.758272 178.976562 \n\" style=\"fill:none;stroke:#ff7f0e;stroke-dasharray:6,2.25;stroke-dashoffset:0;stroke-width:1.5;\"/>\n    </g>\n    <g id=\"line2d_39\"/>\n    <g id=\"text_33\">\n     <!-- val_loss -->\n     <g transform=\"translate(717.758272 182.476562)scale(0.1 -0.1)\">\n      <use xlink:href=\"#DejaVuSans-76\"/>\n      <use x=\"59.179688\" xlink:href=\"#DejaVuSans-61\"/>\n      <use x=\"120.458984\" xlink:href=\"#DejaVuSans-6c\"/>\n      <use x=\"148.242188\" xlink:href=\"#DejaVuSans-5f\"/>\n      <use x=\"198.242188\" xlink:href=\"#DejaVuSans-6c\"/>\n      <use x=\"226.025391\" xlink:href=\"#DejaVuSans-6f\"/>\n      <use x=\"287.207031\" xlink:href=\"#DejaVuSans-73\"/>\n      <use x=\"339.306641\" xlink:href=\"#DejaVuSans-73\"/>\n     </g>\n    </g>\n   </g>\n  </g>\n  <g id=\"text_34\">\n   <!-- Activation function: relu -->\n   <g transform=\"translate(583.78125 16.318125)scale(0.12 -0.12)\">\n    <defs>\n     <path d=\"M 2375 4863 \nL 2375 4384 \nL 1825 4384 \nQ 1516 4384 1395 4259 \nQ 1275 4134 1275 3809 \nL 1275 3500 \nL 2222 3500 \nL 2222 3053 \nL 1275 3053 \nL 1275 0 \nL 697 0 \nL 697 3053 \nL 147 3053 \nL 147 3500 \nL 697 3500 \nL 697 3744 \nQ 697 4328 969 4595 \nQ 1241 4863 1831 4863 \nL 2375 4863 \nz\n\" id=\"DejaVuSans-66\" transform=\"scale(0.015625)\"/>\n     <path d=\"M 544 1381 \nL 544 3500 \nL 1119 3500 \nL 1119 1403 \nQ 1119 906 1312 657 \nQ 1506 409 1894 409 \nQ 2359 409 2629 706 \nQ 2900 1003 2900 1516 \nL 2900 3500 \nL 3475 3500 \nL 3475 0 \nL 2900 0 \nL 2900 538 \nQ 2691 219 2414 64 \nQ 2138 -91 1772 -91 \nQ 1169 -91 856 284 \nQ 544 659 544 1381 \nz\nM 1991 3584 \nL 1991 3584 \nz\n\" id=\"DejaVuSans-75\" transform=\"scale(0.015625)\"/>\n     <path d=\"M 750 794 \nL 1409 794 \nL 1409 0 \nL 750 0 \nL 750 794 \nz\nM 750 3309 \nL 1409 3309 \nL 1409 2516 \nL 750 2516 \nL 750 3309 \nz\n\" id=\"DejaVuSans-3a\" transform=\"scale(0.015625)\"/>\n    </defs>\n    <use xlink:href=\"#DejaVuSans-41\"/>\n    <use x=\"66.658203\" xlink:href=\"#DejaVuSans-63\"/>\n    <use x=\"121.638672\" xlink:href=\"#DejaVuSans-74\"/>\n    <use x=\"160.847656\" xlink:href=\"#DejaVuSans-69\"/>\n    <use x=\"188.630859\" xlink:href=\"#DejaVuSans-76\"/>\n    <use x=\"247.810547\" xlink:href=\"#DejaVuSans-61\"/>\n    <use x=\"309.089844\" xlink:href=\"#DejaVuSans-74\"/>\n    <use x=\"348.298828\" xlink:href=\"#DejaVuSans-69\"/>\n    <use x=\"376.082031\" xlink:href=\"#DejaVuSans-6f\"/>\n    <use x=\"437.263672\" xlink:href=\"#DejaVuSans-6e\"/>\n    <use x=\"500.642578\" xlink:href=\"#DejaVuSans-20\"/>\n    <use x=\"532.429688\" xlink:href=\"#DejaVuSans-66\"/>\n    <use x=\"567.634766\" xlink:href=\"#DejaVuSans-75\"/>\n    <use x=\"631.013672\" xlink:href=\"#DejaVuSans-6e\"/>\n    <use x=\"694.392578\" xlink:href=\"#DejaVuSans-63\"/>\n    <use x=\"749.373047\" xlink:href=\"#DejaVuSans-74\"/>\n    <use x=\"788.582031\" xlink:href=\"#DejaVuSans-69\"/>\n    <use x=\"816.365234\" xlink:href=\"#DejaVuSans-6f\"/>\n    <use x=\"877.546875\" xlink:href=\"#DejaVuSans-6e\"/>\n    <use x=\"940.925781\" xlink:href=\"#DejaVuSans-3a\"/>\n    <use x=\"974.617188\" xlink:href=\"#DejaVuSans-20\"/>\n    <use x=\"1006.404297\" xlink:href=\"#DejaVuSans-72\"/>\n    <use x=\"1045.267578\" xlink:href=\"#DejaVuSans-65\"/>\n    <use x=\"1106.791016\" xlink:href=\"#DejaVuSans-6c\"/>\n    <use x=\"1134.574219\" xlink:href=\"#DejaVuSans-75\"/>\n   </g>\n   <!-- Batch size: 16 -->\n   <g transform=\"translate(583.78125 29.7555)scale(0.12 -0.12)\">\n    <defs>\n     <path d=\"M 1259 2228 \nL 1259 519 \nL 2272 519 \nQ 2781 519 3026 730 \nQ 3272 941 3272 1375 \nQ 3272 1813 3026 2020 \nQ 2781 2228 2272 2228 \nL 1259 2228 \nz\nM 1259 4147 \nL 1259 2741 \nL 2194 2741 \nQ 2656 2741 2882 2914 \nQ 3109 3088 3109 3444 \nQ 3109 3797 2882 3972 \nQ 2656 4147 2194 4147 \nL 1259 4147 \nz\nM 628 4666 \nL 2241 4666 \nQ 2963 4666 3353 4366 \nQ 3744 4066 3744 3513 \nQ 3744 3084 3544 2831 \nQ 3344 2578 2956 2516 \nQ 3422 2416 3680 2098 \nQ 3938 1781 3938 1306 \nQ 3938 681 3513 340 \nQ 3088 0 2303 0 \nL 628 0 \nL 628 4666 \nz\n\" id=\"DejaVuSans-42\" transform=\"scale(0.015625)\"/>\n     <path d=\"M 353 3500 \nL 3084 3500 \nL 3084 2975 \nL 922 459 \nL 3084 459 \nL 3084 0 \nL 275 0 \nL 275 525 \nL 2438 3041 \nL 353 3041 \nL 353 3500 \nz\n\" id=\"DejaVuSans-7a\" transform=\"scale(0.015625)\"/>\n    </defs>\n    <use xlink:href=\"#DejaVuSans-42\"/>\n    <use x=\"68.603516\" xlink:href=\"#DejaVuSans-61\"/>\n    <use x=\"129.882812\" xlink:href=\"#DejaVuSans-74\"/>\n    <use x=\"169.091797\" xlink:href=\"#DejaVuSans-63\"/>\n    <use x=\"224.072266\" xlink:href=\"#DejaVuSans-68\"/>\n    <use x=\"287.451172\" xlink:href=\"#DejaVuSans-20\"/>\n    <use x=\"319.238281\" xlink:href=\"#DejaVuSans-73\"/>\n    <use x=\"371.337891\" xlink:href=\"#DejaVuSans-69\"/>\n    <use x=\"399.121094\" xlink:href=\"#DejaVuSans-7a\"/>\n    <use x=\"451.611328\" xlink:href=\"#DejaVuSans-65\"/>\n    <use x=\"513.134766\" xlink:href=\"#DejaVuSans-3a\"/>\n    <use x=\"546.826172\" xlink:href=\"#DejaVuSans-20\"/>\n    <use x=\"578.613281\" xlink:href=\"#DejaVuSans-31\"/>\n    <use x=\"642.236328\" xlink:href=\"#DejaVuSans-36\"/>\n   </g>\n   <!-- Optimizer: Adam -->\n   <g transform=\"translate(583.78125 43.192875)scale(0.12 -0.12)\">\n    <defs>\n     <path d=\"M 2522 4238 \nQ 1834 4238 1429 3725 \nQ 1025 3213 1025 2328 \nQ 1025 1447 1429 934 \nQ 1834 422 2522 422 \nQ 3209 422 3611 934 \nQ 4013 1447 4013 2328 \nQ 4013 3213 3611 3725 \nQ 3209 4238 2522 4238 \nz\nM 2522 4750 \nQ 3503 4750 4090 4092 \nQ 4678 3434 4678 2328 \nQ 4678 1225 4090 567 \nQ 3503 -91 2522 -91 \nQ 1538 -91 948 565 \nQ 359 1222 359 2328 \nQ 359 3434 948 4092 \nQ 1538 4750 2522 4750 \nz\n\" id=\"DejaVuSans-4f\" transform=\"scale(0.015625)\"/>\n    </defs>\n    <use xlink:href=\"#DejaVuSans-4f\"/>\n    <use x=\"78.710938\" xlink:href=\"#DejaVuSans-70\"/>\n    <use x=\"142.1875\" xlink:href=\"#DejaVuSans-74\"/>\n    <use x=\"181.396484\" xlink:href=\"#DejaVuSans-69\"/>\n    <use x=\"209.179688\" xlink:href=\"#DejaVuSans-6d\"/>\n    <use x=\"306.591797\" xlink:href=\"#DejaVuSans-69\"/>\n    <use x=\"334.375\" xlink:href=\"#DejaVuSans-7a\"/>\n    <use x=\"386.865234\" xlink:href=\"#DejaVuSans-65\"/>\n    <use x=\"448.388672\" xlink:href=\"#DejaVuSans-72\"/>\n    <use x=\"487.751953\" xlink:href=\"#DejaVuSans-3a\"/>\n    <use x=\"521.443359\" xlink:href=\"#DejaVuSans-20\"/>\n    <use x=\"553.230469\" xlink:href=\"#DejaVuSans-41\"/>\n    <use x=\"619.888672\" xlink:href=\"#DejaVuSans-64\"/>\n    <use x=\"683.365234\" xlink:href=\"#DejaVuSans-61\"/>\n    <use x=\"744.644531\" xlink:href=\"#DejaVuSans-6d\"/>\n   </g>\n   <!-- Loss: mse -->\n   <g transform=\"translate(583.78125 56.63025)scale(0.12 -0.12)\">\n    <defs>\n     <path d=\"M 628 4666 \nL 1259 4666 \nL 1259 531 \nL 3531 531 \nL 3531 0 \nL 628 0 \nL 628 4666 \nz\n\" id=\"DejaVuSans-4c\" transform=\"scale(0.015625)\"/>\n    </defs>\n    <use xlink:href=\"#DejaVuSans-4c\"/>\n    <use x=\"53.962891\" xlink:href=\"#DejaVuSans-6f\"/>\n    <use x=\"115.144531\" xlink:href=\"#DejaVuSans-73\"/>\n    <use x=\"167.244141\" xlink:href=\"#DejaVuSans-73\"/>\n    <use x=\"219.34375\" xlink:href=\"#DejaVuSans-3a\"/>\n    <use x=\"253.035156\" xlink:href=\"#DejaVuSans-20\"/>\n    <use x=\"284.822266\" xlink:href=\"#DejaVuSans-6d\"/>\n    <use x=\"382.234375\" xlink:href=\"#DejaVuSans-73\"/>\n    <use x=\"434.333984\" xlink:href=\"#DejaVuSans-65\"/>\n   </g>\n  </g>\n </g>\n <defs>\n  <clipPath id=\"pc7e7230f9c\">\n   <rect height=\"319.764706\" width=\"328.235294\" x=\"43.78125\" y=\"151.2\"/>\n  </clipPath>\n  <clipPath id=\"pdedbcb22ea\">\n   <rect height=\"319.764706\" width=\"328.235294\" x=\"437.663603\" y=\"151.2\"/>\n  </clipPath>\n </defs>\n</svg>\n",
      "image/png": "[encoded data removed]"
     },
     "metadata": {
      "needs_background": "light"
     }
    }
   ],
   "source": [
    "plots = [\n",
    "           {'cols':['mae', 'val_mae'], 'title':'Training and validation MAE', 'yLabel':'MAE'},\n",
    "           {'cols':['loss', 'val_loss'], 'title':'Training and validation loss', 'yLabel':'MSE'},\n",
    "]\n",
    "\n",
    "fig = plt.figure(figsize=(20,20))\n",
    "fig_no = 331\n",
    "title = 'Activation function: {}\\nBatch size: {}\\nOptimizer: {}\\nLoss: {}'.format(activation, batch_size,optimizer._name, loss)\n",
    "fig.suptitle(title, fontsize=\"large\", horizontalalignment='left', verticalalignment='top')\n",
    "\n",
    "for i in range(len(plots)):\n",
    "    ax = fig.add_subplot(str(fig_no))\n",
    "    sns.lineplot(data=training_history[plots[i]['cols']], ax=ax)\n",
    "    plt.title(plots[i]['title'])\n",
    "    plt.xlabel('Epochs')\n",
    "    plt.ylabel(plots[i]['yLabel'])\n",
    "    fig_no += 1\n",
    "\n",
    "plt.show()"
   ]
  },
  {
   "source": [
    "### Predictions"
   ],
   "cell_type": "markdown",
   "metadata": {}
  },
  {
   "cell_type": "code",
   "execution_count": 97,
   "metadata": {},
   "outputs": [
    {
     "output_type": "stream",
     "name": "stdout",
     "text": [
      "191/191 [==============================] - 0s 402us/step\n"
     ]
    }
   ],
   "source": [
    "predictions = model.predict(x=X_test, verbose=1)"
   ]
  },
  {
   "cell_type": "code",
   "execution_count": 98,
   "metadata": {},
   "outputs": [
    {
     "output_type": "stream",
     "name": "stdout",
     "text": [
      "MSE:  0.19007815862663233\nMSA:  0.336012061105998\nR-Squared:  -10.946194687582697\nExplained Variance Score:  -1.0248212535001446e-16\n"
     ]
    }
   ],
   "source": [
    "from sklearn.metrics import mean_squared_error, r2_score, explained_variance_score, mean_absolute_error\n",
    "\n",
    "print('MSE: ', mean_squared_error( y_test, predictions ))\n",
    "print('MSA: ', mean_absolute_error( y_test, predictions ))\n",
    "print('R-Squared: ', r2_score( y_test, predictions ))\n",
    "print('Explained Variance Score: ', explained_variance_score( y_test, predictions ))"
   ]
  },
  {
   "cell_type": "code",
   "execution_count": null,
   "metadata": {},
   "outputs": [],
   "source": []
  }
 ]
}