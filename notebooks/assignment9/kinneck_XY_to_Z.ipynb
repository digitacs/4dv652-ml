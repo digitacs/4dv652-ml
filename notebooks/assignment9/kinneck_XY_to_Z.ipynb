{
 "cells": [
  {
   "cell_type": "code",
   "execution_count": 211,
   "metadata": {},
   "outputs": [],
   "source": [
    "import sys\n",
    "import pandas as pd\n",
    "import numpy as np\n",
    "import sklearn\n",
    "from sklearn.utils import shuffle\n",
    "from sklearn.preprocessing import MinMaxScaler, StandardScaler\n",
    "from sklearn.model_selection import train_test_split\n",
    "\n",
    "import tensorflow as tf\n",
    "from tensorflow import keras\n",
    "from tensorflow.keras.models import Sequential\n",
    "from tensorflow.keras.layers import Activation, Dense, Conv1D\n",
    "from tensorflow.keras.optimizers import Adam\n",
    "from tensorflow.keras.metrics import categorical_crossentropy"
   ]
  },
  {
   "cell_type": "code",
   "execution_count": 6,
   "metadata": {},
   "outputs": [
    {
     "name": "stdout",
     "output_type": "stream",
     "text": [
      "Num GPUs Available:  0\n"
     ]
    }
   ],
   "source": [
    "physical_devices = tf.config.experimental.list_physical_devices( 'GPU' )\n",
    "print( 'Num GPUs Available: ', len( physical_devices ) )\n",
    "if len( physical_devices ) > 0:\n",
    "    tf.config.experimental.set_memory_growth( physical_devices[0], True )"
   ]
  },
  {
   "cell_type": "code",
   "execution_count": null,
   "metadata": {},
   "outputs": [],
   "source": [
    "# Configuration"
   ]
  },
  {
   "cell_type": "code",
   "execution_count": null,
   "metadata": {},
   "outputs": [],
   "source": [
    "available_scalers = [ 'None', 'MinMax', 'Standard' ]\n",
    "\n",
    "random_state = 47\n",
    "chosen_scaler = 0\n"
   ]
  },
  {
   "cell_type": "code",
   "execution_count": null,
   "metadata": {},
   "outputs": [],
   "source": [
    "# Importing the data"
   ]
  },
  {
   "cell_type": "code",
   "execution_count": 250,
   "metadata": {},
   "outputs": [],
   "source": [
    "import re\n",
    "available_scalers = [ 'None', 'MinMax', 'Standard' ]\n",
    "\n",
    "def read_from_file( file_name, chosen_scaler ):\n",
    "    data = pd.read_csv('../../datasets/kinect_good_preprocessed/{}.csv'.format( file_name ))\n",
    "    data = data.drop( columns=['FrameNo'] )\n",
    "\n",
    "    target_labels = []\n",
    "    for c in data.columns:\n",
    "        if re.search(\"^.*_z$\", c):\n",
    "            target_labels.append(c)\n",
    "\n",
    "    target_data = data[target_labels]\n",
    "    input_data = data.drop( columns=target_labels )\n",
    "    \n",
    "    if (available_scalers[ chosen_scaler ] == 'MinMax'):\n",
    "        scaler = MinMaxScaler( feature_range=(0,1) )\n",
    "        input_data = scaler.fit_transform( input_data ) # reshape?    \n",
    "        target_data = scaler.fit_transform( target_data ) # reshape?\n",
    "    \n",
    "    return input_data, target_data"
   ]
  },
  {
   "cell_type": "code",
   "execution_count": 155,
   "metadata": {},
   "outputs": [
    {
     "data": {
      "text/html": [
       "<div>\n",
       "<style scoped>\n",
       "    .dataframe tbody tr th:only-of-type {\n",
       "        vertical-align: middle;\n",
       "    }\n",
       "\n",
       "    .dataframe tbody tr th {\n",
       "        vertical-align: top;\n",
       "    }\n",
       "\n",
       "    .dataframe thead th {\n",
       "        text-align: right;\n",
       "    }\n",
       "</style>\n",
       "<table border=\"1\" class=\"dataframe\">\n",
       "  <thead>\n",
       "    <tr style=\"text-align: right;\">\n",
       "      <th></th>\n",
       "      <th>head_z</th>\n",
       "      <th>left_shoulder_z</th>\n",
       "      <th>left_elbow_z</th>\n",
       "      <th>right_shoulder_z</th>\n",
       "      <th>right_elbow_z</th>\n",
       "      <th>left_hand_z</th>\n",
       "      <th>right_hand_z</th>\n",
       "      <th>left_hip_z</th>\n",
       "      <th>right_hip_z</th>\n",
       "      <th>left_knee_z</th>\n",
       "      <th>right_knee_z</th>\n",
       "      <th>left_foot_z</th>\n",
       "      <th>right_foot_z</th>\n",
       "    </tr>\n",
       "  </thead>\n",
       "  <tbody>\n",
       "    <tr>\n",
       "      <th>0</th>\n",
       "      <td>0.035489</td>\n",
       "      <td>0.036046</td>\n",
       "      <td>0.015560</td>\n",
       "      <td>0.025966</td>\n",
       "      <td>0.014835</td>\n",
       "      <td>-0.014999</td>\n",
       "      <td>-0.021411</td>\n",
       "      <td>-0.021969</td>\n",
       "      <td>-0.032272</td>\n",
       "      <td>-0.042826</td>\n",
       "      <td>-0.029387</td>\n",
       "      <td>-0.033126</td>\n",
       "      <td>-0.054768</td>\n",
       "    </tr>\n",
       "    <tr>\n",
       "      <th>1</th>\n",
       "      <td>0.036512</td>\n",
       "      <td>0.036770</td>\n",
       "      <td>0.017051</td>\n",
       "      <td>0.026811</td>\n",
       "      <td>0.015636</td>\n",
       "      <td>-0.014149</td>\n",
       "      <td>-0.021358</td>\n",
       "      <td>-0.020485</td>\n",
       "      <td>-0.030862</td>\n",
       "      <td>-0.042704</td>\n",
       "      <td>-0.029623</td>\n",
       "      <td>-0.033887</td>\n",
       "      <td>-0.054885</td>\n",
       "    </tr>\n",
       "    <tr>\n",
       "      <th>2</th>\n",
       "      <td>0.037839</td>\n",
       "      <td>0.037472</td>\n",
       "      <td>0.018608</td>\n",
       "      <td>0.028290</td>\n",
       "      <td>0.016526</td>\n",
       "      <td>-0.013003</td>\n",
       "      <td>-0.021120</td>\n",
       "      <td>-0.018874</td>\n",
       "      <td>-0.029103</td>\n",
       "      <td>-0.042579</td>\n",
       "      <td>-0.030095</td>\n",
       "      <td>-0.034578</td>\n",
       "      <td>-0.055192</td>\n",
       "    </tr>\n",
       "    <tr>\n",
       "      <th>3</th>\n",
       "      <td>0.039288</td>\n",
       "      <td>0.038178</td>\n",
       "      <td>0.020659</td>\n",
       "      <td>0.029950</td>\n",
       "      <td>0.017615</td>\n",
       "      <td>-0.011606</td>\n",
       "      <td>-0.020696</td>\n",
       "      <td>-0.017267</td>\n",
       "      <td>-0.027243</td>\n",
       "      <td>-0.042449</td>\n",
       "      <td>-0.030658</td>\n",
       "      <td>-0.035365</td>\n",
       "      <td>-0.055488</td>\n",
       "    </tr>\n",
       "    <tr>\n",
       "      <th>4</th>\n",
       "      <td>0.040886</td>\n",
       "      <td>0.039605</td>\n",
       "      <td>0.022874</td>\n",
       "      <td>0.031845</td>\n",
       "      <td>0.018849</td>\n",
       "      <td>-0.010005</td>\n",
       "      <td>-0.020167</td>\n",
       "      <td>-0.015529</td>\n",
       "      <td>-0.025048</td>\n",
       "      <td>-0.042327</td>\n",
       "      <td>-0.031343</td>\n",
       "      <td>-0.036098</td>\n",
       "      <td>-0.055981</td>\n",
       "    </tr>\n",
       "    <tr>\n",
       "      <th>...</th>\n",
       "      <td>...</td>\n",
       "      <td>...</td>\n",
       "      <td>...</td>\n",
       "      <td>...</td>\n",
       "      <td>...</td>\n",
       "      <td>...</td>\n",
       "      <td>...</td>\n",
       "      <td>...</td>\n",
       "      <td>...</td>\n",
       "      <td>...</td>\n",
       "      <td>...</td>\n",
       "      <td>...</td>\n",
       "      <td>...</td>\n",
       "    </tr>\n",
       "    <tr>\n",
       "      <th>107</th>\n",
       "      <td>0.045578</td>\n",
       "      <td>0.051361</td>\n",
       "      <td>0.019211</td>\n",
       "      <td>0.042524</td>\n",
       "      <td>0.016609</td>\n",
       "      <td>-0.017735</td>\n",
       "      <td>-0.036008</td>\n",
       "      <td>0.004262</td>\n",
       "      <td>-0.004309</td>\n",
       "      <td>-0.050553</td>\n",
       "      <td>-0.039474</td>\n",
       "      <td>-0.055849</td>\n",
       "      <td>-0.065346</td>\n",
       "    </tr>\n",
       "    <tr>\n",
       "      <th>108</th>\n",
       "      <td>0.045665</td>\n",
       "      <td>0.051377</td>\n",
       "      <td>0.019777</td>\n",
       "      <td>0.042539</td>\n",
       "      <td>0.017077</td>\n",
       "      <td>-0.016332</td>\n",
       "      <td>-0.034821</td>\n",
       "      <td>0.003663</td>\n",
       "      <td>-0.005372</td>\n",
       "      <td>-0.047635</td>\n",
       "      <td>-0.036898</td>\n",
       "      <td>-0.053351</td>\n",
       "      <td>-0.063894</td>\n",
       "    </tr>\n",
       "    <tr>\n",
       "      <th>109</th>\n",
       "      <td>0.045733</td>\n",
       "      <td>0.051393</td>\n",
       "      <td>0.020199</td>\n",
       "      <td>0.042552</td>\n",
       "      <td>0.017240</td>\n",
       "      <td>-0.015055</td>\n",
       "      <td>-0.034104</td>\n",
       "      <td>0.003167</td>\n",
       "      <td>-0.006489</td>\n",
       "      <td>-0.044903</td>\n",
       "      <td>-0.034698</td>\n",
       "      <td>-0.050854</td>\n",
       "      <td>-0.062284</td>\n",
       "    </tr>\n",
       "    <tr>\n",
       "      <th>110</th>\n",
       "      <td>0.045745</td>\n",
       "      <td>0.051243</td>\n",
       "      <td>0.020617</td>\n",
       "      <td>0.042479</td>\n",
       "      <td>0.017240</td>\n",
       "      <td>-0.013829</td>\n",
       "      <td>-0.033451</td>\n",
       "      <td>0.002601</td>\n",
       "      <td>-0.007497</td>\n",
       "      <td>-0.041978</td>\n",
       "      <td>-0.032076</td>\n",
       "      <td>-0.048253</td>\n",
       "      <td>-0.060631</td>\n",
       "    </tr>\n",
       "    <tr>\n",
       "      <th>111</th>\n",
       "      <td>0.045757</td>\n",
       "      <td>0.051086</td>\n",
       "      <td>0.020924</td>\n",
       "      <td>0.042203</td>\n",
       "      <td>0.017244</td>\n",
       "      <td>-0.012691</td>\n",
       "      <td>-0.032869</td>\n",
       "      <td>0.002051</td>\n",
       "      <td>-0.008601</td>\n",
       "      <td>-0.039171</td>\n",
       "      <td>-0.029561</td>\n",
       "      <td>-0.044944</td>\n",
       "      <td>-0.058630</td>\n",
       "    </tr>\n",
       "  </tbody>\n",
       "</table>\n",
       "<p>112 rows × 13 columns</p>\n",
       "</div>"
      ],
      "text/plain": [
       "       head_z  left_shoulder_z  left_elbow_z  right_shoulder_z  right_elbow_z  \\\n",
       "0    0.035489         0.036046      0.015560          0.025966       0.014835   \n",
       "1    0.036512         0.036770      0.017051          0.026811       0.015636   \n",
       "2    0.037839         0.037472      0.018608          0.028290       0.016526   \n",
       "3    0.039288         0.038178      0.020659          0.029950       0.017615   \n",
       "4    0.040886         0.039605      0.022874          0.031845       0.018849   \n",
       "..        ...              ...           ...               ...            ...   \n",
       "107  0.045578         0.051361      0.019211          0.042524       0.016609   \n",
       "108  0.045665         0.051377      0.019777          0.042539       0.017077   \n",
       "109  0.045733         0.051393      0.020199          0.042552       0.017240   \n",
       "110  0.045745         0.051243      0.020617          0.042479       0.017240   \n",
       "111  0.045757         0.051086      0.020924          0.042203       0.017244   \n",
       "\n",
       "     left_hand_z  right_hand_z  left_hip_z  right_hip_z  left_knee_z  \\\n",
       "0      -0.014999     -0.021411   -0.021969    -0.032272    -0.042826   \n",
       "1      -0.014149     -0.021358   -0.020485    -0.030862    -0.042704   \n",
       "2      -0.013003     -0.021120   -0.018874    -0.029103    -0.042579   \n",
       "3      -0.011606     -0.020696   -0.017267    -0.027243    -0.042449   \n",
       "4      -0.010005     -0.020167   -0.015529    -0.025048    -0.042327   \n",
       "..           ...           ...         ...          ...          ...   \n",
       "107    -0.017735     -0.036008    0.004262    -0.004309    -0.050553   \n",
       "108    -0.016332     -0.034821    0.003663    -0.005372    -0.047635   \n",
       "109    -0.015055     -0.034104    0.003167    -0.006489    -0.044903   \n",
       "110    -0.013829     -0.033451    0.002601    -0.007497    -0.041978   \n",
       "111    -0.012691     -0.032869    0.002051    -0.008601    -0.039171   \n",
       "\n",
       "     right_knee_z  left_foot_z  right_foot_z  \n",
       "0       -0.029387    -0.033126     -0.054768  \n",
       "1       -0.029623    -0.033887     -0.054885  \n",
       "2       -0.030095    -0.034578     -0.055192  \n",
       "3       -0.030658    -0.035365     -0.055488  \n",
       "4       -0.031343    -0.036098     -0.055981  \n",
       "..            ...          ...           ...  \n",
       "107     -0.039474    -0.055849     -0.065346  \n",
       "108     -0.036898    -0.053351     -0.063894  \n",
       "109     -0.034698    -0.050854     -0.062284  \n",
       "110     -0.032076    -0.048253     -0.060631  \n",
       "111     -0.029561    -0.044944     -0.058630  \n",
       "\n",
       "[112 rows x 13 columns]"
      ]
     },
     "execution_count": 155,
     "metadata": {},
     "output_type": "execute_result"
    }
   ],
   "source": [
    "input_data, target_data = read_from_file( 'A1_kinect',0 )"
   ]
  },
  {
   "cell_type": "code",
   "execution_count": null,
   "metadata": {},
   "outputs": [],
   "source": []
  },
  {
   "cell_type": "code",
   "execution_count": null,
   "metadata": {},
   "outputs": [],
   "source": [
    "# Train and test spliting"
   ]
  },
  {
   "cell_type": "code",
   "execution_count": null,
   "metadata": {},
   "outputs": [],
   "source": [
    "y_train, y_test, X_train, X_test  = train_test_split(y, X, train_size = trainingPercent, random_state=5)"
   ]
  },
  {
   "cell_type": "code",
   "execution_count": null,
   "metadata": {},
   "outputs": [],
   "source": [
    "# Normalization"
   ]
  },
  {
   "cell_type": "code",
   "execution_count": null,
   "metadata": {},
   "outputs": [],
   "source": []
  },
  {
   "cell_type": "code",
   "execution_count": null,
   "metadata": {},
   "outputs": [],
   "source": [
    "# Start with Sequential model"
   ]
  },
  {
   "cell_type": "code",
   "execution_count": 300,
   "metadata": {},
   "outputs": [],
   "source": [
    "model = Sequential([\n",
    "    Dense( units=26, input_dim=26, activation='relu' ),\n",
    "    Dense( units=64, activation='sigmoid' ),\n",
    "    Dense( units=13, activation='softmax' )\n",
    " ])"
   ]
  },
  {
   "cell_type": "code",
   "execution_count": 294,
   "metadata": {},
   "outputs": [
    {
     "name": "stdout",
     "output_type": "stream",
     "text": [
      "Model: \"sequential_36\"\n",
      "_________________________________________________________________\n",
      "Layer (type)                 Output Shape              Param #   \n",
      "=================================================================\n",
      "dense_110 (Dense)            (None, 26)                702       \n",
      "_________________________________________________________________\n",
      "dense_111 (Dense)            (None, 52)                1404      \n",
      "_________________________________________________________________\n",
      "dense_112 (Dense)            (None, 13)                689       \n",
      "=================================================================\n",
      "Total params: 2,795\n",
      "Trainable params: 2,795\n",
      "Non-trainable params: 0\n",
      "_________________________________________________________________\n"
     ]
    }
   ],
   "source": [
    "model.summary()"
   ]
  },
  {
   "cell_type": "code",
   "execution_count": 301,
   "metadata": {},
   "outputs": [],
   "source": [
    "model.compile( optimizer=Adam( learning_rate=0.001 ), loss=tf.keras.losses.MeanSquaredError(), metrics=[ 'accuracy' ] )"
   ]
  },
  {
   "cell_type": "code",
   "execution_count": 58,
   "metadata": {},
   "outputs": [],
   "source": [
    "# Training\n",
    "# A1-A150 => Training\n",
    "# A151-A159 => Testing"
   ]
  },
  {
   "cell_type": "code",
   "execution_count": 287,
   "metadata": {
    "scrolled": false
   },
   "outputs": [
    {
     "name": "stdout",
     "output_type": "stream",
     "text": [
      "(112, 26)\n",
      "(112, 13)\n",
      "[Errno 2] No such file or directory: '../../datasets/kinect_good_preprocessed/A60_kinect.csv'\n",
      "[Errno 2] No such file or directory: '../../datasets/kinect_good_preprocessed/A107_kinect.csv'\n",
      "(21250, 26)\n",
      "(21250, 13)\n"
     ]
    }
   ],
   "source": [
    "input_data, target_data = read_from_file('A1_kinect'.format(i),1)\n",
    "\n",
    "print(input_data.shape)\n",
    "print(target_data.shape)\n",
    "\n",
    "for i in range(1,151):\n",
    "    try:\n",
    "        iData, tData = read_from_file('A{}_kinect'.format(i),1)\n",
    "        input_data = np.concatenate((input_data, iData))\n",
    "        target_data = np.concatenate((target_data, tData))\n",
    "    except IOError as e:\n",
    "        print(e)\n",
    "        \n",
    "print(input_data.shape)\n",
    "print(target_data.shape)"
   ]
  },
  {
   "cell_type": "code",
   "execution_count": null,
   "metadata": {},
   "outputs": [],
   "source": []
  },
  {
   "cell_type": "code",
   "execution_count": null,
   "metadata": {},
   "outputs": [],
   "source": []
  },
  {
   "cell_type": "code",
   "execution_count": 302,
   "metadata": {
    "scrolled": true
   },
   "outputs": [
    {
     "name": "stdout",
     "output_type": "stream",
     "text": [
      "Epoch 1/50\n",
      "598/598 - 1s - loss: 0.2829 - accuracy: 0.2848 - val_loss: 0.2762 - val_accuracy: 0.2649\n",
      "Epoch 2/50\n",
      "598/598 - 0s - loss: 0.2787 - accuracy: 0.3011 - val_loss: 0.2754 - val_accuracy: 0.2616\n",
      "Epoch 3/50\n",
      "598/598 - 0s - loss: 0.2780 - accuracy: 0.2966 - val_loss: 0.2750 - val_accuracy: 0.2616\n",
      "Epoch 4/50\n",
      "598/598 - 0s - loss: 0.2776 - accuracy: 0.3082 - val_loss: 0.2754 - val_accuracy: 0.3224\n",
      "Epoch 5/50\n",
      "598/598 - 0s - loss: 0.2774 - accuracy: 0.3133 - val_loss: 0.2751 - val_accuracy: 0.3322\n",
      "Epoch 6/50\n",
      "598/598 - 0s - loss: 0.2773 - accuracy: 0.3133 - val_loss: 0.2752 - val_accuracy: 0.3016\n",
      "Epoch 7/50\n",
      "598/598 - 0s - loss: 0.2772 - accuracy: 0.3165 - val_loss: 0.2753 - val_accuracy: 0.2744\n",
      "Epoch 8/50\n",
      "598/598 - 0s - loss: 0.2771 - accuracy: 0.3233 - val_loss: 0.2755 - val_accuracy: 0.3473\n",
      "Epoch 9/50\n",
      "598/598 - 0s - loss: 0.2770 - accuracy: 0.3242 - val_loss: 0.2756 - val_accuracy: 0.2668\n",
      "Epoch 10/50\n",
      "598/598 - 0s - loss: 0.2769 - accuracy: 0.3283 - val_loss: 0.2755 - val_accuracy: 0.3101\n",
      "Epoch 11/50\n",
      "598/598 - 0s - loss: 0.2767 - accuracy: 0.3274 - val_loss: 0.2756 - val_accuracy: 0.2715\n",
      "Epoch 12/50\n",
      "598/598 - 0s - loss: 0.2766 - accuracy: 0.3286 - val_loss: 0.2756 - val_accuracy: 0.2861\n",
      "Epoch 13/50\n",
      "598/598 - 0s - loss: 0.2766 - accuracy: 0.3343 - val_loss: 0.2757 - val_accuracy: 0.2922\n",
      "Epoch 14/50\n",
      "598/598 - 0s - loss: 0.2765 - accuracy: 0.3339 - val_loss: 0.2760 - val_accuracy: 0.2936\n",
      "Epoch 15/50\n",
      "598/598 - 0s - loss: 0.2764 - accuracy: 0.3344 - val_loss: 0.2758 - val_accuracy: 0.2588\n",
      "Epoch 16/50\n",
      "598/598 - 0s - loss: 0.2763 - accuracy: 0.3386 - val_loss: 0.2757 - val_accuracy: 0.2809\n",
      "Epoch 17/50\n",
      "598/598 - 0s - loss: 0.2763 - accuracy: 0.3397 - val_loss: 0.2759 - val_accuracy: 0.2875\n",
      "Epoch 18/50\n",
      "598/598 - 0s - loss: 0.2762 - accuracy: 0.3399 - val_loss: 0.2763 - val_accuracy: 0.2955\n",
      "Epoch 19/50\n",
      "598/598 - 0s - loss: 0.2761 - accuracy: 0.3398 - val_loss: 0.2759 - val_accuracy: 0.2951\n",
      "Epoch 20/50\n",
      "598/598 - 0s - loss: 0.2761 - accuracy: 0.3418 - val_loss: 0.2759 - val_accuracy: 0.3266\n",
      "Epoch 21/50\n",
      "598/598 - 0s - loss: 0.2760 - accuracy: 0.3467 - val_loss: 0.2759 - val_accuracy: 0.3087\n",
      "Epoch 22/50\n",
      "598/598 - 0s - loss: 0.2759 - accuracy: 0.3488 - val_loss: 0.2760 - val_accuracy: 0.3148\n",
      "Epoch 23/50\n",
      "598/598 - 0s - loss: 0.2758 - accuracy: 0.3436 - val_loss: 0.2759 - val_accuracy: 0.2988\n",
      "Epoch 24/50\n",
      "598/598 - 0s - loss: 0.2758 - accuracy: 0.3505 - val_loss: 0.2760 - val_accuracy: 0.2908\n",
      "Epoch 25/50\n",
      "598/598 - 0s - loss: 0.2757 - accuracy: 0.3569 - val_loss: 0.2761 - val_accuracy: 0.3082\n",
      "Epoch 26/50\n",
      "598/598 - 0s - loss: 0.2757 - accuracy: 0.3579 - val_loss: 0.2758 - val_accuracy: 0.2720\n",
      "Epoch 27/50\n",
      "598/598 - 0s - loss: 0.2756 - accuracy: 0.3645 - val_loss: 0.2758 - val_accuracy: 0.2885\n",
      "Epoch 28/50\n",
      "598/598 - 0s - loss: 0.2756 - accuracy: 0.3640 - val_loss: 0.2762 - val_accuracy: 0.2664\n",
      "Epoch 29/50\n",
      "598/598 - 0s - loss: 0.2755 - accuracy: 0.3648 - val_loss: 0.2763 - val_accuracy: 0.2852\n",
      "Epoch 30/50\n",
      "598/598 - 0s - loss: 0.2755 - accuracy: 0.3653 - val_loss: 0.2761 - val_accuracy: 0.3054\n",
      "Epoch 31/50\n",
      "598/598 - 0s - loss: 0.2755 - accuracy: 0.3697 - val_loss: 0.2760 - val_accuracy: 0.3111\n",
      "Epoch 32/50\n",
      "598/598 - 0s - loss: 0.2754 - accuracy: 0.3693 - val_loss: 0.2762 - val_accuracy: 0.2631\n",
      "Epoch 33/50\n",
      "598/598 - 0s - loss: 0.2754 - accuracy: 0.3735 - val_loss: 0.2761 - val_accuracy: 0.2960\n",
      "Epoch 34/50\n",
      "598/598 - 0s - loss: 0.2753 - accuracy: 0.3758 - val_loss: 0.2760 - val_accuracy: 0.3266\n",
      "Epoch 35/50\n",
      "598/598 - 0s - loss: 0.2753 - accuracy: 0.3741 - val_loss: 0.2761 - val_accuracy: 0.3200\n",
      "Epoch 36/50\n",
      "598/598 - 0s - loss: 0.2753 - accuracy: 0.3773 - val_loss: 0.2762 - val_accuracy: 0.2969\n",
      "Epoch 37/50\n",
      "598/598 - 0s - loss: 0.2752 - accuracy: 0.3803 - val_loss: 0.2760 - val_accuracy: 0.3144\n",
      "Epoch 38/50\n",
      "598/598 - 0s - loss: 0.2752 - accuracy: 0.3825 - val_loss: 0.2758 - val_accuracy: 0.3031\n",
      "Epoch 39/50\n",
      "598/598 - 0s - loss: 0.2751 - accuracy: 0.3821 - val_loss: 0.2763 - val_accuracy: 0.2824\n",
      "Epoch 40/50\n",
      "598/598 - 0s - loss: 0.2751 - accuracy: 0.3878 - val_loss: 0.2762 - val_accuracy: 0.2889\n",
      "Epoch 41/50\n",
      "598/598 - 0s - loss: 0.2751 - accuracy: 0.3834 - val_loss: 0.2765 - val_accuracy: 0.2471\n",
      "Epoch 42/50\n",
      "598/598 - 0s - loss: 0.2750 - accuracy: 0.3894 - val_loss: 0.2762 - val_accuracy: 0.2979\n",
      "Epoch 43/50\n",
      "598/598 - 0s - loss: 0.2750 - accuracy: 0.3865 - val_loss: 0.2763 - val_accuracy: 0.2320\n",
      "Epoch 44/50\n",
      "598/598 - 0s - loss: 0.2750 - accuracy: 0.3892 - val_loss: 0.2761 - val_accuracy: 0.2753\n",
      "Epoch 45/50\n",
      "598/598 - 0s - loss: 0.2749 - accuracy: 0.3914 - val_loss: 0.2764 - val_accuracy: 0.2616\n",
      "Epoch 46/50\n",
      "598/598 - 0s - loss: 0.2749 - accuracy: 0.3918 - val_loss: 0.2762 - val_accuracy: 0.2809\n",
      "Epoch 47/50\n",
      "598/598 - 0s - loss: 0.2749 - accuracy: 0.3978 - val_loss: 0.2763 - val_accuracy: 0.2833\n",
      "Epoch 48/50\n",
      "598/598 - 0s - loss: 0.2748 - accuracy: 0.3947 - val_loss: 0.2760 - val_accuracy: 0.2386\n",
      "Epoch 49/50\n",
      "598/598 - 0s - loss: 0.2748 - accuracy: 0.3966 - val_loss: 0.2760 - val_accuracy: 0.3059\n",
      "Epoch 50/50\n",
      "598/598 - 0s - loss: 0.2748 - accuracy: 0.3999 - val_loss: 0.2764 - val_accuracy: 0.2993\n"
     ]
    },
    {
     "data": {
      "text/plain": [
       "<tensorflow.python.keras.callbacks.History at 0x1709e4bb0>"
      ]
     },
     "execution_count": 302,
     "metadata": {},
     "output_type": "execute_result"
    }
   ],
   "source": [
    "model.fit( x=input_data, y=target_data, validation_split=0.1, shuffle=True, epochs=50, verbose=2 )\n"
   ]
  },
  {
   "cell_type": "code",
   "execution_count": null,
   "metadata": {},
   "outputs": [],
   "source": []
  },
  {
   "cell_type": "code",
   "execution_count": null,
   "metadata": {},
   "outputs": [],
   "source": []
  },
  {
   "cell_type": "code",
   "execution_count": null,
   "metadata": {},
   "outputs": [],
   "source": [
    "# Validation"
   ]
  },
  {
   "cell_type": "code",
   "execution_count": null,
   "metadata": {},
   "outputs": [],
   "source": [
    "# Prediction"
   ]
  },
  {
   "cell_type": "code",
   "execution_count": null,
   "metadata": {},
   "outputs": [],
   "source": [
    "predictions = model.predict( x=test_data, batch_size=10, verbose=0 )"
   ]
  }
 ],
 "metadata": {
  "kernelspec": {
   "display_name": "Python 3",
   "language": "python",
   "name": "python3"
  },
  "language_info": {
   "codemirror_mode": {
    "name": "ipython",
    "version": 3
   },
   "file_extension": ".py",
   "mimetype": "text/x-python",
   "name": "python",
   "nbconvert_exporter": "python",
   "pygments_lexer": "ipython3",
   "version": "3.9.2"
  },
  "metadata": {
   "interpreter": {
    "hash": "aee8b7b246df8f9039afb4144a1f6fd8d2ca17a180786b69acc140d282b71a49"
   }
  }
 },
 "nbformat": 4,
 "nbformat_minor": 2
}
