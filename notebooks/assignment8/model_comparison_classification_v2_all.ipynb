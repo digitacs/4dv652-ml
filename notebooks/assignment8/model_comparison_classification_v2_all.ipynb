{
 "cells": [
  {
   "cell_type": "markdown",
   "metadata": {},
   "source": [
    "# Clustering Models Comparisson with PCA (2 predictors)"
   ]
  },
  {
   "cell_type": "markdown",
   "metadata": {},
   "source": [
    "Assessing model accuracy (10-Fold Cross-Validation) and Response time\n",
    "\n",
    "- Logistic Regression\n",
    "- k-Nearest Neighbors\n",
    "- LDA (Linear Discriminant Analysis)\n",
    "- QDA (Quadratic Discriminant Analysis)\n",
    "- Naive Bayes\n",
    "- Tree-based Approaches\n",
    "- Support Vector Machines (SVM)"
   ]
  },
  {
   "cell_type": "code",
   "execution_count": 1,
   "metadata": {},
   "outputs": [],
   "source": [
    "import pandas as pd\n",
    "\n",
    "from sklearn.linear_model import LogisticRegression\n",
    "from sklearn.model_selection import cross_val_score, KFold, cross_validate\n",
    "import matplotlib.pyplot as plt\n",
    "from sklearn.metrics import accuracy_score\n",
    "from sklearn import neighbors\n",
    "import numpy as np\n",
    "import seaborn as sns\n",
    "\n",
    "\n",
    "from sklearn.discriminant_analysis import LinearDiscriminantAnalysis, QuadraticDiscriminantAnalysis\n",
    "\n",
    "from sklearn.naive_bayes import GaussianNB\n",
    "\n",
    "from sklearn.tree import DecisionTreeClassifier\n",
    "from sklearn.metrics import mean_squared_error\n",
    "from sklearn.ensemble import RandomForestClassifier\n",
    "\n",
    "from sklearn.model_selection import GridSearchCV\n",
    "from sklearn.svm import SVC\n",
    "\n",
    "import time"
   ]
  },
  {
   "cell_type": "code",
   "execution_count": 2,
   "metadata": {},
   "outputs": [],
   "source": [
    "import warnings\n",
    "\n",
    "# Set Seaborn theme\n",
    "sns.set_theme(color_codes=True)\n",
    "\n",
    "# Disable warnings\n",
    "warnings.simplefilter(\"ignore\")"
   ]
  },
  {
   "cell_type": "code",
   "execution_count": 3,
   "metadata": {},
   "outputs": [],
   "source": [
    "kfolds = KFold(n_splits = 10, shuffle = True, random_state = 1)\n",
    "trainingPercent = 0.8\n",
    "iterations = 30"
   ]
  },
  {
   "cell_type": "markdown",
   "metadata": {},
   "source": [
    "# 1. Data Preparation\n",
    "\n",
    "## 1.1 Load the data"
   ]
  },
  {
   "cell_type": "code",
   "execution_count": 4,
   "metadata": {},
   "outputs": [],
   "source": [
    "AimoScoreFileUrl = \"../../datasets/AimoScore_WeakLink_big_scores.xls\"\n",
    "WeakLinksFileUrl = \"../../datasets/20190108 scores_and_weak_links.xlsx\"\n",
    "\n",
    "try:\n",
    "    AimoScore = pd.read_excel(AimoScoreFileUrl, engine=None)\n",
    "    WeakLinks = pd.read_excel(WeakLinksFileUrl, engine='openpyxl')\n",
    "\n",
    "except IOError as e:\n",
    "    print(e)"
   ]
  },
  {
   "cell_type": "code",
   "execution_count": 5,
   "metadata": {},
   "outputs": [
    {
     "name": "stdout",
     "output_type": "stream",
     "text": [
      "AimoScore size: 2094\n",
      "WeakLinks size: 2096\n",
      "result size: 2094\n"
     ]
    }
   ],
   "source": [
    "print(\"AimoScore size: {}\".format(len(AimoScore)))\n",
    "print(\"WeakLinks size: {}\".format(len(WeakLinks)))\n",
    "result = pd.merge(AimoScore, WeakLinks,on=[\"ID\"])\n",
    "print(\"result size: {}\".format(len(result)))"
   ]
  },
  {
   "cell_type": "code",
   "execution_count": 6,
   "metadata": {},
   "outputs": [],
   "source": [
    "result[\"WeakLinks\"] = result.loc[:,\"ForwardHead\":\"RightHeelRises\"].idxmax(axis=1)"
   ]
  },
  {
   "cell_type": "code",
   "execution_count": 7,
   "metadata": {},
   "outputs": [],
   "source": [
    "result.drop(result.columns.to_series()[\"ForwardHead\":\"RightHeelRises\"], axis=1, inplace=True)"
   ]
  },
  {
   "cell_type": "code",
   "execution_count": 8,
   "metadata": {},
   "outputs": [],
   "source": [
    "result = result.drop_duplicates(subset=\"ID\")"
   ]
  },
  {
   "cell_type": "code",
   "execution_count": 9,
   "metadata": {},
   "outputs": [
    {
     "data": {
      "text/plain": [
       "LeftArmFallForward              628\n",
       "RightArmFallForward             472\n",
       "RightKneeMovesOutward           276\n",
       "RightShoulderElevation          250\n",
       "ForwardHead                     115\n",
       "ExcessiveForwardLean            100\n",
       "LeftAsymmetricalWeightShift      73\n",
       "LeftShoulderElevation            58\n",
       "LeftKneeMovesOutward             49\n",
       "RightKneeMovesInward             45\n",
       "RightAsymmetricalWeightShift     19\n",
       "LeftKneeMovesInward               3\n",
       "LeftHeelRises                     2\n",
       "RightHeelRises                    1\n",
       "Name: WeakLinks, dtype: int64"
      ]
     },
     "execution_count": 9,
     "metadata": {},
     "output_type": "execute_result"
    }
   ],
   "source": [
    "result[\"WeakLinks\"].value_counts()"
   ]
  },
  {
   "cell_type": "code",
   "execution_count": 10,
   "metadata": {},
   "outputs": [
    {
     "data": {
      "text/html": [
       "<div>\n",
       "<style scoped>\n",
       "    .dataframe tbody tr th:only-of-type {\n",
       "        vertical-align: middle;\n",
       "    }\n",
       "\n",
       "    .dataframe tbody tr th {\n",
       "        vertical-align: top;\n",
       "    }\n",
       "\n",
       "    .dataframe thead th {\n",
       "        text-align: right;\n",
       "    }\n",
       "</style>\n",
       "<table border=\"1\" class=\"dataframe\">\n",
       "  <thead>\n",
       "    <tr style=\"text-align: right;\">\n",
       "      <th></th>\n",
       "      <th>AimoScore</th>\n",
       "      <th>No_1_Angle_Deviation</th>\n",
       "      <th>No_2_Angle_Deviation</th>\n",
       "      <th>No_3_Angle_Deviation</th>\n",
       "      <th>No_4_Angle_Deviation</th>\n",
       "      <th>No_5_Angle_Deviation</th>\n",
       "      <th>No_6_Angle_Deviation</th>\n",
       "      <th>No_7_Angle_Deviation</th>\n",
       "      <th>No_8_Angle_Deviation</th>\n",
       "      <th>No_9_Angle_Deviation</th>\n",
       "      <th>...</th>\n",
       "      <th>No_23_NASM_Deviation</th>\n",
       "      <th>No_24_NASM_Deviation</th>\n",
       "      <th>No_25_NASM_Deviation</th>\n",
       "      <th>No_1_Time_Deviation</th>\n",
       "      <th>No_2_Time_Deviation</th>\n",
       "      <th>EstimatedScore</th>\n",
       "      <th>ID</th>\n",
       "      <th>Date</th>\n",
       "      <th>SCORE</th>\n",
       "      <th>WeakLinks</th>\n",
       "    </tr>\n",
       "  </thead>\n",
       "  <tbody>\n",
       "    <tr>\n",
       "      <th>0</th>\n",
       "      <td>0.323667</td>\n",
       "      <td>0.538020</td>\n",
       "      <td>0.815878</td>\n",
       "      <td>0.346724</td>\n",
       "      <td>0.382114</td>\n",
       "      <td>0.302248</td>\n",
       "      <td>0.947872</td>\n",
       "      <td>0.275945</td>\n",
       "      <td>0.521760</td>\n",
       "      <td>0.457198</td>\n",
       "      <td>...</td>\n",
       "      <td>0.648972</td>\n",
       "      <td>0.578192</td>\n",
       "      <td>0.560019</td>\n",
       "      <td>0.821616</td>\n",
       "      <td>0.818747</td>\n",
       "      <td>0.209947</td>\n",
       "      <td>0003cdcc-86ed-494a-a3b5-90d09e96e06b.Kinect</td>\n",
       "      <td>2018-08-23</td>\n",
       "      <td>0.323667</td>\n",
       "      <td>RightShoulderElevation</td>\n",
       "    </tr>\n",
       "    <tr>\n",
       "      <th>1</th>\n",
       "      <td>0.323699</td>\n",
       "      <td>0.443807</td>\n",
       "      <td>0.306552</td>\n",
       "      <td>0.823529</td>\n",
       "      <td>0.188905</td>\n",
       "      <td>0.497370</td>\n",
       "      <td>0.140124</td>\n",
       "      <td>0.664275</td>\n",
       "      <td>0.521760</td>\n",
       "      <td>0.729316</td>\n",
       "      <td>...</td>\n",
       "      <td>0.848876</td>\n",
       "      <td>0.889048</td>\n",
       "      <td>0.816834</td>\n",
       "      <td>0.307987</td>\n",
       "      <td>0.248207</td>\n",
       "      <td>0.457198</td>\n",
       "      <td>003115c4-bdb8-491c-b571-8fcebdecf8ed.Kinect</td>\n",
       "      <td>2018-10-24</td>\n",
       "      <td>0.323699</td>\n",
       "      <td>RightArmFallForward</td>\n",
       "    </tr>\n",
       "    <tr>\n",
       "      <th>2</th>\n",
       "      <td>0.848327</td>\n",
       "      <td>0.603539</td>\n",
       "      <td>0.373984</td>\n",
       "      <td>0.346724</td>\n",
       "      <td>0.590626</td>\n",
       "      <td>0.341942</td>\n",
       "      <td>0.298900</td>\n",
       "      <td>0.276901</td>\n",
       "      <td>0.623625</td>\n",
       "      <td>0.658058</td>\n",
       "      <td>...</td>\n",
       "      <td>0.648972</td>\n",
       "      <td>0.578192</td>\n",
       "      <td>0.555715</td>\n",
       "      <td>0.218556</td>\n",
       "      <td>0.235294</td>\n",
       "      <td>0.107126</td>\n",
       "      <td>00316bfb-ed43-489f-a55b-11c7f01c852d.Kinect</td>\n",
       "      <td>2018-05-09</td>\n",
       "      <td>0.848327</td>\n",
       "      <td>LeftArmFallForward</td>\n",
       "    </tr>\n",
       "    <tr>\n",
       "      <th>3</th>\n",
       "      <td>0.351332</td>\n",
       "      <td>0.484935</td>\n",
       "      <td>0.623625</td>\n",
       "      <td>0.380201</td>\n",
       "      <td>0.975132</td>\n",
       "      <td>0.509326</td>\n",
       "      <td>0.888570</td>\n",
       "      <td>0.363462</td>\n",
       "      <td>0.847441</td>\n",
       "      <td>0.237207</td>\n",
       "      <td>...</td>\n",
       "      <td>0.648972</td>\n",
       "      <td>0.578192</td>\n",
       "      <td>0.744620</td>\n",
       "      <td>0.458154</td>\n",
       "      <td>0.432807</td>\n",
       "      <td>0.612626</td>\n",
       "      <td>00607608-6f2f-459b-a69d-e14067489459.Kinect</td>\n",
       "      <td>2018-06-06</td>\n",
       "      <td>0.351332</td>\n",
       "      <td>RightShoulderElevation</td>\n",
       "    </tr>\n",
       "    <tr>\n",
       "      <th>4</th>\n",
       "      <td>0.627181</td>\n",
       "      <td>0.860832</td>\n",
       "      <td>0.657580</td>\n",
       "      <td>0.745576</td>\n",
       "      <td>0.552846</td>\n",
       "      <td>0.375897</td>\n",
       "      <td>0.483022</td>\n",
       "      <td>0.388331</td>\n",
       "      <td>0.521760</td>\n",
       "      <td>0.387853</td>\n",
       "      <td>...</td>\n",
       "      <td>0.648972</td>\n",
       "      <td>0.578192</td>\n",
       "      <td>0.308943</td>\n",
       "      <td>0.805356</td>\n",
       "      <td>0.774271</td>\n",
       "      <td>0.153515</td>\n",
       "      <td>007396ec-3463-4a05-915c-02244ff8d3de.Kinect</td>\n",
       "      <td>2018-06-06</td>\n",
       "      <td>0.627181</td>\n",
       "      <td>ForwardHead</td>\n",
       "    </tr>\n",
       "    <tr>\n",
       "      <th>...</th>\n",
       "      <td>...</td>\n",
       "      <td>...</td>\n",
       "      <td>...</td>\n",
       "      <td>...</td>\n",
       "      <td>...</td>\n",
       "      <td>...</td>\n",
       "      <td>...</td>\n",
       "      <td>...</td>\n",
       "      <td>...</td>\n",
       "      <td>...</td>\n",
       "      <td>...</td>\n",
       "      <td>...</td>\n",
       "      <td>...</td>\n",
       "      <td>...</td>\n",
       "      <td>...</td>\n",
       "      <td>...</td>\n",
       "      <td>...</td>\n",
       "      <td>...</td>\n",
       "      <td>...</td>\n",
       "      <td>...</td>\n",
       "      <td>...</td>\n",
       "    </tr>\n",
       "    <tr>\n",
       "      <th>2086</th>\n",
       "      <td>0.665494</td>\n",
       "      <td>0.576279</td>\n",
       "      <td>0.396939</td>\n",
       "      <td>0.786705</td>\n",
       "      <td>0.646581</td>\n",
       "      <td>0.633668</td>\n",
       "      <td>0.140124</td>\n",
       "      <td>0.690579</td>\n",
       "      <td>0.521760</td>\n",
       "      <td>0.354376</td>\n",
       "      <td>...</td>\n",
       "      <td>0.795313</td>\n",
       "      <td>0.578192</td>\n",
       "      <td>0.815878</td>\n",
       "      <td>0.150167</td>\n",
       "      <td>0.163558</td>\n",
       "      <td>0.633190</td>\n",
       "      <td>feca4c0e-cbc7-4e5e-b85c-8befedbc65a4.Kinect</td>\n",
       "      <td>2018-05-31</td>\n",
       "      <td>0.665494</td>\n",
       "      <td>RightArmFallForward</td>\n",
       "    </tr>\n",
       "    <tr>\n",
       "      <th>2087</th>\n",
       "      <td>0.830883</td>\n",
       "      <td>0.788140</td>\n",
       "      <td>0.900526</td>\n",
       "      <td>0.628886</td>\n",
       "      <td>0.414634</td>\n",
       "      <td>0.689144</td>\n",
       "      <td>0.224773</td>\n",
       "      <td>0.516978</td>\n",
       "      <td>0.521760</td>\n",
       "      <td>0.156385</td>\n",
       "      <td>...</td>\n",
       "      <td>0.667145</td>\n",
       "      <td>0.578192</td>\n",
       "      <td>0.308943</td>\n",
       "      <td>0.148733</td>\n",
       "      <td>0.151124</td>\n",
       "      <td>0.207078</td>\n",
       "      <td>fed923af-f41e-42bc-8799-3a9f8a5f2129.Kinect</td>\n",
       "      <td>2018-10-18</td>\n",
       "      <td>0.830883</td>\n",
       "      <td>LeftArmFallForward</td>\n",
       "    </tr>\n",
       "    <tr>\n",
       "      <th>2088</th>\n",
       "      <td>0.527640</td>\n",
       "      <td>0.575323</td>\n",
       "      <td>0.193687</td>\n",
       "      <td>0.780488</td>\n",
       "      <td>0.956958</td>\n",
       "      <td>0.740794</td>\n",
       "      <td>0.912482</td>\n",
       "      <td>0.630799</td>\n",
       "      <td>0.632233</td>\n",
       "      <td>0.708274</td>\n",
       "      <td>...</td>\n",
       "      <td>0.648972</td>\n",
       "      <td>0.578192</td>\n",
       "      <td>0.736011</td>\n",
       "      <td>0.764706</td>\n",
       "      <td>0.811095</td>\n",
       "      <td>0.911047</td>\n",
       "      <td>ff015ddd-c9fb-49e3-8e33-abbf72e8b120.Kinect</td>\n",
       "      <td>2018-09-19</td>\n",
       "      <td>0.527640</td>\n",
       "      <td>LeftArmFallForward</td>\n",
       "    </tr>\n",
       "    <tr>\n",
       "      <th>2090</th>\n",
       "      <td>0.407197</td>\n",
       "      <td>0.279770</td>\n",
       "      <td>0.131038</td>\n",
       "      <td>0.346724</td>\n",
       "      <td>0.317073</td>\n",
       "      <td>0.945481</td>\n",
       "      <td>0.646581</td>\n",
       "      <td>0.913439</td>\n",
       "      <td>0.521760</td>\n",
       "      <td>0.570540</td>\n",
       "      <td>...</td>\n",
       "      <td>0.648972</td>\n",
       "      <td>0.749880</td>\n",
       "      <td>0.943568</td>\n",
       "      <td>0.684840</td>\n",
       "      <td>0.711621</td>\n",
       "      <td>0.877571</td>\n",
       "      <td>ff514cba-6c5e-41a9-9936-3e8400565c8d.Kinect</td>\n",
       "      <td>2018-10-09</td>\n",
       "      <td>0.407197</td>\n",
       "      <td>RightKneeMovesOutward</td>\n",
       "    </tr>\n",
       "    <tr>\n",
       "      <th>2092</th>\n",
       "      <td>0.965930</td>\n",
       "      <td>0.564802</td>\n",
       "      <td>0.311813</td>\n",
       "      <td>0.376375</td>\n",
       "      <td>0.188905</td>\n",
       "      <td>0.187948</td>\n",
       "      <td>0.347202</td>\n",
       "      <td>0.227642</td>\n",
       "      <td>0.521760</td>\n",
       "      <td>0.248685</td>\n",
       "      <td>...</td>\n",
       "      <td>0.648972</td>\n",
       "      <td>0.869440</td>\n",
       "      <td>0.316117</td>\n",
       "      <td>0.148733</td>\n",
       "      <td>0.151124</td>\n",
       "      <td>0.030129</td>\n",
       "      <td>ff63b8a9-deb5-4179-b424-fd07d04ca37f.Kinect</td>\n",
       "      <td>2018-06-13</td>\n",
       "      <td>0.965930</td>\n",
       "      <td>LeftArmFallForward</td>\n",
       "    </tr>\n",
       "  </tbody>\n",
       "</table>\n",
       "<p>2091 rows × 46 columns</p>\n",
       "</div>"
      ],
      "text/plain": [
       "      AimoScore  No_1_Angle_Deviation  No_2_Angle_Deviation  \\\n",
       "0      0.323667              0.538020              0.815878   \n",
       "1      0.323699              0.443807              0.306552   \n",
       "2      0.848327              0.603539              0.373984   \n",
       "3      0.351332              0.484935              0.623625   \n",
       "4      0.627181              0.860832              0.657580   \n",
       "...         ...                   ...                   ...   \n",
       "2086   0.665494              0.576279              0.396939   \n",
       "2087   0.830883              0.788140              0.900526   \n",
       "2088   0.527640              0.575323              0.193687   \n",
       "2090   0.407197              0.279770              0.131038   \n",
       "2092   0.965930              0.564802              0.311813   \n",
       "\n",
       "      No_3_Angle_Deviation  No_4_Angle_Deviation  No_5_Angle_Deviation  \\\n",
       "0                 0.346724              0.382114              0.302248   \n",
       "1                 0.823529              0.188905              0.497370   \n",
       "2                 0.346724              0.590626              0.341942   \n",
       "3                 0.380201              0.975132              0.509326   \n",
       "4                 0.745576              0.552846              0.375897   \n",
       "...                    ...                   ...                   ...   \n",
       "2086              0.786705              0.646581              0.633668   \n",
       "2087              0.628886              0.414634              0.689144   \n",
       "2088              0.780488              0.956958              0.740794   \n",
       "2090              0.346724              0.317073              0.945481   \n",
       "2092              0.376375              0.188905              0.187948   \n",
       "\n",
       "      No_6_Angle_Deviation  No_7_Angle_Deviation  No_8_Angle_Deviation  \\\n",
       "0                 0.947872              0.275945              0.521760   \n",
       "1                 0.140124              0.664275              0.521760   \n",
       "2                 0.298900              0.276901              0.623625   \n",
       "3                 0.888570              0.363462              0.847441   \n",
       "4                 0.483022              0.388331              0.521760   \n",
       "...                    ...                   ...                   ...   \n",
       "2086              0.140124              0.690579              0.521760   \n",
       "2087              0.224773              0.516978              0.521760   \n",
       "2088              0.912482              0.630799              0.632233   \n",
       "2090              0.646581              0.913439              0.521760   \n",
       "2092              0.347202              0.227642              0.521760   \n",
       "\n",
       "      No_9_Angle_Deviation  ...  No_23_NASM_Deviation  No_24_NASM_Deviation  \\\n",
       "0                 0.457198  ...              0.648972              0.578192   \n",
       "1                 0.729316  ...              0.848876              0.889048   \n",
       "2                 0.658058  ...              0.648972              0.578192   \n",
       "3                 0.237207  ...              0.648972              0.578192   \n",
       "4                 0.387853  ...              0.648972              0.578192   \n",
       "...                    ...  ...                   ...                   ...   \n",
       "2086              0.354376  ...              0.795313              0.578192   \n",
       "2087              0.156385  ...              0.667145              0.578192   \n",
       "2088              0.708274  ...              0.648972              0.578192   \n",
       "2090              0.570540  ...              0.648972              0.749880   \n",
       "2092              0.248685  ...              0.648972              0.869440   \n",
       "\n",
       "      No_25_NASM_Deviation  No_1_Time_Deviation  No_2_Time_Deviation  \\\n",
       "0                 0.560019             0.821616             0.818747   \n",
       "1                 0.816834             0.307987             0.248207   \n",
       "2                 0.555715             0.218556             0.235294   \n",
       "3                 0.744620             0.458154             0.432807   \n",
       "4                 0.308943             0.805356             0.774271   \n",
       "...                    ...                  ...                  ...   \n",
       "2086              0.815878             0.150167             0.163558   \n",
       "2087              0.308943             0.148733             0.151124   \n",
       "2088              0.736011             0.764706             0.811095   \n",
       "2090              0.943568             0.684840             0.711621   \n",
       "2092              0.316117             0.148733             0.151124   \n",
       "\n",
       "      EstimatedScore                                           ID       Date  \\\n",
       "0           0.209947  0003cdcc-86ed-494a-a3b5-90d09e96e06b.Kinect 2018-08-23   \n",
       "1           0.457198  003115c4-bdb8-491c-b571-8fcebdecf8ed.Kinect 2018-10-24   \n",
       "2           0.107126  00316bfb-ed43-489f-a55b-11c7f01c852d.Kinect 2018-05-09   \n",
       "3           0.612626  00607608-6f2f-459b-a69d-e14067489459.Kinect 2018-06-06   \n",
       "4           0.153515  007396ec-3463-4a05-915c-02244ff8d3de.Kinect 2018-06-06   \n",
       "...              ...                                          ...        ...   \n",
       "2086        0.633190  feca4c0e-cbc7-4e5e-b85c-8befedbc65a4.Kinect 2018-05-31   \n",
       "2087        0.207078  fed923af-f41e-42bc-8799-3a9f8a5f2129.Kinect 2018-10-18   \n",
       "2088        0.911047  ff015ddd-c9fb-49e3-8e33-abbf72e8b120.Kinect 2018-09-19   \n",
       "2090        0.877571  ff514cba-6c5e-41a9-9936-3e8400565c8d.Kinect 2018-10-09   \n",
       "2092        0.030129  ff63b8a9-deb5-4179-b424-fd07d04ca37f.Kinect 2018-06-13   \n",
       "\n",
       "         SCORE               WeakLinks  \n",
       "0     0.323667  RightShoulderElevation  \n",
       "1     0.323699     RightArmFallForward  \n",
       "2     0.848327      LeftArmFallForward  \n",
       "3     0.351332  RightShoulderElevation  \n",
       "4     0.627181             ForwardHead  \n",
       "...        ...                     ...  \n",
       "2086  0.665494     RightArmFallForward  \n",
       "2087  0.830883      LeftArmFallForward  \n",
       "2088  0.527640      LeftArmFallForward  \n",
       "2090  0.407197   RightKneeMovesOutward  \n",
       "2092  0.965930      LeftArmFallForward  \n",
       "\n",
       "[2091 rows x 46 columns]"
      ]
     },
     "execution_count": 10,
     "metadata": {},
     "output_type": "execute_result"
    }
   ],
   "source": [
    "result"
   ]
  },
  {
   "cell_type": "code",
   "execution_count": 11,
   "metadata": {},
   "outputs": [
    {
     "name": "stdout",
     "output_type": "stream",
     "text": [
      "No_1_Angle_Deviation\n",
      "No_2_Angle_Deviation\n",
      "No_3_Angle_Deviation\n",
      "No_4_Angle_Deviation\n",
      "No_5_Angle_Deviation\n",
      "No_6_Angle_Deviation\n",
      "No_7_Angle_Deviation\n",
      "No_8_Angle_Deviation\n",
      "No_9_Angle_Deviation\n",
      "No_10_Angle_Deviation\n",
      "No_11_Angle_Deviation\n",
      "No_12_Angle_Deviation\n",
      "No_13_Angle_Deviation\n",
      "No_1_NASM_Deviation\n",
      "No_2_NASM_Deviation\n",
      "No_3_NASM_Deviation\n",
      "No_4_NASM_Deviation\n",
      "No_5_NASM_Deviation\n",
      "No_6_NASM_Deviation\n",
      "No_7_NASM_Deviation\n",
      "No_8_NASM_Deviation\n",
      "No_9_NASM_Deviation\n",
      "No_10_NASM_Deviation\n",
      "No_11_NASM_Deviation\n",
      "No_12_NASM_Deviation\n",
      "No_13_NASM_Deviation\n",
      "No_14_NASM_Deviation\n",
      "No_15_NASM_Deviation\n",
      "No_16_NASM_Deviation\n",
      "No_17_NASM_Deviation\n",
      "No_18_NASM_Deviation\n",
      "No_19_NASM_Deviation\n",
      "No_20_NASM_Deviation\n",
      "No_21_NASM_Deviation\n",
      "No_22_NASM_Deviation\n",
      "No_23_NASM_Deviation\n",
      "No_24_NASM_Deviation\n",
      "No_25_NASM_Deviation\n",
      "No_1_Time_Deviation\n",
      "No_2_Time_Deviation\n",
      "WeakLinks\n"
     ]
    }
   ],
   "source": [
    "result = result.drop(\n",
    "    columns=[\n",
    "        \"AimoScore\",\n",
    "        \"ID\",\n",
    "        \"Date\",\n",
    "        \"EstimatedScore\",\n",
    "        \"SCORE\"\n",
    "    ]\n",
    ")\n",
    "\n",
    "\n",
    "\n",
    "for col in result.columns:\n",
    "    print(col)"
   ]
  },
  {
   "cell_type": "code",
   "execution_count": 12,
   "metadata": {},
   "outputs": [],
   "source": [
    "data = result.copy()"
   ]
  },
  {
   "cell_type": "markdown",
   "metadata": {},
   "source": [
    "## 1.2 Standardize the Data\n",
    "Since PCA yields a feature subspace that maximizes the variance along the axes, it makes sense to standardize the data, especially, if it was measured on different scales (i.e PCA is very sensitive to scales). "
   ]
  },
  {
   "cell_type": "code",
   "execution_count": 13,
   "metadata": {},
   "outputs": [],
   "source": [
    "from sklearn.preprocessing import StandardScaler\n",
    "\n",
    "X = data.drop(columns=[\"WeakLinks\"])\n",
    "y = data[\"WeakLinks\"]\n",
    "\n",
    "X = StandardScaler().fit_transform(X)"
   ]
  },
  {
   "cell_type": "markdown",
   "metadata": {},
   "source": [
    "## 1.3 PCA Projection (2 predictors)"
   ]
  },
  {
   "cell_type": "code",
   "execution_count": 14,
   "metadata": {},
   "outputs": [],
   "source": [
    "from sklearn.decomposition import PCA\n",
    "\n",
    "X = data.drop(columns=[\"WeakLinks\"])\n",
    "\n",
    "pca = PCA(n_components=2)\n",
    "X = pca.fit_transform(X)"
   ]
  },
  {
   "cell_type": "markdown",
   "metadata": {},
   "source": [
    "## 1.2 Split it into training and test sets"
   ]
  },
  {
   "cell_type": "code",
   "execution_count": 15,
   "metadata": {},
   "outputs": [],
   "source": [
    "from sklearn.model_selection import train_test_split\n",
    "\n",
    "y = data[\"WeakLinks\"]\n",
    "\n",
    "y_train, y_test, X_train, X_test  = train_test_split(y, X, train_size = trainingPercent, random_state=5)"
   ]
  },
  {
   "cell_type": "markdown",
   "metadata": {},
   "source": [
    "# 2. Create the Models"
   ]
  },
  {
   "cell_type": "markdown",
   "metadata": {},
   "source": [
    "## 2.1 Logistic Regression"
   ]
  },
  {
   "cell_type": "code",
   "execution_count": 16,
   "metadata": {},
   "outputs": [
    {
     "name": "stdout",
     "output_type": "stream",
     "text": [
      "Maximum accuracy:  0.46539379474940334 at C = 2\n"
     ]
    },
    {
     "data": {
      "image/png": "[encoded data removed]",
      "text/plain": [
       "<Figure size 720x432 with 1 Axes>"
      ]
     },
     "metadata": {},
     "output_type": "display_data"
    }
   ],
   "source": [
    "acc = []\n",
    "for i in range(1,40):\n",
    "    lr = LogisticRegression(solver='liblinear', C=i, random_state=0)\n",
    "    lr.fit(X_train, y_train)\n",
    "    yhat = lr.predict(X_test)\n",
    "    acc.append(accuracy_score(y_test, yhat))\n",
    "    \n",
    "plt.figure(figsize=(10,6))\n",
    "plt.plot(range(1,40),acc,color = 'blue',linestyle='dashed', \n",
    "         marker='o',markerfacecolor='red', markersize=10)\n",
    "plt.title('accuracy vs. C Value')\n",
    "plt.xlabel('C')\n",
    "plt.ylabel('Accuracy')\n",
    "print(\"Maximum accuracy: \",max(acc),\"at C =\",acc.index(max(acc)))"
   ]
  },
  {
   "cell_type": "code",
   "execution_count": 17,
   "metadata": {},
   "outputs": [
    {
     "name": "stdout",
     "output_type": "stream",
     "text": [
      "0.4630071599045346\n"
     ]
    }
   ],
   "source": [
    "# C=3\n",
    "lr = LogisticRegression(solver='liblinear', C=32, random_state=0)\n",
    "lr.fit(X_train, y_train)\n",
    "preds_lr = lr.predict(X_test)\n",
    "accuracy_lr = accuracy_score(preds_lr, y_test)\n",
    "print(accuracy_lr)"
   ]
  },
  {
   "cell_type": "code",
   "execution_count": 18,
   "metadata": {},
   "outputs": [
    {
     "name": "stdout",
     "output_type": "stream",
     "text": [
      "0.3684210526315789\n",
      "0.4213214855320119\n",
      "0.4880382775119617\n"
     ]
    }
   ],
   "source": [
    "lr_cv_scores = cross_val_score(lr, X, y, scoring='accuracy', cv = kfolds)\n",
    "\n",
    "print(lr_cv_scores.min())\n",
    "print(lr_cv_scores.mean())\n",
    "print(lr_cv_scores.max())"
   ]
  },
  {
   "cell_type": "code",
   "execution_count": 19,
   "metadata": {},
   "outputs": [
    {
     "data": {
      "text/plain": [
       "0.12119611104329427"
      ]
     },
     "execution_count": 19,
     "metadata": {},
     "output_type": "execute_result"
    }
   ],
   "source": [
    "arr_latency_lr = []\n",
    "\n",
    "for i in range(0, iterations):\n",
    "    start_time = time.time()\n",
    "    preds_lr = lr.predict(X_test)\n",
    "    end_time = time.time()\n",
    "    latency_lr = (end_time - start_time) * 1000\n",
    "    arr_latency_lr.append(latency_lr)\n",
    "    \n",
    "np.mean(arr_latency_lr)"
   ]
  },
  {
   "cell_type": "code",
   "execution_count": 20,
   "metadata": {},
   "outputs": [
    {
     "name": "stdout",
     "output_type": "stream",
     "text": [
      "Test score:\t0.4037852865697177\n",
      "Scoring time:\t0.5186319351196289\n"
     ]
    }
   ],
   "source": [
    "lr_cv_results = cross_validate(lr, X_train, y_train, scoring='accuracy', cv = kfolds)\n",
    "\n",
    "print('Test score:\\t' + str(lr_cv_results['test_score'].mean()))\n",
    "print('Scoring time:\\t' + str(lr_cv_results['score_time'].mean() * 1000))"
   ]
  },
  {
   "cell_type": "markdown",
   "metadata": {},
   "source": [
    "## 2.2 k-Nearest Neighbors (kNN)"
   ]
  },
  {
   "cell_type": "code",
   "execution_count": 21,
   "metadata": {},
   "outputs": [
    {
     "name": "stdout",
     "output_type": "stream",
     "text": [
      "Minimum error:- 0.5465393794749404 at K = 35\n"
     ]
    },
    {
     "data": {
      "image/png": "[encoded data removed]",
      "text/plain": [
       "<Figure size 720x432 with 1 Axes>"
      ]
     },
     "metadata": {},
     "output_type": "display_data"
    }
   ],
   "source": [
    "error_rate = []\n",
    "for i in range(1,40):\n",
    "    knn = neighbors.KNeighborsClassifier(n_neighbors=i)\n",
    "    knn.fit(X_train,y_train)\n",
    "    pred_i = knn.predict(X_test)\n",
    "    error_rate.append(np.mean(pred_i != y_test))\n",
    "\n",
    "plt.figure(figsize=(10,6))\n",
    "plt.plot(range(1,40),error_rate,color='blue', linestyle='dashed', \n",
    "         marker='o',markerfacecolor='red', markersize=10)\n",
    "plt.title('Error Rate vs. K Value')\n",
    "plt.xlabel('K')\n",
    "plt.ylabel('Error Rate')\n",
    "print(\"Minimum error:-\",min(error_rate),\"at K =\",error_rate.index(min(error_rate)))"
   ]
  },
  {
   "cell_type": "code",
   "execution_count": 22,
   "metadata": {},
   "outputs": [
    {
     "name": "stdout",
     "output_type": "stream",
     "text": [
      "Maximum accuracy:  0.45346062052505964 at K = 35\n"
     ]
    },
    {
     "data": {
      "image/png": "[encoded data removed]",
      "text/plain": [
       "<Figure size 720x432 with 1 Axes>"
      ]
     },
     "metadata": {},
     "output_type": "display_data"
    }
   ],
   "source": [
    "acc = []\n",
    "for i in range(1,40):\n",
    "    neigh = neighbors.KNeighborsClassifier(n_neighbors = i).fit(X_train,y_train)\n",
    "    yhat = neigh.predict(X_test)\n",
    "    acc.append(accuracy_score(y_test, yhat))\n",
    "    \n",
    "plt.figure(figsize=(10,6))\n",
    "plt.plot(range(1,40),acc,color = 'blue',linestyle='dashed', \n",
    "         marker='o',markerfacecolor='red', markersize=10)\n",
    "plt.title('accuracy vs. K Value')\n",
    "plt.xlabel('K')\n",
    "plt.ylabel('Accuracy')\n",
    "print(\"Maximum accuracy: \",max(acc),\"at K =\",acc.index(max(acc)))"
   ]
  },
  {
   "cell_type": "code",
   "execution_count": 23,
   "metadata": {},
   "outputs": [
    {
     "name": "stdout",
     "output_type": "stream",
     "text": [
      "0.4439140811455847\n"
     ]
    }
   ],
   "source": [
    "knn = neighbors.KNeighborsClassifier(n_neighbors=acc.index(max(acc)))\n",
    "knn.fit(X_train, y_train)\n",
    "preds_knn = knn.predict(X_test)\n",
    "accuracy_knn = accuracy_score(preds_knn, y_test)\n",
    "print(accuracy_knn)"
   ]
  },
  {
   "cell_type": "code",
   "execution_count": 24,
   "metadata": {},
   "outputs": [
    {
     "name": "stdout",
     "output_type": "stream",
     "text": [
      "0.35406698564593303\n",
      "0.42084757347915236\n",
      "0.45454545454545453\n"
     ]
    }
   ],
   "source": [
    "knn_cv_scores = cross_val_score(knn, X, y, scoring='accuracy', cv = kfolds)\n",
    "\n",
    "print(knn_cv_scores.min())\n",
    "print(knn_cv_scores.mean())\n",
    "print(knn_cv_scores.max())"
   ]
  },
  {
   "cell_type": "code",
   "execution_count": 25,
   "metadata": {},
   "outputs": [
    {
     "data": {
      "text/plain": [
       "11.087393760681152"
      ]
     },
     "execution_count": 25,
     "metadata": {},
     "output_type": "execute_result"
    }
   ],
   "source": [
    "arr_latency_knn = []\n",
    "\n",
    "for i in range(0, iterations):\n",
    "    start_time = time.time()\n",
    "    preds_knn = knn.predict(X_test)\n",
    "    end_time = time.time()\n",
    "    latency_knn = (end_time - start_time) * 1000\n",
    "    arr_latency_knn.append(latency_knn)\n",
    "    \n",
    "np.mean(arr_latency_knn)"
   ]
  },
  {
   "cell_type": "code",
   "execution_count": 26,
   "metadata": {},
   "outputs": [
    {
     "name": "stdout",
     "output_type": "stream",
     "text": [
      "Test score:\t0.42084757347915236\n",
      "Scoring time:\t6.195497512817383\n"
     ]
    }
   ],
   "source": [
    "knn_cv_results = cross_validate(knn, X, y, scoring='accuracy', cv = kfolds)\n",
    "\n",
    "print('Test score:\\t' + str(knn_cv_results['test_score'].mean()))\n",
    "print('Scoring time:\\t' + str(knn_cv_results['score_time'].mean() * 1000))"
   ]
  },
  {
   "cell_type": "markdown",
   "metadata": {},
   "source": [
    "## 2.3 LDA (Linear Discriminant Analysis)"
   ]
  },
  {
   "cell_type": "code",
   "execution_count": 27,
   "metadata": {},
   "outputs": [
    {
     "name": "stdout",
     "output_type": "stream",
     "text": [
      "0.4510739856801909\n"
     ]
    }
   ],
   "source": [
    "lda = LinearDiscriminantAnalysis()\n",
    "lda.fit(X_train, y_train)\n",
    "preds_lda = lda.predict(X_test)\n",
    "accuracy_lda = accuracy_score(preds_lda, y_test)\n",
    "print(accuracy_lda)"
   ]
  },
  {
   "cell_type": "code",
   "execution_count": 28,
   "metadata": {},
   "outputs": [
    {
     "name": "stdout",
     "output_type": "stream",
     "text": [
      "0.32057416267942584\n",
      "0.4088835725677831\n",
      "0.5119617224880383\n"
     ]
    }
   ],
   "source": [
    "lda_cv_scores = cross_val_score(lda, X, y, scoring='accuracy', cv = kfolds)\n",
    "\n",
    "print(lda_cv_scores.min())\n",
    "print(lda_cv_scores.mean())\n",
    "print(lda_cv_scores.max())"
   ]
  },
  {
   "cell_type": "code",
   "execution_count": 29,
   "metadata": {},
   "outputs": [
    {
     "data": {
      "text/plain": [
       "0.12867450714111328"
      ]
     },
     "execution_count": 29,
     "metadata": {},
     "output_type": "execute_result"
    }
   ],
   "source": [
    "arr_latency_lda = []\n",
    "\n",
    "for i in range(0, iterations):\n",
    "    start_time = time.time()\n",
    "    preds_lda = lda.predict(X_test)\n",
    "    end_time = time.time()\n",
    "    latency_lda = (end_time - start_time) * 1000\n",
    "    arr_latency_lda.append(latency_lda)\n",
    "    \n",
    "np.mean(arr_latency_lda)"
   ]
  },
  {
   "cell_type": "code",
   "execution_count": 30,
   "metadata": {},
   "outputs": [
    {
     "name": "stdout",
     "output_type": "stream",
     "text": [
      "Test score:\t0.4088835725677831\n",
      "Scoring time:\t0.4805326461791992\n"
     ]
    }
   ],
   "source": [
    "lda_cv_results = cross_validate(lda, X, y, scoring='accuracy', cv = kfolds)\n",
    "\n",
    "print('Test score:\\t' + str(lda_cv_results['test_score'].mean()))\n",
    "print('Scoring time:\\t' + str(lda_cv_results['score_time'].mean() * 1000))"
   ]
  },
  {
   "cell_type": "markdown",
   "metadata": {},
   "source": [
    "## 2.4 QDA (Quadratic Discriminant Analysis)"
   ]
  },
  {
   "cell_type": "code",
   "execution_count": 31,
   "metadata": {},
   "outputs": [
    {
     "name": "stdout",
     "output_type": "stream",
     "text": [
      "0.4510739856801909\n"
     ]
    }
   ],
   "source": [
    "qda = LinearDiscriminantAnalysis()\n",
    "qda.fit(X_train, y_train)\n",
    "preds_qda = qda.predict(X_test)\n",
    "accuracy_qda = accuracy_score(preds_qda, y_test)\n",
    "print(accuracy_qda)"
   ]
  },
  {
   "cell_type": "code",
   "execution_count": 32,
   "metadata": {},
   "outputs": [
    {
     "name": "stdout",
     "output_type": "stream",
     "text": [
      "0.32057416267942584\n",
      "0.4088835725677831\n",
      "0.5119617224880383\n"
     ]
    }
   ],
   "source": [
    "qda_cv_scores = cross_val_score(qda, X, y, scoring='accuracy', cv = kfolds)\n",
    "\n",
    "print(qda_cv_scores.min())\n",
    "print(qda_cv_scores.mean())\n",
    "print(qda_cv_scores.max())"
   ]
  },
  {
   "cell_type": "code",
   "execution_count": 33,
   "metadata": {},
   "outputs": [
    {
     "data": {
      "text/plain": [
       "0.17915566762288412"
      ]
     },
     "execution_count": 33,
     "metadata": {},
     "output_type": "execute_result"
    }
   ],
   "source": [
    "arr_latency_qda = []\n",
    "\n",
    "for i in range(0, iterations):\n",
    "    start_time = time.time()\n",
    "    preds_qda = qda.predict(X_test)\n",
    "    end_time = time.time()\n",
    "    latency_qda = (end_time - start_time) * 1000\n",
    "    arr_latency_qda.append(latency_qda)\n",
    "    \n",
    "np.mean(arr_latency_qda)"
   ]
  },
  {
   "cell_type": "code",
   "execution_count": 34,
   "metadata": {},
   "outputs": [
    {
     "name": "stdout",
     "output_type": "stream",
     "text": [
      "Test score:\t0.4088835725677831\n",
      "Scoring time:\t0.5388021469116211\n"
     ]
    }
   ],
   "source": [
    "qda_cv_results = cross_validate(qda, X, y, scoring='accuracy', cv = kfolds)\n",
    "\n",
    "print('Test score:\\t' + str(qda_cv_results['test_score'].mean()))\n",
    "print('Scoring time:\\t' + str(qda_cv_results['score_time'].mean() * 1000))"
   ]
  },
  {
   "cell_type": "markdown",
   "metadata": {},
   "source": [
    "## 2.5 Naive Bayes"
   ]
  },
  {
   "cell_type": "code",
   "execution_count": 35,
   "metadata": {},
   "outputs": [
    {
     "name": "stdout",
     "output_type": "stream",
     "text": [
      "0.4510739856801909\n"
     ]
    }
   ],
   "source": [
    "nb = GaussianNB()\n",
    "nb.fit(X_train, y_train)\n",
    "preds_nb = nb.predict(X_test)\n",
    "accuracy_nb = accuracy_score(preds_nb, y_test)\n",
    "print(accuracy_nb)"
   ]
  },
  {
   "cell_type": "code",
   "execution_count": 36,
   "metadata": {},
   "outputs": [
    {
     "name": "stdout",
     "output_type": "stream",
     "text": [
      "0.3492822966507177\n",
      "0.4179722032353611\n",
      "0.4784688995215311\n"
     ]
    }
   ],
   "source": [
    "nb_cv_scores = cross_val_score(nb, X, y, scoring='accuracy', cv = kfolds)\n",
    "\n",
    "print(nb_cv_scores.min())\n",
    "print(nb_cv_scores.mean())\n",
    "print(nb_cv_scores.max())"
   ]
  },
  {
   "cell_type": "code",
   "execution_count": 37,
   "metadata": {},
   "outputs": [
    {
     "data": {
      "text/plain": [
       "0.6700038909912109"
      ]
     },
     "execution_count": 37,
     "metadata": {},
     "output_type": "execute_result"
    }
   ],
   "source": [
    "arr_latency_nb = []\n",
    "\n",
    "for i in range(0, iterations):\n",
    "    start_time = time.time()\n",
    "    preds_nb = nb.predict(X_test)\n",
    "    end_time = time.time()\n",
    "    latency_nb = (end_time - start_time) * 1000\n",
    "    arr_latency_nb.append(latency_nb)\n",
    "    \n",
    "np.mean(arr_latency_nb)"
   ]
  },
  {
   "cell_type": "code",
   "execution_count": 38,
   "metadata": {},
   "outputs": [
    {
     "name": "stdout",
     "output_type": "stream",
     "text": [
      "Test score:\t0.4179722032353611\n",
      "Scoring time:\t0.9747743606567383\n"
     ]
    }
   ],
   "source": [
    "nb_cv_results = cross_validate(nb, X, y, scoring='accuracy', cv = kfolds)\n",
    "\n",
    "print('Test score:\\t' + str(nb_cv_results['test_score'].mean()))\n",
    "print('Scoring time:\\t' + str(nb_cv_results['score_time'].mean() * 1000))"
   ]
  },
  {
   "cell_type": "markdown",
   "metadata": {},
   "source": [
    "## 2.6 Tree-based Approaches"
   ]
  },
  {
   "cell_type": "markdown",
   "metadata": {},
   "source": [
    "### Decision Tree Classifier"
   ]
  },
  {
   "cell_type": "code",
   "execution_count": 39,
   "metadata": {},
   "outputs": [],
   "source": [
    "def run_cross_validation_on_trees(X, y, tree_depths, cv=10, scoring='accuracy'):\n",
    "    cv_scores_list = []\n",
    "    cv_scores_std = []\n",
    "    cv_scores_mean = []\n",
    "    accuracy_scores = []\n",
    "    for depth in tree_depths:\n",
    "        tree_model = DecisionTreeClassifier(max_depth=depth)\n",
    "        cv_scores = cross_val_score(tree_model, X, y, cv=cv, scoring=scoring)\n",
    "        cv_scores_list.append(cv_scores)\n",
    "        cv_scores_mean.append(cv_scores.mean())\n",
    "        cv_scores_std.append(cv_scores.std())\n",
    "        accuracy_scores.append(tree_model.fit(X, y).score(X, y))\n",
    "    cv_scores_mean = np.array(cv_scores_mean)\n",
    "    cv_scores_std = np.array(cv_scores_std)\n",
    "    accuracy_scores = np.array(accuracy_scores)\n",
    "    return cv_scores_mean, cv_scores_std, accuracy_scores\n",
    "  \n",
    "def plot_cross_validation_on_trees(depths, cv_scores_mean, cv_scores_std, accuracy_scores, title):\n",
    "    fig, ax = plt.subplots(1,1, figsize=(15,5))\n",
    "    ax.plot(depths, cv_scores_mean, '-o', label='mean cross-validation accuracy', alpha=0.9)\n",
    "    ax.fill_between(depths, cv_scores_mean-2*cv_scores_std, cv_scores_mean+2*cv_scores_std, alpha=0.2)\n",
    "    ylim = plt.ylim()\n",
    "    ax.plot(depths, accuracy_scores, '-*', label='train accuracy', alpha=0.9)\n",
    "    ax.set_title(title, fontsize=16)\n",
    "    ax.set_xlabel('Tree depth', fontsize=14)\n",
    "    ax.set_ylabel('Accuracy', fontsize=14)\n",
    "    ax.set_ylim(ylim)\n",
    "    ax.set_xticks(depths)\n",
    "    ax.legend()"
   ]
  },
  {
   "cell_type": "code",
   "execution_count": 40,
   "metadata": {},
   "outputs": [
    {
     "data": {
      "image/png": "[encoded data removed]",
      "text/plain": [
       "<Figure size 1080x360 with 1 Axes>"
      ]
     },
     "metadata": {},
     "output_type": "display_data"
    }
   ],
   "source": [
    "sm_tree_depths = range(1,25)\n",
    "sm_cv_scores_mean, sm_cv_scores_std, sm_accuracy_scores = run_cross_validation_on_trees(X_train, y_train, sm_tree_depths)\n",
    "\n",
    "plot_cross_validation_on_trees(sm_tree_depths, sm_cv_scores_mean, sm_cv_scores_std, sm_accuracy_scores, \n",
    "                               'Accuracy per decision tree depth on training data')"
   ]
  },
  {
   "cell_type": "code",
   "execution_count": 41,
   "metadata": {},
   "outputs": [
    {
     "name": "stdout",
     "output_type": "stream",
     "text": [
      "The depth-5 tree achieves the best mean cross-validation accuracy 40.31295 +/- 3.04348% on training dataset\n"
     ]
    }
   ],
   "source": [
    "idx_max = sm_cv_scores_mean.argmax()\n",
    "sm_best_tree_depth = sm_tree_depths[idx_max]\n",
    "sm_best_tree_cv_score = sm_cv_scores_mean[idx_max]\n",
    "sm_best_tree_cv_score_std = sm_cv_scores_std[idx_max]\n",
    "print('The depth-{} tree achieves the best mean cross-validation accuracy {} +/- {}% on training dataset'.format(\n",
    "      sm_best_tree_depth, round(sm_best_tree_cv_score*100,5), round(sm_best_tree_cv_score_std*100, 5)))"
   ]
  },
  {
   "cell_type": "code",
   "execution_count": 42,
   "metadata": {},
   "outputs": [
    {
     "name": "stdout",
     "output_type": "stream",
     "text": [
      "0.43675417661097854\n"
     ]
    }
   ],
   "source": [
    "dtc = DecisionTreeClassifier(max_depth=sm_best_tree_depth)\n",
    "dtc.fit(X_train, y_train)\n",
    "preds_dtc = dtc.predict(X_test)\n",
    "accuracy_dtc = accuracy_score(preds_dtc, y_test)\n",
    "print(accuracy_dtc)"
   ]
  },
  {
   "cell_type": "code",
   "execution_count": 43,
   "metadata": {},
   "outputs": [
    {
     "name": "stdout",
     "output_type": "stream",
     "text": [
      "0.3397129186602871\n",
      "0.40028024606971985\n",
      "0.4449760765550239\n"
     ]
    }
   ],
   "source": [
    "dtc_cv_scores = cross_val_score(dtc, X, y, scoring='accuracy', cv = kfolds)\n",
    "\n",
    "print(dtc_cv_scores.min())\n",
    "print(dtc_cv_scores.mean())\n",
    "print(dtc_cv_scores.max())"
   ]
  },
  {
   "cell_type": "code",
   "execution_count": 44,
   "metadata": {},
   "outputs": [
    {
     "data": {
      "text/plain": [
       "0.14763673146565756"
      ]
     },
     "execution_count": 44,
     "metadata": {},
     "output_type": "execute_result"
    }
   ],
   "source": [
    "arr_latency_dtc = []\n",
    "\n",
    "for i in range(0, iterations):\n",
    "    start_time = time.time()\n",
    "    preds_dtc = dtc.predict(X_test)\n",
    "    end_time = time.time()\n",
    "    latency_dtc = (end_time - start_time) * 1000\n",
    "    arr_latency_dtc.append(latency_dtc)\n",
    "    \n",
    "np.mean(arr_latency_dtc)"
   ]
  },
  {
   "cell_type": "code",
   "execution_count": 45,
   "metadata": {},
   "outputs": [
    {
     "name": "stdout",
     "output_type": "stream",
     "text": [
      "Test score:\t0.40123718386876284\n",
      "Scoring time:\t0.5248308181762695\n"
     ]
    }
   ],
   "source": [
    "dtc_cv_results = cross_validate(dtc, X, y, scoring='accuracy', cv = kfolds)\n",
    "\n",
    "print('Test score:\\t' + str(dtc_cv_results['test_score'].mean()))\n",
    "print('Scoring time:\\t' + str(dtc_cv_results['score_time'].mean() * 1000))"
   ]
  },
  {
   "cell_type": "markdown",
   "metadata": {},
   "source": [
    "### Random Forest Classifier"
   ]
  },
  {
   "cell_type": "code",
   "execution_count": 46,
   "metadata": {},
   "outputs": [],
   "source": [
    "def run_cross_validation_on_forest_trees(X, y, tree_depths, cv=10, scoring='accuracy'):\n",
    "    cv_scores_list = []\n",
    "    cv_scores_std = []\n",
    "    cv_scores_mean = []\n",
    "    accuracy_scores = []\n",
    "    for depth in tree_depths:\n",
    "        tree_model = RandomForestClassifier(bootstrap='False', max_depth=depth, n_estimators=200)\n",
    "        cv_scores = cross_val_score(tree_model, X, y, cv=cv, scoring=scoring)\n",
    "        cv_scores_list.append(cv_scores)\n",
    "        cv_scores_mean.append(cv_scores.mean())\n",
    "        cv_scores_std.append(cv_scores.std())\n",
    "        accuracy_scores.append(tree_model.fit(X, y).score(X, y))\n",
    "    cv_scores_mean = np.array(cv_scores_mean)\n",
    "    cv_scores_std = np.array(cv_scores_std)\n",
    "    accuracy_scores = np.array(accuracy_scores)\n",
    "    return cv_scores_mean, cv_scores_std, accuracy_scores\n",
    "  \n",
    "def plot_cross_validation_on_forest_trees(depths, cv_scores_mean, cv_scores_std, accuracy_scores, title):\n",
    "    fig, ax = plt.subplots(1,1, figsize=(15,5))\n",
    "    ax.plot(depths, cv_scores_mean, '-o', label='mean cross-validation accuracy', alpha=0.9)\n",
    "    ax.fill_between(depths, cv_scores_mean-2*cv_scores_std, cv_scores_mean+2*cv_scores_std, alpha=0.2)\n",
    "    ylim = plt.ylim()\n",
    "    ax.plot(depths, accuracy_scores, '-*', label='train accuracy', alpha=0.9)\n",
    "    ax.set_title(title, fontsize=16)\n",
    "    ax.set_xlabel('Tree depth', fontsize=14)\n",
    "    ax.set_ylabel('Accuracy', fontsize=14)\n",
    "    ax.set_ylim(ylim)\n",
    "    ax.set_xticks(depths)\n",
    "    ax.legend()"
   ]
  },
  {
   "cell_type": "code",
   "execution_count": 47,
   "metadata": {},
   "outputs": [
    {
     "data": {
      "image/png": "[encoded data removed]",
      "text/plain": [
       "<Figure size 1080x360 with 1 Axes>"
      ]
     },
     "metadata": {},
     "output_type": "display_data"
    }
   ],
   "source": [
    "sm_tree_depths = range(1,25)\n",
    "sm_cv_scores_mean, sm_cv_scores_std, sm_accuracy_scores = run_cross_validation_on_forest_trees(X_train, y_train, sm_tree_depths)\n",
    "\n",
    "plot_cross_validation_on_trees(sm_tree_depths, sm_cv_scores_mean, sm_cv_scores_std, sm_accuracy_scores,\n",
    "                               'Accuracy per decision tree depth on training data')"
   ]
  },
  {
   "cell_type": "code",
   "execution_count": 48,
   "metadata": {},
   "outputs": [
    {
     "name": "stdout",
     "output_type": "stream",
     "text": [
      "The depth-5 tree achieves the best mean cross-validation accuracy 41.08854 +/- 3.13319% on training dataset\n"
     ]
    }
   ],
   "source": [
    "idx_max = sm_cv_scores_mean.argmax()\n",
    "sm_best_tree_depth = sm_tree_depths[idx_max]\n",
    "sm_best_tree_cv_score = sm_cv_scores_mean[idx_max]\n",
    "sm_best_tree_cv_score_std = sm_cv_scores_std[idx_max]\n",
    "print('The depth-{} tree achieves the best mean cross-validation accuracy {} +/- {}% on training dataset'.format(\n",
    "      sm_best_tree_depth, round(sm_best_tree_cv_score*100,5), round(sm_best_tree_cv_score_std*100, 5)))"
   ]
  },
  {
   "cell_type": "code",
   "execution_count": 49,
   "metadata": {},
   "outputs": [
    {
     "name": "stdout",
     "output_type": "stream",
     "text": [
      "0.4630071599045346\n"
     ]
    }
   ],
   "source": [
    "rfc = RandomForestClassifier(bootstrap='False', max_depth=sm_best_tree_depth, n_estimators=200)\n",
    "rfc.fit(X_train, y_train)\n",
    "preds_rfc = rfc.predict(X_test)\n",
    "accuracy_rfc = accuracy_score(preds_rfc, y_test)\n",
    "print(accuracy_rfc)"
   ]
  },
  {
   "cell_type": "code",
   "execution_count": 50,
   "metadata": {},
   "outputs": [
    {
     "name": "stdout",
     "output_type": "stream",
     "text": [
      "0.3684210526315789\n",
      "0.426598313966735\n",
      "0.4784688995215311\n"
     ]
    }
   ],
   "source": [
    "rfc_cv_scores = cross_val_score(rfc, X, y, scoring='accuracy', cv = kfolds)\n",
    "\n",
    "print(rfc_cv_scores.min())\n",
    "print(rfc_cv_scores.mean())\n",
    "print(rfc_cv_scores.max())"
   ]
  },
  {
   "cell_type": "code",
   "execution_count": 51,
   "metadata": {},
   "outputs": [
    {
     "data": {
      "text/plain": [
       "23.231911659240723"
      ]
     },
     "execution_count": 51,
     "metadata": {},
     "output_type": "execute_result"
    }
   ],
   "source": [
    "arr_latency_rfc = []\n",
    "\n",
    "for i in range(0, iterations):\n",
    "    start_time = time.time()\n",
    "    preds_rfc = rfc.predict(X_test)\n",
    "    end_time = time.time()\n",
    "    latency_rfc = (end_time - start_time) * 1000\n",
    "    arr_latency_rfc.append(latency_rfc)\n",
    "    \n",
    "np.mean(arr_latency_rfc)"
   ]
  },
  {
   "cell_type": "code",
   "execution_count": 52,
   "metadata": {},
   "outputs": [
    {
     "name": "stdout",
     "output_type": "stream",
     "text": [
      "Test score:\t0.4313784461152882\n",
      "Scoring time:\t18.902921676635742\n"
     ]
    }
   ],
   "source": [
    "rfc_cv_results = cross_validate(rfc, X, y, scoring='accuracy', cv = kfolds)\n",
    "\n",
    "print('Test score:\\t' + str(rfc_cv_results['test_score'].mean()))\n",
    "print('Scoring time:\\t' + str(rfc_cv_results['score_time'].mean() * 1000))"
   ]
  },
  {
   "cell_type": "markdown",
   "metadata": {},
   "source": [
    "## 2.7 Support Vector Machines (SVM)"
   ]
  },
  {
   "cell_type": "markdown",
   "metadata": {},
   "source": [
    "### Linear kernel"
   ]
  },
  {
   "cell_type": "code",
   "execution_count": 53,
   "metadata": {},
   "outputs": [
    {
     "name": "stdout",
     "output_type": "stream",
     "text": [
      "{'C': 0.1}\n"
     ]
    }
   ],
   "source": [
    "params = {\n",
    "    'C': [0.001, 0.01, 0.1, 1, 5, 10, 25, 50]\n",
    "}\n",
    "\n",
    "cv_svm_linear_first = GridSearchCV(SVC(kernel='linear'), params, cv=10)\n",
    "cv_svm_linear_first.fit(X_train, y_train)\n",
    "\n",
    "print(cv_svm_linear_first.best_params_)\n",
    "c = cv_svm_linear_first.best_params_['C']"
   ]
  },
  {
   "cell_type": "code",
   "execution_count": 54,
   "metadata": {},
   "outputs": [
    {
     "name": "stdout",
     "output_type": "stream",
     "text": [
      "{'C': 0.1}\n"
     ]
    }
   ],
   "source": [
    "# Testing a more narrow range\n",
    "\n",
    "params = {\n",
    "    'C': [c - 1, c - 0.5, c, c + 0.5, c + 1]\n",
    "}\n",
    "\n",
    "cv_svm_linear_second = GridSearchCV(SVC(kernel='linear'), params, cv=10)\n",
    "cv_svm_linear_second.fit(X_train, y_train)\n",
    "\n",
    "print(cv_svm_linear_second.best_params_)\n",
    "c = cv_svm_linear_second.best_params_['C']"
   ]
  },
  {
   "cell_type": "code",
   "execution_count": 55,
   "metadata": {},
   "outputs": [
    {
     "name": "stdout",
     "output_type": "stream",
     "text": [
      "0.43675417661097854\n"
     ]
    }
   ],
   "source": [
    "svm_linear = SVC(C=c, kernel='linear')\n",
    "svm_linear.fit(X_train, y_train)\n",
    "preds_svm_linear = svm_linear.predict(X_test)\n",
    "accuracy_svm_linear = accuracy_score(preds_svm_linear, y_test)\n",
    "print(accuracy_svm_linear)"
   ]
  },
  {
   "cell_type": "code",
   "execution_count": 56,
   "metadata": {},
   "outputs": [
    {
     "name": "stdout",
     "output_type": "stream",
     "text": [
      "0.3444976076555024\n",
      "0.41079516974253816\n",
      "0.47368421052631576\n"
     ]
    }
   ],
   "source": [
    "svm_linear_cv_scores = cross_val_score(svm_linear, X, y, scoring='accuracy', cv = kfolds)\n",
    "\n",
    "print(svm_linear_cv_scores.min())\n",
    "print(svm_linear_cv_scores.mean())\n",
    "print(svm_linear_cv_scores.max())"
   ]
  },
  {
   "cell_type": "code",
   "execution_count": 57,
   "metadata": {},
   "outputs": [
    {
     "data": {
      "text/plain": [
       "18.41615041097005"
      ]
     },
     "execution_count": 57,
     "metadata": {},
     "output_type": "execute_result"
    }
   ],
   "source": [
    "arr_latency_svm_linear = []\n",
    "\n",
    "for i in range(0, iterations):\n",
    "    start_time = time.time()\n",
    "    preds_svm_linear = svm_linear.predict(X_test)\n",
    "    end_time = time.time()\n",
    "    latency_svm_linear = (end_time - start_time) * 1000\n",
    "    arr_latency_svm_linear.append(latency_svm_linear)\n",
    "    \n",
    "np.mean(arr_latency_svm_linear)"
   ]
  },
  {
   "cell_type": "code",
   "execution_count": 58,
   "metadata": {},
   "outputs": [
    {
     "name": "stdout",
     "output_type": "stream",
     "text": [
      "Test score:\t0.41079516974253816\n",
      "Scoring time:\t10.886311531066895\n"
     ]
    }
   ],
   "source": [
    "svm_linear_cv_results = cross_validate(svm_linear, X, y, scoring='accuracy', cv = kfolds)\n",
    "\n",
    "print('Test score:\\t' + str(svm_linear_cv_results['test_score'].mean()))\n",
    "print('Scoring time:\\t' + str(svm_linear_cv_results['score_time'].mean() * 1000))"
   ]
  },
  {
   "cell_type": "markdown",
   "metadata": {},
   "source": [
    "### Radial Kernel"
   ]
  },
  {
   "cell_type": "code",
   "execution_count": 59,
   "metadata": {},
   "outputs": [
    {
     "name": "stdout",
     "output_type": "stream",
     "text": [
      "{'C': 10, 'gamma': 5}\n"
     ]
    }
   ],
   "source": [
    "params = {\n",
    "    'C': [0.1, 1, 3, 5, 10, 20, 30],\n",
    "    'gamma': [00.1, 0.1, 1, 5]\n",
    "}\n",
    "\n",
    "cv_svm_radial_first = GridSearchCV(SVC(kernel='rbf'), params, cv=10)\n",
    "cv_svm_radial_first.fit(X_train, y_train)\n",
    "c = cv_svm_radial_first.best_params_['C']\n",
    "gamma = cv_svm_radial_first.best_params_['gamma']\n",
    "print(cv_svm_radial_first.best_params_)"
   ]
  },
  {
   "cell_type": "code",
   "execution_count": 60,
   "metadata": {},
   "outputs": [
    {
     "name": "stdout",
     "output_type": "stream",
     "text": [
      "{'C': 10, 'gamma': 5}\n"
     ]
    }
   ],
   "source": [
    "# Testing a more narrow range\n",
    "\n",
    "params = {\n",
    "    'C': [c - 1, c - 0.5, c, c + 0.5, c + 1],\n",
    "    'gamma': [gamma - 1, gamma - 0.5, gamma, gamma + 0.5, gamma + 1]\n",
    "}\n",
    "\n",
    "cv_svm_radial_second = GridSearchCV(SVC(kernel='rbf'), params, cv=10)\n",
    "cv_svm_radial_second.fit(X_train, y_train)\n",
    "c = cv_svm_radial_second.best_params_['C']\n",
    "gamma = cv_svm_radial_second.best_params_['gamma']\n",
    "print(cv_svm_radial_first.best_params_)"
   ]
  },
  {
   "cell_type": "code",
   "execution_count": 61,
   "metadata": {},
   "outputs": [
    {
     "name": "stdout",
     "output_type": "stream",
     "text": [
      "0.4486873508353222\n"
     ]
    }
   ],
   "source": [
    "svm_radial = SVC(C=c, kernel='rbf',gamma=gamma)\n",
    "svm_radial.fit(X_train, y_train)\n",
    "preds_svm_radial = svm_radial.predict(X_test)\n",
    "accuracy_svm_radial = accuracy_score(preds_svm_radial, y_test)\n",
    "print(accuracy_svm_radial)"
   ]
  },
  {
   "cell_type": "code",
   "execution_count": 62,
   "metadata": {},
   "outputs": [
    {
     "name": "stdout",
     "output_type": "stream",
     "text": [
      "0.36363636363636365\n",
      "0.4237183868762816\n",
      "0.46411483253588515\n"
     ]
    }
   ],
   "source": [
    "svm_radial_cv_scores = cross_val_score(svm_radial, X, y, scoring='accuracy', cv = kfolds)\n",
    "\n",
    "print(svm_radial_cv_scores.min())\n",
    "print(svm_radial_cv_scores.mean())\n",
    "print(svm_radial_cv_scores.max())"
   ]
  },
  {
   "cell_type": "code",
   "execution_count": 63,
   "metadata": {},
   "outputs": [
    {
     "data": {
      "text/plain": [
       "63.339646657307945"
      ]
     },
     "execution_count": 63,
     "metadata": {},
     "output_type": "execute_result"
    }
   ],
   "source": [
    "arr_latency_svm_radial = []\n",
    "\n",
    "for i in range(0, iterations):\n",
    "    start_time = time.time()\n",
    "    preds_svm_radial = svm_radial.predict(X_test)\n",
    "    end_time = time.time()\n",
    "    latency_svm_radial = (end_time - start_time) * 1000\n",
    "    arr_latency_svm_radial.append(latency_svm_radial)\n",
    "    \n",
    "np.mean(arr_latency_svm_radial)"
   ]
  },
  {
   "cell_type": "code",
   "execution_count": 64,
   "metadata": {},
   "outputs": [
    {
     "name": "stdout",
     "output_type": "stream",
     "text": [
      "Test score:\t0.4237183868762816\n",
      "Scoring time:\t34.17494297027588\n"
     ]
    }
   ],
   "source": [
    "svm_radial_cv_results = cross_validate(svm_radial, X, y, scoring='accuracy', cv = kfolds)\n",
    "\n",
    "print('Test score:\\t' + str(svm_radial_cv_results['test_score'].mean()))\n",
    "print('Scoring time:\\t' + str(svm_radial_cv_results['score_time'].mean() * 1000))"
   ]
  },
  {
   "cell_type": "markdown",
   "metadata": {},
   "source": [
    "### Polynomial Kernel"
   ]
  },
  {
   "cell_type": "code",
   "execution_count": null,
   "metadata": {},
   "outputs": [],
   "source": [
    "params = {\n",
    "    'C': [0.1, 1, 5, 10],\n",
    "    'gamma': [0.01, 0.1, 1, 5],\n",
    "    'degree':[2, 3, 4]\n",
    "}\n",
    "\n",
    "cv_svm_polynomial_first = GridSearchCV(SVC(kernel='poly'), params, cv=10)\n",
    "cv_svm_polynomial_first.fit(X_train, y_train)\n",
    "c = cv_svm_polynomial_first.best_params_['C']\n",
    "gamma = cv_svm_polynomial_first.best_params_['gamma']\n",
    "degree = cv_svm_polynomial_first.best_params_['degree']\n",
    "print(cv_svm_polynomial_first.best_params_)"
   ]
  },
  {
   "cell_type": "code",
   "execution_count": null,
   "metadata": {},
   "outputs": [],
   "source": [
    "# Testing a more narrow range\n",
    "\n",
    "params = {\n",
    "    'C': [c - 1, c - 0.5, c, c + 0.5, c + 1],\n",
    "    'gamma': [gamma - 1, gamma - 0.5, gamma, gamma + 0.5, gamma + 1],\n",
    "    'degree': [degree - 1, degree - 0.5, degree, degree + 0.5, degree + 1]\n",
    "}\n",
    "\n",
    "cv_svm_polynomial_second = GridSearchCV(SVC(kernel='poly'), params, cv=10)\n",
    "cv_svm_polynomial_second.fit(X_train, y_train)\n",
    "c = cv_svm_polynomial_second.best_params_['C']\n",
    "gamma = cv_svm_polynomial_second.best_params_['gamma']\n",
    "degree = cv_svm_polynomial_second.best_params_['degree']\n",
    "print(cv_svm_polynomial_second.best_params_)"
   ]
  },
  {
   "cell_type": "code",
   "execution_count": null,
   "metadata": {},
   "outputs": [],
   "source": [
    "svm_polynomial = SVC(C=c, kernel='poly', degree=degree, gamma = gamma)\n",
    "svm_polynomial.fit(X_train, y_train)\n",
    "preds_svm_polynomial = svm_polynomial.predict(X_test)\n",
    "accuracy_svm_polynomial = accuracy_score(preds_svm_polynomial, y_test)\n",
    "print(accuracy_svm_polynomial)"
   ]
  },
  {
   "cell_type": "code",
   "execution_count": null,
   "metadata": {},
   "outputs": [],
   "source": [
    "svm_polynomial_cv_scores = cross_val_score(svm_polynomial, X, y, scoring='accuracy', cv = kfolds)\n",
    "\n",
    "print(svm_polynomial_cv_scores.min())\n",
    "print(svm_polynomial_cv_scores.mean())\n",
    "print(svm_polynomial_cv_scores.max())"
   ]
  },
  {
   "cell_type": "code",
   "execution_count": null,
   "metadata": {},
   "outputs": [],
   "source": [
    "arr_latency_svm_polynomial = []\n",
    "\n",
    "for i in range(0, iterations):\n",
    "    start_time = time.time()\n",
    "    preds_svm_polynomial = svm_polynomial.predict(X_test)\n",
    "    end_time = time.time()\n",
    "    latency_svm_polynomial = (end_time - start_time) * 1000\n",
    "    arr_latency_svm_polynomial.append(latency_svm_polynomial)\n",
    "    \n",
    "np.mean(arr_latency_svm_polynomial)"
   ]
  },
  {
   "cell_type": "code",
   "execution_count": null,
   "metadata": {},
   "outputs": [],
   "source": [
    "svm_polynomial_cv_results = cross_validate(svm_polynomial, X, y, scoring='accuracy', cv = kfolds)\n",
    "\n",
    "print('Test score:\\t' + str(svm_polynomial_cv_results['test_score'].mean()))\n",
    "print('Scoring time:\\t' + str(svm_polynomial_cv_results['score_time'].mean() * 1000))"
   ]
  },
  {
   "cell_type": "markdown",
   "metadata": {},
   "source": [
    "# Assessing Model Performances\n",
    "\n",
    "## Model Accuracies"
   ]
  },
  {
   "cell_type": "code",
   "execution_count": null,
   "metadata": {},
   "outputs": [],
   "source": [
    "results = pd.DataFrame({\n",
    "    \"Accuracy\":[\n",
    "        accuracy_lr,\n",
    "        accuracy_knn,\n",
    "        accuracy_lda,\n",
    "        accuracy_qda,\n",
    "        accuracy_nb,\n",
    "        accuracy_dtc,\n",
    "        accuracy_rfc,\n",
    "        accuracy_svm_linear,\n",
    "        accuracy_svm_radial,\n",
    "        accuracy_svm_polynomial\n",
    "        \n",
    "    ],\n",
    "    \"Models\":[\n",
    "        \"LR\",\n",
    "        \"kNN\",\n",
    "        \"LDA\",\n",
    "        \"QDA\",\n",
    "        \"NB\",\n",
    "        \"DTC\",\n",
    "        \"RFC\",\n",
    "        \"SVM Linear\",\n",
    "        \"SVM Radial\",\n",
    "        \"SVM Poly\"\n",
    "    ]\n",
    "})\n",
    "\n",
    "results = results.sort_values(\"Accuracy\", ascending=False)\n",
    "\n",
    "# Set up the matplotlib figure\n",
    "fig, ax = plt.subplots(figsize=(16,8))\n",
    "\n",
    "cplot = sns.barplot(data=results, x=\"Models\", y=\"Accuracy\",ax=ax, palette=\"dark:salmon_r\")\n",
    "\n",
    "for p in cplot.patches:\n",
    "    cplot.annotate(format(p.get_height(), '.3f'), \n",
    "                   (p.get_x() + p.get_width() / 2., p.get_height()), \n",
    "                   ha = 'center', va = 'center', \n",
    "                   xytext = (0, 9), \n",
    "                   textcoords = 'offset points')\n",
    "\n",
    "# Add labels to plot\n",
    "plt.xlabel(\"Models\")\n",
    "plt.ylabel(\"Accuracy (Higher is better)\")\n",
    "\n",
    "plt.show()"
   ]
  },
  {
   "cell_type": "code",
   "execution_count": null,
   "metadata": {},
   "outputs": [],
   "source": [
    "results = pd.DataFrame({\n",
    "    \"Accuracy\":[\n",
    "        lr_cv_scores.mean(),\n",
    "        knn_cv_scores.mean(),\n",
    "        lda_cv_scores.mean(),\n",
    "        qda_cv_scores.mean(),\n",
    "        nb_cv_scores.mean(),\n",
    "        dtc_cv_scores.mean(),\n",
    "        rfc_cv_scores.mean(),\n",
    "        svm_linear_cv_scores.mean(),\n",
    "        svm_radial_cv_scores.mean(),\n",
    "        svm_polynomial_cv_scores.mean()\n",
    "    ],\n",
    "    \"Models\":[\n",
    "        \"LR\",\n",
    "        \"kNN\",\n",
    "        \"LDA\",\n",
    "        \"QDA\",\n",
    "        \"NB\",\n",
    "        \"DTC\",\n",
    "        \"RFC\",\n",
    "        \"SVM Linear\",\n",
    "        \"SVM Radial\",\n",
    "        \"SVM Poly\"\n",
    "    ]\n",
    "})\n",
    "\n",
    "results = results.sort_values(\"Accuracy\", ascending=False)\n",
    "\n",
    "# Set up the matplotlib figure\n",
    "fig, ax = plt.subplots(figsize=(16,8))\n",
    "\n",
    "cplot = sns.barplot(data=results, x=\"Models\", y=\"Accuracy\",ax=ax, palette=\"dark:salmon_r\")\n",
    "\n",
    "for p in cplot.patches:\n",
    "    cplot.annotate(format(p.get_height(), '.3f'), \n",
    "                   (p.get_x() + p.get_width() / 2., p.get_height()), \n",
    "                   ha = 'center', va = 'center', \n",
    "                   xytext = (0, 9), \n",
    "                   textcoords = 'offset points')\n",
    "\n",
    "# Add labels to plot\n",
    "plt.xlabel(\"Models\")\n",
    "plt.ylabel(\"Accuracy (CV Mean - Higher is better)\")\n",
    "\n",
    "plt.show()"
   ]
  },
  {
   "cell_type": "code",
   "execution_count": null,
   "metadata": {},
   "outputs": [],
   "source": [
    "results = pd.DataFrame({\n",
    "    \"Accuracy\":[\n",
    "        lr_cv_scores.max(),\n",
    "        knn_cv_scores.max(),\n",
    "        lda_cv_scores.max(),\n",
    "        qda_cv_scores.max(),\n",
    "        nb_cv_scores.max(),\n",
    "        dtc_cv_scores.max(),\n",
    "        rfc_cv_scores.max(),\n",
    "        svm_linear_cv_scores.max(),\n",
    "        svm_radial_cv_scores.max(),\n",
    "        svm_polynomial_cv_scores.max()\n",
    "    ],\n",
    "    \"Models\":[\n",
    "        \"LR\",\n",
    "        \"kNN\",\n",
    "        \"LDA\",\n",
    "        \"QDA\",\n",
    "        \"NB\",\n",
    "        \"DTC\",\n",
    "        \"RFC\",\n",
    "        \"SVM Linear\",\n",
    "        \"SVM Radial\",\n",
    "        \"SVM Poly\"\n",
    "    ]\n",
    "})\n",
    "\n",
    "results = results.sort_values(\"Accuracy\", ascending=False)\n",
    "\n",
    "# Set up the matplotlib figure\n",
    "fig, ax = plt.subplots(figsize=(16,8))\n",
    "\n",
    "cplot = sns.barplot(data=results, x=\"Models\", y=\"Accuracy\",ax=ax, palette=\"dark:salmon_r\")\n",
    "\n",
    "for p in cplot.patches:\n",
    "    cplot.annotate(format(p.get_height(), '.3f'), \n",
    "                   (p.get_x() + p.get_width() / 2., p.get_height()), \n",
    "                   ha = 'center', va = 'center', \n",
    "                   xytext = (0, 9), \n",
    "                   textcoords = 'offset points')\n",
    "\n",
    "# Add labels to plot\n",
    "plt.xlabel(\"Models\")\n",
    "plt.ylabel(\"Accuracy (CV Max -Higher is better)\")\n",
    "\n",
    "plt.show()"
   ]
  },
  {
   "cell_type": "markdown",
   "metadata": {},
   "source": [
    "## Model Response Time"
   ]
  },
  {
   "cell_type": "code",
   "execution_count": null,
   "metadata": {},
   "outputs": [],
   "source": [
    "results = pd.DataFrame({\n",
    "    \"Runtime\":[\n",
    "        lr_cv_results['score_time'].mean() * 1000,\n",
    "        knn_cv_results['score_time'].mean() * 1000,\n",
    "        lda_cv_results['score_time'].mean() * 1000,\n",
    "        qda_cv_results['score_time'].mean() * 1000,\n",
    "        nb_cv_results['score_time'].mean() * 1000,\n",
    "        dtc_cv_results['score_time'].mean() * 1000,\n",
    "        rfc_cv_results['score_time'].mean() * 1000,\n",
    "        svm_linear_cv_results['score_time'].mean() * 1000,\n",
    "        svm_radial_cv_results['score_time'].mean() * 1000,\n",
    "        svm_polynomial_cv_results['score_time'].mean() * 1000\n",
    "    ],\n",
    "    \"Models\":[\n",
    "        \"LR\",\n",
    "        \"kNN\",\n",
    "        \"LDA\",\n",
    "        \"QDA\",\n",
    "        \"NB\",\n",
    "        \"DTC\",\n",
    "        \"RFC\",\n",
    "        \"SVM Linear\",\n",
    "        \"SVM Radial\",\n",
    "        \"SVM Poly\"\n",
    "    ]\n",
    "})\n",
    "\n",
    "results = results.sort_values(\"Runtime\", ascending=False)\n",
    "\n",
    "# Set up the matplotlib figure\n",
    "fig, ax = plt.subplots(figsize=(16,8))\n",
    "\n",
    "cplot = sns.barplot(data=results, x=\"Models\", y=\"Runtime\",ax=ax)\n",
    "\n",
    "for p in cplot.patches:\n",
    "    cplot.annotate(format(p.get_height(), '.3f'), \n",
    "                   (p.get_x() + p.get_width() / 2., p.get_height()), \n",
    "                   ha = 'center', va = 'center', \n",
    "                   xytext = (0, 9), \n",
    "                   textcoords = 'offset points')\n",
    "\n",
    "# Add labels to plot\n",
    "plt.xlabel(\"Models\")\n",
    "plt.ylabel(\"Runtime (ms)\")\n",
    "\n",
    "plt.show()"
   ]
  },
  {
   "cell_type": "markdown",
   "metadata": {},
   "source": [
    "## Model Response Time (remove outlier)"
   ]
  },
  {
   "cell_type": "code",
   "execution_count": null,
   "metadata": {},
   "outputs": [],
   "source": [
    "def removeOutliers(x, outlierConstant = 1.5):\n",
    "    a = np.array(x)\n",
    "    upper_quartile = np.percentile(a, 75)\n",
    "    lower_quartile = np.percentile(a, 25)\n",
    "    IQR = (upper_quartile - lower_quartile) * outlierConstant\n",
    "    quartileSet = (lower_quartile - IQR, upper_quartile + IQR)\n",
    "    \n",
    "    result = a[np.where((a >= quartileSet[0]) & (a <= quartileSet[1]))]\n",
    "    \n",
    "    return result.tolist()"
   ]
  },
  {
   "cell_type": "code",
   "execution_count": null,
   "metadata": {},
   "outputs": [],
   "source": [
    "arr_latency_lr_n = removeOutliers(arr_latency_lr)\n",
    "arr_latency_knn_n = removeOutliers(arr_latency_knn)\n",
    "arr_latency_lda_n = removeOutliers(arr_latency_lda)\n",
    "arr_latency_qda_n = removeOutliers(arr_latency_qda)\n",
    "arr_latency_nb_n = removeOutliers(arr_latency_nb)\n",
    "arr_latency_dtc_n = removeOutliers(arr_latency_dtc)\n",
    "arr_latency_rfc_n = removeOutliers(arr_latency_rfc)\n",
    "arr_latency_svm_linear_n = removeOutliers(arr_latency_svm_linear)\n",
    "arr_latency_svm_radial_n = removeOutliers(arr_latency_svm_radial)\n",
    "arr_latency_svm_polynomial_n = removeOutliers(arr_latency_svm_polynomial)"
   ]
  },
  {
   "cell_type": "code",
   "execution_count": null,
   "metadata": {},
   "outputs": [],
   "source": [
    "results = pd.DataFrame({\n",
    "    \"Runtime\":[\n",
    "        np.mean(arr_latency_lr_n),\n",
    "        np.mean(arr_latency_knn_n),\n",
    "        np.mean(arr_latency_lda_n),\n",
    "        np.mean(arr_latency_qda_n),\n",
    "        np.mean(arr_latency_nb_n),\n",
    "        np.mean(arr_latency_dtc_n),\n",
    "        np.mean(arr_latency_rfc_n),\n",
    "        np.mean(arr_latency_svm_linear_n),\n",
    "        np.mean(arr_latency_svm_radial_n),\n",
    "        np.mean(arr_latency_svm_polynomial_n)\n",
    "    ],\n",
    "    \"Models\":[\n",
    "        \"LR\",\n",
    "        \"kNN\",\n",
    "        \"LDA\",\n",
    "        \"QDA\",\n",
    "        \"NB\",\n",
    "        \"DTC\",\n",
    "        \"RFC\",\n",
    "        \"SVM Linear\",\n",
    "        \"SVM Radial\",\n",
    "        \"SVM Poly\"\n",
    "    ]\n",
    "})\n",
    "\n",
    "results = results.sort_values(\"Runtime\", ascending=False)\n",
    "\n",
    "# Set up the matplotlib figure\n",
    "fig, ax = plt.subplots(figsize=(16,8))\n",
    "\n",
    "cplot = sns.barplot(data=results, x=\"Models\", y=\"Runtime\",ax=ax)\n",
    "\n",
    "for p in cplot.patches:\n",
    "    cplot.annotate(format(p.get_height(), '.3f'), \n",
    "                   (p.get_x() + p.get_width() / 2., p.get_height()), \n",
    "                   ha = 'center', va = 'center', \n",
    "                   xytext = (0, 9), \n",
    "                   textcoords = 'offset points')\n",
    "\n",
    "# Add labels to plot\n",
    "plt.xlabel(\"Models\")\n",
    "plt.ylabel(\"Runtime (ms)\")\n",
    "\n",
    "plt.show()"
   ]
  }
 ],
 "metadata": {
  "kernelspec": {
   "display_name": "Python 3",
   "language": "python",
   "name": "python3"
  },
  "language_info": {
   "codemirror_mode": {
    "name": "ipython",
    "version": 3
   },
   "file_extension": ".py",
   "mimetype": "text/x-python",
   "name": "python",
   "nbconvert_exporter": "python",
   "pygments_lexer": "ipython3",
   "version": "3.9.2"
  }
 },
 "nbformat": 4,
 "nbformat_minor": 2
}
