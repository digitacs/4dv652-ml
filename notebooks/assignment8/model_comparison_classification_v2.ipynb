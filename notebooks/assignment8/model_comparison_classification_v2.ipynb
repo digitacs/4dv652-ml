{
 "cells": [
  {
   "cell_type": "markdown",
   "metadata": {},
   "source": [
    "# Clustering Models Comparisson with PCA (2 predictors)"
   ]
  },
  {
   "cell_type": "markdown",
   "metadata": {},
   "source": [
    "Assessing model accuracy (10-Fold Cross-Validation) and Response time\n",
    "\n",
    "- Logistic Regression\n",
    "- k-Nearest Neighbors\n",
    "- LDA (Linear Discriminant Analysis)\n",
    "- QDA (Quadratic Discriminant Analysis)\n",
    "- Naive Bayes\n",
    "- Tree-based Approaches\n",
    "- Support Vector Machines (SVM)"
   ]
  },
  {
   "cell_type": "code",
   "execution_count": 1,
   "metadata": {},
   "outputs": [],
   "source": [
    "import pandas as pd\n",
    "\n",
    "from sklearn.linear_model import LogisticRegression\n",
    "from sklearn.model_selection import cross_val_score, KFold, cross_validate\n",
    "import matplotlib.pyplot as plt\n",
    "from sklearn.metrics import accuracy_score\n",
    "from sklearn import neighbors\n",
    "import numpy as np\n",
    "import seaborn as sns\n",
    "\n",
    "\n",
    "from sklearn.discriminant_analysis import LinearDiscriminantAnalysis, QuadraticDiscriminantAnalysis\n",
    "\n",
    "from sklearn.naive_bayes import GaussianNB\n",
    "\n",
    "from sklearn.tree import DecisionTreeClassifier\n",
    "from sklearn.metrics import mean_squared_error\n",
    "from sklearn.ensemble import RandomForestClassifier\n",
    "\n",
    "from sklearn.model_selection import GridSearchCV\n",
    "from sklearn.svm import SVC\n",
    "\n",
    "import time"
   ]
  },
  {
   "cell_type": "code",
   "execution_count": 2,
   "metadata": {},
   "outputs": [],
   "source": [
    "import warnings\n",
    "\n",
    "# Set Seaborn theme\n",
    "sns.set_theme(color_codes=True)\n",
    "\n",
    "# Disable warnings\n",
    "warnings.simplefilter(\"ignore\")"
   ]
  },
  {
   "cell_type": "code",
   "execution_count": 3,
   "metadata": {},
   "outputs": [],
   "source": [
    "kfolds = KFold(n_splits = 10, shuffle = True, random_state = 1)\n",
    "trainingPercent = 0.8\n",
    "iterations = 30"
   ]
  },
  {
   "cell_type": "markdown",
   "metadata": {},
   "source": [
    "# 1. Data Preparation\n",
    "\n",
    "## 1.1 Load the data"
   ]
  },
  {
   "cell_type": "code",
   "execution_count": 4,
   "metadata": {},
   "outputs": [],
   "source": [
    "try:\n",
    "    data = pd.read_csv('../../datasets/AimoScoreWeakLinks.csv')\n",
    "    data = data.drop(columns=['Unnamed: 0', 'AimoScore'])\n",
    "except IOError as e:\n",
    "    print(e)"
   ]
  },
  {
   "cell_type": "markdown",
   "metadata": {},
   "source": [
    "## 1.2 Standardize the Data\n",
    "Since PCA yields a feature subspace that maximizes the variance along the axes, it makes sense to standardize the data, especially, if it was measured on different scales (i.e PCA is very sensitive to scales). "
   ]
  },
  {
   "cell_type": "code",
   "execution_count": 5,
   "metadata": {},
   "outputs": [],
   "source": [
    "from sklearn.preprocessing import StandardScaler\n",
    "\n",
    "X = data.drop(columns=[\"WeakLinks\"])\n",
    "y = data[\"WeakLinks\"]\n",
    "\n",
    "X = StandardScaler().fit_transform(X)"
   ]
  },
  {
   "cell_type": "markdown",
   "metadata": {},
   "source": [
    "## 1.3 PCA Projection (2 predictors)"
   ]
  },
  {
   "cell_type": "code",
   "execution_count": 9,
   "metadata": {},
   "outputs": [],
   "source": [
    "from sklearn.decomposition import PCA\n",
    "\n",
    "X = data.drop(columns=[\"WeakLinks\"])\n",
    "\n",
    "pca = PCA(n_components=2)\n",
    "X = pca.fit_transform(X)"
   ]
  },
  {
   "cell_type": "markdown",
   "metadata": {},
   "source": [
    "## 1.2 Split it into training and test sets"
   ]
  },
  {
   "cell_type": "code",
   "execution_count": 10,
   "metadata": {},
   "outputs": [],
   "source": [
    "from sklearn.model_selection import train_test_split\n",
    "\n",
    "y = data[\"WeakLinks\"]\n",
    "\n",
    "y_train, y_test, X_train, X_test  = train_test_split(y, X, train_size = trainingPercent, random_state=5)"
   ]
  },
  {
   "cell_type": "markdown",
   "metadata": {},
   "source": [
    "# 2. Create the Models"
   ]
  },
  {
   "cell_type": "markdown",
   "metadata": {},
   "source": [
    "## 2.1 Logistic Regression"
   ]
  },
  {
   "cell_type": "code",
   "execution_count": 12,
   "metadata": {},
   "outputs": [
    {
     "name": "stdout",
     "output_type": "stream",
     "text": [
      "Maximum accuracy:  0.44364508393285373 at C = 32\n"
     ]
    },
    {
     "data": {
      "image/png": "[encoded data removed]",
      "text/plain": [
       "<Figure size 720x432 with 1 Axes>"
      ]
     },
     "metadata": {},
     "output_type": "display_data"
    }
   ],
   "source": [
    "acc = []\n",
    "for i in range(1,40):\n",
    "    lr = LogisticRegression(solver='liblinear', C=i, random_state=0)\n",
    "    lr.fit(X_train, y_train)\n",
    "    yhat = lr.predict(X_test)\n",
    "    acc.append(accuracy_score(y_test, yhat))\n",
    "    \n",
    "plt.figure(figsize=(10,6))\n",
    "plt.plot(range(1,40),acc,color = 'blue',linestyle='dashed', \n",
    "         marker='o',markerfacecolor='red', markersize=10)\n",
    "plt.title('accuracy vs. C Value')\n",
    "plt.xlabel('C')\n",
    "plt.ylabel('Accuracy')\n",
    "print(\"Maximum accuracy: \",max(acc),\"at C =\",acc.index(max(acc)))"
   ]
  },
  {
   "cell_type": "code",
   "execution_count": 13,
   "metadata": {},
   "outputs": [
    {
     "name": "stdout",
     "output_type": "stream",
     "text": [
      "0.4412470023980815\n"
     ]
    }
   ],
   "source": [
    "# C=3\n",
    "lr = LogisticRegression(solver='liblinear', C=32, random_state=0)\n",
    "lr.fit(X_train, y_train)\n",
    "preds_lr = lr.predict(X_test)\n",
    "accuracy_lr = accuracy_score(preds_lr, y_test)\n",
    "print(accuracy_lr)"
   ]
  },
  {
   "cell_type": "code",
   "execution_count": 14,
   "metadata": {},
   "outputs": [
    {
     "name": "stdout",
     "output_type": "stream",
     "text": [
      "0.40384615384615385\n",
      "0.4292694147957306\n",
      "0.46153846153846156\n"
     ]
    }
   ],
   "source": [
    "lr_cv_scores = cross_val_score(lr, X, y, scoring='accuracy', cv = kfolds)\n",
    "\n",
    "print(lr_cv_scores.min())\n",
    "print(lr_cv_scores.mean())\n",
    "print(lr_cv_scores.max())"
   ]
  },
  {
   "cell_type": "code",
   "execution_count": 15,
   "metadata": {},
   "outputs": [
    {
     "data": {
      "text/plain": [
       "0.2195437749226888"
      ]
     },
     "execution_count": 15,
     "metadata": {},
     "output_type": "execute_result"
    }
   ],
   "source": [
    "arr_latency_lr = []\n",
    "\n",
    "for i in range(0, iterations):\n",
    "    start_time = time.time()\n",
    "    preds_lr = lr.predict(X_test)\n",
    "    end_time = time.time()\n",
    "    latency_lr = (end_time - start_time) * 1000\n",
    "    arr_latency_lr.append(latency_lr)\n",
    "    \n",
    "np.mean(arr_latency_lr)"
   ]
  },
  {
   "cell_type": "code",
   "execution_count": 16,
   "metadata": {},
   "outputs": [
    {
     "name": "stdout",
     "output_type": "stream",
     "text": [
      "Test score:\t0.4274835870427819\n",
      "Scoring time:\t0.5564451217651367\n"
     ]
    }
   ],
   "source": [
    "lr_cv_results = cross_validate(lr, X_train, y_train, scoring='accuracy', cv = kfolds)\n",
    "\n",
    "print('Test score:\\t' + str(lr_cv_results['test_score'].mean()))\n",
    "print('Scoring time:\\t' + str(lr_cv_results['score_time'].mean() * 1000))"
   ]
  },
  {
   "cell_type": "markdown",
   "metadata": {},
   "source": [
    "## 2.2 k-Nearest Neighbors (kNN)"
   ]
  },
  {
   "cell_type": "code",
   "execution_count": 17,
   "metadata": {},
   "outputs": [
    {
     "name": "stdout",
     "output_type": "stream",
     "text": [
      "Minimum error:- 0.5275779376498801 at K = 29\n"
     ]
    },
    {
     "data": {
      "image/png": "[encoded data removed]",
      "text/plain": [
       "<Figure size 720x432 with 1 Axes>"
      ]
     },
     "metadata": {},
     "output_type": "display_data"
    }
   ],
   "source": [
    "error_rate = []\n",
    "for i in range(1,40):\n",
    "    knn = neighbors.KNeighborsClassifier(n_neighbors=i)\n",
    "    knn.fit(X_train,y_train)\n",
    "    pred_i = knn.predict(X_test)\n",
    "    error_rate.append(np.mean(pred_i != y_test))\n",
    "\n",
    "plt.figure(figsize=(10,6))\n",
    "plt.plot(range(1,40),error_rate,color='blue', linestyle='dashed', \n",
    "         marker='o',markerfacecolor='red', markersize=10)\n",
    "plt.title('Error Rate vs. K Value')\n",
    "plt.xlabel('K')\n",
    "plt.ylabel('Error Rate')\n",
    "print(\"Minimum error:-\",min(error_rate),\"at K =\",error_rate.index(min(error_rate)))"
   ]
  },
  {
   "cell_type": "code",
   "execution_count": 18,
   "metadata": {},
   "outputs": [
    {
     "name": "stdout",
     "output_type": "stream",
     "text": [
      "Maximum accuracy:  0.4724220623501199 at K = 29\n"
     ]
    },
    {
     "data": {
      "image/png": "[encoded data removed]",
      "text/plain": [
       "<Figure size 720x432 with 1 Axes>"
      ]
     },
     "metadata": {},
     "output_type": "display_data"
    }
   ],
   "source": [
    "acc = []\n",
    "for i in range(1,40):\n",
    "    neigh = neighbors.KNeighborsClassifier(n_neighbors = i).fit(X_train,y_train)\n",
    "    yhat = neigh.predict(X_test)\n",
    "    acc.append(accuracy_score(y_test, yhat))\n",
    "    \n",
    "plt.figure(figsize=(10,6))\n",
    "plt.plot(range(1,40),acc,color = 'blue',linestyle='dashed', \n",
    "         marker='o',markerfacecolor='red', markersize=10)\n",
    "plt.title('accuracy vs. K Value')\n",
    "plt.xlabel('K')\n",
    "plt.ylabel('Accuracy')\n",
    "print(\"Maximum accuracy: \",max(acc),\"at K =\",acc.index(max(acc)))"
   ]
  },
  {
   "cell_type": "code",
   "execution_count": 19,
   "metadata": {},
   "outputs": [
    {
     "name": "stdout",
     "output_type": "stream",
     "text": [
      "0.460431654676259\n"
     ]
    }
   ],
   "source": [
    "knn = neighbors.KNeighborsClassifier(n_neighbors=29)\n",
    "knn.fit(X_train, y_train)\n",
    "preds_knn = knn.predict(X_test)\n",
    "accuracy_knn = accuracy_score(preds_knn, y_test)\n",
    "print(accuracy_knn)"
   ]
  },
  {
   "cell_type": "code",
   "execution_count": 20,
   "metadata": {},
   "outputs": [
    {
     "name": "stdout",
     "output_type": "stream",
     "text": [
      "0.3942307692307692\n",
      "0.4417165071770334\n",
      "0.49282296650717705\n"
     ]
    }
   ],
   "source": [
    "knn_cv_scores = cross_val_score(knn, X, y, scoring='accuracy', cv = kfolds)\n",
    "\n",
    "print(knn_cv_scores.min())\n",
    "print(knn_cv_scores.mean())\n",
    "print(knn_cv_scores.max())"
   ]
  },
  {
   "cell_type": "code",
   "execution_count": 21,
   "metadata": {},
   "outputs": [
    {
     "data": {
      "text/plain": [
       "14.107847213745117"
      ]
     },
     "execution_count": 21,
     "metadata": {},
     "output_type": "execute_result"
    }
   ],
   "source": [
    "arr_latency_knn = []\n",
    "\n",
    "for i in range(0, iterations):\n",
    "    start_time = time.time()\n",
    "    preds_knn = knn.predict(X_test)\n",
    "    end_time = time.time()\n",
    "    latency_knn = (end_time - start_time) * 1000\n",
    "    arr_latency_knn.append(latency_knn)\n",
    "    \n",
    "np.mean(arr_latency_knn)"
   ]
  },
  {
   "cell_type": "code",
   "execution_count": 22,
   "metadata": {},
   "outputs": [
    {
     "name": "stdout",
     "output_type": "stream",
     "text": [
      "Test score:\t0.4417165071770334\n",
      "Scoring time:\t7.937812805175781\n"
     ]
    }
   ],
   "source": [
    "knn_cv_results = cross_validate(knn, X, y, scoring='accuracy', cv = kfolds)\n",
    "\n",
    "print('Test score:\\t' + str(knn_cv_results['test_score'].mean()))\n",
    "print('Scoring time:\\t' + str(knn_cv_results['score_time'].mean() * 1000))"
   ]
  },
  {
   "cell_type": "markdown",
   "metadata": {},
   "source": [
    "## 2.3 LDA (Linear Discriminant Analysis)"
   ]
  },
  {
   "cell_type": "code",
   "execution_count": 23,
   "metadata": {},
   "outputs": [
    {
     "name": "stdout",
     "output_type": "stream",
     "text": [
      "0.4316546762589928\n"
     ]
    }
   ],
   "source": [
    "lda = LinearDiscriminantAnalysis()\n",
    "lda.fit(X_train, y_train)\n",
    "preds_lda = lda.predict(X_test)\n",
    "accuracy_lda = accuracy_score(preds_lda, y_test)\n",
    "print(accuracy_lda)"
   ]
  },
  {
   "cell_type": "code",
   "execution_count": 24,
   "metadata": {},
   "outputs": [
    {
     "name": "stdout",
     "output_type": "stream",
     "text": [
      "0.3827751196172249\n",
      "0.4259155318365845\n",
      "0.45933014354066987\n"
     ]
    }
   ],
   "source": [
    "lda_cv_scores = cross_val_score(lda, X, y, scoring='accuracy', cv = kfolds)\n",
    "\n",
    "print(lda_cv_scores.min())\n",
    "print(lda_cv_scores.mean())\n",
    "print(lda_cv_scores.max())"
   ]
  },
  {
   "cell_type": "code",
   "execution_count": 25,
   "metadata": {},
   "outputs": [
    {
     "data": {
      "text/plain": [
       "0.1495838165283203"
      ]
     },
     "execution_count": 25,
     "metadata": {},
     "output_type": "execute_result"
    }
   ],
   "source": [
    "arr_latency_lda = []\n",
    "\n",
    "for i in range(0, iterations):\n",
    "    start_time = time.time()\n",
    "    preds_lda = lda.predict(X_test)\n",
    "    end_time = time.time()\n",
    "    latency_lda = (end_time - start_time) * 1000\n",
    "    arr_latency_lda.append(latency_lda)\n",
    "    \n",
    "np.mean(arr_latency_lda)"
   ]
  },
  {
   "cell_type": "code",
   "execution_count": 26,
   "metadata": {},
   "outputs": [
    {
     "name": "stdout",
     "output_type": "stream",
     "text": [
      "Test score:\t0.4259155318365845\n",
      "Scoring time:\t0.5482196807861328\n"
     ]
    }
   ],
   "source": [
    "lda_cv_results = cross_validate(lda, X, y, scoring='accuracy', cv = kfolds)\n",
    "\n",
    "print('Test score:\\t' + str(lda_cv_results['test_score'].mean()))\n",
    "print('Scoring time:\\t' + str(lda_cv_results['score_time'].mean() * 1000))"
   ]
  },
  {
   "cell_type": "markdown",
   "metadata": {},
   "source": [
    "## 2.4 QDA (Quadratic Discriminant Analysis)"
   ]
  },
  {
   "cell_type": "code",
   "execution_count": 27,
   "metadata": {},
   "outputs": [
    {
     "name": "stdout",
     "output_type": "stream",
     "text": [
      "0.4316546762589928\n"
     ]
    }
   ],
   "source": [
    "qda = LinearDiscriminantAnalysis()\n",
    "qda.fit(X_train, y_train)\n",
    "preds_qda = qda.predict(X_test)\n",
    "accuracy_qda = accuracy_score(preds_qda, y_test)\n",
    "print(accuracy_qda)"
   ]
  },
  {
   "cell_type": "code",
   "execution_count": 28,
   "metadata": {},
   "outputs": [
    {
     "name": "stdout",
     "output_type": "stream",
     "text": [
      "0.3827751196172249\n",
      "0.4259155318365845\n",
      "0.45933014354066987\n"
     ]
    }
   ],
   "source": [
    "qda_cv_scores = cross_val_score(qda, X, y, scoring='accuracy', cv = kfolds)\n",
    "\n",
    "print(qda_cv_scores.min())\n",
    "print(qda_cv_scores.mean())\n",
    "print(qda_cv_scores.max())"
   ]
  },
  {
   "cell_type": "code",
   "execution_count": 29,
   "metadata": {},
   "outputs": [
    {
     "data": {
      "text/plain": [
       "0.12782414754231772"
      ]
     },
     "execution_count": 29,
     "metadata": {},
     "output_type": "execute_result"
    }
   ],
   "source": [
    "arr_latency_qda = []\n",
    "\n",
    "for i in range(0, iterations):\n",
    "    start_time = time.time()\n",
    "    preds_qda = qda.predict(X_test)\n",
    "    end_time = time.time()\n",
    "    latency_qda = (end_time - start_time) * 1000\n",
    "    arr_latency_qda.append(latency_qda)\n",
    "    \n",
    "np.mean(arr_latency_qda)"
   ]
  },
  {
   "cell_type": "code",
   "execution_count": 30,
   "metadata": {},
   "outputs": [
    {
     "name": "stdout",
     "output_type": "stream",
     "text": [
      "Test score:\t0.4259155318365845\n",
      "Scoring time:\t1.594376564025879\n"
     ]
    }
   ],
   "source": [
    "qda_cv_results = cross_validate(qda, X, y, scoring='accuracy', cv = kfolds)\n",
    "\n",
    "print('Test score:\\t' + str(qda_cv_results['test_score'].mean()))\n",
    "print('Scoring time:\\t' + str(qda_cv_results['score_time'].mean() * 1000))"
   ]
  },
  {
   "cell_type": "markdown",
   "metadata": {},
   "source": [
    "## 2.5 Naive Bayes"
   ]
  },
  {
   "cell_type": "code",
   "execution_count": 31,
   "metadata": {},
   "outputs": [
    {
     "name": "stdout",
     "output_type": "stream",
     "text": [
      "0.44364508393285373\n"
     ]
    }
   ],
   "source": [
    "nb = GaussianNB()\n",
    "nb.fit(X_train, y_train)\n",
    "preds_nb = nb.predict(X_test)\n",
    "accuracy_nb = accuracy_score(preds_nb, y_test)\n",
    "print(accuracy_nb)"
   ]
  },
  {
   "cell_type": "code",
   "execution_count": 32,
   "metadata": {},
   "outputs": [
    {
     "name": "stdout",
     "output_type": "stream",
     "text": [
      "0.4019138755980861\n",
      "0.4403064041221936\n",
      "0.4807692307692308\n"
     ]
    }
   ],
   "source": [
    "nb_cv_scores = cross_val_score(nb, X, y, scoring='accuracy', cv = kfolds)\n",
    "\n",
    "print(nb_cv_scores.min())\n",
    "print(nb_cv_scores.mean())\n",
    "print(nb_cv_scores.max())"
   ]
  },
  {
   "cell_type": "code",
   "execution_count": 33,
   "metadata": {},
   "outputs": [
    {
     "data": {
      "text/plain": [
       "0.84686279296875"
      ]
     },
     "execution_count": 33,
     "metadata": {},
     "output_type": "execute_result"
    }
   ],
   "source": [
    "arr_latency_nb = []\n",
    "\n",
    "for i in range(0, iterations):\n",
    "    start_time = time.time()\n",
    "    preds_nb = nb.predict(X_test)\n",
    "    end_time = time.time()\n",
    "    latency_nb = (end_time - start_time) * 1000\n",
    "    arr_latency_nb.append(latency_nb)\n",
    "    \n",
    "np.mean(arr_latency_nb)"
   ]
  },
  {
   "cell_type": "code",
   "execution_count": 34,
   "metadata": {},
   "outputs": [
    {
     "name": "stdout",
     "output_type": "stream",
     "text": [
      "Test score:\t0.4403064041221936\n",
      "Scoring time:\t0.9757757186889648\n"
     ]
    }
   ],
   "source": [
    "nb_cv_results = cross_validate(nb, X, y, scoring='accuracy', cv = kfolds)\n",
    "\n",
    "print('Test score:\\t' + str(nb_cv_results['test_score'].mean()))\n",
    "print('Scoring time:\\t' + str(nb_cv_results['score_time'].mean() * 1000))"
   ]
  },
  {
   "cell_type": "markdown",
   "metadata": {},
   "source": [
    "## 2.6 Tree-based Approaches"
   ]
  },
  {
   "cell_type": "markdown",
   "metadata": {},
   "source": [
    "### Decision Tree Classifier"
   ]
  },
  {
   "cell_type": "code",
   "execution_count": 35,
   "metadata": {},
   "outputs": [],
   "source": [
    "def run_cross_validation_on_trees(X, y, tree_depths, cv=10, scoring='accuracy'):\n",
    "    cv_scores_list = []\n",
    "    cv_scores_std = []\n",
    "    cv_scores_mean = []\n",
    "    accuracy_scores = []\n",
    "    for depth in tree_depths:\n",
    "        tree_model = DecisionTreeClassifier(max_depth=depth)\n",
    "        cv_scores = cross_val_score(tree_model, X, y, cv=cv, scoring=scoring)\n",
    "        cv_scores_list.append(cv_scores)\n",
    "        cv_scores_mean.append(cv_scores.mean())\n",
    "        cv_scores_std.append(cv_scores.std())\n",
    "        accuracy_scores.append(tree_model.fit(X, y).score(X, y))\n",
    "    cv_scores_mean = np.array(cv_scores_mean)\n",
    "    cv_scores_std = np.array(cv_scores_std)\n",
    "    accuracy_scores = np.array(accuracy_scores)\n",
    "    return cv_scores_mean, cv_scores_std, accuracy_scores\n",
    "  \n",
    "def plot_cross_validation_on_trees(depths, cv_scores_mean, cv_scores_std, accuracy_scores, title):\n",
    "    fig, ax = plt.subplots(1,1, figsize=(15,5))\n",
    "    ax.plot(depths, cv_scores_mean, '-o', label='mean cross-validation accuracy', alpha=0.9)\n",
    "    ax.fill_between(depths, cv_scores_mean-2*cv_scores_std, cv_scores_mean+2*cv_scores_std, alpha=0.2)\n",
    "    ylim = plt.ylim()\n",
    "    ax.plot(depths, accuracy_scores, '-*', label='train accuracy', alpha=0.9)\n",
    "    ax.set_title(title, fontsize=16)\n",
    "    ax.set_xlabel('Tree depth', fontsize=14)\n",
    "    ax.set_ylabel('Accuracy', fontsize=14)\n",
    "    ax.set_ylim(ylim)\n",
    "    ax.set_xticks(depths)\n",
    "    ax.legend()"
   ]
  },
  {
   "cell_type": "code",
   "execution_count": 36,
   "metadata": {},
   "outputs": [
    {
     "data": {
      "image/png": "[encoded data removed]",
      "text/plain": [
       "<Figure size 1080x360 with 1 Axes>"
      ]
     },
     "metadata": {},
     "output_type": "display_data"
    }
   ],
   "source": [
    "sm_tree_depths = range(1,25)\n",
    "sm_cv_scores_mean, sm_cv_scores_std, sm_accuracy_scores = run_cross_validation_on_trees(X_train, y_train, sm_tree_depths)\n",
    "\n",
    "plot_cross_validation_on_trees(sm_tree_depths, sm_cv_scores_mean, sm_cv_scores_std, sm_accuracy_scores, \n",
    "                               'Accuracy per decision tree depth on training data')"
   ]
  },
  {
   "cell_type": "code",
   "execution_count": 37,
   "metadata": {},
   "outputs": [
    {
     "name": "stdout",
     "output_type": "stream",
     "text": [
      "The depth-4 tree achieves the best mean cross-validation accuracy 43.64296 +/- 2.12857% on training dataset\n"
     ]
    }
   ],
   "source": [
    "idx_max = sm_cv_scores_mean.argmax()\n",
    "sm_best_tree_depth = sm_tree_depths[idx_max]\n",
    "sm_best_tree_cv_score = sm_cv_scores_mean[idx_max]\n",
    "sm_best_tree_cv_score_std = sm_cv_scores_std[idx_max]\n",
    "print('The depth-{} tree achieves the best mean cross-validation accuracy {} +/- {}% on training dataset'.format(\n",
    "      sm_best_tree_depth, round(sm_best_tree_cv_score*100,5), round(sm_best_tree_cv_score_std*100, 5)))"
   ]
  },
  {
   "cell_type": "code",
   "execution_count": 41,
   "metadata": {},
   "outputs": [
    {
     "name": "stdout",
     "output_type": "stream",
     "text": [
      "0.4628297362110312\n"
     ]
    }
   ],
   "source": [
    "dtc = DecisionTreeClassifier(max_depth=4)\n",
    "dtc.fit(X_train, y_train)\n",
    "preds_dtc = dtc.predict(X_test)\n",
    "accuracy_dtc = accuracy_score(preds_dtc, y_test)\n",
    "print(accuracy_dtc)"
   ]
  },
  {
   "cell_type": "code",
   "execution_count": 42,
   "metadata": {},
   "outputs": [
    {
     "name": "stdout",
     "output_type": "stream",
     "text": [
      "0.39712918660287083\n",
      "0.43982563489142434\n",
      "0.47596153846153844\n"
     ]
    }
   ],
   "source": [
    "dtc_cv_scores = cross_val_score(dtc, X, y, scoring='accuracy', cv = kfolds)\n",
    "\n",
    "print(dtc_cv_scores.min())\n",
    "print(dtc_cv_scores.mean())\n",
    "print(dtc_cv_scores.max())"
   ]
  },
  {
   "cell_type": "code",
   "execution_count": 43,
   "metadata": {},
   "outputs": [
    {
     "data": {
      "text/plain": [
       "0.16883214314778647"
      ]
     },
     "execution_count": 43,
     "metadata": {},
     "output_type": "execute_result"
    }
   ],
   "source": [
    "arr_latency_dtc = []\n",
    "\n",
    "for i in range(0, iterations):\n",
    "    start_time = time.time()\n",
    "    preds_dtc = dtc.predict(X_test)\n",
    "    end_time = time.time()\n",
    "    latency_dtc = (end_time - start_time) * 1000\n",
    "    arr_latency_dtc.append(latency_dtc)\n",
    "    \n",
    "np.mean(arr_latency_dtc)"
   ]
  },
  {
   "cell_type": "code",
   "execution_count": 44,
   "metadata": {},
   "outputs": [
    {
     "name": "stdout",
     "output_type": "stream",
     "text": [
      "Test score:\t0.43982563489142434\n",
      "Scoring time:\t0.7686138153076172\n"
     ]
    }
   ],
   "source": [
    "dtc_cv_results = cross_validate(dtc, X, y, scoring='accuracy', cv = kfolds)\n",
    "\n",
    "print('Test score:\\t' + str(dtc_cv_results['test_score'].mean()))\n",
    "print('Scoring time:\\t' + str(dtc_cv_results['score_time'].mean() * 1000))"
   ]
  },
  {
   "cell_type": "markdown",
   "metadata": {},
   "source": [
    "### Random Forest Classifier"
   ]
  },
  {
   "cell_type": "code",
   "execution_count": 45,
   "metadata": {},
   "outputs": [],
   "source": [
    "def run_cross_validation_on_forest_trees(X, y, tree_depths, cv=10, scoring='accuracy'):\n",
    "    cv_scores_list = []\n",
    "    cv_scores_std = []\n",
    "    cv_scores_mean = []\n",
    "    accuracy_scores = []\n",
    "    for depth in tree_depths:\n",
    "        tree_model = RandomForestClassifier(bootstrap='False', max_depth=depth, n_estimators=200)\n",
    "        cv_scores = cross_val_score(tree_model, X, y, cv=cv, scoring=scoring)\n",
    "        cv_scores_list.append(cv_scores)\n",
    "        cv_scores_mean.append(cv_scores.mean())\n",
    "        cv_scores_std.append(cv_scores.std())\n",
    "        accuracy_scores.append(tree_model.fit(X, y).score(X, y))\n",
    "    cv_scores_mean = np.array(cv_scores_mean)\n",
    "    cv_scores_std = np.array(cv_scores_std)\n",
    "    accuracy_scores = np.array(accuracy_scores)\n",
    "    return cv_scores_mean, cv_scores_std, accuracy_scores\n",
    "  \n",
    "def plot_cross_validation_on_forest_trees(depths, cv_scores_mean, cv_scores_std, accuracy_scores, title):\n",
    "    fig, ax = plt.subplots(1,1, figsize=(15,5))\n",
    "    ax.plot(depths, cv_scores_mean, '-o', label='mean cross-validation accuracy', alpha=0.9)\n",
    "    ax.fill_between(depths, cv_scores_mean-2*cv_scores_std, cv_scores_mean+2*cv_scores_std, alpha=0.2)\n",
    "    ylim = plt.ylim()\n",
    "    ax.plot(depths, accuracy_scores, '-*', label='train accuracy', alpha=0.9)\n",
    "    ax.set_title(title, fontsize=16)\n",
    "    ax.set_xlabel('Tree depth', fontsize=14)\n",
    "    ax.set_ylabel('Accuracy', fontsize=14)\n",
    "    ax.set_ylim(ylim)\n",
    "    ax.set_xticks(depths)\n",
    "    ax.legend()"
   ]
  },
  {
   "cell_type": "code",
   "execution_count": 46,
   "metadata": {},
   "outputs": [
    {
     "data": {
      "image/png": "[encoded data removed]",
      "text/plain": [
       "<Figure size 1080x360 with 1 Axes>"
      ]
     },
     "metadata": {},
     "output_type": "display_data"
    }
   ],
   "source": [
    "sm_tree_depths = range(1,25)\n",
    "sm_cv_scores_mean, sm_cv_scores_std, sm_accuracy_scores = run_cross_validation_on_forest_trees(X_train, y_train, sm_tree_depths)\n",
    "\n",
    "plot_cross_validation_on_trees(sm_tree_depths, sm_cv_scores_mean, sm_cv_scores_std, sm_accuracy_scores,\n",
    "                               'Accuracy per decision tree depth on training data')"
   ]
  },
  {
   "cell_type": "code",
   "execution_count": 47,
   "metadata": {},
   "outputs": [
    {
     "name": "stdout",
     "output_type": "stream",
     "text": [
      "The depth-5 tree achieves the best mean cross-validation accuracy 43.46476 +/- 2.87054% on training dataset\n"
     ]
    }
   ],
   "source": [
    "idx_max = sm_cv_scores_mean.argmax()\n",
    "sm_best_tree_depth = sm_tree_depths[idx_max]\n",
    "sm_best_tree_cv_score = sm_cv_scores_mean[idx_max]\n",
    "sm_best_tree_cv_score_std = sm_cv_scores_std[idx_max]\n",
    "print('The depth-{} tree achieves the best mean cross-validation accuracy {} +/- {}% on training dataset'.format(\n",
    "      sm_best_tree_depth, round(sm_best_tree_cv_score*100,5), round(sm_best_tree_cv_score_std*100, 5)))"
   ]
  },
  {
   "cell_type": "code",
   "execution_count": 48,
   "metadata": {},
   "outputs": [
    {
     "name": "stdout",
     "output_type": "stream",
     "text": [
      "0.4628297362110312\n"
     ]
    }
   ],
   "source": [
    "rfc = RandomForestClassifier(bootstrap='False', max_depth=5, n_estimators=200)\n",
    "rfc.fit(X_train, y_train)\n",
    "preds_rfc = rfc.predict(X_test)\n",
    "accuracy_rfc = accuracy_score(preds_rfc, y_test)\n",
    "print(accuracy_rfc)"
   ]
  },
  {
   "cell_type": "code",
   "execution_count": 49,
   "metadata": {},
   "outputs": [
    {
     "name": "stdout",
     "output_type": "stream",
     "text": [
      "0.4258373205741627\n",
      "0.4498780824438719\n",
      "0.47368421052631576\n"
     ]
    }
   ],
   "source": [
    "rfc_cv_scores = cross_val_score(rfc, X, y, scoring='accuracy', cv = kfolds)\n",
    "\n",
    "print(rfc_cv_scores.min())\n",
    "print(rfc_cv_scores.mean())\n",
    "print(rfc_cv_scores.max())"
   ]
  },
  {
   "cell_type": "code",
   "execution_count": 50,
   "metadata": {},
   "outputs": [
    {
     "data": {
      "text/plain": [
       "36.919260025024414"
      ]
     },
     "execution_count": 50,
     "metadata": {},
     "output_type": "execute_result"
    }
   ],
   "source": [
    "arr_latency_rfc = []\n",
    "\n",
    "for i in range(0, iterations):\n",
    "    start_time = time.time()\n",
    "    preds_rfc = rfc.predict(X_test)\n",
    "    end_time = time.time()\n",
    "    latency_rfc = (end_time - start_time) * 1000\n",
    "    arr_latency_rfc.append(latency_rfc)\n",
    "    \n",
    "np.mean(arr_latency_rfc)"
   ]
  },
  {
   "cell_type": "code",
   "execution_count": 51,
   "metadata": {},
   "outputs": [
    {
     "name": "stdout",
     "output_type": "stream",
     "text": [
      "Test score:\t0.4446195252116304\n",
      "Scoring time:\t24.045896530151367\n"
     ]
    }
   ],
   "source": [
    "rfc_cv_results = cross_validate(rfc, X, y, scoring='accuracy', cv = kfolds)\n",
    "\n",
    "print('Test score:\\t' + str(rfc_cv_results['test_score'].mean()))\n",
    "print('Scoring time:\\t' + str(rfc_cv_results['score_time'].mean() * 1000))"
   ]
  },
  {
   "cell_type": "markdown",
   "metadata": {},
   "source": [
    "## 2.7 Support Vector Machines (SVM)"
   ]
  },
  {
   "cell_type": "markdown",
   "metadata": {},
   "source": [
    "### Linear kernel"
   ]
  },
  {
   "cell_type": "code",
   "execution_count": 52,
   "metadata": {},
   "outputs": [
    {
     "name": "stdout",
     "output_type": "stream",
     "text": [
      "{'C': 25}\n"
     ]
    }
   ],
   "source": [
    "params = {\n",
    "    'C': [0.001, 0.01, 0.1, 1, 5, 10, 25, 50]\n",
    "}\n",
    "\n",
    "cv_svm_linear_first = GridSearchCV(SVC(kernel='linear'), params, cv=10)\n",
    "cv_svm_linear_first.fit(X_train, y_train)\n",
    "\n",
    "print(cv_svm_linear_first.best_params_)\n",
    "c = cv_svm_linear_first.best_params_['C']"
   ]
  },
  {
   "cell_type": "code",
   "execution_count": 53,
   "metadata": {},
   "outputs": [
    {
     "name": "stdout",
     "output_type": "stream",
     "text": [
      "{'C': 25}\n"
     ]
    }
   ],
   "source": [
    "# Testing a more narrow range\n",
    "\n",
    "params = {\n",
    "    'C': [c - 1, c - 0.5, c, c + 0.5, c + 1]\n",
    "}\n",
    "\n",
    "cv_svm_linear_second = GridSearchCV(SVC(kernel='linear'), params, cv=10)\n",
    "cv_svm_linear_second.fit(X_train, y_train)\n",
    "\n",
    "print(cv_svm_linear_second.best_params_)\n",
    "c = cv_svm_linear_second.best_params_['C']"
   ]
  },
  {
   "cell_type": "code",
   "execution_count": 54,
   "metadata": {},
   "outputs": [
    {
     "name": "stdout",
     "output_type": "stream",
     "text": [
      "0.4556354916067146\n"
     ]
    }
   ],
   "source": [
    "svm_linear = SVC(C=25, kernel='linear')\n",
    "svm_linear.fit(X_train, y_train)\n",
    "preds_svm_linear = svm_linear.predict(X_test)\n",
    "accuracy_svm_linear = accuracy_score(preds_svm_linear, y_test)\n",
    "print(accuracy_svm_linear)"
   ]
  },
  {
   "cell_type": "code",
   "execution_count": 55,
   "metadata": {},
   "outputs": [
    {
     "name": "stdout",
     "output_type": "stream",
     "text": [
      "0.35406698564593303\n",
      "0.42448472580051533\n",
      "0.46411483253588515\n"
     ]
    }
   ],
   "source": [
    "svm_linear_cv_scores = cross_val_score(svm_linear, X, y, scoring='accuracy', cv = kfolds)\n",
    "\n",
    "print(svm_linear_cv_scores.min())\n",
    "print(svm_linear_cv_scores.mean())\n",
    "print(svm_linear_cv_scores.max())"
   ]
  },
  {
   "cell_type": "code",
   "execution_count": 56,
   "metadata": {},
   "outputs": [
    {
     "data": {
      "text/plain": [
       "16.914526621500652"
      ]
     },
     "execution_count": 56,
     "metadata": {},
     "output_type": "execute_result"
    }
   ],
   "source": [
    "arr_latency_svm_linear = []\n",
    "\n",
    "for i in range(0, iterations):\n",
    "    start_time = time.time()\n",
    "    preds_svm_linear = svm_linear.predict(X_test)\n",
    "    end_time = time.time()\n",
    "    latency_svm_linear = (end_time - start_time) * 1000\n",
    "    arr_latency_svm_linear.append(latency_svm_linear)\n",
    "    \n",
    "np.mean(arr_latency_svm_linear)"
   ]
  },
  {
   "cell_type": "code",
   "execution_count": 57,
   "metadata": {},
   "outputs": [
    {
     "name": "stdout",
     "output_type": "stream",
     "text": [
      "Test score:\t0.42448472580051533\n",
      "Scoring time:\t23.681092262268066\n"
     ]
    }
   ],
   "source": [
    "svm_linear_cv_results = cross_validate(svm_linear, X, y, scoring='accuracy', cv = kfolds)\n",
    "\n",
    "print('Test score:\\t' + str(svm_linear_cv_results['test_score'].mean()))\n",
    "print('Scoring time:\\t' + str(svm_linear_cv_results['score_time'].mean() * 1000))"
   ]
  },
  {
   "cell_type": "markdown",
   "metadata": {},
   "source": [
    "### Radial Kernel"
   ]
  },
  {
   "cell_type": "code",
   "execution_count": 58,
   "metadata": {},
   "outputs": [
    {
     "name": "stdout",
     "output_type": "stream",
     "text": [
      "{'C': 20, 'gamma': 1}\n"
     ]
    }
   ],
   "source": [
    "params = {\n",
    "    'C': [0.1, 1, 3, 5, 10, 20, 30],\n",
    "    'gamma': [00.1, 0.1, 1, 5]\n",
    "}\n",
    "\n",
    "cv_svm_radial_first = GridSearchCV(SVC(kernel='rbf'), params, cv=10)\n",
    "cv_svm_radial_first.fit(X_train, y_train)\n",
    "c = cv_svm_radial_first.best_params_['C']\n",
    "gamma = cv_svm_radial_first.best_params_['gamma']\n",
    "print(cv_svm_radial_first.best_params_)"
   ]
  },
  {
   "cell_type": "code",
   "execution_count": 59,
   "metadata": {},
   "outputs": [
    {
     "name": "stdout",
     "output_type": "stream",
     "text": [
      "{'C': 20, 'gamma': 1}\n"
     ]
    }
   ],
   "source": [
    "# Testing a more narrow range\n",
    "\n",
    "params = {\n",
    "    'C': [c - 1, c - 0.5, c, c + 0.5, c + 1],\n",
    "    'gamma': [gamma - 1, gamma - 0.5, gamma, gamma + 0.5, gamma + 1]\n",
    "}\n",
    "\n",
    "cv_svm_radial_second = GridSearchCV(SVC(kernel='rbf'), params, cv=10)\n",
    "cv_svm_radial_second.fit(X_train, y_train)\n",
    "c = cv_svm_radial_second.best_params_['C']\n",
    "gamma = cv_svm_radial_second.best_params_['gamma']\n",
    "print(cv_svm_radial_first.best_params_)"
   ]
  },
  {
   "cell_type": "code",
   "execution_count": 60,
   "metadata": {},
   "outputs": [
    {
     "name": "stdout",
     "output_type": "stream",
     "text": [
      "0.460431654676259\n"
     ]
    }
   ],
   "source": [
    "svm_radial = SVC(C=20, kernel='rbf',gamma=1)\n",
    "svm_radial.fit(X_train, y_train)\n",
    "preds_svm_radial = svm_radial.predict(X_test)\n",
    "accuracy_svm_radial = accuracy_score(preds_svm_radial, y_test)\n",
    "print(accuracy_svm_radial)"
   ]
  },
  {
   "cell_type": "code",
   "execution_count": 61,
   "metadata": {},
   "outputs": [
    {
     "name": "stdout",
     "output_type": "stream",
     "text": [
      "0.42105263157894735\n",
      "0.4484426757453074\n",
      "0.47596153846153844\n"
     ]
    }
   ],
   "source": [
    "svm_radial_cv_scores = cross_val_score(svm_radial, X, y, scoring='accuracy', cv = kfolds)\n",
    "\n",
    "print(svm_radial_cv_scores.min())\n",
    "print(svm_radial_cv_scores.mean())\n",
    "print(svm_radial_cv_scores.max())"
   ]
  },
  {
   "cell_type": "code",
   "execution_count": 62,
   "metadata": {},
   "outputs": [
    {
     "data": {
      "text/plain": [
       "43.03573767344157"
      ]
     },
     "execution_count": 62,
     "metadata": {},
     "output_type": "execute_result"
    }
   ],
   "source": [
    "arr_latency_svm_radial = []\n",
    "\n",
    "for i in range(0, iterations):\n",
    "    start_time = time.time()\n",
    "    preds_svm_radial = svm_radial.predict(X_test)\n",
    "    end_time = time.time()\n",
    "    latency_svm_radial = (end_time - start_time) * 1000\n",
    "    arr_latency_svm_radial.append(latency_svm_radial)\n",
    "    \n",
    "np.mean(arr_latency_svm_radial)"
   ]
  },
  {
   "cell_type": "code",
   "execution_count": 63,
   "metadata": {},
   "outputs": [
    {
     "name": "stdout",
     "output_type": "stream",
     "text": [
      "Test score:\t0.4484426757453074\n",
      "Scoring time:\t34.299349784851074\n"
     ]
    }
   ],
   "source": [
    "svm_radial_cv_results = cross_validate(svm_radial, X, y, scoring='accuracy', cv = kfolds)\n",
    "\n",
    "print('Test score:\\t' + str(svm_radial_cv_results['test_score'].mean()))\n",
    "print('Scoring time:\\t' + str(svm_radial_cv_results['score_time'].mean() * 1000))"
   ]
  },
  {
   "cell_type": "markdown",
   "metadata": {},
   "source": [
    "### Polynomial Kernel"
   ]
  },
  {
   "cell_type": "code",
   "execution_count": 64,
   "metadata": {},
   "outputs": [
    {
     "name": "stdout",
     "output_type": "stream",
     "text": [
      "{'C': 1, 'degree': 3, 'gamma': 5}\n"
     ]
    }
   ],
   "source": [
    "params = {\n",
    "    'C': [0.1, 1, 5, 10],\n",
    "    'gamma': [0.01, 0.1, 1, 5],\n",
    "    'degree':[2, 3, 4]\n",
    "}\n",
    "\n",
    "cv_svm_polynomial_first = GridSearchCV(SVC(kernel='poly'), params, cv=10)\n",
    "cv_svm_polynomial_first.fit(X_train, y_train)\n",
    "c = cv_svm_polynomial_first.best_params_['C']\n",
    "gamma = cv_svm_polynomial_first.best_params_['gamma']\n",
    "degree = cv_svm_polynomial_first.best_params_['degree']\n",
    "print(cv_svm_polynomial_first.best_params_)"
   ]
  },
  {
   "cell_type": "code",
   "execution_count": 65,
   "metadata": {},
   "outputs": [
    {
     "name": "stdout",
     "output_type": "stream",
     "text": [
      "{'C': 0.5, 'degree': 3, 'gamma': 4.5}\n"
     ]
    }
   ],
   "source": [
    "# Testing a more narrow range\n",
    "\n",
    "params = {\n",
    "    'C': [c - 1, c - 0.5, c, c + 0.5, c + 1],\n",
    "    'gamma': [gamma - 1, gamma - 0.5, gamma, gamma + 0.5, gamma + 1],\n",
    "    'degree': [degree - 1, degree - 0.5, degree, degree + 0.5, degree + 1]\n",
    "}\n",
    "\n",
    "cv_svm_polynomial_second = GridSearchCV(SVC(kernel='poly'), params, cv=10)\n",
    "cv_svm_polynomial_second.fit(X_train, y_train)\n",
    "c = cv_svm_polynomial_second.best_params_['C']\n",
    "gamma = cv_svm_polynomial_second.best_params_['gamma']\n",
    "degree = cv_svm_polynomial_second.best_params_['degree']\n",
    "print(cv_svm_polynomial_second.best_params_)"
   ]
  },
  {
   "cell_type": "code",
   "execution_count": 77,
   "metadata": {},
   "outputs": [
    {
     "name": "stdout",
     "output_type": "stream",
     "text": [
      "0.44364508393285373\n"
     ]
    }
   ],
   "source": [
    "svm_polynomial = SVC(C=0.5, kernel='poly', degree=3, gamma = 4.5)\n",
    "svm_polynomial.fit(X_train, y_train)\n",
    "preds_svm_polynomial = svm_polynomial.predict(X_test)\n",
    "accuracy_svm_polynomial = accuracy_score(preds_svm_polynomial, y_test)\n",
    "print(accuracy_svm_polynomial)"
   ]
  },
  {
   "cell_type": "code",
   "execution_count": 78,
   "metadata": {},
   "outputs": [
    {
     "name": "stdout",
     "output_type": "stream",
     "text": [
      "0.36363636363636365\n",
      "0.41678321678321684\n",
      "0.4688995215311005\n"
     ]
    }
   ],
   "source": [
    "svm_polynomial_cv_scores = cross_val_score(svm_polynomial, X, y, scoring='accuracy', cv = kfolds)\n",
    "\n",
    "print(svm_polynomial_cv_scores.min())\n",
    "print(svm_polynomial_cv_scores.mean())\n",
    "print(svm_polynomial_cv_scores.max())"
   ]
  },
  {
   "cell_type": "code",
   "execution_count": 79,
   "metadata": {},
   "outputs": [
    {
     "data": {
      "text/plain": [
       "71.62058353424072"
      ]
     },
     "execution_count": 79,
     "metadata": {},
     "output_type": "execute_result"
    }
   ],
   "source": [
    "arr_latency_svm_polynomial = []\n",
    "\n",
    "for i in range(0, iterations):\n",
    "    start_time = time.time()\n",
    "    preds_svm_polynomial = svm_polynomial.predict(X_test)\n",
    "    end_time = time.time()\n",
    "    latency_svm_polynomial = (end_time - start_time) * 1000\n",
    "    arr_latency_svm_polynomial.append(latency_svm_polynomial)\n",
    "    \n",
    "np.mean(arr_latency_svm_polynomial)"
   ]
  },
  {
   "cell_type": "code",
   "execution_count": 80,
   "metadata": {},
   "outputs": [
    {
     "name": "stdout",
     "output_type": "stream",
     "text": [
      "Test score:\t0.41678321678321684\n",
      "Scoring time:\t15.04201889038086\n"
     ]
    }
   ],
   "source": [
    "svm_polynomial_cv_results = cross_validate(svm_polynomial, X, y, scoring='accuracy', cv = kfolds)\n",
    "\n",
    "print('Test score:\\t' + str(svm_polynomial_cv_results['test_score'].mean()))\n",
    "print('Scoring time:\\t' + str(svm_polynomial_cv_results['score_time'].mean() * 1000))"
   ]
  },
  {
   "cell_type": "markdown",
   "metadata": {},
   "source": [
    "# Assessing Model Performances\n",
    "\n",
    "## Model Accuracies"
   ]
  },
  {
   "cell_type": "code",
   "execution_count": 81,
   "metadata": {},
   "outputs": [
    {
     "data": {
      "image/png": "[encoded data removed]",
      "text/plain": [
       "<Figure size 1152x576 with 1 Axes>"
      ]
     },
     "metadata": {},
     "output_type": "display_data"
    }
   ],
   "source": [
    "results = pd.DataFrame({\n",
    "    \"Accuracy\":[\n",
    "        accuracy_lr,\n",
    "        accuracy_knn,\n",
    "        accuracy_lda,\n",
    "        accuracy_qda,\n",
    "        accuracy_nb,\n",
    "        accuracy_dtc,\n",
    "        accuracy_rfc,\n",
    "        accuracy_svm_linear,\n",
    "        accuracy_svm_radial,\n",
    "        accuracy_svm_polynomial\n",
    "        \n",
    "    ],\n",
    "    \"Models\":[\n",
    "        \"LR\",\n",
    "        \"kNN\",\n",
    "        \"LDA\",\n",
    "        \"QDA\",\n",
    "        \"NB\",\n",
    "        \"DTC\",\n",
    "        \"RFC\",\n",
    "        \"SVM Linear\",\n",
    "        \"SVM Radial\",\n",
    "        \"SVM Poly\"\n",
    "    ]\n",
    "})\n",
    "\n",
    "results = results.sort_values(\"Accuracy\", ascending=False)\n",
    "\n",
    "# Set up the matplotlib figure\n",
    "fig, ax = plt.subplots(figsize=(16,8))\n",
    "\n",
    "cplot = sns.barplot(data=results, x=\"Models\", y=\"Accuracy\",ax=ax, palette=\"dark:salmon_r\")\n",
    "\n",
    "for p in cplot.patches:\n",
    "    cplot.annotate(format(p.get_height(), '.3f'), \n",
    "                   (p.get_x() + p.get_width() / 2., p.get_height()), \n",
    "                   ha = 'center', va = 'center', \n",
    "                   xytext = (0, 9), \n",
    "                   textcoords = 'offset points')\n",
    "\n",
    "# Add labels to plot\n",
    "plt.xlabel(\"Models\")\n",
    "plt.ylabel(\"Accuracy (Higher is better)\")\n",
    "\n",
    "plt.show()"
   ]
  },
  {
   "cell_type": "code",
   "execution_count": 82,
   "metadata": {},
   "outputs": [
    {
     "data": {
      "image/png": "[encoded data removed]",
      "text/plain": [
       "<Figure size 1152x576 with 1 Axes>"
      ]
     },
     "metadata": {},
     "output_type": "display_data"
    }
   ],
   "source": [
    "results = pd.DataFrame({\n",
    "    \"Accuracy\":[\n",
    "        lr_cv_scores.mean(),\n",
    "        knn_cv_scores.mean(),\n",
    "        lda_cv_scores.mean(),\n",
    "        qda_cv_scores.mean(),\n",
    "        nb_cv_scores.mean(),\n",
    "        dtc_cv_scores.mean(),\n",
    "        rfc_cv_scores.mean(),\n",
    "        svm_linear_cv_scores.mean(),\n",
    "        svm_radial_cv_scores.mean(),\n",
    "        svm_polynomial_cv_scores.mean()\n",
    "    ],\n",
    "    \"Models\":[\n",
    "        \"LR\",\n",
    "        \"kNN\",\n",
    "        \"LDA\",\n",
    "        \"QDA\",\n",
    "        \"NB\",\n",
    "        \"DTC\",\n",
    "        \"RFC\",\n",
    "        \"SVM Linear\",\n",
    "        \"SVM Radial\",\n",
    "        \"SVM Poly\"\n",
    "    ]\n",
    "})\n",
    "\n",
    "results = results.sort_values(\"Accuracy\", ascending=False)\n",
    "\n",
    "# Set up the matplotlib figure\n",
    "fig, ax = plt.subplots(figsize=(16,8))\n",
    "\n",
    "cplot = sns.barplot(data=results, x=\"Models\", y=\"Accuracy\",ax=ax, palette=\"dark:salmon_r\")\n",
    "\n",
    "for p in cplot.patches:\n",
    "    cplot.annotate(format(p.get_height(), '.3f'), \n",
    "                   (p.get_x() + p.get_width() / 2., p.get_height()), \n",
    "                   ha = 'center', va = 'center', \n",
    "                   xytext = (0, 9), \n",
    "                   textcoords = 'offset points')\n",
    "\n",
    "# Add labels to plot\n",
    "plt.xlabel(\"Models\")\n",
    "plt.ylabel(\"Accuracy (CV Mean - Higher is better)\")\n",
    "\n",
    "plt.show()"
   ]
  },
  {
   "cell_type": "code",
   "execution_count": 83,
   "metadata": {},
   "outputs": [
    {
     "data": {
      "image/png": "[encoded data removed]",
      "text/plain": [
       "<Figure size 1152x576 with 1 Axes>"
      ]
     },
     "metadata": {},
     "output_type": "display_data"
    }
   ],
   "source": [
    "results = pd.DataFrame({\n",
    "    \"Accuracy\":[\n",
    "        lr_cv_scores.max(),\n",
    "        knn_cv_scores.max(),\n",
    "        lda_cv_scores.max(),\n",
    "        qda_cv_scores.max(),\n",
    "        nb_cv_scores.max(),\n",
    "        dtc_cv_scores.max(),\n",
    "        rfc_cv_scores.max(),\n",
    "        svm_linear_cv_scores.max(),\n",
    "        svm_radial_cv_scores.max(),\n",
    "        svm_polynomial_cv_scores.max()\n",
    "    ],\n",
    "    \"Models\":[\n",
    "        \"LR\",\n",
    "        \"kNN\",\n",
    "        \"LDA\",\n",
    "        \"QDA\",\n",
    "        \"NB\",\n",
    "        \"DTC\",\n",
    "        \"RFC\",\n",
    "        \"SVM Linear\",\n",
    "        \"SVM Radial\",\n",
    "        \"SVM Poly\"\n",
    "    ]\n",
    "})\n",
    "\n",
    "results = results.sort_values(\"Accuracy\", ascending=False)\n",
    "\n",
    "# Set up the matplotlib figure\n",
    "fig, ax = plt.subplots(figsize=(16,8))\n",
    "\n",
    "cplot = sns.barplot(data=results, x=\"Models\", y=\"Accuracy\",ax=ax, palette=\"dark:salmon_r\")\n",
    "\n",
    "for p in cplot.patches:\n",
    "    cplot.annotate(format(p.get_height(), '.3f'), \n",
    "                   (p.get_x() + p.get_width() / 2., p.get_height()), \n",
    "                   ha = 'center', va = 'center', \n",
    "                   xytext = (0, 9), \n",
    "                   textcoords = 'offset points')\n",
    "\n",
    "# Add labels to plot\n",
    "plt.xlabel(\"Models\")\n",
    "plt.ylabel(\"Accuracy (CV Max -Higher is better)\")\n",
    "\n",
    "plt.show()"
   ]
  },
  {
   "cell_type": "markdown",
   "metadata": {},
   "source": [
    "## Model Response Time"
   ]
  },
  {
   "cell_type": "code",
   "execution_count": 84,
   "metadata": {},
   "outputs": [
    {
     "data": {
      "image/png": "[encoded data removed]",
      "text/plain": [
       "<Figure size 1152x576 with 1 Axes>"
      ]
     },
     "metadata": {},
     "output_type": "display_data"
    }
   ],
   "source": [
    "results = pd.DataFrame({\n",
    "    \"Runtime\":[\n",
    "        lr_cv_results['score_time'].mean() * 1000,\n",
    "        knn_cv_results['score_time'].mean() * 1000,\n",
    "        lda_cv_results['score_time'].mean() * 1000,\n",
    "        qda_cv_results['score_time'].mean() * 1000,\n",
    "        nb_cv_results['score_time'].mean() * 1000,\n",
    "        dtc_cv_results['score_time'].mean() * 1000,\n",
    "        rfc_cv_results['score_time'].mean() * 1000,\n",
    "        svm_linear_cv_results['score_time'].mean() * 1000,\n",
    "        svm_radial_cv_results['score_time'].mean() * 1000,\n",
    "        svm_polynomial_cv_results['score_time'].mean() * 1000\n",
    "    ],\n",
    "    \"Models\":[\n",
    "        \"LR\",\n",
    "        \"kNN\",\n",
    "        \"LDA\",\n",
    "        \"QDA\",\n",
    "        \"NB\",\n",
    "        \"DTC\",\n",
    "        \"RFC\",\n",
    "        \"SVM Linear\",\n",
    "        \"SVM Radial\",\n",
    "        \"SVM Poly\"\n",
    "    ]\n",
    "})\n",
    "\n",
    "results = results.sort_values(\"Runtime\", ascending=False)\n",
    "\n",
    "# Set up the matplotlib figure\n",
    "fig, ax = plt.subplots(figsize=(16,8))\n",
    "\n",
    "cplot = sns.barplot(data=results, x=\"Models\", y=\"Runtime\",ax=ax)\n",
    "\n",
    "for p in cplot.patches:\n",
    "    cplot.annotate(format(p.get_height(), '.3f'), \n",
    "                   (p.get_x() + p.get_width() / 2., p.get_height()), \n",
    "                   ha = 'center', va = 'center', \n",
    "                   xytext = (0, 9), \n",
    "                   textcoords = 'offset points')\n",
    "\n",
    "# Add labels to plot\n",
    "plt.xlabel(\"Models\")\n",
    "plt.ylabel(\"Runtime (ms)\")\n",
    "\n",
    "plt.show()"
   ]
  },
  {
   "cell_type": "markdown",
   "metadata": {},
   "source": [
    "## Model Response Time (remove outlier)"
   ]
  },
  {
   "cell_type": "code",
   "execution_count": 85,
   "metadata": {},
   "outputs": [],
   "source": [
    "def removeOutliers(x, outlierConstant = 1.5):\n",
    "    a = np.array(x)\n",
    "    upper_quartile = np.percentile(a, 75)\n",
    "    lower_quartile = np.percentile(a, 25)\n",
    "    IQR = (upper_quartile - lower_quartile) * outlierConstant\n",
    "    quartileSet = (lower_quartile - IQR, upper_quartile + IQR)\n",
    "    \n",
    "    result = a[np.where((a >= quartileSet[0]) & (a <= quartileSet[1]))]\n",
    "    \n",
    "    return result.tolist()"
   ]
  },
  {
   "cell_type": "code",
   "execution_count": 86,
   "metadata": {},
   "outputs": [],
   "source": [
    "arr_latency_lr_n = removeOutliers(arr_latency_lr)\n",
    "arr_latency_knn_n = removeOutliers(arr_latency_knn)\n",
    "arr_latency_lda_n = removeOutliers(arr_latency_lda)\n",
    "arr_latency_qda_n = removeOutliers(arr_latency_qda)\n",
    "arr_latency_nb_n = removeOutliers(arr_latency_nb)\n",
    "arr_latency_dtc_n = removeOutliers(arr_latency_dtc)\n",
    "arr_latency_rfc_n = removeOutliers(arr_latency_rfc)\n",
    "arr_latency_svm_linear_n = removeOutliers(arr_latency_svm_linear)\n",
    "arr_latency_svm_radial_n = removeOutliers(arr_latency_svm_radial)\n",
    "arr_latency_svm_polynomial_n = removeOutliers(arr_latency_svm_polynomial)"
   ]
  },
  {
   "cell_type": "code",
   "execution_count": 87,
   "metadata": {},
   "outputs": [
    {
     "data": {
      "image/png": "[encoded data removed]",
      "text/plain": [
       "<Figure size 1152x576 with 1 Axes>"
      ]
     },
     "metadata": {},
     "output_type": "display_data"
    }
   ],
   "source": [
    "results = pd.DataFrame({\n",
    "    \"Runtime\":[\n",
    "        np.mean(arr_latency_lr_n),\n",
    "        np.mean(arr_latency_knn_n),\n",
    "        np.mean(arr_latency_lda_n),\n",
    "        np.mean(arr_latency_qda_n),\n",
    "        np.mean(arr_latency_nb_n),\n",
    "        np.mean(arr_latency_dtc_n),\n",
    "        np.mean(arr_latency_rfc_n),\n",
    "        np.mean(arr_latency_svm_linear_n),\n",
    "        np.mean(arr_latency_svm_radial_n),\n",
    "        np.mean(arr_latency_svm_polynomial_n)\n",
    "    ],\n",
    "    \"Models\":[\n",
    "        \"LR\",\n",
    "        \"kNN\",\n",
    "        \"LDA\",\n",
    "        \"QDA\",\n",
    "        \"NB\",\n",
    "        \"DTC\",\n",
    "        \"RFC\",\n",
    "        \"SVM Linear\",\n",
    "        \"SVM Radial\",\n",
    "        \"SVM Poly\"\n",
    "    ]\n",
    "})\n",
    "\n",
    "results = results.sort_values(\"Runtime\", ascending=False)\n",
    "\n",
    "# Set up the matplotlib figure\n",
    "fig, ax = plt.subplots(figsize=(16,8))\n",
    "\n",
    "cplot = sns.barplot(data=results, x=\"Models\", y=\"Runtime\",ax=ax)\n",
    "\n",
    "for p in cplot.patches:\n",
    "    cplot.annotate(format(p.get_height(), '.3f'), \n",
    "                   (p.get_x() + p.get_width() / 2., p.get_height()), \n",
    "                   ha = 'center', va = 'center', \n",
    "                   xytext = (0, 9), \n",
    "                   textcoords = 'offset points')\n",
    "\n",
    "# Add labels to plot\n",
    "plt.xlabel(\"Models\")\n",
    "plt.ylabel(\"Runtime (ms)\")\n",
    "\n",
    "plt.show()"
   ]
  }
 ],
 "metadata": {
  "kernelspec": {
   "display_name": "Python 3",
   "language": "python",
   "name": "python3"
  },
  "language_info": {
   "codemirror_mode": {
    "name": "ipython",
    "version": 3
   },
   "file_extension": ".py",
   "mimetype": "text/x-python",
   "name": "python",
   "nbconvert_exporter": "python",
   "pygments_lexer": "ipython3",
   "version": "3.8.5"
  }
 },
 "nbformat": 4,
 "nbformat_minor": 2
}
