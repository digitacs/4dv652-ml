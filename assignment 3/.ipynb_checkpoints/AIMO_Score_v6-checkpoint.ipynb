{
 "cells": [
  {
   "cell_type": "markdown",
   "id": "addressed-program",
   "metadata": {},
   "source": [
    "### 1 Import Libraries"
   ]
  },
  {
   "cell_type": "code",
   "execution_count": 2,
   "id": "brown-terry",
   "metadata": {},
   "outputs": [
    {
     "name": "stdout",
     "output_type": "stream",
     "text": [
      "Python ver: 3.8.5 (default, Jul 28 2020, 12:59:40) \n",
      "[GCC 9.3.0]\n",
      "Numpy ver: 1.19.5\n",
      "Pandas ver: 1.1.4\n",
      "MatPlotLib ver: 3.3.3\n",
      "SeaBorn ver: 0.11.1\n",
      "StatsModel ver: 0.12.1\n",
      "Scipy ver: 1.5.4\n",
      "SkLearn ver: 0.24.1\n"
     ]
    }
   ],
   "source": [
    "import sys\n",
    "import pandas as pd\n",
    "import seaborn as sns\n",
    "import matplotlib as matplot\n",
    "import matplotlib.pyplot as plt\n",
    "import numpy as np\n",
    "import sklearn\n",
    "import statsmodels.api as sm\n",
    "import statsmodels.formula.api as smf\n",
    "import scipy\n",
    "\n",
    "print(\"Python ver: {}\".format(sys.version))\n",
    "print(\"Numpy ver: {}\".format(np.__version__))\n",
    "print(\"Pandas ver: {}\".format(pd.__version__))\n",
    "print(\"MatPlotLib ver: {}\".format(matplot.__version__))\n",
    "print(\"SeaBorn ver: {}\".format(sns.__version__))\n",
    "print(\"StatsModel ver: {}\".format(sm.__version__))\n",
    "print(\"Scipy ver: {}\".format(scipy.__version__))\n",
    "print(\"SkLearn ver: {}\".format(sklearn.__version__))"
   ]
  },
  {
   "cell_type": "markdown",
   "id": "recreational-evolution",
   "metadata": {},
   "source": [
    "Pre configurations"
   ]
  },
  {
   "cell_type": "code",
   "execution_count": 3,
   "id": "photographic-heath",
   "metadata": {},
   "outputs": [],
   "source": [
    "sns.set_theme(color_codes=True)"
   ]
  },
  {
   "cell_type": "markdown",
   "id": "fuzzy-institution",
   "metadata": {},
   "source": [
    "### 2 Load the data"
   ]
  },
  {
   "cell_type": "code",
   "execution_count": 22,
   "id": "signal-preference",
   "metadata": {},
   "outputs": [],
   "source": [
    "AimoScoreFileUrl = \"https://raw.githubusercontent.com/digitacs/4dv652-ml/main/AimoScore_WeakLink_big_scores.xls\"\n",
    "WeakLinksFileUrl = \"https://raw.githubusercontent.com/digitacs/4dv652-ml/main/20190108%20scores_and_weak_links.xlsx\"\n",
    "\n",
    "try:\n",
    "    AimoScore = pd.read_excel(AimoScoreFileUrl, engine=None)\n",
    "    WeakLinks = pd.read_excel(WeakLinksFileUrl, engine='openpyxl')\n",
    "\n",
    "except:\n",
    "    print(\"Error in reading files\")"
   ]
  },
  {
   "cell_type": "code",
   "execution_count": null,
   "id": "faced-scratch",
   "metadata": {},
   "outputs": [],
   "source": []
  },
  {
   "cell_type": "code",
   "execution_count": null,
   "id": "selected-absence",
   "metadata": {},
   "outputs": [],
   "source": []
  }
 ],
 "metadata": {
  "kernelspec": {
   "display_name": "Python 3",
   "language": "python",
   "name": "python3"
  },
  "language_info": {
   "codemirror_mode": {
    "name": "ipython",
    "version": 3
   },
   "file_extension": ".py",
   "mimetype": "text/x-python",
   "name": "python",
   "nbconvert_exporter": "python",
   "pygments_lexer": "ipython3",
   "version": "3.8.5"
  }
 },
 "nbformat": 4,
 "nbformat_minor": 5
}
