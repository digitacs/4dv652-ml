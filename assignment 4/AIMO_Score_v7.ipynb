{
 "cells": [
  {
   "cell_type": "markdown",
   "id": "addressed-program",
   "metadata": {},
   "source": [
    "# 1 Configuration"
   ]
  },
  {
   "cell_type": "markdown",
   "id": "baking-brush",
   "metadata": {},
   "source": [
    "## 1.1 Import Libraries"
   ]
  },
  {
   "cell_type": "code",
   "execution_count": 1,
   "id": "brown-terry",
   "metadata": {},
   "outputs": [
    {
     "name": "stdout",
     "output_type": "stream",
     "text": [
      "Python ver: 3.8.5 (default, Jan 27 2021, 15:41:15) \n",
      "[GCC 9.3.0]\n",
      "Numpy ver: 1.19.5\n",
      "Pandas ver: 1.1.4\n",
      "MatPlotLib ver: 3.3.3\n",
      "SeaBorn ver: 0.11.1\n",
      "StatsModel ver: 0.12.1\n",
      "Scipy ver: 1.5.4\n",
      "SkLearn ver: 0.24.1\n"
     ]
    }
   ],
   "source": [
    "import sys\n",
    "import pandas as pd\n",
    "import seaborn as sns\n",
    "import matplotlib as matplot\n",
    "import matplotlib.pyplot as plt\n",
    "import numpy as np\n",
    "import sklearn\n",
    "import statsmodels.api as sm\n",
    "import statsmodels.formula.api as smf\n",
    "import scipy\n",
    "\n",
    "print(\"Python ver: {}\".format(sys.version))\n",
    "print(\"Numpy ver: {}\".format(np.__version__))\n",
    "print(\"Pandas ver: {}\".format(pd.__version__))\n",
    "print(\"MatPlotLib ver: {}\".format(matplot.__version__))\n",
    "print(\"SeaBorn ver: {}\".format(sns.__version__))\n",
    "print(\"StatsModel ver: {}\".format(sm.__version__))\n",
    "print(\"Scipy ver: {}\".format(scipy.__version__))\n",
    "print(\"SkLearn ver: {}\".format(sklearn.__version__))"
   ]
  },
  {
   "cell_type": "code",
   "execution_count": 2,
   "id": "classical-pointer",
   "metadata": {},
   "outputs": [],
   "source": [
    "def heatMap(df,max=1,min=-1):\n",
    "    # Generate a mask for the upper triangle\n",
    "    mask = np.triu(np.ones_like(df, dtype=bool),1)\n",
    "\n",
    "    # Set up the matplotlib figure\n",
    "    f, ax = plt.subplots(figsize=(11, 9))\n",
    "\n",
    "    # Generate a custom diverging colormap\n",
    "    cmap = sns.diverging_palette(230, 20, as_cmap=True)\n",
    "\n",
    "    # Draw the heatmap with the mask and correct aspect ratio\n",
    "    sns.heatmap(df, mask=mask, cmap=cmap, vmax=max, center=(max+min)/2, vmin=min,\n",
    "                square=True, annot=True, linewidths=.2, cbar_kws={\"shrink\": .5})\n",
    "\n",
    "    # Show the plot\n",
    "    plt.show()\n",
    "    \n",
    "def checkCorrectness(df,originalLabel,predictedLabel):\n",
    "    correct = len(df[(df[originalLabel] == df[predictedLabel])])\n",
    "    incorrect = len(df) - correct\n",
    "    return (correct,incorrect,(correct*100/(correct+incorrect)))\n",
    "\n",
    "def findCorrelatedColumns(df,minThreshold):\n",
    "    corr = df.corr()\n",
    "    pairs = []\n",
    "\n",
    "    for i in corr.columns:\n",
    "        for j in corr[i][abs(corr[i])>=minThreshold].index:\n",
    "            if i != j:\n",
    "                pairs.append({\"C1\":i,\"C2\":j,\"Corr\":corr[i][j]})\n",
    "    return pairs\n",
    "\n",
    "def findHighCorrelation(df,minThreshold,target):\n",
    "    corr = df.corr()\n",
    "    pairs = []\n",
    "\n",
    "    for j in corr[target][abs(corr[target])>=minThreshold].index:\n",
    "        if target != j:\n",
    "            pairs.append({\"Name\":j,\"Corr\":corr[target][j]})\n",
    "    return pairs"
   ]
  },
  {
   "cell_type": "markdown",
   "id": "recreational-evolution",
   "metadata": {},
   "source": [
    "## 1.2 Pre configurations"
   ]
  },
  {
   "cell_type": "code",
   "execution_count": 3,
   "id": "photographic-heath",
   "metadata": {},
   "outputs": [],
   "source": [
    "import warnings\n",
    "\n",
    "# Set Seaborn theme\n",
    "sns.set_theme(color_codes=True)\n",
    "\n",
    "# Disable warnings\n",
    "warnings.simplefilter(\"ignore\")"
   ]
  },
  {
   "cell_type": "markdown",
   "id": "fresh-graphics",
   "metadata": {},
   "source": [
    "# 2 Data Preparation"
   ]
  },
  {
   "cell_type": "markdown",
   "id": "fuzzy-institution",
   "metadata": {},
   "source": [
    "## 2.1 Load the data"
   ]
  },
  {
   "cell_type": "code",
   "execution_count": 4,
   "id": "signal-preference",
   "metadata": {},
   "outputs": [],
   "source": [
    "AimoScoreFileUrl = \"https://raw.githubusercontent.com/digitacs/4dv652-ml/main/AimoScore_WeakLink_big_scores.xls\"\n",
    "WeakLinksFileUrl = \"https://raw.githubusercontent.com/digitacs/4dv652-ml/main/20190108%20scores_and_weak_links.xlsx\"\n",
    "\n",
    "try:\n",
    "    AimoScore = pd.read_excel(AimoScoreFileUrl, engine=None)\n",
    "    WeakLinks = pd.read_excel(WeakLinksFileUrl, engine='openpyxl')\n",
    "\n",
    "except IOError as e:\n",
    "    print(e)\n"
   ]
  },
  {
   "cell_type": "markdown",
   "id": "loose-bidding",
   "metadata": {},
   "source": [
    "## 2.2 Merging the two datasets"
   ]
  },
  {
   "cell_type": "markdown",
   "id": "forty-symposium",
   "metadata": {},
   "source": [
    "### 2.2.1 Join the two tables via their ID"
   ]
  },
  {
   "cell_type": "code",
   "execution_count": 5,
   "id": "selected-absence",
   "metadata": {
    "scrolled": true
   },
   "outputs": [
    {
     "name": "stdout",
     "output_type": "stream",
     "text": [
      "AimoScore size: 2094\n",
      "WeakLinks size: 2096\n",
      "result size: 2094\n"
     ]
    }
   ],
   "source": [
    "print(\"AimoScore size: {}\".format(len(AimoScore)))\n",
    "print(\"WeakLinks size: {}\".format(len(WeakLinks)))\n",
    "result = pd.merge(AimoScore, WeakLinks,on=[\"ID\"])\n",
    "print(\"result size: {}\".format(len(result)))"
   ]
  },
  {
   "cell_type": "markdown",
   "id": "unlimited-dietary",
   "metadata": {},
   "source": [
    "### 2.2.2 Find the weakest link for each data point\n",
    "Finding the column with the maximum score in each row and adding its name as a new column"
   ]
  },
  {
   "cell_type": "code",
   "execution_count": 6,
   "id": "revolutionary-forwarding",
   "metadata": {},
   "outputs": [],
   "source": [
    "result[\"WeakLinks\"] = result.loc[:,\"ForwardHead\":\"RightHeelRises\"].idxmax(axis=1)"
   ]
  },
  {
   "cell_type": "markdown",
   "id": "improving-lemon",
   "metadata": {},
   "source": [
    "### 2.2.3 Discard extra columns\n",
    "Discard the 14 weak link scores from the joint table"
   ]
  },
  {
   "cell_type": "code",
   "execution_count": 7,
   "id": "traditional-showcase",
   "metadata": {
    "scrolled": false
   },
   "outputs": [],
   "source": [
    "result.drop(result.columns.to_series()[\"ForwardHead\":\"RightHeelRises\"], axis=1, inplace=True)"
   ]
  },
  {
   "cell_type": "markdown",
   "id": "precise-tension",
   "metadata": {},
   "source": [
    "### 2.2.4 Remove Duplicates"
   ]
  },
  {
   "cell_type": "code",
   "execution_count": 8,
   "id": "southeast-decrease",
   "metadata": {},
   "outputs": [],
   "source": [
    "result = result.drop_duplicates(subset=\"ID\")"
   ]
  },
  {
   "cell_type": "code",
   "execution_count": 9,
   "id": "vulnerable-technology",
   "metadata": {},
   "outputs": [
    {
     "data": {
      "text/plain": [
       "LeftArmFallForward              628\n",
       "RightArmFallForward             472\n",
       "RightKneeMovesOutward           276\n",
       "RightShoulderElevation          250\n",
       "ForwardHead                     115\n",
       "ExcessiveForwardLean            100\n",
       "LeftAsymmetricalWeightShift      73\n",
       "LeftShoulderElevation            58\n",
       "LeftKneeMovesOutward             49\n",
       "RightKneeMovesInward             45\n",
       "RightAsymmetricalWeightShift     19\n",
       "LeftKneeMovesInward               3\n",
       "LeftHeelRises                     2\n",
       "RightHeelRises                    1\n",
       "Name: WeakLinks, dtype: int64"
      ]
     },
     "execution_count": 9,
     "metadata": {},
     "output_type": "execute_result"
    }
   ],
   "source": [
    "result[\"WeakLinks\"].value_counts()"
   ]
  },
  {
   "cell_type": "markdown",
   "id": "split-battle",
   "metadata": {},
   "source": [
    "### 2.2.5 Remove clusters with very few samples "
   ]
  },
  {
   "cell_type": "code",
   "execution_count": 10,
   "id": "guided-separate",
   "metadata": {},
   "outputs": [
    {
     "data": {
      "text/plain": [
       "LeftArmFallForward              628\n",
       "RightArmFallForward             472\n",
       "RightKneeMovesOutward           276\n",
       "RightShoulderElevation          250\n",
       "ForwardHead                     115\n",
       "ExcessiveForwardLean            100\n",
       "LeftAsymmetricalWeightShift      73\n",
       "LeftShoulderElevation            58\n",
       "LeftKneeMovesOutward             49\n",
       "RightKneeMovesInward             45\n",
       "RightAsymmetricalWeightShift     19\n",
       "Name: WeakLinks, dtype: int64"
      ]
     },
     "execution_count": 10,
     "metadata": {},
     "output_type": "execute_result"
    }
   ],
   "source": [
    "temp = (result[\"WeakLinks\"].value_counts()<10)\n",
    "temp = temp[~temp == False]\n",
    "result = result[~result[\"WeakLinks\"].isin(temp.index)]\n",
    "result[\"WeakLinks\"].value_counts()"
   ]
  },
  {
   "cell_type": "code",
   "execution_count": 11,
   "id": "substantial-pricing",
   "metadata": {},
   "outputs": [
    {
     "data": {
      "text/html": [
       "<div>\n",
       "<style scoped>\n",
       "    .dataframe tbody tr th:only-of-type {\n",
       "        vertical-align: middle;\n",
       "    }\n",
       "\n",
       "    .dataframe tbody tr th {\n",
       "        vertical-align: top;\n",
       "    }\n",
       "\n",
       "    .dataframe thead th {\n",
       "        text-align: right;\n",
       "    }\n",
       "</style>\n",
       "<table border=\"1\" class=\"dataframe\">\n",
       "  <thead>\n",
       "    <tr style=\"text-align: right;\">\n",
       "      <th></th>\n",
       "      <th>ID</th>\n",
       "      <th>SCORE</th>\n",
       "      <th>AimoScore</th>\n",
       "      <th>WeakLinks</th>\n",
       "    </tr>\n",
       "  </thead>\n",
       "  <tbody>\n",
       "    <tr>\n",
       "      <th>0</th>\n",
       "      <td>0003cdcc-86ed-494a-a3b5-90d09e96e06b.Kinect</td>\n",
       "      <td>0.323667</td>\n",
       "      <td>0.323667</td>\n",
       "      <td>RightShoulderElevation</td>\n",
       "    </tr>\n",
       "    <tr>\n",
       "      <th>1</th>\n",
       "      <td>003115c4-bdb8-491c-b571-8fcebdecf8ed.Kinect</td>\n",
       "      <td>0.323699</td>\n",
       "      <td>0.323699</td>\n",
       "      <td>RightArmFallForward</td>\n",
       "    </tr>\n",
       "    <tr>\n",
       "      <th>2</th>\n",
       "      <td>00316bfb-ed43-489f-a55b-11c7f01c852d.Kinect</td>\n",
       "      <td>0.848327</td>\n",
       "      <td>0.848327</td>\n",
       "      <td>LeftArmFallForward</td>\n",
       "    </tr>\n",
       "    <tr>\n",
       "      <th>3</th>\n",
       "      <td>00607608-6f2f-459b-a69d-e14067489459.Kinect</td>\n",
       "      <td>0.351332</td>\n",
       "      <td>0.351332</td>\n",
       "      <td>RightShoulderElevation</td>\n",
       "    </tr>\n",
       "    <tr>\n",
       "      <th>4</th>\n",
       "      <td>007396ec-3463-4a05-915c-02244ff8d3de.Kinect</td>\n",
       "      <td>0.627181</td>\n",
       "      <td>0.627181</td>\n",
       "      <td>ForwardHead</td>\n",
       "    </tr>\n",
       "    <tr>\n",
       "      <th>...</th>\n",
       "      <td>...</td>\n",
       "      <td>...</td>\n",
       "      <td>...</td>\n",
       "      <td>...</td>\n",
       "    </tr>\n",
       "    <tr>\n",
       "      <th>2086</th>\n",
       "      <td>feca4c0e-cbc7-4e5e-b85c-8befedbc65a4.Kinect</td>\n",
       "      <td>0.665494</td>\n",
       "      <td>0.665494</td>\n",
       "      <td>RightArmFallForward</td>\n",
       "    </tr>\n",
       "    <tr>\n",
       "      <th>2087</th>\n",
       "      <td>fed923af-f41e-42bc-8799-3a9f8a5f2129.Kinect</td>\n",
       "      <td>0.830883</td>\n",
       "      <td>0.830883</td>\n",
       "      <td>LeftArmFallForward</td>\n",
       "    </tr>\n",
       "    <tr>\n",
       "      <th>2088</th>\n",
       "      <td>ff015ddd-c9fb-49e3-8e33-abbf72e8b120.Kinect</td>\n",
       "      <td>0.527640</td>\n",
       "      <td>0.527640</td>\n",
       "      <td>LeftArmFallForward</td>\n",
       "    </tr>\n",
       "    <tr>\n",
       "      <th>2090</th>\n",
       "      <td>ff514cba-6c5e-41a9-9936-3e8400565c8d.Kinect</td>\n",
       "      <td>0.407197</td>\n",
       "      <td>0.407197</td>\n",
       "      <td>RightKneeMovesOutward</td>\n",
       "    </tr>\n",
       "    <tr>\n",
       "      <th>2092</th>\n",
       "      <td>ff63b8a9-deb5-4179-b424-fd07d04ca37f.Kinect</td>\n",
       "      <td>0.965930</td>\n",
       "      <td>0.965930</td>\n",
       "      <td>LeftArmFallForward</td>\n",
       "    </tr>\n",
       "  </tbody>\n",
       "</table>\n",
       "<p>2085 rows × 4 columns</p>\n",
       "</div>"
      ],
      "text/plain": [
       "                                               ID     SCORE  AimoScore  \\\n",
       "0     0003cdcc-86ed-494a-a3b5-90d09e96e06b.Kinect  0.323667   0.323667   \n",
       "1     003115c4-bdb8-491c-b571-8fcebdecf8ed.Kinect  0.323699   0.323699   \n",
       "2     00316bfb-ed43-489f-a55b-11c7f01c852d.Kinect  0.848327   0.848327   \n",
       "3     00607608-6f2f-459b-a69d-e14067489459.Kinect  0.351332   0.351332   \n",
       "4     007396ec-3463-4a05-915c-02244ff8d3de.Kinect  0.627181   0.627181   \n",
       "...                                           ...       ...        ...   \n",
       "2086  feca4c0e-cbc7-4e5e-b85c-8befedbc65a4.Kinect  0.665494   0.665494   \n",
       "2087  fed923af-f41e-42bc-8799-3a9f8a5f2129.Kinect  0.830883   0.830883   \n",
       "2088  ff015ddd-c9fb-49e3-8e33-abbf72e8b120.Kinect  0.527640   0.527640   \n",
       "2090  ff514cba-6c5e-41a9-9936-3e8400565c8d.Kinect  0.407197   0.407197   \n",
       "2092  ff63b8a9-deb5-4179-b424-fd07d04ca37f.Kinect  0.965930   0.965930   \n",
       "\n",
       "                   WeakLinks  \n",
       "0     RightShoulderElevation  \n",
       "1        RightArmFallForward  \n",
       "2         LeftArmFallForward  \n",
       "3     RightShoulderElevation  \n",
       "4                ForwardHead  \n",
       "...                      ...  \n",
       "2086     RightArmFallForward  \n",
       "2087      LeftArmFallForward  \n",
       "2088      LeftArmFallForward  \n",
       "2090   RightKneeMovesOutward  \n",
       "2092      LeftArmFallForward  \n",
       "\n",
       "[2085 rows x 4 columns]"
      ]
     },
     "execution_count": 11,
     "metadata": {},
     "output_type": "execute_result"
    }
   ],
   "source": [
    "result[[\"ID\",\"SCORE\",\"AimoScore\",\"WeakLinks\"]]"
   ]
  },
  {
   "cell_type": "markdown",
   "id": "abstract-gathering",
   "metadata": {},
   "source": [
    "## 2.3 Removing the identical variables"
   ]
  },
  {
   "cell_type": "code",
   "execution_count": 12,
   "id": "varied-attention",
   "metadata": {},
   "outputs": [
    {
     "data": {
      "text/plain": [
       "[{'C1': 'AimoScore', 'C2': 'SCORE', 'Corr': 1.0},\n",
       " {'C1': 'No_1_Angle_Deviation', 'C2': 'No_3_NASM_Deviation', 'Corr': 1.0},\n",
       " {'C1': 'No_5_Angle_Deviation', 'C2': 'No_1_NASM_Deviation', 'Corr': 1.0},\n",
       " {'C1': 'No_7_Angle_Deviation', 'C2': 'No_2_NASM_Deviation', 'Corr': 1.0},\n",
       " {'C1': 'No_10_Angle_Deviation', 'C2': 'No_4_NASM_Deviation', 'Corr': 1.0},\n",
       " {'C1': 'No_13_Angle_Deviation', 'C2': 'No_5_NASM_Deviation', 'Corr': 1.0},\n",
       " {'C1': 'No_1_NASM_Deviation', 'C2': 'No_5_Angle_Deviation', 'Corr': 1.0},\n",
       " {'C1': 'No_2_NASM_Deviation', 'C2': 'No_7_Angle_Deviation', 'Corr': 1.0},\n",
       " {'C1': 'No_3_NASM_Deviation', 'C2': 'No_1_Angle_Deviation', 'Corr': 1.0},\n",
       " {'C1': 'No_4_NASM_Deviation', 'C2': 'No_10_Angle_Deviation', 'Corr': 1.0},\n",
       " {'C1': 'No_5_NASM_Deviation', 'C2': 'No_13_Angle_Deviation', 'Corr': 1.0},\n",
       " {'C1': 'SCORE', 'C2': 'AimoScore', 'Corr': 1.0}]"
      ]
     },
     "execution_count": 12,
     "metadata": {},
     "output_type": "execute_result"
    }
   ],
   "source": [
    "pairs = findCorrelatedColumns(result,1)\n",
    "pairs"
   ]
  },
  {
   "cell_type": "code",
   "execution_count": 13,
   "id": "derived-corner",
   "metadata": {},
   "outputs": [],
   "source": [
    "result = result.drop(\n",
    "    columns=[\n",
    "        \"No_1_Angle_Deviation\",\n",
    "        \"No_5_Angle_Deviation\",\n",
    "        \"No_7_Angle_Deviation\",\n",
    "        \"No_10_Angle_Deviation\",\n",
    "        \"No_13_Angle_Deviation\",\n",
    "        \"SCORE\"\n",
    "    ]\n",
    ")"
   ]
  },
  {
   "cell_type": "markdown",
   "id": "leading-election",
   "metadata": {},
   "source": [
    "## 2.4 Removing the symmetric variables \n",
    "We assume that any variable with a correlation higher than 80 percent would be a symmetric variable"
   ]
  },
  {
   "cell_type": "code",
   "execution_count": 14,
   "id": "gross-suspect",
   "metadata": {},
   "outputs": [
    {
     "data": {
      "text/plain": [
       "[{'C1': 'No_1_NASM_Deviation',\n",
       "  'C2': 'No_2_NASM_Deviation',\n",
       "  'Corr': 0.8491413141954607},\n",
       " {'C1': 'No_2_NASM_Deviation',\n",
       "  'C2': 'No_1_NASM_Deviation',\n",
       "  'Corr': 0.8491413141954607},\n",
       " {'C1': 'No_4_NASM_Deviation',\n",
       "  'C2': 'No_5_NASM_Deviation',\n",
       "  'Corr': 0.904593644698089},\n",
       " {'C1': 'No_5_NASM_Deviation',\n",
       "  'C2': 'No_4_NASM_Deviation',\n",
       "  'Corr': 0.904593644698089},\n",
       " {'C1': 'No_8_NASM_Deviation',\n",
       "  'C2': 'No_9_NASM_Deviation',\n",
       "  'Corr': 0.8742235883032127},\n",
       " {'C1': 'No_9_NASM_Deviation',\n",
       "  'C2': 'No_8_NASM_Deviation',\n",
       "  'Corr': 0.8742235883032127},\n",
       " {'C1': 'No_11_NASM_Deviation',\n",
       "  'C2': 'No_12_NASM_Deviation',\n",
       "  'Corr': 0.8645293700913619},\n",
       " {'C1': 'No_12_NASM_Deviation',\n",
       "  'C2': 'No_11_NASM_Deviation',\n",
       "  'Corr': 0.8645293700913619},\n",
       " {'C1': 'No_1_Time_Deviation',\n",
       "  'C2': 'No_2_Time_Deviation',\n",
       "  'Corr': 0.9390442066679106},\n",
       " {'C1': 'No_2_Time_Deviation',\n",
       "  'C2': 'No_1_Time_Deviation',\n",
       "  'Corr': 0.9390442066679106}]"
      ]
     },
     "execution_count": 14,
     "metadata": {},
     "output_type": "execute_result"
    }
   ],
   "source": [
    "pairs = findCorrelatedColumns(result,0.8)\n",
    "pairs"
   ]
  },
  {
   "cell_type": "code",
   "execution_count": 15,
   "id": "biological-windsor",
   "metadata": {},
   "outputs": [],
   "source": [
    "result = result.drop(\n",
    "    columns=[\n",
    "        \"No_1_NASM_Deviation\",\n",
    "        \"No_5_NASM_Deviation\",\n",
    "        \"No_9_NASM_Deviation\",\n",
    "        \"No_11_NASM_Deviation\",\n",
    "        \"No_2_Time_Deviation\"\n",
    "    ]\n",
    ")"
   ]
  },
  {
   "cell_type": "markdown",
   "id": "union-judge",
   "metadata": {},
   "source": [
    "## 2.5 Discard extra columns"
   ]
  },
  {
   "cell_type": "code",
   "execution_count": 16,
   "id": "objective-chance",
   "metadata": {},
   "outputs": [],
   "source": [
    "result = result.drop(\n",
    "    columns=[\n",
    "        \"ID\",\n",
    "        \"Date\",\n",
    "        \"EstimatedScore\"\n",
    "    ]\n",
    ")"
   ]
  },
  {
   "cell_type": "markdown",
   "id": "common-entrepreneur",
   "metadata": {},
   "source": [
    "### Testing and Traing sets"
   ]
  },
  {
   "cell_type": "code",
   "execution_count": 17,
   "id": "random-heater",
   "metadata": {},
   "outputs": [],
   "source": [
    "from sklearn.model_selection import train_test_split\n",
    "\n",
    "trainingPercent = 0.9\n",
    "\n",
    "y_train,y_test ,X_train, X_test  = train_test_split(result[[\"WeakLinks\"]], result.drop(columns=[\"WeakLinks\",\"AimoScore\"]), train_size = trainingPercent)"
   ]
  },
  {
   "cell_type": "markdown",
   "id": "piano-planet",
   "metadata": {},
   "source": [
    "# 3 Create the linear model"
   ]
  },
  {
   "cell_type": "markdown",
   "id": "collect-disability",
   "metadata": {},
   "source": [
    "## 3.1  Check with 10-Fold Cross-Validation"
   ]
  },
  {
   "cell_type": "code",
   "execution_count": 18,
   "id": "artificial-campaign",
   "metadata": {
    "scrolled": false
   },
   "outputs": [
    {
     "name": "stdout",
     "output_type": "stream",
     "text": [
      "0.4\n",
      "0.35\n",
      "0.3\n"
     ]
    }
   ],
   "source": [
    "from sklearn.pipeline import make_pipeline\n",
    "from sklearn.preprocessing import PolynomialFeatures\n",
    "from sklearn.linear_model import LinearRegression\n",
    "from sklearn.model_selection import cross_val_score, KFold\n",
    "\n",
    "minCorrelationSteps = [0.4,0.35,0.30]\n",
    "\n",
    "# Using 10-fold cross-validation\n",
    "kfolds = KFold(n_splits = 10, shuffle = True, random_state = 1)\n",
    "cvResults = pd.DataFrame()\n",
    "y = result[\"AimoScore\"]\n",
    "columns = []\n",
    "\n",
    "for minCorrelation in minCorrelationSteps:\n",
    "    print(minCorrelation)\n",
    "    for i in findHighCorrelation(result.drop(columns=[\"WeakLinks\"]),minCorrelation,\"AimoScore\"):\n",
    "        columns.append(i[\"Name\"])\n",
    "\n",
    "    X = result[columns]\n",
    "    errors = []\n",
    "    for i in range(0, 5):\n",
    "        pipe = make_pipeline(PolynomialFeatures(degree = i),LinearRegression())\n",
    "        cv_scores = cross_val_score(pipe, X, y, scoring = \"neg_mean_squared_error\", cv = kfolds)\n",
    "        errors.append(abs(cv_scores.mean()))\n",
    "        \n",
    "    cvResults[minCorrelation] = errors\n"
   ]
  },
  {
   "cell_type": "code",
   "execution_count": 19,
   "id": "resident-allergy",
   "metadata": {},
   "outputs": [
    {
     "data": {
      "text/html": [
       "<div>\n",
       "<style scoped>\n",
       "    .dataframe tbody tr th:only-of-type {\n",
       "        vertical-align: middle;\n",
       "    }\n",
       "\n",
       "    .dataframe tbody tr th {\n",
       "        vertical-align: top;\n",
       "    }\n",
       "\n",
       "    .dataframe thead th {\n",
       "        text-align: right;\n",
       "    }\n",
       "</style>\n",
       "<table border=\"1\" class=\"dataframe\">\n",
       "  <thead>\n",
       "    <tr style=\"text-align: right;\">\n",
       "      <th></th>\n",
       "      <th>0.40</th>\n",
       "      <th>0.35</th>\n",
       "      <th>0.30</th>\n",
       "    </tr>\n",
       "  </thead>\n",
       "  <tbody>\n",
       "    <tr>\n",
       "      <th>0</th>\n",
       "      <td>NaN</td>\n",
       "      <td>NaN</td>\n",
       "      <td>NaN</td>\n",
       "    </tr>\n",
       "    <tr>\n",
       "      <th>1</th>\n",
       "      <td>0.035063</td>\n",
       "      <td>0.034768</td>\n",
       "      <td>0.030096</td>\n",
       "    </tr>\n",
       "    <tr>\n",
       "      <th>2</th>\n",
       "      <td>0.030533</td>\n",
       "      <td>0.030447</td>\n",
       "      <td>0.026244</td>\n",
       "    </tr>\n",
       "    <tr>\n",
       "      <th>3</th>\n",
       "      <td>0.029558</td>\n",
       "      <td>0.029492</td>\n",
       "      <td>0.025819</td>\n",
       "    </tr>\n",
       "    <tr>\n",
       "      <th>4</th>\n",
       "      <td>0.029334</td>\n",
       "      <td>0.029330</td>\n",
       "      <td>0.030500</td>\n",
       "    </tr>\n",
       "  </tbody>\n",
       "</table>\n",
       "</div>"
      ],
      "text/plain": [
       "       0.40      0.35      0.30\n",
       "0       NaN       NaN       NaN\n",
       "1  0.035063  0.034768  0.030096\n",
       "2  0.030533  0.030447  0.026244\n",
       "3  0.029558  0.029492  0.025819\n",
       "4  0.029334  0.029330  0.030500"
      ]
     },
     "execution_count": 19,
     "metadata": {},
     "output_type": "execute_result"
    }
   ],
   "source": [
    "cvResults"
   ]
  },
  {
   "cell_type": "code",
   "execution_count": 20,
   "id": "perceived-technology",
   "metadata": {},
   "outputs": [
    {
     "data": {
      "image/png": "[encoded data removed]",
      "text/plain": [
       "<Figure size 576x360 with 1 Axes>"
      ]
     },
     "metadata": {},
     "output_type": "display_data"
    }
   ],
   "source": [
    "# Set up the matplotlib figure\n",
    "fig, ax = plt.subplots(figsize=(8,5))\n",
    "\n",
    "sns.lineplot(data=cvResults,ax=ax)\n",
    "\n",
    "# Add labels to plot\n",
    "plt.xlabel(\"Degree of Polynomial\")\n",
    "plt.ylabel(\"MSR\")\n",
    "\n",
    "plt.show()"
   ]
  },
  {
   "cell_type": "markdown",
   "id": "silver-issue",
   "metadata": {},
   "source": [
    "## 3.2 A new Candidate \n",
    "we choose all possible predictors that have more than 20% corelation with AimoScore and have used a 3 degree of polynomial regression model"
   ]
  },
  {
   "cell_type": "code",
   "execution_count": 49,
   "id": "native-smooth",
   "metadata": {},
   "outputs": [
    {
     "data": {
      "image/png": "[encoded data removed]",
      "text/plain": [
       "<Figure size 648x432 with 1 Axes>"
      ]
     },
     "metadata": {},
     "output_type": "display_data"
    },
    {
     "name": "stdout",
     "output_type": "stream",
     "text": [
      "r = 0.967 , p < 0.0\n"
     ]
    }
   ],
   "source": [
    "minCorrelation = 0.2\n",
    "\n",
    "y = result[\"AimoScore\"]\n",
    "columns = []\n",
    "\n",
    "for i in findHighCorrelation(result.drop(columns=[\"WeakLinks\"]),minCorrelation,\"AimoScore\"):\n",
    "        columns.append(i[\"Name\"])\n",
    "        \n",
    "X_1 = result[columns]\n",
    "\n",
    "pipe = make_pipeline(PolynomialFeatures(3),LinearRegression())\n",
    "polyreg = pipe.fit(X_1, y)\n",
    "predicted_1 = polyreg.predict(X_1)\n",
    "\n",
    "\n",
    "res = pd.DataFrame({\"Original\":y,\"Predicted\":predicted_1})\n",
    "\n",
    "\n",
    "fig, ax = plt.subplots(figsize=(9,6))\n",
    "sns.regplot(y=\"Original\", x=\"Predicted\", data=res,ax=ax)\n",
    "plt.xlabel(\"percent of households with low socioeconomic status\")\n",
    "plt.ylabel(\"median house value\")\n",
    "plt.show()\n",
    "r,p = scipy.stats.pearsonr(res.Predicted, res.Original)\n",
    "print(\"r = {} , p < {}\".format(round(r, 3),p))"
   ]
  },
  {
   "cell_type": "markdown",
   "id": "persistent-auction",
   "metadata": {},
   "source": [
    "## 3.3 The original model\n",
    "This is our previous linear model with adjusted r-squared of 0.705"
   ]
  },
  {
   "cell_type": "code",
   "execution_count": 48,
   "id": "disturbed-valuation",
   "metadata": {
    "scrolled": false
   },
   "outputs": [
    {
     "data": {
      "image/png": "[encoded data removed]",
      "text/plain": [
       "<Figure size 648x432 with 1 Axes>"
      ]
     },
     "metadata": {},
     "output_type": "display_data"
    },
    {
     "name": "stdout",
     "output_type": "stream",
     "text": [
      "r = 0.843 , p < 0.0\n"
     ]
    }
   ],
   "source": [
    "y = result[\"AimoScore\"]\n",
    "\n",
    "X_2 = result.drop(columns=[\n",
    "    \"AimoScore\",\n",
    "    \"WeakLinks\"\n",
    "])\n",
    "\n",
    "X_2[\"A4*N12\"] = X_2[\"No_4_Angle_Deviation\"] * X_2[\"No_12_NASM_Deviation\"]\n",
    "X_2[\"A8*N12\"] = X_2[\"No_8_Angle_Deviation\"] * X_2[\"No_12_NASM_Deviation\"]\n",
    "X_2[\"N2*N20\"] = X_2[\"No_2_NASM_Deviation\"] * X_2[\"No_20_NASM_Deviation\"]\n",
    "X_2[\"N12*N13\"] = X_2[\"No_12_NASM_Deviation\"] * X_2[\"No_13_NASM_Deviation\"]\n",
    "X_2[\"N12*N15\"] = X_2[\"No_12_NASM_Deviation\"] * X_2[\"No_15_NASM_Deviation\"]\n",
    "X_2[\"N12*N16\"] = X_2[\"No_12_NASM_Deviation\"] * X_2[\"No_16_NASM_Deviation\"]\n",
    "X_2[\"N12*N20\"] = X_2[\"No_12_NASM_Deviation\"] * X_2[\"No_20_NASM_Deviation\"]\n",
    "X_2[\"N12*N20*N22\"] = X_2[\"No_12_NASM_Deviation\"] * X_2[\"No_20_NASM_Deviation\"] * X_2[\"No_22_NASM_Deviation\"]\n",
    "X_2[\"N12*N20*N19\"] = X_2[\"No_12_NASM_Deviation\"] * X_2[\"No_20_NASM_Deviation\"] * X_2[\"No_19_NASM_Deviation\"]\n",
    "X_2[\"N12*N20*N19*N16\"] = X_2[\"No_12_NASM_Deviation\"] * X_2[\"No_20_NASM_Deviation\"] * X_2[\"No_19_NASM_Deviation\"]* X_2[\"No_16_NASM_Deviation\"]\n",
    "X_2[\"N12*N23\"] = X_2[\"No_12_NASM_Deviation\"] * X_2[\"No_23_NASM_Deviation\"]\n",
    "X_2[\"N21*N24\"] = X_2[\"No_21_NASM_Deviation\"] * X_2[\"No_24_NASM_Deviation\"]\n",
    "X_2[\"T1*N13\"] = X_2[\"No_1_Time_Deviation\"] * X_2[\"No_13_NASM_Deviation\"]\n",
    "X_2[\"T1*N2\"] = X_2[\"No_1_Time_Deviation\"] * X_2[\"No_2_Angle_Deviation\"]\n",
    "X_2[\"T1*N18\"] = X_2[\"No_1_Time_Deviation\"] * X_2[\"No_18_NASM_Deviation\"]\n",
    "X_2[\"N4*N10*N12\"] = X_2[\"No_4_NASM_Deviation\"] * X_2[\"No_10_NASM_Deviation\"] * X_2[\"No_12_NASM_Deviation\"]\n",
    "X_2[\"N8*N12\"] = X_2[\"No_8_Angle_Deviation\"] * X_2[\"No_12_NASM_Deviation\"]\n",
    "X_2[\"N4*N10*N12*N15\"] = X_2[\"No_4_NASM_Deviation\"] * X_2[\"No_10_NASM_Deviation\"] * X_2[\"No_12_NASM_Deviation\"] * X_2[\"No_15_NASM_Deviation\"]\n",
    "X_2[\"A11*N12\"] = X_2[\"No_11_Angle_Deviation\"] * X_2[\"No_12_NASM_Deviation\"]\n",
    "X_2[\"N8*N15\"] = X_2[\"No_8_NASM_Deviation\"] * X_2[\"No_15_NASM_Deviation\"]\n",
    "X_2[\"N15*N20\"] = X_2[\"No_15_NASM_Deviation\"] * X_2[\"No_20_NASM_Deviation\"]\n",
    "X_2[\"N14*N15*N20*N21\"] = X_2[\"No_14_NASM_Deviation\"] *X_2[\"No_15_NASM_Deviation\"] * X_2[\"No_20_NASM_Deviation\"] * X_2[\"No_21_NASM_Deviation\"]\n",
    "X_2[\"N4*N10\"] = X_2[\"No_4_NASM_Deviation\"] * X_2[\"No_10_NASM_Deviation\"]\n",
    "X_2[\"N4**2\"] = X_2[\"No_4_NASM_Deviation\"] ** 2\n",
    "X_2[\"N8**2\"] = X_2[\"No_8_NASM_Deviation\"] ** 2\n",
    "X_2[\"N10**2\"] = X_2[\"No_10_NASM_Deviation\"] ** 2\n",
    "X_2[\"N10**3\"] = X_2[\"No_10_NASM_Deviation\"] ** 3\n",
    "X_2[\"N8**\"] = X_2[\"No_8_NASM_Deviation\"] ** 3\n",
    "X_2[\"N8**4\"] = X_2[\"No_8_NASM_Deviation\"] ** 4\n",
    "X_2[\"N8**5\"] = X_2[\"No_8_NASM_Deviation\"] ** 5\n",
    "X_2[\"N4*N14\"] = X_2[\"No_4_NASM_Deviation\"] * X_2[\"No_14_NASM_Deviation\"]\n",
    "X_2[\"N20*N24\"] = X_2[\"No_20_NASM_Deviation\"] * X_2[\"No_24_NASM_Deviation\"]\n",
    "X_2[\"N21*N23\"] = X_2[\"No_21_NASM_Deviation\"] * X_2[\"No_23_NASM_Deviation\"]\n",
    "X_2[\"T1*N21*N23\"] = X_2[\"No_1_Time_Deviation\"] * X_2[\"N21*N23\"]\n",
    "X_2[\"T1*N21*N23*N12\"] = X_2[\"No_1_Time_Deviation\"] * X_2[\"N21*N23\"] * X_2[\"No_12_NASM_Deviation\"]\n",
    "X_2[\"T1*N21*N23*N2*N4\"] = X_2[\"No_1_Time_Deviation\"] * X_2[\"N21*N23\"]*X_2[\"No_2_NASM_Deviation\"] * X_2[\"No_4_NASM_Deviation\"]\n",
    "X_2[\"N20*N16\"] = X_2[\"No_20_NASM_Deviation\"] * X_2[\"No_16_NASM_Deviation\"]\n",
    "X_2[\"N20*N16*N19\"] = X_2[\"No_20_NASM_Deviation\"] * X_2[\"No_16_NASM_Deviation\"] * X_2[\"No_19_NASM_Deviation\"]\n",
    "X_2[\"N12*N6\"] = X_2[\"No_12_NASM_Deviation\"] * X_2[\"No_6_NASM_Deviation\"]\n",
    "X_2[\"N12*N7\"] = X_2[\"No_12_NASM_Deviation\"] * X_2[\"No_7_NASM_Deviation\"]\n",
    "X_2[\"N12**2\"] = X_2[\"No_12_NASM_Deviation\"] ** 2\n",
    "X_2[\"N12**3\"] = X_2[\"No_12_NASM_Deviation\"] ** 3\n",
    "X_2[\"N12**4\"] = X_2[\"No_12_NASM_Deviation\"] ** 4\n",
    "X_2[\"N12**5\"] = X_2[\"No_12_NASM_Deviation\"] ** 5\n",
    "X_2[\"N12**6\"] = X_2[\"No_12_NASM_Deviation\"] ** 6\n",
    "X_2[\"N15**3\"] = X_2[\"No_15_NASM_Deviation\"] **3\n",
    "X_2[\"N20**3\"] = X_2[\"No_20_NASM_Deviation\"] **3\n",
    "\n",
    "X_2 = X_2.drop(columns=[\n",
    "    \"No_4_Angle_Deviation\",\n",
    "    \"No_14_NASM_Deviation\",\n",
    "    \"No_4_NASM_Deviation\",\n",
    "    \"No_21_NASM_Deviation\",\n",
    "    \"No_24_NASM_Deviation\",\n",
    "    \"No_25_NASM_Deviation\",\n",
    "    \"No_10_NASM_Deviation\",\n",
    "    \"No_13_NASM_Deviation\"\n",
    "])\n",
    "\n",
    "\n",
    "t = sm.add_constant(temp, prepend=False)\n",
    "model = sm.OLS(y,t).fit()\n",
    "predicted_2 = model.predict(t)\n",
    "\n",
    "res = pd.DataFrame({\"Original\":y,\"Predicted\":predicted_2})\n",
    "\n",
    "fig, ax = plt.subplots(figsize=(9,6))\n",
    "sns.regplot(y=\"Original\", x=\"Predicted\", data=res,ax=ax)\n",
    "plt.xlabel(\"percent of households with low socioeconomic status\")\n",
    "plt.ylabel(\"median house value\")\n",
    "plt.show()\n",
    "r,p = scipy.stats.pearsonr(res.Predicted, res.Original)\n",
    "print(\"r = {} , p < {}\".format(round(r, 3),p))"
   ]
  },
  {
   "cell_type": "markdown",
   "id": "czech-submission",
   "metadata": {},
   "source": [
    "## 3.4 Comparison"
   ]
  },
  {
   "cell_type": "markdown",
   "id": "suspected-terrace",
   "metadata": {},
   "source": [
    "### 3.4.1 Comparing the MSRs "
   ]
  },
  {
   "cell_type": "code",
   "execution_count": 36,
   "id": "ecological-portrait",
   "metadata": {
    "scrolled": false
   },
   "outputs": [
    {
     "data": {
      "image/png": "[encoded data removed]",
      "text/plain": [
       "<Figure size 360x360 with 1 Axes>"
      ]
     },
     "metadata": {},
     "output_type": "display_data"
    }
   ],
   "source": [
    "from sklearn.metrics import mean_squared_error\n",
    "\n",
    "mse_1 = mean_squared_error(y, predicted_1)\n",
    "mse_2 = mean_squared_error(y, predicted_2)\n",
    "\n",
    "results = pd.DataFrame({\"MSR\":[mse_1,mse_2],\"Models\":[\"New Candidate\",\"Original Model\"]})\n",
    "\n",
    "# Set up the matplotlib figure\n",
    "fig, ax = plt.subplots(figsize=(5,5))\n",
    "\n",
    "sns.barplot(data=results, x=\"Models\", y=\"MSR\",ax=ax)\n",
    "\n",
    "# Add labels to plot\n",
    "plt.xlabel(\"Models\")\n",
    "plt.ylabel(\"MSR\")\n",
    "\n",
    "plt.show()"
   ]
  },
  {
   "cell_type": "code",
   "execution_count": null,
   "id": "aboriginal-bernard",
   "metadata": {},
   "outputs": [],
   "source": []
  },
  {
   "cell_type": "code",
   "execution_count": null,
   "id": "immune-parallel",
   "metadata": {},
   "outputs": [],
   "source": []
  },
  {
   "cell_type": "code",
   "execution_count": null,
   "id": "naval-rough",
   "metadata": {},
   "outputs": [],
   "source": []
  },
  {
   "cell_type": "markdown",
   "id": "limiting-interstate",
   "metadata": {},
   "source": [
    "### Logistic regression"
   ]
  },
  {
   "cell_type": "code",
   "execution_count": null,
   "id": "bibliographic-concentrate",
   "metadata": {
    "scrolled": true
   },
   "outputs": [],
   "source": [
    "from sklearn.linear_model import LogisticRegression\n",
    "\n",
    "model_3 = LogisticRegression(solver='liblinear', C=25.0, random_state=0)\n",
    "result_3 = model_3.fit(X_train, y_train)\n",
    "\n",
    "print('Classes: ',result_3.classes_)\n",
    "print('Intercept :', result_3.intercept_)\n",
    "print('Coefficeients: ',result_3.coef_)"
   ]
  },
  {
   "cell_type": "code",
   "execution_count": null,
   "id": "unsigned-minority",
   "metadata": {},
   "outputs": [],
   "source": [
    "prob = result_3.predict_proba(X_test)\n",
    "\n",
    "# Find maximum value from probability prediction array\n",
    "maxValues = pd.DataFrame(prob, columns = range(0,11))\n",
    "\n",
    "# Dominant WeakLink\n",
    "dominant = result_3.classes_[maxValues.idxmax(axis=1, skipna=True)]\n",
    "\n",
    "comparison = pd.DataFrame({'Original': y_test.WeakLinks, 'Dominant':dominant})\n",
    "comparison"
   ]
  },
  {
   "cell_type": "code",
   "execution_count": null,
   "id": "fatal-religious",
   "metadata": {},
   "outputs": [],
   "source": [
    "c,e,p = checkCorrectness(comparison,\"Original\",\"Dominant\")\n",
    "\n",
    "print(\"correct:\" + str(c))\n",
    "print(\"incorrect:\" + str(e))\n",
    "print(\"percentage:\" + str(p))"
   ]
  },
  {
   "cell_type": "code",
   "execution_count": null,
   "id": "silent-notebook",
   "metadata": {},
   "outputs": [],
   "source": [
    "# Save champion model\n",
    "import joblib\n",
    "\n",
    "joblib.dump(result_3, \"logistic_regression.joblib\")"
   ]
  },
  {
   "cell_type": "code",
   "execution_count": null,
   "id": "growing-brisbane",
   "metadata": {},
   "outputs": [],
   "source": [
    "confusion_matrix = comparison.groupby(['Dominant','Original']).size().unstack('Original').fillna(0)\n",
    "confusion_matrix"
   ]
  },
  {
   "cell_type": "code",
   "execution_count": null,
   "id": "optical-violin",
   "metadata": {},
   "outputs": [],
   "source": [
    "pivot = confusion_matrix.to_numpy().max()/2\n",
    "heatMap(confusion_matrix,pivot,0)"
   ]
  },
  {
   "cell_type": "markdown",
   "id": "suffering-danger",
   "metadata": {},
   "source": [
    "### K-Nearest Neighbors Clustering K=2"
   ]
  },
  {
   "cell_type": "code",
   "execution_count": null,
   "id": "third-manchester",
   "metadata": {},
   "outputs": [],
   "source": [
    "from sklearn import neighbors\n",
    "from sklearn.metrics import confusion_matrix,classification_report\n",
    "\n",
    "model_7 = neighbors.KNeighborsClassifier(n_neighbors=2)\n",
    "result_7 = model_7.fit(X_train, y_train)\n",
    "y_pred = result_7.predict(X_test)\n",
    "\n",
    "print(confusion_matrix(y_test, y_pred).T)\n",
    "print(classification_report(y_test, y_pred, digits=3))"
   ]
  },
  {
   "cell_type": "code",
   "execution_count": null,
   "id": "quality-monroe",
   "metadata": {},
   "outputs": [],
   "source": [
    "comparison = pd.DataFrame({'Original': y_test.WeakLinks,'Predicted': y_pred})\n",
    "\n",
    "confusion_matrix = comparison.groupby(['Predicted','Original']).size().unstack('Original').fillna(0)\n",
    "confusion_matrix"
   ]
  },
  {
   "cell_type": "code",
   "execution_count": null,
   "id": "reported-centre",
   "metadata": {},
   "outputs": [],
   "source": [
    "pivot = confusion_matrix.to_numpy().max()/2\n",
    "heatMap(confusion_matrix,pivot,0)"
   ]
  },
  {
   "cell_type": "markdown",
   "id": "happy-colleague",
   "metadata": {},
   "source": [
    "### K-Nearest Neighbors Clustering K=5"
   ]
  },
  {
   "cell_type": "code",
   "execution_count": null,
   "id": "macro-circulation",
   "metadata": {},
   "outputs": [],
   "source": [
    "from sklearn import neighbors\n",
    "from sklearn.metrics import confusion_matrix,classification_report\n",
    "\n",
    "model_7 = neighbors.KNeighborsClassifier(n_neighbors=5)\n",
    "result_7 = model_7.fit(X_train, y_train)\n",
    "y_pred = result_7.predict(X_test)\n",
    "\n",
    "print(confusion_matrix(y_test, y_pred).T)\n",
    "print(classification_report(y_test, y_pred, digits=3))"
   ]
  },
  {
   "cell_type": "code",
   "execution_count": null,
   "id": "based-issue",
   "metadata": {},
   "outputs": [],
   "source": [
    "comparison = pd.DataFrame({'Original': y_test.WeakLinks,'Predicted': y_pred})\n",
    "\n",
    "confusion_matrix = comparison.groupby(['Predicted','Original']).size().unstack('Original').fillna(0)\n",
    "confusion_matrix"
   ]
  },
  {
   "cell_type": "code",
   "execution_count": null,
   "id": "sophisticated-alcohol",
   "metadata": {},
   "outputs": [],
   "source": [
    "pivot = confusion_matrix.to_numpy().max()/2\n",
    "heatMap(confusion_matrix,pivot,0)"
   ]
  }
 ],
 "metadata": {
  "kernelspec": {
   "display_name": "Python 3",
   "language": "python",
   "name": "python3"
  },
  "language_info": {
   "codemirror_mode": {
    "name": "ipython",
    "version": 3
   },
   "file_extension": ".py",
   "mimetype": "text/x-python",
   "name": "python",
   "nbconvert_exporter": "python",
   "pygments_lexer": "ipython3",
   "version": "3.8.5"
  }
 },
 "nbformat": 4,
 "nbformat_minor": 5
}
