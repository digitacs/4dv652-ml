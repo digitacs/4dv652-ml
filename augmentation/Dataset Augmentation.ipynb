{
 "cells": [
  {
   "cell_type": "markdown",
   "id": "aware-instrument",
   "metadata": {},
   "source": [
    "# Dataset Augmentation\n",
    "\n",
    "## Explaination\n",
    "\n",
    "### CASE-1  Append False\n",
    "    lets assume we have <font color='red'> A </font>\n",
    "    we perform mirror, it will be <font color='red'> A-mirror </font>\n",
    "    we perform multiplie, it will be <font color='red'> A-multiplier </font>\n",
    "\n",
    "### CASE-2  Append True for First one\n",
    "    lets assume we have <font color='red'> A </font>\n",
    "    we perform mirror, it will be <font color='red'> A + A-mirror </font>\n",
    "    we perform multiplier, it will be <font color='red'> A-multiplier + A-mirror-multiplier </font>\n",
    "    \n",
    "### CASE-3  Append True for all\n",
    "    lets assume we have <font color='red'> A </font>\n",
    "    we perform mirror, it will be <font color='red'> A + A-mirror </font>\n",
    "    we perform multiplier, it will be <font color='red'> A + A-mirror + A-multiplier + A-mirror-multiplier </font>\n",
    "    "
   ]
  },
  {
   "cell_type": "code",
   "execution_count": 21,
   "id": "sunset-token",
   "metadata": {},
   "outputs": [],
   "source": [
    "import sys\n",
    "import pandas as pd\n",
    "import numpy as np"
   ]
  },
  {
   "cell_type": "markdown",
   "id": "copyrighted-recruitment",
   "metadata": {},
   "source": [
    "# Example dataset used\n",
    "\n",
    "## 1. Read dataset"
   ]
  },
  {
   "cell_type": "code",
   "execution_count": 22,
   "id": "suspended-diary",
   "metadata": {},
   "outputs": [],
   "source": [
    "dirname = '../datasets/marked_start_mid_end/'\n",
    "suffix = '.csv'\n",
    "\n",
    "def read_from_file( file_name, rand_num):\n",
    "    \n",
    "    try:\n",
    "        #full_file_name = file_name + str(rand_num) + \"_kinect\"\n",
    "        full_file_name = file_name + str(rand_num)\n",
    "\n",
    "        file_at_path = dirname + full_file_name + suffix\n",
    "\n",
    "        data = pd.read_csv(file_at_path)\n",
    "        \n",
    "        return data, full_file_name\n",
    "    \n",
    "    except IOError as e:\n",
    "        print(e)\n",
    "        return None,None"
   ]
  },
  {
   "cell_type": "markdown",
   "id": "alert-savage",
   "metadata": {},
   "source": [
    "## 2. Read files"
   ]
  },
  {
   "cell_type": "markdown",
   "id": "trained-timing",
   "metadata": {},
   "source": [
    "### 2.1 The A series (A1-A159)"
   ]
  },
  {
   "cell_type": "code",
   "execution_count": 23,
   "id": "consolidated-victoria",
   "metadata": {},
   "outputs": [
    {
     "output_type": "stream",
     "name": "stdout",
     "text": [
      "(229, 28)\n",
      "[Errno 2] No such file or directory: '../datasets/marked_start_mid_end/A60.csv'\n",
      "[Errno 2] No such file or directory: '../datasets/marked_start_mid_end/A107.csv'\n",
      "(33093, 28)\n"
     ]
    }
   ],
   "source": [
    "raw_data, full_file_name = read_from_file(\"A\", 1)\n",
    "\n",
    "#print(full_file_name)\n",
    "print(raw_data.shape)\n",
    "\n",
    "for i in range(2,160):\n",
    "    input_data, full_file_name = read_from_file(\"A\", i)\n",
    "    \n",
    "    if(full_file_name is None):\n",
    "        continue\n",
    "    else:\n",
    "        #print(full_file_name)\n",
    "        raw_data = raw_data.append(input_data, ignore_index = True)\n",
    "\n",
    "print(raw_data.shape)"
   ]
  },
  {
   "cell_type": "markdown",
   "id": "driven-graph",
   "metadata": {},
   "source": [
    "### 2.2 The B series (B1-B22)"
   ]
  },
  {
   "cell_type": "code",
   "execution_count": 24,
   "id": "reserved-victoria",
   "metadata": {},
   "outputs": [
    {
     "output_type": "stream",
     "name": "stdout",
     "text": [
      "(38488, 28)\n"
     ]
    }
   ],
   "source": [
    "for i in range(1,23):\n",
    "    input_data, full_file_name = read_from_file(\"B\", i)\n",
    "    \n",
    "    if(full_file_name is None):\n",
    "        continue\n",
    "    else:\n",
    "        #print(full_file_name)\n",
    "        raw_data = raw_data.append(input_data, ignore_index = True)\n",
    "\n",
    "print(raw_data.shape)"
   ]
  },
  {
   "cell_type": "markdown",
   "id": "decreased-dinner",
   "metadata": {},
   "source": [
    "# Data augumentation"
   ]
  },
  {
   "cell_type": "markdown",
   "id": "stretch-classroom",
   "metadata": {},
   "source": [
    "## <font color='green'> Mirror </font>\n",
    "\n",
    "    'a' means all axis else 'x', 'y' or 'z'\n",
    "    if Append calculated data will be appended to the input data"
   ]
  },
  {
   "cell_type": "code",
   "execution_count": 25,
   "id": "stone-adapter",
   "metadata": {},
   "outputs": [],
   "source": [
    "# 'a' means all axis else 'x', 'y' or 'z'\n",
    "# if Append calculated data will be appended to the input data\n",
    "def mirror(data, axis, append=False):\n",
    "    \n",
    "    try:\n",
    "        \n",
    "        if axis == 'a':\n",
    "            target_labels = [col for col in raw_data.columns]\n",
    "        else:\n",
    "            axis = \"_\" + axis\n",
    "            target_labels = [col for col in raw_data.columns if axis in col]\n",
    "\n",
    "        aug_data_mirror = data.copy()\n",
    "\n",
    "        for t in target_labels:\n",
    "            temp = -aug_data_mirror[t]\n",
    "            aug_data_mirror = aug_data_mirror.assign(**{t: temp.values})\n",
    "\n",
    "        if append:\n",
    "            return data.append(aug_data_mirror,ignore_index=True)\n",
    "\n",
    "        return aug_data_mirror\n",
    "    \n",
    "    except IOError as e:\n",
    "        print(e)\n",
    "        return None"
   ]
  },
  {
   "cell_type": "code",
   "execution_count": 26,
   "id": "eligible-farmer",
   "metadata": {},
   "outputs": [
    {
     "output_type": "stream",
     "name": "stdout",
     "text": [
      "(38488, 28)\n"
     ]
    }
   ],
   "source": [
    "aug_data_x_mirror = mirror(raw_data,'x')\n",
    "print(aug_data_x_mirror.shape)"
   ]
  },
  {
   "cell_type": "code",
   "execution_count": 27,
   "id": "operating-shock",
   "metadata": {},
   "outputs": [
    {
     "output_type": "stream",
     "name": "stdout",
     "text": [
      "(76976, 28)\n"
     ]
    }
   ],
   "source": [
    "aug_data_x_mirror_append = mirror(raw_data,'x', append=True)\n",
    "print(aug_data_x_mirror_append.shape)"
   ]
  },
  {
   "cell_type": "code",
   "execution_count": 28,
   "id": "amateur-mileage",
   "metadata": {},
   "outputs": [
    {
     "output_type": "stream",
     "name": "stdout",
     "text": [
      "(38488, 28)\n"
     ]
    }
   ],
   "source": [
    "aug_data_a_mirror = mirror(raw_data,'a')\n",
    "print(aug_data_a_mirror.shape)"
   ]
  },
  {
   "cell_type": "code",
   "execution_count": 29,
   "id": "aware-philadelphia",
   "metadata": {
    "scrolled": true
   },
   "outputs": [
    {
     "output_type": "stream",
     "name": "stdout",
     "text": [
      "(76976, 28)\n"
     ]
    }
   ],
   "source": [
    "aug_data_a_mirror_append = mirror(raw_data,'a', append=True)\n",
    "print(aug_data_a_mirror_append.shape)"
   ]
  },
  {
   "cell_type": "markdown",
   "id": "everyday-people",
   "metadata": {},
   "source": [
    "## <font color='green'> Multiplier </font>\n",
    "\n",
    "    if multiplier > 1 strecth and if multiplier < 1 compress\n",
    "    if Append calculated data will be appended to input data"
   ]
  },
  {
   "cell_type": "code",
   "execution_count": 30,
   "id": "authentic-scratch",
   "metadata": {},
   "outputs": [],
   "source": [
    "# if multiplier > 1 strecth and if multiplier < 1 compress\n",
    "# if Append calculated data will be appended to input data\n",
    "def augMultiplier(data, multiplier, append=False):\n",
    "    \n",
    "    try:\n",
    "        aug_data_offset = data.copy()\n",
    "        aug_data_offset *= multiplier\n",
    "        if append:\n",
    "            return data.append(aug_data_offset,ignore_index=True)\n",
    "        \n",
    "        return aug_data_offset\n",
    "    \n",
    "    except IOError as e:\n",
    "        print(e)\n",
    "        return None"
   ]
  },
  {
   "cell_type": "code",
   "execution_count": 31,
   "id": "breeding-browser",
   "metadata": {},
   "outputs": [
    {
     "output_type": "stream",
     "name": "stdout",
     "text": [
      "(38488, 28)\n"
     ]
    }
   ],
   "source": [
    "aug_data_offset = augMultiplier(raw_data, multiplier=2)\n",
    "print(aug_data_offset.shape)"
   ]
  },
  {
   "cell_type": "code",
   "execution_count": 32,
   "id": "narrative-friendly",
   "metadata": {},
   "outputs": [
    {
     "output_type": "stream",
     "name": "stdout",
     "text": [
      "(76976, 28)\n"
     ]
    }
   ],
   "source": [
    "aug_data_offset_append = augMultiplier(raw_data, multiplier=0.5, append=True)\n",
    "print(aug_data_offset_append.shape)"
   ]
  },
  {
   "cell_type": "markdown",
   "id": "heard-secret",
   "metadata": {},
   "source": [
    "## <font color='green'> Rotate </font>"
   ]
  },
  {
   "cell_type": "code",
   "execution_count": 33,
   "id": "handled-switzerland",
   "metadata": {},
   "outputs": [],
   "source": [
    "def rotatePoint(angle, x,y):\n",
    "    a = np.radians(angle)\n",
    "    cosa = np.cos(a)\n",
    "    sina = np.sin(a)\n",
    "    return x*cosa - y*sina, x*sina + y*cosa"
   ]
  },
  {
   "cell_type": "code",
   "execution_count": 34,
   "id": "discrete-edinburgh",
   "metadata": {},
   "outputs": [],
   "source": [
    "def rotate(data, angle, posenet=False):\n",
    "    \n",
    "    try:\n",
    "        aug_data = data.copy()\n",
    "        length = len(aug_data)\n",
    "        if posenet:\n",
    "            for index, row in aug_data.iterrows():\n",
    "                head_x, head_y = rotatePoint(angle,row['head_x'],row['head_y'])\n",
    "                leftShoulder_x, leftShoulder_y = rotatePoint(angle,row['leftShoulder_x'],row['leftShoulder_y'])\n",
    "                rightShoulder_x, rightShoulder_y = rotatePoint(angle,row['rightShoulder_x'],row['rightShoulder_y'])\n",
    "                leftElbow_x, leftElbow_y = rotatePoint(angle,row['leftElbow_x'],row['leftElbow_y'])\n",
    "                rightElbow_x, rightElbow_y = rotatePoint(angle,row['rightElbow_x'],row['rightElbow_y'])\n",
    "                leftWrist_x, leftWrist_y = rotatePoint(angle,row['leftWrist_x'],row['leftWrist_y'])\n",
    "                rightWrist_x, rightWrist_y = rotatePoint(angle,row['rightWrist_x'],row['rightWrist_y'])\n",
    "                leftHip_x, leftHip_y = rotatePoint(angle,row['leftHip_x'],row['leftHip_y'])\n",
    "                rightHip_x, rightHip_y = rotatePoint(angle,row['rightHip_x'],row['rightHip_y'])\n",
    "                leftKnee_x, leftKnee_y = rotatePoint(angle,row['leftKnee_x'],row['leftKnee_y'])\n",
    "                rightKnee_x, rightKnee_y = rotatePoint(angle,row['rightKnee_x'],row['rightKnee_y'])\n",
    "                leftAnkle_x, leftAnkle_y = rotatePoint(angle,row['leftAnkle_x'],row['leftAnkle_y'])\n",
    "                rightAnkle_x, rightAnkle_y = rotatePoint(angle,row['rightAnkle_x'],row['rightAnkle_y']) \n",
    "                aug_data = aug_data.append({'head_x':head_x,'head_y':head_y,\n",
    "                                            'leftShoulder_x':leftShoulder_x,'leftShoulder_y':leftShoulder_y,\n",
    "                                            'rightShoulder_x':rightShoulder_x,'rightShoulder_y':rightShoulder_y,\n",
    "                                            'leftElbow_x':leftElbow_x,'leftElbow_y':leftElbow_y,\n",
    "                                            'rightElbow_x':rightElbow_x,'rightElbow_y':rightElbow_y,\n",
    "                                            'leftWrist_x':leftWrist_x,'leftWrist_y':leftWrist_y,\n",
    "                                            'rightWrist_x':rightWrist_x,'rightWrist_y':rightWrist_y,\n",
    "                                            'leftHip_x':leftHip_x,'leftHip_y':leftHip_y,\n",
    "                                            'rightHip_x':rightHip_x,'rightHip_y':rightHip_y,\n",
    "                                            'leftKnee_x':leftKnee_x,'leftKnee_y':leftKnee_y,\n",
    "                                            'rightKnee_x':rightKnee_x,'rightKnee_y':rightKnee_y,\n",
    "                                            'leftAnkle_x':leftAnkle_x,'leftAnkle_y':leftAnkle_y,\n",
    "                                            'rightAnkle_x':rightAnkle_x,'rightAnkle_y':rightAnkle_y},ignore_index=True)\n",
    "        else:\n",
    "            for index, row in aug_data.iterrows():\n",
    "                head_x, head_y = rotatePoint(angle,row[' head_x'],row['head_y'])\n",
    "                left_shoulder_x, left_shoulder_y = rotatePoint(angle,row['left_shoulder_x'],row['left_shoulder_y'])\n",
    "                right_shoulder_x, right_shoulder_y = rotatePoint(angle,row['right_shoulder_x'],row['right_shoulder_y'])\n",
    "                left_elbow_x, left_elbow_y = rotatePoint(angle,row['left_elbow_x'],row['left_elbow_y'])\n",
    "                right_elbow_x, right_elbow_y = rotatePoint(angle,row['right_elbow_x'],row['right_elbow_y'])\n",
    "                left_hand_x, left_hand_y = rotatePoint(angle,row['left_hand_x'],row['left_hand_y'])\n",
    "                right_hand_x, right_hand_y = rotatePoint(angle,row['right_hand_x'],row['right_hand_y'])\n",
    "                left_hip_x, left_hip_y = rotatePoint(angle,row['left_hip_x'],row['left_hip_y'])\n",
    "                right_hip_x, right_hip_y = rotatePoint(angle,row['right_hip_x'],row['right_hip_y'])\n",
    "                left_knee_x, left_knee_y = rotatePoint(angle,row['left_knee_x'],row['left_knee_y'])\n",
    "                right_knee_x, right_knee_y = rotatePoint(angle,row['right_knee_x'],row['right_knee_y'])\n",
    "                left_foot_x, left_foot_y = rotatePoint(angle,row['left_foot_x'],row['left_foot_y'])\n",
    "                right_foot_x, right_foot_y = rotatePoint(angle,row['right_foot_x'],row['right_foot_y']) \n",
    "                aug_data = aug_data.append({' head_x':head_x,'head_y':head_y,\n",
    "                                            'left_shoulder_x':left_shoulder_x,'left_shoulder_y':left_shoulder_y,\n",
    "                                            'right_shoulder_x':right_shoulder_x,'right_shoulder_y':right_shoulder_y,\n",
    "                                            'left_elbow_x':left_elbow_x,'left_elbow_y':left_elbow_y,\n",
    "                                            'right_elbow_x':right_elbow_x,'right_elbow_y':right_elbow_y,\n",
    "                                            'left_hand_x':left_hand_x,'left_hand_y':left_hand_y,\n",
    "                                            'right_hand_x':right_hand_x,'right_hand_y':right_hand_y,\n",
    "                                            'left_hip_x':left_hip_x,'left_hip_y':left_hip_y,\n",
    "                                            'right_hip_x':right_hip_x,'right_hip_y':right_hip_y,\n",
    "                                            'left_knee_x':left_knee_x,'left_knee_y':left_knee_y,\n",
    "                                            'right_knee_x':right_knee_x,'right_knee_y':right_knee_y,\n",
    "                                            'left_foot_x':left_foot_x,'left_foot_y':left_foot_y,\n",
    "                                            'right_foot_x':right_foot_x,'right_foot_y':right_foot_y},ignore_index=True)\n",
    "        \n",
    "        return aug_data\n",
    "    \n",
    "    except IOError as e:\n",
    "        print(e)\n",
    "        return None"
   ]
  },
  {
   "cell_type": "code",
   "execution_count": 35,
   "id": "graduate-promise",
   "metadata": {},
   "outputs": [
    {
     "output_type": "stream",
     "name": "stdout",
     "text": [
      "       FrameNo      head_x       head_y  leftShoulder_x  leftShoulder_y  \\\n0            0  262.066742   994.135620      375.759686     1057.411090   \n1            1  263.581139   992.800872      375.749203     1056.170479   \n2            2  263.243067   993.016745      375.931049     1055.647247   \n3            3  264.052307   992.361849      377.491020     1056.573054   \n4            4  263.674868   992.907155      377.245414     1056.405841   \n...        ...         ...          ...             ...             ...   \n38483      235  187.020227  1063.302928      268.349169     1101.640977   \n38484      236  186.034678  1063.276455      267.295066     1101.947708   \n38485      237  186.855136  1061.691429      265.131050     1100.384655   \n38486      238  186.557939  1058.923707      260.327946     1095.851565   \n38487      239  185.851574  1058.682094      258.055370     1101.839875   \n\n       rightShoulder_x  rightShoulder_y  leftElbow_x  leftElbow_y  \\\n0           382.580955       920.305207   496.493179  1079.227467   \n1           381.573855       920.501798   496.708486  1078.117512   \n2           381.855203       920.968293   495.078997  1078.130609   \n3           382.514724       920.283090   496.138878  1077.009937   \n4           382.608525       920.873450   493.847589  1076.760449   \n...                ...              ...          ...          ...   \n38483       275.092599       980.337267   370.437723  1153.259502   \n38484       274.296104       982.232003   368.424443  1140.413321   \n38485       275.215525       981.939868   365.989888  1153.517583   \n38486       273.896970       980.764162   352.193104  1139.656477   \n38487       273.309626       980.763985   364.944871  1144.986951   \n\n       rightElbow_x  ...   rightHip_y  leftKnee_x   leftKnee_y  rightKnee_x  \\\n0        501.843892  ...   932.162345  790.678961  1048.936701   799.932411   \n1        498.224803  ...   942.356170  788.839322  1046.899053   789.020575   \n2        501.484271  ...   942.744961  791.051172  1047.688357   785.984456   \n3        504.516806  ...   943.913966  783.807687  1041.109386   789.262715   \n4        505.960956  ...   942.773498  782.652318  1040.924647   788.349922   \n...             ...  ...          ...         ...          ...          ...   \n38483    378.432958  ...  1004.961255  643.393000  1085.001933   636.348946   \n38484    377.119350  ...  1005.780483  638.514953  1084.204138   637.767792   \n38485    378.954248  ...  1004.996926  638.237042  1083.858278   638.585463   \n38486    374.662521  ...  1001.659971  637.281734  1083.874370   639.221573   \n38487    371.892162  ...  1008.504230  641.796321  1085.459160   637.586840   \n\n       rightKnee_y  leftAnkle_x  leftAnkle_y  rightAnkle_x  rightAnkle_y  \\\n0       916.659549   987.035062  1052.085086    985.324309    914.177256   \n1       911.572589   987.674662  1053.617341    982.446002    913.666266   \n2       912.766431   988.034841  1054.136438    982.152660    915.409163   \n3       912.361445   987.864322  1053.845620    984.492254    916.521814   \n4       912.042381   987.438456  1053.170948    982.304178    913.830744   \n...            ...          ...          ...           ...           ...   \n38483  1013.502414   794.880987  1080.577164    793.098244   1003.013258   \n38484  1013.403677   794.218175  1079.982319    793.458130   1003.044199   \n38485  1013.539751   793.801283  1079.818405    793.777122   1002.993298   \n38486  1004.560148   793.834250  1079.758448    793.826335   1003.044853   \n38487  1012.432205   794.001962  1080.628126    793.510520   1002.885960   \n\n       status  \n0           0  \n1           0  \n2           0  \n3           0  \n4           0  \n...       ...  \n38483       2  \n38484       2  \n38485       2  \n38486       2  \n38487       2  \n\n[38488 rows x 28 columns]\n    FrameNo      head_x      head_y  leftShoulder_x  leftShoulder_y  \\\n0       0.0  262.066742  994.135620      375.759686     1057.411090   \n1       1.0  263.581139  992.800872      375.749203     1056.170479   \n2       2.0  263.243067  993.016745      375.931049     1055.647247   \n3       3.0  264.052307  992.361849      377.491020     1056.573054   \n4       4.0  263.674868  992.907155      377.245414     1056.405841   \n5       5.0  263.866808  992.915822      377.692335     1057.053489   \n6       6.0  263.779731  992.854358      378.216695     1056.491807   \n7       7.0  263.812344  993.278184      378.188847     1056.364199   \n8       8.0  263.396337  993.372155      378.281319     1056.457882   \n9       9.0  263.313774  992.983387      378.051834     1057.111169   \n10      NaN  430.715198  933.525054      553.668561      976.096654   \n11      NaN  431.974811  931.947611      553.442807      974.876712   \n12      NaN  431.679362  932.218910      553.531032      974.329852   \n13      NaN  432.362585  931.433441      555.228068      974.970708   \n14      NaN  432.085572  932.036004      554.957158      974.848683   \n15      NaN  432.276102  932.011209      555.509752      975.408886   \n16      NaN  432.179674  931.965800      555.928610      974.764683   \n17      NaN  432.285388  932.377523      555.879026      974.643849   \n18      NaN  431.892019  932.542306      555.986362      974.720052   \n19      NaN  431.743202  932.173781      555.873805      975.403263   \n\n    rightShoulder_x  rightShoulder_y  leftElbow_x  leftElbow_y  rightElbow_x  \\\n0        382.580955       920.305207   496.493179  1079.227467    501.843892   \n1        381.573855       920.501798   496.708486  1078.117512    498.224803   \n2        381.855203       920.968293   495.078997  1078.130609    501.484271   \n3        382.514724       920.283090   496.138878  1077.009937    504.516806   \n4        382.608525       920.873450   493.847589  1076.760449    505.960956   \n5        381.870450       921.498170   493.501056  1076.238506    504.750009   \n6        381.856089       921.518940   494.203263  1075.862387    504.191375   \n7        381.959575       921.566659   495.498815  1077.529412    505.234305   \n8        382.357842       921.122933   494.953912  1077.839628    505.599854   \n9        382.873244       919.699490   491.723925  1081.844968    495.280277   \n10       536.578013       839.889217   676.356215   976.616441    650.805850   \n11       535.620351       840.257703   676.375510   975.485961    646.926001   \n12       535.978430       840.668255   674.773050   975.781816    650.268628   \n13       536.508947       839.878937   675.622226   974.494125    653.328493   \n14       536.703838       840.444040   673.322424   974.646304    654.883873   \n15       536.085458       841.187435   672.890521   974.192466    653.873312   \n16       536.074922       841.210383   673.516748   973.700124    653.319685   \n17       536.185122       841.239407   675.082093   975.116853    654.432590   \n18       536.500286       840.733264   674.599337   975.516977    654.587895   \n19       536.760680       839.241947   672.113941   980.022348    643.247851   \n\n    ...  rightHip_y  leftKnee_x   leftKnee_y  rightKnee_x  rightKnee_y  \\\n0   ...  932.162345  790.678961  1048.936701   799.932411   916.659549   \n1   ...  942.356170  788.839322  1046.899053   789.020575   911.572589   \n2   ...  942.744961  791.051172  1047.688357   785.984456   912.766431   \n3   ...  943.913966  783.807687  1041.109386   789.262715   912.361445   \n4   ...  942.773498  782.652318  1040.924647   788.349922   912.042381   \n5   ...  941.536880  783.800767  1039.875912   789.406777   913.393860   \n6   ...  941.666464  789.130880  1047.598564   789.727399   913.953322   \n7   ...  942.290435  788.911109  1048.226004   778.392791   924.165447   \n8   ...  942.062353  780.407068  1041.247015   788.788469   914.142925   \n9   ...  935.361255  789.183133  1050.129471   776.271608   922.135732   \n10  ...  812.671448  960.812717   895.701035   946.955901   763.826625   \n11  ...  823.640637  958.647193   894.013793   935.326498   760.711768   \n12  ...  823.890476  960.962501   894.407023   932.543814   762.414689   \n13  ...  825.125444  952.686635   889.185818   935.701944   761.446592   \n14  ...  824.036162  951.516738   889.204514   934.747613   761.290881   \n15  ...  823.015274  952.465629   887.972285   936.023094   762.438306   \n16  ...  823.119606  959.055790   894.652049   936.435994   762.933593   \n17  ...  823.658645  958.948312   895.308119   927.046901   774.958808   \n18  ...  823.402325  949.361578   889.911868   935.544253   763.283360   \n19  ...  816.184453  959.546737   897.135432   924.605487   773.328268   \n\n    leftAnkle_x  leftAnkle_y  rightAnkle_x  rightAnkle_y  status  \n0    987.035062  1052.085086    985.324309    914.177256     0.0  \n1    987.674662  1053.617341    982.446002    913.666266     0.0  \n2    988.034841  1054.136438    982.152660    915.409163     0.0  \n3    987.864322  1053.845620    984.492254    916.521814     0.0  \n4    987.438456  1053.170948    982.304178    913.830744     0.0  \n5    987.859097  1053.771122    981.648023    913.512361     0.0  \n6    988.167075  1053.556277    981.343321    913.562862     0.0  \n7    988.229777  1053.264500    981.111465    913.741334     0.0  \n8    988.474371  1053.208370    981.195015    913.408041     0.0  \n9    988.030282  1052.898044    982.553542    913.862464     0.0  \n10  1154.732440   864.704710   1129.100233    729.189079     NaN  \n11  1155.628395   866.102621   1126.176921    729.185665     NaN  \n12  1156.073243   866.551287   1126.190687    730.953021     NaN  \n13  1155.854815   866.294498   1128.687948    731.642503     NaN  \n14  1155.318263   865.704027   1126.065814    729.372271     NaN  \n15  1155.836732   866.222039   1125.364340    729.172665     NaN  \n16  1156.102724   865.956978   1125.073037    729.275310     NaN  \n17  1156.113807   865.658746   1124.875695    729.491332     NaN  \n18  1156.344938   865.560995   1124.900100    729.148594     NaN  \n19  1155.853708   865.332499   1126.316897    729.360208     NaN  \n\n[20 rows x 28 columns]\n"
     ]
    }
   ],
   "source": [
    "print(raw_data)\n",
    "aug_data = rotate(raw_data.head(10),-10,True)\n",
    "print(aug_data)"
   ]
  },
  {
   "cell_type": "markdown",
   "id": "insured-sport",
   "metadata": {},
   "source": [
    "## <font color='red'> Test </font>"
   ]
  },
  {
   "cell_type": "code",
   "execution_count": 36,
   "id": "scenic-pierre",
   "metadata": {},
   "outputs": [],
   "source": [
    "import matplotlib.pyplot as plt\n",
    "\n",
    "def drawP(data, posenet=False):\n",
    "    try:\n",
    "        aug_data = data.copy()\n",
    "        if posenet:\n",
    "            for index, row in aug_data.iterrows():                \n",
    "                fig=plt.figure() \n",
    "                ax=fig.add_subplot(111,projection='3d')\n",
    "\n",
    "                # for rotate the axes and update.\n",
    "                for angle in range(0,360): \n",
    "                    ax.view_init(90,angle)\n",
    "\n",
    "                plt.plot([row['leftShoulder_x'],row['leftElbow_x']],[row['leftShoulder_y'],row['leftElbow_y']])\n",
    "                \n",
    "                plt.plot([row['leftElbow_x'],row['leftWrist_x']],[row['leftElbow_y'],row['leftWrist_y']])\n",
    "                \n",
    "                plt.plot([row['leftShoulder_x'],row['leftHip_x']],[row['leftShoulder_y'],row['leftHip_y']])\n",
    "                \n",
    "                plt.plot([row['leftHip_x'],row['leftKnee_x']],[row['leftHip_y'],row['leftKnee_y']])\n",
    "                \n",
    "                plt.plot([row['leftKnee_x'],row['leftAnkle_x']],[row['leftKnee_y'],row['leftAnkle_y']])\n",
    "                \n",
    "                plt.plot([row['leftShoulder_x'],row['rightShoulder_x']],[row['leftShoulder_y'],row['rightShoulder_y']])\n",
    "                \n",
    "                plt.plot([row['rightElbow_x'],row['rightWrist_x']],[row['rightElbow_y'],row['rightWrist_y']])\n",
    "                \n",
    "                plt.plot([row['rightShoulder_x'],row['rightHip_x']],[row['rightShoulder_y'],row['rightHip_y']])\n",
    "                \n",
    "                plt.plot([row['rightHip_x'],row['rightKnee_x']],[row['rightHip_y'],row['rightKnee_y']])\n",
    "                \n",
    "                plt.plot([row['rightShoulder_x'],row['rightElbow_x']],[row['rightShoulder_y'],row['rightElbow_y']])\n",
    "                \n",
    "                plt.plot([row['rightKnee_x'],row['rightAnkle_x']],[row['rightKnee_y'],row['rightAnkle_y']])\n",
    "\n",
    "        else:\n",
    "            for index, row in aug_data.iterrows():\n",
    "                \n",
    "                fig=plt.figure() \n",
    "                ax=fig.add_subplot(111,projection='3d')\n",
    "\n",
    "                # for rotate the axes and update.\n",
    "                for angle in range(0,360): \n",
    "                    ax.view_init(90,angle)\n",
    "\n",
    "                plt.plot([row['left_shoulder_x'],row['left_elbow_x']],[row['left_shoulder_y'],row['left_elbow_y']])\n",
    "                \n",
    "                plt.plot([row['left_elbow_x'],row['left_wrist_x']],[row['left_elbow_y'],row['left_wrist_y']])\n",
    "                \n",
    "                plt.plot([row['left_shoulder_x'],row['left_hip_x']],[row['left_shoulder_y'],row['left_hip_y']])\n",
    "                \n",
    "                plt.plot([row['left_hip_x'],row['left_knee_x']],[row['left_hip_y'],row['left_knee_y']])\n",
    "                \n",
    "                plt.plot([row['left_knee_x'],row['left_ankle_x']],[row['left_knee_y'],row['left_ankle_y']])\n",
    "                \n",
    "                plt.plot([row['left_shoulder_x'],row['right_shoulder_x']],[row['left_shoulder_y'],row['right_shoulder_y']])\n",
    "                \n",
    "                plt.plot([row['right_elbow_x'],row['right_wrist_x']],[row['right_elbow_y'],row['right_wrist_y']])\n",
    "                \n",
    "                plt.plot([row['right_shoulder_x'],row['right_hip_x']],[row['right_shoulder_y'],row['right_hip_y']])\n",
    "                \n",
    "                plt.plot([row['right_hip_x'],row['right_knee_x']],[row['right_hip_y'],row['right_knee_y']])\n",
    "                \n",
    "                plt.plot([row['right_shoulder_x'],row['right_elbow_x']],[row['right_shoulder_y'],row['right_elbow_y']])\n",
    "                \n",
    "                plt.plot([row['right_knee_x'],row['right_ankle_x']],[row['right_knee_y'],row['right_ankle_y']])\n",
    "                    \n",
    "        plt.show()\n",
    "    except IOError as e:\n",
    "        print(e)"
   ]
  },
  {
   "cell_type": "code",
   "execution_count": 42,
   "id": "comprehensive-tracy",
   "metadata": {},
   "outputs": [
    {
     "output_type": "display_data",
     "data": {
      "text/plain": "<Figure size 432x288 with 1 Axes>",
      "image/svg+xml": "<?xml version=\"1.0\" encoding=\"utf-8\" standalone=\"no\"?>\r\n<!DOCTYPE svg PUBLIC \"-//W3C//DTD SVG 1.1//EN\"\r\n  \"http://www.w3.org/Graphics/SVG/1.1/DTD/svg11.dtd\">\r\n<svg height=\"231.84pt\" version=\"1.1\" viewBox=\"0 0 231.84 231.84\" width=\"231.84pt\" xmlns=\"http://www.w3.org/2000/svg\" xmlns:xlink=\"http://www.w3.org/1999/xlink\">\r\n <metadata>\r\n  <rdf:RDF xmlns:cc=\"http://creativecommons.org/ns#\" xmlns:dc=\"http://purl.org/dc/elements/1.1/\" xmlns:rdf=\"http://www.w3.org/1999/02/22-rdf-syntax-ns#\">\r\n   <cc:Work>\r\n    <dc:type rdf:resource=\"http://purl.org/dc/dcmitype/StillImage\"/>\r\n    <dc:date>2021-05-14T18:57:15.850986</dc:date>\r\n    <dc:format>image/svg+xml</dc:format>\r\n    <dc:creator>\r\n     <cc:Agent>\r\n      <dc:title>Matplotlib v3.4.2, https://matplotlib.org/</dc:title>\r\n     </cc:Agent>\r\n    </dc:creator>\r\n   </cc:Work>\r\n  </rdf:RDF>\r\n </metadata>\r\n <defs>\r\n  <style type=\"text/css\">*{stroke-linecap:butt;stroke-linejoin:round;}</style>\r\n </defs>\r\n <g id=\"figure_1\">\r\n  <g id=\"patch_1\">\r\n   <path d=\"M 0 231.84 \r\nL 231.84 231.84 \r\nL 231.84 0 \r\nL 0 0 \r\nz\r\n\" style=\"fill:none;\"/>\r\n  </g>\r\n  <g id=\"patch_2\">\r\n   <path d=\"M 7.2 224.64 \r\nL 224.64 224.64 \r\nL 224.64 7.2 \r\nL 7.2 7.2 \r\nz\r\n\" style=\"fill:#ffffff;\"/>\r\n  </g>\r\n  <g id=\"pane3d_1\">\r\n   <g id=\"patch_3\">\r\n    <path d=\"M 51.886791 46.010034 \r\nL 185.829966 46.010034 \r\nL 192.088992 39.751008 \r\nL 45.627764 39.751008 \r\n\" style=\"fill:#f2f2f2;opacity:0.5;stroke:#f2f2f2;stroke-linejoin:miter;\"/>\r\n   </g>\r\n  </g>\r\n  <g id=\"pane3d_2\">\r\n   <g id=\"patch_4\">\r\n    <path d=\"M 51.886791 46.010034 \r\nL 51.886791 179.953209 \r\nL 45.627764 186.212236 \r\nL 45.627764 39.751008 \r\n\" style=\"fill:#e6e6e6;opacity:0.5;stroke:#e6e6e6;stroke-linejoin:miter;\"/>\r\n   </g>\r\n  </g>\r\n  <g id=\"pane3d_3\">\r\n   <g id=\"patch_5\">\r\n    <path d=\"M 51.886791 46.010034 \r\nL 51.886791 179.953209 \r\nL 185.829966 179.953209 \r\nL 185.829966 46.010034 \r\n\" style=\"fill:#ececec;opacity:0.5;stroke:#ececec;stroke-linejoin:miter;\"/>\r\n   </g>\r\n  </g>\r\n  <g id=\"axis3d_1\">\r\n   <g id=\"line2d_1\">\r\n    <path d=\"M 185.829966 46.010034 \r\nL 185.829966 179.953209 \r\n\" style=\"fill:none;stroke:#000000;stroke-linecap:square;stroke-width:0.8;\"/>\r\n   </g>\r\n   <g id=\"Line3DCollection_1\">\r\n    <path d=\"M 185.829966 59.169233 \r\nL 51.886791 59.169233 \r\nL 45.627764 54.140037 \r\n\" style=\"fill:none;stroke:#b0b0b0;stroke-width:0.8;\"/>\r\n    <path d=\"M 185.829966 78.292506 \r\nL 51.886791 78.292506 \r\nL 45.627764 75.050532 \r\n\" style=\"fill:none;stroke:#b0b0b0;stroke-width:0.8;\"/>\r\n    <path d=\"M 185.829966 97.415779 \r\nL 51.886791 97.415779 \r\nL 45.627764 95.961028 \r\n\" style=\"fill:none;stroke:#b0b0b0;stroke-width:0.8;\"/>\r\n    <path d=\"M 185.829966 116.539053 \r\nL 51.886791 116.539053 \r\nL 45.627764 116.871523 \r\n\" style=\"fill:none;stroke:#b0b0b0;stroke-width:0.8;\"/>\r\n    <path d=\"M 185.829966 135.662326 \r\nL 51.886791 135.662326 \r\nL 45.627764 137.782018 \r\n\" style=\"fill:none;stroke:#b0b0b0;stroke-width:0.8;\"/>\r\n    <path d=\"M 185.829966 154.785599 \r\nL 51.886791 154.785599 \r\nL 45.627764 158.692513 \r\n\" style=\"fill:none;stroke:#b0b0b0;stroke-width:0.8;\"/>\r\n    <path d=\"M 185.829966 173.908873 \r\nL 51.886791 173.908873 \r\nL 45.627764 179.603008 \r\n\" style=\"fill:none;stroke:#b0b0b0;stroke-width:0.8;\"/>\r\n   </g>\r\n   <g id=\"xtick_1\">\r\n    <g id=\"line2d_2\">\r\n     <path d=\"M 184.75842 59.169233 \r\nL 187.973056 59.169233 \r\n\" style=\"fill:none;stroke:#000000;stroke-linecap:square;stroke-width:0.8;\"/>\r\n    </g>\r\n    <g id=\"text_1\">\r\n     <!-- 400 -->\r\n     <g transform=\"translate(189.194228 67.230694)scale(0.1 -0.1)\">\r\n      <defs>\r\n       <path d=\"M 2419 4116 \r\nL 825 1625 \r\nL 2419 1625 \r\nL 2419 4116 \r\nz\r\nM 2253 4666 \r\nL 3047 4666 \r\nL 3047 1625 \r\nL 3713 1625 \r\nL 3713 1100 \r\nL 3047 1100 \r\nL 3047 0 \r\nL 2419 0 \r\nL 2419 1100 \r\nL 313 1100 \r\nL 313 1709 \r\nL 2253 4666 \r\nz\r\n\" id=\"DejaVuSans-34\" transform=\"scale(0.015625)\"/>\r\n       <path d=\"M 2034 4250 \r\nQ 1547 4250 1301 3770 \r\nQ 1056 3291 1056 2328 \r\nQ 1056 1369 1301 889 \r\nQ 1547 409 2034 409 \r\nQ 2525 409 2770 889 \r\nQ 3016 1369 3016 2328 \r\nQ 3016 3291 2770 3770 \r\nQ 2525 4250 2034 4250 \r\nz\r\nM 2034 4750 \r\nQ 2819 4750 3233 4129 \r\nQ 3647 3509 3647 2328 \r\nQ 3647 1150 3233 529 \r\nQ 2819 -91 2034 -91 \r\nQ 1250 -91 836 529 \r\nQ 422 1150 422 2328 \r\nQ 422 3509 836 4129 \r\nQ 1250 4750 2034 4750 \r\nz\r\n\" id=\"DejaVuSans-30\" transform=\"scale(0.015625)\"/>\r\n      </defs>\r\n      <use xlink:href=\"#DejaVuSans-34\"/>\r\n      <use x=\"63.623047\" xlink:href=\"#DejaVuSans-30\"/>\r\n      <use x=\"127.246094\" xlink:href=\"#DejaVuSans-30\"/>\r\n     </g>\r\n    </g>\r\n   </g>\r\n   <g id=\"xtick_2\">\r\n    <g id=\"line2d_3\">\r\n     <path d=\"M 184.75842 78.292506 \r\nL 187.973056 78.292506 \r\n\" style=\"fill:none;stroke:#000000;stroke-linecap:square;stroke-width:0.8;\"/>\r\n    </g>\r\n    <g id=\"text_2\">\r\n     <!-- 500 -->\r\n     <g transform=\"translate(189.194228 86.189423)scale(0.1 -0.1)\">\r\n      <defs>\r\n       <path d=\"M 691 4666 \r\nL 3169 4666 \r\nL 3169 4134 \r\nL 1269 4134 \r\nL 1269 2991 \r\nQ 1406 3038 1543 3061 \r\nQ 1681 3084 1819 3084 \r\nQ 2600 3084 3056 2656 \r\nQ 3513 2228 3513 1497 \r\nQ 3513 744 3044 326 \r\nQ 2575 -91 1722 -91 \r\nQ 1428 -91 1123 -41 \r\nQ 819 9 494 109 \r\nL 494 744 \r\nQ 775 591 1075 516 \r\nQ 1375 441 1709 441 \r\nQ 2250 441 2565 725 \r\nQ 2881 1009 2881 1497 \r\nQ 2881 1984 2565 2268 \r\nQ 2250 2553 1709 2553 \r\nQ 1456 2553 1204 2497 \r\nQ 953 2441 691 2322 \r\nL 691 4666 \r\nz\r\n\" id=\"DejaVuSans-35\" transform=\"scale(0.015625)\"/>\r\n      </defs>\r\n      <use xlink:href=\"#DejaVuSans-35\"/>\r\n      <use x=\"63.623047\" xlink:href=\"#DejaVuSans-30\"/>\r\n      <use x=\"127.246094\" xlink:href=\"#DejaVuSans-30\"/>\r\n     </g>\r\n    </g>\r\n   </g>\r\n   <g id=\"xtick_3\">\r\n    <g id=\"line2d_4\">\r\n     <path d=\"M 184.75842 97.415779 \r\nL 187.973056 97.415779 \r\n\" style=\"fill:none;stroke:#000000;stroke-linecap:square;stroke-width:0.8;\"/>\r\n    </g>\r\n    <g id=\"text_3\">\r\n     <!-- 600 -->\r\n     <g transform=\"translate(189.194228 105.148152)scale(0.1 -0.1)\">\r\n      <defs>\r\n       <path d=\"M 2113 2584 \r\nQ 1688 2584 1439 2293 \r\nQ 1191 2003 1191 1497 \r\nQ 1191 994 1439 701 \r\nQ 1688 409 2113 409 \r\nQ 2538 409 2786 701 \r\nQ 3034 994 3034 1497 \r\nQ 3034 2003 2786 2293 \r\nQ 2538 2584 2113 2584 \r\nz\r\nM 3366 4563 \r\nL 3366 3988 \r\nQ 3128 4100 2886 4159 \r\nQ 2644 4219 2406 4219 \r\nQ 1781 4219 1451 3797 \r\nQ 1122 3375 1075 2522 \r\nQ 1259 2794 1537 2939 \r\nQ 1816 3084 2150 3084 \r\nQ 2853 3084 3261 2657 \r\nQ 3669 2231 3669 1497 \r\nQ 3669 778 3244 343 \r\nQ 2819 -91 2113 -91 \r\nQ 1303 -91 875 529 \r\nQ 447 1150 447 2328 \r\nQ 447 3434 972 4092 \r\nQ 1497 4750 2381 4750 \r\nQ 2619 4750 2861 4703 \r\nQ 3103 4656 3366 4563 \r\nz\r\n\" id=\"DejaVuSans-36\" transform=\"scale(0.015625)\"/>\r\n      </defs>\r\n      <use xlink:href=\"#DejaVuSans-36\"/>\r\n      <use x=\"63.623047\" xlink:href=\"#DejaVuSans-30\"/>\r\n      <use x=\"127.246094\" xlink:href=\"#DejaVuSans-30\"/>\r\n     </g>\r\n    </g>\r\n   </g>\r\n   <g id=\"xtick_4\">\r\n    <g id=\"line2d_5\">\r\n     <path d=\"M 184.75842 116.539053 \r\nL 187.973056 116.539053 \r\n\" style=\"fill:none;stroke:#000000;stroke-linecap:square;stroke-width:0.8;\"/>\r\n    </g>\r\n    <g id=\"text_4\">\r\n     <!-- 700 -->\r\n     <g transform=\"translate(189.194228 124.106881)scale(0.1 -0.1)\">\r\n      <defs>\r\n       <path d=\"M 525 4666 \r\nL 3525 4666 \r\nL 3525 4397 \r\nL 1831 0 \r\nL 1172 0 \r\nL 2766 4134 \r\nL 525 4134 \r\nL 525 4666 \r\nz\r\n\" id=\"DejaVuSans-37\" transform=\"scale(0.015625)\"/>\r\n      </defs>\r\n      <use xlink:href=\"#DejaVuSans-37\"/>\r\n      <use x=\"63.623047\" xlink:href=\"#DejaVuSans-30\"/>\r\n      <use x=\"127.246094\" xlink:href=\"#DejaVuSans-30\"/>\r\n     </g>\r\n    </g>\r\n   </g>\r\n   <g id=\"xtick_5\">\r\n    <g id=\"line2d_6\">\r\n     <path d=\"M 184.75842 135.662326 \r\nL 187.973056 135.662326 \r\n\" style=\"fill:none;stroke:#000000;stroke-linecap:square;stroke-width:0.8;\"/>\r\n    </g>\r\n    <g id=\"text_5\">\r\n     <!-- 800 -->\r\n     <g transform=\"translate(189.194228 143.06561)scale(0.1 -0.1)\">\r\n      <defs>\r\n       <path d=\"M 2034 2216 \r\nQ 1584 2216 1326 1975 \r\nQ 1069 1734 1069 1313 \r\nQ 1069 891 1326 650 \r\nQ 1584 409 2034 409 \r\nQ 2484 409 2743 651 \r\nQ 3003 894 3003 1313 \r\nQ 3003 1734 2745 1975 \r\nQ 2488 2216 2034 2216 \r\nz\r\nM 1403 2484 \r\nQ 997 2584 770 2862 \r\nQ 544 3141 544 3541 \r\nQ 544 4100 942 4425 \r\nQ 1341 4750 2034 4750 \r\nQ 2731 4750 3128 4425 \r\nQ 3525 4100 3525 3541 \r\nQ 3525 3141 3298 2862 \r\nQ 3072 2584 2669 2484 \r\nQ 3125 2378 3379 2068 \r\nQ 3634 1759 3634 1313 \r\nQ 3634 634 3220 271 \r\nQ 2806 -91 2034 -91 \r\nQ 1263 -91 848 271 \r\nQ 434 634 434 1313 \r\nQ 434 1759 690 2068 \r\nQ 947 2378 1403 2484 \r\nz\r\nM 1172 3481 \r\nQ 1172 3119 1398 2916 \r\nQ 1625 2713 2034 2713 \r\nQ 2441 2713 2670 2916 \r\nQ 2900 3119 2900 3481 \r\nQ 2900 3844 2670 4047 \r\nQ 2441 4250 2034 4250 \r\nQ 1625 4250 1398 4047 \r\nQ 1172 3844 1172 3481 \r\nz\r\n\" id=\"DejaVuSans-38\" transform=\"scale(0.015625)\"/>\r\n      </defs>\r\n      <use xlink:href=\"#DejaVuSans-38\"/>\r\n      <use x=\"63.623047\" xlink:href=\"#DejaVuSans-30\"/>\r\n      <use x=\"127.246094\" xlink:href=\"#DejaVuSans-30\"/>\r\n     </g>\r\n    </g>\r\n   </g>\r\n   <g id=\"xtick_6\">\r\n    <g id=\"line2d_7\">\r\n     <path d=\"M 184.75842 154.785599 \r\nL 187.973056 154.785599 \r\n\" style=\"fill:none;stroke:#000000;stroke-linecap:square;stroke-width:0.8;\"/>\r\n    </g>\r\n    <g id=\"text_6\">\r\n     <!-- 900 -->\r\n     <g transform=\"translate(189.194228 162.024339)scale(0.1 -0.1)\">\r\n      <defs>\r\n       <path d=\"M 703 97 \r\nL 703 672 \r\nQ 941 559 1184 500 \r\nQ 1428 441 1663 441 \r\nQ 2288 441 2617 861 \r\nQ 2947 1281 2994 2138 \r\nQ 2813 1869 2534 1725 \r\nQ 2256 1581 1919 1581 \r\nQ 1219 1581 811 2004 \r\nQ 403 2428 403 3163 \r\nQ 403 3881 828 4315 \r\nQ 1253 4750 1959 4750 \r\nQ 2769 4750 3195 4129 \r\nQ 3622 3509 3622 2328 \r\nQ 3622 1225 3098 567 \r\nQ 2575 -91 1691 -91 \r\nQ 1453 -91 1209 -44 \r\nQ 966 3 703 97 \r\nz\r\nM 1959 2075 \r\nQ 2384 2075 2632 2365 \r\nQ 2881 2656 2881 3163 \r\nQ 2881 3666 2632 3958 \r\nQ 2384 4250 1959 4250 \r\nQ 1534 4250 1286 3958 \r\nQ 1038 3666 1038 3163 \r\nQ 1038 2656 1286 2365 \r\nQ 1534 2075 1959 2075 \r\nz\r\n\" id=\"DejaVuSans-39\" transform=\"scale(0.015625)\"/>\r\n      </defs>\r\n      <use xlink:href=\"#DejaVuSans-39\"/>\r\n      <use x=\"63.623047\" xlink:href=\"#DejaVuSans-30\"/>\r\n      <use x=\"127.246094\" xlink:href=\"#DejaVuSans-30\"/>\r\n     </g>\r\n    </g>\r\n   </g>\r\n   <g id=\"xtick_7\">\r\n    <g id=\"line2d_8\">\r\n     <path d=\"M 184.75842 173.908873 \r\nL 187.973056 173.908873 \r\n\" style=\"fill:none;stroke:#000000;stroke-linecap:square;stroke-width:0.8;\"/>\r\n    </g>\r\n    <g id=\"text_7\">\r\n     <!-- 1000 -->\r\n     <g transform=\"translate(186.012978 180.983068)scale(0.1 -0.1)\">\r\n      <defs>\r\n       <path d=\"M 794 531 \r\nL 1825 531 \r\nL 1825 4091 \r\nL 703 3866 \r\nL 703 4441 \r\nL 1819 4666 \r\nL 2450 4666 \r\nL 2450 531 \r\nL 3481 531 \r\nL 3481 0 \r\nL 794 0 \r\nL 794 531 \r\nz\r\n\" id=\"DejaVuSans-31\" transform=\"scale(0.015625)\"/>\r\n      </defs>\r\n      <use xlink:href=\"#DejaVuSans-31\"/>\r\n      <use x=\"63.623047\" xlink:href=\"#DejaVuSans-30\"/>\r\n      <use x=\"127.246094\" xlink:href=\"#DejaVuSans-30\"/>\r\n      <use x=\"190.869141\" xlink:href=\"#DejaVuSans-30\"/>\r\n     </g>\r\n    </g>\r\n   </g>\r\n  </g>\r\n  <g id=\"axis3d_2\">\r\n   <g id=\"line2d_9\">\r\n    <path d=\"M 51.886791 179.953209 \r\nL 185.829966 179.953209 \r\n\" style=\"fill:none;stroke:#000000;stroke-linecap:square;stroke-width:0.8;\"/>\r\n   </g>\r\n   <g id=\"Line3DCollection_2\">\r\n    <path d=\"M 66.556569 39.751008 \r\nL 71.026809 46.010034 \r\nL 71.026809 179.953209 \r\n\" style=\"fill:none;stroke:#b0b0b0;stroke-width:0.8;\"/>\r\n    <path d=\"M 96.231102 39.751008 \r\nL 98.165057 46.010034 \r\nL 98.165057 179.953209 \r\n\" style=\"fill:none;stroke:#b0b0b0;stroke-width:0.8;\"/>\r\n    <path d=\"M 125.905634 39.751008 \r\nL 125.303305 46.010034 \r\nL 125.303305 179.953209 \r\n\" style=\"fill:none;stroke:#b0b0b0;stroke-width:0.8;\"/>\r\n    <path d=\"M 155.580167 39.751008 \r\nL 152.441553 46.010034 \r\nL 152.441553 179.953209 \r\n\" style=\"fill:none;stroke:#b0b0b0;stroke-width:0.8;\"/>\r\n    <path d=\"M 185.2547 39.751008 \r\nL 179.579801 46.010034 \r\nL 179.579801 179.953209 \r\n\" style=\"fill:none;stroke:#b0b0b0;stroke-width:0.8;\"/>\r\n   </g>\r\n   <g id=\"xtick_8\">\r\n    <g id=\"line2d_10\">\r\n     <path d=\"M 71.026809 178.881663 \r\nL 71.026809 182.0963 \r\n\" style=\"fill:none;stroke:#000000;stroke-linecap:square;stroke-width:0.8;\"/>\r\n    </g>\r\n    <g id=\"text_8\">\r\n     <!-- 900 -->\r\n     <g transform=\"translate(61.894621 200.459658)scale(0.1 -0.1)\">\r\n      <use xlink:href=\"#DejaVuSans-39\"/>\r\n      <use x=\"63.623047\" xlink:href=\"#DejaVuSans-30\"/>\r\n      <use x=\"127.246094\" xlink:href=\"#DejaVuSans-30\"/>\r\n     </g>\r\n    </g>\r\n   </g>\r\n   <g id=\"xtick_9\">\r\n    <g id=\"line2d_11\">\r\n     <path d=\"M 98.165057 178.881663 \r\nL 98.165057 182.0963 \r\n\" style=\"fill:none;stroke:#000000;stroke-linecap:square;stroke-width:0.8;\"/>\r\n    </g>\r\n    <g id=\"text_9\">\r\n     <!-- 950 -->\r\n     <g transform=\"translate(88.799361 200.459658)scale(0.1 -0.1)\">\r\n      <use xlink:href=\"#DejaVuSans-39\"/>\r\n      <use x=\"63.623047\" xlink:href=\"#DejaVuSans-35\"/>\r\n      <use x=\"127.246094\" xlink:href=\"#DejaVuSans-30\"/>\r\n     </g>\r\n    </g>\r\n   </g>\r\n   <g id=\"xtick_10\">\r\n    <g id=\"line2d_12\">\r\n     <path d=\"M 125.303305 178.881663 \r\nL 125.303305 182.0963 \r\n\" style=\"fill:none;stroke:#000000;stroke-linecap:square;stroke-width:0.8;\"/>\r\n    </g>\r\n    <g id=\"text_10\">\r\n     <!-- 1000 -->\r\n     <g transform=\"translate(112.52285 200.459658)scale(0.1 -0.1)\">\r\n      <use xlink:href=\"#DejaVuSans-31\"/>\r\n      <use x=\"63.623047\" xlink:href=\"#DejaVuSans-30\"/>\r\n      <use x=\"127.246094\" xlink:href=\"#DejaVuSans-30\"/>\r\n      <use x=\"190.869141\" xlink:href=\"#DejaVuSans-30\"/>\r\n     </g>\r\n    </g>\r\n   </g>\r\n   <g id=\"xtick_11\">\r\n    <g id=\"line2d_13\">\r\n     <path d=\"M 152.441553 178.881663 \r\nL 152.441553 182.0963 \r\n\" style=\"fill:none;stroke:#000000;stroke-linecap:square;stroke-width:0.8;\"/>\r\n    </g>\r\n    <g id=\"text_11\">\r\n     <!-- 1050 -->\r\n     <g transform=\"translate(139.42759 200.459658)scale(0.1 -0.1)\">\r\n      <use xlink:href=\"#DejaVuSans-31\"/>\r\n      <use x=\"63.623047\" xlink:href=\"#DejaVuSans-30\"/>\r\n      <use x=\"127.246094\" xlink:href=\"#DejaVuSans-35\"/>\r\n      <use x=\"190.869141\" xlink:href=\"#DejaVuSans-30\"/>\r\n     </g>\r\n    </g>\r\n   </g>\r\n   <g id=\"xtick_12\">\r\n    <g id=\"line2d_14\">\r\n     <path d=\"M 179.579801 178.881663 \r\nL 179.579801 182.0963 \r\n\" style=\"fill:none;stroke:#000000;stroke-linecap:square;stroke-width:0.8;\"/>\r\n    </g>\r\n    <g id=\"text_12\">\r\n     <!-- 1100 -->\r\n     <g transform=\"translate(166.332329 200.459658)scale(0.1 -0.1)\">\r\n      <use xlink:href=\"#DejaVuSans-31\"/>\r\n      <use x=\"63.623047\" xlink:href=\"#DejaVuSans-31\"/>\r\n      <use x=\"127.246094\" xlink:href=\"#DejaVuSans-30\"/>\r\n      <use x=\"190.869141\" xlink:href=\"#DejaVuSans-30\"/>\r\n     </g>\r\n    </g>\r\n   </g>\r\n  </g>\r\n  <g id=\"axis3d_3\">\r\n   <g id=\"line2d_15\">\r\n    <path d=\"M 51.886791 179.953209 \r\nL 45.627764 186.212236 \r\n\" style=\"fill:none;stroke:#000000;stroke-linecap:square;stroke-width:0.8;\"/>\r\n   </g>\r\n   <g id=\"Line3DCollection_3\">\r\n    <path d=\"M 51.21615 180.62385 \r\nL 51.21615 45.339394 \r\nL 186.500606 45.339394 \r\n\" style=\"fill:none;stroke:#b0b0b0;stroke-width:0.8;\"/>\r\n    <path d=\"M 50.076113 181.763887 \r\nL 50.076113 44.199356 \r\nL 187.640644 44.199356 \r\n\" style=\"fill:none;stroke:#b0b0b0;stroke-width:0.8;\"/>\r\n    <path d=\"M 48.896988 182.943012 \r\nL 48.896988 43.020231 \r\nL 188.819769 43.020231 \r\n\" style=\"fill:none;stroke:#b0b0b0;stroke-width:0.8;\"/>\r\n    <path d=\"M 47.676731 184.163269 \r\nL 47.676731 41.799975 \r\nL 190.040025 41.799975 \r\n\" style=\"fill:none;stroke:#b0b0b0;stroke-width:0.8;\"/>\r\n    <path d=\"M 46.413152 185.426848 \r\nL 46.413152 40.536395 \r\nL 191.303605 40.536395 \r\n\" style=\"fill:none;stroke:#b0b0b0;stroke-width:0.8;\"/>\r\n   </g>\r\n   <g id=\"xtick_13\">\r\n    <g id=\"line2d_16\">\r\n     <path d=\"M 51.21615 179.541574 \r\nL 51.21615 182.788401 \r\n\" style=\"fill:none;stroke:#000000;stroke-linecap:square;stroke-width:0.8;\"/>\r\n    </g>\r\n    <g id=\"text_13\">\r\n     <!-- −0.04 -->\r\n     <g transform=\"translate(22.156 201.959782)scale(0.1 -0.1)\">\r\n      <defs>\r\n       <path d=\"M 678 2272 \r\nL 4684 2272 \r\nL 4684 1741 \r\nL 678 1741 \r\nL 678 2272 \r\nz\r\n\" id=\"DejaVuSans-2212\" transform=\"scale(0.015625)\"/>\r\n       <path d=\"M 684 794 \r\nL 1344 794 \r\nL 1344 0 \r\nL 684 0 \r\nL 684 794 \r\nz\r\n\" id=\"DejaVuSans-2e\" transform=\"scale(0.015625)\"/>\r\n      </defs>\r\n      <use xlink:href=\"#DejaVuSans-2212\"/>\r\n      <use x=\"83.789062\" xlink:href=\"#DejaVuSans-30\"/>\r\n      <use x=\"147.412109\" xlink:href=\"#DejaVuSans-2e\"/>\r\n      <use x=\"179.199219\" xlink:href=\"#DejaVuSans-30\"/>\r\n      <use x=\"242.822266\" xlink:href=\"#DejaVuSans-34\"/>\r\n     </g>\r\n    </g>\r\n   </g>\r\n   <g id=\"xtick_14\">\r\n    <g id=\"line2d_17\">\r\n     <path d=\"M 50.076113 180.663371 \r\nL 50.076113 183.96492 \r\n\" style=\"fill:none;stroke:#000000;stroke-linecap:square;stroke-width:0.8;\"/>\r\n    </g>\r\n    <g id=\"text_14\">\r\n     <!-- −0.02 -->\r\n     <g transform=\"translate(20.784431 203.33135)scale(0.1 -0.1)\">\r\n      <defs>\r\n       <path d=\"M 1228 531 \r\nL 3431 531 \r\nL 3431 0 \r\nL 469 0 \r\nL 469 531 \r\nQ 828 903 1448 1529 \r\nQ 2069 2156 2228 2338 \r\nQ 2531 2678 2651 2914 \r\nQ 2772 3150 2772 3378 \r\nQ 2772 3750 2511 3984 \r\nQ 2250 4219 1831 4219 \r\nQ 1534 4219 1204 4116 \r\nQ 875 4013 500 3803 \r\nL 500 4441 \r\nQ 881 4594 1212 4672 \r\nQ 1544 4750 1819 4750 \r\nQ 2544 4750 2975 4387 \r\nQ 3406 4025 3406 3419 \r\nQ 3406 3131 3298 2873 \r\nQ 3191 2616 2906 2266 \r\nQ 2828 2175 2409 1742 \r\nQ 1991 1309 1228 531 \r\nz\r\n\" id=\"DejaVuSans-32\" transform=\"scale(0.015625)\"/>\r\n      </defs>\r\n      <use xlink:href=\"#DejaVuSans-2212\"/>\r\n      <use x=\"83.789062\" xlink:href=\"#DejaVuSans-30\"/>\r\n      <use x=\"147.412109\" xlink:href=\"#DejaVuSans-2e\"/>\r\n      <use x=\"179.199219\" xlink:href=\"#DejaVuSans-30\"/>\r\n      <use x=\"242.822266\" xlink:href=\"#DejaVuSans-32\"/>\r\n     </g>\r\n    </g>\r\n   </g>\r\n   <g id=\"xtick_15\">\r\n    <g id=\"line2d_18\">\r\n     <path d=\"M 48.896988 181.82363 \r\nL 48.896988 185.181776 \r\n\" style=\"fill:none;stroke:#000000;stroke-linecap:square;stroke-width:0.8;\"/>\r\n    </g>\r\n    <g id=\"text_15\">\r\n     <!-- 0.00 -->\r\n     <g transform=\"translate(23.555682 204.749943)scale(0.1 -0.1)\">\r\n      <use xlink:href=\"#DejaVuSans-30\"/>\r\n      <use x=\"63.623047\" xlink:href=\"#DejaVuSans-2e\"/>\r\n      <use x=\"95.410156\" xlink:href=\"#DejaVuSans-30\"/>\r\n      <use x=\"159.033203\" xlink:href=\"#DejaVuSans-30\"/>\r\n     </g>\r\n    </g>\r\n   </g>\r\n   <g id=\"xtick_16\">\r\n    <g id=\"line2d_19\">\r\n     <path d=\"M 47.676731 183.024362 \r\nL 47.676731 186.441081 \r\n\" style=\"fill:none;stroke:#000000;stroke-linecap:square;stroke-width:0.8;\"/>\r\n    </g>\r\n    <g id=\"text_16\">\r\n     <!-- 0.02 -->\r\n     <g transform=\"translate(22.087602 206.218023)scale(0.1 -0.1)\">\r\n      <use xlink:href=\"#DejaVuSans-30\"/>\r\n      <use x=\"63.623047\" xlink:href=\"#DejaVuSans-2e\"/>\r\n      <use x=\"95.410156\" xlink:href=\"#DejaVuSans-30\"/>\r\n      <use x=\"159.033203\" xlink:href=\"#DejaVuSans-32\"/>\r\n     </g>\r\n    </g>\r\n   </g>\r\n   <g id=\"xtick_17\">\r\n    <g id=\"line2d_20\">\r\n     <path d=\"M 46.413152 184.267724 \r\nL 46.413152 187.745095 \r\n\" style=\"fill:none;stroke:#000000;stroke-linecap:square;stroke-width:0.8;\"/>\r\n    </g>\r\n    <g id=\"text_17\">\r\n     <!-- 0.04 -->\r\n     <g transform=\"translate(20.567402 207.738223)scale(0.1 -0.1)\">\r\n      <use xlink:href=\"#DejaVuSans-30\"/>\r\n      <use x=\"63.623047\" xlink:href=\"#DejaVuSans-2e\"/>\r\n      <use x=\"95.410156\" xlink:href=\"#DejaVuSans-30\"/>\r\n      <use x=\"159.033203\" xlink:href=\"#DejaVuSans-34\"/>\r\n     </g>\r\n    </g>\r\n   </g>\r\n  </g>\r\n  <g id=\"axes_1\">\r\n   <g id=\"line2d_21\">\r\n    <path clip-path=\"url(#pa9de49999e)\" d=\"M 158.142857 51.924408 \r\nL 170.512645 76.043327 \r\n\" style=\"fill:none;stroke:#1f77b4;stroke-linecap:square;stroke-width:1.5;\"/>\r\n   </g>\r\n   <g id=\"line2d_22\">\r\n    <path clip-path=\"url(#pa9de49999e)\" d=\"M 170.512645 76.043327 \r\nL 179.915592 101.04422 \r\n\" style=\"fill:none;stroke:#ff7f0e;stroke-linecap:square;stroke-width:1.5;\"/>\r\n   </g>\r\n   <g id=\"line2d_23\">\r\n    <path clip-path=\"url(#pa9de49999e)\" d=\"M 158.142857 51.924408 \r\nL 147.654164 96.712364 \r\n\" style=\"fill:none;stroke:#2ca02c;stroke-linecap:square;stroke-width:1.5;\"/>\r\n   </g>\r\n   <g id=\"line2d_24\">\r\n    <path clip-path=\"url(#pa9de49999e)\" d=\"M 147.654164 96.712364 \r\nL 153.337916 134.812794 \r\n\" style=\"fill:none;stroke:#d62728;stroke-linecap:square;stroke-width:1.5;\"/>\r\n   </g>\r\n   <g id=\"line2d_25\">\r\n    <path clip-path=\"url(#pa9de49999e)\" d=\"M 153.337916 134.812794 \r\nL 155.123036 174.038835 \r\n\" style=\"fill:none;stroke:#9467bd;stroke-linecap:square;stroke-width:1.5;\"/>\r\n   </g>\r\n   <g id=\"line2d_26\">\r\n    <path clip-path=\"url(#pa9de49999e)\" d=\"M 158.142857 51.924408 \r\nL 80.404433 53.287093 \r\n\" style=\"fill:none;stroke:#8c564b;stroke-linecap:square;stroke-width:1.5;\"/>\r\n   </g>\r\n   <g id=\"line2d_27\">\r\n    <path clip-path=\"url(#pa9de49999e)\" d=\"M 69.879957 77.112239 \r\nL 57.801165 98.879756 \r\n\" style=\"fill:none;stroke:#e377c2;stroke-linecap:square;stroke-width:1.5;\"/>\r\n   </g>\r\n   <g id=\"line2d_28\">\r\n    <path clip-path=\"url(#pa9de49999e)\" d=\"M 80.404433 53.287093 \r\nL 87.127377 98.032768 \r\n\" style=\"fill:none;stroke:#7f7f7f;stroke-linecap:square;stroke-width:1.5;\"/>\r\n   </g>\r\n   <g id=\"line2d_29\">\r\n    <path clip-path=\"url(#pa9de49999e)\" d=\"M 87.127377 98.032768 \r\nL 78.337361 136.661355 \r\n\" style=\"fill:none;stroke:#bcbd22;stroke-linecap:square;stroke-width:1.5;\"/>\r\n   </g>\r\n   <g id=\"line2d_30\">\r\n    <path clip-path=\"url(#pa9de49999e)\" d=\"M 80.404433 53.287093 \r\nL 69.879957 77.112239 \r\n\" style=\"fill:none;stroke:#17becf;stroke-linecap:square;stroke-width:1.5;\"/>\r\n   </g>\r\n   <g id=\"line2d_31\">\r\n    <path clip-path=\"url(#pa9de49999e)\" d=\"M 78.337361 136.661355 \r\nL 76.929912 173.697078 \r\n\" style=\"fill:none;stroke:#1f77b4;stroke-linecap:square;stroke-width:1.5;\"/>\r\n   </g>\r\n  </g>\r\n </g>\r\n <defs>\r\n  <clipPath id=\"pa9de49999e\">\r\n   <rect height=\"217.44\" width=\"217.44\" x=\"7.2\" y=\"7.2\"/>\r\n  </clipPath>\r\n </defs>\r\n</svg>\r\n",
      "image/png": "[encoded data removed]"
     },
     "metadata": {
      "needs_background": "light"
     }
    },
    {
     "output_type": "display_data",
     "data": {
      "text/plain": "<Figure size 432x288 with 1 Axes>",
      "image/svg+xml": "<?xml version=\"1.0\" encoding=\"utf-8\" standalone=\"no\"?>\r\n<!DOCTYPE svg PUBLIC \"-//W3C//DTD SVG 1.1//EN\"\r\n  \"http://www.w3.org/Graphics/SVG/1.1/DTD/svg11.dtd\">\r\n<svg height=\"231.84pt\" version=\"1.1\" viewBox=\"0 0 231.84 231.84\" width=\"231.84pt\" xmlns=\"http://www.w3.org/2000/svg\" xmlns:xlink=\"http://www.w3.org/1999/xlink\">\r\n <metadata>\r\n  <rdf:RDF xmlns:cc=\"http://creativecommons.org/ns#\" xmlns:dc=\"http://purl.org/dc/elements/1.1/\" xmlns:rdf=\"http://www.w3.org/1999/02/22-rdf-syntax-ns#\">\r\n   <cc:Work>\r\n    <dc:type rdf:resource=\"http://purl.org/dc/dcmitype/StillImage\"/>\r\n    <dc:date>2021-05-14T18:57:15.965484</dc:date>\r\n    <dc:format>image/svg+xml</dc:format>\r\n    <dc:creator>\r\n     <cc:Agent>\r\n      <dc:title>Matplotlib v3.4.2, https://matplotlib.org/</dc:title>\r\n     </cc:Agent>\r\n    </dc:creator>\r\n   </cc:Work>\r\n  </rdf:RDF>\r\n </metadata>\r\n <defs>\r\n  <style type=\"text/css\">*{stroke-linecap:butt;stroke-linejoin:round;}</style>\r\n </defs>\r\n <g id=\"figure_1\">\r\n  <g id=\"patch_1\">\r\n   <path d=\"M 0 231.84 \r\nL 231.84 231.84 \r\nL 231.84 0 \r\nL 0 0 \r\nz\r\n\" style=\"fill:none;\"/>\r\n  </g>\r\n  <g id=\"patch_2\">\r\n   <path d=\"M 7.2 224.64 \r\nL 224.64 224.64 \r\nL 224.64 7.2 \r\nL 7.2 7.2 \r\nz\r\n\" style=\"fill:#ffffff;\"/>\r\n  </g>\r\n  <g id=\"pane3d_1\">\r\n   <g id=\"patch_3\">\r\n    <path d=\"M 51.886791 46.010034 \r\nL 185.829966 46.010034 \r\nL 192.088992 39.751008 \r\nL 45.627764 39.751008 \r\n\" style=\"fill:#f2f2f2;opacity:0.5;stroke:#f2f2f2;stroke-linejoin:miter;\"/>\r\n   </g>\r\n  </g>\r\n  <g id=\"pane3d_2\">\r\n   <g id=\"patch_4\">\r\n    <path d=\"M 51.886791 46.010034 \r\nL 51.886791 179.953209 \r\nL 45.627764 186.212236 \r\nL 45.627764 39.751008 \r\n\" style=\"fill:#e6e6e6;opacity:0.5;stroke:#e6e6e6;stroke-linejoin:miter;\"/>\r\n   </g>\r\n  </g>\r\n  <g id=\"pane3d_3\">\r\n   <g id=\"patch_5\">\r\n    <path d=\"M 51.886791 46.010034 \r\nL 51.886791 179.953209 \r\nL 185.829966 179.953209 \r\nL 185.829966 46.010034 \r\n\" style=\"fill:#ececec;opacity:0.5;stroke:#ececec;stroke-linejoin:miter;\"/>\r\n   </g>\r\n  </g>\r\n  <g id=\"axis3d_1\">\r\n   <g id=\"line2d_1\">\r\n    <path d=\"M 185.829966 46.010034 \r\nL 185.829966 179.953209 \r\n\" style=\"fill:none;stroke:#000000;stroke-linecap:square;stroke-width:0.8;\"/>\r\n   </g>\r\n   <g id=\"Line3DCollection_1\">\r\n    <path d=\"M 185.829966 59.166311 \r\nL 51.886791 59.166311 \r\nL 45.627764 54.136842 \r\n\" style=\"fill:none;stroke:#b0b0b0;stroke-width:0.8;\"/>\r\n    <path d=\"M 185.829966 78.269268 \r\nL 51.886791 78.269268 \r\nL 45.627764 75.025123 \r\n\" style=\"fill:none;stroke:#b0b0b0;stroke-width:0.8;\"/>\r\n    <path d=\"M 185.829966 97.372226 \r\nL 51.886791 97.372226 \r\nL 45.627764 95.913404 \r\n\" style=\"fill:none;stroke:#b0b0b0;stroke-width:0.8;\"/>\r\n    <path d=\"M 185.829966 116.475183 \r\nL 51.886791 116.475183 \r\nL 45.627764 116.801685 \r\n\" style=\"fill:none;stroke:#b0b0b0;stroke-width:0.8;\"/>\r\n    <path d=\"M 185.829966 135.578141 \r\nL 51.886791 135.578141 \r\nL 45.627764 137.689965 \r\n\" style=\"fill:none;stroke:#b0b0b0;stroke-width:0.8;\"/>\r\n    <path d=\"M 185.829966 154.681099 \r\nL 51.886791 154.681099 \r\nL 45.627764 158.578246 \r\n\" style=\"fill:none;stroke:#b0b0b0;stroke-width:0.8;\"/>\r\n    <path d=\"M 185.829966 173.784056 \r\nL 51.886791 173.784056 \r\nL 45.627764 179.466527 \r\n\" style=\"fill:none;stroke:#b0b0b0;stroke-width:0.8;\"/>\r\n   </g>\r\n   <g id=\"xtick_1\">\r\n    <g id=\"line2d_2\">\r\n     <path d=\"M 184.75842 59.166311 \r\nL 187.973056 59.166311 \r\n\" style=\"fill:none;stroke:#000000;stroke-linecap:square;stroke-width:0.8;\"/>\r\n    </g>\r\n    <g id=\"text_1\">\r\n     <!-- 400 -->\r\n     <g transform=\"translate(189.194228 67.227797)scale(0.1 -0.1)\">\r\n      <defs>\r\n       <path d=\"M 2419 4116 \r\nL 825 1625 \r\nL 2419 1625 \r\nL 2419 4116 \r\nz\r\nM 2253 4666 \r\nL 3047 4666 \r\nL 3047 1625 \r\nL 3713 1625 \r\nL 3713 1100 \r\nL 3047 1100 \r\nL 3047 0 \r\nL 2419 0 \r\nL 2419 1100 \r\nL 313 1100 \r\nL 313 1709 \r\nL 2253 4666 \r\nz\r\n\" id=\"DejaVuSans-34\" transform=\"scale(0.015625)\"/>\r\n       <path d=\"M 2034 4250 \r\nQ 1547 4250 1301 3770 \r\nQ 1056 3291 1056 2328 \r\nQ 1056 1369 1301 889 \r\nQ 1547 409 2034 409 \r\nQ 2525 409 2770 889 \r\nQ 3016 1369 3016 2328 \r\nQ 3016 3291 2770 3770 \r\nQ 2525 4250 2034 4250 \r\nz\r\nM 2034 4750 \r\nQ 2819 4750 3233 4129 \r\nQ 3647 3509 3647 2328 \r\nQ 3647 1150 3233 529 \r\nQ 2819 -91 2034 -91 \r\nQ 1250 -91 836 529 \r\nQ 422 1150 422 2328 \r\nQ 422 3509 836 4129 \r\nQ 1250 4750 2034 4750 \r\nz\r\n\" id=\"DejaVuSans-30\" transform=\"scale(0.015625)\"/>\r\n      </defs>\r\n      <use xlink:href=\"#DejaVuSans-34\"/>\r\n      <use x=\"63.623047\" xlink:href=\"#DejaVuSans-30\"/>\r\n      <use x=\"127.246094\" xlink:href=\"#DejaVuSans-30\"/>\r\n     </g>\r\n    </g>\r\n   </g>\r\n   <g id=\"xtick_2\">\r\n    <g id=\"line2d_3\">\r\n     <path d=\"M 184.75842 78.269268 \r\nL 187.973056 78.269268 \r\n\" style=\"fill:none;stroke:#000000;stroke-linecap:square;stroke-width:0.8;\"/>\r\n    </g>\r\n    <g id=\"text_2\">\r\n     <!-- 500 -->\r\n     <g transform=\"translate(189.194228 86.166385)scale(0.1 -0.1)\">\r\n      <defs>\r\n       <path d=\"M 691 4666 \r\nL 3169 4666 \r\nL 3169 4134 \r\nL 1269 4134 \r\nL 1269 2991 \r\nQ 1406 3038 1543 3061 \r\nQ 1681 3084 1819 3084 \r\nQ 2600 3084 3056 2656 \r\nQ 3513 2228 3513 1497 \r\nQ 3513 744 3044 326 \r\nQ 2575 -91 1722 -91 \r\nQ 1428 -91 1123 -41 \r\nQ 819 9 494 109 \r\nL 494 744 \r\nQ 775 591 1075 516 \r\nQ 1375 441 1709 441 \r\nQ 2250 441 2565 725 \r\nQ 2881 1009 2881 1497 \r\nQ 2881 1984 2565 2268 \r\nQ 2250 2553 1709 2553 \r\nQ 1456 2553 1204 2497 \r\nQ 953 2441 691 2322 \r\nL 691 4666 \r\nz\r\n\" id=\"DejaVuSans-35\" transform=\"scale(0.015625)\"/>\r\n      </defs>\r\n      <use xlink:href=\"#DejaVuSans-35\"/>\r\n      <use x=\"63.623047\" xlink:href=\"#DejaVuSans-30\"/>\r\n      <use x=\"127.246094\" xlink:href=\"#DejaVuSans-30\"/>\r\n     </g>\r\n    </g>\r\n   </g>\r\n   <g id=\"xtick_3\">\r\n    <g id=\"line2d_4\">\r\n     <path d=\"M 184.75842 97.372226 \r\nL 187.973056 97.372226 \r\n\" style=\"fill:none;stroke:#000000;stroke-linecap:square;stroke-width:0.8;\"/>\r\n    </g>\r\n    <g id=\"text_3\">\r\n     <!-- 600 -->\r\n     <g transform=\"translate(189.194228 105.104973)scale(0.1 -0.1)\">\r\n      <defs>\r\n       <path d=\"M 2113 2584 \r\nQ 1688 2584 1439 2293 \r\nQ 1191 2003 1191 1497 \r\nQ 1191 994 1439 701 \r\nQ 1688 409 2113 409 \r\nQ 2538 409 2786 701 \r\nQ 3034 994 3034 1497 \r\nQ 3034 2003 2786 2293 \r\nQ 2538 2584 2113 2584 \r\nz\r\nM 3366 4563 \r\nL 3366 3988 \r\nQ 3128 4100 2886 4159 \r\nQ 2644 4219 2406 4219 \r\nQ 1781 4219 1451 3797 \r\nQ 1122 3375 1075 2522 \r\nQ 1259 2794 1537 2939 \r\nQ 1816 3084 2150 3084 \r\nQ 2853 3084 3261 2657 \r\nQ 3669 2231 3669 1497 \r\nQ 3669 778 3244 343 \r\nQ 2819 -91 2113 -91 \r\nQ 1303 -91 875 529 \r\nQ 447 1150 447 2328 \r\nQ 447 3434 972 4092 \r\nQ 1497 4750 2381 4750 \r\nQ 2619 4750 2861 4703 \r\nQ 3103 4656 3366 4563 \r\nz\r\n\" id=\"DejaVuSans-36\" transform=\"scale(0.015625)\"/>\r\n      </defs>\r\n      <use xlink:href=\"#DejaVuSans-36\"/>\r\n      <use x=\"63.623047\" xlink:href=\"#DejaVuSans-30\"/>\r\n      <use x=\"127.246094\" xlink:href=\"#DejaVuSans-30\"/>\r\n     </g>\r\n    </g>\r\n   </g>\r\n   <g id=\"xtick_4\">\r\n    <g id=\"line2d_5\">\r\n     <path d=\"M 184.75842 116.475183 \r\nL 187.973056 116.475183 \r\n\" style=\"fill:none;stroke:#000000;stroke-linecap:square;stroke-width:0.8;\"/>\r\n    </g>\r\n    <g id=\"text_4\">\r\n     <!-- 700 -->\r\n     <g transform=\"translate(189.194228 124.043561)scale(0.1 -0.1)\">\r\n      <defs>\r\n       <path d=\"M 525 4666 \r\nL 3525 4666 \r\nL 3525 4397 \r\nL 1831 0 \r\nL 1172 0 \r\nL 2766 4134 \r\nL 525 4134 \r\nL 525 4666 \r\nz\r\n\" id=\"DejaVuSans-37\" transform=\"scale(0.015625)\"/>\r\n      </defs>\r\n      <use xlink:href=\"#DejaVuSans-37\"/>\r\n      <use x=\"63.623047\" xlink:href=\"#DejaVuSans-30\"/>\r\n      <use x=\"127.246094\" xlink:href=\"#DejaVuSans-30\"/>\r\n     </g>\r\n    </g>\r\n   </g>\r\n   <g id=\"xtick_5\">\r\n    <g id=\"line2d_6\">\r\n     <path d=\"M 184.75842 135.578141 \r\nL 187.973056 135.578141 \r\n\" style=\"fill:none;stroke:#000000;stroke-linecap:square;stroke-width:0.8;\"/>\r\n    </g>\r\n    <g id=\"text_5\">\r\n     <!-- 800 -->\r\n     <g transform=\"translate(189.194228 142.982149)scale(0.1 -0.1)\">\r\n      <defs>\r\n       <path d=\"M 2034 2216 \r\nQ 1584 2216 1326 1975 \r\nQ 1069 1734 1069 1313 \r\nQ 1069 891 1326 650 \r\nQ 1584 409 2034 409 \r\nQ 2484 409 2743 651 \r\nQ 3003 894 3003 1313 \r\nQ 3003 1734 2745 1975 \r\nQ 2488 2216 2034 2216 \r\nz\r\nM 1403 2484 \r\nQ 997 2584 770 2862 \r\nQ 544 3141 544 3541 \r\nQ 544 4100 942 4425 \r\nQ 1341 4750 2034 4750 \r\nQ 2731 4750 3128 4425 \r\nQ 3525 4100 3525 3541 \r\nQ 3525 3141 3298 2862 \r\nQ 3072 2584 2669 2484 \r\nQ 3125 2378 3379 2068 \r\nQ 3634 1759 3634 1313 \r\nQ 3634 634 3220 271 \r\nQ 2806 -91 2034 -91 \r\nQ 1263 -91 848 271 \r\nQ 434 634 434 1313 \r\nQ 434 1759 690 2068 \r\nQ 947 2378 1403 2484 \r\nz\r\nM 1172 3481 \r\nQ 1172 3119 1398 2916 \r\nQ 1625 2713 2034 2713 \r\nQ 2441 2713 2670 2916 \r\nQ 2900 3119 2900 3481 \r\nQ 2900 3844 2670 4047 \r\nQ 2441 4250 2034 4250 \r\nQ 1625 4250 1398 4047 \r\nQ 1172 3844 1172 3481 \r\nz\r\n\" id=\"DejaVuSans-38\" transform=\"scale(0.015625)\"/>\r\n      </defs>\r\n      <use xlink:href=\"#DejaVuSans-38\"/>\r\n      <use x=\"63.623047\" xlink:href=\"#DejaVuSans-30\"/>\r\n      <use x=\"127.246094\" xlink:href=\"#DejaVuSans-30\"/>\r\n     </g>\r\n    </g>\r\n   </g>\r\n   <g id=\"xtick_6\">\r\n    <g id=\"line2d_7\">\r\n     <path d=\"M 184.75842 154.681099 \r\nL 187.973056 154.681099 \r\n\" style=\"fill:none;stroke:#000000;stroke-linecap:square;stroke-width:0.8;\"/>\r\n    </g>\r\n    <g id=\"text_6\">\r\n     <!-- 900 -->\r\n     <g transform=\"translate(189.194228 161.920737)scale(0.1 -0.1)\">\r\n      <defs>\r\n       <path d=\"M 703 97 \r\nL 703 672 \r\nQ 941 559 1184 500 \r\nQ 1428 441 1663 441 \r\nQ 2288 441 2617 861 \r\nQ 2947 1281 2994 2138 \r\nQ 2813 1869 2534 1725 \r\nQ 2256 1581 1919 1581 \r\nQ 1219 1581 811 2004 \r\nQ 403 2428 403 3163 \r\nQ 403 3881 828 4315 \r\nQ 1253 4750 1959 4750 \r\nQ 2769 4750 3195 4129 \r\nQ 3622 3509 3622 2328 \r\nQ 3622 1225 3098 567 \r\nQ 2575 -91 1691 -91 \r\nQ 1453 -91 1209 -44 \r\nQ 966 3 703 97 \r\nz\r\nM 1959 2075 \r\nQ 2384 2075 2632 2365 \r\nQ 2881 2656 2881 3163 \r\nQ 2881 3666 2632 3958 \r\nQ 2384 4250 1959 4250 \r\nQ 1534 4250 1286 3958 \r\nQ 1038 3666 1038 3163 \r\nQ 1038 2656 1286 2365 \r\nQ 1534 2075 1959 2075 \r\nz\r\n\" id=\"DejaVuSans-39\" transform=\"scale(0.015625)\"/>\r\n      </defs>\r\n      <use xlink:href=\"#DejaVuSans-39\"/>\r\n      <use x=\"63.623047\" xlink:href=\"#DejaVuSans-30\"/>\r\n      <use x=\"127.246094\" xlink:href=\"#DejaVuSans-30\"/>\r\n     </g>\r\n    </g>\r\n   </g>\r\n   <g id=\"xtick_7\">\r\n    <g id=\"line2d_8\">\r\n     <path d=\"M 184.75842 173.784056 \r\nL 187.973056 173.784056 \r\n\" style=\"fill:none;stroke:#000000;stroke-linecap:square;stroke-width:0.8;\"/>\r\n    </g>\r\n    <g id=\"text_7\">\r\n     <!-- 1000 -->\r\n     <g transform=\"translate(186.012978 180.859325)scale(0.1 -0.1)\">\r\n      <defs>\r\n       <path d=\"M 794 531 \r\nL 1825 531 \r\nL 1825 4091 \r\nL 703 3866 \r\nL 703 4441 \r\nL 1819 4666 \r\nL 2450 4666 \r\nL 2450 531 \r\nL 3481 531 \r\nL 3481 0 \r\nL 794 0 \r\nL 794 531 \r\nz\r\n\" id=\"DejaVuSans-31\" transform=\"scale(0.015625)\"/>\r\n      </defs>\r\n      <use xlink:href=\"#DejaVuSans-31\"/>\r\n      <use x=\"63.623047\" xlink:href=\"#DejaVuSans-30\"/>\r\n      <use x=\"127.246094\" xlink:href=\"#DejaVuSans-30\"/>\r\n      <use x=\"190.869141\" xlink:href=\"#DejaVuSans-30\"/>\r\n     </g>\r\n    </g>\r\n   </g>\r\n  </g>\r\n  <g id=\"axis3d_2\">\r\n   <g id=\"line2d_9\">\r\n    <path d=\"M 51.886791 179.953209 \r\nL 185.829966 179.953209 \r\n\" style=\"fill:none;stroke:#000000;stroke-linecap:square;stroke-width:0.8;\"/>\r\n   </g>\r\n   <g id=\"Line3DCollection_2\">\r\n    <path d=\"M 66.095389 39.751008 \r\nL 70.605047 46.010034 \r\nL 70.605047 179.953209 \r\n\" style=\"fill:none;stroke:#b0b0b0;stroke-width:0.8;\"/>\r\n    <path d=\"M 96.616669 39.751008 \r\nL 98.51767 46.010034 \r\nL 98.51767 179.953209 \r\n\" style=\"fill:none;stroke:#b0b0b0;stroke-width:0.8;\"/>\r\n    <path d=\"M 127.137948 39.751008 \r\nL 126.430293 46.010034 \r\nL 126.430293 179.953209 \r\n\" style=\"fill:none;stroke:#b0b0b0;stroke-width:0.8;\"/>\r\n    <path d=\"M 157.659228 39.751008 \r\nL 154.342916 46.010034 \r\nL 154.342916 179.953209 \r\n\" style=\"fill:none;stroke:#b0b0b0;stroke-width:0.8;\"/>\r\n    <path d=\"M 188.180508 39.751008 \r\nL 182.255539 46.010034 \r\nL 182.255539 179.953209 \r\n\" style=\"fill:none;stroke:#b0b0b0;stroke-width:0.8;\"/>\r\n   </g>\r\n   <g id=\"xtick_8\">\r\n    <g id=\"line2d_10\">\r\n     <path d=\"M 70.605047 178.881663 \r\nL 70.605047 182.0963 \r\n\" style=\"fill:none;stroke:#000000;stroke-linecap:square;stroke-width:0.8;\"/>\r\n    </g>\r\n    <g id=\"text_8\">\r\n     <!-- 900 -->\r\n     <g transform=\"translate(61.476488 200.459658)scale(0.1 -0.1)\">\r\n      <use xlink:href=\"#DejaVuSans-39\"/>\r\n      <use x=\"63.623047\" xlink:href=\"#DejaVuSans-30\"/>\r\n      <use x=\"127.246094\" xlink:href=\"#DejaVuSans-30\"/>\r\n     </g>\r\n    </g>\r\n   </g>\r\n   <g id=\"xtick_9\">\r\n    <g id=\"line2d_11\">\r\n     <path d=\"M 98.51767 178.881663 \r\nL 98.51767 182.0963 \r\n\" style=\"fill:none;stroke:#000000;stroke-linecap:square;stroke-width:0.8;\"/>\r\n    </g>\r\n    <g id=\"text_9\">\r\n     <!-- 950 -->\r\n     <g transform=\"translate(89.148939 200.459658)scale(0.1 -0.1)\">\r\n      <use xlink:href=\"#DejaVuSans-39\"/>\r\n      <use x=\"63.623047\" xlink:href=\"#DejaVuSans-35\"/>\r\n      <use x=\"127.246094\" xlink:href=\"#DejaVuSans-30\"/>\r\n     </g>\r\n    </g>\r\n   </g>\r\n   <g id=\"xtick_10\">\r\n    <g id=\"line2d_12\">\r\n     <path d=\"M 126.430293 178.881663 \r\nL 126.430293 182.0963 \r\n\" style=\"fill:none;stroke:#000000;stroke-linecap:square;stroke-width:0.8;\"/>\r\n    </g>\r\n    <g id=\"text_10\">\r\n     <!-- 1000 -->\r\n     <g transform=\"translate(113.640141 200.459658)scale(0.1 -0.1)\">\r\n      <use xlink:href=\"#DejaVuSans-31\"/>\r\n      <use x=\"63.623047\" xlink:href=\"#DejaVuSans-30\"/>\r\n      <use x=\"127.246094\" xlink:href=\"#DejaVuSans-30\"/>\r\n      <use x=\"190.869141\" xlink:href=\"#DejaVuSans-30\"/>\r\n     </g>\r\n    </g>\r\n   </g>\r\n   <g id=\"xtick_11\">\r\n    <g id=\"line2d_13\">\r\n     <path d=\"M 154.342916 178.881663 \r\nL 154.342916 182.0963 \r\n\" style=\"fill:none;stroke:#000000;stroke-linecap:square;stroke-width:0.8;\"/>\r\n    </g>\r\n    <g id=\"text_11\">\r\n     <!-- 1050 -->\r\n     <g transform=\"translate(141.312593 200.459658)scale(0.1 -0.1)\">\r\n      <use xlink:href=\"#DejaVuSans-31\"/>\r\n      <use x=\"63.623047\" xlink:href=\"#DejaVuSans-30\"/>\r\n      <use x=\"127.246094\" xlink:href=\"#DejaVuSans-35\"/>\r\n      <use x=\"190.869141\" xlink:href=\"#DejaVuSans-30\"/>\r\n     </g>\r\n    </g>\r\n   </g>\r\n   <g id=\"xtick_12\">\r\n    <g id=\"line2d_14\">\r\n     <path d=\"M 182.255539 178.881663 \r\nL 182.255539 182.0963 \r\n\" style=\"fill:none;stroke:#000000;stroke-linecap:square;stroke-width:0.8;\"/>\r\n    </g>\r\n    <g id=\"text_12\">\r\n     <!-- 1100 -->\r\n     <g transform=\"translate(168.985044 200.459658)scale(0.1 -0.1)\">\r\n      <use xlink:href=\"#DejaVuSans-31\"/>\r\n      <use x=\"63.623047\" xlink:href=\"#DejaVuSans-31\"/>\r\n      <use x=\"127.246094\" xlink:href=\"#DejaVuSans-30\"/>\r\n      <use x=\"190.869141\" xlink:href=\"#DejaVuSans-30\"/>\r\n     </g>\r\n    </g>\r\n   </g>\r\n  </g>\r\n  <g id=\"axis3d_3\">\r\n   <g id=\"line2d_15\">\r\n    <path d=\"M 51.886791 179.953209 \r\nL 45.627764 186.212236 \r\n\" style=\"fill:none;stroke:#000000;stroke-linecap:square;stroke-width:0.8;\"/>\r\n   </g>\r\n   <g id=\"Line3DCollection_3\">\r\n    <path d=\"M 51.21615 180.62385 \r\nL 51.21615 45.339394 \r\nL 186.500606 45.339394 \r\n\" style=\"fill:none;stroke:#b0b0b0;stroke-width:0.8;\"/>\r\n    <path d=\"M 50.076113 181.763887 \r\nL 50.076113 44.199356 \r\nL 187.640644 44.199356 \r\n\" style=\"fill:none;stroke:#b0b0b0;stroke-width:0.8;\"/>\r\n    <path d=\"M 48.896988 182.943012 \r\nL 48.896988 43.020231 \r\nL 188.819769 43.020231 \r\n\" style=\"fill:none;stroke:#b0b0b0;stroke-width:0.8;\"/>\r\n    <path d=\"M 47.676731 184.163269 \r\nL 47.676731 41.799975 \r\nL 190.040025 41.799975 \r\n\" style=\"fill:none;stroke:#b0b0b0;stroke-width:0.8;\"/>\r\n    <path d=\"M 46.413152 185.426848 \r\nL 46.413152 40.536395 \r\nL 191.303605 40.536395 \r\n\" style=\"fill:none;stroke:#b0b0b0;stroke-width:0.8;\"/>\r\n   </g>\r\n   <g id=\"xtick_13\">\r\n    <g id=\"line2d_16\">\r\n     <path d=\"M 51.21615 179.541574 \r\nL 51.21615 182.788401 \r\n\" style=\"fill:none;stroke:#000000;stroke-linecap:square;stroke-width:0.8;\"/>\r\n    </g>\r\n    <g id=\"text_13\">\r\n     <!-- −0.04 -->\r\n     <g transform=\"translate(22.156 201.959782)scale(0.1 -0.1)\">\r\n      <defs>\r\n       <path d=\"M 678 2272 \r\nL 4684 2272 \r\nL 4684 1741 \r\nL 678 1741 \r\nL 678 2272 \r\nz\r\n\" id=\"DejaVuSans-2212\" transform=\"scale(0.015625)\"/>\r\n       <path d=\"M 684 794 \r\nL 1344 794 \r\nL 1344 0 \r\nL 684 0 \r\nL 684 794 \r\nz\r\n\" id=\"DejaVuSans-2e\" transform=\"scale(0.015625)\"/>\r\n      </defs>\r\n      <use xlink:href=\"#DejaVuSans-2212\"/>\r\n      <use x=\"83.789062\" xlink:href=\"#DejaVuSans-30\"/>\r\n      <use x=\"147.412109\" xlink:href=\"#DejaVuSans-2e\"/>\r\n      <use x=\"179.199219\" xlink:href=\"#DejaVuSans-30\"/>\r\n      <use x=\"242.822266\" xlink:href=\"#DejaVuSans-34\"/>\r\n     </g>\r\n    </g>\r\n   </g>\r\n   <g id=\"xtick_14\">\r\n    <g id=\"line2d_17\">\r\n     <path d=\"M 50.076113 180.663371 \r\nL 50.076113 183.96492 \r\n\" style=\"fill:none;stroke:#000000;stroke-linecap:square;stroke-width:0.8;\"/>\r\n    </g>\r\n    <g id=\"text_14\">\r\n     <!-- −0.02 -->\r\n     <g transform=\"translate(20.784431 203.33135)scale(0.1 -0.1)\">\r\n      <defs>\r\n       <path d=\"M 1228 531 \r\nL 3431 531 \r\nL 3431 0 \r\nL 469 0 \r\nL 469 531 \r\nQ 828 903 1448 1529 \r\nQ 2069 2156 2228 2338 \r\nQ 2531 2678 2651 2914 \r\nQ 2772 3150 2772 3378 \r\nQ 2772 3750 2511 3984 \r\nQ 2250 4219 1831 4219 \r\nQ 1534 4219 1204 4116 \r\nQ 875 4013 500 3803 \r\nL 500 4441 \r\nQ 881 4594 1212 4672 \r\nQ 1544 4750 1819 4750 \r\nQ 2544 4750 2975 4387 \r\nQ 3406 4025 3406 3419 \r\nQ 3406 3131 3298 2873 \r\nQ 3191 2616 2906 2266 \r\nQ 2828 2175 2409 1742 \r\nQ 1991 1309 1228 531 \r\nz\r\n\" id=\"DejaVuSans-32\" transform=\"scale(0.015625)\"/>\r\n      </defs>\r\n      <use xlink:href=\"#DejaVuSans-2212\"/>\r\n      <use x=\"83.789062\" xlink:href=\"#DejaVuSans-30\"/>\r\n      <use x=\"147.412109\" xlink:href=\"#DejaVuSans-2e\"/>\r\n      <use x=\"179.199219\" xlink:href=\"#DejaVuSans-30\"/>\r\n      <use x=\"242.822266\" xlink:href=\"#DejaVuSans-32\"/>\r\n     </g>\r\n    </g>\r\n   </g>\r\n   <g id=\"xtick_15\">\r\n    <g id=\"line2d_18\">\r\n     <path d=\"M 48.896988 181.82363 \r\nL 48.896988 185.181776 \r\n\" style=\"fill:none;stroke:#000000;stroke-linecap:square;stroke-width:0.8;\"/>\r\n    </g>\r\n    <g id=\"text_15\">\r\n     <!-- 0.00 -->\r\n     <g transform=\"translate(23.555682 204.749943)scale(0.1 -0.1)\">\r\n      <use xlink:href=\"#DejaVuSans-30\"/>\r\n      <use x=\"63.623047\" xlink:href=\"#DejaVuSans-2e\"/>\r\n      <use x=\"95.410156\" xlink:href=\"#DejaVuSans-30\"/>\r\n      <use x=\"159.033203\" xlink:href=\"#DejaVuSans-30\"/>\r\n     </g>\r\n    </g>\r\n   </g>\r\n   <g id=\"xtick_16\">\r\n    <g id=\"line2d_19\">\r\n     <path d=\"M 47.676731 183.024362 \r\nL 47.676731 186.441081 \r\n\" style=\"fill:none;stroke:#000000;stroke-linecap:square;stroke-width:0.8;\"/>\r\n    </g>\r\n    <g id=\"text_16\">\r\n     <!-- 0.02 -->\r\n     <g transform=\"translate(22.087602 206.218023)scale(0.1 -0.1)\">\r\n      <use xlink:href=\"#DejaVuSans-30\"/>\r\n      <use x=\"63.623047\" xlink:href=\"#DejaVuSans-2e\"/>\r\n      <use x=\"95.410156\" xlink:href=\"#DejaVuSans-30\"/>\r\n      <use x=\"159.033203\" xlink:href=\"#DejaVuSans-32\"/>\r\n     </g>\r\n    </g>\r\n   </g>\r\n   <g id=\"xtick_17\">\r\n    <g id=\"line2d_20\">\r\n     <path d=\"M 46.413152 184.267724 \r\nL 46.413152 187.745095 \r\n\" style=\"fill:none;stroke:#000000;stroke-linecap:square;stroke-width:0.8;\"/>\r\n    </g>\r\n    <g id=\"text_17\">\r\n     <!-- 0.04 -->\r\n     <g transform=\"translate(20.567402 207.738223)scale(0.1 -0.1)\">\r\n      <use xlink:href=\"#DejaVuSans-30\"/>\r\n      <use x=\"63.623047\" xlink:href=\"#DejaVuSans-2e\"/>\r\n      <use x=\"95.410156\" xlink:href=\"#DejaVuSans-30\"/>\r\n      <use x=\"159.033203\" xlink:href=\"#DejaVuSans-34\"/>\r\n     </g>\r\n    </g>\r\n   </g>\r\n  </g>\r\n  <g id=\"axes_1\">\r\n   <g id=\"line2d_21\">\r\n    <path clip-path=\"url(#p3b8dcd6492)\" d=\"M 159.525513 51.924408 \r\nL 172.324462 76.062763 \r\n\" style=\"fill:none;stroke:#1f77b4;stroke-linecap:square;stroke-width:1.5;\"/>\r\n   </g>\r\n   <g id=\"line2d_22\">\r\n    <path clip-path=\"url(#p3b8dcd6492)\" d=\"M 172.324462 76.062763 \r\nL 179.915592 100.318739 \r\n\" style=\"fill:none;stroke:#ff7f0e;stroke-linecap:square;stroke-width:1.5;\"/>\r\n   </g>\r\n   <g id=\"line2d_23\">\r\n    <path clip-path=\"url(#p3b8dcd6492)\" d=\"M 159.525513 51.924408 \r\nL 148.221982 95.918677 \r\n\" style=\"fill:none;stroke:#2ca02c;stroke-linecap:square;stroke-width:1.5;\"/>\r\n   </g>\r\n   <g id=\"line2d_24\">\r\n    <path clip-path=\"url(#p3b8dcd6492)\" d=\"M 148.221982 95.918677 \r\nL 154.118654 134.359715 \r\n\" style=\"fill:none;stroke:#d62728;stroke-linecap:square;stroke-width:1.5;\"/>\r\n   </g>\r\n   <g id=\"line2d_25\">\r\n    <path clip-path=\"url(#p3b8dcd6492)\" d=\"M 154.118654 134.359715 \r\nL 158.036588 174.038835 \r\n\" style=\"fill:none;stroke:#9467bd;stroke-linecap:square;stroke-width:1.5;\"/>\r\n   </g>\r\n   <g id=\"line2d_26\">\r\n    <path clip-path=\"url(#p3b8dcd6492)\" d=\"M 159.525513 51.924408 \r\nL 80.407005 53.086763 \r\n\" style=\"fill:none;stroke:#8c564b;stroke-linecap:square;stroke-width:1.5;\"/>\r\n   </g>\r\n   <g id=\"line2d_27\">\r\n    <path clip-path=\"url(#p3b8dcd6492)\" d=\"M 68.407193 76.365355 \r\nL 57.801165 98.789337 \r\n\" style=\"fill:none;stroke:#e377c2;stroke-linecap:square;stroke-width:1.5;\"/>\r\n   </g>\r\n   <g id=\"line2d_28\">\r\n    <path clip-path=\"url(#p3b8dcd6492)\" d=\"M 80.407005 53.086763 \r\nL 93.151916 96.916848 \r\n\" style=\"fill:none;stroke:#7f7f7f;stroke-linecap:square;stroke-width:1.5;\"/>\r\n   </g>\r\n   <g id=\"line2d_29\">\r\n    <path clip-path=\"url(#p3b8dcd6492)\" d=\"M 93.151916 96.916848 \r\nL 75.199718 134.395886 \r\n\" style=\"fill:none;stroke:#bcbd22;stroke-linecap:square;stroke-width:1.5;\"/>\r\n   </g>\r\n   <g id=\"line2d_30\">\r\n    <path clip-path=\"url(#p3b8dcd6492)\" d=\"M 80.407005 53.086763 \r\nL 68.407193 76.365355 \r\n\" style=\"fill:none;stroke:#17becf;stroke-linecap:square;stroke-width:1.5;\"/>\r\n   </g>\r\n   <g id=\"line2d_31\">\r\n    <path clip-path=\"url(#p3b8dcd6492)\" d=\"M 75.199718 134.395886 \r\nL 76.420697 172.995416 \r\n\" style=\"fill:none;stroke:#1f77b4;stroke-linecap:square;stroke-width:1.5;\"/>\r\n   </g>\r\n  </g>\r\n </g>\r\n <defs>\r\n  <clipPath id=\"p3b8dcd6492\">\r\n   <rect height=\"217.44\" width=\"217.44\" x=\"7.2\" y=\"7.2\"/>\r\n  </clipPath>\r\n </defs>\r\n</svg>\r\n",
      "image/png": "[encoded data removed]"
     },
     "metadata": {
      "needs_background": "light"
     }
    }
   ],
   "source": [
    "drawP(raw_data.head(2),True)"
   ]
  },
  {
   "cell_type": "markdown",
   "id": "medium-bench",
   "metadata": {},
   "source": [
    "## <font color='green'> Angle [4] </font>"
   ]
  },
  {
   "cell_type": "code",
   "execution_count": 38,
   "id": "therapeutic-berlin",
   "metadata": {},
   "outputs": [],
   "source": [
    "def multiDimenDist(point1,point2):\n",
    "    #find the difference between the two points, its really the same as below\n",
    "    deltaVals = [point2[dimension]-point1[dimension] for dimension in range(len(point1))]\n",
    "    runningSquared = 0\n",
    "    #because the pythagarom theorm works for any dimension we can just use that\n",
    "    for coOrd in deltaVals:\n",
    "        runningSquared += coOrd**2\n",
    "    return runningSquared**(1/2)\n",
    "def findVec(point1,point2,unitSphere = False):\n",
    "    #setting unitSphere to True will make the vector scaled down to a sphere with a radius one, instead of it's orginal length\n",
    "    finalVector = [0 for coOrd in point1]\n",
    "    for dimension, coOrd in enumerate(point1):\n",
    "        #finding total differnce for that co-ordinate(x,y,z...)\n",
    "        deltaCoOrd = point2[dimension]-coOrd\n",
    "        #adding total difference\n",
    "        finalVector[dimension] = deltaCoOrd\n",
    "    if unitSphere:\n",
    "        totalDist = multiDimenDist(point1,point2)\n",
    "        unitVector =[]\n",
    "        for dimen in finalVector:\n",
    "            unitVector.append( dimen/totalDist)\n",
    "        return unitVector\n",
    "    else:\n",
    "        return finalVector"
   ]
  },
  {
   "cell_type": "code",
   "execution_count": 39,
   "id": "patient-barbados",
   "metadata": {},
   "outputs": [],
   "source": [
    "def angleP(data,posenet=False):\n",
    "    try:\n",
    "        aug_data = data.copy()\n",
    "        if posenet:\n",
    "            for index, row in aug_data.iterrows():\n",
    "                #LEFT\n",
    "                vector_11 = findVec([row['leftShoulder_x'],row['leftShoulder_y']], [row['leftElbow_x'],row['leftElbow_y']])\n",
    "                vector_12 = findVec([row['leftShoulder_x'],row['leftShoulder_y']], [row['leftHip_x'],row['leftHip_y']])\n",
    "\n",
    "                unit_vector_11 = vector_11 / np.linalg.norm(vector_11)\n",
    "                unit_vector_12 = vector_12 / np.linalg.norm(vector_12)\n",
    "                angle_left_1 = np.arccos(np.dot(unit_vector_11, unit_vector_12))\n",
    "\n",
    "                #print(np.degrees(angle_left_1))\n",
    "                \n",
    "                vector_13 = findVec([row['leftElbow_x'],row['leftElbow_y']], [row['leftShoulder_x'],row['leftShoulder_y']])\n",
    "                vector_14 = findVec([row['leftElbow_x'],row['leftElbow_y']], [row['leftWrist_x'],row['leftWrist_y']])\n",
    "\n",
    "                unit_vector_13 = vector_13 / np.linalg.norm(vector_13)\n",
    "                unit_vector_14 = vector_14 / np.linalg.norm(vector_14)\n",
    "                angle_left_2 = np.arccos(np.dot(unit_vector_13, unit_vector_14))\n",
    "\n",
    "                #print(np.degrees(angle_left_2))\n",
    "                \n",
    "                #RIGHT\n",
    "                vector_21 = findVec([row['rightShoulder_x'],row['rightShoulder_y']], [row['rightElbow_x'],row['rightElbow_y']])\n",
    "                vector_22 = findVec([row['rightShoulder_x'],row['rightShoulder_y']], [row['rightHip_x'],row['rightHip_y']])\n",
    "\n",
    "                unit_vector_21 = vector_21 / np.linalg.norm(vector_21)\n",
    "                unit_vector_22 = vector_22 / np.linalg.norm(vector_22)\n",
    "                angle_right_1 = np.arccos(np.dot(unit_vector_21, unit_vector_22))\n",
    "\n",
    "                #print(np.degrees(angle_right_1))\n",
    "                \n",
    "                vector_23 = findVec([row['rightElbow_x'],row['rightElbow_y']], [row['rightShoulder_x'],row['rightShoulder_y']])\n",
    "                vector_24 = findVec([row['rightElbow_x'],row['rightElbow_y']], [row['rightWrist_x'],row['rightWrist_y']])\n",
    "\n",
    "                unit_vector_23 = vector_23 / np.linalg.norm(vector_23)\n",
    "                unit_vector_24 = vector_24 / np.linalg.norm(vector_24)\n",
    "                angle_right_2 = np.arccos(np.dot(unit_vector_23, unit_vector_24))\n",
    "\n",
    "                #print(np.degrees(angle_right_2))\n",
    "                \n",
    "                aug_data.loc[index,'angle_left_1'] = angle_left_1\n",
    "                aug_data.loc[index,'angle_left_2'] = angle_left_2\n",
    "                aug_data.loc[index,'angle_right_1'] = angle_right_1\n",
    "                aug_data.loc[index,'angle_right_2'] = angle_right_2\n",
    "        else:\n",
    "            for index, row in aug_data.iterrows():\n",
    "                #LEFT\n",
    "                vector_11 = findVec([row['left_shoulder_x'],row['left_shoulder_y']], [row['left_elbow_x'],row['left_elbow_y']])\n",
    "                vector_12 = findVec([row['left_shoulder_x'],row['left_shoulder_y']], [row['left_hip_x'],row['left_hip_y']])\n",
    "\n",
    "                unit_vector_11 = vector_11 / np.linalg.norm(vector_11)\n",
    "                unit_vector_12 = vector_12 / np.linalg.norm(vector_12)\n",
    "                angle_left_1 = np.arccos(np.dot(unit_vector_11, unit_vector_12))\n",
    "\n",
    "                #print(np.degrees(angle_left_1))\n",
    "                \n",
    "                vector_13 = findVec([row['left_elbow_x'],row['left_elbow_y']], [row['left_shoulder_x'],row['left_shoulder_y']])\n",
    "                vector_14 = findVec([row['left_elbow_x'],row['left_elbow_y']], [row['left_wrist_x'],row['left_wrist_y']])\n",
    "\n",
    "                unit_vector_13 = vector_13 / np.linalg.norm(vector_13)\n",
    "                unit_vector_14 = vector_14 / np.linalg.norm(vector_14)\n",
    "                angle_left_2 = np.arccos(np.dot(unit_vector_13, unit_vector_14))\n",
    "\n",
    "                #print(np.degrees(angle_left_2))\n",
    "                \n",
    "                #RIGHT\n",
    "                vector_21 = findVec([row['right_shoulder_x'],row['right_shoulder_y']], [row['right_elbow_x'],row['right_elbow_y']])\n",
    "                vector_22 = findVec([row['right_shoulder_x'],row['right_shoulder_y']], [row['right_hip_x'],row['right_hip_y']])\n",
    "\n",
    "                unit_vector_21 = vector_21 / np.linalg.norm(vector_21)\n",
    "                unit_vector_22 = vector_22 / np.linalg.norm(vector_22)\n",
    "                angle_right_1 = np.arccos(np.dot(unit_vector_21, unit_vector_22))\n",
    "\n",
    "                #print(np.degrees(angle_right_1))\n",
    "                \n",
    "                vector_23 = findVec([row['right_elbow_x'],row['right_elbow_y']], [row['right_shoulder_x'],row['right_shoulder_y']])\n",
    "                vector_24 = findVec([row['right_elbow_x'],row['right_elbow_y']], [row['right_wrist_x'],row['right_wrist_y']])\n",
    "\n",
    "                unit_vector_23 = vector_23 / np.linalg.norm(vector_23)\n",
    "                unit_vector_24 = vector_24 / np.linalg.norm(vector_24)\n",
    "                angle_right_2 = np.arccos(np.dot(unit_vector_23, unit_vector_24))\n",
    "\n",
    "                #print(np.degrees(angle_right_2))\n",
    "                \n",
    "                aug_data.loc[index,'angle_left_1'] = angle_left_1\n",
    "                aug_data.loc[index,'angle_left_2'] = angle_left_2\n",
    "                aug_data.loc[index,'angle_right_1'] = angle_right_1\n",
    "                aug_data.loc[index,'angle_right_2'] = angle_right_2\n",
    "        \n",
    "        return aug_data\n",
    "    except IOError as e:\n",
    "        print(e)"
   ]
  },
  {
   "cell_type": "code",
   "execution_count": 40,
   "id": "suspended-tower",
   "metadata": {},
   "outputs": [
    {
     "output_type": "stream",
     "name": "stdout",
     "text": [
      "   FrameNo      head_x      head_y  leftShoulder_x  leftShoulder_y  \\\n0        0  262.066742  994.135620      375.759686     1057.411090   \n1        1  263.581139  992.800872      375.749203     1056.170479   \n2        2  263.243067  993.016745      375.931049     1055.647247   \n\n   rightShoulder_x  rightShoulder_y  leftElbow_x  leftElbow_y  rightElbow_x  \\\n0       382.580955       920.305207   496.493179  1079.227467    501.843892   \n1       381.573855       920.501798   496.708486  1078.117512    498.224803   \n2       381.855203       920.968293   495.078997  1078.130609    501.484271   \n\n   ...  rightKnee_y  leftAnkle_x  leftAnkle_y  rightAnkle_x  rightAnkle_y  \\\n0  ...   916.659549   987.035062  1052.085086    985.324309    914.177256   \n1  ...   911.572589   987.674662  1053.617341    982.446002    913.666266   \n2  ...   912.766431   988.034841  1054.136438    982.152660    915.409163   \n\n   status  angle_left_1  angle_left_2  angle_right_1  angle_right_2  \n0       0      0.261094      3.094569       0.207287       3.102919  \n1       0      0.267183      3.068789       0.273776       3.127451  \n2       0      0.282787      3.067851       0.266530       3.125355  \n\n[3 rows x 32 columns]\n"
     ]
    }
   ],
   "source": [
    "aug_data = angleP(raw_data.head(3),True)\n",
    "print(aug_data)"
   ]
  },
  {
   "cell_type": "code",
   "execution_count": null,
   "id": "smoking-thickness",
   "metadata": {},
   "outputs": [],
   "source": []
  }
 ],
 "metadata": {
  "kernelspec": {
   "name": "python395jvsc74a57bd063fd5069d213b44bf678585dea6b12cceca9941eaf7f819626cde1f2670de90d",
   "display_name": "Python 3.9.5 64-bit"
  },
  "language_info": {
   "codemirror_mode": {
    "name": "ipython",
    "version": 3
   },
   "file_extension": ".py",
   "mimetype": "text/x-python",
   "name": "python",
   "nbconvert_exporter": "python",
   "pygments_lexer": "ipython3",
   "version": "3.9.5"
  },
  "metadata": {
   "interpreter": {
    "hash": "63fd5069d213b44bf678585dea6b12cceca9941eaf7f819626cde1f2670de90d"
   }
  }
 },
 "nbformat": 4,
 "nbformat_minor": 5
}